{
 "cells": [
  {
   "cell_type": "markdown",
   "metadata": {
    "deletable": false,
    "editable": false,
    "nbgrader": {
     "cell_type": "markdown",
     "checksum": "1bba455de8bc2825ca70469169bbadaa",
     "grade": false,
     "grade_id": "cell-c9cd9e550239e812",
     "locked": true,
     "schema_version": 3,
     "solution": false,
     "task": false
    }
   },
   "source": [
    "# Homework 1 (Total Points: 250) <a class=\"anchor\" id=\"top\"></a>\n",
    "\n",
    "\n",
    "**Submission instructions**:\n",
    "- The cells with the `# YOUR CODE HERE` denote that these sections are graded and you need to add your implementation.\n",
    "- For Part 1: You can use the `nltk`, `NumPy`, and `matplotlib` libraries here. Other libraries, e.g., `gensim` or `scikit-learn`, may not be used. For Part 2: `gensim` is allowed in addition to the imported libraries in the next code cell\n",
    "- Please use Python 3.6.5 and `pip install -r requirements.txt` to avoid version issues.\n",
    "- The notebook you submit has to have the student ids, separated by underscores (E.g., `12341234_12341234_12341234_hw1.ipynb`).\n",
    "- This will be parsed by a regexp, **so please double check your filename**.\n",
    "- Only one member of each group has to submit the file (**please do not compress the .ipynb file when you will submit it**) to canvas.\n",
    "- **Make sure to check that your notebook runs before submission**. A quick way to do this is to restart the kernel and run all the cells.  \n",
    "- Do not change the number of arugments in the given functions.\n",
    "- **Please do not delete/add new cells**. Removing cells **will** lead to grade deduction. \n",
    "- Note, that you are not allowed to use Google Colab.\n",
    "\n",
    "\n",
    "**Learning Goals**:\n",
    "- [Part 1, Term-based matching](#part1) (165 points):\n",
    "    - Learn how to load a dataset and process it.\n",
    "    - Learn how to implement several standard IR methods (TF-IDF, BM25, QL) and understand their weaknesses & strengths.\n",
    "    - Learn how to evaluate IR methods.\n",
    "- [Part 2, Semantic-based matching](#part2) (85 points):\n",
    "    - Learn how to implement vector-space retrieval methods (LSI, LDA).\n",
    "    - Learn how to use LSI and LDA for re-ranking.\n",
    "\n",
    "    \n",
    "**Resources**: \n",
    "- **Part 1**: Sections 2.3, 4.1, 4.2, 4.3, 5.3, 5.6, 5.7, 6.2, 7, 8 of [Search Engines: Information Retrieval in Practice](https://ciir.cs.umass.edu/downloads/SEIRiP.pdf)\n",
    "- **Part 2**: [LSI - Chapter 18](https://nlp.stanford.edu/IR-book/pdf/18lsi.pdf) from [Introduction to Information Retrieval](https://nlp.stanford.edu/IR-book/) book and the [original LDA paper](https://jmlr.org/papers/volume3/blei03a/blei03a.pdf)"
   ]
  },
  {
   "cell_type": "code",
   "execution_count": 1,
   "metadata": {
    "deletable": false,
    "editable": false,
    "nbgrader": {
     "cell_type": "code",
     "checksum": "c55bfe94ff1f564dd595547e516c4c6e",
     "grade": false,
     "grade_id": "cell-f5357fabdb9660e3",
     "locked": true,
     "schema_version": 3,
     "solution": false,
     "task": false
    }
   },
   "outputs": [],
   "source": [
    "# imports \n",
    "# TODO: Ensure that no additional library is imported in the notebook. \n",
    "# TODO: Only the standard library and the following libraries are allowed:\n",
    "# TODO: You can also use unlisted classes from these libraries or standard libraries (such as defaultdict, Counter, ...).\n",
    "\n",
    "import os\n",
    "import zipfile\n",
    "from functools import partial\n",
    "\n",
    "import nltk\n",
    "import requests\n",
    "import numpy as np\n",
    "from tqdm import tqdm\n",
    "\n",
    "import matplotlib.pyplot as plt\n",
    "from matplotlib.pyplot import cm\n",
    "\n",
    "from ipywidgets import widgets\n",
    "from IPython.display import display, HTML\n",
    "#from IPython.html import widgets\n",
    "from collections import namedtuple\n",
    "\n",
    "%matplotlib inline"
   ]
  },
  {
   "cell_type": "markdown",
   "metadata": {
    "deletable": false,
    "editable": false,
    "nbgrader": {
     "cell_type": "markdown",
     "checksum": "c8328f758ca5b69f76eee03dbbdd4715",
     "grade": false,
     "grade_id": "cell-7428e12ed184408b",
     "locked": true,
     "schema_version": 3,
     "solution": false,
     "task": false
    }
   },
   "source": [
    "\n",
    "# Part 1: Term-based Matching (165 points) <a class=\"anchor\" id=\"part1\"></a>\n",
    "\n",
    "[Back to top](#top)\n",
    "\n",
    "In the first part, we will learn the basics of IR from loading and preprocessing the material, to implementing some well known search algorithms, to evaluating the ranking performance of the implemented algorithms. We will be using the CACM dataset throughout the assignment. The CACM dataset is a collection of titles and abstracts from the journal CACM (Communication of the ACM).\n",
    "\n",
    "Table of contents:\n",
    "- [Section 1: Text Processing](#text_processing) (5 points)\n",
    "- [Section 2: Indexing](#indexing) (10 points)\n",
    "- [Section 3: Ranking](#ranking) (80 points)\n",
    "- [Section 4: Evaluation](#evaluation) (40 points)\n",
    "- [Section 5: Analysis](#analysis) (30 points)\n"
   ]
  },
  {
   "cell_type": "markdown",
   "metadata": {
    "deletable": false,
    "editable": false,
    "nbgrader": {
     "cell_type": "markdown",
     "checksum": "4e3f938065183dc743aa8254b96b4f5e",
     "grade": false,
     "grade_id": "cell-4b24825cf4ae55ec",
     "locked": true,
     "schema_version": 3,
     "solution": false,
     "task": false
    },
    "tags": []
   },
   "source": [
    "---\n",
    "## Section 1: Text Processing (5 points)<a class=\"anchor\" id=\"text_processing\"></a>\n",
    "\n",
    "[Back to Part 1](#part1)\n",
    "\n",
    "In this section, we will load the dataset and learn how to clean up the data to make it usable for an IR system. \n",
    "First, go through the implementation of the following functions:\n",
    "- `read_cacm_docs`: Reads in the CACM documents.\n",
    "- `read_queries`: Reads in the CACM queries.\n",
    "- `load_stopwords`: Loads the stopwords.\n",
    "\n",
    "The points of this section are earned for the following implementations:\n",
    "- `tokenize` (3 points): Tokenizes the input text.\n",
    "- `stem_token` (2 points): Stems the given token. \n",
    "\n",
    "We are using the [CACM dataset](http://ir.dcs.gla.ac.uk/resources/test_collections/cacm/), which is a small, classic IR dataset, composed of a collection of titles and abstracts from the journal CACM. It comes with relevance judgements for queries, so we can evaluate our IR system. \n"
   ]
  },
  {
   "cell_type": "markdown",
   "metadata": {
    "deletable": false,
    "editable": false,
    "nbgrader": {
     "cell_type": "markdown",
     "checksum": "0155d897c7016389d73d160921947a6f",
     "grade": false,
     "grade_id": "cell-45651364e7af6d5a",
     "locked": true,
     "schema_version": 3,
     "solution": false,
     "task": false
    }
   },
   "source": [
    "---\n",
    "### 1.1 Read the CACM documents\n",
    "\n",
    "\n",
    "The following cell downloads the dataset and unzips it to a local directory."
   ]
  },
  {
   "cell_type": "code",
   "execution_count": 2,
   "metadata": {
    "deletable": false,
    "editable": false,
    "nbgrader": {
     "cell_type": "code",
     "checksum": "4d43c9ad6e77cc01ce4cef0c34824930",
     "grade": false,
     "grade_id": "cell-bbc3030bb3fe7e02",
     "locked": true,
     "schema_version": 3,
     "solution": false,
     "task": false
    }
   },
   "outputs": [],
   "source": [
    "def download_dataset():\n",
    "    folder_path = os.environ.get(\"IR1_DATA_PATH\")\n",
    "    if not folder_path:\n",
    "        folder_path = \"./datasets/\"\n",
    "    os.makedirs(folder_path, exist_ok=True)\n",
    "    \n",
    "    file_location = os.path.join(folder_path, \"cacm.zip\")\n",
    "    \n",
    "    # download file if it doesn't exist\n",
    "    if not os.path.exists(file_location):\n",
    "        \n",
    "        url = \"https://surfdrive.surf.nl/files/index.php/s/M0FGJpX2p8wDwxR/download\"\n",
    "\n",
    "        with open(file_location, \"wb\") as handle:\n",
    "            print(f\"Downloading file from {url} to {file_location}\")\n",
    "            response = requests.get(url, stream=True)\n",
    "            for data in tqdm(response.iter_content()):\n",
    "                handle.write(data)\n",
    "            print(\"Finished downloading file\")\n",
    "    \n",
    "    if not os.path.exists(os.path.join(folder_path, \"train.txt\")):\n",
    "        \n",
    "        # unzip file\n",
    "        with zipfile.ZipFile(file_location, 'r') as zip_ref:\n",
    "            zip_ref.extractall(folder_path)\n",
    "        \n",
    "download_dataset()"
   ]
  },
  {
   "cell_type": "markdown",
   "metadata": {
    "deletable": false,
    "editable": false,
    "nbgrader": {
     "cell_type": "markdown",
     "checksum": "31609b0d61d0c74cbd69bc43e47c23be",
     "grade": false,
     "grade_id": "cell-a7dd9a9bf98ede05",
     "locked": true,
     "schema_version": 3,
     "solution": false,
     "task": false
    }
   },
   "source": [
    "---\n",
    "\n",
    "You can see a brief description of each file in the dataset by looking at the README file:"
   ]
  },
  {
   "cell_type": "code",
   "execution_count": 3,
   "metadata": {
    "deletable": false,
    "editable": false,
    "nbgrader": {
     "cell_type": "code",
     "checksum": "cb3c9a2b8b2bf4fd5b7446b0c4c00f43",
     "grade": false,
     "grade_id": "cell-9b6ff1a17124711f",
     "locked": true,
     "schema_version": 3,
     "solution": false,
     "task": false
    }
   },
   "outputs": [
    {
     "name": "stdout",
     "output_type": "stream",
     "text": [
      "Files in this directory with sizes:\n",
      "          0 Jun 19 21:01 README\n",
      "\n",
      "    2187734 Jun 19 20:55 cacm.all              text of documents\n",
      "        626 Jun 19 20:58 cite.info             key to citation info\n",
      "                                                (the X sections in cacm.all)\n",
      "       2668 Jun 19 20:55 common_words           stop words used by smart\n",
      "       2194 Jun 19 20:55 make_coll*             shell script to make collection\n",
      "       1557 Jun 19 20:55 make_coll_term*        ditto (both useless without\n",
      "                                                smart system)\n",
      "       9948 Jun 19 20:55 qrels.text             relation giving\n",
      "                                                    qid did 0 0\n",
      "                                                to indicate dument did is\n",
      "                                                relevant to query qid\n",
      "      13689 Jun 19 20:55 query.text             Original text of the query\n",
      "\n"
     ]
    }
   ],
   "source": [
    "##### Read the README file \n",
    "with open (\"./datasets/README\",\"r\") as file:\n",
    "    readme = file.read()\n",
    "    print(readme)\n",
    "#####"
   ]
  },
  {
   "cell_type": "markdown",
   "metadata": {
    "deletable": false,
    "editable": false,
    "nbgrader": {
     "cell_type": "markdown",
     "checksum": "6e2712c4c4632bf7486a532f7f18074d",
     "grade": false,
     "grade_id": "cell-73351431869fda76",
     "locked": true,
     "schema_version": 3,
     "solution": false,
     "task": false
    }
   },
   "source": [
    "---\n",
    "We are interested in 4 files:\n",
    "- `cacm.all` : Contains the text for all documents. Note that some documents do not have abstracts available\n",
    "- `query.text` : The text of all queries\n",
    "- `qrels.text` : The relevance judgements\n",
    "- `common_words` : A list of common words. This may be used as a collection of stopwords"
   ]
  },
  {
   "cell_type": "code",
   "execution_count": 4,
   "metadata": {
    "deletable": false,
    "editable": false,
    "nbgrader": {
     "cell_type": "code",
     "checksum": "f1162c15177eb4ffe466531d03cff4a2",
     "grade": false,
     "grade_id": "cell-b44dd14079f278ca",
     "locked": true,
     "schema_version": 3,
     "solution": false,
     "task": false
    }
   },
   "outputs": [
    {
     "name": "stdout",
     "output_type": "stream",
     "text": [
      ".I 1\n",
      ".T\n",
      "Preliminary Report-International Algebraic Language\n",
      ".B\n",
      "CACM December, 1958\n",
      ".A\n",
      "Perlis, A. J.\n",
      "Samelson,K.\n",
      ".N\n",
      "CA581203 JB March 22, 1978  8:28 PM\n",
      ".X\n",
      "100\t5\t1\n",
      "123\t5\t1\n",
      "164\t5\t1\n",
      "1\t5\t1\n",
      "1\t5\t1\n",
      "1\t5\t1\n",
      "205\t5\t1\n",
      "210\t5\t1\n",
      "214\t5\t1\n",
      "1982\t5\t1\n",
      "398\t5\t1\n",
      "642\t5\t1\n",
      "669\t5\t1\n",
      "1\t6\t1\n",
      "1\t6\t1\n",
      "1\t6\t1\n",
      "1\t6\t1\n",
      "1\t6\t1\n",
      "1\t6\t1\n",
      "1\t6\t1\n",
      "1\t6\t1\n",
      "1\t6\t1\n",
      "1\t6\t1\n",
      "165\t6\t1\n",
      "196\t6\t1\n",
      "196\t6\t1\n",
      "1273\t6\t1\n",
      "1883\t6\t1\n",
      "324\t6\t1\n",
      "43\t6\t1\n",
      "53\t6\t1\n",
      "91\t6\t1\n",
      "410\t6\t1\n",
      "3184\t6\t1\n",
      "\n"
     ]
    }
   ],
   "source": [
    "##### The first 45 lines of the CACM dataset forms the first record\n",
    "# We are interested only in 3 fields. \n",
    "# 1. the '.I' field, which is the document id\n",
    "# 2. the '.T' field (the title) and\n",
    "# 3. the '.W' field (the abstract, which may be absent)\n",
    "with open (\"./datasets/cacm.all\",\"r\") as file:\n",
    "    cacm_all = \"\".join(file.readlines()[:45])\n",
    "    print(cacm_all)\n",
    "#####"
   ]
  },
  {
   "cell_type": "markdown",
   "metadata": {
    "deletable": false,
    "editable": false,
    "nbgrader": {
     "cell_type": "markdown",
     "checksum": "250b413baccd8efb186bb46a34ae0060",
     "grade": false,
     "grade_id": "cell-c4bf2e263ec553d8",
     "locked": true,
     "schema_version": 3,
     "solution": false,
     "task": false
    }
   },
   "source": [
    "---\n",
    "\n",
    "The following function reads the `cacm.all` file. Note that each document has a variable number of lines. The `.I` field denotes a new document:"
   ]
  },
  {
   "cell_type": "code",
   "execution_count": 5,
   "metadata": {
    "deletable": false,
    "editable": false,
    "nbgrader": {
     "cell_type": "code",
     "checksum": "57d757e6a7a6938740dc899022b4f291",
     "grade": false,
     "grade_id": "cell-b736116eb419c624",
     "locked": true,
     "schema_version": 3,
     "solution": false,
     "task": false
    }
   },
   "outputs": [],
   "source": [
    "def read_cacm_docs(root_folder = \"./datasets/\"):\n",
    "    \"\"\"\n",
    "        Reads in the CACM documents. The dataset is assumed to be in the folder \"./datasets/\" by default\n",
    "        Returns: A list of 2-tuples: (doc_id, document), where 'document' is a single string created by \n",
    "            appending the title and abstract (separated by a \"\\n\"). \n",
    "            In case the record doesn't have an abstract, the document is composed only by the title\n",
    "    \"\"\"\n",
    "    with open(os.path.join(root_folder, \"cacm.all\")) as reader:\n",
    "        lines = reader.readlines()\n",
    "    \n",
    "    doc_id, title, abstract = None, None, None\n",
    "    \n",
    "    docs = []\n",
    "    line_idx = 0\n",
    "    while line_idx < len(lines):\n",
    "        line = lines[line_idx]\n",
    "        if line.startswith(\".I\"):\n",
    "            if doc_id is not None:\n",
    "                docs.append((doc_id, title, abstract))\n",
    "                doc_id, title, abstract = None, None, None\n",
    "            \n",
    "            doc_id = line.split()[-1]\n",
    "            line_idx += 1\n",
    "        elif line.startswith(\".T\"):\n",
    "            # start at next line\n",
    "            line_idx += 1\n",
    "            temp_lines = []\n",
    "            # read till next '.'\n",
    "            while not lines[line_idx].startswith(\".\"):\n",
    "                temp_lines.append(lines[line_idx].strip(\"\\n\"))\n",
    "                line_idx += 1\n",
    "            title = \"\\n\".join(temp_lines).strip(\"\\n\")\n",
    "        elif line.startswith(\".W\"):\n",
    "            # start at next line\n",
    "            line_idx += 1\n",
    "            temp_lines = []\n",
    "            # read till next '.'\n",
    "            while not lines[line_idx].startswith(\".\"):\n",
    "                temp_lines.append(lines[line_idx].strip(\"\\n\"))\n",
    "                line_idx += 1\n",
    "            abstract = \"\\n\".join(temp_lines).strip(\"\\n\")\n",
    "        else:\n",
    "            line_idx += 1\n",
    "    \n",
    "    docs.append((doc_id, title, abstract))\n",
    "    \n",
    "    p_docs = []\n",
    "    for (did, t, a) in docs:\n",
    "        if a is None:\n",
    "            a = \"\"\n",
    "        p_docs.append((did, t + \"\\n\" + a))\n",
    "    return p_docs\n"
   ]
  },
  {
   "cell_type": "code",
   "execution_count": 6,
   "metadata": {
    "deletable": false,
    "editable": false,
    "nbgrader": {
     "cell_type": "code",
     "checksum": "2f81930fcd89670b6e20e2255e1f2369",
     "grade": false,
     "grade_id": "cell-a1c43818e0d3fd79",
     "locked": true,
     "schema_version": 3,
     "solution": false,
     "task": false
    }
   },
   "outputs": [],
   "source": [
    "##### Function check\n",
    "docs = read_cacm_docs()\n",
    "\n",
    "assert isinstance(docs, list)\n",
    "assert len(docs) == 3204, \"There should be exactly 3204 documents\"\n",
    "\n",
    "unzipped_docs = list(zip(*docs))\n",
    "assert np.sum(np.array(list(map(int,unzipped_docs[0])))) == 5134410\n",
    "\n",
    "##### "
   ]
  },
  {
   "cell_type": "markdown",
   "metadata": {
    "deletable": false,
    "editable": false,
    "nbgrader": {
     "cell_type": "markdown",
     "checksum": "25fd3cfaf2137c56002b850699b3c9d3",
     "grade": false,
     "grade_id": "cell-5ed2ddc91f73c60e",
     "locked": true,
     "schema_version": 3,
     "solution": false,
     "task": false
    }
   },
   "source": [
    "---\n",
    "### 1.2 Read the CACM queries\n",
    "\n",
    "Next, let us read the queries. They are formatted similarly:"
   ]
  },
  {
   "cell_type": "code",
   "execution_count": 7,
   "metadata": {
    "deletable": false,
    "editable": false,
    "nbgrader": {
     "cell_type": "code",
     "checksum": "5d26c0908e758acb9968b84056b1060a",
     "grade": false,
     "grade_id": "cell-5c7e8e7c4fc2757f",
     "locked": true,
     "schema_version": 3,
     "solution": false,
     "task": false
    }
   },
   "outputs": [
    {
     "name": "stdout",
     "output_type": "stream",
     "text": [
      ".I 1\n",
      ".W\n",
      " What articles exist which deal with TSS (Time Sharing System), an\n",
      "operating system for IBM computers?\n",
      ".N\n",
      " 1. Richard Alexander, Comp Serv, Langmuir Lab (TSS)\n",
      " \n",
      ".I 2\n",
      ".W\n",
      " I am interested in articles written either by Prieve or Udo Pooch\n",
      ".A\n",
      "Prieve, B.\n",
      "Pooch, U.\n",
      ".N\n",
      " 2. Richard Alexander, Comp Serv, Langmuir Lab (author = Pooch or Prieve)\n"
     ]
    }
   ],
   "source": [
    "##### The first 15 lines of 'query.text' has 2 queries\n",
    "# We are interested only in 2 fields. \n",
    "# 1. the '.I' - the query id\n",
    "# 2. the '.W' - the query\n",
    "!head -15 ./datasets/query.text\n",
    "#####"
   ]
  },
  {
   "cell_type": "markdown",
   "metadata": {
    "deletable": false,
    "editable": false,
    "nbgrader": {
     "cell_type": "markdown",
     "checksum": "8f19f311a660f30e3f86cb0f7037d54a",
     "grade": false,
     "grade_id": "cell-88e293507d2dcef6",
     "locked": true,
     "schema_version": 3,
     "solution": false,
     "task": false
    }
   },
   "source": [
    "---\n",
    "\n",
    "The following function reads the `query.text` file:"
   ]
  },
  {
   "cell_type": "code",
   "execution_count": 8,
   "metadata": {
    "deletable": false,
    "editable": false,
    "nbgrader": {
     "cell_type": "code",
     "checksum": "e3fbb193211007672849487f5cff1664",
     "grade": false,
     "grade_id": "cell-433e3ad5d0e2572a",
     "locked": true,
     "schema_version": 3,
     "solution": false,
     "task": false
    }
   },
   "outputs": [],
   "source": [
    "def read_queries(root_folder = \"./datasets/\"):\n",
    "    \"\"\"\n",
    "        Reads in the CACM queries. The dataset is assumed to be in the folder \"./datasets/\" by default\n",
    "        Returns: A list of 2-tuples: (query_id, query)\n",
    "    \"\"\"\n",
    "    with open(os.path.join(root_folder, \"query.text\")) as reader:\n",
    "        lines = reader.readlines()\n",
    "    \n",
    "    query_id, query = None, None\n",
    "    \n",
    "    queries = []\n",
    "    line_idx = 0\n",
    "    while line_idx < len(lines):\n",
    "        line = lines[line_idx]\n",
    "        if line.startswith(\".I\"):\n",
    "            if query_id is not None:\n",
    "                queries.append((query_id, query))\n",
    "                query_id, query = None, None\n",
    "    \n",
    "            query_id = line.split()[-1]\n",
    "            line_idx += 1\n",
    "        elif line.startswith(\".W\"):\n",
    "            # start at next line\n",
    "            line_idx += 1\n",
    "            temp_lines = []\n",
    "            # read till next '.'\n",
    "            while not lines[line_idx].startswith(\".\"):\n",
    "                temp_lines.append(lines[line_idx].strip(\"\\n\"))\n",
    "                line_idx += 1\n",
    "            query = \"\\n\".join(temp_lines).strip(\"\\n\")\n",
    "        else:\n",
    "            line_idx += 1\n",
    "    \n",
    "    queries.append((query_id, query))\n",
    "    return queries\n"
   ]
  },
  {
   "cell_type": "code",
   "execution_count": 9,
   "metadata": {
    "deletable": false,
    "editable": false,
    "nbgrader": {
     "cell_type": "code",
     "checksum": "a897b9771b54f447be3418d7246fc4a0",
     "grade": false,
     "grade_id": "cell-6ec540abce66c598",
     "locked": true,
     "schema_version": 3,
     "solution": false,
     "task": false
    }
   },
   "outputs": [],
   "source": [
    "##### Function check\n",
    "queries = read_queries()\n",
    "\n",
    "assert isinstance(queries, list)\n",
    "assert len(queries) == 64 and all([q[1] is not None for q in queries]), \"There should be exactly 64 queries\"\n",
    "\n",
    "unzipped_queries = list(zip(*queries))\n",
    "assert np.sum(np.array(list(map(int,unzipped_queries[0])))) == 2080\n",
    "\n",
    "##### "
   ]
  },
  {
   "cell_type": "markdown",
   "metadata": {
    "deletable": false,
    "editable": false,
    "nbgrader": {
     "cell_type": "markdown",
     "checksum": "a300c41912ac63b239070b4c15c9f5c5",
     "grade": false,
     "grade_id": "cell-1c31569491d7b782",
     "locked": true,
     "schema_version": 3,
     "solution": false,
     "task": false
    }
   },
   "source": [
    "---\n",
    "### 1.3 Read the stop words\n",
    "\n",
    "We use the common words stored in `common_words`:"
   ]
  },
  {
   "cell_type": "code",
   "execution_count": 10,
   "metadata": {
    "deletable": false,
    "editable": false,
    "nbgrader": {
     "cell_type": "code",
     "checksum": "1ad6f5bae6a792504c1c8513ae5751ad",
     "grade": false,
     "grade_id": "cell-34bdb63461418a96",
     "locked": true,
     "schema_version": 3,
     "solution": false,
     "task": false
    }
   },
   "outputs": [
    {
     "name": "stdout",
     "output_type": "stream",
     "text": [
      "a\n",
      "about\n",
      "above\n",
      "accordingly\n",
      "across\n",
      "after\n",
      "afterwards\n",
      "again\n",
      "against\n",
      "all\n"
     ]
    }
   ],
   "source": [
    "##### Read the stop words file \n",
    "!head ./datasets/common_words\n",
    "##### Read the README file "
   ]
  },
  {
   "cell_type": "markdown",
   "metadata": {
    "deletable": false,
    "editable": false,
    "nbgrader": {
     "cell_type": "markdown",
     "checksum": "6d0fe612e770213b6397c2179b07a966",
     "grade": false,
     "grade_id": "cell-4744bde0338895d8",
     "locked": true,
     "schema_version": 3,
     "solution": false,
     "task": false
    }
   },
   "source": [
    "---\n",
    "\n",
    "The following function reads the `common_words` file (For better coverage, we try to keep them in lowercase):"
   ]
  },
  {
   "cell_type": "code",
   "execution_count": 11,
   "metadata": {
    "deletable": false,
    "editable": false,
    "nbgrader": {
     "cell_type": "code",
     "checksum": "9409713fd26eb0c33587e190638997c4",
     "grade": false,
     "grade_id": "cell-7357aa40f64e5bcb",
     "locked": true,
     "schema_version": 3,
     "solution": false,
     "task": false
    }
   },
   "outputs": [],
   "source": [
    "def load_stopwords(root_folder = \"./datasets/\"):\n",
    "    \"\"\"\n",
    "        Loads the stopwords. The dataset is assumed to be in the folder \"./datasets/\" by default\n",
    "        Output: A set of stopwords\n",
    "    \"\"\"\n",
    "    with open(os.path.join(root_folder, \"common_words\")) as reader:\n",
    "        lines = reader.readlines()\n",
    "    stopwords = set([l.strip().lower() for l in lines])\n",
    "    return stopwords\n"
   ]
  },
  {
   "cell_type": "code",
   "execution_count": 12,
   "metadata": {
    "deletable": false,
    "editable": false,
    "nbgrader": {
     "cell_type": "code",
     "checksum": "f1c8153c3c38133bc2db6e7b076ad470",
     "grade": false,
     "grade_id": "cell-2ca3ac162004de97",
     "locked": true,
     "schema_version": 3,
     "solution": false,
     "task": false
    }
   },
   "outputs": [],
   "source": [
    "##### Function check\n",
    "stopwords = load_stopwords()\n",
    "\n",
    "assert isinstance(stopwords, set)\n",
    "assert len(stopwords) == 428, \"There should be exactly 428 stop words\"\n",
    "\n",
    "assert np.sum(np.array(list(map(len,stopwords)))) == 2234\n",
    "\n",
    "##### \n"
   ]
  },
  {
   "cell_type": "markdown",
   "metadata": {
    "deletable": false,
    "editable": false,
    "nbgrader": {
     "cell_type": "markdown",
     "checksum": "92c1191e9e7291dcf0d70dc67b907a65",
     "grade": false,
     "grade_id": "cell-134b72872f4300cb",
     "locked": true,
     "schema_version": 3,
     "solution": false,
     "task": false
    }
   },
   "source": [
    "---\n",
    "### 1.4 Tokenization (3 points)\n",
    "\n",
    "We can now write some basic text processing functions. \n",
    "A first step is to tokenize the text. \n",
    "\n",
    "**Note**: Use the  `WordPunctTokenizer` available in the `nltk` library:"
   ]
  },
  {
   "cell_type": "code",
   "execution_count": 13,
   "metadata": {
    "deletable": false,
    "nbgrader": {
     "cell_type": "code",
     "checksum": "3f5564d3c75bf22fbf832b3a9b938f37",
     "grade": false,
     "grade_id": "cell-322be4c9499bdc4b",
     "locked": false,
     "schema_version": 3,
     "solution": true,
     "task": false
    }
   },
   "outputs": [],
   "source": [
    "# TODO: Implement this! (4 points)\n",
    "def tokenize(text):\n",
    "    \"\"\"\n",
    "        Tokenizes the input text. Use the WordPunctTokenizer\n",
    "        Input: text - a string\n",
    "        Output: a list of tokens\n",
    "    \"\"\"\n",
    "    # YOUR CODE HERE\n",
    "    \n",
    "    tokenizer = nltk.tokenize.WordPunctTokenizer()\n",
    "    tokens = tokenizer.tokenize(text)\n",
    "    \n",
    "    return tokens"
   ]
  },
  {
   "cell_type": "code",
   "execution_count": 14,
   "metadata": {
    "deletable": false,
    "editable": false,
    "nbgrader": {
     "cell_type": "code",
     "checksum": "e15af22c4d8ae0a3f9dac43bef7097ec",
     "grade": true,
     "grade_id": "cell-7fbf48bf7541a622",
     "locked": true,
     "points": 3,
     "schema_version": 3,
     "solution": false,
     "task": false
    }
   },
   "outputs": [
    {
     "name": "stdout",
     "output_type": "stream",
     "text": [
      "['the', 'quick', 'brown', 'fox', 'jumps', 'over', 'the', 'lazy', 'dog']\n"
     ]
    }
   ],
   "source": [
    "##### Function check\n",
    "text = \"the quick brown fox jumps over the lazy dog\"\n",
    "tokens = tokenize(text)\n",
    "\n",
    "assert isinstance(tokens, list)\n",
    "assert len(tokens) == 9\n",
    "\n",
    "print(tokens)\n",
    "# output: ['the', 'quick', 'brown', 'fox', 'jumps', 'over', 'the', 'lazy', 'dog']\n",
    "#####"
   ]
  },
  {
   "cell_type": "markdown",
   "metadata": {
    "deletable": false,
    "editable": false,
    "nbgrader": {
     "cell_type": "markdown",
     "checksum": "34210618bff4cb47aad2f03cb4b9854c",
     "grade": false,
     "grade_id": "cell-fd1b98ae61b697ca",
     "locked": true,
     "schema_version": 3,
     "solution": false,
     "task": false
    }
   },
   "source": [
    "---\n",
    "### 1.5 Stemming (2 points)\n",
    "\n",
    "Write a function to stem tokens. \n",
    "Again, you can use the nltk library for this:"
   ]
  },
  {
   "cell_type": "code",
   "execution_count": 15,
   "metadata": {
    "deletable": false,
    "nbgrader": {
     "cell_type": "code",
     "checksum": "1c4a6aa979d66158c7b6b992af43293a",
     "grade": false,
     "grade_id": "cell-e3f6c8e3f874b28d",
     "locked": false,
     "schema_version": 3,
     "solution": true,
     "task": false
    }
   },
   "outputs": [],
   "source": [
    "# TODO: Implement this! (3 points)\n",
    "def stem_token(token):\n",
    "    \"\"\"\n",
    "        Stems the given token using the PorterStemmer from the nltk library\n",
    "        Input: a single token\n",
    "        Output: the stem of the token\n",
    "    \"\"\"\n",
    "    # YOUR CODE HERE\n",
    "    stemmer = nltk.stem.porter.PorterStemmer()\n",
    "    stemmed_token = stemmer.stem(token)\n",
    "    \n",
    "    return stemmed_token"
   ]
  },
  {
   "cell_type": "code",
   "execution_count": 16,
   "metadata": {
    "deletable": false,
    "editable": false,
    "nbgrader": {
     "cell_type": "code",
     "checksum": "9363b4f09b556d424d9c895d4ab57b1c",
     "grade": true,
     "grade_id": "cell-cd6863e6ee6ed205",
     "locked": true,
     "points": 2,
     "schema_version": 3,
     "solution": false,
     "task": false
    }
   },
   "outputs": [],
   "source": [
    "##### Function check\n",
    "\n",
    "assert stem_token('owned') == 'own'\n",
    "assert stem_token('itemization') == 'item'\n",
    "#####"
   ]
  },
  {
   "cell_type": "markdown",
   "metadata": {
    "deletable": false,
    "editable": false,
    "nbgrader": {
     "cell_type": "markdown",
     "checksum": "0b311d014146da6afa1d39542fab9869",
     "grade": false,
     "grade_id": "cell-47c9f90498699110",
     "locked": true,
     "schema_version": 3,
     "solution": false,
     "task": false
    }
   },
   "source": [
    "---\n",
    "### 1.6 Summary\n",
    "\n",
    "The following function puts it all together. Given an input string, this functions tokenizes and processes it according to the flags that you set."
   ]
  },
  {
   "cell_type": "code",
   "execution_count": 17,
   "metadata": {
    "deletable": false,
    "editable": false,
    "nbgrader": {
     "cell_type": "code",
     "checksum": "2ff2d215ee8e0039c5a91fd3de12e6bd",
     "grade": false,
     "grade_id": "cell-dd0d3f46b30801da",
     "locked": true,
     "schema_version": 3,
     "solution": false,
     "task": false
    }
   },
   "outputs": [],
   "source": [
    "#### Putting it all together\n",
    "def process_text(text, stem=False, remove_stopwords=False, lowercase_text=False):\n",
    "    \n",
    "    tokens = []\n",
    "    for token in tokenize(text):\n",
    "        if remove_stopwords and token.lower() in stopwords:\n",
    "            continue\n",
    "        if stem:\n",
    "            token = stem_token(token)\n",
    "        if lowercase_text:\n",
    "            token = token.lower()\n",
    "        tokens.append(token)\n",
    "\n",
    "    return tokens\n",
    "#### "
   ]
  },
  {
   "cell_type": "markdown",
   "metadata": {
    "deletable": false,
    "editable": false,
    "nbgrader": {
     "cell_type": "markdown",
     "checksum": "02d433b18eb43654fa4306a7bf55b190",
     "grade": false,
     "grade_id": "cell-8d885bfd2edd43ae",
     "locked": true,
     "schema_version": 3,
     "solution": false,
     "task": false
    }
   },
   "source": [
    "---\n",
    "\n",
    "Let's create two sets of preprocessed documents.\n",
    "We can process the documents and queries according to these two configurations:"
   ]
  },
  {
   "cell_type": "code",
   "execution_count": 18,
   "metadata": {
    "deletable": false,
    "editable": false,
    "nbgrader": {
     "cell_type": "code",
     "checksum": "dbe4ca667be6842fdcf512fbcad50c7f",
     "grade": false,
     "grade_id": "cell-d427365ee0fb21d8",
     "locked": true,
     "schema_version": 3,
     "solution": false,
     "task": false
    }
   },
   "outputs": [],
   "source": [
    "# In this configuration:\n",
    "# Don't preprocess the text, except to tokenize \n",
    "config_1 = {\n",
    "  \"stem\": False,\n",
    "  \"remove_stopwords\" : False,\n",
    "  \"lowercase_text\": True\n",
    "} \n",
    "\n",
    "\n",
    "# In this configuration:\n",
    "# Preprocess the text, stem and remove stopwords\n",
    "config_2 = {\n",
    "  \"stem\": True,\n",
    "  \"remove_stopwords\" : True,\n",
    "  \"lowercase_text\": True, \n",
    "} \n",
    "\n",
    "####\n",
    "doc_repr_1 = []\n",
    "doc_repr_2 = []\n",
    "for (doc_id, document) in docs:\n",
    "    doc_repr_1.append((doc_id, process_text(document, **config_1)))\n",
    "    doc_repr_2.append((doc_id, process_text(document, **config_2)))\n",
    "\n",
    "####"
   ]
  },
  {
   "cell_type": "markdown",
   "metadata": {
    "deletable": false,
    "editable": false,
    "nbgrader": {
     "cell_type": "markdown",
     "checksum": "b60589aac19e80941d860d9b3f1e9a16",
     "grade": false,
     "grade_id": "cell-b1c102db61ae7495",
     "locked": true,
     "schema_version": 3,
     "solution": false,
     "task": false
    },
    "tags": []
   },
   "source": [
    "--- \n",
    "\n",
    "## Section 2: Indexing (10 points)<a class=\"anchor\" id=\"indexing\"></a>\n",
    "\n",
    "[Back to Part 1](#part1)\n",
    "\n",
    "\n",
    "\n",
    "A retrieval function usually takes in a query document pair, and scores a query against a document.  Our document set is quite small - just a few thousand documents. However, consider a web-scale dataset with a few million documents. In such a scenario, it would become infeasible to score every query and document pair. In such a case, we can build an inverted index. From Wikipedia:\n",
    "\n",
    "> ... , an inverted index (also referred to as a postings file or inverted file) is a database index storing a mapping from content, such as words or numbers, to its locations in a table, .... The purpose of an inverted index is to allow fast full-text searches, at a cost of increased processing when a document is added to the database. ...\n",
    "\n",
    "\n",
    "Consider a simple inverted index, which maps from word to document. This can improve the performance of a retrieval system significantly. In this assignment, we consider a *simple* inverted index, which maps a word to a set of documents. In practice, however, more complex indices might be used.  \n"
   ]
  },
  {
   "cell_type": "markdown",
   "metadata": {
    "deletable": false,
    "editable": false,
    "nbgrader": {
     "cell_type": "markdown",
     "checksum": "710fd943f45523ac36fcb887cc0d4d39",
     "grade": false,
     "grade_id": "cell-fa373192c1b7bb95",
     "locked": true,
     "schema_version": 3,
     "solution": false,
     "task": false
    }
   },
   "source": [
    "### 2.1 Term Frequency-index (10 points)\n",
    "In this assignment, we will be using an index created in memory since our dataset is tiny. To get started, build a simple index that maps each `token` to a list of `(doc_id, count)` where `count` is the count of the `token` in `doc_id`.\n",
    "For consistency, build this index using a python dictionary.\n",
    "    \n",
    "Now, implement a function to build an index:"
   ]
  },
  {
   "cell_type": "code",
   "execution_count": 19,
   "metadata": {
    "deletable": false,
    "nbgrader": {
     "cell_type": "code",
     "checksum": "d4e8c6b658c469379d5fe511de05b536",
     "grade": false,
     "grade_id": "cell-077599b87e953209",
     "locked": false,
     "schema_version": 3,
     "solution": true,
     "task": false
    }
   },
   "outputs": [],
   "source": [
    "# TODO: Implement this! (10 points)\n",
    "def build_tf_index(documents):\n",
    "    \"\"\"\n",
    "        Build an inverted index (with counts). The output is a dictionary which takes in a token\n",
    "        and returns a list of (doc_id, count) where 'count' is the count of the 'token' in 'doc_id'\n",
    "        Input: a list of documents - (doc_id, tokens) \n",
    "        Output: An inverted index implemented within a pyhton dictionary: [token] -> [(doc_id, token_count)]\n",
    "    \"\"\"\n",
    "    # YOUR CODE HERE\n",
    "    \n",
    "    # basic imports\n",
    "    from collections import defaultdict\n",
    "    \n",
    "    # initialize the index\n",
    "    index = defaultdict(list)\n",
    "    \n",
    "    # loop over documents\n",
    "    for doc_id, doc_tokens in documents:\n",
    "\n",
    "        # get counts of each token in the document\n",
    "        tokens, counts = np.unique(doc_tokens, return_counts=True)\n",
    "        \n",
    "        # update the index\n",
    "        for token, count in zip(tokens, counts):\n",
    "            index[token].append((doc_id, count))\n",
    "    \n",
    "    return index"
   ]
  },
  {
   "cell_type": "markdown",
   "metadata": {
    "deletable": false,
    "editable": false,
    "nbgrader": {
     "cell_type": "markdown",
     "checksum": "15e7041b4323d2a290322de538ff7670",
     "grade": false,
     "grade_id": "cell-093aebfa504f96f2",
     "locked": true,
     "schema_version": 3,
     "solution": false,
     "task": false
    }
   },
   "source": [
    "---\n",
    "Now we can build indexed documents and preprocess the queries based on the two configurations:"
   ]
  },
  {
   "cell_type": "code",
   "execution_count": 20,
   "metadata": {
    "deletable": false,
    "editable": false,
    "nbgrader": {
     "cell_type": "code",
     "checksum": "e27540c1d8d77a3779a05f557f3f40c6",
     "grade": false,
     "grade_id": "cell-b2ff1676348b90a8",
     "locked": true,
     "schema_version": 3,
     "solution": false,
     "task": false
    }
   },
   "outputs": [],
   "source": [
    "#### Indexed documents based on the two configs\n",
    "\n",
    "# Create the 2 indices\n",
    "tf_index_1 = build_tf_index(doc_repr_1)\n",
    "tf_index_2 = build_tf_index(doc_repr_2)\n",
    "\n",
    "# This function returns the tf_index of the corresponding config\n",
    "def get_index(index_set):\n",
    "    assert index_set in {1, 2}\n",
    "    return {\n",
    "        1: tf_index_1,\n",
    "        2: tf_index_2\n",
    "    }[index_set]\n",
    "\n",
    "####\n",
    "#### Preprocessed query based on the two configs\n",
    "\n",
    "# This function preprocesses the text given the index set, according to the specified config\n",
    "def preprocess_query(text, index_set):\n",
    "    assert index_set in {1, 2}\n",
    "    if index_set == 1:\n",
    "        return process_text(text, **config_1)\n",
    "    elif index_set == 2:\n",
    "        return process_text(text, **config_2)\n",
    "\n",
    "#### "
   ]
  },
  {
   "cell_type": "code",
   "execution_count": 21,
   "metadata": {
    "deletable": false,
    "editable": false,
    "nbgrader": {
     "cell_type": "code",
     "checksum": "f0cbc8703e1248cd6edf03f9019b69db",
     "grade": true,
     "grade_id": "cell-fc7c7232d5d2ee46",
     "locked": true,
     "points": 5,
     "schema_version": 3,
     "solution": false,
     "task": false
    }
   },
   "outputs": [
    {
     "name": "stdout",
     "output_type": "stream",
     "text": [
      "sample tf index for computer: [('4', 1), ('7', 1), ('10', 1), ('13', 1), ('19', 1), ('22', 1), ('23', 1), ('37', 1), ('40', 3), ('41', 1)]\n",
      "sample tf index for examples: [('111', 1), ('320', 1), ('644', 1), ('691', 1), ('727', 1), ('848', 1), ('892', 1), ('893', 1), ('1049', 1), ('1051', 1)]\n"
     ]
    }
   ],
   "source": [
    "##### Function check\n",
    "\n",
    "assert isinstance(tf_index_1, dict)\n",
    "\n",
    "assert isinstance(tf_index_1['computer'], list)\n",
    "print('sample tf index for computer:', tf_index_1['computer'][:10])\n",
    "\n",
    "assert isinstance(tf_index_1['examples'], list)\n",
    "print('sample tf index for examples:', tf_index_1['examples'][:10])\n",
    "#### "
   ]
  },
  {
   "cell_type": "code",
   "execution_count": 22,
   "metadata": {
    "deletable": false,
    "editable": false,
    "nbgrader": {
     "cell_type": "code",
     "checksum": "d49b8ac36815d9a5cb4bed838ab53a50",
     "grade": true,
     "grade_id": "cell-ff06bd11204db250",
     "locked": true,
     "points": 5,
     "schema_version": 3,
     "solution": false,
     "task": false
    }
   },
   "outputs": [
    {
     "name": "stdout",
     "output_type": "stream",
     "text": [
      "sample tf index for computer: [('4', 1), ('7', 1), ('10', 1), ('13', 1), ('19', 1), ('22', 1), ('23', 1), ('37', 1), ('40', 3), ('41', 1)]\n",
      "sample tf index for examples: []\n"
     ]
    }
   ],
   "source": [
    "##### Function check\n",
    "\n",
    "assert isinstance(tf_index_2, dict)\n",
    "\n",
    "assert isinstance(tf_index_2['computer'], list)\n",
    "print('sample tf index for computer:', tf_index_1['computer'][:10])\n",
    "\n",
    "assert isinstance(tf_index_2['examples'], list)\n",
    "print('sample tf index for examples:', tf_index_2['examples'][:10])\n",
    "#### "
   ]
  },
  {
   "cell_type": "markdown",
   "metadata": {
    "deletable": false,
    "editable": false,
    "nbgrader": {
     "cell_type": "markdown",
     "checksum": "880b2ef3ca405f2af6e0667d2dc7a600",
     "grade": false,
     "grade_id": "cell-89eba71f04310291",
     "locked": true,
     "schema_version": 3,
     "solution": false,
     "task": false
    }
   },
   "source": [
    "\n",
    "---\n",
    "## Section 3: Ranking  (80 points) <a class=\"anchor\" id=\"ranking\"></a>\n",
    "\n",
    "[Back to Part 1](#part1)\n",
    "\n",
    "Now that we have cleaned and processed our dataset, we can start building simple IR systems. \n",
    "\n",
    "For now, we consider *simple* IR systems, which involve computing scores from the tokens present in the document/query. More advanced methods are covered in later assignments.\n",
    "\n",
    "We will implement the following methods in this section:\n",
    "- [Section 3.1: Bag of Words](#bow) (10 points)\n",
    "- [Section 3.2: TF-IDF](#tfidf) (15 points)\n",
    "- [Section 3.3: Query Likelihood Model](#qlm) (35 points)\n",
    "- [Section 3.4: BM25](#bm25) (20 points)\n",
    "\n",
    "*All search functions should be able to handle multiple words queries.*\n",
    "\n",
    "**Scoring policy:**\n",
    "Your implementations in this section are scored based on the expected performance of your ranking functions.\n",
    "You will get a full mark if your implementation meets the expected performance (measured by some evaluation metric).\n",
    "Otherwise, you may get partial credit.\n",
    "For example, if your *Bag of words* ranking function has 60% of expected performance, you will get 6 out of 10."
   ]
  },
  {
   "cell_type": "markdown",
   "metadata": {
    "deletable": false,
    "editable": false,
    "nbgrader": {
     "cell_type": "markdown",
     "checksum": "6c74e5061917358300c6e8085ec07864",
     "grade": false,
     "grade_id": "cell-3daf70a60e393adf",
     "locked": true,
     "schema_version": 3,
     "solution": false,
     "task": false
    },
    "tags": []
   },
   "source": [
    "--- \n",
    "\n",
    "### Section 3.1: Bag of Words (10 points)<a class=\"anchor\" id=\"bow\"></a>\n",
    "\n",
    "Probably the simplest IR model is the Bag of Words (BOW) model.\n",
    "Implement a function that scores and ranks all the documents against a query using this model.   \n",
    "\n",
    "- For consistency, you should use the count of the token and **not** the binary indicator.\n",
    "- Use `float` type for the scores (even though the scores are integers in this case).\n",
    "- No normalization of the scores is necessary, as the ordering is what we are interested in.\n",
    "- If two documents have the same score, they can have any ordering: you are not required to disambiguate.\n"
   ]
  },
  {
   "cell_type": "code",
   "execution_count": 23,
   "metadata": {
    "deletable": false,
    "nbgrader": {
     "cell_type": "code",
     "checksum": "fee4640e22bfc4f05eb958a675ef40e7",
     "grade": false,
     "grade_id": "cell-de9cf0459c4b9324",
     "locked": false,
     "schema_version": 3,
     "solution": true,
     "task": false
    }
   },
   "outputs": [],
   "source": [
    "# TODO: Implement this! (10 points)\n",
    "def bow_search(query, index_set):\n",
    "    \"\"\"\n",
    "        Perform a search over all documents with the given query. \n",
    "        Note: You have to use the `get_index` function created in the previous cells\n",
    "        Input: \n",
    "            query - a (unprocessed) query\n",
    "            index_set - the index to use\n",
    "        Output: a list of (document_id, score), sorted in descending relevance to the given query. \n",
    "    \"\"\"\n",
    "    index = get_index(index_set)\n",
    "    processed_query = preprocess_query(query, index_set)\n",
    "    \n",
    "    # YOUR CODE HERE\n",
    "    \n",
    "    from collections import Counter, OrderedDict\n",
    "\n",
    "    document_score = Counter()\n",
    "    for t in processed_query:\n",
    "        if t in index:\n",
    "            document_score.update(dict(index[t]))          \n",
    "        \n",
    "    # convert scores to floats\n",
    "    document_score = {k: float(v) for k, v in document_score.items()}\n",
    "    \n",
    "    # return the sorted dict\n",
    "    return sorted(document_score.items(), key=lambda x: x[1], reverse=True)"
   ]
  },
  {
   "cell_type": "code",
   "execution_count": 24,
   "metadata": {
    "deletable": false,
    "editable": false,
    "nbgrader": {
     "cell_type": "code",
     "checksum": "613524fbbf02b1d122c6611a71fbf11b",
     "grade": true,
     "grade_id": "cell-9f6aceae6dd9125f",
     "locked": true,
     "points": 2,
     "schema_version": 3,
     "solution": false,
     "task": false
    }
   },
   "outputs": [],
   "source": [
    "#### Function check\n",
    "\n",
    "test_bow = bow_search(\"how to implement bag of words search\", index_set=1)[:5]\n",
    "assert isinstance(test_bow, list)\n",
    "assert len(test_bow[0]) == 2\n",
    "assert isinstance(test_bow[0][0], str)\n",
    "assert isinstance(test_bow[0][1], float)\n",
    "\n",
    "#### "
   ]
  },
  {
   "cell_type": "code",
   "execution_count": 25,
   "metadata": {
    "deletable": false,
    "editable": false,
    "nbgrader": {
     "cell_type": "code",
     "checksum": "9af20897659edb62fe77598483590500",
     "grade": true,
     "grade_id": "cell-4eed3abf233d9b58",
     "locked": true,
     "points": 2,
     "schema_version": 3,
     "solution": false,
     "task": false
    }
   },
   "outputs": [
    {
     "name": "stdout",
     "output_type": "stream",
     "text": [
      "BOW Results:\n",
      "Rank 0(1.3e+01): On Computing The Fast Fourier Transform\\nCooley an...\n",
      "Rank 1(1.2e+01): Variable Length Tree Structures Having Minimum Ave...\n",
      "Rank 2(1.1e+01): A Modular Computer Sharing System\\nAn alternative ...\n",
      "Rank 3(1e+01): PEEKABIT, Computer Offspring of Punched\\nCard PEEK...\n",
      "Rank 4(9.0): Computer Simulation-Discussion of the\\nTechnique a...\n"
     ]
    }
   ],
   "source": [
    "\n",
    "docs_by_id = dict(docs)\n",
    "def print_results(docs, len_limit=50):    \n",
    "    for i, (doc_id, score) in enumerate(docs):\n",
    "        doc_content = docs_by_id[doc_id].strip().replace(\"\\n\", \"\\\\n\")[:len_limit] + \"...\"\n",
    "        print(f\"Rank {i}({score:.2}): {doc_content}\")\n",
    "\n",
    "test_bow_2 = bow_search(\"computer search word\", index_set=2)[:5]\n",
    "print(f\"BOW Results:\")\n",
    "print_results(test_bow_2)\n"
   ]
  },
  {
   "cell_type": "code",
   "execution_count": 26,
   "metadata": {
    "deletable": false,
    "editable": false,
    "nbgrader": {
     "cell_type": "code",
     "checksum": "3c9c8b16c8e7d1032f101e9da8a6e845",
     "grade": true,
     "grade_id": "cell-4d65a2d7090c466c",
     "locked": true,
     "points": 3,
     "schema_version": 3,
     "solution": false,
     "task": false
    }
   },
   "outputs": [
    {
     "name": "stdout",
     "output_type": "stream",
     "text": [
      "BOW Results:\n",
      "Rank 0(9.0): CURRICULUM 68 -- Recommendations for Academic\\nPro...\n",
      "Rank 1(9.0): Variable Length Tree Structures Having Minimum Ave...\n",
      "Rank 2(7.0): Computer Formulation of the Equations of Motion Us...\n",
      "Rank 3(7.0): The Effects of Multiplexing on a Computer-Communic...\n",
      "Rank 4(6.0): Optimizing Bit-time Computer Simulation\\nA major c...\n"
     ]
    }
   ],
   "source": [
    "\n",
    "test_bow_1 = bow_search(\"computer search word\", index_set=1)[:5]\n",
    "print(f\"BOW Results:\")\n",
    "print_results(test_bow_1)\n"
   ]
  },
  {
   "cell_type": "code",
   "execution_count": 27,
   "metadata": {
    "deletable": false,
    "editable": false,
    "nbgrader": {
     "cell_type": "code",
     "checksum": "b7e593847aa4202ae45ec061fb18ad73",
     "grade": true,
     "grade_id": "cell-dedf36ab5853ce20",
     "locked": true,
     "points": 3,
     "schema_version": 3,
     "solution": false,
     "task": false
    }
   },
   "outputs": [
    {
     "name": "stdout",
     "output_type": "stream",
     "text": [
      "top-5 docs for index1: ('1771', '1936', '1543', '2535', '678')\n",
      "top-5 docs for index2: ('1525', '1936', '1844', '1700', '1366')\n"
     ]
    }
   ],
   "source": [
    "print('top-5 docs for index1:', list(zip(*test_bow_1[:5]))[0])\n",
    "print('top-5 docs for index2:', list(zip(*test_bow_2[:5]))[0])\n"
   ]
  },
  {
   "cell_type": "markdown",
   "metadata": {
    "deletable": false,
    "editable": false,
    "nbgrader": {
     "cell_type": "markdown",
     "checksum": "b04352ee0716dfdf094b8cdb6f32e984",
     "grade": false,
     "grade_id": "cell-a5c09c79ac1f2871",
     "locked": true,
     "schema_version": 3,
     "solution": false,
     "task": false
    },
    "tags": []
   },
   "source": [
    "\n",
    "---\n",
    "\n",
    "### Section 3.2: TF-IDF (15 points) <a class=\"anchor\" id=\"tfidf\"></a>\n",
    "\n",
    "Before we implement the tf-idf scoring functions, let's first write a function to compute the document frequencies of all words.  \n",
    "\n",
    "#### 3.2.1 Document frequency (5 points)\n",
    "Compute the document frequencies of all tokens in the collection. \n",
    "Your code should return a dictionary with tokens as its keys and the number of documents containing the token as values.\n",
    "For consistency, the values should have `int` type."
   ]
  },
  {
   "cell_type": "code",
   "execution_count": 28,
   "metadata": {
    "deletable": false,
    "nbgrader": {
     "cell_type": "code",
     "checksum": "5c53263cf4c0b0ffcaae08b91fc364cc",
     "grade": false,
     "grade_id": "cell-9a2369f32e864b8a",
     "locked": false,
     "schema_version": 3,
     "solution": true,
     "task": false
    }
   },
   "outputs": [],
   "source": [
    "# TODO: Implement this! (5 points)\n",
    "def compute_df(documents):\n",
    "    \"\"\"\n",
    "        Compute the document frequency of all terms in the vocabulary\n",
    "        Input: A list of documents\n",
    "        Output: A dictionary with {token: document frequency (int)}\n",
    "    \"\"\"\n",
    "    # YOUR CODE HERE\n",
    "    \n",
    "    from collections import Counter\n",
    "    \n",
    "    df = Counter()\n",
    "    for d in documents:\n",
    "        df.update(np.unique(d))\n",
    "    \n",
    "    return df"
   ]
  },
  {
   "cell_type": "code",
   "execution_count": 29,
   "metadata": {
    "deletable": false,
    "editable": false,
    "nbgrader": {
     "cell_type": "code",
     "checksum": "154985511d7925c5793a1f97dea81880",
     "grade": false,
     "grade_id": "cell-4c3bddd0b73ac90e",
     "locked": true,
     "schema_version": 3,
     "solution": false,
     "task": false
    }
   },
   "outputs": [],
   "source": [
    "#### Compute df based on the two configs\n",
    "\n",
    "# get the document frequencies of each document\n",
    "df_1 = compute_df([d[1] for d in doc_repr_1])\n",
    "df_2 = compute_df([d[1] for d in doc_repr_2])\n",
    "\n",
    "def get_df(index_set):\n",
    "    assert index_set in {1, 2}\n",
    "    return {\n",
    "        1: df_1,\n",
    "        2: df_2\n",
    "    }[index_set]\n",
    "####"
   ]
  },
  {
   "cell_type": "code",
   "execution_count": 30,
   "metadata": {
    "deletable": false,
    "editable": false,
    "nbgrader": {
     "cell_type": "code",
     "checksum": "110cc180068cf3f77c682ee3de2a117c",
     "grade": true,
     "grade_id": "cell-79e8a6db1e5fc46f",
     "locked": true,
     "points": 5,
     "schema_version": 3,
     "solution": false,
     "task": false
    }
   },
   "outputs": [
    {
     "name": "stdout",
     "output_type": "stream",
     "text": [
      "597\n",
      "11\n"
     ]
    }
   ],
   "source": [
    "#### Function check\n",
    "\n",
    "print(df_1['computer'])\n",
    "print(df_2['computer'])\n",
    "####"
   ]
  },
  {
   "cell_type": "markdown",
   "metadata": {
    "deletable": false,
    "editable": false,
    "nbgrader": {
     "cell_type": "markdown",
     "checksum": "d0d577668fa51b80aeab6e67209ae73b",
     "grade": false,
     "grade_id": "cell-52f6acc487e1b96d",
     "locked": true,
     "schema_version": 3,
     "solution": false,
     "task": false
    }
   },
   "source": [
    "---\n",
    "#### 3.2.2 TF-IDF search (10 points)\n",
    "Next, implement a function that computes a tf-idf score, given a query.\n",
    "Use the following formulas for TF and IDF:\n",
    "\n",
    "$$ TF=\\log (1 + f_{d,t}) $$\n",
    "\n",
    "$$ IDF=\\log (\\frac{N}{n_t})$$\n",
    "\n",
    "where $f_{d,t}$ is the frequency of token $t$ in document $d$, $N$ is the number of total documents and $n_t$ is the number of documents containing token $t$.\n",
    "\n",
    "**Note:** your implementation will be auto-graded assuming you have used the above formulas.\n"
   ]
  },
  {
   "cell_type": "code",
   "execution_count": 31,
   "metadata": {
    "deletable": false,
    "nbgrader": {
     "cell_type": "code",
     "checksum": "3534c44b4a3419ca1db98eebe7115dc1",
     "grade": false,
     "grade_id": "cell-2fb5ba34b2994cd9",
     "locked": false,
     "schema_version": 3,
     "solution": true,
     "task": false
    }
   },
   "outputs": [],
   "source": [
    "# TODO: Implement this! (10 points)\n",
    "def tfidf_search(query, index_set):\n",
    "    \"\"\"\n",
    "        Perform a search over all documents with the given query using tf-idf. \n",
    "        Note #1: You have to use the `get_index` (and the `get_df`) function created in the previous cells\n",
    "        Input: \n",
    "            query - a (unprocessed) query\n",
    "            index_set - the index to use\n",
    "        Output: a list of (document_id, score), sorted in descending relevance to the given query \n",
    "    \"\"\"\n",
    "    index = get_index(index_set)\n",
    "    df = get_df(index_set)\n",
    "    processed_query = preprocess_query(query, index_set)\n",
    "    \n",
    "    N = len(docs)\n",
    "    \n",
    "    # YOUR CODE HERE\n",
    "    from collections import defaultdict\n",
    "    \n",
    "    epsilon = np.finfo(np.float32).eps\n",
    "    \n",
    "    document_score = defaultdict(int)\n",
    "    for t in processed_query:\n",
    "        if t in index:\n",
    "            for doc_id, count in index[t]:\n",
    "                idf = np.log((N / (df[t] + epsilon)))\n",
    "                tf = np.log(1 + count)\n",
    "                document_score[doc_id] += tf * idf\n",
    "\n",
    "    return sorted(document_score.items(), key=lambda x: x[1], reverse=True)"
   ]
  },
  {
   "cell_type": "code",
   "execution_count": 32,
   "metadata": {
    "deletable": false,
    "editable": false,
    "nbgrader": {
     "cell_type": "code",
     "checksum": "7b66a514663d898694b09a23a597312b",
     "grade": true,
     "grade_id": "cell-bc68aeeacf42beb3",
     "locked": true,
     "points": 2,
     "schema_version": 3,
     "solution": false,
     "task": false
    }
   },
   "outputs": [],
   "source": [
    "\n",
    "#### Function check\n",
    "test_tfidf = tfidf_search(\"how to implement tf idf search\", index_set=1)[:5]\n",
    "assert isinstance(test_tfidf, list)\n",
    "assert len(test_tfidf[0]) == 2\n",
    "assert isinstance(test_tfidf[0][0], str)\n",
    "assert isinstance(test_tfidf[0][1], float)\n",
    "\n",
    "####"
   ]
  },
  {
   "cell_type": "code",
   "execution_count": 33,
   "metadata": {
    "deletable": false,
    "editable": false,
    "nbgrader": {
     "cell_type": "code",
     "checksum": "98fb1326cf4bf7983ae237ca8a9105f9",
     "grade": true,
     "grade_id": "cell-c7702fa8179fadb9",
     "locked": true,
     "points": 2,
     "schema_version": 3,
     "solution": false,
     "task": false
    }
   },
   "outputs": [
    {
     "name": "stdout",
     "output_type": "stream",
     "text": [
      "TFIDF Results:\n",
      "Rank 0(1.3e+01): PEEKABIT, Computer Offspring of Punched\\nCard PEEK...\n",
      "Rank 1(9.8): Variable Length Tree Structures Having Minimum Ave...\n",
      "Rank 2(8.2): A Stochastic Approach to the Grammatical Coding of...\n",
      "Rank 3(8.1): Full Table Quadratic Searching for Scatter Storage...\n",
      "Rank 4(7.6): Use of Tree Structures for Processing Files\\nIn da...\n"
     ]
    }
   ],
   "source": [
    "\n",
    "test_tfidf_2 = tfidf_search(\"computer word search\", index_set=2)[:5]\n",
    "print(f\"TFIDF Results:\")\n",
    "print_results(test_tfidf_2)\n"
   ]
  },
  {
   "cell_type": "code",
   "execution_count": 34,
   "metadata": {
    "deletable": false,
    "editable": false,
    "nbgrader": {
     "cell_type": "code",
     "checksum": "733b5b67be5e53989f5b763ce5e52ee9",
     "grade": true,
     "grade_id": "cell-3284f50ac29abbaa",
     "locked": true,
     "points": 3,
     "schema_version": 3,
     "solution": false,
     "task": false
    }
   },
   "outputs": [
    {
     "name": "stdout",
     "output_type": "stream",
     "text": [
      "TFIDF Results:\n",
      "Rank 0(9.4): Variable Length Tree Structures Having Minimum Ave...\n",
      "Rank 1(7.4): On the Feasibility of Voice Input to\\nan On-line C...\n",
      "Rank 2(7.3): Median Split Trees: A Fast Lookup Technique for Fr...\n",
      "Rank 3(7.0): Execution Time Requirements for Encipherment Progr...\n",
      "Rank 4(7.0): Storage and Search Properties of a Tree-Organized ...\n"
     ]
    }
   ],
   "source": [
    "\n",
    "test_tfidf_1 = tfidf_search(\"computer word search\", index_set=1)[:5]\n",
    "print(f\"TFIDF Results:\")\n",
    "print_results(test_tfidf_1)\n"
   ]
  },
  {
   "cell_type": "code",
   "execution_count": 35,
   "metadata": {
    "deletable": false,
    "editable": false,
    "nbgrader": {
     "cell_type": "code",
     "checksum": "e0edb37a5ae807a2de85d578c87ccb78",
     "grade": true,
     "grade_id": "cell-d908c80a3155354b",
     "locked": true,
     "points": 3,
     "schema_version": 3,
     "solution": false,
     "task": false
    }
   },
   "outputs": [
    {
     "name": "stdout",
     "output_type": "stream",
     "text": [
      "top-5 docs for index1 with BOW search: ('1771', '1936', '1543', '2535', '678')\n",
      "top-5 docs for index2 with BOW search: ('1525', '1936', '1844', '1700', '1366')\n",
      "top-5 docs for index1 with TF-IDF search: ('1936', '2054', '3041', '2620', '944')\n",
      "top-5 docs for index2 with TF-IDF search: ('1700', '1936', '1235', '2018', '849')\n"
     ]
    }
   ],
   "source": [
    "\n",
    "print('top-5 docs for index1 with BOW search:', list(zip(*test_bow_1[:5]))[0])\n",
    "print('top-5 docs for index2 with BOW search:', list(zip(*test_bow_2[:5]))[0])\n",
    "print('top-5 docs for index1 with TF-IDF search:', list(zip(*test_tfidf_1[:5]))[0])\n",
    "print('top-5 docs for index2 with TF-IDF search:', list(zip(*test_tfidf_2[:5]))[0])\n",
    "\n"
   ]
  },
  {
   "cell_type": "markdown",
   "metadata": {
    "deletable": false,
    "editable": false,
    "nbgrader": {
     "cell_type": "markdown",
     "checksum": "cdffc83f0eaea937cf64a212e7e9af8d",
     "grade": false,
     "grade_id": "cell-f5d923459ba21733",
     "locked": true,
     "schema_version": 3,
     "solution": false,
     "task": false
    }
   },
   "source": [
    "--- \n",
    "\n",
    "### Section 3.3: Query Likelihood Model (35 points) <a class=\"anchor\" id=\"qlm\"></a>\n",
    "\n",
    "In this section, you will implement a simple query likelihood model. \n",
    "\n",
    "\n",
    "#### 3.3.1 Naive QL (15 points)\n",
    "\n",
    "First, let us implement a naive version of a QL model, assuming a multinomial unigram language model (with a uniform prior over the documents). \n",
    "\n"
   ]
  },
  {
   "cell_type": "code",
   "execution_count": 36,
   "metadata": {
    "deletable": false,
    "editable": false,
    "nbgrader": {
     "cell_type": "code",
     "checksum": "b7ae2b7d818b428b4638c1c9206d2aca",
     "grade": false,
     "grade_id": "cell-98505778f7b68e7f",
     "locked": true,
     "schema_version": 3,
     "solution": false,
     "task": false
    }
   },
   "outputs": [],
   "source": [
    "#### Document length for normalization\n",
    "\n",
    "def doc_lengths(documents):\n",
    "    doc_lengths = {doc_id:len(doc) for (doc_id, doc) in documents}\n",
    "    return doc_lengths\n",
    "\n",
    "doc_lengths_1 = doc_lengths(doc_repr_1)\n",
    "doc_lengths_2 = doc_lengths(doc_repr_2)\n",
    "\n",
    "def get_doc_lengths(index_set):\n",
    "    assert index_set in {1, 2}\n",
    "    return {\n",
    "        1: doc_lengths_1,\n",
    "        2: doc_lengths_2\n",
    "    }[index_set]\n",
    "####"
   ]
  },
  {
   "cell_type": "code",
   "execution_count": 37,
   "metadata": {
    "deletable": false,
    "nbgrader": {
     "cell_type": "code",
     "checksum": "cedd08303a914243fefdb6b876977ca1",
     "grade": false,
     "grade_id": "cell-8bcf2b804d636c2e",
     "locked": false,
     "schema_version": 3,
     "solution": true,
     "task": false
    }
   },
   "outputs": [],
   "source": [
    "# TODO: Implement this! (15 points)\n",
    "import random\n",
    "\n",
    "np.random.seed(0)\n",
    "random.seed(0)\n",
    "\n",
    "def naive_ql_search(query, index_set):\n",
    "    \"\"\"\n",
    "        Perform a search over all documents with the given query using a naive QL model. \n",
    "        Note #1: You have to use the `get_index` (and get_doc_lengths) function created in the previous cells\n",
    "        Input: \n",
    "            query - a (unprocessed) query\n",
    "            index_set - the index to use\n",
    "        Output: a list of (document_id, score), sorted in descending relevance to the given query \n",
    "    \"\"\"\n",
    "    index = get_index(index_set)\n",
    "    doc_lengths = get_doc_lengths(index_set)\n",
    "    processed_query = preprocess_query(query, index_set)\n",
    "    \n",
    "    # YOUR CODE HERE\n",
    "    \n",
    "    # Reference: Sec 7.3.1. from https://ciir.cs.umass.edu/downloads/SEIRiP.pdf\n",
    "\n",
    "    from collections import defaultdict, OrderedDict\n",
    "    \n",
    "    epsilon = np.finfo(np.float32).eps\n",
    "    doc_ids = list(set(doc_lengths.keys()))\n",
    "    \n",
    "    document_score = defaultdict(lambda: 1.0)\n",
    "\n",
    "    for t in processed_query:\n",
    "        if t in index:\n",
    "\n",
    "            for doc_id in doc_ids:\n",
    "                count = 0\n",
    "                if doc_id in dict(index[t]):\n",
    "                    count = dict(index[t])[doc_id]\n",
    "\n",
    "                p_t_given_d = count / (doc_lengths[doc_id] + epsilon)\n",
    "                document_score[doc_id] *= p_t_given_d\n",
    "    \n",
    "    return sorted(document_score.items(), key=lambda x: x[1], reverse=True)"
   ]
  },
  {
   "cell_type": "code",
   "execution_count": 38,
   "metadata": {
    "deletable": false,
    "editable": false,
    "nbgrader": {
     "cell_type": "code",
     "checksum": "b550d15bdad28354c336020a00c33d56",
     "grade": true,
     "grade_id": "cell-5a83ac12ecde8578",
     "locked": true,
     "points": 3,
     "schema_version": 3,
     "solution": false,
     "task": false
    }
   },
   "outputs": [
    {
     "name": "stdout",
     "output_type": "stream",
     "text": [
      "Naive QL Results:\n",
      "Rank 0(0.2): A Report Writer For COBOL...\n",
      "Rank 1(0.2): A CRT Report Generating System...\n",
      "Rank 2(0.17): Preliminary Report-International Algebraic Languag...\n",
      "Rank 3(0.17): Supplement to the ALGOL 60 Report...\n",
      "Rank 4(0.14): Report on the Algorithmic Language ALGOL 60...\n"
     ]
    }
   ],
   "source": [
    "#### Function check\n",
    "test_naiveql = naive_ql_search(\"report\", index_set=1)[:5]\n",
    "print(f\"Naive QL Results:\")\n",
    "print_results(test_naiveql)\n",
    "####"
   ]
  },
  {
   "cell_type": "code",
   "execution_count": 39,
   "metadata": {
    "deletable": false,
    "editable": false,
    "nbgrader": {
     "cell_type": "code",
     "checksum": "799df1d81c63fe90edbb6c218fc707fb",
     "grade": true,
     "grade_id": "cell-80f4bf2137f997bb",
     "locked": true,
     "points": 2,
     "schema_version": 3,
     "solution": false,
     "task": false
    }
   },
   "outputs": [],
   "source": [
    "#### Please do not change this. This cell is used for grading."
   ]
  },
  {
   "cell_type": "code",
   "execution_count": 40,
   "metadata": {
    "deletable": false,
    "editable": false,
    "nbgrader": {
     "cell_type": "code",
     "checksum": "875a4a517d27e20625d41783cebec118",
     "grade": true,
     "grade_id": "cell-5ce2993458a8ce51",
     "locked": true,
     "points": 3,
     "schema_version": 3,
     "solution": false,
     "task": false
    }
   },
   "outputs": [],
   "source": [
    "#### Please do not change this. This cell is used for grading."
   ]
  },
  {
   "cell_type": "code",
   "execution_count": 41,
   "metadata": {
    "deletable": false,
    "editable": false,
    "nbgrader": {
     "cell_type": "code",
     "checksum": "d5c4e1c3852e71a46f32825b122f1b71",
     "grade": true,
     "grade_id": "cell-7753bdb54e292f3d",
     "locked": true,
     "points": 3,
     "schema_version": 3,
     "solution": false,
     "task": false
    }
   },
   "outputs": [],
   "source": [
    "#### Please do not change this. This cell is used for grading."
   ]
  },
  {
   "cell_type": "code",
   "execution_count": 42,
   "metadata": {
    "deletable": false,
    "editable": false,
    "nbgrader": {
     "cell_type": "code",
     "checksum": "c4d4332d4356e89ce0240f6b80e1899a",
     "grade": true,
     "grade_id": "cell-54e476e2f96e64bb",
     "locked": true,
     "points": 4,
     "schema_version": 3,
     "solution": false,
     "task": false
    }
   },
   "outputs": [],
   "source": [
    "#### Please do not change this. This cell is used for grading."
   ]
  },
  {
   "cell_type": "markdown",
   "metadata": {
    "deletable": false,
    "editable": false,
    "nbgrader": {
     "cell_type": "markdown",
     "checksum": "8d739dc91a22bd48897f603885f95a74",
     "grade": false,
     "grade_id": "cell-5414dfd69dab8b94",
     "locked": true,
     "schema_version": 3,
     "solution": false,
     "task": false
    }
   },
   "source": [
    "---\n",
    "#### 3.3.2 QL (20 points)\n",
    "Now, let's implement a QL model that handles the issues with the naive version. In particular, you will implement a QL model with Jelinek-Mercer Smoothing. That means an interpolated score is computed per word - one term is the same as the previous naive version, and the second term comes from a unigram language model. In addition, you should accumulate the scores by summing the **log** (smoothed) probability which leads to better numerical stability."
   ]
  },
  {
   "cell_type": "code",
   "execution_count": 43,
   "metadata": {
    "deletable": false,
    "nbgrader": {
     "cell_type": "code",
     "checksum": "b8c6abf937ad333e628f1db891f2e29e",
     "grade": false,
     "grade_id": "cell-bb1f506409771257",
     "locked": false,
     "schema_version": 3,
     "solution": true,
     "task": false
    }
   },
   "outputs": [],
   "source": [
    "# TODO: Implement this! (20 points)\n",
    "def ql_search(query, index_set):\n",
    "    \"\"\"\n",
    "        Perform a search over all documents with the given query using a QL model \n",
    "        with Jelinek-Mercer Smoothing (set smoothing=0.1). \n",
    "        \n",
    "        \n",
    "        Note #1: You have to use the `get_index` (and get_doc_lengths) function created in the previous cells\n",
    "        Note #2: You might have to create some variables beforehand and use them in this function\n",
    "        \n",
    "        \n",
    "        Input: \n",
    "            query - a (unprocessed) query\n",
    "            index_set - the index to use\n",
    "        Output: a list of (document_id, score), sorted in descending relevance to the given query \n",
    "    \"\"\"\n",
    "    index = get_index(index_set)\n",
    "    doc_lengths = get_doc_lengths(index_set)\n",
    "    processed_query = preprocess_query(query, index_set)\n",
    "    \n",
    "    # YOUR CODE HERE\n",
    "    # Reference: Sec 7.3.2. from https://ciir.cs.umass.edu/downloads/SEIRiP.pdf\n",
    "    \n",
    "    # TODO: Add a UNK token for tokens not found in the corpus\n",
    "\n",
    "    from collections import defaultdict, OrderedDict\n",
    "    \n",
    "    # epsilon = np.finfo(np.float32).eps\n",
    "    epsilon = 0.0\n",
    "    smoothing = 0.1\n",
    "    \n",
    "    doc_ids = list(set(doc_lengths.keys()))\n",
    "    \n",
    "    # compute total number of word occurrences\n",
    "    total_word_occurrences = 0.0\n",
    "    for w in index:\n",
    "        total_word_occurrences += np.sum([x[1] for x in index[w]])\n",
    "    \n",
    "    # compute document score based on probabilities\n",
    "    # document_score = defaultdict(lambda: 1.0)\n",
    "    document_score = defaultdict(int)\n",
    "    for q in processed_query:\n",
    "        if q in index:\n",
    "            num_occurrences_of_q = np.sum([x[1] for x in index[q]])\n",
    "            # Note we need to loop over all the documents and not just the ones that have terms from the query\n",
    "            # for doc_id, count in index[q]:\n",
    "            \n",
    "            for doc_id in doc_ids:\n",
    "                count = 0\n",
    "                if doc_id in dict(index[q]):\n",
    "                    count = dict(index[q])[doc_id]\n",
    "                p_q_given_d = count / (doc_lengths[doc_id] + epsilon)\n",
    "                p_q_given_C = num_occurrences_of_q / total_word_occurrences\n",
    "                # document_score[doc_id] *= ((1 - smoothing) * p_q_given_d + smoothing * p_q_given_C)\n",
    "                document_score[doc_id] += np.log((1 - smoothing) * p_q_given_d + smoothing * p_q_given_C)\n",
    "\n",
    "    return sorted(document_score.items(), key=lambda x: x[1], reverse=True)"
   ]
  },
  {
   "cell_type": "code",
   "execution_count": 44,
   "metadata": {
    "deletable": false,
    "editable": false,
    "nbgrader": {
     "cell_type": "code",
     "checksum": "0b12a7f3355193a257fd9f5f69a66562",
     "grade": true,
     "grade_id": "cell-850e9d6369bcec32",
     "locked": true,
     "points": 4,
     "schema_version": 3,
     "solution": false,
     "task": false
    }
   },
   "outputs": [
    {
     "name": "stdout",
     "output_type": "stream",
     "text": [
      "Rank 0(-1.7): A Report Writer For COBOL...\n",
      "Rank 1(-1.7): A CRT Report Generating System...\n",
      "Rank 2(-1.9): Preliminary Report-International Algebraic Languag...\n",
      "Rank 3(-1.9): Supplement to the ALGOL 60 Report...\n",
      "Rank 4(-2.1): Report on the Algorithmic Language ALGOL 60...\n",
      "\n",
      "Rank 0(-1.7e+01): A Report Writer For COBOL...\n",
      "Rank 1(-1.7e+01): A CRT Report Generating System...\n",
      "Rank 2(-1.9e+01): Preliminary Report-International Algebraic Languag...\n",
      "Rank 3(-1.9e+01): Supplement to the ALGOL 60 Report...\n",
      "Rank 4(-2.1e+01): Report on the Algorithmic Language ALGOL 60...\n"
     ]
    }
   ],
   "source": [
    "#### Function check\n",
    "test_ql_results = ql_search(\"report\", index_set=1)[:5]\n",
    "print_results(test_ql_results)\n",
    "print()\n",
    "test_ql_results_long = ql_search(\"report \" * 10, index_set=1)[:5]\n",
    "print_results(test_ql_results_long)\n",
    "####"
   ]
  },
  {
   "cell_type": "code",
   "execution_count": 45,
   "metadata": {
    "deletable": false,
    "editable": false,
    "nbgrader": {
     "cell_type": "code",
     "checksum": "e40be645140389c115849856145f5b59",
     "grade": true,
     "grade_id": "cell-958cdcf6fd6899b7",
     "locked": true,
     "points": 3,
     "schema_version": 3,
     "solution": false,
     "task": false
    }
   },
   "outputs": [],
   "source": [
    "#### Please do not change this. This cell is used for grading."
   ]
  },
  {
   "cell_type": "code",
   "execution_count": 46,
   "metadata": {
    "deletable": false,
    "editable": false,
    "nbgrader": {
     "cell_type": "code",
     "checksum": "41d4aff001df17e7963ba79b45810b30",
     "grade": true,
     "grade_id": "cell-384dc23a0c251f6e",
     "locked": true,
     "points": 4,
     "schema_version": 3,
     "solution": false,
     "task": false
    }
   },
   "outputs": [],
   "source": [
    "#### Please do not change this. This cell is used for grading."
   ]
  },
  {
   "cell_type": "code",
   "execution_count": 47,
   "metadata": {
    "deletable": false,
    "editable": false,
    "nbgrader": {
     "cell_type": "code",
     "checksum": "893e8c5a073abc8ebb763d267b91bc02",
     "grade": true,
     "grade_id": "cell-7218966cba5097cc",
     "locked": true,
     "points": 4,
     "schema_version": 3,
     "solution": false,
     "task": false
    }
   },
   "outputs": [],
   "source": [
    "#### Please do not change this. This cell is used for grading."
   ]
  },
  {
   "cell_type": "code",
   "execution_count": 48,
   "metadata": {
    "deletable": false,
    "editable": false,
    "nbgrader": {
     "cell_type": "code",
     "checksum": "f99cb6f8b1f5830aaed8f06712ff846e",
     "grade": true,
     "grade_id": "cell-481ab073259ae53f",
     "locked": true,
     "points": 5,
     "schema_version": 3,
     "solution": false,
     "task": false
    }
   },
   "outputs": [],
   "source": [
    "#### Please do not change this. This cell is used for grading."
   ]
  },
  {
   "cell_type": "markdown",
   "metadata": {
    "deletable": false,
    "editable": false,
    "nbgrader": {
     "cell_type": "markdown",
     "checksum": "c02f14705d679579b1aa9f78f54779d5",
     "grade": false,
     "grade_id": "cell-f44088bfdac1dc90",
     "locked": true,
     "schema_version": 3,
     "solution": false,
     "task": false
    },
    "tags": []
   },
   "source": [
    "--- \n",
    "\n",
    "### Section 3.4: BM25 (20 points) <a class=\"anchor\" id=\"bm25\"></a>\n",
    "\n",
    "In this section, we will implement the BM25 scoring function. \n"
   ]
  },
  {
   "cell_type": "code",
   "execution_count": 49,
   "metadata": {
    "deletable": false,
    "nbgrader": {
     "cell_type": "code",
     "checksum": "e57efe06ea92af1c83784a42eb3d86e0",
     "grade": false,
     "grade_id": "cell-15640fc9b5d00a3c",
     "locked": false,
     "schema_version": 3,
     "solution": true,
     "task": false
    }
   },
   "outputs": [],
   "source": [
    "# TODO: Implement this! (20 points)\n",
    "def bm25_search(query, index_set):\n",
    "    \"\"\"\n",
    "        Perform a search over all documents with the given query using BM25. Use k_1 = 1.5 and b = 0.75\n",
    "        Note #1: You have to use the `get_index` (and `get_doc_lengths`) function created in the previous cells\n",
    "        Note #2: You might have to create some variables beforehand and use them in this function\n",
    "        \n",
    "        Input: \n",
    "            query - a (unprocessed) query\n",
    "            index_set - the index to use\n",
    "        Output: a list of (document_id, score), sorted in descending relevance to the given query \n",
    "    \"\"\"\n",
    "    \n",
    "    index = get_index(index_set)\n",
    "    df = get_df(index_set)\n",
    "    doc_lengths = get_doc_lengths(index_set)\n",
    "    processed_query = preprocess_query(query, index_set)\n",
    "    \n",
    "    # YOUR CODE HERE\n",
    "    # Reference: Sec 7.2.2. from https://ciir.cs.umass.edu/downloads/SEIRiP.pdf\n",
    "    \n",
    "    # define hyperparameters\n",
    "    k_1 = 1.50\n",
    "    b = 0.75\n",
    "    \n",
    "    # compute constants\n",
    "    N = len(doc_lengths)\n",
    "    avdl = np.mean(list(doc_lengths.values()))\n",
    "    epsilon = 0.5\n",
    "    \n",
    "    from collections import defaultdict, OrderedDict\n",
    "    \n",
    "    document_score = defaultdict(lambda: 0.)\n",
    "    for t in processed_query:\n",
    "        if t in index:\n",
    "            for doc_id, tf_td in index[t]:\n",
    "                dl = doc_lengths[doc_id]\n",
    "\n",
    "                # compute K\n",
    "                K = k_1 * ((1 - b) + b * (dl / avdl))\n",
    "\n",
    "                # compute the term\n",
    "                document_score[doc_id] += np.log(N / df[t]) * ((k_1 + 1) * tf_td) / (K + tf_td)\n",
    "    \n",
    "    return sorted(document_score.items(), key=lambda x: x[1], reverse=True)"
   ]
  },
  {
   "cell_type": "code",
   "execution_count": 50,
   "metadata": {
    "deletable": false,
    "editable": false,
    "nbgrader": {
     "cell_type": "code",
     "checksum": "4be9de5d4e94637960d83725422bea6c",
     "grade": true,
     "grade_id": "cell-d10536bca72c74b1",
     "locked": true,
     "points": 3,
     "schema_version": 3,
     "solution": false,
     "task": false
    }
   },
   "outputs": [
    {
     "name": "stdout",
     "output_type": "stream",
     "text": [
      "Rank 0(6.7): A Report Writer For COBOL...\n",
      "Rank 1(6.7): A CRT Report Generating System...\n",
      "Rank 2(6.6): Preliminary Report-International Algebraic Languag...\n",
      "Rank 3(6.6): Supplement to the ALGOL 60 Report...\n",
      "Rank 4(6.5): ALGOL Sub-Committee Report - Extensions...\n"
     ]
    }
   ],
   "source": [
    "#### Function check\n",
    "test_bm25_results = bm25_search(\"report\", index_set=1)[:5]\n",
    "print_results(test_bm25_results)\n",
    "####"
   ]
  },
  {
   "cell_type": "code",
   "execution_count": 51,
   "metadata": {
    "deletable": false,
    "editable": false,
    "nbgrader": {
     "cell_type": "code",
     "checksum": "31b550d6a46ae4f8ede88788799ac2b9",
     "grade": true,
     "grade_id": "cell-60f6ec5052712d79",
     "locked": true,
     "points": 5,
     "schema_version": 3,
     "solution": false,
     "task": false
    }
   },
   "outputs": [],
   "source": [
    "#### Please do not change this. This cell is used for grading."
   ]
  },
  {
   "cell_type": "code",
   "execution_count": 52,
   "metadata": {
    "deletable": false,
    "editable": false,
    "nbgrader": {
     "cell_type": "code",
     "checksum": "3da2ec16bfe781916e71755d65aa2983",
     "grade": true,
     "grade_id": "cell-5d17524043a5abcc",
     "locked": true,
     "points": 5,
     "schema_version": 3,
     "solution": false,
     "task": false
    }
   },
   "outputs": [],
   "source": [
    "#### Please do not change this. This cell is used for grading."
   ]
  },
  {
   "cell_type": "code",
   "execution_count": 53,
   "metadata": {
    "deletable": false,
    "editable": false,
    "nbgrader": {
     "cell_type": "code",
     "checksum": "e7b563d54fa84c20909c0ae107010541",
     "grade": true,
     "grade_id": "cell-ff8e704eda1184e3",
     "locked": true,
     "points": 3,
     "schema_version": 3,
     "solution": false,
     "task": false
    }
   },
   "outputs": [],
   "source": [
    "#### Please do not change this. This cell is used for grading."
   ]
  },
  {
   "cell_type": "code",
   "execution_count": 54,
   "metadata": {
    "deletable": false,
    "editable": false,
    "nbgrader": {
     "cell_type": "code",
     "checksum": "b013f90974b396630a8831d6f1d7e5f7",
     "grade": true,
     "grade_id": "cell-a52310500a2543cb",
     "locked": true,
     "points": 4,
     "schema_version": 3,
     "solution": false,
     "task": false
    }
   },
   "outputs": [],
   "source": [
    "#### Please do not change this. This cell is used for grading."
   ]
  },
  {
   "cell_type": "markdown",
   "metadata": {
    "deletable": false,
    "editable": false,
    "nbgrader": {
     "cell_type": "markdown",
     "checksum": "8fcf67cb7d5e8b26cb9bf1f0aa42c847",
     "grade": false,
     "grade_id": "cell-8b2b412c81d62f2d",
     "locked": true,
     "schema_version": 3,
     "solution": false,
     "task": false
    }
   },
   "source": [
    "\n",
    "---\n",
    "\n",
    "### 3.5. Test Your Functions\n",
    "\n",
    "The widget below allows you to play with the search functions you've written so far. Use this to test your search functions and ensure that they work as expected."
   ]
  },
  {
   "cell_type": "code",
   "execution_count": 55,
   "metadata": {
    "deletable": false,
    "editable": false,
    "nbgrader": {
     "cell_type": "code",
     "checksum": "dfeb204b390acc0794dbdcac92b0cf2c",
     "grade": false,
     "grade_id": "cell-c9c2bb76354e8d97",
     "locked": true,
     "schema_version": 3,
     "solution": false,
     "task": false
    }
   },
   "outputs": [],
   "source": [
    "#### Highlighter function\n",
    "# class for results\n",
    "ResultRow = namedtuple(\"ResultRow\", [\"doc_id\", \"snippet\", \"score\"])\n",
    "# doc_id -> doc\n",
    "docs_by_id = dict((d[0], d[1]) for d in docs)\n",
    "\n",
    "def highlight_text(document, query, tol=17):\n",
    "    import re\n",
    "    tokens = tokenize(query)\n",
    "    regex = \"|\".join(f\"(\\\\b{t}\\\\b)\" for t in tokens)\n",
    "    regex = re.compile(regex, flags=re.IGNORECASE)\n",
    "    output = \"\"\n",
    "    i = 0\n",
    "    for m in regex.finditer(document):\n",
    "        start_idx = max(0, m.start() - tol)\n",
    "        end_idx = min(len(document), m.end() + tol)\n",
    "        output += \"\".join([\"...\",\n",
    "                        document[start_idx:m.start()],\n",
    "                        \"<strong>\",\n",
    "                        document[m.start():m.end()],\n",
    "                        \"</strong>\",\n",
    "                        document[m.end():end_idx],\n",
    "                        \"...\"])\n",
    "    return output.replace(\"\\n\", \" \")\n",
    "\n",
    "\n",
    "def make_results(query, search_fn, index_set):\n",
    "    results = []\n",
    "    for doc_id, score in search_fn(query, index_set):\n",
    "        highlight = highlight_text(docs_by_id[doc_id], query)\n",
    "        if len(highlight.strip()) == 0:\n",
    "            highlight = docs_by_id[doc_id]\n",
    "        results.append(ResultRow(doc_id, highlight, score))\n",
    "    return results\n",
    "####"
   ]
  },
  {
   "cell_type": "code",
   "execution_count": 56,
   "metadata": {},
   "outputs": [
    {
     "data": {
      "application/vnd.jupyter.widget-view+json": {
       "model_id": "01ab88ee564d4344bb058bd768d6edd8",
       "version_major": 2,
       "version_minor": 0
      },
      "text/plain": [
       "Text(value='', description='Search Bar')"
      ]
     },
     "metadata": {},
     "output_type": "display_data"
    }
   ],
   "source": [
    "# TODO: Set this to the function you want to test!\n",
    "# this function should take in a query (string)\n",
    "# and return a sorted list of (doc_id, score) \n",
    "# with the most relevant document in the first position\n",
    "search_fn = bm25_search\n",
    "index_set = 1\n",
    "\n",
    "text = widgets.Text(description=\"Search Bar\", width=200)\n",
    "display(text)\n",
    "\n",
    "def handle_submit(sender):\n",
    "    print(f\"Searching for: '{sender.value}'\")\n",
    "    \n",
    "    results = make_results(sender.value, search_fn, index_set)\n",
    "    \n",
    "    # display only the top 5\n",
    "    results = results[:5]\n",
    "    \n",
    "    body = \"\"\n",
    "    for idx, r in enumerate(results):\n",
    "        body += f\"<li>Document #{r.doc_id}({r.score}): {r.snippet}</li>\"\n",
    "    display(HTML(f\"<ul>{body}</ul>\"))\n",
    "    \n",
    "\n",
    "text.on_submit(handle_submit)"
   ]
  },
  {
   "cell_type": "markdown",
   "metadata": {
    "deletable": false,
    "editable": false,
    "nbgrader": {
     "cell_type": "markdown",
     "checksum": "019b1ff878dc6339dd068e2d48d19904",
     "grade": false,
     "grade_id": "cell-8d46fe8e4f3d8cdb",
     "locked": true,
     "schema_version": 3,
     "solution": false,
     "task": false
    },
    "tags": []
   },
   "source": [
    "---\n",
    "\n",
    "## Section 4: Evaluation (40 points) <a class=\"anchor\" id=\"evaluation\"></a>\n",
    "\n",
    "[Back to Part 1](#part1)\n",
    "\n",
    "In order to analyze the effectiveness of retrieval algorithms, we first have to learn how to evaluate such a system. In particular, we will work with offline evaluation metrics. These metrics are computed on a dataset with known relevance judgements.\n",
    "\n",
    "Implement the following evaluation metrics. \n",
    "\n",
    "1. Precision (7 points)\n",
    "2. Recall (7 points)\n",
    "3. Mean Average Precision (13 points)\n",
    "4. Expected Reciprocal Rank (13 points)"
   ]
  },
  {
   "cell_type": "markdown",
   "metadata": {
    "deletable": false,
    "editable": false,
    "nbgrader": {
     "cell_type": "markdown",
     "checksum": "e46f54c7f81d88bbc950b0fae14c4ca5",
     "grade": false,
     "grade_id": "cell-3419fd3bc663d7cc",
     "locked": true,
     "schema_version": 3,
     "solution": false,
     "task": false
    }
   },
   "source": [
    "---\n",
    "### 4.1 Read relevance labels\n",
    "\n",
    "Let's take a look at the `qrels.text` file, which contains the ground truth relevance scores. The relevance labels for CACM are binary - either 0 or 1. \n"
   ]
  },
  {
   "cell_type": "code",
   "execution_count": 57,
   "metadata": {
    "deletable": false,
    "editable": false,
    "nbgrader": {
     "cell_type": "code",
     "checksum": "6c11025f5a222796f2882c73c1634799",
     "grade": false,
     "grade_id": "cell-6b738366059dde9e",
     "locked": true,
     "schema_version": 3,
     "solution": false,
     "task": false
    }
   },
   "outputs": [
    {
     "name": "stdout",
     "output_type": "stream",
     "text": [
      "01 1410  0 0\n",
      "01 1572  0 0\n",
      "01 1605  0 0\n",
      "01 2020  0 0\n",
      "01 2358  0 0\n",
      "02 2434  0 0\n",
      "02 2863  0 0\n",
      "02 3078  0 0\n",
      "03 1134  0 0\n",
      "03 1613  0 0\n"
     ]
    }
   ],
   "source": [
    "!head ./datasets/qrels.text"
   ]
  },
  {
   "cell_type": "markdown",
   "metadata": {
    "deletable": false,
    "editable": false,
    "nbgrader": {
     "cell_type": "markdown",
     "checksum": "7ce95245c1597183320d7254afde5c8e",
     "grade": false,
     "grade_id": "cell-10e16bff2753ffbb",
     "locked": true,
     "schema_version": 3,
     "solution": false,
     "task": false
    }
   },
   "source": [
    "---\n",
    "\n",
    "The first column is the query_id and the second column is the document_id. We can safely ignore the 3rd and 4th columns."
   ]
  },
  {
   "cell_type": "code",
   "execution_count": 58,
   "metadata": {
    "deletable": false,
    "nbgrader": {
     "cell_type": "code",
     "checksum": "000c6d59dce08dba0ba1e8d691dbbc2e",
     "grade": false,
     "grade_id": "cell-ee5253a4ef602fce",
     "locked": false,
     "schema_version": 3,
     "solution": true,
     "task": false
    }
   },
   "outputs": [],
   "source": [
    "def read_qrels(root_folder = \"./datasets/\"):\n",
    "    \"\"\"\n",
    "        Reads the qrels.text file. \n",
    "        Output: A dictionary: query_id -> [list of relevant documents]\n",
    "    \"\"\"\n",
    "    with open(os.path.join(root_folder, \"qrels.text\")) as reader:\n",
    "        lines = reader.readlines()\n",
    "    \n",
    "    from collections import defaultdict\n",
    "    relevant_docs = defaultdict(set)\n",
    "    for line in lines:\n",
    "        query_id, doc_id, _, _ = line.split()\n",
    "        relevant_docs[str(int(query_id))].add(doc_id)\n",
    "    return relevant_docs"
   ]
  },
  {
   "cell_type": "code",
   "execution_count": 59,
   "metadata": {
    "deletable": false,
    "editable": false,
    "nbgrader": {
     "cell_type": "code",
     "checksum": "d60caeba85c2a97d2211184a5ae91fd1",
     "grade": false,
     "grade_id": "cell-72215605fbe24f65",
     "locked": true,
     "schema_version": 3,
     "solution": false,
     "task": false
    }
   },
   "outputs": [],
   "source": [
    "#### Function check\n",
    "qrels = read_qrels()\n",
    "\n",
    "assert len(qrels) == 52, \"There should be 52 queries with relevance judgements\"\n",
    "assert sum(len(j) for j in qrels.values()) == 796, \"There should be a total of 796 Relevance Judgements\"\n",
    "\n",
    "assert np.min(np.array([len(j) for j in qrels.values()])) == 1\n",
    "assert np.max(np.array([len(j) for j in qrels.values()])) == 51\n",
    "\n",
    "####"
   ]
  },
  {
   "cell_type": "markdown",
   "metadata": {
    "deletable": false,
    "editable": false,
    "nbgrader": {
     "cell_type": "markdown",
     "checksum": "6c9e7428a52e291a2cdf92a379730d4c",
     "grade": false,
     "grade_id": "cell-176a6fb2939d0420",
     "locked": true,
     "schema_version": 3,
     "solution": false,
     "task": false
    }
   },
   "source": [
    "---\n",
    "**Note:** For a given query `query_id`, you can assume that documents *not* in `qrels[query_id]` are not relevant to `query_id`. \n"
   ]
  },
  {
   "cell_type": "markdown",
   "metadata": {
    "deletable": false,
    "editable": false,
    "nbgrader": {
     "cell_type": "markdown",
     "checksum": "b26a818c7b4f7ad490e00b35ea0edd69",
     "grade": false,
     "grade_id": "cell-bd8341b72cdd89bb",
     "locked": true,
     "schema_version": 3,
     "solution": false,
     "task": false
    }
   },
   "source": [
    "---\n",
    "### 4.2 Precision (7 points)\n",
    "Implement the `precision@k` metric:"
   ]
  },
  {
   "cell_type": "code",
   "execution_count": 60,
   "metadata": {
    "deletable": false,
    "nbgrader": {
     "cell_type": "code",
     "checksum": "43dea1979ebdec24ffcfeff71c670433",
     "grade": false,
     "grade_id": "cell-494bd0cce108ed67",
     "locked": false,
     "schema_version": 3,
     "solution": true,
     "task": false
    }
   },
   "outputs": [],
   "source": [
    "# TODO: Implement this! (7 points)\n",
    "def precision_k(results, relevant_docs, k):\n",
    "    \"\"\"\n",
    "        Compute Precision@K\n",
    "        Input: \n",
    "            results: A sorted list of 2-tuples (document_id, score), \n",
    "                    with the most relevant document in the first position\n",
    "            relevant_docs: A set of relevant documents. \n",
    "            k: the cut-off\n",
    "        Output: Precision@K\n",
    "    \"\"\"\n",
    "    if k > len(results):\n",
    "        k = len(results)\n",
    "    \n",
    "    # YOUR CODE HERE\n",
    "    \n",
    "    # get top-k predicted document IDs\n",
    "    k_results = np.array([results[x][0] for x in range(k)])\n",
    "    relevant_docs = np.array(list(relevant_docs))\n",
    "    \n",
    "    # compute number of relevant documents in k\n",
    "    num_rel_at_k = np.sum(np.isin(k_results, relevant_docs))\n",
    "    \n",
    "    # return precision@k\n",
    "    precision_at_k = num_rel_at_k / k\n",
    "    \n",
    "    return precision_at_k"
   ]
  },
  {
   "cell_type": "code",
   "execution_count": 61,
   "metadata": {
    "deletable": false,
    "editable": false,
    "nbgrader": {
     "cell_type": "code",
     "checksum": "9222e35582b1840ffb60fd02fb0b60c3",
     "grade": true,
     "grade_id": "cell-e7ff0d91c319ca64",
     "locked": true,
     "points": 7,
     "schema_version": 3,
     "solution": false,
     "task": false
    }
   },
   "outputs": [
    {
     "name": "stdout",
     "output_type": "stream",
     "text": [
      "query: What articles exist which deal with TSS (Time Sharing System), an\n",
      "operating system for IBM computers?\n",
      "precision@10 = 0.2\n"
     ]
    }
   ],
   "source": [
    "\n",
    "#### Function check\n",
    "qid = queries[0][0]\n",
    "qtext = queries[0][1]\n",
    "print(f'query:{qtext}')\n",
    "results = bm25_search(qtext, 2)\n",
    "precision = precision_k(results, qrels[qid], 10)\n",
    "print(f'precision@10 = {precision}')\n",
    "####"
   ]
  },
  {
   "cell_type": "markdown",
   "metadata": {
    "deletable": false,
    "editable": false,
    "nbgrader": {
     "cell_type": "markdown",
     "checksum": "8fd3b3998197c7097a40348500affb68",
     "grade": false,
     "grade_id": "cell-afd95f865bc7191e",
     "locked": true,
     "schema_version": 3,
     "solution": false,
     "task": false
    }
   },
   "source": [
    "---\n",
    "### 4.3 Recall (7 points)\n",
    "Implement the `recall@k` metric:"
   ]
  },
  {
   "cell_type": "code",
   "execution_count": 62,
   "metadata": {
    "deletable": false,
    "nbgrader": {
     "cell_type": "code",
     "checksum": "b2020e5741ae03b3fe35817ed8f4ccaa",
     "grade": false,
     "grade_id": "cell-c323fc8c3f8a7cf8",
     "locked": false,
     "schema_version": 3,
     "solution": true,
     "task": false
    }
   },
   "outputs": [],
   "source": [
    "# TODO: Implement this! (7 points)\n",
    "def recall_k(results, relevant_docs, k):\n",
    "    \"\"\"\n",
    "        Compute Recall@K\n",
    "        Input: \n",
    "            results: A sorted list of 2-tuples (document_id, score), with the most relevant document in the first position\n",
    "            relevant_docs: A set of relevant documents. \n",
    "            k: the cut-off\n",
    "        Output: Recall@K\n",
    "    \"\"\"\n",
    "    # YOUR CODE HERE\n",
    "    # import ipdb; ipdb.set_trace()\n",
    "    \n",
    "    # set boundary condition on k\n",
    "    k = min(k, len(results))\n",
    "\n",
    "    # get top-k predicted document IDs\n",
    "    k_results = np.array([results[x][0] for x in range(k)])\n",
    "    relevant_docs = np.array(list(relevant_docs))\n",
    "    \n",
    "    # compute number of relevant documents in k\n",
    "    num_rel_at_k = np.sum(np.isin(k_results, relevant_docs))\n",
    "    \n",
    "    # return recall@k\n",
    "    recall_at_k = num_rel_at_k / len(relevant_docs)\n",
    "    \n",
    "    return recall_at_k"
   ]
  },
  {
   "cell_type": "code",
   "execution_count": 63,
   "metadata": {
    "deletable": false,
    "editable": false,
    "nbgrader": {
     "cell_type": "code",
     "checksum": "56b6e0b8522f8b2dffbfb3206b2efa84",
     "grade": true,
     "grade_id": "cell-b25172161aef165c",
     "locked": true,
     "points": 7,
     "schema_version": 3,
     "solution": false,
     "task": false
    }
   },
   "outputs": [
    {
     "name": "stdout",
     "output_type": "stream",
     "text": [
      "query: SETL, Very High Level Languages\n",
      "recall@10 = 0.3157894736842105\n"
     ]
    }
   ],
   "source": [
    "#### Function check\n",
    "qid = queries[10][0]\n",
    "qtext = queries[10][1]\n",
    "print(f'query:{qtext}')\n",
    "results = bm25_search(qtext, 2)\n",
    "recall = recall_k(results, qrels[qid], 10)\n",
    "print(f'recall@10 = {recall}')\n",
    "####"
   ]
  },
  {
   "cell_type": "markdown",
   "metadata": {
    "deletable": false,
    "editable": false,
    "nbgrader": {
     "cell_type": "markdown",
     "checksum": "b3d3c7bd1cd977cd07ef5df7d3fbf159",
     "grade": false,
     "grade_id": "cell-77fd2e7a39a74739",
     "locked": true,
     "schema_version": 3,
     "solution": false,
     "task": false
    }
   },
   "source": [
    "---\n",
    "### 4.4 Mean Average Precision (13 points)\n",
    "Implement the `map` metric:"
   ]
  },
  {
   "cell_type": "code",
   "execution_count": 64,
   "metadata": {
    "deletable": false,
    "nbgrader": {
     "cell_type": "code",
     "checksum": "aae2c62f2ffd76f5b6c004e9519b9f14",
     "grade": false,
     "grade_id": "cell-e50925fa9093a30d",
     "locked": false,
     "schema_version": 3,
     "solution": true,
     "task": false
    }
   },
   "outputs": [],
   "source": [
    "# TODO: Implement this! (12 points)\n",
    "def average_precision(results, relevant_docs):\n",
    "    \"\"\"\n",
    "        Compute Average Precision (for a single query - the results are \n",
    "        averaged across queries to get MAP in the next few cells)\n",
    "        Hint: You can use the recall_k and precision_k functions here!\n",
    "        Input: \n",
    "            results: A sorted list of 2-tuples (document_id, score), with the most \n",
    "                    relevant document in the first position\n",
    "            relevant_docs: A set of relevant documents. \n",
    "        Output: Average Precision\n",
    "    \"\"\"\n",
    "    # YOUR CODE HERE\n",
    "    \n",
    "    # find k's with a relevant results\n",
    "    ks = [k+1 for k in range(len(results)) if results[k][0] in relevant_docs]\n",
    "    \n",
    "    AP = 0.0\n",
    "    for k in ks:\n",
    "        precision_at_k = precision_k(results, relevant_docs, k)\n",
    "        AP += precision_at_k\n",
    "    \n",
    "    # cannot divide when no relavtn documents are present\n",
    "    # if len(relevant_docs) > 0:\n",
    "    #     AP /= len(relevant_docs)\n",
    "    if len(ks) > 0:\n",
    "        AP /= len(ks)\n",
    "    \n",
    "    return AP"
   ]
  },
  {
   "cell_type": "code",
   "execution_count": 65,
   "metadata": {
    "deletable": false,
    "editable": false,
    "nbgrader": {
     "cell_type": "code",
     "checksum": "3b00e147c2fa146fa59f179b7c9cab75",
     "grade": true,
     "grade_id": "cell-8a1f7ec98571e58b",
     "locked": true,
     "points": 13,
     "schema_version": 3,
     "solution": false,
     "task": false
    }
   },
   "outputs": [
    {
     "name": "stdout",
     "output_type": "stream",
     "text": [
      "query: computational complexity, intractability, class-complete reductions,\n",
      "algorithms and efficiency\n",
      "MAP = 0.17240404110559454\n"
     ]
    }
   ],
   "source": [
    "#### Function check\n",
    "qid = queries[20][0]\n",
    "qtext = queries[20][1]\n",
    "print(f'query:{qtext}')\n",
    "results = bm25_search(qtext, 2)\n",
    "mean_ap = average_precision(results, qrels[qid])\n",
    "print(f'MAP = {mean_ap}')\n",
    "####"
   ]
  },
  {
   "cell_type": "markdown",
   "metadata": {
    "deletable": false,
    "editable": false,
    "nbgrader": {
     "cell_type": "markdown",
     "checksum": "36f85f45ef52d9467ba9a717d6d99ff2",
     "grade": false,
     "grade_id": "cell-1da18f0fe6f6d7be",
     "locked": true,
     "schema_version": 3,
     "solution": false,
     "task": false
    }
   },
   "source": [
    "---\n",
    "### 4.5 Expected Reciprocal Rank (13 points)\n",
    "Implement the `err` metric:"
   ]
  },
  {
   "cell_type": "markdown",
   "metadata": {},
   "source": [
    "Mapping of relevance grade to relevance probability:\n",
    "\n",
    "$$\n",
    "\\mathcal{R}(g) = \\frac{2^{g} - 1}{2^{g_{\\text{max}}}}, g \\in \\{0, 1, .., g_{\\text{max}}\\}\n",
    "$$\n",
    "\n",
    "Definition of ERR:\n",
    "\n",
    "$$\n",
    "ERR = \\sum_{r = 1}^{n}\\frac{1}{r}\\prod_{i=1}^{r-1}(1 - R_{i})R_{r}\n",
    "$$"
   ]
  },
  {
   "cell_type": "code",
   "execution_count": 66,
   "metadata": {
    "deletable": false,
    "nbgrader": {
     "cell_type": "code",
     "checksum": "9ac94db728e23ea1f5dc0d509473c6fb",
     "grade": false,
     "grade_id": "cell-64262889f9b267ea",
     "locked": false,
     "schema_version": 3,
     "solution": true,
     "task": false
    }
   },
   "outputs": [],
   "source": [
    "# TODO: Implement this! (12 points)\n",
    "def err(results, relevant_docs):\n",
    "    \"\"\"\n",
    "        Compute the expected reciprocal rank.\n",
    "        Hint: https://dl.acm.org/doi/pdf/10.1145/1645953.1646033?download=true\n",
    "        Input: \n",
    "            results: A sorted list of 2-tuples (document_id, score), with the most \n",
    "                    relevant document in the first position\n",
    "            relevant_docs: A set of relevant documents. \n",
    "        Output: ERR\n",
    "        \n",
    "    \"\"\"\n",
    "    # YOUR CODE HERE\n",
    "    \n",
    "    \"\"\"\n",
    "    Explanation: Based on Sec 4 of https://dl.acm.org/doi/pdf/10.1145/1645953.1646033\n",
    "    \n",
    "    Notation:\n",
    "        - n: number of documents in the ranking\n",
    "        - R_{i}: \\mathcal{R}(g_{i}), mapping of relevance grade $g_{i}$ to probability of relevance \\\n",
    "                 in this case, it is simply based on DCG\n",
    "                 $$\n",
    "                 \\mathcal{R}(g) = \\frac{2^{g} - 1}{2^{g_{\\text{max}}}}, g \\in \\{0, 1, .., g_{\\text{max}}\\}\n",
    "                 $$\n",
    "    Formula:\n",
    "        $$\n",
    "        ERR = \\sum_{r = 1}^{n}\\frac{1}{r}\\prod_{i=1}^{r-1}(1 - R_{i})R_{r}\n",
    "        $$\n",
    "    \"\"\"\n",
    "    n = len(results)\n",
    "    grade_to_prob = lambda x: (2 ** x - 1) / (2 ** 1)\n",
    "    \n",
    "    err_score = 0.0\n",
    "    p = 1.0\n",
    "    for r in range(1, n + 1):\n",
    "        doc_id, score = results[r - 1]\n",
    "        \n",
    "        R = grade_to_prob(int(doc_id in relevant_docs))\n",
    "        err_score += (p * R / r)\n",
    "        p *= (1 - R)\n",
    "    \n",
    "    return err_score"
   ]
  },
  {
   "cell_type": "code",
   "execution_count": 67,
   "metadata": {
    "deletable": false,
    "editable": false,
    "nbgrader": {
     "cell_type": "code",
     "checksum": "b7d201de0990b69d5f38704668665d87",
     "grade": true,
     "grade_id": "cell-071e3970ff1afae4",
     "locked": true,
     "points": 13,
     "schema_version": 3,
     "solution": false,
     "task": false
    }
   },
   "outputs": [
    {
     "name": "stdout",
     "output_type": "stream",
     "text": [
      "query: I'd like to find articles describing the use of singular value decomposition\n",
      "in digital image processing.  Applications include finding approximations\n",
      "to the original image and restoring images that are subject to noise. An\n",
      "article on the subject is H.C. Andrews and C.L. Patterson \"Outer product\n",
      "expansions and their uses in digital image processing\", American Mathematical\n",
      "Monthly, vol. 82.\n",
      "ERR = 0.625\n"
     ]
    }
   ],
   "source": [
    "#### Function check\n",
    "qid = queries[30][0]\n",
    "qtext = queries[30][1]\n",
    "print(f'query:{qtext}')\n",
    "results = bm25_search(qtext, 2)\n",
    "ERR = err(results, qrels[qid])\n",
    "print(f'ERR = {ERR}')\n",
    "####"
   ]
  },
  {
   "cell_type": "markdown",
   "metadata": {
    "deletable": false,
    "editable": false,
    "nbgrader": {
     "cell_type": "markdown",
     "checksum": "5bd94caf77cfa5f34675df758d91002d",
     "grade": false,
     "grade_id": "cell-43709a765f353946",
     "locked": true,
     "schema_version": 3,
     "solution": false,
     "task": false
    }
   },
   "source": [
    "---\n",
    "### 4.6 Evaluate Search Functions\n",
    "\n",
    "Let's define some metrics@k using [partial functions](https://docs.python.org/3/library/functools.html#functools.partial)"
   ]
  },
  {
   "cell_type": "code",
   "execution_count": 69,
   "metadata": {
    "deletable": false,
    "editable": false,
    "nbgrader": {
     "cell_type": "code",
     "checksum": "49ccc158e5fb7340ace55e90eeb9d62a",
     "grade": false,
     "grade_id": "cell-dab560e18e340da8",
     "locked": true,
     "schema_version": 3,
     "solution": false,
     "task": false
    }
   },
   "outputs": [],
   "source": [
    "#### metrics@k functions\n",
    "\n",
    "recall_at_1 = partial(recall_k, k=1)\n",
    "recall_at_5 = partial(recall_k, k=5)\n",
    "recall_at_10 = partial(recall_k, k=10)\n",
    "precision_at_1 = partial(precision_k, k=1)\n",
    "precision_at_5 = partial(precision_k, k=5)\n",
    "precision_at_10 = partial(precision_k, k=10)\n",
    "\n",
    "\n",
    "list_of_metrics = [\n",
    "    (\"ERR\", err),\n",
    "    (\"MAP\", average_precision),\n",
    "    (\"Recall@1\",recall_at_1),\n",
    "    (\"Recall@5\", recall_at_5),\n",
    "    (\"Recall@10\", recall_at_10),\n",
    "    (\"Precision@1\", precision_at_1),\n",
    "    (\"Precision@5\", precision_at_5),\n",
    "    (\"Precision@10\", precision_at_10)]\n",
    "####"
   ]
  },
  {
   "cell_type": "markdown",
   "metadata": {
    "deletable": false,
    "editable": false,
    "nbgrader": {
     "cell_type": "markdown",
     "checksum": "fb541002c03221b453b8936290020ea5",
     "grade": false,
     "grade_id": "cell-580a2bdc66d03b47",
     "locked": true,
     "schema_version": 3,
     "solution": false,
     "task": false
    }
   },
   "source": [
    "---\n",
    "\n",
    "The following function evaluates a `search_fn` using the `metric_fn`. Note that the final number is averaged over all the queries"
   ]
  },
  {
   "cell_type": "code",
   "execution_count": 70,
   "metadata": {},
   "outputs": [],
   "source": [
    "#### Evaluate a search function\n",
    "\n",
    "list_of_search_fns = [\n",
    "    (\"BOW\", bow_search),\n",
    "    (\"TF-IDF\", tfidf_search),\n",
    "    (\"NaiveQL\", naive_ql_search),\n",
    "    (\"QL\", ql_search),\n",
    "    (\"BM25\", bm25_search)\n",
    "]\n",
    "\n",
    "def evaluate_search_fn(search_fn, metric_fns, index_set=None):\n",
    "    # build a dict query_id -> query \n",
    "    queries_by_id = dict((q[0], q[1]) for q in queries)\n",
    "    \n",
    "    metrics = {}\n",
    "    for metric, metric_fn in metric_fns:\n",
    "        metrics[metric] = np.zeros(len(qrels), dtype=np.float32)\n",
    "    \n",
    "    for i, (query_id, relevant_docs) in enumerate(qrels.items()):\n",
    "        query = queries_by_id[query_id]\n",
    "        if index_set:\n",
    "            results = search_fn(query, index_set)\n",
    "        else:\n",
    "            results = search_fn(query)\n",
    "        \n",
    "        for metric, metric_fn in metric_fns:\n",
    "            metrics[metric][i] = metric_fn(results, relevant_docs)\n",
    "    \n",
    "    final_dict = {}\n",
    "    for metric, metric_vals in metrics.items():\n",
    "        final_dict[metric] = metric_vals.mean()\n",
    "    \n",
    "    return final_dict\n",
    "####"
   ]
  },
  {
   "cell_type": "markdown",
   "metadata": {
    "deletable": false,
    "editable": false,
    "nbgrader": {
     "cell_type": "markdown",
     "checksum": "6ea67534f74a8f81e1f504794f641709",
     "grade": false,
     "grade_id": "cell-b156d83a0649cbb4",
     "locked": true,
     "schema_version": 3,
     "solution": false,
     "task": false
    }
   },
   "source": [
    "## Section 5: Analysis (30 points) <a class=\"anchor\" id=\"analysis\"></a>\n",
    "\n",
    "[Back to Part 1](#part1)\n",
    "\n",
    "In the final section of Part1, we will compare the different term-based IR algorithms and different preprocessing configurations and analyze their advantages and disadvantages.\n",
    "\n",
    "### Section 5.1: Plot (20 points)\n",
    "\n",
    "First, gather the results. The results should consider the index set, the different search functions and different metrics. Plot the results in bar charts, per metric, with clear labels.\n",
    "\n",
    "**Rubric:**\n",
    "- Each Metric is plotted: 7 points\n",
    "- Each Method is plotted: 7 points\n",
    "- Clear titles, x label, y labels and legends (if applicable): 6 points"
   ]
  },
  {
   "cell_type": "code",
   "execution_count": 71,
   "metadata": {
    "deletable": false,
    "nbgrader": {
     "cell_type": "code",
     "checksum": "7e2588a925d13ddf588abe8311dc9cfc",
     "grade": true,
     "grade_id": "cell-46fda42a25863a04",
     "locked": false,
     "points": 20,
     "schema_version": 3,
     "solution": true,
     "task": false
    }
   },
   "outputs": [
    {
     "data": {
      "image/png": "[encoded data removed]",
      "text/plain": [
       "<Figure size 1152x648 with 8 Axes>"
      ]
     },
     "metadata": {
      "needs_background": "light"
     },
     "output_type": "display_data"
    }
   ],
   "source": [
    "# YOUR CODE HERE\n",
    "\n",
    "# results for index_set=1\n",
    "results_1 = dict()\n",
    "for method_name, method_fn in list_of_search_fns:\n",
    "    results_1[method_name] = evaluate_search_fn(method_fn, list_of_metrics, index_set=1)\n",
    "\n",
    "# results for index_set=2\n",
    "results_2 = dict()\n",
    "for method_name, method_fn in list_of_search_fns:\n",
    "    results_2[method_name] = evaluate_search_fn(method_fn, list_of_metrics, index_set=2)\n",
    "\n",
    "\n",
    "# plot results\n",
    "nrows, ncols = 2, len(list_of_metrics) // 2\n",
    "fig, axes = plt.subplots(nrows, ncols, figsize=(4 * len(list_of_metrics) // 2, 4 * 2 + 1), constrained_layout=True)\n",
    "\n",
    "for i in range(nrows):\n",
    "    for j in range(ncols):\n",
    "        idx = i * ncols + j\n",
    "        ax = axes[i][j]\n",
    "        \n",
    "        metric = list_of_metrics[idx][0]\n",
    "\n",
    "        ax.grid(axis=\"y\")\n",
    "\n",
    "        methods_names = list(results_1.keys())\n",
    "        x = np.arange(len(methods_names))\n",
    "        width = 0.3\n",
    "\n",
    "        methods_values_1 = [results_1[method][metric] for method in results_1]\n",
    "        methods_values_2 = [results_2[method][metric] for method in results_2]\n",
    "\n",
    "        ax.bar(x=x, height=methods_values_1, width=width, label=\"Index set: 1\")\n",
    "        ax.bar(x=x + width, height=methods_values_2, width=width, label=\"Index set: 2\")\n",
    "\n",
    "        ax.set_xticks(x + width / 2)\n",
    "        ax.set_xticklabels(methods_names, fontsize=13, rotation=90)\n",
    "        ax.set_xlabel(\"Search functions\", fontsize=13)\n",
    "        ax.set_ylabel(metric, fontsize=13)\n",
    "        \n",
    "        ax.legend(fontsize=13)\n",
    "\n",
    "plt.suptitle(\n",
    "    \"Evaluation of term-based retrieval methods\",\n",
    "    fontsize=20,\n",
    "    y=1.05,\n",
    ")\n",
    "plt.show()"
   ]
  },
  {
   "cell_type": "markdown",
   "metadata": {
    "deletable": false,
    "editable": false,
    "nbgrader": {
     "cell_type": "markdown",
     "checksum": "e88c444a0acf4e398c65e289169b75f7",
     "grade": false,
     "grade_id": "cell-8aabe3bcf265deb0",
     "locked": true,
     "points": 10,
     "schema_version": 3,
     "solution": false,
     "task": true
    }
   },
   "source": [
    "---\n",
    "### Section 5.2: Summary (10 points)\n",
    "Write a summary of what you observe in the results.\n",
    "Your summary should compare results across the 2 indices and the methods being used. State what you expected to see in the results, followed by either supporting evidence *or* justify why the results did not support your expectations.      "
   ]
  },
  {
   "cell_type": "markdown",
   "metadata": {},
   "source": [
    "1. By comparing the two indices, we observe that using index set 2 vastly improves performance for all retrieval algorithms and across all metrics. This indicates that stemming and stopword removal are two very beneficial text-preprocessing steps.\n",
    "\n",
    "2. By comparing the five algorithms, we observe that BM25 outperforms all methods, followed by the TF-IDF and QL methods. The two methods are almost on par, with TF-IDF having slightly better performance in Recall@$k$ and Precision@$k$ for $k = 1$ and QL having a slightly better performance for $k \\geq 5$. This possibly suggests that TF-IDF is superior in finding the most relevant document and QL is better at finding a larger set of relevant documents. Finally, BOW and Naive QL both achieve very low performance compared to all the aforementioned algorithms. Regarding BOW, a possible explanation would be its ignorance of how common a word is among documents, while for QL it would be its negligence of any document missing a word from the query."
   ]
  },
  {
   "cell_type": "markdown",
   "metadata": {
    "deletable": false,
    "editable": false,
    "nbgrader": {
     "cell_type": "markdown",
     "checksum": "b3eb77be74eecca205fc7b47316d1627",
     "grade": false,
     "grade_id": "cell-bb60dd5c092d0f2e",
     "locked": true,
     "schema_version": 3,
     "solution": false,
     "task": false
    }
   },
   "source": [
    "---\n",
    "---\n",
    "# Part 2: Semantic-based Matching (85 points) <a class=\"anchor\" id=\"part2\"></a>\n",
    "\n",
    "[Back to top](#top)\n",
    "\n",
    "We will now experiment with methods that go beyond lexical methods like TF-IDF, which operate at the word level and are high dimensional and sparse, and look at methods which constructs low dimensional dense representations of queries and documents. \n",
    "\n",
    "Since these low-dimensional methods have a higher time complexity, they are typically used in conjunction with methods like BM-25. That is, instead of searching through potentially million documents to find matches using low dimensional vectors, a list of K documents are retrieved using BM25, and then **re-ranked** using the other method. This is the method that is going to be applied in the following exercises. \n",
    "\n",
    "LSI/LDA takes documents that are similar on a semantic level - for instance, if they are describing the same topic - and projects them into nearby vectors, despite having low lexical overlap.\n",
    "\n",
    "In this assignment, you will use `gensim` to create LSI/LDA models and use them in re-ranking. \n",
    "\n",
    "**Note**: The following exercises only uses `doc_repr_2` and `config_2`\n",
    "\n",
    "Table of contents:\n",
    "- [Section 6: LSI](#lsi) (15 points)\n",
    "- [Section 7: LDA](#lda) (10 points)\n",
    "- [Section 8: Word2Vec/Doc2Vec](#2vec) (20 points)\n",
    "- [Section 8: Re-ranking](#reranking) (10 points)\n",
    "- [Section 9: Re-ranking Evaluation](#reranking_eval) (30 points)"
   ]
  },
  {
   "cell_type": "markdown",
   "metadata": {
    "deletable": false,
    "editable": false,
    "nbgrader": {
     "cell_type": "markdown",
     "checksum": "f7c7b2cab82f576ed0acf836ca57171c",
     "grade": false,
     "grade_id": "cell-6b2c81e7a8abd180",
     "locked": true,
     "schema_version": 3,
     "solution": false,
     "task": false
    }
   },
   "source": [
    "---\n",
    "## Section 6: Latent Semantic Indexing (LSI) (15 points) <a class=\"anchor\" id=\"lsi\"></a>\n",
    "\n",
    "[Back to Part 2](#part2)\n",
    "\n",
    "LSI is one of the methods to embed the queries and documents into vectors. It is based on a method similar to Principal Component Analysis (PCA) for obtaining a dense concept matrix out of the sparse term-document matrix.\n",
    "\n",
    "See [wikipedia](https://en.wikipedia.org/wiki/Latent_semantic_analysis), particularly [#Mathematics_of_LSI](https://en.wikipedia.org/wiki/Latent_semantic_analysis#Mathematics_of_LSI)."
   ]
  },
  {
   "cell_type": "code",
   "execution_count": 72,
   "metadata": {
    "deletable": false,
    "editable": false,
    "nbgrader": {
     "cell_type": "code",
     "checksum": "c17ee75319cb517e2bf48ec3d9efc329",
     "grade": false,
     "grade_id": "cell-59913daee47f680d",
     "locked": true,
     "schema_version": 3,
     "solution": false,
     "task": false
    }
   },
   "outputs": [],
   "source": [
    "from gensim.corpora import Dictionary\n",
    "from gensim.models import LdaModel, LsiModel, Word2Vec\n",
    "from gensim.models.doc2vec import Doc2Vec, TaggedDocument\n",
    "from gensim import downloader as g_downloader\n",
    "# gensim uses logging, so set it up \n",
    "import logging\n",
    "logging.basicConfig(format='%(asctime)s : %(levelname)s : %(message)s', level=logging.INFO)"
   ]
  },
  {
   "cell_type": "markdown",
   "metadata": {
    "deletable": false,
    "editable": false,
    "nbgrader": {
     "cell_type": "markdown",
     "checksum": "5fce140c546759b54a9fc060901ae77c",
     "grade": false,
     "grade_id": "cell-3644faff4976598a",
     "locked": true,
     "schema_version": 3,
     "solution": false,
     "task": false
    }
   },
   "source": [
    "---\n",
    "### Section 6.1: Cosine Similarity (5 points)<a class=\"anchor\" id=\"cosing_sim\"></a>\n",
    "Before we begin, let us first define our method of similarity for the LSI model, the cosine similarity:\n",
    "\n",
    "$$\\text{similarity} = \\cos(\\theta) = {\\mathbf{A} \\cdot \\mathbf{B} \\over \\|\\mathbf{A}\\| \\|\\mathbf{B}\\|} = \\frac{ \\sum\\limits_{i=1}^{n}{A_i  B_i} }{ \\sqrt{\\sum\\limits_{i=1}^{n}{A_i^2}}  \\sqrt{\\sum\\limits_{i=1}^{n}{B_i^2}} }$$\n",
    "\n",
    "Since we are using gensim, the types of vectors returned by their classes are of the form defined below (they are not just simple vectors):"
   ]
  },
  {
   "cell_type": "code",
   "execution_count": 73,
   "metadata": {
    "deletable": false,
    "editable": false,
    "nbgrader": {
     "cell_type": "code",
     "checksum": "4e340e1a1d546f430c018fd0760e707a",
     "grade": false,
     "grade_id": "cell-3995a50f951314d5",
     "locked": true,
     "schema_version": 3,
     "solution": false,
     "task": false
    }
   },
   "outputs": [],
   "source": [
    "# 1, 2, 3 are either latent dimensions (LSI), or topics (LDA)\n",
    "# The second value in each tuple is a number (LSI) or a probability (LDA)  \n",
    "example_vec_1 = [(1, 0.2), (2, 0.3), (3, 0.4)]\n",
    "example_vec_2 = [(1, 0.2), (2, 0.7), (3, 0.4)]"
   ]
  },
  {
   "cell_type": "markdown",
   "metadata": {
    "deletable": false,
    "editable": false,
    "nbgrader": {
     "cell_type": "markdown",
     "checksum": "20832fd4f579f49ae204b0efee02edd1",
     "grade": false,
     "grade_id": "cell-5e54d581858dc8f7",
     "locked": true,
     "schema_version": 3,
     "solution": false,
     "task": false
    }
   },
   "source": [
    "---\n",
    "**Implementation (2+3 points):**\n",
    "Now, implement the `dot product` operation on these types of vectors and using this operator, implement the `cosine similarity` (don't forget: two functions to implement!):"
   ]
  },
  {
   "cell_type": "code",
   "execution_count": 74,
   "metadata": {
    "deletable": false,
    "nbgrader": {
     "cell_type": "code",
     "checksum": "06a712ee75fc213a21c5f0067fd8fe28",
     "grade": false,
     "grade_id": "cell-0e8189f5f93de33f",
     "locked": false,
     "schema_version": 3,
     "solution": true,
     "task": false
    }
   },
   "outputs": [],
   "source": [
    "# TODO: Implement this! (2 points)\n",
    "def dot(vec_1,vec_2): \n",
    "    \"\"\"\n",
    "        vec_1 and vec_2 are of the form: [(int, float), (int, float), ...]\n",
    "        Return the dot product of two such vectors, computed only on the floats\n",
    "        You can assume that the lengths of the vectors are the same, and the dimensions are aligned \n",
    "            i.e you won't get: vec_1 = [(1, 0.2)] ; vec_2 = [(2, 0.3)] \n",
    "                                (dimensions are unaligned and lengths are different)\n",
    "    \"\"\"\n",
    "    # YOUR CODE HERE\n",
    "    return np.sum([x[1] * y[1] for (x, y) in zip(vec_1, vec_2)])\n",
    "\n",
    "\n",
    "# TODO: Implement this! (3 points)\n",
    "def cosine_sim(vec_1, vec_2):\n",
    "    # YOUR CODE HERE\n",
    "    \n",
    "    # corner case\n",
    "    if not vec_1 or not vec_2:\n",
    "        return 0\n",
    "\n",
    "    norm_1 = np.sqrt(dot(vec_1, vec_1))\n",
    "    norm_2 = np.sqrt(dot(vec_2, vec_2))\n",
    "    \n",
    "    return dot(vec_1, vec_2) / (norm_1 * norm_2)"
   ]
  },
  {
   "cell_type": "code",
   "execution_count": 75,
   "metadata": {
    "deletable": false,
    "editable": false,
    "nbgrader": {
     "cell_type": "code",
     "checksum": "d22a4a7325ba7815a808390388f534a1",
     "grade": true,
     "grade_id": "cell-b25d04ed6b79fd35",
     "locked": true,
     "points": 2,
     "schema_version": 3,
     "solution": false,
     "task": false
    }
   },
   "outputs": [
    {
     "name": "stdout",
     "output_type": "stream",
     "text": [
      "vectors: ([(1, 0.2), (2, 0.3), (3, 0.4)], [(1, 0.2), (2, 0.7), (3, 0.4)])\n",
      "dot product = 0.41000000000000003\n",
      "cosine similarity = 0.9165587597202866\n"
     ]
    }
   ],
   "source": [
    "##### Function check\n",
    "print(f'vectors: {(example_vec_1,example_vec_2)}')\n",
    "print(f'dot product = {dot(example_vec_1,example_vec_2)}')\n",
    "print(f'cosine similarity = {cosine_sim(example_vec_1,example_vec_2)}')\n",
    "##### "
   ]
  },
  {
   "cell_type": "code",
   "execution_count": 76,
   "metadata": {
    "deletable": false,
    "editable": false,
    "nbgrader": {
     "cell_type": "code",
     "checksum": "0744131724ce76b1b3f163b4bae5f700",
     "grade": true,
     "grade_id": "cell-ae3c4466866ace77",
     "locked": true,
     "points": 3,
     "schema_version": 3,
     "solution": false,
     "task": false
    }
   },
   "outputs": [],
   "source": [
    "#### Please do not change this. This cell is used for grading."
   ]
  },
  {
   "cell_type": "markdown",
   "metadata": {
    "deletable": false,
    "editable": false,
    "nbgrader": {
     "cell_type": "markdown",
     "checksum": "9b123f599f9ea372d14676e23f1c6a52",
     "grade": false,
     "grade_id": "cell-4b2534067c44fcdf",
     "locked": true,
     "schema_version": 3,
     "solution": false,
     "task": false
    }
   },
   "source": [
    "---\n",
    "### Section 6.2: LSI Retrieval (10 points)<a class=\"anchor\" id=\"lsi_retrieval\"></a>\n",
    "LSI retrieval is simply ranking the documents based on their cosine similarity to the query vector.\n",
    "First, let's write a parent class for vector-based retrieval models:"
   ]
  },
  {
   "cell_type": "code",
   "execution_count": 77,
   "metadata": {
    "deletable": false,
    "editable": false,
    "nbgrader": {
     "cell_type": "code",
     "checksum": "ecc111d58182570e2252b8ef5d6b02af",
     "grade": false,
     "grade_id": "cell-937936cea18711ee",
     "locked": true,
     "schema_version": 3,
     "solution": false,
     "task": false
    }
   },
   "outputs": [],
   "source": [
    "class VectorSpaceRetrievalModel:\n",
    "    \"\"\"\n",
    "        Parent class for Dense Vector Retrieval models\n",
    "    \"\"\"\n",
    "    def __init__(self, doc_repr):\n",
    "        \"\"\"\n",
    "            document_collection: \n",
    "                [\n",
    "                    (doc_id_1, [token 1, token 2, ...]), \n",
    "                    (doc_id_2, [token 1, token 2, ....]) \n",
    "                    ...\n",
    "                ]\n",
    "\n",
    "        \"\"\"\n",
    "        self.doc_repr = doc_repr\n",
    "        self.documents = [_[1] for _ in self.doc_repr]\n",
    "        \n",
    "        # construct a dictionary\n",
    "        self.dictionary = Dictionary(self.documents)\n",
    "        # Filter out words that occur less than 20 documents, or more than 50% of the documents.\n",
    "        self.dictionary.filter_extremes(no_below=10)\n",
    "        self.corpus = [self.dictionary.doc2bow(doc) for doc in self.documents]\n",
    "    \n",
    "        # Make a index to word dictionary.\n",
    "        temp = self.dictionary[0]  # This is only to \"load\" the dictionary.\n",
    "        self.id2word = self.dictionary.id2token\n",
    "        \n",
    "        # this is set by the train_model function\n",
    "        self.model = None\n",
    "        \n",
    "        \n",
    "    def vectorize_documents(self):\n",
    "        \"\"\"\n",
    "            Returns a doc_id -> vector dictionary\n",
    "        \"\"\"\n",
    "        vectors = {}\n",
    "        for (doc_id, _), cc in zip(self.doc_repr, self.corpus):\n",
    "            vectors[doc_id] = self.model[cc]\n",
    "        return vectors\n",
    "\n",
    "    def vectorize_query(self, query):\n",
    "        # Note the use of config_2 here!\n",
    "        query = process_text(query, **config_2)\n",
    "        query_vector = self.dictionary.doc2bow(query)\n",
    "        return self.model[query_vector]\n",
    "    \n",
    "    def train_model(self):\n",
    "        \"\"\"\n",
    "            Trains a model and sets the 'self.model' variable. \n",
    "            Make sure to use the variables created in the __init__ method.\n",
    "            e.g the variables which may be useful: {corpus, dictionary, id2word}\n",
    "        \"\"\"\n",
    "        raise NotImplementedError()"
   ]
  },
  {
   "cell_type": "markdown",
   "metadata": {
    "deletable": false,
    "editable": false,
    "nbgrader": {
     "cell_type": "markdown",
     "checksum": "ff161eefd9b81b768cd6361bc1a502b0",
     "grade": false,
     "grade_id": "cell-704a18c2f80cd60c",
     "locked": true,
     "schema_version": 3,
     "solution": false,
     "task": false
    }
   },
   "source": [
    "---\n",
    "**Implementation (5 points):**\n",
    "Implement the `train_model` method in the following class (note that this is only one line of code in `gensim`!). Ensure that the parameters defined in the `__init__` method are not changed, and are *used in the `train_method` function*. Normally, the hyperaparameter space will be searched using grid search / other methods - in this assignment we have provided the hyperparameters for you.\n",
    "\n",
    "The last two lines of code train an LSI model on the list of documents which have been stemmed, lower-cased and have stopwords removed. "
   ]
  },
  {
   "cell_type": "code",
   "execution_count": 78,
   "metadata": {
    "deletable": false,
    "nbgrader": {
     "cell_type": "code",
     "checksum": "0e90eedc27c248bc1ae050518a46a46c",
     "grade": false,
     "grade_id": "cell-307682c9089f15d6",
     "locked": false,
     "schema_version": 3,
     "solution": true,
     "task": false
    }
   },
   "outputs": [],
   "source": [
    "# TODO: Implement this! (5 points)\n",
    "class LsiRetrievalModel(VectorSpaceRetrievalModel):\n",
    "    def __init__(self, doc_repr):\n",
    "        super().__init__(doc_repr)\n",
    "\n",
    "        self.num_topics = 100\n",
    "        self.chunksize = 2000\n",
    "    \n",
    "    def train_model(self):\n",
    "        # YOUR CODE HERE\n",
    "        self.model = LsiModel(\n",
    "            corpus=self.corpus,\n",
    "            id2word=self.id2word,\n",
    "            num_topics=self.num_topics,\n",
    "            chunksize=self.chunksize,\n",
    "        )"
   ]
  },
  {
   "cell_type": "code",
   "execution_count": 79,
   "metadata": {
    "deletable": false,
    "editable": false,
    "nbgrader": {
     "cell_type": "code",
     "checksum": "00399cfe13d60cb4beed1271e36004b0",
     "grade": true,
     "grade_id": "cell-5ce512650c1b2dfb",
     "locked": true,
     "points": 0,
     "schema_version": 3,
     "solution": false,
     "task": false
    }
   },
   "outputs": [
    {
     "name": "stderr",
     "output_type": "stream",
     "text": [
      "2022-02-28 21:11:45,106 : INFO : adding document #0 to Dictionary(0 unique tokens: [])\n",
      "2022-02-28 21:11:45,245 : INFO : built Dictionary(5937 unique tokens: ['-', 'algebra', 'intern', 'languag', 'preliminari']...) from 3204 documents (total 115969 corpus positions)\n",
      "2022-02-28 21:11:45,251 : INFO : discarding 4740 tokens: [('repeat', 8), ('glossari', 7), ('inspect', 8), ('uncol', 2), ('rung', 9), ('secant', 2), ('.', 1603), ('acceler', 6), ('diverg', 3), ('induc', 9)]...\n",
      "2022-02-28 21:11:45,252 : INFO : keeping 1197 tokens which were in no less than 10 and no more than 1602 (=50.0%) documents\n",
      "2022-02-28 21:11:45,254 : INFO : resulting dictionary: Dictionary(1197 unique tokens: ['-', 'algebra', 'intern', 'languag', 'preliminari']...)\n",
      "2022-02-28 21:11:45,317 : INFO : using serial LSI version on this node\n",
      "2022-02-28 21:11:45,318 : INFO : updating model with new documents\n",
      "2022-02-28 21:11:45,319 : INFO : preparing a new chunk of documents\n",
      "2022-02-28 21:11:45,334 : INFO : using 100 extra samples and 2 power iterations\n",
      "2022-02-28 21:11:45,338 : INFO : 1st phase: constructing (1197, 200) action matrix\n",
      "2022-02-28 21:11:45,411 : INFO : orthonormalizing (1197, 200) action matrix\n",
      "2022-02-28 21:11:45,726 : INFO : 2nd phase: running dense svd on (200, 2000) matrix\n",
      "2022-02-28 21:11:45,885 : INFO : computing the final decomposition\n",
      "2022-02-28 21:11:45,885 : INFO : keeping 100 factors (discarding 13.458% of energy spectrum)\n",
      "2022-02-28 21:11:45,887 : INFO : processed documents up to #2000\n",
      "2022-02-28 21:11:45,889 : INFO : topic #0(152.127): 0.741*\",\" + 0.342*\"-\" + 0.211*\"system\" + 0.204*\"program\" + 0.192*\"comput\" + 0.146*\"(\" + 0.127*\"languag\" + 0.108*\")\" + 0.084*\"gener\" + 0.083*\"data\"\n",
      "2022-02-28 21:11:45,889 : INFO : topic #1(60.600): -0.607*\"(\" + -0.434*\")\" + -0.366*\"algorithm\" + -0.300*\"-\" + 0.237*\",\" + 0.213*\"system\" + 0.132*\"comput\" + -0.096*\"[\" + 0.093*\"program\" + -0.084*\"])\"\n",
      "2022-02-28 21:11:45,890 : INFO : topic #2(57.438): 0.744*\"-\" + -0.452*\",\" + 0.263*\"system\" + -0.214*\"(\" + -0.166*\")\" + 0.107*\"time\" + 0.105*\"program\" + -0.094*\"algorithm\" + 0.068*\"comput\" + 0.067*\"share\"\n",
      "2022-02-28 21:11:45,891 : INFO : topic #3(48.370): -0.483*\"system\" + -0.375*\"program\" + -0.367*\"comput\" + 0.363*\"-\" + 0.308*\",\" + -0.212*\"(\" + -0.168*\")\" + -0.147*\"algorithm\" + 0.144*\"languag\" + -0.119*\"time\"\n",
      "2022-02-28 21:11:45,891 : INFO : topic #4(45.710): 0.489*\"comput\" + -0.475*\"languag\" + -0.428*\"program\" + 0.238*\"method\" + 0.141*\"problem\" + -0.121*\"system\" + -0.109*\")\" + 0.107*\"equat\" + 0.100*\"algorithm\" + -0.099*\"(\"\n",
      "2022-02-28 21:11:45,892 : INFO : preparing a new chunk of documents\n",
      "2022-02-28 21:11:45,901 : INFO : using 100 extra samples and 2 power iterations\n",
      "2022-02-28 21:11:45,902 : INFO : 1st phase: constructing (1197, 200) action matrix\n",
      "2022-02-28 21:11:45,911 : INFO : orthonormalizing (1197, 200) action matrix\n",
      "2022-02-28 21:11:46,136 : INFO : 2nd phase: running dense svd on (200, 1204) matrix\n",
      "2022-02-28 21:11:46,277 : INFO : computing the final decomposition\n",
      "2022-02-28 21:11:46,278 : INFO : keeping 100 factors (discarding 14.016% of energy spectrum)\n",
      "2022-02-28 21:11:46,280 : INFO : merging projections: (1197, 100) + (1197, 100)\n",
      "2022-02-28 21:11:46,371 : INFO : keeping 100 factors (discarding 8.166% of energy spectrum)\n",
      "2022-02-28 21:11:46,373 : INFO : processed documents up to #3204\n",
      "2022-02-28 21:11:46,374 : INFO : topic #0(225.136): 0.759*\",\" + 0.337*\"-\" + 0.196*\"system\" + 0.186*\"program\" + 0.166*\"comput\" + 0.139*\"(\" + 0.103*\")\" + 0.103*\"algorithm\" + 0.099*\"languag\" + 0.087*\"time\"\n",
      "2022-02-28 21:11:46,375 : INFO : topic #1(87.805): 0.613*\"-\" + -0.399*\",\" + 0.399*\"(\" + 0.326*\"algorithm\" + 0.293*\")\" + -0.129*\"system\" + -0.107*\"program\" + 0.085*\"method\" + 0.077*\"time\" + 0.062*\"1\"\n",
      "2022-02-28 21:11:46,375 : INFO : topic #2(81.909): 0.550*\"-\" + -0.434*\"(\" + 0.355*\"system\" + -0.321*\")\" + -0.291*\",\" + -0.266*\"algorithm\" + 0.146*\"program\" + 0.122*\"comput\" + 0.078*\"time\" + -0.064*\"[\"\n",
      "2022-02-28 21:11:46,375 : INFO : topic #3(72.433): -0.693*\"program\" + 0.339*\",\" + 0.279*\"-\" + -0.251*\"(\" + -0.221*\"system\" + -0.214*\"languag\" + -0.204*\")\" + -0.160*\"comput\" + -0.099*\"data\" + -0.056*\"execut\"\n",
      "2022-02-28 21:11:46,376 : INFO : topic #4(68.523): -0.673*\"system\" + 0.453*\"program\" + 0.254*\"languag\" + 0.212*\"-\" + -0.179*\"comput\" + -0.165*\"(\" + -0.121*\")\" + -0.115*\"model\" + 0.101*\",\" + -0.098*\"algorithm\"\n"
     ]
    },
    {
     "data": {
      "text/plain": [
       "[(0, 0.015213400841093627),\n",
       " (1, -0.016269612178290697),\n",
       " (2, -0.00020237686007967218),\n",
       " (3, -0.001827356266429872),\n",
       " (4, -0.009389176022067335),\n",
       " (5, -0.00461498089234315),\n",
       " (6, 0.02700737179817258),\n",
       " (7, 0.016565424033696416),\n",
       " (8, -0.03185225836072081),\n",
       " (9, -0.000631175043145981),\n",
       " (10, 0.0025696121234226165),\n",
       " (11, -0.017732681963053564),\n",
       " (12, 0.0001504325534636957),\n",
       " (13, 0.001262228823175452),\n",
       " (14, 0.004379603732885725),\n",
       " (15, 0.005600804384829837),\n",
       " (16, 0.0059983719122235785),\n",
       " (17, 0.003403070895786153),\n",
       " (18, -0.01634014498051877),\n",
       " (19, 0.020241483083397963),\n",
       " (20, -0.010685523483311116),\n",
       " (21, -0.013078872683030695),\n",
       " (22, 0.04808437188099936),\n",
       " (23, 0.025190330280171182),\n",
       " (24, -0.010846547730936946),\n",
       " (25, -0.009910058787753282),\n",
       " (26, 0.005637926250156891),\n",
       " (27, 0.07593713467588474),\n",
       " (28, -0.06183171111971527),\n",
       " (29, 0.03338251724115001),\n",
       " (30, 0.04411215047758048),\n",
       " (31, 0.04366619560518471),\n",
       " (32, -0.07554286760316135),\n",
       " (33, 0.04300692771939188),\n",
       " (34, -0.027760840509272834),\n",
       " (35, 0.06349945208678759),\n",
       " (36, 0.0402899496035279),\n",
       " (37, -0.004924009627322749),\n",
       " (38, -0.05923076261798163),\n",
       " (39, 0.021842118873940518),\n",
       " (40, -0.04624574667503559),\n",
       " (41, -0.03423929025282417),\n",
       " (42, 0.028090398254361063),\n",
       " (43, 0.016998271056959842),\n",
       " (44, 0.015387526860028916),\n",
       " (45, -0.06067374195588295),\n",
       " (46, -0.0029254747737277615),\n",
       " (47, 0.0040213208664493915),\n",
       " (48, -0.011585046122500334),\n",
       " (49, 0.029775646888400453),\n",
       " (50, 0.012942524411006876),\n",
       " (51, 0.04606398355308938),\n",
       " (52, -0.0054841114860174),\n",
       " (53, 0.0007475810109408027),\n",
       " (54, 0.03903530801648768),\n",
       " (55, 0.026904726741743434),\n",
       " (56, -0.0019154040084310014),\n",
       " (57, -0.019467520741074208),\n",
       " (58, -0.014477236575255735),\n",
       " (59, 0.04680989804079819),\n",
       " (60, -0.02505115321840558),\n",
       " (61, 0.04688342735101706),\n",
       " (62, 0.013417035660847672),\n",
       " (63, 0.006769287119682908),\n",
       " (64, 0.060573510628129615),\n",
       " (65, 0.04905109760798739),\n",
       " (66, 0.03310367960753245),\n",
       " (67, -0.051159937570407134),\n",
       " (68, -0.027866026736311566),\n",
       " (69, -0.04414021457071637),\n",
       " (70, -0.040128992413144646),\n",
       " (71, -0.03152757155503584),\n",
       " (72, 0.034576855836443626),\n",
       " (73, 0.08215915051364363),\n",
       " (74, -0.028971667168509026),\n",
       " (75, 0.025454659820622387),\n",
       " (76, 0.031728003657151886),\n",
       " (77, -0.0037986614882135512),\n",
       " (78, 0.04983078740013317),\n",
       " (79, -0.028128059900770365),\n",
       " (80, -0.0276073262538714),\n",
       " (81, -0.013530108419707705),\n",
       " (82, 0.031210030469861254),\n",
       " (83, 0.0424831438679377),\n",
       " (84, 0.021873597839180473),\n",
       " (85, -0.02975960863304586),\n",
       " (86, -0.0006319688547393246),\n",
       " (87, 0.04658512964170396),\n",
       " (88, -0.0701120794018338),\n",
       " (89, -0.08643537573017696),\n",
       " (90, -0.001997895204482812),\n",
       " (91, 0.0467106341967093),\n",
       " (92, 0.04311380952557979),\n",
       " (93, -0.03652762201255205),\n",
       " (94, -0.0394652006190505),\n",
       " (95, 0.03384230492724841),\n",
       " (96, -0.02695976701312317),\n",
       " (97, 0.006021950045344239),\n",
       " (98, -0.0078554725896502),\n",
       " (99, 0.0036637863668176444)]"
      ]
     },
     "execution_count": 79,
     "metadata": {},
     "output_type": "execute_result"
    }
   ],
   "source": [
    "##### Function check\n",
    "lsi = LsiRetrievalModel(doc_repr_2)\n",
    "lsi.train_model()\n",
    "\n",
    "# you can now get an LSI vector for a given query in the following way:\n",
    "lsi.vectorize_query(\"report\")\n",
    "##### "
   ]
  },
  {
   "cell_type": "markdown",
   "metadata": {
    "deletable": false,
    "editable": false,
    "nbgrader": {
     "cell_type": "markdown",
     "checksum": "7116bb9f576c5bb04934e1d59c51d729",
     "grade": false,
     "grade_id": "cell-4c5eeb557b4fca2f",
     "locked": true,
     "points": 5,
     "schema_version": 3,
     "solution": false,
     "task": true
    }
   },
   "source": [
    "\\#### Please do not change this. This cell is used for grading."
   ]
  },
  {
   "cell_type": "markdown",
   "metadata": {
    "deletable": false,
    "editable": false,
    "nbgrader": {
     "cell_type": "markdown",
     "checksum": "26e2ff3c413745e633d99f66c041d6b1",
     "grade": false,
     "grade_id": "cell-c4e50296cd17a555",
     "locked": true,
     "schema_version": 3,
     "solution": false,
     "task": false
    }
   },
   "source": [
    "---\n",
    "**Implementation (5 points):**\n",
    " Next, implement a basic ranking class for vector space retrieval (used for all semantic methods): "
   ]
  },
  {
   "cell_type": "code",
   "execution_count": 80,
   "metadata": {
    "deletable": false,
    "nbgrader": {
     "cell_type": "code",
     "checksum": "1a8389d2f0635c3405e2b0b27ed9f327",
     "grade": false,
     "grade_id": "cell-250515d288e80cdc",
     "locked": false,
     "schema_version": 3,
     "solution": true,
     "task": false
    }
   },
   "outputs": [],
   "source": [
    "# TODO: Implement this! (5 points)\n",
    "class DenseRetrievalRanker:\n",
    "    def __init__(self, vsrm, similarity_fn):\n",
    "        \"\"\"\n",
    "            vsrm: instance of `VectorSpaceRetrievalModel`\n",
    "            similarity_fn: function instance that takes in two vectors \n",
    "                            and returns a similarity score e.g cosine_sim defined earlier\n",
    "        \"\"\"\n",
    "        self.vsrm = vsrm \n",
    "        self.vectorized_documents = self.vsrm.vectorize_documents()\n",
    "        self.similarity_fn = similarity_fn\n",
    "    \n",
    "    def _compute_sim(self, query_vector):\n",
    "        \"\"\"\n",
    "            Compute the similarity of `query_vector` to documents in \n",
    "            `self.vectorized_documents` using `self.similarity_fn`\n",
    "            Returns a list of (doc_id, score) tuples\n",
    "        \"\"\"\n",
    "        # YOUR CODE HERE\n",
    "        return [(doc_id, self.similarity_fn(query_vector, d)) for doc_id, d in self.vectorized_documents.items() if d]\n",
    "    \n",
    "    def search(self, query):\n",
    "        scores = self._compute_sim(self.vsrm.vectorize_query(query))\n",
    "        scores.sort(key=lambda _:-_[1])\n",
    "        return scores "
   ]
  },
  {
   "cell_type": "code",
   "execution_count": 81,
   "metadata": {
    "deletable": false,
    "editable": false,
    "nbgrader": {
     "cell_type": "code",
     "checksum": "f237dd1ef6c1783c06797f4b514421f5",
     "grade": true,
     "grade_id": "cell-b73068b3e77a8e31",
     "locked": true,
     "points": 0,
     "schema_version": 3,
     "solution": false,
     "task": false
    }
   },
   "outputs": [
    {
     "data": {
      "text/plain": [
       "[('599', 0.798262564287735),\n",
       " ('947', 0.5811165269309948),\n",
       " ('53', 0.5053582783562829),\n",
       " ('1339', 0.454818475468561),\n",
       " ('3160', 0.44000027624148413)]"
      ]
     },
     "execution_count": 81,
     "metadata": {},
     "output_type": "execute_result"
    }
   ],
   "source": [
    "##### Function check\n",
    "drm_lsi = DenseRetrievalRanker(lsi, cosine_sim)\n",
    "drm_lsi.search(\"report\")[:5]\n",
    "##### "
   ]
  },
  {
   "cell_type": "markdown",
   "metadata": {
    "deletable": false,
    "editable": false,
    "nbgrader": {
     "cell_type": "markdown",
     "checksum": "5b3f19fdcaa585d263706d5a26038799",
     "grade": false,
     "grade_id": "cell-034c755a6502b868",
     "locked": true,
     "points": 5,
     "schema_version": 3,
     "solution": false,
     "task": true
    }
   },
   "source": [
    "\\#### Please do not change this. This cell is used for grading."
   ]
  },
  {
   "cell_type": "markdown",
   "metadata": {
    "deletable": false,
    "editable": false,
    "nbgrader": {
     "cell_type": "markdown",
     "checksum": "dcafef6e037033c46304b914f7c78bdf",
     "grade": false,
     "grade_id": "cell-d1df23f497d5ed6b",
     "locked": true,
     "schema_version": 3,
     "solution": false,
     "task": false
    }
   },
   "source": [
    "---\n",
    "Now, you can test your LSI model in the following cell: try finding queries which are lexically different to documents, but semantically similar - does LSI work well for these queries?!"
   ]
  },
  {
   "cell_type": "code",
   "execution_count": 82,
   "metadata": {
    "deletable": false,
    "editable": false,
    "nbgrader": {
     "cell_type": "code",
     "checksum": "11734bc7674377b340ad51297a8e8bb5",
     "grade": false,
     "grade_id": "cell-efd1d08dfc04ec3e",
     "locked": true,
     "schema_version": 3,
     "solution": false,
     "task": false
    }
   },
   "outputs": [
    {
     "data": {
      "application/vnd.jupyter.widget-view+json": {
       "model_id": "39b8c0f9edad4931946ec2a74e1d4a30",
       "version_major": 2,
       "version_minor": 0
      },
      "text/plain": [
       "Text(value='', description='Search Bar')"
      ]
     },
     "metadata": {},
     "output_type": "display_data"
    }
   ],
   "source": [
    "# test your LSI model\n",
    "search_fn = drm_lsi.search\n",
    "\n",
    "text = widgets.Text(description=\"Search Bar\", width=200)\n",
    "display(text)\n",
    "\n",
    "def make_results_2(query, search_fn):\n",
    "    results = []\n",
    "    for doc_id, score in search_fn(query):\n",
    "        highlight = highlight_text(docs_by_id[doc_id], query)\n",
    "        if len(highlight.strip()) == 0:\n",
    "            highlight = docs_by_id[doc_id]\n",
    "        results.append(ResultRow(doc_id, highlight, score))\n",
    "    return results\n",
    "\n",
    "def handle_submit_2(sender):\n",
    "    print(f\"Searching for: '{sender.value}' (SEARCH FN: {search_fn})\")\n",
    "    \n",
    "    results = make_results_2(sender.value, search_fn)\n",
    "    \n",
    "    # display only the top 5\n",
    "    results = results[:5]\n",
    "    \n",
    "    body = \"\"\n",
    "    for idx, r in enumerate(results):\n",
    "        body += f\"<li>Document #{r.doc_id}({r.score}): {r.snippet}</li>\"\n",
    "    display(HTML(f\"<ul>{body}</ul>\"))\n",
    "    \n",
    "\n",
    "text.on_submit(handle_submit_2)"
   ]
  },
  {
   "cell_type": "markdown",
   "metadata": {
    "deletable": false,
    "editable": false,
    "nbgrader": {
     "cell_type": "markdown",
     "checksum": "d074ce1ca48384cdda78742741c938be",
     "grade": false,
     "grade_id": "cell-3a86cef264d8f6cf",
     "locked": true,
     "schema_version": 3,
     "solution": false,
     "task": false
    }
   },
   "source": [
    "---\n",
    "## Section 7: Latent Dirichlet Allocation (LDA) (10 points) <a class=\"anchor\" id=\"lda\"></a>\n",
    "\n",
    "[Back to Part 2](#part2)\n",
    "\n",
    "The specifics of LDA is out of the scope of this assignment, but we will use the `gensim` implementation to perform search using LDA over our small document collection. The key thing to remember is that LDA, unlike LSI, outputs a topic **distribution**, not a vector. With that in mind, let's first define a similarity measure.\n"
   ]
  },
  {
   "cell_type": "markdown",
   "metadata": {
    "deletable": false,
    "editable": false,
    "nbgrader": {
     "cell_type": "markdown",
     "checksum": "db01092373b18f0c9dfed1bb17db4ad9",
     "grade": false,
     "grade_id": "cell-6b78ad22c2d60ba7",
     "locked": true,
     "schema_version": 3,
     "solution": false,
     "task": false
    }
   },
   "source": [
    "---\n",
    "### Section 7.1: Jenson-Shannon divergence (5 points) <a class=\"anchor\" id=\"js_sim\"></a>\n",
    "\n",
    "The Jenson-Shannon divergence is a symmetric and finite measure on two probability distributions (unlike the KL, which is neither). For identical distributions, the JSD is equal to 0, and since our code uses 0 as irrelevant and higher scores as relevant, we use `(1 - JSD)` as the score or 'similarity' in our setup\n",
    "\n",
    "**Note**: the JSD is bounded to \\[0,1\\] only if we use log base 2. So please ensure that you're using `np.log2` instead of `np.log`"
   ]
  },
  {
   "cell_type": "code",
   "execution_count": 83,
   "metadata": {
    "deletable": false,
    "nbgrader": {
     "cell_type": "code",
     "checksum": "a579e6cd7a24a3516bc9a84528b392d3",
     "grade": false,
     "grade_id": "cell-d2376a85a4841e98",
     "locked": false,
     "schema_version": 3,
     "solution": true,
     "task": false
    }
   },
   "outputs": [],
   "source": [
    "## TODO: Implement this! (5 points)\n",
    "def jenson_shannon_divergence(vec_1, vec_2, assert_prob=False):\n",
    "    \"\"\"\n",
    "        Computes the Jensen-Shannon divergence between two probability distributions. \n",
    "        NOTE: DO NOT RETURN 1 - JSD here, that is handled by the next function which is already implemented! \n",
    "        The inputs are *gensim* vectors - same as the vectors for the cosine_sim function\n",
    "        assert_prob is a flag that checks if the inputs are proper probability distributions \n",
    "            i.e they sum to 1 and are positive - use this to check your inputs if needed. \n",
    "                (This is optional to implement, but recommended - \n",
    "                you can the default to False to save a few ms off the runtime)\n",
    "    \"\"\"\n",
    "    # YOUR CODE HERE\n",
    "    \n",
    "    # TODO: check the validity of this assumption\n",
    "    P_support = np.array([x[0] for x in vec_1])\n",
    "    Q_support = np.array([x[0] for x in vec_2])\n",
    "    common_support = [x for x in P_support if x in Q_support]\n",
    "\n",
    "    P = np.array([x[1] for x in vec_1 if x[0] in common_support])\n",
    "    Q = np.array([x[1] for x in vec_2 if x[0] in common_support])\n",
    "\n",
    "    # Q = np.array([y[1] for x, y in zip(vec_1, vec_2) if x[0] in P_support])\n",
    "    \n",
    "    assert len(P) == len(Q)\n",
    "\n",
    "    M = 0.5 * (P + Q)\n",
    "\n",
    "    if assert_prob:\n",
    "        assert np.allclose(np.sum(P), 1.0) and sum(P >= 0.0) == len(P)\n",
    "        assert np.allclose(np.sum(Q), 1.0) and sum(Q >= 0.0) == len(Q)\n",
    "\n",
    "\n",
    "    epsilon = np.finfo(np.float32).eps\n",
    "    \n",
    "    def kl(p, q):\n",
    "        return np.sum(np.where(p != 0, p * np.log2(p / (q + epsilon)), 0))\n",
    "    \n",
    "    return 0.5 * kl(P, M) + 0.5 * kl(Q, M)\n",
    "    \n",
    "\n",
    "def jenson_shannon_sim(vec_1, vec_2, assert_prob=False):\n",
    "    return 1 - jenson_shannon_divergence(vec_1, vec_2)\n",
    "\n"
   ]
  },
  {
   "cell_type": "code",
   "execution_count": 84,
   "metadata": {
    "deletable": false,
    "editable": false,
    "nbgrader": {
     "cell_type": "code",
     "checksum": "ab340aa941c9fb5c89b3fd0a9139e246",
     "grade": true,
     "grade_id": "cell-487c6d2933f38053",
     "locked": true,
     "points": 5,
     "schema_version": 3,
     "solution": false,
     "task": false
    }
   },
   "outputs": [
    {
     "data": {
      "text/plain": [
       "0.9251069569836876"
      ]
     },
     "execution_count": 84,
     "metadata": {},
     "output_type": "execute_result"
    }
   ],
   "source": [
    "##### Function check\n",
    "vec_1 = [(1, 0.3), (2, 0.4), (3, 0.3)]\n",
    "vec_2 = [(1, 0.1), (2, 0.7), (3, 0.2)]\n",
    "jenson_shannon_sim(vec_1, vec_2, assert_prob=True)\n",
    "##### "
   ]
  },
  {
   "cell_type": "markdown",
   "metadata": {
    "deletable": false,
    "editable": false,
    "nbgrader": {
     "cell_type": "markdown",
     "checksum": "0a1583a5f23e3390038331cce67f5d8e",
     "grade": false,
     "grade_id": "cell-4535cc67a50b80fa",
     "locked": true,
     "schema_version": 3,
     "solution": false,
     "task": false
    }
   },
   "source": [
    "---\n",
    "### Section 7.2: LDA retrieval (5 points) <a class=\"anchor\" id=\"lda_ret\"></a>\n",
    "\n",
    "Implement the `train_model` method in the following class (note that this is only one line of code in `gensim`!). Ensure that the parameters defined in the `__init__` method are not changed, and are *used in the `train_method` function*. You do not need to set this. Normally, the hyperaparameter space will be searched using grid search / other methods. Note that training the LDA model might take some time\n",
    "\n",
    "The last two lines of code train an LDA model on the list of documents which have been stemmed, lower-cased and have stopwords removed. "
   ]
  },
  {
   "cell_type": "code",
   "execution_count": 85,
   "metadata": {
    "deletable": false,
    "nbgrader": {
     "cell_type": "code",
     "checksum": "27de8e4fa85536bb396b73bfc51b3f50",
     "grade": false,
     "grade_id": "cell-021a48dff4a8bb91",
     "locked": false,
     "schema_version": 3,
     "solution": true,
     "task": false
    }
   },
   "outputs": [],
   "source": [
    "# TODO: Implement this! (5 points)\n",
    "class LdaRetrievalModel(VectorSpaceRetrievalModel):\n",
    "    def __init__(self, doc_repr):\n",
    "        super().__init__(doc_repr)\n",
    "        \n",
    "        # use these parameters in the train_model method\n",
    "        self.num_topics = 100\n",
    "        self.chunksize = 2000\n",
    "        self.passes = 20\n",
    "        self.iterations = 400\n",
    "        self.eval_every = 10\n",
    "        # this is need to get full vectors\n",
    "        self.minimum_probability=0.0\n",
    "        self.alpha='auto'\n",
    "        self.eta='auto'\n",
    "    \n",
    "    \n",
    "    def train_model(self):\n",
    "        # YOUR CODE HERE\n",
    "        self.model = LdaModel(\n",
    "            corpus=self.corpus,\n",
    "            id2word=self.id2word,\n",
    "            num_topics=self.num_topics,\n",
    "            chunksize=self.chunksize,\n",
    "            passes=self.passes,\n",
    "            iterations=self.iterations,\n",
    "            eval_every=self.eval_every,\n",
    "            minimum_probability=self.minimum_probability,\n",
    "            alpha=self.alpha,\n",
    "            eta=self.eta,\n",
    "        )"
   ]
  },
  {
   "cell_type": "code",
   "execution_count": 86,
   "metadata": {
    "deletable": false,
    "editable": false,
    "nbgrader": {
     "cell_type": "code",
     "checksum": "be70fcb8098d0b6ce64cd2a10e6a05b7",
     "grade": true,
     "grade_id": "cell-86750b715f0345fd",
     "locked": true,
     "points": 0,
     "schema_version": 3,
     "solution": false,
     "task": false
    },
    "tags": []
   },
   "outputs": [
    {
     "name": "stderr",
     "output_type": "stream",
     "text": [
      "2022-02-28 21:11:47,169 : INFO : adding document #0 to Dictionary(0 unique tokens: [])\n",
      "2022-02-28 21:11:47,294 : INFO : built Dictionary(5937 unique tokens: ['-', 'algebra', 'intern', 'languag', 'preliminari']...) from 3204 documents (total 115969 corpus positions)\n",
      "2022-02-28 21:11:47,300 : INFO : discarding 4740 tokens: [('repeat', 8), ('glossari', 7), ('inspect', 8), ('uncol', 2), ('rung', 9), ('secant', 2), ('.', 1603), ('acceler', 6), ('diverg', 3), ('induc', 9)]...\n",
      "2022-02-28 21:11:47,301 : INFO : keeping 1197 tokens which were in no less than 10 and no more than 1602 (=50.0%) documents\n",
      "2022-02-28 21:11:47,302 : INFO : resulting dictionary: Dictionary(1197 unique tokens: ['-', 'algebra', 'intern', 'languag', 'preliminari']...)\n",
      "2022-02-28 21:11:47,362 : INFO : using autotuned alpha, starting with [0.01, 0.01, 0.01, 0.01, 0.01, 0.01, 0.01, 0.01, 0.01, 0.01, 0.01, 0.01, 0.01, 0.01, 0.01, 0.01, 0.01, 0.01, 0.01, 0.01, 0.01, 0.01, 0.01, 0.01, 0.01, 0.01, 0.01, 0.01, 0.01, 0.01, 0.01, 0.01, 0.01, 0.01, 0.01, 0.01, 0.01, 0.01, 0.01, 0.01, 0.01, 0.01, 0.01, 0.01, 0.01, 0.01, 0.01, 0.01, 0.01, 0.01, 0.01, 0.01, 0.01, 0.01, 0.01, 0.01, 0.01, 0.01, 0.01, 0.01, 0.01, 0.01, 0.01, 0.01, 0.01, 0.01, 0.01, 0.01, 0.01, 0.01, 0.01, 0.01, 0.01, 0.01, 0.01, 0.01, 0.01, 0.01, 0.01, 0.01, 0.01, 0.01, 0.01, 0.01, 0.01, 0.01, 0.01, 0.01, 0.01, 0.01, 0.01, 0.01, 0.01, 0.01, 0.01, 0.01, 0.01, 0.01, 0.01, 0.01]\n",
      "2022-02-28 21:11:47,363 : INFO : using serial LDA version on this node\n",
      "2022-02-28 21:11:47,373 : INFO : running online (multi-pass) LDA training, 100 topics, 20 passes over the supplied corpus of 3204 documents, updating model once every 2000 documents, evaluating perplexity every 3204 documents, iterating 400x with a convergence threshold of 0.001000\n",
      "2022-02-28 21:11:47,374 : INFO : PROGRESS: pass 0, at document #2000/3204\n",
      "2022-02-28 21:11:48,437 : INFO : optimized alpha [0.009897117, 0.009813726, 0.009844661, 0.009787817, 0.009803094, 0.009844814, 0.009818466, 0.009876283, 0.009870205, 0.009823795, 0.009766933, 0.009798175, 0.009829295, 0.009792821, 0.009797867, 0.009767026, 0.009813423, 0.009786342, 0.009787785, 0.009834267, 0.009819024, 0.009933951, 0.009797595, 0.009834492, 0.00994922, 0.009838849, 0.009829212, 0.009792974, 0.009835856, 0.009808305, 0.009787988, 0.0098340865, 0.009839474, 0.009876556, 0.00982888, 0.009859343, 0.009845164, 0.009818579, 0.0097875325, 0.009782424, 0.009803156, 0.009880848, 0.009828742, 0.009834086, 0.009865139, 0.009784477, 0.009811657, 0.009779421, 0.009844507, 0.009782404, 0.009808128, 0.009808511, 0.009891079, 0.009777313, 0.009797937, 0.009808169, 0.009818798, 0.009828888, 0.009912322, 0.009792802, 0.009980161, 0.009848143, 0.009823651, 0.0098186275, 0.009824359, 0.009797919, 0.009797669, 0.009813116, 0.009901047, 0.009880926, 0.009813423, 0.009955561, 0.0099115735, 0.009926523, 0.0097929025, 0.009808469, 0.009772015, 0.009813699, 0.009787706, 0.009818821, 0.009797973, 0.009797765, 0.009818689, 0.009885897, 0.009803002, 0.009792943, 0.009782536, 0.009834188, 0.0098188445, 0.009834219, 0.009858586, 0.009818432, 0.009808395, 0.009922056, 0.009863956, 0.0098702535, 0.0097720055, 0.009797998, 0.0097874245, 0.009813499]\n",
      "2022-02-28 21:11:48,441 : INFO : merging changes from 2000 documents into a model of 3204 documents\n",
      "2022-02-28 21:11:48,456 : INFO : topic #96 (0.010): 0.130*\"algorithm\" + 0.052*\"quadratur\" + 0.052*\"])\" + 0.052*\"(\" + 0.052*\"error\" + 0.052*\"[\" + 0.026*\"featur\" + 0.026*\"analysi\" + 0.026*\"includ\" + 0.026*\"consider\"\n",
      "2022-02-28 21:11:48,457 : INFO : topic #98 (0.010): 0.060*\"time\" + 0.045*\"system\" + 0.030*\"content\" + 0.030*\"(\" + 0.030*\"disk\" + 0.030*\"usa\" + 0.030*\",\" + 0.030*\")\" + 0.027*\"-\" + 0.024*\"statist\"\n",
      "2022-02-28 21:11:48,457 : INFO : topic #93 (0.010): 0.055*\",\" + 0.040*\"-\" + 0.026*\"(\" + 0.025*\"algorithm\" + 0.024*\"program\" + 0.015*\"comput\" + 0.014*\"problem\" + 0.013*\"input\" + 0.013*\"\"\" + 0.013*\"time\"\n",
      "2022-02-28 21:11:48,458 : INFO : topic #21 (0.010): 0.075*\",\" + 0.034*\"-\" + 0.030*\"program\" + 0.030*\"languag\" + 0.027*\"system\" + 0.015*\"gener\" + 0.015*\"comput\" + 0.014*\"process\" + 0.013*\"(\" + 0.013*\"\"\"\n",
      "2022-02-28 21:11:48,460 : INFO : topic #60 (0.010): 0.081*\",\" + 0.046*\"-\" + 0.018*\"code\" + 0.017*\"(\" + 0.016*\"gener\" + 0.014*\"number\" + 0.013*\"system\" + 0.013*\")\" + 0.013*\"comput\" + 0.011*\"method\"\n",
      "2022-02-28 21:11:48,461 : INFO : topic diff=82.687515, rho=1.000000\n",
      "2022-02-28 21:11:49,107 : INFO : -7.281 per-word bound, 155.6 perplexity estimate based on a held-out corpus of 1204 documents with 49783 words\n",
      "2022-02-28 21:11:49,108 : INFO : PROGRESS: pass 0, at document #3204/3204\n",
      "2022-02-28 21:11:49,642 : INFO : optimized alpha [0.009927739, 0.0099264495, 0.010010709, 0.010123185, 0.010108626, 0.0101776, 0.009829737, 0.010085314, 0.009893462, 0.010052995, 0.010107324, 0.010302749, 0.009776888, 0.009911177, 0.009867293, 0.009936346, 0.00972583, 0.009791296, 0.009875807, 0.010077523, 0.010275175, 0.010211679, 0.0099085765, 0.010141574, 0.010087178, 0.009837175, 0.009918792, 0.010204373, 0.00997117, 0.009941739, 0.010182536, 0.009816007, 0.009821851, 0.010008725, 0.009863455, 0.009863991, 0.009982383, 0.009789276, 0.009629668, 0.00998687, 0.009721213, 0.009982051, 0.009822324, 0.010239989, 0.009959882, 0.009890821, 0.009763673, 0.009720566, 0.009856296, 0.00994604, 0.010026208, 0.009938573, 0.010010216, 0.009910464, 0.010003485, 0.0097491, 0.009895559, 0.01019503, 0.010283374, 0.009822334, 0.010111087, 0.009977886, 0.010045683, 0.01026557, 0.010138167, 0.009833624, 0.00986767, 0.00972405, 0.010012052, 0.010100827, 0.009772202, 0.010291641, 0.010011502, 0.009984781, 0.010375415, 0.009708664, 0.009725081, 0.0099439155, 0.00974696, 0.009948984, 0.009798106, 0.009872338, 0.009824517, 0.01006873, 0.009856725, 0.010034854, 0.009835794, 0.010188583, 0.0101854745, 0.010005597, 0.010023812, 0.009883222, 0.010050067, 0.010088456, 0.009897892, 0.01001883, 0.009654903, 0.009962313, 0.009728138, 0.009783145]\n",
      "2022-02-28 21:11:49,647 : INFO : merging changes from 1204 documents into a model of 3204 documents\n",
      "2022-02-28 21:11:49,651 : INFO : topic #38 (0.010): 0.089*\"sort\" + 0.083*\"variat\" + 0.080*\"differ\" + 0.059*\"program\" + 0.047*\"comput\" + 0.034*\"extens\" + 0.033*\",\" + 0.024*\"describ\" + 0.024*\"order\" + 0.023*\"statist\"\n",
      "2022-02-28 21:11:49,651 : INFO : topic #96 (0.010): 0.148*\"algorithm\" + 0.094*\"error\" + 0.070*\"object\" + 0.070*\"round\" + 0.064*\"quadratur\" + 0.062*\"devot\" + 0.052*\"g6\" + 0.049*\"(\" + 0.045*\"control\" + 0.041*\"attent\"\n",
      "2022-02-28 21:11:49,653 : INFO : topic #20 (0.010): 0.057*\",\" + 0.045*\"data\" + 0.041*\"structur\" + 0.040*\"program\" + 0.034*\"-\" + 0.031*\"scienc\" + 0.028*\"comput\" + 0.027*\"system\" + 0.017*\"cours\" + 0.016*\"organ\"\n",
      "2022-02-28 21:11:49,653 : INFO : topic #58 (0.010): 0.098*\",\" + 0.052*\"system\" + 0.015*\"perform\" + 0.014*\"-\" + 0.014*\"process\" + 0.014*\"data\" + 0.013*\"interfer\" + 0.013*\"optim\" + 0.013*\"model\" + 0.012*\"comput\"\n",
      "2022-02-28 21:11:49,654 : INFO : topic #74 (0.010): 0.103*\"tree\" + 0.065*\"search\" + 0.049*\",\" + 0.041*\"time\" + 0.036*\"node\" + 0.035*\"averag\" + 0.028*\"structur\" + 0.027*\"cost\" + 0.019*\"area\" + 0.018*\"paper\"\n",
      "2022-02-28 21:11:49,654 : INFO : topic diff=0.710616, rho=0.707107\n",
      "2022-02-28 21:11:49,660 : INFO : PROGRESS: pass 1, at document #2000/3204\n",
      "2022-02-28 21:11:50,116 : INFO : optimized alpha [0.009836459, 0.009831803, 0.009951483, 0.010082534, 0.01002757, 0.0101757655, 0.009842078, 0.0099870805, 0.009791586, 0.010022027, 0.01005227, 0.010228282, 0.009738024, 0.010033195, 0.00981012, 0.009904066, 0.009807699, 0.0098976, 0.009868646, 0.009962585, 0.010290264, 0.010154947, 0.010773038, 0.010133686, 0.010106691, 0.009791418, 0.009826996, 0.010172255, 0.009947189, 0.010031684, 0.010102728, 0.009776158, 0.009755973, 0.009999097, 0.009837957, 0.009846773, 0.009878692, 0.0097288815, 0.009625841, 0.009929647, 0.009667484, 0.009920875, 0.009858271, 0.010169702, 0.009902103, 0.009867877, 0.009881733, 0.009846245, 0.009792052, 0.0099562425, 0.0100274235, 0.009917629, 0.00996984, 0.009955015, 0.009906289, 0.009669126, 0.009933483, 0.010126006, 0.010194104, 0.009803311, 0.010050786, 0.009913337, 0.010001043, 0.010213227, 0.010089719, 0.009869484, 0.010168005, 0.009747084, 0.009912604, 0.009999082, 0.009821436, 0.010224444, 0.009904151, 0.009883316, 0.01030421, 0.009619227, 0.009784327, 0.00985432, 0.009719003, 0.009901859, 0.009812776, 0.009917771, 0.009755481, 0.010005475, 0.009821468, 0.010022591, 0.009790027, 0.010125198, 0.010157808, 0.009943547, 0.010147039, 0.009826301, 0.010156876, 0.010022079, 0.009832528, 0.009927383, 0.009651025, 0.00996221, 0.009712827, 0.009720041]\n",
      "2022-02-28 21:11:50,118 : INFO : merging changes from 2000 documents into a model of 3204 documents\n",
      "2022-02-28 21:11:50,122 : INFO : topic #96 (0.010): 0.154*\"error\" + 0.135*\"algorithm\" + 0.084*\"g6\" + 0.073*\"round\" + 0.072*\"[\" + 0.065*\"(\" + 0.047*\"])\" + 0.045*\"object\" + 0.042*\"quadratur\" + 0.036*\"devot\"\n",
      "2022-02-28 21:11:50,123 : INFO : topic #38 (0.010): 0.134*\"sort\" + 0.086*\"differ\" + 0.062*\"variat\" + 0.050*\"comput\" + 0.045*\"program\" + 0.043*\"intern\" + 0.041*\"statist\" + 0.035*\"method\" + 0.032*\"extens\" + 0.030*\",\"\n",
      "2022-02-28 21:11:50,123 : INFO : topic #20 (0.010): 0.057*\",\" + 0.044*\"program\" + 0.042*\"data\" + 0.037*\"structur\" + 0.035*\"-\" + 0.032*\"comput\" + 0.031*\"scienc\" + 0.027*\"system\" + 0.018*\"languag\" + 0.018*\"organ\"\n",
      "2022-02-28 21:11:50,124 : INFO : topic #74 (0.010): 0.095*\"tree\" + 0.072*\"search\" + 0.048*\",\" + 0.038*\"time\" + 0.031*\"node\" + 0.031*\"averag\" + 0.028*\"structur\" + 0.023*\"cost\" + 0.018*\"area\" + 0.017*\"paper\"\n",
      "2022-02-28 21:11:50,124 : INFO : topic #22 (0.011): 0.247*\"(\" + 0.222*\"algorithm\" + 0.217*\")\" + 0.044*\"[\" + 0.037*\"function\" + 0.020*\"])\" + 0.018*\"squar\" + 0.015*\"integr\" + 0.015*\"interpol\" + 0.015*\"surfac\"\n",
      "2022-02-28 21:11:50,125 : INFO : topic diff=0.306235, rho=0.526900\n",
      "2022-02-28 21:11:50,675 : INFO : -6.891 per-word bound, 118.7 perplexity estimate based on a held-out corpus of 1204 documents with 49783 words\n",
      "2022-02-28 21:11:50,675 : INFO : PROGRESS: pass 1, at document #3204/3204\n",
      "2022-02-28 21:11:51,083 : INFO : optimized alpha [0.009821778, 0.009964575, 0.010048842, 0.010361968, 0.010314326, 0.01048628, 0.009855098, 0.010076356, 0.009828434, 0.010241804, 0.010387842, 0.010494778, 0.00972825, 0.010200023, 0.010040413, 0.010179617, 0.009839747, 0.009952522, 0.010029742, 0.010104691, 0.010620078, 0.010330475, 0.011506641, 0.010391431, 0.010209216, 0.009822355, 0.009921435, 0.010474668, 0.010069953, 0.010165455, 0.010387643, 0.0098690735, 0.0097452365, 0.010007766, 0.00992511, 0.009877368, 0.009955174, 0.0097577, 0.009591133, 0.010121648, 0.009671296, 0.009965445, 0.0099639315, 0.010472072, 0.01001745, 0.00996951, 0.009919886, 0.009951007, 0.009833449, 0.0102198785, 0.010252217, 0.01002726, 0.010129898, 0.010159538, 0.010090795, 0.009749865, 0.009985504, 0.010456049, 0.01042387, 0.009887216, 0.01004906, 0.010044997, 0.010149282, 0.010561286, 0.010294409, 0.009970895, 0.010306904, 0.009782789, 0.009991785, 0.0101414705, 0.009826265, 0.010394377, 0.009997314, 0.00991971, 0.010733412, 0.009580725, 0.009889009, 0.010061906, 0.009764914, 0.010056663, 0.009922273, 0.010086997, 0.009792392, 0.010133028, 0.00990201, 0.010230545, 0.009869675, 0.010432694, 0.010462048, 0.010062746, 0.010282981, 0.009870751, 0.010437536, 0.010177474, 0.009980558, 0.009998501, 0.0096793175, 0.010195278, 0.009761642, 0.009747921]\n",
      "2022-02-28 21:11:51,086 : INFO : merging changes from 1204 documents into a model of 3204 documents\n",
      "2022-02-28 21:11:51,090 : INFO : topic #75 (0.010): 0.076*\"gamma\" + 0.055*\"overlap\" + 0.049*\"problem\" + 0.047*\"comput\" + 0.043*\"student\" + 0.029*\"function\" + 0.027*\"summat\" + 0.025*\"devic\" + 0.024*\",\" + 0.023*\"combinatori\"\n",
      "2022-02-28 21:11:51,091 : INFO : topic #38 (0.010): 0.185*\"sort\" + 0.111*\"differ\" + 0.085*\"variat\" + 0.051*\"program\" + 0.044*\"comput\" + 0.036*\"method\" + 0.033*\"extens\" + 0.033*\"statist\" + 0.031*\"intern\" + 0.029*\",\"\n",
      "2022-02-28 21:11:51,091 : INFO : topic #20 (0.011): 0.062*\",\" + 0.048*\"program\" + 0.047*\"data\" + 0.043*\"structur\" + 0.038*\"comput\" + 0.036*\"scienc\" + 0.030*\"-\" + 0.024*\"system\" + 0.021*\"cours\" + 0.021*\"organ\"\n",
      "2022-02-28 21:11:51,092 : INFO : topic #74 (0.011): 0.125*\"tree\" + 0.081*\"search\" + 0.054*\",\" + 0.038*\"time\" + 0.037*\"node\" + 0.035*\"cost\" + 0.035*\"averag\" + 0.032*\"structur\" + 0.022*\"area\" + 0.018*\"paper\"\n",
      "2022-02-28 21:11:51,093 : INFO : topic #22 (0.012): 0.270*\"(\" + 0.247*\")\" + 0.229*\"algorithm\" + 0.046*\"[\" + 0.032*\"function\" + 0.014*\"squar\" + 0.014*\"integr\" + 0.014*\"remov\" + 0.013*\"interpol\" + 0.012*\"surfac\"\n",
      "2022-02-28 21:11:51,093 : INFO : topic diff=0.394847, rho=0.526900\n",
      "2022-02-28 21:11:51,099 : INFO : PROGRESS: pass 2, at document #2000/3204\n",
      "2022-02-28 21:11:51,526 : INFO : optimized alpha [0.009756163, 0.009893132, 0.01000412, 0.01032808, 0.010241921, 0.010509314, 0.0098808035, 0.010010025, 0.009747985, 0.010222265, 0.010366659, 0.010431161, 0.009751173, 0.010366106, 0.010020639, 0.010196301, 0.009989459, 0.010072401, 0.010074359, 0.010020299, 0.010662979, 0.010289254, 0.012696713, 0.010401846, 0.010265333, 0.009794754, 0.009864968, 0.010489954, 0.010058074, 0.01032388, 0.010323713, 0.009878178, 0.009701059, 0.009991044, 0.009935494, 0.009895513, 0.009865225, 0.009729199, 0.009634727, 0.010084002, 0.009730722, 0.009924773, 0.010047413, 0.010413985, 0.009992834, 0.009958683, 0.010201134, 0.0100834565, 0.009787424, 0.010296673, 0.010265883, 0.01001096, 0.010124419, 0.010257446, 0.010037484, 0.009721779, 0.01006864, 0.010385958, 0.010338158, 0.009889426, 0.010002838, 0.010001727, 0.010107003, 0.010525698, 0.010281441, 0.0100258915, 0.010528891, 0.0098772915, 0.009912686, 0.010097508, 0.009932779, 0.010348961, 0.009922715, 0.009844522, 0.010687072, 0.009530184, 0.010013294, 0.010021798, 0.009766644, 0.010042863, 0.009967604, 0.010185325, 0.009747091, 0.0101204235, 0.009878525, 0.010256749, 0.009841476, 0.010363347, 0.010452832, 0.010048547, 0.010423852, 0.0098613445, 0.01059327, 0.010125413, 0.009927032, 0.009935792, 0.009699223, 0.010253369, 0.009764868, 0.009721313]\n",
      "2022-02-28 21:11:51,529 : INFO : merging changes from 2000 documents into a model of 3204 documents\n",
      "2022-02-28 21:11:51,533 : INFO : topic #75 (0.010): 0.059*\"gamma\" + 0.054*\"overlap\" + 0.053*\"problem\" + 0.050*\"comput\" + 0.038*\"student\" + 0.034*\"devic\" + 0.030*\"function\" + 0.029*\"combinatori\" + 0.024*\"summat\" + 0.024*\";\"\n",
      "2022-02-28 21:11:51,534 : INFO : topic #38 (0.010): 0.218*\"sort\" + 0.102*\"differ\" + 0.065*\"variat\" + 0.047*\"intern\" + 0.046*\"comput\" + 0.043*\"statist\" + 0.043*\"program\" + 0.041*\"method\" + 0.033*\"merg\" + 0.029*\"extens\"\n",
      "2022-02-28 21:11:51,534 : INFO : topic #74 (0.011): 0.116*\"tree\" + 0.089*\"search\" + 0.052*\",\" + 0.037*\"time\" + 0.033*\"node\" + 0.032*\"averag\" + 0.031*\"structur\" + 0.031*\"cost\" + 0.021*\"area\" + 0.019*\"minimum\"\n",
      "2022-02-28 21:11:51,535 : INFO : topic #20 (0.011): 0.062*\",\" + 0.052*\"program\" + 0.045*\"data\" + 0.044*\"comput\" + 0.039*\"structur\" + 0.037*\"scienc\" + 0.031*\"-\" + 0.024*\"system\" + 0.022*\"organ\" + 0.020*\"cours\"\n",
      "2022-02-28 21:11:51,535 : INFO : topic #22 (0.013): 0.286*\"(\" + 0.269*\")\" + 0.230*\"algorithm\" + 0.032*\"function\" + 0.029*\"[\" + 0.016*\"integr\" + 0.012*\"-\" + 0.012*\"squar\" + 0.011*\"interpol\" + 0.010*\"s14\"\n",
      "2022-02-28 21:11:51,536 : INFO : topic diff=0.380003, rho=0.466151\n",
      "2022-02-28 21:11:52,025 : INFO : -6.781 per-word bound, 110.0 perplexity estimate based on a held-out corpus of 1204 documents with 49783 words\n",
      "2022-02-28 21:11:52,026 : INFO : PROGRESS: pass 2, at document #3204/3204\n",
      "2022-02-28 21:11:52,381 : INFO : optimized alpha [0.0097382115, 0.010034643, 0.010083344, 0.010590468, 0.010494346, 0.01082614, 0.009931669, 0.010113567, 0.009793725, 0.0104219485, 0.010676569, 0.010603686, 0.009770315, 0.010546875, 0.010280888, 0.01048774, 0.010043722, 0.0101593435, 0.010237186, 0.010174598, 0.0109473625, 0.010445545, 0.013723877, 0.010652746, 0.01039711, 0.00983897, 0.0099884095, 0.010769389, 0.010194829, 0.010433803, 0.010594866, 0.010003517, 0.009697577, 0.00998816, 0.010032204, 0.009900105, 0.009941708, 0.009771292, 0.009646562, 0.010306299, 0.009761166, 0.009953684, 0.010200242, 0.0106968535, 0.010107452, 0.010080247, 0.010231629, 0.010242607, 0.009887, 0.010614046, 0.010510417, 0.0100809885, 0.010302903, 0.010500115, 0.010197977, 0.00987799, 0.010117924, 0.0106784385, 0.01055952, 0.009994606, 0.010019184, 0.010122835, 0.010215359, 0.010809869, 0.010455677, 0.010143222, 0.010655168, 0.009939253, 0.0099880695, 0.010276204, 0.009971507, 0.010504254, 0.010033631, 0.009940604, 0.011096154, 0.009529076, 0.0102078, 0.010250471, 0.00983477, 0.010188694, 0.010088043, 0.010430959, 0.009827082, 0.010266146, 0.009954737, 0.010466488, 0.009951357, 0.010663286, 0.010758819, 0.010150677, 0.010588858, 0.009889706, 0.010829477, 0.010303633, 0.010151797, 0.009988297, 0.009789133, 0.010494384, 0.00983891, 0.009773854]\n",
      "2022-02-28 21:11:52,384 : INFO : merging changes from 1204 documents into a model of 3204 documents\n",
      "2022-02-28 21:11:52,387 : INFO : topic #75 (0.010): 0.076*\"gamma\" + 0.065*\"student\" + 0.061*\"overlap\" + 0.057*\"problem\" + 0.055*\"comput\" + 0.039*\"combinatori\" + 0.038*\"devic\" + 0.037*\";\" + 0.032*\"summat\" + 0.024*\"function\"\n",
      "2022-02-28 21:11:52,387 : INFO : topic #38 (0.010): 0.252*\"sort\" + 0.113*\"differ\" + 0.078*\"variat\" + 0.055*\"merg\" + 0.042*\"program\" + 0.039*\"comput\" + 0.034*\"method\" + 0.034*\"statist\" + 0.033*\"intern\" + 0.030*\"extens\"\n",
      "2022-02-28 21:11:52,388 : INFO : topic #20 (0.011): 0.066*\",\" + 0.052*\"program\" + 0.050*\"comput\" + 0.047*\"data\" + 0.043*\"scienc\" + 0.043*\"structur\" + 0.027*\"-\" + 0.024*\"cours\" + 0.024*\"organ\" + 0.021*\"system\"\n",
      "2022-02-28 21:11:52,388 : INFO : topic #74 (0.011): 0.137*\"tree\" + 0.091*\"search\" + 0.058*\",\" + 0.038*\"node\" + 0.038*\"cost\" + 0.035*\"time\" + 0.034*\"structur\" + 0.034*\"averag\" + 0.023*\"area\" + 0.020*\"binari\"\n",
      "2022-02-28 21:11:52,389 : INFO : topic #22 (0.014): 0.304*\"(\" + 0.284*\")\" + 0.226*\"algorithm\" + 0.032*\"[\" + 0.028*\"function\" + 0.014*\"integr\" + 0.012*\"-\" + 0.010*\"squar\" + 0.009*\"interpol\" + 0.009*\"remov\"\n",
      "2022-02-28 21:11:52,389 : INFO : topic diff=0.506083, rho=0.466151\n",
      "2022-02-28 21:11:52,394 : INFO : PROGRESS: pass 3, at document #2000/3204\n",
      "2022-02-28 21:11:52,794 : INFO : optimized alpha [0.009700232, 0.009984773, 0.010052227, 0.010561838, 0.010437597, 0.010867939, 0.009982894, 0.010064918, 0.009747689, 0.010422846, 0.010665739, 0.010542986, 0.009823177, 0.010713019, 0.0102802655, 0.010529704, 0.010206757, 0.010288156, 0.010305305, 0.010115469, 0.010993833, 0.010412007, 0.015122298, 0.010687639, 0.010486088, 0.009827542, 0.009948039, 0.010799392, 0.010203134, 0.01062557, 0.0105435345, 0.010028579, 0.009676092, 0.009972332, 0.010058596, 0.009944786, 0.009861703, 0.009750699, 0.009703178, 0.010279284, 0.009857378, 0.009918238, 0.010287024, 0.010657373, 0.010106691, 0.010104708, 0.010564747, 0.0103981495, 0.009849901, 0.01070523, 0.010538883, 0.010079643, 0.010323318, 0.0106245335, 0.010160003, 0.009889814, 0.01021743, 0.0106279645, 0.0105053205, 0.010011287, 0.009991793, 0.010094344, 0.010175173, 0.0107748965, 0.010480769, 0.0101995235, 0.010843589, 0.01005098, 0.009936859, 0.010233231, 0.010096363, 0.010485298, 0.009964457, 0.009902874, 0.0110562015, 0.00949748, 0.010381974, 0.010234228, 0.009847335, 0.010188775, 0.010129131, 0.0105355885, 0.009803483, 0.010287199, 0.009942585, 0.0105157355, 0.009940656, 0.010599497, 0.010776614, 0.010174764, 0.01074059, 0.00989279, 0.011032308, 0.01026438, 0.010094998, 0.009937228, 0.009830063, 0.010568579, 0.009852471, 0.009775538]\n",
      "2022-02-28 21:11:52,797 : INFO : merging changes from 2000 documents into a model of 3204 documents\n",
      "2022-02-28 21:11:52,800 : INFO : topic #75 (0.009): 0.062*\"gamma\" + 0.060*\"student\" + 0.060*\"comput\" + 0.059*\"problem\" + 0.059*\"overlap\" + 0.046*\"devic\" + 0.044*\"combinatori\" + 0.037*\";\" + 0.029*\"summat\" + 0.026*\"function\"\n",
      "2022-02-28 21:11:52,800 : INFO : topic #0 (0.010): 0.095*\",\" + 0.052*\"-\" + 0.034*\"comput\" + 0.028*\"machin\" + 0.025*\";\" + 0.024*\"\"\" + 0.023*\"aid\" + 0.016*\":\" + 0.016*\"(\" + 0.014*\"process\"\n",
      "2022-02-28 21:11:52,800 : INFO : topic #92 (0.011): 0.123*\"languag\" + 0.070*\"statement\" + 0.063*\"compil\" + 0.045*\",\" + 0.035*\"\"\" + 0.034*\"program\" + 0.032*\"-\" + 0.023*\"condit\" + 0.017*\"assembl\" + 0.016*\"algol\"\n",
      "2022-02-28 21:11:52,801 : INFO : topic #74 (0.011): 0.128*\"tree\" + 0.098*\"search\" + 0.056*\",\" + 0.035*\"node\" + 0.035*\"time\" + 0.034*\"structur\" + 0.034*\"cost\" + 0.031*\"averag\" + 0.022*\"area\" + 0.020*\"binari\"\n",
      "2022-02-28 21:11:52,801 : INFO : topic #22 (0.015): 0.311*\"(\" + 0.298*\")\" + 0.225*\"algorithm\" + 0.028*\"function\" + 0.019*\"[\" + 0.016*\"integr\" + 0.011*\"-\" + 0.009*\"s14\" + 0.009*\"squar\" + 0.008*\"interpol\"\n",
      "2022-02-28 21:11:52,801 : INFO : topic diff=0.523359, rho=0.422502\n",
      "2022-02-28 21:11:53,265 : INFO : -6.699 per-word bound, 103.9 perplexity estimate based on a held-out corpus of 1204 documents with 49783 words\n",
      "2022-02-28 21:11:53,266 : INFO : PROGRESS: pass 3, at document #3204/3204\n",
      "2022-02-28 21:11:53,604 : INFO : optimized alpha [0.00970709, 0.010142477, 0.01013211, 0.010810019, 0.010672562, 0.0111452965, 0.010064476, 0.010159751, 0.009793751, 0.010612748, 0.010958751, 0.010685411, 0.009854832, 0.010874312, 0.010559251, 0.010839934, 0.010294532, 0.010406261, 0.010472057, 0.010256531, 0.011243372, 0.010554894, 0.016386276, 0.010925693, 0.0106251305, 0.009889633, 0.010103498, 0.011021867, 0.010342442, 0.010743343, 0.0108296815, 0.010182275, 0.009678056, 0.009950053, 0.0101715345, 0.009953212, 0.00993217, 0.00982786, 0.009717762, 0.0105047235, 0.009912674, 0.009977437, 0.010456046, 0.010924816, 0.010236411, 0.010229997, 0.010570334, 0.01060154, 0.009951739, 0.011052437, 0.0107597355, 0.010165333, 0.0105234245, 0.010862718, 0.0103032, 0.010043498, 0.010268653, 0.01092693, 0.010712016, 0.010136082, 0.010057884, 0.010255005, 0.01025984, 0.011032067, 0.010662179, 0.010342632, 0.01096543, 0.010117481, 0.010034786, 0.010385548, 0.0101379575, 0.010627216, 0.010069628, 0.010029764, 0.011450715, 0.009508411, 0.010634066, 0.010505804, 0.009923741, 0.010343979, 0.010260287, 0.010806561, 0.0099153025, 0.010457208, 0.010019568, 0.01070407, 0.010048127, 0.010882771, 0.011062964, 0.010278719, 0.010925378, 0.0099439435, 0.011269248, 0.010460286, 0.010354155, 0.009996843, 0.00993636, 0.010820411, 0.009937499, 0.009837909]\n",
      "2022-02-28 21:11:53,607 : INFO : merging changes from 1204 documents into a model of 3204 documents\n",
      "2022-02-28 21:11:53,610 : INFO : topic #75 (0.010): 0.089*\"student\" + 0.075*\"gamma\" + 0.062*\"overlap\" + 0.062*\"problem\" + 0.061*\"comput\" + 0.051*\"combinatori\" + 0.042*\"devic\" + 0.040*\";\" + 0.036*\"summat\" + 0.027*\"relationship\"\n",
      "2022-02-28 21:11:53,611 : INFO : topic #38 (0.010): 0.287*\"sort\" + 0.115*\"differ\" + 0.075*\"merg\" + 0.073*\"variat\" + 0.038*\"program\" + 0.035*\"comput\" + 0.035*\"intern\" + 0.032*\"statist\" + 0.028*\"method\" + 0.028*\"extens\"\n",
      "2022-02-28 21:11:53,611 : INFO : topic #92 (0.011): 0.125*\"languag\" + 0.066*\"statement\" + 0.059*\"compil\" + 0.045*\",\" + 0.039*\"program\" + 0.036*\"\"\" + 0.030*\"-\" + 0.028*\"condit\" + 0.022*\"class\" + 0.018*\"restrict\"\n",
      "2022-02-28 21:11:53,612 : INFO : topic #74 (0.011): 0.144*\"tree\" + 0.098*\"search\" + 0.060*\",\" + 0.040*\"cost\" + 0.039*\"node\" + 0.037*\"structur\" + 0.034*\"time\" + 0.032*\"averag\" + 0.025*\"area\" + 0.024*\"binari\"\n",
      "2022-02-28 21:11:53,613 : INFO : topic #22 (0.016): 0.323*\"(\" + 0.305*\")\" + 0.224*\"algorithm\" + 0.025*\"function\" + 0.022*\"[\" + 0.013*\"integr\" + 0.011*\"-\" + 0.007*\"deviat\" + 0.007*\"squar\" + 0.007*\"s14\"\n",
      "2022-02-28 21:11:53,615 : INFO : topic diff=0.638325, rho=0.422502\n",
      "2022-02-28 21:11:53,621 : INFO : PROGRESS: pass 4, at document #2000/3204\n",
      "2022-02-28 21:11:54,016 : INFO : optimized alpha [0.009681398, 0.010104158, 0.010115889, 0.010792332, 0.0106186345, 0.01118259, 0.01012575, 0.0101233665, 0.009765986, 0.010606437, 0.010954989, 0.01064841, 0.009921569, 0.011040045, 0.01056884, 0.010881366, 0.010454857, 0.010538454, 0.010542952, 0.010202059, 0.011307208, 0.010538344, 0.017964473, 0.010967583, 0.010733079, 0.009887539, 0.010075814, 0.011070039, 0.010360014, 0.01094209, 0.010790516, 0.010232895, 0.009671192, 0.009933333, 0.010211762, 0.010006873, 0.0098579535, 0.009822875, 0.009772629, 0.01048658, 0.010033282, 0.009957394, 0.010548724, 0.010892717, 0.010241582, 0.010260488, 0.010897442, 0.010767272, 0.009929606, 0.011155397, 0.010799747, 0.010180203, 0.010553801, 0.010982548, 0.010272056, 0.010071805, 0.010363084, 0.010892754, 0.010661034, 0.010173094, 0.010055252, 0.010248293, 0.010233439, 0.01101082, 0.010699302, 0.010427105, 0.011130787, 0.010237245, 0.0099921, 0.010357781, 0.010274169, 0.010605293, 0.01000654, 0.010012757, 0.011416352, 0.00949374, 0.010837013, 0.010501123, 0.009941485, 0.010353787, 0.0103020165, 0.010896918, 0.0099130105, 0.0105132, 0.010022622, 0.010761753, 0.010054012, 0.010838633, 0.01109061, 0.010323247, 0.011079794, 0.009959055, 0.0114731975, 0.010435398, 0.010295539, 0.009966643, 0.009997343, 0.010903197, 0.009955922, 0.009845751]\n",
      "2022-02-28 21:11:54,019 : INFO : merging changes from 2000 documents into a model of 3204 documents\n",
      "2022-02-28 21:11:54,022 : INFO : topic #75 (0.009): 0.087*\"student\" + 0.065*\"comput\" + 0.064*\"gamma\" + 0.064*\"problem\" + 0.060*\"overlap\" + 0.053*\"combinatori\" + 0.048*\"devic\" + 0.040*\";\" + 0.033*\"summat\" + 0.025*\"continu\"\n",
      "2022-02-28 21:11:54,024 : INFO : topic #32 (0.010): 0.066*\"speed\" + 0.042*\"coordin\" + 0.040*\",\" + 0.037*\"comput\" + 0.035*\"-\" + 0.034*\"equat\" + 0.031*\"digit\" + 0.024*\"system\" + 0.022*\"fundament\" + 0.021*\"high\"\n",
      "2022-02-28 21:11:54,024 : INFO : topic #74 (0.011): 0.138*\"tree\" + 0.103*\"search\" + 0.058*\",\" + 0.037*\"node\" + 0.037*\"structur\" + 0.036*\"cost\" + 0.034*\"time\" + 0.030*\"averag\" + 0.025*\"binari\" + 0.024*\"area\"\n",
      "2022-02-28 21:11:54,025 : INFO : topic #92 (0.011): 0.138*\"languag\" + 0.073*\"statement\" + 0.063*\"compil\" + 0.044*\",\" + 0.041*\"program\" + 0.034*\"-\" + 0.033*\"\"\" + 0.021*\"condit\" + 0.020*\"assembl\" + 0.017*\"class\"\n",
      "2022-02-28 21:11:54,026 : INFO : topic #22 (0.018): 0.326*\"(\" + 0.313*\")\" + 0.221*\"algorithm\" + 0.025*\"function\" + 0.016*\"integr\" + 0.014*\"[\" + 0.010*\"-\" + 0.008*\"s14\" + 0.007*\"squar\" + 0.007*\"interpol\"\n",
      "2022-02-28 21:11:54,026 : INFO : topic diff=0.622624, rho=0.389191\n",
      "2022-02-28 21:11:54,489 : INFO : -6.643 per-word bound, 100.0 perplexity estimate based on a held-out corpus of 1204 documents with 49783 words\n",
      "2022-02-28 21:11:54,490 : INFO : PROGRESS: pass 4, at document #3204/3204\n",
      "2022-02-28 21:11:54,817 : INFO : optimized alpha [0.0097210575, 0.010263986, 0.010203653, 0.011034521, 0.010834113, 0.011438713, 0.010224475, 0.010218464, 0.009822344, 0.010783098, 0.011229275, 0.010798122, 0.009960751, 0.011196932, 0.01084039, 0.011166098, 0.010552587, 0.010664863, 0.010718424, 0.010339774, 0.011543459, 0.010698851, 0.019520935, 0.011204196, 0.0108764535, 0.009955381, 0.01022698, 0.01127739, 0.010499394, 0.011050402, 0.011057871, 0.010422774, 0.0096837655, 0.009924643, 0.010313306, 0.010028022, 0.009924047, 0.009907642, 0.009796011, 0.01069331, 0.010087292, 0.010029151, 0.0107510565, 0.011145869, 0.0103889275, 0.010386827, 0.010899263, 0.010984934, 0.010043726, 0.011504999, 0.011012825, 0.010289598, 0.010757795, 0.011223199, 0.010398563, 0.010231331, 0.010413533, 0.011183227, 0.010881548, 0.010298927, 0.010117058, 0.010441298, 0.010318896, 0.011247278, 0.010871701, 0.010553246, 0.0112284515, 0.010301571, 0.010122677, 0.010529831, 0.010298511, 0.0107477475, 0.010111188, 0.010143917, 0.0117576765, 0.009526821, 0.011137744, 0.010772629, 0.010028666, 0.0105150435, 0.010417059, 0.011186701, 0.010020225, 0.0106958, 0.010104197, 0.010940769, 0.010163756, 0.011107016, 0.011373371, 0.010419556, 0.011258943, 0.010029783, 0.011683634, 0.01064182, 0.010547749, 0.010035675, 0.010095821, 0.011192554, 0.010028568, 0.009929501]\n",
      "2022-02-28 21:11:54,819 : INFO : merging changes from 1204 documents into a model of 3204 documents\n",
      "2022-02-28 21:11:54,823 : INFO : topic #75 (0.010): 0.113*\"student\" + 0.072*\"gamma\" + 0.071*\"comput\" + 0.062*\"problem\" + 0.060*\"overlap\" + 0.054*\"combinatori\" + 0.047*\";\" + 0.042*\"devic\" + 0.037*\"summat\" + 0.031*\"relationship\"\n",
      "2022-02-28 21:11:54,823 : INFO : topic #32 (0.010): 0.073*\"speed\" + 0.047*\"coordin\" + 0.040*\",\" + 0.033*\"-\" + 0.033*\"comput\" + 0.029*\"fundament\" + 0.028*\"digit\" + 0.027*\"equat\" + 0.024*\"high\" + 0.024*\"system\"\n",
      "2022-02-28 21:11:54,823 : INFO : topic #92 (0.012): 0.138*\"languag\" + 0.070*\"statement\" + 0.060*\"compil\" + 0.045*\"program\" + 0.045*\",\" + 0.032*\"\"\" + 0.032*\"-\" + 0.026*\"condit\" + 0.023*\"class\" + 0.019*\"form\"\n",
      "2022-02-28 21:11:54,824 : INFO : topic #74 (0.012): 0.153*\"tree\" + 0.103*\"search\" + 0.062*\",\" + 0.041*\"node\" + 0.041*\"cost\" + 0.038*\"structur\" + 0.033*\"time\" + 0.031*\"averag\" + 0.027*\"binari\" + 0.027*\"area\"\n",
      "2022-02-28 21:11:54,824 : INFO : topic #22 (0.020): 0.337*\"(\" + 0.318*\")\" + 0.220*\"algorithm\" + 0.023*\"function\" + 0.014*\"[\" + 0.014*\"integr\" + 0.010*\"-\" + 0.007*\"deviat\" + 0.006*\"s14\" + 0.006*\"interpol\"\n",
      "2022-02-28 21:11:54,824 : INFO : topic diff=0.687154, rho=0.389191\n",
      "2022-02-28 21:11:54,829 : INFO : PROGRESS: pass 5, at document #2000/3204\n",
      "2022-02-28 21:11:55,214 : INFO : optimized alpha [0.009701639, 0.010237177, 0.01019273, 0.011018616, 0.010788555, 0.011483139, 0.010302532, 0.010192402, 0.009809822, 0.01078239, 0.011232057, 0.010761454, 0.010032759, 0.011359756, 0.010859566, 0.011203694, 0.010717676, 0.010797207, 0.010798173, 0.010300324, 0.011600193, 0.010690906, 0.021303289, 0.01127108, 0.010978109, 0.009972103, 0.010212066, 0.0113422675, 0.010521386, 0.011244991, 0.011031541, 0.010484938, 0.00968204, 0.009916123, 0.010352965, 0.010091575, 0.009859863, 0.009910519, 0.009847922, 0.010684994, 0.010208494, 0.010018526, 0.010857665, 0.011110212, 0.01040667, 0.010428564, 0.011247459, 0.011165757, 0.010030499, 0.011613633, 0.011073463, 0.010311098, 0.010799331, 0.0113519, 0.010375244, 0.010291184, 0.010508063, 0.011149145, 0.010842785, 0.010346673, 0.010115302, 0.010441716, 0.01029857, 0.011221902, 0.010919894, 0.01063851, 0.011384112, 0.01042196, 0.010092122, 0.0105071785, 0.010438345, 0.01073711, 0.010054732, 0.0101390295, 0.011729068, 0.009522714, 0.011378154, 0.010792094, 0.010050918, 0.010533432, 0.010456144, 0.011299313, 0.010032823, 0.010771483, 0.010112908, 0.010996487, 0.010176775, 0.011055727, 0.011410247, 0.01047487, 0.011431665, 0.010058977, 0.011888279, 0.010640915, 0.010493209, 0.010017439, 0.010160383, 0.011269539, 0.010053441, 0.0099479025]\n",
      "2022-02-28 21:11:55,217 : INFO : merging changes from 2000 documents into a model of 3204 documents\n",
      "2022-02-28 21:11:55,220 : INFO : topic #75 (0.010): 0.110*\"student\" + 0.073*\"comput\" + 0.065*\"gamma\" + 0.064*\"problem\" + 0.059*\"overlap\" + 0.055*\"combinatori\" + 0.048*\"devic\" + 0.045*\";\" + 0.033*\"summat\" + 0.026*\"continu\"\n",
      "2022-02-28 21:11:55,220 : INFO : topic #32 (0.010): 0.075*\"speed\" + 0.043*\"coordin\" + 0.038*\",\" + 0.038*\"comput\" + 0.036*\"-\" + 0.033*\"equat\" + 0.031*\"digit\" + 0.026*\"system\" + 0.025*\"high\" + 0.025*\"fundament\"\n",
      "2022-02-28 21:11:55,221 : INFO : topic #74 (0.012): 0.147*\"tree\" + 0.108*\"search\" + 0.060*\",\" + 0.039*\"node\" + 0.038*\"structur\" + 0.037*\"cost\" + 0.034*\"time\" + 0.029*\"averag\" + 0.028*\"binari\" + 0.027*\"area\"\n",
      "2022-02-28 21:11:55,221 : INFO : topic #92 (0.012): 0.149*\"languag\" + 0.074*\"statement\" + 0.063*\"compil\" + 0.046*\"program\" + 0.045*\",\" + 0.035*\"-\" + 0.030*\"\"\" + 0.022*\"assembl\" + 0.021*\"condit\" + 0.019*\"class\"\n",
      "2022-02-28 21:11:55,221 : INFO : topic #22 (0.021): 0.337*\"(\" + 0.322*\")\" + 0.218*\"algorithm\" + 0.023*\"function\" + 0.016*\"integr\" + 0.010*\"[\" + 0.009*\"-\" + 0.008*\"s14\" + 0.006*\"interpol\" + 0.005*\"deviat\"\n",
      "2022-02-28 21:11:55,222 : INFO : topic diff=0.628896, rho=0.362690\n",
      "2022-02-28 21:11:55,659 : INFO : -6.599 per-word bound, 97.0 perplexity estimate based on a held-out corpus of 1204 documents with 49783 words\n",
      "2022-02-28 21:11:55,660 : INFO : PROGRESS: pass 5, at document #3204/3204\n",
      "2022-02-28 21:11:55,973 : INFO : optimized alpha [0.009760315, 0.010393736, 0.010287747, 0.01124053, 0.010978296, 0.011715102, 0.010426282, 0.0103006335, 0.009872264, 0.010951913, 0.011515217, 0.01091528, 0.010075498, 0.011517367, 0.011126694, 0.011487484, 0.010808758, 0.010922147, 0.0109601375, 0.010448674, 0.011819475, 0.010848516, 0.023107102, 0.011494865, 0.011109599, 0.0100541385, 0.010360418, 0.011534094, 0.010652448, 0.011328802, 0.011300967, 0.010680251, 0.009700717, 0.0099156145, 0.010467092, 0.010148267, 0.009919472, 0.009993324, 0.009876027, 0.010876648, 0.010267993, 0.010089284, 0.011078706, 0.011355885, 0.010548429, 0.010563059, 0.011238791, 0.011418918, 0.01016844, 0.011958319, 0.011281205, 0.010435724, 0.011011573, 0.011579637, 0.010506792, 0.010444576, 0.010558198, 0.011424022, 0.011047348, 0.010471194, 0.010186077, 0.010636456, 0.010376013, 0.011437944, 0.011095347, 0.010756815, 0.011464402, 0.010491138, 0.010224446, 0.010672376, 0.01045724, 0.010874484, 0.010168639, 0.010296407, 0.012067051, 0.009580416, 0.011690005, 0.0110626975, 0.010126846, 0.010707797, 0.010564069, 0.011599048, 0.010148874, 0.010947058, 0.010195899, 0.011161621, 0.0102799535, 0.011325859, 0.011702631, 0.010587435, 0.011617633, 0.010149904, 0.012072418, 0.01084217, 0.010725251, 0.010107015, 0.010255813, 0.011582497, 0.010121753, 0.010032707]\n",
      "2022-02-28 21:11:55,976 : INFO : merging changes from 1204 documents into a model of 3204 documents\n",
      "2022-02-28 21:11:55,979 : INFO : topic #75 (0.010): 0.125*\"student\" + 0.076*\"comput\" + 0.068*\"gamma\" + 0.061*\"problem\" + 0.058*\";\" + 0.056*\"overlap\" + 0.055*\"combinatori\" + 0.042*\"devic\" + 0.035*\"relationship\" + 0.035*\"summat\"\n",
      "2022-02-28 21:11:55,980 : INFO : topic #32 (0.010): 0.081*\"speed\" + 0.048*\"coordin\" + 0.038*\",\" + 0.034*\"-\" + 0.033*\"comput\" + 0.031*\"fundament\" + 0.028*\"digit\" + 0.027*\"high\" + 0.027*\"equat\" + 0.025*\"system\"\n",
      "2022-02-28 21:11:55,980 : INFO : topic #74 (0.012): 0.159*\"tree\" + 0.105*\"search\" + 0.064*\",\" + 0.042*\"node\" + 0.042*\"cost\" + 0.040*\"structur\" + 0.033*\"time\" + 0.030*\"averag\" + 0.030*\"binari\" + 0.028*\"area\"\n",
      "2022-02-28 21:11:55,980 : INFO : topic #92 (0.012): 0.149*\"languag\" + 0.072*\"statement\" + 0.062*\"compil\" + 0.050*\"program\" + 0.045*\",\" + 0.034*\"-\" + 0.030*\"\"\" + 0.024*\"condit\" + 0.024*\"class\" + 0.019*\"assembl\"\n",
      "2022-02-28 21:11:55,981 : INFO : topic #22 (0.023): 0.349*\"(\" + 0.326*\")\" + 0.215*\"algorithm\" + 0.022*\"function\" + 0.014*\"integr\" + 0.009*\"-\" + 0.009*\"[\" + 0.006*\"s14\" + 0.006*\"deviat\" + 0.005*\"interpol\"\n",
      "2022-02-28 21:11:55,981 : INFO : topic diff=0.654605, rho=0.362690\n",
      "2022-02-28 21:11:55,986 : INFO : PROGRESS: pass 6, at document #2000/3204\n",
      "2022-02-28 21:11:56,356 : INFO : optimized alpha [0.009747815, 0.01037888, 0.010288262, 0.011230284, 0.010934741, 0.0117665045, 0.010514585, 0.010283442, 0.009864457, 0.010958369, 0.01152004, 0.0108786225, 0.010154307, 0.011668725, 0.011160506, 0.011529716, 0.010983018, 0.01105377, 0.011035533, 0.010427393, 0.011872439, 0.010846392, 0.02508111, 0.011561733, 0.011215928, 0.010075433, 0.010338891, 0.011599114, 0.010678604, 0.0115302205, 0.011276333, 0.010751527, 0.0097067505, 0.009913994, 0.010504614, 0.010219223, 0.009867119, 0.009999744, 0.009929024, 0.010868204, 0.010399266, 0.010088489, 0.011202838, 0.011332484, 0.010563318, 0.010606059, 0.011587999, 0.011611727, 0.010173292, 0.01206905, 0.01134396, 0.010463117, 0.011057702, 0.011709939, 0.010486547, 0.010508276, 0.010646239, 0.011391973, 0.011019443, 0.010521661, 0.010188493, 0.010652509, 0.010361047, 0.011418861, 0.011157786, 0.010845039, 0.011610331, 0.010616447, 0.010206281, 0.010654287, 0.010593962, 0.010864394, 0.010122817, 0.010309147, 0.012041654, 0.009583639, 0.011922507, 0.01108544, 0.010153384, 0.010741253, 0.010602895, 0.011731403, 0.010164262, 0.011031795, 0.010206131, 0.011221711, 0.010294161, 0.0112737175, 0.011742264, 0.010645513, 0.011792799, 0.010198562, 0.012280875, 0.0108480435, 0.010668781, 0.010104102, 0.010308448, 0.011668327, 0.010157642, 0.010053781]\n",
      "2022-02-28 21:11:56,359 : INFO : merging changes from 2000 documents into a model of 3204 documents\n",
      "2022-02-28 21:11:56,362 : INFO : topic #75 (0.010): 0.124*\"student\" + 0.079*\"comput\" + 0.064*\"problem\" + 0.062*\"gamma\" + 0.057*\"overlap\" + 0.056*\"combinatori\" + 0.054*\";\" + 0.047*\"devic\" + 0.033*\"summat\" + 0.027*\"relationship\"\n",
      "2022-02-28 21:11:56,363 : INFO : topic #32 (0.010): 0.081*\"speed\" + 0.044*\"coordin\" + 0.038*\"comput\" + 0.037*\"-\" + 0.036*\",\" + 0.032*\"equat\" + 0.030*\"digit\" + 0.029*\"high\" + 0.027*\"system\" + 0.026*\"fundament\"\n",
      "2022-02-28 21:11:56,363 : INFO : topic #49 (0.012): 0.180*\"implement\" + 0.135*\"machin\" + 0.091*\"base\" + 0.065*\"-\" + 0.049*\"program\" + 0.040*\"characterist\" + 0.033*\"propos\" + 0.030*\"architectur\" + 0.027*\"discuss\" + 0.022*\"data\"\n",
      "2022-02-28 21:11:56,364 : INFO : topic #92 (0.012): 0.156*\"languag\" + 0.075*\"statement\" + 0.064*\"compil\" + 0.051*\"program\" + 0.045*\",\" + 0.037*\"-\" + 0.029*\"\"\" + 0.023*\"assembl\" + 0.020*\"class\" + 0.020*\"condit\"\n",
      "2022-02-28 21:11:56,364 : INFO : topic #22 (0.025): 0.346*\"(\" + 0.329*\")\" + 0.215*\"algorithm\" + 0.022*\"function\" + 0.016*\"integr\" + 0.009*\"-\" + 0.008*\"s14\" + 0.006*\"[\" + 0.005*\"interpol\" + 0.005*\"deviat\"\n",
      "2022-02-28 21:11:56,364 : INFO : topic diff=0.580302, rho=0.340958\n",
      "2022-02-28 21:11:56,788 : INFO : -6.567 per-word bound, 94.8 perplexity estimate based on a held-out corpus of 1204 documents with 49783 words\n",
      "2022-02-28 21:11:56,789 : INFO : PROGRESS: pass 6, at document #3204/3204\n",
      "2022-02-28 21:11:57,095 : INFO : optimized alpha [0.009809446, 0.010542361, 0.010366688, 0.011441444, 0.011111978, 0.011980923, 0.010655862, 0.01038928, 0.009935272, 0.011132037, 0.011797143, 0.011046336, 0.010209231, 0.011818313, 0.011428673, 0.01179808, 0.011071717, 0.0111782625, 0.011201836, 0.010580065, 0.012077552, 0.011005392, 0.027061112, 0.011788385, 0.01135038, 0.0101675745, 0.010485516, 0.01176491, 0.01082123, 0.011611701, 0.011536538, 0.010953072, 0.009730715, 0.009923331, 0.0106158955, 0.010287456, 0.009927037, 0.010087005, 0.009958677, 0.011050327, 0.010460984, 0.010167332, 0.011443079, 0.011576376, 0.010700885, 0.01073358, 0.011572942, 0.011864468, 0.01032171, 0.0123975985, 0.011548264, 0.010587384, 0.011260058, 0.011930528, 0.010608411, 0.010669193, 0.010699519, 0.01164776, 0.011223475, 0.010651747, 0.0102761425, 0.010847062, 0.010440769, 0.01163403, 0.011330825, 0.010957039, 0.011665601, 0.010675453, 0.01037277, 0.010823338, 0.010623289, 0.01100736, 0.0102368165, 0.0104765035, 0.012357795, 0.009652329, 0.012247201, 0.0113631375, 0.010242821, 0.010922555, 0.010702103, 0.012039303, 0.010277351, 0.011224245, 0.010285005, 0.011378573, 0.010400866, 0.011527909, 0.012025564, 0.010761304, 0.011983093, 0.010310866, 0.012448522, 0.011033534, 0.010880648, 0.010189194, 0.010393072, 0.011992462, 0.010234, 0.010145735]\n",
      "2022-02-28 21:11:57,098 : INFO : merging changes from 1204 documents into a model of 3204 documents\n",
      "2022-02-28 21:11:57,102 : INFO : topic #75 (0.010): 0.133*\"student\" + 0.082*\"comput\" + 0.064*\"gamma\" + 0.063*\";\" + 0.062*\"problem\" + 0.055*\"combinatori\" + 0.054*\"overlap\" + 0.041*\"devic\" + 0.040*\"close\" + 0.036*\"relationship\"\n",
      "2022-02-28 21:11:57,102 : INFO : topic #32 (0.010): 0.086*\"speed\" + 0.048*\"coordin\" + 0.036*\",\" + 0.035*\"-\" + 0.034*\"comput\" + 0.032*\"fundament\" + 0.029*\"high\" + 0.028*\"digit\" + 0.027*\"equat\" + 0.026*\"system\"\n",
      "2022-02-28 21:11:57,103 : INFO : topic #49 (0.012): 0.199*\"implement\" + 0.123*\"machin\" + 0.094*\"base\" + 0.062*\"-\" + 0.045*\"program\" + 0.042*\"characterist\" + 0.038*\"architectur\" + 0.036*\"propos\" + 0.030*\"discuss\" + 0.023*\"specif\"\n",
      "2022-02-28 21:11:57,103 : INFO : topic #92 (0.012): 0.155*\"languag\" + 0.073*\"statement\" + 0.063*\"compil\" + 0.054*\"program\" + 0.045*\",\" + 0.035*\"-\" + 0.027*\"\"\" + 0.025*\"class\" + 0.022*\"condit\" + 0.021*\"assembl\"\n",
      "2022-02-28 21:11:57,104 : INFO : topic #22 (0.027): 0.356*\"(\" + 0.331*\")\" + 0.214*\"algorithm\" + 0.021*\"function\" + 0.015*\"integr\" + 0.008*\"-\" + 0.006*\"s14\" + 0.006*\"deviat\" + 0.005*\"[\" + 0.005*\"interpol\"\n",
      "2022-02-28 21:11:57,104 : INFO : topic diff=0.588712, rho=0.340958\n",
      "2022-02-28 21:11:57,109 : INFO : PROGRESS: pass 7, at document #2000/3204\n",
      "2022-02-28 21:11:57,511 : INFO : optimized alpha [0.009804565, 0.010527838, 0.01037104, 0.011428873, 0.011073817, 0.012037236, 0.0107488, 0.010374863, 0.009933138, 0.011137693, 0.01180965, 0.011016538, 0.010292894, 0.011963534, 0.0114560565, 0.011839157, 0.011246571, 0.011311609, 0.011277215, 0.010562996, 0.0121370945, 0.0110084945, 0.029232835, 0.01185733, 0.011470807, 0.010201208, 0.010468263, 0.011834286, 0.010853023, 0.011807478, 0.01151536, 0.011027834, 0.009741914, 0.009924347, 0.010655079, 0.010363652, 0.009880037, 0.010106396, 0.010004698, 0.011047118, 0.01058849, 0.010171902, 0.011580667, 0.0115586035, 0.010727078, 0.01077798, 0.011918973, 0.012060186, 0.01033443, 0.012518917, 0.011609474, 0.010609917, 0.011308933, 0.0120553365, 0.010596172, 0.010738676, 0.010788873, 0.011619614, 0.011198048, 0.010704974, 0.010282069, 0.010868751, 0.010425396, 0.011626234, 0.011402886, 0.01104315, 0.011789932, 0.010795504, 0.010363539, 0.010809255, 0.010749094, 0.011004819, 0.010193542, 0.010491626, 0.012333277, 0.009654162, 0.012476983, 0.0114001045, 0.010271595, 0.010959406, 0.0107409395, 0.012179675, 0.010300375, 0.011317762, 0.010294244, 0.011439329, 0.010427945, 0.011478699, 0.012075738, 0.010830824, 0.012173106, 0.010375509, 0.012655466, 0.01104041, 0.010826058, 0.010190092, 0.010445049, 0.01208522, 0.010276743, 0.01017906]\n",
      "2022-02-28 21:11:57,514 : INFO : merging changes from 2000 documents into a model of 3204 documents\n",
      "2022-02-28 21:11:57,518 : INFO : topic #75 (0.010): 0.134*\"student\" + 0.083*\"comput\" + 0.063*\"problem\" + 0.061*\"gamma\" + 0.059*\";\" + 0.058*\"combinatori\" + 0.056*\"overlap\" + 0.046*\"devic\" + 0.037*\"close\" + 0.032*\"summat\"\n",
      "2022-02-28 21:11:57,518 : INFO : topic #0 (0.010): 0.121*\",\" + 0.052*\"-\" + 0.045*\"comput\" + 0.039*\"machin\" + 0.034*\"aid\" + 0.028*\";\" + 0.028*\"softwar\" + 0.023*\"hardwar\" + 0.019*\"technolog\" + 0.018*\"\"\"\n",
      "2022-02-28 21:11:57,518 : INFO : topic #76 (0.012): 0.560*\"method\" + 0.071*\"matrix\" + 0.047*\"gener\" + 0.038*\"eigenvalu\" + 0.037*\"consid\" + 0.035*\"end\" + 0.032*\"charact\" + 0.028*\"real\" + 0.021*\"varianc\" + 0.017*\"applic\"\n",
      "2022-02-28 21:11:57,519 : INFO : topic #92 (0.013): 0.162*\"languag\" + 0.076*\"statement\" + 0.065*\"compil\" + 0.055*\"program\" + 0.045*\",\" + 0.038*\"-\" + 0.026*\"\"\" + 0.024*\"assembl\" + 0.021*\"class\" + 0.018*\"form\"\n",
      "2022-02-28 21:11:57,519 : INFO : topic #22 (0.029): 0.352*\"(\" + 0.332*\")\" + 0.214*\"algorithm\" + 0.021*\"function\" + 0.016*\"integr\" + 0.008*\"-\" + 0.007*\"s14\" + 0.005*\"deviat\" + 0.005*\"interpol\" + 0.005*\"gamma\"\n",
      "2022-02-28 21:11:57,519 : INFO : topic diff=0.514151, rho=0.322715\n",
      "2022-02-28 21:11:57,956 : INFO : -6.540 per-word bound, 93.0 perplexity estimate based on a held-out corpus of 1204 documents with 49783 words\n",
      "2022-02-28 21:11:57,957 : INFO : PROGRESS: pass 7, at document #3204/3204\n",
      "2022-02-28 21:11:58,251 : INFO : optimized alpha [0.009874277, 0.01069286, 0.010454426, 0.011631086, 0.011246286, 0.01224612, 0.010918813, 0.010487148, 0.010000974, 0.011300764, 0.012082481, 0.011173737, 0.010345074, 0.0121094175, 0.01172028, 0.012107173, 0.011333579, 0.011427212, 0.011439311, 0.010726072, 0.0123234615, 0.011172547, 0.03143658, 0.012078155, 0.011605381, 0.010291852, 0.010619659, 0.01198947, 0.010995163, 0.011890473, 0.011758865, 0.011224332, 0.0097652655, 0.009936804, 0.010766967, 0.010439779, 0.009948352, 0.0101896515, 0.010033191, 0.01121841, 0.010646869, 0.010255503, 0.011837346, 0.011795569, 0.010864347, 0.010911348, 0.011891532, 0.012326535, 0.01048473, 0.012853505, 0.011811541, 0.010734305, 0.011490703, 0.012276723, 0.0107269455, 0.010910266, 0.010839462, 0.011874407, 0.011390396, 0.0108349295, 0.010365935, 0.01106693, 0.010498911, 0.0118322605, 0.011583991, 0.011152854, 0.0118323425, 0.010862815, 0.010531521, 0.01096802, 0.010788047, 0.011141478, 0.010310814, 0.010666162, 0.012647259, 0.009719935, 0.01283954, 0.011695622, 0.010354164, 0.011130203, 0.01083557, 0.012487577, 0.010413938, 0.011517783, 0.010375194, 0.0115892105, 0.010532666, 0.011728656, 0.012348489, 0.010938392, 0.01236522, 0.010488401, 0.012828886, 0.011221013, 0.011028931, 0.010279696, 0.0105228955, 0.01242161, 0.010349684, 0.010272267]\n",
      "2022-02-28 21:11:58,254 : INFO : merging changes from 1204 documents into a model of 3204 documents\n",
      "2022-02-28 21:11:58,257 : INFO : topic #75 (0.010): 0.141*\"student\" + 0.088*\"comput\" + 0.065*\";\" + 0.061*\"gamma\" + 0.061*\"problem\" + 0.056*\"combinatori\" + 0.053*\"overlap\" + 0.046*\"close\" + 0.040*\"devic\" + 0.036*\"relationship\"\n",
      "2022-02-28 21:11:58,257 : INFO : topic #32 (0.010): 0.092*\"speed\" + 0.048*\"coordin\" + 0.037*\"-\" + 0.035*\"comput\" + 0.034*\",\" + 0.033*\"fundament\" + 0.032*\"high\" + 0.028*\"digit\" + 0.027*\"equat\" + 0.026*\"system\"\n",
      "2022-02-28 21:11:58,258 : INFO : topic #49 (0.013): 0.209*\"implement\" + 0.127*\"machin\" + 0.094*\"base\" + 0.062*\"-\" + 0.043*\"program\" + 0.042*\"characterist\" + 0.037*\"architectur\" + 0.036*\"propos\" + 0.033*\"discuss\" + 0.024*\"specif\"\n",
      "2022-02-28 21:11:58,258 : INFO : topic #92 (0.013): 0.162*\"languag\" + 0.074*\"statement\" + 0.064*\"compil\" + 0.057*\"program\" + 0.046*\",\" + 0.037*\"-\" + 0.025*\"class\" + 0.024*\"\"\" + 0.022*\"assembl\" + 0.020*\"condit\"\n",
      "2022-02-28 21:11:58,259 : INFO : topic #22 (0.031): 0.361*\"(\" + 0.333*\")\" + 0.212*\"algorithm\" + 0.020*\"function\" + 0.015*\"integr\" + 0.008*\"-\" + 0.006*\"s14\" + 0.006*\"deviat\" + 0.005*\"gamma\" + 0.005*\"interpol\"\n",
      "2022-02-28 21:11:58,259 : INFO : topic diff=0.518089, rho=0.322715\n",
      "2022-02-28 21:11:58,264 : INFO : PROGRESS: pass 8, at document #2000/3204\n",
      "2022-02-28 21:11:58,637 : INFO : optimized alpha [0.009876194, 0.0106802955, 0.010468561, 0.011625556, 0.011209463, 0.012307357, 0.011011592, 0.01048005, 0.010000921, 0.011312825, 0.012093052, 0.011153724, 0.010427311, 0.012258731, 0.011754382, 0.012153086, 0.011504361, 0.011557509, 0.011514951, 0.010727617, 0.012372516, 0.0111733675, 0.0337877, 0.012164325, 0.011723241, 0.010332092, 0.010611037, 0.012063183, 0.011030516, 0.012087216, 0.011737423, 0.011297596, 0.009776626, 0.009943331, 0.01080453, 0.010516295, 0.009912028, 0.010213151, 0.01007456, 0.0112183215, 0.010771454, 0.010266545, 0.011984906, 0.0117756035, 0.010892598, 0.010953794, 0.0122393975, 0.012512922, 0.010499874, 0.012979697, 0.011873516, 0.010757544, 0.011540847, 0.012398643, 0.010710227, 0.010995363, 0.010925425, 0.011849812, 0.011369008, 0.010899165, 0.010371946, 0.011088782, 0.010488011, 0.011822279, 0.011660098, 0.011237418, 0.011935306, 0.0109785, 0.010528838, 0.010955982, 0.010912552, 0.011142457, 0.010268159, 0.01068999, 0.012627645, 0.00972212, 0.013093251, 0.011746138, 0.010380306, 0.011175633, 0.010872931, 0.012628617, 0.010432745, 0.011627264, 0.010383795, 0.011647299, 0.010563564, 0.011680304, 0.012403391, 0.011015197, 0.012562761, 0.010558681, 0.013035426, 0.011220029, 0.01097603, 0.01028083, 0.010571327, 0.012515811, 0.010398788, 0.010305987]\n",
      "2022-02-28 21:11:58,640 : INFO : merging changes from 2000 documents into a model of 3204 documents\n",
      "2022-02-28 21:11:58,644 : INFO : topic #75 (0.010): 0.142*\"student\" + 0.089*\"comput\" + 0.063*\"problem\" + 0.061*\";\" + 0.058*\"combinatori\" + 0.057*\"gamma\" + 0.055*\"overlap\" + 0.046*\"devic\" + 0.042*\"close\" + 0.032*\"summat\"\n",
      "2022-02-28 21:11:58,644 : INFO : topic #32 (0.010): 0.091*\"speed\" + 0.045*\"coordin\" + 0.039*\"-\" + 0.039*\"comput\" + 0.034*\"high\" + 0.033*\",\" + 0.032*\"equat\" + 0.031*\"digit\" + 0.030*\"fundament\" + 0.026*\"system\"\n",
      "2022-02-28 21:11:58,645 : INFO : topic #49 (0.013): 0.198*\"implement\" + 0.143*\"machin\" + 0.093*\"base\" + 0.065*\"-\" + 0.045*\"program\" + 0.042*\"characterist\" + 0.035*\"propos\" + 0.034*\"discuss\" + 0.030*\"architectur\" + 0.023*\"specif\"\n",
      "2022-02-28 21:11:58,645 : INFO : topic #76 (0.013): 0.594*\"method\" + 0.054*\"matrix\" + 0.044*\"gener\" + 0.037*\"eigenvalu\" + 0.037*\"consid\" + 0.034*\"end\" + 0.032*\"charact\" + 0.027*\"real\" + 0.020*\"varianc\" + 0.018*\"applic\"\n",
      "2022-02-28 21:11:58,646 : INFO : topic #22 (0.034): 0.357*\"(\" + 0.333*\")\" + 0.212*\"algorithm\" + 0.021*\"function\" + 0.016*\"integr\" + 0.008*\"-\" + 0.007*\"s14\" + 0.005*\"gamma\" + 0.005*\"deviat\" + 0.005*\"interpol\"\n",
      "2022-02-28 21:11:58,646 : INFO : topic diff=0.450140, rho=0.307119\n",
      "2022-02-28 21:11:59,092 : INFO : -6.518 per-word bound, 91.7 perplexity estimate based on a held-out corpus of 1204 documents with 49783 words\n",
      "2022-02-28 21:11:59,092 : INFO : PROGRESS: pass 8, at document #3204/3204\n",
      "2022-02-28 21:11:59,490 : INFO : optimized alpha [0.009940689, 0.010839026, 0.0105620995, 0.0118172495, 0.01138387, 0.012505461, 0.01119828, 0.010601449, 0.010076562, 0.011469537, 0.01236589, 0.011319066, 0.010479876, 0.012392097, 0.012021935, 0.012412505, 0.01159603, 0.011668163, 0.011673621, 0.010906688, 0.0125484895, 0.011331036, 0.036118705, 0.012383727, 0.011861615, 0.010426963, 0.010751173, 0.012230703, 0.011169992, 0.012175166, 0.011981295, 0.011516087, 0.009807068, 0.0099688405, 0.010912001, 0.010591924, 0.009983031, 0.010293084, 0.010107248, 0.011380085, 0.010832544, 0.010341645, 0.012240386, 0.011988876, 0.011032947, 0.011087613, 0.012206613, 0.012796871, 0.010652495, 0.013315237, 0.012074333, 0.010882522, 0.011715909, 0.012605962, 0.010846865, 0.011157988, 0.010976546, 0.012089681, 0.011551197, 0.011032406, 0.010457919, 0.011282816, 0.010553463, 0.012023762, 0.011834513, 0.011351185, 0.011966406, 0.011042664, 0.010687966, 0.0111170495, 0.01094942, 0.0112767005, 0.010386133, 0.010874681, 0.012937716, 0.009787923, 0.013498415, 0.012033225, 0.010456963, 0.011351795, 0.0109665245, 0.012940707, 0.010552574, 0.011829491, 0.010461583, 0.01180022, 0.010669538, 0.01192425, 0.012673838, 0.011141007, 0.01276401, 0.0106589915, 0.013208563, 0.011402522, 0.011165601, 0.010364283, 0.010645983, 0.012859383, 0.010474137, 0.010408586]\n",
      "2022-02-28 21:11:59,493 : INFO : merging changes from 1204 documents into a model of 3204 documents\n",
      "2022-02-28 21:11:59,498 : INFO : topic #32 (0.010): 0.097*\"speed\" + 0.048*\"coordin\" + 0.038*\"-\" + 0.036*\"comput\" + 0.034*\"fundament\" + 0.033*\"high\" + 0.032*\",\" + 0.028*\"digit\" + 0.027*\"equat\" + 0.025*\"system\"\n",
      "2022-02-28 21:11:59,499 : INFO : topic #75 (0.010): 0.147*\"student\" + 0.092*\"comput\" + 0.066*\";\" + 0.059*\"gamma\" + 0.059*\"problem\" + 0.057*\"combinatori\" + 0.053*\"overlap\" + 0.051*\"close\" + 0.040*\"devic\" + 0.036*\"relationship\"\n",
      "2022-02-28 21:11:59,500 : INFO : topic #49 (0.013): 0.216*\"implement\" + 0.130*\"machin\" + 0.095*\"base\" + 0.062*\"-\" + 0.043*\"characterist\" + 0.042*\"program\" + 0.037*\"propos\" + 0.037*\"architectur\" + 0.036*\"discuss\" + 0.025*\"specif\"\n",
      "2022-02-28 21:11:59,500 : INFO : topic #76 (0.013): 0.623*\"method\" + 0.046*\"matrix\" + 0.042*\"gener\" + 0.040*\"end\" + 0.038*\"consid\" + 0.034*\"eigenvalu\" + 0.030*\"charact\" + 0.025*\"real\" + 0.017*\"varianc\" + 0.017*\"applic\"\n",
      "2022-02-28 21:11:59,501 : INFO : topic #22 (0.036): 0.365*\"(\" + 0.334*\")\" + 0.210*\"algorithm\" + 0.020*\"function\" + 0.015*\"integr\" + 0.008*\"-\" + 0.006*\"s14\" + 0.006*\"deviat\" + 0.005*\"gamma\" + 0.004*\"interpol\"\n",
      "2022-02-28 21:11:59,501 : INFO : topic diff=0.453171, rho=0.307119\n",
      "2022-02-28 21:11:59,507 : INFO : PROGRESS: pass 9, at document #2000/3204\n",
      "2022-02-28 21:11:59,913 : INFO : optimized alpha [0.009954727, 0.010831445, 0.010580545, 0.011809457, 0.011353198, 0.012569669, 0.011302616, 0.010600844, 0.010076837, 0.011482557, 0.012387406, 0.011301188, 0.010560862, 0.012534906, 0.0120606925, 0.012453998, 0.011768743, 0.011794244, 0.011749821, 0.0109125115, 0.012593447, 0.011340037, 0.038597625, 0.012468469, 0.011968722, 0.010470368, 0.010744281, 0.012310565, 0.011208839, 0.012369872, 0.011963084, 0.011594857, 0.009819984, 0.009977193, 0.010949726, 0.010675197, 0.0099459365, 0.01032187, 0.010148902, 0.011381343, 0.010959545, 0.010355586, 0.012392711, 0.011972456, 0.011066479, 0.011130025, 0.012564552, 0.012997135, 0.010680918, 0.013442682, 0.012137182, 0.010901564, 0.011769143, 0.012725488, 0.010827558, 0.011250075, 0.011062798, 0.012073897, 0.011538782, 0.011104076, 0.010466931, 0.01130325, 0.010545111, 0.012018812, 0.011912947, 0.011434478, 0.0120499255, 0.011156146, 0.010689786, 0.011108422, 0.011072992, 0.011277599, 0.010348482, 0.0109004555, 0.012915118, 0.009790365, 0.013757773, 0.012091635, 0.010483886, 0.011401856, 0.011004174, 0.013082836, 0.010572202, 0.01194236, 0.010473032, 0.011861213, 0.01070088, 0.011874773, 0.012733278, 0.011216767, 0.012965796, 0.01072993, 0.0134134395, 0.011411169, 0.011110984, 0.010362504, 0.010694354, 0.012955248, 0.010535466, 0.010451725]\n",
      "2022-02-28 21:11:59,916 : INFO : merging changes from 2000 documents into a model of 3204 documents\n",
      "2022-02-28 21:11:59,920 : INFO : topic #75 (0.010): 0.147*\"student\" + 0.092*\"comput\" + 0.062*\";\" + 0.060*\"problem\" + 0.059*\"combinatori\" + 0.055*\"gamma\" + 0.055*\"overlap\" + 0.046*\"close\" + 0.046*\"devic\" + 0.033*\"solut\"\n",
      "2022-02-28 21:11:59,920 : INFO : topic #32 (0.010): 0.095*\"speed\" + 0.045*\"coordin\" + 0.040*\"-\" + 0.039*\"comput\" + 0.036*\"high\" + 0.031*\"equat\" + 0.031*\",\" + 0.031*\"fundament\" + 0.030*\"digit\" + 0.026*\"system\"\n",
      "2022-02-28 21:11:59,924 : INFO : topic #92 (0.013): 0.172*\"languag\" + 0.077*\"statement\" + 0.064*\"compil\" + 0.061*\"program\" + 0.046*\",\" + 0.040*\"-\" + 0.024*\"assembl\" + 0.022*\"class\" + 0.021*\"\"\" + 0.019*\"gener\"\n",
      "2022-02-28 21:11:59,926 : INFO : topic #76 (0.014): 0.620*\"method\" + 0.043*\"matrix\" + 0.041*\"gener\" + 0.036*\"consid\" + 0.036*\"eigenvalu\" + 0.033*\"charact\" + 0.033*\"end\" + 0.025*\"real\" + 0.018*\"applic\" + 0.018*\"varianc\"\n",
      "2022-02-28 21:11:59,927 : INFO : topic #22 (0.039): 0.360*\"(\" + 0.334*\")\" + 0.211*\"algorithm\" + 0.021*\"function\" + 0.017*\"integr\" + 0.008*\"-\" + 0.007*\"s14\" + 0.005*\"gamma\" + 0.005*\"deviat\" + 0.004*\"interpol\"\n",
      "2022-02-28 21:11:59,928 : INFO : topic diff=0.393342, rho=0.293585\n",
      "2022-02-28 21:12:00,396 : INFO : -6.501 per-word bound, 90.6 perplexity estimate based on a held-out corpus of 1204 documents with 49783 words\n",
      "2022-02-28 21:12:00,397 : INFO : PROGRESS: pass 9, at document #3204/3204\n",
      "2022-02-28 21:12:00,688 : INFO : optimized alpha [0.010026881, 0.010992805, 0.010673442, 0.01199475, 0.0115273325, 0.012755119, 0.011494866, 0.010715392, 0.0101598, 0.011642458, 0.012655245, 0.011472038, 0.01060878, 0.012663305, 0.012323666, 0.012711974, 0.011850716, 0.011903516, 0.011900168, 0.011091132, 0.012760238, 0.011492621, 0.04103504, 0.01268417, 0.012099209, 0.010572009, 0.01089008, 0.012463312, 0.011349028, 0.012444762, 0.012199357, 0.011818338, 0.009852133, 0.010004771, 0.0110560795, 0.010753213, 0.010014678, 0.010398957, 0.010180569, 0.011545897, 0.011028755, 0.010443411, 0.012659878, 0.01218759, 0.011212964, 0.0112591265, 0.012523511, 0.0132806515, 0.010849447, 0.013780135, 0.01233454, 0.0110194795, 0.0119413575, 0.012926148, 0.010951507, 0.01142139, 0.011111871, 0.012321175, 0.011726343, 0.01123537, 0.01056021, 0.011496628, 0.010613648, 0.0122223925, 0.012099144, 0.011541151, 0.012073869, 0.0112203555, 0.010851624, 0.011264048, 0.011108045, 0.011412828, 0.010459831, 0.011084777, 0.013219229, 0.009856326, 0.014177703, 0.012371277, 0.010562937, 0.011583563, 0.011099778, 0.013387497, 0.010685295, 0.012138631, 0.010550777, 0.012003035, 0.010813551, 0.012113927, 0.013005478, 0.011343755, 0.013173338, 0.010831905, 0.013580191, 0.011587695, 0.011294051, 0.010445581, 0.01077669, 0.013310186, 0.010615816, 0.010563388]\n",
      "2022-02-28 21:12:00,691 : INFO : merging changes from 1204 documents into a model of 3204 documents\n",
      "2022-02-28 21:12:00,694 : INFO : topic #75 (0.010): 0.152*\"student\" + 0.094*\"comput\" + 0.067*\";\" + 0.058*\"gamma\" + 0.057*\"combinatori\" + 0.056*\"problem\" + 0.054*\"close\" + 0.053*\"overlap\" + 0.040*\"devic\" + 0.037*\"relationship\"\n",
      "2022-02-28 21:12:00,694 : INFO : topic #32 (0.010): 0.102*\"speed\" + 0.048*\"coordin\" + 0.039*\"-\" + 0.036*\"comput\" + 0.035*\"high\" + 0.034*\"fundament\" + 0.030*\",\" + 0.028*\"digit\" + 0.027*\"equat\" + 0.024*\"system\"\n",
      "2022-02-28 21:12:00,695 : INFO : topic #49 (0.014): 0.224*\"implement\" + 0.134*\"machin\" + 0.095*\"base\" + 0.061*\"-\" + 0.043*\"characterist\" + 0.040*\"program\" + 0.039*\"discuss\" + 0.038*\"propos\" + 0.037*\"architectur\" + 0.026*\"specif\"\n",
      "2022-02-28 21:12:00,695 : INFO : topic #76 (0.014): 0.644*\"method\" + 0.040*\"gener\" + 0.039*\"end\" + 0.038*\"consid\" + 0.036*\"matrix\" + 0.034*\"eigenvalu\" + 0.031*\"charact\" + 0.023*\"real\" + 0.018*\"applic\" + 0.016*\"varianc\"\n",
      "2022-02-28 21:12:00,695 : INFO : topic #22 (0.041): 0.368*\"(\" + 0.334*\")\" + 0.210*\"algorithm\" + 0.020*\"function\" + 0.015*\"integr\" + 0.008*\"-\" + 0.006*\"s14\" + 0.006*\"deviat\" + 0.005*\"gamma\" + 0.004*\"interpol\"\n",
      "2022-02-28 21:12:00,696 : INFO : topic diff=0.397470, rho=0.293585\n",
      "2022-02-28 21:12:00,700 : INFO : PROGRESS: pass 10, at document #2000/3204\n",
      "2022-02-28 21:12:01,075 : INFO : optimized alpha [0.010039283, 0.010989932, 0.010695974, 0.011988519, 0.011495803, 0.012822542, 0.011601074, 0.010716429, 0.010168958, 0.011654808, 0.012674941, 0.011452816, 0.010697898, 0.012803913, 0.012354985, 0.012756614, 0.012017316, 0.012029328, 0.011972144, 0.0111041395, 0.012805147, 0.011504403, 0.04365423, 0.012767783, 0.012211792, 0.010621576, 0.010878564, 0.012544067, 0.011388025, 0.012638035, 0.012189432, 0.011902655, 0.009867882, 0.010014782, 0.011095734, 0.010841628, 0.009983912, 0.010427015, 0.010221136, 0.011550109, 0.011163171, 0.010463012, 0.012822715, 0.012176157, 0.011256376, 0.011306416, 0.012874474, 0.013486018, 0.010884373, 0.013909249, 0.012389682, 0.011039416, 0.011994238, 0.013043825, 0.010934526, 0.011522138, 0.011197158, 0.01230487, 0.01171224, 0.011306388, 0.0105721215, 0.011519052, 0.010607572, 0.01221868, 0.01218519, 0.011621933, 0.0121531645, 0.011333715, 0.010859232, 0.011258719, 0.011229571, 0.011418522, 0.0104282545, 0.011107612, 0.013199465, 0.009856243, 0.014459299, 0.012437554, 0.01059213, 0.011633441, 0.011136277, 0.013560953, 0.010707215, 0.012250042, 0.010562126, 0.012060237, 0.010849951, 0.012065227, 0.013069696, 0.011428468, 0.013379993, 0.010903712, 0.013784025, 0.011599005, 0.01124421, 0.010441144, 0.010823609, 0.013409842, 0.010688814, 0.010612576]\n",
      "2022-02-28 21:12:01,077 : INFO : merging changes from 2000 documents into a model of 3204 documents\n",
      "2022-02-28 21:12:01,081 : INFO : topic #32 (0.010): 0.099*\"speed\" + 0.046*\"coordin\" + 0.041*\"-\" + 0.040*\"comput\" + 0.037*\"high\" + 0.031*\"fundament\" + 0.031*\"equat\" + 0.030*\"digit\" + 0.029*\",\" + 0.025*\"system\"\n",
      "2022-02-28 21:12:01,081 : INFO : topic #75 (0.010): 0.151*\"student\" + 0.094*\"comput\" + 0.063*\";\" + 0.060*\"combinatori\" + 0.057*\"problem\" + 0.055*\"overlap\" + 0.054*\"gamma\" + 0.049*\"close\" + 0.046*\"devic\" + 0.033*\"solut\"\n",
      "2022-02-28 21:12:01,082 : INFO : topic #49 (0.014): 0.214*\"implement\" + 0.150*\"machin\" + 0.095*\"base\" + 0.063*\"-\" + 0.042*\"characterist\" + 0.042*\"program\" + 0.040*\"discuss\" + 0.037*\"propos\" + 0.030*\"architectur\" + 0.025*\"specif\"\n",
      "2022-02-28 21:12:01,082 : INFO : topic #76 (0.014): 0.641*\"method\" + 0.038*\"gener\" + 0.035*\"consid\" + 0.035*\"eigenvalu\" + 0.034*\"charact\" + 0.034*\"matrix\" + 0.032*\"end\" + 0.024*\"real\" + 0.019*\"applic\" + 0.017*\"varianc\"\n",
      "2022-02-28 21:12:01,082 : INFO : topic #22 (0.044): 0.363*\"(\" + 0.334*\")\" + 0.211*\"algorithm\" + 0.020*\"function\" + 0.017*\"integr\" + 0.007*\"-\" + 0.007*\"s14\" + 0.005*\"gamma\" + 0.005*\"deviat\" + 0.004*\"interpol\"\n",
      "2022-02-28 21:12:01,083 : INFO : topic diff=0.344674, rho=0.281696\n",
      "2022-02-28 21:12:01,507 : INFO : -6.488 per-word bound, 89.8 perplexity estimate based on a held-out corpus of 1204 documents with 49783 words\n",
      "2022-02-28 21:12:01,508 : INFO : PROGRESS: pass 10, at document #3204/3204\n",
      "2022-02-28 21:12:01,803 : INFO : optimized alpha [0.010116321, 0.011162051, 0.010785989, 0.012170927, 0.011667336, 0.013011785, 0.011829383, 0.01082473, 0.010261317, 0.011807043, 0.012944635, 0.01161307, 0.010764113, 0.012933972, 0.0126113305, 0.012998905, 0.012098826, 0.012143176, 0.012114889, 0.011288156, 0.012966649, 0.011660515, 0.046174396, 0.012980559, 0.012338094, 0.010729958, 0.011014509, 0.012706662, 0.01152652, 0.012712461, 0.012430589, 0.012148342, 0.009903888, 0.010044266, 0.011209171, 0.010924535, 0.010062381, 0.010501619, 0.010256707, 0.011712391, 0.011237555, 0.010550527, 0.013087166, 0.012393602, 0.011395704, 0.0114288125, 0.012828599, 0.013769771, 0.011055838, 0.0142496945, 0.012584199, 0.0111509, 0.012161243, 0.013241732, 0.011064788, 0.0116968835, 0.011244451, 0.012551153, 0.011910863, 0.01144149, 0.010664897, 0.011715028, 0.010671569, 0.012416229, 0.012363187, 0.0117249945, 0.012179216, 0.011398115, 0.0110239405, 0.011412261, 0.0112577565, 0.011549599, 0.010538626, 0.011294615, 0.013495494, 0.009924867, 0.0149018625, 0.012710815, 0.010673682, 0.011820921, 0.011228773, 0.013868699, 0.010821711, 0.012452554, 0.010637465, 0.012189078, 0.01095904, 0.012294508, 0.013338193, 0.011551393, 0.01359759, 0.011007514, 0.01393542, 0.011764852, 0.011421606, 0.010528988, 0.010903265, 0.01377063, 0.010771411, 0.010728169]\n",
      "2022-02-28 21:12:01,806 : INFO : merging changes from 1204 documents into a model of 3204 documents\n",
      "2022-02-28 21:12:01,810 : INFO : topic #32 (0.010): 0.105*\"speed\" + 0.049*\"coordin\" + 0.039*\"-\" + 0.037*\"comput\" + 0.036*\"high\" + 0.034*\"fundament\" + 0.028*\",\" + 0.028*\"digit\" + 0.027*\"equat\" + 0.026*\"employ\"\n",
      "2022-02-28 21:12:01,810 : INFO : topic #75 (0.010): 0.153*\"student\" + 0.097*\"comput\" + 0.067*\";\" + 0.059*\"close\" + 0.057*\"combinatori\" + 0.056*\"gamma\" + 0.054*\"problem\" + 0.052*\"overlap\" + 0.040*\"devic\" + 0.038*\"relationship\"\n",
      "2022-02-28 21:12:01,811 : INFO : topic #49 (0.014): 0.231*\"implement\" + 0.138*\"machin\" + 0.096*\"base\" + 0.060*\"-\" + 0.043*\"characterist\" + 0.042*\"discuss\" + 0.039*\"propos\" + 0.039*\"program\" + 0.037*\"architectur\" + 0.026*\"specif\"\n",
      "2022-02-28 21:12:01,811 : INFO : topic #76 (0.015): 0.663*\"method\" + 0.038*\"end\" + 0.037*\"gener\" + 0.037*\"consid\" + 0.033*\"eigenvalu\" + 0.031*\"charact\" + 0.029*\"matrix\" + 0.021*\"real\" + 0.018*\"applic\" + 0.015*\"varianc\"\n",
      "2022-02-28 21:12:01,811 : INFO : topic #22 (0.046): 0.370*\"(\" + 0.333*\")\" + 0.210*\"algorithm\" + 0.019*\"function\" + 0.016*\"integr\" + 0.007*\"-\" + 0.006*\"s14\" + 0.006*\"deviat\" + 0.005*\"gamma\" + 0.004*\"interpol\"\n",
      "2022-02-28 21:12:01,812 : INFO : topic diff=0.350491, rho=0.281696\n",
      "2022-02-28 21:12:01,819 : INFO : PROGRESS: pass 11, at document #2000/3204\n",
      "2022-02-28 21:12:02,180 : INFO : optimized alpha [0.010128571, 0.011161818, 0.010810912, 0.012164445, 0.011641262, 0.013085905, 0.011950619, 0.010840592, 0.010273099, 0.011823612, 0.012966073, 0.011598945, 0.01085821, 0.0130638825, 0.012644158, 0.013043333, 0.012266455, 0.0122690415, 0.012187891, 0.011306496, 0.0130064655, 0.011666891, 0.0488744, 0.01307023, 0.012449578, 0.010782366, 0.011007737, 0.012790082, 0.011567341, 0.012906545, 0.012421651, 0.012231604, 0.009920898, 0.010060042, 0.011252218, 0.011012051, 0.010039941, 0.010537581, 0.010293548, 0.011720931, 0.01137171, 0.010575405, 0.0132590085, 0.012381751, 0.011442419, 0.011476203, 0.013176866, 0.013963988, 0.011092507, 0.014374888, 0.012635609, 0.011170247, 0.012214005, 0.01335959, 0.011048336, 0.011810922, 0.011325909, 0.012534295, 0.011899931, 0.011516648, 0.010675151, 0.011747365, 0.010671969, 0.012417096, 0.012451772, 0.011805086, 0.012261334, 0.011514656, 0.011029469, 0.011408433, 0.011377547, 0.011555039, 0.0105053345, 0.011319361, 0.013482164, 0.009927799, 0.015188778, 0.012774535, 0.01070211, 0.011878754, 0.01126426, 0.014043996, 0.010841534, 0.012566206, 0.010647278, 0.012247781, 0.01099437, 0.012251476, 0.013403405, 0.01164479, 0.013809535, 0.01108179, 0.014144289, 0.011769034, 0.011376105, 0.010524823, 0.010948896, 0.013868726, 0.010849705, 0.010777348]\n",
      "2022-02-28 21:12:02,182 : INFO : merging changes from 2000 documents into a model of 3204 documents\n",
      "2022-02-28 21:12:02,185 : INFO : topic #75 (0.010): 0.153*\"student\" + 0.098*\"comput\" + 0.063*\";\" + 0.059*\"combinatori\" + 0.054*\"problem\" + 0.054*\"overlap\" + 0.053*\"close\" + 0.052*\"gamma\" + 0.046*\"devic\" + 0.034*\"solut\"\n",
      "2022-02-28 21:12:02,186 : INFO : topic #32 (0.010): 0.102*\"speed\" + 0.047*\"coordin\" + 0.041*\"comput\" + 0.041*\"-\" + 0.038*\"high\" + 0.031*\"fundament\" + 0.031*\"equat\" + 0.030*\"digit\" + 0.027*\",\" + 0.024*\"system\"\n",
      "2022-02-28 21:12:02,186 : INFO : topic #49 (0.014): 0.220*\"implement\" + 0.153*\"machin\" + 0.095*\"base\" + 0.062*\"-\" + 0.043*\"characterist\" + 0.042*\"discuss\" + 0.040*\"program\" + 0.037*\"propos\" + 0.030*\"architectur\" + 0.025*\"specif\"\n",
      "2022-02-28 21:12:02,186 : INFO : topic #76 (0.015): 0.660*\"method\" + 0.036*\"gener\" + 0.035*\"consid\" + 0.034*\"eigenvalu\" + 0.034*\"charact\" + 0.032*\"end\" + 0.027*\"matrix\" + 0.022*\"real\" + 0.020*\"applic\" + 0.016*\"varianc\"\n",
      "2022-02-28 21:12:02,187 : INFO : topic #22 (0.049): 0.366*\"(\" + 0.333*\")\" + 0.212*\"algorithm\" + 0.019*\"function\" + 0.017*\"integr\" + 0.007*\"-\" + 0.007*\"s14\" + 0.005*\"gamma\" + 0.005*\"deviat\" + 0.004*\"interpol\"\n",
      "2022-02-28 21:12:02,187 : INFO : topic diff=0.304534, rho=0.271143\n",
      "2022-02-28 21:12:02,600 : INFO : -6.478 per-word bound, 89.2 perplexity estimate based on a held-out corpus of 1204 documents with 49783 words\n",
      "2022-02-28 21:12:02,601 : INFO : PROGRESS: pass 11, at document #3204/3204\n",
      "2022-02-28 21:12:02,883 : INFO : optimized alpha [0.010205746, 0.011326856, 0.010908122, 0.012336246, 0.011810645, 0.013263998, 0.012206985, 0.010945779, 0.010374472, 0.011977002, 0.01322955, 0.011752021, 0.010924738, 0.013186901, 0.012908777, 0.01330067, 0.01234492, 0.012379266, 0.012331948, 0.01148863, 0.013169293, 0.01181878, 0.051399067, 0.013280719, 0.012583668, 0.010894898, 0.011139807, 0.012951019, 0.011701946, 0.012969076, 0.012656809, 0.012488625, 0.009956103, 0.010088986, 0.01136237, 0.011102271, 0.010129876, 0.010614746, 0.010328181, 0.011881349, 0.011446088, 0.010672451, 0.013521495, 0.012596372, 0.011580413, 0.011589904, 0.013132255, 0.01424857, 0.011272312, 0.014705922, 0.012825081, 0.01128863, 0.012376444, 0.013552135, 0.011179892, 0.011997386, 0.011374209, 0.01278035, 0.012085254, 0.011650611, 0.010767667, 0.01193844, 0.010734293, 0.012606556, 0.012625039, 0.011899629, 0.0122866295, 0.011576805, 0.011192366, 0.011555072, 0.011407074, 0.011690448, 0.010614857, 0.011506851, 0.013774321, 0.009996745, 0.015651876, 0.013048142, 0.010786208, 0.012061567, 0.011359125, 0.014368179, 0.010960126, 0.012761101, 0.010720515, 0.012383991, 0.01110031, 0.012477504, 0.01365676, 0.0117720505, 0.014025012, 0.011185012, 0.0143068805, 0.0119302925, 0.011545986, 0.010622087, 0.011028608, 0.0142301135, 0.0109322155, 0.010892096]\n",
      "2022-02-28 21:12:02,885 : INFO : merging changes from 1204 documents into a model of 3204 documents\n",
      "2022-02-28 21:12:02,889 : INFO : topic #32 (0.010): 0.108*\"speed\" + 0.049*\"coordin\" + 0.039*\"-\" + 0.038*\"comput\" + 0.036*\"high\" + 0.034*\"fundament\" + 0.027*\"employ\" + 0.027*\"equat\" + 0.027*\"digit\" + 0.027*\",\"\n",
      "2022-02-28 21:12:02,889 : INFO : topic #75 (0.010): 0.154*\"student\" + 0.100*\"comput\" + 0.067*\";\" + 0.063*\"close\" + 0.057*\"combinatori\" + 0.055*\"gamma\" + 0.052*\"overlap\" + 0.052*\"problem\" + 0.040*\"devic\" + 0.039*\"relationship\"\n",
      "2022-02-28 21:12:02,889 : INFO : topic #49 (0.015): 0.237*\"implement\" + 0.142*\"machin\" + 0.096*\"base\" + 0.060*\"-\" + 0.045*\"discuss\" + 0.043*\"characterist\" + 0.040*\"propos\" + 0.037*\"program\" + 0.037*\"architectur\" + 0.027*\"specif\"\n",
      "2022-02-28 21:12:02,890 : INFO : topic #76 (0.016): 0.681*\"method\" + 0.038*\"end\" + 0.035*\"gener\" + 0.035*\"consid\" + 0.033*\"eigenvalu\" + 0.031*\"charact\" + 0.023*\"matrix\" + 0.020*\"real\" + 0.019*\"applic\" + 0.015*\"varianc\"\n",
      "2022-02-28 21:12:02,890 : INFO : topic #22 (0.051): 0.372*\"(\" + 0.332*\")\" + 0.211*\"algorithm\" + 0.018*\"function\" + 0.016*\"integr\" + 0.007*\"-\" + 0.006*\"s14\" + 0.005*\"deviat\" + 0.005*\"gamma\" + 0.004*\"interpol\"\n",
      "2022-02-28 21:12:02,891 : INFO : topic diff=0.311467, rho=0.271143\n",
      "2022-02-28 21:12:02,896 : INFO : PROGRESS: pass 12, at document #2000/3204\n",
      "2022-02-28 21:12:03,253 : INFO : optimized alpha [0.010221869, 0.011333776, 0.010932407, 0.01233284, 0.011785066, 0.013337948, 0.012343169, 0.010955443, 0.010387368, 0.011992917, 0.0132509945, 0.011741253, 0.011018016, 0.013317096, 0.012941417, 0.013341321, 0.012513869, 0.012495726, 0.012406144, 0.01150909, 0.0132129975, 0.011829482, 0.054155543, 0.013362619, 0.012692352, 0.010947329, 0.011131628, 0.013035486, 0.011744615, 0.01315746, 0.012652325, 0.012572587, 0.00997695, 0.010114106, 0.011408695, 0.011193503, 0.010112388, 0.010652682, 0.010364282, 0.011890891, 0.011577286, 0.010705083, 0.0136956, 0.012584198, 0.0116258245, 0.011639051, 0.013475147, 0.0144486, 0.011309141, 0.014831407, 0.0128831025, 0.011305936, 0.012427594, 0.013668737, 0.011166819, 0.012119896, 0.011453668, 0.012764654, 0.012082229, 0.0117252795, 0.010779189, 0.011971076, 0.010735096, 0.012608595, 0.012707919, 0.011977717, 0.012363481, 0.011690633, 0.011207744, 0.0115511995, 0.01152405, 0.011691066, 0.01059399, 0.011536519, 0.013761696, 0.010002496, 0.015950738, 0.01311801, 0.010815443, 0.01212239, 0.011398157, 0.014553068, 0.01098224, 0.01287533, 0.010731708, 0.012437721, 0.01113613, 0.012434946, 0.0137251085, 0.011875579, 0.014240682, 0.011260372, 0.014509951, 0.011937245, 0.011503112, 0.010621014, 0.01107306, 0.014328754, 0.011021439, 0.010945626]\n",
      "2022-02-28 21:12:03,256 : INFO : merging changes from 2000 documents into a model of 3204 documents\n",
      "2022-02-28 21:12:03,259 : INFO : topic #32 (0.010): 0.104*\"speed\" + 0.048*\"coordin\" + 0.043*\"comput\" + 0.040*\"-\" + 0.038*\"high\" + 0.031*\"fundament\" + 0.030*\"equat\" + 0.029*\"digit\" + 0.026*\",\" + 0.025*\"employ\"\n",
      "2022-02-28 21:12:03,259 : INFO : topic #75 (0.010): 0.154*\"student\" + 0.100*\"comput\" + 0.063*\";\" + 0.059*\"combinatori\" + 0.058*\"close\" + 0.054*\"overlap\" + 0.052*\"problem\" + 0.052*\"gamma\" + 0.045*\"devic\" + 0.034*\"relationship\"\n",
      "2022-02-28 21:12:03,259 : INFO : topic #49 (0.015): 0.226*\"implement\" + 0.157*\"machin\" + 0.095*\"base\" + 0.061*\"-\" + 0.045*\"discuss\" + 0.043*\"characterist\" + 0.039*\"propos\" + 0.039*\"program\" + 0.031*\"architectur\" + 0.026*\"specif\"\n",
      "2022-02-28 21:12:03,260 : INFO : topic #76 (0.016): 0.677*\"method\" + 0.035*\"charact\" + 0.034*\"eigenvalu\" + 0.033*\"consid\" + 0.033*\"gener\" + 0.031*\"end\" + 0.022*\"matrix\" + 0.020*\"real\" + 0.020*\"applic\" + 0.016*\"varianc\"\n",
      "2022-02-28 21:12:03,260 : INFO : topic #22 (0.054): 0.368*\"(\" + 0.332*\")\" + 0.212*\"algorithm\" + 0.018*\"function\" + 0.017*\"integr\" + 0.007*\"-\" + 0.007*\"s14\" + 0.005*\"gamma\" + 0.005*\"deviat\" + 0.004*\"interpol\"\n",
      "2022-02-28 21:12:03,261 : INFO : topic diff=0.271536, rho=0.261694\n",
      "2022-02-28 21:12:03,670 : INFO : -6.468 per-word bound, 88.5 perplexity estimate based on a held-out corpus of 1204 documents with 49783 words\n",
      "2022-02-28 21:12:03,670 : INFO : PROGRESS: pass 12, at document #3204/3204\n",
      "2022-02-28 21:12:03,952 : INFO : optimized alpha [0.010303743, 0.011497363, 0.011027063, 0.012505618, 0.01195016, 0.013520599, 0.012622831, 0.011060281, 0.010495283, 0.012142357, 0.013514591, 0.011887843, 0.011085056, 0.013448102, 0.013197858, 0.013602208, 0.012597681, 0.01259998, 0.012554525, 0.011704723, 0.013371606, 0.011982726, 0.056688614, 0.013580016, 0.012828559, 0.011059341, 0.011260135, 0.013200844, 0.011880915, 0.0132173365, 0.01287659, 0.012835875, 0.010015758, 0.010144724, 0.0115208905, 0.011281273, 0.010213285, 0.010727759, 0.01039581, 0.0120473, 0.011644255, 0.010811363, 0.013962658, 0.012796549, 0.011757805, 0.011754859, 0.013417105, 0.014743782, 0.011489897, 0.015160201, 0.0130651565, 0.0114187235, 0.012585987, 0.013862646, 0.011294993, 0.012307938, 0.011500511, 0.013007963, 0.012276522, 0.011850681, 0.010876389, 0.012157772, 0.010791216, 0.01279615, 0.012879707, 0.012066897, 0.012385403, 0.011753261, 0.011369231, 0.0116914995, 0.011552417, 0.01182302, 0.010714667, 0.011722351, 0.014053584, 0.010082735, 0.016428895, 0.013383756, 0.010897372, 0.012300991, 0.011490462, 0.014881642, 0.011097817, 0.013071655, 0.010803079, 0.012567646, 0.011241712, 0.012661201, 0.013972988, 0.011999566, 0.01444515, 0.011355845, 0.014671124, 0.012091749, 0.011673665, 0.010720336, 0.011155408, 0.01467862, 0.011106443, 0.011069263]\n",
      "2022-02-28 21:12:03,955 : INFO : merging changes from 1204 documents into a model of 3204 documents\n",
      "2022-02-28 21:12:03,958 : INFO : topic #32 (0.010): 0.110*\"speed\" + 0.050*\"coordin\" + 0.040*\"comput\" + 0.039*\"-\" + 0.037*\"high\" + 0.035*\"fundament\" + 0.030*\"employ\" + 0.027*\"equat\" + 0.026*\"digit\" + 0.025*\",\"\n",
      "2022-02-28 21:12:03,958 : INFO : topic #75 (0.010): 0.155*\"student\" + 0.099*\"comput\" + 0.067*\"close\" + 0.066*\";\" + 0.056*\"combinatori\" + 0.054*\"gamma\" + 0.051*\"overlap\" + 0.049*\"problem\" + 0.043*\"relationship\" + 0.038*\"devic\"\n",
      "2022-02-28 21:12:03,959 : INFO : topic #49 (0.015): 0.241*\"implement\" + 0.145*\"machin\" + 0.097*\"base\" + 0.059*\"-\" + 0.047*\"discuss\" + 0.043*\"characterist\" + 0.041*\"propos\" + 0.037*\"architectur\" + 0.036*\"program\" + 0.027*\"specif\"\n",
      "2022-02-28 21:12:03,959 : INFO : topic #76 (0.016): 0.695*\"method\" + 0.037*\"end\" + 0.033*\"consid\" + 0.032*\"gener\" + 0.032*\"eigenvalu\" + 0.031*\"charact\" + 0.019*\"matrix\" + 0.019*\"applic\" + 0.019*\"real\" + 0.014*\"varianc\"\n",
      "2022-02-28 21:12:03,960 : INFO : topic #22 (0.057): 0.374*\"(\" + 0.331*\")\" + 0.213*\"algorithm\" + 0.017*\"function\" + 0.016*\"integr\" + 0.007*\"-\" + 0.006*\"s14\" + 0.005*\"deviat\" + 0.005*\"gamma\" + 0.004*\"interpol\"\n",
      "2022-02-28 21:12:03,960 : INFO : topic diff=0.279173, rho=0.261694\n",
      "2022-02-28 21:12:03,965 : INFO : PROGRESS: pass 13, at document #2000/3204\n",
      "2022-02-28 21:12:04,317 : INFO : optimized alpha [0.010322253, 0.011505259, 0.01105781, 0.012508236, 0.01192804, 0.013594219, 0.012764772, 0.011072604, 0.010513183, 0.012156068, 0.013536214, 0.011880272, 0.011179133, 0.013582269, 0.013235434, 0.013648008, 0.012761786, 0.012721915, 0.01262681, 0.011728574, 0.013420843, 0.011994536, 0.059451897, 0.013668243, 0.012939903, 0.011113293, 0.011247872, 0.013283206, 0.011922413, 0.013407148, 0.012874708, 0.012915866, 0.010043968, 0.010168247, 0.011566049, 0.011373326, 0.010200335, 0.010771664, 0.010432588, 0.01205794, 0.011777193, 0.010852866, 0.014139178, 0.012790549, 0.01180797, 0.011804279, 0.013758419, 0.014955597, 0.0115298815, 0.015288108, 0.013118148, 0.011426868, 0.012637314, 0.013987001, 0.011286533, 0.012434408, 0.011579643, 0.012996697, 0.012277727, 0.0119265765, 0.01089047, 0.012192233, 0.010791059, 0.012796098, 0.012965389, 0.012143141, 0.012458902, 0.01186316, 0.011372274, 0.011689114, 0.011660975, 0.011828139, 0.010693023, 0.0117553715, 0.014039895, 0.010093599, 0.016742319, 0.013453134, 0.01092598, 0.012358522, 0.011527144, 0.015091263, 0.011119344, 0.013186799, 0.010814265, 0.012623145, 0.0112752495, 0.012619067, 0.014040824, 0.012111657, 0.014664937, 0.011429452, 0.014879941, 0.01210137, 0.011630245, 0.010720767, 0.011203069, 0.014785386, 0.011199413, 0.011121453]\n",
      "2022-02-28 21:12:04,319 : INFO : merging changes from 2000 documents into a model of 3204 documents\n",
      "2022-02-28 21:12:04,323 : INFO : topic #32 (0.010): 0.105*\"speed\" + 0.048*\"coordin\" + 0.044*\"comput\" + 0.040*\"-\" + 0.038*\"high\" + 0.032*\"fundament\" + 0.030*\"equat\" + 0.028*\"digit\" + 0.027*\"employ\" + 0.024*\",\"\n",
      "2022-02-28 21:12:04,323 : INFO : topic #75 (0.010): 0.155*\"student\" + 0.099*\"comput\" + 0.063*\"close\" + 0.063*\";\" + 0.058*\"combinatori\" + 0.053*\"overlap\" + 0.050*\"gamma\" + 0.049*\"problem\" + 0.043*\"devic\" + 0.037*\"relationship\"\n",
      "2022-02-28 21:12:04,324 : INFO : topic #49 (0.015): 0.231*\"implement\" + 0.160*\"machin\" + 0.096*\"base\" + 0.060*\"-\" + 0.048*\"discuss\" + 0.043*\"characterist\" + 0.039*\"propos\" + 0.037*\"program\" + 0.031*\"architectur\" + 0.026*\"specif\"\n",
      "2022-02-28 21:12:04,324 : INFO : topic #76 (0.017): 0.690*\"method\" + 0.035*\"charact\" + 0.033*\"eigenvalu\" + 0.032*\"consid\" + 0.031*\"end\" + 0.031*\"gener\" + 0.020*\"applic\" + 0.020*\"real\" + 0.018*\"matrix\" + 0.015*\"varianc\"\n",
      "2022-02-28 21:12:04,324 : INFO : topic #22 (0.059): 0.369*\"(\" + 0.332*\")\" + 0.213*\"algorithm\" + 0.018*\"integr\" + 0.016*\"function\" + 0.007*\"-\" + 0.007*\"s14\" + 0.005*\"gamma\" + 0.005*\"deviat\" + 0.004*\"interpol\"\n",
      "2022-02-28 21:12:04,325 : INFO : topic diff=0.244439, rho=0.253169\n",
      "2022-02-28 21:12:04,735 : INFO : -6.459 per-word bound, 88.0 perplexity estimate based on a held-out corpus of 1204 documents with 49783 words\n",
      "2022-02-28 21:12:04,736 : INFO : PROGRESS: pass 13, at document #3204/3204\n",
      "2022-02-28 21:12:05,018 : INFO : optimized alpha [0.010404346, 0.011677432, 0.011150223, 0.012682246, 0.012084243, 0.013769911, 0.013049429, 0.011179598, 0.01062082, 0.012304598, 0.013789017, 0.012023371, 0.011246652, 0.013709874, 0.013484319, 0.013901289, 0.012843027, 0.012828618, 0.01277433, 0.011925246, 0.013567124, 0.012144215, 0.0619672, 0.013878331, 0.0130728, 0.011229582, 0.011366091, 0.013450309, 0.012052982, 0.013470251, 0.013099767, 0.013196801, 0.010077659, 0.010202665, 0.011673127, 0.011463588, 0.010300987, 0.0108516915, 0.010459077, 0.012213236, 0.011842074, 0.010970442, 0.014414052, 0.013009127, 0.011939327, 0.011914777, 0.013681469, 0.015240162, 0.0117192855, 0.01561818, 0.0132933, 0.0115369, 0.012797413, 0.014176508, 0.011411631, 0.012637347, 0.01162761, 0.013235228, 0.012483558, 0.012053974, 0.010985265, 0.012380105, 0.010848261, 0.012982069, 0.013122279, 0.012232495, 0.01248039, 0.011923918, 0.011539862, 0.011826108, 0.011685876, 0.011957, 0.010813085, 0.011939983, 0.0143320365, 0.010169852, 0.017232943, 0.013717312, 0.011008231, 0.012533416, 0.011617149, 0.015418725, 0.0112367775, 0.013373643, 0.01088163, 0.012755259, 0.0113806, 0.012848637, 0.014286868, 0.012235301, 0.014880484, 0.011524867, 0.015036852, 0.012254868, 0.011794385, 0.010824497, 0.011283344, 0.015127515, 0.0112845795, 0.011246881]\n",
      "2022-02-28 21:12:05,021 : INFO : merging changes from 1204 documents into a model of 3204 documents\n",
      "2022-02-28 21:12:05,025 : INFO : topic #32 (0.010): 0.111*\"speed\" + 0.051*\"coordin\" + 0.042*\"comput\" + 0.038*\"-\" + 0.037*\"high\" + 0.034*\"fundament\" + 0.031*\"employ\" + 0.027*\"equat\" + 0.025*\"digit\" + 0.025*\"span\"\n",
      "2022-02-28 21:12:05,026 : INFO : topic #75 (0.010): 0.154*\"student\" + 0.100*\"comput\" + 0.071*\"close\" + 0.065*\";\" + 0.055*\"combinatori\" + 0.052*\"gamma\" + 0.050*\"overlap\" + 0.048*\"problem\" + 0.043*\"relationship\" + 0.038*\"solut\"\n",
      "2022-02-28 21:12:05,026 : INFO : topic #49 (0.016): 0.245*\"implement\" + 0.148*\"machin\" + 0.097*\"base\" + 0.058*\"-\" + 0.049*\"discuss\" + 0.044*\"characterist\" + 0.042*\"propos\" + 0.037*\"architectur\" + 0.035*\"program\" + 0.027*\"specif\"\n",
      "2022-02-28 21:12:05,027 : INFO : topic #76 (0.017): 0.706*\"method\" + 0.036*\"end\" + 0.032*\"consid\" + 0.032*\"charact\" + 0.032*\"eigenvalu\" + 0.030*\"gener\" + 0.019*\"applic\" + 0.018*\"real\" + 0.016*\"matrix\" + 0.013*\"varianc\"\n",
      "2022-02-28 21:12:05,027 : INFO : topic #22 (0.062): 0.375*\"(\" + 0.330*\")\" + 0.214*\"algorithm\" + 0.016*\"integr\" + 0.015*\"function\" + 0.007*\"-\" + 0.006*\"s14\" + 0.005*\"deviat\" + 0.005*\"gamma\" + 0.004*\"interpol\"\n",
      "2022-02-28 21:12:05,027 : INFO : topic diff=0.252002, rho=0.253169\n",
      "2022-02-28 21:12:05,032 : INFO : PROGRESS: pass 14, at document #2000/3204\n",
      "2022-02-28 21:12:05,397 : INFO : optimized alpha [0.010426381, 0.011690563, 0.01117487, 0.01268443, 0.012063965, 0.0138452, 0.013197187, 0.011188853, 0.010643541, 0.012320855, 0.013807505, 0.012014375, 0.011343026, 0.01384482, 0.013521887, 0.013948674, 0.01300271, 0.012943436, 0.012843298, 0.011952445, 0.013611775, 0.012158606, 0.06476622, 0.013962636, 0.01317709, 0.011285076, 0.011358342, 0.013530738, 0.012094871, 0.013658499, 0.0131003605, 0.013282618, 0.010111647, 0.010228451, 0.011717262, 0.011562219, 0.01029098, 0.010897339, 0.010495257, 0.012227842, 0.011975432, 0.011020305, 0.014595162, 0.013002585, 0.0119913025, 0.01196158, 0.014017965, 0.015465824, 0.011755088, 0.015754338, 0.013349663, 0.011544927, 0.012850572, 0.014296527, 0.0114047695, 0.012761684, 0.011703675, 0.013225021, 0.012474868, 0.012129724, 0.010997675, 0.012416457, 0.010852509, 0.012984792, 0.013209293, 0.012305641, 0.012552408, 0.012031641, 0.011552483, 0.01182811, 0.011796509, 0.011961963, 0.010793339, 0.011971888, 0.01431724, 0.010181882, 0.017555201, 0.013791367, 0.011036274, 0.0125988405, 0.01165597, 0.015647968, 0.0112646865, 0.013486521, 0.010894141, 0.0128109, 0.011413349, 0.012806722, 0.0143508455, 0.012352832, 0.015099219, 0.011595496, 0.015231279, 0.01226251, 0.0117533, 0.010828949, 0.011329995, 0.015229553, 0.0113785025, 0.011303361]\n",
      "2022-02-28 21:12:05,399 : INFO : merging changes from 2000 documents into a model of 3204 documents\n",
      "2022-02-28 21:12:05,403 : INFO : topic #32 (0.010): 0.107*\"speed\" + 0.049*\"coordin\" + 0.045*\"comput\" + 0.039*\"-\" + 0.039*\"high\" + 0.031*\"fundament\" + 0.030*\"equat\" + 0.029*\"employ\" + 0.027*\"digit\" + 0.023*\"orthogon\"\n",
      "2022-02-28 21:12:05,404 : INFO : topic #75 (0.010): 0.155*\"student\" + 0.099*\"comput\" + 0.067*\"close\" + 0.062*\";\" + 0.057*\"combinatori\" + 0.052*\"overlap\" + 0.049*\"gamma\" + 0.049*\"problem\" + 0.042*\"devic\" + 0.038*\"relationship\"\n",
      "2022-02-28 21:12:05,404 : INFO : topic #49 (0.016): 0.235*\"implement\" + 0.163*\"machin\" + 0.096*\"base\" + 0.059*\"-\" + 0.050*\"discuss\" + 0.044*\"characterist\" + 0.040*\"propos\" + 0.036*\"program\" + 0.031*\"architectur\" + 0.027*\"specif\"\n",
      "2022-02-28 21:12:05,405 : INFO : topic #76 (0.018): 0.701*\"method\" + 0.035*\"charact\" + 0.033*\"eigenvalu\" + 0.031*\"consid\" + 0.031*\"end\" + 0.028*\"gener\" + 0.020*\"applic\" + 0.019*\"real\" + 0.016*\"matrix\" + 0.014*\"varianc\"\n",
      "2022-02-28 21:12:05,405 : INFO : topic #22 (0.065): 0.371*\"(\" + 0.331*\")\" + 0.215*\"algorithm\" + 0.018*\"integr\" + 0.015*\"function\" + 0.007*\"-\" + 0.007*\"s14\" + 0.005*\"gamma\" + 0.005*\"deviat\" + 0.004*\"interpol\"\n",
      "2022-02-28 21:12:05,405 : INFO : topic diff=0.221583, rho=0.245426\n",
      "2022-02-28 21:12:05,818 : INFO : -6.450 per-word bound, 87.4 perplexity estimate based on a held-out corpus of 1204 documents with 49783 words\n",
      "2022-02-28 21:12:05,818 : INFO : PROGRESS: pass 14, at document #3204/3204\n",
      "2022-02-28 21:12:06,097 : INFO : optimized alpha [0.010510938, 0.011866682, 0.011274372, 0.012854773, 0.012226704, 0.014031483, 0.013495485, 0.011295842, 0.010757595, 0.012468736, 0.014058503, 0.012156807, 0.011413431, 0.01396919, 0.013777387, 0.014215018, 0.013084238, 0.013055366, 0.012984957, 0.01214326, 0.0137547925, 0.012305178, 0.0671991, 0.014180128, 0.013307031, 0.011398886, 0.011476215, 0.013694315, 0.012225024, 0.013716532, 0.013318377, 0.0135517325, 0.010150871, 0.010266452, 0.011829039, 0.011655033, 0.010404221, 0.0109822415, 0.010519178, 0.0123773385, 0.012038373, 0.01113991, 0.014881439, 0.013224922, 0.012124678, 0.012076957, 0.013946017, 0.015758853, 0.011938602, 0.016089572, 0.013521091, 0.011654835, 0.013007351, 0.0144907795, 0.0115246475, 0.012964242, 0.011755226, 0.013464449, 0.0126639055, 0.012264297, 0.0110881105, 0.0126058785, 0.010910774, 0.013169589, 0.013368243, 0.012387804, 0.012573468, 0.012090696, 0.011712159, 0.011959679, 0.011822977, 0.012093058, 0.010906309, 0.012155586, 0.014598382, 0.010266848, 0.018062431, 0.014062819, 0.011114414, 0.012772923, 0.011743877, 0.01599059, 0.011381831, 0.0136726, 0.010962314, 0.012934806, 0.011518691, 0.0130423885, 0.014610213, 0.012481307, 0.015310578, 0.01169105, 0.015381109, 0.012412745, 0.0119090695, 0.010932576, 0.011408409, 0.015560973, 0.011459286, 0.011435356]\n",
      "2022-02-28 21:12:06,100 : INFO : merging changes from 1204 documents into a model of 3204 documents\n",
      "2022-02-28 21:12:06,104 : INFO : topic #32 (0.010): 0.113*\"speed\" + 0.051*\"coordin\" + 0.043*\"comput\" + 0.037*\"high\" + 0.037*\"-\" + 0.034*\"fundament\" + 0.033*\"employ\" + 0.027*\"equat\" + 0.026*\"superior\" + 0.025*\"span\"\n",
      "2022-02-28 21:12:06,104 : INFO : topic #33 (0.010): 0.086*\"compil\" + 0.062*\"program\" + 0.051*\"languag\" + 0.051*\"/\" + 0.038*\",\" + 0.037*\"pl\" + 0.030*\"translat\" + 0.029*\"-\" + 0.028*\"execut\" + 0.017*\"diagnost\"\n",
      "2022-02-28 21:12:06,105 : INFO : topic #49 (0.016): 0.249*\"implement\" + 0.151*\"machin\" + 0.097*\"base\" + 0.056*\"-\" + 0.051*\"discuss\" + 0.045*\"characterist\" + 0.043*\"propos\" + 0.037*\"architectur\" + 0.034*\"program\" + 0.027*\"specif\"\n",
      "2022-02-28 21:12:06,105 : INFO : topic #76 (0.018): 0.716*\"method\" + 0.036*\"end\" + 0.032*\"charact\" + 0.031*\"eigenvalu\" + 0.031*\"consid\" + 0.028*\"gener\" + 0.020*\"applic\" + 0.017*\"real\" + 0.014*\"matrix\" + 0.012*\"varianc\"\n",
      "2022-02-28 21:12:06,106 : INFO : topic #22 (0.067): 0.377*\"(\" + 0.330*\")\" + 0.215*\"algorithm\" + 0.017*\"integr\" + 0.014*\"function\" + 0.007*\"-\" + 0.006*\"s14\" + 0.005*\"deviat\" + 0.005*\"gamma\" + 0.004*\"interpol\"\n",
      "2022-02-28 21:12:06,106 : INFO : topic diff=0.228854, rho=0.245426\n",
      "2022-02-28 21:12:06,111 : INFO : PROGRESS: pass 15, at document #2000/3204\n",
      "2022-02-28 21:12:06,463 : INFO : optimized alpha [0.010533863, 0.011876285, 0.011305263, 0.012855062, 0.01220224, 0.014108463, 0.013654228, 0.01131047, 0.01078498, 0.01248741, 0.014075631, 0.012146427, 0.011508068, 0.014103359, 0.013816698, 0.0142692765, 0.013241346, 0.013177381, 0.013050831, 0.012168006, 0.013796748, 0.012325046, 0.069974184, 0.014265864, 0.013417436, 0.011453218, 0.011468665, 0.013769694, 0.012268878, 0.013903458, 0.013321529, 0.013643507, 0.010186785, 0.0103029935, 0.011876418, 0.01175467, 0.010399432, 0.011025695, 0.010554838, 0.012395939, 0.012170901, 0.0111941155, 0.015063827, 0.01322092, 0.012178367, 0.012122738, 0.014273223, 0.01598195, 0.011976162, 0.016217006, 0.013572798, 0.011659854, 0.013056018, 0.014613568, 0.0115179, 0.013100409, 0.01183125, 0.013453579, 0.012659563, 0.012338538, 0.011099009, 0.012650048, 0.010916593, 0.0131718265, 0.013453298, 0.012462455, 0.012641116, 0.0121964095, 0.011724205, 0.011961544, 0.011927331, 0.012099306, 0.01088572, 0.012190779, 0.014584406, 0.010281078, 0.018396143, 0.014143227, 0.011144634, 0.012830652, 0.011781896, 0.016225055, 0.011411806, 0.013783389, 0.010973463, 0.012990825, 0.01155212, 0.013006839, 0.014670353, 0.012599934, 0.015533909, 0.011761676, 0.015574373, 0.012424544, 0.011867406, 0.010938294, 0.011454179, 0.015650935, 0.011556944, 0.011497401]\n",
      "2022-02-28 21:12:06,466 : INFO : merging changes from 2000 documents into a model of 3204 documents\n",
      "2022-02-28 21:12:06,469 : INFO : topic #32 (0.010): 0.109*\"speed\" + 0.049*\"coordin\" + 0.046*\"comput\" + 0.039*\"high\" + 0.038*\"-\" + 0.031*\"employ\" + 0.031*\"fundament\" + 0.030*\"equat\" + 0.026*\"orthogon\" + 0.026*\"digit\"\n",
      "2022-02-28 21:12:06,470 : INFO : topic #75 (0.010): 0.155*\"student\" + 0.099*\"comput\" + 0.072*\"close\" + 0.060*\";\" + 0.056*\"combinatori\" + 0.051*\"overlap\" + 0.048*\"gamma\" + 0.047*\"problem\" + 0.041*\"relationship\" + 0.041*\"devic\"\n",
      "2022-02-28 21:12:06,471 : INFO : topic #81 (0.016): 0.424*\"function\" + 0.139*\"deriv\" + 0.073*\"valu\" + 0.052*\"analyt\" + 0.037*\"tool\" + 0.035*\"elementari\" + 0.027*\"minim\" + 0.022*\"comput\" + 0.020*\"variabl\" + 0.020*\"non\"\n",
      "2022-02-28 21:12:06,472 : INFO : topic #76 (0.018): 0.710*\"method\" + 0.036*\"charact\" + 0.032*\"eigenvalu\" + 0.030*\"end\" + 0.030*\"consid\" + 0.026*\"gener\" + 0.020*\"applic\" + 0.018*\"real\" + 0.014*\"eigenvector\" + 0.013*\"varianc\"\n",
      "2022-02-28 21:12:06,472 : INFO : topic #22 (0.070): 0.372*\"(\" + 0.330*\")\" + 0.216*\"algorithm\" + 0.018*\"integr\" + 0.013*\"function\" + 0.007*\"-\" + 0.007*\"s14\" + 0.005*\"gamma\" + 0.005*\"deviat\" + 0.004*\"interpol\"\n",
      "2022-02-28 21:12:06,473 : INFO : topic diff=0.202638, rho=0.238352\n",
      "2022-02-28 21:12:07,016 : INFO : -6.444 per-word bound, 87.1 perplexity estimate based on a held-out corpus of 1204 documents with 49783 words\n",
      "2022-02-28 21:12:07,016 : INFO : PROGRESS: pass 15, at document #3204/3204\n",
      "2022-02-28 21:12:07,351 : INFO : optimized alpha [0.010618786, 0.012058771, 0.011409378, 0.013027115, 0.012361741, 0.014277146, 0.013969283, 0.011415169, 0.0108989775, 0.0126348, 0.014322422, 0.012288398, 0.011581353, 0.014241646, 0.014071031, 0.0145490365, 0.013325877, 0.013281452, 0.013192112, 0.012360223, 0.013934016, 0.012471366, 0.07231546, 0.014482594, 0.013542029, 0.011569273, 0.011588618, 0.013927198, 0.012396391, 0.013964923, 0.0135437455, 0.013928031, 0.010231339, 0.010338191, 0.0119882375, 0.011850083, 0.010524899, 0.011106579, 0.010578406, 0.012547348, 0.012236951, 0.0113180475, 0.015358734, 0.013441977, 0.012323796, 0.012233282, 0.014200413, 0.016277572, 0.012163709, 0.01654475, 0.013738165, 0.011762796, 0.013214949, 0.014807068, 0.011635303, 0.013294825, 0.0118814735, 0.013691644, 0.01286545, 0.012468087, 0.011189762, 0.012836185, 0.010975889, 0.013355728, 0.013617236, 0.012542714, 0.012661821, 0.012253896, 0.011892543, 0.012092844, 0.01195061, 0.012235092, 0.011005028, 0.012373774, 0.014849165, 0.010370441, 0.01891366, 0.014402597, 0.011223342, 0.01300415, 0.011870274, 0.016574033, 0.011528926, 0.013963467, 0.011040265, 0.013112096, 0.01165989, 0.013230503, 0.014919843, 0.012733315, 0.0157352, 0.011855085, 0.015723774, 0.012576773, 0.01202235, 0.011039695, 0.0115331635, 0.015953157, 0.0116381645, 0.011631439]\n",
      "2022-02-28 21:12:07,354 : INFO : merging changes from 1204 documents into a model of 3204 documents\n",
      "2022-02-28 21:12:07,357 : INFO : topic #32 (0.010): 0.113*\"speed\" + 0.051*\"coordin\" + 0.044*\"comput\" + 0.037*\"high\" + 0.037*\"-\" + 0.035*\"employ\" + 0.034*\"fundament\" + 0.028*\"superior\" + 0.027*\"equat\" + 0.025*\"orthogon\"\n",
      "2022-02-28 21:12:07,358 : INFO : topic #75 (0.010): 0.152*\"student\" + 0.097*\"comput\" + 0.079*\"close\" + 0.061*\";\" + 0.053*\"combinatori\" + 0.052*\"relationship\" + 0.050*\"gamma\" + 0.048*\"overlap\" + 0.044*\"problem\" + 0.041*\"solut\"\n",
      "2022-02-28 21:12:07,358 : INFO : topic #81 (0.017): 0.429*\"function\" + 0.139*\"deriv\" + 0.075*\"valu\" + 0.056*\"analyt\" + 0.039*\"tool\" + 0.035*\"elementari\" + 0.029*\"minim\" + 0.021*\"comput\" + 0.020*\"variabl\" + 0.019*\"arbitrari\"\n",
      "2022-02-28 21:12:07,359 : INFO : topic #76 (0.019): 0.724*\"method\" + 0.035*\"end\" + 0.033*\"charact\" + 0.031*\"eigenvalu\" + 0.030*\"consid\" + 0.026*\"gener\" + 0.020*\"applic\" + 0.016*\"real\" + 0.012*\"varianc\" + 0.011*\"matrix\"\n",
      "2022-02-28 21:12:07,359 : INFO : topic #22 (0.072): 0.378*\"(\" + 0.330*\")\" + 0.216*\"algorithm\" + 0.017*\"integr\" + 0.012*\"function\" + 0.007*\"-\" + 0.006*\"s14\" + 0.005*\"deviat\" + 0.005*\"gamma\" + 0.004*\"interpol\"\n",
      "2022-02-28 21:12:07,360 : INFO : topic diff=0.209195, rho=0.238352\n",
      "2022-02-28 21:12:07,365 : INFO : PROGRESS: pass 16, at document #2000/3204\n",
      "2022-02-28 21:12:07,712 : INFO : optimized alpha [0.01064255, 0.0120804, 0.011444984, 0.01303009, 0.012337572, 0.01435407, 0.0141344825, 0.0114306575, 0.010925763, 0.012651413, 0.014339969, 0.012279536, 0.011674404, 0.014375276, 0.014110385, 0.0146133285, 0.013479058, 0.013399891, 0.013262706, 0.012386905, 0.013976602, 0.01249061, 0.07505634, 0.014574934, 0.013634587, 0.011623831, 0.0115798265, 0.01400416, 0.012440675, 0.014149198, 0.013544523, 0.014019244, 0.010267867, 0.010371741, 0.012040226, 0.011949435, 0.01052254, 0.011153067, 0.010613583, 0.012569693, 0.012364564, 0.01137902, 0.015547806, 0.013442025, 0.012377838, 0.01227811, 0.0145220095, 0.016494583, 0.012200164, 0.016682882, 0.013790169, 0.0117677795, 0.013262445, 0.014927631, 0.011631365, 0.013436983, 0.011956127, 0.013684898, 0.012862075, 0.012543762, 0.011203074, 0.012886623, 0.010981873, 0.013357504, 0.013710209, 0.0126145175, 0.012731228, 0.012357804, 0.011912303, 0.012098853, 0.012053118, 0.012243912, 0.010989988, 0.0124122575, 0.014836061, 0.010385616, 0.019250464, 0.014486203, 0.011254384, 0.013062044, 0.011908967, 0.016829163, 0.011562285, 0.014070713, 0.011051397, 0.013170038, 0.011692633, 0.013201148, 0.014981714, 0.012854557, 0.015963458, 0.011927104, 0.01591242, 0.01259107, 0.011984241, 0.011049147, 0.01157811, 0.016049929, 0.01173558, 0.011692277]\n",
      "2022-02-28 21:12:07,714 : INFO : merging changes from 2000 documents into a model of 3204 documents\n",
      "2022-02-28 21:12:07,718 : INFO : topic #32 (0.010): 0.110*\"speed\" + 0.049*\"coordin\" + 0.047*\"comput\" + 0.039*\"high\" + 0.038*\"-\" + 0.033*\"employ\" + 0.031*\"fundament\" + 0.029*\"equat\" + 0.028*\"orthogon\" + 0.026*\"superior\"\n",
      "2022-02-28 21:12:07,718 : INFO : topic #75 (0.010): 0.154*\"student\" + 0.097*\"comput\" + 0.075*\"close\" + 0.058*\";\" + 0.055*\"combinatori\" + 0.050*\"overlap\" + 0.048*\"gamma\" + 0.047*\"relationship\" + 0.043*\"problem\" + 0.039*\"devic\"\n",
      "2022-02-28 21:12:07,719 : INFO : topic #81 (0.017): 0.439*\"function\" + 0.138*\"deriv\" + 0.074*\"valu\" + 0.052*\"analyt\" + 0.037*\"tool\" + 0.035*\"elementari\" + 0.027*\"minim\" + 0.022*\"comput\" + 0.020*\"arbitrari\" + 0.019*\"variabl\"\n",
      "2022-02-28 21:12:07,719 : INFO : topic #76 (0.019): 0.718*\"method\" + 0.037*\"charact\" + 0.032*\"eigenvalu\" + 0.030*\"end\" + 0.029*\"consid\" + 0.024*\"gener\" + 0.021*\"applic\" + 0.017*\"real\" + 0.014*\"eigenvector\" + 0.013*\"varianc\"\n",
      "2022-02-28 21:12:07,719 : INFO : topic #22 (0.075): 0.374*\"(\" + 0.330*\")\" + 0.217*\"algorithm\" + 0.018*\"integr\" + 0.011*\"function\" + 0.007*\"-\" + 0.007*\"s14\" + 0.005*\"gamma\" + 0.005*\"deviat\" + 0.004*\"interpol\"\n",
      "2022-02-28 21:12:07,720 : INFO : topic diff=0.186023, rho=0.231857\n",
      "2022-02-28 21:12:08,130 : INFO : -6.437 per-word bound, 86.6 perplexity estimate based on a held-out corpus of 1204 documents with 49783 words\n",
      "2022-02-28 21:12:08,131 : INFO : PROGRESS: pass 16, at document #3204/3204\n",
      "2022-02-28 21:12:08,423 : INFO : optimized alpha [0.010725838, 0.012267103, 0.011556045, 0.013201547, 0.012494156, 0.014525372, 0.014466997, 0.011533385, 0.01103988, 0.012808314, 0.014582883, 0.012418812, 0.011746085, 0.014519059, 0.014363817, 0.014892655, 0.013564057, 0.013501653, 0.01340895, 0.0125786485, 0.014119327, 0.012636798, 0.07731414, 0.014788192, 0.013751291, 0.011742198, 0.011692901, 0.014158682, 0.012568165, 0.014211346, 0.013760499, 0.014300792, 0.010313538, 0.010412409, 0.012147584, 0.01204749, 0.010645717, 0.011236656, 0.010634812, 0.012720753, 0.012424094, 0.011507396, 0.015851902, 0.013656969, 0.01252068, 0.012386513, 0.014442849, 0.016789757, 0.012384819, 0.017013147, 0.013955134, 0.011868747, 0.013413347, 0.015128995, 0.011750969, 0.013639175, 0.01200761, 0.01392197, 0.013067291, 0.0126732625, 0.0112942215, 0.013072232, 0.011035862, 0.013538146, 0.013871153, 0.012695487, 0.012751596, 0.012413857, 0.012073262, 0.0122276675, 0.012078042, 0.01238203, 0.011104932, 0.012601966, 0.01509937, 0.010475301, 0.01978198, 0.014756276, 0.0113293845, 0.013230129, 0.011993229, 0.017185112, 0.011675021, 0.014247783, 0.011116941, 0.01329405, 0.011796025, 0.013428911, 0.015236249, 0.012987928, 0.016176585, 0.012025436, 0.016067622, 0.01274305, 0.012133965, 0.011154966, 0.011657689, 0.016344966, 0.01181955, 0.0118262265]\n",
      "2022-02-28 21:12:08,426 : INFO : merging changes from 1204 documents into a model of 3204 documents\n",
      "2022-02-28 21:12:08,432 : INFO : topic #32 (0.010): 0.114*\"speed\" + 0.051*\"coordin\" + 0.045*\"comput\" + 0.039*\"employ\" + 0.038*\"high\" + 0.036*\"-\" + 0.034*\"fundament\" + 0.029*\"superior\" + 0.026*\"equat\" + 0.026*\"orthogon\"\n",
      "2022-02-28 21:12:08,433 : INFO : topic #33 (0.010): 0.097*\"compil\" + 0.063*\"program\" + 0.051*\"languag\" + 0.050*\"/\" + 0.037*\"pl\" + 0.036*\",\" + 0.030*\"translat\" + 0.029*\"-\" + 0.028*\"execut\" + 0.017*\"diagnost\"\n",
      "2022-02-28 21:12:08,433 : INFO : topic #81 (0.017): 0.443*\"function\" + 0.137*\"deriv\" + 0.075*\"valu\" + 0.056*\"analyt\" + 0.039*\"tool\" + 0.035*\"elementari\" + 0.029*\"minim\" + 0.021*\"comput\" + 0.019*\"arbitrari\" + 0.018*\"variabl\"\n",
      "2022-02-28 21:12:08,434 : INFO : topic #76 (0.020): 0.732*\"method\" + 0.035*\"end\" + 0.033*\"charact\" + 0.031*\"eigenvalu\" + 0.030*\"consid\" + 0.024*\"gener\" + 0.020*\"applic\" + 0.015*\"real\" + 0.011*\"varianc\" + 0.011*\"eigenvector\"\n",
      "2022-02-28 21:12:08,434 : INFO : topic #22 (0.077): 0.379*\"(\" + 0.330*\")\" + 0.216*\"algorithm\" + 0.017*\"integr\" + 0.010*\"function\" + 0.007*\"-\" + 0.006*\"s14\" + 0.005*\"deviat\" + 0.005*\"gamma\" + 0.004*\"interpol\"\n",
      "2022-02-28 21:12:08,434 : INFO : topic diff=0.192180, rho=0.231857\n",
      "2022-02-28 21:12:08,439 : INFO : PROGRESS: pass 17, at document #2000/3204\n",
      "2022-02-28 21:12:08,798 : INFO : optimized alpha [0.010747979, 0.0122907385, 0.011588316, 0.013205616, 0.012471643, 0.014607523, 0.0146339405, 0.011545972, 0.011072356, 0.012825783, 0.014597591, 0.012415585, 0.011838977, 0.014655537, 0.014403239, 0.014963635, 0.013713516, 0.013618262, 0.013476611, 0.012601473, 0.014162559, 0.012658413, 0.080019794, 0.01487527, 0.013843956, 0.011798372, 0.011686956, 0.014234102, 0.012615802, 0.014391532, 0.0137637695, 0.014390044, 0.010349521, 0.010450264, 0.012198635, 0.012145335, 0.010645715, 0.011284893, 0.010669543, 0.0127467625, 0.012554036, 0.011571287, 0.016042672, 0.013659443, 0.012579319, 0.0124319075, 0.01476242, 0.017010143, 0.012418728, 0.017154256, 0.014005913, 0.011873687, 0.013459774, 0.015247459, 0.011749745, 0.0137796365, 0.012081012, 0.013916081, 0.013064914, 0.01274906, 0.0113060605, 0.013121425, 0.011043247, 0.01353946, 0.013963978, 0.012760274, 0.012818441, 0.012516051, 0.012091008, 0.012232073, 0.012178867, 0.012390563, 0.0110876495, 0.012646534, 0.015088863, 0.010492595, 0.020119729, 0.014841274, 0.01135993, 0.013283752, 0.012032626, 0.017451927, 0.011711695, 0.014353248, 0.011131827, 0.013353873, 0.011826811, 0.0133993495, 0.0153015535, 0.013108976, 0.016399074, 0.012094857, 0.016253777, 0.012755347, 0.012093757, 0.011166741, 0.011704466, 0.016439369, 0.0119194, 0.011892607]\n",
      "2022-02-28 21:12:08,801 : INFO : merging changes from 2000 documents into a model of 3204 documents\n",
      "2022-02-28 21:12:08,806 : INFO : topic #32 (0.010): 0.110*\"speed\" + 0.049*\"coordin\" + 0.048*\"comput\" + 0.039*\"high\" + 0.038*\"-\" + 0.036*\"employ\" + 0.031*\"fundament\" + 0.029*\"orthogon\" + 0.029*\"equat\" + 0.027*\"superior\"\n",
      "2022-02-28 21:12:08,807 : INFO : topic #33 (0.010): 0.101*\"compil\" + 0.063*\"program\" + 0.050*\"languag\" + 0.048*\"/\" + 0.036*\",\" + 0.033*\"pl\" + 0.033*\"translat\" + 0.031*\"-\" + 0.026*\"execut\" + 0.017*\"check\"\n",
      "2022-02-28 21:12:08,808 : INFO : topic #81 (0.017): 0.453*\"function\" + 0.136*\"deriv\" + 0.074*\"valu\" + 0.051*\"analyt\" + 0.036*\"tool\" + 0.035*\"elementari\" + 0.026*\"minim\" + 0.022*\"comput\" + 0.019*\"arbitrari\" + 0.017*\"variabl\"\n",
      "2022-02-28 21:12:08,808 : INFO : topic #76 (0.020): 0.726*\"method\" + 0.037*\"charact\" + 0.032*\"eigenvalu\" + 0.030*\"end\" + 0.029*\"consid\" + 0.023*\"gener\" + 0.021*\"applic\" + 0.016*\"real\" + 0.013*\"eigenvector\" + 0.012*\"varianc\"\n",
      "2022-02-28 21:12:08,808 : INFO : topic #22 (0.080): 0.375*\"(\" + 0.330*\")\" + 0.217*\"algorithm\" + 0.018*\"integr\" + 0.009*\"function\" + 0.007*\"-\" + 0.007*\"s14\" + 0.005*\"gamma\" + 0.005*\"deviat\" + 0.004*\"interpol\"\n",
      "2022-02-28 21:12:08,809 : INFO : topic diff=0.171980, rho=0.225865\n",
      "2022-02-28 21:12:09,216 : INFO : -6.429 per-word bound, 86.2 perplexity estimate based on a held-out corpus of 1204 documents with 49783 words\n",
      "2022-02-28 21:12:09,216 : INFO : PROGRESS: pass 17, at document #3204/3204\n",
      "2022-02-28 21:12:09,492 : INFO : optimized alpha [0.010833857, 0.012467872, 0.0116974525, 0.013379134, 0.012616064, 0.014770191, 0.01497089, 0.011642464, 0.011192883, 0.012982515, 0.01483959, 0.012554808, 0.011909163, 0.01480775, 0.01466137, 0.015254367, 0.013793898, 0.013717849, 0.013617703, 0.012788109, 0.014297256, 0.012811872, 0.082167536, 0.015090951, 0.013966463, 0.011919136, 0.011797978, 0.014385871, 0.012741068, 0.014459798, 0.013979111, 0.014668932, 0.010398225, 0.010494116, 0.01231087, 0.012239247, 0.010770855, 0.011362682, 0.010690541, 0.012904832, 0.012614326, 0.011699767, 0.016353194, 0.013871166, 0.012717357, 0.012545366, 0.014679745, 0.017305115, 0.012603105, 0.017483985, 0.01416538, 0.011975053, 0.013610569, 0.0154512795, 0.011867203, 0.013984553, 0.012133651, 0.014154937, 0.013259753, 0.012878701, 0.011395544, 0.013304295, 0.011098409, 0.013717071, 0.014124806, 0.012844404, 0.012840882, 0.012570759, 0.012247169, 0.012358562, 0.012203096, 0.012516798, 0.011200524, 0.012833682, 0.015351119, 0.010582638, 0.020665536, 0.015105573, 0.011433537, 0.013451625, 0.012115274, 0.01780858, 0.011826902, 0.01452478, 0.011196203, 0.013473096, 0.011928336, 0.013613603, 0.015546876, 0.013244983, 0.016608749, 0.012191351, 0.016405556, 0.012909605, 0.012240793, 0.011272773, 0.011782519, 0.016730623, 0.012008393, 0.012026582]\n",
      "2022-02-28 21:12:09,494 : INFO : merging changes from 1204 documents into a model of 3204 documents\n",
      "2022-02-28 21:12:09,498 : INFO : topic #32 (0.010): 0.114*\"speed\" + 0.050*\"coordin\" + 0.046*\"comput\" + 0.043*\"employ\" + 0.038*\"high\" + 0.036*\"-\" + 0.034*\"fundament\" + 0.030*\"superior\" + 0.027*\"orthogon\" + 0.026*\"equat\"\n",
      "2022-02-28 21:12:09,498 : INFO : topic #33 (0.010): 0.103*\"compil\" + 0.064*\"program\" + 0.051*\"languag\" + 0.051*\"/\" + 0.037*\"pl\" + 0.036*\",\" + 0.031*\"translat\" + 0.029*\"-\" + 0.028*\"execut\" + 0.017*\"check\"\n",
      "2022-02-28 21:12:09,498 : INFO : topic #81 (0.018): 0.456*\"function\" + 0.136*\"deriv\" + 0.076*\"valu\" + 0.055*\"analyt\" + 0.038*\"tool\" + 0.035*\"elementari\" + 0.028*\"minim\" + 0.021*\"comput\" + 0.019*\"arbitrari\" + 0.017*\"variabl\"\n",
      "2022-02-28 21:12:09,499 : INFO : topic #76 (0.021): 0.739*\"method\" + 0.035*\"end\" + 0.033*\"charact\" + 0.030*\"eigenvalu\" + 0.029*\"consid\" + 0.023*\"gener\" + 0.020*\"applic\" + 0.015*\"real\" + 0.011*\"eigenvector\" + 0.011*\"print\"\n",
      "2022-02-28 21:12:09,499 : INFO : topic #22 (0.082): 0.381*\"(\" + 0.329*\")\" + 0.217*\"algorithm\" + 0.017*\"integr\" + 0.008*\"function\" + 0.007*\"-\" + 0.006*\"s14\" + 0.005*\"deviat\" + 0.005*\"gamma\" + 0.004*\"interpol\"\n",
      "2022-02-28 21:12:09,500 : INFO : topic diff=0.177553, rho=0.225865\n",
      "2022-02-28 21:12:09,504 : INFO : PROGRESS: pass 18, at document #2000/3204\n",
      "2022-02-28 21:12:09,977 : INFO : optimized alpha [0.010858061, 0.012496271, 0.011735612, 0.013385702, 0.012592474, 0.014844193, 0.015138061, 0.0116599975, 0.011222239, 0.013002279, 0.0148564475, 0.012552895, 0.012004705, 0.014947331, 0.014697651, 0.015326825, 0.013947505, 0.013834243, 0.013687069, 0.012814361, 0.01434125, 0.0128370905, 0.08480497, 0.015181332, 0.014059215, 0.011975642, 0.011792166, 0.0144567145, 0.01278926, 0.014640951, 0.013983179, 0.014757943, 0.0104325265, 0.010538404, 0.012367829, 0.0123383785, 0.010771891, 0.011411356, 0.010723683, 0.012927251, 0.012746671, 0.011774243, 0.016545739, 0.013882075, 0.012776315, 0.012589922, 0.014990923, 0.01753266, 0.012637454, 0.017616628, 0.014216541, 0.011979939, 0.0136560025, 0.015569472, 0.011868621, 0.0141388085, 0.012207231, 0.014154583, 0.01326282, 0.012950346, 0.011407237, 0.013353791, 0.01110716, 0.013719494, 0.014212944, 0.012912385, 0.012906798, 0.012675543, 0.012264339, 0.012361389, 0.012302385, 0.012525075, 0.011183583, 0.012872887, 0.015341461, 0.010601998, 0.021013077, 0.015185357, 0.011463638, 0.013510086, 0.012153994, 0.018069988, 0.01186548, 0.014628573, 0.011210991, 0.013531898, 0.011962487, 0.013583933, 0.015617359, 0.013373279, 0.016827246, 0.012259632, 0.016591005, 0.012921393, 0.012202605, 0.011284319, 0.011828555, 0.01681895, 0.012106848, 0.012093149]\n",
      "2022-02-28 21:12:09,980 : INFO : merging changes from 2000 documents into a model of 3204 documents\n",
      "2022-02-28 21:12:09,987 : INFO : topic #32 (0.010): 0.111*\"speed\" + 0.049*\"coordin\" + 0.048*\"comput\" + 0.040*\"employ\" + 0.039*\"high\" + 0.037*\"-\" + 0.031*\"fundament\" + 0.030*\"orthogon\" + 0.028*\"equat\" + 0.028*\"superior\"\n",
      "2022-02-28 21:12:09,988 : INFO : topic #33 (0.011): 0.108*\"compil\" + 0.063*\"program\" + 0.049*\"languag\" + 0.048*\"/\" + 0.035*\",\" + 0.033*\"pl\" + 0.032*\"translat\" + 0.030*\"-\" + 0.026*\"execut\" + 0.018*\"check\"\n",
      "2022-02-28 21:12:09,988 : INFO : topic #81 (0.018): 0.466*\"function\" + 0.134*\"deriv\" + 0.074*\"valu\" + 0.051*\"analyt\" + 0.036*\"tool\" + 0.035*\"elementari\" + 0.026*\"minim\" + 0.022*\"comput\" + 0.019*\"arbitrari\" + 0.016*\"variabl\"\n",
      "2022-02-28 21:12:09,989 : INFO : topic #76 (0.021): 0.734*\"method\" + 0.037*\"charact\" + 0.031*\"eigenvalu\" + 0.030*\"end\" + 0.028*\"consid\" + 0.022*\"gener\" + 0.021*\"applic\" + 0.016*\"real\" + 0.013*\"eigenvector\" + 0.011*\"print\"\n",
      "2022-02-28 21:12:09,989 : INFO : topic #22 (0.085): 0.377*\"(\" + 0.330*\")\" + 0.218*\"algorithm\" + 0.018*\"integr\" + 0.007*\"function\" + 0.007*\"-\" + 0.007*\"s14\" + 0.005*\"gamma\" + 0.005*\"deviat\" + 0.005*\"interpol\"\n",
      "2022-02-28 21:12:09,989 : INFO : topic diff=0.159500, rho=0.220316\n",
      "2022-02-28 21:12:10,439 : INFO : -6.422 per-word bound, 85.7 perplexity estimate based on a held-out corpus of 1204 documents with 49783 words\n",
      "2022-02-28 21:12:10,440 : INFO : PROGRESS: pass 18, at document #3204/3204\n",
      "2022-02-28 21:12:10,715 : INFO : optimized alpha [0.010944487, 0.012675597, 0.011842947, 0.0135590015, 0.0127368, 0.01500714, 0.015487799, 0.011759172, 0.011342982, 0.013158955, 0.015095101, 0.012689808, 0.012073463, 0.0150970025, 0.0149553325, 0.015623171, 0.014025922, 0.013931771, 0.013825843, 0.0129961185, 0.014481555, 0.012980994, 0.08683635, 0.015394056, 0.014182191, 0.012100986, 0.0118968645, 0.014605764, 0.012912392, 0.0147071965, 0.014195465, 0.015031424, 0.0104803955, 0.010581496, 0.0124758715, 0.012432812, 0.010897033, 0.011494045, 0.010744448, 0.013087591, 0.01280547, 0.01190513, 0.016865976, 0.014090845, 0.012914522, 0.012696827, 0.014907751, 0.017817844, 0.01281942, 0.017942965, 0.014373372, 0.012079553, 0.013804385, 0.015770221, 0.011984065, 0.014346658, 0.012256593, 0.014384985, 0.013472269, 0.013075452, 0.011497346, 0.01353156, 0.011163473, 0.013896846, 0.014368563, 0.012987799, 0.012926525, 0.012728961, 0.0124159325, 0.012485774, 0.012325951, 0.012651545, 0.011296591, 0.013055282, 0.015594413, 0.010694408, 0.021562383, 0.015449626, 0.011535948, 0.013673031, 0.012235152, 0.018430505, 0.011980998, 0.014802854, 0.011274278, 0.013649039, 0.012062259, 0.013807455, 0.015862402, 0.013512, 0.017036583, 0.012354352, 0.016733564, 0.013073182, 0.0123471515, 0.011390643, 0.011905186, 0.017106606, 0.012200745, 0.012225068]\n",
      "2022-02-28 21:12:10,718 : INFO : merging changes from 1204 documents into a model of 3204 documents\n",
      "2022-02-28 21:12:10,721 : INFO : topic #32 (0.010): 0.115*\"speed\" + 0.050*\"coordin\" + 0.046*\"comput\" + 0.045*\"employ\" + 0.038*\"high\" + 0.036*\"-\" + 0.033*\"fundament\" + 0.032*\"superior\" + 0.028*\"orthogon\" + 0.025*\"equat\"\n",
      "2022-02-28 21:12:10,721 : INFO : topic #33 (0.011): 0.109*\"compil\" + 0.064*\"program\" + 0.051*\"languag\" + 0.050*\"/\" + 0.036*\"pl\" + 0.035*\",\" + 0.030*\"translat\" + 0.029*\"-\" + 0.028*\"execut\" + 0.017*\"check\"\n",
      "2022-02-28 21:12:10,722 : INFO : topic #81 (0.018): 0.467*\"function\" + 0.135*\"deriv\" + 0.076*\"valu\" + 0.055*\"analyt\" + 0.038*\"tool\" + 0.035*\"elementari\" + 0.027*\"minim\" + 0.021*\"comput\" + 0.019*\"arbitrari\" + 0.017*\"variabl\"\n",
      "2022-02-28 21:12:10,722 : INFO : topic #76 (0.022): 0.745*\"method\" + 0.034*\"end\" + 0.033*\"charact\" + 0.030*\"eigenvalu\" + 0.028*\"consid\" + 0.022*\"gener\" + 0.020*\"applic\" + 0.014*\"real\" + 0.011*\"eigenvector\" + 0.011*\"print\"\n",
      "2022-02-28 21:12:10,723 : INFO : topic #22 (0.087): 0.382*\"(\" + 0.329*\")\" + 0.218*\"algorithm\" + 0.017*\"integr\" + 0.007*\"-\" + 0.007*\"function\" + 0.006*\"s14\" + 0.005*\"deviat\" + 0.005*\"gamma\" + 0.004*\"interpol\"\n",
      "2022-02-28 21:12:10,724 : INFO : topic diff=0.164691, rho=0.220316\n",
      "2022-02-28 21:12:10,728 : INFO : PROGRESS: pass 19, at document #2000/3204\n",
      "2022-02-28 21:12:11,082 : INFO : optimized alpha [0.010974261, 0.012703148, 0.011881667, 0.013567999, 0.012716252, 0.015081401, 0.015665207, 0.011777726, 0.0113766715, 0.013178155, 0.015114071, 0.012685034, 0.012170272, 0.015241193, 0.01499496, 0.01570037, 0.014171562, 0.014046511, 0.013889517, 0.013025767, 0.014524641, 0.013009893, 0.08940605, 0.015477701, 0.0142766, 0.012156515, 0.011892462, 0.014676844, 0.012968076, 0.014883062, 0.014200325, 0.015116966, 0.010513105, 0.010623982, 0.012534582, 0.012533259, 0.0108978925, 0.01154326, 0.010778379, 0.013110772, 0.01293481, 0.011978515, 0.017062204, 0.014104127, 0.01297951, 0.012739219, 0.015215782, 0.01803771, 0.012854223, 0.018074868, 0.014423466, 0.012084382, 0.013848882, 0.015894955, 0.011985422, 0.0144980345, 0.0123317605, 0.014383799, 0.013479153, 0.013145915, 0.011507606, 0.0135828545, 0.0111734895, 0.01389884, 0.014464574, 0.013054788, 0.0129914945, 0.012832269, 0.012432519, 0.012491213, 0.012423816, 0.012662371, 0.011281175, 0.013099125, 0.015585642, 0.010713415, 0.021908417, 0.015527646, 0.011568137, 0.013728888, 0.012273301, 0.018696113, 0.012017617, 0.014903388, 0.011287759, 0.013705326, 0.012097105, 0.013780584, 0.015924258, 0.013647633, 0.017262233, 0.012422917, 0.01691493, 0.013085959, 0.012305579, 0.011401948, 0.011953045, 0.017194623, 0.012303142, 0.012290558]\n",
      "2022-02-28 21:12:11,085 : INFO : merging changes from 2000 documents into a model of 3204 documents\n",
      "2022-02-28 21:12:11,089 : INFO : topic #32 (0.011): 0.111*\"speed\" + 0.049*\"coordin\" + 0.048*\"comput\" + 0.042*\"employ\" + 0.039*\"high\" + 0.037*\"-\" + 0.031*\"fundament\" + 0.030*\"orthogon\" + 0.029*\"superior\" + 0.028*\"equat\"\n",
      "2022-02-28 21:12:11,089 : INFO : topic #33 (0.011): 0.113*\"compil\" + 0.064*\"program\" + 0.049*\"languag\" + 0.048*\"/\" + 0.034*\",\" + 0.034*\"pl\" + 0.032*\"translat\" + 0.030*\"-\" + 0.027*\"execut\" + 0.018*\"check\"\n",
      "2022-02-28 21:12:11,090 : INFO : topic #81 (0.019): 0.478*\"function\" + 0.134*\"deriv\" + 0.075*\"valu\" + 0.051*\"analyt\" + 0.035*\"elementari\" + 0.035*\"tool\" + 0.025*\"minim\" + 0.022*\"comput\" + 0.019*\"arbitrari\" + 0.016*\"e4\"\n",
      "2022-02-28 21:12:11,090 : INFO : topic #76 (0.022): 0.740*\"method\" + 0.037*\"charact\" + 0.031*\"eigenvalu\" + 0.030*\"end\" + 0.027*\"consid\" + 0.021*\"gener\" + 0.021*\"applic\" + 0.015*\"real\" + 0.013*\"eigenvector\" + 0.011*\"print\"\n",
      "2022-02-28 21:12:11,092 : INFO : topic #22 (0.089): 0.378*\"(\" + 0.330*\")\" + 0.218*\"algorithm\" + 0.019*\"integr\" + 0.007*\"-\" + 0.007*\"s14\" + 0.006*\"function\" + 0.005*\"gamma\" + 0.005*\"deviat\" + 0.005*\"interpol\"\n",
      "2022-02-28 21:12:11,093 : INFO : topic diff=0.148802, rho=0.215156\n",
      "2022-02-28 21:12:11,507 : INFO : -6.417 per-word bound, 85.5 perplexity estimate based on a held-out corpus of 1204 documents with 49783 words\n",
      "2022-02-28 21:12:11,508 : INFO : PROGRESS: pass 19, at document #3204/3204\n",
      "2022-02-28 21:12:11,781 : INFO : optimized alpha [0.011063286, 0.01288248, 0.0119894985, 0.013741189, 0.012862912, 0.015255355, 0.016028387, 0.011877386, 0.011493605, 0.013334985, 0.015349592, 0.012819762, 0.01223986, 0.015393806, 0.015247091, 0.01600015, 0.014243116, 0.0141445985, 0.014026035, 0.013214534, 0.014659996, 0.01314928, 0.09127021, 0.01569039, 0.014400169, 0.012280017, 0.011995415, 0.014828676, 0.013089201, 0.014960775, 0.014414961, 0.015390532, 0.010560166, 0.010666367, 0.012640909, 0.012626057, 0.011021195, 0.01162456, 0.0107989395, 0.013268783, 0.012992212, 0.012109724, 0.017380422, 0.014315227, 0.013118043, 0.012841999, 0.015132121, 0.018326065, 0.013033892, 0.018397814, 0.014572628, 0.01218236, 0.013992464, 0.016095646, 0.012098959, 0.014721963, 0.012382396, 0.01461646, 0.013683632, 0.01327143, 0.011596254, 0.013765514, 0.01122893, 0.014071107, 0.014617766, 0.013124172, 0.013013273, 0.012884503, 0.012586363, 0.012618129, 0.012446782, 0.012784664, 0.011388299, 0.013291078, 0.015832331, 0.010804377, 0.022472307, 0.01578636, 0.01164755, 0.013894504, 0.012353054, 0.019054143, 0.012133574, 0.015077893, 0.011350039, 0.013820497, 0.012195246, 0.014003705, 0.016169151, 0.013784348, 0.01746842, 0.012516009, 0.017057613, 0.013235503, 0.0124478275, 0.011506545, 0.012030455, 0.017478911, 0.012397644, 0.012422703]\n",
      "2022-02-28 21:12:11,784 : INFO : merging changes from 1204 documents into a model of 3204 documents\n",
      "2022-02-28 21:12:11,787 : INFO : topic #32 (0.011): 0.115*\"speed\" + 0.051*\"coordin\" + 0.048*\"employ\" + 0.046*\"comput\" + 0.038*\"high\" + 0.035*\"-\" + 0.034*\"fundament\" + 0.032*\"superior\" + 0.029*\"orthogon\" + 0.025*\"equat\"\n",
      "2022-02-28 21:12:11,787 : INFO : topic #33 (0.011): 0.114*\"compil\" + 0.064*\"program\" + 0.051*\"languag\" + 0.051*\"/\" + 0.037*\"pl\" + 0.034*\",\" + 0.030*\"translat\" + 0.029*\"-\" + 0.029*\"execut\" + 0.018*\"check\"\n",
      "2022-02-28 21:12:11,788 : INFO : topic #81 (0.019): 0.477*\"function\" + 0.134*\"deriv\" + 0.077*\"valu\" + 0.055*\"analyt\" + 0.037*\"tool\" + 0.035*\"elementari\" + 0.027*\"minim\" + 0.021*\"comput\" + 0.019*\"arbitrari\" + 0.016*\"variabl\"\n",
      "2022-02-28 21:12:11,788 : INFO : topic #76 (0.022): 0.751*\"method\" + 0.034*\"end\" + 0.033*\"charact\" + 0.030*\"eigenvalu\" + 0.028*\"consid\" + 0.021*\"gener\" + 0.020*\"applic\" + 0.014*\"real\" + 0.011*\"eigenvector\" + 0.011*\"present\"\n",
      "2022-02-28 21:12:11,789 : INFO : topic #22 (0.091): 0.383*\"(\" + 0.329*\")\" + 0.218*\"algorithm\" + 0.017*\"integr\" + 0.007*\"-\" + 0.006*\"s14\" + 0.005*\"deviat\" + 0.005*\"function\" + 0.005*\"gamma\" + 0.004*\"interpol\"\n",
      "2022-02-28 21:12:11,789 : INFO : topic diff=0.153439, rho=0.215156\n"
     ]
    },
    {
     "data": {
      "text/plain": [
       "[(0, 0.0045227334),\n",
       " (1, 0.0052664303),\n",
       " (2, 0.004901374),\n",
       " (3, 0.005617475),\n",
       " (4, 0.0052584307),\n",
       " (5, 0.006236475),\n",
       " (6, 0.006552495),\n",
       " (7, 0.004855542),\n",
       " (8, 0.00469865),\n",
       " (9, 0.0054514166),\n",
       " (10, 0.0062749996),\n",
       " (11, 0.005240791),\n",
       " (12, 0.005003724),\n",
       " (13, 0.006293074),\n",
       " (14, 0.0062330966),\n",
       " (15, 0.0065409513),\n",
       " (16, 0.005822666),\n",
       " (17, 0.0057823914),\n",
       " (18, 0.0057339217),\n",
       " (19, 0.0054021757),\n",
       " (20, 0.4147918),\n",
       " (21, 0.0053755),\n",
       " (22, 0.037311774),\n",
       " (23, 0.00641432),\n",
       " (24, 0.00588687),\n",
       " (25, 0.00502014),\n",
       " (26, 0.0049037933),\n",
       " (27, 0.006062046),\n",
       " (28, 0.005350939),\n",
       " (29, 0.006116049),\n",
       " (30, 0.0058929175),\n",
       " (31, 0.006291736),\n",
       " (32, 0.0043170555),\n",
       " (33, 0.0043604705),\n",
       " (34, 0.0051676747),\n",
       " (35, 0.005161603),\n",
       " (36, 0.0045055263),\n",
       " (37, 0.004752185),\n",
       " (38, 0.0044146674),\n",
       " (39, 0.005424353),\n",
       " (40, 0.0053112893),\n",
       " (41, 0.0049505234),\n",
       " (42, 0.007105214),\n",
       " (43, 0.005852145),\n",
       " (44, 0.0053627295),\n",
       " (45, 0.005249881),\n",
       " (46, 0.006186096),\n",
       " (47, 0.007491798),\n",
       " (48, 0.0053283283),\n",
       " (49, 0.0075211297),\n",
       " (50, 0.005957372),\n",
       " (51, 0.004980217),\n",
       " (52, 0.005720198),\n",
       " (53, 0.0065799905),\n",
       " (54, 0.0049461224),\n",
       " (55, 0.006018421),\n",
       " (56, 0.005061993),\n",
       " (57, 0.0059752907),\n",
       " (58, 0.0055939457),\n",
       " (59, 0.005425435),\n",
       " (60, 0.004740614),\n",
       " (61, 0.0056274193),\n",
       " (62, 0.00459045),\n",
       " (63, 0.0057523474),\n",
       " (64, 0.0059758252),\n",
       " (65, 0.0053652353),\n",
       " (66, 0.005319899),\n",
       " (67, 0.0052672573),\n",
       " (68, 0.0051453756),\n",
       " (69, 0.005158362),\n",
       " (70, 0.0050883144),\n",
       " (71, 0.0052264426),\n",
       " (72, 0.0046556005),\n",
       " (73, 0.005433467),\n",
       " (74, 0.006472346),\n",
       " (75, 0.00441689),\n",
       " (76, 0.009186805),\n",
       " (77, 0.0064535523),\n",
       " (78, 0.004761584),\n",
       " (79, 0.0056801513),\n",
       " (80, 0.005049998),\n",
       " (81, 0.007789441),\n",
       " (82, 0.0049602734),\n",
       " (83, 0.0061639273),\n",
       " (84, 0.00463996),\n",
       " (85, 0.005649897),\n",
       " (86, 0.004985485),\n",
       " (87, 0.0057247933),\n",
       " (88, 0.00661004),\n",
       " (89, 0.005635119),\n",
       " (90, 0.0071411887),\n",
       " (91, 0.0051166145),\n",
       " (92, 0.006973248),\n",
       " (93, 0.005410748),\n",
       " (94, 0.005088742),\n",
       " (95, 0.0047039404),\n",
       " (96, 0.0049181175),\n",
       " (97, 0.007145477),\n",
       " (98, 0.0050682267),\n",
       " (99, 0.005078471)]"
      ]
     },
     "execution_count": 86,
     "metadata": {},
     "output_type": "execute_result"
    }
   ],
   "source": [
    "##### Function check\n",
    "lda = LdaRetrievalModel(doc_repr_2)\n",
    "lda.train_model()\n",
    "\n",
    "# you can now get an LDA vector for a given query in the following way:\n",
    "lda.vectorize_query(\"report\")\n",
    "##### "
   ]
  },
  {
   "cell_type": "markdown",
   "metadata": {
    "deletable": false,
    "editable": false,
    "nbgrader": {
     "cell_type": "markdown",
     "checksum": "32d83b6ea79ca3ddb789a7f8805a1b25",
     "grade": false,
     "grade_id": "cell-0e24b727d5908c0e",
     "locked": true,
     "points": 5,
     "schema_version": 3,
     "solution": false,
     "task": true
    }
   },
   "source": [
    "\\#### Please do not change this. This cell is used for grading."
   ]
  },
  {
   "cell_type": "markdown",
   "metadata": {
    "deletable": false,
    "editable": false,
    "nbgrader": {
     "cell_type": "markdown",
     "checksum": "114a934f0b9ce696e6cf09d3b8da6a3d",
     "grade": false,
     "grade_id": "cell-b1bffcb970b18aeb",
     "locked": true,
     "schema_version": 3,
     "solution": false,
     "task": false
    }
   },
   "source": [
    "---\n",
    "Now we can use the `DenseRetrievalModel` class to obtain an LDA search function.\n",
    "You can test your LDA model in the following cell: Try finding queries which are lexically different to documents, but semantically similar - does LDA work well for these queries?!"
   ]
  },
  {
   "cell_type": "code",
   "execution_count": 87,
   "metadata": {},
   "outputs": [
    {
     "data": {
      "application/vnd.jupyter.widget-view+json": {
       "model_id": "bb182d2bc8b346d9b43479e71c5a25c1",
       "version_major": 2,
       "version_minor": 0
      },
      "text/plain": [
       "Text(value='', description='Search Bar')"
      ]
     },
     "metadata": {},
     "output_type": "display_data"
    }
   ],
   "source": [
    "drm_lda = DenseRetrievalRanker(lda, jenson_shannon_sim)\n",
    "\n",
    "# test your LDA model\n",
    "search_fn = drm_lda.search\n",
    "\n",
    "text = widgets.Text(description=\"Search Bar\", width=200)\n",
    "display(text)\n",
    "\n",
    "\n",
    "text.on_submit(handle_submit_2)"
   ]
  },
  {
   "cell_type": "markdown",
   "metadata": {
    "deletable": false,
    "editable": false,
    "nbgrader": {
     "cell_type": "markdown",
     "checksum": "9d7f15863b655119b45f4d89354e5661",
     "grade": false,
     "grade_id": "cell-190cd0854b2791cc",
     "locked": true,
     "schema_version": 3,
     "solution": false,
     "task": false
    }
   },
   "source": [
    "## Section 8: Word2Vec/Doc2Vec (20 points) <a class=\"anchor\" id=\"2vec\"></a>\n",
    "\n",
    "[Back to Part 2](#part2)\n",
    "\n",
    "We will implement two other methods here, the Word2Vec model and the Doc2Vec model, also using `gensim`. Word2Vec creates representations of words, not documents, so the word level vectors need to be aggregated to obtain a representation for the document. Here, we will simply take the mean of the vectors. \n",
    "\n",
    "\n",
    "A drawback of these models is that they need a lot of training data. Our dataset is tiny, so in addition to using a model trained on the data, we will also use a pre-trained model for Word2Vec (this will be automatically downloaded).     \n",
    "\n",
    "*Note*:\n",
    "1. The code in vectorize_documents / vectorize_query should return gensim-like vectors i.e `[(dim, val), .. (dim, val)]`. \n",
    "2. For Word2Vec: You should also handle the following two cases: (a) A word in the query is not present in the vocabulary of the model and (b) none of the words in the query are present in the model - you can return 0 scores for all documents in this case. For either of these, you can check if a `word` is present in the vocab by using `word in self.model`\n"
   ]
  },
  {
   "cell_type": "code",
   "execution_count": 88,
   "metadata": {
    "deletable": false,
    "nbgrader": {
     "cell_type": "code",
     "checksum": "83ab733608ed14c29c09b36b4e1b6daa",
     "grade": false,
     "grade_id": "cell-2b73759f9baf688f",
     "locked": false,
     "schema_version": 3,
     "solution": true,
     "task": false
    },
    "tags": []
   },
   "outputs": [
    {
     "name": "stderr",
     "output_type": "stream",
     "text": [
      "2022-02-28 21:12:13,128 : INFO : adding document #0 to Dictionary(0 unique tokens: [])\n",
      "2022-02-28 21:12:13,250 : INFO : built Dictionary(5937 unique tokens: ['-', 'algebra', 'intern', 'languag', 'preliminari']...) from 3204 documents (total 115969 corpus positions)\n",
      "2022-02-28 21:12:13,257 : INFO : discarding 4740 tokens: [('repeat', 8), ('glossari', 7), ('inspect', 8), ('uncol', 2), ('rung', 9), ('secant', 2), ('.', 1603), ('acceler', 6), ('diverg', 3), ('induc', 9)]...\n",
      "2022-02-28 21:12:13,258 : INFO : keeping 1197 tokens which were in no less than 10 and no more than 1602 (=50.0%) documents\n",
      "2022-02-28 21:12:13,260 : INFO : resulting dictionary: Dictionary(1197 unique tokens: ['-', 'algebra', 'intern', 'languag', 'preliminari']...)\n",
      "2022-02-28 21:12:13,321 : INFO : collecting all words and their counts\n",
      "2022-02-28 21:12:13,322 : INFO : PROGRESS: at sentence #0, processed 0 words, keeping 0 word types\n",
      "2022-02-28 21:12:13,335 : INFO : collected 5937 word types from a corpus of 115969 raw words and 3204 sentences\n",
      "2022-02-28 21:12:13,335 : INFO : Loading a fresh vocabulary\n",
      "2022-02-28 21:12:13,343 : INFO : effective_min_count=1 retains 5937 unique words (100% of original 5937, drops 0)\n",
      "2022-02-28 21:12:13,344 : INFO : effective_min_count=1 leaves 115969 word corpus (100% of original 115969, drops 0)\n",
      "2022-02-28 21:12:13,356 : INFO : deleting the raw counts dictionary of 5937 items\n",
      "2022-02-28 21:12:13,356 : INFO : sample=0.001 downsamples 40 most-common words\n",
      "2022-02-28 21:12:13,357 : INFO : downsampling leaves estimated 92346 word corpus (79.6% of prior 115969)\n",
      "2022-02-28 21:12:13,365 : INFO : estimated required memory for 5937 words and 100 dimensions: 7718100 bytes\n",
      "2022-02-28 21:12:13,365 : INFO : resetting layer weights\n",
      "2022-02-28 21:12:14,240 : INFO : training model with 3 workers on 5937 vocabulary and 100 features, using sg=0 hs=0 sample=0.001 negative=5 window=5\n",
      "2022-02-28 21:12:14,299 : INFO : worker thread finished; awaiting finish of 2 more threads\n",
      "2022-02-28 21:12:14,301 : INFO : worker thread finished; awaiting finish of 1 more threads\n",
      "2022-02-28 21:12:14,302 : INFO : worker thread finished; awaiting finish of 0 more threads\n",
      "2022-02-28 21:12:14,303 : INFO : EPOCH - 1 : training on 115969 raw words (92403 effective words) took 0.1s, 1640924 effective words/s\n",
      "2022-02-28 21:12:14,346 : INFO : worker thread finished; awaiting finish of 2 more threads\n",
      "2022-02-28 21:12:14,349 : INFO : worker thread finished; awaiting finish of 1 more threads\n",
      "2022-02-28 21:12:14,351 : INFO : worker thread finished; awaiting finish of 0 more threads\n",
      "2022-02-28 21:12:14,351 : INFO : EPOCH - 2 : training on 115969 raw words (92324 effective words) took 0.0s, 2031039 effective words/s\n",
      "2022-02-28 21:12:14,393 : INFO : worker thread finished; awaiting finish of 2 more threads\n",
      "2022-02-28 21:12:14,395 : INFO : worker thread finished; awaiting finish of 1 more threads\n",
      "2022-02-28 21:12:14,397 : INFO : worker thread finished; awaiting finish of 0 more threads\n",
      "2022-02-28 21:12:14,397 : INFO : EPOCH - 3 : training on 115969 raw words (92452 effective words) took 0.0s, 2118948 effective words/s\n",
      "2022-02-28 21:12:14,531 : INFO : worker thread finished; awaiting finish of 2 more threads\n",
      "2022-02-28 21:12:14,540 : INFO : worker thread finished; awaiting finish of 1 more threads\n",
      "2022-02-28 21:12:14,542 : INFO : worker thread finished; awaiting finish of 0 more threads\n",
      "2022-02-28 21:12:14,542 : INFO : EPOCH - 4 : training on 115969 raw words (92394 effective words) took 0.1s, 663553 effective words/s\n",
      "2022-02-28 21:12:14,598 : INFO : worker thread finished; awaiting finish of 2 more threads\n",
      "2022-02-28 21:12:14,602 : INFO : worker thread finished; awaiting finish of 1 more threads\n",
      "2022-02-28 21:12:14,603 : INFO : worker thread finished; awaiting finish of 0 more threads\n",
      "2022-02-28 21:12:14,604 : INFO : EPOCH - 5 : training on 115969 raw words (92365 effective words) took 0.1s, 1740425 effective words/s\n",
      "2022-02-28 21:12:14,604 : INFO : training on a 579845 raw words (461938 effective words) took 0.4s, 1271411 effective words/s\n",
      "/Users/piyush/miniconda3/envs/ir1-i386/lib/python3.6/site-packages/ipykernel_launcher.py:55: DeprecationWarning: Call to deprecated `__contains__` (Method will be removed in 4.0.0, use self.wv.__contains__() instead).\n",
      "/Users/piyush/miniconda3/envs/ir1-i386/lib/python3.6/site-packages/ipykernel_launcher.py:56: DeprecationWarning: Call to deprecated `__getitem__` (Method will be removed in 4.0.0, use self.wv.__getitem__() instead).\n"
     ]
    },
    {
     "data": {
      "text/plain": [
       "[(1, 0.1796233206987381),\n",
       " (2, 0.3256396949291229),\n",
       " (3, 0.2786019444465637),\n",
       " (4, 0.5629942417144775),\n",
       " (5, 0.029653232544660568),\n",
       " (6, 0.37050527334213257),\n",
       " (7, -0.6695700287818909),\n",
       " (8, 0.518986701965332),\n",
       " (9, -0.22253848612308502),\n",
       " (10, 0.6270527243614197),\n",
       " (11, -0.8026291131973267),\n",
       " (12, 0.13311102986335754),\n",
       " (13, -0.5886245369911194),\n",
       " (14, -0.7981310486793518),\n",
       " (15, -0.10914304852485657),\n",
       " (16, -0.33292922377586365),\n",
       " (17, 0.7658413052558899),\n",
       " (18, 0.31144940853118896),\n",
       " (19, 0.29157570004463196),\n",
       " (20, -0.6247329711914062),\n",
       " (21, 0.04104924574494362),\n",
       " (22, 0.3569274842739105),\n",
       " (23, 0.18743054568767548),\n",
       " (24, 0.1546093076467514),\n",
       " (25, -0.1960652768611908),\n",
       " (26, -0.037881698459386826),\n",
       " (27, -0.8261568546295166),\n",
       " (28, 0.3958503305912018),\n",
       " (29, -0.3784064054489136),\n",
       " (30, -0.41999199986457825),\n",
       " (31, -0.5822268128395081),\n",
       " (32, 0.7481269240379333),\n",
       " (33, -0.03200618177652359),\n",
       " (34, 0.28458184003829956),\n",
       " (35, 0.16425833106040955),\n",
       " (36, -0.6244832277297974),\n",
       " (37, 0.6000916957855225),\n",
       " (38, 0.01161548588424921),\n",
       " (39, 0.4089888632297516),\n",
       " (40, 0.30902227759361267),\n",
       " (41, 0.2911231219768524),\n",
       " (42, -0.5699133276939392),\n",
       " (43, 0.48323941230773926),\n",
       " (44, -0.3353922665119171),\n",
       " (45, 0.22779706120491028),\n",
       " (46, -0.6698681116104126),\n",
       " (47, 0.19236911833286285),\n",
       " (48, -0.2803868353366852),\n",
       " (49, -0.03691772371530533),\n",
       " (50, 0.25657883286476135),\n",
       " (51, 0.4856564700603485),\n",
       " (52, 0.6558510065078735),\n",
       " (53, -0.38602304458618164),\n",
       " (54, 0.34739261865615845),\n",
       " (55, -0.4101375341415405),\n",
       " (56, 0.4882776737213135),\n",
       " (57, -0.03807583078742027),\n",
       " (58, -0.003818010911345482),\n",
       " (59, -0.5947667360305786),\n",
       " (60, -0.09008251130580902),\n",
       " (61, 0.42424276471138),\n",
       " (62, -0.12890321016311646),\n",
       " (63, -0.5116400122642517),\n",
       " (64, 0.08191502839326859),\n",
       " (65, 0.17864477634429932),\n",
       " (66, 0.12081564217805862),\n",
       " (67, 0.4223022162914276),\n",
       " (68, 0.32151275873184204),\n",
       " (69, 0.4329270124435425),\n",
       " (70, 0.22018970549106598),\n",
       " (71, 0.062238678336143494),\n",
       " (72, 0.121024951338768),\n",
       " (73, 0.8045524954795837),\n",
       " (74, 0.1119781881570816),\n",
       " (75, -0.13413852453231812),\n",
       " (76, -0.8160550594329834),\n",
       " (77, -0.1082807183265686),\n",
       " (78, 0.08027533441781998),\n",
       " (79, -0.3550899028778076),\n",
       " (80, 0.07235169410705566),\n",
       " (81, -0.13886746764183044),\n",
       " (82, -0.08737803995609283),\n",
       " (83, -0.040746770799160004),\n",
       " (84, -0.3636345863342285),\n",
       " (85, -0.786913275718689),\n",
       " (86, -0.8013896942138672),\n",
       " (87, 0.02700190804898739),\n",
       " (88, 0.7151764035224915),\n",
       " (89, -0.19097113609313965),\n",
       " (90, -0.9911145567893982),\n",
       " (91, -0.13491873443126678),\n",
       " (92, -0.578688383102417),\n",
       " (93, -0.01273185946047306),\n",
       " (94, -0.01392124593257904),\n",
       " (95, -0.7522680163383484),\n",
       " (96, 0.23181535303592682),\n",
       " (97, -0.6711232662200928),\n",
       " (98, -0.41889625787734985),\n",
       " (99, 0.0015050404472276568),\n",
       " (100, -0.27310049533843994)]"
      ]
     },
     "execution_count": 88,
     "metadata": {},
     "output_type": "execute_result"
    }
   ],
   "source": [
    "# TODO: Implement this! (10 points)\n",
    "class W2VRetrievalModel(VectorSpaceRetrievalModel):\n",
    "    def __init__(self, doc_repr):\n",
    "        super().__init__(doc_repr)\n",
    "        \n",
    "        # the dimensionality of the vectors\n",
    "        self.size = 100 \n",
    "        self.min_count = 1\n",
    "        \n",
    "        # set the sentences\n",
    "        self.doc_ids = [x[0] for x in doc_repr]\n",
    "        self.sentences = [x[1] for x in doc_repr]\n",
    "    \n",
    "    def train_model(self):\n",
    "        \"\"\"\n",
    "        Trains the W2V model\n",
    "        \"\"\"\n",
    "        # YOUR CODE HERE\n",
    "        self.model = Word2Vec(sentences=self.documents, size=self.size, min_count=self.min_count)\n",
    "        \n",
    "    def vectorize_documents(self):\n",
    "        \"\"\"\n",
    "            Returns a doc_id -> vector dictionary\n",
    "        \"\"\"\n",
    "        # YOUR CODE HERE\n",
    "\n",
    "        from collections import defaultdict\n",
    "\n",
    "        # document_vectors = defaultdict(lambda: np.zeros(self.size))\n",
    "        document_vectors = {doc_id: np.zeros(self.size) for doc_id in self.doc_ids}\n",
    "        for i in range(len(self.doc_ids)):\n",
    "            doc_id = self.doc_ids[i]\n",
    "            sentence = self.sentences[i]\n",
    "\n",
    "            for word in sentence:\n",
    "                if word in self.model:\n",
    "                    document_vectors[doc_id] += self.model[word] / len(sentence)\n",
    "        \n",
    "        for doc_id in self.doc_ids:\n",
    "            document_vectors[doc_id] = [(i+1, val) for i, val in enumerate(document_vectors[doc_id])]\n",
    "        \n",
    "        return document_vectors\n",
    "\n",
    "    def vectorize_query(self, query):\n",
    "        \"\"\"\n",
    "        Vectorizes the query using the W2V model\n",
    "        \"\"\"\n",
    "        query = process_text(query, **config_2)\n",
    "\n",
    "        # YOUR CODE HERE\n",
    "        # raise NotImplementedError()\n",
    "        \n",
    "        query_vector = np.zeros(self.size)\n",
    "        for word in query:\n",
    "            if word in self.model:\n",
    "                query_vector += self.model[word] / len(query)\n",
    "\n",
    "        query_vector = [(i+1, val) for i, val in enumerate(query_vector)]\n",
    "\n",
    "        return query_vector\n",
    "    \n",
    "class W2VPretrainedRetrievalModel(W2VRetrievalModel):\n",
    "    def __init__(self, doc_repr):\n",
    "        super().__init__(doc_repr)\n",
    "        self.model_name = \"word2vec-google-news-300\"\n",
    "        self.size = 300\n",
    "    \n",
    "    def train_model(self):\n",
    "        \"\"\"\n",
    "        Loads the pretrained model\n",
    "        \"\"\"\n",
    "        self.model = g_downloader.load(self.model_name)\n",
    "\n",
    "w2v = W2VRetrievalModel(doc_repr_2)\n",
    "w2v.train_model()\n",
    "\n",
    "# you can now get a W2V vector for a given query in the following way:\n",
    "w2v.vectorize_query(\"report\")"
   ]
  },
  {
   "cell_type": "code",
   "execution_count": 89,
   "metadata": {
    "deletable": false,
    "editable": false,
    "nbgrader": {
     "cell_type": "code",
     "checksum": "f92b5c5a8c6c4b80652b94223209ab0b",
     "grade": true,
     "grade_id": "cell-b31c0f8d214b8bdf",
     "locked": true,
     "points": 0,
     "schema_version": 3,
     "solution": false,
     "task": false
    }
   },
   "outputs": [
    {
     "name": "stderr",
     "output_type": "stream",
     "text": [
      "/Users/piyush/miniconda3/envs/ir1-i386/lib/python3.6/site-packages/ipykernel_launcher.py:55: DeprecationWarning: Call to deprecated `__contains__` (Method will be removed in 4.0.0, use self.wv.__contains__() instead).\n",
      "/Users/piyush/miniconda3/envs/ir1-i386/lib/python3.6/site-packages/ipykernel_launcher.py:56: DeprecationWarning: Call to deprecated `__getitem__` (Method will be removed in 4.0.0, use self.wv.__getitem__() instead).\n"
     ]
    }
   ],
   "source": [
    "assert len(w2v.vectorize_query(\"report\")) == 100\n",
    "assert len(w2v.vectorize_query(\"this is a sentence that is not mellifluous\")) == 100\n"
   ]
  },
  {
   "cell_type": "markdown",
   "metadata": {
    "deletable": false,
    "editable": false,
    "nbgrader": {
     "cell_type": "markdown",
     "checksum": "8dfaabebcb06f308a7ca61fdc5d369e7",
     "grade": false,
     "grade_id": "cell-c2614fa067386384",
     "locked": true,
     "points": 8,
     "schema_version": 3,
     "solution": false,
     "task": true
    }
   },
   "source": [
    "\\#### Please do not change this. This cell is used for grading."
   ]
  },
  {
   "cell_type": "code",
   "execution_count": 90,
   "metadata": {
    "tags": []
   },
   "outputs": [
    {
     "name": "stderr",
     "output_type": "stream",
     "text": [
      "2022-02-28 21:12:14,630 : INFO : adding document #0 to Dictionary(0 unique tokens: [])\n",
      "2022-02-28 21:12:14,754 : INFO : built Dictionary(5937 unique tokens: ['-', 'algebra', 'intern', 'languag', 'preliminari']...) from 3204 documents (total 115969 corpus positions)\n",
      "2022-02-28 21:12:14,760 : INFO : discarding 4740 tokens: [('repeat', 8), ('glossari', 7), ('inspect', 8), ('uncol', 2), ('rung', 9), ('secant', 2), ('.', 1603), ('acceler', 6), ('diverg', 3), ('induc', 9)]...\n",
      "2022-02-28 21:12:14,760 : INFO : keeping 1197 tokens which were in no less than 10 and no more than 1602 (=50.0%) documents\n",
      "2022-02-28 21:12:14,762 : INFO : resulting dictionary: Dictionary(1197 unique tokens: ['-', 'algebra', 'intern', 'languag', 'preliminari']...)\n",
      "2022-02-28 21:12:15,454 : INFO : loading projection weights from /Users/piyush/gensim-data/word2vec-google-news-300/word2vec-google-news-300.gz\n",
      "2022-02-28 21:13:43,874 : INFO : loaded (3000000, 300) matrix from /Users/piyush/gensim-data/word2vec-google-news-300/word2vec-google-news-300.gz\n"
     ]
    },
    {
     "data": {
      "text/plain": [
       "[(1, -0.142578125),\n",
       " (2, -0.1640625),\n",
       " (3, -0.09033203125),\n",
       " (4, -0.1123046875),\n",
       " (5, 0.10009765625),\n",
       " (6, -0.041259765625),\n",
       " (7, 0.048828125),\n",
       " (8, -0.13671875),\n",
       " (9, 0.1962890625),\n",
       " (10, -0.134765625),\n",
       " (11, -0.017578125),\n",
       " (12, 0.0322265625),\n",
       " (13, 0.09521484375),\n",
       " (14, -0.10595703125),\n",
       " (15, -0.169921875),\n",
       " (16, 0.041015625),\n",
       " (17, -0.263671875),\n",
       " (18, -0.006317138671875),\n",
       " (19, -0.177734375),\n",
       " (20, -0.240234375),\n",
       " (21, 0.3515625),\n",
       " (22, -0.01220703125),\n",
       " (23, -0.162109375),\n",
       " (24, -0.12060546875),\n",
       " (25, 0.043212890625),\n",
       " (26, 0.10986328125),\n",
       " (27, 0.052490234375),\n",
       " (28, 0.1787109375),\n",
       " (29, -0.1455078125),\n",
       " (30, 0.1376953125),\n",
       " (31, -0.08203125),\n",
       " (32, -0.283203125),\n",
       " (33, -0.10888671875),\n",
       " (34, -0.2890625),\n",
       " (35, 0.072265625),\n",
       " (36, -0.04736328125),\n",
       " (37, 0.040283203125),\n",
       " (38, 0.06787109375),\n",
       " (39, 0.11669921875),\n",
       " (40, 0.00083160400390625),\n",
       " (41, 0.068359375),\n",
       " (42, 0.1201171875),\n",
       " (43, -0.08837890625),\n",
       " (44, 0.337890625),\n",
       " (45, -0.044677734375),\n",
       " (46, -0.0301513671875),\n",
       " (47, 0.0076904296875),\n",
       " (48, -0.0211181640625),\n",
       " (49, -0.25390625),\n",
       " (50, 0.1494140625),\n",
       " (51, 0.3984375),\n",
       " (52, 0.0216064453125),\n",
       " (53, -0.023193359375),\n",
       " (54, 0.00634765625),\n",
       " (55, 0.00823974609375),\n",
       " (56, -0.1689453125),\n",
       " (57, 0.037353515625),\n",
       " (58, -0.0634765625),\n",
       " (59, 0.1171875),\n",
       " (60, -0.1484375),\n",
       " (61, -0.07861328125),\n",
       " (62, 0.369140625),\n",
       " (63, -0.224609375),\n",
       " (64, 0.173828125),\n",
       " (65, 0.01385498046875),\n",
       " (66, 0.1875),\n",
       " (67, -0.10107421875),\n",
       " (68, 0.037841796875),\n",
       " (69, 0.0021209716796875),\n",
       " (70, -0.05126953125),\n",
       " (71, 0.09619140625),\n",
       " (72, -0.05712890625),\n",
       " (73, 0.10595703125),\n",
       " (74, -0.02099609375),\n",
       " (75, 0.1611328125),\n",
       " (76, 0.09765625),\n",
       " (77, 0.038330078125),\n",
       " (78, 0.2197265625),\n",
       " (79, 0.1064453125),\n",
       " (80, 0.0859375),\n",
       " (81, 0.1796875),\n",
       " (82, -0.0830078125),\n",
       " (83, -0.033203125),\n",
       " (84, 0.041015625),\n",
       " (85, -0.06494140625),\n",
       " (86, 0.0198974609375),\n",
       " (87, 0.1337890625),\n",
       " (88, -0.09765625),\n",
       " (89, -0.193359375),\n",
       " (90, -0.2353515625),\n",
       " (91, 0.1904296875),\n",
       " (92, 0.0024871826171875),\n",
       " (93, -0.0157470703125),\n",
       " (94, 0.0322265625),\n",
       " (95, -0.2197265625),\n",
       " (96, -0.09130859375),\n",
       " (97, 0.021240234375),\n",
       " (98, 0.158203125),\n",
       " (99, 0.298828125),\n",
       " (100, -0.328125),\n",
       " (101, 0.057373046875),\n",
       " (102, -0.04638671875),\n",
       " (103, 0.11328125),\n",
       " (104, -0.1015625),\n",
       " (105, 0.1806640625),\n",
       " (106, -0.025146484375),\n",
       " (107, -0.166015625),\n",
       " (108, -0.09619140625),\n",
       " (109, 0.018798828125),\n",
       " (110, -0.1943359375),\n",
       " (111, 0.1494140625),\n",
       " (112, -0.056640625),\n",
       " (113, -0.10693359375),\n",
       " (114, -0.150390625),\n",
       " (115, -0.17578125),\n",
       " (116, 0.11279296875),\n",
       " (117, 0.04931640625),\n",
       " (118, 0.2197265625),\n",
       " (119, 0.318359375),\n",
       " (120, 0.1572265625),\n",
       " (121, -0.29296875),\n",
       " (122, 0.10498046875),\n",
       " (123, -0.296875),\n",
       " (124, -0.013427734375),\n",
       " (125, 0.0908203125),\n",
       " (126, 0.0125732421875),\n",
       " (127, -0.051513671875),\n",
       " (128, -0.12890625),\n",
       " (129, 0.01446533203125),\n",
       " (130, 0.12060546875),\n",
       " (131, -0.10107421875),\n",
       " (132, -0.111328125),\n",
       " (133, 0.06396484375),\n",
       " (134, -0.052978515625),\n",
       " (135, -0.043212890625),\n",
       " (136, -0.012939453125),\n",
       " (137, -0.027587890625),\n",
       " (138, -0.09716796875),\n",
       " (139, -0.2021484375),\n",
       " (140, 0.123046875),\n",
       " (141, -0.04248046875),\n",
       " (142, 0.173828125),\n",
       " (143, -0.013671875),\n",
       " (144, 0.1015625),\n",
       " (145, -0.00093841552734375),\n",
       " (146, -0.03564453125),\n",
       " (147, 0.30078125),\n",
       " (148, -0.068359375),\n",
       " (149, -0.05615234375),\n",
       " (150, 0.03759765625),\n",
       " (151, 0.06591796875),\n",
       " (152, 0.040283203125),\n",
       " (153, 0.01190185546875),\n",
       " (154, 0.09619140625),\n",
       " (155, 0.3671875),\n",
       " (156, -0.279296875),\n",
       " (157, -0.052001953125),\n",
       " (158, -0.10693359375),\n",
       " (159, -0.134765625),\n",
       " (160, -0.046142578125),\n",
       " (161, 0.25),\n",
       " (162, 0.00567626953125),\n",
       " (163, -0.014404296875),\n",
       " (164, -0.031005859375),\n",
       " (165, -0.060302734375),\n",
       " (166, 0.10595703125),\n",
       " (167, 0.37890625),\n",
       " (168, 0.058837890625),\n",
       " (169, 0.123046875),\n",
       " (170, -0.115234375),\n",
       " (171, 0.1494140625),\n",
       " (172, -0.1640625),\n",
       " (173, -0.2333984375),\n",
       " (174, -0.07763671875),\n",
       " (175, 0.0267333984375),\n",
       " (176, -0.0211181640625),\n",
       " (177, 0.1943359375),\n",
       " (178, -0.05615234375),\n",
       " (179, -0.006439208984375),\n",
       " (180, -0.169921875),\n",
       " (181, -0.11865234375),\n",
       " (182, -0.0673828125),\n",
       " (183, -0.06884765625),\n",
       " (184, -0.0869140625),\n",
       " (185, -0.1015625),\n",
       " (186, 0.01416015625),\n",
       " (187, -0.201171875),\n",
       " (188, 0.09814453125),\n",
       " (189, -0.01025390625),\n",
       " (190, 0.1875),\n",
       " (191, 0.1962890625),\n",
       " (192, -0.220703125),\n",
       " (193, -0.1962890625),\n",
       " (194, -0.07373046875),\n",
       " (195, 0.06640625),\n",
       " (196, -0.1337890625),\n",
       " (197, 0.18359375),\n",
       " (198, -0.2001953125),\n",
       " (199, 0.1982421875),\n",
       " (200, 0.05029296875),\n",
       " (201, 0.0299072265625),\n",
       " (202, 0.0177001953125),\n",
       " (203, -0.193359375),\n",
       " (204, -0.09619140625),\n",
       " (205, -0.1025390625),\n",
       " (206, 0.212890625),\n",
       " (207, -0.0299072265625),\n",
       " (208, 0.1435546875),\n",
       " (209, 0.041015625),\n",
       " (210, -0.2119140625),\n",
       " (211, 0.2080078125),\n",
       " (212, 0.1376953125),\n",
       " (213, -0.0196533203125),\n",
       " (214, 0.01495361328125),\n",
       " (215, -0.09765625),\n",
       " (216, 0.2431640625),\n",
       " (217, 0.080078125),\n",
       " (218, 0.08251953125),\n",
       " (219, 0.0986328125),\n",
       " (220, 0.056884765625),\n",
       " (221, 0.04248046875),\n",
       " (222, 0.06884765625),\n",
       " (223, -0.035400390625),\n",
       " (224, -0.076171875),\n",
       " (225, -0.00016117095947265625),\n",
       " (226, -0.0751953125),\n",
       " (227, 0.224609375),\n",
       " (228, 0.1513671875),\n",
       " (229, 0.1005859375),\n",
       " (230, 0.10986328125),\n",
       " (231, 0.0238037109375),\n",
       " (232, 0.08837890625),\n",
       " (233, 0.061767578125),\n",
       " (234, -0.10791015625),\n",
       " (235, 0.062255859375),\n",
       " (236, 0.0034332275390625),\n",
       " (237, 0.08056640625),\n",
       " (238, 0.10693359375),\n",
       " (239, 0.0888671875),\n",
       " (240, -0.2373046875),\n",
       " (241, 0.06494140625),\n",
       " (242, 0.01019287109375),\n",
       " (243, -0.08837890625),\n",
       " (244, -0.33203125),\n",
       " (245, 0.004669189453125),\n",
       " (246, 0.212890625),\n",
       " (247, 0.0859375),\n",
       " (248, 0.0203857421875),\n",
       " (249, 0.045654296875),\n",
       " (250, 0.1484375),\n",
       " (251, 0.1181640625),\n",
       " (252, 0.0556640625),\n",
       " (253, -0.1728515625),\n",
       " (254, -0.125),\n",
       " (255, -0.025390625),\n",
       " (256, -0.318359375),\n",
       " (257, 0.0311279296875),\n",
       " (258, 0.0859375),\n",
       " (259, -0.0419921875),\n",
       " (260, 0.15625),\n",
       " (261, 0.1611328125),\n",
       " (262, 0.1982421875),\n",
       " (263, -0.10009765625),\n",
       " (264, 0.203125),\n",
       " (265, 0.12890625),\n",
       " (266, 0.2333984375),\n",
       " (267, -0.267578125),\n",
       " (268, 0.05517578125),\n",
       " (269, 0.048828125),\n",
       " (270, 0.072265625),\n",
       " (271, 0.244140625),\n",
       " (272, 0.244140625),\n",
       " (273, 0.056884765625),\n",
       " (274, -0.0546875),\n",
       " (275, -0.03369140625),\n",
       " (276, -0.12060546875),\n",
       " (277, 0.034912109375),\n",
       " (278, -0.1455078125),\n",
       " (279, 0.08740234375),\n",
       " (280, -0.0830078125),\n",
       " (281, 0.0172119140625),\n",
       " (282, 0.1435546875),\n",
       " (283, -0.12255859375),\n",
       " (284, 0.1796875),\n",
       " (285, 0.130859375),\n",
       " (286, -0.1650390625),\n",
       " (287, 0.01275634765625),\n",
       " (288, 0.16015625),\n",
       " (289, -0.0311279296875),\n",
       " (290, 0.08203125),\n",
       " (291, 0.173828125),\n",
       " (292, -0.16796875),\n",
       " (293, 0.130859375),\n",
       " (294, 0.08544921875),\n",
       " (295, -0.2109375),\n",
       " (296, -0.130859375),\n",
       " (297, -0.0289306640625),\n",
       " (298, -0.10546875),\n",
       " (299, 0.08447265625),\n",
       " (300, -0.1416015625)]"
      ]
     },
     "execution_count": 90,
     "metadata": {},
     "output_type": "execute_result"
    }
   ],
   "source": [
    "w2v_pretrained = W2VPretrainedRetrievalModel(doc_repr_2)\n",
    "w2v_pretrained.train_model()\n",
    "\n",
    "# you can now get an W2V vector for a given query in the following way:\n",
    "w2v_pretrained.vectorize_query(\"report\")"
   ]
  },
  {
   "cell_type": "code",
   "execution_count": 91,
   "metadata": {
    "deletable": false,
    "editable": false,
    "nbgrader": {
     "cell_type": "code",
     "checksum": "0822845afb5eafe5ddb1ffeaa4f4942a",
     "grade": true,
     "grade_id": "cell-1b1466f8ce516f42",
     "locked": true,
     "points": 2,
     "schema_version": 3,
     "solution": false,
     "task": false
    }
   },
   "outputs": [
    {
     "name": "stdout",
     "output_type": "stream",
     "text": [
      "300\n"
     ]
    }
   ],
   "source": [
    "##### Function check\n",
    "\n",
    "print(len(w2v_pretrained.vectorize_query(\"report\")))\n",
    "#####"
   ]
  },
  {
   "cell_type": "code",
   "execution_count": 92,
   "metadata": {},
   "outputs": [
    {
     "name": "stderr",
     "output_type": "stream",
     "text": [
      "/Users/piyush/miniconda3/envs/ir1-i386/lib/python3.6/site-packages/ipykernel_launcher.py:36: DeprecationWarning: Call to deprecated `__contains__` (Method will be removed in 4.0.0, use self.wv.__contains__() instead).\n",
      "/Users/piyush/miniconda3/envs/ir1-i386/lib/python3.6/site-packages/ipykernel_launcher.py:37: DeprecationWarning: Call to deprecated `__getitem__` (Method will be removed in 4.0.0, use self.wv.__getitem__() instead).\n"
     ]
    },
    {
     "data": {
      "application/vnd.jupyter.widget-view+json": {
       "model_id": "0649c6665e184ef0b3b4d0bbc7e6acf3",
       "version_major": 2,
       "version_minor": 0
      },
      "text/plain": [
       "Text(value='', description='Search Bar')"
      ]
     },
     "metadata": {},
     "output_type": "display_data"
    }
   ],
   "source": [
    "drm_w2v = DenseRetrievalRanker(w2v, cosine_sim)\n",
    "\n",
    "# test your LDA model\n",
    "search_fn = drm_w2v.search\n",
    "\n",
    "text = widgets.Text(description=\"Search Bar\", width=200)\n",
    "display(text)\n",
    "\n",
    "\n",
    "text.on_submit(handle_submit_2)"
   ]
  },
  {
   "cell_type": "code",
   "execution_count": 93,
   "metadata": {},
   "outputs": [
    {
     "data": {
      "application/vnd.jupyter.widget-view+json": {
       "model_id": "d068ef5ac69647afaac327cdd3098771",
       "version_major": 2,
       "version_minor": 0
      },
      "text/plain": [
       "Text(value='', description='Search Bar')"
      ]
     },
     "metadata": {},
     "output_type": "display_data"
    }
   ],
   "source": [
    "drm_w2v_pretrained = DenseRetrievalRanker(w2v_pretrained, cosine_sim)\n",
    "\n",
    "# test your LDA model\n",
    "search_fn = drm_w2v_pretrained.search\n",
    "\n",
    "text = widgets.Text(description=\"Search Bar\", width=200)\n",
    "display(text)\n",
    "\n",
    "\n",
    "text.on_submit(handle_submit_2)"
   ]
  },
  {
   "cell_type": "markdown",
   "metadata": {
    "deletable": false,
    "editable": false,
    "nbgrader": {
     "cell_type": "markdown",
     "checksum": "51b778984fd60757974f51047c61eb15",
     "grade": false,
     "grade_id": "cell-b92f701cbc706108",
     "locked": true,
     "schema_version": 3,
     "solution": false,
     "task": false
    }
   },
   "source": [
    "**Implementation (10 points):**\n",
    "For Doc2Vec, you will need to create a list of `TaggedDocument` instead of using the `self.corpus` or `self.documents` variable. Use the document id as the 'tag'.\n",
    "  "
   ]
  },
  {
   "cell_type": "code",
   "execution_count": 94,
   "metadata": {
    "deletable": false,
    "nbgrader": {
     "cell_type": "code",
     "checksum": "1f60fdeb97febb7f4a6fd5bf109aac20",
     "grade": false,
     "grade_id": "cell-680facdcc98a19ab",
     "locked": false,
     "schema_version": 3,
     "solution": true,
     "task": false
    },
    "tags": []
   },
   "outputs": [
    {
     "name": "stderr",
     "output_type": "stream",
     "text": [
      "2022-02-28 21:13:51,790 : INFO : adding document #0 to Dictionary(0 unique tokens: [])\n",
      "2022-02-28 21:13:51,954 : INFO : built Dictionary(5937 unique tokens: ['-', 'algebra', 'intern', 'languag', 'preliminari']...) from 3204 documents (total 115969 corpus positions)\n",
      "2022-02-28 21:13:51,962 : INFO : discarding 4740 tokens: [('repeat', 8), ('glossari', 7), ('inspect', 8), ('uncol', 2), ('rung', 9), ('secant', 2), ('.', 1603), ('acceler', 6), ('diverg', 3), ('induc', 9)]...\n",
      "2022-02-28 21:13:51,962 : INFO : keeping 1197 tokens which were in no less than 10 and no more than 1602 (=50.0%) documents\n",
      "2022-02-28 21:13:51,967 : INFO : resulting dictionary: Dictionary(1197 unique tokens: ['-', 'algebra', 'intern', 'languag', 'preliminari']...)\n",
      "2022-02-28 21:13:52,049 : INFO : collecting all words and their counts\n",
      "2022-02-28 21:13:52,050 : INFO : PROGRESS: at example #0, processed 0 words (0/s), 0 word types, 0 tags\n",
      "2022-02-28 21:13:52,074 : INFO : collected 5937 word types and 3204 unique tags from a corpus of 3204 examples and 115969 words\n",
      "2022-02-28 21:13:52,074 : INFO : Loading a fresh vocabulary\n",
      "2022-02-28 21:13:52,089 : INFO : effective_min_count=1 retains 5937 unique words (100% of original 5937, drops 0)\n",
      "2022-02-28 21:13:52,090 : INFO : effective_min_count=1 leaves 115969 word corpus (100% of original 115969, drops 0)\n",
      "2022-02-28 21:13:52,104 : INFO : deleting the raw counts dictionary of 5937 items\n",
      "2022-02-28 21:13:52,105 : INFO : sample=0.001 downsamples 40 most-common words\n",
      "2022-02-28 21:13:52,105 : INFO : downsampling leaves estimated 92346 word corpus (79.6% of prior 115969)\n",
      "2022-02-28 21:13:52,121 : INFO : estimated required memory for 5937 words and 100 dimensions: 9640500 bytes\n",
      "2022-02-28 21:13:52,121 : INFO : resetting layer weights\n",
      "2022-02-28 21:13:53,559 : INFO : training model with 3 workers on 5937 vocabulary and 100 features, using sg=0 hs=0 sample=0.001 negative=5 window=5\n",
      "2022-02-28 21:13:53,870 : INFO : worker thread finished; awaiting finish of 2 more threads\n",
      "2022-02-28 21:13:53,879 : INFO : worker thread finished; awaiting finish of 1 more threads\n",
      "2022-02-28 21:13:53,884 : INFO : worker thread finished; awaiting finish of 0 more threads\n",
      "2022-02-28 21:13:53,884 : INFO : EPOCH - 1 : training on 115969 raw words (95800 effective words) took 0.2s, 412932 effective words/s\n",
      "2022-02-28 21:13:54,283 : INFO : worker thread finished; awaiting finish of 2 more threads\n",
      "2022-02-28 21:13:54,298 : INFO : worker thread finished; awaiting finish of 1 more threads\n",
      "2022-02-28 21:13:54,302 : INFO : worker thread finished; awaiting finish of 0 more threads\n",
      "2022-02-28 21:13:54,302 : INFO : EPOCH - 2 : training on 115969 raw words (95647 effective words) took 0.4s, 231291 effective words/s\n",
      "2022-02-28 21:13:54,629 : INFO : worker thread finished; awaiting finish of 2 more threads\n",
      "2022-02-28 21:13:54,643 : INFO : worker thread finished; awaiting finish of 1 more threads\n",
      "2022-02-28 21:13:54,648 : INFO : worker thread finished; awaiting finish of 0 more threads\n",
      "2022-02-28 21:13:54,651 : INFO : EPOCH - 3 : training on 115969 raw words (95546 effective words) took 0.3s, 278841 effective words/s\n",
      "2022-02-28 21:13:54,923 : INFO : worker thread finished; awaiting finish of 2 more threads\n",
      "2022-02-28 21:13:54,970 : INFO : worker thread finished; awaiting finish of 1 more threads\n",
      "2022-02-28 21:13:54,978 : INFO : worker thread finished; awaiting finish of 0 more threads\n",
      "2022-02-28 21:13:54,981 : INFO : EPOCH - 4 : training on 115969 raw words (95576 effective words) took 0.3s, 293820 effective words/s\n",
      "2022-02-28 21:13:55,466 : INFO : worker thread finished; awaiting finish of 2 more threads\n",
      "2022-02-28 21:13:55,504 : INFO : worker thread finished; awaiting finish of 1 more threads\n",
      "2022-02-28 21:13:55,504 : INFO : worker thread finished; awaiting finish of 0 more threads\n",
      "2022-02-28 21:13:55,505 : INFO : EPOCH - 5 : training on 115969 raw words (95736 effective words) took 0.5s, 185222 effective words/s\n",
      "2022-02-28 21:13:55,731 : INFO : worker thread finished; awaiting finish of 2 more threads\n",
      "2022-02-28 21:13:55,745 : INFO : worker thread finished; awaiting finish of 1 more threads\n",
      "2022-02-28 21:13:55,749 : INFO : worker thread finished; awaiting finish of 0 more threads\n",
      "2022-02-28 21:13:55,749 : INFO : EPOCH - 6 : training on 115969 raw words (95590 effective words) took 0.2s, 411810 effective words/s\n",
      "2022-02-28 21:13:55,940 : INFO : worker thread finished; awaiting finish of 2 more threads\n",
      "2022-02-28 21:13:55,944 : INFO : worker thread finished; awaiting finish of 1 more threads\n",
      "2022-02-28 21:13:55,950 : INFO : worker thread finished; awaiting finish of 0 more threads\n",
      "2022-02-28 21:13:55,951 : INFO : EPOCH - 7 : training on 115969 raw words (95553 effective words) took 0.2s, 485197 effective words/s\n",
      "2022-02-28 21:13:56,129 : INFO : worker thread finished; awaiting finish of 2 more threads\n",
      "2022-02-28 21:13:56,137 : INFO : worker thread finished; awaiting finish of 1 more threads\n",
      "2022-02-28 21:13:56,142 : INFO : worker thread finished; awaiting finish of 0 more threads\n",
      "2022-02-28 21:13:56,143 : INFO : EPOCH - 8 : training on 115969 raw words (95671 effective words) took 0.2s, 509108 effective words/s\n",
      "2022-02-28 21:13:56,326 : INFO : worker thread finished; awaiting finish of 2 more threads\n",
      "2022-02-28 21:13:56,426 : INFO : worker thread finished; awaiting finish of 1 more threads\n",
      "2022-02-28 21:13:56,482 : INFO : worker thread finished; awaiting finish of 0 more threads\n",
      "2022-02-28 21:13:56,483 : INFO : EPOCH - 9 : training on 115969 raw words (95552 effective words) took 0.3s, 284254 effective words/s\n",
      "2022-02-28 21:13:56,722 : INFO : worker thread finished; awaiting finish of 2 more threads\n",
      "2022-02-28 21:13:56,734 : INFO : worker thread finished; awaiting finish of 1 more threads\n",
      "2022-02-28 21:13:56,734 : INFO : worker thread finished; awaiting finish of 0 more threads\n",
      "2022-02-28 21:13:56,734 : INFO : EPOCH - 10 : training on 115969 raw words (95557 effective words) took 0.2s, 419865 effective words/s\n",
      "2022-02-28 21:13:56,945 : INFO : worker thread finished; awaiting finish of 2 more threads\n",
      "2022-02-28 21:13:56,953 : INFO : worker thread finished; awaiting finish of 1 more threads\n",
      "2022-02-28 21:13:56,958 : INFO : worker thread finished; awaiting finish of 0 more threads\n",
      "2022-02-28 21:13:56,958 : INFO : EPOCH - 11 : training on 115969 raw words (95408 effective words) took 0.2s, 432626 effective words/s\n",
      "2022-02-28 21:13:57,134 : INFO : worker thread finished; awaiting finish of 2 more threads\n",
      "2022-02-28 21:13:57,149 : INFO : worker thread finished; awaiting finish of 1 more threads\n",
      "2022-02-28 21:13:57,150 : INFO : worker thread finished; awaiting finish of 0 more threads\n",
      "2022-02-28 21:13:57,150 : INFO : EPOCH - 12 : training on 115969 raw words (95614 effective words) took 0.2s, 509383 effective words/s\n",
      "2022-02-28 21:13:57,337 : INFO : worker thread finished; awaiting finish of 2 more threads\n",
      "2022-02-28 21:13:57,351 : INFO : worker thread finished; awaiting finish of 1 more threads\n",
      "2022-02-28 21:13:57,353 : INFO : worker thread finished; awaiting finish of 0 more threads\n",
      "2022-02-28 21:13:57,354 : INFO : EPOCH - 13 : training on 115969 raw words (95723 effective words) took 0.2s, 477754 effective words/s\n",
      "2022-02-28 21:13:57,542 : INFO : worker thread finished; awaiting finish of 2 more threads\n",
      "2022-02-28 21:13:57,549 : INFO : worker thread finished; awaiting finish of 1 more threads\n",
      "2022-02-28 21:13:57,553 : INFO : worker thread finished; awaiting finish of 0 more threads\n",
      "2022-02-28 21:13:57,554 : INFO : EPOCH - 14 : training on 115969 raw words (95453 effective words) took 0.2s, 487321 effective words/s\n",
      "2022-02-28 21:13:57,729 : INFO : worker thread finished; awaiting finish of 2 more threads\n",
      "2022-02-28 21:13:57,745 : INFO : worker thread finished; awaiting finish of 1 more threads\n",
      "2022-02-28 21:13:57,748 : INFO : worker thread finished; awaiting finish of 0 more threads\n",
      "2022-02-28 21:13:57,748 : INFO : EPOCH - 15 : training on 115969 raw words (95602 effective words) took 0.2s, 501736 effective words/s\n",
      "2022-02-28 21:13:57,966 : INFO : worker thread finished; awaiting finish of 2 more threads\n",
      "2022-02-28 21:13:57,977 : INFO : worker thread finished; awaiting finish of 1 more threads\n",
      "2022-02-28 21:13:57,979 : INFO : worker thread finished; awaiting finish of 0 more threads\n",
      "2022-02-28 21:13:57,980 : INFO : EPOCH - 16 : training on 115969 raw words (95730 effective words) took 0.2s, 420754 effective words/s\n",
      "2022-02-28 21:13:58,163 : INFO : worker thread finished; awaiting finish of 2 more threads\n",
      "2022-02-28 21:13:58,170 : INFO : worker thread finished; awaiting finish of 1 more threads\n",
      "2022-02-28 21:13:58,175 : INFO : worker thread finished; awaiting finish of 0 more threads\n",
      "2022-02-28 21:13:58,175 : INFO : EPOCH - 17 : training on 115969 raw words (95555 effective words) took 0.2s, 499118 effective words/s\n",
      "2022-02-28 21:13:58,367 : INFO : worker thread finished; awaiting finish of 2 more threads\n",
      "2022-02-28 21:13:58,384 : INFO : worker thread finished; awaiting finish of 1 more threads\n",
      "2022-02-28 21:13:58,385 : INFO : worker thread finished; awaiting finish of 0 more threads\n",
      "2022-02-28 21:13:58,385 : INFO : EPOCH - 18 : training on 115969 raw words (95518 effective words) took 0.2s, 461264 effective words/s\n",
      "2022-02-28 21:13:58,566 : INFO : worker thread finished; awaiting finish of 2 more threads\n",
      "2022-02-28 21:13:58,571 : INFO : worker thread finished; awaiting finish of 1 more threads\n",
      "2022-02-28 21:13:58,580 : INFO : worker thread finished; awaiting finish of 0 more threads\n",
      "2022-02-28 21:13:58,580 : INFO : EPOCH - 19 : training on 115969 raw words (95637 effective words) took 0.2s, 502021 effective words/s\n",
      "2022-02-28 21:13:58,765 : INFO : worker thread finished; awaiting finish of 2 more threads\n",
      "2022-02-28 21:13:58,776 : INFO : worker thread finished; awaiting finish of 1 more threads\n",
      "2022-02-28 21:13:58,778 : INFO : worker thread finished; awaiting finish of 0 more threads\n",
      "2022-02-28 21:13:58,778 : INFO : EPOCH - 20 : training on 115969 raw words (95564 effective words) took 0.2s, 494422 effective words/s\n",
      "2022-02-28 21:13:58,778 : INFO : training on a 2319380 raw words (1912032 effective words) took 5.2s, 368406 effective words/s\n"
     ]
    },
    {
     "data": {
      "text/plain": [
       "[(1, 0.07615035),\n",
       " (2, 0.03385253),\n",
       " (3, 0.059231948),\n",
       " (4, 0.014344931),\n",
       " (5, 0.01001997),\n",
       " (6, 0.084204435),\n",
       " (7, -0.113179035),\n",
       " (8, 0.03272859),\n",
       " (9, -0.03089626),\n",
       " (10, 0.03165595),\n",
       " (11, -0.12669452),\n",
       " (12, 0.05066746),\n",
       " (13, -0.048048884),\n",
       " (14, -0.0649316),\n",
       " (15, -0.019788897),\n",
       " (16, 0.007984326),\n",
       " (17, 0.10653855),\n",
       " (18, 0.009482371),\n",
       " (19, -0.027363136),\n",
       " (20, 0.053176958),\n",
       " (21, 0.03221179),\n",
       " (22, 0.045712814),\n",
       " (23, 0.057902426),\n",
       " (24, 0.056714885),\n",
       " (25, 0.017008305),\n",
       " (26, -0.07165168),\n",
       " (27, -0.08493848),\n",
       " (28, -0.019138386),\n",
       " (29, -0.048654184),\n",
       " (30, -0.09388067),\n",
       " (31, -0.05709436),\n",
       " (32, 0.07191173),\n",
       " (33, -0.008301516),\n",
       " (34, 0.010277363),\n",
       " (35, 0.016139222),\n",
       " (36, -0.043612722),\n",
       " (37, 0.0585944),\n",
       " (38, -0.04927531),\n",
       " (39, 0.06225589),\n",
       " (40, -0.023104616),\n",
       " (41, 0.05933234),\n",
       " (42, -0.037639376),\n",
       " (43, -0.0018899806),\n",
       " (44, -0.049036365),\n",
       " (45, 0.05580311),\n",
       " (46, -0.08555912),\n",
       " (47, 0.042284876),\n",
       " (48, 0.03482912),\n",
       " (49, 0.01037176),\n",
       " (50, 0.015210166),\n",
       " (51, 0.07481558),\n",
       " (52, 0.09571954),\n",
       " (53, -0.043532785),\n",
       " (54, 0.06800139),\n",
       " (55, -0.0178873),\n",
       " (56, 0.08589924),\n",
       " (57, -0.058156803),\n",
       " (58, 0.05361182),\n",
       " (59, -0.071316935),\n",
       " (60, 0.010205797),\n",
       " (61, 0.0049790414),\n",
       " (62, -0.035117738),\n",
       " (63, 0.015246092),\n",
       " (64, 0.024341503),\n",
       " (65, 0.024508262),\n",
       " (66, -0.05612509),\n",
       " (67, 0.042225562),\n",
       " (68, 0.00026798277),\n",
       " (69, 0.013857371),\n",
       " (70, 0.026773674),\n",
       " (71, -0.0073325853),\n",
       " (72, 0.06997357),\n",
       " (73, 0.04490194),\n",
       " (74, 0.018384036),\n",
       " (75, -0.0184149),\n",
       " (76, -0.006246697),\n",
       " (77, 0.012198898),\n",
       " (78, -0.064179115),\n",
       " (79, -0.0525909),\n",
       " (80, -0.011775333),\n",
       " (81, -0.019476311),\n",
       " (82, -0.0056974464),\n",
       " (83, 0.031113768),\n",
       " (84, -0.07560878),\n",
       " (85, -0.032925364),\n",
       " (86, -0.11157458),\n",
       " (87, -0.02456235),\n",
       " (88, 0.07484422),\n",
       " (89, 0.048068408),\n",
       " (90, -0.062075857),\n",
       " (91, -0.043809548),\n",
       " (92, -0.008443124),\n",
       " (93, 0.05086735),\n",
       " (94, -0.016269298),\n",
       " (95, -0.12835981),\n",
       " (96, 0.055123292),\n",
       " (97, -0.06499847),\n",
       " (98, -0.049131423),\n",
       " (99, 0.012104084),\n",
       " (100, 0.0052970042)]"
      ]
     },
     "execution_count": 94,
     "metadata": {},
     "output_type": "execute_result"
    }
   ],
   "source": [
    "# TODO: Implement this! (10 points)\n",
    "class D2VRetrievalModel(VectorSpaceRetrievalModel):\n",
    "    def __init__(self, doc_repr):\n",
    "        super().__init__(doc_repr)\n",
    "        \n",
    "        self.vector_size= 100\n",
    "        self.min_count = 1\n",
    "        self.epochs = 20\n",
    "        \n",
    "        # YOUR CODE HERE\n",
    "        self.tagged_documents = [TaggedDocument(doc, [doc_id]) for doc_id, doc in self.doc_repr]\n",
    "        \n",
    "    def train_model(self):\n",
    "        # YOUR CODE HERE\n",
    "        self.model = Doc2Vec(\n",
    "            self.tagged_documents,\n",
    "            vector_size=self.vector_size,\n",
    "            min_count=self.min_count,\n",
    "            epochs=self.epochs,\n",
    "        )\n",
    "    \n",
    "    def vectorize_documents(self):\n",
    "        \"\"\"\n",
    "            Returns a doc_id -> vector dictionary\n",
    "        \"\"\"\n",
    "        # YOUR CODE HERE\n",
    "\n",
    "        from collections import defaultdict\n",
    "\n",
    "        document_vectors = defaultdict(lambda: np.zeros(self.vector_size))\n",
    "        for doc_id, doc in self.doc_repr:\n",
    "            document_vectors[doc_id] = [(i+1, v) for i, v in enumerate(self.model.infer_vector(doc))]\n",
    "        \n",
    "        return document_vectors\n",
    "\n",
    "    def vectorize_query(self, query):\n",
    "        # YOUR CODE HERE\n",
    "        query = process_text(query, **config_2)\n",
    "        query_vector = self.model.infer_vector(query)\n",
    "        query_vector = [(i+1, v) for i, v in enumerate(query_vector)]\n",
    "        return query_vector\n",
    "\n",
    "d2v = D2VRetrievalModel(doc_repr_2)\n",
    "d2v.train_model()\n",
    "\n",
    "\n",
    "# # you can now get an LSI vector for a given query in the following way:\n",
    "d2v.vectorize_query(\"report\")"
   ]
  },
  {
   "cell_type": "code",
   "execution_count": 95,
   "metadata": {
    "deletable": false,
    "editable": false,
    "nbgrader": {
     "cell_type": "code",
     "checksum": "e83a363a9d4f136efbdde1426a83925e",
     "grade": true,
     "grade_id": "cell-5e2c5e0c9a2e8cb5",
     "locked": true,
     "points": 0,
     "schema_version": 3,
     "solution": false,
     "task": false
    }
   },
   "outputs": [],
   "source": [
    "#### Please do not change this. This cell is used for grading."
   ]
  },
  {
   "cell_type": "markdown",
   "metadata": {
    "deletable": false,
    "editable": false,
    "nbgrader": {
     "cell_type": "markdown",
     "checksum": "5bb46bf6b9be1e0ca66f0b0bc6260ecb",
     "grade": false,
     "grade_id": "cell-8a49d414f798a595",
     "locked": true,
     "points": 10,
     "schema_version": 3,
     "solution": false,
     "task": true
    }
   },
   "source": [
    "\\#### Please do not change this. This cell is used for grading."
   ]
  },
  {
   "cell_type": "code",
   "execution_count": 96,
   "metadata": {},
   "outputs": [
    {
     "data": {
      "application/vnd.jupyter.widget-view+json": {
       "model_id": "c9a684a8d03c4d85b93836c4bf28c0c4",
       "version_major": 2,
       "version_minor": 0
      },
      "text/plain": [
       "Text(value='', description='Search Bar')"
      ]
     },
     "metadata": {},
     "output_type": "display_data"
    }
   ],
   "source": [
    "drm_d2v = DenseRetrievalRanker(d2v, cosine_sim)\n",
    "\n",
    "# test your LDA model\n",
    "search_fn = drm_d2v.search\n",
    "\n",
    "text = widgets.Text(description=\"Search Bar\", width=200)\n",
    "display(text)\n",
    "\n",
    "\n",
    "text.on_submit(handle_submit_2)"
   ]
  },
  {
   "cell_type": "markdown",
   "metadata": {
    "deletable": false,
    "editable": false,
    "nbgrader": {
     "cell_type": "markdown",
     "checksum": "363ec36c1d03d9f9e1c2045a6e193c14",
     "grade": false,
     "grade_id": "cell-3529ae29eece7b97",
     "locked": true,
     "schema_version": 3,
     "solution": false,
     "task": false
    }
   },
   "source": [
    "---\n",
    "## Section 9: Re-ranking (10 points) <a class=\"anchor\" id=\"reranking\"></a>\n",
    "\n",
    "[Back to Part 2](#part2)\n",
    "\n",
    "To motivate the re-ranking perspective (i.e retrieve with lexical method + rerank with a semantic method), let's search using semantic methods and compare it to BM25's performance, along with their runtime:\n"
   ]
  },
  {
   "cell_type": "code",
   "execution_count": 97,
   "metadata": {
    "deletable": false,
    "editable": false,
    "nbgrader": {
     "cell_type": "code",
     "checksum": "5755f70e3eb28abc65d14d80125338af",
     "grade": false,
     "grade_id": "cell-f8f43bf5ae383128",
     "locked": true,
     "schema_version": 3,
     "solution": false,
     "task": false
    }
   },
   "outputs": [
    {
     "name": "stdout",
     "output_type": "stream",
     "text": [
      "BM25: \n",
      "2.13 ms ± 34 µs per loop (mean ± std. dev. of 7 runs, 100 loops each)\n",
      "LSI: \n",
      "270 ms ± 2.35 ms per loop (mean ± std. dev. of 7 runs, 1 loop each)\n",
      "LDA: \n",
      "6.64 s ± 1.37 s per loop (mean ± std. dev. of 7 runs, 1 loop each)\n",
      "W2V: \n"
     ]
    },
    {
     "name": "stderr",
     "output_type": "stream",
     "text": [
      "/Users/piyush/miniconda3/envs/ir1-i386/lib/python3.6/site-packages/ipykernel_launcher.py:55: DeprecationWarning: Call to deprecated `__contains__` (Method will be removed in 4.0.0, use self.wv.__contains__() instead).\n",
      "/Users/piyush/miniconda3/envs/ir1-i386/lib/python3.6/site-packages/ipykernel_launcher.py:56: DeprecationWarning: Call to deprecated `__getitem__` (Method will be removed in 4.0.0, use self.wv.__getitem__() instead).\n"
     ]
    },
    {
     "name": "stdout",
     "output_type": "stream",
     "text": [
      "268 ms ± 2.28 ms per loop (mean ± std. dev. of 7 runs, 1 loop each)\n",
      "W2V(Pretrained): \n"
     ]
    },
    {
     "name": "stderr",
     "output_type": "stream",
     "text": [
      "/Users/piyush/miniconda3/envs/ir1-i386/lib/python3.6/site-packages/ipykernel_launcher.py:25: RuntimeWarning: invalid value encountered in double_scalars\n"
     ]
    },
    {
     "name": "stdout",
     "output_type": "stream",
     "text": [
      "659 ms ± 3.53 ms per loop (mean ± std. dev. of 7 runs, 1 loop each)\n",
      "D2V:\n",
      "270 ms ± 5.18 ms per loop (mean ± std. dev. of 7 runs, 1 loop each)\n"
     ]
    }
   ],
   "source": [
    "query = \"algebraic functions\"\n",
    "print(\"BM25: \")\n",
    "%timeit bm25_search(query, 2)\n",
    "print(\"LSI: \")\n",
    "%timeit drm_lsi.search(query)\n",
    "print(\"LDA: \")\n",
    "%timeit drm_lda.search(query)\n",
    "print(\"W2V: \")\n",
    "%timeit drm_w2v.search(query)\n",
    "print(\"W2V(Pretrained): \")\n",
    "%timeit drm_w2v_pretrained.search(query)\n",
    "print(\"D2V:\")\n",
    "%timeit drm_d2v.search(query)"
   ]
  },
  {
   "cell_type": "markdown",
   "metadata": {
    "deletable": false,
    "editable": false,
    "nbgrader": {
     "cell_type": "markdown",
     "checksum": "ae398da0a8c23c95bcbb0023b7ec6f34",
     "grade": false,
     "grade_id": "cell-db5ff09f97841af7",
     "locked": true,
     "schema_version": 3,
     "solution": false,
     "task": false
    }
   },
   "source": [
    "---\n",
    "\n",
    "**Implementation (10 points):**\n",
    "Re-ranking involves retrieving a small set of documents using simple but fast methods like BM25 and then re-ranking them with the aid of semantic methods such as LDA or LSI. Implement the following class, which takes in an `initial_retrieval_fn` - the initial retrieval function and `vsrm` - an instance of the `VectorSpaceRetrievalModel` class (i.e LSI/LDA) as input. The search function should first retrieve an initial list of K documents, and then these documents are re-ranked using a semantic method. This not only makes retrieval faster, but semantic methods perform poorly when used in isolation, as you will find out."
   ]
  },
  {
   "cell_type": "code",
   "execution_count": 98,
   "metadata": {
    "deletable": false,
    "nbgrader": {
     "cell_type": "code",
     "checksum": "63b6b05a676a2ae3f08d8bed1bc59428",
     "grade": false,
     "grade_id": "cell-5bf47600d1a0c507",
     "locked": false,
     "schema_version": 3,
     "solution": true,
     "task": false
    }
   },
   "outputs": [],
   "source": [
    "# TODO: Implement this! (10 points)\n",
    "class DenseRerankingModel:\n",
    "    def __init__(self, initial_retrieval_fn, vsrm, similarity_fn):\n",
    "        \"\"\"\n",
    "            initial_retrieval_fn: takes in a query and returns a list of [(doc_id, score)] (sorted)\n",
    "            vsrm: instance of `VectorSpaceRetrievalModel`\n",
    "            similarity_fn: function instance that takes in two vectors \n",
    "                            and returns a similarity score e.g cosine_sim defined earlier\n",
    "        \"\"\"\n",
    "        self.ret = initial_retrieval_fn\n",
    "        self.vsrm = vsrm\n",
    "        self.similarity_fn = similarity_fn\n",
    "        self.vectorized_documents = vsrm.vectorize_documents()\n",
    "        \n",
    "        assert len(self.vectorized_documents) == len(doc_repr_2)\n",
    "    \n",
    "    def search(self, query, K=50):\n",
    "        \"\"\"\n",
    "            First, retrieve the top K results using the retrieval function\n",
    "            Then, re-rank the results using the VSRM instance\n",
    "        \"\"\"\n",
    "        # YOUR CODE HERE\n",
    "\n",
    "        # get top K ranked documents\n",
    "        top_K = self.ret(query=query, index_set=2)[:K]\n",
    "        \n",
    "        # re-rank them using VSRM\n",
    "\n",
    "        ## get query vector\n",
    "        query_vector = self.vsrm.vectorize_query(query)\n",
    "\n",
    "        ## compute similarity scores\n",
    "        scores = [(doc_id, self.similarity_fn(query_vector, self.vectorized_documents[doc_id])) for (doc_id, _) in top_K]\n",
    "\n",
    "        ## sort based on new similarity scores\n",
    "        scores = sorted(scores, key=lambda x: x[1], reverse=True)\n",
    "        \n",
    "        return scores"
   ]
  },
  {
   "cell_type": "code",
   "execution_count": 99,
   "metadata": {
    "deletable": false,
    "editable": false,
    "nbgrader": {
     "cell_type": "code",
     "checksum": "334ab5af96976265cace682ab82a7387",
     "grade": true,
     "grade_id": "cell-52c6d18a4c0b4882",
     "locked": true,
     "points": 0,
     "schema_version": 3,
     "solution": false,
     "task": false
    }
   },
   "outputs": [
    {
     "name": "stderr",
     "output_type": "stream",
     "text": [
      "/Users/piyush/miniconda3/envs/ir1-i386/lib/python3.6/site-packages/ipykernel_launcher.py:36: DeprecationWarning: Call to deprecated `__contains__` (Method will be removed in 4.0.0, use self.wv.__contains__() instead).\n",
      "/Users/piyush/miniconda3/envs/ir1-i386/lib/python3.6/site-packages/ipykernel_launcher.py:37: DeprecationWarning: Call to deprecated `__getitem__` (Method will be removed in 4.0.0, use self.wv.__getitem__() instead).\n"
     ]
    }
   ],
   "source": [
    "##### Function check\n",
    "bm25_search_2 = partial(bm25_search, index_set=2)\n",
    "lsi_rerank = DenseRerankingModel(bm25_search_2, lsi, cosine_sim)\n",
    "lda_rerank = DenseRerankingModel(bm25_search_2, lda, jenson_shannon_sim)\n",
    "w2v_rerank = DenseRerankingModel(bm25_search_2, w2v, cosine_sim)\n",
    "w2v_pretrained_rerank = DenseRerankingModel(bm25_search_2, w2v_pretrained, cosine_sim)\n",
    "d2v_rerank = DenseRerankingModel(bm25_search_2, d2v, cosine_sim)\n",
    "\n",
    "##### "
   ]
  },
  {
   "cell_type": "markdown",
   "metadata": {
    "deletable": false,
    "editable": false,
    "nbgrader": {
     "cell_type": "markdown",
     "checksum": "bd904253f45f84e63bab3a69729058fc",
     "grade": false,
     "grade_id": "cell-93215dfe6bcf7cff",
     "locked": true,
     "points": 10,
     "schema_version": 3,
     "solution": false,
     "task": true
    }
   },
   "source": [
    "\\#### Please do not change this. This cell is used for grading."
   ]
  },
  {
   "cell_type": "markdown",
   "metadata": {
    "deletable": false,
    "editable": false,
    "nbgrader": {
     "cell_type": "markdown",
     "checksum": "b592e60292bfe3d9ef2930a354c4077a",
     "grade": false,
     "grade_id": "cell-aa694ff55fa91e7d",
     "locked": true,
     "schema_version": 3,
     "solution": false,
     "task": false
    }
   },
   "source": [
    "---\n",
    "Now, let us time the new search functions:"
   ]
  },
  {
   "cell_type": "code",
   "execution_count": 100,
   "metadata": {
    "deletable": false,
    "editable": false,
    "nbgrader": {
     "cell_type": "code",
     "checksum": "338c7e3528cba266a865a061287c0e38",
     "grade": false,
     "grade_id": "cell-5edbd481562ad91f",
     "locked": true,
     "schema_version": 3,
     "solution": false,
     "task": false
    }
   },
   "outputs": [
    {
     "name": "stdout",
     "output_type": "stream",
     "text": [
      "BM25: \n",
      "2.05 ms ± 17.7 µs per loop (mean ± std. dev. of 7 runs, 100 loops each)\n",
      "LSI: \n",
      "6.52 ms ± 94.1 µs per loop (mean ± std. dev. of 7 runs, 100 loops each)\n",
      "LDA: \n",
      "92.9 ms ± 302 µs per loop (mean ± std. dev. of 7 runs, 10 loops each)\n",
      "W2V: \n"
     ]
    },
    {
     "name": "stderr",
     "output_type": "stream",
     "text": [
      "/Users/piyush/miniconda3/envs/ir1-i386/lib/python3.6/site-packages/ipykernel_launcher.py:55: DeprecationWarning: Call to deprecated `__contains__` (Method will be removed in 4.0.0, use self.wv.__contains__() instead).\n",
      "/Users/piyush/miniconda3/envs/ir1-i386/lib/python3.6/site-packages/ipykernel_launcher.py:56: DeprecationWarning: Call to deprecated `__getitem__` (Method will be removed in 4.0.0, use self.wv.__getitem__() instead).\n"
     ]
    },
    {
     "name": "stdout",
     "output_type": "stream",
     "text": [
      "6.43 ms ± 93.8 µs per loop (mean ± std. dev. of 7 runs, 100 loops each)\n",
      "W2V(Pretrained): \n",
      "12.5 ms ± 550 µs per loop (mean ± std. dev. of 7 runs, 100 loops each)\n",
      "D2V:\n",
      "7.18 ms ± 106 µs per loop (mean ± std. dev. of 7 runs, 100 loops each)\n"
     ]
    }
   ],
   "source": [
    "query = \"algebraic functions\"\n",
    "print(\"BM25: \")\n",
    "%timeit bm25_search(query, 2)\n",
    "print(\"LSI: \")\n",
    "%timeit lsi_rerank.search(query)\n",
    "print(\"LDA: \")\n",
    "%timeit lda_rerank.search(query)\n",
    "print(\"W2V: \")\n",
    "%timeit w2v_rerank.search(query)\n",
    "print(\"W2V(Pretrained): \")\n",
    "%timeit w2v_pretrained_rerank.search(query)\n",
    "print(\"D2V:\")\n",
    "%timeit d2v_rerank.search(query)"
   ]
  },
  {
   "cell_type": "markdown",
   "metadata": {
    "deletable": false,
    "editable": false,
    "nbgrader": {
     "cell_type": "markdown",
     "checksum": "c45c5e3f015b2de89d9d39ae3766368b",
     "grade": false,
     "grade_id": "cell-85c50f2ab9eec301",
     "locked": true,
     "schema_version": 3,
     "solution": false,
     "task": false
    }
   },
   "source": [
    "---\n",
    "As you can see, it is much faster (but BM25 is still orders of magnitude faster)."
   ]
  },
  {
   "cell_type": "markdown",
   "metadata": {
    "deletable": false,
    "editable": false,
    "nbgrader": {
     "cell_type": "markdown",
     "checksum": "1e2f3388e3807659f303fe31a75a010e",
     "grade": false,
     "grade_id": "cell-5071bb99b2af61cb",
     "locked": true,
     "schema_version": 3,
     "solution": false,
     "task": false
    }
   },
   "source": [
    "---\n",
    "## Section 10: Evaluation & Analysis (30 points) <a class=\"anchor\" id=\"reranking_eval\"></a>\n",
    "\n",
    "[Back to Part 2](#part2)\n",
    "\n",
    "[Previously](#evaluation) we have implemented some evaluation metrics and used them for measuring the ranking performance of term-based IR algorithms. In this section, we will do the same for semantic methods, both with and without re-ranking.\n",
    "\n",
    "### Section 10.1: Plot (10 points)\n",
    "\n",
    "First, gather the results. The results should consider the index set, the different search functions and different metrics. Plot the results in bar charts, per metric, with clear labels.\n",
    "\n",
    "Then, gather only the re-ranking models, and plot and compare them with the results obtained in part 1 (only index set 2)."
   ]
  },
  {
   "cell_type": "code",
   "execution_count": 101,
   "metadata": {
    "deletable": false,
    "editable": false,
    "nbgrader": {
     "cell_type": "code",
     "checksum": "4fe81520ac6413a803838913fd64de03",
     "grade": false,
     "grade_id": "cell-b672fe6dfae0b1ce",
     "locked": true,
     "schema_version": 3,
     "solution": false,
     "task": false
    }
   },
   "outputs": [],
   "source": [
    "list_of_sem_search_fns = [\n",
    "    (\"lda\", drm_lda.search),\n",
    "    (\"lsi\", drm_lsi.search),\n",
    "    (\"w2v\", drm_w2v.search),\n",
    "    (\"w2v_pretrained\", drm_w2v_pretrained.search),\n",
    "    (\"d2v\", drm_d2v.search),\n",
    "    (\"lsi_rr\", lsi_rerank.search),\n",
    "    (\"lda_rr\", lda_rerank.search),\n",
    "    (\"w2v_rr\", w2v_rerank.search),\n",
    "    (\"w2v_pretrained_rr\", w2v_pretrained_rerank.search),\n",
    "    (\"d2v_rr\", d2v_rerank.search),\n",
    "    \n",
    "]"
   ]
  },
  {
   "cell_type": "code",
   "execution_count": 102,
   "metadata": {},
   "outputs": [
    {
     "name": "stdout",
     "output_type": "stream",
     "text": [
      "::: Generating results for lda ...\n",
      "::: Generating results for lsi ...\n",
      "::: Generating results for w2v ...\n"
     ]
    },
    {
     "name": "stderr",
     "output_type": "stream",
     "text": [
      "/Users/piyush/miniconda3/envs/ir1-i386/lib/python3.6/site-packages/ipykernel_launcher.py:55: DeprecationWarning: Call to deprecated `__contains__` (Method will be removed in 4.0.0, use self.wv.__contains__() instead).\n",
      "/Users/piyush/miniconda3/envs/ir1-i386/lib/python3.6/site-packages/ipykernel_launcher.py:56: DeprecationWarning: Call to deprecated `__getitem__` (Method will be removed in 4.0.0, use self.wv.__getitem__() instead).\n"
     ]
    },
    {
     "name": "stdout",
     "output_type": "stream",
     "text": [
      "::: Generating results for w2v_pretrained ...\n"
     ]
    },
    {
     "name": "stderr",
     "output_type": "stream",
     "text": [
      "/Users/piyush/miniconda3/envs/ir1-i386/lib/python3.6/site-packages/ipykernel_launcher.py:25: RuntimeWarning: invalid value encountered in double_scalars\n"
     ]
    },
    {
     "name": "stdout",
     "output_type": "stream",
     "text": [
      "::: Generating results for d2v ...\n",
      "::: Generating results for lsi_rr ...\n",
      "::: Generating results for lda_rr ...\n",
      "::: Generating results for w2v_rr ...\n",
      "::: Generating results for w2v_pretrained_rr ...\n",
      "::: Generating results for d2v_rr ...\n"
     ]
    },
    {
     "data": {
      "image/png": "[encoded data removed]",
      "text/plain": [
       "<Figure size 1440x936 with 8 Axes>"
      ]
     },
     "metadata": {
      "needs_background": "light"
     },
     "output_type": "display_data"
    }
   ],
   "source": [
    "# YOUR CODE HERE\n",
    "\n",
    "# generating results\n",
    "results = dict()\n",
    "for method_name, method_fn in list_of_sem_search_fns:\n",
    "    print(f\"::: Generating results for {method_name} ...\")\n",
    "    results[method_name] = evaluate_search_fn(method_fn, list_of_metrics, index_set=None)\n",
    "\n",
    "\n",
    "# plotting results\n",
    "nrows, ncols = 2, len(list_of_metrics) // 2\n",
    "fig, axes = plt.subplots(nrows, ncols, figsize=(5 * len(list_of_metrics) // 2, 4 * 2 + 5), constrained_layout=True)\n",
    "\n",
    "for i in range(nrows):\n",
    "    for j in range(ncols):\n",
    "        idx = i * ncols + j\n",
    "        ax = axes[i][j]\n",
    "        \n",
    "        metric = list_of_metrics[idx][0]\n",
    "\n",
    "        ax.grid(axis=\"y\")\n",
    "\n",
    "        methods_names = list(results.keys())\n",
    "        x = np.arange(len(methods_names))\n",
    "        width = 0.3\n",
    "        \n",
    "        methods_names = [method for method in results if not method.endswith(\"_rr\")]\n",
    "        x = np.arange(len(methods_names))\n",
    "        methods_values_1 = [results[method][metric] for method in methods_names]\n",
    "        methods_values_2 = [results[method + \"_rr\"][metric] for method in methods_names]\n",
    "\n",
    "        ax.bar(x=x, height=methods_values_1, width=width, label=\"Vanilla\")\n",
    "        ax.bar(x=x + width, height=methods_values_2, width=width, label=\"Re-ranked\")\n",
    "\n",
    "        ax.set_xticks(x + width / 2)\n",
    "        # ax.set_xticks(x)\n",
    "        \n",
    "        ax.set_xticklabels(methods_names, fontsize=13, rotation=90)\n",
    "        ax.set_xlabel(\"Search function\", fontsize=13)\n",
    "        ax.set_ylabel(metric, fontsize=13)\n",
    "        \n",
    "        ax.legend(fontsize=13)\n",
    "\n",
    "plt.suptitle(\n",
    "    \"Evaluation of semantic-based retrieval methods\",\n",
    "    fontsize=22,\n",
    "    y=1.05,\n",
    ")\n",
    "plt.show()"
   ]
  },
  {
   "cell_type": "markdown",
   "metadata": {
    "deletable": false,
    "editable": false,
    "nbgrader": {
     "cell_type": "markdown",
     "checksum": "a8a3b6189bdde66704c694d85e38d049",
     "grade": false,
     "grade_id": "cell-deb2ef3daa306e82",
     "locked": true,
     "schema_version": 3,
     "solution": false,
     "task": false
    }
   },
   "source": [
    "### Section 10.2: Summary (20 points)\n",
    "\n",
    "Your summary should compare methods from Part 1 and Part 2 (only for index set 2). State what you expected to see in the results, followed by either supporting evidence *or* justify why the results did not support your expectations. Consider the availability of data, scalability, domain/type of data, etc."
   ]
  },
  {
   "cell_type": "markdown",
   "metadata": {
    "deletable": false,
    "nbgrader": {
     "cell_type": "markdown",
     "checksum": "ff97c43837d10bff6aaffa75e1492887",
     "grade": true,
     "grade_id": "cell-ec5dd7d9cf59dd86",
     "locked": false,
     "points": 20,
     "schema_version": 3,
     "solution": true,
     "task": false
    }
   },
   "source": [
    "YOUR ANSWER HERE\n",
    "\n",
    "1. Regarding Part 2, the most apparent observation is that re-ranking improves all methods in all rankings, while also reducing the query time as tested in Section 9. We notice that before re-ranking the most effective retrieval methods are LDA and LSI, while after re-ranking W2V and D2V methods, suggesting that neural methods benefit even more from re-ranking. In addition, we see that w2v with pre-trained embeddings has slightly worse performance before re-ranking but significantly better performance after re-ranking.\n",
    "\n",
    "2. Finally, comparing methods from Part 1 and Part 2, we notice that BM25 (the most efficient retrieval method found at Part 1) has consistently $50\\%-100\\%$ better performance than the best performing method of Part 2 across all metrics. This suggests that for our collection of documents and queries, non-trainable methods are superior, and we can probably attribute this to the small size of our documents and the low number of documents and queries in our collection. This is in accord with the general trend in machine learning, that trainable methods outperform hand-crafted methods in the presence of big amounts of data. Hence, we expect that with the presence of more data, i.e. lengthier documents and more documents and queries, algorithms of Part 2 would achieve better retrieval performance across all metrics."
   ]
  }
 ],
 "metadata": {
  "kernelspec": {
   "display_name": "Python 3",
   "language": "python",
   "name": "python3"
  },
  "language_info": {
   "codemirror_mode": {
    "name": "ipython",
    "version": 3
   },
   "file_extension": ".py",
   "mimetype": "text/x-python",
   "name": "python",
   "nbconvert_exporter": "python",
   "pygments_lexer": "ipython3",
   "version": "3.6.5"
  },
  "toc": {
   "base_numbering": 1,
   "nav_menu": {},
   "number_sections": true,
   "sideBar": true,
   "skip_h1_title": false,
   "title_cell": "Table of Contents",
   "title_sidebar": "Contents",
   "toc_cell": false,
   "toc_position": {},
   "toc_section_display": true,
   "toc_window_display": false
  }
 },
 "nbformat": 4,
 "nbformat_minor": 4
}
