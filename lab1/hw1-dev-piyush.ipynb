{
 "cells": [
  {
   "cell_type": "markdown",
   "metadata": {
    "deletable": false,
    "editable": false,
    "nbgrader": {
     "cell_type": "markdown",
     "checksum": "1bba455de8bc2825ca70469169bbadaa",
     "grade": false,
     "grade_id": "cell-c9cd9e550239e812",
     "locked": true,
     "schema_version": 3,
     "solution": false,
     "task": false
    }
   },
   "source": [
    "# Homework 1 (Total Points: 250) <a class=\"anchor\" id=\"top\"></a>\n",
    "\n",
    "\n",
    "**Submission instructions**:\n",
    "- The cells with the `# YOUR CODE HERE` denote that these sections are graded and you need to add your implementation.\n",
    "- For Part 1: You can use the `nltk`, `NumPy`, and `matplotlib` libraries here. Other libraries, e.g., `gensim` or `scikit-learn`, may not be used. For Part 2: `gensim` is allowed in addition to the imported libraries in the next code cell\n",
    "- Please use Python 3.6.5 and `pip install -r requirements.txt` to avoid version issues.\n",
    "- The notebook you submit has to have the student ids, separated by underscores (E.g., `12341234_12341234_12341234_hw1.ipynb`).\n",
    "- This will be parsed by a regexp, **so please double check your filename**.\n",
    "- Only one member of each group has to submit the file (**please do not compress the .ipynb file when you will submit it**) to canvas.\n",
    "- **Make sure to check that your notebook runs before submission**. A quick way to do this is to restart the kernel and run all the cells.  \n",
    "- Do not change the number of arugments in the given functions.\n",
    "- **Please do not delete/add new cells**. Removing cells **will** lead to grade deduction. \n",
    "- Note, that you are not allowed to use Google Colab.\n",
    "\n",
    "\n",
    "**Learning Goals**:\n",
    "- [Part 1, Term-based matching](#part1) (165 points):\n",
    "    - Learn how to load a dataset and process it.\n",
    "    - Learn how to implement several standard IR methods (TF-IDF, BM25, QL) and understand their weaknesses & strengths.\n",
    "    - Learn how to evaluate IR methods.\n",
    "- [Part 2, Semantic-based matching](#part2) (85 points):\n",
    "    - Learn how to implement vector-space retrieval methods (LSI, LDA).\n",
    "    - Learn how to use LSI and LDA for re-ranking.\n",
    "\n",
    "    \n",
    "**Resources**: \n",
    "- **Part 1**: Sections 2.3, 4.1, 4.2, 4.3, 5.3, 5.6, 5.7, 6.2, 7, 8 of [Search Engines: Information Retrieval in Practice](https://ciir.cs.umass.edu/downloads/SEIRiP.pdf)\n",
    "- **Part 2**: [LSI - Chapter 18](https://nlp.stanford.edu/IR-book/pdf/18lsi.pdf) from [Introduction to Information Retrieval](https://nlp.stanford.edu/IR-book/) book and the [original LDA paper](https://jmlr.org/papers/volume3/blei03a/blei03a.pdf)"
   ]
  },
  {
   "cell_type": "code",
   "execution_count": 2,
   "metadata": {
    "deletable": false,
    "editable": false,
    "nbgrader": {
     "cell_type": "code",
     "checksum": "c55bfe94ff1f564dd595547e516c4c6e",
     "grade": false,
     "grade_id": "cell-f5357fabdb9660e3",
     "locked": true,
     "schema_version": 3,
     "solution": false,
     "task": false
    }
   },
   "outputs": [],
   "source": [
    "# imports \n",
    "# TODO: Ensure that no additional library is imported in the notebook. \n",
    "# TODO: Only the standard library and the following libraries are allowed:\n",
    "# TODO: You can also use unlisted classes from these libraries or standard libraries (such as defaultdict, Counter, ...).\n",
    "\n",
    "import os\n",
    "import zipfile\n",
    "from functools import partial\n",
    "\n",
    "import nltk\n",
    "import requests\n",
    "import numpy as np\n",
    "from tqdm import tqdm\n",
    "\n",
    "import matplotlib.pyplot as plt\n",
    "from matplotlib.pyplot import cm\n",
    "\n",
    "from ipywidgets import widgets\n",
    "from IPython.display import display, HTML\n",
    "#from IPython.html import widgets\n",
    "from collections import namedtuple\n",
    "\n",
    "%matplotlib inline"
   ]
  },
  {
   "cell_type": "markdown",
   "metadata": {
    "deletable": false,
    "editable": false,
    "nbgrader": {
     "cell_type": "markdown",
     "checksum": "c8328f758ca5b69f76eee03dbbdd4715",
     "grade": false,
     "grade_id": "cell-7428e12ed184408b",
     "locked": true,
     "schema_version": 3,
     "solution": false,
     "task": false
    }
   },
   "source": [
    "\n",
    "# Part 1: Term-based Matching (165 points) <a class=\"anchor\" id=\"part1\"></a>\n",
    "\n",
    "[Back to top](#top)\n",
    "\n",
    "In the first part, we will learn the basics of IR from loading and preprocessing the material, to implementing some well known search algorithms, to evaluating the ranking performance of the implemented algorithms. We will be using the CACM dataset throughout the assignment. The CACM dataset is a collection of titles and abstracts from the journal CACM (Communication of the ACM).\n",
    "\n",
    "Table of contents:\n",
    "- [Section 1: Text Processing](#text_processing) (5 points)\n",
    "- [Section 2: Indexing](#indexing) (10 points)\n",
    "- [Section 3: Ranking](#ranking) (80 points)\n",
    "- [Section 4: Evaluation](#evaluation) (40 points)\n",
    "- [Section 5: Analysis](#analysis) (30 points)\n"
   ]
  },
  {
   "cell_type": "markdown",
   "metadata": {
    "deletable": false,
    "editable": false,
    "nbgrader": {
     "cell_type": "markdown",
     "checksum": "4e3f938065183dc743aa8254b96b4f5e",
     "grade": false,
     "grade_id": "cell-4b24825cf4ae55ec",
     "locked": true,
     "schema_version": 3,
     "solution": false,
     "task": false
    }
   },
   "source": [
    "---\n",
    "## Section 1: Text Processing (5 points)<a class=\"anchor\" id=\"text_processing\"></a>\n",
    "\n",
    "[Back to Part 1](#part1)\n",
    "\n",
    "In this section, we will load the dataset and learn how to clean up the data to make it usable for an IR system. \n",
    "First, go through the implementation of the following functions:\n",
    "- `read_cacm_docs`: Reads in the CACM documents.\n",
    "- `read_queries`: Reads in the CACM queries.\n",
    "- `load_stopwords`: Loads the stopwords.\n",
    "\n",
    "The points of this section are earned for the following implementations:\n",
    "- `tokenize` (3 points): Tokenizes the input text.\n",
    "- `stem_token` (2 points): Stems the given token. \n",
    "\n",
    "We are using the [CACM dataset](http://ir.dcs.gla.ac.uk/resources/test_collections/cacm/), which is a small, classic IR dataset, composed of a collection of titles and abstracts from the journal CACM. It comes with relevance judgements for queries, so we can evaluate our IR system. \n"
   ]
  },
  {
   "cell_type": "markdown",
   "metadata": {
    "deletable": false,
    "editable": false,
    "nbgrader": {
     "cell_type": "markdown",
     "checksum": "0155d897c7016389d73d160921947a6f",
     "grade": false,
     "grade_id": "cell-45651364e7af6d5a",
     "locked": true,
     "schema_version": 3,
     "solution": false,
     "task": false
    }
   },
   "source": [
    "---\n",
    "### 1.1 Read the CACM documents\n",
    "\n",
    "\n",
    "The following cell downloads the dataset and unzips it to a local directory."
   ]
  },
  {
   "cell_type": "code",
   "execution_count": 3,
   "metadata": {
    "deletable": false,
    "editable": false,
    "nbgrader": {
     "cell_type": "code",
     "checksum": "4d43c9ad6e77cc01ce4cef0c34824930",
     "grade": false,
     "grade_id": "cell-bbc3030bb3fe7e02",
     "locked": true,
     "schema_version": 3,
     "solution": false,
     "task": false
    }
   },
   "outputs": [],
   "source": [
    "def download_dataset():\n",
    "    folder_path = os.environ.get(\"IR1_DATA_PATH\")\n",
    "    if not folder_path:\n",
    "        folder_path = \"./datasets/\"\n",
    "    os.makedirs(folder_path, exist_ok=True)\n",
    "    \n",
    "    file_location = os.path.join(folder_path, \"cacm.zip\")\n",
    "    \n",
    "    # download file if it doesn't exist\n",
    "    if not os.path.exists(file_location):\n",
    "        \n",
    "        url = \"https://surfdrive.surf.nl/files/index.php/s/M0FGJpX2p8wDwxR/download\"\n",
    "\n",
    "        with open(file_location, \"wb\") as handle:\n",
    "            print(f\"Downloading file from {url} to {file_location}\")\n",
    "            response = requests.get(url, stream=True)\n",
    "            for data in tqdm(response.iter_content()):\n",
    "                handle.write(data)\n",
    "            print(\"Finished downloading file\")\n",
    "    \n",
    "    if not os.path.exists(os.path.join(folder_path, \"train.txt\")):\n",
    "        \n",
    "        # unzip file\n",
    "        with zipfile.ZipFile(file_location, 'r') as zip_ref:\n",
    "            zip_ref.extractall(folder_path)\n",
    "        \n",
    "download_dataset()"
   ]
  },
  {
   "cell_type": "markdown",
   "metadata": {
    "deletable": false,
    "editable": false,
    "nbgrader": {
     "cell_type": "markdown",
     "checksum": "31609b0d61d0c74cbd69bc43e47c23be",
     "grade": false,
     "grade_id": "cell-a7dd9a9bf98ede05",
     "locked": true,
     "schema_version": 3,
     "solution": false,
     "task": false
    }
   },
   "source": [
    "---\n",
    "\n",
    "You can see a brief description of each file in the dataset by looking at the README file:"
   ]
  },
  {
   "cell_type": "code",
   "execution_count": 4,
   "metadata": {
    "deletable": false,
    "editable": false,
    "nbgrader": {
     "cell_type": "code",
     "checksum": "cb3c9a2b8b2bf4fd5b7446b0c4c00f43",
     "grade": false,
     "grade_id": "cell-9b6ff1a17124711f",
     "locked": true,
     "schema_version": 3,
     "solution": false,
     "task": false
    }
   },
   "outputs": [
    {
     "name": "stdout",
     "output_type": "stream",
     "text": [
      "Files in this directory with sizes:\n",
      "          0 Jun 19 21:01 README\n",
      "\n",
      "    2187734 Jun 19 20:55 cacm.all              text of documents\n",
      "        626 Jun 19 20:58 cite.info             key to citation info\n",
      "                                                (the X sections in cacm.all)\n",
      "       2668 Jun 19 20:55 common_words           stop words used by smart\n",
      "       2194 Jun 19 20:55 make_coll*             shell script to make collection\n",
      "       1557 Jun 19 20:55 make_coll_term*        ditto (both useless without\n",
      "                                                smart system)\n",
      "       9948 Jun 19 20:55 qrels.text             relation giving\n",
      "                                                    qid did 0 0\n",
      "                                                to indicate dument did is\n",
      "                                                relevant to query qid\n",
      "      13689 Jun 19 20:55 query.text             Original text of the query\n",
      "\n"
     ]
    }
   ],
   "source": [
    "##### Read the README file \n",
    "with open (\"./datasets/README\",\"r\") as file:\n",
    "    readme = file.read()\n",
    "    print(readme)\n",
    "#####"
   ]
  },
  {
   "cell_type": "markdown",
   "metadata": {
    "deletable": false,
    "editable": false,
    "nbgrader": {
     "cell_type": "markdown",
     "checksum": "6e2712c4c4632bf7486a532f7f18074d",
     "grade": false,
     "grade_id": "cell-73351431869fda76",
     "locked": true,
     "schema_version": 3,
     "solution": false,
     "task": false
    }
   },
   "source": [
    "---\n",
    "We are interested in 4 files:\n",
    "- `cacm.all` : Contains the text for all documents. Note that some documents do not have abstracts available\n",
    "- `query.text` : The text of all queries\n",
    "- `qrels.text` : The relevance judgements\n",
    "- `common_words` : A list of common words. This may be used as a collection of stopwords"
   ]
  },
  {
   "cell_type": "code",
   "execution_count": 5,
   "metadata": {
    "deletable": false,
    "editable": false,
    "nbgrader": {
     "cell_type": "code",
     "checksum": "f1162c15177eb4ffe466531d03cff4a2",
     "grade": false,
     "grade_id": "cell-b44dd14079f278ca",
     "locked": true,
     "schema_version": 3,
     "solution": false,
     "task": false
    }
   },
   "outputs": [
    {
     "name": "stdout",
     "output_type": "stream",
     "text": [
      ".I 1\n",
      ".T\n",
      "Preliminary Report-International Algebraic Language\n",
      ".B\n",
      "CACM December, 1958\n",
      ".A\n",
      "Perlis, A. J.\n",
      "Samelson,K.\n",
      ".N\n",
      "CA581203 JB March 22, 1978  8:28 PM\n",
      ".X\n",
      "100\t5\t1\n",
      "123\t5\t1\n",
      "164\t5\t1\n",
      "1\t5\t1\n",
      "1\t5\t1\n",
      "1\t5\t1\n",
      "205\t5\t1\n",
      "210\t5\t1\n",
      "214\t5\t1\n",
      "1982\t5\t1\n",
      "398\t5\t1\n",
      "642\t5\t1\n",
      "669\t5\t1\n",
      "1\t6\t1\n",
      "1\t6\t1\n",
      "1\t6\t1\n",
      "1\t6\t1\n",
      "1\t6\t1\n",
      "1\t6\t1\n",
      "1\t6\t1\n",
      "1\t6\t1\n",
      "1\t6\t1\n",
      "1\t6\t1\n",
      "165\t6\t1\n",
      "196\t6\t1\n",
      "196\t6\t1\n",
      "1273\t6\t1\n",
      "1883\t6\t1\n",
      "324\t6\t1\n",
      "43\t6\t1\n",
      "53\t6\t1\n",
      "91\t6\t1\n",
      "410\t6\t1\n",
      "3184\t6\t1\n",
      "\n"
     ]
    }
   ],
   "source": [
    "##### The first 45 lines of the CACM dataset forms the first record\n",
    "# We are interested only in 3 fields. \n",
    "# 1. the '.I' field, which is the document id\n",
    "# 2. the '.T' field (the title) and\n",
    "# 3. the '.W' field (the abstract, which may be absent)\n",
    "with open (\"./datasets/cacm.all\",\"r\") as file:\n",
    "    cacm_all = \"\".join(file.readlines()[:45])\n",
    "    print(cacm_all)\n",
    "#####"
   ]
  },
  {
   "cell_type": "markdown",
   "metadata": {
    "deletable": false,
    "editable": false,
    "nbgrader": {
     "cell_type": "markdown",
     "checksum": "250b413baccd8efb186bb46a34ae0060",
     "grade": false,
     "grade_id": "cell-c4bf2e263ec553d8",
     "locked": true,
     "schema_version": 3,
     "solution": false,
     "task": false
    }
   },
   "source": [
    "---\n",
    "\n",
    "The following function reads the `cacm.all` file. Note that each document has a variable number of lines. The `.I` field denotes a new document:"
   ]
  },
  {
   "cell_type": "code",
   "execution_count": 6,
   "metadata": {
    "deletable": false,
    "editable": false,
    "nbgrader": {
     "cell_type": "code",
     "checksum": "57d757e6a7a6938740dc899022b4f291",
     "grade": false,
     "grade_id": "cell-b736116eb419c624",
     "locked": true,
     "schema_version": 3,
     "solution": false,
     "task": false
    }
   },
   "outputs": [],
   "source": [
    "def read_cacm_docs(root_folder = \"./datasets/\"):\n",
    "    \"\"\"\n",
    "        Reads in the CACM documents. The dataset is assumed to be in the folder \"./datasets/\" by default\n",
    "        Returns: A list of 2-tuples: (doc_id, document), where 'document' is a single string created by \n",
    "            appending the title and abstract (separated by a \"\\n\"). \n",
    "            In case the record doesn't have an abstract, the document is composed only by the title\n",
    "    \"\"\"\n",
    "    with open(os.path.join(root_folder, \"cacm.all\")) as reader:\n",
    "        lines = reader.readlines()\n",
    "    \n",
    "    doc_id, title, abstract = None, None, None\n",
    "    \n",
    "    docs = []\n",
    "    line_idx = 0\n",
    "    while line_idx < len(lines):\n",
    "        line = lines[line_idx]\n",
    "        if line.startswith(\".I\"):\n",
    "            if doc_id is not None:\n",
    "                docs.append((doc_id, title, abstract))\n",
    "                doc_id, title, abstract = None, None, None\n",
    "            \n",
    "            doc_id = line.split()[-1]\n",
    "            line_idx += 1\n",
    "        elif line.startswith(\".T\"):\n",
    "            # start at next line\n",
    "            line_idx += 1\n",
    "            temp_lines = []\n",
    "            # read till next '.'\n",
    "            while not lines[line_idx].startswith(\".\"):\n",
    "                temp_lines.append(lines[line_idx].strip(\"\\n\"))\n",
    "                line_idx += 1\n",
    "            title = \"\\n\".join(temp_lines).strip(\"\\n\")\n",
    "        elif line.startswith(\".W\"):\n",
    "            # start at next line\n",
    "            line_idx += 1\n",
    "            temp_lines = []\n",
    "            # read till next '.'\n",
    "            while not lines[line_idx].startswith(\".\"):\n",
    "                temp_lines.append(lines[line_idx].strip(\"\\n\"))\n",
    "                line_idx += 1\n",
    "            abstract = \"\\n\".join(temp_lines).strip(\"\\n\")\n",
    "        else:\n",
    "            line_idx += 1\n",
    "    \n",
    "    docs.append((doc_id, title, abstract))\n",
    "    \n",
    "    p_docs = []\n",
    "    for (did, t, a) in docs:\n",
    "        if a is None:\n",
    "            a = \"\"\n",
    "        p_docs.append((did, t + \"\\n\" + a))\n",
    "    return p_docs\n"
   ]
  },
  {
   "cell_type": "code",
   "execution_count": 7,
   "metadata": {
    "deletable": false,
    "editable": false,
    "nbgrader": {
     "cell_type": "code",
     "checksum": "2f81930fcd89670b6e20e2255e1f2369",
     "grade": false,
     "grade_id": "cell-a1c43818e0d3fd79",
     "locked": true,
     "schema_version": 3,
     "solution": false,
     "task": false
    }
   },
   "outputs": [],
   "source": [
    "##### Function check\n",
    "docs = read_cacm_docs()\n",
    "\n",
    "assert isinstance(docs, list)\n",
    "assert len(docs) == 3204, \"There should be exactly 3204 documents\"\n",
    "\n",
    "unzipped_docs = list(zip(*docs))\n",
    "assert np.sum(np.array(list(map(int,unzipped_docs[0])))) == 5134410\n",
    "\n",
    "##### "
   ]
  },
  {
   "cell_type": "markdown",
   "metadata": {
    "deletable": false,
    "editable": false,
    "nbgrader": {
     "cell_type": "markdown",
     "checksum": "25fd3cfaf2137c56002b850699b3c9d3",
     "grade": false,
     "grade_id": "cell-5ed2ddc91f73c60e",
     "locked": true,
     "schema_version": 3,
     "solution": false,
     "task": false
    }
   },
   "source": [
    "---\n",
    "### 1.2 Read the CACM queries\n",
    "\n",
    "Next, let us read the queries. They are formatted similarly:"
   ]
  },
  {
   "cell_type": "code",
   "execution_count": 8,
   "metadata": {
    "deletable": false,
    "editable": false,
    "nbgrader": {
     "cell_type": "code",
     "checksum": "5d26c0908e758acb9968b84056b1060a",
     "grade": false,
     "grade_id": "cell-5c7e8e7c4fc2757f",
     "locked": true,
     "schema_version": 3,
     "solution": false,
     "task": false
    }
   },
   "outputs": [
    {
     "name": "stdout",
     "output_type": "stream",
     "text": [
      ".I 1\n",
      ".W\n",
      " What articles exist which deal with TSS (Time Sharing System), an\n",
      "operating system for IBM computers?\n",
      ".N\n",
      " 1. Richard Alexander, Comp Serv, Langmuir Lab (TSS)\n",
      " \n",
      ".I 2\n",
      ".W\n",
      " I am interested in articles written either by Prieve or Udo Pooch\n",
      ".A\n",
      "Prieve, B.\n",
      "Pooch, U.\n",
      ".N\n",
      " 2. Richard Alexander, Comp Serv, Langmuir Lab (author = Pooch or Prieve)\n"
     ]
    }
   ],
   "source": [
    "##### The first 15 lines of 'query.text' has 2 queries\n",
    "# We are interested only in 2 fields. \n",
    "# 1. the '.I' - the query id\n",
    "# 2. the '.W' - the query\n",
    "!head -15 ./datasets/query.text\n",
    "#####"
   ]
  },
  {
   "cell_type": "markdown",
   "metadata": {
    "deletable": false,
    "editable": false,
    "nbgrader": {
     "cell_type": "markdown",
     "checksum": "8f19f311a660f30e3f86cb0f7037d54a",
     "grade": false,
     "grade_id": "cell-88e293507d2dcef6",
     "locked": true,
     "schema_version": 3,
     "solution": false,
     "task": false
    }
   },
   "source": [
    "---\n",
    "\n",
    "The following function reads the `query.text` file:"
   ]
  },
  {
   "cell_type": "code",
   "execution_count": 9,
   "metadata": {
    "deletable": false,
    "editable": false,
    "nbgrader": {
     "cell_type": "code",
     "checksum": "e3fbb193211007672849487f5cff1664",
     "grade": false,
     "grade_id": "cell-433e3ad5d0e2572a",
     "locked": true,
     "schema_version": 3,
     "solution": false,
     "task": false
    }
   },
   "outputs": [],
   "source": [
    "def read_queries(root_folder = \"./datasets/\"):\n",
    "    \"\"\"\n",
    "        Reads in the CACM queries. The dataset is assumed to be in the folder \"./datasets/\" by default\n",
    "        Returns: A list of 2-tuples: (query_id, query)\n",
    "    \"\"\"\n",
    "    with open(os.path.join(root_folder, \"query.text\")) as reader:\n",
    "        lines = reader.readlines()\n",
    "    \n",
    "    query_id, query = None, None\n",
    "    \n",
    "    queries = []\n",
    "    line_idx = 0\n",
    "    while line_idx < len(lines):\n",
    "        line = lines[line_idx]\n",
    "        if line.startswith(\".I\"):\n",
    "            if query_id is not None:\n",
    "                queries.append((query_id, query))\n",
    "                query_id, query = None, None\n",
    "    \n",
    "            query_id = line.split()[-1]\n",
    "            line_idx += 1\n",
    "        elif line.startswith(\".W\"):\n",
    "            # start at next line\n",
    "            line_idx += 1\n",
    "            temp_lines = []\n",
    "            # read till next '.'\n",
    "            while not lines[line_idx].startswith(\".\"):\n",
    "                temp_lines.append(lines[line_idx].strip(\"\\n\"))\n",
    "                line_idx += 1\n",
    "            query = \"\\n\".join(temp_lines).strip(\"\\n\")\n",
    "        else:\n",
    "            line_idx += 1\n",
    "    \n",
    "    queries.append((query_id, query))\n",
    "    return queries\n"
   ]
  },
  {
   "cell_type": "code",
   "execution_count": 10,
   "metadata": {
    "deletable": false,
    "editable": false,
    "nbgrader": {
     "cell_type": "code",
     "checksum": "a897b9771b54f447be3418d7246fc4a0",
     "grade": false,
     "grade_id": "cell-6ec540abce66c598",
     "locked": true,
     "schema_version": 3,
     "solution": false,
     "task": false
    }
   },
   "outputs": [],
   "source": [
    "##### Function check\n",
    "queries = read_queries()\n",
    "\n",
    "assert isinstance(queries, list)\n",
    "assert len(queries) == 64 and all([q[1] is not None for q in queries]), \"There should be exactly 64 queries\"\n",
    "\n",
    "unzipped_queries = list(zip(*queries))\n",
    "assert np.sum(np.array(list(map(int,unzipped_queries[0])))) == 2080\n",
    "\n",
    "##### "
   ]
  },
  {
   "cell_type": "markdown",
   "metadata": {
    "deletable": false,
    "editable": false,
    "nbgrader": {
     "cell_type": "markdown",
     "checksum": "a300c41912ac63b239070b4c15c9f5c5",
     "grade": false,
     "grade_id": "cell-1c31569491d7b782",
     "locked": true,
     "schema_version": 3,
     "solution": false,
     "task": false
    }
   },
   "source": [
    "---\n",
    "### 1.3 Read the stop words\n",
    "\n",
    "We use the common words stored in `common_words`:"
   ]
  },
  {
   "cell_type": "code",
   "execution_count": 11,
   "metadata": {
    "deletable": false,
    "editable": false,
    "nbgrader": {
     "cell_type": "code",
     "checksum": "1ad6f5bae6a792504c1c8513ae5751ad",
     "grade": false,
     "grade_id": "cell-34bdb63461418a96",
     "locked": true,
     "schema_version": 3,
     "solution": false,
     "task": false
    }
   },
   "outputs": [
    {
     "name": "stdout",
     "output_type": "stream",
     "text": [
      "a\n",
      "about\n",
      "above\n",
      "accordingly\n",
      "across\n",
      "after\n",
      "afterwards\n",
      "again\n",
      "against\n",
      "all\n"
     ]
    }
   ],
   "source": [
    "##### Read the stop words file \n",
    "!head ./datasets/common_words\n",
    "##### Read the README file "
   ]
  },
  {
   "cell_type": "markdown",
   "metadata": {
    "deletable": false,
    "editable": false,
    "nbgrader": {
     "cell_type": "markdown",
     "checksum": "6d0fe612e770213b6397c2179b07a966",
     "grade": false,
     "grade_id": "cell-4744bde0338895d8",
     "locked": true,
     "schema_version": 3,
     "solution": false,
     "task": false
    }
   },
   "source": [
    "---\n",
    "\n",
    "The following function reads the `common_words` file (For better coverage, we try to keep them in lowercase):"
   ]
  },
  {
   "cell_type": "code",
   "execution_count": 12,
   "metadata": {
    "deletable": false,
    "editable": false,
    "nbgrader": {
     "cell_type": "code",
     "checksum": "9409713fd26eb0c33587e190638997c4",
     "grade": false,
     "grade_id": "cell-7357aa40f64e5bcb",
     "locked": true,
     "schema_version": 3,
     "solution": false,
     "task": false
    }
   },
   "outputs": [],
   "source": [
    "def load_stopwords(root_folder = \"./datasets/\"):\n",
    "    \"\"\"\n",
    "        Loads the stopwords. The dataset is assumed to be in the folder \"./datasets/\" by default\n",
    "        Output: A set of stopwords\n",
    "    \"\"\"\n",
    "    with open(os.path.join(root_folder, \"common_words\")) as reader:\n",
    "        lines = reader.readlines()\n",
    "    stopwords = set([l.strip().lower() for l in lines])\n",
    "    return stopwords\n"
   ]
  },
  {
   "cell_type": "code",
   "execution_count": 13,
   "metadata": {
    "deletable": false,
    "editable": false,
    "nbgrader": {
     "cell_type": "code",
     "checksum": "f1c8153c3c38133bc2db6e7b076ad470",
     "grade": false,
     "grade_id": "cell-2ca3ac162004de97",
     "locked": true,
     "schema_version": 3,
     "solution": false,
     "task": false
    }
   },
   "outputs": [],
   "source": [
    "##### Function check\n",
    "stopwords = load_stopwords()\n",
    "\n",
    "assert isinstance(stopwords, set)\n",
    "assert len(stopwords) == 428, \"There should be exactly 428 stop words\"\n",
    "\n",
    "assert np.sum(np.array(list(map(len,stopwords)))) == 2234\n",
    "\n",
    "##### \n"
   ]
  },
  {
   "cell_type": "markdown",
   "metadata": {
    "deletable": false,
    "editable": false,
    "nbgrader": {
     "cell_type": "markdown",
     "checksum": "92c1191e9e7291dcf0d70dc67b907a65",
     "grade": false,
     "grade_id": "cell-134b72872f4300cb",
     "locked": true,
     "schema_version": 3,
     "solution": false,
     "task": false
    }
   },
   "source": [
    "---\n",
    "### 1.4 Tokenization (3 points)\n",
    "\n",
    "We can now write some basic text processing functions. \n",
    "A first step is to tokenize the text. \n",
    "\n",
    "**Note**: Use the  `WordPunctTokenizer` available in the `nltk` library:"
   ]
  },
  {
   "cell_type": "code",
   "execution_count": 14,
   "metadata": {
    "deletable": false,
    "nbgrader": {
     "cell_type": "code",
     "checksum": "3f5564d3c75bf22fbf832b3a9b938f37",
     "grade": false,
     "grade_id": "cell-322be4c9499bdc4b",
     "locked": false,
     "schema_version": 3,
     "solution": true,
     "task": false
    }
   },
   "outputs": [],
   "source": [
    "# TODO: Implement this! (4 points)\n",
    "def tokenize(text):\n",
    "    \"\"\"\n",
    "        Tokenizes the input text. Use the WordPunctTokenizer\n",
    "        Input: text - a string\n",
    "        Output: a list of tokens\n",
    "    \"\"\"\n",
    "    # YOUR CODE HERE\n",
    "    \n",
    "    tokenizer = nltk.tokenize.WordPunctTokenizer()\n",
    "    tokens = tokenizer.tokenize(text)\n",
    "    \n",
    "    return tokens"
   ]
  },
  {
   "cell_type": "code",
   "execution_count": 15,
   "metadata": {
    "deletable": false,
    "editable": false,
    "nbgrader": {
     "cell_type": "code",
     "checksum": "e15af22c4d8ae0a3f9dac43bef7097ec",
     "grade": true,
     "grade_id": "cell-7fbf48bf7541a622",
     "locked": true,
     "points": 3,
     "schema_version": 3,
     "solution": false,
     "task": false
    }
   },
   "outputs": [
    {
     "name": "stdout",
     "output_type": "stream",
     "text": [
      "['the', 'quick', 'brown', 'fox', 'jumps', 'over', 'the', 'lazy', 'dog']\n"
     ]
    }
   ],
   "source": [
    "##### Function check\n",
    "text = \"the quick brown fox jumps over the lazy dog\"\n",
    "tokens = tokenize(text)\n",
    "\n",
    "assert isinstance(tokens, list)\n",
    "assert len(tokens) == 9\n",
    "\n",
    "print(tokens)\n",
    "# output: ['the', 'quick', 'brown', 'fox', 'jumps', 'over', 'the', 'lazy', 'dog']\n",
    "#####"
   ]
  },
  {
   "cell_type": "markdown",
   "metadata": {
    "deletable": false,
    "editable": false,
    "nbgrader": {
     "cell_type": "markdown",
     "checksum": "34210618bff4cb47aad2f03cb4b9854c",
     "grade": false,
     "grade_id": "cell-fd1b98ae61b697ca",
     "locked": true,
     "schema_version": 3,
     "solution": false,
     "task": false
    }
   },
   "source": [
    "---\n",
    "### 1.5 Stemming (2 points)\n",
    "\n",
    "Write a function to stem tokens. \n",
    "Again, you can use the nltk library for this:"
   ]
  },
  {
   "cell_type": "code",
   "execution_count": 16,
   "metadata": {
    "deletable": false,
    "nbgrader": {
     "cell_type": "code",
     "checksum": "1c4a6aa979d66158c7b6b992af43293a",
     "grade": false,
     "grade_id": "cell-e3f6c8e3f874b28d",
     "locked": false,
     "schema_version": 3,
     "solution": true,
     "task": false
    }
   },
   "outputs": [],
   "source": [
    "# TODO: Implement this! (3 points)\n",
    "def stem_token(token):\n",
    "    \"\"\"\n",
    "        Stems the given token using the PorterStemmer from the nltk library\n",
    "        Input: a single token\n",
    "        Output: the stem of the token\n",
    "    \"\"\"\n",
    "    # YOUR CODE HERE\n",
    "    stemmer = nltk.stem.porter.PorterStemmer()\n",
    "    stemmed_token = stemmer.stem(token)\n",
    "    \n",
    "    return stemmed_token"
   ]
  },
  {
   "cell_type": "code",
   "execution_count": 17,
   "metadata": {
    "deletable": false,
    "editable": false,
    "nbgrader": {
     "cell_type": "code",
     "checksum": "9363b4f09b556d424d9c895d4ab57b1c",
     "grade": true,
     "grade_id": "cell-cd6863e6ee6ed205",
     "locked": true,
     "points": 2,
     "schema_version": 3,
     "solution": false,
     "task": false
    }
   },
   "outputs": [],
   "source": [
    "##### Function check\n",
    "\n",
    "assert stem_token('owned') == 'own'\n",
    "assert stem_token('itemization') == 'item'\n",
    "#####"
   ]
  },
  {
   "cell_type": "markdown",
   "metadata": {
    "deletable": false,
    "editable": false,
    "nbgrader": {
     "cell_type": "markdown",
     "checksum": "0b311d014146da6afa1d39542fab9869",
     "grade": false,
     "grade_id": "cell-47c9f90498699110",
     "locked": true,
     "schema_version": 3,
     "solution": false,
     "task": false
    }
   },
   "source": [
    "---\n",
    "### 1.6 Summary\n",
    "\n",
    "The following function puts it all together. Given an input string, this functions tokenizes and processes it according to the flags that you set."
   ]
  },
  {
   "cell_type": "code",
   "execution_count": 18,
   "metadata": {
    "deletable": false,
    "editable": false,
    "nbgrader": {
     "cell_type": "code",
     "checksum": "2ff2d215ee8e0039c5a91fd3de12e6bd",
     "grade": false,
     "grade_id": "cell-dd0d3f46b30801da",
     "locked": true,
     "schema_version": 3,
     "solution": false,
     "task": false
    }
   },
   "outputs": [],
   "source": [
    "#### Putting it all together\n",
    "def process_text(text, stem=False, remove_stopwords=False, lowercase_text=False):\n",
    "    \n",
    "    tokens = []\n",
    "    for token in tokenize(text):\n",
    "        if remove_stopwords and token.lower() in stopwords:\n",
    "            continue\n",
    "        if stem:\n",
    "            token = stem_token(token)\n",
    "        if lowercase_text:\n",
    "            token = token.lower()\n",
    "        tokens.append(token)\n",
    "\n",
    "    return tokens\n",
    "#### "
   ]
  },
  {
   "cell_type": "markdown",
   "metadata": {
    "deletable": false,
    "editable": false,
    "nbgrader": {
     "cell_type": "markdown",
     "checksum": "02d433b18eb43654fa4306a7bf55b190",
     "grade": false,
     "grade_id": "cell-8d885bfd2edd43ae",
     "locked": true,
     "schema_version": 3,
     "solution": false,
     "task": false
    }
   },
   "source": [
    "---\n",
    "\n",
    "Let's create two sets of preprocessed documents.\n",
    "We can process the documents and queries according to these two configurations:"
   ]
  },
  {
   "cell_type": "code",
   "execution_count": 19,
   "metadata": {
    "deletable": false,
    "editable": false,
    "nbgrader": {
     "cell_type": "code",
     "checksum": "dbe4ca667be6842fdcf512fbcad50c7f",
     "grade": false,
     "grade_id": "cell-d427365ee0fb21d8",
     "locked": true,
     "schema_version": 3,
     "solution": false,
     "task": false
    }
   },
   "outputs": [],
   "source": [
    "# In this configuration:\n",
    "# Don't preprocess the text, except to tokenize \n",
    "config_1 = {\n",
    "  \"stem\": False,\n",
    "  \"remove_stopwords\" : False,\n",
    "  \"lowercase_text\": True\n",
    "} \n",
    "\n",
    "\n",
    "# In this configuration:\n",
    "# Preprocess the text, stem and remove stopwords\n",
    "config_2 = {\n",
    "  \"stem\": True,\n",
    "  \"remove_stopwords\" : True,\n",
    "  \"lowercase_text\": True, \n",
    "} \n",
    "\n",
    "####\n",
    "doc_repr_1 = []\n",
    "doc_repr_2 = []\n",
    "for (doc_id, document) in docs:\n",
    "    doc_repr_1.append((doc_id, process_text(document, **config_1)))\n",
    "    doc_repr_2.append((doc_id, process_text(document, **config_2)))\n",
    "\n",
    "####"
   ]
  },
  {
   "cell_type": "markdown",
   "metadata": {
    "deletable": false,
    "editable": false,
    "nbgrader": {
     "cell_type": "markdown",
     "checksum": "b60589aac19e80941d860d9b3f1e9a16",
     "grade": false,
     "grade_id": "cell-b1c102db61ae7495",
     "locked": true,
     "schema_version": 3,
     "solution": false,
     "task": false
    }
   },
   "source": [
    "--- \n",
    "\n",
    "## Section 2: Indexing (10 points)<a class=\"anchor\" id=\"indexing\"></a>\n",
    "\n",
    "[Back to Part 1](#part1)\n",
    "\n",
    "\n",
    "\n",
    "A retrieval function usually takes in a query document pair, and scores a query against a document.  Our document set is quite small - just a few thousand documents. However, consider a web-scale dataset with a few million documents. In such a scenario, it would become infeasible to score every query and document pair. In such a case, we can build an inverted index. From Wikipedia:\n",
    "\n",
    "> ... , an inverted index (also referred to as a postings file or inverted file) is a database index storing a mapping from content, such as words or numbers, to its locations in a table, .... The purpose of an inverted index is to allow fast full-text searches, at a cost of increased processing when a document is added to the database. ...\n",
    "\n",
    "\n",
    "Consider a simple inverted index, which maps from word to document. This can improve the performance of a retrieval system significantly. In this assignment, we consider a *simple* inverted index, which maps a word to a set of documents. In practice, however, more complex indices might be used.  \n"
   ]
  },
  {
   "cell_type": "markdown",
   "metadata": {
    "deletable": false,
    "editable": false,
    "nbgrader": {
     "cell_type": "markdown",
     "checksum": "710fd943f45523ac36fcb887cc0d4d39",
     "grade": false,
     "grade_id": "cell-fa373192c1b7bb95",
     "locked": true,
     "schema_version": 3,
     "solution": false,
     "task": false
    }
   },
   "source": [
    "### 2.1 Term Frequency-index (10 points)\n",
    "In this assignment, we will be using an index created in memory since our dataset is tiny. To get started, build a simple index that maps each `token` to a list of `(doc_id, count)` where `count` is the count of the `token` in `doc_id`.\n",
    "For consistency, build this index using a python dictionary.\n",
    "    \n",
    "Now, implement a function to build an index:"
   ]
  },
  {
   "cell_type": "code",
   "execution_count": 20,
   "metadata": {
    "deletable": false,
    "nbgrader": {
     "cell_type": "code",
     "checksum": "d4e8c6b658c469379d5fe511de05b536",
     "grade": false,
     "grade_id": "cell-077599b87e953209",
     "locked": false,
     "schema_version": 3,
     "solution": true,
     "task": false
    }
   },
   "outputs": [],
   "source": [
    "# TODO: Implement this! (10 points)\n",
    "def build_tf_index(documents):\n",
    "    \"\"\"\n",
    "        Build an inverted index (with counts). The output is a dictionary which takes in a token\n",
    "        and returns a list of (doc_id, count) where 'count' is the count of the 'token' in 'doc_id'\n",
    "        Input: a list of documents - (doc_id, tokens) \n",
    "        Output: An inverted index implemented within a pyhton dictionary: [token] -> [(doc_id, token_count)]\n",
    "    \"\"\"\n",
    "    # YOUR CODE HERE\n",
    "    \n",
    "    # basic imports\n",
    "    from collections import defaultdict\n",
    "    \n",
    "    # initialize the index\n",
    "    index = defaultdict(list)\n",
    "    \n",
    "    # loop over documents\n",
    "    for doc_id, doc_tokens in documents:\n",
    "\n",
    "        # get counts of each token in the document\n",
    "        tokens, counts = np.unique(doc_tokens, return_counts=True)\n",
    "        \n",
    "        # update the index\n",
    "        for token, count in zip(tokens, counts):\n",
    "            index[token].append((doc_id, count))\n",
    "    \n",
    "    return index"
   ]
  },
  {
   "cell_type": "markdown",
   "metadata": {
    "deletable": false,
    "editable": false,
    "nbgrader": {
     "cell_type": "markdown",
     "checksum": "15e7041b4323d2a290322de538ff7670",
     "grade": false,
     "grade_id": "cell-093aebfa504f96f2",
     "locked": true,
     "schema_version": 3,
     "solution": false,
     "task": false
    }
   },
   "source": [
    "---\n",
    "Now we can build indexed documents and preprocess the queries based on the two configurations:"
   ]
  },
  {
   "cell_type": "code",
   "execution_count": 21,
   "metadata": {
    "deletable": false,
    "editable": false,
    "nbgrader": {
     "cell_type": "code",
     "checksum": "e27540c1d8d77a3779a05f557f3f40c6",
     "grade": false,
     "grade_id": "cell-b2ff1676348b90a8",
     "locked": true,
     "schema_version": 3,
     "solution": false,
     "task": false
    }
   },
   "outputs": [],
   "source": [
    "#### Indexed documents based on the two configs\n",
    "\n",
    "# Create the 2 indices\n",
    "tf_index_1 = build_tf_index(doc_repr_1)\n",
    "tf_index_2 = build_tf_index(doc_repr_2)\n",
    "\n",
    "# This function returns the tf_index of the corresponding config\n",
    "def get_index(index_set):\n",
    "    assert index_set in {1, 2}\n",
    "    return {\n",
    "        1: tf_index_1,\n",
    "        2: tf_index_2\n",
    "    }[index_set]\n",
    "\n",
    "####\n",
    "#### Preprocessed query based on the two configs\n",
    "\n",
    "# This function preprocesses the text given the index set, according to the specified config\n",
    "def preprocess_query(text, index_set):\n",
    "    assert index_set in {1, 2}\n",
    "    if index_set == 1:\n",
    "        return process_text(text, **config_1)\n",
    "    elif index_set == 2:\n",
    "        return process_text(text, **config_2)\n",
    "\n",
    "#### "
   ]
  },
  {
   "cell_type": "code",
   "execution_count": 22,
   "metadata": {
    "deletable": false,
    "editable": false,
    "nbgrader": {
     "cell_type": "code",
     "checksum": "f0cbc8703e1248cd6edf03f9019b69db",
     "grade": true,
     "grade_id": "cell-fc7c7232d5d2ee46",
     "locked": true,
     "points": 5,
     "schema_version": 3,
     "solution": false,
     "task": false
    }
   },
   "outputs": [
    {
     "name": "stdout",
     "output_type": "stream",
     "text": [
      "sample tf index for computer: [('4', 1), ('7', 1), ('10', 1), ('13', 1), ('19', 1), ('22', 1), ('23', 1), ('37', 1), ('40', 3), ('41', 1)]\n",
      "sample tf index for examples: [('111', 1), ('320', 1), ('644', 1), ('691', 1), ('727', 1), ('848', 1), ('892', 1), ('893', 1), ('1049', 1), ('1051', 1)]\n"
     ]
    }
   ],
   "source": [
    "##### Function check\n",
    "\n",
    "assert isinstance(tf_index_1, dict)\n",
    "\n",
    "assert isinstance(tf_index_1['computer'], list)\n",
    "print('sample tf index for computer:', tf_index_1['computer'][:10])\n",
    "\n",
    "assert isinstance(tf_index_1['examples'], list)\n",
    "print('sample tf index for examples:', tf_index_1['examples'][:10])\n",
    "#### "
   ]
  },
  {
   "cell_type": "code",
   "execution_count": 23,
   "metadata": {
    "deletable": false,
    "editable": false,
    "nbgrader": {
     "cell_type": "code",
     "checksum": "d49b8ac36815d9a5cb4bed838ab53a50",
     "grade": true,
     "grade_id": "cell-ff06bd11204db250",
     "locked": true,
     "points": 5,
     "schema_version": 3,
     "solution": false,
     "task": false
    }
   },
   "outputs": [
    {
     "name": "stdout",
     "output_type": "stream",
     "text": [
      "sample tf index for computer: [('4', 1), ('7', 1), ('10', 1), ('13', 1), ('19', 1), ('22', 1), ('23', 1), ('37', 1), ('40', 3), ('41', 1)]\n",
      "sample tf index for examples: []\n"
     ]
    }
   ],
   "source": [
    "##### Function check\n",
    "\n",
    "assert isinstance(tf_index_2, dict)\n",
    "\n",
    "assert isinstance(tf_index_2['computer'], list)\n",
    "print('sample tf index for computer:', tf_index_1['computer'][:10])\n",
    "\n",
    "assert isinstance(tf_index_2['examples'], list)\n",
    "print('sample tf index for examples:', tf_index_2['examples'][:10])\n",
    "#### "
   ]
  },
  {
   "cell_type": "markdown",
   "metadata": {
    "deletable": false,
    "editable": false,
    "nbgrader": {
     "cell_type": "markdown",
     "checksum": "880b2ef3ca405f2af6e0667d2dc7a600",
     "grade": false,
     "grade_id": "cell-89eba71f04310291",
     "locked": true,
     "schema_version": 3,
     "solution": false,
     "task": false
    }
   },
   "source": [
    "\n",
    "---\n",
    "## Section 3: Ranking  (80 points) <a class=\"anchor\" id=\"ranking\"></a>\n",
    "\n",
    "[Back to Part 1](#part1)\n",
    "\n",
    "Now that we have cleaned and processed our dataset, we can start building simple IR systems. \n",
    "\n",
    "For now, we consider *simple* IR systems, which involve computing scores from the tokens present in the document/query. More advanced methods are covered in later assignments.\n",
    "\n",
    "We will implement the following methods in this section:\n",
    "- [Section 3.1: Bag of Words](#bow) (10 points)\n",
    "- [Section 3.2: TF-IDF](#tfidf) (15 points)\n",
    "- [Section 3.3: Query Likelihood Model](#qlm) (35 points)\n",
    "- [Section 3.4: BM25](#bm25) (20 points)\n",
    "\n",
    "*All search functions should be able to handle multiple words queries.*\n",
    "\n",
    "**Scoring policy:**\n",
    "Your implementations in this section are scored based on the expected performance of your ranking functions.\n",
    "You will get a full mark if your implementation meets the expected performance (measured by some evaluation metric).\n",
    "Otherwise, you may get partial credit.\n",
    "For example, if your *Bag of words* ranking function has 60% of expected performance, you will get 6 out of 10."
   ]
  },
  {
   "cell_type": "markdown",
   "metadata": {
    "deletable": false,
    "editable": false,
    "nbgrader": {
     "cell_type": "markdown",
     "checksum": "6c74e5061917358300c6e8085ec07864",
     "grade": false,
     "grade_id": "cell-3daf70a60e393adf",
     "locked": true,
     "schema_version": 3,
     "solution": false,
     "task": false
    }
   },
   "source": [
    "--- \n",
    "\n",
    "### Section 3.1: Bag of Words (10 points)<a class=\"anchor\" id=\"bow\"></a>\n",
    "\n",
    "Probably the simplest IR model is the Bag of Words (BOW) model.\n",
    "Implement a function that scores and ranks all the documents against a query using this model.   \n",
    "\n",
    "- For consistency, you should use the count of the token and **not** the binary indicator.\n",
    "- Use `float` type for the scores (even though the scores are integers in this case).\n",
    "- No normalization of the scores is necessary, as the ordering is what we are interested in.\n",
    "- If two documents have the same score, they can have any ordering: you are not required to disambiguate.\n"
   ]
  },
  {
   "cell_type": "code",
   "execution_count": 24,
   "metadata": {
    "deletable": false,
    "nbgrader": {
     "cell_type": "code",
     "checksum": "fee4640e22bfc4f05eb958a675ef40e7",
     "grade": false,
     "grade_id": "cell-de9cf0459c4b9324",
     "locked": false,
     "schema_version": 3,
     "solution": true,
     "task": false
    }
   },
   "outputs": [],
   "source": [
    "# TODO: Implement this! (10 points)\n",
    "def bow_search(query, index_set):\n",
    "    \"\"\"\n",
    "        Perform a search over all documents with the given query. \n",
    "        Note: You have to use the `get_index` function created in the previous cells\n",
    "        Input: \n",
    "            query - a (unprocessed) query\n",
    "            index_set - the index to use\n",
    "        Output: a list of (document_id, score), sorted in descending relevance to the given query. \n",
    "    \"\"\"\n",
    "    index = get_index(index_set)\n",
    "    processed_query = preprocess_query(query, index_set)\n",
    "    \n",
    "    # YOUR CODE HERE\n",
    "    \n",
    "    from collections import Counter, OrderedDict\n",
    "\n",
    "    document_score = Counter()\n",
    "    for t in processed_query:\n",
    "        if t in index:\n",
    "            document_score.update(dict(index[t]))          \n",
    "        \n",
    "    # convert scores to floats\n",
    "    document_score = {k: float(v) for k, v in document_score.items()}\n",
    "    \n",
    "    # return the sorted dict\n",
    "    return sorted(document_score.items(), key=lambda x: x[1], reverse=True)"
   ]
  },
  {
   "cell_type": "code",
   "execution_count": 25,
   "metadata": {
    "deletable": false,
    "editable": false,
    "nbgrader": {
     "cell_type": "code",
     "checksum": "613524fbbf02b1d122c6611a71fbf11b",
     "grade": true,
     "grade_id": "cell-9f6aceae6dd9125f",
     "locked": true,
     "points": 2,
     "schema_version": 3,
     "solution": false,
     "task": false
    }
   },
   "outputs": [],
   "source": [
    "#### Function check\n",
    "\n",
    "test_bow = bow_search(\"how to implement bag of words search\", index_set=1)[:5]\n",
    "assert isinstance(test_bow, list)\n",
    "assert len(test_bow[0]) == 2\n",
    "assert isinstance(test_bow[0][0], str)\n",
    "assert isinstance(test_bow[0][1], float)\n",
    "\n",
    "#### "
   ]
  },
  {
   "cell_type": "code",
   "execution_count": 26,
   "metadata": {
    "deletable": false,
    "editable": false,
    "nbgrader": {
     "cell_type": "code",
     "checksum": "9af20897659edb62fe77598483590500",
     "grade": true,
     "grade_id": "cell-4eed3abf233d9b58",
     "locked": true,
     "points": 2,
     "schema_version": 3,
     "solution": false,
     "task": false
    }
   },
   "outputs": [
    {
     "name": "stdout",
     "output_type": "stream",
     "text": [
      "BOW Results:\n",
      "Rank 0(1.3e+01): On Computing The Fast Fourier Transform\\nCooley an...\n",
      "Rank 1(1.2e+01): Variable Length Tree Structures Having Minimum Ave...\n",
      "Rank 2(1.1e+01): A Modular Computer Sharing System\\nAn alternative ...\n",
      "Rank 3(1e+01): PEEKABIT, Computer Offspring of Punched\\nCard PEEK...\n",
      "Rank 4(9.0): Computer Simulation-Discussion of the\\nTechnique a...\n"
     ]
    }
   ],
   "source": [
    "\n",
    "docs_by_id = dict(docs)\n",
    "def print_results(docs, len_limit=50):    \n",
    "    for i, (doc_id, score) in enumerate(docs):\n",
    "        doc_content = docs_by_id[doc_id].strip().replace(\"\\n\", \"\\\\n\")[:len_limit] + \"...\"\n",
    "        print(f\"Rank {i}({score:.2}): {doc_content}\")\n",
    "\n",
    "test_bow_2 = bow_search(\"computer search word\", index_set=2)[:5]\n",
    "print(f\"BOW Results:\")\n",
    "print_results(test_bow_2)\n"
   ]
  },
  {
   "cell_type": "code",
   "execution_count": 27,
   "metadata": {
    "deletable": false,
    "editable": false,
    "nbgrader": {
     "cell_type": "code",
     "checksum": "3c9c8b16c8e7d1032f101e9da8a6e845",
     "grade": true,
     "grade_id": "cell-4d65a2d7090c466c",
     "locked": true,
     "points": 3,
     "schema_version": 3,
     "solution": false,
     "task": false
    }
   },
   "outputs": [
    {
     "name": "stdout",
     "output_type": "stream",
     "text": [
      "BOW Results:\n",
      "Rank 0(9.0): CURRICULUM 68 -- Recommendations for Academic\\nPro...\n",
      "Rank 1(9.0): Variable Length Tree Structures Having Minimum Ave...\n",
      "Rank 2(7.0): Computer Formulation of the Equations of Motion Us...\n",
      "Rank 3(7.0): The Effects of Multiplexing on a Computer-Communic...\n",
      "Rank 4(6.0): Optimizing Bit-time Computer Simulation\\nA major c...\n"
     ]
    }
   ],
   "source": [
    "\n",
    "test_bow_1 = bow_search(\"computer search word\", index_set=1)[:5]\n",
    "print(f\"BOW Results:\")\n",
    "print_results(test_bow_1)\n"
   ]
  },
  {
   "cell_type": "code",
   "execution_count": 28,
   "metadata": {
    "deletable": false,
    "editable": false,
    "nbgrader": {
     "cell_type": "code",
     "checksum": "b7e593847aa4202ae45ec061fb18ad73",
     "grade": true,
     "grade_id": "cell-dedf36ab5853ce20",
     "locked": true,
     "points": 3,
     "schema_version": 3,
     "solution": false,
     "task": false
    }
   },
   "outputs": [
    {
     "name": "stdout",
     "output_type": "stream",
     "text": [
      "top-5 docs for index1: ('1771', '1936', '1543', '2535', '678')\n",
      "top-5 docs for index2: ('1525', '1936', '1844', '1700', '1366')\n"
     ]
    }
   ],
   "source": [
    "print('top-5 docs for index1:', list(zip(*test_bow_1[:5]))[0])\n",
    "print('top-5 docs for index2:', list(zip(*test_bow_2[:5]))[0])\n"
   ]
  },
  {
   "cell_type": "markdown",
   "metadata": {
    "deletable": false,
    "editable": false,
    "nbgrader": {
     "cell_type": "markdown",
     "checksum": "b04352ee0716dfdf094b8cdb6f32e984",
     "grade": false,
     "grade_id": "cell-a5c09c79ac1f2871",
     "locked": true,
     "schema_version": 3,
     "solution": false,
     "task": false
    }
   },
   "source": [
    "\n",
    "---\n",
    "\n",
    "### Section 3.2: TF-IDF (15 points) <a class=\"anchor\" id=\"tfidf\"></a>\n",
    "\n",
    "Before we implement the tf-idf scoring functions, let's first write a function to compute the document frequencies of all words.  \n",
    "\n",
    "#### 3.2.1 Document frequency (5 points)\n",
    "Compute the document frequencies of all tokens in the collection. \n",
    "Your code should return a dictionary with tokens as its keys and the number of documents containing the token as values.\n",
    "For consistency, the values should have `int` type."
   ]
  },
  {
   "cell_type": "code",
   "execution_count": 29,
   "metadata": {
    "deletable": false,
    "nbgrader": {
     "cell_type": "code",
     "checksum": "5c53263cf4c0b0ffcaae08b91fc364cc",
     "grade": false,
     "grade_id": "cell-9a2369f32e864b8a",
     "locked": false,
     "schema_version": 3,
     "solution": true,
     "task": false
    }
   },
   "outputs": [],
   "source": [
    "# TODO: Implement this! (5 points)\n",
    "def compute_df(documents):\n",
    "    \"\"\"\n",
    "        Compute the document frequency of all terms in the vocabulary\n",
    "        Input: A list of documents\n",
    "        Output: A dictionary with {token: document frequency (int)}\n",
    "    \"\"\"\n",
    "    # YOUR CODE HERE\n",
    "    \n",
    "    from collections import Counter\n",
    "    \n",
    "    df = Counter()\n",
    "    for d in documents:\n",
    "        df.update(np.unique(d))\n",
    "    \n",
    "    return df"
   ]
  },
  {
   "cell_type": "code",
   "execution_count": 30,
   "metadata": {
    "deletable": false,
    "editable": false,
    "nbgrader": {
     "cell_type": "code",
     "checksum": "154985511d7925c5793a1f97dea81880",
     "grade": false,
     "grade_id": "cell-4c3bddd0b73ac90e",
     "locked": true,
     "schema_version": 3,
     "solution": false,
     "task": false
    }
   },
   "outputs": [],
   "source": [
    "#### Compute df based on the two configs\n",
    "\n",
    "# get the document frequencies of each document\n",
    "df_1 = compute_df([d[1] for d in doc_repr_1])\n",
    "df_2 = compute_df([d[1] for d in doc_repr_2])\n",
    "\n",
    "def get_df(index_set):\n",
    "    assert index_set in {1, 2}\n",
    "    return {\n",
    "        1: df_1,\n",
    "        2: df_2\n",
    "    }[index_set]\n",
    "####"
   ]
  },
  {
   "cell_type": "code",
   "execution_count": 31,
   "metadata": {
    "deletable": false,
    "editable": false,
    "nbgrader": {
     "cell_type": "code",
     "checksum": "110cc180068cf3f77c682ee3de2a117c",
     "grade": true,
     "grade_id": "cell-79e8a6db1e5fc46f",
     "locked": true,
     "points": 5,
     "schema_version": 3,
     "solution": false,
     "task": false
    }
   },
   "outputs": [
    {
     "name": "stdout",
     "output_type": "stream",
     "text": [
      "597\n",
      "11\n"
     ]
    }
   ],
   "source": [
    "#### Function check\n",
    "\n",
    "print(df_1['computer'])\n",
    "print(df_2['computer'])\n",
    "####"
   ]
  },
  {
   "cell_type": "markdown",
   "metadata": {
    "deletable": false,
    "editable": false,
    "nbgrader": {
     "cell_type": "markdown",
     "checksum": "d0d577668fa51b80aeab6e67209ae73b",
     "grade": false,
     "grade_id": "cell-52f6acc487e1b96d",
     "locked": true,
     "schema_version": 3,
     "solution": false,
     "task": false
    }
   },
   "source": [
    "---\n",
    "#### 3.2.2 TF-IDF search (10 points)\n",
    "Next, implement a function that computes a tf-idf score, given a query.\n",
    "Use the following formulas for TF and IDF:\n",
    "\n",
    "$$ TF=\\log (1 + f_{d,t}) $$\n",
    "\n",
    "$$ IDF=\\log (\\frac{N}{n_t})$$\n",
    "\n",
    "where $f_{d,t}$ is the frequency of token $t$ in document $d$, $N$ is the number of total documents and $n_t$ is the number of documents containing token $t$.\n",
    "\n",
    "**Note:** your implementation will be auto-graded assuming you have used the above formulas.\n"
   ]
  },
  {
   "cell_type": "code",
   "execution_count": 32,
   "metadata": {
    "deletable": false,
    "nbgrader": {
     "cell_type": "code",
     "checksum": "3534c44b4a3419ca1db98eebe7115dc1",
     "grade": false,
     "grade_id": "cell-2fb5ba34b2994cd9",
     "locked": false,
     "schema_version": 3,
     "solution": true,
     "task": false
    }
   },
   "outputs": [],
   "source": [
    "# TODO: Implement this! (10 points)\n",
    "def tfidf_search(query, index_set):\n",
    "    \"\"\"\n",
    "        Perform a search over all documents with the given query using tf-idf. \n",
    "        Note #1: You have to use the `get_index` (and the `get_df`) function created in the previous cells\n",
    "        Input: \n",
    "            query - a (unprocessed) query\n",
    "            index_set - the index to use\n",
    "        Output: a list of (document_id, score), sorted in descending relevance to the given query \n",
    "    \"\"\"\n",
    "    index = get_index(index_set)\n",
    "    df = get_df(index_set)\n",
    "    processed_query = preprocess_query(query, index_set)\n",
    "    \n",
    "    N = len(docs)\n",
    "    \n",
    "    # YOUR CODE HERE\n",
    "    from collections import defaultdict\n",
    "    \n",
    "    epsilon = np.finfo(np.float32).eps\n",
    "    \n",
    "    document_score = defaultdict(int)\n",
    "    for t in processed_query:\n",
    "        if t in index:\n",
    "            for doc_id, count in index[t]:\n",
    "                idf = np.log((N / (df[t] + epsilon)))\n",
    "                tf = np.log(1 + count)\n",
    "                document_score[doc_id] += tf * idf\n",
    "\n",
    "    return sorted(document_score.items(), key=lambda x: x[1], reverse=True)"
   ]
  },
  {
   "cell_type": "code",
   "execution_count": 33,
   "metadata": {
    "deletable": false,
    "editable": false,
    "nbgrader": {
     "cell_type": "code",
     "checksum": "7b66a514663d898694b09a23a597312b",
     "grade": true,
     "grade_id": "cell-bc68aeeacf42beb3",
     "locked": true,
     "points": 2,
     "schema_version": 3,
     "solution": false,
     "task": false
    }
   },
   "outputs": [],
   "source": [
    "\n",
    "#### Function check\n",
    "test_tfidf = tfidf_search(\"how to implement tf idf search\", index_set=1)[:5]\n",
    "assert isinstance(test_tfidf, list)\n",
    "assert len(test_tfidf[0]) == 2\n",
    "assert isinstance(test_tfidf[0][0], str)\n",
    "assert isinstance(test_tfidf[0][1], float)\n",
    "\n",
    "####"
   ]
  },
  {
   "cell_type": "code",
   "execution_count": 34,
   "metadata": {
    "deletable": false,
    "editable": false,
    "nbgrader": {
     "cell_type": "code",
     "checksum": "98fb1326cf4bf7983ae237ca8a9105f9",
     "grade": true,
     "grade_id": "cell-c7702fa8179fadb9",
     "locked": true,
     "points": 2,
     "schema_version": 3,
     "solution": false,
     "task": false
    }
   },
   "outputs": [
    {
     "name": "stdout",
     "output_type": "stream",
     "text": [
      "TFIDF Results:\n",
      "Rank 0(1.3e+01): PEEKABIT, Computer Offspring of Punched\\nCard PEEK...\n",
      "Rank 1(9.8): Variable Length Tree Structures Having Minimum Ave...\n",
      "Rank 2(8.2): A Stochastic Approach to the Grammatical Coding of...\n",
      "Rank 3(8.1): Full Table Quadratic Searching for Scatter Storage...\n",
      "Rank 4(7.6): Use of Tree Structures for Processing Files\\nIn da...\n"
     ]
    }
   ],
   "source": [
    "\n",
    "test_tfidf_2 = tfidf_search(\"computer word search\", index_set=2)[:5]\n",
    "print(f\"TFIDF Results:\")\n",
    "print_results(test_tfidf_2)\n"
   ]
  },
  {
   "cell_type": "code",
   "execution_count": 35,
   "metadata": {
    "deletable": false,
    "editable": false,
    "nbgrader": {
     "cell_type": "code",
     "checksum": "733b5b67be5e53989f5b763ce5e52ee9",
     "grade": true,
     "grade_id": "cell-3284f50ac29abbaa",
     "locked": true,
     "points": 3,
     "schema_version": 3,
     "solution": false,
     "task": false
    }
   },
   "outputs": [
    {
     "name": "stdout",
     "output_type": "stream",
     "text": [
      "TFIDF Results:\n",
      "Rank 0(9.4): Variable Length Tree Structures Having Minimum Ave...\n",
      "Rank 1(7.4): On the Feasibility of Voice Input to\\nan On-line C...\n",
      "Rank 2(7.3): Median Split Trees: A Fast Lookup Technique for Fr...\n",
      "Rank 3(7.0): Execution Time Requirements for Encipherment Progr...\n",
      "Rank 4(7.0): Storage and Search Properties of a Tree-Organized ...\n"
     ]
    }
   ],
   "source": [
    "\n",
    "test_tfidf_1 = tfidf_search(\"computer word search\", index_set=1)[:5]\n",
    "print(f\"TFIDF Results:\")\n",
    "print_results(test_tfidf_1)\n"
   ]
  },
  {
   "cell_type": "code",
   "execution_count": 36,
   "metadata": {
    "deletable": false,
    "editable": false,
    "nbgrader": {
     "cell_type": "code",
     "checksum": "e0edb37a5ae807a2de85d578c87ccb78",
     "grade": true,
     "grade_id": "cell-d908c80a3155354b",
     "locked": true,
     "points": 3,
     "schema_version": 3,
     "solution": false,
     "task": false
    }
   },
   "outputs": [
    {
     "name": "stdout",
     "output_type": "stream",
     "text": [
      "top-5 docs for index1 with BOW search: ('1771', '1936', '1543', '2535', '678')\n",
      "top-5 docs for index2 with BOW search: ('1525', '1936', '1844', '1700', '1366')\n",
      "top-5 docs for index1 with TF-IDF search: ('1936', '2054', '3041', '2620', '944')\n",
      "top-5 docs for index2 with TF-IDF search: ('1700', '1936', '1235', '2018', '849')\n"
     ]
    }
   ],
   "source": [
    "\n",
    "print('top-5 docs for index1 with BOW search:', list(zip(*test_bow_1[:5]))[0])\n",
    "print('top-5 docs for index2 with BOW search:', list(zip(*test_bow_2[:5]))[0])\n",
    "print('top-5 docs for index1 with TF-IDF search:', list(zip(*test_tfidf_1[:5]))[0])\n",
    "print('top-5 docs for index2 with TF-IDF search:', list(zip(*test_tfidf_2[:5]))[0])\n",
    "\n"
   ]
  },
  {
   "cell_type": "markdown",
   "metadata": {
    "deletable": false,
    "editable": false,
    "nbgrader": {
     "cell_type": "markdown",
     "checksum": "cdffc83f0eaea937cf64a212e7e9af8d",
     "grade": false,
     "grade_id": "cell-f5d923459ba21733",
     "locked": true,
     "schema_version": 3,
     "solution": false,
     "task": false
    }
   },
   "source": [
    "--- \n",
    "\n",
    "### Section 3.3: Query Likelihood Model (35 points) <a class=\"anchor\" id=\"qlm\"></a>\n",
    "\n",
    "In this section, you will implement a simple query likelihood model. \n",
    "\n",
    "\n",
    "#### 3.3.1 Naive QL (15 points)\n",
    "\n",
    "First, let us implement a naive version of a QL model, assuming a multinomial unigram language model (with a uniform prior over the documents). \n",
    "\n"
   ]
  },
  {
   "cell_type": "code",
   "execution_count": 37,
   "metadata": {
    "deletable": false,
    "editable": false,
    "nbgrader": {
     "cell_type": "code",
     "checksum": "b7ae2b7d818b428b4638c1c9206d2aca",
     "grade": false,
     "grade_id": "cell-98505778f7b68e7f",
     "locked": true,
     "schema_version": 3,
     "solution": false,
     "task": false
    }
   },
   "outputs": [],
   "source": [
    "#### Document length for normalization\n",
    "\n",
    "def doc_lengths(documents):\n",
    "    doc_lengths = {doc_id:len(doc) for (doc_id, doc) in documents}\n",
    "    return doc_lengths\n",
    "\n",
    "doc_lengths_1 = doc_lengths(doc_repr_1)\n",
    "doc_lengths_2 = doc_lengths(doc_repr_2)\n",
    "\n",
    "def get_doc_lengths(index_set):\n",
    "    assert index_set in {1, 2}\n",
    "    return {\n",
    "        1: doc_lengths_1,\n",
    "        2: doc_lengths_2\n",
    "    }[index_set]\n",
    "####"
   ]
  },
  {
   "cell_type": "code",
   "execution_count": 38,
   "metadata": {
    "deletable": false,
    "nbgrader": {
     "cell_type": "code",
     "checksum": "cedd08303a914243fefdb6b876977ca1",
     "grade": false,
     "grade_id": "cell-8bcf2b804d636c2e",
     "locked": false,
     "schema_version": 3,
     "solution": true,
     "task": false
    }
   },
   "outputs": [],
   "source": [
    "# TODO: Implement this! (15 points)\n",
    "def naive_ql_search(query, index_set):\n",
    "    \"\"\"\n",
    "        Perform a search over all documents with the given query using a naive QL model. \n",
    "        Note #1: You have to use the `get_index` (and get_doc_lengths) function created in the previous cells\n",
    "        Input: \n",
    "            query - a (unprocessed) query\n",
    "            index_set - the index to use\n",
    "        Output: a list of (document_id, score), sorted in descending relevance to the given query \n",
    "    \"\"\"\n",
    "    index = get_index(index_set)\n",
    "    doc_lengths = get_doc_lengths(index_set)\n",
    "    processed_query = preprocess_query(query, index_set)\n",
    "    \n",
    "    # YOUR CODE HERE\n",
    "    \n",
    "    # Reference: Sec 7.3.1. from https://ciir.cs.umass.edu/downloads/SEIRiP.pdf\n",
    "\n",
    "    from collections import defaultdict, OrderedDict\n",
    "    \n",
    "    epsilon = np.finfo(np.float32).eps\n",
    "    doc_ids = list(set(doc_lengths.keys()))\n",
    "    \n",
    "    document_score = defaultdict(lambda: 1.0)\n",
    "\n",
    "    for t in processed_query:\n",
    "        if t in index:\n",
    "\n",
    "            for doc_id in doc_ids:\n",
    "                count = 0\n",
    "                if doc_id in dict(index[t]):\n",
    "                    count = dict(index[t])[doc_id]\n",
    "\n",
    "                p_t_given_d = count / (doc_lengths[doc_id] + epsilon)\n",
    "                document_score[doc_id] *= p_t_given_d\n",
    "        else:\n",
    "            document_score[doc_id] *= 0.\n",
    "    \n",
    "    return sorted(document_score.items(), key=lambda x: x[1], reverse=True)"
   ]
  },
  {
   "cell_type": "code",
   "execution_count": 39,
   "metadata": {
    "deletable": false,
    "editable": false,
    "nbgrader": {
     "cell_type": "code",
     "checksum": "b550d15bdad28354c336020a00c33d56",
     "grade": true,
     "grade_id": "cell-5a83ac12ecde8578",
     "locked": true,
     "points": 3,
     "schema_version": 3,
     "solution": false,
     "task": false
    }
   },
   "outputs": [
    {
     "name": "stdout",
     "output_type": "stream",
     "text": [
      "Naive QL Results:\n",
      "Rank 0(0.2): A CRT Report Generating System...\n",
      "Rank 1(0.2): A Report Writer For COBOL...\n",
      "Rank 2(0.17): Supplement to the ALGOL 60 Report...\n",
      "Rank 3(0.17): Preliminary Report-International Algebraic Languag...\n",
      "Rank 4(0.14): Report on the Algorithmic Language ALGOL 60...\n"
     ]
    }
   ],
   "source": [
    "#### Function check\n",
    "test_naiveql = naive_ql_search(\"report\", index_set=1)[:5]\n",
    "print(f\"Naive QL Results:\")\n",
    "print_results(test_naiveql)\n",
    "####"
   ]
  },
  {
   "cell_type": "code",
   "execution_count": 40,
   "metadata": {
    "deletable": false,
    "editable": false,
    "nbgrader": {
     "cell_type": "code",
     "checksum": "799df1d81c63fe90edbb6c218fc707fb",
     "grade": true,
     "grade_id": "cell-80f4bf2137f997bb",
     "locked": true,
     "points": 2,
     "schema_version": 3,
     "solution": false,
     "task": false
    }
   },
   "outputs": [],
   "source": [
    "#### Please do not change this. This cell is used for grading."
   ]
  },
  {
   "cell_type": "code",
   "execution_count": 41,
   "metadata": {
    "deletable": false,
    "editable": false,
    "nbgrader": {
     "cell_type": "code",
     "checksum": "875a4a517d27e20625d41783cebec118",
     "grade": true,
     "grade_id": "cell-5ce2993458a8ce51",
     "locked": true,
     "points": 3,
     "schema_version": 3,
     "solution": false,
     "task": false
    }
   },
   "outputs": [],
   "source": [
    "#### Please do not change this. This cell is used for grading."
   ]
  },
  {
   "cell_type": "code",
   "execution_count": 42,
   "metadata": {
    "deletable": false,
    "editable": false,
    "nbgrader": {
     "cell_type": "code",
     "checksum": "d5c4e1c3852e71a46f32825b122f1b71",
     "grade": true,
     "grade_id": "cell-7753bdb54e292f3d",
     "locked": true,
     "points": 3,
     "schema_version": 3,
     "solution": false,
     "task": false
    }
   },
   "outputs": [],
   "source": [
    "#### Please do not change this. This cell is used for grading."
   ]
  },
  {
   "cell_type": "code",
   "execution_count": 43,
   "metadata": {
    "deletable": false,
    "editable": false,
    "nbgrader": {
     "cell_type": "code",
     "checksum": "c4d4332d4356e89ce0240f6b80e1899a",
     "grade": true,
     "grade_id": "cell-54e476e2f96e64bb",
     "locked": true,
     "points": 4,
     "schema_version": 3,
     "solution": false,
     "task": false
    }
   },
   "outputs": [],
   "source": [
    "#### Please do not change this. This cell is used for grading."
   ]
  },
  {
   "cell_type": "markdown",
   "metadata": {
    "deletable": false,
    "editable": false,
    "nbgrader": {
     "cell_type": "markdown",
     "checksum": "8d739dc91a22bd48897f603885f95a74",
     "grade": false,
     "grade_id": "cell-5414dfd69dab8b94",
     "locked": true,
     "schema_version": 3,
     "solution": false,
     "task": false
    }
   },
   "source": [
    "---\n",
    "#### 3.3.2 QL (20 points)\n",
    "Now, let's implement a QL model that handles the issues with the naive version. In particular, you will implement a QL model with Jelinek-Mercer Smoothing. That means an interpolated score is computed per word - one term is the same as the previous naive version, and the second term comes from a unigram language model. In addition, you should accumulate the scores by summing the **log** (smoothed) probability which leads to better numerical stability."
   ]
  },
  {
   "cell_type": "code",
   "execution_count": 44,
   "metadata": {
    "deletable": false,
    "nbgrader": {
     "cell_type": "code",
     "checksum": "b8c6abf937ad333e628f1db891f2e29e",
     "grade": false,
     "grade_id": "cell-bb1f506409771257",
     "locked": false,
     "schema_version": 3,
     "solution": true,
     "task": false
    }
   },
   "outputs": [],
   "source": [
    "# TODO: Implement this! (20 points)\n",
    "def ql_search(query, index_set):\n",
    "    \"\"\"\n",
    "        Perform a search over all documents with the given query using a QL model \n",
    "        with Jelinek-Mercer Smoothing (set smoothing=0.1). \n",
    "        \n",
    "        \n",
    "        Note #1: You have to use the `get_index` (and get_doc_lengths) function created in the previous cells\n",
    "        Note #2: You might have to create some variables beforehand and use them in this function\n",
    "        \n",
    "        \n",
    "        Input: \n",
    "            query - a (unprocessed) query\n",
    "            index_set - the index to use\n",
    "        Output: a list of (document_id, score), sorted in descending relevance to the given query \n",
    "    \"\"\"\n",
    "    index = get_index(index_set)\n",
    "    doc_lengths = get_doc_lengths(index_set)\n",
    "    processed_query = preprocess_query(query, index_set)\n",
    "    \n",
    "    # YOUR CODE HERE\n",
    "    # Reference: Sec 7.3.2. from https://ciir.cs.umass.edu/downloads/SEIRiP.pdf\n",
    "    \n",
    "    # TODO: Add a UNK token for tokens not found in the corpus\n",
    "\n",
    "    from collections import defaultdict, OrderedDict\n",
    "    \n",
    "    # epsilon = np.finfo(np.float32).eps\n",
    "    epsilon = 0.0\n",
    "    smoothing = 0.1\n",
    "    \n",
    "    doc_ids = list(set(doc_lengths.keys()))\n",
    "    \n",
    "    # compute total number of word occurrences\n",
    "    total_word_occurrences = 0.0\n",
    "    for w in index:\n",
    "        total_word_occurrences += np.sum([x[1] for x in index[w]])\n",
    "    \n",
    "    # compute document score based on probabilities\n",
    "    # document_score = defaultdict(lambda: 1.0)\n",
    "    document_score = defaultdict(int)\n",
    "    for q in processed_query:\n",
    "        if q in index:\n",
    "            num_occurrences_of_q = np.sum([x[1] for x in index[q]])\n",
    "            # Note we need to loop over all the documents and not just the ones that have terms from the query\n",
    "            # for doc_id, count in index[q]:\n",
    "            \n",
    "            for doc_id in doc_ids:\n",
    "                count = 0\n",
    "                if doc_id in dict(index[q]):\n",
    "                    count = dict(index[q])[doc_id]\n",
    "                p_q_given_d = count / (doc_lengths[doc_id] + epsilon)\n",
    "                p_q_given_C = num_occurrences_of_q / total_word_occurrences\n",
    "                # document_score[doc_id] *= ((1 - smoothing) * p_q_given_d + smoothing * p_q_given_C)\n",
    "                document_score[doc_id] += np.log((1 - smoothing) * p_q_given_d + smoothing * p_q_given_C)\n",
    "\n",
    "    return sorted(document_score.items(), key=lambda x: x[1], reverse=True)"
   ]
  },
  {
   "cell_type": "code",
   "execution_count": 45,
   "metadata": {
    "deletable": false,
    "editable": false,
    "nbgrader": {
     "cell_type": "code",
     "checksum": "0b12a7f3355193a257fd9f5f69a66562",
     "grade": true,
     "grade_id": "cell-850e9d6369bcec32",
     "locked": true,
     "points": 4,
     "schema_version": 3,
     "solution": false,
     "task": false
    }
   },
   "outputs": [
    {
     "name": "stdout",
     "output_type": "stream",
     "text": [
      "Rank 0(-1.7): A CRT Report Generating System...\n",
      "Rank 1(-1.7): A Report Writer For COBOL...\n",
      "Rank 2(-1.9): Supplement to the ALGOL 60 Report...\n",
      "Rank 3(-1.9): Preliminary Report-International Algebraic Languag...\n",
      "Rank 4(-2.1): Report on the Algorithmic Language ALGOL 60...\n",
      "\n",
      "Rank 0(-1.7e+01): A CRT Report Generating System...\n",
      "Rank 1(-1.7e+01): A Report Writer For COBOL...\n",
      "Rank 2(-1.9e+01): Supplement to the ALGOL 60 Report...\n",
      "Rank 3(-1.9e+01): Preliminary Report-International Algebraic Languag...\n",
      "Rank 4(-2.1e+01): Report on the Algorithmic Language ALGOL 60...\n"
     ]
    }
   ],
   "source": [
    "#### Function check\n",
    "test_ql_results = ql_search(\"report\", index_set=1)[:5]\n",
    "print_results(test_ql_results)\n",
    "print()\n",
    "test_ql_results_long = ql_search(\"report \" * 10, index_set=1)[:5]\n",
    "print_results(test_ql_results_long)\n",
    "####"
   ]
  },
  {
   "cell_type": "code",
   "execution_count": 46,
   "metadata": {
    "deletable": false,
    "editable": false,
    "nbgrader": {
     "cell_type": "code",
     "checksum": "e40be645140389c115849856145f5b59",
     "grade": true,
     "grade_id": "cell-958cdcf6fd6899b7",
     "locked": true,
     "points": 3,
     "schema_version": 3,
     "solution": false,
     "task": false
    }
   },
   "outputs": [],
   "source": [
    "#### Please do not change this. This cell is used for grading."
   ]
  },
  {
   "cell_type": "code",
   "execution_count": 47,
   "metadata": {
    "deletable": false,
    "editable": false,
    "nbgrader": {
     "cell_type": "code",
     "checksum": "41d4aff001df17e7963ba79b45810b30",
     "grade": true,
     "grade_id": "cell-384dc23a0c251f6e",
     "locked": true,
     "points": 4,
     "schema_version": 3,
     "solution": false,
     "task": false
    }
   },
   "outputs": [],
   "source": [
    "#### Please do not change this. This cell is used for grading."
   ]
  },
  {
   "cell_type": "code",
   "execution_count": 48,
   "metadata": {
    "deletable": false,
    "editable": false,
    "nbgrader": {
     "cell_type": "code",
     "checksum": "893e8c5a073abc8ebb763d267b91bc02",
     "grade": true,
     "grade_id": "cell-7218966cba5097cc",
     "locked": true,
     "points": 4,
     "schema_version": 3,
     "solution": false,
     "task": false
    }
   },
   "outputs": [],
   "source": [
    "#### Please do not change this. This cell is used for grading."
   ]
  },
  {
   "cell_type": "code",
   "execution_count": 49,
   "metadata": {
    "deletable": false,
    "editable": false,
    "nbgrader": {
     "cell_type": "code",
     "checksum": "f99cb6f8b1f5830aaed8f06712ff846e",
     "grade": true,
     "grade_id": "cell-481ab073259ae53f",
     "locked": true,
     "points": 5,
     "schema_version": 3,
     "solution": false,
     "task": false
    }
   },
   "outputs": [],
   "source": [
    "#### Please do not change this. This cell is used for grading."
   ]
  },
  {
   "cell_type": "markdown",
   "metadata": {
    "deletable": false,
    "editable": false,
    "nbgrader": {
     "cell_type": "markdown",
     "checksum": "c02f14705d679579b1aa9f78f54779d5",
     "grade": false,
     "grade_id": "cell-f44088bfdac1dc90",
     "locked": true,
     "schema_version": 3,
     "solution": false,
     "task": false
    },
    "tags": []
   },
   "source": [
    "--- \n",
    "\n",
    "### Section 3.4: BM25 (20 points) <a class=\"anchor\" id=\"bm25\"></a>\n",
    "\n",
    "In this section, we will implement the BM25 scoring function. \n"
   ]
  },
  {
   "cell_type": "markdown",
   "metadata": {},
   "source": [
    "For a given query $Q$, the score for a document $D$ can be computed by:\n",
    "\n",
    "$$\n",
    "\\text{score}(D | Q) = \\sum_{i \\in Q}\\log\n",
    "\\left(\n",
    "    \\left[\\frac{(r_{i} + 0.5) / (R - r_{i} + 0.5)}{(n_{i} - r_{i} + 0.5)/(N - R - n_{i} + r_{i} + 0.5)}\\right].\n",
    "    \\left[\\frac{(k_{1} + 1)f_{i}}{K + f_{i}}\\right]\n",
    "\\right)\n",
    "$$\n",
    "\n",
    "where,\n",
    "$$\n",
    "K = k_{1} \\left( (1 + b) + b. \\frac{dl}{avdl} \\right)\n",
    "$$\n",
    "\n",
    "With the simplifying assumption that we do not have additional \"relevance\" inforation, we can set $r_i = 0, \\forall i$ and $R = 0$,\n",
    "$$\n",
    "\\text{score}(D | Q) = \\sum_{i \\in Q}\\log\n",
    "\\left(\n",
    "    \\left[\\frac{N - n_{i} + 0.5}{n_{i} + 0.5}\\right].\n",
    "    \\left[\\frac{(k_{1} + 1)f_{i}}{K + f_{i}}\\right]\n",
    "\\right)\n",
    "$$\n",
    "\n",
    "\n",
    "BM: Something like best-match. 25 is the 25th attempt of authors at making a good ranking function.\n",
    "The formula given in the slides is as follows:\n",
    "$$\n",
    "\\text{score}(d | q) = \\sum_{t \\in q}\n",
    "    \\left(\\log\\left[ \\frac{N}{\\text{df}(t)}\\right]\\right) . \\left[\\frac{(k_{1} + 1)\\text{tf}(t, d)}{K + \\text{tf}(t, d)}\\right]\n",
    "$$"
   ]
  },
  {
   "cell_type": "code",
   "execution_count": 50,
   "metadata": {
    "deletable": false,
    "nbgrader": {
     "cell_type": "code",
     "checksum": "e57efe06ea92af1c83784a42eb3d86e0",
     "grade": false,
     "grade_id": "cell-15640fc9b5d00a3c",
     "locked": false,
     "schema_version": 3,
     "solution": true,
     "task": false
    }
   },
   "outputs": [],
   "source": [
    "# TODO: Implement this! (20 points)\n",
    "def bm25_search(query, index_set):\n",
    "    \"\"\"\n",
    "        Perform a search over all documents with the given query using BM25. Use k_1 = 1.5 and b = 0.75\n",
    "        Note #1: You have to use the `get_index` (and `get_doc_lengths`) function created in the previous cells\n",
    "        Note #2: You might have to create some variables beforehand and use them in this function\n",
    "        \n",
    "        Input: \n",
    "            query - a (unprocessed) query\n",
    "            index_set - the index to use\n",
    "        Output: a list of (document_id, score), sorted in descending relevance to the given query \n",
    "    \"\"\"\n",
    "    \n",
    "    index = get_index(index_set)\n",
    "    df = get_df(index_set)\n",
    "    doc_lengths = get_doc_lengths(index_set)\n",
    "    processed_query = preprocess_query(query, index_set)\n",
    "    \n",
    "    # YOUR CODE HERE\n",
    "    # Reference: Sec 7.2.2. from https://ciir.cs.umass.edu/downloads/SEIRiP.pdf\n",
    "    \n",
    "    # define hyperparameters\n",
    "    k_1 = 1.50\n",
    "    b = 0.75\n",
    "    \n",
    "    # compute constants\n",
    "    N = len(doc_lengths)\n",
    "    avdl = np.mean(list(doc_lengths.values()))\n",
    "    epsilon = 0.5\n",
    "    \n",
    "    from collections import defaultdict, OrderedDict\n",
    "    \n",
    "    document_score = defaultdict(lambda: 0.)\n",
    "    for t in processed_query:\n",
    "        if t in index:\n",
    "            for doc_id, tf_td in index[t]:\n",
    "                dl = doc_lengths[doc_id]\n",
    "\n",
    "                # compute K\n",
    "                K = k_1 * ((1 - b) + b * (dl / avdl))\n",
    "\n",
    "                # compute the term\n",
    "                document_score[doc_id] += np.log(N / df[t]) * ((k_1 + 1) * tf_td) / (K + tf_td)\n",
    "    \n",
    "    return sorted(document_score.items(), key=lambda x: x[1], reverse=True)"
   ]
  },
  {
   "cell_type": "code",
   "execution_count": 51,
   "metadata": {
    "deletable": false,
    "editable": false,
    "nbgrader": {
     "cell_type": "code",
     "checksum": "4be9de5d4e94637960d83725422bea6c",
     "grade": true,
     "grade_id": "cell-d10536bca72c74b1",
     "locked": true,
     "points": 3,
     "schema_version": 3,
     "solution": false,
     "task": false
    }
   },
   "outputs": [
    {
     "name": "stdout",
     "output_type": "stream",
     "text": [
      "Rank 0(6.7): A Report Writer For COBOL...\n",
      "Rank 1(6.7): A CRT Report Generating System...\n",
      "Rank 2(6.6): Preliminary Report-International Algebraic Languag...\n",
      "Rank 3(6.6): Supplement to the ALGOL 60 Report...\n",
      "Rank 4(6.5): ALGOL Sub-Committee Report - Extensions...\n"
     ]
    }
   ],
   "source": [
    "#### Function check\n",
    "test_bm25_results = bm25_search(\"report\", index_set=1)[:5]\n",
    "print_results(test_bm25_results)\n",
    "####"
   ]
  },
  {
   "cell_type": "code",
   "execution_count": 52,
   "metadata": {
    "deletable": false,
    "editable": false,
    "nbgrader": {
     "cell_type": "code",
     "checksum": "31b550d6a46ae4f8ede88788799ac2b9",
     "grade": true,
     "grade_id": "cell-60f6ec5052712d79",
     "locked": true,
     "points": 5,
     "schema_version": 3,
     "solution": false,
     "task": false
    }
   },
   "outputs": [],
   "source": [
    "#### Please do not change this. This cell is used for grading."
   ]
  },
  {
   "cell_type": "code",
   "execution_count": 53,
   "metadata": {
    "deletable": false,
    "editable": false,
    "nbgrader": {
     "cell_type": "code",
     "checksum": "3da2ec16bfe781916e71755d65aa2983",
     "grade": true,
     "grade_id": "cell-5d17524043a5abcc",
     "locked": true,
     "points": 5,
     "schema_version": 3,
     "solution": false,
     "task": false
    }
   },
   "outputs": [],
   "source": [
    "#### Please do not change this. This cell is used for grading."
   ]
  },
  {
   "cell_type": "code",
   "execution_count": 54,
   "metadata": {
    "deletable": false,
    "editable": false,
    "nbgrader": {
     "cell_type": "code",
     "checksum": "e7b563d54fa84c20909c0ae107010541",
     "grade": true,
     "grade_id": "cell-ff8e704eda1184e3",
     "locked": true,
     "points": 3,
     "schema_version": 3,
     "solution": false,
     "task": false
    }
   },
   "outputs": [],
   "source": [
    "#### Please do not change this. This cell is used for grading."
   ]
  },
  {
   "cell_type": "code",
   "execution_count": 55,
   "metadata": {
    "deletable": false,
    "editable": false,
    "nbgrader": {
     "cell_type": "code",
     "checksum": "b013f90974b396630a8831d6f1d7e5f7",
     "grade": true,
     "grade_id": "cell-a52310500a2543cb",
     "locked": true,
     "points": 4,
     "schema_version": 3,
     "solution": false,
     "task": false
    }
   },
   "outputs": [],
   "source": [
    "#### Please do not change this. This cell is used for grading."
   ]
  },
  {
   "cell_type": "markdown",
   "metadata": {
    "deletable": false,
    "editable": false,
    "nbgrader": {
     "cell_type": "markdown",
     "checksum": "8fcf67cb7d5e8b26cb9bf1f0aa42c847",
     "grade": false,
     "grade_id": "cell-8b2b412c81d62f2d",
     "locked": true,
     "schema_version": 3,
     "solution": false,
     "task": false
    }
   },
   "source": [
    "\n",
    "---\n",
    "\n",
    "### 3.5. Test Your Functions\n",
    "\n",
    "The widget below allows you to play with the search functions you've written so far. Use this to test your search functions and ensure that they work as expected."
   ]
  },
  {
   "cell_type": "code",
   "execution_count": 56,
   "metadata": {
    "deletable": false,
    "editable": false,
    "nbgrader": {
     "cell_type": "code",
     "checksum": "dfeb204b390acc0794dbdcac92b0cf2c",
     "grade": false,
     "grade_id": "cell-c9c2bb76354e8d97",
     "locked": true,
     "schema_version": 3,
     "solution": false,
     "task": false
    }
   },
   "outputs": [],
   "source": [
    "#### Highlighter function\n",
    "# class for results\n",
    "ResultRow = namedtuple(\"ResultRow\", [\"doc_id\", \"snippet\", \"score\"])\n",
    "# doc_id -> doc\n",
    "docs_by_id = dict((d[0], d[1]) for d in docs)\n",
    "\n",
    "def highlight_text(document, query, tol=17):\n",
    "    import re\n",
    "    tokens = tokenize(query)\n",
    "    regex = \"|\".join(f\"(\\\\b{t}\\\\b)\" for t in tokens)\n",
    "    regex = re.compile(regex, flags=re.IGNORECASE)\n",
    "    output = \"\"\n",
    "    i = 0\n",
    "    for m in regex.finditer(document):\n",
    "        start_idx = max(0, m.start() - tol)\n",
    "        end_idx = min(len(document), m.end() + tol)\n",
    "        output += \"\".join([\"...\",\n",
    "                        document[start_idx:m.start()],\n",
    "                        \"<strong>\",\n",
    "                        document[m.start():m.end()],\n",
    "                        \"</strong>\",\n",
    "                        document[m.end():end_idx],\n",
    "                        \"...\"])\n",
    "    return output.replace(\"\\n\", \" \")\n",
    "\n",
    "\n",
    "def make_results(query, search_fn, index_set):\n",
    "    results = []\n",
    "    for doc_id, score in search_fn(query, index_set):\n",
    "        highlight = highlight_text(docs_by_id[doc_id], query)\n",
    "        if len(highlight.strip()) == 0:\n",
    "            highlight = docs_by_id[doc_id]\n",
    "        results.append(ResultRow(doc_id, highlight, score))\n",
    "    return results\n",
    "####"
   ]
  },
  {
   "cell_type": "code",
   "execution_count": 57,
   "metadata": {},
   "outputs": [
    {
     "data": {
      "application/vnd.jupyter.widget-view+json": {
       "model_id": "e3672a85cca446dfacbf8055d896ee92",
       "version_major": 2,
       "version_minor": 0
      },
      "text/plain": [
       "Text(value='', description='Search Bar')"
      ]
     },
     "metadata": {},
     "output_type": "display_data"
    }
   ],
   "source": [
    "# TODO: Set this to the function you want to test!\n",
    "# this function should take in a query (string)\n",
    "# and return a sorted list of (doc_id, score) \n",
    "# with the most relevant document in the first position\n",
    "search_fn = bm25_search\n",
    "index_set = 1\n",
    "\n",
    "text = widgets.Text(description=\"Search Bar\", width=200)\n",
    "display(text)\n",
    "\n",
    "def handle_submit(sender):\n",
    "    print(f\"Searching for: '{sender.value}'\")\n",
    "    \n",
    "    results = make_results(sender.value, search_fn, index_set)\n",
    "    \n",
    "    # display only the top 5\n",
    "    results = results[:5]\n",
    "    \n",
    "    body = \"\"\n",
    "    for idx, r in enumerate(results):\n",
    "        body += f\"<li>Document #{r.doc_id}({r.score}): {r.snippet}</li>\"\n",
    "    display(HTML(f\"<ul>{body}</ul>\"))\n",
    "    \n",
    "\n",
    "text.on_submit(handle_submit)"
   ]
  },
  {
   "cell_type": "markdown",
   "metadata": {
    "deletable": false,
    "editable": false,
    "nbgrader": {
     "cell_type": "markdown",
     "checksum": "019b1ff878dc6339dd068e2d48d19904",
     "grade": false,
     "grade_id": "cell-8d46fe8e4f3d8cdb",
     "locked": true,
     "schema_version": 3,
     "solution": false,
     "task": false
    },
    "tags": []
   },
   "source": [
    "---\n",
    "\n",
    "## Section 4: Evaluation (40 points) <a class=\"anchor\" id=\"evaluation\"></a>\n",
    "\n",
    "[Back to Part 1](#part1)\n",
    "\n",
    "In order to analyze the effectiveness of retrieval algorithms, we first have to learn how to evaluate such a system. In particular, we will work with offline evaluation metrics. These metrics are computed on a dataset with known relevance judgements.\n",
    "\n",
    "Implement the following evaluation metrics. \n",
    "\n",
    "1. Precision (7 points)\n",
    "2. Recall (7 points)\n",
    "3. Mean Average Precision (13 points)\n",
    "4. Expected Reciprocal Rank (13 points)"
   ]
  },
  {
   "cell_type": "markdown",
   "metadata": {
    "deletable": false,
    "editable": false,
    "nbgrader": {
     "cell_type": "markdown",
     "checksum": "e46f54c7f81d88bbc950b0fae14c4ca5",
     "grade": false,
     "grade_id": "cell-3419fd3bc663d7cc",
     "locked": true,
     "schema_version": 3,
     "solution": false,
     "task": false
    }
   },
   "source": [
    "---\n",
    "### 4.1 Read relevance labels\n",
    "\n",
    "Let's take a look at the `qrels.text` file, which contains the ground truth relevance scores. The relevance labels for CACM are binary - either 0 or 1. \n"
   ]
  },
  {
   "cell_type": "code",
   "execution_count": 58,
   "metadata": {
    "deletable": false,
    "editable": false,
    "nbgrader": {
     "cell_type": "code",
     "checksum": "6c11025f5a222796f2882c73c1634799",
     "grade": false,
     "grade_id": "cell-6b738366059dde9e",
     "locked": true,
     "schema_version": 3,
     "solution": false,
     "task": false
    }
   },
   "outputs": [
    {
     "name": "stdout",
     "output_type": "stream",
     "text": [
      "01 1410  0 0\n",
      "01 1572  0 0\n",
      "01 1605  0 0\n",
      "01 2020  0 0\n",
      "01 2358  0 0\n",
      "02 2434  0 0\n",
      "02 2863  0 0\n",
      "02 3078  0 0\n",
      "03 1134  0 0\n",
      "03 1613  0 0\n"
     ]
    }
   ],
   "source": [
    "!head ./datasets/qrels.text"
   ]
  },
  {
   "cell_type": "markdown",
   "metadata": {
    "deletable": false,
    "editable": false,
    "nbgrader": {
     "cell_type": "markdown",
     "checksum": "7ce95245c1597183320d7254afde5c8e",
     "grade": false,
     "grade_id": "cell-10e16bff2753ffbb",
     "locked": true,
     "schema_version": 3,
     "solution": false,
     "task": false
    }
   },
   "source": [
    "---\n",
    "\n",
    "The first column is the query_id and the second column is the document_id. We can safely ignore the 3rd and 4th columns."
   ]
  },
  {
   "cell_type": "code",
   "execution_count": 59,
   "metadata": {
    "deletable": false,
    "nbgrader": {
     "cell_type": "code",
     "checksum": "000c6d59dce08dba0ba1e8d691dbbc2e",
     "grade": false,
     "grade_id": "cell-ee5253a4ef602fce",
     "locked": false,
     "schema_version": 3,
     "solution": true,
     "task": false
    }
   },
   "outputs": [],
   "source": [
    "def read_qrels(root_folder = \"./datasets/\"):\n",
    "    \"\"\"\n",
    "        Reads the qrels.text file. \n",
    "        Output: A dictionary: query_id -> [list of relevant documents]\n",
    "    \"\"\"\n",
    "    with open(os.path.join(root_folder, \"qrels.text\")) as reader:\n",
    "        lines = reader.readlines()\n",
    "    \n",
    "    from collections import defaultdict\n",
    "    relevant_docs = defaultdict(set)\n",
    "    for line in lines:\n",
    "        query_id, doc_id, _, _ = line.split()\n",
    "        relevant_docs[str(int(query_id))].add(doc_id)\n",
    "    return relevant_docs"
   ]
  },
  {
   "cell_type": "code",
   "execution_count": 60,
   "metadata": {
    "deletable": false,
    "editable": false,
    "nbgrader": {
     "cell_type": "code",
     "checksum": "d60caeba85c2a97d2211184a5ae91fd1",
     "grade": false,
     "grade_id": "cell-72215605fbe24f65",
     "locked": true,
     "schema_version": 3,
     "solution": false,
     "task": false
    }
   },
   "outputs": [],
   "source": [
    "#### Function check\n",
    "qrels = read_qrels()\n",
    "\n",
    "assert len(qrels) == 52, \"There should be 52 queries with relevance judgements\"\n",
    "assert sum(len(j) for j in qrels.values()) == 796, \"There should be a total of 796 Relevance Judgements\"\n",
    "\n",
    "assert np.min(np.array([len(j) for j in qrels.values()])) == 1\n",
    "assert np.max(np.array([len(j) for j in qrels.values()])) == 51\n",
    "\n",
    "####"
   ]
  },
  {
   "cell_type": "markdown",
   "metadata": {
    "deletable": false,
    "editable": false,
    "nbgrader": {
     "cell_type": "markdown",
     "checksum": "6c9e7428a52e291a2cdf92a379730d4c",
     "grade": false,
     "grade_id": "cell-176a6fb2939d0420",
     "locked": true,
     "schema_version": 3,
     "solution": false,
     "task": false
    }
   },
   "source": [
    "---\n",
    "**Note:** For a given query `query_id`, you can assume that documents *not* in `qrels[query_id]` are not relevant to `query_id`. \n"
   ]
  },
  {
   "cell_type": "markdown",
   "metadata": {
    "deletable": false,
    "editable": false,
    "nbgrader": {
     "cell_type": "markdown",
     "checksum": "b26a818c7b4f7ad490e00b35ea0edd69",
     "grade": false,
     "grade_id": "cell-bd8341b72cdd89bb",
     "locked": true,
     "schema_version": 3,
     "solution": false,
     "task": false
    }
   },
   "source": [
    "---\n",
    "### 4.2 Precision (7 points)\n",
    "Implement the `precision@k` metric:"
   ]
  },
  {
   "cell_type": "code",
   "execution_count": 61,
   "metadata": {
    "deletable": false,
    "nbgrader": {
     "cell_type": "code",
     "checksum": "43dea1979ebdec24ffcfeff71c670433",
     "grade": false,
     "grade_id": "cell-494bd0cce108ed67",
     "locked": false,
     "schema_version": 3,
     "solution": true,
     "task": false
    }
   },
   "outputs": [],
   "source": [
    "# TODO: Implement this! (7 points)\n",
    "def precision_k(results, relevant_docs, k):\n",
    "    \"\"\"\n",
    "        Compute Precision@K\n",
    "        Input: \n",
    "            results: A sorted list of 2-tuples (document_id, score), \n",
    "                    with the most relevant document in the first position\n",
    "            relevant_docs: A set of relevant documents. \n",
    "            k: the cut-off\n",
    "        Output: Precision@K\n",
    "    \"\"\"\n",
    "    if k > len(results):\n",
    "        k = len(results)\n",
    "    \n",
    "    # YOUR CODE HERE\n",
    "    \n",
    "    # get top-k predicted document IDs\n",
    "    k_results = np.array([results[x][0] for x in range(k)])\n",
    "    relevant_docs = np.array(list(relevant_docs))\n",
    "    \n",
    "    # compute number of relevant documents in k\n",
    "    num_rel_at_k = np.sum(np.isin(k_results, relevant_docs))\n",
    "    \n",
    "    # return precision@k\n",
    "    precision_at_k = num_rel_at_k / k\n",
    "    \n",
    "    return precision_at_k"
   ]
  },
  {
   "cell_type": "code",
   "execution_count": 62,
   "metadata": {
    "deletable": false,
    "editable": false,
    "nbgrader": {
     "cell_type": "code",
     "checksum": "9222e35582b1840ffb60fd02fb0b60c3",
     "grade": true,
     "grade_id": "cell-e7ff0d91c319ca64",
     "locked": true,
     "points": 7,
     "schema_version": 3,
     "solution": false,
     "task": false
    }
   },
   "outputs": [
    {
     "name": "stdout",
     "output_type": "stream",
     "text": [
      "query: What articles exist which deal with TSS (Time Sharing System), an\n",
      "operating system for IBM computers?\n",
      "precision@10 = 0.2\n"
     ]
    }
   ],
   "source": [
    "\n",
    "#### Function check\n",
    "qid = queries[0][0]\n",
    "qtext = queries[0][1]\n",
    "print(f'query:{qtext}')\n",
    "results = bm25_search(qtext, 2)\n",
    "precision = precision_k(results, qrels[qid], 10)\n",
    "print(f'precision@10 = {precision}')\n",
    "####"
   ]
  },
  {
   "cell_type": "markdown",
   "metadata": {
    "deletable": false,
    "editable": false,
    "nbgrader": {
     "cell_type": "markdown",
     "checksum": "8fd3b3998197c7097a40348500affb68",
     "grade": false,
     "grade_id": "cell-afd95f865bc7191e",
     "locked": true,
     "schema_version": 3,
     "solution": false,
     "task": false
    }
   },
   "source": [
    "---\n",
    "### 4.3 Recall (7 points)\n",
    "Implement the `recall@k` metric:"
   ]
  },
  {
   "cell_type": "code",
   "execution_count": 63,
   "metadata": {
    "deletable": false,
    "nbgrader": {
     "cell_type": "code",
     "checksum": "b2020e5741ae03b3fe35817ed8f4ccaa",
     "grade": false,
     "grade_id": "cell-c323fc8c3f8a7cf8",
     "locked": false,
     "schema_version": 3,
     "solution": true,
     "task": false
    }
   },
   "outputs": [],
   "source": [
    "# TODO: Implement this! (7 points)\n",
    "def recall_k(results, relevant_docs, k):\n",
    "    \"\"\"\n",
    "        Compute Recall@K\n",
    "        Input: \n",
    "            results: A sorted list of 2-tuples (document_id, score), with the most relevant document in the first position\n",
    "            relevant_docs: A set of relevant documents. \n",
    "            k: the cut-off\n",
    "        Output: Recall@K\n",
    "    \"\"\"\n",
    "    # YOUR CODE HERE\n",
    "\n",
    "    # get top-k predicted document IDs\n",
    "    k_results = np.array([results[x][0] for x in range(k)])\n",
    "    relevant_docs = np.array(list(relevant_docs))\n",
    "    \n",
    "    # compute number of relevant documents in k\n",
    "    num_rel_at_k = np.sum(np.isin(k_results, relevant_docs))\n",
    "    \n",
    "    # return recall@k\n",
    "    recall_at_k = num_rel_at_k / len(relevant_docs)\n",
    "    \n",
    "    return recall_at_k"
   ]
  },
  {
   "cell_type": "code",
   "execution_count": 64,
   "metadata": {
    "deletable": false,
    "editable": false,
    "nbgrader": {
     "cell_type": "code",
     "checksum": "56b6e0b8522f8b2dffbfb3206b2efa84",
     "grade": true,
     "grade_id": "cell-b25172161aef165c",
     "locked": true,
     "points": 7,
     "schema_version": 3,
     "solution": false,
     "task": false
    }
   },
   "outputs": [
    {
     "name": "stdout",
     "output_type": "stream",
     "text": [
      "query: SETL, Very High Level Languages\n",
      "recall@10 = 0.3157894736842105\n"
     ]
    }
   ],
   "source": [
    "#### Function check\n",
    "qid = queries[10][0]\n",
    "qtext = queries[10][1]\n",
    "print(f'query:{qtext}')\n",
    "results = bm25_search(qtext, 2)\n",
    "recall = recall_k(results, qrels[qid], 10)\n",
    "print(f'recall@10 = {recall}')\n",
    "####"
   ]
  },
  {
   "cell_type": "markdown",
   "metadata": {
    "deletable": false,
    "editable": false,
    "nbgrader": {
     "cell_type": "markdown",
     "checksum": "b3d3c7bd1cd977cd07ef5df7d3fbf159",
     "grade": false,
     "grade_id": "cell-77fd2e7a39a74739",
     "locked": true,
     "schema_version": 3,
     "solution": false,
     "task": false
    }
   },
   "source": [
    "---\n",
    "### 4.4 Mean Average Precision (13 points)\n",
    "Implement the `map` metric:"
   ]
  },
  {
   "cell_type": "code",
   "execution_count": 65,
   "metadata": {
    "deletable": false,
    "nbgrader": {
     "cell_type": "code",
     "checksum": "aae2c62f2ffd76f5b6c004e9519b9f14",
     "grade": false,
     "grade_id": "cell-e50925fa9093a30d",
     "locked": false,
     "schema_version": 3,
     "solution": true,
     "task": false
    }
   },
   "outputs": [],
   "source": [
    "# TODO: Implement this! (12 points)\n",
    "def average_precision(results, relevant_docs):\n",
    "    \"\"\"\n",
    "        Compute Average Precision (for a single query - the results are \n",
    "        averaged across queries to get MAP in the next few cells)\n",
    "        Hint: You can use the recall_k and precision_k functions here!\n",
    "        Input: \n",
    "            results: A sorted list of 2-tuples (document_id, score), with the most \n",
    "                    relevant document in the first position\n",
    "            relevant_docs: A set of relevant documents. \n",
    "        Output: Average Precision\n",
    "    \"\"\"\n",
    "    # YOUR CODE HERE\n",
    "    \n",
    "    # find k's with a relevant results\n",
    "    ks = [k+1 for k in range(len(results)) if results[k][0] in relevant_docs]\n",
    "    \n",
    "    AP = 0.0\n",
    "    for k in ks:\n",
    "        precision_at_k = precision_k(results, relevant_docs, k)\n",
    "        AP += precision_at_k\n",
    "    AP /= len(relevant_docs)\n",
    "    \n",
    "    return AP"
   ]
  },
  {
   "cell_type": "code",
   "execution_count": 66,
   "metadata": {
    "deletable": false,
    "editable": false,
    "nbgrader": {
     "cell_type": "code",
     "checksum": "3b00e147c2fa146fa59f179b7c9cab75",
     "grade": true,
     "grade_id": "cell-8a1f7ec98571e58b",
     "locked": true,
     "points": 13,
     "schema_version": 3,
     "solution": false,
     "task": false
    }
   },
   "outputs": [
    {
     "name": "stdout",
     "output_type": "stream",
     "text": [
      "query: computational complexity, intractability, class-complete reductions,\n",
      "algorithms and efficiency\n",
      "MAP = 0.17240404110559454\n"
     ]
    }
   ],
   "source": [
    "#### Function check\n",
    "qid = queries[20][0]\n",
    "qtext = queries[20][1]\n",
    "print(f'query:{qtext}')\n",
    "results = bm25_search(qtext, 2)\n",
    "mean_ap = average_precision(results, qrels[qid])\n",
    "print(f'MAP = {mean_ap}')\n",
    "####"
   ]
  },
  {
   "cell_type": "markdown",
   "metadata": {
    "deletable": false,
    "editable": false,
    "nbgrader": {
     "cell_type": "markdown",
     "checksum": "36f85f45ef52d9467ba9a717d6d99ff2",
     "grade": false,
     "grade_id": "cell-1da18f0fe6f6d7be",
     "locked": true,
     "schema_version": 3,
     "solution": false,
     "task": false
    }
   },
   "source": [
    "---\n",
    "### 4.5 Expected Reciprocal Rank (13 points)\n",
    "Implement the `err` metric:"
   ]
  },
  {
   "cell_type": "markdown",
   "metadata": {},
   "source": [
    "Mapping of relevance grade to relevance probability:\n",
    "\n",
    "$$\n",
    "\\mathcal{R}(g) = \\frac{2^{g} - 1}{2^{g_{\\text{max}}}}, g \\in \\{0, 1, .., g_{\\text{max}}\\}\n",
    "$$\n",
    "\n",
    "Definition of ERR:\n",
    "\n",
    "$$\n",
    "ERR = \\sum_{r = 1}^{n}\\frac{1}{r}\\prod_{i=1}^{r-1}(1 - R_{i})R_{r}\n",
    "$$"
   ]
  },
  {
   "cell_type": "code",
   "execution_count": 67,
   "metadata": {
    "deletable": false,
    "nbgrader": {
     "cell_type": "code",
     "checksum": "9ac94db728e23ea1f5dc0d509473c6fb",
     "grade": false,
     "grade_id": "cell-64262889f9b267ea",
     "locked": false,
     "schema_version": 3,
     "solution": true,
     "task": false
    }
   },
   "outputs": [],
   "source": [
    "# TODO: Implement this! (12 points)\n",
    "def err(results, relevant_docs):\n",
    "    \"\"\"\n",
    "        Compute the expected reciprocal rank.\n",
    "        Hint: https://dl.acm.org/doi/pdf/10.1145/1645953.1646033?download=true\n",
    "        Input: \n",
    "            results: A sorted list of 2-tuples (document_id, score), with the most \n",
    "                    relevant document in the first position\n",
    "            relevant_docs: A set of relevant documents. \n",
    "        Output: ERR\n",
    "        \n",
    "    \"\"\"\n",
    "    # YOUR CODE HERE\n",
    "    \n",
    "    \"\"\"\n",
    "    Explanation: Based on Sec 4 of https://dl.acm.org/doi/pdf/10.1145/1645953.1646033\n",
    "    \n",
    "    Notation:\n",
    "        - n: number of documents in the ranking\n",
    "        - R_{i}: \\mathcal{R}(g_{i}), mapping of relevance grade $g_{i}$ to probability of relevance \\\n",
    "                 in this case, it is simply based on DCG\n",
    "                 $$\n",
    "                 \\mathcal{R}(g) = \\frac{2^{g} - 1}{2^{g_{\\text{max}}}}, g \\in \\{0, 1, .., g_{\\text{max}}\\}\n",
    "                 $$\n",
    "    Formula:\n",
    "        $$\n",
    "        ERR = \\sum_{r = 1}^{n}\\frac{1}{r}\\prod_{i=1}^{r-1}(1 - R_{i})R_{r}\n",
    "        $$\n",
    "    \"\"\"\n",
    "    n = len(results)\n",
    "    grade_to_prob = lambda x: (2 ** x - 1) / (2 ** 1)\n",
    "    \n",
    "    err_score = 0.0\n",
    "    p = 1.0\n",
    "    for r in range(1, n + 1):\n",
    "        doc_id, score = results[r - 1]\n",
    "        \n",
    "        R = grade_to_prob(int(doc_id in relevant_docs))\n",
    "        err_score += (p * R / r)\n",
    "        p *= (1 - R)\n",
    "    \n",
    "    return err_score"
   ]
  },
  {
   "cell_type": "code",
   "execution_count": 68,
   "metadata": {
    "deletable": false,
    "editable": false,
    "nbgrader": {
     "cell_type": "code",
     "checksum": "b7d201de0990b69d5f38704668665d87",
     "grade": true,
     "grade_id": "cell-071e3970ff1afae4",
     "locked": true,
     "points": 13,
     "schema_version": 3,
     "solution": false,
     "task": false
    }
   },
   "outputs": [
    {
     "name": "stdout",
     "output_type": "stream",
     "text": [
      "query: I'd like to find articles describing the use of singular value decomposition\n",
      "in digital image processing.  Applications include finding approximations\n",
      "to the original image and restoring images that are subject to noise. An\n",
      "article on the subject is H.C. Andrews and C.L. Patterson \"Outer product\n",
      "expansions and their uses in digital image processing\", American Mathematical\n",
      "Monthly, vol. 82.\n",
      "ERR = 0.625\n"
     ]
    }
   ],
   "source": [
    "#### Function check\n",
    "qid = queries[30][0]\n",
    "qtext = queries[30][1]\n",
    "print(f'query:{qtext}')\n",
    "results = bm25_search(qtext, 2)\n",
    "ERR = err(results, qrels[qid])\n",
    "print(f'ERR = {ERR}')\n",
    "####"
   ]
  },
  {
   "cell_type": "markdown",
   "metadata": {
    "deletable": false,
    "editable": false,
    "nbgrader": {
     "cell_type": "markdown",
     "checksum": "5bd94caf77cfa5f34675df758d91002d",
     "grade": false,
     "grade_id": "cell-43709a765f353946",
     "locked": true,
     "schema_version": 3,
     "solution": false,
     "task": false
    }
   },
   "source": [
    "---\n",
    "### 4.6 Evaluate Search Functions\n",
    "\n",
    "Let's define some metrics@k using [partial functions](https://docs.python.org/3/library/functools.html#functools.partial)"
   ]
  },
  {
   "cell_type": "code",
   "execution_count": 69,
   "metadata": {
    "deletable": false,
    "editable": false,
    "nbgrader": {
     "cell_type": "code",
     "checksum": "49ccc158e5fb7340ace55e90eeb9d62a",
     "grade": false,
     "grade_id": "cell-dab560e18e340da8",
     "locked": true,
     "schema_version": 3,
     "solution": false,
     "task": false
    }
   },
   "outputs": [],
   "source": [
    "#### metrics@k functions\n",
    "\n",
    "recall_at_1 = partial(recall_k, k=1)\n",
    "recall_at_5 = partial(recall_k, k=5)\n",
    "recall_at_10 = partial(recall_k, k=10)\n",
    "precision_at_1 = partial(precision_k, k=1)\n",
    "precision_at_5 = partial(precision_k, k=5)\n",
    "precision_at_10 = partial(precision_k, k=10)\n",
    "\n",
    "\n",
    "list_of_metrics = [\n",
    "    (\"ERR\", err),\n",
    "    (\"MAP\", average_precision),\n",
    "    (\"Recall@1\",recall_at_1),\n",
    "    (\"Recall@5\", recall_at_5),\n",
    "    (\"Recall@10\", recall_at_10),\n",
    "    (\"Precision@1\", precision_at_1),\n",
    "    (\"Precision@5\", precision_at_5),\n",
    "    (\"Precision@10\", precision_at_10)]\n",
    "####"
   ]
  },
  {
   "cell_type": "markdown",
   "metadata": {
    "deletable": false,
    "editable": false,
    "nbgrader": {
     "cell_type": "markdown",
     "checksum": "fb541002c03221b453b8936290020ea5",
     "grade": false,
     "grade_id": "cell-580a2bdc66d03b47",
     "locked": true,
     "schema_version": 3,
     "solution": false,
     "task": false
    }
   },
   "source": [
    "---\n",
    "\n",
    "The following function evaluates a `search_fn` using the `metric_fn`. Note that the final number is averaged over all the queries"
   ]
  },
  {
   "cell_type": "code",
   "execution_count": 70,
   "metadata": {},
   "outputs": [],
   "source": [
    "#### Evaluate a search function\n",
    "\n",
    "list_of_search_fns = [\n",
    "    (\"BOW\", bow_search),\n",
    "    (\"TF-IDF\", tfidf_search),\n",
    "    (\"NaiveQL\", naive_ql_search),\n",
    "    (\"QL\", ql_search),\n",
    "    (\"BM25\", bm25_search)\n",
    "]\n",
    "\n",
    "def evaluate_search_fn(search_fn, metric_fns, index_set=None):\n",
    "    # build a dict query_id -> query \n",
    "    queries_by_id = dict((q[0], q[1]) for q in queries)\n",
    "    \n",
    "    metrics = {}\n",
    "    for metric, metric_fn in metric_fns:\n",
    "        metrics[metric] = np.zeros(len(qrels), dtype=np.float32)\n",
    "    \n",
    "    for i, (query_id, relevant_docs) in enumerate(qrels.items()):\n",
    "        query = queries_by_id[query_id]\n",
    "        if index_set:\n",
    "            results = search_fn(query, index_set)\n",
    "        else:\n",
    "            results = search_fn(query)\n",
    "        \n",
    "        for metric, metric_fn in metric_fns:\n",
    "            metrics[metric][i] = metric_fn(results, relevant_docs)\n",
    "    \n",
    "    final_dict = {}\n",
    "    for metric, metric_vals in metrics.items():\n",
    "        final_dict[metric] = metric_vals.mean()\n",
    "    \n",
    "    return final_dict\n",
    "####"
   ]
  },
  {
   "cell_type": "markdown",
   "metadata": {
    "deletable": false,
    "editable": false,
    "nbgrader": {
     "cell_type": "markdown",
     "checksum": "6ea67534f74a8f81e1f504794f641709",
     "grade": false,
     "grade_id": "cell-b156d83a0649cbb4",
     "locked": true,
     "schema_version": 3,
     "solution": false,
     "task": false
    }
   },
   "source": [
    "## Section 5: Analysis (30 points) <a class=\"anchor\" id=\"analysis\"></a>\n",
    "\n",
    "[Back to Part 1](#part1)\n",
    "\n",
    "In the final section of Part1, we will compare the different term-based IR algorithms and different preprocessing configurations and analyze their advantages and disadvantages.\n",
    "\n",
    "### Section 5.1: Plot (20 points)\n",
    "\n",
    "First, gather the results. The results should consider the index set, the different search functions and different metrics. Plot the results in bar charts, per metric, with clear labels.\n",
    "\n",
    "**Rubric:**\n",
    "- Each Metric is plotted: 7 points\n",
    "- Each Method is plotted: 7 points\n",
    "- Clear titles, x label, y labels and legends (if applicable): 6 points"
   ]
  },
  {
   "cell_type": "code",
   "execution_count": 104,
   "metadata": {
    "deletable": false,
    "nbgrader": {
     "cell_type": "code",
     "checksum": "7e2588a925d13ddf588abe8311dc9cfc",
     "grade": true,
     "grade_id": "cell-46fda42a25863a04",
     "locked": false,
     "points": 20,
     "schema_version": 3,
     "solution": true,
     "task": false
    }
   },
   "outputs": [],
   "source": [
    "# YOUR CODE HERE\n",
    "\n",
    "def plot_results(results, title=\"IR Evaluation with index set = 1\"):\n",
    "    nrows, ncols = 2, len(list_of_metrics) // 2\n",
    "    fig, axes = plt.subplots(nrows, ncols, figsize=(4 * len(list_of_metrics) // 2, 4 * 2), constrained_layout=True)\n",
    "\n",
    "    for i in range(nrows):\n",
    "        for j in range(ncols):\n",
    "            idx = i * nrows + j\n",
    "            ax = axes[i][j]\n",
    "\n",
    "            metric = list_of_metrics[idx][0]\n",
    "            ax.set_title(metric, fontsize=14)\n",
    "            ax.grid(axis=\"y\")\n",
    "\n",
    "            methods_names = list(results.keys())\n",
    "            methods_values = [results[method][metric] for method in results]\n",
    "            ax.bar(x=methods_names, height=methods_values, color=[\"blue\", \"red\", \"pink\", \"lightgreen\", \"gold\"])\n",
    "\n",
    "    plt.suptitle(title, fontsize=16, y=1.05)\n",
    "    plt.show()\n",
    "\n",
    "# results for index_set=1\n",
    "results_1 = dict()\n",
    "for method_name, method_fn in list_of_search_fns:\n",
    "    results_1[method_name] = evaluate_search_fn(method_fn, list_of_metrics, index_set=1)\n",
    "# plot_results(results_1, title=\"IR Evaluation with index set = 1\")\n",
    "\n",
    "# results for index_set=2\n",
    "results_2 = dict()\n",
    "for method_name, method_fn in list_of_search_fns:\n",
    "    results_2[method_name] = evaluate_search_fn(method_fn, list_of_metrics, index_set=2)\n",
    "# plot_results(results_2, title=\"IR Evaluation with index set = 2\")\n"
   ]
  },
  {
   "cell_type": "code",
   "execution_count": 117,
   "metadata": {
    "collapsed": true,
    "jupyter": {
     "outputs_hidden": true
    },
    "tags": []
   },
   "outputs": [
    {
     "data": {
      "text/plain": [
       "{'lda': {'ERR': 0.091314785,\n",
       "  'MAP': 0.035964653,\n",
       "  'Recall@1': 0.0015366178,\n",
       "  'Recall@5': 0.017700234,\n",
       "  'Recall@10': 0.03173594,\n",
       "  'Precision@1': 0.057692308,\n",
       "  'Precision@5': 0.050000004,\n",
       "  'Precision@10': 0.046153847},\n",
       " 'lsi': {'ERR': 0.12550661,\n",
       "  'MAP': 0.06374762,\n",
       "  'Recall@1': 0.015266352,\n",
       "  'Recall@5': 0.03333577,\n",
       "  'Recall@10': 0.05309492,\n",
       "  'Precision@1': 0.115384616,\n",
       "  'Precision@5': 0.08846155,\n",
       "  'Precision@10': 0.07692308},\n",
       " 'w2v': {'ERR': 0.015761444,\n",
       "  'MAP': 0.011584682,\n",
       "  'Recall@1': 0.0,\n",
       "  'Recall@5': 0.0,\n",
       "  'Recall@10': 0.0015784489,\n",
       "  'Precision@1': 0.0,\n",
       "  'Precision@5': 0.0,\n",
       "  'Precision@10': 0.0038461538},\n",
       " 'w2v_pretrained': {'ERR': 0.048670113,\n",
       "  'MAP': 0.012432819,\n",
       "  'Recall@1': 0.007158451,\n",
       "  'Recall@5': 0.008806802,\n",
       "  'Recall@10': 0.010272003,\n",
       "  'Precision@1': 0.07692308,\n",
       "  'Precision@5': 0.026923077,\n",
       "  'Precision@10': 0.017307693},\n",
       " 'd2v': {'ERR': 0.13960278,\n",
       "  'MAP': 0.052620072,\n",
       "  'Recall@1': 0.01477534,\n",
       "  'Recall@5': 0.024951305,\n",
       "  'Recall@10': 0.043248948,\n",
       "  'Precision@1': 0.1923077,\n",
       "  'Precision@5': 0.08461539,\n",
       "  'Precision@10': 0.078846164},\n",
       " 'lsi_rr': {'ERR': 0.21876797,\n",
       "  'MAP': 0.12975839,\n",
       "  'Recall@1': 0.020098357,\n",
       "  'Recall@5': 0.08833863,\n",
       "  'Recall@10': 0.14462705,\n",
       "  'Precision@1': 0.1923077,\n",
       "  'Precision@5': 0.19230771,\n",
       "  'Precision@10': 0.17884615},\n",
       " 'lda_rr': {'ERR': 0.26576284,\n",
       "  'MAP': 0.13855295,\n",
       "  'Recall@1': 0.014825468,\n",
       "  'Recall@5': 0.08212595,\n",
       "  'Recall@10': 0.16863367,\n",
       "  'Precision@1': 0.26923078,\n",
       "  'Precision@5': 0.23076923,\n",
       "  'Precision@10': 0.21153846},\n",
       " 'w2v_rr': {'ERR': 0.17856783,\n",
       "  'MAP': 0.113896616,\n",
       "  'Recall@1': 0.0046195257,\n",
       "  'Recall@5': 0.0747208,\n",
       "  'Recall@10': 0.12300364,\n",
       "  'Precision@1': 0.09615385,\n",
       "  'Precision@5': 0.1653846,\n",
       "  'Precision@10': 0.15384614},\n",
       " 'w2v_pretrained_rr': {'ERR': 0.28365242,\n",
       "  'MAP': 0.17784078,\n",
       "  'Recall@1': 0.04945489,\n",
       "  'Recall@5': 0.11977379,\n",
       "  'Recall@10': 0.2035704,\n",
       "  'Precision@1': 0.34615386,\n",
       "  'Precision@5': 0.23076923,\n",
       "  'Precision@10': 0.20769231},\n",
       " 'd2v_rr': {'ERR': 0.24284405,\n",
       "  'MAP': 0.13620956,\n",
       "  'Recall@1': 0.012197097,\n",
       "  'Recall@5': 0.077279575,\n",
       "  'Recall@10': 0.17511582,\n",
       "  'Precision@1': 0.23076923,\n",
       "  'Precision@5': 0.23461539,\n",
       "  'Precision@10': 0.22884615}}"
      ]
     },
     "execution_count": 117,
     "metadata": {},
     "output_type": "execute_result"
    }
   ],
   "source": [
    "results"
   ]
  },
  {
   "cell_type": "code",
   "execution_count": 123,
   "metadata": {},
   "outputs": [],
   "source": [
    "import json\n",
    "\n",
    "def write_json(data, path):\n",
    "    assert isinstance(data, dict)\n",
    "    \n",
    "    def make_string(dict_):\n",
    "        return {k: str(v) for k, v in dict_.items()}\n",
    "\n",
    "    data = {k: make_string(v) for k, v in data.items()}\n",
    "\n",
    "    with open(path, \"w\", encoding='utf-8') as f:\n",
    "        json.dump(data, f)"
   ]
  },
  {
   "cell_type": "code",
   "execution_count": 124,
   "metadata": {},
   "outputs": [],
   "source": [
    "import os\n",
    "os.makedirs(\"./results/\", exist_ok=True)\n",
    "write_json(results_1, \"./results/term_based_retrieval_results_index_1.json\")\n",
    "write_json(results_2, \"./results/term_based_retrieval_results_index_2.json\")"
   ]
  },
  {
   "cell_type": "code",
   "execution_count": 125,
   "metadata": {},
   "outputs": [
    {
     "data": {
      "image/png": "[encoded data removed]",
      "text/plain": [
       "<Figure size 1152x648 with 8 Axes>"
      ]
     },
     "metadata": {
      "needs_background": "light"
     },
     "output_type": "display_data"
    }
   ],
   "source": [
    "nrows, ncols = 2, len(list_of_metrics) // 2\n",
    "fig, axes = plt.subplots(nrows, ncols, figsize=(4 * len(list_of_metrics) // 2, 4 * 2 + 1), constrained_layout=True)\n",
    "\n",
    "for i in range(nrows):\n",
    "    for j in range(ncols):\n",
    "        idx = i * ncols + j\n",
    "        ax = axes[i][j]\n",
    "        \n",
    "        metric = list_of_metrics[idx][0]\n",
    "        ax.set_title(metric, fontsize=15)\n",
    "        ax.set_ylim((0, 0.6))\n",
    "        ax.grid(axis=\"y\")\n",
    "\n",
    "        methods_names = list(results_1.keys())\n",
    "        x = np.arange(len(methods_names))\n",
    "        width = 0.3\n",
    "\n",
    "        methods_values_1 = [results_1[method][metric] for method in results_1]\n",
    "        methods_values_2 = [results_2[method][metric] for method in results_2]\n",
    "\n",
    "        ax.bar(x=x, height=methods_values_1, width=width, label=\"Index set: 1\")\n",
    "        ax.bar(x=x + width, height=methods_values_2, width=width, label=\"Index set: 2\")\n",
    "\n",
    "        ax.set_xticks(x + width / 2)\n",
    "        ax.set_xticklabels(methods_names, fontsize=13)\n",
    "        \n",
    "        ax.legend(fontsize=13)\n",
    "\n",
    "plt.suptitle(\n",
    "    \"Evaluation of various retrieval methods on different metrics with different ways of text processing\",\n",
    "    fontsize=16,\n",
    "    y=1.05,\n",
    ")\n",
    "plt.savefig(\"./results/term_based_retrieval_v1.pdf\", bbox_inches=\"tight\")\n",
    "plt.show()"
   ]
  },
  {
   "cell_type": "markdown",
   "metadata": {
    "deletable": false,
    "editable": false,
    "nbgrader": {
     "cell_type": "markdown",
     "checksum": "e88c444a0acf4e398c65e289169b75f7",
     "grade": false,
     "grade_id": "cell-8aabe3bcf265deb0",
     "locked": true,
     "points": 10,
     "schema_version": 3,
     "solution": false,
     "task": true
    }
   },
   "source": [
    "---\n",
    "### Section 5.2: Summary (10 points)\n",
    "Write a summary of what you observe in the results.\n",
    "Your summary should compare results across the 2 indices and the methods being used. State what you expected to see in the results, followed by either supporting evidence *or* justify why the results did not support your expectations.      "
   ]
  },
  {
   "cell_type": "markdown",
   "metadata": {},
   "source": [
    "1. Across the two indices, in general, for each search method is better with `index_set=2` on all the metrics. This shows that using stemming and removing stop words does help with better search results since it reduces sparsity.\n",
    "\n",
    "2. On comparing the search methods, we observe that the BM25 algorithm outperforms all methods on almost all metrics. Further, QL and Naive QL methods perform the worst consistently. Further, TF-IDF outperforms BOW-based search."
   ]
  },
  {
   "cell_type": "markdown",
   "metadata": {
    "deletable": false,
    "editable": false,
    "nbgrader": {
     "cell_type": "markdown",
     "checksum": "b3eb77be74eecca205fc7b47316d1627",
     "grade": false,
     "grade_id": "cell-bb60dd5c092d0f2e",
     "locked": true,
     "schema_version": 3,
     "solution": false,
     "task": false
    }
   },
   "source": [
    "---\n",
    "---\n",
    "# Part 2: Semantic-based Matching (85 points) <a class=\"anchor\" id=\"part2\"></a>\n",
    "\n",
    "[Back to top](#top)\n",
    "\n",
    "We will now experiment with methods that go beyond lexical methods like TF-IDF, which operate at the word level and are high dimensional and sparse, and look at methods which constructs low dimensional dense representations of queries and documents. \n",
    "\n",
    "Since these low-dimensional methods have a higher time complexity, they are typically used in conjunction with methods like BM-25. That is, instead of searching through potentially million documents to find matches using low dimensional vectors, a list of K documents are retrieved using BM25, and then **re-ranked** using the other method. This is the method that is going to be applied in the following exercises. \n",
    "\n",
    "LSI/LDA takes documents that are similar on a semantic level - for instance, if they are describing the same topic - and projects them into nearby vectors, despite having low lexical overlap.\n",
    "\n",
    "In this assignment, you will use `gensim` to create LSI/LDA models and use them in re-ranking. \n",
    "\n",
    "**Note**: The following exercises only uses `doc_repr_2` and `config_2`\n",
    "\n",
    "Table of contents:\n",
    "- [Section 6: LSI](#lsi) (15 points)\n",
    "- [Section 7: LDA](#lda) (10 points)\n",
    "- [Section 8: Word2Vec/Doc2Vec](#2vec) (20 points)\n",
    "- [Section 8: Re-ranking](#reranking) (10 points)\n",
    "- [Section 9: Re-ranking Evaluation](#reranking_eval) (30 points)"
   ]
  },
  {
   "cell_type": "markdown",
   "metadata": {
    "deletable": false,
    "editable": false,
    "nbgrader": {
     "cell_type": "markdown",
     "checksum": "f7c7b2cab82f576ed0acf836ca57171c",
     "grade": false,
     "grade_id": "cell-6b2c81e7a8abd180",
     "locked": true,
     "schema_version": 3,
     "solution": false,
     "task": false
    }
   },
   "source": [
    "---\n",
    "## Section 6: Latent Semantic Indexing (LSI) (15 points) <a class=\"anchor\" id=\"lsi\"></a>\n",
    "\n",
    "[Back to Part 2](#part2)\n",
    "\n",
    "LSI is one of the methods to embed the queries and documents into vectors. It is based on a method similar to Principal Component Analysis (PCA) for obtaining a dense concept matrix out of the sparse term-document matrix.\n",
    "\n",
    "See [wikipedia](https://en.wikipedia.org/wiki/Latent_semantic_analysis), particularly [#Mathematics_of_LSI](https://en.wikipedia.org/wiki/Latent_semantic_analysis#Mathematics_of_LSI)."
   ]
  },
  {
   "cell_type": "code",
   "execution_count": 73,
   "metadata": {
    "deletable": false,
    "editable": false,
    "nbgrader": {
     "cell_type": "code",
     "checksum": "c17ee75319cb517e2bf48ec3d9efc329",
     "grade": false,
     "grade_id": "cell-59913daee47f680d",
     "locked": true,
     "schema_version": 3,
     "solution": false,
     "task": false
    }
   },
   "outputs": [],
   "source": [
    "from gensim.corpora import Dictionary\n",
    "from gensim.models import LdaModel, LsiModel, Word2Vec\n",
    "from gensim.models.doc2vec import Doc2Vec, TaggedDocument\n",
    "from gensim import downloader as g_downloader\n",
    "# gensim uses logging, so set it up \n",
    "import logging\n",
    "logging.basicConfig(format='%(asctime)s : %(levelname)s : %(message)s', level=logging.INFO)"
   ]
  },
  {
   "cell_type": "markdown",
   "metadata": {
    "deletable": false,
    "editable": false,
    "nbgrader": {
     "cell_type": "markdown",
     "checksum": "5fce140c546759b54a9fc060901ae77c",
     "grade": false,
     "grade_id": "cell-3644faff4976598a",
     "locked": true,
     "schema_version": 3,
     "solution": false,
     "task": false
    }
   },
   "source": [
    "---\n",
    "### Section 6.1: Cosine Similarity (5 points)<a class=\"anchor\" id=\"cosing_sim\"></a>\n",
    "Before we begin, let us first define our method of similarity for the LSI model, the cosine similarity:\n",
    "\n",
    "$$\\text{similarity} = \\cos(\\theta) = {\\mathbf{A} \\cdot \\mathbf{B} \\over \\|\\mathbf{A}\\| \\|\\mathbf{B}\\|} = \\frac{ \\sum\\limits_{i=1}^{n}{A_i  B_i} }{ \\sqrt{\\sum\\limits_{i=1}^{n}{A_i^2}}  \\sqrt{\\sum\\limits_{i=1}^{n}{B_i^2}} }$$\n",
    "\n",
    "Since we are using gensim, the types of vectors returned by their classes are of the form defined below (they are not just simple vectors):"
   ]
  },
  {
   "cell_type": "code",
   "execution_count": 74,
   "metadata": {
    "deletable": false,
    "editable": false,
    "nbgrader": {
     "cell_type": "code",
     "checksum": "4e340e1a1d546f430c018fd0760e707a",
     "grade": false,
     "grade_id": "cell-3995a50f951314d5",
     "locked": true,
     "schema_version": 3,
     "solution": false,
     "task": false
    }
   },
   "outputs": [],
   "source": [
    "# 1, 2, 3 are either latent dimensions (LSI), or topics (LDA)\n",
    "# The second value in each tuple is a number (LSI) or a probability (LDA)  \n",
    "example_vec_1 = [(1, 0.2), (2, 0.3), (3, 0.4)]\n",
    "example_vec_2 = [(1, 0.2), (2, 0.7), (3, 0.4)]"
   ]
  },
  {
   "cell_type": "markdown",
   "metadata": {
    "deletable": false,
    "editable": false,
    "nbgrader": {
     "cell_type": "markdown",
     "checksum": "20832fd4f579f49ae204b0efee02edd1",
     "grade": false,
     "grade_id": "cell-5e54d581858dc8f7",
     "locked": true,
     "schema_version": 3,
     "solution": false,
     "task": false
    }
   },
   "source": [
    "---\n",
    "**Implementation (2+3 points):**\n",
    "Now, implement the `dot product` operation on these types of vectors and using this operator, implement the `cosine similarity` (don't forget: two functions to implement!):"
   ]
  },
  {
   "cell_type": "code",
   "execution_count": 75,
   "metadata": {
    "deletable": false,
    "nbgrader": {
     "cell_type": "code",
     "checksum": "06a712ee75fc213a21c5f0067fd8fe28",
     "grade": false,
     "grade_id": "cell-0e8189f5f93de33f",
     "locked": false,
     "schema_version": 3,
     "solution": true,
     "task": false
    }
   },
   "outputs": [],
   "source": [
    "# TODO: Implement this! (2 points)\n",
    "def dot(vec_1,vec_2): \n",
    "    \"\"\"\n",
    "        vec_1 and vec_2 are of the form: [(int, float), (int, float), ...]\n",
    "        Return the dot product of two such vectors, computed only on the floats\n",
    "        You can assume that the lengths of the vectors are the same, and the dimensions are aligned \n",
    "            i.e you won't get: vec_1 = [(1, 0.2)] ; vec_2 = [(2, 0.3)] \n",
    "                                (dimensions are unaligned and lengths are different)\n",
    "    \"\"\"\n",
    "    # YOUR CODE HERE\n",
    "    return np.sum([x[1] * y[1] for (x, y) in zip(vec_1, vec_2)])\n",
    "\n",
    "\n",
    "# TODO: Implement this! (3 points)\n",
    "def cosine_sim(vec_1, vec_2):\n",
    "    # YOUR CODE HERE\n",
    "    norm_1 = np.sqrt(dot(vec_1, vec_1))\n",
    "    norm_2 = np.sqrt(dot(vec_2, vec_2))\n",
    "    \n",
    "    return dot(vec_1, vec_2) / (norm_1 * norm_2)"
   ]
  },
  {
   "cell_type": "code",
   "execution_count": 76,
   "metadata": {
    "deletable": false,
    "editable": false,
    "nbgrader": {
     "cell_type": "code",
     "checksum": "d22a4a7325ba7815a808390388f534a1",
     "grade": true,
     "grade_id": "cell-b25d04ed6b79fd35",
     "locked": true,
     "points": 2,
     "schema_version": 3,
     "solution": false,
     "task": false
    }
   },
   "outputs": [
    {
     "name": "stdout",
     "output_type": "stream",
     "text": [
      "vectors: ([(1, 0.2), (2, 0.3), (3, 0.4)], [(1, 0.2), (2, 0.7), (3, 0.4)])\n",
      "dot product = 0.41000000000000003\n",
      "cosine similarity = 0.9165587597202866\n"
     ]
    }
   ],
   "source": [
    "##### Function check\n",
    "print(f'vectors: {(example_vec_1,example_vec_2)}')\n",
    "print(f'dot product = {dot(example_vec_1,example_vec_2)}')\n",
    "print(f'cosine similarity = {cosine_sim(example_vec_1,example_vec_2)}')\n",
    "##### "
   ]
  },
  {
   "cell_type": "code",
   "execution_count": 77,
   "metadata": {
    "deletable": false,
    "editable": false,
    "nbgrader": {
     "cell_type": "code",
     "checksum": "0744131724ce76b1b3f163b4bae5f700",
     "grade": true,
     "grade_id": "cell-ae3c4466866ace77",
     "locked": true,
     "points": 3,
     "schema_version": 3,
     "solution": false,
     "task": false
    }
   },
   "outputs": [],
   "source": [
    "#### Please do not change this. This cell is used for grading."
   ]
  },
  {
   "cell_type": "markdown",
   "metadata": {
    "deletable": false,
    "editable": false,
    "nbgrader": {
     "cell_type": "markdown",
     "checksum": "9b123f599f9ea372d14676e23f1c6a52",
     "grade": false,
     "grade_id": "cell-4b2534067c44fcdf",
     "locked": true,
     "schema_version": 3,
     "solution": false,
     "task": false
    }
   },
   "source": [
    "---\n",
    "### Section 6.2: LSI Retrieval (10 points)<a class=\"anchor\" id=\"lsi_retrieval\"></a>\n",
    "LSI retrieval is simply ranking the documents based on their cosine similarity to the query vector.\n",
    "First, let's write a parent class for vector-based retrieval models:"
   ]
  },
  {
   "cell_type": "code",
   "execution_count": 78,
   "metadata": {
    "deletable": false,
    "editable": false,
    "nbgrader": {
     "cell_type": "code",
     "checksum": "ecc111d58182570e2252b8ef5d6b02af",
     "grade": false,
     "grade_id": "cell-937936cea18711ee",
     "locked": true,
     "schema_version": 3,
     "solution": false,
     "task": false
    }
   },
   "outputs": [],
   "source": [
    "class VectorSpaceRetrievalModel:\n",
    "    \"\"\"\n",
    "        Parent class for Dense Vector Retrieval models\n",
    "    \"\"\"\n",
    "    def __init__(self, doc_repr):\n",
    "        \"\"\"\n",
    "            document_collection: \n",
    "                [\n",
    "                    (doc_id_1, [token 1, token 2, ...]), \n",
    "                    (doc_id_2, [token 1, token 2, ....]) \n",
    "                    ...\n",
    "                ]\n",
    "\n",
    "        \"\"\"\n",
    "        self.doc_repr = doc_repr\n",
    "        self.documents = [_[1] for _ in self.doc_repr]\n",
    "        \n",
    "        # construct a dictionary\n",
    "        self.dictionary = Dictionary(self.documents)\n",
    "        # Filter out words that occur less than 20 documents, or more than 50% of the documents.\n",
    "        self.dictionary.filter_extremes(no_below=10)\n",
    "        self.corpus = [self.dictionary.doc2bow(doc) for doc in self.documents]\n",
    "    \n",
    "        # Make a index to word dictionary.\n",
    "        temp = self.dictionary[0]  # This is only to \"load\" the dictionary.\n",
    "        self.id2word = self.dictionary.id2token\n",
    "        \n",
    "        # this is set by the train_model function\n",
    "        self.model = None\n",
    "        \n",
    "        \n",
    "    def vectorize_documents(self):\n",
    "        \"\"\"\n",
    "            Returns a doc_id -> vector dictionary\n",
    "        \"\"\"\n",
    "        vectors = {}\n",
    "        for (doc_id, _), cc in zip(self.doc_repr, self.corpus):\n",
    "            vectors[doc_id] = self.model[cc]\n",
    "        return vectors\n",
    "\n",
    "    def vectorize_query(self, query):\n",
    "        # Note the use of config_2 here!\n",
    "        query = process_text(query, **config_2)\n",
    "        query_vector = self.dictionary.doc2bow(query)\n",
    "        return self.model[query_vector]\n",
    "    \n",
    "    def train_model(self):\n",
    "        \"\"\"\n",
    "            Trains a model and sets the 'self.model' variable. \n",
    "            Make sure to use the variables created in the __init__ method.\n",
    "            e.g the variables which may be useful: {corpus, dictionary, id2word}\n",
    "        \"\"\"\n",
    "        raise NotImplementedError()"
   ]
  },
  {
   "cell_type": "markdown",
   "metadata": {
    "deletable": false,
    "editable": false,
    "nbgrader": {
     "cell_type": "markdown",
     "checksum": "ff161eefd9b81b768cd6361bc1a502b0",
     "grade": false,
     "grade_id": "cell-704a18c2f80cd60c",
     "locked": true,
     "schema_version": 3,
     "solution": false,
     "task": false
    }
   },
   "source": [
    "---\n",
    "**Implementation (5 points):**\n",
    "Implement the `train_model` method in the following class (note that this is only one line of code in `gensim`!). Ensure that the parameters defined in the `__init__` method are not changed, and are *used in the `train_method` function*. Normally, the hyperaparameter space will be searched using grid search / other methods - in this assignment we have provided the hyperparameters for you.\n",
    "\n",
    "The last two lines of code train an LSI model on the list of documents which have been stemmed, lower-cased and have stopwords removed. "
   ]
  },
  {
   "cell_type": "code",
   "execution_count": 79,
   "metadata": {
    "deletable": false,
    "nbgrader": {
     "cell_type": "code",
     "checksum": "0e90eedc27c248bc1ae050518a46a46c",
     "grade": false,
     "grade_id": "cell-307682c9089f15d6",
     "locked": false,
     "schema_version": 3,
     "solution": true,
     "task": false
    }
   },
   "outputs": [],
   "source": [
    "# TODO: Implement this! (5 points)\n",
    "class LsiRetrievalModel(VectorSpaceRetrievalModel):\n",
    "    def __init__(self, doc_repr):\n",
    "        super().__init__(doc_repr)\n",
    "\n",
    "        self.num_topics = 100\n",
    "        self.chunksize = 2000\n",
    "    \n",
    "    def train_model(self):\n",
    "        # YOUR CODE HERE\n",
    "        self.model = LsiModel(\n",
    "            corpus=self.corpus,\n",
    "            id2word=self.id2word,\n",
    "            num_topics=self.num_topics,\n",
    "            chunksize=self.chunksize,\n",
    "        )"
   ]
  },
  {
   "cell_type": "code",
   "execution_count": 80,
   "metadata": {
    "deletable": false,
    "editable": false,
    "nbgrader": {
     "cell_type": "code",
     "checksum": "00399cfe13d60cb4beed1271e36004b0",
     "grade": true,
     "grade_id": "cell-5ce512650c1b2dfb",
     "locked": true,
     "points": 0,
     "schema_version": 3,
     "solution": false,
     "task": false
    }
   },
   "outputs": [
    {
     "name": "stderr",
     "output_type": "stream",
     "text": [
      "2022-02-22 15:00:03,027 : INFO : adding document #0 to Dictionary(0 unique tokens: [])\n",
      "2022-02-22 15:00:03,132 : INFO : built Dictionary(5937 unique tokens: ['-', 'algebra', 'intern', 'languag', 'preliminari']...) from 3204 documents (total 115969 corpus positions)\n",
      "2022-02-22 15:00:03,138 : INFO : discarding 4740 tokens: [('repeat', 8), ('glossari', 7), ('inspect', 8), ('uncol', 2), ('rung', 9), ('secant', 2), ('.', 1603), ('acceler', 6), ('diverg', 3), ('induc', 9)]...\n",
      "2022-02-22 15:00:03,139 : INFO : keeping 1197 tokens which were in no less than 10 and no more than 1602 (=50.0%) documents\n",
      "2022-02-22 15:00:03,141 : INFO : resulting dictionary: Dictionary(1197 unique tokens: ['-', 'algebra', 'intern', 'languag', 'preliminari']...)\n",
      "2022-02-22 15:00:03,197 : INFO : using serial LSI version on this node\n",
      "2022-02-22 15:00:03,198 : INFO : updating model with new documents\n",
      "2022-02-22 15:00:03,198 : INFO : preparing a new chunk of documents\n",
      "2022-02-22 15:00:03,211 : INFO : using 100 extra samples and 2 power iterations\n",
      "2022-02-22 15:00:03,212 : INFO : 1st phase: constructing (1197, 200) action matrix\n",
      "2022-02-22 15:00:03,229 : INFO : orthonormalizing (1197, 200) action matrix\n",
      "2022-02-22 15:00:03,397 : INFO : 2nd phase: running dense svd on (200, 2000) matrix\n",
      "2022-02-22 15:00:03,537 : INFO : computing the final decomposition\n",
      "2022-02-22 15:00:03,537 : INFO : keeping 100 factors (discarding 13.459% of energy spectrum)\n",
      "2022-02-22 15:00:03,541 : INFO : processed documents up to #2000\n",
      "2022-02-22 15:00:03,542 : INFO : topic #0(152.127): 0.741*\",\" + 0.342*\"-\" + 0.211*\"system\" + 0.204*\"program\" + 0.192*\"comput\" + 0.146*\"(\" + 0.127*\"languag\" + 0.108*\")\" + 0.084*\"gener\" + 0.083*\"data\"\n",
      "2022-02-22 15:00:03,542 : INFO : topic #1(60.600): -0.607*\"(\" + -0.434*\")\" + -0.366*\"algorithm\" + -0.300*\"-\" + 0.237*\",\" + 0.213*\"system\" + 0.132*\"comput\" + -0.096*\"[\" + 0.093*\"program\" + -0.084*\"])\"\n",
      "2022-02-22 15:00:03,542 : INFO : topic #2(57.438): -0.744*\"-\" + 0.452*\",\" + -0.263*\"system\" + 0.214*\"(\" + 0.166*\")\" + -0.107*\"time\" + -0.105*\"program\" + 0.094*\"algorithm\" + -0.068*\"comput\" + -0.067*\"share\"\n",
      "2022-02-22 15:00:03,543 : INFO : topic #3(48.370): -0.483*\"system\" + -0.375*\"program\" + -0.367*\"comput\" + 0.363*\"-\" + 0.308*\",\" + -0.212*\"(\" + -0.168*\")\" + -0.147*\"algorithm\" + 0.144*\"languag\" + -0.119*\"time\"\n",
      "2022-02-22 15:00:03,543 : INFO : topic #4(45.710): 0.489*\"comput\" + -0.475*\"languag\" + -0.428*\"program\" + 0.238*\"method\" + 0.141*\"problem\" + -0.121*\"system\" + -0.109*\")\" + 0.107*\"equat\" + 0.100*\"algorithm\" + -0.099*\"(\"\n",
      "2022-02-22 15:00:03,544 : INFO : preparing a new chunk of documents\n",
      "2022-02-22 15:00:03,552 : INFO : using 100 extra samples and 2 power iterations\n",
      "2022-02-22 15:00:03,553 : INFO : 1st phase: constructing (1197, 200) action matrix\n",
      "2022-02-22 15:00:03,561 : INFO : orthonormalizing (1197, 200) action matrix\n",
      "2022-02-22 15:00:03,791 : INFO : 2nd phase: running dense svd on (200, 1204) matrix\n",
      "2022-02-22 15:00:03,895 : INFO : computing the final decomposition\n",
      "2022-02-22 15:00:03,895 : INFO : keeping 100 factors (discarding 14.038% of energy spectrum)\n",
      "2022-02-22 15:00:03,897 : INFO : merging projections: (1197, 100) + (1197, 100)\n",
      "2022-02-22 15:00:03,967 : INFO : keeping 100 factors (discarding 8.162% of energy spectrum)\n",
      "2022-02-22 15:00:03,970 : INFO : processed documents up to #3204\n",
      "2022-02-22 15:00:03,971 : INFO : topic #0(225.136): 0.759*\",\" + 0.337*\"-\" + 0.196*\"system\" + 0.186*\"program\" + 0.166*\"comput\" + 0.139*\"(\" + 0.103*\")\" + 0.103*\"algorithm\" + 0.099*\"languag\" + 0.087*\"time\"\n",
      "2022-02-22 15:00:03,971 : INFO : topic #1(87.805): 0.613*\"-\" + -0.399*\",\" + 0.399*\"(\" + 0.326*\"algorithm\" + 0.293*\")\" + -0.129*\"system\" + -0.107*\"program\" + 0.085*\"method\" + 0.077*\"time\" + 0.062*\"1\"\n",
      "2022-02-22 15:00:03,971 : INFO : topic #2(81.909): 0.550*\"-\" + -0.434*\"(\" + 0.355*\"system\" + -0.321*\")\" + -0.291*\",\" + -0.266*\"algorithm\" + 0.146*\"program\" + 0.123*\"comput\" + 0.078*\"time\" + -0.064*\"[\"\n",
      "2022-02-22 15:00:03,972 : INFO : topic #3(72.433): -0.693*\"program\" + 0.339*\",\" + 0.279*\"-\" + -0.251*\"(\" + -0.221*\"system\" + -0.214*\"languag\" + -0.204*\")\" + -0.160*\"comput\" + -0.099*\"data\" + -0.056*\"execut\"\n",
      "2022-02-22 15:00:03,972 : INFO : topic #4(68.523): -0.673*\"system\" + 0.453*\"program\" + 0.254*\"languag\" + 0.212*\"-\" + -0.179*\"comput\" + -0.165*\"(\" + -0.121*\")\" + -0.115*\"model\" + 0.101*\",\" + -0.098*\"algorithm\"\n"
     ]
    },
    {
     "data": {
      "text/plain": [
       "[(0, 0.015214199651197132),\n",
       " (1, -0.01627358832476766),\n",
       " (2, -0.000184292764221574),\n",
       " (3, -0.0018310757604923758),\n",
       " (4, -0.009427577015200188),\n",
       " (5, -0.004681642572169471),\n",
       " (6, 0.027116804634066304),\n",
       " (7, 0.01680579840295668),\n",
       " (8, -0.03173921172579251),\n",
       " (9, -0.0005808020345429345),\n",
       " (10, 0.002194089006784048),\n",
       " (11, -0.017319522913698693),\n",
       " (12, 0.00015037990803121876),\n",
       " (13, 0.001505004021876471),\n",
       " (14, 0.003815443824595947),\n",
       " (15, 0.005261908360021359),\n",
       " (16, 0.0055781581252086175),\n",
       " (17, 0.00252142103302426),\n",
       " (18, -0.017392555798484914),\n",
       " (19, 0.020666534528923697),\n",
       " (20, -0.010130680983990729),\n",
       " (21, -0.014647549303910781),\n",
       " (22, 0.04912100269273257),\n",
       " (23, 0.02636234899483925),\n",
       " (24, -0.008717231278109446),\n",
       " (25, -0.012862990588462273),\n",
       " (26, 0.005517003457734716),\n",
       " (27, 0.0747532825420771),\n",
       " (28, -0.06256331294878809),\n",
       " (29, 0.0285052078741114),\n",
       " (30, 0.04378287186081955),\n",
       " (31, 0.04589025617302349),\n",
       " (32, -0.07165094915168463),\n",
       " (33, 0.05115733953666799),\n",
       " (34, -0.022330563624196838),\n",
       " (35, 0.06319180806890662),\n",
       " (36, 0.038719618305974535),\n",
       " (37, -0.009343383988870142),\n",
       " (38, -0.05948856025375201),\n",
       " (39, 0.019201352908481517),\n",
       " (40, -0.043312932427543506),\n",
       " (41, -0.03894153527238096),\n",
       " (42, 0.026575373480868324),\n",
       " (43, 0.011990971321217268),\n",
       " (44, 0.009947966563492509),\n",
       " (45, 0.061041594431743756),\n",
       " (46, -0.006057235952225227),\n",
       " (47, 0.006257931052694916),\n",
       " (48, -0.010164391151629319),\n",
       " (49, 0.026535802675358336),\n",
       " (50, 0.025043208663426977),\n",
       " (51, 0.04257768576140993),\n",
       " (52, -0.013069235340073993),\n",
       " (53, 0.003111379249695131),\n",
       " (54, 0.03775008716261137),\n",
       " (55, -0.0160210019843968),\n",
       " (56, 0.029605285222193935),\n",
       " (57, -0.01910657926131387),\n",
       " (58, -0.010391344168746562),\n",
       " (59, 0.04965147680109694),\n",
       " (60, 0.00611220641509248),\n",
       " (61, -0.04037593695625489),\n",
       " (62, 0.014187102319352747),\n",
       " (63, 0.058584105709754204),\n",
       " (64, -0.00552134247285594),\n",
       " (65, 0.05522706992891912),\n",
       " (66, 0.01800074873190645),\n",
       " (67, -0.05126349015404252),\n",
       " (68, -0.03058933380672673),\n",
       " (69, -0.030682312722383812),\n",
       " (70, -0.05798031584357245),\n",
       " (71, 0.011002669798533052),\n",
       " (72, 0.03500591881513945),\n",
       " (73, 0.07407222410383846),\n",
       " (74, -0.059810186974706844),\n",
       " (75, 0.036804887302314515),\n",
       " (76, -0.013534909248052528),\n",
       " (77, 0.013272084863931834),\n",
       " (78, 0.02496937094011327),\n",
       " (79, 0.0361120614358946),\n",
       " (80, -0.030857416116906237),\n",
       " (81, -0.005233870379467671),\n",
       " (82, 0.05097760514487258),\n",
       " (83, -0.031063086967978458),\n",
       " (84, -0.04752687366214631),\n",
       " (85, 0.004489087316103195),\n",
       " (86, -0.015049367564877762),\n",
       " (87, -0.0017038329745928818),\n",
       " (88, -0.062042048990154294),\n",
       " (89, -0.07573813141417285),\n",
       " (90, -0.03337961599436865),\n",
       " (91, 0.049027154480063805),\n",
       " (92, 0.00741570034132151),\n",
       " (93, 0.008833757335120915),\n",
       " (94, 0.007546956668913807),\n",
       " (95, -0.06059609731700408),\n",
       " (96, -0.02728216270806636),\n",
       " (97, 0.01654332040884194),\n",
       " (98, -0.020870719185588527),\n",
       " (99, -0.006704514370232489)]"
      ]
     },
     "execution_count": 80,
     "metadata": {},
     "output_type": "execute_result"
    }
   ],
   "source": [
    "##### Function check\n",
    "lsi = LsiRetrievalModel(doc_repr_2)\n",
    "lsi.train_model()\n",
    "\n",
    "# you can now get an LSI vector for a given query in the following way:\n",
    "lsi.vectorize_query(\"report\")\n",
    "##### "
   ]
  },
  {
   "cell_type": "markdown",
   "metadata": {
    "deletable": false,
    "editable": false,
    "nbgrader": {
     "cell_type": "markdown",
     "checksum": "7116bb9f576c5bb04934e1d59c51d729",
     "grade": false,
     "grade_id": "cell-4c5eeb557b4fca2f",
     "locked": true,
     "points": 5,
     "schema_version": 3,
     "solution": false,
     "task": true
    }
   },
   "source": [
    "\\#### Please do not change this. This cell is used for grading."
   ]
  },
  {
   "cell_type": "markdown",
   "metadata": {
    "deletable": false,
    "editable": false,
    "nbgrader": {
     "cell_type": "markdown",
     "checksum": "26e2ff3c413745e633d99f66c041d6b1",
     "grade": false,
     "grade_id": "cell-c4e50296cd17a555",
     "locked": true,
     "schema_version": 3,
     "solution": false,
     "task": false
    }
   },
   "source": [
    "---\n",
    "**Implementation (5 points):**\n",
    " Next, implement a basic ranking class for vector space retrieval (used for all semantic methods): "
   ]
  },
  {
   "cell_type": "code",
   "execution_count": 81,
   "metadata": {
    "deletable": false,
    "nbgrader": {
     "cell_type": "code",
     "checksum": "1a8389d2f0635c3405e2b0b27ed9f327",
     "grade": false,
     "grade_id": "cell-250515d288e80cdc",
     "locked": false,
     "schema_version": 3,
     "solution": true,
     "task": false
    }
   },
   "outputs": [],
   "source": [
    "# TODO: Implement this! (5 points)\n",
    "class DenseRetrievalRanker:\n",
    "    def __init__(self, vsrm, similarity_fn):\n",
    "        \"\"\"\n",
    "            vsrm: instance of `VectorSpaceRetrievalModel`\n",
    "            similarity_fn: function instance that takes in two vectors \n",
    "                            and returns a similarity score e.g cosine_sim defined earlier\n",
    "        \"\"\"\n",
    "        self.vsrm = vsrm \n",
    "        self.vectorized_documents = self.vsrm.vectorize_documents()\n",
    "        self.similarity_fn = similarity_fn\n",
    "    \n",
    "    def _compute_sim(self, query_vector):\n",
    "        \"\"\"\n",
    "            Compute the similarity of `query_vector` to documents in \n",
    "            `self.vectorized_documents` using `self.similarity_fn`\n",
    "            Returns a list of (doc_id, score) tuples\n",
    "        \"\"\"\n",
    "        # YOUR CODE HERE\n",
    "        return [(doc_id, self.similarity_fn(query_vector, d)) for doc_id, d in self.vectorized_documents.items() if d]\n",
    "    \n",
    "    def search(self, query):\n",
    "        scores = self._compute_sim(self.vsrm.vectorize_query(query))\n",
    "        scores.sort(key=lambda _:-_[1])\n",
    "        return scores "
   ]
  },
  {
   "cell_type": "code",
   "execution_count": 82,
   "metadata": {
    "deletable": false,
    "editable": false,
    "nbgrader": {
     "cell_type": "code",
     "checksum": "f237dd1ef6c1783c06797f4b514421f5",
     "grade": true,
     "grade_id": "cell-b73068b3e77a8e31",
     "locked": true,
     "points": 0,
     "schema_version": 3,
     "solution": false,
     "task": false
    }
   },
   "outputs": [
    {
     "data": {
      "text/plain": [
       "[('599', 0.8156132945899887),\n",
       " ('947', 0.5800956901994497),\n",
       " ('53', 0.4997070008281145),\n",
       " ('1339', 0.46617340219818704),\n",
       " ('3160', 0.44097924136933875)]"
      ]
     },
     "execution_count": 82,
     "metadata": {},
     "output_type": "execute_result"
    }
   ],
   "source": [
    "##### Function check\n",
    "drm_lsi = DenseRetrievalRanker(lsi, cosine_sim)\n",
    "drm_lsi.search(\"report\")[:5]\n",
    "##### "
   ]
  },
  {
   "cell_type": "markdown",
   "metadata": {
    "deletable": false,
    "editable": false,
    "nbgrader": {
     "cell_type": "markdown",
     "checksum": "5b3f19fdcaa585d263706d5a26038799",
     "grade": false,
     "grade_id": "cell-034c755a6502b868",
     "locked": true,
     "points": 5,
     "schema_version": 3,
     "solution": false,
     "task": true
    }
   },
   "source": [
    "\\#### Please do not change this. This cell is used for grading."
   ]
  },
  {
   "cell_type": "markdown",
   "metadata": {
    "deletable": false,
    "editable": false,
    "nbgrader": {
     "cell_type": "markdown",
     "checksum": "dcafef6e037033c46304b914f7c78bdf",
     "grade": false,
     "grade_id": "cell-d1df23f497d5ed6b",
     "locked": true,
     "schema_version": 3,
     "solution": false,
     "task": false
    }
   },
   "source": [
    "---\n",
    "Now, you can test your LSI model in the following cell: try finding queries which are lexically different to documents, but semantically similar - does LSI work well for these queries?!"
   ]
  },
  {
   "cell_type": "code",
   "execution_count": 83,
   "metadata": {
    "deletable": false,
    "editable": false,
    "nbgrader": {
     "cell_type": "code",
     "checksum": "11734bc7674377b340ad51297a8e8bb5",
     "grade": false,
     "grade_id": "cell-efd1d08dfc04ec3e",
     "locked": true,
     "schema_version": 3,
     "solution": false,
     "task": false
    }
   },
   "outputs": [
    {
     "data": {
      "application/vnd.jupyter.widget-view+json": {
       "model_id": "34f6599111104c668f9c57943d4d10ea",
       "version_major": 2,
       "version_minor": 0
      },
      "text/plain": [
       "Text(value='', description='Search Bar')"
      ]
     },
     "metadata": {},
     "output_type": "display_data"
    }
   ],
   "source": [
    "# test your LSI model\n",
    "search_fn = drm_lsi.search\n",
    "\n",
    "text = widgets.Text(description=\"Search Bar\", width=200)\n",
    "display(text)\n",
    "\n",
    "def make_results_2(query, search_fn):\n",
    "    results = []\n",
    "    for doc_id, score in search_fn(query):\n",
    "        highlight = highlight_text(docs_by_id[doc_id], query)\n",
    "        if len(highlight.strip()) == 0:\n",
    "            highlight = docs_by_id[doc_id]\n",
    "        results.append(ResultRow(doc_id, highlight, score))\n",
    "    return results\n",
    "\n",
    "def handle_submit_2(sender):\n",
    "    print(f\"Searching for: '{sender.value}' (SEARCH FN: {search_fn})\")\n",
    "    \n",
    "    results = make_results_2(sender.value, search_fn)\n",
    "    \n",
    "    # display only the top 5\n",
    "    results = results[:5]\n",
    "    \n",
    "    body = \"\"\n",
    "    for idx, r in enumerate(results):\n",
    "        body += f\"<li>Document #{r.doc_id}({r.score}): {r.snippet}</li>\"\n",
    "    display(HTML(f\"<ul>{body}</ul>\"))\n",
    "    \n",
    "\n",
    "text.on_submit(handle_submit_2)"
   ]
  },
  {
   "cell_type": "markdown",
   "metadata": {
    "deletable": false,
    "editable": false,
    "nbgrader": {
     "cell_type": "markdown",
     "checksum": "d074ce1ca48384cdda78742741c938be",
     "grade": false,
     "grade_id": "cell-3a86cef264d8f6cf",
     "locked": true,
     "schema_version": 3,
     "solution": false,
     "task": false
    }
   },
   "source": [
    "---\n",
    "## Section 7: Latent Dirichlet Allocation (LDA) (10 points) <a class=\"anchor\" id=\"lda\"></a>\n",
    "\n",
    "[Back to Part 2](#part2)\n",
    "\n",
    "The specifics of LDA is out of the scope of this assignment, but we will use the `gensim` implementation to perform search using LDA over our small document collection. The key thing to remember is that LDA, unlike LSI, outputs a topic **distribution**, not a vector. With that in mind, let's first define a similarity measure.\n"
   ]
  },
  {
   "cell_type": "markdown",
   "metadata": {
    "deletable": false,
    "editable": false,
    "nbgrader": {
     "cell_type": "markdown",
     "checksum": "db01092373b18f0c9dfed1bb17db4ad9",
     "grade": false,
     "grade_id": "cell-6b78ad22c2d60ba7",
     "locked": true,
     "schema_version": 3,
     "solution": false,
     "task": false
    }
   },
   "source": [
    "---\n",
    "### Section 7.1: Jenson-Shannon divergence (5 points) <a class=\"anchor\" id=\"js_sim\"></a>\n",
    "\n",
    "The Jenson-Shannon divergence is a symmetric and finite measure on two probability distributions (unlike the KL, which is neither). For identical distributions, the JSD is equal to 0, and since our code uses 0 as irrelevant and higher scores as relevant, we use `(1 - JSD)` as the score or 'similarity' in our setup\n",
    "\n",
    "**Note**: the JSD is bounded to \\[0,1\\] only if we use log base 2. So please ensure that you're using `np.log2` instead of `np.log`"
   ]
  },
  {
   "cell_type": "code",
   "execution_count": 84,
   "metadata": {
    "deletable": false,
    "nbgrader": {
     "cell_type": "code",
     "checksum": "a579e6cd7a24a3516bc9a84528b392d3",
     "grade": false,
     "grade_id": "cell-d2376a85a4841e98",
     "locked": false,
     "schema_version": 3,
     "solution": true,
     "task": false
    }
   },
   "outputs": [],
   "source": [
    "## TODO: Implement this! (5 points)\n",
    "def jenson_shannon_divergence(vec_1, vec_2, assert_prob=False):\n",
    "    \"\"\"\n",
    "        Computes the Jensen-Shannon divergence between two probability distributions. \n",
    "        NOTE: DO NOT RETURN 1 - JSD here, that is handled by the next function which is already implemented! \n",
    "        The inputs are *gensim* vectors - same as the vectors for the cosine_sim function\n",
    "        assert_prob is a flag that checks if the inputs are proper probability distributions \n",
    "            i.e they sum to 1 and are positive - use this to check your inputs if needed. \n",
    "                (This is optional to implement, but recommended - \n",
    "                you can the default to False to save a few ms off the runtime)\n",
    "    \"\"\"\n",
    "    # YOUR CODE HERE\n",
    "    \n",
    "    # TODO: check the validity of this assumption\n",
    "    P_support = np.array([x[0] for x in vec_1])\n",
    "    Q_support = np.array([x[0] for x in vec_2])\n",
    "    common_support = [x for x in P_support if x in Q_support]\n",
    "\n",
    "    P = np.array([x[1] for x in vec_1 if x[0] in common_support])\n",
    "    Q = np.array([x[1] for x in vec_2 if x[0] in common_support])\n",
    "\n",
    "    # Q = np.array([y[1] for x, y in zip(vec_1, vec_2) if x[0] in P_support])\n",
    "    \n",
    "    assert len(P) == len(Q)\n",
    "\n",
    "    M = 0.5 * (P + Q)\n",
    "\n",
    "    if assert_prob:\n",
    "        assert np.sum(P) == 1.0 and sum(P >= 0.0) == len(P)\n",
    "        assert np.sum(Q) == 1.0 and sum(Q >= 0.0) == len(Q)\n",
    "\n",
    "    epsilon = np.finfo(np.float32).eps\n",
    "    \n",
    "    def kl(p, q):\n",
    "        return np.sum(np.where(p != 0, p * np.log2(p / (q + epsilon)), 0))\n",
    "    \n",
    "    return 0.5 * kl(P, M) + 0.5 * kl(Q, M)\n",
    "    \n",
    "\n",
    "def jenson_shannon_sim(vec_1, vec_2, assert_prob=False):\n",
    "    return 1 - jenson_shannon_divergence(vec_1, vec_2)\n",
    "\n"
   ]
  },
  {
   "cell_type": "code",
   "execution_count": 85,
   "metadata": {
    "deletable": false,
    "editable": false,
    "nbgrader": {
     "cell_type": "code",
     "checksum": "ab340aa941c9fb5c89b3fd0a9139e246",
     "grade": true,
     "grade_id": "cell-487c6d2933f38053",
     "locked": true,
     "points": 5,
     "schema_version": 3,
     "solution": false,
     "task": false
    }
   },
   "outputs": [
    {
     "data": {
      "text/plain": [
       "0.9251069569836876"
      ]
     },
     "execution_count": 85,
     "metadata": {},
     "output_type": "execute_result"
    }
   ],
   "source": [
    "##### Function check\n",
    "vec_1 = [(1, 0.3), (2, 0.4), (3, 0.3)]\n",
    "vec_2 = [(1, 0.1), (2, 0.7), (3, 0.2)]\n",
    "jenson_shannon_sim(vec_1, vec_2, assert_prob=True)\n",
    "##### "
   ]
  },
  {
   "cell_type": "markdown",
   "metadata": {
    "deletable": false,
    "editable": false,
    "nbgrader": {
     "cell_type": "markdown",
     "checksum": "0a1583a5f23e3390038331cce67f5d8e",
     "grade": false,
     "grade_id": "cell-4535cc67a50b80fa",
     "locked": true,
     "schema_version": 3,
     "solution": false,
     "task": false
    }
   },
   "source": [
    "---\n",
    "### Section 7.2: LDA retrieval (5 points) <a class=\"anchor\" id=\"lda_ret\"></a>\n",
    "\n",
    "Implement the `train_model` method in the following class (note that this is only one line of code in `gensim`!). Ensure that the parameters defined in the `__init__` method are not changed, and are *used in the `train_method` function*. You do not need to set this. Normally, the hyperaparameter space will be searched using grid search / other methods. Note that training the LDA model might take some time\n",
    "\n",
    "The last two lines of code train an LDA model on the list of documents which have been stemmed, lower-cased and have stopwords removed. "
   ]
  },
  {
   "cell_type": "code",
   "execution_count": 86,
   "metadata": {
    "deletable": false,
    "nbgrader": {
     "cell_type": "code",
     "checksum": "27de8e4fa85536bb396b73bfc51b3f50",
     "grade": false,
     "grade_id": "cell-021a48dff4a8bb91",
     "locked": false,
     "schema_version": 3,
     "solution": true,
     "task": false
    }
   },
   "outputs": [],
   "source": [
    "# TODO: Implement this! (5 points)\n",
    "class LdaRetrievalModel(VectorSpaceRetrievalModel):\n",
    "    def __init__(self, doc_repr):\n",
    "        super().__init__(doc_repr)\n",
    "        \n",
    "        # use these parameters in the train_model method\n",
    "        self.num_topics = 100\n",
    "        self.chunksize = 2000\n",
    "        self.passes = 20\n",
    "        self.iterations = 400\n",
    "        self.eval_every = 10\n",
    "        # this is need to get full vectors\n",
    "        self.minimum_probability=0.0\n",
    "        self.alpha='auto'\n",
    "        self.eta='auto'\n",
    "    \n",
    "    \n",
    "    def train_model(self):\n",
    "        # YOUR CODE HERE\n",
    "        self.model = LdaModel(\n",
    "            corpus=self.corpus,\n",
    "            id2word=self.id2word,\n",
    "            num_topics=self.num_topics,\n",
    "            chunksize=self.chunksize,\n",
    "            passes=self.passes,\n",
    "            iterations=self.iterations,\n",
    "            eval_every=self.eval_every,\n",
    "            minimum_probability=self.minimum_probability,\n",
    "            alpha=self.alpha,\n",
    "            eta=self.eta,\n",
    "        )"
   ]
  },
  {
   "cell_type": "code",
   "execution_count": 87,
   "metadata": {
    "deletable": false,
    "editable": false,
    "nbgrader": {
     "cell_type": "code",
     "checksum": "be70fcb8098d0b6ce64cd2a10e6a05b7",
     "grade": true,
     "grade_id": "cell-86750b715f0345fd",
     "locked": true,
     "points": 0,
     "schema_version": 3,
     "solution": false,
     "task": false
    },
    "tags": []
   },
   "outputs": [
    {
     "name": "stderr",
     "output_type": "stream",
     "text": [
      "2022-02-22 15:00:04,724 : INFO : adding document #0 to Dictionary(0 unique tokens: [])\n",
      "2022-02-22 15:00:04,823 : INFO : built Dictionary(5937 unique tokens: ['-', 'algebra', 'intern', 'languag', 'preliminari']...) from 3204 documents (total 115969 corpus positions)\n",
      "2022-02-22 15:00:04,828 : INFO : discarding 4740 tokens: [('repeat', 8), ('glossari', 7), ('inspect', 8), ('uncol', 2), ('rung', 9), ('secant', 2), ('.', 1603), ('acceler', 6), ('diverg', 3), ('induc', 9)]...\n",
      "2022-02-22 15:00:04,829 : INFO : keeping 1197 tokens which were in no less than 10 and no more than 1602 (=50.0%) documents\n",
      "2022-02-22 15:00:04,830 : INFO : resulting dictionary: Dictionary(1197 unique tokens: ['-', 'algebra', 'intern', 'languag', 'preliminari']...)\n",
      "2022-02-22 15:00:04,887 : INFO : using autotuned alpha, starting with [0.01, 0.01, 0.01, 0.01, 0.01, 0.01, 0.01, 0.01, 0.01, 0.01, 0.01, 0.01, 0.01, 0.01, 0.01, 0.01, 0.01, 0.01, 0.01, 0.01, 0.01, 0.01, 0.01, 0.01, 0.01, 0.01, 0.01, 0.01, 0.01, 0.01, 0.01, 0.01, 0.01, 0.01, 0.01, 0.01, 0.01, 0.01, 0.01, 0.01, 0.01, 0.01, 0.01, 0.01, 0.01, 0.01, 0.01, 0.01, 0.01, 0.01, 0.01, 0.01, 0.01, 0.01, 0.01, 0.01, 0.01, 0.01, 0.01, 0.01, 0.01, 0.01, 0.01, 0.01, 0.01, 0.01, 0.01, 0.01, 0.01, 0.01, 0.01, 0.01, 0.01, 0.01, 0.01, 0.01, 0.01, 0.01, 0.01, 0.01, 0.01, 0.01, 0.01, 0.01, 0.01, 0.01, 0.01, 0.01, 0.01, 0.01, 0.01, 0.01, 0.01, 0.01, 0.01, 0.01, 0.01, 0.01, 0.01, 0.01]\n",
      "2022-02-22 15:00:04,888 : INFO : using serial LDA version on this node\n",
      "2022-02-22 15:00:04,898 : INFO : running online (multi-pass) LDA training, 100 topics, 20 passes over the supplied corpus of 3204 documents, updating model once every 2000 documents, evaluating perplexity every 3204 documents, iterating 400x with a convergence threshold of 0.001000\n",
      "2022-02-22 15:00:04,898 : INFO : PROGRESS: pass 0, at document #2000/3204\n",
      "2022-02-22 15:00:05,883 : INFO : optimized alpha [0.009819923, 0.009895418, 0.0098092705, 0.00976805, 0.009856558, 0.00987596, 0.009819602, 0.009881531, 0.009830416, 0.009860677, 0.009773434, 0.009809308, 0.009793809, 0.0098300185, 0.009835214, 0.009846376, 0.009892363, 0.0098665655, 0.009799093, 0.009783483, 0.009809434, 0.0098763555, 0.009773299, 0.009918876, 0.01000274, 0.009819806, 0.009825285, 0.009830245, 0.009809705, 0.00989681, 0.009881871, 0.009846353, 0.009814997, 0.009820243, 0.009845489, 0.009849329, 0.009820196, 0.009876901, 0.009788815, 0.009851191, 0.009768156, 0.0098501975, 0.009845617, 0.00978376, 0.009871286, 0.009809574, 0.009799211, 0.009804051, 0.009767989, 0.00985009, 0.009814541, 0.009908564, 0.009809481, 0.009959456, 0.009824957, 0.009829946, 0.0097784, 0.009793922, 0.009841038, 0.009841591, 0.009830154, 0.009794055, 0.009799355, 0.009856456, 0.009783545, 0.009799032, 0.009819545, 0.009819967, 0.009804287, 0.009830418, 0.009809385, 0.009835818, 0.00980914, 0.009793717, 0.009788857, 0.009939711, 0.009809491, 0.009817402, 0.00981983, 0.009859969, 0.009835373, 0.00982036, 0.009814869, 0.0098254755, 0.009924706, 0.009794004, 0.009835183, 0.009793744, 0.009773294, 0.009814743, 0.00978881, 0.009809433, 0.009809462, 0.0099457605, 0.009762986, 0.009824683, 0.009768058, 0.009819653, 0.009794186, 0.009912588]\n",
      "2022-02-22 15:00:05,885 : INFO : merging changes from 2000 documents into a model of 3204 documents\n",
      "2022-02-22 15:00:05,890 : INFO : topic #48 (0.010): 0.039*\"elimin\" + 0.039*\"eigenvector\" + 0.035*\"automat\" + 0.032*\"system\" + 0.032*\"time\" + 0.031*\"])\" + 0.031*\"semi\" + 0.031*\"gaussian\" + 0.031*\"load\" + 0.028*\"alloc\"\n",
      "2022-02-22 15:00:05,890 : INFO : topic #3 (0.010): 0.098*\"function\" + 0.098*\"algorithm\" + 0.049*\"analyz\" + 0.049*\"wave\" + 0.049*\"logic\" + 0.049*\"tabl\" + 0.049*\"statement\" + 0.049*\"regular\" + 0.049*\"(\" + 0.049*\")\"\n",
      "2022-02-22 15:00:05,890 : INFO : topic #75 (0.010): 0.048*\"program\" + 0.045*\"-\" + 0.043*\",\" + 0.038*\"system\" + 0.027*\"languag\" + 0.023*\"comput\" + 0.015*\"oper\" + 0.013*\"data\" + 0.012*\"\"\" + 0.011*\"gener\"\n",
      "2022-02-22 15:00:05,891 : INFO : topic #53 (0.010): 0.048*\",\" + 0.040*\"-\" + 0.023*\"(\" + 0.018*\"program\" + 0.018*\"problem\" + 0.017*\"comput\" + 0.016*\"system\" + 0.016*\")\" + 0.013*\"method\" + 0.011*\";\"\n",
      "2022-02-22 15:00:05,891 : INFO : topic #24 (0.010): 0.094*\",\" + 0.029*\"comput\" + 0.027*\"-\" + 0.023*\"system\" + 0.017*\"program\" + 0.013*\"algorithm\" + 0.011*\"problem\" + 0.011*\"gener\" + 0.010*\"(\" + 0.010*\"data\"\n",
      "2022-02-22 15:00:05,892 : INFO : topic diff=82.566422, rho=1.000000\n",
      "2022-02-22 15:00:06,521 : INFO : -7.286 per-word bound, 156.1 perplexity estimate based on a held-out corpus of 1204 documents with 49783 words\n",
      "2022-02-22 15:00:06,521 : INFO : PROGRESS: pass 0, at document #3204/3204\n",
      "2022-02-22 15:00:07,026 : INFO : optimized alpha [0.009966867, 0.010033104, 0.009849173, 0.009634014, 0.01030892, 0.010059718, 0.009760688, 0.00993883, 0.010239202, 0.009877464, 0.009991004, 0.009790993, 0.009852135, 0.010093923, 0.01001766, 0.010101629, 0.009968981, 0.01015939, 0.009793609, 0.009649052, 0.009850065, 0.010279687, 0.010077749, 0.010253883, 0.010460851, 0.009997414, 0.01006184, 0.009994864, 0.009967314, 0.0099060405, 0.009969458, 0.009925098, 0.009957231, 0.009944921, 0.010198932, 0.00988524, 0.010098481, 0.009828621, 0.009841909, 0.010045791, 0.009726644, 0.009915312, 0.009893317, 0.010011634, 0.00979902, 0.009903109, 0.009781599, 0.009814987, 0.009557913, 0.0098729115, 0.009895355, 0.010255489, 0.009780223, 0.0100242505, 0.0099598095, 0.009852933, 0.00970223, 0.009893029, 0.010018756, 0.010161166, 0.0099531235, 0.009846658, 0.010179788, 0.009997326, 0.009916423, 0.009790823, 0.0097892275, 0.010002721, 0.009792806, 0.010214064, 0.009785494, 0.009907416, 0.010049356, 0.009670285, 0.009940527, 0.01012899, 0.009814653, 0.009833969, 0.009931407, 0.0099602025, 0.010083287, 0.009961834, 0.010003433, 0.010116, 0.010446465, 0.010009838, 0.009863847, 0.009833984, 0.009749862, 0.009838414, 0.009830235, 0.00985042, 0.010025857, 0.010590453, 0.009599724, 0.0097533725, 0.009703097, 0.009959707, 0.010165319, 0.0100836465]\n",
      "2022-02-22 15:00:07,029 : INFO : merging changes from 1204 documents into a model of 3204 documents\n",
      "2022-02-22 15:00:07,032 : INFO : topic #48 (0.010): 0.320*\"semi\" + 0.169*\"gaussian\" + 0.103*\"elimin\" + 0.018*\"automat\" + 0.015*\"-\" + 0.014*\"system\" + 0.010*\"algorithm\" + 0.009*\"time\" + 0.008*\"storag\" + 0.007*\"eigenvector\"\n",
      "2022-02-22 15:00:07,033 : INFO : topic #19 (0.010): 0.123*\"random\" + 0.095*\"gener\" + 0.086*\"exponenti\" + 0.079*\"variabl\" + 0.068*\"normal\" + 0.060*\"deviat\" + 0.042*\"fast\" + 0.039*\"method\" + 0.033*\"node\" + 0.030*\"standard\"\n",
      "2022-02-22 15:00:07,033 : INFO : topic #84 (0.010): 0.104*\",\" + 0.034*\"comput\" + 0.017*\"system\" + 0.016*\"program\" + 0.014*\";\" + 0.013*\"network\" + 0.011*\"present\" + 0.011*\"-\" + 0.010*\"scienc\" + 0.009*\"data\"\n",
      "2022-02-22 15:00:07,034 : INFO : topic #24 (0.010): 0.105*\",\" + 0.026*\"comput\" + 0.025*\"system\" + 0.024*\"-\" + 0.016*\"program\" + 0.015*\"decis\" + 0.013*\"data\" + 0.012*\"oper\" + 0.011*\"problem\" + 0.010*\"design\"\n",
      "2022-02-22 15:00:07,034 : INFO : topic #93 (0.011): 0.082*\",\" + 0.056*\"system\" + 0.034*\"-\" + 0.032*\"program\" + 0.024*\"comput\" + 0.018*\"/\" + 0.016*\"user\" + 0.014*\"time\" + 0.013*\"design\" + 0.013*\"languag\"\n",
      "2022-02-22 15:00:07,035 : INFO : topic diff=0.713012, rho=0.707107\n",
      "2022-02-22 15:00:07,040 : INFO : PROGRESS: pass 1, at document #2000/3204\n",
      "2022-02-22 15:00:07,477 : INFO : optimized alpha [0.009870969, 0.010003573, 0.00994967, 0.009663816, 0.010229387, 0.01002355, 0.009695832, 0.009906981, 0.010150397, 0.009820412, 0.010008807, 0.009800724, 0.009939679, 0.010051063, 0.009963005, 0.010075923, 0.009854435, 0.010096637, 0.009915647, 0.009650334, 0.009775216, 0.010255442, 0.010045697, 0.01018402, 0.010398745, 0.009957876, 0.01000413, 0.009916979, 0.0099622635, 0.00982186, 0.009953964, 0.009868331, 0.009888306, 0.009860202, 0.010225716, 0.009902494, 0.010040053, 0.009715365, 0.009775171, 0.010022989, 0.009948844, 0.009855357, 0.009847392, 0.009954345, 0.009759526, 0.009829783, 0.0097656315, 0.00970681, 0.009456016, 0.009863554, 0.009874639, 0.010158623, 0.009751453, 0.009933149, 0.009869095, 0.009825183, 0.009880818, 0.009806408, 0.009945901, 0.010240419, 0.009902747, 0.009824538, 0.010110738, 0.009890077, 0.009887196, 0.009748616, 0.009938502, 0.009943521, 0.0098137455, 0.010142054, 0.009787665, 0.00982932, 0.010858243, 0.00983467, 0.009945412, 0.01012286, 0.009793015, 0.009835442, 0.00989471, 0.009861821, 0.009984327, 0.009967424, 0.009933147, 0.0100488905, 0.010442993, 0.009917861, 0.009812319, 0.009917575, 0.009783454, 0.009871215, 0.009855418, 0.009830737, 0.0099734645, 0.010654585, 0.009631666, 0.00973071, 0.0097314855, 0.009893009, 0.010140615, 0.010000989]\n",
      "2022-02-22 15:00:07,480 : INFO : merging changes from 2000 documents into a model of 3204 documents\n",
      "2022-02-22 15:00:07,483 : INFO : topic #48 (0.009): 0.229*\"gaussian\" + 0.214*\"elimin\" + 0.211*\"semi\" + 0.029*\"automat\" + 0.010*\"-\" + 0.010*\"system\" + 0.005*\"algorithm\" + 0.005*\"eigenvector\" + 0.004*\"time\" + 0.004*\"storag\"\n",
      "2022-02-22 15:00:07,484 : INFO : topic #19 (0.010): 0.177*\"random\" + 0.130*\"gener\" + 0.096*\"variabl\" + 0.059*\"exponenti\" + 0.056*\"normal\" + 0.043*\"deviat\" + 0.037*\"fast\" + 0.036*\"method\" + 0.035*\"topolog\" + 0.030*\"standard\"\n",
      "2022-02-22 15:00:07,484 : INFO : topic #84 (0.010): 0.110*\",\" + 0.038*\"comput\" + 0.017*\"program\" + 0.016*\"system\" + 0.015*\";\" + 0.012*\"network\" + 0.011*\"present\" + 0.011*\"univers\" + 0.011*\"-\" + 0.010*\"report\"\n",
      "2022-02-22 15:00:07,484 : INFO : topic #93 (0.011): 0.082*\",\" + 0.064*\"system\" + 0.038*\"-\" + 0.034*\"program\" + 0.025*\"comput\" + 0.018*\"user\" + 0.017*\"/\" + 0.016*\"time\" + 0.014*\"languag\" + 0.013*\"data\"\n",
      "2022-02-22 15:00:07,485 : INFO : topic #72 (0.011): 0.223*\"algorithm\" + 0.205*\"(\" + 0.109*\")\" + 0.089*\"[\" + 0.068*\"])\" + 0.031*\"integr\" + 0.023*\"$\" + 0.018*\"))\" + 0.016*\"partit\" + 0.015*\"a1\"\n",
      "2022-02-22 15:00:07,485 : INFO : topic diff=0.318308, rho=0.526900\n",
      "2022-02-22 15:00:07,999 : INFO : -6.903 per-word bound, 119.7 perplexity estimate based on a held-out corpus of 1204 documents with 49783 words\n",
      "2022-02-22 15:00:08,000 : INFO : PROGRESS: pass 1, at document #3204/3204\n",
      "2022-02-22 15:00:08,390 : INFO : optimized alpha [0.01004682, 0.010119772, 0.010052342, 0.009726772, 0.010527042, 0.010174085, 0.009698712, 0.009954639, 0.010427615, 0.009917382, 0.0103060445, 0.009822687, 0.010056792, 0.010217432, 0.010081327, 0.01025793, 0.009890359, 0.010444156, 0.010002431, 0.009709215, 0.009937313, 0.010574541, 0.01034686, 0.010385546, 0.010573259, 0.010166886, 0.010283876, 0.010057599, 0.010132947, 0.009857167, 0.010028428, 0.009897087, 0.009986101, 0.0099487575, 0.010501653, 0.0099915005, 0.010195447, 0.0097015705, 0.009885685, 0.010154469, 0.010029405, 0.009918116, 0.009870786, 0.010261962, 0.009735406, 0.009886989, 0.009836326, 0.009704801, 0.009365714, 0.009898491, 0.009996209, 0.010314667, 0.009801167, 0.009916327, 0.009930464, 0.009935311, 0.009949264, 0.00999398, 0.010069516, 0.010508666, 0.010003071, 0.009929879, 0.010335529, 0.00999141, 0.010112673, 0.009883098, 0.01003861, 0.010053657, 0.009915862, 0.010440937, 0.009910984, 0.009857455, 0.0114470795, 0.009799449, 0.0101466095, 0.01027079, 0.009893902, 0.009879553, 0.010088513, 0.009963626, 0.010204957, 0.010085656, 0.010055826, 0.0102803, 0.010781365, 0.01015419, 0.009887234, 0.010096852, 0.009909583, 0.009906865, 0.0100924345, 0.009922512, 0.010104098, 0.011064541, 0.009676613, 0.009741485, 0.009809979, 0.009997954, 0.010494088, 0.010101751]\n",
      "2022-02-22 15:00:08,393 : INFO : merging changes from 1204 documents into a model of 3204 documents\n",
      "2022-02-22 15:00:08,398 : INFO : topic #48 (0.009): 0.371*\"elimin\" + 0.213*\"gaussian\" + 0.208*\"semi\" + 0.016*\"automat\" + 0.005*\"-\" + 0.004*\"system\" + 0.002*\"algorithm\" + 0.002*\"eigenvector\" + 0.001*\"time\" + 0.001*\"storag\"\n",
      "2022-02-22 15:00:08,398 : INFO : topic #6 (0.010): 0.052*\"propos\" + 0.042*\"abstract\" + 0.040*\"search\" + 0.039*\"acm\" + 0.037*\"standard\" + 0.035*\"inform\" + 0.031*\"reason\" + 0.030*\",\" + 0.026*\"guidelin\" + 0.025*\"head\"\n",
      "2022-02-22 15:00:08,399 : INFO : topic #84 (0.011): 0.114*\",\" + 0.047*\"comput\" + 0.018*\"program\" + 0.017*\";\" + 0.016*\"system\" + 0.014*\"scienc\" + 0.012*\"report\" + 0.012*\"present\" + 0.011*\"network\" + 0.011*\"cours\"\n",
      "2022-02-22 15:00:08,400 : INFO : topic #93 (0.011): 0.088*\",\" + 0.069*\"system\" + 0.037*\"-\" + 0.030*\"program\" + 0.026*\"comput\" + 0.021*\"user\" + 0.021*\"/\" + 0.017*\"design\" + 0.012*\"time\" + 0.012*\"softwar\"\n",
      "2022-02-22 15:00:08,401 : INFO : topic #72 (0.011): 0.232*\"algorithm\" + 0.211*\"(\" + 0.134*\")\" + 0.099*\"[\" + 0.041*\"$\" + 0.034*\"))\" + 0.030*\"])\" + 0.023*\"integr\" + 0.020*\"partit\" + 0.016*\"-\"\n",
      "2022-02-22 15:00:08,401 : INFO : topic diff=0.412920, rho=0.526900\n",
      "2022-02-22 15:00:08,409 : INFO : PROGRESS: pass 2, at document #2000/3204\n",
      "2022-02-22 15:00:08,827 : INFO : optimized alpha [0.009980406, 0.010148895, 0.010190482, 0.009782868, 0.010485632, 0.010162924, 0.009675588, 0.009941444, 0.010348685, 0.009885719, 0.010360689, 0.009866305, 0.010176518, 0.010193029, 0.010032843, 0.0102412095, 0.009792091, 0.010371857, 0.010171715, 0.009815693, 0.009903323, 0.010541804, 0.01033725, 0.010332256, 0.010517254, 0.0101655265, 0.01025189, 0.010014794, 0.010189367, 0.00982204, 0.010062819, 0.009865001, 0.009942243, 0.009888986, 0.010510212, 0.010042034, 0.010140767, 0.00961709, 0.009843437, 0.010138689, 0.01029522, 0.009903583, 0.009836531, 0.010253823, 0.009746323, 0.009833041, 0.009847978, 0.009622002, 0.009318347, 0.009904771, 0.010003469, 0.010233678, 0.009829537, 0.009834579, 0.0098545775, 0.009945852, 0.010198189, 0.009961073, 0.010026555, 0.010609813, 0.0099681765, 0.009922067, 0.010274994, 0.009905084, 0.010117934, 0.009868507, 0.010388131, 0.010001619, 0.009986147, 0.010373859, 0.009975693, 0.009809314, 0.012430414, 0.009980995, 0.010190172, 0.010303809, 0.009949415, 0.009900264, 0.010092849, 0.0098802205, 0.010147182, 0.010109262, 0.010008018, 0.010238488, 0.010792447, 0.010092369, 0.009865775, 0.010213062, 0.009983389, 0.009992577, 0.010205706, 0.009914347, 0.010052875, 0.011145105, 0.009837302, 0.009763931, 0.0098718265, 0.009946491, 0.0104958005, 0.0100627635]\n",
      "2022-02-22 15:00:08,829 : INFO : merging changes from 2000 documents into a model of 3204 documents\n",
      "2022-02-22 15:00:08,833 : INFO : topic #48 (0.009): 0.465*\"elimin\" + 0.204*\"gaussian\" + 0.142*\"semi\" + 0.021*\"automat\" + 0.002*\"-\" + 0.002*\"system\" + 0.001*\"algorithm\" + 0.001*\"eigenvector\" + 0.001*\"time\" + 0.001*\"storag\"\n",
      "2022-02-22 15:00:08,834 : INFO : topic #37 (0.010): 0.056*\",\" + 0.051*\"method\" + 0.028*\"algorithm\" + 0.024*\"human\" + 0.022*\"comput\" + 0.019*\"repetit\" + 0.018*\"'\" + 0.018*\"present\" + 0.017*\"text\" + 0.015*\"space\"\n",
      "2022-02-22 15:00:08,834 : INFO : topic #84 (0.011): 0.118*\",\" + 0.051*\"comput\" + 0.019*\"program\" + 0.017*\";\" + 0.015*\"report\" + 0.015*\"system\" + 0.014*\"scienc\" + 0.013*\"univers\" + 0.012*\"present\" + 0.010*\"recommend\"\n",
      "2022-02-22 15:00:08,835 : INFO : topic #93 (0.011): 0.088*\",\" + 0.076*\"system\" + 0.041*\"-\" + 0.031*\"program\" + 0.027*\"comput\" + 0.022*\"user\" + 0.019*\"/\" + 0.015*\"design\" + 0.014*\"time\" + 0.012*\"languag\"\n",
      "2022-02-22 15:00:08,835 : INFO : topic #72 (0.012): 0.234*\"algorithm\" + 0.230*\"(\" + 0.129*\")\" + 0.111*\"[\" + 0.078*\"])\" + 0.024*\"$\" + 0.024*\"integr\" + 0.018*\"))\" + 0.015*\"-\" + 0.014*\"partit\"\n",
      "2022-02-22 15:00:08,836 : INFO : topic diff=0.394959, rho=0.466151\n",
      "2022-02-22 15:00:09,312 : INFO : -6.779 per-word bound, 109.8 perplexity estimate based on a held-out corpus of 1204 documents with 49783 words\n",
      "2022-02-22 15:00:09,312 : INFO : PROGRESS: pass 2, at document #3204/3204\n",
      "2022-02-22 15:00:09,660 : INFO : optimized alpha [0.010160569, 0.010296312, 0.010328117, 0.00986143, 0.01074408, 0.010328744, 0.0096873855, 0.010011749, 0.01058463, 0.010003028, 0.010652849, 0.009912818, 0.010323349, 0.0103372885, 0.0101500135, 0.01042718, 0.009845236, 0.010747976, 0.010266772, 0.009936293, 0.010132971, 0.010811471, 0.0106243035, 0.010536228, 0.010626427, 0.010399781, 0.010522884, 0.01013227, 0.010377014, 0.00988142, 0.01014474, 0.009899392, 0.009998266, 0.009995411, 0.010794513, 0.010164303, 0.0102754235, 0.009645662, 0.009976699, 0.010247588, 0.010384099, 0.010029891, 0.009870474, 0.01056277, 0.0097648185, 0.009903978, 0.009937903, 0.009634183, 0.009264863, 0.009959409, 0.010127165, 0.010344133, 0.009912146, 0.009834362, 0.009925514, 0.010063209, 0.010296564, 0.01015563, 0.01012506, 0.010833536, 0.010065302, 0.010058523, 0.010483548, 0.010011697, 0.010362721, 0.010026856, 0.010666369, 0.0101313805, 0.010111964, 0.010633214, 0.010151793, 0.009835508, 0.0130553385, 0.009967726, 0.010385719, 0.0104518095, 0.010093483, 0.009974614, 0.01029761, 0.010006131, 0.010351739, 0.010217947, 0.010101484, 0.010465189, 0.011079727, 0.010291528, 0.0099599445, 0.010412265, 0.010133876, 0.010043196, 0.01058193, 0.010011347, 0.01015712, 0.011472815, 0.009895064, 0.009823884, 0.009983505, 0.010071179, 0.010835409, 0.010156714]\n",
      "2022-02-22 15:00:09,663 : INFO : merging changes from 1204 documents into a model of 3204 documents\n",
      "2022-02-22 15:00:09,666 : INFO : topic #48 (0.009): 0.507*\"elimin\" + 0.186*\"gaussian\" + 0.159*\"semi\" + 0.012*\"automat\" + 0.001*\"-\" + 0.001*\"system\" + 0.000*\"algorithm\" + 0.000*\"eigenvector\" + 0.000*\"time\" + 0.000*\"storag\"\n",
      "2022-02-22 15:00:09,667 : INFO : topic #37 (0.010): 0.059*\"method\" + 0.058*\",\" + 0.037*\"human\" + 0.036*\"algorithm\" + 0.022*\"understand\" + 0.022*\"text\" + 0.020*\"space\" + 0.020*\"comput\" + 0.019*\"present\" + 0.019*\"classifi\"\n",
      "2022-02-22 15:00:09,667 : INFO : topic #84 (0.011): 0.117*\",\" + 0.058*\"comput\" + 0.020*\"program\" + 0.019*\"scienc\" + 0.016*\";\" + 0.015*\"system\" + 0.015*\"cours\" + 0.015*\"report\" + 0.012*\"present\" + 0.012*\"educ\"\n",
      "2022-02-22 15:00:09,667 : INFO : topic #93 (0.011): 0.092*\",\" + 0.078*\"system\" + 0.040*\"-\" + 0.027*\"comput\" + 0.027*\"program\" + 0.025*\"user\" + 0.022*\"/\" + 0.019*\"design\" + 0.014*\"interact\" + 0.013*\"softwar\"\n",
      "2022-02-22 15:00:09,668 : INFO : topic #72 (0.013): 0.243*\"algorithm\" + 0.226*\"(\" + 0.141*\")\" + 0.114*\"[\" + 0.043*\"])\" + 0.039*\"$\" + 0.032*\"))\" + 0.019*\"integr\" + 0.017*\"partit\" + 0.016*\"-\"\n",
      "2022-02-22 15:00:09,668 : INFO : topic diff=0.522683, rho=0.466151\n",
      "2022-02-22 15:00:09,672 : INFO : PROGRESS: pass 3, at document #2000/3204\n",
      "2022-02-22 15:00:10,076 : INFO : optimized alpha [0.010116756, 0.010344425, 0.010476317, 0.009924921, 0.010715777, 0.010328829, 0.009669795, 0.010006644, 0.0105225695, 0.009980561, 0.0107351, 0.009969506, 0.0104518775, 0.010327795, 0.010119052, 0.01041304, 0.009768833, 0.010682122, 0.010459117, 0.010073846, 0.010139171, 0.010758568, 0.010619978, 0.010511318, 0.010573642, 0.010414522, 0.01051393, 0.010110811, 0.010440811, 0.009867196, 0.010215048, 0.009873623, 0.009963788, 0.009945859, 0.010803973, 0.010235955, 0.010256501, 0.009579639, 0.009961476, 0.010248662, 0.010641267, 0.010035639, 0.009865971, 0.010579673, 0.009792039, 0.009868638, 0.00996116, 0.0095698675, 0.009238432, 0.009978239, 0.010150652, 0.010275753, 0.009967569, 0.009769257, 0.009857977, 0.0100808935, 0.010566411, 0.010150502, 0.010095021, 0.010943782, 0.010053172, 0.010068169, 0.010438455, 0.009957718, 0.010381006, 0.010034021, 0.011485372, 0.010094789, 0.0101953605, 0.010570103, 0.010229925, 0.009801843, 0.013777131, 0.010131686, 0.010441904, 0.010499246, 0.010197386, 0.009999993, 0.010320019, 0.0099458415, 0.0103134215, 0.010243548, 0.010060748, 0.010443395, 0.011111217, 0.010240819, 0.009961906, 0.010522396, 0.010228316, 0.010153682, 0.010736434, 0.01002079, 0.010117468, 0.011576657, 0.010082546, 0.009884045, 0.010052221, 0.010061023, 0.010859316, 0.0101303775]\n",
      "2022-02-22 15:00:10,078 : INFO : merging changes from 2000 documents into a model of 3204 documents\n",
      "2022-02-22 15:00:10,081 : INFO : topic #48 (0.009): 0.560*\"elimin\" + 0.177*\"gaussian\" + 0.118*\"semi\" + 0.015*\"automat\" + 0.001*\"-\" + 0.001*\"system\" + 0.000*\"algorithm\" + 0.000*\"eigenvector\" + 0.000*\"time\" + 0.000*\"storag\"\n",
      "2022-02-22 15:00:10,082 : INFO : topic #37 (0.010): 0.057*\",\" + 0.053*\"method\" + 0.033*\"human\" + 0.031*\"algorithm\" + 0.022*\"understand\" + 0.022*\"repetit\" + 0.020*\"present\" + 0.020*\"comput\" + 0.020*\"text\" + 0.017*\"space\"\n",
      "2022-02-22 15:00:10,082 : INFO : topic #66 (0.011): 0.296*\"(\" + 0.288*\")\" + 0.173*\"algorithm\" + 0.041*\"function\" + 0.018*\"subset\" + 0.012*\"connect\" + 0.011*\"ii\" + 0.010*\"order\" + 0.009*\"argument\" + 0.009*\"bessel\"\n",
      "2022-02-22 15:00:10,082 : INFO : topic #93 (0.012): 0.093*\",\" + 0.085*\"system\" + 0.043*\"-\" + 0.029*\"comput\" + 0.028*\"program\" + 0.026*\"user\" + 0.020*\"/\" + 0.017*\"design\" + 0.013*\"interact\" + 0.012*\"time\"\n",
      "2022-02-22 15:00:10,083 : INFO : topic #72 (0.014): 0.234*\"algorithm\" + 0.225*\"(\" + 0.137*\"[\" + 0.107*\")\" + 0.092*\"])\" + 0.029*\"$\" + 0.022*\"))\" + 0.021*\"integr\" + 0.017*\"-\" + 0.014*\"partit\"\n",
      "2022-02-22 15:00:10,083 : INFO : topic diff=0.541376, rho=0.422502\n",
      "2022-02-22 15:00:10,545 : INFO : -6.695 per-word bound, 103.6 perplexity estimate based on a held-out corpus of 1204 documents with 49783 words\n",
      "2022-02-22 15:00:10,545 : INFO : PROGRESS: pass 3, at document #3204/3204\n",
      "2022-02-22 15:00:10,874 : INFO : optimized alpha [0.010302986, 0.010523195, 0.010623392, 0.009999638, 0.010979471, 0.010469573, 0.009705744, 0.010074501, 0.0107386215, 0.010101797, 0.011008859, 0.010018725, 0.010629614, 0.010451867, 0.010243802, 0.010579238, 0.009853017, 0.01103695, 0.010588452, 0.010212042, 0.01041103, 0.01100547, 0.010887893, 0.010724284, 0.010677135, 0.010636655, 0.010796775, 0.01020697, 0.010619741, 0.009921957, 0.010318386, 0.009909362, 0.010022457, 0.010078719, 0.01107318, 0.010387583, 0.010426789, 0.009617397, 0.010115012, 0.010351786, 0.010731348, 0.010151111, 0.009911621, 0.010879903, 0.009826767, 0.009947872, 0.010036231, 0.009579419, 0.009202512, 0.010042434, 0.010292195, 0.010369445, 0.010060369, 0.009809805, 0.009954768, 0.010202076, 0.010691287, 0.010335956, 0.0102067785, 0.0111255655, 0.010159693, 0.010231891, 0.010621787, 0.010108558, 0.010649478, 0.010207179, 0.012099412, 0.010238473, 0.010309909, 0.010807687, 0.010412967, 0.009861659, 0.014245709, 0.010143439, 0.010631921, 0.010652987, 0.010350452, 0.010053668, 0.010525849, 0.010078707, 0.010511326, 0.0103352135, 0.010160534, 0.010654753, 0.011371279, 0.010426581, 0.010033677, 0.01071982, 0.010383512, 0.010224298, 0.011160696, 0.010130534, 0.010223598, 0.011875241, 0.010137222, 0.009973373, 0.010174992, 0.010199926, 0.011169617, 0.010201981]\n",
      "2022-02-22 15:00:10,877 : INFO : merging changes from 1204 documents into a model of 3204 documents\n",
      "2022-02-22 15:00:10,880 : INFO : topic #48 (0.009): 0.568*\"elimin\" + 0.168*\"gaussian\" + 0.137*\"semi\" + 0.010*\"automat\" + 0.000*\"-\" + 0.000*\"system\" + 0.000*\"algorithm\" + 0.000*\"eigenvector\" + 0.000*\"time\" + 0.000*\"storag\"\n",
      "2022-02-22 15:00:10,880 : INFO : topic #37 (0.010): 0.060*\",\" + 0.056*\"method\" + 0.042*\"human\" + 0.039*\"algorithm\" + 0.027*\"understand\" + 0.022*\"present\" + 0.022*\"text\" + 0.021*\"classifi\" + 0.021*\"find\" + 0.020*\"space\"\n",
      "2022-02-22 15:00:10,881 : INFO : topic #93 (0.012): 0.095*\",\" + 0.086*\"system\" + 0.043*\"-\" + 0.029*\"comput\" + 0.028*\"user\" + 0.024*\"program\" + 0.023*\"/\" + 0.021*\"design\" + 0.016*\"interact\" + 0.014*\"softwar\"\n",
      "2022-02-22 15:00:10,881 : INFO : topic #66 (0.012): 0.324*\"(\" + 0.304*\")\" + 0.167*\"algorithm\" + 0.038*\"function\" + 0.014*\"subset\" + 0.014*\"connect\" + 0.011*\"order\" + 0.008*\"argument\" + 0.008*\"integr\" + 0.007*\"ii\"\n",
      "2022-02-22 15:00:10,881 : INFO : topic #72 (0.014): 0.236*\"algorithm\" + 0.219*\"(\" + 0.143*\"[\" + 0.117*\")\" + 0.058*\"])\" + 0.044*\"$\" + 0.036*\"))\" + 0.017*\"-\" + 0.017*\"integr\" + 0.015*\"partit\"\n",
      "2022-02-22 15:00:10,882 : INFO : topic diff=0.656171, rho=0.422502\n",
      "2022-02-22 15:00:10,886 : INFO : PROGRESS: pass 4, at document #2000/3204\n",
      "2022-02-22 15:00:11,273 : INFO : optimized alpha [0.010271763, 0.010594098, 0.01079271, 0.01007411, 0.010964255, 0.010471473, 0.009700029, 0.010097806, 0.010688597, 0.010079019, 0.011105942, 0.010077403, 0.010771663, 0.010445008, 0.010219212, 0.010573687, 0.009787577, 0.01097681, 0.010787316, 0.010396205, 0.010419116, 0.010963264, 0.010890558, 0.01070211, 0.010633223, 0.010667901, 0.010790618, 0.010193539, 0.010699109, 0.009927008, 0.010424124, 0.009894588, 0.009997583, 0.010035022, 0.011073354, 0.010460043, 0.010443643, 0.009569586, 0.010098553, 0.010358876, 0.010985879, 0.01016818, 0.009923776, 0.010914818, 0.009860177, 0.009919901, 0.010052124, 0.009525997, 0.009180127, 0.01007399, 0.010329624, 0.0103133945, 0.0101354, 0.009780365, 0.009897176, 0.010224212, 0.010968948, 0.010344478, 0.010177235, 0.011221337, 0.01016452, 0.010242153, 0.0105836075, 0.01008245, 0.010687415, 0.010239058, 0.013221047, 0.010206383, 0.010397384, 0.0107541485, 0.010523973, 0.009848996, 0.0148592405, 0.010317642, 0.010704154, 0.010709185, 0.010467227, 0.010083497, 0.010549729, 0.010023161, 0.010493498, 0.010365015, 0.010127351, 0.010629182, 0.011432699, 0.010389248, 0.01004765, 0.010836415, 0.010479047, 0.010323259, 0.011320423, 0.010155016, 0.0101934085, 0.011985064, 0.0103264395, 0.0100309905, 0.010246371, 0.010214172, 0.011207358, 0.010182298]\n",
      "2022-02-22 15:00:11,275 : INFO : merging changes from 2000 documents into a model of 3204 documents\n",
      "2022-02-22 15:00:11,278 : INFO : topic #48 (0.009): 0.596*\"elimin\" + 0.165*\"gaussian\" + 0.109*\"semi\" + 0.013*\"automat\" + 0.000*\"-\" + 0.000*\"system\" + 0.000*\"algorithm\" + 0.000*\"eigenvector\" + 0.000*\"time\" + 0.000*\"storag\"\n",
      "2022-02-22 15:00:11,279 : INFO : topic #47 (0.010): 0.138*\"loop\" + 0.074*\"redund\" + 0.044*\"usag\" + 0.044*\"invari\" + 0.034*\",\" + 0.027*\"significantli\" + 0.026*\"comput\" + 0.025*\"method\" + 0.025*\"techniqu\" + 0.022*\"branch\"\n",
      "2022-02-22 15:00:11,279 : INFO : topic #93 (0.012): 0.096*\",\" + 0.091*\"system\" + 0.045*\"-\" + 0.030*\"comput\" + 0.029*\"user\" + 0.025*\"program\" + 0.021*\"/\" + 0.018*\"design\" + 0.014*\"interact\" + 0.011*\"gener\"\n",
      "2022-02-22 15:00:11,280 : INFO : topic #66 (0.013): 0.332*\"(\" + 0.315*\")\" + 0.185*\"algorithm\" + 0.033*\"function\" + 0.010*\"integr\" + 0.009*\"subset\" + 0.009*\"order\" + 0.008*\"ii\" + 0.008*\"connect\" + 0.007*\"bessel\"\n",
      "2022-02-22 15:00:11,280 : INFO : topic #72 (0.015): 0.227*\"algorithm\" + 0.218*\"(\" + 0.165*\"[\" + 0.108*\"])\" + 0.083*\")\" + 0.033*\"$\" + 0.025*\"))\" + 0.018*\"integr\" + 0.018*\"-\" + 0.014*\"a1\"\n",
      "2022-02-22 15:00:11,280 : INFO : topic diff=0.636857, rho=0.389191\n",
      "2022-02-22 15:00:11,725 : INFO : -6.636 per-word bound, 99.4 perplexity estimate based on a held-out corpus of 1204 documents with 49783 words\n",
      "2022-02-22 15:00:11,725 : INFO : PROGRESS: pass 4, at document #3204/3204\n",
      "2022-02-22 15:00:12,046 : INFO : optimized alpha [0.01044841, 0.010795338, 0.010946472, 0.010152686, 0.011231963, 0.010608873, 0.009746636, 0.010177364, 0.010903722, 0.010204696, 0.011362985, 0.010139326, 0.010947379, 0.010563697, 0.010355035, 0.010721175, 0.009879094, 0.011323686, 0.010917147, 0.010554555, 0.010704252, 0.011203594, 0.0111589385, 0.010938915, 0.010718956, 0.010889038, 0.011104943, 0.010299407, 0.010848102, 0.010007207, 0.010522949, 0.009928483, 0.010059113, 0.010181643, 0.011350174, 0.010604446, 0.010643073, 0.009611963, 0.0102545, 0.010471554, 0.011053367, 0.010292013, 0.009979561, 0.011203814, 0.009918366, 0.010000342, 0.010125221, 0.009539614, 0.009149176, 0.010143407, 0.010474669, 0.0104074925, 0.010224476, 0.009844512, 0.009997048, 0.010346745, 0.011101554, 0.010530605, 0.010290986, 0.011371484, 0.010256787, 0.010397719, 0.010757599, 0.010268704, 0.010956099, 0.010416927, 0.014069263, 0.010353327, 0.010520281, 0.010957747, 0.0107390825, 0.009908242, 0.015270336, 0.010330443, 0.01088793, 0.010858963, 0.010629757, 0.010153147, 0.010755122, 0.010146558, 0.010684487, 0.010456443, 0.010216965, 0.010829589, 0.011705686, 0.010565446, 0.010127334, 0.011038074, 0.010629825, 0.010388265, 0.011758318, 0.010266584, 0.010281896, 0.0122570135, 0.010382478, 0.010152809, 0.010373396, 0.010333186, 0.011487724, 0.01025567]\n",
      "2022-02-22 15:00:12,049 : INFO : merging changes from 1204 documents into a model of 3204 documents\n",
      "2022-02-22 15:00:12,054 : INFO : topic #48 (0.009): 0.591*\"elimin\" + 0.161*\"gaussian\" + 0.129*\"semi\" + 0.008*\"automat\" + 0.000*\"-\" + 0.000*\"system\" + 0.000*\"algorithm\" + 0.000*\"eigenvector\" + 0.000*\"time\" + 0.000*\"storag\"\n",
      "2022-02-22 15:00:12,054 : INFO : topic #47 (0.010): 0.165*\"loop\" + 0.080*\"redund\" + 0.057*\"invari\" + 0.053*\"usag\" + 0.036*\"significantli\" + 0.032*\",\" + 0.029*\"techniqu\" + 0.029*\"branch\" + 0.025*\"comput\" + 0.025*\"reduc\"\n",
      "2022-02-22 15:00:12,055 : INFO : topic #93 (0.012): 0.098*\",\" + 0.091*\"system\" + 0.045*\"-\" + 0.031*\"user\" + 0.030*\"comput\" + 0.023*\"/\" + 0.021*\"program\" + 0.021*\"design\" + 0.017*\"interact\" + 0.014*\"softwar\"\n",
      "2022-02-22 15:00:12,056 : INFO : topic #66 (0.014): 0.352*\"(\" + 0.326*\")\" + 0.178*\"algorithm\" + 0.031*\"function\" + 0.009*\"order\" + 0.009*\"integr\" + 0.007*\"connect\" + 0.007*\"argument\" + 0.007*\"subset\" + 0.006*\"-\"\n",
      "2022-02-22 15:00:12,056 : INFO : topic #72 (0.015): 0.227*\"algorithm\" + 0.214*\"(\" + 0.168*\"[\" + 0.097*\")\" + 0.072*\"])\" + 0.048*\"$\" + 0.039*\"))\" + 0.018*\"-\" + 0.016*\"integr\" + 0.014*\"a1\"\n",
      "2022-02-22 15:00:12,057 : INFO : topic diff=0.699682, rho=0.389191\n",
      "2022-02-22 15:00:12,062 : INFO : PROGRESS: pass 5, at document #2000/3204\n",
      "2022-02-22 15:00:12,437 : INFO : optimized alpha [0.010433743, 0.010861524, 0.011122562, 0.010224495, 0.011230245, 0.010622025, 0.009754372, 0.010208636, 0.010863853, 0.010187021, 0.011482722, 0.010200051, 0.011085298, 0.010555302, 0.010335682, 0.010717541, 0.009826068, 0.011276611, 0.011095737, 0.010767728, 0.01072168, 0.011158448, 0.011174058, 0.010920667, 0.01068464, 0.010907346, 0.011104901, 0.010290687, 0.010938318, 0.010021351, 0.010635956, 0.009928469, 0.010038446, 0.010153536, 0.011354574, 0.010699243, 0.010696959, 0.009575552, 0.010251726, 0.010485937, 0.011293245, 0.010336072, 0.010007886, 0.011251336, 0.0099517545, 0.009978476, 0.010144045, 0.009496692, 0.009129945, 0.010184375, 0.01052276, 0.010350089, 0.010304371, 0.009826836, 0.009943864, 0.010363498, 0.0113790035, 0.010549499, 0.010265353, 0.011457118, 0.010270896, 0.010410554, 0.01073506, 0.010271586, 0.011006181, 0.01045576, 0.015367242, 0.010336279, 0.010615828, 0.010914803, 0.010849326, 0.009904314, 0.015847748, 0.010498386, 0.010957358, 0.010927404, 0.010770659, 0.010179444, 0.0107903285, 0.010105907, 0.010668959, 0.010486335, 0.0101882685, 0.010800774, 0.011770652, 0.0105376365, 0.010151686, 0.011179807, 0.010734907, 0.010500242, 0.01192431, 0.010298771, 0.010257962, 0.012368715, 0.010572914, 0.010219544, 0.010460889, 0.010346424, 0.011546801, 0.010247221]\n",
      "2022-02-22 15:00:12,439 : INFO : merging changes from 2000 documents into a model of 3204 documents\n",
      "2022-02-22 15:00:12,443 : INFO : topic #48 (0.009): 0.609*\"elimin\" + 0.160*\"gaussian\" + 0.106*\"semi\" + 0.011*\"automat\" + 0.000*\"-\" + 0.000*\"system\" + 0.000*\"algorithm\" + 0.000*\"eigenvector\" + 0.000*\"time\" + 0.000*\"storag\"\n",
      "2022-02-22 15:00:12,443 : INFO : topic #47 (0.009): 0.145*\"loop\" + 0.081*\"redund\" + 0.056*\"usag\" + 0.047*\"invari\" + 0.035*\",\" + 0.030*\"techniqu\" + 0.029*\"significantli\" + 0.024*\"comput\" + 0.024*\"method\" + 0.024*\"branch\"\n",
      "2022-02-22 15:00:12,443 : INFO : topic #93 (0.012): 0.098*\",\" + 0.095*\"system\" + 0.047*\"-\" + 0.031*\"comput\" + 0.031*\"user\" + 0.023*\"program\" + 0.021*\"/\" + 0.019*\"design\" + 0.015*\"interact\" + 0.012*\"gener\"\n",
      "2022-02-22 15:00:12,444 : INFO : topic #66 (0.015): 0.352*\"(\" + 0.331*\")\" + 0.188*\"algorithm\" + 0.029*\"function\" + 0.011*\"integr\" + 0.008*\"order\" + 0.006*\"bessel\" + 0.006*\"ii\" + 0.006*\"-\" + 0.006*\"argument\"\n",
      "2022-02-22 15:00:12,444 : INFO : topic #72 (0.016): 0.221*\"algorithm\" + 0.216*\"(\" + 0.185*\"[\" + 0.119*\"])\" + 0.067*\")\" + 0.037*\"$\" + 0.028*\"))\" + 0.019*\"-\" + 0.015*\"integr\" + 0.015*\"a1\"\n",
      "2022-02-22 15:00:12,445 : INFO : topic diff=0.636986, rho=0.362690\n",
      "2022-02-22 15:00:12,877 : INFO : -6.594 per-word bound, 96.6 perplexity estimate based on a held-out corpus of 1204 documents with 49783 words\n",
      "2022-02-22 15:00:12,877 : INFO : PROGRESS: pass 5, at document #3204/3204\n",
      "2022-02-22 15:00:13,250 : INFO : optimized alpha [0.010603238, 0.011068111, 0.011297103, 0.010291738, 0.011504072, 0.01077056, 0.009819166, 0.010308169, 0.011079869, 0.010299046, 0.011757608, 0.0102704195, 0.011260499, 0.010663719, 0.010475871, 0.010862709, 0.009924286, 0.011619388, 0.011227049, 0.010955616, 0.011014948, 0.011384591, 0.011438449, 0.011150834, 0.010755688, 0.011125935, 0.01140675, 0.010402764, 0.011088293, 0.010111955, 0.010718554, 0.009964006, 0.010102771, 0.0103038065, 0.011619913, 0.01085768, 0.010904682, 0.009624829, 0.010392226, 0.010598292, 0.011361466, 0.010468136, 0.010075725, 0.011525574, 0.01001861, 0.010072429, 0.01022511, 0.009522358, 0.00910292, 0.010255562, 0.010671882, 0.010438786, 0.010393971, 0.009902378, 0.010031916, 0.01048176, 0.0115095265, 0.010740889, 0.01037862, 0.011601621, 0.010360566, 0.010569649, 0.010892314, 0.01048142, 0.011267457, 0.010629686, 0.016529635, 0.010480667, 0.010744119, 0.011116356, 0.011072755, 0.009963365, 0.016228301, 0.010521975, 0.011137132, 0.011074815, 0.010920302, 0.010238671, 0.010990654, 0.010215554, 0.010848688, 0.010559396, 0.010272737, 0.011006099, 0.012054404, 0.010706583, 0.010226513, 0.011370004, 0.010869829, 0.01057663, 0.0123898825, 0.010425187, 0.010341229, 0.012629873, 0.010624219, 0.010361871, 0.010592658, 0.010489538, 0.011837369, 0.010328872]\n",
      "2022-02-22 15:00:13,254 : INFO : merging changes from 1204 documents into a model of 3204 documents\n",
      "2022-02-22 15:00:13,259 : INFO : topic #48 (0.009): 0.601*\"elimin\" + 0.158*\"gaussian\" + 0.126*\"semi\" + 0.008*\"automat\" + 0.000*\"-\" + 0.000*\"system\" + 0.000*\"algorithm\" + 0.000*\"eigenvector\" + 0.000*\"time\" + 0.000*\"storag\"\n",
      "2022-02-22 15:00:13,260 : INFO : topic #47 (0.010): 0.165*\"loop\" + 0.082*\"redund\" + 0.066*\"usag\" + 0.060*\"invari\" + 0.039*\"significantli\" + 0.033*\"techniqu\" + 0.033*\",\" + 0.032*\"branch\" + 0.024*\"comput\" + 0.024*\"reduc\"\n",
      "2022-02-22 15:00:13,261 : INFO : topic #93 (0.013): 0.099*\",\" + 0.095*\"system\" + 0.046*\"-\" + 0.033*\"user\" + 0.031*\"comput\" + 0.023*\"/\" + 0.021*\"design\" + 0.020*\"program\" + 0.017*\"interact\" + 0.015*\"softwar\"\n",
      "2022-02-22 15:00:13,269 : INFO : topic #72 (0.016): 0.222*\"algorithm\" + 0.211*\"(\" + 0.187*\"[\" + 0.083*\"])\" + 0.077*\")\" + 0.052*\"$\" + 0.041*\"))\" + 0.020*\"-\" + 0.015*\"a1\" + 0.014*\"integr\"\n",
      "2022-02-22 15:00:13,287 : INFO : topic #66 (0.017): 0.368*\"(\" + 0.341*\")\" + 0.179*\"algorithm\" + 0.028*\"function\" + 0.009*\"integr\" + 0.008*\"order\" + 0.006*\"-\" + 0.006*\"argument\" + 0.005*\"bessel\" + 0.005*\"connect\"\n",
      "2022-02-22 15:00:13,288 : INFO : topic diff=0.659353, rho=0.362690\n",
      "2022-02-22 15:00:13,294 : INFO : PROGRESS: pass 6, at document #2000/3204\n",
      "2022-02-22 15:00:13,723 : INFO : optimized alpha [0.010598008, 0.011139872, 0.011479026, 0.010358131, 0.011518528, 0.010791791, 0.009843626, 0.01035545, 0.011041215, 0.010291279, 0.011881405, 0.010335082, 0.011401286, 0.010657809, 0.010462753, 0.01085912, 0.009885088, 0.011570104, 0.011407066, 0.01117188, 0.011033447, 0.011338856, 0.011447434, 0.011138196, 0.010722161, 0.0111498395, 0.011404774, 0.010407064, 0.0111737335, 0.0101323705, 0.010833459, 0.00996471, 0.01008574, 0.010280524, 0.011630444, 0.010957121, 0.010970222, 0.009593177, 0.010389414, 0.010613727, 0.011591099, 0.010522281, 0.010128713, 0.011579391, 0.01005721, 0.010059037, 0.010251851, 0.009488101, 0.009086311, 0.0103032775, 0.010726224, 0.010399867, 0.010469763, 0.009901518, 0.009984235, 0.010502895, 0.011788575, 0.010756259, 0.010359953, 0.011692585, 0.010381064, 0.0105921365, 0.010876335, 0.010492198, 0.011327107, 0.010674996, 0.017996905, 0.010464339, 0.010834802, 0.011080847, 0.011181279, 0.009967199, 0.016801765, 0.010688997, 0.011215954, 0.011145262, 0.011086475, 0.010270871, 0.011023269, 0.010177525, 0.010842716, 0.010587945, 0.010249626, 0.010987499, 0.0121313585, 0.010689075, 0.010248026, 0.01150506, 0.010969559, 0.01068485, 0.012559016, 0.010462574, 0.01032628, 0.01274428, 0.010811496, 0.010431965, 0.010677384, 0.010506974, 0.011898359, 0.010324823]\n",
      "2022-02-22 15:00:13,726 : INFO : merging changes from 2000 documents into a model of 3204 documents\n",
      "2022-02-22 15:00:13,729 : INFO : topic #48 (0.009): 0.615*\"elimin\" + 0.158*\"gaussian\" + 0.105*\"semi\" + 0.011*\"automat\" + 0.000*\"-\" + 0.000*\"system\" + 0.000*\"algorithm\" + 0.000*\"eigenvector\" + 0.000*\"time\" + 0.000*\"storag\"\n",
      "2022-02-22 15:00:13,730 : INFO : topic #47 (0.009): 0.148*\"loop\" + 0.083*\"redund\" + 0.070*\"usag\" + 0.053*\"invari\" + 0.034*\",\" + 0.033*\"techniqu\" + 0.032*\"significantli\" + 0.028*\"branch\" + 0.024*\"method\" + 0.023*\"comput\"\n",
      "2022-02-22 15:00:13,730 : INFO : topic #93 (0.013): 0.100*\",\" + 0.099*\"system\" + 0.048*\"-\" + 0.033*\"user\" + 0.032*\"comput\" + 0.021*\"/\" + 0.021*\"program\" + 0.019*\"design\" + 0.016*\"interact\" + 0.012*\"gener\"\n",
      "2022-02-22 15:00:13,731 : INFO : topic #72 (0.017): 0.218*\"algorithm\" + 0.214*\"(\" + 0.200*\"[\" + 0.127*\"])\" + 0.052*\")\" + 0.039*\"$\" + 0.030*\"))\" + 0.020*\"-\" + 0.015*\"a1\" + 0.014*\"integr\"\n",
      "2022-02-22 15:00:13,731 : INFO : topic #66 (0.018): 0.365*\"(\" + 0.343*\")\" + 0.186*\"algorithm\" + 0.027*\"function\" + 0.010*\"integr\" + 0.008*\"order\" + 0.006*\"-\" + 0.006*\"bessel\" + 0.005*\"ii\" + 0.005*\"argument\"\n",
      "2022-02-22 15:00:13,732 : INFO : topic diff=0.581778, rho=0.340958\n",
      "2022-02-22 15:00:14,165 : INFO : -6.566 per-word bound, 94.8 perplexity estimate based on a held-out corpus of 1204 documents with 49783 words\n",
      "2022-02-22 15:00:14,165 : INFO : PROGRESS: pass 6, at document #3204/3204\n",
      "2022-02-22 15:00:14,464 : INFO : optimized alpha [0.010762083, 0.011356142, 0.0116384, 0.010436338, 0.011793204, 0.010935658, 0.0099247545, 0.010467457, 0.01124653, 0.010388802, 0.012148382, 0.010407472, 0.011593375, 0.010748443, 0.010604735, 0.010996818, 0.009989786, 0.011901312, 0.011543887, 0.01137332, 0.011323836, 0.0115534775, 0.011706526, 0.011357434, 0.010790101, 0.011357966, 0.011680644, 0.010513459, 0.011331872, 0.010224068, 0.01091123, 0.010001816, 0.010149925, 0.010432048, 0.011883684, 0.011126486, 0.011202465, 0.00964596, 0.010534553, 0.010735542, 0.0116608385, 0.010647598, 0.010210417, 0.011848245, 0.010137769, 0.010148294, 0.01032874, 0.009516021, 0.009062516, 0.0103707835, 0.010880025, 0.010499269, 0.01056344, 0.009987608, 0.010073691, 0.010618096, 0.011918089, 0.010938372, 0.010476327, 0.011832584, 0.010474978, 0.010758434, 0.0110256225, 0.010698202, 0.01158637, 0.010840356, 0.019511579, 0.010610343, 0.010965664, 0.011272538, 0.0114042, 0.010037598, 0.017168147, 0.010743693, 0.011383611, 0.011294783, 0.01124421, 0.01033287, 0.01122021, 0.010284452, 0.011010369, 0.010651215, 0.010335798, 0.011182572, 0.012413213, 0.010855618, 0.010330656, 0.011692549, 0.011128449, 0.01075673, 0.0130302785, 0.010594296, 0.0104141515, 0.013004398, 0.0108528305, 0.010587914, 0.010808323, 0.010678731, 0.0121867135, 0.010414046]\n",
      "2022-02-22 15:00:14,466 : INFO : merging changes from 1204 documents into a model of 3204 documents\n",
      "2022-02-22 15:00:14,470 : INFO : topic #48 (0.009): 0.605*\"elimin\" + 0.157*\"gaussian\" + 0.124*\"semi\" + 0.008*\"automat\" + 0.000*\"-\" + 0.000*\"system\" + 0.000*\"algorithm\" + 0.000*\"eigenvector\" + 0.000*\"time\" + 0.000*\"storag\"\n",
      "2022-02-22 15:00:14,470 : INFO : topic #47 (0.010): 0.166*\"loop\" + 0.084*\"redund\" + 0.078*\"usag\" + 0.065*\"invari\" + 0.037*\"significantli\" + 0.036*\"techniqu\" + 0.034*\"branch\" + 0.033*\",\" + 0.025*\"reduc\" + 0.024*\"method\"\n",
      "2022-02-22 15:00:14,470 : INFO : topic #90 (0.013): 0.395*\"problem\" + 0.115*\"solut\" + 0.035*\"paper\" + 0.034*\"present\" + 0.025*\"assign\" + 0.021*\"compon\" + 0.020*\"techniqu\" + 0.019*\"formul\" + 0.018*\",\" + 0.018*\"linear\"\n",
      "2022-02-22 15:00:14,471 : INFO : topic #72 (0.017): 0.220*\"algorithm\" + 0.207*\"(\" + 0.205*\"[\" + 0.093*\"])\" + 0.055*\"$\" + 0.053*\")\" + 0.043*\"))\" + 0.021*\"-\" + 0.016*\"a1\" + 0.013*\"quadratur\"\n",
      "2022-02-22 15:00:14,471 : INFO : topic #66 (0.020): 0.376*\"(\" + 0.352*\")\" + 0.178*\"algorithm\" + 0.025*\"function\" + 0.009*\"integr\" + 0.008*\"order\" + 0.006*\"-\" + 0.005*\"argument\" + 0.005*\"bessel\" + 0.004*\"ii\"\n",
      "2022-02-22 15:00:14,471 : INFO : topic diff=0.588599, rho=0.340958\n",
      "2022-02-22 15:00:14,476 : INFO : PROGRESS: pass 7, at document #2000/3204\n",
      "2022-02-22 15:00:14,837 : INFO : optimized alpha [0.010763672, 0.011431519, 0.0118134795, 0.010508107, 0.011817149, 0.010953898, 0.009957893, 0.010514175, 0.011216301, 0.010381749, 0.012272697, 0.010476034, 0.011748926, 0.010741423, 0.010590306, 0.010998556, 0.009956112, 0.011857621, 0.011718923, 0.011593776, 0.011341776, 0.011501413, 0.01172142, 0.011342601, 0.010766282, 0.011376307, 0.011688461, 0.010527973, 0.011415162, 0.010258532, 0.011035466, 0.010003205, 0.01013112, 0.010411347, 0.011890511, 0.011232288, 0.011280921, 0.009621413, 0.01054018, 0.0107607385, 0.0118915215, 0.010702688, 0.010281075, 0.011900457, 0.010177938, 0.010134221, 0.010359421, 0.009484678, 0.00904806, 0.010418152, 0.010938629, 0.010474911, 0.010644433, 0.009991894, 0.010032231, 0.010629615, 0.012194442, 0.010959452, 0.010463756, 0.011929093, 0.01049629, 0.01079158, 0.011019262, 0.010723246, 0.011649808, 0.010883191, 0.02114612, 0.010597911, 0.011054069, 0.011239986, 0.011526381, 0.010048099, 0.017728562, 0.010919683, 0.011460451, 0.011374848, 0.011404197, 0.010368831, 0.011259725, 0.010250361, 0.0110131465, 0.0106856795, 0.010322704, 0.011162257, 0.0124979755, 0.010836774, 0.01035465, 0.011859958, 0.011220057, 0.010862055, 0.013215878, 0.010638319, 0.010408834, 0.013132405, 0.011032846, 0.010666603, 0.010889177, 0.010700027, 0.012241834, 0.010413833]\n",
      "2022-02-22 15:00:14,840 : INFO : merging changes from 2000 documents into a model of 3204 documents\n",
      "2022-02-22 15:00:14,843 : INFO : topic #48 (0.009): 0.617*\"elimin\" + 0.157*\"gaussian\" + 0.105*\"semi\" + 0.011*\"automat\" + 0.000*\"-\" + 0.000*\"system\" + 0.000*\"algorithm\" + 0.000*\"eigenvector\" + 0.000*\"time\" + 0.000*\"storag\"\n",
      "2022-02-22 15:00:14,843 : INFO : topic #47 (0.009): 0.150*\"loop\" + 0.085*\"redund\" + 0.081*\"usag\" + 0.059*\"invari\" + 0.035*\"techniqu\" + 0.034*\",\" + 0.033*\"branch\" + 0.032*\"significantli\" + 0.025*\"method\" + 0.024*\"reduc\"\n",
      "2022-02-22 15:00:14,843 : INFO : topic #90 (0.013): 0.395*\"problem\" + 0.117*\"solut\" + 0.035*\"present\" + 0.035*\"paper\" + 0.026*\"assign\" + 0.021*\"techniqu\" + 0.019*\"compon\" + 0.019*\"formul\" + 0.018*\"comput\" + 0.018*\",\"\n",
      "2022-02-22 15:00:14,844 : INFO : topic #72 (0.018): 0.217*\"algorithm\" + 0.212*\"[\" + 0.212*\"(\" + 0.133*\"])\" + 0.041*\"$\" + 0.036*\")\" + 0.031*\"))\" + 0.021*\"-\" + 0.016*\"a1\" + 0.013*\"integr\"\n",
      "2022-02-22 15:00:14,844 : INFO : topic #66 (0.021): 0.373*\"(\" + 0.351*\")\" + 0.183*\"algorithm\" + 0.024*\"function\" + 0.010*\"integr\" + 0.007*\"order\" + 0.007*\"-\" + 0.006*\"bessel\" + 0.005*\"argument\" + 0.005*\"ii\"\n",
      "2022-02-22 15:00:14,844 : INFO : topic diff=0.512665, rho=0.322715\n",
      "2022-02-22 15:00:15,268 : INFO : -6.540 per-word bound, 93.1 perplexity estimate based on a held-out corpus of 1204 documents with 49783 words\n",
      "2022-02-22 15:00:15,268 : INFO : PROGRESS: pass 7, at document #3204/3204\n",
      "2022-02-22 15:00:15,563 : INFO : optimized alpha [0.010929365, 0.011642476, 0.0119718965, 0.010588126, 0.012091064, 0.0110942945, 0.010040745, 0.010646435, 0.011406767, 0.010466423, 0.0125334235, 0.010547805, 0.011942485, 0.0108367205, 0.010728832, 0.0111300815, 0.010050831, 0.012186201, 0.011849261, 0.011787394, 0.011645951, 0.01171262, 0.011973689, 0.011540425, 0.010837385, 0.011578713, 0.011963362, 0.010640904, 0.011566297, 0.010354307, 0.0111211, 0.010047195, 0.010192722, 0.010558978, 0.01214639, 0.011409779, 0.011534978, 0.009677441, 0.010678946, 0.01087991, 0.011959785, 0.010842681, 0.010375668, 0.012149545, 0.0102630695, 0.010222241, 0.0104412185, 0.009514692, 0.0090269465, 0.010488068, 0.011088704, 0.010575637, 0.010739412, 0.010101162, 0.010125982, 0.0107396925, 0.01232037, 0.01113972, 0.0105692735, 0.012065828, 0.010597276, 0.010947867, 0.011173889, 0.010941162, 0.011896139, 0.011035524, 0.022859726, 0.010737431, 0.011184857, 0.011426413, 0.011750217, 0.010115515, 0.018111968, 0.010982677, 0.011614608, 0.011511547, 0.011570131, 0.010433614, 0.011454577, 0.010349682, 0.011185232, 0.010748997, 0.010413505, 0.011361115, 0.012769533, 0.010995949, 0.010436273, 0.012042755, 0.011384179, 0.01093908, 0.01370229, 0.0107697295, 0.010498394, 0.0133970985, 0.011077066, 0.0108532645, 0.011020052, 0.010884641, 0.012522947, 0.01051586]\n",
      "2022-02-22 15:00:15,566 : INFO : merging changes from 1204 documents into a model of 3204 documents\n",
      "2022-02-22 15:00:15,569 : INFO : topic #48 (0.009): 0.608*\"elimin\" + 0.156*\"gaussian\" + 0.122*\"semi\" + 0.008*\"automat\" + 0.000*\"-\" + 0.000*\"system\" + 0.000*\"algorithm\" + 0.000*\"eigenvector\" + 0.000*\"time\" + 0.000*\"storag\"\n",
      "2022-02-22 15:00:15,569 : INFO : topic #47 (0.010): 0.165*\"loop\" + 0.090*\"usag\" + 0.085*\"redund\" + 0.068*\"invari\" + 0.037*\"techniqu\" + 0.037*\"branch\" + 0.037*\"significantli\" + 0.033*\",\" + 0.026*\"reduc\" + 0.025*\"method\"\n",
      "2022-02-22 15:00:15,570 : INFO : topic #90 (0.014): 0.410*\"problem\" + 0.114*\"solut\" + 0.035*\"paper\" + 0.034*\"present\" + 0.024*\"assign\" + 0.021*\"compon\" + 0.021*\"techniqu\" + 0.019*\"formul\" + 0.018*\",\" + 0.018*\"discuss\"\n",
      "2022-02-22 15:00:15,570 : INFO : topic #72 (0.018): 0.222*\"algorithm\" + 0.218*\"[\" + 0.204*\"(\" + 0.099*\"])\" + 0.056*\"$\" + 0.044*\"))\" + 0.037*\")\" + 0.021*\"-\" + 0.017*\"a1\" + 0.014*\"quadratur\"\n",
      "2022-02-22 15:00:15,570 : INFO : topic #66 (0.023): 0.383*\"(\" + 0.359*\")\" + 0.175*\"algorithm\" + 0.023*\"function\" + 0.009*\"integr\" + 0.008*\"order\" + 0.007*\"-\" + 0.005*\"argument\" + 0.004*\"bessel\" + 0.004*\"ii\"\n",
      "2022-02-22 15:00:15,571 : INFO : topic diff=0.514511, rho=0.322715\n",
      "2022-02-22 15:00:15,575 : INFO : PROGRESS: pass 8, at document #2000/3204\n",
      "2022-02-22 15:00:15,927 : INFO : optimized alpha [0.010933864, 0.011721702, 0.012143019, 0.0106668705, 0.012116538, 0.011120116, 0.010084969, 0.010696006, 0.011380811, 0.010459981, 0.012666567, 0.010616929, 0.012101751, 0.010831907, 0.01070993, 0.011129942, 0.010019065, 0.0121457735, 0.012018373, 0.012012847, 0.011672365, 0.011667434, 0.011994201, 0.011527319, 0.010811897, 0.011600945, 0.011967665, 0.01065319, 0.011658719, 0.01039061, 0.011240747, 0.010055328, 0.010176971, 0.010542254, 0.012149765, 0.011525628, 0.011615284, 0.0096606575, 0.01068741, 0.010917472, 0.012179621, 0.010898744, 0.010448433, 0.012213826, 0.010309626, 0.010221647, 0.010472462, 0.009485786, 0.009014349, 0.010541713, 0.011149896, 0.010560903, 0.010835586, 0.010111527, 0.010085348, 0.010749035, 0.0125933215, 0.011159468, 0.010563943, 0.012158575, 0.01062764, 0.010987746, 0.01116586, 0.0109811695, 0.011959921, 0.011079717, 0.024661487, 0.010723733, 0.011269815, 0.01139649, 0.01186974, 0.01014315, 0.01866669, 0.011169624, 0.011691778, 0.011602656, 0.011747946, 0.010468303, 0.011497298, 0.010322252, 0.011197853, 0.010785667, 0.010404483, 0.011348072, 0.012873881, 0.0109759355, 0.010460987, 0.012215842, 0.011494738, 0.011043823, 0.013898752, 0.0108167315, 0.0105016595, 0.013534727, 0.0112544065, 0.010946968, 0.011102742, 0.010916251, 0.012601884, 0.010522295]\n",
      "2022-02-22 15:00:15,930 : INFO : merging changes from 2000 documents into a model of 3204 documents\n",
      "2022-02-22 15:00:15,933 : INFO : topic #48 (0.009): 0.618*\"elimin\" + 0.157*\"gaussian\" + 0.105*\"semi\" + 0.011*\"automat\" + 0.000*\"-\" + 0.000*\"system\" + 0.000*\"algorithm\" + 0.000*\"eigenvector\" + 0.000*\"time\" + 0.000*\"storag\"\n",
      "2022-02-22 15:00:15,933 : INFO : topic #47 (0.009): 0.151*\"loop\" + 0.090*\"usag\" + 0.086*\"redund\" + 0.062*\"invari\" + 0.036*\"techniqu\" + 0.035*\"branch\" + 0.034*\",\" + 0.031*\"significantli\" + 0.026*\"method\" + 0.025*\"reduc\"\n",
      "2022-02-22 15:00:15,933 : INFO : topic #90 (0.014): 0.411*\"problem\" + 0.115*\"solut\" + 0.035*\"present\" + 0.035*\"paper\" + 0.026*\"assign\" + 0.022*\"techniqu\" + 0.019*\"compon\" + 0.019*\"formul\" + 0.018*\"discuss\" + 0.018*\",\"\n",
      "2022-02-22 15:00:15,934 : INFO : topic #72 (0.019): 0.221*\"[\" + 0.220*\"algorithm\" + 0.209*\"(\" + 0.136*\"])\" + 0.043*\"$\" + 0.032*\"))\" + 0.025*\")\" + 0.021*\"-\" + 0.016*\"a1\" + 0.013*\"integr\"\n",
      "2022-02-22 15:00:15,934 : INFO : topic #66 (0.025): 0.379*\"(\" + 0.357*\")\" + 0.180*\"algorithm\" + 0.023*\"function\" + 0.010*\"integr\" + 0.007*\"order\" + 0.007*\"-\" + 0.005*\"bessel\" + 0.005*\"argument\" + 0.004*\"ii\"\n",
      "2022-02-22 15:00:15,935 : INFO : topic diff=0.446402, rho=0.307119\n",
      "2022-02-22 15:00:16,352 : INFO : -6.520 per-word bound, 91.8 perplexity estimate based on a held-out corpus of 1204 documents with 49783 words\n",
      "2022-02-22 15:00:16,353 : INFO : PROGRESS: pass 8, at document #3204/3204\n",
      "2022-02-22 15:00:16,650 : INFO : optimized alpha [0.011104453, 0.01193133, 0.012301341, 0.010751655, 0.012394025, 0.011249174, 0.010177383, 0.010820456, 0.011555165, 0.010527943, 0.012925736, 0.010696418, 0.012288207, 0.010906722, 0.010845823, 0.011256256, 0.010115257, 0.012466984, 0.012146181, 0.012208976, 0.011982525, 0.011885669, 0.012237986, 0.011720726, 0.010891664, 0.011792881, 0.012245707, 0.010764359, 0.011812968, 0.010482609, 0.0113255195, 0.010097814, 0.010236251, 0.010694929, 0.0124030225, 0.011693761, 0.011885502, 0.009714736, 0.010826251, 0.01103751, 0.012249973, 0.0110390065, 0.0105501665, 0.0124638695, 0.010396615, 0.010316766, 0.010550974, 0.00951769, 0.008995507, 0.010619531, 0.011305558, 0.010663212, 0.010923773, 0.01020868, 0.01017555, 0.0108575, 0.012716441, 0.011338769, 0.010678835, 0.012292612, 0.010724529, 0.011140856, 0.011326167, 0.011208758, 0.012204063, 0.011226133, 0.026536953, 0.010866138, 0.011395419, 0.011584538, 0.012107542, 0.010210515, 0.019035121, 0.011240533, 0.0118458215, 0.01174288, 0.011919614, 0.010527776, 0.01168801, 0.010420293, 0.011366322, 0.010849289, 0.010491783, 0.011548356, 0.013129985, 0.011126071, 0.010536688, 0.012404372, 0.011652731, 0.011123016, 0.014399002, 0.010945717, 0.010584977, 0.013797781, 0.01130165, 0.011135707, 0.011236843, 0.011113713, 0.01288052, 0.0106202485]\n",
      "2022-02-22 15:00:16,653 : INFO : merging changes from 1204 documents into a model of 3204 documents\n",
      "2022-02-22 15:00:16,656 : INFO : topic #48 (0.009): 0.609*\"elimin\" + 0.156*\"gaussian\" + 0.122*\"semi\" + 0.008*\"automat\" + 0.000*\"-\" + 0.000*\"system\" + 0.000*\"algorithm\" + 0.000*\"eigenvector\" + 0.000*\"time\" + 0.000*\"storag\"\n",
      "2022-02-22 15:00:16,657 : INFO : topic #47 (0.010): 0.165*\"loop\" + 0.096*\"usag\" + 0.087*\"redund\" + 0.069*\"invari\" + 0.038*\"branch\" + 0.037*\"techniqu\" + 0.036*\"significantli\" + 0.032*\",\" + 0.025*\"method\" + 0.025*\"develop\"\n",
      "2022-02-22 15:00:16,657 : INFO : topic #90 (0.014): 0.422*\"problem\" + 0.113*\"solut\" + 0.035*\"paper\" + 0.034*\"present\" + 0.024*\"assign\" + 0.021*\"compon\" + 0.021*\"techniqu\" + 0.019*\"formul\" + 0.019*\"discuss\" + 0.018*\",\"\n",
      "2022-02-22 15:00:16,657 : INFO : topic #72 (0.019): 0.227*\"[\" + 0.223*\"algorithm\" + 0.202*\"(\" + 0.104*\"])\" + 0.057*\"$\" + 0.045*\"))\" + 0.024*\")\" + 0.021*\"-\" + 0.017*\"a1\" + 0.014*\"quadratur\"\n",
      "2022-02-22 15:00:16,658 : INFO : topic #66 (0.027): 0.387*\"(\" + 0.363*\")\" + 0.173*\"algorithm\" + 0.021*\"function\" + 0.009*\"integr\" + 0.007*\"order\" + 0.007*\"-\" + 0.004*\"argument\" + 0.004*\"bessel\" + 0.003*\"ii\"\n",
      "2022-02-22 15:00:16,658 : INFO : topic diff=0.448631, rho=0.307119\n",
      "2022-02-22 15:00:16,663 : INFO : PROGRESS: pass 9, at document #2000/3204\n",
      "2022-02-22 15:00:17,010 : INFO : optimized alpha [0.011108345, 0.012005767, 0.0124674365, 0.01083083, 0.0124209495, 0.011278856, 0.010224577, 0.010861718, 0.011526366, 0.01052692, 0.0130524635, 0.010763153, 0.012446395, 0.010907387, 0.010822771, 0.011259431, 0.010089533, 0.012433291, 0.01230846, 0.012441929, 0.0120100025, 0.01184483, 0.012256772, 0.011707467, 0.010867784, 0.011808424, 0.012253829, 0.010785731, 0.011902075, 0.010525376, 0.011444626, 0.010113636, 0.01022774, 0.010680143, 0.012410528, 0.011810926, 0.011967653, 0.009703484, 0.010835803, 0.01107851, 0.0124637615, 0.011101039, 0.010640688, 0.012523212, 0.0104461135, 0.010324056, 0.010587383, 0.0094908485, 0.0089844875, 0.010672889, 0.011362662, 0.010658833, 0.011026472, 0.0102188075, 0.010138536, 0.010863344, 0.0129756555, 0.011362307, 0.010667485, 0.012383865, 0.010758551, 0.011182302, 0.011328126, 0.011249956, 0.012268397, 0.011273462, 0.028477391, 0.01086244, 0.011482432, 0.0115535455, 0.012233901, 0.010240406, 0.019573493, 0.011430389, 0.011927064, 0.0118360985, 0.012087523, 0.010562996, 0.0117338635, 0.010397402, 0.011371367, 0.01088161, 0.010483476, 0.011538436, 0.013224666, 0.011109907, 0.010562212, 0.012578146, 0.01176306, 0.011235755, 0.014590087, 0.010990856, 0.010589972, 0.013941033, 0.011476959, 0.011247313, 0.011319846, 0.011159927, 0.01295214, 0.010624928]\n",
      "2022-02-22 15:00:17,012 : INFO : merging changes from 2000 documents into a model of 3204 documents\n",
      "2022-02-22 15:00:17,016 : INFO : topic #48 (0.009): 0.618*\"elimin\" + 0.156*\"gaussian\" + 0.106*\"semi\" + 0.011*\"automat\" + 0.000*\"-\" + 0.000*\"system\" + 0.000*\"algorithm\" + 0.000*\"eigenvector\" + 0.000*\"time\" + 0.000*\"storag\"\n",
      "2022-02-22 15:00:17,016 : INFO : topic #47 (0.009): 0.152*\"loop\" + 0.096*\"usag\" + 0.088*\"redund\" + 0.063*\"invari\" + 0.036*\"techniqu\" + 0.034*\"branch\" + 0.033*\",\" + 0.031*\"significantli\" + 0.029*\"regist\" + 0.027*\"method\"\n",
      "2022-02-22 15:00:17,016 : INFO : topic #90 (0.015): 0.423*\"problem\" + 0.113*\"solut\" + 0.035*\"present\" + 0.035*\"paper\" + 0.024*\"assign\" + 0.022*\"techniqu\" + 0.020*\"formul\" + 0.019*\"discuss\" + 0.019*\"compon\" + 0.018*\",\"\n",
      "2022-02-22 15:00:17,017 : INFO : topic #72 (0.020): 0.228*\"[\" + 0.221*\"algorithm\" + 0.209*\"(\" + 0.139*\"])\" + 0.044*\"$\" + 0.033*\"))\" + 0.021*\"-\" + 0.017*\")\" + 0.017*\"a1\" + 0.013*\"integr\"\n",
      "2022-02-22 15:00:17,017 : INFO : topic #66 (0.028): 0.383*\"(\" + 0.361*\")\" + 0.178*\"algorithm\" + 0.021*\"function\" + 0.010*\"integr\" + 0.007*\"-\" + 0.007*\"order\" + 0.005*\"bessel\" + 0.004*\"argument\" + 0.004*\"ii\"\n",
      "2022-02-22 15:00:17,018 : INFO : topic diff=0.388474, rho=0.293585\n",
      "2022-02-22 15:00:17,428 : INFO : -6.502 per-word bound, 90.6 perplexity estimate based on a held-out corpus of 1204 documents with 49783 words\n",
      "2022-02-22 15:00:17,429 : INFO : PROGRESS: pass 9, at document #3204/3204\n",
      "2022-02-22 15:00:17,712 : INFO : optimized alpha [0.011281386, 0.012206151, 0.012629355, 0.010914948, 0.012709067, 0.011408921, 0.010326227, 0.010989755, 0.011694671, 0.010592626, 0.013307333, 0.010842282, 0.012629834, 0.01098498, 0.010956467, 0.011384061, 0.01018238, 0.012745463, 0.012434251, 0.0126593765, 0.012318299, 0.012067271, 0.012496111, 0.011891579, 0.010947635, 0.011996842, 0.012517994, 0.01089826, 0.012053889, 0.010621782, 0.011528727, 0.010154895, 0.010280137, 0.010830276, 0.012662091, 0.011973652, 0.012263015, 0.009767778, 0.01097251, 0.011199725, 0.012533319, 0.011244589, 0.010744056, 0.012762846, 0.010537622, 0.0104132285, 0.010668193, 0.009524494, 0.008967594, 0.010753023, 0.011515832, 0.010775991, 0.011116678, 0.010310015, 0.010223099, 0.010962633, 0.01309649, 0.011549592, 0.010783521, 0.012503835, 0.01086253, 0.011324645, 0.011496864, 0.011465341, 0.012508251, 0.011420266, 0.030498164, 0.011002539, 0.0116035165, 0.011740858, 0.012471296, 0.010307893, 0.01993288, 0.011511813, 0.012075707, 0.01197433, 0.012256534, 0.010622882, 0.011921314, 0.010491972, 0.011534179, 0.010942997, 0.01057032, 0.011735073, 0.013489563, 0.011249342, 0.010637821, 0.012760612, 0.011921401, 0.011306153, 0.015102031, 0.011117955, 0.010673034, 0.014199805, 0.011515974, 0.011455262, 0.011454725, 0.0113704875, 0.013229542, 0.010724603]\n",
      "2022-02-22 15:00:17,715 : INFO : merging changes from 1204 documents into a model of 3204 documents\n",
      "2022-02-22 15:00:17,718 : INFO : topic #48 (0.009): 0.609*\"elimin\" + 0.156*\"gaussian\" + 0.121*\"semi\" + 0.008*\"automat\" + 0.000*\"-\" + 0.000*\"system\" + 0.000*\"algorithm\" + 0.000*\"eigenvector\" + 0.000*\"time\" + 0.000*\"storag\"\n",
      "2022-02-22 15:00:17,718 : INFO : topic #47 (0.010): 0.164*\"loop\" + 0.100*\"usag\" + 0.089*\"redund\" + 0.070*\"invari\" + 0.038*\"techniqu\" + 0.037*\"branch\" + 0.036*\"significantli\" + 0.031*\",\" + 0.028*\"regist\" + 0.026*\"develop\"\n",
      "2022-02-22 15:00:17,719 : INFO : topic #90 (0.015): 0.432*\"problem\" + 0.112*\"solut\" + 0.036*\"paper\" + 0.035*\"present\" + 0.024*\"assign\" + 0.021*\"techniqu\" + 0.021*\"compon\" + 0.020*\"formul\" + 0.020*\"discuss\" + 0.018*\",\"\n",
      "2022-02-22 15:00:17,719 : INFO : topic #72 (0.020): 0.234*\"[\" + 0.226*\"algorithm\" + 0.201*\"(\" + 0.107*\"])\" + 0.058*\"$\" + 0.045*\"))\" + 0.021*\"-\" + 0.017*\"a1\" + 0.016*\")\" + 0.014*\"quadratur\"\n",
      "2022-02-22 15:00:17,719 : INFO : topic #66 (0.030): 0.391*\"(\" + 0.366*\")\" + 0.171*\"algorithm\" + 0.020*\"function\" + 0.009*\"integr\" + 0.008*\"-\" + 0.007*\"order\" + 0.004*\"argument\" + 0.004*\"bessel\" + 0.003*\"ii\"\n",
      "2022-02-22 15:00:17,720 : INFO : topic diff=0.392629, rho=0.293585\n",
      "2022-02-22 15:00:17,724 : INFO : PROGRESS: pass 10, at document #2000/3204\n",
      "2022-02-22 15:00:18,071 : INFO : optimized alpha [0.011286309, 0.012279711, 0.012798215, 0.010997891, 0.01274286, 0.011439122, 0.010382115, 0.011027959, 0.011669935, 0.010590554, 0.013443268, 0.01090997, 0.012782014, 0.010982897, 0.010937305, 0.011385549, 0.010160797, 0.012710991, 0.012586944, 0.0128952265, 0.012348656, 0.012028697, 0.012520531, 0.011883365, 0.010933092, 0.012013042, 0.012537094, 0.010918885, 0.012148688, 0.010670719, 0.011647673, 0.01017061, 0.010276849, 0.010820364, 0.012675357, 0.0120908255, 0.012352501, 0.009765655, 0.0109847, 0.011244108, 0.012745291, 0.011309306, 0.010830399, 0.012826967, 0.010584051, 0.010426285, 0.010709569, 0.009499448, 0.00895797, 0.010807831, 0.011575753, 0.010778006, 0.011217956, 0.010315481, 0.01018647, 0.01096844, 0.013348406, 0.0115816435, 0.010778753, 0.012583315, 0.0108954115, 0.011369369, 0.0115081305, 0.011509454, 0.012575133, 0.011469137, 0.03259815, 0.011005076, 0.011691179, 0.011715415, 0.012599258, 0.0103384545, 0.020464107, 0.011708483, 0.012154225, 0.012076656, 0.012427212, 0.010657143, 0.011971971, 0.010474618, 0.011548545, 0.0109745115, 0.010561141, 0.011726529, 0.013588509, 0.011233661, 0.010664197, 0.012937283, 0.012038418, 0.011415524, 0.015290116, 0.011159927, 0.010685628, 0.014336746, 0.011686577, 0.011583204, 0.011533455, 0.011421208, 0.0133018615, 0.010730734]\n",
      "2022-02-22 15:00:18,074 : INFO : merging changes from 2000 documents into a model of 3204 documents\n",
      "2022-02-22 15:00:18,077 : INFO : topic #48 (0.009): 0.618*\"elimin\" + 0.156*\"gaussian\" + 0.106*\"semi\" + 0.011*\"automat\" + 0.000*\"-\" + 0.000*\"system\" + 0.000*\"algorithm\" + 0.000*\"eigenvector\" + 0.000*\"time\" + 0.000*\"storag\"\n",
      "2022-02-22 15:00:18,077 : INFO : topic #47 (0.009): 0.152*\"loop\" + 0.099*\"usag\" + 0.090*\"redund\" + 0.064*\"invari\" + 0.037*\"techniqu\" + 0.034*\"branch\" + 0.033*\",\" + 0.032*\"regist\" + 0.031*\"significantli\" + 0.027*\"method\"\n",
      "2022-02-22 15:00:18,078 : INFO : topic #90 (0.015): 0.434*\"problem\" + 0.113*\"solut\" + 0.036*\"present\" + 0.035*\"paper\" + 0.024*\"assign\" + 0.022*\"techniqu\" + 0.020*\"discuss\" + 0.020*\"formul\" + 0.018*\"compon\" + 0.018*\",\"\n",
      "2022-02-22 15:00:18,078 : INFO : topic #72 (0.020): 0.234*\"[\" + 0.223*\"algorithm\" + 0.208*\"(\" + 0.141*\"])\" + 0.045*\"$\" + 0.034*\"))\" + 0.021*\"-\" + 0.017*\"a1\" + 0.012*\"integr\" + 0.012*\"quadratur\"\n",
      "2022-02-22 15:00:18,079 : INFO : topic #66 (0.033): 0.387*\"(\" + 0.363*\")\" + 0.176*\"algorithm\" + 0.020*\"function\" + 0.010*\"integr\" + 0.008*\"-\" + 0.007*\"order\" + 0.005*\"bessel\" + 0.004*\"argument\" + 0.004*\"ii\"\n",
      "2022-02-22 15:00:18,079 : INFO : topic diff=0.340120, rho=0.281696\n",
      "2022-02-22 15:00:18,487 : INFO : -6.488 per-word bound, 89.8 perplexity estimate based on a held-out corpus of 1204 documents with 49783 words\n",
      "2022-02-22 15:00:18,487 : INFO : PROGRESS: pass 10, at document #3204/3204\n",
      "2022-02-22 15:00:18,809 : INFO : optimized alpha [0.011462224, 0.012486197, 0.012963964, 0.011081672, 0.013027016, 0.011573111, 0.010490226, 0.011149323, 0.011830299, 0.010654329, 0.013698195, 0.010981289, 0.012971842, 0.011055553, 0.011066823, 0.0115035, 0.010250717, 0.013027182, 0.012702493, 0.013107249, 0.012655946, 0.012252891, 0.012750411, 0.01207042, 0.0110130375, 0.012198634, 0.012797514, 0.0110304365, 0.012301397, 0.010766495, 0.011728656, 0.010220314, 0.0103229815, 0.01097611, 0.012917177, 0.012242979, 0.012656589, 0.009830333, 0.011117108, 0.011366797, 0.012820399, 0.011456419, 0.0109355785, 0.013048065, 0.01068246, 0.010512615, 0.010795295, 0.009534709, 0.008942777, 0.010887825, 0.011735062, 0.010909432, 0.011310252, 0.010401339, 0.010275631, 0.011069589, 0.013461242, 0.011771749, 0.010888564, 0.012705103, 0.011006285, 0.011507379, 0.011685587, 0.011738225, 0.012805601, 0.011614113, 0.034756966, 0.011140801, 0.011813792, 0.011902631, 0.01284548, 0.010406217, 0.020810377, 0.011802882, 0.012295325, 0.012233601, 0.012597005, 0.0107177, 0.012162432, 0.01056618, 0.011709115, 0.011033949, 0.010647737, 0.011920193, 0.013843364, 0.011368703, 0.010742451, 0.013120374, 0.012191972, 0.01148862, 0.015807543, 0.011288211, 0.010763564, 0.014602392, 0.011720734, 0.011797049, 0.011664097, 0.011636957, 0.013569233, 0.01083221]\n",
      "2022-02-22 15:00:18,813 : INFO : merging changes from 1204 documents into a model of 3204 documents\n",
      "2022-02-22 15:00:18,818 : INFO : topic #48 (0.009): 0.610*\"elimin\" + 0.156*\"gaussian\" + 0.120*\"semi\" + 0.008*\"automat\" + 0.000*\"-\" + 0.000*\"system\" + 0.000*\"algorithm\" + 0.000*\"eigenvector\" + 0.000*\"time\" + 0.000*\"storag\"\n",
      "2022-02-22 15:00:18,820 : INFO : topic #47 (0.010): 0.163*\"loop\" + 0.104*\"usag\" + 0.089*\"redund\" + 0.070*\"invari\" + 0.038*\"techniqu\" + 0.037*\"branch\" + 0.037*\"significantli\" + 0.031*\",\" + 0.030*\"regist\" + 0.027*\"develop\"\n",
      "2022-02-22 15:00:18,820 : INFO : topic #90 (0.016): 0.442*\"problem\" + 0.110*\"solut\" + 0.035*\"paper\" + 0.035*\"present\" + 0.023*\"assign\" + 0.021*\"techniqu\" + 0.020*\"discuss\" + 0.020*\"formul\" + 0.020*\"compon\" + 0.018*\",\"\n",
      "2022-02-22 15:00:18,821 : INFO : topic #72 (0.021): 0.239*\"[\" + 0.227*\"algorithm\" + 0.200*\"(\" + 0.110*\"])\" + 0.058*\"$\" + 0.046*\"))\" + 0.021*\"-\" + 0.017*\"a1\" + 0.014*\"quadratur\" + 0.012*\"integr\"\n",
      "2022-02-22 15:00:18,825 : INFO : topic #66 (0.035): 0.394*\"(\" + 0.368*\")\" + 0.170*\"algorithm\" + 0.019*\"function\" + 0.009*\"integr\" + 0.008*\"-\" + 0.007*\"order\" + 0.004*\"argument\" + 0.004*\"bessel\" + 0.003*\"ii\"\n",
      "2022-02-22 15:00:18,848 : INFO : topic diff=0.346128, rho=0.281696\n",
      "2022-02-22 15:00:18,853 : INFO : PROGRESS: pass 11, at document #2000/3204\n",
      "2022-02-22 15:00:19,212 : INFO : optimized alpha [0.011468101, 0.012560761, 0.013127105, 0.011165352, 0.013062254, 0.01160225, 0.010540204, 0.011184797, 0.01180618, 0.010655658, 0.013828687, 0.011047109, 0.013125459, 0.011053951, 0.011052821, 0.011509695, 0.010230157, 0.013002526, 0.012853071, 0.013348153, 0.012687563, 0.012214719, 0.012769755, 0.012066908, 0.01099939, 0.012223745, 0.012815087, 0.011051913, 0.012403568, 0.010822815, 0.011849377, 0.010238695, 0.010324584, 0.0109647075, 0.012930801, 0.012362115, 0.012756872, 0.009832574, 0.011131828, 0.011409802, 0.013031214, 0.011523911, 0.011028554, 0.01311868, 0.010731904, 0.010528293, 0.0108369505, 0.009512546, 0.008934367, 0.010942592, 0.011796189, 0.010908297, 0.011411797, 0.010406791, 0.010244831, 0.011075317, 0.013704672, 0.011807184, 0.010881101, 0.012790945, 0.011044106, 0.011545911, 0.011705744, 0.011783683, 0.012869976, 0.011659745, 0.0369838, 0.011146172, 0.011902224, 0.011875878, 0.012975459, 0.0104374755, 0.021337789, 0.012000231, 0.012373166, 0.012336525, 0.012763968, 0.010751126, 0.012212911, 0.010553962, 0.011716368, 0.0110708205, 0.010642068, 0.011919533, 0.013942924, 0.01135035, 0.010772592, 0.013294861, 0.012304222, 0.011596718, 0.01599723, 0.0113303345, 0.010778904, 0.014741639, 0.011887171, 0.011930024, 0.011742075, 0.01169675, 0.013642496, 0.0108367605]\n",
      "2022-02-22 15:00:19,214 : INFO : merging changes from 2000 documents into a model of 3204 documents\n",
      "2022-02-22 15:00:19,218 : INFO : topic #48 (0.009): 0.619*\"elimin\" + 0.156*\"gaussian\" + 0.106*\"semi\" + 0.011*\"automat\" + 0.000*\"-\" + 0.000*\"system\" + 0.000*\"algorithm\" + 0.000*\"eigenvector\" + 0.000*\"time\" + 0.000*\"storag\"\n",
      "2022-02-22 15:00:19,218 : INFO : topic #47 (0.010): 0.152*\"loop\" + 0.102*\"usag\" + 0.090*\"redund\" + 0.064*\"invari\" + 0.038*\"techniqu\" + 0.035*\"branch\" + 0.035*\"regist\" + 0.032*\"significantli\" + 0.032*\",\" + 0.028*\"method\"\n",
      "2022-02-22 15:00:19,219 : INFO : topic #90 (0.016): 0.445*\"problem\" + 0.111*\"solut\" + 0.036*\"present\" + 0.035*\"paper\" + 0.023*\"assign\" + 0.022*\"techniqu\" + 0.020*\"discuss\" + 0.020*\"formul\" + 0.018*\",\" + 0.017*\"compon\"\n",
      "2022-02-22 15:00:19,219 : INFO : topic #72 (0.021): 0.237*\"[\" + 0.225*\"algorithm\" + 0.207*\"(\" + 0.141*\"])\" + 0.045*\"$\" + 0.034*\"))\" + 0.022*\"-\" + 0.017*\"a1\" + 0.012*\"integr\" + 0.012*\"quadratur\"\n",
      "2022-02-22 15:00:19,220 : INFO : topic #66 (0.037): 0.390*\"(\" + 0.365*\")\" + 0.175*\"algorithm\" + 0.019*\"function\" + 0.010*\"integr\" + 0.008*\"-\" + 0.007*\"order\" + 0.005*\"bessel\" + 0.004*\"argument\" + 0.004*\"ii\"\n",
      "2022-02-22 15:00:19,220 : INFO : topic diff=0.301124, rho=0.271143\n",
      "2022-02-22 15:00:19,631 : INFO : -6.476 per-word bound, 89.0 perplexity estimate based on a held-out corpus of 1204 documents with 49783 words\n",
      "2022-02-22 15:00:19,631 : INFO : PROGRESS: pass 11, at document #3204/3204\n",
      "2022-02-22 15:00:19,918 : INFO : optimized alpha [0.011641809, 0.012765103, 0.013288149, 0.011243963, 0.013349241, 0.011737746, 0.010659459, 0.0113026695, 0.011956571, 0.010717694, 0.0140684545, 0.011116171, 0.013313227, 0.011124614, 0.011183592, 0.011624218, 0.010317503, 0.013320588, 0.012961846, 0.01357641, 0.012991843, 0.012432975, 0.012993851, 0.012246143, 0.01108223, 0.0124043, 0.013075305, 0.011167774, 0.012566018, 0.010923093, 0.011932995, 0.010287095, 0.010376632, 0.011123677, 0.013163623, 0.012509995, 0.013064638, 0.009902238, 0.011268058, 0.011531537, 0.013108919, 0.011661864, 0.011135593, 0.013337261, 0.010834732, 0.0106168715, 0.010920199, 0.009549318, 0.008920652, 0.011017673, 0.011948539, 0.011038543, 0.0115011465, 0.01049483, 0.010333847, 0.011168548, 0.013819353, 0.0119924145, 0.010982768, 0.012903189, 0.011159197, 0.011693091, 0.011897166, 0.012007318, 0.013103393, 0.011795364, 0.039242726, 0.01127541, 0.012029384, 0.012052559, 0.013219539, 0.010508005, 0.021682024, 0.012102053, 0.012507353, 0.012489122, 0.012926373, 0.010807485, 0.012395602, 0.010652379, 0.011869853, 0.011133548, 0.010726219, 0.012118998, 0.01419504, 0.0114814965, 0.010848541, 0.013472945, 0.012453444, 0.011675199, 0.01653562, 0.011465223, 0.0108619025, 0.014997954, 0.011919482, 0.012147396, 0.011868933, 0.011902384, 0.013903824, 0.010932784]\n",
      "2022-02-22 15:00:19,921 : INFO : merging changes from 1204 documents into a model of 3204 documents\n",
      "2022-02-22 15:00:19,924 : INFO : topic #48 (0.009): 0.610*\"elimin\" + 0.156*\"gaussian\" + 0.120*\"semi\" + 0.008*\"automat\" + 0.000*\"-\" + 0.000*\"system\" + 0.000*\"algorithm\" + 0.000*\"eigenvector\" + 0.000*\"time\" + 0.000*\"storag\"\n",
      "2022-02-22 15:00:19,924 : INFO : topic #47 (0.010): 0.162*\"loop\" + 0.107*\"usag\" + 0.089*\"redund\" + 0.069*\"invari\" + 0.038*\"techniqu\" + 0.037*\"branch\" + 0.037*\"significantli\" + 0.032*\"regist\" + 0.030*\",\" + 0.028*\"develop\"\n",
      "2022-02-22 15:00:19,925 : INFO : topic #90 (0.017): 0.450*\"problem\" + 0.110*\"solut\" + 0.036*\"present\" + 0.035*\"paper\" + 0.023*\"assign\" + 0.021*\"techniqu\" + 0.021*\"discuss\" + 0.020*\"formul\" + 0.019*\"compon\" + 0.018*\",\"\n",
      "2022-02-22 15:00:19,925 : INFO : topic #72 (0.022): 0.242*\"[\" + 0.229*\"algorithm\" + 0.200*\"(\" + 0.111*\"])\" + 0.058*\"$\" + 0.046*\"))\" + 0.021*\"-\" + 0.018*\"a1\" + 0.014*\"quadratur\" + 0.012*\"integr\"\n",
      "2022-02-22 15:00:19,925 : INFO : topic #66 (0.039): 0.396*\"(\" + 0.368*\")\" + 0.169*\"algorithm\" + 0.018*\"function\" + 0.009*\"-\" + 0.009*\"integr\" + 0.007*\"order\" + 0.004*\"argument\" + 0.004*\"bessel\" + 0.003*\"incomplet\"\n",
      "2022-02-22 15:00:19,926 : INFO : topic diff=0.308263, rho=0.271143\n",
      "2022-02-22 15:00:19,930 : INFO : PROGRESS: pass 12, at document #2000/3204\n",
      "2022-02-22 15:00:20,264 : INFO : optimized alpha [0.011651699, 0.01283911, 0.013442591, 0.0113255745, 0.013387678, 0.0117674405, 0.010709445, 0.011338557, 0.011937785, 0.010717983, 0.0142068295, 0.011184709, 0.013461782, 0.011127817, 0.011169992, 0.011630328, 0.010299204, 0.0133000165, 0.013108967, 0.0138211865, 0.01303326, 0.012401658, 0.013027359, 0.012247127, 0.0110708885, 0.012429966, 0.013101754, 0.011188696, 0.012662285, 0.010979345, 0.012052476, 0.010305272, 0.010378636, 0.011113748, 0.013172657, 0.012626243, 0.013168945, 0.00990988, 0.011286665, 0.011574873, 0.013320716, 0.011727571, 0.01121901, 0.013401999, 0.010884257, 0.010640635, 0.010962293, 0.00953098, 0.008913308, 0.011072485, 0.0120125795, 0.01104321, 0.011609451, 0.010508591, 0.010308422, 0.01117429, 0.014054873, 0.012023365, 0.0109684, 0.012983409, 0.011197394, 0.011731901, 0.01191942, 0.012047852, 0.013168929, 0.011844293, 0.04160785, 0.011283511, 0.012110764, 0.0120262215, 0.013353469, 0.010537163, 0.022203315, 0.012303824, 0.012589581, 0.012599472, 0.0130849965, 0.010843052, 0.0124476515, 0.010639304, 0.011879824, 0.01117254, 0.010719567, 0.012119358, 0.014295342, 0.011465172, 0.010879407, 0.013651081, 0.012566266, 0.011789914, 0.016718652, 0.011509088, 0.010874162, 0.015141708, 0.012077538, 0.012307783, 0.011946357, 0.011968013, 0.013983597, 0.010940193]\n",
      "2022-02-22 15:00:20,267 : INFO : merging changes from 2000 documents into a model of 3204 documents\n",
      "2022-02-22 15:00:20,270 : INFO : topic #48 (0.009): 0.619*\"elimin\" + 0.156*\"gaussian\" + 0.106*\"semi\" + 0.010*\"automat\" + 0.000*\"-\" + 0.000*\"system\" + 0.000*\"algorithm\" + 0.000*\"eigenvector\" + 0.000*\"time\" + 0.000*\"storag\"\n",
      "2022-02-22 15:00:20,270 : INFO : topic #47 (0.010): 0.151*\"loop\" + 0.106*\"usag\" + 0.090*\"redund\" + 0.064*\"invari\" + 0.038*\"techniqu\" + 0.036*\"regist\" + 0.036*\"branch\" + 0.033*\"significantli\" + 0.031*\",\" + 0.028*\"method\"\n",
      "2022-02-22 15:00:20,271 : INFO : topic #90 (0.017): 0.453*\"problem\" + 0.110*\"solut\" + 0.037*\"present\" + 0.035*\"paper\" + 0.022*\"techniqu\" + 0.021*\"assign\" + 0.021*\"discuss\" + 0.020*\"formul\" + 0.018*\",\" + 0.017*\"comput\"\n",
      "2022-02-22 15:00:20,271 : INFO : topic #72 (0.022): 0.239*\"[\" + 0.226*\"algorithm\" + 0.207*\"(\" + 0.141*\"])\" + 0.046*\"$\" + 0.034*\"))\" + 0.022*\"-\" + 0.017*\"a1\" + 0.012*\"quadratur\" + 0.012*\"integr\"\n",
      "2022-02-22 15:00:20,271 : INFO : topic #66 (0.042): 0.393*\"(\" + 0.365*\")\" + 0.174*\"algorithm\" + 0.017*\"function\" + 0.009*\"integr\" + 0.009*\"-\" + 0.007*\"order\" + 0.005*\"bessel\" + 0.004*\"argument\" + 0.004*\"ii\"\n",
      "2022-02-22 15:00:20,272 : INFO : topic diff=0.269468, rho=0.261694\n",
      "2022-02-22 15:00:20,671 : INFO : -6.466 per-word bound, 88.4 perplexity estimate based on a held-out corpus of 1204 documents with 49783 words\n",
      "2022-02-22 15:00:20,671 : INFO : PROGRESS: pass 12, at document #3204/3204\n",
      "2022-02-22 15:00:20,947 : INFO : optimized alpha [0.011821182, 0.013050235, 0.013605161, 0.011409268, 0.013666331, 0.011899408, 0.010830393, 0.011453376, 0.0120921545, 0.010783167, 0.014450874, 0.011251769, 0.013650852, 0.011206455, 0.011292493, 0.011749462, 0.010386515, 0.013617607, 0.013211507, 0.014047941, 0.013343685, 0.012617263, 0.01324068, 0.012427359, 0.011154102, 0.012606091, 0.013356625, 0.011311304, 0.012823418, 0.011076945, 0.012133577, 0.010357041, 0.010422644, 0.011271206, 0.0134087745, 0.012770284, 0.013481028, 0.009986463, 0.011431728, 0.011685831, 0.013398237, 0.011867172, 0.0113305645, 0.013615626, 0.010984387, 0.010724537, 0.011045697, 0.009569213, 0.008900908, 0.011145463, 0.012166388, 0.011177391, 0.011703789, 0.0106012365, 0.010399622, 0.011260173, 0.014165541, 0.012212155, 0.011067416, 0.01308384, 0.011309522, 0.011872858, 0.012127422, 0.012272009, 0.013397302, 0.011984138, 0.04396659, 0.011409437, 0.012237203, 0.012195759, 0.013613452, 0.0106081115, 0.022530973, 0.012410473, 0.012722922, 0.012742727, 0.013237307, 0.010902733, 0.01263423, 0.010737451, 0.012037172, 0.011238454, 0.010803879, 0.012319581, 0.014542062, 0.011595409, 0.0109533295, 0.01383071, 0.012714397, 0.011873712, 0.017253542, 0.011640514, 0.0109573575, 0.015395923, 0.012097758, 0.012537292, 0.012075, 0.012187536, 0.01424571, 0.011033609]\n",
      "2022-02-22 15:00:20,950 : INFO : merging changes from 1204 documents into a model of 3204 documents\n",
      "2022-02-22 15:00:20,953 : INFO : topic #48 (0.009): 0.611*\"elimin\" + 0.156*\"gaussian\" + 0.120*\"semi\" + 0.008*\"automat\" + 0.000*\"-\" + 0.000*\"system\" + 0.000*\"algorithm\" + 0.000*\"eigenvector\" + 0.000*\"time\" + 0.000*\"storag\"\n",
      "2022-02-22 15:00:20,954 : INFO : topic #47 (0.010): 0.160*\"loop\" + 0.110*\"usag\" + 0.089*\"redund\" + 0.069*\"invari\" + 0.040*\"branch\" + 0.039*\"techniqu\" + 0.038*\"significantli\" + 0.033*\"regist\" + 0.029*\",\" + 0.029*\"develop\"\n",
      "2022-02-22 15:00:20,954 : INFO : topic #90 (0.017): 0.458*\"problem\" + 0.109*\"solut\" + 0.037*\"present\" + 0.036*\"paper\" + 0.021*\"discuss\" + 0.021*\"techniqu\" + 0.020*\"formul\" + 0.020*\"assign\" + 0.019*\",\" + 0.018*\"compon\"\n",
      "2022-02-22 15:00:20,954 : INFO : topic #72 (0.023): 0.244*\"[\" + 0.230*\"algorithm\" + 0.199*\"(\" + 0.112*\"])\" + 0.058*\"$\" + 0.046*\"))\" + 0.021*\"-\" + 0.018*\"a1\" + 0.014*\"quadratur\" + 0.011*\"integr\"\n",
      "2022-02-22 15:00:20,955 : INFO : topic #66 (0.044): 0.399*\"(\" + 0.368*\")\" + 0.169*\"algorithm\" + 0.016*\"function\" + 0.009*\"-\" + 0.009*\"integr\" + 0.007*\"order\" + 0.004*\"bessel\" + 0.004*\"argument\" + 0.003*\"incomplet\"\n",
      "2022-02-22 15:00:20,955 : INFO : topic diff=0.277227, rho=0.261694\n",
      "2022-02-22 15:00:20,959 : INFO : PROGRESS: pass 13, at document #2000/3204\n",
      "2022-02-22 15:00:21,300 : INFO : optimized alpha [0.011828944, 0.013127222, 0.013761689, 0.011490465, 0.0137115475, 0.011929804, 0.010885942, 0.01148978, 0.012072176, 0.0107838055, 0.014576987, 0.011322962, 0.013789387, 0.011209803, 0.011280719, 0.011759856, 0.0103663495, 0.01359234, 0.013355562, 0.014295366, 0.01338626, 0.012586074, 0.013271108, 0.012423091, 0.011143387, 0.012633942, 0.0133832, 0.011335911, 0.012915745, 0.011143117, 0.012255251, 0.0103776725, 0.010427717, 0.011262689, 0.013418364, 0.012883967, 0.013589507, 0.010000434, 0.011452589, 0.011731052, 0.013609696, 0.011937232, 0.011412109, 0.013690584, 0.011034119, 0.010749191, 0.011089556, 0.009551998, 0.008894515, 0.011203263, 0.01222719, 0.011181828, 0.0118171815, 0.010613362, 0.010376531, 0.0112674, 0.014400794, 0.012244992, 0.011056418, 0.013167177, 0.0113481525, 0.01191354, 0.012156181, 0.012318762, 0.013458954, 0.012036249, 0.04643209, 0.01141583, 0.012318258, 0.012174534, 0.01374984, 0.010639365, 0.02304076, 0.012613867, 0.012806279, 0.01284894, 0.013396207, 0.01093895, 0.012683035, 0.01072765, 0.012051178, 0.011278074, 0.0107990205, 0.01232572, 0.014643359, 0.01157951, 0.010983531, 0.014009114, 0.012821441, 0.011989008, 0.017432177, 0.01167725, 0.010973685, 0.015532611, 0.012252507, 0.012714268, 0.012150548, 0.012255926, 0.014330308, 0.011043762]\n",
      "2022-02-22 15:00:21,303 : INFO : merging changes from 2000 documents into a model of 3204 documents\n",
      "2022-02-22 15:00:21,306 : INFO : topic #48 (0.009): 0.621*\"elimin\" + 0.157*\"gaussian\" + 0.107*\"semi\" + 0.007*\"automat\" + 0.000*\"-\" + 0.000*\"system\" + 0.000*\"algorithm\" + 0.000*\"eigenvector\" + 0.000*\"time\" + 0.000*\"storag\"\n",
      "2022-02-22 15:00:21,306 : INFO : topic #47 (0.010): 0.149*\"loop\" + 0.108*\"usag\" + 0.090*\"redund\" + 0.064*\"invari\" + 0.039*\"techniqu\" + 0.038*\"branch\" + 0.037*\"regist\" + 0.033*\"significantli\" + 0.030*\",\" + 0.029*\"method\"\n",
      "2022-02-22 15:00:21,306 : INFO : topic #90 (0.017): 0.460*\"problem\" + 0.109*\"solut\" + 0.038*\"present\" + 0.035*\"paper\" + 0.022*\"techniqu\" + 0.022*\"discuss\" + 0.020*\"formul\" + 0.018*\"assign\" + 0.018*\",\" + 0.017*\"comput\"\n",
      "2022-02-22 15:00:21,307 : INFO : topic #72 (0.023): 0.241*\"[\" + 0.227*\"algorithm\" + 0.206*\"(\" + 0.142*\"])\" + 0.046*\"$\" + 0.035*\"))\" + 0.021*\"-\" + 0.017*\"a1\" + 0.012*\"quadratur\" + 0.012*\"integr\"\n",
      "2022-02-22 15:00:21,307 : INFO : topic #66 (0.046): 0.395*\"(\" + 0.366*\")\" + 0.174*\"algorithm\" + 0.016*\"function\" + 0.009*\"-\" + 0.009*\"integr\" + 0.007*\"order\" + 0.005*\"bessel\" + 0.004*\"argument\" + 0.004*\"ii\"\n",
      "2022-02-22 15:00:21,307 : INFO : topic diff=0.243651, rho=0.253169\n",
      "2022-02-22 15:00:21,706 : INFO : -6.455 per-word bound, 87.7 perplexity estimate based on a held-out corpus of 1204 documents with 49783 words\n",
      "2022-02-22 15:00:21,706 : INFO : PROGRESS: pass 13, at document #3204/3204\n",
      "2022-02-22 15:00:21,979 : INFO : optimized alpha [0.011997128, 0.013331423, 0.013929124, 0.011571949, 0.01398241, 0.012061215, 0.0110063255, 0.011604292, 0.012222865, 0.010845236, 0.014819482, 0.011390574, 0.013980065, 0.011286537, 0.01140738, 0.011873639, 0.010449367, 0.013907142, 0.013457866, 0.014523959, 0.013694926, 0.012783581, 0.013488391, 0.012599295, 0.011231692, 0.0128114745, 0.013641711, 0.011460394, 0.013075815, 0.011245366, 0.012336645, 0.010430454, 0.01046862, 0.011414238, 0.013649644, 0.013035566, 0.013903293, 0.010079381, 0.011589477, 0.011839319, 0.01369001, 0.01208374, 0.011528339, 0.013896849, 0.011136437, 0.010837872, 0.011168519, 0.009593608, 0.008883272, 0.011274376, 0.012382626, 0.011317721, 0.011908956, 0.010705931, 0.010467765, 0.011351248, 0.01450771, 0.012442755, 0.011155375, 0.013256431, 0.011471939, 0.012058715, 0.012367958, 0.012541357, 0.013679786, 0.01217278, 0.04881332, 0.01154115, 0.0124416035, 0.012342695, 0.014005562, 0.010706329, 0.023361268, 0.012725371, 0.012933622, 0.012994399, 0.013550483, 0.010999433, 0.01286554, 0.010821154, 0.012204943, 0.011339982, 0.010883581, 0.012527036, 0.014888529, 0.01170416, 0.011060262, 0.014193324, 0.012974132, 0.012075553, 0.017963598, 0.011803097, 0.011057172, 0.015784832, 0.012269021, 0.012958996, 0.0122761, 0.012487033, 0.014593806, 0.011137165]\n",
      "2022-02-22 15:00:21,981 : INFO : merging changes from 1204 documents into a model of 3204 documents\n",
      "2022-02-22 15:00:21,985 : INFO : topic #48 (0.009): 0.613*\"elimin\" + 0.156*\"gaussian\" + 0.120*\"semi\" + 0.005*\"automat\" + 0.000*\"-\" + 0.000*\"system\" + 0.000*\"algorithm\" + 0.000*\"eigenvector\" + 0.000*\"time\" + 0.000*\"storag\"\n",
      "2022-02-22 15:00:21,985 : INFO : topic #47 (0.010): 0.158*\"loop\" + 0.112*\"usag\" + 0.088*\"redund\" + 0.068*\"invari\" + 0.047*\"branch\" + 0.039*\"techniqu\" + 0.037*\"significantli\" + 0.034*\"regist\" + 0.029*\"develop\" + 0.028*\"method\"\n",
      "2022-02-22 15:00:21,985 : INFO : topic #90 (0.018): 0.465*\"problem\" + 0.107*\"solut\" + 0.037*\"present\" + 0.036*\"paper\" + 0.022*\"discuss\" + 0.021*\"techniqu\" + 0.020*\"formul\" + 0.019*\",\" + 0.017*\"assign\" + 0.017*\"compon\"\n",
      "2022-02-22 15:00:21,986 : INFO : topic #72 (0.023): 0.246*\"[\" + 0.231*\"algorithm\" + 0.199*\"(\" + 0.114*\"])\" + 0.058*\"$\" + 0.045*\"))\" + 0.021*\"-\" + 0.018*\"a1\" + 0.014*\"quadratur\" + 0.011*\"integr\"\n",
      "2022-02-22 15:00:21,986 : INFO : topic #66 (0.049): 0.401*\"(\" + 0.369*\")\" + 0.169*\"algorithm\" + 0.015*\"function\" + 0.010*\"-\" + 0.009*\"integr\" + 0.007*\"order\" + 0.004*\"bessel\" + 0.004*\"argument\" + 0.003*\"ii\"\n",
      "2022-02-22 15:00:21,986 : INFO : topic diff=0.251096, rho=0.253169\n",
      "2022-02-22 15:00:21,990 : INFO : PROGRESS: pass 14, at document #2000/3204\n",
      "2022-02-22 15:00:22,325 : INFO : optimized alpha [0.012007264, 0.01340981, 0.014082783, 0.011651448, 0.014024002, 0.012089266, 0.011063294, 0.011642657, 0.012201705, 0.010846227, 0.014950151, 0.011461672, 0.014115879, 0.011291513, 0.011394453, 0.011882384, 0.01043387, 0.01389103, 0.013597552, 0.014770605, 0.01374218, 0.012749483, 0.013522571, 0.012597927, 0.011222946, 0.012836725, 0.013668458, 0.011484337, 0.013167694, 0.011312882, 0.012457497, 0.010452148, 0.010475264, 0.0114056915, 0.013656442, 0.013148616, 0.014012744, 0.010093176, 0.011613982, 0.011886475, 0.013901461, 0.012149186, 0.01160963, 0.013971524, 0.011189147, 0.010866008, 0.011216974, 0.009578529, 0.008877703, 0.011333657, 0.012440362, 0.011330286, 0.012021646, 0.010717809, 0.010445512, 0.011358519, 0.014739436, 0.012474351, 0.011142176, 0.013338029, 0.011509593, 0.0121041825, 0.012410811, 0.012588024, 0.013739525, 0.0122281285, 0.051353473, 0.011545881, 0.012525514, 0.012317095, 0.014148021, 0.01073302, 0.023868319, 0.012930652, 0.013013587, 0.01310004, 0.013708307, 0.01103498, 0.012917672, 0.010811765, 0.012219876, 0.011376049, 0.010880415, 0.012526263, 0.014990869, 0.011687264, 0.011091276, 0.014370659, 0.013080535, 0.012191603, 0.01814878, 0.01184033, 0.011074562, 0.015930252, 0.012416219, 0.01314978, 0.012349966, 0.012558168, 0.014679723, 0.011148561]\n",
      "2022-02-22 15:00:22,328 : INFO : merging changes from 2000 documents into a model of 3204 documents\n",
      "2022-02-22 15:00:22,331 : INFO : topic #48 (0.009): 0.622*\"elimin\" + 0.157*\"gaussian\" + 0.107*\"semi\" + 0.005*\"automat\" + 0.000*\"-\" + 0.000*\"system\" + 0.000*\"algorithm\" + 0.000*\"eigenvector\" + 0.000*\"time\" + 0.000*\"storag\"\n",
      "2022-02-22 15:00:22,331 : INFO : topic #47 (0.010): 0.147*\"loop\" + 0.110*\"usag\" + 0.090*\"redund\" + 0.063*\"invari\" + 0.045*\"branch\" + 0.039*\"techniqu\" + 0.038*\"regist\" + 0.033*\"significantli\" + 0.029*\"method\" + 0.029*\",\"\n",
      "2022-02-22 15:00:22,332 : INFO : topic #90 (0.018): 0.467*\"problem\" + 0.107*\"solut\" + 0.039*\"present\" + 0.036*\"paper\" + 0.022*\"techniqu\" + 0.022*\"discuss\" + 0.020*\"formul\" + 0.018*\",\" + 0.017*\"comput\" + 0.016*\"assign\"\n",
      "2022-02-22 15:00:22,332 : INFO : topic #72 (0.024): 0.242*\"[\" + 0.228*\"algorithm\" + 0.206*\"(\" + 0.142*\"])\" + 0.046*\"$\" + 0.035*\"))\" + 0.021*\"-\" + 0.017*\"a1\" + 0.012*\"quadratur\" + 0.012*\"integr\"\n",
      "2022-02-22 15:00:22,332 : INFO : topic #66 (0.051): 0.397*\"(\" + 0.366*\")\" + 0.174*\"algorithm\" + 0.014*\"function\" + 0.010*\"-\" + 0.009*\"integr\" + 0.007*\"order\" + 0.005*\"bessel\" + 0.004*\"argument\" + 0.004*\"ii\"\n",
      "2022-02-22 15:00:22,333 : INFO : topic diff=0.221596, rho=0.245426\n",
      "2022-02-22 15:00:22,739 : INFO : -6.447 per-word bound, 87.2 perplexity estimate based on a held-out corpus of 1204 documents with 49783 words\n",
      "2022-02-22 15:00:22,739 : INFO : PROGRESS: pass 14, at document #3204/3204\n",
      "2022-02-22 15:00:23,015 : INFO : optimized alpha [0.012174462, 0.013626906, 0.014246503, 0.011723794, 0.01428754, 0.012220232, 0.011183356, 0.011764128, 0.012339061, 0.010901888, 0.015188188, 0.011527582, 0.014302743, 0.011371193, 0.011515954, 0.011988652, 0.0105150435, 0.014209257, 0.013694256, 0.015001221, 0.014046666, 0.012945395, 0.013741257, 0.012773101, 0.011300116, 0.013010533, 0.013925422, 0.01161085, 0.013327126, 0.01141278, 0.012536797, 0.010503831, 0.010515461, 0.011556337, 0.013880515, 0.0132943075, 0.0143259335, 0.010176568, 0.011757486, 0.011994677, 0.013990219, 0.012295148, 0.011716206, 0.014176617, 0.011286803, 0.01095709, 0.011301023, 0.009619412, 0.008867503, 0.011400699, 0.012595105, 0.011477416, 0.012111157, 0.010814875, 0.010543252, 0.011442822, 0.014845771, 0.01266843, 0.011229801, 0.013424995, 0.01163068, 0.012256241, 0.012634154, 0.0128120445, 0.0139617175, 0.01236915, 0.05380117, 0.011673218, 0.012648669, 0.012476684, 0.014408876, 0.01080289, 0.024168933, 0.013041868, 0.013135262, 0.013239584, 0.013856325, 0.011094093, 0.013101834, 0.010903162, 0.012370346, 0.01143893, 0.010965342, 0.012731497, 0.015234702, 0.0118138995, 0.011166236, 0.014548088, 0.013237755, 0.012273381, 0.018680781, 0.011963369, 0.011156162, 0.016164802, 0.012429271, 0.013397056, 0.012472669, 0.0127858035, 0.014947956, 0.011246669]\n",
      "2022-02-22 15:00:23,018 : INFO : merging changes from 1204 documents into a model of 3204 documents\n",
      "2022-02-22 15:00:23,021 : INFO : topic #48 (0.009): 0.614*\"elimin\" + 0.156*\"gaussian\" + 0.120*\"semi\" + 0.004*\"automat\" + 0.000*\"-\" + 0.000*\"system\" + 0.000*\"algorithm\" + 0.000*\"eigenvector\" + 0.000*\"time\" + 0.000*\"storag\"\n",
      "2022-02-22 15:00:23,022 : INFO : topic #47 (0.010): 0.156*\"loop\" + 0.113*\"usag\" + 0.088*\"redund\" + 0.067*\"invari\" + 0.052*\"branch\" + 0.040*\"techniqu\" + 0.037*\"significantli\" + 0.034*\"regist\" + 0.030*\"develop\" + 0.029*\"method\"\n",
      "2022-02-22 15:00:23,022 : INFO : topic #90 (0.019): 0.470*\"problem\" + 0.106*\"solut\" + 0.038*\"present\" + 0.036*\"paper\" + 0.022*\"discuss\" + 0.021*\"techniqu\" + 0.020*\"formul\" + 0.019*\",\" + 0.016*\"compon\" + 0.016*\"comput\"\n",
      "2022-02-22 15:00:23,023 : INFO : topic #72 (0.024): 0.247*\"[\" + 0.230*\"algorithm\" + 0.199*\"(\" + 0.115*\"])\" + 0.058*\"$\" + 0.045*\"))\" + 0.021*\"-\" + 0.018*\"a1\" + 0.014*\"quadratur\" + 0.011*\"integr\"\n",
      "2022-02-22 15:00:23,023 : INFO : topic #66 (0.054): 0.403*\"(\" + 0.368*\")\" + 0.169*\"algorithm\" + 0.013*\"function\" + 0.010*\"-\" + 0.008*\"integr\" + 0.007*\"order\" + 0.004*\"bessel\" + 0.004*\"argument\" + 0.003*\"ii\"\n",
      "2022-02-22 15:00:23,023 : INFO : topic diff=0.228460, rho=0.245426\n",
      "2022-02-22 15:00:23,027 : INFO : PROGRESS: pass 15, at document #2000/3204\n",
      "2022-02-22 15:00:23,362 : INFO : optimized alpha [0.01218551, 0.013700113, 0.0144026335, 0.01180173, 0.014329095, 0.012247543, 0.011243104, 0.01180301, 0.012321339, 0.0109031955, 0.015318096, 0.011597296, 0.014444636, 0.011377643, 0.0115033025, 0.011994282, 0.010496381, 0.014203815, 0.01382816, 0.01525453, 0.014085189, 0.012913131, 0.013775677, 0.012772885, 0.011294655, 0.013036438, 0.013954086, 0.011636977, 0.013417104, 0.011478992, 0.01265859, 0.010526532, 0.010524803, 0.0115505075, 0.013886456, 0.013406859, 0.01443298, 0.010191348, 0.0117799, 0.012042294, 0.014198696, 0.012363612, 0.011804318, 0.014254531, 0.011338445, 0.010983365, 0.011351222, 0.0096063055, 0.008862699, 0.011458832, 0.01265446, 0.011489422, 0.012227746, 0.010826474, 0.010522951, 0.011451489, 0.015077809, 0.012697368, 0.011207737, 0.013504976, 0.011668878, 0.01229906, 0.012687628, 0.012858781, 0.014022966, 0.0124216825, 0.056399073, 0.011684697, 0.012727899, 0.012455921, 0.014541986, 0.0108369095, 0.02467654, 0.013246284, 0.013212008, 0.013349724, 0.014011585, 0.011130344, 0.013150941, 0.010895442, 0.01238474, 0.0114730345, 0.010961129, 0.0127362255, 0.0153329, 0.0118002305, 0.011199275, 0.014726214, 0.013340533, 0.01239467, 0.018863996, 0.012001133, 0.011170636, 0.016301544, 0.012572306, 0.013600483, 0.0125464555, 0.012859682, 0.0150352605, 0.011257838]\n",
      "2022-02-22 15:00:23,365 : INFO : merging changes from 2000 documents into a model of 3204 documents\n",
      "2022-02-22 15:00:23,368 : INFO : topic #48 (0.009): 0.623*\"elimin\" + 0.157*\"gaussian\" + 0.108*\"semi\" + 0.003*\"automat\" + 0.000*\"-\" + 0.000*\"system\" + 0.000*\"algorithm\" + 0.000*\"eigenvector\" + 0.000*\"time\" + 0.000*\"storag\"\n",
      "2022-02-22 15:00:23,368 : INFO : topic #47 (0.010): 0.146*\"loop\" + 0.112*\"usag\" + 0.089*\"redund\" + 0.062*\"invari\" + 0.050*\"branch\" + 0.040*\"techniqu\" + 0.038*\"regist\" + 0.033*\"significantli\" + 0.030*\"method\" + 0.028*\",\"\n",
      "2022-02-22 15:00:23,369 : INFO : topic #90 (0.019): 0.472*\"problem\" + 0.106*\"solut\" + 0.039*\"present\" + 0.036*\"paper\" + 0.022*\"discuss\" + 0.022*\"techniqu\" + 0.020*\"formul\" + 0.018*\",\" + 0.017*\"comput\" + 0.015*\"linear\"\n",
      "2022-02-22 15:00:23,369 : INFO : topic #72 (0.025): 0.243*\"[\" + 0.228*\"algorithm\" + 0.206*\"(\" + 0.141*\"])\" + 0.047*\"$\" + 0.035*\"))\" + 0.021*\"-\" + 0.017*\"a1\" + 0.012*\"quadratur\" + 0.012*\"integr\"\n",
      "2022-02-22 15:00:23,369 : INFO : topic #66 (0.056): 0.399*\"(\" + 0.366*\")\" + 0.174*\"algorithm\" + 0.012*\"function\" + 0.010*\"-\" + 0.009*\"integr\" + 0.007*\"order\" + 0.005*\"bessel\" + 0.004*\"argument\" + 0.004*\"ii\"\n",
      "2022-02-22 15:00:23,370 : INFO : topic diff=0.202877, rho=0.238352\n",
      "2022-02-22 15:00:23,770 : INFO : -6.438 per-word bound, 86.7 perplexity estimate based on a held-out corpus of 1204 documents with 49783 words\n",
      "2022-02-22 15:00:23,770 : INFO : PROGRESS: pass 15, at document #3204/3204\n",
      "2022-02-22 15:00:24,047 : INFO : optimized alpha [0.012354381, 0.013905448, 0.014568623, 0.01187237, 0.014600199, 0.012375882, 0.0113674775, 0.011922038, 0.012455836, 0.010957818, 0.015555251, 0.011661663, 0.0146336295, 0.0114534395, 0.011620025, 0.012105601, 0.010573734, 0.014531686, 0.013927819, 0.015487504, 0.014391302, 0.013105147, 0.0139934225, 0.012942156, 0.01137708, 0.013201768, 0.0142071415, 0.011756252, 0.013578648, 0.011574529, 0.012735803, 0.010581358, 0.010564302, 0.011707452, 0.014114662, 0.013552249, 0.014742857, 0.010270998, 0.011918338, 0.012148227, 0.014284728, 0.012504387, 0.011925102, 0.014447357, 0.011443074, 0.011072532, 0.011431215, 0.009648419, 0.008853431, 0.01152437, 0.012806182, 0.011626855, 0.012317587, 0.010923696, 0.010618659, 0.01153866, 0.015180889, 0.012898115, 0.011298023, 0.013592641, 0.011789752, 0.012450752, 0.012922953, 0.0130691845, 0.0142440535, 0.012559918, 0.058851805, 0.011809528, 0.012850961, 0.012614797, 0.014802359, 0.010913923, 0.02497677, 0.013357368, 0.013331068, 0.01349185, 0.014161959, 0.011188224, 0.013329098, 0.010984934, 0.0125396, 0.011530024, 0.011044286, 0.012940499, 0.01556652, 0.01192189, 0.011270371, 0.0148970485, 0.013505203, 0.012479312, 0.019400617, 0.012123994, 0.011252726, 0.016531756, 0.012587053, 0.013855997, 0.012663964, 0.013089251, 0.015293346, 0.011351681]\n",
      "2022-02-22 15:00:24,049 : INFO : merging changes from 1204 documents into a model of 3204 documents\n",
      "2022-02-22 15:00:24,052 : INFO : topic #48 (0.009): 0.615*\"elimin\" + 0.157*\"gaussian\" + 0.120*\"semi\" + 0.002*\"automat\" + 0.000*\"-\" + 0.000*\"system\" + 0.000*\"algorithm\" + 0.000*\"eigenvector\" + 0.000*\"time\" + 0.000*\"storag\"\n",
      "2022-02-22 15:00:24,053 : INFO : topic #47 (0.010): 0.154*\"loop\" + 0.114*\"usag\" + 0.087*\"redund\" + 0.066*\"invari\" + 0.056*\"branch\" + 0.040*\"techniqu\" + 0.039*\"significantli\" + 0.034*\"regist\" + 0.030*\"develop\" + 0.027*\",\"\n",
      "2022-02-22 15:00:24,053 : INFO : topic #90 (0.019): 0.474*\"problem\" + 0.106*\"solut\" + 0.038*\"present\" + 0.036*\"paper\" + 0.023*\"discuss\" + 0.021*\"techniqu\" + 0.020*\"formul\" + 0.019*\",\" + 0.016*\"comput\" + 0.016*\"linear\"\n",
      "2022-02-22 15:00:24,054 : INFO : topic #72 (0.025): 0.247*\"[\" + 0.232*\"algorithm\" + 0.199*\"(\" + 0.115*\"])\" + 0.058*\"$\" + 0.045*\"))\" + 0.021*\"-\" + 0.018*\"a1\" + 0.014*\"quadratur\" + 0.011*\"integr\"\n",
      "2022-02-22 15:00:24,054 : INFO : topic #66 (0.059): 0.405*\"(\" + 0.368*\")\" + 0.169*\"algorithm\" + 0.011*\"function\" + 0.011*\"-\" + 0.008*\"integr\" + 0.007*\"order\" + 0.004*\"bessel\" + 0.004*\"argument\" + 0.003*\"ii\"\n",
      "2022-02-22 15:00:24,054 : INFO : topic diff=0.208975, rho=0.238352\n",
      "2022-02-22 15:00:24,058 : INFO : PROGRESS: pass 16, at document #2000/3204\n",
      "2022-02-22 15:00:24,399 : INFO : optimized alpha [0.012364842, 0.013977025, 0.014725754, 0.011950248, 0.014643436, 0.012408324, 0.011424724, 0.011958679, 0.012438465, 0.010960685, 0.015691848, 0.011730137, 0.01477657, 0.01146262, 0.011609024, 0.0121154655, 0.010559494, 0.014529791, 0.014061098, 0.015735257, 0.014427909, 0.013074644, 0.014024991, 0.012941613, 0.011369297, 0.01322683, 0.014240982, 0.011780397, 0.013665298, 0.011643547, 0.0128600355, 0.010603775, 0.010574972, 0.011704158, 0.014116432, 0.013659713, 0.014847623, 0.010289124, 0.011942885, 0.0121963015, 0.014493786, 0.012571453, 0.012014444, 0.014528575, 0.011495041, 0.0111008985, 0.011481793, 0.009637123, 0.008849313, 0.0115828235, 0.012865655, 0.011641174, 0.01243086, 0.010938849, 0.010598945, 0.011548576, 0.015411773, 0.012928972, 0.011276677, 0.013674389, 0.011827069, 0.012494001, 0.012986957, 0.013113022, 0.0143068945, 0.012612771, 0.061486837, 0.011820675, 0.0129331695, 0.012588404, 0.014962502, 0.010946049, 0.025476504, 0.013562648, 0.013407775, 0.013593798, 0.014314877, 0.011223887, 0.013378467, 0.010978802, 0.012553409, 0.011564993, 0.011040369, 0.012944598, 0.01565884, 0.011905744, 0.0113041615, 0.015072707, 0.013610781, 0.012601582, 0.019581888, 0.012162288, 0.011269643, 0.016671708, 0.012727677, 0.014074088, 0.0127348425, 0.013164484, 0.015376601, 0.011362684]\n",
      "2022-02-22 15:00:24,402 : INFO : merging changes from 2000 documents into a model of 3204 documents\n",
      "2022-02-22 15:00:24,405 : INFO : topic #48 (0.009): 0.624*\"elimin\" + 0.157*\"gaussian\" + 0.108*\"semi\" + 0.002*\"automat\" + 0.000*\"-\" + 0.000*\"system\" + 0.000*\"algorithm\" + 0.000*\"eigenvector\" + 0.000*\"time\" + 0.000*\"storag\"\n",
      "2022-02-22 15:00:24,405 : INFO : topic #47 (0.010): 0.145*\"loop\" + 0.114*\"usag\" + 0.089*\"redund\" + 0.062*\"invari\" + 0.053*\"branch\" + 0.040*\"techniqu\" + 0.038*\"regist\" + 0.035*\"significantli\" + 0.028*\"develop\" + 0.028*\"method\"\n",
      "2022-02-22 15:00:24,405 : INFO : topic #90 (0.020): 0.476*\"problem\" + 0.106*\"solut\" + 0.040*\"present\" + 0.036*\"paper\" + 0.023*\"discuss\" + 0.021*\"techniqu\" + 0.020*\"formul\" + 0.018*\",\" + 0.017*\"comput\" + 0.015*\"linear\"\n",
      "2022-02-22 15:00:24,406 : INFO : topic #72 (0.025): 0.243*\"[\" + 0.229*\"algorithm\" + 0.205*\"(\" + 0.141*\"])\" + 0.047*\"$\" + 0.035*\"))\" + 0.021*\"-\" + 0.017*\"a1\" + 0.013*\"quadratur\" + 0.012*\"integr\"\n",
      "2022-02-22 15:00:24,406 : INFO : topic #66 (0.061): 0.401*\"(\" + 0.366*\")\" + 0.174*\"algorithm\" + 0.011*\"-\" + 0.010*\"function\" + 0.009*\"integr\" + 0.007*\"order\" + 0.005*\"bessel\" + 0.004*\"ii\" + 0.004*\"argument\"\n",
      "2022-02-22 15:00:24,406 : INFO : topic diff=0.186540, rho=0.231857\n",
      "2022-02-22 15:00:24,806 : INFO : -6.432 per-word bound, 86.3 perplexity estimate based on a held-out corpus of 1204 documents with 49783 words\n",
      "2022-02-22 15:00:24,806 : INFO : PROGRESS: pass 16, at document #3204/3204\n",
      "2022-02-22 15:00:25,074 : INFO : optimized alpha [0.012525997, 0.014179105, 0.014891304, 0.012021632, 0.0149109345, 0.012539038, 0.011549086, 0.012082314, 0.012575258, 0.011014352, 0.015922204, 0.011790849, 0.014970787, 0.011530231, 0.011721209, 0.01222229, 0.010641514, 0.014865054, 0.014158379, 0.015970843, 0.014730471, 0.013268192, 0.01423385, 0.013105301, 0.01145239, 0.013386519, 0.01449307, 0.011901943, 0.013818542, 0.011734945, 0.012942903, 0.010659643, 0.010613841, 0.011858361, 0.014343719, 0.01380772, 0.015160196, 0.010369189, 0.012081137, 0.0123025365, 0.014582707, 0.012716929, 0.012135396, 0.014723699, 0.011588745, 0.011188285, 0.0115624, 0.009680441, 0.008840886, 0.011651512, 0.013017125, 0.011785137, 0.012521065, 0.011036337, 0.010692789, 0.011636393, 0.015514694, 0.01312906, 0.011371785, 0.013757459, 0.0119479615, 0.012645397, 0.01323215, 0.013330394, 0.014527158, 0.012748443, 0.06391041, 0.011947821, 0.0130538, 0.012746724, 0.015225511, 0.011019488, 0.02576141, 0.013673691, 0.013524254, 0.013730659, 0.014456657, 0.011280613, 0.013550993, 0.011070742, 0.012705486, 0.011625354, 0.011126192, 0.013145575, 0.015894765, 0.012022766, 0.011373847, 0.0152371125, 0.013775228, 0.012679351, 0.020141738, 0.012282781, 0.011356679, 0.01689483, 0.012736699, 0.014332896, 0.012852439, 0.013396121, 0.015639784, 0.011454689]\n",
      "2022-02-22 15:00:25,077 : INFO : merging changes from 1204 documents into a model of 3204 documents\n",
      "2022-02-22 15:00:25,080 : INFO : topic #48 (0.009): 0.616*\"elimin\" + 0.157*\"gaussian\" + 0.120*\"semi\" + 0.001*\"automat\" + 0.000*\"-\" + 0.000*\"system\" + 0.000*\"algorithm\" + 0.000*\"eigenvector\" + 0.000*\"time\" + 0.000*\"storag\"\n",
      "2022-02-22 15:00:25,080 : INFO : topic #47 (0.010): 0.153*\"loop\" + 0.115*\"usag\" + 0.087*\"redund\" + 0.065*\"invari\" + 0.058*\"branch\" + 0.041*\"significantli\" + 0.040*\"techniqu\" + 0.034*\"regist\" + 0.030*\"develop\" + 0.027*\"method\"\n",
      "2022-02-22 15:00:25,081 : INFO : topic #90 (0.020): 0.478*\"problem\" + 0.107*\"solut\" + 0.039*\"present\" + 0.037*\"paper\" + 0.023*\"discuss\" + 0.021*\"techniqu\" + 0.020*\"formul\" + 0.018*\",\" + 0.016*\"comput\" + 0.016*\"linear\"\n",
      "2022-02-22 15:00:25,081 : INFO : topic #72 (0.026): 0.247*\"[\" + 0.232*\"algorithm\" + 0.199*\"(\" + 0.116*\"])\" + 0.058*\"$\" + 0.045*\"))\" + 0.021*\"-\" + 0.018*\"a1\" + 0.014*\"quadratur\" + 0.011*\"integr\"\n",
      "2022-02-22 15:00:25,081 : INFO : topic #66 (0.064): 0.406*\"(\" + 0.368*\")\" + 0.169*\"algorithm\" + 0.011*\"-\" + 0.010*\"function\" + 0.008*\"integr\" + 0.007*\"order\" + 0.004*\"bessel\" + 0.004*\"argument\" + 0.003*\"ii\"\n",
      "2022-02-22 15:00:25,082 : INFO : topic diff=0.192173, rho=0.231857\n",
      "2022-02-22 15:00:25,086 : INFO : PROGRESS: pass 17, at document #2000/3204\n",
      "2022-02-22 15:00:25,414 : INFO : optimized alpha [0.012538774, 0.014247517, 0.015046214, 0.01209956, 0.014959367, 0.012569317, 0.011610498, 0.012120933, 0.012559608, 0.011017486, 0.016051082, 0.011859488, 0.015116578, 0.011539426, 0.011711791, 0.012227807, 0.010625313, 0.0148682585, 0.014291165, 0.016220141, 0.014765264, 0.013239318, 0.0142658455, 0.013104482, 0.011448935, 0.013401666, 0.01452234, 0.011925563, 0.01390666, 0.011805442, 0.013068275, 0.0106818, 0.010627039, 0.011854846, 0.014346305, 0.013911853, 0.01526106, 0.010388215, 0.012113313, 0.012349703, 0.0147941755, 0.01278126, 0.012224755, 0.014794804, 0.011637085, 0.011217411, 0.011613409, 0.009670849, 0.008837388, 0.011711581, 0.01307537, 0.011802998, 0.01263551, 0.011049978, 0.010674841, 0.011643629, 0.01574285, 0.0131588355, 0.011345869, 0.01383622, 0.011985836, 0.0126876235, 0.013303685, 0.013378955, 0.014588321, 0.012803066, 0.066556774, 0.011959967, 0.013134575, 0.012722102, 0.015376805, 0.011052358, 0.026256254, 0.013873797, 0.013599651, 0.013838837, 0.014608986, 0.011314451, 0.01360068, 0.011067368, 0.01272027, 0.011661141, 0.011121225, 0.013155059, 0.01598322, 0.012008359, 0.011407127, 0.015412088, 0.013879019, 0.01279971, 0.020332446, 0.012321657, 0.011377197, 0.017036397, 0.012875119, 0.014559553, 0.012919058, 0.013475757, 0.015724592, 0.011472016]\n",
      "2022-02-22 15:00:25,416 : INFO : merging changes from 2000 documents into a model of 3204 documents\n",
      "2022-02-22 15:00:25,419 : INFO : topic #48 (0.009): 0.624*\"elimin\" + 0.157*\"gaussian\" + 0.108*\"semi\" + 0.001*\"automat\" + 0.000*\"-\" + 0.000*\"system\" + 0.000*\"algorithm\" + 0.000*\"eigenvector\" + 0.000*\"time\" + 0.000*\"storag\"\n",
      "2022-02-22 15:00:25,420 : INFO : topic #47 (0.010): 0.144*\"loop\" + 0.114*\"usag\" + 0.088*\"redund\" + 0.061*\"invari\" + 0.055*\"branch\" + 0.040*\"techniqu\" + 0.040*\"regist\" + 0.037*\"significantli\" + 0.029*\"develop\" + 0.028*\"method\"\n",
      "2022-02-22 15:00:25,420 : INFO : topic #90 (0.020): 0.479*\"problem\" + 0.107*\"solut\" + 0.040*\"present\" + 0.036*\"paper\" + 0.023*\"discuss\" + 0.021*\"techniqu\" + 0.020*\"formul\" + 0.018*\",\" + 0.017*\"comput\" + 0.015*\"linear\"\n",
      "2022-02-22 15:00:25,420 : INFO : topic #72 (0.026): 0.243*\"[\" + 0.229*\"algorithm\" + 0.205*\"(\" + 0.141*\"])\" + 0.047*\"$\" + 0.035*\"))\" + 0.021*\"-\" + 0.017*\"a1\" + 0.013*\"quadratur\" + 0.012*\"integr\"\n",
      "2022-02-22 15:00:25,421 : INFO : topic #66 (0.067): 0.403*\"(\" + 0.366*\")\" + 0.173*\"algorithm\" + 0.011*\"-\" + 0.009*\"integr\" + 0.009*\"function\" + 0.007*\"order\" + 0.005*\"bessel\" + 0.004*\"ii\" + 0.004*\"argument\"\n",
      "2022-02-22 15:00:25,421 : INFO : topic diff=0.172307, rho=0.225865\n",
      "2022-02-22 15:00:25,820 : INFO : -6.426 per-word bound, 86.0 perplexity estimate based on a held-out corpus of 1204 documents with 49783 words\n",
      "2022-02-22 15:00:25,821 : INFO : PROGRESS: pass 17, at document #3204/3204\n",
      "2022-02-22 15:00:26,092 : INFO : optimized alpha [0.012704317, 0.01444396, 0.015211567, 0.012164906, 0.015229183, 0.012700088, 0.011737115, 0.012247, 0.012691519, 0.011070272, 0.016277917, 0.011918929, 0.015307639, 0.011605824, 0.011828507, 0.012335002, 0.010703808, 0.015202783, 0.014388846, 0.016455393, 0.015067298, 0.013427056, 0.014479697, 0.013267918, 0.011530547, 0.013558578, 0.014762766, 0.012044974, 0.014054586, 0.011897314, 0.01315178, 0.010736682, 0.010665331, 0.012015441, 0.014570044, 0.014062543, 0.015567945, 0.010472687, 0.012242376, 0.012456355, 0.014883298, 0.0129242595, 0.012350561, 0.014986747, 0.011729007, 0.011309516, 0.011692508, 0.009713469, 0.008829713, 0.011781095, 0.013226724, 0.011953659, 0.012723809, 0.011141529, 0.010764968, 0.011729832, 0.015842786, 0.013358425, 0.011439252, 0.013914919, 0.012106821, 0.012836589, 0.013571603, 0.013606088, 0.01480801, 0.012933937, 0.06894122, 0.012089419, 0.013252925, 0.012880089, 0.015642602, 0.011126475, 0.02652641, 0.013982303, 0.013708765, 0.013975867, 0.0147479195, 0.011372226, 0.013772959, 0.011161805, 0.012874554, 0.011722604, 0.011201265, 0.013355527, 0.016209476, 0.0121232625, 0.011477656, 0.015570375, 0.01404332, 0.012873308, 0.020890435, 0.012442304, 0.011462656, 0.017259128, 0.012883516, 0.014824633, 0.013034442, 0.013707382, 0.015984587, 0.011566659]\n",
      "2022-02-22 15:00:26,095 : INFO : merging changes from 1204 documents into a model of 3204 documents\n",
      "2022-02-22 15:00:26,098 : INFO : topic #48 (0.009): 0.616*\"elimin\" + 0.157*\"gaussian\" + 0.119*\"semi\" + 0.001*\"automat\" + 0.000*\"-\" + 0.000*\"system\" + 0.000*\"algorithm\" + 0.000*\"eigenvector\" + 0.000*\"time\" + 0.000*\"storag\"\n",
      "2022-02-22 15:00:26,098 : INFO : topic #47 (0.010): 0.152*\"loop\" + 0.117*\"usag\" + 0.086*\"redund\" + 0.065*\"invari\" + 0.059*\"branch\" + 0.043*\"significantli\" + 0.041*\"techniqu\" + 0.035*\"regist\" + 0.030*\"develop\" + 0.026*\",\"\n",
      "2022-02-22 15:00:26,099 : INFO : topic #90 (0.021): 0.481*\"problem\" + 0.106*\"solut\" + 0.040*\"present\" + 0.037*\"paper\" + 0.024*\"discuss\" + 0.021*\"techniqu\" + 0.020*\"formul\" + 0.018*\",\" + 0.017*\"comput\" + 0.017*\"linear\"\n",
      "2022-02-22 15:00:26,099 : INFO : topic #72 (0.027): 0.248*\"[\" + 0.231*\"algorithm\" + 0.199*\"(\" + 0.116*\"])\" + 0.057*\"$\" + 0.045*\"))\" + 0.021*\"-\" + 0.018*\"a1\" + 0.014*\"quadratur\" + 0.011*\"integr\"\n",
      "2022-02-22 15:00:26,099 : INFO : topic #66 (0.069): 0.408*\"(\" + 0.368*\")\" + 0.169*\"algorithm\" + 0.012*\"-\" + 0.008*\"function\" + 0.008*\"integr\" + 0.007*\"order\" + 0.004*\"bessel\" + 0.004*\"argument\" + 0.003*\"ii\"\n",
      "2022-02-22 15:00:26,100 : INFO : topic diff=0.177526, rho=0.225865\n",
      "2022-02-22 15:00:26,104 : INFO : PROGRESS: pass 18, at document #2000/3204\n",
      "2022-02-22 15:00:26,437 : INFO : optimized alpha [0.012712268, 0.014506099, 0.01536606, 0.01223896, 0.0152725475, 0.012729645, 0.011798754, 0.012283475, 0.0126775475, 0.011073645, 0.016411826, 0.011987773, 0.015454742, 0.011613767, 0.011819243, 0.012344588, 0.010688154, 0.01520427, 0.014519692, 0.016706513, 0.015105307, 0.013398286, 0.014512202, 0.013268296, 0.011527345, 0.013577712, 0.014792355, 0.012070734, 0.0141380755, 0.011969279, 0.013281286, 0.010760978, 0.010677382, 0.012017021, 0.014573496, 0.014169737, 0.0156667, 0.0104890615, 0.0122711025, 0.012502697, 0.015094162, 0.012988837, 0.012433112, 0.015058071, 0.011779094, 0.011344374, 0.011738814, 0.009703322, 0.00882678, 0.011837628, 0.013285219, 0.011970985, 0.012839462, 0.01115614, 0.010747523, 0.01174095, 0.016068416, 0.013391555, 0.011421686, 0.013993987, 0.01214387, 0.012876449, 0.013662557, 0.013663783, 0.0148659665, 0.012984646, 0.071603775, 0.012101252, 0.013332322, 0.012862912, 0.015797185, 0.011156337, 0.027013553, 0.014178964, 0.013782864, 0.0140855415, 0.014901424, 0.011408138, 0.013819943, 0.011159808, 0.012891648, 0.011757873, 0.011195326, 0.013367248, 0.016303267, 0.012110513, 0.011510411, 0.01574314, 0.014145443, 0.012993394, 0.021083944, 0.012483139, 0.011484126, 0.01740033, 0.013014183, 0.01504888, 0.013101321, 0.01378847, 0.016063921, 0.011586233]\n",
      "2022-02-22 15:00:26,440 : INFO : merging changes from 2000 documents into a model of 3204 documents\n",
      "2022-02-22 15:00:26,443 : INFO : topic #48 (0.009): 0.624*\"elimin\" + 0.157*\"gaussian\" + 0.108*\"semi\" + 0.001*\"automat\" + 0.000*\"-\" + 0.000*\"system\" + 0.000*\"algorithm\" + 0.000*\"eigenvector\" + 0.000*\"time\" + 0.000*\"storag\"\n",
      "2022-02-22 15:00:26,444 : INFO : topic #47 (0.010): 0.144*\"loop\" + 0.116*\"usag\" + 0.088*\"redund\" + 0.061*\"invari\" + 0.056*\"branch\" + 0.041*\"techniqu\" + 0.039*\"regist\" + 0.038*\"significantli\" + 0.029*\"develop\" + 0.027*\",\"\n",
      "2022-02-22 15:00:26,444 : INFO : topic #90 (0.021): 0.483*\"problem\" + 0.107*\"solut\" + 0.041*\"present\" + 0.036*\"paper\" + 0.024*\"discuss\" + 0.021*\"techniqu\" + 0.020*\"formul\" + 0.018*\",\" + 0.018*\"comput\" + 0.016*\"linear\"\n",
      "2022-02-22 15:00:26,444 : INFO : topic #72 (0.027): 0.244*\"[\" + 0.228*\"algorithm\" + 0.205*\"(\" + 0.141*\"])\" + 0.047*\"$\" + 0.036*\"))\" + 0.021*\"-\" + 0.017*\"a1\" + 0.013*\"quadratur\" + 0.012*\"integr\"\n",
      "2022-02-22 15:00:26,445 : INFO : topic #66 (0.072): 0.404*\"(\" + 0.366*\")\" + 0.173*\"algorithm\" + 0.012*\"-\" + 0.009*\"integr\" + 0.008*\"function\" + 0.007*\"order\" + 0.005*\"bessel\" + 0.004*\"ii\" + 0.004*\"argument\"\n",
      "2022-02-22 15:00:26,445 : INFO : topic diff=0.159998, rho=0.220316\n",
      "2022-02-22 15:00:26,844 : INFO : -6.420 per-word bound, 85.6 perplexity estimate based on a held-out corpus of 1204 documents with 49783 words\n",
      "2022-02-22 15:00:26,845 : INFO : PROGRESS: pass 18, at document #3204/3204\n",
      "2022-02-22 15:00:27,114 : INFO : optimized alpha [0.012875314, 0.014705173, 0.015525709, 0.012305212, 0.015533592, 0.012860619, 0.011927716, 0.012407484, 0.012811948, 0.011125609, 0.016629485, 0.012046026, 0.0156428, 0.011687581, 0.011940521, 0.012452245, 0.010765301, 0.015546709, 0.014615273, 0.016944671, 0.015409816, 0.013580543, 0.014714983, 0.013434052, 0.011616141, 0.013734517, 0.015035073, 0.012181514, 0.014288632, 0.012059516, 0.01336057, 0.010814907, 0.0107151335, 0.012172988, 0.01479124, 0.014320591, 0.015973663, 0.010570194, 0.012402484, 0.012612202, 0.015180829, 0.013132012, 0.0125615485, 0.015246984, 0.011869413, 0.011436944, 0.011816477, 0.009747091, 0.0088198, 0.011905852, 0.01343904, 0.012117164, 0.012933098, 0.011252255, 0.010844011, 0.011827836, 0.016168477, 0.01358853, 0.011524033, 0.014071126, 0.012262829, 0.013025484, 0.0139387455, 0.013893277, 0.015079779, 0.013115657, 0.07390477, 0.01223313, 0.013446043, 0.013011151, 0.01605455, 0.011227039, 0.027284281, 0.014282485, 0.013892481, 0.014222955, 0.015037753, 0.011464906, 0.013992096, 0.011258717, 0.013043494, 0.011818267, 0.011275993, 0.013560059, 0.016523084, 0.012225666, 0.011579679, 0.015901372, 0.014304538, 0.013070012, 0.02164778, 0.0126017425, 0.011568111, 0.017622916, 0.0130220475, 0.015331328, 0.013214703, 0.014020179, 0.016320629, 0.011674981]\n",
      "2022-02-22 15:00:27,116 : INFO : merging changes from 1204 documents into a model of 3204 documents\n",
      "2022-02-22 15:00:27,120 : INFO : topic #48 (0.009): 0.616*\"elimin\" + 0.157*\"gaussian\" + 0.119*\"semi\" + 0.001*\"automat\" + 0.000*\"-\" + 0.000*\"system\" + 0.000*\"algorithm\" + 0.000*\"eigenvector\" + 0.000*\"time\" + 0.000*\"storag\"\n",
      "2022-02-22 15:00:27,120 : INFO : topic #47 (0.010): 0.152*\"loop\" + 0.117*\"usag\" + 0.086*\"redund\" + 0.065*\"invari\" + 0.059*\"branch\" + 0.045*\"significantli\" + 0.041*\"techniqu\" + 0.035*\"regist\" + 0.030*\"develop\" + 0.026*\"optim\"\n",
      "2022-02-22 15:00:27,120 : INFO : topic #90 (0.022): 0.483*\"problem\" + 0.106*\"solut\" + 0.040*\"present\" + 0.037*\"paper\" + 0.024*\"discuss\" + 0.020*\"techniqu\" + 0.020*\"formul\" + 0.018*\",\" + 0.018*\"comput\" + 0.017*\"linear\"\n",
      "2022-02-22 15:00:27,121 : INFO : topic #72 (0.027): 0.247*\"[\" + 0.231*\"algorithm\" + 0.199*\"(\" + 0.117*\"])\" + 0.057*\"$\" + 0.045*\"))\" + 0.021*\"-\" + 0.018*\"a1\" + 0.014*\"quadratur\" + 0.011*\"integr\"\n",
      "2022-02-22 15:00:27,121 : INFO : topic #66 (0.074): 0.409*\"(\" + 0.368*\")\" + 0.169*\"algorithm\" + 0.012*\"-\" + 0.008*\"integr\" + 0.007*\"order\" + 0.007*\"function\" + 0.004*\"bessel\" + 0.004*\"argument\" + 0.003*\"ii\"\n",
      "2022-02-22 15:00:27,121 : INFO : topic diff=0.164664, rho=0.220316\n",
      "2022-02-22 15:00:27,125 : INFO : PROGRESS: pass 19, at document #2000/3204\n",
      "2022-02-22 15:00:27,458 : INFO : optimized alpha [0.012884169, 0.014767659, 0.015678212, 0.012383399, 0.015580517, 0.012890955, 0.011990935, 0.0124513, 0.012793953, 0.011129202, 0.016757682, 0.012113849, 0.01578798, 0.011698051, 0.011932658, 0.012462986, 0.010750142, 0.0155514795, 0.014744312, 0.01720124, 0.015439415, 0.01355188, 0.014751215, 0.013432622, 0.011611807, 0.013753027, 0.015060227, 0.012205456, 0.014369191, 0.012131727, 0.013492832, 0.010838898, 0.0107249, 0.012174229, 0.014795555, 0.014424638, 0.016073834, 0.010586327, 0.012429258, 0.0126591, 0.015387966, 0.013198305, 0.012645609, 0.01532017, 0.0119186705, 0.01147369, 0.0118620815, 0.0097384835, 0.008817384, 0.011962834, 0.013499297, 0.012135276, 0.013047283, 0.01127029, 0.010830466, 0.011837594, 0.016391767, 0.013629397, 0.0115030985, 0.014150519, 0.012299174, 0.013064481, 0.014053671, 0.013945074, 0.015137897, 0.013166843, 0.076545544, 0.012247214, 0.013524228, 0.01299265, 0.016214166, 0.0112601295, 0.027760953, 0.0144773, 0.013963867, 0.014328034, 0.015187725, 0.011499086, 0.014039566, 0.011256766, 0.013064287, 0.011854357, 0.011271552, 0.013568168, 0.016607814, 0.012211838, 0.011614471, 0.016070347, 0.014411235, 0.0131970085, 0.021837225, 0.012644533, 0.0115880035, 0.017762108, 0.0131536955, 0.01556624, 0.013283284, 0.0141027775, 0.016403437, 0.011696729]\n",
      "2022-02-22 15:00:27,460 : INFO : merging changes from 2000 documents into a model of 3204 documents\n",
      "2022-02-22 15:00:27,464 : INFO : topic #48 (0.009): 0.624*\"elimin\" + 0.158*\"gaussian\" + 0.108*\"semi\" + 0.000*\"automat\" + 0.000*\"-\" + 0.000*\"system\" + 0.000*\"algorithm\" + 0.000*\"eigenvector\" + 0.000*\"time\" + 0.000*\"storag\"\n",
      "2022-02-22 15:00:27,464 : INFO : topic #47 (0.010): 0.144*\"loop\" + 0.117*\"usag\" + 0.088*\"redund\" + 0.061*\"invari\" + 0.056*\"branch\" + 0.041*\"techniqu\" + 0.040*\"significantli\" + 0.040*\"regist\" + 0.029*\"develop\" + 0.027*\",\"\n",
      "2022-02-22 15:00:27,465 : INFO : topic #90 (0.022): 0.485*\"problem\" + 0.107*\"solut\" + 0.041*\"present\" + 0.036*\"paper\" + 0.024*\"discuss\" + 0.021*\"techniqu\" + 0.020*\"formul\" + 0.019*\"comput\" + 0.018*\",\" + 0.016*\"linear\"\n",
      "2022-02-22 15:00:27,465 : INFO : topic #72 (0.028): 0.244*\"[\" + 0.228*\"algorithm\" + 0.205*\"(\" + 0.140*\"])\" + 0.047*\"$\" + 0.036*\"))\" + 0.021*\"-\" + 0.017*\"a1\" + 0.013*\"quadratur\" + 0.012*\"integr\"\n",
      "2022-02-22 15:00:27,466 : INFO : topic #66 (0.077): 0.405*\"(\" + 0.366*\")\" + 0.173*\"algorithm\" + 0.012*\"-\" + 0.009*\"integr\" + 0.007*\"order\" + 0.006*\"function\" + 0.005*\"bessel\" + 0.004*\"ii\" + 0.004*\"argument\"\n",
      "2022-02-22 15:00:27,466 : INFO : topic diff=0.149271, rho=0.215156\n",
      "2022-02-22 15:00:27,864 : INFO : -6.415 per-word bound, 85.3 perplexity estimate based on a held-out corpus of 1204 documents with 49783 words\n",
      "2022-02-22 15:00:27,864 : INFO : PROGRESS: pass 19, at document #3204/3204\n",
      "2022-02-22 15:00:28,131 : INFO : optimized alpha [0.013049513, 0.01496148, 0.015835118, 0.01244617, 0.01585844, 0.01301985, 0.012124535, 0.0125756925, 0.01292857, 0.011180409, 0.016966153, 0.012175308, 0.015976021, 0.011764368, 0.012049847, 0.01256665, 0.010826043, 0.015896602, 0.014837914, 0.01745164, 0.015741043, 0.013731407, 0.014964459, 0.013598394, 0.011692821, 0.013909913, 0.015300076, 0.012321077, 0.014512214, 0.012222606, 0.013575328, 0.010891991, 0.01076216, 0.01232804, 0.01501044, 0.014575798, 0.016378324, 0.010679392, 0.012558613, 0.012769199, 0.015475046, 0.013344118, 0.012772248, 0.015506362, 0.012007428, 0.011562687, 0.011938437, 0.009781616, 0.008811031, 0.012031993, 0.013645996, 0.012285979, 0.013139135, 0.011366811, 0.010925422, 0.011923098, 0.016489115, 0.013828743, 0.011605876, 0.014228608, 0.012422818, 0.013216037, 0.014341164, 0.014174571, 0.015351513, 0.013293448, 0.07877213, 0.012381557, 0.013638477, 0.013140946, 0.01648341, 0.011333709, 0.0280126, 0.014586241, 0.014074069, 0.014460646, 0.015327043, 0.011559058, 0.014206645, 0.011354092, 0.013213891, 0.011911597, 0.011350943, 0.013763261, 0.016827691, 0.012320779, 0.011680491, 0.016222784, 0.014573016, 0.013269694, 0.022383228, 0.012763497, 0.0116706155, 0.017984651, 0.013161043, 0.015863895, 0.013397087, 0.014332221, 0.016663132, 0.011784027]\n",
      "2022-02-22 15:00:28,133 : INFO : merging changes from 1204 documents into a model of 3204 documents\n",
      "2022-02-22 15:00:28,137 : INFO : topic #48 (0.009): 0.617*\"elimin\" + 0.157*\"gaussian\" + 0.119*\"semi\" + 0.000*\"automat\" + 0.000*\"-\" + 0.000*\"system\" + 0.000*\"algorithm\" + 0.000*\"eigenvector\" + 0.000*\"time\" + 0.000*\"storag\"\n",
      "2022-02-22 15:00:28,137 : INFO : topic #47 (0.010): 0.151*\"loop\" + 0.118*\"usag\" + 0.086*\"redund\" + 0.065*\"invari\" + 0.060*\"branch\" + 0.046*\"significantli\" + 0.042*\"techniqu\" + 0.036*\"regist\" + 0.030*\"develop\" + 0.027*\"optim\"\n",
      "2022-02-22 15:00:28,137 : INFO : topic #90 (0.022): 0.487*\"problem\" + 0.106*\"solut\" + 0.041*\"present\" + 0.037*\"paper\" + 0.024*\"discuss\" + 0.020*\"techniqu\" + 0.020*\"formul\" + 0.018*\"comput\" + 0.018*\",\" + 0.017*\"linear\"\n",
      "2022-02-22 15:00:28,138 : INFO : topic #72 (0.028): 0.247*\"[\" + 0.231*\"algorithm\" + 0.199*\"(\" + 0.117*\"])\" + 0.057*\"$\" + 0.045*\"))\" + 0.021*\"-\" + 0.018*\"a1\" + 0.014*\"quadratur\" + 0.011*\"integr\"\n",
      "2022-02-22 15:00:28,138 : INFO : topic #66 (0.079): 0.409*\"(\" + 0.368*\")\" + 0.169*\"algorithm\" + 0.012*\"-\" + 0.008*\"integr\" + 0.007*\"order\" + 0.006*\"function\" + 0.004*\"bessel\" + 0.004*\"argument\" + 0.003*\"ii\"\n",
      "2022-02-22 15:00:28,138 : INFO : topic diff=0.153768, rho=0.215156\n"
     ]
    },
    {
     "data": {
      "text/plain": [
       "[(0, 0.0053658765),\n",
       " (1, 0.006152065),\n",
       " (2, 0.0065112994),\n",
       " (3, 0.0051177857),\n",
       " (4, 0.0065208892),\n",
       " (5, 0.005353679),\n",
       " (6, 0.0049855313),\n",
       " (7, 0.0051710443),\n",
       " (8, 0.0053161453),\n",
       " (9, 0.004597313),\n",
       " (10, 0.006976374),\n",
       " (11, 0.005006409),\n",
       " (12, 0.006569238),\n",
       " (13, 0.004837433),\n",
       " (14, 0.0049548205),\n",
       " (15, 0.0051673264),\n",
       " (16, 0.0044516),\n",
       " (17, 0.006536581),\n",
       " (18, 0.006101256),\n",
       " (19, 0.007176003),\n",
       " (20, 0.0064726165),\n",
       " (21, 0.005646267),\n",
       " (22, 0.00615329),\n",
       " (23, 0.0055915727),\n",
       " (24, 0.0048080133),\n",
       " (25, 0.0057196673),\n",
       " (26, 0.0062912935),\n",
       " (27, 0.0050663482),\n",
       " (28, 0.0059673297),\n",
       " (29, 0.41621673),\n",
       " (30, 0.005582088),\n",
       " (31, 0.004478717),\n",
       " (32, 0.0044253315),\n",
       " (33, 0.005069211),\n",
       " (34, 0.006172197),\n",
       " (35, 0.005993475),\n",
       " (36, 0.0067346627),\n",
       " (37, 0.0043912977),\n",
       " (38, 0.0051640216),\n",
       " (39, 0.005250613),\n",
       " (40, 0.00636324),\n",
       " (41, 0.0054870164),\n",
       " (42, 0.0052518668),\n",
       " (43, 0.006376117),\n",
       " (44, 0.0049373778),\n",
       " (45, 0.0047545033),\n",
       " (46, 0.004909009),\n",
       " (47, 0.004022138),\n",
       " (48, 0.0036230395),\n",
       " (49, 0.004947479),\n",
       " (50, 0.005611147),\n",
       " (51, 0.0050519165),\n",
       " (52, 0.0054027284),\n",
       " (53, 0.00467396),\n",
       " (54, 0.004492464),\n",
       " (55, 0.004902702),\n",
       " (56, 0.006780219),\n",
       " (57, 0.005686291),\n",
       " (58, 0.0047722617),\n",
       " (59, 0.005850713),\n",
       " (60, 0.0051081832),\n",
       " (61, 0.00543435),\n",
       " (62, 0.0058969953),\n",
       " (63, 0.0058284933),\n",
       " (64, 0.0063124443),\n",
       " (65, 0.005466181),\n",
       " (66, 0.032390594),\n",
       " (67, 0.0050912173),\n",
       " (68, 0.005608055),\n",
       " (69, 0.005403473),\n",
       " (70, 0.006777873),\n",
       " (71, 0.004660349),\n",
       " (72, 0.011518602),\n",
       " (73, 0.005997769),\n",
       " (74, 0.0057871677),\n",
       " (75, 0.0059461254),\n",
       " (76, 0.0063023823),\n",
       " (77, 0.004753011),\n",
       " (78, 0.0058416817),\n",
       " (79, 0.00466873),\n",
       " (80, 0.0054334677),\n",
       " (81, 0.0048979726),\n",
       " (82, 0.0046674353),\n",
       " (83, 0.005659365),\n",
       " (84, 0.0069194394),\n",
       " (85, 0.005066226),\n",
       " (86, 0.0048029437),\n",
       " (87, 0.0066707055),\n",
       " (88, 0.005992331),\n",
       " (89, 0.005456413),\n",
       " (90, 0.00920384),\n",
       " (91, 0.0052482686),\n",
       " (92, 0.0047988826),\n",
       " (93, 0.007395174),\n",
       " (94, 0.0054117367),\n",
       " (95, 0.0065231323),\n",
       " (96, 0.005508797),\n",
       " (97, 0.0058933175),\n",
       " (98, 0.0068517737),\n",
       " (99, 0.0048455168)]"
      ]
     },
     "execution_count": 87,
     "metadata": {},
     "output_type": "execute_result"
    }
   ],
   "source": [
    "##### Function check\n",
    "lda = LdaRetrievalModel(doc_repr_2)\n",
    "lda.train_model()\n",
    "\n",
    "# you can now get an LDA vector for a given query in the following way:\n",
    "lda.vectorize_query(\"report\")\n",
    "##### "
   ]
  },
  {
   "cell_type": "markdown",
   "metadata": {
    "deletable": false,
    "editable": false,
    "nbgrader": {
     "cell_type": "markdown",
     "checksum": "32d83b6ea79ca3ddb789a7f8805a1b25",
     "grade": false,
     "grade_id": "cell-0e24b727d5908c0e",
     "locked": true,
     "points": 5,
     "schema_version": 3,
     "solution": false,
     "task": true
    }
   },
   "source": [
    "\\#### Please do not change this. This cell is used for grading."
   ]
  },
  {
   "cell_type": "markdown",
   "metadata": {
    "deletable": false,
    "editable": false,
    "nbgrader": {
     "cell_type": "markdown",
     "checksum": "114a934f0b9ce696e6cf09d3b8da6a3d",
     "grade": false,
     "grade_id": "cell-b1bffcb970b18aeb",
     "locked": true,
     "schema_version": 3,
     "solution": false,
     "task": false
    }
   },
   "source": [
    "---\n",
    "Now we can use the `DenseRetrievalModel` class to obtain an LDA search function.\n",
    "You can test your LDA model in the following cell: Try finding queries which are lexically different to documents, but semantically similar - does LDA work well for these queries?!"
   ]
  },
  {
   "cell_type": "code",
   "execution_count": 88,
   "metadata": {},
   "outputs": [
    {
     "data": {
      "application/vnd.jupyter.widget-view+json": {
       "model_id": "1e21c1498bb040a29be9fed77c848f8e",
       "version_major": 2,
       "version_minor": 0
      },
      "text/plain": [
       "Text(value='', description='Search Bar')"
      ]
     },
     "metadata": {},
     "output_type": "display_data"
    }
   ],
   "source": [
    "drm_lda = DenseRetrievalRanker(lda, jenson_shannon_sim)\n",
    "\n",
    "# test your LDA model\n",
    "search_fn = drm_lda.search\n",
    "\n",
    "text = widgets.Text(description=\"Search Bar\", width=200)\n",
    "display(text)\n",
    "\n",
    "\n",
    "text.on_submit(handle_submit_2)"
   ]
  },
  {
   "cell_type": "markdown",
   "metadata": {
    "deletable": false,
    "editable": false,
    "nbgrader": {
     "cell_type": "markdown",
     "checksum": "9d7f15863b655119b45f4d89354e5661",
     "grade": false,
     "grade_id": "cell-190cd0854b2791cc",
     "locked": true,
     "schema_version": 3,
     "solution": false,
     "task": false
    }
   },
   "source": [
    "## Section 8: Word2Vec/Doc2Vec (20 points) <a class=\"anchor\" id=\"2vec\"></a>\n",
    "\n",
    "[Back to Part 2](#part2)\n",
    "\n",
    "We will implement two other methods here, the Word2Vec model and the Doc2Vec model, also using `gensim`. Word2Vec creates representations of words, not documents, so the word level vectors need to be aggregated to obtain a representation for the document. Here, we will simply take the mean of the vectors. \n",
    "\n",
    "\n",
    "A drawback of these models is that they need a lot of training data. Our dataset is tiny, so in addition to using a model trained on the data, we will also use a pre-trained model for Word2Vec (this will be automatically downloaded).     \n",
    "\n",
    "*Note*:\n",
    "1. The code in vectorize_documents / vectorize_query should return gensim-like vectors i.e `[(dim, val), .. (dim, val)]`. \n",
    "2. For Word2Vec: You should also handle the following two cases: (a) A word in the query is not present in the vocabulary of the model and (b) none of the words in the query are present in the model - you can return 0 scores for all documents in this case. For either of these, you can check if a `word` is present in the vocab by using `word in self.model`\n"
   ]
  },
  {
   "cell_type": "code",
   "execution_count": 89,
   "metadata": {
    "deletable": false,
    "nbgrader": {
     "cell_type": "code",
     "checksum": "83ab733608ed14c29c09b36b4e1b6daa",
     "grade": false,
     "grade_id": "cell-2b73759f9baf688f",
     "locked": false,
     "schema_version": 3,
     "solution": true,
     "task": false
    },
    "tags": []
   },
   "outputs": [
    {
     "name": "stderr",
     "output_type": "stream",
     "text": [
      "2022-02-22 15:00:29,310 : INFO : adding document #0 to Dictionary(0 unique tokens: [])\n",
      "2022-02-22 15:00:29,413 : INFO : built Dictionary(5937 unique tokens: ['-', 'algebra', 'intern', 'languag', 'preliminari']...) from 3204 documents (total 115969 corpus positions)\n",
      "2022-02-22 15:00:29,418 : INFO : discarding 4740 tokens: [('repeat', 8), ('glossari', 7), ('inspect', 8), ('uncol', 2), ('rung', 9), ('secant', 2), ('.', 1603), ('acceler', 6), ('diverg', 3), ('induc', 9)]...\n",
      "2022-02-22 15:00:29,419 : INFO : keeping 1197 tokens which were in no less than 10 and no more than 1602 (=50.0%) documents\n",
      "2022-02-22 15:00:29,420 : INFO : resulting dictionary: Dictionary(1197 unique tokens: ['-', 'algebra', 'intern', 'languag', 'preliminari']...)\n",
      "2022-02-22 15:00:29,479 : INFO : collecting all words and their counts\n",
      "2022-02-22 15:00:29,479 : INFO : PROGRESS: at sentence #0, processed 0 words, keeping 0 word types\n",
      "2022-02-22 15:00:29,492 : INFO : collected 5937 word types from a corpus of 115969 raw words and 3204 sentences\n",
      "2022-02-22 15:00:29,493 : INFO : Loading a fresh vocabulary\n",
      "2022-02-22 15:00:29,500 : INFO : effective_min_count=1 retains 5937 unique words (100% of original 5937, drops 0)\n",
      "2022-02-22 15:00:29,500 : INFO : effective_min_count=1 leaves 115969 word corpus (100% of original 115969, drops 0)\n",
      "2022-02-22 15:00:29,512 : INFO : deleting the raw counts dictionary of 5937 items\n",
      "2022-02-22 15:00:29,513 : INFO : sample=0.001 downsamples 40 most-common words\n",
      "2022-02-22 15:00:29,513 : INFO : downsampling leaves estimated 92346 word corpus (79.6% of prior 115969)\n",
      "2022-02-22 15:00:29,523 : INFO : estimated required memory for 5937 words and 100 dimensions: 7718100 bytes\n",
      "2022-02-22 15:00:29,523 : INFO : resetting layer weights\n",
      "2022-02-22 15:00:30,385 : INFO : training model with 3 workers on 5937 vocabulary and 100 features, using sg=0 hs=0 sample=0.001 negative=5 window=5\n",
      "2022-02-22 15:00:30,430 : INFO : worker thread finished; awaiting finish of 2 more threads\n",
      "2022-02-22 15:00:30,432 : INFO : worker thread finished; awaiting finish of 1 more threads\n",
      "2022-02-22 15:00:30,433 : INFO : worker thread finished; awaiting finish of 0 more threads\n",
      "2022-02-22 15:00:30,433 : INFO : EPOCH - 1 : training on 115969 raw words (92241 effective words) took 0.0s, 2024964 effective words/s\n",
      "2022-02-22 15:00:30,474 : INFO : worker thread finished; awaiting finish of 2 more threads\n",
      "2022-02-22 15:00:30,477 : INFO : worker thread finished; awaiting finish of 1 more threads\n",
      "2022-02-22 15:00:30,478 : INFO : worker thread finished; awaiting finish of 0 more threads\n",
      "2022-02-22 15:00:30,478 : INFO : EPOCH - 2 : training on 115969 raw words (92353 effective words) took 0.0s, 2174067 effective words/s\n",
      "2022-02-22 15:00:30,519 : INFO : worker thread finished; awaiting finish of 2 more threads\n",
      "2022-02-22 15:00:30,520 : INFO : worker thread finished; awaiting finish of 1 more threads\n",
      "2022-02-22 15:00:30,521 : INFO : worker thread finished; awaiting finish of 0 more threads\n",
      "2022-02-22 15:00:30,522 : INFO : EPOCH - 3 : training on 115969 raw words (92257 effective words) took 0.0s, 2323715 effective words/s\n",
      "2022-02-22 15:00:30,563 : INFO : worker thread finished; awaiting finish of 2 more threads\n",
      "2022-02-22 15:00:30,564 : INFO : worker thread finished; awaiting finish of 1 more threads\n",
      "2022-02-22 15:00:30,565 : INFO : worker thread finished; awaiting finish of 0 more threads\n",
      "2022-02-22 15:00:30,565 : INFO : EPOCH - 4 : training on 115969 raw words (92270 effective words) took 0.0s, 2251543 effective words/s\n",
      "2022-02-22 15:00:30,606 : INFO : worker thread finished; awaiting finish of 2 more threads\n",
      "2022-02-22 15:00:30,607 : INFO : worker thread finished; awaiting finish of 1 more threads\n",
      "2022-02-22 15:00:30,608 : INFO : worker thread finished; awaiting finish of 0 more threads\n",
      "2022-02-22 15:00:30,609 : INFO : EPOCH - 5 : training on 115969 raw words (92276 effective words) took 0.0s, 2321360 effective words/s\n",
      "2022-02-22 15:00:30,609 : INFO : training on a 579845 raw words (461397 effective words) took 0.2s, 2066261 effective words/s\n",
      "/Users/piyush/miniconda3/envs/ir1-i386/lib/python3.6/site-packages/ipykernel_launcher.py:55: DeprecationWarning: Call to deprecated `__contains__` (Method will be removed in 4.0.0, use self.wv.__contains__() instead).\n",
      "/Users/piyush/miniconda3/envs/ir1-i386/lib/python3.6/site-packages/ipykernel_launcher.py:56: DeprecationWarning: Call to deprecated `__getitem__` (Method will be removed in 4.0.0, use self.wv.__getitem__() instead).\n"
     ]
    },
    {
     "data": {
      "text/plain": [
       "[(1, 0.374826043844223),\n",
       " (2, -0.5780032873153687),\n",
       " (3, 0.08587300032377243),\n",
       " (4, 0.3281939923763275),\n",
       " (5, 0.15364794433116913),\n",
       " (6, 0.003749745199456811),\n",
       " (7, -0.5046921968460083),\n",
       " (8, -0.8773519396781921),\n",
       " (9, 0.46841129660606384),\n",
       " (10, 0.4474596083164215),\n",
       " (11, 1.3945618867874146),\n",
       " (12, 0.29352515935897827),\n",
       " (13, 0.31923016905784607),\n",
       " (14, -0.6104432940483093),\n",
       " (15, 0.6431052088737488),\n",
       " (16, -0.707181990146637),\n",
       " (17, -0.9085823893547058),\n",
       " (18, -0.5561475157737732),\n",
       " (19, 0.006785373203456402),\n",
       " (20, -0.32686325907707214),\n",
       " (21, -0.35460126399993896),\n",
       " (22, -0.1059660091996193),\n",
       " (23, -0.6101990938186646),\n",
       " (24, -0.7767288088798523),\n",
       " (25, 0.279058039188385),\n",
       " (26, 0.11043524742126465),\n",
       " (27, -0.2539644241333008),\n",
       " (28, -0.05237722396850586),\n",
       " (29, 0.05125632882118225),\n",
       " (30, -0.2973784804344177),\n",
       " (31, -0.2515019476413727),\n",
       " (32, -0.0793992280960083),\n",
       " (33, 0.2928672134876251),\n",
       " (34, 1.0284990072250366),\n",
       " (35, 0.69117271900177),\n",
       " (36, 0.16837161779403687),\n",
       " (37, 0.567435085773468),\n",
       " (38, -0.6088890433311462),\n",
       " (39, 0.480506032705307),\n",
       " (40, 0.28880050778388977),\n",
       " (41, 0.032159898430109024),\n",
       " (42, 0.334484338760376),\n",
       " (43, 0.12384696304798126),\n",
       " (44, 0.14533105492591858),\n",
       " (45, -0.12292293459177017),\n",
       " (46, -0.18423470854759216),\n",
       " (47, -0.27154937386512756),\n",
       " (48, 0.09032121300697327),\n",
       " (49, 0.311781108379364),\n",
       " (50, 0.04899314045906067),\n",
       " (51, -0.529292106628418),\n",
       " (52, 0.16322742402553558),\n",
       " (53, 0.38832831382751465),\n",
       " (54, 0.3119816780090332),\n",
       " (55, -0.20882582664489746),\n",
       " (56, 0.8361788392066956),\n",
       " (57, 0.22564640641212463),\n",
       " (58, -0.4999721050262451),\n",
       " (59, -0.019076069816946983),\n",
       " (60, -0.12392432242631912),\n",
       " (61, 0.2124379724264145),\n",
       " (62, 0.3047471046447754),\n",
       " (63, 0.4951571524143219),\n",
       " (64, 0.4605077803134918),\n",
       " (65, 0.09023217856884003),\n",
       " (66, 0.23622353374958038),\n",
       " (67, 0.5049023032188416),\n",
       " (68, 0.535010814666748),\n",
       " (69, -0.6043766736984253),\n",
       " (70, 0.44980794191360474),\n",
       " (71, 0.003998636733740568),\n",
       " (72, 0.6024397611618042),\n",
       " (73, 0.1561441421508789),\n",
       " (74, 0.13958428800106049),\n",
       " (75, -0.8122653365135193),\n",
       " (76, 0.46559637784957886),\n",
       " (77, 0.20496100187301636),\n",
       " (78, 0.6713656187057495),\n",
       " (79, -0.39210745692253113),\n",
       " (80, -0.2577137351036072),\n",
       " (81, 0.5303113460540771),\n",
       " (82, -0.590177059173584),\n",
       " (83, -0.19549885392189026),\n",
       " (84, 0.0766892358660698),\n",
       " (85, -0.08199350535869598),\n",
       " (86, -0.4135141968727112),\n",
       " (87, 0.4522857964038849),\n",
       " (88, -0.15753115713596344),\n",
       " (89, -0.4780639708042145),\n",
       " (90, 0.10056573152542114),\n",
       " (91, -0.18854473531246185),\n",
       " (92, 0.1625954657793045),\n",
       " (93, -0.5615691542625427),\n",
       " (94, -0.7591578960418701),\n",
       " (95, -0.21393191814422607),\n",
       " (96, -0.18476910889148712),\n",
       " (97, -0.12541651725769043),\n",
       " (98, -0.22979481518268585),\n",
       " (99, 0.13498811423778534),\n",
       " (100, -0.22061938047409058)]"
      ]
     },
     "execution_count": 89,
     "metadata": {},
     "output_type": "execute_result"
    }
   ],
   "source": [
    "# TODO: Implement this! (10 points)\n",
    "class W2VRetrievalModel(VectorSpaceRetrievalModel):\n",
    "    def __init__(self, doc_repr):\n",
    "        super().__init__(doc_repr)\n",
    "        \n",
    "        # the dimensionality of the vectors\n",
    "        self.size = 100 \n",
    "        self.min_count = 1\n",
    "        \n",
    "        # set the sentences\n",
    "        self.doc_ids = [x[0] for x in doc_repr]\n",
    "        self.sentences = [x[1] for x in doc_repr]\n",
    "    \n",
    "    def train_model(self):\n",
    "        \"\"\"\n",
    "        Trains the W2V model\n",
    "        \"\"\"\n",
    "        # YOUR CODE HERE\n",
    "        self.model = Word2Vec(sentences=self.documents, size=self.size, min_count=self.min_count)\n",
    "        \n",
    "    def vectorize_documents(self):\n",
    "        \"\"\"\n",
    "            Returns a doc_id -> vector dictionary\n",
    "        \"\"\"\n",
    "        # YOUR CODE HERE\n",
    "\n",
    "        from collections import defaultdict\n",
    "\n",
    "        # document_vectors = defaultdict(lambda: np.zeros(self.size))\n",
    "        document_vectors = {doc_id: np.zeros(self.size) for doc_id in self.doc_ids}\n",
    "        for i in range(len(self.doc_ids)):\n",
    "            doc_id = self.doc_ids[i]\n",
    "            sentence = self.sentences[i]\n",
    "\n",
    "            for word in sentence:\n",
    "                if word in self.model:\n",
    "                    document_vectors[doc_id] += self.model[word] / len(sentence)\n",
    "        \n",
    "        for doc_id in self.doc_ids:\n",
    "            document_vectors[doc_id] = [(i+1, val) for i, val in enumerate(document_vectors[doc_id])]\n",
    "        \n",
    "        return document_vectors\n",
    "\n",
    "    def vectorize_query(self, query):\n",
    "        \"\"\"\n",
    "        Vectorizes the query using the W2V model\n",
    "        \"\"\"\n",
    "        query = process_text(query, **config_2)\n",
    "\n",
    "        # YOUR CODE HERE\n",
    "        # raise NotImplementedError()\n",
    "        \n",
    "        query_vector = np.zeros(self.size)\n",
    "        for word in query:\n",
    "            if word in self.model:\n",
    "                query_vector += self.model[word] / len(query)\n",
    "\n",
    "        query_vector = [(i+1, val) for i, val in enumerate(query_vector)]\n",
    "\n",
    "        return query_vector\n",
    "    \n",
    "class W2VPretrainedRetrievalModel(W2VRetrievalModel):\n",
    "    def __init__(self, doc_repr):\n",
    "        super().__init__(doc_repr)\n",
    "        self.model_name = \"word2vec-google-news-300\"\n",
    "        self.size = 300\n",
    "    \n",
    "    def train_model(self):\n",
    "        \"\"\"\n",
    "        Loads the pretrained model\n",
    "        \"\"\"\n",
    "        self.model = g_downloader.load(self.model_name)\n",
    "\n",
    "w2v = W2VRetrievalModel(doc_repr_2)\n",
    "w2v.train_model()\n",
    "\n",
    "# you can now get a W2V vector for a given query in the following way:\n",
    "w2v.vectorize_query(\"report\")"
   ]
  },
  {
   "cell_type": "code",
   "execution_count": 90,
   "metadata": {
    "deletable": false,
    "editable": false,
    "nbgrader": {
     "cell_type": "code",
     "checksum": "f92b5c5a8c6c4b80652b94223209ab0b",
     "grade": true,
     "grade_id": "cell-b31c0f8d214b8bdf",
     "locked": true,
     "points": 0,
     "schema_version": 3,
     "solution": false,
     "task": false
    }
   },
   "outputs": [
    {
     "name": "stderr",
     "output_type": "stream",
     "text": [
      "/Users/piyush/miniconda3/envs/ir1-i386/lib/python3.6/site-packages/ipykernel_launcher.py:55: DeprecationWarning: Call to deprecated `__contains__` (Method will be removed in 4.0.0, use self.wv.__contains__() instead).\n",
      "/Users/piyush/miniconda3/envs/ir1-i386/lib/python3.6/site-packages/ipykernel_launcher.py:56: DeprecationWarning: Call to deprecated `__getitem__` (Method will be removed in 4.0.0, use self.wv.__getitem__() instead).\n"
     ]
    }
   ],
   "source": [
    "assert len(w2v.vectorize_query(\"report\")) == 100\n",
    "assert len(w2v.vectorize_query(\"this is a sentence that is not mellifluous\")) == 100\n"
   ]
  },
  {
   "cell_type": "markdown",
   "metadata": {
    "deletable": false,
    "editable": false,
    "nbgrader": {
     "cell_type": "markdown",
     "checksum": "8dfaabebcb06f308a7ca61fdc5d369e7",
     "grade": false,
     "grade_id": "cell-c2614fa067386384",
     "locked": true,
     "points": 8,
     "schema_version": 3,
     "solution": false,
     "task": true
    }
   },
   "source": [
    "\\#### Please do not change this. This cell is used for grading."
   ]
  },
  {
   "cell_type": "code",
   "execution_count": 91,
   "metadata": {
    "tags": []
   },
   "outputs": [
    {
     "name": "stderr",
     "output_type": "stream",
     "text": [
      "2022-02-22 15:00:30,625 : INFO : adding document #0 to Dictionary(0 unique tokens: [])\n",
      "2022-02-22 15:00:30,723 : INFO : built Dictionary(5937 unique tokens: ['-', 'algebra', 'intern', 'languag', 'preliminari']...) from 3204 documents (total 115969 corpus positions)\n",
      "2022-02-22 15:00:30,728 : INFO : discarding 4740 tokens: [('repeat', 8), ('glossari', 7), ('inspect', 8), ('uncol', 2), ('rung', 9), ('secant', 2), ('.', 1603), ('acceler', 6), ('diverg', 3), ('induc', 9)]...\n",
      "2022-02-22 15:00:30,728 : INFO : keeping 1197 tokens which were in no less than 10 and no more than 1602 (=50.0%) documents\n",
      "2022-02-22 15:00:30,730 : INFO : resulting dictionary: Dictionary(1197 unique tokens: ['-', 'algebra', 'intern', 'languag', 'preliminari']...)\n",
      "2022-02-22 15:00:30,941 : INFO : loading projection weights from /Users/piyush/gensim-data/word2vec-google-news-300/word2vec-google-news-300.gz\n",
      "2022-02-22 15:01:10,295 : INFO : loaded (3000000, 300) matrix from /Users/piyush/gensim-data/word2vec-google-news-300/word2vec-google-news-300.gz\n"
     ]
    },
    {
     "data": {
      "text/plain": [
       "[(1, -0.142578125),\n",
       " (2, -0.1640625),\n",
       " (3, -0.09033203125),\n",
       " (4, -0.1123046875),\n",
       " (5, 0.10009765625),\n",
       " (6, -0.041259765625),\n",
       " (7, 0.048828125),\n",
       " (8, -0.13671875),\n",
       " (9, 0.1962890625),\n",
       " (10, -0.134765625),\n",
       " (11, -0.017578125),\n",
       " (12, 0.0322265625),\n",
       " (13, 0.09521484375),\n",
       " (14, -0.10595703125),\n",
       " (15, -0.169921875),\n",
       " (16, 0.041015625),\n",
       " (17, -0.263671875),\n",
       " (18, -0.006317138671875),\n",
       " (19, -0.177734375),\n",
       " (20, -0.240234375),\n",
       " (21, 0.3515625),\n",
       " (22, -0.01220703125),\n",
       " (23, -0.162109375),\n",
       " (24, -0.12060546875),\n",
       " (25, 0.043212890625),\n",
       " (26, 0.10986328125),\n",
       " (27, 0.052490234375),\n",
       " (28, 0.1787109375),\n",
       " (29, -0.1455078125),\n",
       " (30, 0.1376953125),\n",
       " (31, -0.08203125),\n",
       " (32, -0.283203125),\n",
       " (33, -0.10888671875),\n",
       " (34, -0.2890625),\n",
       " (35, 0.072265625),\n",
       " (36, -0.04736328125),\n",
       " (37, 0.040283203125),\n",
       " (38, 0.06787109375),\n",
       " (39, 0.11669921875),\n",
       " (40, 0.00083160400390625),\n",
       " (41, 0.068359375),\n",
       " (42, 0.1201171875),\n",
       " (43, -0.08837890625),\n",
       " (44, 0.337890625),\n",
       " (45, -0.044677734375),\n",
       " (46, -0.0301513671875),\n",
       " (47, 0.0076904296875),\n",
       " (48, -0.0211181640625),\n",
       " (49, -0.25390625),\n",
       " (50, 0.1494140625),\n",
       " (51, 0.3984375),\n",
       " (52, 0.0216064453125),\n",
       " (53, -0.023193359375),\n",
       " (54, 0.00634765625),\n",
       " (55, 0.00823974609375),\n",
       " (56, -0.1689453125),\n",
       " (57, 0.037353515625),\n",
       " (58, -0.0634765625),\n",
       " (59, 0.1171875),\n",
       " (60, -0.1484375),\n",
       " (61, -0.07861328125),\n",
       " (62, 0.369140625),\n",
       " (63, -0.224609375),\n",
       " (64, 0.173828125),\n",
       " (65, 0.01385498046875),\n",
       " (66, 0.1875),\n",
       " (67, -0.10107421875),\n",
       " (68, 0.037841796875),\n",
       " (69, 0.0021209716796875),\n",
       " (70, -0.05126953125),\n",
       " (71, 0.09619140625),\n",
       " (72, -0.05712890625),\n",
       " (73, 0.10595703125),\n",
       " (74, -0.02099609375),\n",
       " (75, 0.1611328125),\n",
       " (76, 0.09765625),\n",
       " (77, 0.038330078125),\n",
       " (78, 0.2197265625),\n",
       " (79, 0.1064453125),\n",
       " (80, 0.0859375),\n",
       " (81, 0.1796875),\n",
       " (82, -0.0830078125),\n",
       " (83, -0.033203125),\n",
       " (84, 0.041015625),\n",
       " (85, -0.06494140625),\n",
       " (86, 0.0198974609375),\n",
       " (87, 0.1337890625),\n",
       " (88, -0.09765625),\n",
       " (89, -0.193359375),\n",
       " (90, -0.2353515625),\n",
       " (91, 0.1904296875),\n",
       " (92, 0.0024871826171875),\n",
       " (93, -0.0157470703125),\n",
       " (94, 0.0322265625),\n",
       " (95, -0.2197265625),\n",
       " (96, -0.09130859375),\n",
       " (97, 0.021240234375),\n",
       " (98, 0.158203125),\n",
       " (99, 0.298828125),\n",
       " (100, -0.328125),\n",
       " (101, 0.057373046875),\n",
       " (102, -0.04638671875),\n",
       " (103, 0.11328125),\n",
       " (104, -0.1015625),\n",
       " (105, 0.1806640625),\n",
       " (106, -0.025146484375),\n",
       " (107, -0.166015625),\n",
       " (108, -0.09619140625),\n",
       " (109, 0.018798828125),\n",
       " (110, -0.1943359375),\n",
       " (111, 0.1494140625),\n",
       " (112, -0.056640625),\n",
       " (113, -0.10693359375),\n",
       " (114, -0.150390625),\n",
       " (115, -0.17578125),\n",
       " (116, 0.11279296875),\n",
       " (117, 0.04931640625),\n",
       " (118, 0.2197265625),\n",
       " (119, 0.318359375),\n",
       " (120, 0.1572265625),\n",
       " (121, -0.29296875),\n",
       " (122, 0.10498046875),\n",
       " (123, -0.296875),\n",
       " (124, -0.013427734375),\n",
       " (125, 0.0908203125),\n",
       " (126, 0.0125732421875),\n",
       " (127, -0.051513671875),\n",
       " (128, -0.12890625),\n",
       " (129, 0.01446533203125),\n",
       " (130, 0.12060546875),\n",
       " (131, -0.10107421875),\n",
       " (132, -0.111328125),\n",
       " (133, 0.06396484375),\n",
       " (134, -0.052978515625),\n",
       " (135, -0.043212890625),\n",
       " (136, -0.012939453125),\n",
       " (137, -0.027587890625),\n",
       " (138, -0.09716796875),\n",
       " (139, -0.2021484375),\n",
       " (140, 0.123046875),\n",
       " (141, -0.04248046875),\n",
       " (142, 0.173828125),\n",
       " (143, -0.013671875),\n",
       " (144, 0.1015625),\n",
       " (145, -0.00093841552734375),\n",
       " (146, -0.03564453125),\n",
       " (147, 0.30078125),\n",
       " (148, -0.068359375),\n",
       " (149, -0.05615234375),\n",
       " (150, 0.03759765625),\n",
       " (151, 0.06591796875),\n",
       " (152, 0.040283203125),\n",
       " (153, 0.01190185546875),\n",
       " (154, 0.09619140625),\n",
       " (155, 0.3671875),\n",
       " (156, -0.279296875),\n",
       " (157, -0.052001953125),\n",
       " (158, -0.10693359375),\n",
       " (159, -0.134765625),\n",
       " (160, -0.046142578125),\n",
       " (161, 0.25),\n",
       " (162, 0.00567626953125),\n",
       " (163, -0.014404296875),\n",
       " (164, -0.031005859375),\n",
       " (165, -0.060302734375),\n",
       " (166, 0.10595703125),\n",
       " (167, 0.37890625),\n",
       " (168, 0.058837890625),\n",
       " (169, 0.123046875),\n",
       " (170, -0.115234375),\n",
       " (171, 0.1494140625),\n",
       " (172, -0.1640625),\n",
       " (173, -0.2333984375),\n",
       " (174, -0.07763671875),\n",
       " (175, 0.0267333984375),\n",
       " (176, -0.0211181640625),\n",
       " (177, 0.1943359375),\n",
       " (178, -0.05615234375),\n",
       " (179, -0.006439208984375),\n",
       " (180, -0.169921875),\n",
       " (181, -0.11865234375),\n",
       " (182, -0.0673828125),\n",
       " (183, -0.06884765625),\n",
       " (184, -0.0869140625),\n",
       " (185, -0.1015625),\n",
       " (186, 0.01416015625),\n",
       " (187, -0.201171875),\n",
       " (188, 0.09814453125),\n",
       " (189, -0.01025390625),\n",
       " (190, 0.1875),\n",
       " (191, 0.1962890625),\n",
       " (192, -0.220703125),\n",
       " (193, -0.1962890625),\n",
       " (194, -0.07373046875),\n",
       " (195, 0.06640625),\n",
       " (196, -0.1337890625),\n",
       " (197, 0.18359375),\n",
       " (198, -0.2001953125),\n",
       " (199, 0.1982421875),\n",
       " (200, 0.05029296875),\n",
       " (201, 0.0299072265625),\n",
       " (202, 0.0177001953125),\n",
       " (203, -0.193359375),\n",
       " (204, -0.09619140625),\n",
       " (205, -0.1025390625),\n",
       " (206, 0.212890625),\n",
       " (207, -0.0299072265625),\n",
       " (208, 0.1435546875),\n",
       " (209, 0.041015625),\n",
       " (210, -0.2119140625),\n",
       " (211, 0.2080078125),\n",
       " (212, 0.1376953125),\n",
       " (213, -0.0196533203125),\n",
       " (214, 0.01495361328125),\n",
       " (215, -0.09765625),\n",
       " (216, 0.2431640625),\n",
       " (217, 0.080078125),\n",
       " (218, 0.08251953125),\n",
       " (219, 0.0986328125),\n",
       " (220, 0.056884765625),\n",
       " (221, 0.04248046875),\n",
       " (222, 0.06884765625),\n",
       " (223, -0.035400390625),\n",
       " (224, -0.076171875),\n",
       " (225, -0.00016117095947265625),\n",
       " (226, -0.0751953125),\n",
       " (227, 0.224609375),\n",
       " (228, 0.1513671875),\n",
       " (229, 0.1005859375),\n",
       " (230, 0.10986328125),\n",
       " (231, 0.0238037109375),\n",
       " (232, 0.08837890625),\n",
       " (233, 0.061767578125),\n",
       " (234, -0.10791015625),\n",
       " (235, 0.062255859375),\n",
       " (236, 0.0034332275390625),\n",
       " (237, 0.08056640625),\n",
       " (238, 0.10693359375),\n",
       " (239, 0.0888671875),\n",
       " (240, -0.2373046875),\n",
       " (241, 0.06494140625),\n",
       " (242, 0.01019287109375),\n",
       " (243, -0.08837890625),\n",
       " (244, -0.33203125),\n",
       " (245, 0.004669189453125),\n",
       " (246, 0.212890625),\n",
       " (247, 0.0859375),\n",
       " (248, 0.0203857421875),\n",
       " (249, 0.045654296875),\n",
       " (250, 0.1484375),\n",
       " (251, 0.1181640625),\n",
       " (252, 0.0556640625),\n",
       " (253, -0.1728515625),\n",
       " (254, -0.125),\n",
       " (255, -0.025390625),\n",
       " (256, -0.318359375),\n",
       " (257, 0.0311279296875),\n",
       " (258, 0.0859375),\n",
       " (259, -0.0419921875),\n",
       " (260, 0.15625),\n",
       " (261, 0.1611328125),\n",
       " (262, 0.1982421875),\n",
       " (263, -0.10009765625),\n",
       " (264, 0.203125),\n",
       " (265, 0.12890625),\n",
       " (266, 0.2333984375),\n",
       " (267, -0.267578125),\n",
       " (268, 0.05517578125),\n",
       " (269, 0.048828125),\n",
       " (270, 0.072265625),\n",
       " (271, 0.244140625),\n",
       " (272, 0.244140625),\n",
       " (273, 0.056884765625),\n",
       " (274, -0.0546875),\n",
       " (275, -0.03369140625),\n",
       " (276, -0.12060546875),\n",
       " (277, 0.034912109375),\n",
       " (278, -0.1455078125),\n",
       " (279, 0.08740234375),\n",
       " (280, -0.0830078125),\n",
       " (281, 0.0172119140625),\n",
       " (282, 0.1435546875),\n",
       " (283, -0.12255859375),\n",
       " (284, 0.1796875),\n",
       " (285, 0.130859375),\n",
       " (286, -0.1650390625),\n",
       " (287, 0.01275634765625),\n",
       " (288, 0.16015625),\n",
       " (289, -0.0311279296875),\n",
       " (290, 0.08203125),\n",
       " (291, 0.173828125),\n",
       " (292, -0.16796875),\n",
       " (293, 0.130859375),\n",
       " (294, 0.08544921875),\n",
       " (295, -0.2109375),\n",
       " (296, -0.130859375),\n",
       " (297, -0.0289306640625),\n",
       " (298, -0.10546875),\n",
       " (299, 0.08447265625),\n",
       " (300, -0.1416015625)]"
      ]
     },
     "execution_count": 91,
     "metadata": {},
     "output_type": "execute_result"
    }
   ],
   "source": [
    "w2v_pretrained = W2VPretrainedRetrievalModel(doc_repr_2)\n",
    "w2v_pretrained.train_model()\n",
    "\n",
    "# you can now get an W2V vector for a given query in the following way:\n",
    "w2v_pretrained.vectorize_query(\"report\")"
   ]
  },
  {
   "cell_type": "code",
   "execution_count": 92,
   "metadata": {
    "deletable": false,
    "editable": false,
    "nbgrader": {
     "cell_type": "code",
     "checksum": "0822845afb5eafe5ddb1ffeaa4f4942a",
     "grade": true,
     "grade_id": "cell-1b1466f8ce516f42",
     "locked": true,
     "points": 2,
     "schema_version": 3,
     "solution": false,
     "task": false
    }
   },
   "outputs": [
    {
     "name": "stdout",
     "output_type": "stream",
     "text": [
      "300\n"
     ]
    }
   ],
   "source": [
    "##### Function check\n",
    "\n",
    "print(len(w2v_pretrained.vectorize_query(\"report\")))\n",
    "#####"
   ]
  },
  {
   "cell_type": "code",
   "execution_count": 93,
   "metadata": {},
   "outputs": [
    {
     "name": "stderr",
     "output_type": "stream",
     "text": [
      "/Users/piyush/miniconda3/envs/ir1-i386/lib/python3.6/site-packages/ipykernel_launcher.py:36: DeprecationWarning: Call to deprecated `__contains__` (Method will be removed in 4.0.0, use self.wv.__contains__() instead).\n",
      "/Users/piyush/miniconda3/envs/ir1-i386/lib/python3.6/site-packages/ipykernel_launcher.py:37: DeprecationWarning: Call to deprecated `__getitem__` (Method will be removed in 4.0.0, use self.wv.__getitem__() instead).\n"
     ]
    },
    {
     "data": {
      "application/vnd.jupyter.widget-view+json": {
       "model_id": "8ab3974c6bc5484f821e7e7140b2bc8c",
       "version_major": 2,
       "version_minor": 0
      },
      "text/plain": [
       "Text(value='', description='Search Bar')"
      ]
     },
     "metadata": {},
     "output_type": "display_data"
    }
   ],
   "source": [
    "drm_w2v = DenseRetrievalRanker(w2v, cosine_sim)\n",
    "\n",
    "# test your LDA model\n",
    "search_fn = drm_w2v.search\n",
    "\n",
    "text = widgets.Text(description=\"Search Bar\", width=200)\n",
    "display(text)\n",
    "\n",
    "\n",
    "text.on_submit(handle_submit_2)"
   ]
  },
  {
   "cell_type": "code",
   "execution_count": 94,
   "metadata": {},
   "outputs": [
    {
     "data": {
      "application/vnd.jupyter.widget-view+json": {
       "model_id": "7315799aadec4f6e929034627be415bd",
       "version_major": 2,
       "version_minor": 0
      },
      "text/plain": [
       "Text(value='', description='Search Bar')"
      ]
     },
     "metadata": {},
     "output_type": "display_data"
    }
   ],
   "source": [
    "drm_w2v_pretrained = DenseRetrievalRanker(w2v_pretrained, cosine_sim)\n",
    "\n",
    "# test your LDA model\n",
    "search_fn = drm_w2v_pretrained.search\n",
    "\n",
    "text = widgets.Text(description=\"Search Bar\", width=200)\n",
    "display(text)\n",
    "\n",
    "\n",
    "text.on_submit(handle_submit_2)"
   ]
  },
  {
   "cell_type": "markdown",
   "metadata": {
    "deletable": false,
    "editable": false,
    "nbgrader": {
     "cell_type": "markdown",
     "checksum": "51b778984fd60757974f51047c61eb15",
     "grade": false,
     "grade_id": "cell-b92f701cbc706108",
     "locked": true,
     "schema_version": 3,
     "solution": false,
     "task": false
    }
   },
   "source": [
    "**Implementation (10 points):**\n",
    "For Doc2Vec, you will need to create a list of `TaggedDocument` instead of using the `self.corpus` or `self.documents` variable. Use the document id as the 'tag'.\n",
    "  "
   ]
  },
  {
   "cell_type": "code",
   "execution_count": 95,
   "metadata": {
    "deletable": false,
    "nbgrader": {
     "cell_type": "code",
     "checksum": "1f60fdeb97febb7f4a6fd5bf109aac20",
     "grade": false,
     "grade_id": "cell-680facdcc98a19ab",
     "locked": false,
     "schema_version": 3,
     "solution": true,
     "task": false
    },
    "tags": []
   },
   "outputs": [
    {
     "name": "stderr",
     "output_type": "stream",
     "text": [
      "2022-02-22 15:01:12,500 : INFO : adding document #0 to Dictionary(0 unique tokens: [])\n",
      "2022-02-22 15:01:12,604 : INFO : built Dictionary(5937 unique tokens: ['-', 'algebra', 'intern', 'languag', 'preliminari']...) from 3204 documents (total 115969 corpus positions)\n",
      "2022-02-22 15:01:12,611 : INFO : discarding 4740 tokens: [('repeat', 8), ('glossari', 7), ('inspect', 8), ('uncol', 2), ('rung', 9), ('secant', 2), ('.', 1603), ('acceler', 6), ('diverg', 3), ('induc', 9)]...\n",
      "2022-02-22 15:01:12,611 : INFO : keeping 1197 tokens which were in no less than 10 and no more than 1602 (=50.0%) documents\n",
      "2022-02-22 15:01:12,614 : INFO : resulting dictionary: Dictionary(1197 unique tokens: ['-', 'algebra', 'intern', 'languag', 'preliminari']...)\n",
      "2022-02-22 15:01:12,679 : INFO : collecting all words and their counts\n",
      "2022-02-22 15:01:12,680 : INFO : PROGRESS: at example #0, processed 0 words (0/s), 0 word types, 0 tags\n",
      "2022-02-22 15:01:12,696 : INFO : collected 5937 word types and 3204 unique tags from a corpus of 3204 examples and 115969 words\n",
      "2022-02-22 15:01:12,697 : INFO : Loading a fresh vocabulary\n",
      "2022-02-22 15:01:12,705 : INFO : effective_min_count=1 retains 5937 unique words (100% of original 5937, drops 0)\n",
      "2022-02-22 15:01:12,705 : INFO : effective_min_count=1 leaves 115969 word corpus (100% of original 115969, drops 0)\n",
      "2022-02-22 15:01:12,718 : INFO : deleting the raw counts dictionary of 5937 items\n",
      "2022-02-22 15:01:12,719 : INFO : sample=0.001 downsamples 40 most-common words\n",
      "2022-02-22 15:01:12,720 : INFO : downsampling leaves estimated 92346 word corpus (79.6% of prior 115969)\n",
      "2022-02-22 15:01:12,728 : INFO : estimated required memory for 5937 words and 100 dimensions: 9640500 bytes\n",
      "2022-02-22 15:01:12,729 : INFO : resetting layer weights\n",
      "2022-02-22 15:01:14,041 : INFO : training model with 3 workers on 5937 vocabulary and 100 features, using sg=0 hs=0 sample=0.001 negative=5 window=5\n",
      "2022-02-22 15:01:14,241 : INFO : worker thread finished; awaiting finish of 2 more threads\n",
      "2022-02-22 15:01:14,253 : INFO : worker thread finished; awaiting finish of 1 more threads\n",
      "2022-02-22 15:01:14,256 : INFO : worker thread finished; awaiting finish of 0 more threads\n",
      "2022-02-22 15:01:14,256 : INFO : EPOCH - 1 : training on 115969 raw words (95487 effective words) took 0.2s, 488257 effective words/s\n",
      "2022-02-22 15:01:14,448 : INFO : worker thread finished; awaiting finish of 2 more threads\n",
      "2022-02-22 15:01:14,455 : INFO : worker thread finished; awaiting finish of 1 more threads\n",
      "2022-02-22 15:01:14,457 : INFO : worker thread finished; awaiting finish of 0 more threads\n",
      "2022-02-22 15:01:14,457 : INFO : EPOCH - 2 : training on 115969 raw words (95586 effective words) took 0.2s, 482611 effective words/s\n",
      "2022-02-22 15:01:14,649 : INFO : worker thread finished; awaiting finish of 2 more threads\n",
      "2022-02-22 15:01:14,649 : INFO : worker thread finished; awaiting finish of 1 more threads\n",
      "2022-02-22 15:01:14,654 : INFO : worker thread finished; awaiting finish of 0 more threads\n",
      "2022-02-22 15:01:14,655 : INFO : EPOCH - 3 : training on 115969 raw words (95669 effective words) took 0.2s, 492919 effective words/s\n",
      "2022-02-22 15:01:14,845 : INFO : worker thread finished; awaiting finish of 2 more threads\n",
      "2022-02-22 15:01:14,846 : INFO : worker thread finished; awaiting finish of 1 more threads\n",
      "2022-02-22 15:01:14,851 : INFO : worker thread finished; awaiting finish of 0 more threads\n",
      "2022-02-22 15:01:14,851 : INFO : EPOCH - 4 : training on 115969 raw words (95568 effective words) took 0.2s, 492964 effective words/s\n",
      "2022-02-22 15:01:15,033 : INFO : worker thread finished; awaiting finish of 2 more threads\n",
      "2022-02-22 15:01:15,042 : INFO : worker thread finished; awaiting finish of 1 more threads\n",
      "2022-02-22 15:01:15,044 : INFO : worker thread finished; awaiting finish of 0 more threads\n",
      "2022-02-22 15:01:15,044 : INFO : EPOCH - 5 : training on 115969 raw words (95561 effective words) took 0.2s, 502222 effective words/s\n",
      "2022-02-22 15:01:15,226 : INFO : worker thread finished; awaiting finish of 2 more threads\n",
      "2022-02-22 15:01:15,236 : INFO : worker thread finished; awaiting finish of 1 more threads\n",
      "2022-02-22 15:01:15,237 : INFO : worker thread finished; awaiting finish of 0 more threads\n",
      "2022-02-22 15:01:15,237 : INFO : EPOCH - 6 : training on 115969 raw words (95455 effective words) took 0.2s, 503252 effective words/s\n",
      "2022-02-22 15:01:15,423 : INFO : worker thread finished; awaiting finish of 2 more threads\n",
      "2022-02-22 15:01:15,430 : INFO : worker thread finished; awaiting finish of 1 more threads\n",
      "2022-02-22 15:01:15,430 : INFO : worker thread finished; awaiting finish of 0 more threads\n",
      "2022-02-22 15:01:15,431 : INFO : EPOCH - 7 : training on 115969 raw words (95582 effective words) took 0.2s, 503165 effective words/s\n",
      "2022-02-22 15:01:15,614 : INFO : worker thread finished; awaiting finish of 2 more threads\n",
      "2022-02-22 15:01:15,621 : INFO : worker thread finished; awaiting finish of 1 more threads\n",
      "2022-02-22 15:01:15,624 : INFO : worker thread finished; awaiting finish of 0 more threads\n",
      "2022-02-22 15:01:15,625 : INFO : EPOCH - 8 : training on 115969 raw words (95601 effective words) took 0.2s, 500277 effective words/s\n",
      "2022-02-22 15:01:15,801 : INFO : worker thread finished; awaiting finish of 2 more threads\n",
      "2022-02-22 15:01:15,816 : INFO : worker thread finished; awaiting finish of 1 more threads\n",
      "2022-02-22 15:01:15,816 : INFO : worker thread finished; awaiting finish of 0 more threads\n",
      "2022-02-22 15:01:15,817 : INFO : EPOCH - 9 : training on 115969 raw words (95513 effective words) took 0.2s, 505588 effective words/s\n",
      "2022-02-22 15:01:16,003 : INFO : worker thread finished; awaiting finish of 2 more threads\n",
      "2022-02-22 15:01:16,010 : INFO : worker thread finished; awaiting finish of 1 more threads\n",
      "2022-02-22 15:01:16,011 : INFO : worker thread finished; awaiting finish of 0 more threads\n",
      "2022-02-22 15:01:16,011 : INFO : EPOCH - 10 : training on 115969 raw words (95409 effective words) took 0.2s, 498041 effective words/s\n",
      "2022-02-22 15:01:16,192 : INFO : worker thread finished; awaiting finish of 2 more threads\n",
      "2022-02-22 15:01:16,203 : INFO : worker thread finished; awaiting finish of 1 more threads\n",
      "2022-02-22 15:01:16,203 : INFO : worker thread finished; awaiting finish of 0 more threads\n",
      "2022-02-22 15:01:16,204 : INFO : EPOCH - 11 : training on 115969 raw words (95447 effective words) took 0.2s, 503420 effective words/s\n",
      "2022-02-22 15:01:16,385 : INFO : worker thread finished; awaiting finish of 2 more threads\n",
      "2022-02-22 15:01:16,392 : INFO : worker thread finished; awaiting finish of 1 more threads\n",
      "2022-02-22 15:01:16,398 : INFO : worker thread finished; awaiting finish of 0 more threads\n",
      "2022-02-22 15:01:16,398 : INFO : EPOCH - 12 : training on 115969 raw words (95460 effective words) took 0.2s, 497915 effective words/s\n",
      "2022-02-22 15:01:16,583 : INFO : worker thread finished; awaiting finish of 2 more threads\n",
      "2022-02-22 15:01:16,588 : INFO : worker thread finished; awaiting finish of 1 more threads\n",
      "2022-02-22 15:01:16,591 : INFO : worker thread finished; awaiting finish of 0 more threads\n",
      "2022-02-22 15:01:16,591 : INFO : EPOCH - 13 : training on 115969 raw words (95577 effective words) took 0.2s, 502925 effective words/s\n",
      "2022-02-22 15:01:16,777 : INFO : worker thread finished; awaiting finish of 2 more threads\n",
      "2022-02-22 15:01:16,782 : INFO : worker thread finished; awaiting finish of 1 more threads\n",
      "2022-02-22 15:01:16,784 : INFO : worker thread finished; awaiting finish of 0 more threads\n",
      "2022-02-22 15:01:16,784 : INFO : EPOCH - 14 : training on 115969 raw words (95568 effective words) took 0.2s, 501000 effective words/s\n",
      "2022-02-22 15:01:16,963 : INFO : worker thread finished; awaiting finish of 2 more threads\n",
      "2022-02-22 15:01:16,972 : INFO : worker thread finished; awaiting finish of 1 more threads\n",
      "2022-02-22 15:01:16,976 : INFO : worker thread finished; awaiting finish of 0 more threads\n",
      "2022-02-22 15:01:16,977 : INFO : EPOCH - 15 : training on 115969 raw words (95658 effective words) took 0.2s, 504026 effective words/s\n",
      "2022-02-22 15:01:17,159 : INFO : worker thread finished; awaiting finish of 2 more threads\n",
      "2022-02-22 15:01:17,168 : INFO : worker thread finished; awaiting finish of 1 more threads\n",
      "2022-02-22 15:01:17,169 : INFO : worker thread finished; awaiting finish of 0 more threads\n",
      "2022-02-22 15:01:17,169 : INFO : EPOCH - 16 : training on 115969 raw words (95457 effective words) took 0.2s, 503660 effective words/s\n",
      "2022-02-22 15:01:17,351 : INFO : worker thread finished; awaiting finish of 2 more threads\n",
      "2022-02-22 15:01:17,360 : INFO : worker thread finished; awaiting finish of 1 more threads\n",
      "2022-02-22 15:01:17,363 : INFO : worker thread finished; awaiting finish of 0 more threads\n",
      "2022-02-22 15:01:17,363 : INFO : EPOCH - 17 : training on 115969 raw words (95478 effective words) took 0.2s, 499550 effective words/s\n",
      "2022-02-22 15:01:17,549 : INFO : worker thread finished; awaiting finish of 2 more threads\n",
      "2022-02-22 15:01:17,552 : INFO : worker thread finished; awaiting finish of 1 more threads\n",
      "2022-02-22 15:01:17,556 : INFO : worker thread finished; awaiting finish of 0 more threads\n",
      "2022-02-22 15:01:17,556 : INFO : EPOCH - 18 : training on 115969 raw words (95490 effective words) took 0.2s, 501943 effective words/s\n",
      "2022-02-22 15:01:17,744 : INFO : worker thread finished; awaiting finish of 2 more threads\n",
      "2022-02-22 15:01:17,747 : INFO : worker thread finished; awaiting finish of 1 more threads\n",
      "2022-02-22 15:01:17,749 : INFO : worker thread finished; awaiting finish of 0 more threads\n",
      "2022-02-22 15:01:17,749 : INFO : EPOCH - 19 : training on 115969 raw words (95505 effective words) took 0.2s, 501874 effective words/s\n",
      "2022-02-22 15:01:17,930 : INFO : worker thread finished; awaiting finish of 2 more threads\n",
      "2022-02-22 15:01:17,940 : INFO : worker thread finished; awaiting finish of 1 more threads\n",
      "2022-02-22 15:01:17,942 : INFO : worker thread finished; awaiting finish of 0 more threads\n",
      "2022-02-22 15:01:17,942 : INFO : EPOCH - 20 : training on 115969 raw words (95703 effective words) took 0.2s, 502593 effective words/s\n",
      "2022-02-22 15:01:17,943 : INFO : training on a 2319380 raw words (1910774 effective words) took 3.9s, 489807 effective words/s\n"
     ]
    },
    {
     "data": {
      "text/plain": [
       "[(2, 0.07879457),\n",
       " (2, -0.039195072),\n",
       " (2, -0.015241477),\n",
       " (2, 0.061858404),\n",
       " (2, 0.03428276),\n",
       " (2, -0.023667395),\n",
       " (2, -0.0022498881),\n",
       " (2, -0.07041671),\n",
       " (2, 0.023625586),\n",
       " (2, 0.049418114),\n",
       " (2, 0.1230469),\n",
       " (2, 0.017417533),\n",
       " (2, 0.098669775),\n",
       " (2, -0.11372628),\n",
       " (2, 0.053311724),\n",
       " (2, -0.009701497),\n",
       " (2, -0.105572015),\n",
       " (2, -0.038998105),\n",
       " (2, 0.034351125),\n",
       " (2, 0.009559728),\n",
       " (2, -0.014121182),\n",
       " (2, 0.025863364),\n",
       " (2, -0.10281611),\n",
       " (2, -0.089627154),\n",
       " (2, -0.022639731),\n",
       " (2, -0.008820421),\n",
       " (2, -0.014876853),\n",
       " (2, 0.010277236),\n",
       " (2, -0.03135558),\n",
       " (2, -0.006316679),\n",
       " (2, -0.043118536),\n",
       " (2, 0.042470627),\n",
       " (2, 0.038515083),\n",
       " (2, 0.08575867),\n",
       " (2, 0.049804863),\n",
       " (2, 0.027777767),\n",
       " (2, 0.035820886),\n",
       " (2, -0.07466806),\n",
       " (2, 0.11682697),\n",
       " (2, 0.009146432),\n",
       " (2, 0.049947422),\n",
       " (2, 0.020461287),\n",
       " (2, 0.042223357),\n",
       " (2, -0.057505883),\n",
       " (2, -0.030452255),\n",
       " (2, -0.023166662),\n",
       " (2, 0.03023567),\n",
       " (2, -0.031963944),\n",
       " (2, 0.06862886),\n",
       " (2, -0.043034825),\n",
       " (2, -0.08494136),\n",
       " (2, 0.052260276),\n",
       " (2, 0.006278132),\n",
       " (2, 0.006897911),\n",
       " (2, 0.05565629),\n",
       " (2, 0.08898321),\n",
       " (2, 0.030354297),\n",
       " (2, -0.055457905),\n",
       " (2, 0.037657395),\n",
       " (2, 0.06056655),\n",
       " (2, -0.037355926),\n",
       " (2, 0.0804901),\n",
       " (2, 0.034884717),\n",
       " (2, 0.1095844),\n",
       " (2, -0.023400107),\n",
       " (2, -0.030733611),\n",
       " (2, -0.015516348),\n",
       " (2, 0.06814987),\n",
       " (2, -0.021354627),\n",
       " (2, 0.07011991),\n",
       " (2, 0.025784584),\n",
       " (2, 0.0714276),\n",
       " (2, 0.021720346),\n",
       " (2, -0.005280211),\n",
       " (2, -0.016245944),\n",
       " (2, 0.021923102),\n",
       " (2, -0.0173041),\n",
       " (2, 0.07656395),\n",
       " (2, -0.072579406),\n",
       " (2, 0.010803777),\n",
       " (2, -0.031026999),\n",
       " (2, -0.02815863),\n",
       " (2, -0.043319963),\n",
       " (2, -0.033240583),\n",
       " (2, -0.071511455),\n",
       " (2, -0.010397334),\n",
       " (2, 0.027850742),\n",
       " (2, 0.0061265854),\n",
       " (2, -0.09076767),\n",
       " (2, 0.070773885),\n",
       " (2, -0.01375731),\n",
       " (2, 0.011482214),\n",
       " (2, -0.04232447),\n",
       " (2, -0.06887834),\n",
       " (2, -0.021054082),\n",
       " (2, 0.025251538),\n",
       " (2, -0.013570354),\n",
       " (2, 0.038600337),\n",
       " (2, 0.059966113),\n",
       " (2, -0.02746499)]"
      ]
     },
     "execution_count": 95,
     "metadata": {},
     "output_type": "execute_result"
    }
   ],
   "source": [
    "# TODO: Implement this! (10 points)\n",
    "class D2VRetrievalModel(VectorSpaceRetrievalModel):\n",
    "    def __init__(self, doc_repr):\n",
    "        super().__init__(doc_repr)\n",
    "        \n",
    "        self.vector_size= 100\n",
    "        self.min_count = 1\n",
    "        self.epochs = 20\n",
    "        \n",
    "        # YOUR CODE HERE\n",
    "        self.tagged_documents = [TaggedDocument(doc, [doc_id]) for doc_id, doc in self.doc_repr]\n",
    "        \n",
    "    def train_model(self):\n",
    "        # YOUR CODE HERE\n",
    "        self.model = Doc2Vec(\n",
    "            self.tagged_documents,\n",
    "            vector_size=self.vector_size,\n",
    "            min_count=self.min_count,\n",
    "            epochs=self.epochs,\n",
    "        )\n",
    "    \n",
    "    def vectorize_documents(self):\n",
    "        \"\"\"\n",
    "            Returns a doc_id -> vector dictionary\n",
    "        \"\"\"\n",
    "        # YOUR CODE HERE\n",
    "\n",
    "        from collections import defaultdict\n",
    "\n",
    "        document_vectors = defaultdict(lambda: np.zeros(self.vector_size))\n",
    "        for doc_id, doc in self.doc_repr:\n",
    "            document_vectors[doc_id] = [(i+1, v) for v in self.model.infer_vector(doc)]\n",
    "        \n",
    "        return document_vectors\n",
    "\n",
    "    def vectorize_query(self, query):\n",
    "        # YOUR CODE HERE\n",
    "        query = process_text(query, **config_2)\n",
    "        query_vector = self.model.infer_vector(query)\n",
    "        query_vector = [(i+1, v) for v in query_vector]\n",
    "        return query_vector\n",
    "\n",
    "d2v = D2VRetrievalModel(doc_repr_2)\n",
    "d2v.train_model()\n",
    "\n",
    "\n",
    "# # you can now get an LSI vector for a given query in the following way:\n",
    "d2v.vectorize_query(\"report\")"
   ]
  },
  {
   "cell_type": "code",
   "execution_count": 96,
   "metadata": {
    "deletable": false,
    "editable": false,
    "nbgrader": {
     "cell_type": "code",
     "checksum": "e83a363a9d4f136efbdde1426a83925e",
     "grade": true,
     "grade_id": "cell-5e2c5e0c9a2e8cb5",
     "locked": true,
     "points": 0,
     "schema_version": 3,
     "solution": false,
     "task": false
    }
   },
   "outputs": [],
   "source": [
    "#### Please do not change this. This cell is used for grading."
   ]
  },
  {
   "cell_type": "markdown",
   "metadata": {
    "deletable": false,
    "editable": false,
    "nbgrader": {
     "cell_type": "markdown",
     "checksum": "5bb46bf6b9be1e0ca66f0b0bc6260ecb",
     "grade": false,
     "grade_id": "cell-8a49d414f798a595",
     "locked": true,
     "points": 10,
     "schema_version": 3,
     "solution": false,
     "task": true
    }
   },
   "source": [
    "\\#### Please do not change this. This cell is used for grading."
   ]
  },
  {
   "cell_type": "code",
   "execution_count": 97,
   "metadata": {},
   "outputs": [
    {
     "data": {
      "application/vnd.jupyter.widget-view+json": {
       "model_id": "f7d4f400daba40e09e50007308e58ec2",
       "version_major": 2,
       "version_minor": 0
      },
      "text/plain": [
       "Text(value='', description='Search Bar')"
      ]
     },
     "metadata": {},
     "output_type": "display_data"
    }
   ],
   "source": [
    "drm_d2v = DenseRetrievalRanker(d2v, cosine_sim)\n",
    "\n",
    "# test your LDA model\n",
    "search_fn = drm_d2v.search\n",
    "\n",
    "text = widgets.Text(description=\"Search Bar\", width=200)\n",
    "display(text)\n",
    "\n",
    "\n",
    "text.on_submit(handle_submit_2)"
   ]
  },
  {
   "cell_type": "markdown",
   "metadata": {
    "deletable": false,
    "editable": false,
    "nbgrader": {
     "cell_type": "markdown",
     "checksum": "363ec36c1d03d9f9e1c2045a6e193c14",
     "grade": false,
     "grade_id": "cell-3529ae29eece7b97",
     "locked": true,
     "schema_version": 3,
     "solution": false,
     "task": false
    }
   },
   "source": [
    "---\n",
    "## Section 9: Re-ranking (10 points) <a class=\"anchor\" id=\"reranking\"></a>\n",
    "\n",
    "[Back to Part 2](#part2)\n",
    "\n",
    "To motivate the re-ranking perspective (i.e retrieve with lexical method + rerank with a semantic method), let's search using semantic methods and compare it to BM25's performance, along with their runtime:\n"
   ]
  },
  {
   "cell_type": "code",
   "execution_count": 98,
   "metadata": {
    "deletable": false,
    "editable": false,
    "nbgrader": {
     "cell_type": "code",
     "checksum": "5755f70e3eb28abc65d14d80125338af",
     "grade": false,
     "grade_id": "cell-f8f43bf5ae383128",
     "locked": true,
     "schema_version": 3,
     "solution": false,
     "task": false
    }
   },
   "outputs": [
    {
     "name": "stdout",
     "output_type": "stream",
     "text": [
      "BM25: \n",
      "1.99 ms ± 18.2 µs per loop (mean ± std. dev. of 7 runs, 1000 loops each)\n",
      "LSI: \n",
      "256 ms ± 1.24 ms per loop (mean ± std. dev. of 7 runs, 1 loop each)\n",
      "LDA: \n",
      "5.68 s ± 44.5 ms per loop (mean ± std. dev. of 7 runs, 1 loop each)\n",
      "W2V: \n"
     ]
    },
    {
     "name": "stderr",
     "output_type": "stream",
     "text": [
      "/Users/piyush/miniconda3/envs/ir1-i386/lib/python3.6/site-packages/ipykernel_launcher.py:55: DeprecationWarning: Call to deprecated `__contains__` (Method will be removed in 4.0.0, use self.wv.__contains__() instead).\n",
      "/Users/piyush/miniconda3/envs/ir1-i386/lib/python3.6/site-packages/ipykernel_launcher.py:56: DeprecationWarning: Call to deprecated `__getitem__` (Method will be removed in 4.0.0, use self.wv.__getitem__() instead).\n"
     ]
    },
    {
     "name": "stdout",
     "output_type": "stream",
     "text": [
      "260 ms ± 2.19 ms per loop (mean ± std. dev. of 7 runs, 1 loop each)\n",
      "W2V(Pretrained): \n"
     ]
    },
    {
     "name": "stderr",
     "output_type": "stream",
     "text": [
      "/Users/piyush/miniconda3/envs/ir1-i386/lib/python3.6/site-packages/ipykernel_launcher.py:20: RuntimeWarning: invalid value encountered in double_scalars\n"
     ]
    },
    {
     "name": "stdout",
     "output_type": "stream",
     "text": [
      "642 ms ± 2.67 ms per loop (mean ± std. dev. of 7 runs, 1 loop each)\n",
      "D2V:\n",
      "267 ms ± 535 µs per loop (mean ± std. dev. of 7 runs, 1 loop each)\n"
     ]
    }
   ],
   "source": [
    "query = \"algebraic functions\"\n",
    "print(\"BM25: \")\n",
    "%timeit bm25_search(query, 2)\n",
    "print(\"LSI: \")\n",
    "%timeit drm_lsi.search(query)\n",
    "print(\"LDA: \")\n",
    "%timeit drm_lda.search(query)\n",
    "print(\"W2V: \")\n",
    "%timeit drm_w2v.search(query)\n",
    "print(\"W2V(Pretrained): \")\n",
    "%timeit drm_w2v_pretrained.search(query)\n",
    "print(\"D2V:\")\n",
    "%timeit drm_d2v.search(query)"
   ]
  },
  {
   "cell_type": "markdown",
   "metadata": {
    "deletable": false,
    "editable": false,
    "nbgrader": {
     "cell_type": "markdown",
     "checksum": "ae398da0a8c23c95bcbb0023b7ec6f34",
     "grade": false,
     "grade_id": "cell-db5ff09f97841af7",
     "locked": true,
     "schema_version": 3,
     "solution": false,
     "task": false
    }
   },
   "source": [
    "---\n",
    "\n",
    "**Implementation (10 points):**\n",
    "Re-ranking involves retrieving a small set of documents using simple but fast methods like BM25 and then re-ranking them with the aid of semantic methods such as LDA or LSI. Implement the following class, which takes in an `initial_retrieval_fn` - the initial retrieval function and `vsrm` - an instance of the `VectorSpaceRetrievalModel` class (i.e LSI/LDA) as input. The search function should first retrieve an initial list of K documents, and then these documents are re-ranked using a semantic method. This not only makes retrieval faster, but semantic methods perform poorly when used in isolation, as you will find out."
   ]
  },
  {
   "cell_type": "code",
   "execution_count": 99,
   "metadata": {
    "deletable": false,
    "nbgrader": {
     "cell_type": "code",
     "checksum": "63b6b05a676a2ae3f08d8bed1bc59428",
     "grade": false,
     "grade_id": "cell-5bf47600d1a0c507",
     "locked": false,
     "schema_version": 3,
     "solution": true,
     "task": false
    }
   },
   "outputs": [],
   "source": [
    "# TODO: Implement this! (10 points)\n",
    "class DenseRerankingModel:\n",
    "    def __init__(self, initial_retrieval_fn, vsrm, similarity_fn):\n",
    "        \"\"\"\n",
    "            initial_retrieval_fn: takes in a query and returns a list of [(doc_id, score)] (sorted)\n",
    "            vsrm: instance of `VectorSpaceRetrievalModel`\n",
    "            similarity_fn: function instance that takes in two vectors \n",
    "                            and returns a similarity score e.g cosine_sim defined earlier\n",
    "        \"\"\"\n",
    "        self.ret = initial_retrieval_fn\n",
    "        self.vsrm = vsrm\n",
    "        self.similarity_fn = similarity_fn\n",
    "        self.vectorized_documents = vsrm.vectorize_documents()\n",
    "        \n",
    "        assert len(self.vectorized_documents) == len(doc_repr_2)\n",
    "    \n",
    "    def search(self, query, K=50):\n",
    "        \"\"\"\n",
    "            First, retrieve the top K results using the retrieval function\n",
    "            Then, re-rank the results using the VSRM instance\n",
    "        \"\"\"\n",
    "        # YOUR CODE HERE\n",
    "\n",
    "        # get top K ranked documents\n",
    "        top_K = self.ret(query=query, index_set=2)[:K]\n",
    "        \n",
    "        # re-rank them using VSRM\n",
    "\n",
    "        ## get query vector\n",
    "        query_vector = self.vsrm.vectorize_query(query)\n",
    "\n",
    "        ## compute similarity scores\n",
    "        scores = [(doc_id, self.similarity_fn(query_vector, self.vectorized_documents[doc_id])) for (doc_id, _) in top_K]\n",
    "\n",
    "        ## sort based on new similarity scores\n",
    "        scores = sorted(scores, key=lambda x: x[1], reverse=True)\n",
    "        \n",
    "        return scores"
   ]
  },
  {
   "cell_type": "code",
   "execution_count": 100,
   "metadata": {
    "deletable": false,
    "editable": false,
    "nbgrader": {
     "cell_type": "code",
     "checksum": "334ab5af96976265cace682ab82a7387",
     "grade": true,
     "grade_id": "cell-52c6d18a4c0b4882",
     "locked": true,
     "points": 0,
     "schema_version": 3,
     "solution": false,
     "task": false
    }
   },
   "outputs": [
    {
     "name": "stderr",
     "output_type": "stream",
     "text": [
      "/Users/piyush/miniconda3/envs/ir1-i386/lib/python3.6/site-packages/ipykernel_launcher.py:36: DeprecationWarning: Call to deprecated `__contains__` (Method will be removed in 4.0.0, use self.wv.__contains__() instead).\n",
      "/Users/piyush/miniconda3/envs/ir1-i386/lib/python3.6/site-packages/ipykernel_launcher.py:37: DeprecationWarning: Call to deprecated `__getitem__` (Method will be removed in 4.0.0, use self.wv.__getitem__() instead).\n"
     ]
    }
   ],
   "source": [
    "##### Function check\n",
    "bm25_search_2 = partial(bm25_search, index_set=2)\n",
    "lsi_rerank = DenseRerankingModel(bm25_search_2, lsi, cosine_sim)\n",
    "lda_rerank = DenseRerankingModel(bm25_search_2, lda, jenson_shannon_sim)\n",
    "w2v_rerank = DenseRerankingModel(bm25_search_2, w2v, cosine_sim)\n",
    "w2v_pretrained_rerank = DenseRerankingModel(bm25_search_2, w2v_pretrained, cosine_sim)\n",
    "d2v_rerank = DenseRerankingModel(bm25_search_2, d2v, cosine_sim)\n",
    "\n",
    "##### "
   ]
  },
  {
   "cell_type": "markdown",
   "metadata": {
    "deletable": false,
    "editable": false,
    "nbgrader": {
     "cell_type": "markdown",
     "checksum": "bd904253f45f84e63bab3a69729058fc",
     "grade": false,
     "grade_id": "cell-93215dfe6bcf7cff",
     "locked": true,
     "points": 10,
     "schema_version": 3,
     "solution": false,
     "task": true
    }
   },
   "source": [
    "\\#### Please do not change this. This cell is used for grading."
   ]
  },
  {
   "cell_type": "markdown",
   "metadata": {
    "deletable": false,
    "editable": false,
    "nbgrader": {
     "cell_type": "markdown",
     "checksum": "b592e60292bfe3d9ef2930a354c4077a",
     "grade": false,
     "grade_id": "cell-aa694ff55fa91e7d",
     "locked": true,
     "schema_version": 3,
     "solution": false,
     "task": false
    }
   },
   "source": [
    "---\n",
    "Now, let us time the new search functions:"
   ]
  },
  {
   "cell_type": "code",
   "execution_count": 101,
   "metadata": {
    "deletable": false,
    "editable": false,
    "nbgrader": {
     "cell_type": "code",
     "checksum": "338c7e3528cba266a865a061287c0e38",
     "grade": false,
     "grade_id": "cell-5edbd481562ad91f",
     "locked": true,
     "schema_version": 3,
     "solution": false,
     "task": false
    }
   },
   "outputs": [
    {
     "name": "stdout",
     "output_type": "stream",
     "text": [
      "BM25: \n",
      "2 ms ± 20.6 µs per loop (mean ± std. dev. of 7 runs, 100 loops each)\n",
      "LSI: \n",
      "6.23 ms ± 24.2 µs per loop (mean ± std. dev. of 7 runs, 100 loops each)\n",
      "LDA: \n",
      "91 ms ± 724 µs per loop (mean ± std. dev. of 7 runs, 10 loops each)\n",
      "W2V: \n"
     ]
    },
    {
     "name": "stderr",
     "output_type": "stream",
     "text": [
      "/Users/piyush/miniconda3/envs/ir1-i386/lib/python3.6/site-packages/ipykernel_launcher.py:55: DeprecationWarning: Call to deprecated `__contains__` (Method will be removed in 4.0.0, use self.wv.__contains__() instead).\n",
      "/Users/piyush/miniconda3/envs/ir1-i386/lib/python3.6/site-packages/ipykernel_launcher.py:56: DeprecationWarning: Call to deprecated `__getitem__` (Method will be removed in 4.0.0, use self.wv.__getitem__() instead).\n"
     ]
    },
    {
     "name": "stdout",
     "output_type": "stream",
     "text": [
      "6.21 ms ± 79.7 µs per loop (mean ± std. dev. of 7 runs, 100 loops each)\n",
      "W2V(Pretrained): \n",
      "12.1 ms ± 88.7 µs per loop (mean ± std. dev. of 7 runs, 100 loops each)\n",
      "D2V:\n",
      "6.9 ms ± 62.6 µs per loop (mean ± std. dev. of 7 runs, 100 loops each)\n"
     ]
    }
   ],
   "source": [
    "query = \"algebraic functions\"\n",
    "print(\"BM25: \")\n",
    "%timeit bm25_search(query, 2)\n",
    "print(\"LSI: \")\n",
    "%timeit lsi_rerank.search(query)\n",
    "print(\"LDA: \")\n",
    "%timeit lda_rerank.search(query)\n",
    "print(\"W2V: \")\n",
    "%timeit w2v_rerank.search(query)\n",
    "print(\"W2V(Pretrained): \")\n",
    "%timeit w2v_pretrained_rerank.search(query)\n",
    "print(\"D2V:\")\n",
    "%timeit d2v_rerank.search(query)"
   ]
  },
  {
   "cell_type": "markdown",
   "metadata": {
    "deletable": false,
    "editable": false,
    "nbgrader": {
     "cell_type": "markdown",
     "checksum": "c45c5e3f015b2de89d9d39ae3766368b",
     "grade": false,
     "grade_id": "cell-85c50f2ab9eec301",
     "locked": true,
     "schema_version": 3,
     "solution": false,
     "task": false
    }
   },
   "source": [
    "---\n",
    "As you can see, it is much faster (but BM25 is still orders of magnitude faster)."
   ]
  },
  {
   "cell_type": "markdown",
   "metadata": {
    "deletable": false,
    "editable": false,
    "nbgrader": {
     "cell_type": "markdown",
     "checksum": "1e2f3388e3807659f303fe31a75a010e",
     "grade": false,
     "grade_id": "cell-5071bb99b2af61cb",
     "locked": true,
     "schema_version": 3,
     "solution": false,
     "task": false
    }
   },
   "source": [
    "---\n",
    "## Section 10: Evaluation & Analysis (30 points) <a class=\"anchor\" id=\"reranking_eval\"></a>\n",
    "\n",
    "[Back to Part 2](#part2)\n",
    "\n",
    "[Previously](#evaluation) we have implemented some evaluation metrics and used them for measuring the ranking performance of term-based IR algorithms. In this section, we will do the same for semantic methods, both with and without re-ranking.\n",
    "\n",
    "### Section 10.1: Plot (10 points)\n",
    "\n",
    "First, gather the results. The results should consider the index set, the different search functions and different metrics. Plot the results in bar charts, per metric, with clear labels.\n",
    "\n",
    "Then, gather only the re-ranking models, and plot and compare them with the results obtained in part 1 (only index set 2)."
   ]
  },
  {
   "cell_type": "code",
   "execution_count": 102,
   "metadata": {
    "deletable": false,
    "editable": false,
    "nbgrader": {
     "cell_type": "code",
     "checksum": "4fe81520ac6413a803838913fd64de03",
     "grade": false,
     "grade_id": "cell-b672fe6dfae0b1ce",
     "locked": true,
     "schema_version": 3,
     "solution": false,
     "task": false
    }
   },
   "outputs": [],
   "source": [
    "list_of_sem_search_fns = [\n",
    "    (\"lda\", drm_lda.search),\n",
    "    (\"lsi\", drm_lsi.search),\n",
    "    (\"w2v\", drm_w2v.search),\n",
    "    (\"w2v_pretrained\", drm_w2v_pretrained.search),\n",
    "    (\"d2v\", drm_d2v.search),\n",
    "    (\"lsi_rr\", lsi_rerank.search),\n",
    "    (\"lda_rr\", lda_rerank.search),\n",
    "    (\"w2v_rr\", w2v_rerank.search),\n",
    "    (\"w2v_pretrained_rr\", w2v_pretrained_rerank.search),\n",
    "    (\"d2v_rr\", d2v_rerank.search),\n",
    "    \n",
    "]"
   ]
  },
  {
   "cell_type": "code",
   "execution_count": 103,
   "metadata": {},
   "outputs": [
    {
     "name": "stdout",
     "output_type": "stream",
     "text": [
      "::: Generating results for lda ...\n",
      "::: Generating results for lsi ...\n",
      "::: Generating results for w2v ...\n"
     ]
    },
    {
     "name": "stderr",
     "output_type": "stream",
     "text": [
      "/Users/piyush/miniconda3/envs/ir1-i386/lib/python3.6/site-packages/ipykernel_launcher.py:55: DeprecationWarning: Call to deprecated `__contains__` (Method will be removed in 4.0.0, use self.wv.__contains__() instead).\n",
      "/Users/piyush/miniconda3/envs/ir1-i386/lib/python3.6/site-packages/ipykernel_launcher.py:56: DeprecationWarning: Call to deprecated `__getitem__` (Method will be removed in 4.0.0, use self.wv.__getitem__() instead).\n"
     ]
    },
    {
     "name": "stdout",
     "output_type": "stream",
     "text": [
      "::: Generating results for w2v_pretrained ...\n"
     ]
    },
    {
     "name": "stderr",
     "output_type": "stream",
     "text": [
      "/Users/piyush/miniconda3/envs/ir1-i386/lib/python3.6/site-packages/ipykernel_launcher.py:20: RuntimeWarning: invalid value encountered in double_scalars\n"
     ]
    },
    {
     "name": "stdout",
     "output_type": "stream",
     "text": [
      "::: Generating results for d2v ...\n",
      "::: Generating results for lsi_rr ...\n",
      "::: Generating results for lda_rr ...\n",
      "::: Generating results for w2v_rr ...\n",
      "::: Generating results for w2v_pretrained_rr ...\n",
      "::: Generating results for d2v_rr ...\n"
     ]
    },
    {
     "data": {
      "image/png": "[encoded data removed]",
      "text/plain": [
       "<Figure size 1440x864 with 8 Axes>"
      ]
     },
     "metadata": {
      "needs_background": "light"
     },
     "output_type": "display_data"
    }
   ],
   "source": [
    "# YOUR CODE HERE\n",
    "\n",
    "# generating results\n",
    "results = dict()\n",
    "for method_name, method_fn in list_of_sem_search_fns:\n",
    "    print(f\"::: Generating results for {method_name} ...\")\n",
    "    results[method_name] = evaluate_search_fn(method_fn, list_of_metrics, index_set=None)\n",
    "\n",
    "write_json(results, \"./results/semantics_based_retrieval_results_index_2.json\")\n",
    "\n",
    "# plotting results\n",
    "nrows, ncols = 2, len(list_of_metrics) // 2\n",
    "fig, axes = plt.subplots(nrows, ncols, figsize=(5 * len(list_of_metrics) // 2, 4 * 2 + 4), constrained_layout=True)\n",
    "\n",
    "for i in range(nrows):\n",
    "    for j in range(ncols):\n",
    "        idx = i * ncols + j\n",
    "        ax = axes[i][j]\n",
    "        \n",
    "        metric = list_of_metrics[idx][0]\n",
    "        ax.set_title(metric, fontsize=15)\n",
    "        # ax.set_ylim((0, 0.4))\n",
    "        ax.grid(axis=\"y\")\n",
    "\n",
    "        methods_names = list(results.keys())\n",
    "        x = np.arange(len(methods_names))\n",
    "        width = 0.3\n",
    "\n",
    "        methods_values = [results[method][metric] for method in results]\n",
    "        \n",
    "        methods_names = [method for method in results if not method.endswith(\"_rr\")]\n",
    "        x = np.arange(len(methods_names))\n",
    "        methods_values_1 = [results[method][metric] for method in results if not method.endswith(\"_rr\")]\n",
    "        methods_values_2 = [results[method][metric] for method in results if method.endswith(\"_rr\")]\n",
    "\n",
    "        ax.bar(x=x, height=methods_values_1, width=width, label=\"Vanilla\", color=\"pink\")\n",
    "        ax.bar(x=x + width, height=methods_values_2, width=width, label=\"Re-ranked\", color=\"skyblue\")\n",
    "\n",
    "        ax.set_xticks(x + width / 2)\n",
    "        # ax.set_xticks(x)\n",
    "        ax.set_xticklabels(methods_names, fontsize=13, rotation=90)\n",
    "        \n",
    "        ax.legend(fontsize=13)\n",
    "\n",
    "plt.suptitle(\n",
    "    \"Evaluation of semantic-based retrieval methods with and without re-ranking on different metrics\",\n",
    "    fontsize=20,\n",
    "    y=1.05,\n",
    ")\n",
    "plt.savefig(\"./results/semantics_based_retrieval_v1.pdf\", bbox_inches=\"tight\")\n",
    "plt.show()"
   ]
  },
  {
   "cell_type": "markdown",
   "metadata": {
    "deletable": false,
    "editable": false,
    "nbgrader": {
     "cell_type": "markdown",
     "checksum": "a8a3b6189bdde66704c694d85e38d049",
     "grade": false,
     "grade_id": "cell-deb2ef3daa306e82",
     "locked": true,
     "schema_version": 3,
     "solution": false,
     "task": false
    }
   },
   "source": [
    "### Section 10.2: Summary (20 points)\n",
    "\n",
    "Your summary should compare methods from Part 1 and Part 2 (only for index set 2). State what you expected to see in the results, followed by either supporting evidence *or* justify why the results did not support your expectations. Consider the availability of data, scalability, domain/type of data, etc."
   ]
  },
  {
   "cell_type": "markdown",
   "metadata": {
    "deletable": false,
    "nbgrader": {
     "cell_type": "markdown",
     "checksum": "ff97c43837d10bff6aaffa75e1492887",
     "grade": true,
     "grade_id": "cell-ec5dd7d9cf59dd86",
     "locked": false,
     "points": 20,
     "schema_version": 3,
     "solution": true,
     "task": false
    }
   },
   "source": [
    "YOUR ANSWER HERE\n",
    "\n",
    "1. First, we observe that all semantic-based retrieval methods from re-ranking across all metrics.\n",
    "2. Second, without re-ranking, `LSI` consistently outperforms all other methods on almost all metrics.\n",
    "3. With re-ranking, `Word2Vec (with pretrained word emebeddings)`, `Doc2Vec` consistently outperform other methods on all metrics."
   ]
  },
  {
   "cell_type": "code",
   "execution_count": null,
   "metadata": {},
   "outputs": [],
   "source": []
  }
 ],
 "metadata": {
  "kernelspec": {
   "display_name": "Python 3",
   "language": "python",
   "name": "python3"
  },
  "language_info": {
   "codemirror_mode": {
    "name": "ipython",
    "version": 3
   },
   "file_extension": ".py",
   "mimetype": "text/x-python",
   "name": "python",
   "nbconvert_exporter": "python",
   "pygments_lexer": "ipython3",
   "version": "3.6.5"
  },
  "toc": {
   "base_numbering": 1,
   "nav_menu": {},
   "number_sections": true,
   "sideBar": true,
   "skip_h1_title": false,
   "title_cell": "Table of Contents",
   "title_sidebar": "Contents",
   "toc_cell": false,
   "toc_position": {},
   "toc_section_display": true,
   "toc_window_display": false
  }
 },
 "nbformat": 4,
 "nbformat_minor": 4
}
