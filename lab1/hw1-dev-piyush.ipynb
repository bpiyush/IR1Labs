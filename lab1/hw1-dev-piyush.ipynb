{
 "cells": [
  {
   "cell_type": "markdown",
   "metadata": {
    "deletable": false,
    "editable": false,
    "nbgrader": {
     "cell_type": "markdown",
     "checksum": "1bba455de8bc2825ca70469169bbadaa",
     "grade": false,
     "grade_id": "cell-c9cd9e550239e812",
     "locked": true,
     "schema_version": 3,
     "solution": false,
     "task": false
    }
   },
   "source": [
    "# Homework 1 (Total Points: 250) <a class=\"anchor\" id=\"top\"></a>\n",
    "\n",
    "\n",
    "**Submission instructions**:\n",
    "- The cells with the `# YOUR CODE HERE` denote that these sections are graded and you need to add your implementation.\n",
    "- For Part 1: You can use the `nltk`, `NumPy`, and `matplotlib` libraries here. Other libraries, e.g., `gensim` or `scikit-learn`, may not be used. For Part 2: `gensim` is allowed in addition to the imported libraries in the next code cell\n",
    "- Please use Python 3.6.5 and `pip install -r requirements.txt` to avoid version issues.\n",
    "- The notebook you submit has to have the student ids, separated by underscores (E.g., `12341234_12341234_12341234_hw1.ipynb`).\n",
    "- This will be parsed by a regexp, **so please double check your filename**.\n",
    "- Only one member of each group has to submit the file (**please do not compress the .ipynb file when you will submit it**) to canvas.\n",
    "- **Make sure to check that your notebook runs before submission**. A quick way to do this is to restart the kernel and run all the cells.  \n",
    "- Do not change the number of arugments in the given functions.\n",
    "- **Please do not delete/add new cells**. Removing cells **will** lead to grade deduction. \n",
    "- Note, that you are not allowed to use Google Colab.\n",
    "\n",
    "\n",
    "**Learning Goals**:\n",
    "- [Part 1, Term-based matching](#part1) (165 points):\n",
    "    - Learn how to load a dataset and process it.\n",
    "    - Learn how to implement several standard IR methods (TF-IDF, BM25, QL) and understand their weaknesses & strengths.\n",
    "    - Learn how to evaluate IR methods.\n",
    "- [Part 2, Semantic-based matching](#part2) (85 points):\n",
    "    - Learn how to implement vector-space retrieval methods (LSI, LDA).\n",
    "    - Learn how to use LSI and LDA for re-ranking.\n",
    "\n",
    "    \n",
    "**Resources**: \n",
    "- **Part 1**: Sections 2.3, 4.1, 4.2, 4.3, 5.3, 5.6, 5.7, 6.2, 7, 8 of [Search Engines: Information Retrieval in Practice](https://ciir.cs.umass.edu/downloads/SEIRiP.pdf)\n",
    "- **Part 2**: [LSI - Chapter 18](https://nlp.stanford.edu/IR-book/pdf/18lsi.pdf) from [Introduction to Information Retrieval](https://nlp.stanford.edu/IR-book/) book and the [original LDA paper](https://jmlr.org/papers/volume3/blei03a/blei03a.pdf)"
   ]
  },
  {
   "cell_type": "code",
   "execution_count": 1,
   "metadata": {
    "deletable": false,
    "editable": false,
    "nbgrader": {
     "cell_type": "code",
     "checksum": "c55bfe94ff1f564dd595547e516c4c6e",
     "grade": false,
     "grade_id": "cell-f5357fabdb9660e3",
     "locked": true,
     "schema_version": 3,
     "solution": false,
     "task": false
    }
   },
   "outputs": [],
   "source": [
    "# imports \n",
    "# TODO: Ensure that no additional library is imported in the notebook. \n",
    "# TODO: Only the standard library and the following libraries are allowed:\n",
    "# TODO: You can also use unlisted classes from these libraries or standard libraries (such as defaultdict, Counter, ...).\n",
    "\n",
    "import os\n",
    "import zipfile\n",
    "from functools import partial\n",
    "\n",
    "import nltk\n",
    "import requests\n",
    "import numpy as np\n",
    "from tqdm import tqdm\n",
    "\n",
    "import matplotlib.pyplot as plt\n",
    "from matplotlib.pyplot import cm\n",
    "\n",
    "from ipywidgets import widgets\n",
    "from IPython.display import display, HTML\n",
    "#from IPython.html import widgets\n",
    "from collections import namedtuple\n",
    "\n",
    "%matplotlib inline"
   ]
  },
  {
   "cell_type": "markdown",
   "metadata": {
    "deletable": false,
    "editable": false,
    "nbgrader": {
     "cell_type": "markdown",
     "checksum": "c8328f758ca5b69f76eee03dbbdd4715",
     "grade": false,
     "grade_id": "cell-7428e12ed184408b",
     "locked": true,
     "schema_version": 3,
     "solution": false,
     "task": false
    }
   },
   "source": [
    "\n",
    "# Part 1: Term-based Matching (165 points) <a class=\"anchor\" id=\"part1\"></a>\n",
    "\n",
    "[Back to top](#top)\n",
    "\n",
    "In the first part, we will learn the basics of IR from loading and preprocessing the material, to implementing some well known search algorithms, to evaluating the ranking performance of the implemented algorithms. We will be using the CACM dataset throughout the assignment. The CACM dataset is a collection of titles and abstracts from the journal CACM (Communication of the ACM).\n",
    "\n",
    "Table of contents:\n",
    "- [Section 1: Text Processing](#text_processing) (5 points)\n",
    "- [Section 2: Indexing](#indexing) (10 points)\n",
    "- [Section 3: Ranking](#ranking) (80 points)\n",
    "- [Section 4: Evaluation](#evaluation) (40 points)\n",
    "- [Section 5: Analysis](#analysis) (30 points)\n"
   ]
  },
  {
   "cell_type": "markdown",
   "metadata": {
    "deletable": false,
    "editable": false,
    "nbgrader": {
     "cell_type": "markdown",
     "checksum": "4e3f938065183dc743aa8254b96b4f5e",
     "grade": false,
     "grade_id": "cell-4b24825cf4ae55ec",
     "locked": true,
     "schema_version": 3,
     "solution": false,
     "task": false
    },
    "tags": []
   },
   "source": [
    "---\n",
    "## Section 1: Text Processing (5 points)<a class=\"anchor\" id=\"text_processing\"></a>\n",
    "\n",
    "[Back to Part 1](#part1)\n",
    "\n",
    "In this section, we will load the dataset and learn how to clean up the data to make it usable for an IR system. \n",
    "First, go through the implementation of the following functions:\n",
    "- `read_cacm_docs`: Reads in the CACM documents.\n",
    "- `read_queries`: Reads in the CACM queries.\n",
    "- `load_stopwords`: Loads the stopwords.\n",
    "\n",
    "The points of this section are earned for the following implementations:\n",
    "- `tokenize` (3 points): Tokenizes the input text.\n",
    "- `stem_token` (2 points): Stems the given token. \n",
    "\n",
    "We are using the [CACM dataset](http://ir.dcs.gla.ac.uk/resources/test_collections/cacm/), which is a small, classic IR dataset, composed of a collection of titles and abstracts from the journal CACM. It comes with relevance judgements for queries, so we can evaluate our IR system. \n"
   ]
  },
  {
   "cell_type": "markdown",
   "metadata": {
    "deletable": false,
    "editable": false,
    "nbgrader": {
     "cell_type": "markdown",
     "checksum": "0155d897c7016389d73d160921947a6f",
     "grade": false,
     "grade_id": "cell-45651364e7af6d5a",
     "locked": true,
     "schema_version": 3,
     "solution": false,
     "task": false
    }
   },
   "source": [
    "---\n",
    "### 1.1 Read the CACM documents\n",
    "\n",
    "\n",
    "The following cell downloads the dataset and unzips it to a local directory."
   ]
  },
  {
   "cell_type": "code",
   "execution_count": 2,
   "metadata": {
    "deletable": false,
    "editable": false,
    "nbgrader": {
     "cell_type": "code",
     "checksum": "4d43c9ad6e77cc01ce4cef0c34824930",
     "grade": false,
     "grade_id": "cell-bbc3030bb3fe7e02",
     "locked": true,
     "schema_version": 3,
     "solution": false,
     "task": false
    }
   },
   "outputs": [],
   "source": [
    "def download_dataset():\n",
    "    folder_path = os.environ.get(\"IR1_DATA_PATH\")\n",
    "    if not folder_path:\n",
    "        folder_path = \"./datasets/\"\n",
    "    os.makedirs(folder_path, exist_ok=True)\n",
    "    \n",
    "    file_location = os.path.join(folder_path, \"cacm.zip\")\n",
    "    \n",
    "    # download file if it doesn't exist\n",
    "    if not os.path.exists(file_location):\n",
    "        \n",
    "        url = \"https://surfdrive.surf.nl/files/index.php/s/M0FGJpX2p8wDwxR/download\"\n",
    "\n",
    "        with open(file_location, \"wb\") as handle:\n",
    "            print(f\"Downloading file from {url} to {file_location}\")\n",
    "            response = requests.get(url, stream=True)\n",
    "            for data in tqdm(response.iter_content()):\n",
    "                handle.write(data)\n",
    "            print(\"Finished downloading file\")\n",
    "    \n",
    "    if not os.path.exists(os.path.join(folder_path, \"train.txt\")):\n",
    "        \n",
    "        # unzip file\n",
    "        with zipfile.ZipFile(file_location, 'r') as zip_ref:\n",
    "            zip_ref.extractall(folder_path)\n",
    "        \n",
    "download_dataset()"
   ]
  },
  {
   "cell_type": "markdown",
   "metadata": {
    "deletable": false,
    "editable": false,
    "nbgrader": {
     "cell_type": "markdown",
     "checksum": "31609b0d61d0c74cbd69bc43e47c23be",
     "grade": false,
     "grade_id": "cell-a7dd9a9bf98ede05",
     "locked": true,
     "schema_version": 3,
     "solution": false,
     "task": false
    }
   },
   "source": [
    "---\n",
    "\n",
    "You can see a brief description of each file in the dataset by looking at the README file:"
   ]
  },
  {
   "cell_type": "code",
   "execution_count": 3,
   "metadata": {
    "deletable": false,
    "editable": false,
    "nbgrader": {
     "cell_type": "code",
     "checksum": "cb3c9a2b8b2bf4fd5b7446b0c4c00f43",
     "grade": false,
     "grade_id": "cell-9b6ff1a17124711f",
     "locked": true,
     "schema_version": 3,
     "solution": false,
     "task": false
    }
   },
   "outputs": [
    {
     "name": "stdout",
     "output_type": "stream",
     "text": [
      "Files in this directory with sizes:\n",
      "          0 Jun 19 21:01 README\n",
      "\n",
      "    2187734 Jun 19 20:55 cacm.all              text of documents\n",
      "        626 Jun 19 20:58 cite.info             key to citation info\n",
      "                                                (the X sections in cacm.all)\n",
      "       2668 Jun 19 20:55 common_words           stop words used by smart\n",
      "       2194 Jun 19 20:55 make_coll*             shell script to make collection\n",
      "       1557 Jun 19 20:55 make_coll_term*        ditto (both useless without\n",
      "                                                smart system)\n",
      "       9948 Jun 19 20:55 qrels.text             relation giving\n",
      "                                                    qid did 0 0\n",
      "                                                to indicate dument did is\n",
      "                                                relevant to query qid\n",
      "      13689 Jun 19 20:55 query.text             Original text of the query\n",
      "\n"
     ]
    }
   ],
   "source": [
    "##### Read the README file \n",
    "with open (\"./datasets/README\",\"r\") as file:\n",
    "    readme = file.read()\n",
    "    print(readme)\n",
    "#####"
   ]
  },
  {
   "cell_type": "markdown",
   "metadata": {
    "deletable": false,
    "editable": false,
    "nbgrader": {
     "cell_type": "markdown",
     "checksum": "6e2712c4c4632bf7486a532f7f18074d",
     "grade": false,
     "grade_id": "cell-73351431869fda76",
     "locked": true,
     "schema_version": 3,
     "solution": false,
     "task": false
    }
   },
   "source": [
    "---\n",
    "We are interested in 4 files:\n",
    "- `cacm.all` : Contains the text for all documents. Note that some documents do not have abstracts available\n",
    "- `query.text` : The text of all queries\n",
    "- `qrels.text` : The relevance judgements\n",
    "- `common_words` : A list of common words. This may be used as a collection of stopwords"
   ]
  },
  {
   "cell_type": "code",
   "execution_count": 4,
   "metadata": {
    "deletable": false,
    "editable": false,
    "nbgrader": {
     "cell_type": "code",
     "checksum": "f1162c15177eb4ffe466531d03cff4a2",
     "grade": false,
     "grade_id": "cell-b44dd14079f278ca",
     "locked": true,
     "schema_version": 3,
     "solution": false,
     "task": false
    }
   },
   "outputs": [
    {
     "name": "stdout",
     "output_type": "stream",
     "text": [
      ".I 1\n",
      ".T\n",
      "Preliminary Report-International Algebraic Language\n",
      ".B\n",
      "CACM December, 1958\n",
      ".A\n",
      "Perlis, A. J.\n",
      "Samelson,K.\n",
      ".N\n",
      "CA581203 JB March 22, 1978  8:28 PM\n",
      ".X\n",
      "100\t5\t1\n",
      "123\t5\t1\n",
      "164\t5\t1\n",
      "1\t5\t1\n",
      "1\t5\t1\n",
      "1\t5\t1\n",
      "205\t5\t1\n",
      "210\t5\t1\n",
      "214\t5\t1\n",
      "1982\t5\t1\n",
      "398\t5\t1\n",
      "642\t5\t1\n",
      "669\t5\t1\n",
      "1\t6\t1\n",
      "1\t6\t1\n",
      "1\t6\t1\n",
      "1\t6\t1\n",
      "1\t6\t1\n",
      "1\t6\t1\n",
      "1\t6\t1\n",
      "1\t6\t1\n",
      "1\t6\t1\n",
      "1\t6\t1\n",
      "165\t6\t1\n",
      "196\t6\t1\n",
      "196\t6\t1\n",
      "1273\t6\t1\n",
      "1883\t6\t1\n",
      "324\t6\t1\n",
      "43\t6\t1\n",
      "53\t6\t1\n",
      "91\t6\t1\n",
      "410\t6\t1\n",
      "3184\t6\t1\n",
      "\n"
     ]
    }
   ],
   "source": [
    "##### The first 45 lines of the CACM dataset forms the first record\n",
    "# We are interested only in 3 fields. \n",
    "# 1. the '.I' field, which is the document id\n",
    "# 2. the '.T' field (the title) and\n",
    "# 3. the '.W' field (the abstract, which may be absent)\n",
    "with open (\"./datasets/cacm.all\",\"r\") as file:\n",
    "    cacm_all = \"\".join(file.readlines()[:45])\n",
    "    print(cacm_all)\n",
    "#####"
   ]
  },
  {
   "cell_type": "markdown",
   "metadata": {
    "deletable": false,
    "editable": false,
    "nbgrader": {
     "cell_type": "markdown",
     "checksum": "250b413baccd8efb186bb46a34ae0060",
     "grade": false,
     "grade_id": "cell-c4bf2e263ec553d8",
     "locked": true,
     "schema_version": 3,
     "solution": false,
     "task": false
    }
   },
   "source": [
    "---\n",
    "\n",
    "The following function reads the `cacm.all` file. Note that each document has a variable number of lines. The `.I` field denotes a new document:"
   ]
  },
  {
   "cell_type": "code",
   "execution_count": 5,
   "metadata": {
    "deletable": false,
    "editable": false,
    "nbgrader": {
     "cell_type": "code",
     "checksum": "57d757e6a7a6938740dc899022b4f291",
     "grade": false,
     "grade_id": "cell-b736116eb419c624",
     "locked": true,
     "schema_version": 3,
     "solution": false,
     "task": false
    }
   },
   "outputs": [],
   "source": [
    "def read_cacm_docs(root_folder = \"./datasets/\"):\n",
    "    \"\"\"\n",
    "        Reads in the CACM documents. The dataset is assumed to be in the folder \"./datasets/\" by default\n",
    "        Returns: A list of 2-tuples: (doc_id, document), where 'document' is a single string created by \n",
    "            appending the title and abstract (separated by a \"\\n\"). \n",
    "            In case the record doesn't have an abstract, the document is composed only by the title\n",
    "    \"\"\"\n",
    "    with open(os.path.join(root_folder, \"cacm.all\")) as reader:\n",
    "        lines = reader.readlines()\n",
    "    \n",
    "    doc_id, title, abstract = None, None, None\n",
    "    \n",
    "    docs = []\n",
    "    line_idx = 0\n",
    "    while line_idx < len(lines):\n",
    "        line = lines[line_idx]\n",
    "        if line.startswith(\".I\"):\n",
    "            if doc_id is not None:\n",
    "                docs.append((doc_id, title, abstract))\n",
    "                doc_id, title, abstract = None, None, None\n",
    "            \n",
    "            doc_id = line.split()[-1]\n",
    "            line_idx += 1\n",
    "        elif line.startswith(\".T\"):\n",
    "            # start at next line\n",
    "            line_idx += 1\n",
    "            temp_lines = []\n",
    "            # read till next '.'\n",
    "            while not lines[line_idx].startswith(\".\"):\n",
    "                temp_lines.append(lines[line_idx].strip(\"\\n\"))\n",
    "                line_idx += 1\n",
    "            title = \"\\n\".join(temp_lines).strip(\"\\n\")\n",
    "        elif line.startswith(\".W\"):\n",
    "            # start at next line\n",
    "            line_idx += 1\n",
    "            temp_lines = []\n",
    "            # read till next '.'\n",
    "            while not lines[line_idx].startswith(\".\"):\n",
    "                temp_lines.append(lines[line_idx].strip(\"\\n\"))\n",
    "                line_idx += 1\n",
    "            abstract = \"\\n\".join(temp_lines).strip(\"\\n\")\n",
    "        else:\n",
    "            line_idx += 1\n",
    "    \n",
    "    docs.append((doc_id, title, abstract))\n",
    "    \n",
    "    p_docs = []\n",
    "    for (did, t, a) in docs:\n",
    "        if a is None:\n",
    "            a = \"\"\n",
    "        p_docs.append((did, t + \"\\n\" + a))\n",
    "    return p_docs\n"
   ]
  },
  {
   "cell_type": "code",
   "execution_count": 6,
   "metadata": {
    "deletable": false,
    "editable": false,
    "nbgrader": {
     "cell_type": "code",
     "checksum": "2f81930fcd89670b6e20e2255e1f2369",
     "grade": false,
     "grade_id": "cell-a1c43818e0d3fd79",
     "locked": true,
     "schema_version": 3,
     "solution": false,
     "task": false
    }
   },
   "outputs": [],
   "source": [
    "##### Function check\n",
    "docs = read_cacm_docs()\n",
    "\n",
    "assert isinstance(docs, list)\n",
    "assert len(docs) == 3204, \"There should be exactly 3204 documents\"\n",
    "\n",
    "unzipped_docs = list(zip(*docs))\n",
    "assert np.sum(np.array(list(map(int,unzipped_docs[0])))) == 5134410\n",
    "\n",
    "##### "
   ]
  },
  {
   "cell_type": "markdown",
   "metadata": {
    "deletable": false,
    "editable": false,
    "nbgrader": {
     "cell_type": "markdown",
     "checksum": "25fd3cfaf2137c56002b850699b3c9d3",
     "grade": false,
     "grade_id": "cell-5ed2ddc91f73c60e",
     "locked": true,
     "schema_version": 3,
     "solution": false,
     "task": false
    }
   },
   "source": [
    "---\n",
    "### 1.2 Read the CACM queries\n",
    "\n",
    "Next, let us read the queries. They are formatted similarly:"
   ]
  },
  {
   "cell_type": "code",
   "execution_count": 7,
   "metadata": {
    "deletable": false,
    "editable": false,
    "nbgrader": {
     "cell_type": "code",
     "checksum": "5d26c0908e758acb9968b84056b1060a",
     "grade": false,
     "grade_id": "cell-5c7e8e7c4fc2757f",
     "locked": true,
     "schema_version": 3,
     "solution": false,
     "task": false
    }
   },
   "outputs": [
    {
     "name": "stdout",
     "output_type": "stream",
     "text": [
      ".I 1\n",
      ".W\n",
      " What articles exist which deal with TSS (Time Sharing System), an\n",
      "operating system for IBM computers?\n",
      ".N\n",
      " 1. Richard Alexander, Comp Serv, Langmuir Lab (TSS)\n",
      " \n",
      ".I 2\n",
      ".W\n",
      " I am interested in articles written either by Prieve or Udo Pooch\n",
      ".A\n",
      "Prieve, B.\n",
      "Pooch, U.\n",
      ".N\n",
      " 2. Richard Alexander, Comp Serv, Langmuir Lab (author = Pooch or Prieve)\n"
     ]
    }
   ],
   "source": [
    "##### The first 15 lines of 'query.text' has 2 queries\n",
    "# We are interested only in 2 fields. \n",
    "# 1. the '.I' - the query id\n",
    "# 2. the '.W' - the query\n",
    "!head -15 ./datasets/query.text\n",
    "#####"
   ]
  },
  {
   "cell_type": "markdown",
   "metadata": {
    "deletable": false,
    "editable": false,
    "nbgrader": {
     "cell_type": "markdown",
     "checksum": "8f19f311a660f30e3f86cb0f7037d54a",
     "grade": false,
     "grade_id": "cell-88e293507d2dcef6",
     "locked": true,
     "schema_version": 3,
     "solution": false,
     "task": false
    }
   },
   "source": [
    "---\n",
    "\n",
    "The following function reads the `query.text` file:"
   ]
  },
  {
   "cell_type": "code",
   "execution_count": 8,
   "metadata": {
    "deletable": false,
    "editable": false,
    "nbgrader": {
     "cell_type": "code",
     "checksum": "e3fbb193211007672849487f5cff1664",
     "grade": false,
     "grade_id": "cell-433e3ad5d0e2572a",
     "locked": true,
     "schema_version": 3,
     "solution": false,
     "task": false
    }
   },
   "outputs": [],
   "source": [
    "def read_queries(root_folder = \"./datasets/\"):\n",
    "    \"\"\"\n",
    "        Reads in the CACM queries. The dataset is assumed to be in the folder \"./datasets/\" by default\n",
    "        Returns: A list of 2-tuples: (query_id, query)\n",
    "    \"\"\"\n",
    "    with open(os.path.join(root_folder, \"query.text\")) as reader:\n",
    "        lines = reader.readlines()\n",
    "    \n",
    "    query_id, query = None, None\n",
    "    \n",
    "    queries = []\n",
    "    line_idx = 0\n",
    "    while line_idx < len(lines):\n",
    "        line = lines[line_idx]\n",
    "        if line.startswith(\".I\"):\n",
    "            if query_id is not None:\n",
    "                queries.append((query_id, query))\n",
    "                query_id, query = None, None\n",
    "    \n",
    "            query_id = line.split()[-1]\n",
    "            line_idx += 1\n",
    "        elif line.startswith(\".W\"):\n",
    "            # start at next line\n",
    "            line_idx += 1\n",
    "            temp_lines = []\n",
    "            # read till next '.'\n",
    "            while not lines[line_idx].startswith(\".\"):\n",
    "                temp_lines.append(lines[line_idx].strip(\"\\n\"))\n",
    "                line_idx += 1\n",
    "            query = \"\\n\".join(temp_lines).strip(\"\\n\")\n",
    "        else:\n",
    "            line_idx += 1\n",
    "    \n",
    "    queries.append((query_id, query))\n",
    "    return queries\n"
   ]
  },
  {
   "cell_type": "code",
   "execution_count": 9,
   "metadata": {
    "deletable": false,
    "editable": false,
    "nbgrader": {
     "cell_type": "code",
     "checksum": "a897b9771b54f447be3418d7246fc4a0",
     "grade": false,
     "grade_id": "cell-6ec540abce66c598",
     "locked": true,
     "schema_version": 3,
     "solution": false,
     "task": false
    }
   },
   "outputs": [],
   "source": [
    "##### Function check\n",
    "queries = read_queries()\n",
    "\n",
    "assert isinstance(queries, list)\n",
    "assert len(queries) == 64 and all([q[1] is not None for q in queries]), \"There should be exactly 64 queries\"\n",
    "\n",
    "unzipped_queries = list(zip(*queries))\n",
    "assert np.sum(np.array(list(map(int,unzipped_queries[0])))) == 2080\n",
    "\n",
    "##### "
   ]
  },
  {
   "cell_type": "markdown",
   "metadata": {
    "deletable": false,
    "editable": false,
    "nbgrader": {
     "cell_type": "markdown",
     "checksum": "a300c41912ac63b239070b4c15c9f5c5",
     "grade": false,
     "grade_id": "cell-1c31569491d7b782",
     "locked": true,
     "schema_version": 3,
     "solution": false,
     "task": false
    }
   },
   "source": [
    "---\n",
    "### 1.3 Read the stop words\n",
    "\n",
    "We use the common words stored in `common_words`:"
   ]
  },
  {
   "cell_type": "code",
   "execution_count": 10,
   "metadata": {
    "deletable": false,
    "editable": false,
    "nbgrader": {
     "cell_type": "code",
     "checksum": "1ad6f5bae6a792504c1c8513ae5751ad",
     "grade": false,
     "grade_id": "cell-34bdb63461418a96",
     "locked": true,
     "schema_version": 3,
     "solution": false,
     "task": false
    }
   },
   "outputs": [
    {
     "name": "stdout",
     "output_type": "stream",
     "text": [
      "a\n",
      "about\n",
      "above\n",
      "accordingly\n",
      "across\n",
      "after\n",
      "afterwards\n",
      "again\n",
      "against\n",
      "all\n"
     ]
    }
   ],
   "source": [
    "##### Read the stop words file \n",
    "!head ./datasets/common_words\n",
    "##### Read the README file "
   ]
  },
  {
   "cell_type": "markdown",
   "metadata": {
    "deletable": false,
    "editable": false,
    "nbgrader": {
     "cell_type": "markdown",
     "checksum": "6d0fe612e770213b6397c2179b07a966",
     "grade": false,
     "grade_id": "cell-4744bde0338895d8",
     "locked": true,
     "schema_version": 3,
     "solution": false,
     "task": false
    }
   },
   "source": [
    "---\n",
    "\n",
    "The following function reads the `common_words` file (For better coverage, we try to keep them in lowercase):"
   ]
  },
  {
   "cell_type": "code",
   "execution_count": 11,
   "metadata": {
    "deletable": false,
    "editable": false,
    "nbgrader": {
     "cell_type": "code",
     "checksum": "9409713fd26eb0c33587e190638997c4",
     "grade": false,
     "grade_id": "cell-7357aa40f64e5bcb",
     "locked": true,
     "schema_version": 3,
     "solution": false,
     "task": false
    }
   },
   "outputs": [],
   "source": [
    "def load_stopwords(root_folder = \"./datasets/\"):\n",
    "    \"\"\"\n",
    "        Loads the stopwords. The dataset is assumed to be in the folder \"./datasets/\" by default\n",
    "        Output: A set of stopwords\n",
    "    \"\"\"\n",
    "    with open(os.path.join(root_folder, \"common_words\")) as reader:\n",
    "        lines = reader.readlines()\n",
    "    stopwords = set([l.strip().lower() for l in lines])\n",
    "    return stopwords\n"
   ]
  },
  {
   "cell_type": "code",
   "execution_count": 12,
   "metadata": {
    "deletable": false,
    "editable": false,
    "nbgrader": {
     "cell_type": "code",
     "checksum": "f1c8153c3c38133bc2db6e7b076ad470",
     "grade": false,
     "grade_id": "cell-2ca3ac162004de97",
     "locked": true,
     "schema_version": 3,
     "solution": false,
     "task": false
    }
   },
   "outputs": [],
   "source": [
    "##### Function check\n",
    "stopwords = load_stopwords()\n",
    "\n",
    "assert isinstance(stopwords, set)\n",
    "assert len(stopwords) == 428, \"There should be exactly 428 stop words\"\n",
    "\n",
    "assert np.sum(np.array(list(map(len,stopwords)))) == 2234\n",
    "\n",
    "##### \n"
   ]
  },
  {
   "cell_type": "markdown",
   "metadata": {
    "deletable": false,
    "editable": false,
    "nbgrader": {
     "cell_type": "markdown",
     "checksum": "92c1191e9e7291dcf0d70dc67b907a65",
     "grade": false,
     "grade_id": "cell-134b72872f4300cb",
     "locked": true,
     "schema_version": 3,
     "solution": false,
     "task": false
    }
   },
   "source": [
    "---\n",
    "### 1.4 Tokenization (3 points)\n",
    "\n",
    "We can now write some basic text processing functions. \n",
    "A first step is to tokenize the text. \n",
    "\n",
    "**Note**: Use the  `WordPunctTokenizer` available in the `nltk` library:"
   ]
  },
  {
   "cell_type": "code",
   "execution_count": 13,
   "metadata": {
    "deletable": false,
    "nbgrader": {
     "cell_type": "code",
     "checksum": "3f5564d3c75bf22fbf832b3a9b938f37",
     "grade": false,
     "grade_id": "cell-322be4c9499bdc4b",
     "locked": false,
     "schema_version": 3,
     "solution": true,
     "task": false
    }
   },
   "outputs": [],
   "source": [
    "# TODO: Implement this! (4 points)\n",
    "def tokenize(text):\n",
    "    \"\"\"\n",
    "        Tokenizes the input text. Use the WordPunctTokenizer\n",
    "        Input: text - a string\n",
    "        Output: a list of tokens\n",
    "    \"\"\"\n",
    "    # YOUR CODE HERE\n",
    "    \n",
    "    tokenizer = nltk.tokenize.WordPunctTokenizer()\n",
    "    tokens = tokenizer.tokenize(text)\n",
    "    \n",
    "    return tokens"
   ]
  },
  {
   "cell_type": "code",
   "execution_count": 14,
   "metadata": {
    "deletable": false,
    "editable": false,
    "nbgrader": {
     "cell_type": "code",
     "checksum": "e15af22c4d8ae0a3f9dac43bef7097ec",
     "grade": true,
     "grade_id": "cell-7fbf48bf7541a622",
     "locked": true,
     "points": 3,
     "schema_version": 3,
     "solution": false,
     "task": false
    }
   },
   "outputs": [
    {
     "name": "stdout",
     "output_type": "stream",
     "text": [
      "['the', 'quick', 'brown', 'fox', 'jumps', 'over', 'the', 'lazy', 'dog']\n"
     ]
    }
   ],
   "source": [
    "##### Function check\n",
    "text = \"the quick brown fox jumps over the lazy dog\"\n",
    "tokens = tokenize(text)\n",
    "\n",
    "assert isinstance(tokens, list)\n",
    "assert len(tokens) == 9\n",
    "\n",
    "print(tokens)\n",
    "# output: ['the', 'quick', 'brown', 'fox', 'jumps', 'over', 'the', 'lazy', 'dog']\n",
    "#####"
   ]
  },
  {
   "cell_type": "markdown",
   "metadata": {
    "deletable": false,
    "editable": false,
    "nbgrader": {
     "cell_type": "markdown",
     "checksum": "34210618bff4cb47aad2f03cb4b9854c",
     "grade": false,
     "grade_id": "cell-fd1b98ae61b697ca",
     "locked": true,
     "schema_version": 3,
     "solution": false,
     "task": false
    }
   },
   "source": [
    "---\n",
    "### 1.5 Stemming (2 points)\n",
    "\n",
    "Write a function to stem tokens. \n",
    "Again, you can use the nltk library for this:"
   ]
  },
  {
   "cell_type": "code",
   "execution_count": 15,
   "metadata": {
    "deletable": false,
    "nbgrader": {
     "cell_type": "code",
     "checksum": "1c4a6aa979d66158c7b6b992af43293a",
     "grade": false,
     "grade_id": "cell-e3f6c8e3f874b28d",
     "locked": false,
     "schema_version": 3,
     "solution": true,
     "task": false
    }
   },
   "outputs": [],
   "source": [
    "# TODO: Implement this! (3 points)\n",
    "def stem_token(token):\n",
    "    \"\"\"\n",
    "        Stems the given token using the PorterStemmer from the nltk library\n",
    "        Input: a single token\n",
    "        Output: the stem of the token\n",
    "    \"\"\"\n",
    "    # YOUR CODE HERE\n",
    "    stemmer = nltk.stem.porter.PorterStemmer()\n",
    "    stemmed_token = stemmer.stem(token)\n",
    "    \n",
    "    return stemmed_token"
   ]
  },
  {
   "cell_type": "code",
   "execution_count": 16,
   "metadata": {
    "deletable": false,
    "editable": false,
    "nbgrader": {
     "cell_type": "code",
     "checksum": "9363b4f09b556d424d9c895d4ab57b1c",
     "grade": true,
     "grade_id": "cell-cd6863e6ee6ed205",
     "locked": true,
     "points": 2,
     "schema_version": 3,
     "solution": false,
     "task": false
    }
   },
   "outputs": [],
   "source": [
    "##### Function check\n",
    "\n",
    "assert stem_token('owned') == 'own'\n",
    "assert stem_token('itemization') == 'item'\n",
    "#####"
   ]
  },
  {
   "cell_type": "markdown",
   "metadata": {
    "deletable": false,
    "editable": false,
    "nbgrader": {
     "cell_type": "markdown",
     "checksum": "0b311d014146da6afa1d39542fab9869",
     "grade": false,
     "grade_id": "cell-47c9f90498699110",
     "locked": true,
     "schema_version": 3,
     "solution": false,
     "task": false
    }
   },
   "source": [
    "---\n",
    "### 1.6 Summary\n",
    "\n",
    "The following function puts it all together. Given an input string, this functions tokenizes and processes it according to the flags that you set."
   ]
  },
  {
   "cell_type": "code",
   "execution_count": 17,
   "metadata": {
    "deletable": false,
    "editable": false,
    "nbgrader": {
     "cell_type": "code",
     "checksum": "2ff2d215ee8e0039c5a91fd3de12e6bd",
     "grade": false,
     "grade_id": "cell-dd0d3f46b30801da",
     "locked": true,
     "schema_version": 3,
     "solution": false,
     "task": false
    }
   },
   "outputs": [],
   "source": [
    "#### Putting it all together\n",
    "def process_text(text, stem=False, remove_stopwords=False, lowercase_text=False):\n",
    "    \n",
    "    tokens = []\n",
    "    for token in tokenize(text):\n",
    "        if remove_stopwords and token.lower() in stopwords:\n",
    "            continue\n",
    "        if stem:\n",
    "            token = stem_token(token)\n",
    "        if lowercase_text:\n",
    "            token = token.lower()\n",
    "        tokens.append(token)\n",
    "\n",
    "    return tokens\n",
    "#### "
   ]
  },
  {
   "cell_type": "markdown",
   "metadata": {
    "deletable": false,
    "editable": false,
    "nbgrader": {
     "cell_type": "markdown",
     "checksum": "02d433b18eb43654fa4306a7bf55b190",
     "grade": false,
     "grade_id": "cell-8d885bfd2edd43ae",
     "locked": true,
     "schema_version": 3,
     "solution": false,
     "task": false
    }
   },
   "source": [
    "---\n",
    "\n",
    "Let's create two sets of preprocessed documents.\n",
    "We can process the documents and queries according to these two configurations:"
   ]
  },
  {
   "cell_type": "code",
   "execution_count": 18,
   "metadata": {
    "deletable": false,
    "editable": false,
    "nbgrader": {
     "cell_type": "code",
     "checksum": "dbe4ca667be6842fdcf512fbcad50c7f",
     "grade": false,
     "grade_id": "cell-d427365ee0fb21d8",
     "locked": true,
     "schema_version": 3,
     "solution": false,
     "task": false
    }
   },
   "outputs": [],
   "source": [
    "# In this configuration:\n",
    "# Don't preprocess the text, except to tokenize \n",
    "config_1 = {\n",
    "  \"stem\": False,\n",
    "  \"remove_stopwords\" : False,\n",
    "  \"lowercase_text\": True\n",
    "} \n",
    "\n",
    "\n",
    "# In this configuration:\n",
    "# Preprocess the text, stem and remove stopwords\n",
    "config_2 = {\n",
    "  \"stem\": True,\n",
    "  \"remove_stopwords\" : True,\n",
    "  \"lowercase_text\": True, \n",
    "} \n",
    "\n",
    "####\n",
    "doc_repr_1 = []\n",
    "doc_repr_2 = []\n",
    "for (doc_id, document) in docs:\n",
    "    doc_repr_1.append((doc_id, process_text(document, **config_1)))\n",
    "    doc_repr_2.append((doc_id, process_text(document, **config_2)))\n",
    "\n",
    "####"
   ]
  },
  {
   "cell_type": "markdown",
   "metadata": {
    "deletable": false,
    "editable": false,
    "nbgrader": {
     "cell_type": "markdown",
     "checksum": "b60589aac19e80941d860d9b3f1e9a16",
     "grade": false,
     "grade_id": "cell-b1c102db61ae7495",
     "locked": true,
     "schema_version": 3,
     "solution": false,
     "task": false
    },
    "tags": []
   },
   "source": [
    "--- \n",
    "\n",
    "## Section 2: Indexing (10 points)<a class=\"anchor\" id=\"indexing\"></a>\n",
    "\n",
    "[Back to Part 1](#part1)\n",
    "\n",
    "\n",
    "\n",
    "A retrieval function usually takes in a query document pair, and scores a query against a document.  Our document set is quite small - just a few thousand documents. However, consider a web-scale dataset with a few million documents. In such a scenario, it would become infeasible to score every query and document pair. In such a case, we can build an inverted index. From Wikipedia:\n",
    "\n",
    "> ... , an inverted index (also referred to as a postings file or inverted file) is a database index storing a mapping from content, such as words or numbers, to its locations in a table, .... The purpose of an inverted index is to allow fast full-text searches, at a cost of increased processing when a document is added to the database. ...\n",
    "\n",
    "\n",
    "Consider a simple inverted index, which maps from word to document. This can improve the performance of a retrieval system significantly. In this assignment, we consider a *simple* inverted index, which maps a word to a set of documents. In practice, however, more complex indices might be used.  \n"
   ]
  },
  {
   "cell_type": "markdown",
   "metadata": {
    "deletable": false,
    "editable": false,
    "nbgrader": {
     "cell_type": "markdown",
     "checksum": "710fd943f45523ac36fcb887cc0d4d39",
     "grade": false,
     "grade_id": "cell-fa373192c1b7bb95",
     "locked": true,
     "schema_version": 3,
     "solution": false,
     "task": false
    }
   },
   "source": [
    "### 2.1 Term Frequency-index (10 points)\n",
    "In this assignment, we will be using an index created in memory since our dataset is tiny. To get started, build a simple index that maps each `token` to a list of `(doc_id, count)` where `count` is the count of the `token` in `doc_id`.\n",
    "For consistency, build this index using a python dictionary.\n",
    "    \n",
    "Now, implement a function to build an index:"
   ]
  },
  {
   "cell_type": "code",
   "execution_count": 19,
   "metadata": {
    "deletable": false,
    "nbgrader": {
     "cell_type": "code",
     "checksum": "d4e8c6b658c469379d5fe511de05b536",
     "grade": false,
     "grade_id": "cell-077599b87e953209",
     "locked": false,
     "schema_version": 3,
     "solution": true,
     "task": false
    }
   },
   "outputs": [],
   "source": [
    "# TODO: Implement this! (10 points)\n",
    "def build_tf_index(documents):\n",
    "    \"\"\"\n",
    "        Build an inverted index (with counts). The output is a dictionary which takes in a token\n",
    "        and returns a list of (doc_id, count) where 'count' is the count of the 'token' in 'doc_id'\n",
    "        Input: a list of documents - (doc_id, tokens) \n",
    "        Output: An inverted index implemented within a pyhton dictionary: [token] -> [(doc_id, token_count)]\n",
    "    \"\"\"\n",
    "    # YOUR CODE HERE\n",
    "    \n",
    "    # basic imports\n",
    "    from collections import defaultdict\n",
    "    \n",
    "    # initialize the index\n",
    "    index = defaultdict(list)\n",
    "    \n",
    "    # loop over documents\n",
    "    for doc_id, doc_tokens in documents:\n",
    "\n",
    "        # get counts of each token in the document\n",
    "        tokens, counts = np.unique(doc_tokens, return_counts=True)\n",
    "        \n",
    "        # update the index\n",
    "        for token, count in zip(tokens, counts):\n",
    "            index[token].append((doc_id, count))\n",
    "    \n",
    "    return index"
   ]
  },
  {
   "cell_type": "markdown",
   "metadata": {
    "deletable": false,
    "editable": false,
    "nbgrader": {
     "cell_type": "markdown",
     "checksum": "15e7041b4323d2a290322de538ff7670",
     "grade": false,
     "grade_id": "cell-093aebfa504f96f2",
     "locked": true,
     "schema_version": 3,
     "solution": false,
     "task": false
    }
   },
   "source": [
    "---\n",
    "Now we can build indexed documents and preprocess the queries based on the two configurations:"
   ]
  },
  {
   "cell_type": "code",
   "execution_count": 20,
   "metadata": {
    "deletable": false,
    "editable": false,
    "nbgrader": {
     "cell_type": "code",
     "checksum": "e27540c1d8d77a3779a05f557f3f40c6",
     "grade": false,
     "grade_id": "cell-b2ff1676348b90a8",
     "locked": true,
     "schema_version": 3,
     "solution": false,
     "task": false
    }
   },
   "outputs": [],
   "source": [
    "#### Indexed documents based on the two configs\n",
    "\n",
    "# Create the 2 indices\n",
    "tf_index_1 = build_tf_index(doc_repr_1)\n",
    "tf_index_2 = build_tf_index(doc_repr_2)\n",
    "\n",
    "# This function returns the tf_index of the corresponding config\n",
    "def get_index(index_set):\n",
    "    assert index_set in {1, 2}\n",
    "    return {\n",
    "        1: tf_index_1,\n",
    "        2: tf_index_2\n",
    "    }[index_set]\n",
    "\n",
    "####\n",
    "#### Preprocessed query based on the two configs\n",
    "\n",
    "# This function preprocesses the text given the index set, according to the specified config\n",
    "def preprocess_query(text, index_set):\n",
    "    assert index_set in {1, 2}\n",
    "    if index_set == 1:\n",
    "        return process_text(text, **config_1)\n",
    "    elif index_set == 2:\n",
    "        return process_text(text, **config_2)\n",
    "\n",
    "#### "
   ]
  },
  {
   "cell_type": "code",
   "execution_count": 21,
   "metadata": {
    "deletable": false,
    "editable": false,
    "nbgrader": {
     "cell_type": "code",
     "checksum": "f0cbc8703e1248cd6edf03f9019b69db",
     "grade": true,
     "grade_id": "cell-fc7c7232d5d2ee46",
     "locked": true,
     "points": 5,
     "schema_version": 3,
     "solution": false,
     "task": false
    }
   },
   "outputs": [
    {
     "name": "stdout",
     "output_type": "stream",
     "text": [
      "sample tf index for computer: [('4', 1), ('7', 1), ('10', 1), ('13', 1), ('19', 1), ('22', 1), ('23', 1), ('37', 1), ('40', 3), ('41', 1)]\n",
      "sample tf index for examples: [('111', 1), ('320', 1), ('644', 1), ('691', 1), ('727', 1), ('848', 1), ('892', 1), ('893', 1), ('1049', 1), ('1051', 1)]\n"
     ]
    }
   ],
   "source": [
    "##### Function check\n",
    "\n",
    "assert isinstance(tf_index_1, dict)\n",
    "\n",
    "assert isinstance(tf_index_1['computer'], list)\n",
    "print('sample tf index for computer:', tf_index_1['computer'][:10])\n",
    "\n",
    "assert isinstance(tf_index_1['examples'], list)\n",
    "print('sample tf index for examples:', tf_index_1['examples'][:10])\n",
    "#### "
   ]
  },
  {
   "cell_type": "code",
   "execution_count": 22,
   "metadata": {
    "deletable": false,
    "editable": false,
    "nbgrader": {
     "cell_type": "code",
     "checksum": "d49b8ac36815d9a5cb4bed838ab53a50",
     "grade": true,
     "grade_id": "cell-ff06bd11204db250",
     "locked": true,
     "points": 5,
     "schema_version": 3,
     "solution": false,
     "task": false
    }
   },
   "outputs": [
    {
     "name": "stdout",
     "output_type": "stream",
     "text": [
      "sample tf index for computer: [('4', 1), ('7', 1), ('10', 1), ('13', 1), ('19', 1), ('22', 1), ('23', 1), ('37', 1), ('40', 3), ('41', 1)]\n",
      "sample tf index for examples: []\n"
     ]
    }
   ],
   "source": [
    "##### Function check\n",
    "\n",
    "assert isinstance(tf_index_2, dict)\n",
    "\n",
    "assert isinstance(tf_index_2['computer'], list)\n",
    "print('sample tf index for computer:', tf_index_1['computer'][:10])\n",
    "\n",
    "assert isinstance(tf_index_2['examples'], list)\n",
    "print('sample tf index for examples:', tf_index_2['examples'][:10])\n",
    "#### "
   ]
  },
  {
   "cell_type": "markdown",
   "metadata": {
    "deletable": false,
    "editable": false,
    "nbgrader": {
     "cell_type": "markdown",
     "checksum": "880b2ef3ca405f2af6e0667d2dc7a600",
     "grade": false,
     "grade_id": "cell-89eba71f04310291",
     "locked": true,
     "schema_version": 3,
     "solution": false,
     "task": false
    }
   },
   "source": [
    "\n",
    "---\n",
    "## Section 3: Ranking  (80 points) <a class=\"anchor\" id=\"ranking\"></a>\n",
    "\n",
    "[Back to Part 1](#part1)\n",
    "\n",
    "Now that we have cleaned and processed our dataset, we can start building simple IR systems. \n",
    "\n",
    "For now, we consider *simple* IR systems, which involve computing scores from the tokens present in the document/query. More advanced methods are covered in later assignments.\n",
    "\n",
    "We will implement the following methods in this section:\n",
    "- [Section 3.1: Bag of Words](#bow) (10 points)\n",
    "- [Section 3.2: TF-IDF](#tfidf) (15 points)\n",
    "- [Section 3.3: Query Likelihood Model](#qlm) (35 points)\n",
    "- [Section 3.4: BM25](#bm25) (20 points)\n",
    "\n",
    "*All search functions should be able to handle multiple words queries.*\n",
    "\n",
    "**Scoring policy:**\n",
    "Your implementations in this section are scored based on the expected performance of your ranking functions.\n",
    "You will get a full mark if your implementation meets the expected performance (measured by some evaluation metric).\n",
    "Otherwise, you may get partial credit.\n",
    "For example, if your *Bag of words* ranking function has 60% of expected performance, you will get 6 out of 10."
   ]
  },
  {
   "cell_type": "markdown",
   "metadata": {
    "deletable": false,
    "editable": false,
    "nbgrader": {
     "cell_type": "markdown",
     "checksum": "6c74e5061917358300c6e8085ec07864",
     "grade": false,
     "grade_id": "cell-3daf70a60e393adf",
     "locked": true,
     "schema_version": 3,
     "solution": false,
     "task": false
    },
    "tags": []
   },
   "source": [
    "--- \n",
    "\n",
    "### Section 3.1: Bag of Words (10 points)<a class=\"anchor\" id=\"bow\"></a>\n",
    "\n",
    "Probably the simplest IR model is the Bag of Words (BOW) model.\n",
    "Implement a function that scores and ranks all the documents against a query using this model.   \n",
    "\n",
    "- For consistency, you should use the count of the token and **not** the binary indicator.\n",
    "- Use `float` type for the scores (even though the scores are integers in this case).\n",
    "- No normalization of the scores is necessary, as the ordering is what we are interested in.\n",
    "- If two documents have the same score, they can have any ordering: you are not required to disambiguate.\n"
   ]
  },
  {
   "cell_type": "code",
   "execution_count": 23,
   "metadata": {
    "deletable": false,
    "nbgrader": {
     "cell_type": "code",
     "checksum": "fee4640e22bfc4f05eb958a675ef40e7",
     "grade": false,
     "grade_id": "cell-de9cf0459c4b9324",
     "locked": false,
     "schema_version": 3,
     "solution": true,
     "task": false
    }
   },
   "outputs": [],
   "source": [
    "# TODO: Implement this! (10 points)\n",
    "def bow_search(query, index_set):\n",
    "    \"\"\"\n",
    "        Perform a search over all documents with the given query. \n",
    "        Note: You have to use the `get_index` function created in the previous cells\n",
    "        Input: \n",
    "            query - a (unprocessed) query\n",
    "            index_set - the index to use\n",
    "        Output: a list of (document_id, score), sorted in descending relevance to the given query. \n",
    "    \"\"\"\n",
    "    index = get_index(index_set)\n",
    "    processed_query = preprocess_query(query, index_set)\n",
    "    \n",
    "    # YOUR CODE HERE\n",
    "    \n",
    "    from collections import Counter, OrderedDict\n",
    "\n",
    "    document_score = Counter()\n",
    "    for t in processed_query:\n",
    "        if t in index:\n",
    "            document_score.update(dict(index[t]))          \n",
    "        \n",
    "    # convert scores to floats\n",
    "    document_score = {k: float(v) for k, v in document_score.items()}\n",
    "    \n",
    "    # return the sorted dict\n",
    "    return sorted(document_score.items(), key=lambda x: x[1], reverse=True)"
   ]
  },
  {
   "cell_type": "code",
   "execution_count": 24,
   "metadata": {
    "deletable": false,
    "editable": false,
    "nbgrader": {
     "cell_type": "code",
     "checksum": "613524fbbf02b1d122c6611a71fbf11b",
     "grade": true,
     "grade_id": "cell-9f6aceae6dd9125f",
     "locked": true,
     "points": 2,
     "schema_version": 3,
     "solution": false,
     "task": false
    }
   },
   "outputs": [],
   "source": [
    "#### Function check\n",
    "\n",
    "test_bow = bow_search(\"how to implement bag of words search\", index_set=1)[:5]\n",
    "assert isinstance(test_bow, list)\n",
    "assert len(test_bow[0]) == 2\n",
    "assert isinstance(test_bow[0][0], str)\n",
    "assert isinstance(test_bow[0][1], float)\n",
    "\n",
    "#### "
   ]
  },
  {
   "cell_type": "code",
   "execution_count": 25,
   "metadata": {
    "deletable": false,
    "editable": false,
    "nbgrader": {
     "cell_type": "code",
     "checksum": "9af20897659edb62fe77598483590500",
     "grade": true,
     "grade_id": "cell-4eed3abf233d9b58",
     "locked": true,
     "points": 2,
     "schema_version": 3,
     "solution": false,
     "task": false
    }
   },
   "outputs": [
    {
     "name": "stdout",
     "output_type": "stream",
     "text": [
      "BOW Results:\n",
      "Rank 0(1.3e+01): On Computing The Fast Fourier Transform\\nCooley an...\n",
      "Rank 1(1.2e+01): Variable Length Tree Structures Having Minimum Ave...\n",
      "Rank 2(1.1e+01): A Modular Computer Sharing System\\nAn alternative ...\n",
      "Rank 3(1e+01): PEEKABIT, Computer Offspring of Punched\\nCard PEEK...\n",
      "Rank 4(9.0): Computer Simulation-Discussion of the\\nTechnique a...\n"
     ]
    }
   ],
   "source": [
    "\n",
    "docs_by_id = dict(docs)\n",
    "def print_results(docs, len_limit=50):    \n",
    "    for i, (doc_id, score) in enumerate(docs):\n",
    "        doc_content = docs_by_id[doc_id].strip().replace(\"\\n\", \"\\\\n\")[:len_limit] + \"...\"\n",
    "        print(f\"Rank {i}({score:.2}): {doc_content}\")\n",
    "\n",
    "test_bow_2 = bow_search(\"computer search word\", index_set=2)[:5]\n",
    "print(f\"BOW Results:\")\n",
    "print_results(test_bow_2)\n"
   ]
  },
  {
   "cell_type": "code",
   "execution_count": 26,
   "metadata": {
    "deletable": false,
    "editable": false,
    "nbgrader": {
     "cell_type": "code",
     "checksum": "3c9c8b16c8e7d1032f101e9da8a6e845",
     "grade": true,
     "grade_id": "cell-4d65a2d7090c466c",
     "locked": true,
     "points": 3,
     "schema_version": 3,
     "solution": false,
     "task": false
    }
   },
   "outputs": [
    {
     "name": "stdout",
     "output_type": "stream",
     "text": [
      "BOW Results:\n",
      "Rank 0(9.0): CURRICULUM 68 -- Recommendations for Academic\\nPro...\n",
      "Rank 1(9.0): Variable Length Tree Structures Having Minimum Ave...\n",
      "Rank 2(7.0): Computer Formulation of the Equations of Motion Us...\n",
      "Rank 3(7.0): The Effects of Multiplexing on a Computer-Communic...\n",
      "Rank 4(6.0): Optimizing Bit-time Computer Simulation\\nA major c...\n"
     ]
    }
   ],
   "source": [
    "\n",
    "test_bow_1 = bow_search(\"computer search word\", index_set=1)[:5]\n",
    "print(f\"BOW Results:\")\n",
    "print_results(test_bow_1)\n"
   ]
  },
  {
   "cell_type": "code",
   "execution_count": 27,
   "metadata": {
    "deletable": false,
    "editable": false,
    "nbgrader": {
     "cell_type": "code",
     "checksum": "b7e593847aa4202ae45ec061fb18ad73",
     "grade": true,
     "grade_id": "cell-dedf36ab5853ce20",
     "locked": true,
     "points": 3,
     "schema_version": 3,
     "solution": false,
     "task": false
    }
   },
   "outputs": [
    {
     "name": "stdout",
     "output_type": "stream",
     "text": [
      "top-5 docs for index1: ('1771', '1936', '1543', '2535', '678')\n",
      "top-5 docs for index2: ('1525', '1936', '1844', '1700', '1366')\n"
     ]
    }
   ],
   "source": [
    "print('top-5 docs for index1:', list(zip(*test_bow_1[:5]))[0])\n",
    "print('top-5 docs for index2:', list(zip(*test_bow_2[:5]))[0])\n"
   ]
  },
  {
   "cell_type": "markdown",
   "metadata": {
    "deletable": false,
    "editable": false,
    "nbgrader": {
     "cell_type": "markdown",
     "checksum": "b04352ee0716dfdf094b8cdb6f32e984",
     "grade": false,
     "grade_id": "cell-a5c09c79ac1f2871",
     "locked": true,
     "schema_version": 3,
     "solution": false,
     "task": false
    },
    "tags": []
   },
   "source": [
    "\n",
    "---\n",
    "\n",
    "### Section 3.2: TF-IDF (15 points) <a class=\"anchor\" id=\"tfidf\"></a>\n",
    "\n",
    "Before we implement the tf-idf scoring functions, let's first write a function to compute the document frequencies of all words.  \n",
    "\n",
    "#### 3.2.1 Document frequency (5 points)\n",
    "Compute the document frequencies of all tokens in the collection. \n",
    "Your code should return a dictionary with tokens as its keys and the number of documents containing the token as values.\n",
    "For consistency, the values should have `int` type."
   ]
  },
  {
   "cell_type": "code",
   "execution_count": 28,
   "metadata": {
    "deletable": false,
    "nbgrader": {
     "cell_type": "code",
     "checksum": "5c53263cf4c0b0ffcaae08b91fc364cc",
     "grade": false,
     "grade_id": "cell-9a2369f32e864b8a",
     "locked": false,
     "schema_version": 3,
     "solution": true,
     "task": false
    }
   },
   "outputs": [],
   "source": [
    "# TODO: Implement this! (5 points)\n",
    "def compute_df(documents):\n",
    "    \"\"\"\n",
    "        Compute the document frequency of all terms in the vocabulary\n",
    "        Input: A list of documents\n",
    "        Output: A dictionary with {token: document frequency (int)}\n",
    "    \"\"\"\n",
    "    # YOUR CODE HERE\n",
    "    \n",
    "    from collections import Counter\n",
    "    \n",
    "    df = Counter()\n",
    "    for d in documents:\n",
    "        df.update(np.unique(d))\n",
    "    \n",
    "    return df"
   ]
  },
  {
   "cell_type": "code",
   "execution_count": 29,
   "metadata": {
    "deletable": false,
    "editable": false,
    "nbgrader": {
     "cell_type": "code",
     "checksum": "154985511d7925c5793a1f97dea81880",
     "grade": false,
     "grade_id": "cell-4c3bddd0b73ac90e",
     "locked": true,
     "schema_version": 3,
     "solution": false,
     "task": false
    }
   },
   "outputs": [],
   "source": [
    "#### Compute df based on the two configs\n",
    "\n",
    "# get the document frequencies of each document\n",
    "df_1 = compute_df([d[1] for d in doc_repr_1])\n",
    "df_2 = compute_df([d[1] for d in doc_repr_2])\n",
    "\n",
    "def get_df(index_set):\n",
    "    assert index_set in {1, 2}\n",
    "    return {\n",
    "        1: df_1,\n",
    "        2: df_2\n",
    "    }[index_set]\n",
    "####"
   ]
  },
  {
   "cell_type": "code",
   "execution_count": 30,
   "metadata": {
    "deletable": false,
    "editable": false,
    "nbgrader": {
     "cell_type": "code",
     "checksum": "110cc180068cf3f77c682ee3de2a117c",
     "grade": true,
     "grade_id": "cell-79e8a6db1e5fc46f",
     "locked": true,
     "points": 5,
     "schema_version": 3,
     "solution": false,
     "task": false
    }
   },
   "outputs": [
    {
     "name": "stdout",
     "output_type": "stream",
     "text": [
      "597\n",
      "11\n"
     ]
    }
   ],
   "source": [
    "#### Function check\n",
    "\n",
    "print(df_1['computer'])\n",
    "print(df_2['computer'])\n",
    "####"
   ]
  },
  {
   "cell_type": "markdown",
   "metadata": {
    "deletable": false,
    "editable": false,
    "nbgrader": {
     "cell_type": "markdown",
     "checksum": "d0d577668fa51b80aeab6e67209ae73b",
     "grade": false,
     "grade_id": "cell-52f6acc487e1b96d",
     "locked": true,
     "schema_version": 3,
     "solution": false,
     "task": false
    }
   },
   "source": [
    "---\n",
    "#### 3.2.2 TF-IDF search (10 points)\n",
    "Next, implement a function that computes a tf-idf score, given a query.\n",
    "Use the following formulas for TF and IDF:\n",
    "\n",
    "$$ TF=\\log (1 + f_{d,t}) $$\n",
    "\n",
    "$$ IDF=\\log (\\frac{N}{n_t})$$\n",
    "\n",
    "where $f_{d,t}$ is the frequency of token $t$ in document $d$, $N$ is the number of total documents and $n_t$ is the number of documents containing token $t$.\n",
    "\n",
    "**Note:** your implementation will be auto-graded assuming you have used the above formulas.\n"
   ]
  },
  {
   "cell_type": "code",
   "execution_count": 31,
   "metadata": {
    "deletable": false,
    "nbgrader": {
     "cell_type": "code",
     "checksum": "3534c44b4a3419ca1db98eebe7115dc1",
     "grade": false,
     "grade_id": "cell-2fb5ba34b2994cd9",
     "locked": false,
     "schema_version": 3,
     "solution": true,
     "task": false
    }
   },
   "outputs": [],
   "source": [
    "# TODO: Implement this! (10 points)\n",
    "def tfidf_search(query, index_set):\n",
    "    \"\"\"\n",
    "        Perform a search over all documents with the given query using tf-idf. \n",
    "        Note #1: You have to use the `get_index` (and the `get_df`) function created in the previous cells\n",
    "        Input: \n",
    "            query - a (unprocessed) query\n",
    "            index_set - the index to use\n",
    "        Output: a list of (document_id, score), sorted in descending relevance to the given query \n",
    "    \"\"\"\n",
    "    index = get_index(index_set)\n",
    "    df = get_df(index_set)\n",
    "    processed_query = preprocess_query(query, index_set)\n",
    "    \n",
    "    N = len(docs)\n",
    "    \n",
    "    # YOUR CODE HERE\n",
    "    from collections import defaultdict\n",
    "    \n",
    "    epsilon = np.finfo(np.float32).eps\n",
    "    \n",
    "    document_score = defaultdict(int)\n",
    "    for t in processed_query:\n",
    "        if t in index:\n",
    "            for doc_id, count in index[t]:\n",
    "                idf = np.log((N / (df[t] + epsilon)))\n",
    "                tf = np.log(1 + count)\n",
    "                document_score[doc_id] += tf * idf\n",
    "\n",
    "    return sorted(document_score.items(), key=lambda x: x[1], reverse=True)"
   ]
  },
  {
   "cell_type": "code",
   "execution_count": 32,
   "metadata": {
    "deletable": false,
    "editable": false,
    "nbgrader": {
     "cell_type": "code",
     "checksum": "7b66a514663d898694b09a23a597312b",
     "grade": true,
     "grade_id": "cell-bc68aeeacf42beb3",
     "locked": true,
     "points": 2,
     "schema_version": 3,
     "solution": false,
     "task": false
    }
   },
   "outputs": [],
   "source": [
    "\n",
    "#### Function check\n",
    "test_tfidf = tfidf_search(\"how to implement tf idf search\", index_set=1)[:5]\n",
    "assert isinstance(test_tfidf, list)\n",
    "assert len(test_tfidf[0]) == 2\n",
    "assert isinstance(test_tfidf[0][0], str)\n",
    "assert isinstance(test_tfidf[0][1], float)\n",
    "\n",
    "####"
   ]
  },
  {
   "cell_type": "code",
   "execution_count": 33,
   "metadata": {
    "deletable": false,
    "editable": false,
    "nbgrader": {
     "cell_type": "code",
     "checksum": "98fb1326cf4bf7983ae237ca8a9105f9",
     "grade": true,
     "grade_id": "cell-c7702fa8179fadb9",
     "locked": true,
     "points": 2,
     "schema_version": 3,
     "solution": false,
     "task": false
    }
   },
   "outputs": [
    {
     "name": "stdout",
     "output_type": "stream",
     "text": [
      "TFIDF Results:\n",
      "Rank 0(1.3e+01): PEEKABIT, Computer Offspring of Punched\\nCard PEEK...\n",
      "Rank 1(9.8): Variable Length Tree Structures Having Minimum Ave...\n",
      "Rank 2(8.2): A Stochastic Approach to the Grammatical Coding of...\n",
      "Rank 3(8.1): Full Table Quadratic Searching for Scatter Storage...\n",
      "Rank 4(7.6): Use of Tree Structures for Processing Files\\nIn da...\n"
     ]
    }
   ],
   "source": [
    "\n",
    "test_tfidf_2 = tfidf_search(\"computer word search\", index_set=2)[:5]\n",
    "print(f\"TFIDF Results:\")\n",
    "print_results(test_tfidf_2)\n"
   ]
  },
  {
   "cell_type": "code",
   "execution_count": 34,
   "metadata": {
    "deletable": false,
    "editable": false,
    "nbgrader": {
     "cell_type": "code",
     "checksum": "733b5b67be5e53989f5b763ce5e52ee9",
     "grade": true,
     "grade_id": "cell-3284f50ac29abbaa",
     "locked": true,
     "points": 3,
     "schema_version": 3,
     "solution": false,
     "task": false
    }
   },
   "outputs": [
    {
     "name": "stdout",
     "output_type": "stream",
     "text": [
      "TFIDF Results:\n",
      "Rank 0(9.4): Variable Length Tree Structures Having Minimum Ave...\n",
      "Rank 1(7.4): On the Feasibility of Voice Input to\\nan On-line C...\n",
      "Rank 2(7.3): Median Split Trees: A Fast Lookup Technique for Fr...\n",
      "Rank 3(7.0): Execution Time Requirements for Encipherment Progr...\n",
      "Rank 4(7.0): Storage and Search Properties of a Tree-Organized ...\n"
     ]
    }
   ],
   "source": [
    "\n",
    "test_tfidf_1 = tfidf_search(\"computer word search\", index_set=1)[:5]\n",
    "print(f\"TFIDF Results:\")\n",
    "print_results(test_tfidf_1)\n"
   ]
  },
  {
   "cell_type": "code",
   "execution_count": 35,
   "metadata": {
    "deletable": false,
    "editable": false,
    "nbgrader": {
     "cell_type": "code",
     "checksum": "e0edb37a5ae807a2de85d578c87ccb78",
     "grade": true,
     "grade_id": "cell-d908c80a3155354b",
     "locked": true,
     "points": 3,
     "schema_version": 3,
     "solution": false,
     "task": false
    }
   },
   "outputs": [
    {
     "name": "stdout",
     "output_type": "stream",
     "text": [
      "top-5 docs for index1 with BOW search: ('1771', '1936', '1543', '2535', '678')\n",
      "top-5 docs for index2 with BOW search: ('1525', '1936', '1844', '1700', '1366')\n",
      "top-5 docs for index1 with TF-IDF search: ('1936', '2054', '3041', '2620', '944')\n",
      "top-5 docs for index2 with TF-IDF search: ('1700', '1936', '1235', '2018', '849')\n"
     ]
    }
   ],
   "source": [
    "\n",
    "print('top-5 docs for index1 with BOW search:', list(zip(*test_bow_1[:5]))[0])\n",
    "print('top-5 docs for index2 with BOW search:', list(zip(*test_bow_2[:5]))[0])\n",
    "print('top-5 docs for index1 with TF-IDF search:', list(zip(*test_tfidf_1[:5]))[0])\n",
    "print('top-5 docs for index2 with TF-IDF search:', list(zip(*test_tfidf_2[:5]))[0])\n",
    "\n"
   ]
  },
  {
   "cell_type": "markdown",
   "metadata": {
    "deletable": false,
    "editable": false,
    "nbgrader": {
     "cell_type": "markdown",
     "checksum": "cdffc83f0eaea937cf64a212e7e9af8d",
     "grade": false,
     "grade_id": "cell-f5d923459ba21733",
     "locked": true,
     "schema_version": 3,
     "solution": false,
     "task": false
    }
   },
   "source": [
    "--- \n",
    "\n",
    "### Section 3.3: Query Likelihood Model (35 points) <a class=\"anchor\" id=\"qlm\"></a>\n",
    "\n",
    "In this section, you will implement a simple query likelihood model. \n",
    "\n",
    "\n",
    "#### 3.3.1 Naive QL (15 points)\n",
    "\n",
    "First, let us implement a naive version of a QL model, assuming a multinomial unigram language model (with a uniform prior over the documents). \n",
    "\n"
   ]
  },
  {
   "cell_type": "code",
   "execution_count": 36,
   "metadata": {
    "deletable": false,
    "editable": false,
    "nbgrader": {
     "cell_type": "code",
     "checksum": "b7ae2b7d818b428b4638c1c9206d2aca",
     "grade": false,
     "grade_id": "cell-98505778f7b68e7f",
     "locked": true,
     "schema_version": 3,
     "solution": false,
     "task": false
    }
   },
   "outputs": [],
   "source": [
    "#### Document length for normalization\n",
    "\n",
    "def doc_lengths(documents):\n",
    "    doc_lengths = {doc_id:len(doc) for (doc_id, doc) in documents}\n",
    "    return doc_lengths\n",
    "\n",
    "doc_lengths_1 = doc_lengths(doc_repr_1)\n",
    "doc_lengths_2 = doc_lengths(doc_repr_2)\n",
    "\n",
    "def get_doc_lengths(index_set):\n",
    "    assert index_set in {1, 2}\n",
    "    return {\n",
    "        1: doc_lengths_1,\n",
    "        2: doc_lengths_2\n",
    "    }[index_set]\n",
    "####"
   ]
  },
  {
   "cell_type": "code",
   "execution_count": 47,
   "metadata": {
    "deletable": false,
    "nbgrader": {
     "cell_type": "code",
     "checksum": "cedd08303a914243fefdb6b876977ca1",
     "grade": false,
     "grade_id": "cell-8bcf2b804d636c2e",
     "locked": false,
     "schema_version": 3,
     "solution": true,
     "task": false
    }
   },
   "outputs": [],
   "source": [
    "# TODO: Implement this! (15 points)\n",
    "import random\n",
    "\n",
    "np.random.seed(0)\n",
    "random.seed(0)\n",
    "\n",
    "def naive_ql_search(query, index_set):\n",
    "    \"\"\"\n",
    "        Perform a search over all documents with the given query using a naive QL model. \n",
    "        Note #1: You have to use the `get_index` (and get_doc_lengths) function created in the previous cells\n",
    "        Input: \n",
    "            query - a (unprocessed) query\n",
    "            index_set - the index to use\n",
    "        Output: a list of (document_id, score), sorted in descending relevance to the given query \n",
    "    \"\"\"\n",
    "    index = get_index(index_set)\n",
    "    doc_lengths = get_doc_lengths(index_set)\n",
    "    processed_query = preprocess_query(query, index_set)\n",
    "    \n",
    "    # YOUR CODE HERE\n",
    "    \n",
    "    # Reference: Sec 7.3.1. from https://ciir.cs.umass.edu/downloads/SEIRiP.pdf\n",
    "\n",
    "    from collections import defaultdict, OrderedDict\n",
    "    \n",
    "    epsilon = np.finfo(np.float32).eps\n",
    "    doc_ids = list(set(doc_lengths.keys()))\n",
    "    \n",
    "    document_score = defaultdict(lambda: 1.0)\n",
    "\n",
    "    for t in processed_query:\n",
    "        if t in index:\n",
    "\n",
    "            for doc_id in doc_ids:\n",
    "                count = 0\n",
    "                if doc_id in dict(index[t]):\n",
    "                    count = dict(index[t])[doc_id]\n",
    "\n",
    "                p_t_given_d = count / (doc_lengths[doc_id] + epsilon)\n",
    "                document_score[doc_id] *= p_t_given_d\n",
    "        else:\n",
    "            document_score[doc_id] *= 0.\n",
    "    \n",
    "    return sorted(document_score.items(), key=lambda x: x[1], reverse=True)"
   ]
  },
  {
   "cell_type": "code",
   "execution_count": 48,
   "metadata": {
    "deletable": false,
    "editable": false,
    "nbgrader": {
     "cell_type": "code",
     "checksum": "b550d15bdad28354c336020a00c33d56",
     "grade": true,
     "grade_id": "cell-5a83ac12ecde8578",
     "locked": true,
     "points": 3,
     "schema_version": 3,
     "solution": false,
     "task": false
    }
   },
   "outputs": [
    {
     "name": "stdout",
     "output_type": "stream",
     "text": [
      "Naive QL Results:\n",
      "Rank 0(0.2): A Report Writer For COBOL...\n",
      "Rank 1(0.2): A CRT Report Generating System...\n",
      "Rank 2(0.17): Supplement to the ALGOL 60 Report...\n",
      "Rank 3(0.17): Preliminary Report-International Algebraic Languag...\n",
      "Rank 4(0.14): Report on the Algorithmic Language ALGOL 60...\n"
     ]
    }
   ],
   "source": [
    "#### Function check\n",
    "test_naiveql = naive_ql_search(\"report\", index_set=1)[:5]\n",
    "print(f\"Naive QL Results:\")\n",
    "print_results(test_naiveql)\n",
    "####"
   ]
  },
  {
   "cell_type": "code",
   "execution_count": 39,
   "metadata": {
    "deletable": false,
    "editable": false,
    "nbgrader": {
     "cell_type": "code",
     "checksum": "799df1d81c63fe90edbb6c218fc707fb",
     "grade": true,
     "grade_id": "cell-80f4bf2137f997bb",
     "locked": true,
     "points": 2,
     "schema_version": 3,
     "solution": false,
     "task": false
    }
   },
   "outputs": [],
   "source": [
    "#### Please do not change this. This cell is used for grading."
   ]
  },
  {
   "cell_type": "code",
   "execution_count": 40,
   "metadata": {
    "deletable": false,
    "editable": false,
    "nbgrader": {
     "cell_type": "code",
     "checksum": "875a4a517d27e20625d41783cebec118",
     "grade": true,
     "grade_id": "cell-5ce2993458a8ce51",
     "locked": true,
     "points": 3,
     "schema_version": 3,
     "solution": false,
     "task": false
    }
   },
   "outputs": [],
   "source": [
    "#### Please do not change this. This cell is used for grading."
   ]
  },
  {
   "cell_type": "code",
   "execution_count": 41,
   "metadata": {
    "deletable": false,
    "editable": false,
    "nbgrader": {
     "cell_type": "code",
     "checksum": "d5c4e1c3852e71a46f32825b122f1b71",
     "grade": true,
     "grade_id": "cell-7753bdb54e292f3d",
     "locked": true,
     "points": 3,
     "schema_version": 3,
     "solution": false,
     "task": false
    }
   },
   "outputs": [],
   "source": [
    "#### Please do not change this. This cell is used for grading."
   ]
  },
  {
   "cell_type": "code",
   "execution_count": 42,
   "metadata": {
    "deletable": false,
    "editable": false,
    "nbgrader": {
     "cell_type": "code",
     "checksum": "c4d4332d4356e89ce0240f6b80e1899a",
     "grade": true,
     "grade_id": "cell-54e476e2f96e64bb",
     "locked": true,
     "points": 4,
     "schema_version": 3,
     "solution": false,
     "task": false
    }
   },
   "outputs": [],
   "source": [
    "#### Please do not change this. This cell is used for grading."
   ]
  },
  {
   "cell_type": "markdown",
   "metadata": {
    "deletable": false,
    "editable": false,
    "nbgrader": {
     "cell_type": "markdown",
     "checksum": "8d739dc91a22bd48897f603885f95a74",
     "grade": false,
     "grade_id": "cell-5414dfd69dab8b94",
     "locked": true,
     "schema_version": 3,
     "solution": false,
     "task": false
    }
   },
   "source": [
    "---\n",
    "#### 3.3.2 QL (20 points)\n",
    "Now, let's implement a QL model that handles the issues with the naive version. In particular, you will implement a QL model with Jelinek-Mercer Smoothing. That means an interpolated score is computed per word - one term is the same as the previous naive version, and the second term comes from a unigram language model. In addition, you should accumulate the scores by summing the **log** (smoothed) probability which leads to better numerical stability."
   ]
  },
  {
   "cell_type": "code",
   "execution_count": 43,
   "metadata": {
    "deletable": false,
    "nbgrader": {
     "cell_type": "code",
     "checksum": "b8c6abf937ad333e628f1db891f2e29e",
     "grade": false,
     "grade_id": "cell-bb1f506409771257",
     "locked": false,
     "schema_version": 3,
     "solution": true,
     "task": false
    }
   },
   "outputs": [],
   "source": [
    "# TODO: Implement this! (20 points)\n",
    "def ql_search(query, index_set):\n",
    "    \"\"\"\n",
    "        Perform a search over all documents with the given query using a QL model \n",
    "        with Jelinek-Mercer Smoothing (set smoothing=0.1). \n",
    "        \n",
    "        \n",
    "        Note #1: You have to use the `get_index` (and get_doc_lengths) function created in the previous cells\n",
    "        Note #2: You might have to create some variables beforehand and use them in this function\n",
    "        \n",
    "        \n",
    "        Input: \n",
    "            query - a (unprocessed) query\n",
    "            index_set - the index to use\n",
    "        Output: a list of (document_id, score), sorted in descending relevance to the given query \n",
    "    \"\"\"\n",
    "    index = get_index(index_set)\n",
    "    doc_lengths = get_doc_lengths(index_set)\n",
    "    processed_query = preprocess_query(query, index_set)\n",
    "    \n",
    "    # YOUR CODE HERE\n",
    "    # Reference: Sec 7.3.2. from https://ciir.cs.umass.edu/downloads/SEIRiP.pdf\n",
    "    \n",
    "    # TODO: Add a UNK token for tokens not found in the corpus\n",
    "\n",
    "    from collections import defaultdict, OrderedDict\n",
    "    \n",
    "    # epsilon = np.finfo(np.float32).eps\n",
    "    epsilon = 0.0\n",
    "    smoothing = 0.1\n",
    "    \n",
    "    doc_ids = list(set(doc_lengths.keys()))\n",
    "    \n",
    "    # compute total number of word occurrences\n",
    "    total_word_occurrences = 0.0\n",
    "    for w in index:\n",
    "        total_word_occurrences += np.sum([x[1] for x in index[w]])\n",
    "    \n",
    "    # compute document score based on probabilities\n",
    "    # document_score = defaultdict(lambda: 1.0)\n",
    "    document_score = defaultdict(int)\n",
    "    for q in processed_query:\n",
    "        if q in index:\n",
    "            num_occurrences_of_q = np.sum([x[1] for x in index[q]])\n",
    "            # Note we need to loop over all the documents and not just the ones that have terms from the query\n",
    "            # for doc_id, count in index[q]:\n",
    "            \n",
    "            for doc_id in doc_ids:\n",
    "                count = 0\n",
    "                if doc_id in dict(index[q]):\n",
    "                    count = dict(index[q])[doc_id]\n",
    "                p_q_given_d = count / (doc_lengths[doc_id] + epsilon)\n",
    "                p_q_given_C = num_occurrences_of_q / total_word_occurrences\n",
    "                # document_score[doc_id] *= ((1 - smoothing) * p_q_given_d + smoothing * p_q_given_C)\n",
    "                document_score[doc_id] += np.log((1 - smoothing) * p_q_given_d + smoothing * p_q_given_C)\n",
    "\n",
    "    return sorted(document_score.items(), key=lambda x: x[1], reverse=True)"
   ]
  },
  {
   "cell_type": "code",
   "execution_count": 44,
   "metadata": {
    "deletable": false,
    "editable": false,
    "nbgrader": {
     "cell_type": "code",
     "checksum": "0b12a7f3355193a257fd9f5f69a66562",
     "grade": true,
     "grade_id": "cell-850e9d6369bcec32",
     "locked": true,
     "points": 4,
     "schema_version": 3,
     "solution": false,
     "task": false
    }
   },
   "outputs": [
    {
     "name": "stdout",
     "output_type": "stream",
     "text": [
      "Rank 0(-1.7): A Report Writer For COBOL...\n",
      "Rank 1(-1.7): A CRT Report Generating System...\n",
      "Rank 2(-1.9): Supplement to the ALGOL 60 Report...\n",
      "Rank 3(-1.9): Preliminary Report-International Algebraic Languag...\n",
      "Rank 4(-2.1): Report on the Algorithmic Language ALGOL 60...\n",
      "\n",
      "Rank 0(-1.7e+01): A Report Writer For COBOL...\n",
      "Rank 1(-1.7e+01): A CRT Report Generating System...\n",
      "Rank 2(-1.9e+01): Supplement to the ALGOL 60 Report...\n",
      "Rank 3(-1.9e+01): Preliminary Report-International Algebraic Languag...\n",
      "Rank 4(-2.1e+01): Report on the Algorithmic Language ALGOL 60...\n"
     ]
    }
   ],
   "source": [
    "#### Function check\n",
    "test_ql_results = ql_search(\"report\", index_set=1)[:5]\n",
    "print_results(test_ql_results)\n",
    "print()\n",
    "test_ql_results_long = ql_search(\"report \" * 10, index_set=1)[:5]\n",
    "print_results(test_ql_results_long)\n",
    "####"
   ]
  },
  {
   "cell_type": "code",
   "execution_count": 45,
   "metadata": {
    "deletable": false,
    "editable": false,
    "nbgrader": {
     "cell_type": "code",
     "checksum": "e40be645140389c115849856145f5b59",
     "grade": true,
     "grade_id": "cell-958cdcf6fd6899b7",
     "locked": true,
     "points": 3,
     "schema_version": 3,
     "solution": false,
     "task": false
    }
   },
   "outputs": [],
   "source": [
    "#### Please do not change this. This cell is used for grading."
   ]
  },
  {
   "cell_type": "code",
   "execution_count": 46,
   "metadata": {
    "deletable": false,
    "editable": false,
    "nbgrader": {
     "cell_type": "code",
     "checksum": "41d4aff001df17e7963ba79b45810b30",
     "grade": true,
     "grade_id": "cell-384dc23a0c251f6e",
     "locked": true,
     "points": 4,
     "schema_version": 3,
     "solution": false,
     "task": false
    }
   },
   "outputs": [],
   "source": [
    "#### Please do not change this. This cell is used for grading."
   ]
  },
  {
   "cell_type": "code",
   "execution_count": 47,
   "metadata": {
    "deletable": false,
    "editable": false,
    "nbgrader": {
     "cell_type": "code",
     "checksum": "893e8c5a073abc8ebb763d267b91bc02",
     "grade": true,
     "grade_id": "cell-7218966cba5097cc",
     "locked": true,
     "points": 4,
     "schema_version": 3,
     "solution": false,
     "task": false
    }
   },
   "outputs": [],
   "source": [
    "#### Please do not change this. This cell is used for grading."
   ]
  },
  {
   "cell_type": "code",
   "execution_count": 48,
   "metadata": {
    "deletable": false,
    "editable": false,
    "nbgrader": {
     "cell_type": "code",
     "checksum": "f99cb6f8b1f5830aaed8f06712ff846e",
     "grade": true,
     "grade_id": "cell-481ab073259ae53f",
     "locked": true,
     "points": 5,
     "schema_version": 3,
     "solution": false,
     "task": false
    }
   },
   "outputs": [],
   "source": [
    "#### Please do not change this. This cell is used for grading."
   ]
  },
  {
   "cell_type": "markdown",
   "metadata": {
    "deletable": false,
    "editable": false,
    "nbgrader": {
     "cell_type": "markdown",
     "checksum": "c02f14705d679579b1aa9f78f54779d5",
     "grade": false,
     "grade_id": "cell-f44088bfdac1dc90",
     "locked": true,
     "schema_version": 3,
     "solution": false,
     "task": false
    },
    "tags": []
   },
   "source": [
    "--- \n",
    "\n",
    "### Section 3.4: BM25 (20 points) <a class=\"anchor\" id=\"bm25\"></a>\n",
    "\n",
    "In this section, we will implement the BM25 scoring function. \n"
   ]
  },
  {
   "cell_type": "code",
   "execution_count": 49,
   "metadata": {
    "deletable": false,
    "nbgrader": {
     "cell_type": "code",
     "checksum": "e57efe06ea92af1c83784a42eb3d86e0",
     "grade": false,
     "grade_id": "cell-15640fc9b5d00a3c",
     "locked": false,
     "schema_version": 3,
     "solution": true,
     "task": false
    }
   },
   "outputs": [],
   "source": [
    "# TODO: Implement this! (20 points)\n",
    "def bm25_search(query, index_set):\n",
    "    \"\"\"\n",
    "        Perform a search over all documents with the given query using BM25. Use k_1 = 1.5 and b = 0.75\n",
    "        Note #1: You have to use the `get_index` (and `get_doc_lengths`) function created in the previous cells\n",
    "        Note #2: You might have to create some variables beforehand and use them in this function\n",
    "        \n",
    "        Input: \n",
    "            query - a (unprocessed) query\n",
    "            index_set - the index to use\n",
    "        Output: a list of (document_id, score), sorted in descending relevance to the given query \n",
    "    \"\"\"\n",
    "    \n",
    "    index = get_index(index_set)\n",
    "    df = get_df(index_set)\n",
    "    doc_lengths = get_doc_lengths(index_set)\n",
    "    processed_query = preprocess_query(query, index_set)\n",
    "    \n",
    "    # YOUR CODE HERE\n",
    "    # Reference: Sec 7.2.2. from https://ciir.cs.umass.edu/downloads/SEIRiP.pdf\n",
    "    \n",
    "    # define hyperparameters\n",
    "    k_1 = 1.50\n",
    "    b = 0.75\n",
    "    \n",
    "    # compute constants\n",
    "    N = len(doc_lengths)\n",
    "    avdl = np.mean(list(doc_lengths.values()))\n",
    "    epsilon = 0.5\n",
    "    \n",
    "    from collections import defaultdict, OrderedDict\n",
    "    \n",
    "    document_score = defaultdict(lambda: 0.)\n",
    "    for t in processed_query:\n",
    "        if t in index:\n",
    "            for doc_id, tf_td in index[t]:\n",
    "                dl = doc_lengths[doc_id]\n",
    "\n",
    "                # compute K\n",
    "                K = k_1 * ((1 - b) + b * (dl / avdl))\n",
    "\n",
    "                # compute the term\n",
    "                document_score[doc_id] += np.log(N / df[t]) * ((k_1 + 1) * tf_td) / (K + tf_td)\n",
    "    \n",
    "    return sorted(document_score.items(), key=lambda x: x[1], reverse=True)"
   ]
  },
  {
   "cell_type": "code",
   "execution_count": 50,
   "metadata": {
    "deletable": false,
    "editable": false,
    "nbgrader": {
     "cell_type": "code",
     "checksum": "4be9de5d4e94637960d83725422bea6c",
     "grade": true,
     "grade_id": "cell-d10536bca72c74b1",
     "locked": true,
     "points": 3,
     "schema_version": 3,
     "solution": false,
     "task": false
    }
   },
   "outputs": [
    {
     "name": "stdout",
     "output_type": "stream",
     "text": [
      "Rank 0(6.7): A Report Writer For COBOL...\n",
      "Rank 1(6.7): A CRT Report Generating System...\n",
      "Rank 2(6.6): Preliminary Report-International Algebraic Languag...\n",
      "Rank 3(6.6): Supplement to the ALGOL 60 Report...\n",
      "Rank 4(6.5): ALGOL Sub-Committee Report - Extensions...\n"
     ]
    }
   ],
   "source": [
    "#### Function check\n",
    "test_bm25_results = bm25_search(\"report\", index_set=1)[:5]\n",
    "print_results(test_bm25_results)\n",
    "####"
   ]
  },
  {
   "cell_type": "code",
   "execution_count": 51,
   "metadata": {
    "deletable": false,
    "editable": false,
    "nbgrader": {
     "cell_type": "code",
     "checksum": "31b550d6a46ae4f8ede88788799ac2b9",
     "grade": true,
     "grade_id": "cell-60f6ec5052712d79",
     "locked": true,
     "points": 5,
     "schema_version": 3,
     "solution": false,
     "task": false
    }
   },
   "outputs": [],
   "source": [
    "#### Please do not change this. This cell is used for grading."
   ]
  },
  {
   "cell_type": "code",
   "execution_count": 52,
   "metadata": {
    "deletable": false,
    "editable": false,
    "nbgrader": {
     "cell_type": "code",
     "checksum": "3da2ec16bfe781916e71755d65aa2983",
     "grade": true,
     "grade_id": "cell-5d17524043a5abcc",
     "locked": true,
     "points": 5,
     "schema_version": 3,
     "solution": false,
     "task": false
    }
   },
   "outputs": [],
   "source": [
    "#### Please do not change this. This cell is used for grading."
   ]
  },
  {
   "cell_type": "code",
   "execution_count": 53,
   "metadata": {
    "deletable": false,
    "editable": false,
    "nbgrader": {
     "cell_type": "code",
     "checksum": "e7b563d54fa84c20909c0ae107010541",
     "grade": true,
     "grade_id": "cell-ff8e704eda1184e3",
     "locked": true,
     "points": 3,
     "schema_version": 3,
     "solution": false,
     "task": false
    }
   },
   "outputs": [],
   "source": [
    "#### Please do not change this. This cell is used for grading."
   ]
  },
  {
   "cell_type": "code",
   "execution_count": 54,
   "metadata": {
    "deletable": false,
    "editable": false,
    "nbgrader": {
     "cell_type": "code",
     "checksum": "b013f90974b396630a8831d6f1d7e5f7",
     "grade": true,
     "grade_id": "cell-a52310500a2543cb",
     "locked": true,
     "points": 4,
     "schema_version": 3,
     "solution": false,
     "task": false
    }
   },
   "outputs": [],
   "source": [
    "#### Please do not change this. This cell is used for grading."
   ]
  },
  {
   "cell_type": "markdown",
   "metadata": {
    "deletable": false,
    "editable": false,
    "nbgrader": {
     "cell_type": "markdown",
     "checksum": "8fcf67cb7d5e8b26cb9bf1f0aa42c847",
     "grade": false,
     "grade_id": "cell-8b2b412c81d62f2d",
     "locked": true,
     "schema_version": 3,
     "solution": false,
     "task": false
    }
   },
   "source": [
    "\n",
    "---\n",
    "\n",
    "### 3.5. Test Your Functions\n",
    "\n",
    "The widget below allows you to play with the search functions you've written so far. Use this to test your search functions and ensure that they work as expected."
   ]
  },
  {
   "cell_type": "code",
   "execution_count": 55,
   "metadata": {
    "deletable": false,
    "editable": false,
    "nbgrader": {
     "cell_type": "code",
     "checksum": "dfeb204b390acc0794dbdcac92b0cf2c",
     "grade": false,
     "grade_id": "cell-c9c2bb76354e8d97",
     "locked": true,
     "schema_version": 3,
     "solution": false,
     "task": false
    }
   },
   "outputs": [],
   "source": [
    "#### Highlighter function\n",
    "# class for results\n",
    "ResultRow = namedtuple(\"ResultRow\", [\"doc_id\", \"snippet\", \"score\"])\n",
    "# doc_id -> doc\n",
    "docs_by_id = dict((d[0], d[1]) for d in docs)\n",
    "\n",
    "def highlight_text(document, query, tol=17):\n",
    "    import re\n",
    "    tokens = tokenize(query)\n",
    "    regex = \"|\".join(f\"(\\\\b{t}\\\\b)\" for t in tokens)\n",
    "    regex = re.compile(regex, flags=re.IGNORECASE)\n",
    "    output = \"\"\n",
    "    i = 0\n",
    "    for m in regex.finditer(document):\n",
    "        start_idx = max(0, m.start() - tol)\n",
    "        end_idx = min(len(document), m.end() + tol)\n",
    "        output += \"\".join([\"...\",\n",
    "                        document[start_idx:m.start()],\n",
    "                        \"<strong>\",\n",
    "                        document[m.start():m.end()],\n",
    "                        \"</strong>\",\n",
    "                        document[m.end():end_idx],\n",
    "                        \"...\"])\n",
    "    return output.replace(\"\\n\", \" \")\n",
    "\n",
    "\n",
    "def make_results(query, search_fn, index_set):\n",
    "    results = []\n",
    "    for doc_id, score in search_fn(query, index_set):\n",
    "        highlight = highlight_text(docs_by_id[doc_id], query)\n",
    "        if len(highlight.strip()) == 0:\n",
    "            highlight = docs_by_id[doc_id]\n",
    "        results.append(ResultRow(doc_id, highlight, score))\n",
    "    return results\n",
    "####"
   ]
  },
  {
   "cell_type": "code",
   "execution_count": 56,
   "metadata": {},
   "outputs": [
    {
     "data": {
      "application/vnd.jupyter.widget-view+json": {
       "model_id": "f0ba1c2e487040f4a1d7cc50b60500b4",
       "version_major": 2,
       "version_minor": 0
      },
      "text/plain": [
       "Text(value='', description='Search Bar')"
      ]
     },
     "metadata": {},
     "output_type": "display_data"
    }
   ],
   "source": [
    "# TODO: Set this to the function you want to test!\n",
    "# this function should take in a query (string)\n",
    "# and return a sorted list of (doc_id, score) \n",
    "# with the most relevant document in the first position\n",
    "search_fn = bm25_search\n",
    "index_set = 1\n",
    "\n",
    "text = widgets.Text(description=\"Search Bar\", width=200)\n",
    "display(text)\n",
    "\n",
    "def handle_submit(sender):\n",
    "    print(f\"Searching for: '{sender.value}'\")\n",
    "    \n",
    "    results = make_results(sender.value, search_fn, index_set)\n",
    "    \n",
    "    # display only the top 5\n",
    "    results = results[:5]\n",
    "    \n",
    "    body = \"\"\n",
    "    for idx, r in enumerate(results):\n",
    "        body += f\"<li>Document #{r.doc_id}({r.score}): {r.snippet}</li>\"\n",
    "    display(HTML(f\"<ul>{body}</ul>\"))\n",
    "    \n",
    "\n",
    "text.on_submit(handle_submit)"
   ]
  },
  {
   "cell_type": "markdown",
   "metadata": {
    "deletable": false,
    "editable": false,
    "nbgrader": {
     "cell_type": "markdown",
     "checksum": "019b1ff878dc6339dd068e2d48d19904",
     "grade": false,
     "grade_id": "cell-8d46fe8e4f3d8cdb",
     "locked": true,
     "schema_version": 3,
     "solution": false,
     "task": false
    },
    "tags": []
   },
   "source": [
    "---\n",
    "\n",
    "## Section 4: Evaluation (40 points) <a class=\"anchor\" id=\"evaluation\"></a>\n",
    "\n",
    "[Back to Part 1](#part1)\n",
    "\n",
    "In order to analyze the effectiveness of retrieval algorithms, we first have to learn how to evaluate such a system. In particular, we will work with offline evaluation metrics. These metrics are computed on a dataset with known relevance judgements.\n",
    "\n",
    "Implement the following evaluation metrics. \n",
    "\n",
    "1. Precision (7 points)\n",
    "2. Recall (7 points)\n",
    "3. Mean Average Precision (13 points)\n",
    "4. Expected Reciprocal Rank (13 points)"
   ]
  },
  {
   "cell_type": "markdown",
   "metadata": {
    "deletable": false,
    "editable": false,
    "nbgrader": {
     "cell_type": "markdown",
     "checksum": "e46f54c7f81d88bbc950b0fae14c4ca5",
     "grade": false,
     "grade_id": "cell-3419fd3bc663d7cc",
     "locked": true,
     "schema_version": 3,
     "solution": false,
     "task": false
    }
   },
   "source": [
    "---\n",
    "### 4.1 Read relevance labels\n",
    "\n",
    "Let's take a look at the `qrels.text` file, which contains the ground truth relevance scores. The relevance labels for CACM are binary - either 0 or 1. \n"
   ]
  },
  {
   "cell_type": "code",
   "execution_count": 57,
   "metadata": {
    "deletable": false,
    "editable": false,
    "nbgrader": {
     "cell_type": "code",
     "checksum": "6c11025f5a222796f2882c73c1634799",
     "grade": false,
     "grade_id": "cell-6b738366059dde9e",
     "locked": true,
     "schema_version": 3,
     "solution": false,
     "task": false
    }
   },
   "outputs": [
    {
     "name": "stdout",
     "output_type": "stream",
     "text": [
      "01 1410  0 0\n",
      "01 1572  0 0\n",
      "01 1605  0 0\n",
      "01 2020  0 0\n",
      "01 2358  0 0\n",
      "02 2434  0 0\n",
      "02 2863  0 0\n",
      "02 3078  0 0\n",
      "03 1134  0 0\n",
      "03 1613  0 0\n"
     ]
    }
   ],
   "source": [
    "!head ./datasets/qrels.text"
   ]
  },
  {
   "cell_type": "markdown",
   "metadata": {
    "deletable": false,
    "editable": false,
    "nbgrader": {
     "cell_type": "markdown",
     "checksum": "7ce95245c1597183320d7254afde5c8e",
     "grade": false,
     "grade_id": "cell-10e16bff2753ffbb",
     "locked": true,
     "schema_version": 3,
     "solution": false,
     "task": false
    }
   },
   "source": [
    "---\n",
    "\n",
    "The first column is the query_id and the second column is the document_id. We can safely ignore the 3rd and 4th columns."
   ]
  },
  {
   "cell_type": "code",
   "execution_count": 58,
   "metadata": {
    "deletable": false,
    "nbgrader": {
     "cell_type": "code",
     "checksum": "000c6d59dce08dba0ba1e8d691dbbc2e",
     "grade": false,
     "grade_id": "cell-ee5253a4ef602fce",
     "locked": false,
     "schema_version": 3,
     "solution": true,
     "task": false
    }
   },
   "outputs": [],
   "source": [
    "def read_qrels(root_folder = \"./datasets/\"):\n",
    "    \"\"\"\n",
    "        Reads the qrels.text file. \n",
    "        Output: A dictionary: query_id -> [list of relevant documents]\n",
    "    \"\"\"\n",
    "    with open(os.path.join(root_folder, \"qrels.text\")) as reader:\n",
    "        lines = reader.readlines()\n",
    "    \n",
    "    from collections import defaultdict\n",
    "    relevant_docs = defaultdict(set)\n",
    "    for line in lines:\n",
    "        query_id, doc_id, _, _ = line.split()\n",
    "        relevant_docs[str(int(query_id))].add(doc_id)\n",
    "    return relevant_docs"
   ]
  },
  {
   "cell_type": "code",
   "execution_count": 59,
   "metadata": {
    "deletable": false,
    "editable": false,
    "nbgrader": {
     "cell_type": "code",
     "checksum": "d60caeba85c2a97d2211184a5ae91fd1",
     "grade": false,
     "grade_id": "cell-72215605fbe24f65",
     "locked": true,
     "schema_version": 3,
     "solution": false,
     "task": false
    }
   },
   "outputs": [],
   "source": [
    "#### Function check\n",
    "qrels = read_qrels()\n",
    "\n",
    "assert len(qrels) == 52, \"There should be 52 queries with relevance judgements\"\n",
    "assert sum(len(j) for j in qrels.values()) == 796, \"There should be a total of 796 Relevance Judgements\"\n",
    "\n",
    "assert np.min(np.array([len(j) for j in qrels.values()])) == 1\n",
    "assert np.max(np.array([len(j) for j in qrels.values()])) == 51\n",
    "\n",
    "####"
   ]
  },
  {
   "cell_type": "markdown",
   "metadata": {
    "deletable": false,
    "editable": false,
    "nbgrader": {
     "cell_type": "markdown",
     "checksum": "6c9e7428a52e291a2cdf92a379730d4c",
     "grade": false,
     "grade_id": "cell-176a6fb2939d0420",
     "locked": true,
     "schema_version": 3,
     "solution": false,
     "task": false
    }
   },
   "source": [
    "---\n",
    "**Note:** For a given query `query_id`, you can assume that documents *not* in `qrels[query_id]` are not relevant to `query_id`. \n"
   ]
  },
  {
   "cell_type": "markdown",
   "metadata": {
    "deletable": false,
    "editable": false,
    "nbgrader": {
     "cell_type": "markdown",
     "checksum": "b26a818c7b4f7ad490e00b35ea0edd69",
     "grade": false,
     "grade_id": "cell-bd8341b72cdd89bb",
     "locked": true,
     "schema_version": 3,
     "solution": false,
     "task": false
    }
   },
   "source": [
    "---\n",
    "### 4.2 Precision (7 points)\n",
    "Implement the `precision@k` metric:"
   ]
  },
  {
   "cell_type": "code",
   "execution_count": 60,
   "metadata": {
    "deletable": false,
    "nbgrader": {
     "cell_type": "code",
     "checksum": "43dea1979ebdec24ffcfeff71c670433",
     "grade": false,
     "grade_id": "cell-494bd0cce108ed67",
     "locked": false,
     "schema_version": 3,
     "solution": true,
     "task": false
    }
   },
   "outputs": [],
   "source": [
    "# TODO: Implement this! (7 points)\n",
    "def precision_k(results, relevant_docs, k):\n",
    "    \"\"\"\n",
    "        Compute Precision@K\n",
    "        Input: \n",
    "            results: A sorted list of 2-tuples (document_id, score), \n",
    "                    with the most relevant document in the first position\n",
    "            relevant_docs: A set of relevant documents. \n",
    "            k: the cut-off\n",
    "        Output: Precision@K\n",
    "    \"\"\"\n",
    "    if k > len(results):\n",
    "        k = len(results)\n",
    "    \n",
    "    # YOUR CODE HERE\n",
    "    \n",
    "    # get top-k predicted document IDs\n",
    "    k_results = np.array([results[x][0] for x in range(k)])\n",
    "    relevant_docs = np.array(list(relevant_docs))\n",
    "    \n",
    "    # compute number of relevant documents in k\n",
    "    num_rel_at_k = np.sum(np.isin(k_results, relevant_docs))\n",
    "    \n",
    "    # return precision@k\n",
    "    precision_at_k = num_rel_at_k / k\n",
    "    \n",
    "    return precision_at_k"
   ]
  },
  {
   "cell_type": "code",
   "execution_count": 61,
   "metadata": {
    "deletable": false,
    "editable": false,
    "nbgrader": {
     "cell_type": "code",
     "checksum": "9222e35582b1840ffb60fd02fb0b60c3",
     "grade": true,
     "grade_id": "cell-e7ff0d91c319ca64",
     "locked": true,
     "points": 7,
     "schema_version": 3,
     "solution": false,
     "task": false
    }
   },
   "outputs": [
    {
     "name": "stdout",
     "output_type": "stream",
     "text": [
      "query: What articles exist which deal with TSS (Time Sharing System), an\n",
      "operating system for IBM computers?\n",
      "precision@10 = 0.2\n"
     ]
    }
   ],
   "source": [
    "\n",
    "#### Function check\n",
    "qid = queries[0][0]\n",
    "qtext = queries[0][1]\n",
    "print(f'query:{qtext}')\n",
    "results = bm25_search(qtext, 2)\n",
    "precision = precision_k(results, qrels[qid], 10)\n",
    "print(f'precision@10 = {precision}')\n",
    "####"
   ]
  },
  {
   "cell_type": "markdown",
   "metadata": {
    "deletable": false,
    "editable": false,
    "nbgrader": {
     "cell_type": "markdown",
     "checksum": "8fd3b3998197c7097a40348500affb68",
     "grade": false,
     "grade_id": "cell-afd95f865bc7191e",
     "locked": true,
     "schema_version": 3,
     "solution": false,
     "task": false
    }
   },
   "source": [
    "---\n",
    "### 4.3 Recall (7 points)\n",
    "Implement the `recall@k` metric:"
   ]
  },
  {
   "cell_type": "code",
   "execution_count": 62,
   "metadata": {
    "deletable": false,
    "nbgrader": {
     "cell_type": "code",
     "checksum": "b2020e5741ae03b3fe35817ed8f4ccaa",
     "grade": false,
     "grade_id": "cell-c323fc8c3f8a7cf8",
     "locked": false,
     "schema_version": 3,
     "solution": true,
     "task": false
    }
   },
   "outputs": [],
   "source": [
    "# TODO: Implement this! (7 points)\n",
    "def recall_k(results, relevant_docs, k):\n",
    "    \"\"\"\n",
    "        Compute Recall@K\n",
    "        Input: \n",
    "            results: A sorted list of 2-tuples (document_id, score), with the most relevant document in the first position\n",
    "            relevant_docs: A set of relevant documents. \n",
    "            k: the cut-off\n",
    "        Output: Recall@K\n",
    "    \"\"\"\n",
    "    # YOUR CODE HERE\n",
    "    # import ipdb; ipdb.set_trace()\n",
    "    \n",
    "    # set boundary condition on k\n",
    "    k = min(k, len(results))\n",
    "\n",
    "    # get top-k predicted document IDs\n",
    "    k_results = np.array([results[x][0] for x in range(k)])\n",
    "    relevant_docs = np.array(list(relevant_docs))\n",
    "    \n",
    "    # compute number of relevant documents in k\n",
    "    num_rel_at_k = np.sum(np.isin(k_results, relevant_docs))\n",
    "    \n",
    "    # return recall@k\n",
    "    recall_at_k = num_rel_at_k / len(relevant_docs)\n",
    "    \n",
    "    return recall_at_k"
   ]
  },
  {
   "cell_type": "code",
   "execution_count": 63,
   "metadata": {
    "deletable": false,
    "editable": false,
    "nbgrader": {
     "cell_type": "code",
     "checksum": "56b6e0b8522f8b2dffbfb3206b2efa84",
     "grade": true,
     "grade_id": "cell-b25172161aef165c",
     "locked": true,
     "points": 7,
     "schema_version": 3,
     "solution": false,
     "task": false
    }
   },
   "outputs": [
    {
     "name": "stdout",
     "output_type": "stream",
     "text": [
      "query: SETL, Very High Level Languages\n",
      "recall@10 = 0.3157894736842105\n"
     ]
    }
   ],
   "source": [
    "#### Function check\n",
    "qid = queries[10][0]\n",
    "qtext = queries[10][1]\n",
    "print(f'query:{qtext}')\n",
    "results = bm25_search(qtext, 2)\n",
    "recall = recall_k(results, qrels[qid], 10)\n",
    "print(f'recall@10 = {recall}')\n",
    "####"
   ]
  },
  {
   "cell_type": "markdown",
   "metadata": {
    "deletable": false,
    "editable": false,
    "nbgrader": {
     "cell_type": "markdown",
     "checksum": "b3d3c7bd1cd977cd07ef5df7d3fbf159",
     "grade": false,
     "grade_id": "cell-77fd2e7a39a74739",
     "locked": true,
     "schema_version": 3,
     "solution": false,
     "task": false
    }
   },
   "source": [
    "---\n",
    "### 4.4 Mean Average Precision (13 points)\n",
    "Implement the `map` metric:"
   ]
  },
  {
   "cell_type": "code",
   "execution_count": 64,
   "metadata": {
    "deletable": false,
    "nbgrader": {
     "cell_type": "code",
     "checksum": "aae2c62f2ffd76f5b6c004e9519b9f14",
     "grade": false,
     "grade_id": "cell-e50925fa9093a30d",
     "locked": false,
     "schema_version": 3,
     "solution": true,
     "task": false
    }
   },
   "outputs": [],
   "source": [
    "# TODO: Implement this! (12 points)\n",
    "def average_precision(results, relevant_docs):\n",
    "    \"\"\"\n",
    "        Compute Average Precision (for a single query - the results are \n",
    "        averaged across queries to get MAP in the next few cells)\n",
    "        Hint: You can use the recall_k and precision_k functions here!\n",
    "        Input: \n",
    "            results: A sorted list of 2-tuples (document_id, score), with the most \n",
    "                    relevant document in the first position\n",
    "            relevant_docs: A set of relevant documents. \n",
    "        Output: Average Precision\n",
    "    \"\"\"\n",
    "    # YOUR CODE HERE\n",
    "    \n",
    "    # find k's with a relevant results\n",
    "    ks = [k+1 for k in range(len(results)) if results[k][0] in relevant_docs]\n",
    "    \n",
    "    AP = 0.0\n",
    "    for k in ks:\n",
    "        precision_at_k = precision_k(results, relevant_docs, k)\n",
    "        AP += precision_at_k\n",
    "    AP /= len(relevant_docs)\n",
    "    \n",
    "    return AP"
   ]
  },
  {
   "cell_type": "code",
   "execution_count": 65,
   "metadata": {
    "deletable": false,
    "editable": false,
    "nbgrader": {
     "cell_type": "code",
     "checksum": "3b00e147c2fa146fa59f179b7c9cab75",
     "grade": true,
     "grade_id": "cell-8a1f7ec98571e58b",
     "locked": true,
     "points": 13,
     "schema_version": 3,
     "solution": false,
     "task": false
    }
   },
   "outputs": [
    {
     "name": "stdout",
     "output_type": "stream",
     "text": [
      "query: computational complexity, intractability, class-complete reductions,\n",
      "algorithms and efficiency\n",
      "MAP = 0.17240404110559454\n"
     ]
    }
   ],
   "source": [
    "#### Function check\n",
    "qid = queries[20][0]\n",
    "qtext = queries[20][1]\n",
    "print(f'query:{qtext}')\n",
    "results = bm25_search(qtext, 2)\n",
    "mean_ap = average_precision(results, qrels[qid])\n",
    "print(f'MAP = {mean_ap}')\n",
    "####"
   ]
  },
  {
   "cell_type": "markdown",
   "metadata": {
    "deletable": false,
    "editable": false,
    "nbgrader": {
     "cell_type": "markdown",
     "checksum": "36f85f45ef52d9467ba9a717d6d99ff2",
     "grade": false,
     "grade_id": "cell-1da18f0fe6f6d7be",
     "locked": true,
     "schema_version": 3,
     "solution": false,
     "task": false
    }
   },
   "source": [
    "---\n",
    "### 4.5 Expected Reciprocal Rank (13 points)\n",
    "Implement the `err` metric:"
   ]
  },
  {
   "cell_type": "markdown",
   "metadata": {},
   "source": [
    "Mapping of relevance grade to relevance probability:\n",
    "\n",
    "$$\n",
    "\\mathcal{R}(g) = \\frac{2^{g} - 1}{2^{g_{\\text{max}}}}, g \\in \\{0, 1, .., g_{\\text{max}}\\}\n",
    "$$\n",
    "\n",
    "Definition of ERR:\n",
    "\n",
    "$$\n",
    "ERR = \\sum_{r = 1}^{n}\\frac{1}{r}\\prod_{i=1}^{r-1}(1 - R_{i})R_{r}\n",
    "$$"
   ]
  },
  {
   "cell_type": "code",
   "execution_count": 66,
   "metadata": {
    "deletable": false,
    "nbgrader": {
     "cell_type": "code",
     "checksum": "9ac94db728e23ea1f5dc0d509473c6fb",
     "grade": false,
     "grade_id": "cell-64262889f9b267ea",
     "locked": false,
     "schema_version": 3,
     "solution": true,
     "task": false
    }
   },
   "outputs": [],
   "source": [
    "# TODO: Implement this! (12 points)\n",
    "def err(results, relevant_docs):\n",
    "    \"\"\"\n",
    "        Compute the expected reciprocal rank.\n",
    "        Hint: https://dl.acm.org/doi/pdf/10.1145/1645953.1646033?download=true\n",
    "        Input: \n",
    "            results: A sorted list of 2-tuples (document_id, score), with the most \n",
    "                    relevant document in the first position\n",
    "            relevant_docs: A set of relevant documents. \n",
    "        Output: ERR\n",
    "        \n",
    "    \"\"\"\n",
    "    # YOUR CODE HERE\n",
    "    \n",
    "    \"\"\"\n",
    "    Explanation: Based on Sec 4 of https://dl.acm.org/doi/pdf/10.1145/1645953.1646033\n",
    "    \n",
    "    Notation:\n",
    "        - n: number of documents in the ranking\n",
    "        - R_{i}: \\mathcal{R}(g_{i}), mapping of relevance grade $g_{i}$ to probability of relevance \\\n",
    "                 in this case, it is simply based on DCG\n",
    "                 $$\n",
    "                 \\mathcal{R}(g) = \\frac{2^{g} - 1}{2^{g_{\\text{max}}}}, g \\in \\{0, 1, .., g_{\\text{max}}\\}\n",
    "                 $$\n",
    "    Formula:\n",
    "        $$\n",
    "        ERR = \\sum_{r = 1}^{n}\\frac{1}{r}\\prod_{i=1}^{r-1}(1 - R_{i})R_{r}\n",
    "        $$\n",
    "    \"\"\"\n",
    "    n = len(results)\n",
    "    grade_to_prob = lambda x: (2 ** x - 1) / (2 ** 1)\n",
    "    \n",
    "    err_score = 0.0\n",
    "    p = 1.0\n",
    "    for r in range(1, n + 1):\n",
    "        doc_id, score = results[r - 1]\n",
    "        \n",
    "        R = grade_to_prob(int(doc_id in relevant_docs))\n",
    "        err_score += (p * R / r)\n",
    "        p *= (1 - R)\n",
    "    \n",
    "    return err_score"
   ]
  },
  {
   "cell_type": "code",
   "execution_count": 67,
   "metadata": {
    "deletable": false,
    "editable": false,
    "nbgrader": {
     "cell_type": "code",
     "checksum": "b7d201de0990b69d5f38704668665d87",
     "grade": true,
     "grade_id": "cell-071e3970ff1afae4",
     "locked": true,
     "points": 13,
     "schema_version": 3,
     "solution": false,
     "task": false
    }
   },
   "outputs": [
    {
     "name": "stdout",
     "output_type": "stream",
     "text": [
      "query: I'd like to find articles describing the use of singular value decomposition\n",
      "in digital image processing.  Applications include finding approximations\n",
      "to the original image and restoring images that are subject to noise. An\n",
      "article on the subject is H.C. Andrews and C.L. Patterson \"Outer product\n",
      "expansions and their uses in digital image processing\", American Mathematical\n",
      "Monthly, vol. 82.\n",
      "ERR = 0.625\n"
     ]
    }
   ],
   "source": [
    "#### Function check\n",
    "qid = queries[30][0]\n",
    "qtext = queries[30][1]\n",
    "print(f'query:{qtext}')\n",
    "results = bm25_search(qtext, 2)\n",
    "ERR = err(results, qrels[qid])\n",
    "print(f'ERR = {ERR}')\n",
    "####"
   ]
  },
  {
   "cell_type": "code",
   "execution_count": 68,
   "metadata": {},
   "outputs": [],
   "source": [
    "# additional tests provided by the TAs\n",
    "\n",
    "sample_results = [(i,None) for i in [4,0,1,17,2,5,6,13,9,10,8,20,3,15,16]]\n",
    "sample_qrel = [1,8,5,13,15,2]\n",
    "assert precision_k(sample_results, sample_qrel, 1) == 0.\n",
    "assert precision_k(sample_results, sample_qrel, 5) == 0.4\n",
    "assert precision_k(sample_results, sample_qrel, 10) == 0.4\n",
    "assert precision_k(sample_results, sample_qrel, 20) == 0.4\n",
    "assert recall_k(sample_results, sample_qrel, 1) == 0.\n",
    "assert np.allclose(recall_k(sample_results, sample_qrel, 5), 1./3.)\n",
    "assert np.allclose(recall_k(sample_results, sample_qrel, 10), 2./3.)\n",
    "assert recall_k(sample_results, sample_qrel, 20) == 1.\n",
    "assert np.allclose(average_precision(sample_results, sample_qrel), 0.436, 0.001)\n",
    "assert np.allclose(err(sample_results, sample_qrel), 0.2492, 0.001)"
   ]
  },
  {
   "cell_type": "markdown",
   "metadata": {
    "deletable": false,
    "editable": false,
    "nbgrader": {
     "cell_type": "markdown",
     "checksum": "5bd94caf77cfa5f34675df758d91002d",
     "grade": false,
     "grade_id": "cell-43709a765f353946",
     "locked": true,
     "schema_version": 3,
     "solution": false,
     "task": false
    }
   },
   "source": [
    "---\n",
    "### 4.6 Evaluate Search Functions\n",
    "\n",
    "Let's define some metrics@k using [partial functions](https://docs.python.org/3/library/functools.html#functools.partial)"
   ]
  },
  {
   "cell_type": "code",
   "execution_count": 69,
   "metadata": {
    "deletable": false,
    "editable": false,
    "nbgrader": {
     "cell_type": "code",
     "checksum": "49ccc158e5fb7340ace55e90eeb9d62a",
     "grade": false,
     "grade_id": "cell-dab560e18e340da8",
     "locked": true,
     "schema_version": 3,
     "solution": false,
     "task": false
    }
   },
   "outputs": [],
   "source": [
    "#### metrics@k functions\n",
    "\n",
    "recall_at_1 = partial(recall_k, k=1)\n",
    "recall_at_5 = partial(recall_k, k=5)\n",
    "recall_at_10 = partial(recall_k, k=10)\n",
    "precision_at_1 = partial(precision_k, k=1)\n",
    "precision_at_5 = partial(precision_k, k=5)\n",
    "precision_at_10 = partial(precision_k, k=10)\n",
    "\n",
    "\n",
    "list_of_metrics = [\n",
    "    (\"ERR\", err),\n",
    "    (\"MAP\", average_precision),\n",
    "    (\"Recall@1\",recall_at_1),\n",
    "    (\"Recall@5\", recall_at_5),\n",
    "    (\"Recall@10\", recall_at_10),\n",
    "    (\"Precision@1\", precision_at_1),\n",
    "    (\"Precision@5\", precision_at_5),\n",
    "    (\"Precision@10\", precision_at_10)]\n",
    "####"
   ]
  },
  {
   "cell_type": "markdown",
   "metadata": {
    "deletable": false,
    "editable": false,
    "nbgrader": {
     "cell_type": "markdown",
     "checksum": "fb541002c03221b453b8936290020ea5",
     "grade": false,
     "grade_id": "cell-580a2bdc66d03b47",
     "locked": true,
     "schema_version": 3,
     "solution": false,
     "task": false
    }
   },
   "source": [
    "---\n",
    "\n",
    "The following function evaluates a `search_fn` using the `metric_fn`. Note that the final number is averaged over all the queries"
   ]
  },
  {
   "cell_type": "code",
   "execution_count": 70,
   "metadata": {},
   "outputs": [],
   "source": [
    "#### Evaluate a search function\n",
    "\n",
    "list_of_search_fns = [\n",
    "    (\"BOW\", bow_search),\n",
    "    (\"TF-IDF\", tfidf_search),\n",
    "    (\"NaiveQL\", naive_ql_search),\n",
    "    (\"QL\", ql_search),\n",
    "    (\"BM25\", bm25_search)\n",
    "]\n",
    "\n",
    "def evaluate_search_fn(search_fn, metric_fns, index_set=None):\n",
    "    # build a dict query_id -> query \n",
    "    queries_by_id = dict((q[0], q[1]) for q in queries)\n",
    "    \n",
    "    metrics = {}\n",
    "    for metric, metric_fn in metric_fns:\n",
    "        metrics[metric] = np.zeros(len(qrels), dtype=np.float32)\n",
    "    \n",
    "    for i, (query_id, relevant_docs) in enumerate(qrels.items()):\n",
    "        query = queries_by_id[query_id]\n",
    "        if index_set:\n",
    "            results = search_fn(query, index_set)\n",
    "        else:\n",
    "            results = search_fn(query)\n",
    "        \n",
    "        for metric, metric_fn in metric_fns:\n",
    "            metrics[metric][i] = metric_fn(results, relevant_docs)\n",
    "    \n",
    "    final_dict = {}\n",
    "    for metric, metric_vals in metrics.items():\n",
    "        final_dict[metric] = metric_vals.mean()\n",
    "    \n",
    "    return final_dict\n",
    "####"
   ]
  },
  {
   "cell_type": "markdown",
   "metadata": {
    "deletable": false,
    "editable": false,
    "nbgrader": {
     "cell_type": "markdown",
     "checksum": "6ea67534f74a8f81e1f504794f641709",
     "grade": false,
     "grade_id": "cell-b156d83a0649cbb4",
     "locked": true,
     "schema_version": 3,
     "solution": false,
     "task": false
    }
   },
   "source": [
    "## Section 5: Analysis (30 points) <a class=\"anchor\" id=\"analysis\"></a>\n",
    "\n",
    "[Back to Part 1](#part1)\n",
    "\n",
    "In the final section of Part1, we will compare the different term-based IR algorithms and different preprocessing configurations and analyze their advantages and disadvantages.\n",
    "\n",
    "### Section 5.1: Plot (20 points)\n",
    "\n",
    "First, gather the results. The results should consider the index set, the different search functions and different metrics. Plot the results in bar charts, per metric, with clear labels.\n",
    "\n",
    "**Rubric:**\n",
    "- Each Metric is plotted: 7 points\n",
    "- Each Method is plotted: 7 points\n",
    "- Clear titles, x label, y labels and legends (if applicable): 6 points"
   ]
  },
  {
   "cell_type": "code",
   "execution_count": 71,
   "metadata": {
    "deletable": false,
    "nbgrader": {
     "cell_type": "code",
     "checksum": "7e2588a925d13ddf588abe8311dc9cfc",
     "grade": true,
     "grade_id": "cell-46fda42a25863a04",
     "locked": false,
     "points": 20,
     "schema_version": 3,
     "solution": true,
     "task": false
    }
   },
   "outputs": [],
   "source": [
    "# YOUR CODE HERE\n",
    "\n",
    "def plot_results(results, title=\"IR Evaluation with index set = 1\"):\n",
    "    nrows, ncols = 2, len(list_of_metrics) // 2\n",
    "    fig, axes = plt.subplots(nrows, ncols, figsize=(4 * len(list_of_metrics) // 2, 4 * 2), constrained_layout=True)\n",
    "\n",
    "    for i in range(nrows):\n",
    "        for j in range(ncols):\n",
    "            idx = i * nrows + j\n",
    "            ax = axes[i][j]\n",
    "\n",
    "            metric = list_of_metrics[idx][0]\n",
    "            ax.set_title(metric, fontsize=14)\n",
    "            ax.grid(axis=\"y\")\n",
    "\n",
    "            methods_names = list(results.keys())\n",
    "            methods_values = [results[method][metric] for method in results]\n",
    "            ax.bar(x=methods_names, height=methods_values, color=[\"blue\", \"red\", \"pink\", \"lightgreen\", \"gold\"])\n",
    "\n",
    "    plt.suptitle(title, fontsize=16, y=1.05)\n",
    "    plt.show()\n",
    "\n",
    "# results for index_set=1\n",
    "results_1 = dict()\n",
    "for method_name, method_fn in list_of_search_fns:\n",
    "    results_1[method_name] = evaluate_search_fn(method_fn, list_of_metrics, index_set=1)\n",
    "# plot_results(results_1, title=\"IR Evaluation with index set = 1\")\n",
    "\n",
    "# results for index_set=2\n",
    "results_2 = dict()\n",
    "for method_name, method_fn in list_of_search_fns:\n",
    "    results_2[method_name] = evaluate_search_fn(method_fn, list_of_metrics, index_set=2)\n",
    "# plot_results(results_2, title=\"IR Evaluation with index set = 2\")\n"
   ]
  },
  {
   "cell_type": "code",
   "execution_count": 72,
   "metadata": {},
   "outputs": [],
   "source": [
    "import json\n",
    "\n",
    "def write_json(data, path):\n",
    "    assert isinstance(data, dict)\n",
    "    \n",
    "    def make_string(dict_):\n",
    "        return {k: str(v) for k, v in dict_.items()}\n",
    "\n",
    "    data = {k: make_string(v) for k, v in data.items()}\n",
    "\n",
    "    with open(path, \"w\", encoding='utf-8') as f:\n",
    "        json.dump(data, f)"
   ]
  },
  {
   "cell_type": "code",
   "execution_count": 73,
   "metadata": {},
   "outputs": [],
   "source": [
    "import os\n",
    "os.makedirs(\"./results/\", exist_ok=True)\n",
    "write_json(results_1, \"./results/term_based_retrieval_results_index_1.json\")\n",
    "write_json(results_2, \"./results/term_based_retrieval_results_index_2.json\")"
   ]
  },
  {
   "cell_type": "code",
   "execution_count": 74,
   "metadata": {},
   "outputs": [
    {
     "data": {
      "image/png": "[encoded data removed]",
      "text/plain": [
       "<Figure size 1152x648 with 8 Axes>"
      ]
     },
     "metadata": {
      "needs_background": "light"
     },
     "output_type": "display_data"
    }
   ],
   "source": [
    "nrows, ncols = 2, len(list_of_metrics) // 2\n",
    "fig, axes = plt.subplots(nrows, ncols, figsize=(4 * len(list_of_metrics) // 2, 4 * 2 + 1), constrained_layout=True)\n",
    "\n",
    "for i in range(nrows):\n",
    "    for j in range(ncols):\n",
    "        idx = i * ncols + j\n",
    "        ax = axes[i][j]\n",
    "        \n",
    "        metric = list_of_metrics[idx][0]\n",
    "        ax.set_title(metric, fontsize=15)\n",
    "        ax.set_ylim((0, 0.6))\n",
    "        ax.grid(axis=\"y\")\n",
    "\n",
    "        methods_names = list(results_1.keys())\n",
    "        x = np.arange(len(methods_names))\n",
    "        width = 0.3\n",
    "\n",
    "        methods_values_1 = [results_1[method][metric] for method in results_1]\n",
    "        methods_values_2 = [results_2[method][metric] for method in results_2]\n",
    "\n",
    "        ax.bar(x=x, height=methods_values_1, width=width, label=\"Index set: 1\")\n",
    "        ax.bar(x=x + width, height=methods_values_2, width=width, label=\"Index set: 2\")\n",
    "\n",
    "        ax.set_xticks(x + width / 2)\n",
    "        ax.set_xticklabels(methods_names, fontsize=13)\n",
    "        \n",
    "        ax.legend(fontsize=13)\n",
    "\n",
    "plt.suptitle(\n",
    "    \"Evaluation of various retrieval methods on different metrics with different ways of text processing\",\n",
    "    fontsize=16,\n",
    "    y=1.05,\n",
    ")\n",
    "plt.savefig(\"./results/term_based_retrieval_v1.pdf\", bbox_inches=\"tight\")\n",
    "plt.show()"
   ]
  },
  {
   "cell_type": "markdown",
   "metadata": {
    "deletable": false,
    "editable": false,
    "nbgrader": {
     "cell_type": "markdown",
     "checksum": "e88c444a0acf4e398c65e289169b75f7",
     "grade": false,
     "grade_id": "cell-8aabe3bcf265deb0",
     "locked": true,
     "points": 10,
     "schema_version": 3,
     "solution": false,
     "task": true
    }
   },
   "source": [
    "---\n",
    "### Section 5.2: Summary (10 points)\n",
    "Write a summary of what you observe in the results.\n",
    "Your summary should compare results across the 2 indices and the methods being used. State what you expected to see in the results, followed by either supporting evidence *or* justify why the results did not support your expectations.      "
   ]
  },
  {
   "cell_type": "markdown",
   "metadata": {},
   "source": [
    "1. Across the two indices, in general, for each search method is better with `index_set=2` on all the metrics. This shows that using stemming and removing stop words does help with better search results since it reduces sparsity.\n",
    "\n",
    "2. On comparing the search methods, we observe that the BM25 algorithm outperforms all methods on almost all metrics. Further, QL and Naive QL methods perform the worst consistently. Further, TF-IDF outperforms BOW-based search."
   ]
  },
  {
   "cell_type": "markdown",
   "metadata": {
    "deletable": false,
    "editable": false,
    "nbgrader": {
     "cell_type": "markdown",
     "checksum": "b3eb77be74eecca205fc7b47316d1627",
     "grade": false,
     "grade_id": "cell-bb60dd5c092d0f2e",
     "locked": true,
     "schema_version": 3,
     "solution": false,
     "task": false
    }
   },
   "source": [
    "---\n",
    "---\n",
    "# Part 2: Semantic-based Matching (85 points) <a class=\"anchor\" id=\"part2\"></a>\n",
    "\n",
    "[Back to top](#top)\n",
    "\n",
    "We will now experiment with methods that go beyond lexical methods like TF-IDF, which operate at the word level and are high dimensional and sparse, and look at methods which constructs low dimensional dense representations of queries and documents. \n",
    "\n",
    "Since these low-dimensional methods have a higher time complexity, they are typically used in conjunction with methods like BM-25. That is, instead of searching through potentially million documents to find matches using low dimensional vectors, a list of K documents are retrieved using BM25, and then **re-ranked** using the other method. This is the method that is going to be applied in the following exercises. \n",
    "\n",
    "LSI/LDA takes documents that are similar on a semantic level - for instance, if they are describing the same topic - and projects them into nearby vectors, despite having low lexical overlap.\n",
    "\n",
    "In this assignment, you will use `gensim` to create LSI/LDA models and use them in re-ranking. \n",
    "\n",
    "**Note**: The following exercises only uses `doc_repr_2` and `config_2`\n",
    "\n",
    "Table of contents:\n",
    "- [Section 6: LSI](#lsi) (15 points)\n",
    "- [Section 7: LDA](#lda) (10 points)\n",
    "- [Section 8: Word2Vec/Doc2Vec](#2vec) (20 points)\n",
    "- [Section 8: Re-ranking](#reranking) (10 points)\n",
    "- [Section 9: Re-ranking Evaluation](#reranking_eval) (30 points)"
   ]
  },
  {
   "cell_type": "markdown",
   "metadata": {
    "deletable": false,
    "editable": false,
    "nbgrader": {
     "cell_type": "markdown",
     "checksum": "f7c7b2cab82f576ed0acf836ca57171c",
     "grade": false,
     "grade_id": "cell-6b2c81e7a8abd180",
     "locked": true,
     "schema_version": 3,
     "solution": false,
     "task": false
    }
   },
   "source": [
    "---\n",
    "## Section 6: Latent Semantic Indexing (LSI) (15 points) <a class=\"anchor\" id=\"lsi\"></a>\n",
    "\n",
    "[Back to Part 2](#part2)\n",
    "\n",
    "LSI is one of the methods to embed the queries and documents into vectors. It is based on a method similar to Principal Component Analysis (PCA) for obtaining a dense concept matrix out of the sparse term-document matrix.\n",
    "\n",
    "See [wikipedia](https://en.wikipedia.org/wiki/Latent_semantic_analysis), particularly [#Mathematics_of_LSI](https://en.wikipedia.org/wiki/Latent_semantic_analysis#Mathematics_of_LSI)."
   ]
  },
  {
   "cell_type": "code",
   "execution_count": 75,
   "metadata": {
    "deletable": false,
    "editable": false,
    "nbgrader": {
     "cell_type": "code",
     "checksum": "c17ee75319cb517e2bf48ec3d9efc329",
     "grade": false,
     "grade_id": "cell-59913daee47f680d",
     "locked": true,
     "schema_version": 3,
     "solution": false,
     "task": false
    }
   },
   "outputs": [],
   "source": [
    "from gensim.corpora import Dictionary\n",
    "from gensim.models import LdaModel, LsiModel, Word2Vec\n",
    "from gensim.models.doc2vec import Doc2Vec, TaggedDocument\n",
    "from gensim import downloader as g_downloader\n",
    "# gensim uses logging, so set it up \n",
    "import logging\n",
    "logging.basicConfig(format='%(asctime)s : %(levelname)s : %(message)s', level=logging.INFO)"
   ]
  },
  {
   "cell_type": "markdown",
   "metadata": {
    "deletable": false,
    "editable": false,
    "nbgrader": {
     "cell_type": "markdown",
     "checksum": "5fce140c546759b54a9fc060901ae77c",
     "grade": false,
     "grade_id": "cell-3644faff4976598a",
     "locked": true,
     "schema_version": 3,
     "solution": false,
     "task": false
    }
   },
   "source": [
    "---\n",
    "### Section 6.1: Cosine Similarity (5 points)<a class=\"anchor\" id=\"cosing_sim\"></a>\n",
    "Before we begin, let us first define our method of similarity for the LSI model, the cosine similarity:\n",
    "\n",
    "$$\\text{similarity} = \\cos(\\theta) = {\\mathbf{A} \\cdot \\mathbf{B} \\over \\|\\mathbf{A}\\| \\|\\mathbf{B}\\|} = \\frac{ \\sum\\limits_{i=1}^{n}{A_i  B_i} }{ \\sqrt{\\sum\\limits_{i=1}^{n}{A_i^2}}  \\sqrt{\\sum\\limits_{i=1}^{n}{B_i^2}} }$$\n",
    "\n",
    "Since we are using gensim, the types of vectors returned by their classes are of the form defined below (they are not just simple vectors):"
   ]
  },
  {
   "cell_type": "code",
   "execution_count": 76,
   "metadata": {
    "deletable": false,
    "editable": false,
    "nbgrader": {
     "cell_type": "code",
     "checksum": "4e340e1a1d546f430c018fd0760e707a",
     "grade": false,
     "grade_id": "cell-3995a50f951314d5",
     "locked": true,
     "schema_version": 3,
     "solution": false,
     "task": false
    }
   },
   "outputs": [],
   "source": [
    "# 1, 2, 3 are either latent dimensions (LSI), or topics (LDA)\n",
    "# The second value in each tuple is a number (LSI) or a probability (LDA)  \n",
    "example_vec_1 = [(1, 0.2), (2, 0.3), (3, 0.4)]\n",
    "example_vec_2 = [(1, 0.2), (2, 0.7), (3, 0.4)]"
   ]
  },
  {
   "cell_type": "markdown",
   "metadata": {
    "deletable": false,
    "editable": false,
    "nbgrader": {
     "cell_type": "markdown",
     "checksum": "20832fd4f579f49ae204b0efee02edd1",
     "grade": false,
     "grade_id": "cell-5e54d581858dc8f7",
     "locked": true,
     "schema_version": 3,
     "solution": false,
     "task": false
    }
   },
   "source": [
    "---\n",
    "**Implementation (2+3 points):**\n",
    "Now, implement the `dot product` operation on these types of vectors and using this operator, implement the `cosine similarity` (don't forget: two functions to implement!):"
   ]
  },
  {
   "cell_type": "code",
   "execution_count": 77,
   "metadata": {
    "deletable": false,
    "nbgrader": {
     "cell_type": "code",
     "checksum": "06a712ee75fc213a21c5f0067fd8fe28",
     "grade": false,
     "grade_id": "cell-0e8189f5f93de33f",
     "locked": false,
     "schema_version": 3,
     "solution": true,
     "task": false
    }
   },
   "outputs": [],
   "source": [
    "# TODO: Implement this! (2 points)\n",
    "def dot(vec_1,vec_2): \n",
    "    \"\"\"\n",
    "        vec_1 and vec_2 are of the form: [(int, float), (int, float), ...]\n",
    "        Return the dot product of two such vectors, computed only on the floats\n",
    "        You can assume that the lengths of the vectors are the same, and the dimensions are aligned \n",
    "            i.e you won't get: vec_1 = [(1, 0.2)] ; vec_2 = [(2, 0.3)] \n",
    "                                (dimensions are unaligned and lengths are different)\n",
    "    \"\"\"\n",
    "    # YOUR CODE HERE\n",
    "    return np.sum([x[1] * y[1] for (x, y) in zip(vec_1, vec_2)])\n",
    "\n",
    "\n",
    "# TODO: Implement this! (3 points)\n",
    "def cosine_sim(vec_1, vec_2):\n",
    "    # YOUR CODE HERE\n",
    "    norm_1 = np.sqrt(dot(vec_1, vec_1))\n",
    "    norm_2 = np.sqrt(dot(vec_2, vec_2))\n",
    "    \n",
    "    return dot(vec_1, vec_2) / (norm_1 * norm_2)"
   ]
  },
  {
   "cell_type": "code",
   "execution_count": 78,
   "metadata": {
    "deletable": false,
    "editable": false,
    "nbgrader": {
     "cell_type": "code",
     "checksum": "d22a4a7325ba7815a808390388f534a1",
     "grade": true,
     "grade_id": "cell-b25d04ed6b79fd35",
     "locked": true,
     "points": 2,
     "schema_version": 3,
     "solution": false,
     "task": false
    }
   },
   "outputs": [
    {
     "name": "stdout",
     "output_type": "stream",
     "text": [
      "vectors: ([(1, 0.2), (2, 0.3), (3, 0.4)], [(1, 0.2), (2, 0.7), (3, 0.4)])\n",
      "dot product = 0.41000000000000003\n",
      "cosine similarity = 0.9165587597202866\n"
     ]
    }
   ],
   "source": [
    "##### Function check\n",
    "print(f'vectors: {(example_vec_1,example_vec_2)}')\n",
    "print(f'dot product = {dot(example_vec_1,example_vec_2)}')\n",
    "print(f'cosine similarity = {cosine_sim(example_vec_1,example_vec_2)}')\n",
    "##### "
   ]
  },
  {
   "cell_type": "code",
   "execution_count": 79,
   "metadata": {
    "deletable": false,
    "editable": false,
    "nbgrader": {
     "cell_type": "code",
     "checksum": "0744131724ce76b1b3f163b4bae5f700",
     "grade": true,
     "grade_id": "cell-ae3c4466866ace77",
     "locked": true,
     "points": 3,
     "schema_version": 3,
     "solution": false,
     "task": false
    }
   },
   "outputs": [],
   "source": [
    "#### Please do not change this. This cell is used for grading."
   ]
  },
  {
   "cell_type": "markdown",
   "metadata": {
    "deletable": false,
    "editable": false,
    "nbgrader": {
     "cell_type": "markdown",
     "checksum": "9b123f599f9ea372d14676e23f1c6a52",
     "grade": false,
     "grade_id": "cell-4b2534067c44fcdf",
     "locked": true,
     "schema_version": 3,
     "solution": false,
     "task": false
    }
   },
   "source": [
    "---\n",
    "### Section 6.2: LSI Retrieval (10 points)<a class=\"anchor\" id=\"lsi_retrieval\"></a>\n",
    "LSI retrieval is simply ranking the documents based on their cosine similarity to the query vector.\n",
    "First, let's write a parent class for vector-based retrieval models:"
   ]
  },
  {
   "cell_type": "code",
   "execution_count": 80,
   "metadata": {
    "deletable": false,
    "editable": false,
    "nbgrader": {
     "cell_type": "code",
     "checksum": "ecc111d58182570e2252b8ef5d6b02af",
     "grade": false,
     "grade_id": "cell-937936cea18711ee",
     "locked": true,
     "schema_version": 3,
     "solution": false,
     "task": false
    }
   },
   "outputs": [],
   "source": [
    "class VectorSpaceRetrievalModel:\n",
    "    \"\"\"\n",
    "        Parent class for Dense Vector Retrieval models\n",
    "    \"\"\"\n",
    "    def __init__(self, doc_repr):\n",
    "        \"\"\"\n",
    "            document_collection: \n",
    "                [\n",
    "                    (doc_id_1, [token 1, token 2, ...]), \n",
    "                    (doc_id_2, [token 1, token 2, ....]) \n",
    "                    ...\n",
    "                ]\n",
    "\n",
    "        \"\"\"\n",
    "        self.doc_repr = doc_repr\n",
    "        self.documents = [_[1] for _ in self.doc_repr]\n",
    "        \n",
    "        # construct a dictionary\n",
    "        self.dictionary = Dictionary(self.documents)\n",
    "        # Filter out words that occur less than 20 documents, or more than 50% of the documents.\n",
    "        self.dictionary.filter_extremes(no_below=10)\n",
    "        self.corpus = [self.dictionary.doc2bow(doc) for doc in self.documents]\n",
    "    \n",
    "        # Make a index to word dictionary.\n",
    "        temp = self.dictionary[0]  # This is only to \"load\" the dictionary.\n",
    "        self.id2word = self.dictionary.id2token\n",
    "        \n",
    "        # this is set by the train_model function\n",
    "        self.model = None\n",
    "        \n",
    "        \n",
    "    def vectorize_documents(self):\n",
    "        \"\"\"\n",
    "            Returns a doc_id -> vector dictionary\n",
    "        \"\"\"\n",
    "        vectors = {}\n",
    "        for (doc_id, _), cc in zip(self.doc_repr, self.corpus):\n",
    "            vectors[doc_id] = self.model[cc]\n",
    "        return vectors\n",
    "\n",
    "    def vectorize_query(self, query):\n",
    "        # Note the use of config_2 here!\n",
    "        query = process_text(query, **config_2)\n",
    "        query_vector = self.dictionary.doc2bow(query)\n",
    "        return self.model[query_vector]\n",
    "    \n",
    "    def train_model(self):\n",
    "        \"\"\"\n",
    "            Trains a model and sets the 'self.model' variable. \n",
    "            Make sure to use the variables created in the __init__ method.\n",
    "            e.g the variables which may be useful: {corpus, dictionary, id2word}\n",
    "        \"\"\"\n",
    "        raise NotImplementedError()"
   ]
  },
  {
   "cell_type": "markdown",
   "metadata": {
    "deletable": false,
    "editable": false,
    "nbgrader": {
     "cell_type": "markdown",
     "checksum": "ff161eefd9b81b768cd6361bc1a502b0",
     "grade": false,
     "grade_id": "cell-704a18c2f80cd60c",
     "locked": true,
     "schema_version": 3,
     "solution": false,
     "task": false
    }
   },
   "source": [
    "---\n",
    "**Implementation (5 points):**\n",
    "Implement the `train_model` method in the following class (note that this is only one line of code in `gensim`!). Ensure that the parameters defined in the `__init__` method are not changed, and are *used in the `train_method` function*. Normally, the hyperaparameter space will be searched using grid search / other methods - in this assignment we have provided the hyperparameters for you.\n",
    "\n",
    "The last two lines of code train an LSI model on the list of documents which have been stemmed, lower-cased and have stopwords removed. "
   ]
  },
  {
   "cell_type": "code",
   "execution_count": 81,
   "metadata": {
    "deletable": false,
    "nbgrader": {
     "cell_type": "code",
     "checksum": "0e90eedc27c248bc1ae050518a46a46c",
     "grade": false,
     "grade_id": "cell-307682c9089f15d6",
     "locked": false,
     "schema_version": 3,
     "solution": true,
     "task": false
    }
   },
   "outputs": [],
   "source": [
    "# TODO: Implement this! (5 points)\n",
    "class LsiRetrievalModel(VectorSpaceRetrievalModel):\n",
    "    def __init__(self, doc_repr):\n",
    "        super().__init__(doc_repr)\n",
    "\n",
    "        self.num_topics = 100\n",
    "        self.chunksize = 2000\n",
    "    \n",
    "    def train_model(self):\n",
    "        # YOUR CODE HERE\n",
    "        self.model = LsiModel(\n",
    "            corpus=self.corpus,\n",
    "            id2word=self.id2word,\n",
    "            num_topics=self.num_topics,\n",
    "            chunksize=self.chunksize,\n",
    "        )"
   ]
  },
  {
   "cell_type": "code",
   "execution_count": 82,
   "metadata": {
    "deletable": false,
    "editable": false,
    "nbgrader": {
     "cell_type": "code",
     "checksum": "00399cfe13d60cb4beed1271e36004b0",
     "grade": true,
     "grade_id": "cell-5ce512650c1b2dfb",
     "locked": true,
     "points": 0,
     "schema_version": 3,
     "solution": false,
     "task": false
    }
   },
   "outputs": [
    {
     "name": "stderr",
     "output_type": "stream",
     "text": [
      "2022-02-28 14:17:45,837 : INFO : adding document #0 to Dictionary(0 unique tokens: [])\n",
      "2022-02-28 14:17:45,966 : INFO : built Dictionary(5937 unique tokens: ['-', 'algebra', 'intern', 'languag', 'preliminari']...) from 3204 documents (total 115969 corpus positions)\n",
      "2022-02-28 14:17:45,971 : INFO : discarding 4740 tokens: [('repeat', 8), ('glossari', 7), ('inspect', 8), ('uncol', 2), ('rung', 9), ('secant', 2), ('.', 1603), ('acceler', 6), ('diverg', 3), ('induc', 9)]...\n",
      "2022-02-28 14:17:45,972 : INFO : keeping 1197 tokens which were in no less than 10 and no more than 1602 (=50.0%) documents\n",
      "2022-02-28 14:17:45,973 : INFO : resulting dictionary: Dictionary(1197 unique tokens: ['-', 'algebra', 'intern', 'languag', 'preliminari']...)\n",
      "2022-02-28 14:17:46,034 : INFO : using serial LSI version on this node\n",
      "2022-02-28 14:17:46,034 : INFO : updating model with new documents\n",
      "2022-02-28 14:17:46,035 : INFO : preparing a new chunk of documents\n",
      "2022-02-28 14:17:46,046 : INFO : using 100 extra samples and 2 power iterations\n",
      "2022-02-28 14:17:46,047 : INFO : 1st phase: constructing (1197, 200) action matrix\n",
      "2022-02-28 14:17:46,070 : INFO : orthonormalizing (1197, 200) action matrix\n",
      "2022-02-28 14:17:46,253 : INFO : 2nd phase: running dense svd on (200, 2000) matrix\n",
      "2022-02-28 14:17:46,398 : INFO : computing the final decomposition\n",
      "2022-02-28 14:17:46,399 : INFO : keeping 100 factors (discarding 13.448% of energy spectrum)\n",
      "2022-02-28 14:17:46,401 : INFO : processed documents up to #2000\n",
      "2022-02-28 14:17:46,402 : INFO : topic #0(152.127): 0.741*\",\" + 0.342*\"-\" + 0.211*\"system\" + 0.204*\"program\" + 0.192*\"comput\" + 0.146*\"(\" + 0.127*\"languag\" + 0.108*\")\" + 0.084*\"gener\" + 0.083*\"data\"\n",
      "2022-02-28 14:17:46,402 : INFO : topic #1(60.600): 0.607*\"(\" + 0.434*\")\" + 0.366*\"algorithm\" + 0.300*\"-\" + -0.237*\",\" + -0.213*\"system\" + -0.132*\"comput\" + 0.096*\"[\" + -0.093*\"program\" + 0.084*\"])\"\n",
      "2022-02-28 14:17:46,403 : INFO : topic #2(57.438): 0.744*\"-\" + -0.452*\",\" + 0.263*\"system\" + -0.214*\"(\" + -0.166*\")\" + 0.107*\"time\" + 0.105*\"program\" + -0.094*\"algorithm\" + 0.068*\"comput\" + 0.067*\"share\"\n",
      "2022-02-28 14:17:46,403 : INFO : topic #3(48.370): -0.483*\"system\" + -0.375*\"program\" + -0.367*\"comput\" + 0.363*\"-\" + 0.308*\",\" + -0.212*\"(\" + -0.168*\")\" + -0.147*\"algorithm\" + 0.144*\"languag\" + -0.119*\"time\"\n",
      "2022-02-28 14:17:46,404 : INFO : topic #4(45.710): -0.489*\"comput\" + 0.475*\"languag\" + 0.428*\"program\" + -0.238*\"method\" + -0.141*\"problem\" + 0.121*\"system\" + 0.109*\")\" + -0.107*\"equat\" + -0.100*\"algorithm\" + 0.099*\"(\"\n",
      "2022-02-28 14:17:46,404 : INFO : preparing a new chunk of documents\n",
      "2022-02-28 14:17:46,413 : INFO : using 100 extra samples and 2 power iterations\n",
      "2022-02-28 14:17:46,414 : INFO : 1st phase: constructing (1197, 200) action matrix\n",
      "2022-02-28 14:17:46,423 : INFO : orthonormalizing (1197, 200) action matrix\n",
      "2022-02-28 14:17:46,674 : INFO : 2nd phase: running dense svd on (200, 1204) matrix\n",
      "2022-02-28 14:17:46,805 : INFO : computing the final decomposition\n",
      "2022-02-28 14:17:46,805 : INFO : keeping 100 factors (discarding 14.012% of energy spectrum)\n",
      "2022-02-28 14:17:46,808 : INFO : merging projections: (1197, 100) + (1197, 100)\n",
      "2022-02-28 14:17:46,893 : INFO : keeping 100 factors (discarding 8.171% of energy spectrum)\n",
      "2022-02-28 14:17:46,896 : INFO : processed documents up to #3204\n",
      "2022-02-28 14:17:46,896 : INFO : topic #0(225.136): 0.759*\",\" + 0.337*\"-\" + 0.196*\"system\" + 0.186*\"program\" + 0.166*\"comput\" + 0.139*\"(\" + 0.103*\")\" + 0.103*\"algorithm\" + 0.099*\"languag\" + 0.087*\"time\"\n",
      "2022-02-28 14:17:46,897 : INFO : topic #1(87.805): 0.613*\"-\" + -0.399*\",\" + 0.399*\"(\" + 0.326*\"algorithm\" + 0.293*\")\" + -0.129*\"system\" + -0.107*\"program\" + 0.085*\"method\" + 0.077*\"time\" + 0.062*\"1\"\n",
      "2022-02-28 14:17:46,897 : INFO : topic #2(81.909): 0.550*\"-\" + -0.434*\"(\" + 0.355*\"system\" + -0.321*\")\" + -0.291*\",\" + -0.266*\"algorithm\" + 0.146*\"program\" + 0.123*\"comput\" + 0.078*\"time\" + -0.064*\"[\"\n",
      "2022-02-28 14:17:46,898 : INFO : topic #3(72.433): -0.693*\"program\" + 0.339*\",\" + 0.279*\"-\" + -0.251*\"(\" + -0.221*\"system\" + -0.214*\"languag\" + -0.204*\")\" + -0.160*\"comput\" + -0.099*\"data\" + -0.056*\"execut\"\n",
      "2022-02-28 14:17:46,898 : INFO : topic #4(68.523): -0.673*\"system\" + 0.453*\"program\" + 0.254*\"languag\" + 0.212*\"-\" + -0.179*\"comput\" + -0.165*\"(\" + -0.121*\")\" + -0.115*\"model\" + 0.101*\",\" + -0.098*\"algorithm\"\n"
     ]
    },
    {
     "data": {
      "text/plain": [
       "[(0, 0.015213529847191397),\n",
       " (1, -0.01625894893867659),\n",
       " (2, -0.00020567968769857154),\n",
       " (3, -0.0018330823934027025),\n",
       " (4, -0.009416156556657427),\n",
       " (5, -0.004673068046387719),\n",
       " (6, 0.027021614146313846),\n",
       " (7, 0.016729789811856226),\n",
       " (8, -0.031598423133343254),\n",
       " (9, -0.0006225092935159011),\n",
       " (10, 0.0019634813963270103),\n",
       " (11, -0.017266665603186043),\n",
       " (12, -9.383432807107302e-05),\n",
       " (13, 0.0019327673799349803),\n",
       " (14, 0.004045586769844749),\n",
       " (15, 0.004880838466161939),\n",
       " (16, 0.005816941531338006),\n",
       " (17, 0.0031149291587179283),\n",
       " (18, -0.018962506539440482),\n",
       " (19, 0.02058693522043558),\n",
       " (20, -0.007796991019805774),\n",
       " (21, -0.013789512625161596),\n",
       " (22, 0.04828856435623713),\n",
       " (23, 0.027752946661245895),\n",
       " (24, -0.01037073126924539),\n",
       " (25, -0.013014148176610368),\n",
       " (26, 0.00625166509165065),\n",
       " (27, 0.07618325478214569),\n",
       " (28, -0.057595132639121825),\n",
       " (29, 0.03555046911775011),\n",
       " (30, 0.04471197081946373),\n",
       " (31, 0.04492446675278293),\n",
       " (32, -0.07037216933219224),\n",
       " (33, 0.045143867353106965),\n",
       " (34, -0.025645020919414254),\n",
       " (35, 0.06605669461286581),\n",
       " (36, 0.044287979756362894),\n",
       " (37, -0.004739275411169339),\n",
       " (38, -0.0608610989779286),\n",
       " (39, 0.02400696987701134),\n",
       " (40, -0.041260075111860806),\n",
       " (41, -0.03687342098194048),\n",
       " (42, 0.02802094331784131),\n",
       " (43, 0.005771415957881852),\n",
       " (44, 0.023811534059727125),\n",
       " (45, 0.05895014544892219),\n",
       " (46, -0.009890291910450526),\n",
       " (47, 0.000744071255401272),\n",
       " (48, 0.014405504448162857),\n",
       " (49, 0.03300778216421693),\n",
       " (50, 0.019453128517745583),\n",
       " (51, 0.04720640858611311),\n",
       " (52, -0.009949596575653587),\n",
       " (53, -0.00035685481323160725),\n",
       " (54, 0.045189781846505066),\n",
       " (55, 0.031191625721749883),\n",
       " (56, 0.006636230956747386),\n",
       " (57, -0.015673523627542468),\n",
       " (58, 0.001013134709092832),\n",
       " (59, 0.048888466384480155),\n",
       " (60, -0.018275712573746848),\n",
       " (61, -0.04737920198660396),\n",
       " (62, 0.024692087317691198),\n",
       " (63, 0.04343495792116936),\n",
       " (64, -0.0329220854667962),\n",
       " (65, 0.05189743106388127),\n",
       " (66, 0.0026301701599076087),\n",
       " (67, -0.06675445467221999),\n",
       " (68, 0.026486923157384847),\n",
       " (69, -0.029832701112932687),\n",
       " (70, -0.05095503960800332),\n",
       " (71, -0.007641663547421244),\n",
       " (72, 0.05848512380052754),\n",
       " (73, -0.05292554540348505),\n",
       " (74, 0.0788354588340392),\n",
       " (75, 0.02785489921814615),\n",
       " (76, -0.013783014821396374),\n",
       " (77, -0.017284333948140294),\n",
       " (78, 0.02506522961691562),\n",
       " (79, 0.03448372042998164),\n",
       " (80, -0.023423119154556013),\n",
       " (81, -0.01098616672574549),\n",
       " (82, 0.006943853323190832),\n",
       " (83, 0.03557465088411982),\n",
       " (84, -0.0450168490359966),\n",
       " (85, -0.009138083065927359),\n",
       " (86, -0.039849061318164215),\n",
       " (87, 0.013409503157185806),\n",
       " (88, -0.07770068156530509),\n",
       " (89, 0.03566819525917682),\n",
       " (90, -0.07585597531589781),\n",
       " (91, 0.025766673163523306),\n",
       " (92, -0.012161878502360958),\n",
       " (93, -0.05429188954865743),\n",
       " (94, 0.013028108054800598),\n",
       " (95, -0.03818297646165928),\n",
       " (96, -0.010117470823971237),\n",
       " (97, 0.01902200585799175),\n",
       " (98, 0.009946071294510691),\n",
       " (99, 0.02854073623281958)]"
      ]
     },
     "execution_count": 82,
     "metadata": {},
     "output_type": "execute_result"
    }
   ],
   "source": [
    "##### Function check\n",
    "lsi = LsiRetrievalModel(doc_repr_2)\n",
    "lsi.train_model()\n",
    "\n",
    "# you can now get an LSI vector for a given query in the following way:\n",
    "lsi.vectorize_query(\"report\")\n",
    "##### "
   ]
  },
  {
   "cell_type": "markdown",
   "metadata": {
    "deletable": false,
    "editable": false,
    "nbgrader": {
     "cell_type": "markdown",
     "checksum": "7116bb9f576c5bb04934e1d59c51d729",
     "grade": false,
     "grade_id": "cell-4c5eeb557b4fca2f",
     "locked": true,
     "points": 5,
     "schema_version": 3,
     "solution": false,
     "task": true
    }
   },
   "source": [
    "\\#### Please do not change this. This cell is used for grading."
   ]
  },
  {
   "cell_type": "markdown",
   "metadata": {
    "deletable": false,
    "editable": false,
    "nbgrader": {
     "cell_type": "markdown",
     "checksum": "26e2ff3c413745e633d99f66c041d6b1",
     "grade": false,
     "grade_id": "cell-c4e50296cd17a555",
     "locked": true,
     "schema_version": 3,
     "solution": false,
     "task": false
    }
   },
   "source": [
    "---\n",
    "**Implementation (5 points):**\n",
    " Next, implement a basic ranking class for vector space retrieval (used for all semantic methods): "
   ]
  },
  {
   "cell_type": "code",
   "execution_count": 83,
   "metadata": {
    "deletable": false,
    "nbgrader": {
     "cell_type": "code",
     "checksum": "1a8389d2f0635c3405e2b0b27ed9f327",
     "grade": false,
     "grade_id": "cell-250515d288e80cdc",
     "locked": false,
     "schema_version": 3,
     "solution": true,
     "task": false
    }
   },
   "outputs": [],
   "source": [
    "# TODO: Implement this! (5 points)\n",
    "class DenseRetrievalRanker:\n",
    "    def __init__(self, vsrm, similarity_fn):\n",
    "        \"\"\"\n",
    "            vsrm: instance of `VectorSpaceRetrievalModel`\n",
    "            similarity_fn: function instance that takes in two vectors \n",
    "                            and returns a similarity score e.g cosine_sim defined earlier\n",
    "        \"\"\"\n",
    "        self.vsrm = vsrm \n",
    "        self.vectorized_documents = self.vsrm.vectorize_documents()\n",
    "        self.similarity_fn = similarity_fn\n",
    "    \n",
    "    def _compute_sim(self, query_vector):\n",
    "        \"\"\"\n",
    "            Compute the similarity of `query_vector` to documents in \n",
    "            `self.vectorized_documents` using `self.similarity_fn`\n",
    "            Returns a list of (doc_id, score) tuples\n",
    "        \"\"\"\n",
    "        # YOUR CODE HERE\n",
    "        return [(doc_id, self.similarity_fn(query_vector, d)) for doc_id, d in self.vectorized_documents.items() if d]\n",
    "    \n",
    "    def search(self, query):\n",
    "        scores = self._compute_sim(self.vsrm.vectorize_query(query))\n",
    "        scores.sort(key=lambda _:-_[1])\n",
    "        return scores "
   ]
  },
  {
   "cell_type": "code",
   "execution_count": 84,
   "metadata": {
    "deletable": false,
    "editable": false,
    "nbgrader": {
     "cell_type": "code",
     "checksum": "f237dd1ef6c1783c06797f4b514421f5",
     "grade": true,
     "grade_id": "cell-b73068b3e77a8e31",
     "locked": true,
     "points": 0,
     "schema_version": 3,
     "solution": false,
     "task": false
    }
   },
   "outputs": [
    {
     "data": {
      "text/plain": [
       "[('599', 0.7986957805491567),\n",
       " ('947', 0.5713445451500668),\n",
       " ('53', 0.4972037481544346),\n",
       " ('1339', 0.4560713990875088),\n",
       " ('3160', 0.4498197966988275)]"
      ]
     },
     "execution_count": 84,
     "metadata": {},
     "output_type": "execute_result"
    }
   ],
   "source": [
    "##### Function check\n",
    "drm_lsi = DenseRetrievalRanker(lsi, cosine_sim)\n",
    "drm_lsi.search(\"report\")[:5]\n",
    "##### "
   ]
  },
  {
   "cell_type": "markdown",
   "metadata": {
    "deletable": false,
    "editable": false,
    "nbgrader": {
     "cell_type": "markdown",
     "checksum": "5b3f19fdcaa585d263706d5a26038799",
     "grade": false,
     "grade_id": "cell-034c755a6502b868",
     "locked": true,
     "points": 5,
     "schema_version": 3,
     "solution": false,
     "task": true
    }
   },
   "source": [
    "\\#### Please do not change this. This cell is used for grading."
   ]
  },
  {
   "cell_type": "markdown",
   "metadata": {
    "deletable": false,
    "editable": false,
    "nbgrader": {
     "cell_type": "markdown",
     "checksum": "dcafef6e037033c46304b914f7c78bdf",
     "grade": false,
     "grade_id": "cell-d1df23f497d5ed6b",
     "locked": true,
     "schema_version": 3,
     "solution": false,
     "task": false
    }
   },
   "source": [
    "---\n",
    "Now, you can test your LSI model in the following cell: try finding queries which are lexically different to documents, but semantically similar - does LSI work well for these queries?!"
   ]
  },
  {
   "cell_type": "code",
   "execution_count": 85,
   "metadata": {
    "deletable": false,
    "editable": false,
    "nbgrader": {
     "cell_type": "code",
     "checksum": "11734bc7674377b340ad51297a8e8bb5",
     "grade": false,
     "grade_id": "cell-efd1d08dfc04ec3e",
     "locked": true,
     "schema_version": 3,
     "solution": false,
     "task": false
    }
   },
   "outputs": [
    {
     "data": {
      "application/vnd.jupyter.widget-view+json": {
       "model_id": "73e7e738e8dc4cb6ac74183b9f36e129",
       "version_major": 2,
       "version_minor": 0
      },
      "text/plain": [
       "Text(value='', description='Search Bar')"
      ]
     },
     "metadata": {},
     "output_type": "display_data"
    }
   ],
   "source": [
    "# test your LSI model\n",
    "search_fn = drm_lsi.search\n",
    "\n",
    "text = widgets.Text(description=\"Search Bar\", width=200)\n",
    "display(text)\n",
    "\n",
    "def make_results_2(query, search_fn):\n",
    "    results = []\n",
    "    for doc_id, score in search_fn(query):\n",
    "        highlight = highlight_text(docs_by_id[doc_id], query)\n",
    "        if len(highlight.strip()) == 0:\n",
    "            highlight = docs_by_id[doc_id]\n",
    "        results.append(ResultRow(doc_id, highlight, score))\n",
    "    return results\n",
    "\n",
    "def handle_submit_2(sender):\n",
    "    print(f\"Searching for: '{sender.value}' (SEARCH FN: {search_fn})\")\n",
    "    \n",
    "    results = make_results_2(sender.value, search_fn)\n",
    "    \n",
    "    # display only the top 5\n",
    "    results = results[:5]\n",
    "    \n",
    "    body = \"\"\n",
    "    for idx, r in enumerate(results):\n",
    "        body += f\"<li>Document #{r.doc_id}({r.score}): {r.snippet}</li>\"\n",
    "    display(HTML(f\"<ul>{body}</ul>\"))\n",
    "    \n",
    "\n",
    "text.on_submit(handle_submit_2)"
   ]
  },
  {
   "cell_type": "markdown",
   "metadata": {
    "deletable": false,
    "editable": false,
    "nbgrader": {
     "cell_type": "markdown",
     "checksum": "d074ce1ca48384cdda78742741c938be",
     "grade": false,
     "grade_id": "cell-3a86cef264d8f6cf",
     "locked": true,
     "schema_version": 3,
     "solution": false,
     "task": false
    }
   },
   "source": [
    "---\n",
    "## Section 7: Latent Dirichlet Allocation (LDA) (10 points) <a class=\"anchor\" id=\"lda\"></a>\n",
    "\n",
    "[Back to Part 2](#part2)\n",
    "\n",
    "The specifics of LDA is out of the scope of this assignment, but we will use the `gensim` implementation to perform search using LDA over our small document collection. The key thing to remember is that LDA, unlike LSI, outputs a topic **distribution**, not a vector. With that in mind, let's first define a similarity measure.\n"
   ]
  },
  {
   "cell_type": "markdown",
   "metadata": {
    "deletable": false,
    "editable": false,
    "nbgrader": {
     "cell_type": "markdown",
     "checksum": "db01092373b18f0c9dfed1bb17db4ad9",
     "grade": false,
     "grade_id": "cell-6b78ad22c2d60ba7",
     "locked": true,
     "schema_version": 3,
     "solution": false,
     "task": false
    }
   },
   "source": [
    "---\n",
    "### Section 7.1: Jenson-Shannon divergence (5 points) <a class=\"anchor\" id=\"js_sim\"></a>\n",
    "\n",
    "The Jenson-Shannon divergence is a symmetric and finite measure on two probability distributions (unlike the KL, which is neither). For identical distributions, the JSD is equal to 0, and since our code uses 0 as irrelevant and higher scores as relevant, we use `(1 - JSD)` as the score or 'similarity' in our setup\n",
    "\n",
    "**Note**: the JSD is bounded to \\[0,1\\] only if we use log base 2. So please ensure that you're using `np.log2` instead of `np.log`"
   ]
  },
  {
   "cell_type": "code",
   "execution_count": 86,
   "metadata": {
    "deletable": false,
    "nbgrader": {
     "cell_type": "code",
     "checksum": "a579e6cd7a24a3516bc9a84528b392d3",
     "grade": false,
     "grade_id": "cell-d2376a85a4841e98",
     "locked": false,
     "schema_version": 3,
     "solution": true,
     "task": false
    }
   },
   "outputs": [],
   "source": [
    "## TODO: Implement this! (5 points)\n",
    "def jenson_shannon_divergence(vec_1, vec_2, assert_prob=False):\n",
    "    \"\"\"\n",
    "        Computes the Jensen-Shannon divergence between two probability distributions. \n",
    "        NOTE: DO NOT RETURN 1 - JSD here, that is handled by the next function which is already implemented! \n",
    "        The inputs are *gensim* vectors - same as the vectors for the cosine_sim function\n",
    "        assert_prob is a flag that checks if the inputs are proper probability distributions \n",
    "            i.e they sum to 1 and are positive - use this to check your inputs if needed. \n",
    "                (This is optional to implement, but recommended - \n",
    "                you can the default to False to save a few ms off the runtime)\n",
    "    \"\"\"\n",
    "    # YOUR CODE HERE\n",
    "    \n",
    "    # TODO: check the validity of this assumption\n",
    "    P_support = np.array([x[0] for x in vec_1])\n",
    "    Q_support = np.array([x[0] for x in vec_2])\n",
    "    common_support = [x for x in P_support if x in Q_support]\n",
    "\n",
    "    P = np.array([x[1] for x in vec_1 if x[0] in common_support])\n",
    "    Q = np.array([x[1] for x in vec_2 if x[0] in common_support])\n",
    "\n",
    "    # Q = np.array([y[1] for x, y in zip(vec_1, vec_2) if x[0] in P_support])\n",
    "    \n",
    "    assert len(P) == len(Q)\n",
    "\n",
    "    M = 0.5 * (P + Q)\n",
    "\n",
    "    if assert_prob:\n",
    "        assert np.sum(P) == 1.0 and sum(P >= 0.0) == len(P)\n",
    "        assert np.sum(Q) == 1.0 and sum(Q >= 0.0) == len(Q)\n",
    "\n",
    "    epsilon = np.finfo(np.float32).eps\n",
    "    \n",
    "    def kl(p, q):\n",
    "        return np.sum(np.where(p != 0, p * np.log2(p / (q + epsilon)), 0))\n",
    "    \n",
    "    return 0.5 * kl(P, M) + 0.5 * kl(Q, M)\n",
    "    \n",
    "\n",
    "def jenson_shannon_sim(vec_1, vec_2, assert_prob=False):\n",
    "    return 1 - jenson_shannon_divergence(vec_1, vec_2)\n",
    "\n"
   ]
  },
  {
   "cell_type": "code",
   "execution_count": 87,
   "metadata": {
    "deletable": false,
    "editable": false,
    "nbgrader": {
     "cell_type": "code",
     "checksum": "ab340aa941c9fb5c89b3fd0a9139e246",
     "grade": true,
     "grade_id": "cell-487c6d2933f38053",
     "locked": true,
     "points": 5,
     "schema_version": 3,
     "solution": false,
     "task": false
    }
   },
   "outputs": [
    {
     "data": {
      "text/plain": [
       "0.9251069569836876"
      ]
     },
     "execution_count": 87,
     "metadata": {},
     "output_type": "execute_result"
    }
   ],
   "source": [
    "##### Function check\n",
    "vec_1 = [(1, 0.3), (2, 0.4), (3, 0.3)]\n",
    "vec_2 = [(1, 0.1), (2, 0.7), (3, 0.2)]\n",
    "jenson_shannon_sim(vec_1, vec_2, assert_prob=True)\n",
    "##### "
   ]
  },
  {
   "cell_type": "markdown",
   "metadata": {
    "deletable": false,
    "editable": false,
    "nbgrader": {
     "cell_type": "markdown",
     "checksum": "0a1583a5f23e3390038331cce67f5d8e",
     "grade": false,
     "grade_id": "cell-4535cc67a50b80fa",
     "locked": true,
     "schema_version": 3,
     "solution": false,
     "task": false
    }
   },
   "source": [
    "---\n",
    "### Section 7.2: LDA retrieval (5 points) <a class=\"anchor\" id=\"lda_ret\"></a>\n",
    "\n",
    "Implement the `train_model` method in the following class (note that this is only one line of code in `gensim`!). Ensure that the parameters defined in the `__init__` method are not changed, and are *used in the `train_method` function*. You do not need to set this. Normally, the hyperaparameter space will be searched using grid search / other methods. Note that training the LDA model might take some time\n",
    "\n",
    "The last two lines of code train an LDA model on the list of documents which have been stemmed, lower-cased and have stopwords removed. "
   ]
  },
  {
   "cell_type": "code",
   "execution_count": 88,
   "metadata": {
    "deletable": false,
    "nbgrader": {
     "cell_type": "code",
     "checksum": "27de8e4fa85536bb396b73bfc51b3f50",
     "grade": false,
     "grade_id": "cell-021a48dff4a8bb91",
     "locked": false,
     "schema_version": 3,
     "solution": true,
     "task": false
    }
   },
   "outputs": [],
   "source": [
    "# TODO: Implement this! (5 points)\n",
    "class LdaRetrievalModel(VectorSpaceRetrievalModel):\n",
    "    def __init__(self, doc_repr):\n",
    "        super().__init__(doc_repr)\n",
    "        \n",
    "        # use these parameters in the train_model method\n",
    "        self.num_topics = 100\n",
    "        self.chunksize = 2000\n",
    "        self.passes = 20\n",
    "        self.iterations = 400\n",
    "        self.eval_every = 10\n",
    "        # this is need to get full vectors\n",
    "        self.minimum_probability=0.0\n",
    "        self.alpha='auto'\n",
    "        self.eta='auto'\n",
    "    \n",
    "    \n",
    "    def train_model(self):\n",
    "        # YOUR CODE HERE\n",
    "        self.model = LdaModel(\n",
    "            corpus=self.corpus,\n",
    "            id2word=self.id2word,\n",
    "            num_topics=self.num_topics,\n",
    "            chunksize=self.chunksize,\n",
    "            passes=self.passes,\n",
    "            iterations=self.iterations,\n",
    "            eval_every=self.eval_every,\n",
    "            minimum_probability=self.minimum_probability,\n",
    "            alpha=self.alpha,\n",
    "            eta=self.eta,\n",
    "        )"
   ]
  },
  {
   "cell_type": "code",
   "execution_count": 89,
   "metadata": {
    "deletable": false,
    "editable": false,
    "nbgrader": {
     "cell_type": "code",
     "checksum": "be70fcb8098d0b6ce64cd2a10e6a05b7",
     "grade": true,
     "grade_id": "cell-86750b715f0345fd",
     "locked": true,
     "points": 0,
     "schema_version": 3,
     "solution": false,
     "task": false
    },
    "tags": []
   },
   "outputs": [
    {
     "name": "stderr",
     "output_type": "stream",
     "text": [
      "2022-02-28 14:17:47,819 : INFO : adding document #0 to Dictionary(0 unique tokens: [])\n",
      "2022-02-28 14:17:47,951 : INFO : built Dictionary(5937 unique tokens: ['-', 'algebra', 'intern', 'languag', 'preliminari']...) from 3204 documents (total 115969 corpus positions)\n",
      "2022-02-28 14:17:47,959 : INFO : discarding 4740 tokens: [('repeat', 8), ('glossari', 7), ('inspect', 8), ('uncol', 2), ('rung', 9), ('secant', 2), ('.', 1603), ('acceler', 6), ('diverg', 3), ('induc', 9)]...\n",
      "2022-02-28 14:17:47,960 : INFO : keeping 1197 tokens which were in no less than 10 and no more than 1602 (=50.0%) documents\n",
      "2022-02-28 14:17:47,963 : INFO : resulting dictionary: Dictionary(1197 unique tokens: ['-', 'algebra', 'intern', 'languag', 'preliminari']...)\n",
      "2022-02-28 14:17:48,052 : INFO : using autotuned alpha, starting with [0.01, 0.01, 0.01, 0.01, 0.01, 0.01, 0.01, 0.01, 0.01, 0.01, 0.01, 0.01, 0.01, 0.01, 0.01, 0.01, 0.01, 0.01, 0.01, 0.01, 0.01, 0.01, 0.01, 0.01, 0.01, 0.01, 0.01, 0.01, 0.01, 0.01, 0.01, 0.01, 0.01, 0.01, 0.01, 0.01, 0.01, 0.01, 0.01, 0.01, 0.01, 0.01, 0.01, 0.01, 0.01, 0.01, 0.01, 0.01, 0.01, 0.01, 0.01, 0.01, 0.01, 0.01, 0.01, 0.01, 0.01, 0.01, 0.01, 0.01, 0.01, 0.01, 0.01, 0.01, 0.01, 0.01, 0.01, 0.01, 0.01, 0.01, 0.01, 0.01, 0.01, 0.01, 0.01, 0.01, 0.01, 0.01, 0.01, 0.01, 0.01, 0.01, 0.01, 0.01, 0.01, 0.01, 0.01, 0.01, 0.01, 0.01, 0.01, 0.01, 0.01, 0.01, 0.01, 0.01, 0.01, 0.01, 0.01, 0.01]\n",
      "2022-02-28 14:17:48,053 : INFO : using serial LDA version on this node\n",
      "2022-02-28 14:17:48,090 : INFO : running online (multi-pass) LDA training, 100 topics, 20 passes over the supplied corpus of 3204 documents, updating model once every 2000 documents, evaluating perplexity every 3204 documents, iterating 400x with a convergence threshold of 0.001000\n",
      "2022-02-28 14:17:48,095 : INFO : PROGRESS: pass 0, at document #2000/3204\n",
      "2022-02-28 14:17:49,350 : INFO : optimized alpha [0.009835597, 0.009799268, 0.009778341, 0.009861594, 0.009929445, 0.009824435, 0.009815083, 0.0098147765, 0.0097939465, 0.009793761, 0.009794032, 0.009928944, 0.00979904, 0.00978383, 0.009825081, 0.009788813, 0.009876372, 0.009799237, 0.009846102, 0.009898202, 0.009860993, 0.009820083, 0.009824736, 0.009840058, 0.009814709, 0.00985105, 0.009809335, 0.00990851, 0.009778445, 0.009783451, 0.009850528, 0.009856222, 0.00976814, 0.009773278, 0.0098092705, 0.00981472, 0.009814531, 0.00986115, 0.009825138, 0.009965889, 0.009830648, 0.009788642, 0.009783775, 0.009882787, 0.009794192, 0.009804403, 0.009903055, 0.009825269, 0.009850348, 0.009809298, 0.009788737, 0.009814185, 0.009939543, 0.0098148845, 0.009814837, 0.009835702, 0.009804375, 0.009809319, 0.009788718, 0.009886864, 0.009809618, 0.009819759, 0.009778406, 0.009814699, 0.009850933, 0.009804353, 0.00987169, 0.00985562, 0.009778487, 0.009825222, 0.00980445, 0.009908438, 0.009829836, 0.009804163, 0.009840743, 0.009799149, 0.009913021, 0.009824896, 0.00980412, 0.009927376, 0.009886468, 0.009814661, 0.00988256, 0.0098351715, 0.009794253, 0.00977336, 0.009799112, 0.009788626, 0.009793812, 0.00977325, 0.009794091, 0.009903295, 0.009865969, 0.009955689, 0.009799236, 0.009809602, 0.009809554, 0.0097888755, 0.009809609, 0.009835527]\n",
      "2022-02-28 14:17:49,359 : INFO : merging changes from 2000 documents into a model of 3204 documents\n",
      "2022-02-28 14:17:49,368 : INFO : topic #62 (0.010): 0.119*\"-\" + 0.070*\"bit\" + 0.060*\",\" + 0.040*\"8\" + 0.040*\"digit\" + 0.040*\"number\" + 0.040*\"^\" + 0.030*\"float\" + 0.030*\"point\" + 0.030*\"signific\"\n",
      "2022-02-28 14:17:49,369 : INFO : topic #68 (0.010): 0.053*\"diagram\" + 0.042*\"gener\" + 0.042*\"data\" + 0.032*\"ordinari\" + 0.032*\"analysi\" + 0.032*\"-\" + 0.032*\"algorithm\" + 0.021*\"larg\" + 0.021*\"polynomi\" + 0.021*\"deriv\"\n",
      "2022-02-28 14:17:49,369 : INFO : topic #27 (0.010): 0.063*\",\" + 0.032*\"-\" + 0.022*\"comput\" + 0.020*\"program\" + 0.020*\"system\" + 0.017*\"languag\" + 0.016*\"(\" + 0.016*\")\" + 0.014*\"algorithm\" + 0.009*\"input\"\n",
      "2022-02-28 14:17:49,369 : INFO : topic #11 (0.010): 0.042*\",\" + 0.040*\"-\" + 0.017*\"algorithm\" + 0.016*\"program\" + 0.015*\"comput\" + 0.014*\"(\" + 0.013*\"data\" + 0.012*\"process\" + 0.011*\"system\" + 0.011*\"compil\"\n",
      "2022-02-28 14:17:49,370 : INFO : topic #93 (0.010): 0.077*\",\" + 0.040*\"-\" + 0.038*\"system\" + 0.021*\"gener\" + 0.015*\"process\" + 0.015*\"comput\" + 0.015*\"data\" + 0.011*\"(\" + 0.011*\"program\" + 0.009*\"techniqu\"\n",
      "2022-02-28 14:17:49,370 : INFO : topic diff=82.584846, rho=1.000000\n",
      "2022-02-28 14:17:50,021 : INFO : -7.285 per-word bound, 156.0 perplexity estimate based on a held-out corpus of 1204 documents with 49783 words\n",
      "2022-02-28 14:17:50,024 : INFO : PROGRESS: pass 0, at document #3204/3204\n",
      "2022-02-28 14:17:50,614 : INFO : optimized alpha [0.010042433, 0.0098359715, 0.009748731, 0.009998929, 0.010402304, 0.009864949, 0.010170339, 0.009968235, 0.009952363, 0.009763709, 0.009823592, 0.010072311, 0.0098745525, 0.009889546, 0.009979078, 0.009869995, 0.009987046, 0.010068831, 0.01025024, 0.010389757, 0.009984491, 0.010133687, 0.009953328, 0.009951541, 0.0098214485, 0.009933057, 0.009974394, 0.010224346, 0.009755334, 0.009817309, 0.009973721, 0.009874452, 0.010029591, 0.009721019, 0.009938044, 0.010008913, 0.009814289, 0.009890384, 0.009913273, 0.010495402, 0.009878137, 0.00973521, 0.009930881, 0.010349042, 0.009952942, 0.00996916, 0.01002196, 0.009890401, 0.009984509, 0.009668241, 0.0099266535, 0.010089872, 0.010023142, 0.009880836, 0.009750326, 0.00989557, 0.010045775, 0.00980824, 0.010287292, 0.010098796, 0.010080596, 0.009877844, 0.00990673, 0.009973528, 0.010005151, 0.010133355, 0.009959924, 0.009956792, 0.0098822415, 0.009990711, 0.009916536, 0.010201222, 0.009822583, 0.009880323, 0.0099708885, 0.009893542, 0.010084851, 0.009782494, 0.009692999, 0.009984853, 0.009872608, 0.009667658, 0.010025291, 0.009810914, 0.010370753, 0.010099208, 0.009810164, 0.009956821, 0.009914941, 0.009690715, 0.009805654, 0.009950967, 0.00992329, 0.0101048965, 0.009811483, 0.010116647, 0.009932891, 0.009654779, 0.010045583, 0.010143004]\n",
      "2022-02-28 14:17:50,629 : INFO : merging changes from 1204 documents into a model of 3204 documents\n",
      "2022-02-28 14:17:50,637 : INFO : topic #89 (0.010): 0.158*\"array\" + 0.091*\"routin\" + 0.080*\"philosophi\" + 0.045*\"design\" + 0.042*\"gener\" + 0.041*\"command\" + 0.040*\"implement\" + 0.038*\"purpos\" + 0.036*\"exampl\" + 0.035*\"dimens\"\n",
      "2022-02-28 14:17:50,639 : INFO : topic #81 (0.010): 0.047*\"complex\" + 0.045*\",\" + 0.035*\"complement\" + 0.034*\"remov\" + 0.029*\"form\" + 0.029*\"-\" + 0.021*\"(\" + 0.020*\"real\" + 0.019*\"manufactur\" + 0.018*\"arithmet\"\n",
      "2022-02-28 14:17:50,640 : INFO : topic #43 (0.010): 0.078*\",\" + 0.031*\"system\" + 0.024*\"data\" + 0.021*\"model\" + 0.021*\"process\" + 0.021*\"-\" + 0.020*\"structur\" + 0.019*\"optim\" + 0.013*\"simul\" + 0.012*\"languag\"\n",
      "2022-02-28 14:17:50,642 : INFO : topic #4 (0.010): 0.078*\",\" + 0.042*\"comput\" + 0.030*\"-\" + 0.024*\"system\" + 0.015*\"program\" + 0.013*\"data\" + 0.012*\"method\" + 0.011*\"user\" + 0.010*\"languag\" + 0.009*\"implement\"\n",
      "2022-02-28 14:17:50,643 : INFO : topic #39 (0.010): 0.107*\",\" + 0.033*\"comput\" + 0.032*\"program\" + 0.022*\"-\" + 0.017*\"system\" + 0.013*\"scienc\" + 0.012*\"cours\" + 0.010*\"approach\" + 0.010*\"(\" + 0.010*\"student\"\n",
      "2022-02-28 14:17:50,644 : INFO : topic diff=0.735838, rho=0.707107\n",
      "2022-02-28 14:17:50,675 : INFO : PROGRESS: pass 1, at document #2000/3204\n",
      "2022-02-28 14:17:51,117 : INFO : optimized alpha [0.00999594, 0.009835414, 0.009683482, 0.009916308, 0.0103803435, 0.01022668, 0.010110704, 0.009891169, 0.0099494355, 0.00974548, 0.009828252, 0.009977122, 0.0097725205, 0.009940337, 0.010108652, 0.009873147, 0.010000634, 0.010031823, 0.010177765, 0.010354209, 0.009888144, 0.010061038, 0.010200374, 0.009924638, 0.009829555, 0.009891784, 0.009973906, 0.010117307, 0.009791411, 0.0098799355, 0.0099654915, 0.009818285, 0.009958383, 0.009832, 0.009879454, 0.009914811, 0.009716747, 0.009786088, 0.009826992, 0.010491016, 0.009793055, 0.0096782325, 0.00993597, 0.010280392, 0.009889376, 0.009963528, 0.009936061, 0.009807379, 0.009938341, 0.00963644, 0.010002601, 0.011082916, 0.00992686, 0.009784871, 0.009727324, 0.009786188, 0.010017159, 0.0097526135, 0.010218037, 0.0100295115, 0.010052499, 0.009828884, 0.010064759, 0.009896302, 0.009903151, 0.010143947, 0.009901939, 0.009877795, 0.009793445, 0.0099210935, 0.009993668, 0.010132874, 0.009785316, 0.0099186255, 0.00989898, 0.009999918, 0.009983807, 0.009803228, 0.009810154, 0.00992894, 0.009866438, 0.009638132, 0.009968892, 0.009740162, 0.010277828, 0.010077273, 0.009796241, 0.009959126, 0.009946568, 0.009691232, 0.009776445, 0.009880682, 0.00994467, 0.01006149, 0.010001295, 0.010076368, 0.0098615745, 0.009599905, 0.0100200195, 0.010097522]\n",
      "2022-02-28 14:17:51,120 : INFO : merging changes from 2000 documents into a model of 3204 documents\n",
      "2022-02-28 14:17:51,126 : INFO : topic #97 (0.010): 0.095*\";\" + 0.057*\",\" + 0.053*\"report\" + 0.035*\"cobol\" + 0.028*\"develop\" + 0.026*\"-\" + 0.025*\"offer\" + 0.024*\":\" + 0.021*\"comput\" + 0.020*\"depart\"\n",
      "2022-02-28 14:17:51,128 : INFO : topic #41 (0.010): 0.092*\"algorithm\" + 0.069*\"quadrat\" + 0.068*\"comment\" + 0.059*\"s22\" + 0.056*\"linear\" + 0.051*\"wave\" + 0.047*\"hash\" + 0.039*\"(\" + 0.035*\"assign\" + 0.032*\"function\"\n",
      "2022-02-28 14:17:51,128 : INFO : topic #19 (0.010): 0.067*\",\" + 0.058*\"languag\" + 0.029*\"program\" + 0.026*\"-\" + 0.021*\"comput\" + 0.015*\"system\" + 0.014*\"design\" + 0.012*\"gener\" + 0.011*\"present\" + 0.010*\"structur\"\n",
      "2022-02-28 14:17:51,129 : INFO : topic #39 (0.010): 0.111*\",\" + 0.041*\"comput\" + 0.034*\"program\" + 0.021*\"-\" + 0.017*\"system\" + 0.012*\"scienc\" + 0.011*\"cours\" + 0.011*\"univers\" + 0.011*\"student\" + 0.010*\"discuss\"\n",
      "2022-02-28 14:17:51,129 : INFO : topic #51 (0.011): 0.236*\"(\" + 0.227*\"algorithm\" + 0.205*\")\" + 0.045*\"[\" + 0.027*\"])\" + 0.025*\"polynomi\" + 0.020*\"function\" + 0.018*\"matrix\" + 0.017*\"complex\" + 0.017*\"integr\"\n",
      "2022-02-28 14:17:51,130 : INFO : topic diff=0.298849, rho=0.526900\n",
      "2022-02-28 14:17:51,677 : INFO : -6.898 per-word bound, 119.2 perplexity estimate based on a held-out corpus of 1204 documents with 49783 words\n",
      "2022-02-28 14:17:51,678 : INFO : PROGRESS: pass 1, at document #3204/3204\n",
      "2022-02-28 14:17:52,068 : INFO : optimized alpha [0.0101151895, 0.009994668, 0.009789298, 0.009952498, 0.010768833, 0.0103286095, 0.0103838295, 0.010015082, 0.010146973, 0.009790156, 0.009912483, 0.010106749, 0.009869237, 0.010111098, 0.010348666, 0.010047034, 0.010016372, 0.010225113, 0.010556047, 0.010669261, 0.009984611, 0.010315139, 0.010380205, 0.010130695, 0.00995441, 0.009997854, 0.010171725, 0.010299712, 0.009849091, 0.009958405, 0.010074327, 0.0099076005, 0.010243299, 0.009871792, 0.010002037, 0.010033592, 0.009754129, 0.009823217, 0.009955172, 0.0106887175, 0.009847361, 0.00978363, 0.010186889, 0.010501119, 0.010021246, 0.010090699, 0.009971752, 0.009879534, 0.010126855, 0.009601899, 0.010241356, 0.011818455, 0.00995974, 0.009835861, 0.009678099, 0.00982401, 0.010273307, 0.009810638, 0.010660346, 0.01022377, 0.010359249, 0.009908262, 0.010284162, 0.010054875, 0.010027569, 0.01056852, 0.009986046, 0.009940885, 0.009950081, 0.0100624105, 0.010169196, 0.010288766, 0.009877816, 0.01002342, 0.00998268, 0.010113704, 0.0100672245, 0.009808118, 0.009798093, 0.009964053, 0.0098840855, 0.009599245, 0.010035495, 0.009751686, 0.010706525, 0.010367476, 0.009897045, 0.010142663, 0.01012493, 0.009727507, 0.009804006, 0.009891315, 0.01007545, 0.010145781, 0.010083229, 0.010374532, 0.010054634, 0.009605099, 0.0102458475, 0.01031528]\n",
      "2022-02-28 14:17:52,071 : INFO : merging changes from 1204 documents into a model of 3204 documents\n",
      "2022-02-28 14:17:52,075 : INFO : topic #97 (0.010): 0.162*\";\" + 0.065*\",\" + 0.062*\"report\" + 0.041*\":\" + 0.038*\"offer\" + 0.033*\"develop\" + 0.025*\"univers\" + 0.024*\"colleg\" + 0.022*\"comput\" + 0.022*\"cobol\"\n",
      "2022-02-28 14:17:52,076 : INFO : topic #81 (0.010): 0.060*\"complex\" + 0.054*\"complement\" + 0.053*\"adapt\" + 0.051*\"form\" + 0.051*\"remov\" + 0.036*\"arithmet\" + 0.035*\",\" + 0.027*\"-\" + 0.024*\"real\" + 0.022*\"invers\"\n",
      "2022-02-28 14:17:52,076 : INFO : topic #84 (0.011): 0.047*\",\" + 0.039*\"bound\" + 0.035*\"log\" + 0.027*\"program\" + 0.022*\"averag\" + 0.019*\"choic\" + 0.017*\"percent\" + 0.017*\"frequenc\" + 0.017*\"number\" + 0.017*\"memori\"\n",
      "2022-02-28 14:17:52,076 : INFO : topic #4 (0.011): 0.085*\",\" + 0.050*\"comput\" + 0.029*\"-\" + 0.025*\"system\" + 0.014*\"user\" + 0.013*\"data\" + 0.013*\"program\" + 0.009*\"high\" + 0.009*\"reconstruct\" + 0.008*\"futur\"\n",
      "2022-02-28 14:17:52,077 : INFO : topic #51 (0.012): 0.258*\"(\" + 0.232*\"algorithm\" + 0.227*\")\" + 0.046*\"[\" + 0.023*\"complex\" + 0.021*\"function\" + 0.017*\"polynomi\" + 0.016*\"matrix\" + 0.013*\"-\" + 0.013*\"$\"\n",
      "2022-02-28 14:17:52,077 : INFO : topic diff=0.412342, rho=0.526900\n",
      "2022-02-28 14:17:52,082 : INFO : PROGRESS: pass 2, at document #2000/3204\n",
      "2022-02-28 14:17:52,498 : INFO : optimized alpha [0.010071683, 0.010023862, 0.0097732665, 0.00988177, 0.010783009, 0.010842295, 0.010350342, 0.009966114, 0.010166918, 0.009804677, 0.009961314, 0.010035075, 0.00978989, 0.010193407, 0.010515344, 0.010088824, 0.010064694, 0.0102149695, 0.010519401, 0.010634446, 0.0099076675, 0.0102777295, 0.010735834, 0.010119527, 0.01006026, 0.009989907, 0.010198493, 0.010204501, 0.00992077, 0.010028178, 0.010080976, 0.009881787, 0.010237587, 0.01002421, 0.009969008, 0.009969989, 0.009684292, 0.009747653, 0.009912155, 0.010675441, 0.009785556, 0.0097656995, 0.010215767, 0.010431293, 0.009967217, 0.0101420805, 0.00989825, 0.009817039, 0.0101155145, 0.009659501, 0.010360246, 0.012911643, 0.00988891, 0.009769603, 0.009678518, 0.009744087, 0.010269671, 0.009774382, 0.010580081, 0.010175908, 0.010372872, 0.009868183, 0.010490891, 0.01000975, 0.0099593345, 0.010658417, 0.009947249, 0.009870306, 0.009897008, 0.010017289, 0.010287194, 0.010235106, 0.0099054985, 0.010082944, 0.009931903, 0.010258314, 0.009984207, 0.009896661, 0.009939548, 0.009932933, 0.009853678, 0.009582206, 0.010010366, 0.009726016, 0.010628172, 0.010389067, 0.009905838, 0.01017944, 0.010156595, 0.009772038, 0.0097888345, 0.0098478375, 0.010108079, 0.010124864, 0.010338536, 0.010328228, 0.01003552, 0.009633516, 0.010238425, 0.010295452]\n",
      "2022-02-28 14:17:52,500 : INFO : merging changes from 2000 documents into a model of 3204 documents\n",
      "2022-02-28 14:17:52,503 : INFO : topic #81 (0.010): 0.060*\"complex\" + 0.052*\"form\" + 0.048*\"adapt\" + 0.046*\"arithmet\" + 0.037*\"remov\" + 0.036*\",\" + 0.036*\"complement\" + 0.030*\"real\" + 0.026*\"invers\" + 0.024*\"\"\"\n",
      "2022-02-28 14:17:52,504 : INFO : topic #54 (0.010): 0.056*\"-\" + 0.054*\"system\" + 0.037*\"eigenvalu\" + 0.036*\"iter\" + 0.029*\"tape\" + 0.028*\"eigenvector\" + 0.027*\"overlap\" + 0.026*\"administr\" + 0.023*\"base\" + 0.023*\"process\"\n",
      "2022-02-28 14:17:52,504 : INFO : topic #4 (0.011): 0.085*\",\" + 0.055*\"comput\" + 0.031*\"-\" + 0.025*\"system\" + 0.014*\"user\" + 0.013*\"program\" + 0.013*\"data\" + 0.011*\"process\" + 0.009*\"futur\" + 0.008*\"govern\"\n",
      "2022-02-28 14:17:52,505 : INFO : topic #5 (0.011): 0.195*\"algorithm\" + 0.170*\"[\" + 0.164*\"(\" + 0.138*\"])\" + 0.032*\")\" + 0.020*\"-\" + 0.019*\"'\" + 0.019*\"integr\" + 0.018*\"path\" + 0.018*\"linear\"\n",
      "2022-02-28 14:17:52,505 : INFO : topic #51 (0.013): 0.274*\"(\" + 0.249*\")\" + 0.235*\"algorithm\" + 0.030*\"[\" + 0.020*\"function\" + 0.019*\"polynomi\" + 0.018*\"complex\" + 0.014*\"matrix\" + 0.013*\"integr\" + 0.012*\"squar\"\n",
      "2022-02-28 14:17:52,505 : INFO : topic diff=0.386878, rho=0.466151\n",
      "2022-02-28 14:17:53,082 : INFO : -6.781 per-word bound, 110.0 perplexity estimate based on a held-out corpus of 1204 documents with 49783 words\n",
      "2022-02-28 14:17:53,087 : INFO : PROGRESS: pass 2, at document #3204/3204\n",
      "2022-02-28 14:17:53,547 : INFO : optimized alpha [0.010177912, 0.010173249, 0.009909788, 0.009923413, 0.011155508, 0.010923565, 0.010611479, 0.010080451, 0.010378812, 0.009875353, 0.010090318, 0.0101710195, 0.009914885, 0.010368781, 0.010758976, 0.010263491, 0.010079042, 0.010403069, 0.010893824, 0.010871096, 0.0099979425, 0.010517509, 0.010936856, 0.01035894, 0.010238351, 0.010108003, 0.010406753, 0.010350754, 0.010022, 0.010113479, 0.010185779, 0.010004222, 0.010509734, 0.010081714, 0.010086033, 0.010099214, 0.009753329, 0.009812855, 0.010057477, 0.0108042555, 0.009850177, 0.0099438885, 0.010480861, 0.0105824815, 0.010088837, 0.0102986, 0.009958832, 0.009924493, 0.010323087, 0.009709638, 0.010622399, 0.013822614, 0.009923799, 0.009839395, 0.009656322, 0.00980995, 0.01050709, 0.00983107, 0.010979663, 0.010361251, 0.010661169, 0.009955001, 0.0107158655, 0.010182546, 0.010062547, 0.011141915, 0.010034034, 0.009923762, 0.0100908335, 0.010178324, 0.010495531, 0.010357503, 0.010061232, 0.010187582, 0.010002957, 0.010354144, 0.010066771, 0.0099509, 0.00996304, 0.00998481, 0.009893759, 0.0095950365, 0.010073814, 0.009749298, 0.010998932, 0.010657997, 0.01001891, 0.010402938, 0.01035922, 0.009838679, 0.00983733, 0.009870866, 0.010287962, 0.010212164, 0.010425003, 0.010627696, 0.010250725, 0.009751734, 0.010468717, 0.010518278]\n",
      "2022-02-28 14:17:53,551 : INFO : merging changes from 1204 documents into a model of 3204 documents\n",
      "2022-02-28 14:17:53,556 : INFO : topic #54 (0.010): 0.053*\"-\" + 0.052*\"eigenvalu\" + 0.050*\"system\" + 0.039*\"overlap\" + 0.039*\"administr\" + 0.035*\"iter\" + 0.026*\"base\" + 0.024*\"eigenvector\" + 0.023*\"real\" + 0.023*\"parallel\"\n",
      "2022-02-28 14:17:53,558 : INFO : topic #81 (0.010): 0.079*\"complex\" + 0.076*\"adapt\" + 0.068*\"remov\" + 0.064*\"form\" + 0.058*\"complement\" + 0.047*\"arithmet\" + 0.029*\"multipl\" + 0.027*\",\" + 0.026*\"real\" + 0.022*\"-\"\n",
      "2022-02-28 14:17:53,561 : INFO : topic #4 (0.011): 0.090*\",\" + 0.057*\"comput\" + 0.029*\"-\" + 0.025*\"system\" + 0.017*\"user\" + 0.013*\"data\" + 0.011*\"program\" + 0.010*\"futur\" + 0.010*\"research\" + 0.010*\"process\"\n",
      "2022-02-28 14:17:53,564 : INFO : topic #65 (0.011): 0.228*\"problem\" + 0.060*\"solut\" + 0.039*\",\" + 0.031*\"map\" + 0.030*\"contour\" + 0.029*\"method\" + 0.029*\"techniqu\" + 0.029*\"solv\" + 0.027*\"properti\" + 0.017*\"attribut\"\n",
      "2022-02-28 14:17:53,565 : INFO : topic #51 (0.014): 0.288*\"(\" + 0.258*\")\" + 0.232*\"algorithm\" + 0.035*\"[\" + 0.021*\"complex\" + 0.020*\"function\" + 0.014*\"polynomi\" + 0.014*\"matrix\" + 0.012*\"-\" + 0.009*\"squar\"\n",
      "2022-02-28 14:17:53,565 : INFO : topic diff=0.521841, rho=0.466151\n",
      "2022-02-28 14:17:53,576 : INFO : PROGRESS: pass 3, at document #2000/3204\n",
      "2022-02-28 14:17:54,062 : INFO : optimized alpha [0.01016049, 0.01021651, 0.009920148, 0.009856918, 0.011186788, 0.0114728855, 0.010610928, 0.010049231, 0.010415449, 0.00989506, 0.0101388795, 0.010127876, 0.009847669, 0.010463233, 0.010941857, 0.010305183, 0.010153902, 0.010403888, 0.010882139, 0.010847022, 0.009931428, 0.010497573, 0.011312834, 0.010371258, 0.0103854025, 0.010122336, 0.010445506, 0.010264736, 0.010112737, 0.010192044, 0.010204796, 0.010006346, 0.010529346, 0.010253749, 0.01006051, 0.010052523, 0.009703796, 0.009756386, 0.010031106, 0.01079197, 0.009812124, 0.00995209, 0.010536487, 0.010500815, 0.010040057, 0.010377741, 0.009898091, 0.009870549, 0.0103423, 0.009826636, 0.010777541, 0.015037735, 0.00987451, 0.009786985, 0.00967264, 0.00976625, 0.010513296, 0.009826382, 0.01091337, 0.0103259515, 0.010696429, 0.009942661, 0.010927513, 0.010153897, 0.010024887, 0.011290654, 0.010014328, 0.009876279, 0.010067422, 0.010158461, 0.010658821, 0.010320012, 0.010128544, 0.010248163, 0.009977109, 0.010495552, 0.009994956, 0.010111854, 0.010094837, 0.009974727, 0.009882055, 0.009599211, 0.010060517, 0.0097471075, 0.010923431, 0.010684935, 0.0100375395, 0.010457416, 0.010391288, 0.009908731, 0.009832823, 0.009867061, 0.010338934, 0.010209129, 0.010679005, 0.010603051, 0.01025162, 0.009841609, 0.010469159, 0.010516903]\n",
      "2022-02-28 14:17:54,066 : INFO : merging changes from 2000 documents into a model of 3204 documents\n",
      "2022-02-28 14:17:54,070 : INFO : topic #81 (0.010): 0.079*\"complex\" + 0.066*\"adapt\" + 0.061*\"form\" + 0.058*\"arithmet\" + 0.052*\"remov\" + 0.044*\"complement\" + 0.036*\"multipl\" + 0.032*\"real\" + 0.028*\",\" + 0.024*\"divis\"\n",
      "2022-02-28 14:17:54,072 : INFO : topic #54 (0.010): 0.053*\"-\" + 0.053*\"eigenvalu\" + 0.052*\"iter\" + 0.049*\"system\" + 0.035*\"overlap\" + 0.030*\"eigenvector\" + 0.030*\"administr\" + 0.029*\"tape\" + 0.027*\"process\" + 0.024*\"parallel\"\n",
      "2022-02-28 14:17:54,072 : INFO : topic #22 (0.011): 0.257*\"languag\" + 0.103*\"algol\" + 0.062*\"program\" + 0.055*\"translat\" + 0.053*\"60\" + 0.045*\"machin\" + 0.040*\"-\" + 0.040*\",\" + 0.025*\"base\" + 0.018*\"induct\"\n",
      "2022-02-28 14:17:54,072 : INFO : topic #5 (0.011): 0.197*\"algorithm\" + 0.187*\"[\" + 0.165*\"(\" + 0.150*\"])\" + 0.026*\")\" + 0.022*\"function\" + 0.019*\"'\" + 0.019*\"path\" + 0.019*\"integr\" + 0.018*\"-\"\n",
      "2022-02-28 14:17:54,073 : INFO : topic #51 (0.015): 0.301*\"(\" + 0.278*\")\" + 0.234*\"algorithm\" + 0.022*\"[\" + 0.020*\"function\" + 0.018*\"complex\" + 0.016*\"polynomi\" + 0.012*\"matrix\" + 0.011*\"squar\" + 0.011*\"-\"\n",
      "2022-02-28 14:17:54,074 : INFO : topic diff=0.530388, rho=0.422502\n",
      "2022-02-28 14:17:54,572 : INFO : -6.700 per-word bound, 104.0 perplexity estimate based on a held-out corpus of 1204 documents with 49783 words\n",
      "2022-02-28 14:17:54,573 : INFO : PROGRESS: pass 3, at document #3204/3204\n",
      "2022-02-28 14:17:55,067 : INFO : optimized alpha [0.010257555, 0.010385274, 0.010069573, 0.009889217, 0.011547926, 0.011561199, 0.010850978, 0.010160972, 0.01063189, 0.009973404, 0.010274465, 0.010270168, 0.009969096, 0.0106230695, 0.01114657, 0.010475737, 0.010181385, 0.010601583, 0.011209288, 0.011099136, 0.010028384, 0.010732479, 0.0115124555, 0.010598225, 0.010603979, 0.010251585, 0.01065482, 0.010398441, 0.010222485, 0.010287569, 0.010293127, 0.010146308, 0.010768936, 0.010326669, 0.010171026, 0.010177851, 0.009801977, 0.009844333, 0.010171186, 0.010901182, 0.009885801, 0.01014715, 0.010799516, 0.010623762, 0.01017267, 0.010546362, 0.009950695, 0.009979809, 0.010547324, 0.009938099, 0.011061011, 0.016149543, 0.009928783, 0.009851284, 0.0096642, 0.009833944, 0.010742069, 0.009934436, 0.011282386, 0.010510273, 0.011022679, 0.010032859, 0.011149604, 0.010333479, 0.010129834, 0.011838082, 0.010097395, 0.009943543, 0.010259173, 0.010327186, 0.010842137, 0.010438937, 0.010317445, 0.010372292, 0.0100460015, 0.010589229, 0.010070902, 0.0101991985, 0.010126322, 0.010068566, 0.0099476185, 0.009649209, 0.010118972, 0.009797003, 0.011253505, 0.010936186, 0.010165742, 0.010692529, 0.01057711, 0.009986657, 0.009881227, 0.009889119, 0.010551282, 0.010303723, 0.010774604, 0.010863465, 0.010466855, 0.009980821, 0.010710226, 0.010747508]\n",
      "2022-02-28 14:17:55,073 : INFO : merging changes from 1204 documents into a model of 3204 documents\n",
      "2022-02-28 14:17:55,079 : INFO : topic #81 (0.010): 0.096*\"complex\" + 0.092*\"adapt\" + 0.072*\"remov\" + 0.068*\"form\" + 0.058*\"complement\" + 0.054*\"arithmet\" + 0.041*\"multipl\" + 0.028*\"divis\" + 0.026*\"real\" + 0.021*\",\"\n",
      "2022-02-28 14:17:55,080 : INFO : topic #54 (0.010): 0.067*\"eigenvalu\" + 0.051*\"-\" + 0.047*\"iter\" + 0.045*\"system\" + 0.043*\"overlap\" + 0.041*\"administr\" + 0.026*\"real\" + 0.026*\"eigenvector\" + 0.026*\"process\" + 0.025*\"parallel\"\n",
      "2022-02-28 14:17:55,080 : INFO : topic #5 (0.012): 0.208*\"algorithm\" + 0.197*\"[\" + 0.155*\"(\" + 0.114*\"])\" + 0.033*\")\" + 0.028*\"path\" + 0.022*\"'\" + 0.022*\"function\" + 0.019*\"integr\" + 0.017*\"-\"\n",
      "2022-02-28 14:17:55,081 : INFO : topic #65 (0.012): 0.258*\"problem\" + 0.067*\"solut\" + 0.038*\",\" + 0.033*\"solv\" + 0.029*\"techniqu\" + 0.028*\"map\" + 0.027*\"contour\" + 0.026*\"properti\" + 0.026*\"method\" + 0.016*\"program\"\n",
      "2022-02-28 14:17:55,082 : INFO : topic #51 (0.016): 0.309*\"(\" + 0.283*\")\" + 0.230*\"algorithm\" + 0.027*\"[\" + 0.020*\"complex\" + 0.020*\"function\" + 0.012*\"polynomi\" + 0.012*\"-\" + 0.011*\"matrix\" + 0.009*\"squar\"\n",
      "2022-02-28 14:17:55,082 : INFO : topic diff=0.649228, rho=0.422502\n",
      "2022-02-28 14:17:55,090 : INFO : PROGRESS: pass 4, at document #2000/3204\n",
      "2022-02-28 14:17:55,529 : INFO : optimized alpha [0.010255739, 0.010430965, 0.010092497, 0.009841514, 0.011594764, 0.012092677, 0.010849055, 0.010140282, 0.010673027, 0.010003473, 0.010310902, 0.010250489, 0.009911378, 0.01071052, 0.0113220895, 0.010519779, 0.01028703, 0.010615679, 0.011204635, 0.011088328, 0.009965808, 0.01072511, 0.0118917, 0.010629102, 0.010776944, 0.0102786925, 0.010693868, 0.010317445, 0.010314585, 0.010356341, 0.010314813, 0.010159648, 0.010802594, 0.010509687, 0.010155518, 0.010136922, 0.009772105, 0.009796925, 0.0101625165, 0.010896393, 0.009862931, 0.010165681, 0.0108687, 0.010551168, 0.010125673, 0.010637908, 0.009894098, 0.00993243, 0.010574319, 0.01006853, 0.011208013, 0.017523829, 0.009892383, 0.009815645, 0.009689704, 0.009811996, 0.010761043, 0.009947742, 0.011232518, 0.010483008, 0.011066401, 0.010025805, 0.011357181, 0.010314323, 0.010105236, 0.01201581, 0.010093516, 0.009910469, 0.0102487095, 0.0103325, 0.011003222, 0.010402278, 0.010399507, 0.010428079, 0.010038513, 0.010725069, 0.010015822, 0.010395649, 0.010245195, 0.010087149, 0.009949139, 0.009672441, 0.010103432, 0.009821737, 0.011184984, 0.010961796, 0.010212686, 0.010760815, 0.010612143, 0.010061438, 0.009889475, 0.009919742, 0.010622403, 0.01031738, 0.011036677, 0.0108451415, 0.01047672, 0.010079963, 0.010727919, 0.010768265]\n",
      "2022-02-28 14:17:55,532 : INFO : merging changes from 2000 documents into a model of 3204 documents\n",
      "2022-02-28 14:17:55,535 : INFO : topic #54 (0.010): 0.064*\"eigenvalu\" + 0.063*\"iter\" + 0.051*\"-\" + 0.044*\"system\" + 0.039*\"overlap\" + 0.033*\"administr\" + 0.032*\"eigenvector\" + 0.032*\"process\" + 0.029*\"tape\" + 0.028*\"parallel\"\n",
      "2022-02-28 14:17:55,536 : INFO : topic #81 (0.010): 0.095*\"complex\" + 0.078*\"adapt\" + 0.065*\"form\" + 0.062*\"arithmet\" + 0.058*\"remov\" + 0.052*\"multipl\" + 0.046*\"complement\" + 0.036*\"divis\" + 0.032*\"real\" + 0.021*\",\"\n",
      "2022-02-28 14:17:55,536 : INFO : topic #65 (0.012): 0.262*\"problem\" + 0.070*\"solut\" + 0.037*\",\" + 0.034*\"solv\" + 0.030*\"techniqu\" + 0.027*\"map\" + 0.025*\"method\" + 0.025*\"contour\" + 0.024*\"properti\" + 0.017*\"program\"\n",
      "2022-02-28 14:17:55,537 : INFO : topic #5 (0.012): 0.202*\"[\" + 0.200*\"algorithm\" + 0.168*\"(\" + 0.156*\"])\" + 0.024*\"function\" + 0.020*\")\" + 0.019*\"path\" + 0.018*\"-\" + 0.018*\"'\" + 0.017*\"integr\"\n",
      "2022-02-28 14:17:55,539 : INFO : topic #51 (0.018): 0.318*\"(\" + 0.298*\")\" + 0.230*\"algorithm\" + 0.020*\"function\" + 0.017*\"[\" + 0.017*\"complex\" + 0.012*\"polynomi\" + 0.010*\"-\" + 0.010*\"squar\" + 0.010*\"matrix\"\n",
      "2022-02-28 14:17:55,539 : INFO : topic diff=0.627262, rho=0.389191\n",
      "2022-02-28 14:17:56,032 : INFO : -6.646 per-word bound, 100.1 perplexity estimate based on a held-out corpus of 1204 documents with 49783 words\n",
      "2022-02-28 14:17:56,032 : INFO : PROGRESS: pass 4, at document #3204/3204\n",
      "2022-02-28 14:17:56,359 : INFO : optimized alpha [0.010346151, 0.010598304, 0.010251184, 0.009872646, 0.011935068, 0.0122436825, 0.0110729495, 0.010240875, 0.010895835, 0.010079405, 0.010460454, 0.010396173, 0.010040506, 0.010848525, 0.011508854, 0.010709257, 0.010342018, 0.010803169, 0.011529887, 0.011353162, 0.010059542, 0.010961839, 0.012077289, 0.01085485, 0.011020494, 0.010388568, 0.010941189, 0.010455654, 0.010419585, 0.010451634, 0.010406859, 0.010306211, 0.011030209, 0.010582935, 0.010248312, 0.010256758, 0.009895476, 0.00987906, 0.010282676, 0.010997745, 0.009951145, 0.010387211, 0.011175317, 0.010640995, 0.01025237, 0.010801749, 0.00994061, 0.010050657, 0.010772311, 0.010233978, 0.011477873, 0.018864755, 0.009956633, 0.009882425, 0.009689217, 0.009897747, 0.010988473, 0.010071245, 0.011575065, 0.010664849, 0.011384343, 0.010119704, 0.01157581, 0.01048482, 0.0101995915, 0.012574071, 0.0101642525, 0.009996344, 0.010457417, 0.010492905, 0.011205867, 0.010519702, 0.010599416, 0.010539863, 0.010109251, 0.0108076325, 0.010100018, 0.010512887, 0.010321043, 0.0102007715, 0.010013765, 0.009753811, 0.010178144, 0.009881152, 0.011490256, 0.011193072, 0.010365048, 0.011008718, 0.010815968, 0.010146593, 0.009950969, 0.009976627, 0.010848626, 0.01043942, 0.011134263, 0.011077621, 0.010674094, 0.010232304, 0.010984646, 0.011005006]\n",
      "2022-02-28 14:17:56,362 : INFO : merging changes from 1204 documents into a model of 3204 documents\n",
      "2022-02-28 14:17:56,365 : INFO : topic #54 (0.010): 0.075*\"eigenvalu\" + 0.058*\"iter\" + 0.049*\"-\" + 0.047*\"overlap\" + 0.042*\"administr\" + 0.040*\"system\" + 0.030*\"real\" + 0.030*\"process\" + 0.029*\"parallel\" + 0.028*\"advanc\"\n",
      "2022-02-28 14:17:56,365 : INFO : topic #81 (0.010): 0.111*\"complex\" + 0.095*\"adapt\" + 0.072*\"remov\" + 0.068*\"form\" + 0.062*\"multipl\" + 0.055*\"complement\" + 0.052*\"arithmet\" + 0.039*\"divis\" + 0.027*\"algorithm\" + 0.027*\"real\"\n",
      "2022-02-28 14:17:56,366 : INFO : topic #5 (0.012): 0.226*\"[\" + 0.205*\"algorithm\" + 0.158*\"(\" + 0.123*\"])\" + 0.026*\"path\" + 0.024*\"function\" + 0.023*\")\" + 0.019*\"'\" + 0.017*\"s14\" + 0.017*\"-\"\n",
      "2022-02-28 14:17:56,366 : INFO : topic #65 (0.013): 0.279*\"problem\" + 0.071*\"solut\" + 0.037*\",\" + 0.036*\"solv\" + 0.028*\"techniqu\" + 0.027*\"map\" + 0.026*\"properti\" + 0.026*\"contour\" + 0.024*\"method\" + 0.016*\"program\"\n",
      "2022-02-28 14:17:56,367 : INFO : topic #51 (0.019): 0.328*\"(\" + 0.306*\")\" + 0.224*\"algorithm\" + 0.019*\"function\" + 0.018*\"complex\" + 0.017*\"[\" + 0.011*\"-\" + 0.010*\"polynomi\" + 0.009*\"matrix\" + 0.008*\"squar\"\n",
      "2022-02-28 14:17:56,367 : INFO : topic diff=0.695098, rho=0.389191\n",
      "2022-02-28 14:17:56,372 : INFO : PROGRESS: pass 5, at document #2000/3204\n",
      "2022-02-28 14:17:56,756 : INFO : optimized alpha [0.010350416, 0.010644707, 0.010285316, 0.009837013, 0.011972683, 0.01274135, 0.011078224, 0.010223731, 0.010949361, 0.010120602, 0.010505764, 0.010385184, 0.009997803, 0.010942417, 0.011672925, 0.010748061, 0.010456638, 0.010815549, 0.011535843, 0.011358191, 0.010003741, 0.010963576, 0.012455966, 0.010882876, 0.011207208, 0.010415787, 0.010988588, 0.01037851, 0.01050426, 0.010512297, 0.010425444, 0.010325968, 0.011074916, 0.010748561, 0.010232355, 0.010233778, 0.009873084, 0.009839153, 0.010278428, 0.011001659, 0.009941127, 0.010411167, 0.011261614, 0.01057042, 0.010218063, 0.010901574, 0.009892833, 0.010008547, 0.010804658, 0.0103721125, 0.011626975, 0.020442037, 0.009929125, 0.009858983, 0.009719267, 0.009888533, 0.011011068, 0.0100946985, 0.0115296235, 0.010640679, 0.011438275, 0.010120729, 0.011768951, 0.010473948, 0.010195646, 0.012783656, 0.010166802, 0.009982443, 0.010465735, 0.010514657, 0.011382581, 0.010493393, 0.010681969, 0.010592094, 0.010104707, 0.01093769, 0.010054967, 0.010718844, 0.0104765585, 0.010244284, 0.010032233, 0.00978648, 0.010175445, 0.009904845, 0.011415365, 0.011211974, 0.010429737, 0.011085906, 0.010855923, 0.01021696, 0.009953707, 0.010020526, 0.010942691, 0.010469492, 0.011403971, 0.011059132, 0.010684467, 0.010336848, 0.010999894, 0.011037659]\n",
      "2022-02-28 14:17:56,758 : INFO : merging changes from 2000 documents into a model of 3204 documents\n",
      "2022-02-28 14:17:56,762 : INFO : topic #54 (0.010): 0.075*\"iter\" + 0.071*\"eigenvalu\" + 0.048*\"-\" + 0.043*\"overlap\" + 0.038*\"system\" + 0.035*\"process\" + 0.035*\"administr\" + 0.033*\"eigenvector\" + 0.032*\"parallel\" + 0.031*\"real\"\n",
      "2022-02-28 14:17:56,762 : INFO : topic #81 (0.010): 0.113*\"complex\" + 0.083*\"adapt\" + 0.078*\"multipl\" + 0.062*\"form\" + 0.061*\"remov\" + 0.057*\"arithmet\" + 0.045*\"complement\" + 0.044*\"divis\" + 0.031*\"real\" + 0.025*\"algorithm\"\n",
      "2022-02-28 14:17:56,762 : INFO : topic #5 (0.013): 0.222*\"[\" + 0.200*\"algorithm\" + 0.170*\"(\" + 0.162*\"])\" + 0.026*\"function\" + 0.018*\"-\" + 0.018*\"path\" + 0.017*\"s14\" + 0.014*\")\" + 0.014*\"integr\"\n",
      "2022-02-28 14:17:56,763 : INFO : topic #65 (0.013): 0.283*\"problem\" + 0.073*\"solut\" + 0.037*\"solv\" + 0.036*\",\" + 0.030*\"techniqu\" + 0.026*\"map\" + 0.024*\"contour\" + 0.024*\"properti\" + 0.023*\"method\" + 0.016*\"program\"\n",
      "2022-02-28 14:17:56,763 : INFO : topic #51 (0.020): 0.334*\"(\" + 0.314*\")\" + 0.224*\"algorithm\" + 0.019*\"function\" + 0.016*\"complex\" + 0.012*\"[\" + 0.010*\"-\" + 0.010*\"polynomi\" + 0.009*\"squar\" + 0.007*\"matrix\"\n",
      "2022-02-28 14:17:56,764 : INFO : topic diff=0.633745, rho=0.362690\n",
      "2022-02-28 14:17:57,208 : INFO : -6.603 per-word bound, 97.2 perplexity estimate based on a held-out corpus of 1204 documents with 49783 words\n",
      "2022-02-28 14:17:57,209 : INFO : PROGRESS: pass 5, at document #3204/3204\n",
      "2022-02-28 14:17:57,525 : INFO : optimized alpha [0.0104387235, 0.010802276, 0.010437867, 0.009888284, 0.012288791, 0.01290004, 0.011292941, 0.010327681, 0.011159915, 0.010191865, 0.010646517, 0.010522317, 0.010137581, 0.011078563, 0.011837964, 0.010962413, 0.010532911, 0.010995424, 0.011844557, 0.011612418, 0.010089186, 0.011193996, 0.012618509, 0.011092498, 0.011465935, 0.010509453, 0.011215971, 0.010508587, 0.010621673, 0.010591964, 0.010499201, 0.010482745, 0.011290014, 0.010809976, 0.010316547, 0.010346417, 0.010010077, 0.009934744, 0.010378908, 0.011103668, 0.010042278, 0.010624018, 0.011570514, 0.0106489, 0.010340406, 0.01105925, 0.00995244, 0.0101260645, 0.010997954, 0.010562881, 0.011893659, 0.02199603, 0.010011343, 0.009922191, 0.0097225625, 0.00997532, 0.011232372, 0.010220255, 0.011864671, 0.010815041, 0.0117545435, 0.010227578, 0.011979114, 0.010634507, 0.010284326, 0.0133658, 0.010233486, 0.010072615, 0.010675452, 0.01067195, 0.011601582, 0.010616617, 0.010896603, 0.010700335, 0.010171507, 0.011021105, 0.010140529, 0.010847906, 0.010614252, 0.010376093, 0.010099353, 0.009898599, 0.01025834, 0.009966922, 0.011700298, 0.011433795, 0.010570145, 0.011347691, 0.011064782, 0.010299868, 0.010023903, 0.0100681, 0.0111736385, 0.010590594, 0.011507725, 0.0112750195, 0.01088353, 0.010499131, 0.011273138, 0.011268424]\n",
      "2022-02-28 14:17:57,528 : INFO : merging changes from 1204 documents into a model of 3204 documents\n",
      "2022-02-28 14:17:57,531 : INFO : topic #54 (0.010): 0.080*\"eigenvalu\" + 0.068*\"iter\" + 0.050*\"overlap\" + 0.047*\"-\" + 0.043*\"administr\" + 0.037*\"parallel\" + 0.034*\"system\" + 0.034*\"real\" + 0.032*\"process\" + 0.030*\"advanc\"\n",
      "2022-02-28 14:17:57,532 : INFO : topic #3 (0.010): 0.085*\",\" + 0.049*\"-\" + 0.046*\"(\" + 0.037*\")\" + 0.034*\"machin\" + 0.027*\"cell\" + 0.019*\"\"\" + 0.019*\"link\" + 0.018*\"memori\" + 0.018*\"5\"\n",
      "2022-02-28 14:17:57,532 : INFO : topic #5 (0.013): 0.251*\"[\" + 0.203*\"algorithm\" + 0.162*\"(\" + 0.130*\"])\" + 0.026*\"function\" + 0.023*\"path\" + 0.017*\"-\" + 0.017*\"s14\" + 0.015*\"'\" + 0.015*\")\"\n",
      "2022-02-28 14:17:57,533 : INFO : topic #65 (0.013): 0.296*\"problem\" + 0.075*\"solut\" + 0.039*\"solv\" + 0.035*\",\" + 0.027*\"techniqu\" + 0.025*\"properti\" + 0.025*\"map\" + 0.025*\"contour\" + 0.021*\"method\" + 0.016*\"present\"\n",
      "2022-02-28 14:17:57,533 : INFO : topic #51 (0.022): 0.343*\"(\" + 0.322*\")\" + 0.216*\"algorithm\" + 0.018*\"function\" + 0.017*\"complex\" + 0.011*\"[\" + 0.010*\"-\" + 0.008*\"polynomi\" + 0.008*\"squar\" + 0.007*\"modifi\"\n",
      "2022-02-28 14:17:57,533 : INFO : topic diff=0.661065, rho=0.362690\n",
      "2022-02-28 14:17:57,543 : INFO : PROGRESS: pass 6, at document #2000/3204\n",
      "2022-02-28 14:17:57,950 : INFO : optimized alpha [0.010444946, 0.010847809, 0.010477109, 0.009865952, 0.012326946, 0.013384777, 0.011298874, 0.010317145, 0.01120995, 0.010238115, 0.0106836865, 0.010513715, 0.010102488, 0.011178971, 0.011994251, 0.011005839, 0.0106545575, 0.011014125, 0.0118647, 0.011621881, 0.0100374855, 0.011196538, 0.012988035, 0.011120164, 0.011670735, 0.01053721, 0.011273478, 0.010436435, 0.010703783, 0.010642156, 0.010520674, 0.010502825, 0.011337538, 0.010973466, 0.010303774, 0.0103249755, 0.010000822, 0.009899344, 0.010375183, 0.011117309, 0.010036465, 0.010656789, 0.011661433, 0.0105873635, 0.010317134, 0.011163412, 0.009911952, 0.0100900885, 0.011024098, 0.010712827, 0.012049785, 0.023750287, 0.009994652, 0.009907648, 0.009758327, 0.009968687, 0.011264339, 0.010261712, 0.011816921, 0.010797362, 0.011814317, 0.010228716, 0.012170038, 0.010629363, 0.010284488, 0.01359231, 0.010238154, 0.010063386, 0.01068615, 0.010686673, 0.011776511, 0.0105991615, 0.010981946, 0.010755194, 0.01017115, 0.011142954, 0.010102256, 0.011082566, 0.010813732, 0.010427851, 0.01011902, 0.00994808, 0.010254461, 0.009991402, 0.01163577, 0.011446834, 0.01064403, 0.011443369, 0.01110375, 0.010370194, 0.010026924, 0.010123912, 0.011281771, 0.010633784, 0.011778702, 0.011256535, 0.010899949, 0.010609329, 0.011305414, 0.011316036]\n",
      "2022-02-28 14:17:57,953 : INFO : merging changes from 2000 documents into a model of 3204 documents\n",
      "2022-02-28 14:17:57,956 : INFO : topic #54 (0.010): 0.087*\"iter\" + 0.076*\"eigenvalu\" + 0.046*\"overlap\" + 0.044*\"-\" + 0.041*\"parallel\" + 0.037*\"process\" + 0.036*\"administr\" + 0.035*\"real\" + 0.034*\"eigenvector\" + 0.031*\"system\"\n",
      "2022-02-28 14:17:57,956 : INFO : topic #3 (0.010): 0.083*\",\" + 0.054*\"-\" + 0.046*\"(\" + 0.037*\"machin\" + 0.035*\")\" + 0.022*\"cell\" + 0.020*\"memori\" + 0.018*\"link\" + 0.018*\"\"\" + 0.018*\"2\"\n",
      "2022-02-28 14:17:57,957 : INFO : topic #5 (0.013): 0.237*\"[\" + 0.201*\"algorithm\" + 0.174*\"(\" + 0.165*\"])\" + 0.027*\"function\" + 0.019*\"-\" + 0.017*\"s14\" + 0.016*\"path\" + 0.013*\"s15\" + 0.011*\"normal\"\n",
      "2022-02-28 14:17:57,957 : INFO : topic #65 (0.014): 0.299*\"problem\" + 0.076*\"solut\" + 0.039*\"solv\" + 0.035*\",\" + 0.029*\"techniqu\" + 0.025*\"map\" + 0.024*\"contour\" + 0.023*\"properti\" + 0.020*\"method\" + 0.017*\"present\"\n",
      "2022-02-28 14:17:57,958 : INFO : topic #51 (0.024): 0.346*\"(\" + 0.328*\")\" + 0.217*\"algorithm\" + 0.018*\"function\" + 0.014*\"complex\" + 0.010*\"-\" + 0.009*\"polynomi\" + 0.008*\"squar\" + 0.008*\"[\" + 0.006*\"modifi\"\n",
      "2022-02-28 14:17:57,959 : INFO : topic diff=0.585026, rho=0.340958\n",
      "2022-02-28 14:17:58,389 : INFO : -6.570 per-word bound, 95.0 perplexity estimate based on a held-out corpus of 1204 documents with 49783 words\n",
      "2022-02-28 14:17:58,389 : INFO : PROGRESS: pass 6, at document #3204/3204\n",
      "2022-02-28 14:17:58,690 : INFO : optimized alpha [0.010522807, 0.010988071, 0.010636965, 0.009912302, 0.012647267, 0.013555487, 0.011503118, 0.0104217725, 0.011413791, 0.010311405, 0.010829533, 0.010661992, 0.010255292, 0.01131108, 0.012161085, 0.0112289945, 0.010729352, 0.011191391, 0.012156707, 0.011874364, 0.010127427, 0.011432052, 0.013163181, 0.01130716, 0.011939445, 0.0106260935, 0.011506161, 0.010553945, 0.01081192, 0.010723671, 0.010593582, 0.010660726, 0.011568333, 0.01103701, 0.010380755, 0.01042896, 0.010145113, 0.009990259, 0.010467602, 0.011220469, 0.010138248, 0.010874928, 0.011974816, 0.010656184, 0.010439206, 0.011319591, 0.009985989, 0.010216253, 0.011208042, 0.010898206, 0.012322166, 0.025408303, 0.010084438, 0.009973507, 0.009762151, 0.01006555, 0.011484762, 0.010404484, 0.012133602, 0.010963034, 0.012114339, 0.010347704, 0.012383944, 0.010790969, 0.010368714, 0.014174777, 0.010304612, 0.010154888, 0.010898164, 0.010845143, 0.011998822, 0.010734247, 0.011186826, 0.0108638555, 0.01024058, 0.011214983, 0.010189455, 0.011213954, 0.01099396, 0.010570738, 0.010185774, 0.010068664, 0.010347913, 0.010058975, 0.011917281, 0.011661301, 0.0107802395, 0.011723415, 0.0113027925, 0.010454556, 0.010093732, 0.010165986, 0.011518772, 0.010761051, 0.011905686, 0.011474547, 0.011092598, 0.010763744, 0.011602555, 0.011559007]\n",
      "2022-02-28 14:17:58,692 : INFO : merging changes from 1204 documents into a model of 3204 documents\n",
      "2022-02-28 14:17:58,696 : INFO : topic #54 (0.010): 0.083*\"eigenvalu\" + 0.078*\"iter\" + 0.052*\"overlap\" + 0.046*\"parallel\" + 0.044*\"administr\" + 0.043*\"-\" + 0.036*\"real\" + 0.034*\"process\" + 0.033*\"advanc\" + 0.029*\"eigenvector\"\n",
      "2022-02-28 14:17:58,697 : INFO : topic #53 (0.010): 0.149*\",\" + 0.061*\"store\" + 0.049*\"natur\" + 0.028*\"oper\" + 0.023*\"system\" + 0.020*\"support\" + 0.020*\"equal\" + 0.018*\"item\" + 0.017*\"suitabl\" + 0.016*\"switch\"\n",
      "2022-02-28 14:17:58,697 : INFO : topic #5 (0.014): 0.271*\"[\" + 0.199*\"algorithm\" + 0.166*\"(\" + 0.135*\"])\" + 0.027*\"function\" + 0.020*\"path\" + 0.018*\"-\" + 0.018*\"s14\" + 0.012*\"f4\" + 0.012*\"normal\"\n",
      "2022-02-28 14:17:58,697 : INFO : topic #65 (0.014): 0.313*\"problem\" + 0.077*\"solut\" + 0.041*\"solv\" + 0.034*\",\" + 0.027*\"techniqu\" + 0.025*\"contour\" + 0.023*\"map\" + 0.022*\"properti\" + 0.019*\"method\" + 0.018*\"present\"\n",
      "2022-02-28 14:17:58,698 : INFO : topic #51 (0.025): 0.355*\"(\" + 0.335*\")\" + 0.209*\"algorithm\" + 0.017*\"function\" + 0.015*\"complex\" + 0.010*\"-\" + 0.007*\"polynomi\" + 0.007*\"squar\" + 0.007*\"modifi\" + 0.007*\"[\"\n",
      "2022-02-28 14:17:58,698 : INFO : topic diff=0.594665, rho=0.340958\n",
      "2022-02-28 14:17:58,702 : INFO : PROGRESS: pass 7, at document #2000/3204\n",
      "2022-02-28 14:17:59,060 : INFO : optimized alpha [0.010527397, 0.011029534, 0.010665466, 0.009898423, 0.012686198, 0.014029702, 0.0115137, 0.01041371, 0.0114628, 0.010363982, 0.0108788125, 0.010665768, 0.010228343, 0.011407037, 0.012311051, 0.011276916, 0.010852946, 0.011208644, 0.012184528, 0.011886147, 0.010079055, 0.011440907, 0.013532065, 0.011334763, 0.012141821, 0.0106526725, 0.011573317, 0.010486098, 0.010899111, 0.010778518, 0.010616072, 0.010686385, 0.011618549, 0.011201136, 0.010369133, 0.0104156565, 0.010142571, 0.009960403, 0.0104608815, 0.011233652, 0.010136311, 0.010914226, 0.012068737, 0.010600829, 0.01041387, 0.011435656, 0.009949888, 0.01020058, 0.011234229, 0.011056675, 0.0124799665, 0.027305, 0.010075525, 0.009966838, 0.009798357, 0.010064425, 0.011516297, 0.010454021, 0.012085886, 0.010947633, 0.012160301, 0.010350425, 0.012573882, 0.010789096, 0.010376006, 0.014398526, 0.010319583, 0.010146476, 0.010919919, 0.010864112, 0.01218285, 0.010721175, 0.01127894, 0.010921508, 0.010247333, 0.011329861, 0.010155301, 0.011464735, 0.011254912, 0.010637067, 0.010214843, 0.010123923, 0.010347848, 0.010079376, 0.011850347, 0.011678513, 0.0108786505, 0.0118390415, 0.011339414, 0.010526812, 0.010105224, 0.010232898, 0.011637062, 0.010825325, 0.01216814, 0.011457922, 0.011107662, 0.010876346, 0.011635736, 0.011613108]\n",
      "2022-02-28 14:17:59,062 : INFO : merging changes from 2000 documents into a model of 3204 documents\n",
      "2022-02-28 14:17:59,066 : INFO : topic #54 (0.010): 0.098*\"iter\" + 0.079*\"eigenvalu\" + 0.048*\"parallel\" + 0.048*\"overlap\" + 0.040*\"-\" + 0.040*\"process\" + 0.037*\"administr\" + 0.037*\"real\" + 0.035*\"eigenvector\" + 0.028*\"advanc\"\n",
      "2022-02-28 14:17:59,066 : INFO : topic #3 (0.010): 0.086*\",\" + 0.054*\"-\" + 0.045*\"(\" + 0.041*\"machin\" + 0.032*\")\" + 0.022*\"cell\" + 0.020*\"memori\" + 0.019*\"2\" + 0.019*\"\"\" + 0.019*\"5\"\n",
      "2022-02-28 14:17:59,066 : INFO : topic #5 (0.014): 0.250*\"[\" + 0.199*\"algorithm\" + 0.177*\"(\" + 0.167*\"])\" + 0.027*\"function\" + 0.019*\"-\" + 0.017*\"s14\" + 0.015*\"path\" + 0.013*\"s15\" + 0.011*\"normal\"\n",
      "2022-02-28 14:17:59,067 : INFO : topic #65 (0.014): 0.316*\"problem\" + 0.078*\"solut\" + 0.042*\"solv\" + 0.034*\",\" + 0.028*\"techniqu\" + 0.024*\"contour\" + 0.022*\"map\" + 0.020*\"properti\" + 0.018*\"present\" + 0.017*\"method\"\n",
      "2022-02-28 14:17:59,067 : INFO : topic #51 (0.027): 0.356*\"(\" + 0.338*\")\" + 0.211*\"algorithm\" + 0.018*\"function\" + 0.013*\"complex\" + 0.009*\"-\" + 0.008*\"squar\" + 0.008*\"polynomi\" + 0.006*\"modifi\" + 0.005*\"[\"\n",
      "2022-02-28 14:17:59,067 : INFO : topic diff=0.520532, rho=0.322715\n",
      "2022-02-28 14:17:59,493 : INFO : -6.545 per-word bound, 93.4 perplexity estimate based on a held-out corpus of 1204 documents with 49783 words\n",
      "2022-02-28 14:17:59,493 : INFO : PROGRESS: pass 7, at document #3204/3204\n",
      "2022-02-28 14:17:59,792 : INFO : optimized alpha [0.0106019685, 0.011157494, 0.010830047, 0.009948577, 0.0129912915, 0.014213881, 0.011706215, 0.010510778, 0.011664393, 0.010436647, 0.011024085, 0.010810377, 0.010377265, 0.011536176, 0.012470265, 0.011500387, 0.010929686, 0.011381294, 0.012459165, 0.012135316, 0.010192474, 0.011673062, 0.01370561, 0.0114985695, 0.012424628, 0.010749119, 0.011793559, 0.010612842, 0.011022738, 0.010850293, 0.010677186, 0.010843152, 0.011837229, 0.011266975, 0.010448406, 0.010514985, 0.0102942735, 0.010042032, 0.010552103, 0.0113412775, 0.010247232, 0.0111325905, 0.012375048, 0.01067562, 0.010536221, 0.011588165, 0.010031568, 0.010348981, 0.011416393, 0.011255583, 0.01274578, 0.0290824, 0.010161336, 0.0100327255, 0.009813088, 0.010162523, 0.01174004, 0.010610485, 0.01239648, 0.01110593, 0.012456096, 0.010466871, 0.012792556, 0.010955229, 0.010459227, 0.014983095, 0.010385888, 0.010239561, 0.011117597, 0.011021513, 0.01241287, 0.010853114, 0.011451209, 0.011031139, 0.010324867, 0.011398106, 0.010244253, 0.011599096, 0.011495153, 0.01077941, 0.010284297, 0.010258217, 0.010448372, 0.010149516, 0.01211386, 0.011884045, 0.011014692, 0.012125507, 0.011530192, 0.0106099285, 0.010169188, 0.010287083, 0.011887274, 0.010955843, 0.01228841, 0.011669879, 0.01128913, 0.011032997, 0.011935231, 0.011862527]\n",
      "2022-02-28 14:17:59,795 : INFO : merging changes from 1204 documents into a model of 3204 documents\n",
      "2022-02-28 14:17:59,798 : INFO : topic #54 (0.010): 0.087*\"iter\" + 0.085*\"eigenvalu\" + 0.053*\"overlap\" + 0.051*\"parallel\" + 0.044*\"administr\" + 0.039*\"-\" + 0.038*\"real\" + 0.037*\"process\" + 0.033*\"advanc\" + 0.030*\"eigenvector\"\n",
      "2022-02-28 14:17:59,799 : INFO : topic #3 (0.010): 0.092*\",\" + 0.050*\"-\" + 0.044*\"machin\" + 0.044*\"(\" + 0.031*\")\" + 0.027*\"cell\" + 0.022*\"5\" + 0.020*\"2\" + 0.020*\"memori\" + 0.020*\"\"\"\n",
      "2022-02-28 14:17:59,799 : INFO : topic #5 (0.014): 0.281*\"[\" + 0.204*\"algorithm\" + 0.168*\"(\" + 0.137*\"])\" + 0.027*\"function\" + 0.019*\"-\" + 0.018*\"path\" + 0.018*\"s14\" + 0.012*\"f4\" + 0.011*\"normal\"\n",
      "2022-02-28 14:17:59,800 : INFO : topic #65 (0.015): 0.331*\"problem\" + 0.079*\"solut\" + 0.044*\"solv\" + 0.033*\",\" + 0.026*\"techniqu\" + 0.025*\"contour\" + 0.019*\"present\" + 0.019*\"properti\" + 0.018*\"specif\" + 0.017*\"analysi\"\n",
      "2022-02-28 14:17:59,800 : INFO : topic #51 (0.029): 0.365*\"(\" + 0.345*\")\" + 0.200*\"algorithm\" + 0.017*\"function\" + 0.014*\"complex\" + 0.009*\"-\" + 0.007*\"polynomi\" + 0.007*\"squar\" + 0.007*\"modifi\" + 0.005*\"span\"\n",
      "2022-02-28 14:17:59,800 : INFO : topic diff=0.523860, rho=0.322715\n",
      "2022-02-28 14:17:59,805 : INFO : PROGRESS: pass 8, at document #2000/3204\n",
      "2022-02-28 14:18:00,158 : INFO : optimized alpha [0.010603549, 0.011200523, 0.010857015, 0.009942207, 0.013041447, 0.014688086, 0.011723048, 0.010506575, 0.011712614, 0.010490414, 0.011069378, 0.010812128, 0.010352851, 0.011626641, 0.012614839, 0.011545661, 0.011062205, 0.011397392, 0.012496205, 0.012141685, 0.010154458, 0.011678708, 0.0140710035, 0.011522939, 0.0126407705, 0.010779666, 0.011862994, 0.010546828, 0.011108155, 0.010901421, 0.01069906, 0.010875798, 0.011886606, 0.011423693, 0.010440926, 0.010504147, 0.01029469, 0.010013982, 0.0105476435, 0.011362825, 0.010245436, 0.011171346, 0.012464643, 0.010625455, 0.010518602, 0.01170174, 0.009997656, 0.010345129, 0.011442764, 0.01141429, 0.012905814, 0.031079883, 0.010157951, 0.01003305, 0.00985585, 0.010166284, 0.011773102, 0.010664331, 0.0123468265, 0.011097725, 0.012506713, 0.010472786, 0.01297443, 0.010953007, 0.010476225, 0.015193159, 0.0104006305, 0.0102412645, 0.011139574, 0.011039334, 0.012604528, 0.010840549, 0.011544814, 0.011086436, 0.010333226, 0.011512181, 0.010216922, 0.011856037, 0.011760029, 0.010857951, 0.010310874, 0.010314285, 0.010456621, 0.0101755755, 0.012055958, 0.011898058, 0.011121237, 0.012253401, 0.01156834, 0.010681059, 0.010178983, 0.010354835, 0.012008471, 0.011029508, 0.012547301, 0.011656652, 0.011306482, 0.011139788, 0.011976781, 0.011911862]\n",
      "2022-02-28 14:18:00,161 : INFO : merging changes from 2000 documents into a model of 3204 documents\n",
      "2022-02-28 14:18:00,164 : INFO : topic #54 (0.010): 0.108*\"iter\" + 0.080*\"eigenvalu\" + 0.055*\"parallel\" + 0.049*\"overlap\" + 0.041*\"process\" + 0.038*\"real\" + 0.038*\"administr\" + 0.037*\"-\" + 0.035*\"eigenvector\" + 0.028*\"advanc\"\n",
      "2022-02-28 14:18:00,164 : INFO : topic #3 (0.010): 0.091*\",\" + 0.054*\"-\" + 0.049*\"machin\" + 0.043*\"(\" + 0.029*\")\" + 0.022*\"cell\" + 0.021*\"memori\" + 0.021*\"5\" + 0.020*\"pass\" + 0.019*\"2\"\n",
      "2022-02-28 14:18:00,165 : INFO : topic #5 (0.015): 0.257*\"[\" + 0.204*\"algorithm\" + 0.178*\"(\" + 0.166*\"])\" + 0.028*\"function\" + 0.020*\"-\" + 0.017*\"s14\" + 0.014*\"path\" + 0.013*\"s15\" + 0.011*\"normal\"\n",
      "2022-02-28 14:18:00,165 : INFO : topic #65 (0.015): 0.333*\"problem\" + 0.080*\"solut\" + 0.044*\"solv\" + 0.033*\",\" + 0.027*\"techniqu\" + 0.024*\"contour\" + 0.019*\"present\" + 0.018*\"analysi\" + 0.017*\"program\" + 0.017*\"specif\"\n",
      "2022-02-28 14:18:00,165 : INFO : topic #51 (0.031): 0.365*\"(\" + 0.347*\")\" + 0.203*\"algorithm\" + 0.018*\"function\" + 0.012*\"complex\" + 0.009*\"-\" + 0.007*\"polynomi\" + 0.007*\"squar\" + 0.006*\"modifi\" + 0.004*\"span\"\n",
      "2022-02-28 14:18:00,166 : INFO : topic diff=0.457103, rho=0.307119\n",
      "2022-02-28 14:18:00,582 : INFO : -6.523 per-word bound, 92.0 perplexity estimate based on a held-out corpus of 1204 documents with 49783 words\n",
      "2022-02-28 14:18:00,583 : INFO : PROGRESS: pass 8, at document #3204/3204\n",
      "2022-02-28 14:18:00,871 : INFO : optimized alpha [0.010683438, 0.011323397, 0.011020951, 0.00999581, 0.013336801, 0.014855916, 0.011911286, 0.010583615, 0.0119098965, 0.010568044, 0.011208963, 0.0109428335, 0.010498682, 0.011744477, 0.012764343, 0.011773304, 0.011140943, 0.011563475, 0.012781185, 0.012395002, 0.010271219, 0.011896555, 0.014214883, 0.0116834175, 0.01292572, 0.010880587, 0.012081649, 0.010665833, 0.011226835, 0.010967404, 0.010757783, 0.01104341, 0.01210679, 0.011500663, 0.01051722, 0.010605012, 0.01045116, 0.01009513, 0.010638108, 0.01148664, 0.010359872, 0.0113908565, 0.012745983, 0.010703183, 0.010636271, 0.011848253, 0.010078823, 0.010514521, 0.011621087, 0.011615498, 0.013149869, 0.03297277, 0.0102509465, 0.010093888, 0.00987537, 0.0102632055, 0.011997932, 0.010823285, 0.012653047, 0.01125571, 0.0127835, 0.010595466, 0.013191993, 0.011115623, 0.010556165, 0.0157817, 0.010469768, 0.010330778, 0.011341545, 0.011199221, 0.0128464345, 0.010969953, 0.011731358, 0.0112059815, 0.01041038, 0.011580194, 0.010307748, 0.0119937435, 0.012039326, 0.011000361, 0.010388263, 0.010456681, 0.010558589, 0.010237705, 0.012309958, 0.012095974, 0.01126055, 0.01253474, 0.011746183, 0.010766109, 0.010245707, 0.010417508, 0.0122509785, 0.011177921, 0.012658481, 0.011857653, 0.0114811715, 0.011290639, 0.012301191, 0.012156211]\n",
      "2022-02-28 14:18:00,874 : INFO : merging changes from 1204 documents into a model of 3204 documents\n",
      "2022-02-28 14:18:00,877 : INFO : topic #54 (0.010): 0.099*\"iter\" + 0.085*\"eigenvalu\" + 0.059*\"parallel\" + 0.054*\"overlap\" + 0.044*\"administr\" + 0.038*\"real\" + 0.037*\"process\" + 0.036*\"-\" + 0.033*\"advanc\" + 0.030*\"eigenvector\"\n",
      "2022-02-28 14:18:00,878 : INFO : topic #3 (0.010): 0.098*\",\" + 0.052*\"machin\" + 0.049*\"-\" + 0.041*\"(\" + 0.027*\")\" + 0.027*\"cell\" + 0.024*\"5\" + 0.021*\"memori\" + 0.021*\"2\" + 0.019*\"\"\"\n",
      "2022-02-28 14:18:00,878 : INFO : topic #5 (0.015): 0.287*\"[\" + 0.205*\"algorithm\" + 0.170*\"(\" + 0.138*\"])\" + 0.028*\"function\" + 0.019*\"-\" + 0.018*\"s14\" + 0.016*\"path\" + 0.012*\"f4\" + 0.011*\"normal\"\n",
      "2022-02-28 14:18:00,879 : INFO : topic #65 (0.016): 0.345*\"problem\" + 0.081*\"solut\" + 0.046*\"solv\" + 0.033*\",\" + 0.025*\"contour\" + 0.024*\"techniqu\" + 0.020*\"present\" + 0.018*\"specif\" + 0.018*\"analysi\" + 0.017*\"program\"\n",
      "2022-02-28 14:18:00,879 : INFO : topic #51 (0.033): 0.373*\"(\" + 0.352*\")\" + 0.194*\"algorithm\" + 0.017*\"function\" + 0.012*\"complex\" + 0.009*\"-\" + 0.006*\"polynomi\" + 0.006*\"squar\" + 0.006*\"modifi\" + 0.005*\"span\"\n",
      "2022-02-28 14:18:00,879 : INFO : topic diff=0.459291, rho=0.307119\n",
      "2022-02-28 14:18:00,885 : INFO : PROGRESS: pass 9, at document #2000/3204\n",
      "2022-02-28 14:18:01,241 : INFO : optimized alpha [0.010688405, 0.011366521, 0.011049834, 0.009988767, 0.013383895, 0.015324427, 0.0119269425, 0.010580021, 0.011955905, 0.010621552, 0.011257311, 0.010950881, 0.010481235, 0.011835261, 0.012907986, 0.011814518, 0.011272644, 0.01158032, 0.012823327, 0.012409337, 0.010234883, 0.011908176, 0.0145711275, 0.011708296, 0.013144786, 0.010913309, 0.012149838, 0.010607735, 0.011309225, 0.011013577, 0.010779209, 0.011077824, 0.012153746, 0.011659345, 0.010512013, 0.010599498, 0.0104574, 0.010067178, 0.010634084, 0.011510807, 0.010356662, 0.011425892, 0.0128355995, 0.010662239, 0.010622563, 0.011971959, 0.010048291, 0.010524495, 0.011651174, 0.011780158, 0.013310638, 0.03508927, 0.010252496, 0.010096145, 0.009921262, 0.010273115, 0.012028992, 0.010881441, 0.012603351, 0.011255962, 0.012838886, 0.0106011005, 0.013372569, 0.011111455, 0.010572774, 0.015987797, 0.01048269, 0.010337286, 0.011370389, 0.011222619, 0.0130312, 0.010962707, 0.011823418, 0.011265859, 0.0104233, 0.011685374, 0.010287992, 0.012259276, 0.0123148, 0.011082652, 0.010417118, 0.010515191, 0.010571322, 0.0102601005, 0.012254876, 0.012108851, 0.011370226, 0.012671272, 0.011782484, 0.010833165, 0.010259957, 0.010493815, 0.012386257, 0.011245648, 0.012907243, 0.011844242, 0.011495768, 0.011398954, 0.012347216, 0.012213971]\n",
      "2022-02-28 14:18:01,244 : INFO : merging changes from 2000 documents into a model of 3204 documents\n",
      "2022-02-28 14:18:01,247 : INFO : topic #54 (0.010): 0.119*\"iter\" + 0.080*\"eigenvalu\" + 0.064*\"parallel\" + 0.049*\"overlap\" + 0.041*\"process\" + 0.039*\"real\" + 0.037*\"administr\" + 0.035*\"eigenvector\" + 0.033*\"-\" + 0.027*\"advanc\"\n",
      "2022-02-28 14:18:01,248 : INFO : topic #3 (0.010): 0.096*\",\" + 0.056*\"machin\" + 0.054*\"-\" + 0.041*\"(\" + 0.026*\")\" + 0.022*\"cell\" + 0.022*\"5\" + 0.022*\"memori\" + 0.021*\"pass\" + 0.020*\"2\"\n",
      "2022-02-28 14:18:01,248 : INFO : topic #5 (0.015): 0.262*\"[\" + 0.205*\"algorithm\" + 0.180*\"(\" + 0.165*\"])\" + 0.028*\"function\" + 0.020*\"-\" + 0.017*\"s14\" + 0.013*\"s15\" + 0.012*\"path\" + 0.011*\"normal\"\n",
      "2022-02-28 14:18:01,248 : INFO : topic #65 (0.016): 0.344*\"problem\" + 0.081*\"solut\" + 0.046*\"solv\" + 0.033*\",\" + 0.025*\"techniqu\" + 0.024*\"contour\" + 0.020*\"present\" + 0.018*\"analysi\" + 0.017*\"program\" + 0.017*\"specif\"\n",
      "2022-02-28 14:18:01,248 : INFO : topic #51 (0.035): 0.371*\"(\" + 0.353*\")\" + 0.198*\"algorithm\" + 0.018*\"function\" + 0.011*\"complex\" + 0.008*\"-\" + 0.007*\"squar\" + 0.006*\"polynomi\" + 0.006*\"modifi\" + 0.004*\"span\"\n",
      "2022-02-28 14:18:01,249 : INFO : topic diff=0.400261, rho=0.293585\n",
      "2022-02-28 14:18:01,666 : INFO : -6.506 per-word bound, 90.9 perplexity estimate based on a held-out corpus of 1204 documents with 49783 words\n",
      "2022-02-28 14:18:01,666 : INFO : PROGRESS: pass 9, at document #3204/3204\n",
      "2022-02-28 14:18:01,953 : INFO : optimized alpha [0.010773533, 0.011490546, 0.011224564, 0.010043239, 0.013674025, 0.015495445, 0.012102938, 0.010664817, 0.012149723, 0.01069891, 0.0113920355, 0.011079753, 0.010629763, 0.011945814, 0.013051894, 0.012035384, 0.0113536315, 0.011749211, 0.013100388, 0.0126613295, 0.0103550395, 0.012113257, 0.014704626, 0.011869011, 0.013429659, 0.0110133495, 0.012394153, 0.010725232, 0.011429135, 0.011077098, 0.010833346, 0.011264444, 0.012364332, 0.011738647, 0.010588239, 0.010699456, 0.010606093, 0.0101455515, 0.010721279, 0.011630197, 0.010472173, 0.011649987, 0.013102987, 0.010748073, 0.010738685, 0.012110325, 0.010134108, 0.0107118245, 0.0118235815, 0.01198711, 0.013560328, 0.037126653, 0.010344763, 0.010167404, 0.009947671, 0.010364082, 0.012255586, 0.0110379625, 0.012890991, 0.011408466, 0.013120396, 0.010714368, 0.013599578, 0.011273936, 0.010655058, 0.01658179, 0.010552028, 0.010436443, 0.011563278, 0.011374363, 0.013269459, 0.01108223, 0.0120127, 0.01138947, 0.0105054835, 0.011747663, 0.010393288, 0.012400802, 0.012625368, 0.011228371, 0.010489273, 0.010670852, 0.010669694, 0.010320066, 0.012515722, 0.0122972755, 0.011501942, 0.012954958, 0.011954363, 0.010915121, 0.010314329, 0.010559329, 0.012622115, 0.011377996, 0.013016476, 0.01204425, 0.01165896, 0.011561444, 0.01267323, 0.012451304]\n",
      "2022-02-28 14:18:01,955 : INFO : merging changes from 1204 documents into a model of 3204 documents\n",
      "2022-02-28 14:18:01,960 : INFO : topic #54 (0.010): 0.110*\"iter\" + 0.085*\"eigenvalu\" + 0.069*\"parallel\" + 0.053*\"overlap\" + 0.042*\"administr\" + 0.039*\"real\" + 0.038*\"process\" + 0.034*\"advanc\" + 0.033*\"-\" + 0.030*\"eigenvector\"\n",
      "2022-02-28 14:18:01,960 : INFO : topic #3 (0.010): 0.103*\",\" + 0.061*\"machin\" + 0.050*\"-\" + 0.039*\"(\" + 0.027*\"cell\" + 0.025*\")\" + 0.024*\"5\" + 0.021*\"memori\" + 0.021*\"2\" + 0.019*\"pass\"\n",
      "2022-02-28 14:18:01,961 : INFO : topic #5 (0.015): 0.291*\"[\" + 0.209*\"algorithm\" + 0.171*\"(\" + 0.138*\"])\" + 0.028*\"function\" + 0.019*\"-\" + 0.017*\"s14\" + 0.013*\"path\" + 0.012*\"f4\" + 0.011*\"normal\"\n",
      "2022-02-28 14:18:01,961 : INFO : topic #65 (0.017): 0.353*\"problem\" + 0.081*\"solut\" + 0.048*\"solv\" + 0.032*\",\" + 0.025*\"contour\" + 0.023*\"techniqu\" + 0.021*\"present\" + 0.018*\"specif\" + 0.018*\"analysi\" + 0.017*\"program\"\n",
      "2022-02-28 14:18:01,961 : INFO : topic #51 (0.037): 0.379*\"(\" + 0.358*\")\" + 0.189*\"algorithm\" + 0.017*\"function\" + 0.011*\"complex\" + 0.009*\"-\" + 0.006*\"modifi\" + 0.006*\"squar\" + 0.006*\"polynomi\" + 0.005*\"span\"\n",
      "2022-02-28 14:18:01,962 : INFO : topic diff=0.402905, rho=0.293585\n",
      "2022-02-28 14:18:01,966 : INFO : PROGRESS: pass 10, at document #2000/3204\n",
      "2022-02-28 14:18:02,316 : INFO : optimized alpha [0.010775574, 0.011530549, 0.01125838, 0.010048389, 0.013720401, 0.015956884, 0.0121296765, 0.0106632495, 0.012195507, 0.010750811, 0.011438697, 0.011085839, 0.0106172655, 0.012040525, 0.013189613, 0.01207296, 0.011491349, 0.011763468, 0.013154869, 0.012679746, 0.010323046, 0.012128964, 0.015046131, 0.011892797, 0.01364267, 0.011044971, 0.012470092, 0.010669713, 0.011510557, 0.011125053, 0.010855926, 0.011298869, 0.0124109695, 0.01188978, 0.01058356, 0.010692824, 0.010613375, 0.010123425, 0.010722321, 0.011661891, 0.010469078, 0.011681505, 0.013187421, 0.010710765, 0.010728585, 0.012232296, 0.010105098, 0.010739215, 0.0118539715, 0.012158048, 0.013714669, 0.039388046, 0.01035235, 0.010174235, 0.009993729, 0.01037089, 0.012295132, 0.011095658, 0.012841435, 0.011410127, 0.013174902, 0.010725912, 0.013783234, 0.011268012, 0.01066828, 0.016802916, 0.010566296, 0.010444317, 0.011592286, 0.011396805, 0.013455367, 0.0110768685, 0.012111876, 0.01145701, 0.010516728, 0.0118564, 0.010380406, 0.012670559, 0.012914206, 0.01131606, 0.010512915, 0.010748309, 0.010688161, 0.010344915, 0.012461318, 0.012314426, 0.0116117215, 0.01309308, 0.011989126, 0.010980119, 0.010329987, 0.010651443, 0.0127607435, 0.011461557, 0.013259703, 0.012032382, 0.011679329, 0.0116715, 0.012729208, 0.0125118615]\n",
      "2022-02-28 14:18:02,318 : INFO : merging changes from 2000 documents into a model of 3204 documents\n",
      "2022-02-28 14:18:02,321 : INFO : topic #54 (0.010): 0.129*\"iter\" + 0.080*\"eigenvalu\" + 0.072*\"parallel\" + 0.049*\"overlap\" + 0.042*\"process\" + 0.040*\"real\" + 0.037*\"administr\" + 0.035*\"eigenvector\" + 0.030*\"-\" + 0.028*\"advanc\"\n",
      "2022-02-28 14:18:02,322 : INFO : topic #3 (0.010): 0.101*\",\" + 0.066*\"machin\" + 0.054*\"-\" + 0.039*\"(\" + 0.024*\")\" + 0.023*\"5\" + 0.022*\"cell\" + 0.022*\"pass\" + 0.022*\"memori\" + 0.020*\"2\"\n",
      "2022-02-28 14:18:02,322 : INFO : topic #5 (0.016): 0.267*\"[\" + 0.208*\"algorithm\" + 0.180*\"(\" + 0.165*\"])\" + 0.028*\"function\" + 0.020*\"-\" + 0.017*\"s14\" + 0.013*\"s15\" + 0.011*\"normal\" + 0.011*\"chebyshev\"\n",
      "2022-02-28 14:18:02,322 : INFO : topic #65 (0.017): 0.352*\"problem\" + 0.081*\"solut\" + 0.047*\"solv\" + 0.032*\",\" + 0.024*\"techniqu\" + 0.024*\"contour\" + 0.021*\"present\" + 0.019*\"analysi\" + 0.018*\"program\" + 0.018*\"specif\"\n",
      "2022-02-28 14:18:02,323 : INFO : topic #51 (0.039): 0.377*\"(\" + 0.357*\")\" + 0.194*\"algorithm\" + 0.018*\"function\" + 0.009*\"complex\" + 0.008*\"-\" + 0.007*\"squar\" + 0.006*\"modifi\" + 0.006*\"polynomi\" + 0.004*\"span\"\n",
      "2022-02-28 14:18:02,323 : INFO : topic diff=0.351160, rho=0.281696\n",
      "2022-02-28 14:18:02,743 : INFO : -6.492 per-word bound, 90.0 perplexity estimate based on a held-out corpus of 1204 documents with 49783 words\n",
      "2022-02-28 14:18:02,744 : INFO : PROGRESS: pass 10, at document #3204/3204\n",
      "2022-02-28 14:18:03,023 : INFO : optimized alpha [0.010863258, 0.0116478605, 0.011425467, 0.010106039, 0.01400308, 0.01611644, 0.012297389, 0.010747774, 0.012386632, 0.010830631, 0.011571907, 0.011210643, 0.010766223, 0.012150111, 0.013325536, 0.012293465, 0.011572034, 0.01192455, 0.013440653, 0.012919097, 0.010437025, 0.012322278, 0.015177015, 0.012048578, 0.013937658, 0.011139287, 0.012717014, 0.010783505, 0.011626527, 0.011186338, 0.010911028, 0.011477728, 0.012618591, 0.011963175, 0.010662487, 0.010794685, 0.0107550705, 0.010201884, 0.01080175, 0.01178023, 0.010578541, 0.011902377, 0.013447953, 0.01079905, 0.0108487345, 0.012374818, 0.010197785, 0.010956993, 0.012023956, 0.012379843, 0.0139578115, 0.04155036, 0.010451601, 0.010245723, 0.010021773, 0.010471299, 0.012518551, 0.011260773, 0.013121031, 0.011563334, 0.0134557625, 0.010835548, 0.014004176, 0.011433338, 0.010747977, 0.017391877, 0.010635992, 0.010555239, 0.011787838, 0.01154385, 0.013696956, 0.011195226, 0.012298758, 0.011571259, 0.010598822, 0.011921901, 0.0104969945, 0.012825054, 0.0132482555, 0.011462795, 0.010580367, 0.010914706, 0.010791002, 0.010402985, 0.01272067, 0.012491371, 0.011744635, 0.013379656, 0.01215019, 0.011064453, 0.010394837, 0.010739998, 0.013005692, 0.011595289, 0.013370555, 0.012226425, 0.011832074, 0.011832137, 0.013051793, 0.012737083]\n",
      "2022-02-28 14:18:03,026 : INFO : merging changes from 1204 documents into a model of 3204 documents\n",
      "2022-02-28 14:18:03,030 : INFO : topic #54 (0.010): 0.121*\"iter\" + 0.084*\"eigenvalu\" + 0.079*\"parallel\" + 0.053*\"overlap\" + 0.040*\"process\" + 0.039*\"real\" + 0.039*\"administr\" + 0.032*\"advanc\" + 0.030*\"direct\" + 0.030*\"eigenvector\"\n",
      "2022-02-28 14:18:03,030 : INFO : topic #3 (0.010): 0.106*\",\" + 0.071*\"machin\" + 0.050*\"-\" + 0.037*\"(\" + 0.027*\"cell\" + 0.025*\"5\" + 0.022*\")\" + 0.022*\"memori\" + 0.020*\"2\" + 0.019*\"pass\"\n",
      "2022-02-28 14:18:03,030 : INFO : topic #5 (0.016): 0.296*\"[\" + 0.210*\"algorithm\" + 0.173*\"(\" + 0.139*\"])\" + 0.029*\"function\" + 0.020*\"-\" + 0.017*\"s14\" + 0.012*\"f4\" + 0.011*\"normal\" + 0.011*\"s15\"\n",
      "2022-02-28 14:18:03,031 : INFO : topic #65 (0.017): 0.360*\"problem\" + 0.081*\"solut\" + 0.049*\"solv\" + 0.032*\",\" + 0.025*\"contour\" + 0.023*\"techniqu\" + 0.022*\"present\" + 0.019*\"analysi\" + 0.019*\"specif\" + 0.017*\"program\"\n",
      "2022-02-28 14:18:03,031 : INFO : topic #51 (0.042): 0.384*\"(\" + 0.362*\")\" + 0.186*\"algorithm\" + 0.017*\"function\" + 0.008*\"complex\" + 0.008*\"-\" + 0.006*\"squar\" + 0.006*\"modifi\" + 0.005*\"span\" + 0.005*\"polynomi\"\n",
      "2022-02-28 14:18:03,032 : INFO : topic diff=0.355123, rho=0.281696\n",
      "2022-02-28 14:18:03,036 : INFO : PROGRESS: pass 11, at document #2000/3204\n",
      "2022-02-28 14:18:03,384 : INFO : optimized alpha [0.010874388, 0.011686661, 0.011457971, 0.010115505, 0.014056774, 0.01656693, 0.012331447, 0.010745063, 0.012428957, 0.010882555, 0.011613878, 0.011221153, 0.010759769, 0.012247138, 0.013466866, 0.012330922, 0.011714274, 0.011941347, 0.013496428, 0.012946756, 0.01040913, 0.012340389, 0.01551103, 0.012074692, 0.014154722, 0.011168596, 0.012790269, 0.010731728, 0.011708826, 0.011228374, 0.010930345, 0.01151389, 0.012663314, 0.012113863, 0.01066124, 0.010786995, 0.010763403, 0.010182294, 0.01080604, 0.011814187, 0.010581394, 0.011935564, 0.013529303, 0.010763456, 0.010843465, 0.012496978, 0.010167289, 0.010993555, 0.012053137, 0.012549169, 0.014110068, 0.04396163, 0.010457622, 0.010255457, 0.010066761, 0.010479402, 0.0125681255, 0.011319763, 0.01307159, 0.011571095, 0.013509583, 0.010849718, 0.014189451, 0.011428811, 0.01076686, 0.0176122, 0.010652956, 0.010565827, 0.011818687, 0.011566976, 0.013880799, 0.011190112, 0.0123968925, 0.011641541, 0.010609913, 0.012026141, 0.010485971, 0.013108246, 0.013539026, 0.011551189, 0.010604976, 0.010997413, 0.010811936, 0.010428755, 0.012672035, 0.012504236, 0.011851535, 0.013523434, 0.0121836355, 0.0111261625, 0.010411711, 0.010841475, 0.013153383, 0.011675007, 0.013618033, 0.012217687, 0.0118499985, 0.011939403, 0.013103171, 0.012795431]\n",
      "2022-02-28 14:18:03,387 : INFO : merging changes from 2000 documents into a model of 3204 documents\n",
      "2022-02-28 14:18:03,390 : INFO : topic #54 (0.010): 0.136*\"iter\" + 0.082*\"parallel\" + 0.080*\"eigenvalu\" + 0.049*\"overlap\" + 0.044*\"process\" + 0.040*\"real\" + 0.034*\"administr\" + 0.034*\"eigenvector\" + 0.030*\"direct\" + 0.028*\"-\"\n",
      "2022-02-28 14:18:03,391 : INFO : topic #3 (0.010): 0.104*\",\" + 0.076*\"machin\" + 0.054*\"-\" + 0.037*\"(\" + 0.023*\"5\" + 0.022*\"cell\" + 0.022*\"memori\" + 0.022*\"pass\" + 0.022*\")\" + 0.019*\"2\"\n",
      "2022-02-28 14:18:03,391 : INFO : topic #5 (0.017): 0.272*\"[\" + 0.210*\"algorithm\" + 0.182*\"(\" + 0.165*\"])\" + 0.029*\"function\" + 0.020*\"-\" + 0.017*\"s14\" + 0.013*\"s15\" + 0.011*\"normal\" + 0.010*\"chebyshev\"\n",
      "2022-02-28 14:18:03,391 : INFO : topic #65 (0.018): 0.359*\"problem\" + 0.081*\"solut\" + 0.049*\"solv\" + 0.032*\",\" + 0.024*\"contour\" + 0.024*\"techniqu\" + 0.022*\"present\" + 0.020*\"analysi\" + 0.018*\"program\" + 0.018*\"specif\"\n",
      "2022-02-28 14:18:03,392 : INFO : topic #51 (0.044): 0.382*\"(\" + 0.362*\")\" + 0.191*\"algorithm\" + 0.017*\"function\" + 0.008*\"-\" + 0.007*\"complex\" + 0.007*\"squar\" + 0.005*\"modifi\" + 0.005*\"polynomi\" + 0.004*\"span\"\n",
      "2022-02-28 14:18:03,392 : INFO : topic diff=0.310206, rho=0.271143\n",
      "2022-02-28 14:18:03,802 : INFO : -6.480 per-word bound, 89.3 perplexity estimate based on a held-out corpus of 1204 documents with 49783 words\n",
      "2022-02-28 14:18:03,802 : INFO : PROGRESS: pass 11, at document #3204/3204\n",
      "2022-02-28 14:18:04,089 : INFO : optimized alpha [0.010964482, 0.011805814, 0.011625882, 0.010164609, 0.014336235, 0.016715543, 0.012494497, 0.010829537, 0.012612213, 0.010962437, 0.011745899, 0.01133993, 0.010899752, 0.012347829, 0.013604582, 0.012551541, 0.011794735, 0.012100721, 0.013769947, 0.0131772505, 0.010524603, 0.012525621, 0.015632708, 0.012231531, 0.014438204, 0.011267821, 0.013034446, 0.010847068, 0.01182132, 0.011287708, 0.010981498, 0.011709086, 0.012877206, 0.012195388, 0.010735514, 0.01088838, 0.010905991, 0.010260909, 0.010885707, 0.011926376, 0.010690141, 0.012151236, 0.013790021, 0.010854255, 0.010962695, 0.012643925, 0.010257315, 0.011221617, 0.012218549, 0.012772049, 0.014353564, 0.046185482, 0.010563598, 0.010331916, 0.01010095, 0.01057936, 0.012794476, 0.011485827, 0.013346982, 0.011725332, 0.013787366, 0.01095625, 0.01441119, 0.011589602, 0.010844255, 0.018212205, 0.010718246, 0.010676052, 0.012014619, 0.011709884, 0.014123125, 0.011307633, 0.012584622, 0.011747101, 0.01069448, 0.012083935, 0.010596839, 0.013258249, 0.01389156, 0.011715002, 0.01068497, 0.011177168, 0.0109068565, 0.010487579, 0.0129332645, 0.012682, 0.011983302, 0.013795358, 0.012340224, 0.011205443, 0.010472422, 0.01092981, 0.013384284, 0.011807687, 0.013724594, 0.012409324, 0.011998476, 0.012095821, 0.013434971, 0.01303588]\n",
      "2022-02-28 14:18:04,092 : INFO : merging changes from 1204 documents into a model of 3204 documents\n",
      "2022-02-28 14:18:04,095 : INFO : topic #54 (0.010): 0.128*\"iter\" + 0.089*\"parallel\" + 0.083*\"eigenvalu\" + 0.052*\"overlap\" + 0.041*\"process\" + 0.039*\"real\" + 0.037*\"administr\" + 0.034*\"direct\" + 0.031*\"advanc\" + 0.030*\"eigenvector\"\n",
      "2022-02-28 14:18:04,095 : INFO : topic #3 (0.010): 0.109*\",\" + 0.082*\"machin\" + 0.050*\"-\" + 0.035*\"(\" + 0.027*\"cell\" + 0.025*\"5\" + 0.023*\"memori\" + 0.020*\"pass\" + 0.020*\")\" + 0.019*\"2\"\n",
      "2022-02-28 14:18:04,096 : INFO : topic #5 (0.017): 0.301*\"[\" + 0.211*\"algorithm\" + 0.175*\"(\" + 0.141*\"])\" + 0.029*\"function\" + 0.020*\"-\" + 0.018*\"s14\" + 0.012*\"f4\" + 0.012*\"normal\" + 0.011*\"s15\"\n",
      "2022-02-28 14:18:04,096 : INFO : topic #65 (0.018): 0.367*\"problem\" + 0.081*\"solut\" + 0.050*\"solv\" + 0.032*\",\" + 0.025*\"contour\" + 0.023*\"present\" + 0.022*\"techniqu\" + 0.019*\"analysi\" + 0.019*\"specif\" + 0.018*\"program\"\n",
      "2022-02-28 14:18:04,097 : INFO : topic #51 (0.046): 0.389*\"(\" + 0.366*\")\" + 0.183*\"algorithm\" + 0.017*\"function\" + 0.008*\"-\" + 0.006*\"complex\" + 0.006*\"squar\" + 0.006*\"modifi\" + 0.005*\"span\" + 0.004*\"polynomi\"\n",
      "2022-02-28 14:18:04,097 : INFO : topic diff=0.315230, rho=0.271143\n",
      "2022-02-28 14:18:04,101 : INFO : PROGRESS: pass 12, at document #2000/3204\n",
      "2022-02-28 14:18:04,446 : INFO : optimized alpha [0.01097692, 0.011843525, 0.011657214, 0.010180897, 0.014385596, 0.017150952, 0.012532276, 0.010832818, 0.01265301, 0.011014512, 0.011792792, 0.011348679, 0.010896163, 0.012444048, 0.013742664, 0.012600455, 0.011944713, 0.012116774, 0.013830694, 0.013201715, 0.010503129, 0.012541102, 0.015968027, 0.012256629, 0.014655656, 0.011300841, 0.013108684, 0.010798642, 0.01190305, 0.01132731, 0.011002043, 0.011749988, 0.012921858, 0.0123491725, 0.010736031, 0.010882506, 0.010913881, 0.010249108, 0.010890162, 0.011957849, 0.010694316, 0.012186056, 0.0138705, 0.01082018, 0.010963374, 0.012766568, 0.010225384, 0.011274408, 0.012246626, 0.012940092, 0.014504072, 0.048687372, 0.010577812, 0.010341589, 0.0101501895, 0.010584499, 0.01284557, 0.011543081, 0.0132941045, 0.011734237, 0.013838879, 0.010967216, 0.014596553, 0.011584866, 0.010858555, 0.018429538, 0.01073363, 0.010697679, 0.012042645, 0.011738425, 0.014307032, 0.01130272, 0.012683461, 0.01181706, 0.010704042, 0.01218405, 0.010586238, 0.013552126, 0.014179208, 0.011805821, 0.010711948, 0.011262174, 0.0109301815, 0.01051565, 0.012884894, 0.012697419, 0.012098709, 0.013948537, 0.012372491, 0.011267067, 0.010487713, 0.011039024, 0.013527068, 0.011893283, 0.013971344, 0.012400371, 0.012017275, 0.0121957725, 0.013489072, 0.013104241]\n",
      "2022-02-28 14:18:04,449 : INFO : merging changes from 2000 documents into a model of 3204 documents\n",
      "2022-02-28 14:18:04,452 : INFO : topic #54 (0.010): 0.142*\"iter\" + 0.091*\"parallel\" + 0.079*\"eigenvalu\" + 0.048*\"overlap\" + 0.045*\"process\" + 0.040*\"real\" + 0.034*\"eigenvector\" + 0.033*\"direct\" + 0.033*\"administr\" + 0.027*\"increas\"\n",
      "2022-02-28 14:18:04,452 : INFO : topic #3 (0.010): 0.107*\",\" + 0.087*\"machin\" + 0.053*\"-\" + 0.036*\"(\" + 0.023*\"5\" + 0.023*\"memori\" + 0.023*\"cell\" + 0.022*\"pass\" + 0.020*\")\" + 0.019*\"2\"\n",
      "2022-02-28 14:18:04,453 : INFO : topic #5 (0.017): 0.277*\"[\" + 0.209*\"algorithm\" + 0.184*\"(\" + 0.166*\"])\" + 0.030*\"function\" + 0.020*\"-\" + 0.017*\"s14\" + 0.013*\"s15\" + 0.011*\"normal\" + 0.010*\"chebyshev\"\n",
      "2022-02-28 14:18:04,454 : INFO : topic #65 (0.018): 0.366*\"problem\" + 0.081*\"solut\" + 0.049*\"solv\" + 0.032*\",\" + 0.024*\"contour\" + 0.023*\"techniqu\" + 0.023*\"present\" + 0.020*\"analysi\" + 0.018*\"program\" + 0.018*\"specif\"\n",
      "2022-02-28 14:18:04,454 : INFO : topic #51 (0.049): 0.386*\"(\" + 0.365*\")\" + 0.188*\"algorithm\" + 0.017*\"function\" + 0.008*\"-\" + 0.006*\"squar\" + 0.006*\"complex\" + 0.005*\"modifi\" + 0.004*\"span\" + 0.004*\"f1\"\n",
      "2022-02-28 14:18:04,454 : INFO : topic diff=0.276336, rho=0.261694\n",
      "2022-02-28 14:18:04,860 : INFO : -6.469 per-word bound, 88.6 perplexity estimate based on a held-out corpus of 1204 documents with 49783 words\n",
      "2022-02-28 14:18:04,861 : INFO : PROGRESS: pass 12, at document #3204/3204\n",
      "2022-02-28 14:18:05,140 : INFO : optimized alpha [0.011062224, 0.0119621325, 0.011818605, 0.010231012, 0.014662482, 0.017296586, 0.012696659, 0.010910325, 0.012831898, 0.011092172, 0.011918777, 0.011466829, 0.011037347, 0.012544486, 0.013876444, 0.012808078, 0.012040653, 0.01226949, 0.014107992, 0.013424051, 0.010615574, 0.012719139, 0.016088078, 0.012414888, 0.014934205, 0.0113999145, 0.013359319, 0.010910976, 0.012007284, 0.0113849975, 0.011054378, 0.011951172, 0.0131449895, 0.012433384, 0.010808374, 0.010981223, 0.011050549, 0.010327988, 0.010972556, 0.012067027, 0.010800232, 0.012402301, 0.014125714, 0.010908604, 0.011079475, 0.012918128, 0.010319842, 0.011533095, 0.012407914, 0.013167234, 0.014751625, 0.050996725, 0.010688081, 0.010420537, 0.010185739, 0.01068658, 0.013069889, 0.011710455, 0.013563109, 0.011887179, 0.014120196, 0.011078154, 0.014806877, 0.011744149, 0.010931568, 0.019025568, 0.010797324, 0.010809763, 0.0122394385, 0.011882851, 0.014559934, 0.011422134, 0.012864147, 0.011927481, 0.010786413, 0.0122373225, 0.010701127, 0.013703827, 0.01454474, 0.011965866, 0.010787552, 0.0114430515, 0.011024989, 0.010572966, 0.013145754, 0.012867984, 0.0122297, 0.014221612, 0.012525088, 0.011344135, 0.010553765, 0.01113951, 0.013765108, 0.012027829, 0.014073964, 0.012587262, 0.012159328, 0.012359061, 0.013824827, 0.013339782]\n",
      "2022-02-28 14:18:05,142 : INFO : merging changes from 1204 documents into a model of 3204 documents\n",
      "2022-02-28 14:18:05,146 : INFO : topic #3 (0.010): 0.112*\",\" + 0.091*\"machin\" + 0.050*\"-\" + 0.034*\"(\" + 0.027*\"cell\" + 0.026*\"5\" + 0.023*\"memori\" + 0.021*\"pass\" + 0.019*\"2\" + 0.018*\")\"\n",
      "2022-02-28 14:18:05,147 : INFO : topic #54 (0.010): 0.134*\"iter\" + 0.098*\"parallel\" + 0.083*\"eigenvalu\" + 0.052*\"overlap\" + 0.043*\"process\" + 0.039*\"real\" + 0.037*\"direct\" + 0.036*\"administr\" + 0.030*\"advanc\" + 0.030*\"eigenvector\"\n",
      "2022-02-28 14:18:05,147 : INFO : topic #5 (0.017): 0.304*\"[\" + 0.210*\"algorithm\" + 0.177*\"(\" + 0.142*\"])\" + 0.030*\"function\" + 0.020*\"-\" + 0.018*\"s14\" + 0.012*\"f4\" + 0.011*\"normal\" + 0.011*\"s15\"\n",
      "2022-02-28 14:18:05,148 : INFO : topic #65 (0.019): 0.372*\"problem\" + 0.082*\"solut\" + 0.050*\"solv\" + 0.031*\",\" + 0.025*\"contour\" + 0.023*\"present\" + 0.022*\"techniqu\" + 0.020*\"analysi\" + 0.019*\"specif\" + 0.018*\"program\"\n",
      "2022-02-28 14:18:05,148 : INFO : topic #51 (0.051): 0.392*\"(\" + 0.369*\")\" + 0.181*\"algorithm\" + 0.017*\"function\" + 0.008*\"-\" + 0.006*\"squar\" + 0.005*\"modifi\" + 0.005*\"complex\" + 0.005*\"span\" + 0.003*\"f1\"\n",
      "2022-02-28 14:18:05,149 : INFO : topic diff=0.281502, rho=0.261694\n",
      "2022-02-28 14:18:05,154 : INFO : PROGRESS: pass 13, at document #2000/3204\n",
      "2022-02-28 14:18:05,519 : INFO : optimized alpha [0.011068868, 0.011998865, 0.011851883, 0.010258873, 0.014713504, 0.017732672, 0.012731625, 0.010917996, 0.012874588, 0.011143055, 0.011965936, 0.011476811, 0.011036478, 0.0126401475, 0.014013362, 0.012852073, 0.012206209, 0.012289598, 0.014170183, 0.013448922, 0.010597507, 0.012728903, 0.01642095, 0.012439088, 0.015156222, 0.011437923, 0.013431256, 0.010865619, 0.012084092, 0.011426715, 0.011074733, 0.011989114, 0.013186337, 0.012581061, 0.010813311, 0.010977064, 0.011063631, 0.010315471, 0.010979914, 0.01210083, 0.010805722, 0.012440433, 0.014205434, 0.010880126, 0.011073116, 0.013041499, 0.010289077, 0.011587146, 0.012438164, 0.013335927, 0.01489878, 0.053577166, 0.010699181, 0.010438102, 0.010236483, 0.010694355, 0.0131209, 0.011767661, 0.01351214, 0.011895661, 0.014171253, 0.0110874325, 0.014992524, 0.011742266, 0.0109429, 0.019245014, 0.010812582, 0.01083224, 0.012270923, 0.011910505, 0.014742506, 0.011421717, 0.012965558, 0.011989722, 0.010795902, 0.0123383375, 0.010693519, 0.0139968395, 0.014820146, 0.012060686, 0.010813979, 0.011527553, 0.01104356, 0.0106019005, 0.0130991945, 0.012881089, 0.012353582, 0.014369968, 0.012556334, 0.011404345, 0.010568914, 0.011256591, 0.013915543, 0.01212068, 0.014309632, 0.012579588, 0.012182111, 0.012463109, 0.013878269, 0.013413088]\n",
      "2022-02-28 14:18:05,525 : INFO : merging changes from 2000 documents into a model of 3204 documents\n",
      "2022-02-28 14:18:05,535 : INFO : topic #54 (0.010): 0.146*\"iter\" + 0.099*\"parallel\" + 0.079*\"eigenvalu\" + 0.048*\"overlap\" + 0.046*\"process\" + 0.040*\"real\" + 0.036*\"direct\" + 0.034*\"eigenvector\" + 0.032*\"administr\" + 0.026*\"increas\"\n",
      "2022-02-28 14:18:05,537 : INFO : topic #46 (0.010): 0.081*\"-\" + 0.058*\",\" + 0.040*\"end\" + 0.034*\"interfer\" + 0.026*\"charact\" + 0.025*\"divisor\" + 0.024*\"divis\" + 0.024*\"precis\" + 0.023*\"reflect\" + 0.020*\"alphabet\"\n",
      "2022-02-28 14:18:05,538 : INFO : topic #5 (0.018): 0.279*\"[\" + 0.210*\"algorithm\" + 0.185*\"(\" + 0.166*\"])\" + 0.030*\"function\" + 0.020*\"-\" + 0.017*\"s14\" + 0.013*\"s15\" + 0.011*\"normal\" + 0.010*\"chebyshev\"\n",
      "2022-02-28 14:18:05,539 : INFO : topic #65 (0.019): 0.370*\"problem\" + 0.081*\"solut\" + 0.050*\"solv\" + 0.031*\",\" + 0.024*\"contour\" + 0.024*\"present\" + 0.023*\"techniqu\" + 0.020*\"analysi\" + 0.019*\"specif\" + 0.019*\"program\"\n",
      "2022-02-28 14:18:05,541 : INFO : topic #51 (0.054): 0.389*\"(\" + 0.368*\")\" + 0.186*\"algorithm\" + 0.017*\"function\" + 0.008*\"-\" + 0.006*\"squar\" + 0.005*\"modifi\" + 0.004*\"span\" + 0.004*\"complex\" + 0.004*\"f1\"\n",
      "2022-02-28 14:18:05,544 : INFO : topic diff=0.248099, rho=0.253169\n",
      "2022-02-28 14:18:06,015 : INFO : -6.459 per-word bound, 88.0 perplexity estimate based on a held-out corpus of 1204 documents with 49783 words\n",
      "2022-02-28 14:18:06,017 : INFO : PROGRESS: pass 13, at document #3204/3204\n",
      "2022-02-28 14:18:06,311 : INFO : optimized alpha [0.011152138, 0.012117179, 0.012014685, 0.010309998, 0.014994559, 0.01786813, 0.012902976, 0.011002937, 0.013049404, 0.011225801, 0.012088868, 0.011589743, 0.011176754, 0.012732609, 0.014143497, 0.01306896, 0.0123045975, 0.012441359, 0.014448562, 0.013669599, 0.010711699, 0.012910984, 0.016543137, 0.012596283, 0.015427132, 0.01154427, 0.013671612, 0.0109752, 0.012188149, 0.011485287, 0.011130574, 0.01219395, 0.013410682, 0.012667978, 0.010883927, 0.011080379, 0.01119481, 0.010399009, 0.011062671, 0.012204743, 0.01091138, 0.012657673, 0.014449802, 0.01096646, 0.01118654, 0.013186703, 0.010376893, 0.011849724, 0.012595788, 0.013564867, 0.01514447, 0.05589289, 0.010813625, 0.0105195595, 0.010271195, 0.010805469, 0.013349158, 0.011931581, 0.013775444, 0.012052828, 0.014438459, 0.011191025, 0.01520452, 0.01190283, 0.011016481, 0.019845296, 0.010872465, 0.010941689, 0.012466165, 0.012051592, 0.0149937635, 0.011538268, 0.013139665, 0.012094923, 0.010878554, 0.012392563, 0.010812401, 0.0141475415, 0.015202092, 0.0122173, 0.010890046, 0.01170744, 0.011140761, 0.010655595, 0.013360265, 0.013050439, 0.012494473, 0.01466283, 0.012700009, 0.011474608, 0.010631174, 0.011361894, 0.014155295, 0.012244311, 0.014414608, 0.012762304, 0.012318164, 0.012622877, 0.014212534, 0.013647251]\n",
      "2022-02-28 14:18:06,316 : INFO : merging changes from 1204 documents into a model of 3204 documents\n",
      "2022-02-28 14:18:06,323 : INFO : topic #54 (0.010): 0.137*\"iter\" + 0.106*\"parallel\" + 0.083*\"eigenvalu\" + 0.052*\"overlap\" + 0.044*\"process\" + 0.039*\"real\" + 0.039*\"direct\" + 0.035*\"administr\" + 0.030*\"advanc\" + 0.030*\"eigenvector\"\n",
      "2022-02-28 14:18:06,325 : INFO : topic #3 (0.010): 0.115*\",\" + 0.100*\"machin\" + 0.049*\"-\" + 0.032*\"(\" + 0.027*\"cell\" + 0.025*\"5\" + 0.023*\"memori\" + 0.021*\"pass\" + 0.018*\"2\" + 0.016*\"allow\"\n",
      "2022-02-28 14:18:06,325 : INFO : topic #5 (0.018): 0.306*\"[\" + 0.210*\"algorithm\" + 0.178*\"(\" + 0.143*\"])\" + 0.030*\"function\" + 0.020*\"-\" + 0.018*\"s14\" + 0.012*\"f4\" + 0.011*\"s15\" + 0.011*\"normal\"\n",
      "2022-02-28 14:18:06,326 : INFO : topic #65 (0.020): 0.375*\"problem\" + 0.082*\"solut\" + 0.051*\"solv\" + 0.031*\",\" + 0.025*\"contour\" + 0.024*\"present\" + 0.021*\"techniqu\" + 0.020*\"analysi\" + 0.020*\"specif\" + 0.018*\"program\"\n",
      "2022-02-28 14:18:06,326 : INFO : topic #51 (0.056): 0.395*\"(\" + 0.372*\")\" + 0.178*\"algorithm\" + 0.016*\"function\" + 0.008*\"-\" + 0.006*\"squar\" + 0.005*\"modifi\" + 0.005*\"span\" + 0.004*\"complex\" + 0.003*\"f1\"\n",
      "2022-02-28 14:18:06,327 : INFO : topic diff=0.253285, rho=0.253169\n",
      "2022-02-28 14:18:06,333 : INFO : PROGRESS: pass 14, at document #2000/3204\n",
      "2022-02-28 14:18:06,684 : INFO : optimized alpha [0.011160201, 0.012154515, 0.012048399, 0.010337425, 0.015045357, 0.018298607, 0.012940054, 0.011009233, 0.013087572, 0.011276946, 0.012134851, 0.011598066, 0.011173001, 0.012823124, 0.014282915, 0.013114629, 0.012476628, 0.012463849, 0.014510388, 0.013700141, 0.010694163, 0.012921731, 0.016861811, 0.0126212, 0.015646337, 0.011587098, 0.0137431305, 0.010932706, 0.012260279, 0.011527572, 0.011149327, 0.012230527, 0.013448763, 0.012817617, 0.010889013, 0.011075049, 0.011207477, 0.010388345, 0.011071449, 0.012234801, 0.010918142, 0.012695882, 0.014530808, 0.0109405015, 0.011188676, 0.013309328, 0.01034981, 0.011915258, 0.012626643, 0.0137360515, 0.015290449, 0.05854479, 0.01082847, 0.01053427, 0.010324774, 0.010817118, 0.013401725, 0.011991804, 0.013722897, 0.012062291, 0.014491062, 0.011200148, 0.01538702, 0.011902131, 0.011031847, 0.02005955, 0.010886253, 0.010965032, 0.012493333, 0.012075487, 0.015173271, 0.011536464, 0.013235686, 0.01216173, 0.010889316, 0.012493065, 0.010804954, 0.014441659, 0.015472563, 0.012311658, 0.010915986, 0.011791567, 0.011168623, 0.010682729, 0.013313694, 0.013067729, 0.01261608, 0.014810217, 0.012728755, 0.011530736, 0.010647509, 0.011483999, 0.014303162, 0.012326104, 0.014653877, 0.012752823, 0.012338776, 0.012727976, 0.014267133, 0.013727028]\n",
      "2022-02-28 14:18:06,687 : INFO : merging changes from 2000 documents into a model of 3204 documents\n",
      "2022-02-28 14:18:06,691 : INFO : topic #54 (0.010): 0.148*\"iter\" + 0.107*\"parallel\" + 0.078*\"eigenvalu\" + 0.048*\"overlap\" + 0.047*\"process\" + 0.040*\"real\" + 0.038*\"direct\" + 0.033*\"eigenvector\" + 0.032*\"administr\" + 0.026*\"increas\"\n",
      "2022-02-28 14:18:06,692 : INFO : topic #46 (0.010): 0.081*\"-\" + 0.059*\",\" + 0.040*\"end\" + 0.034*\"interfer\" + 0.026*\"charact\" + 0.025*\"divisor\" + 0.024*\"divis\" + 0.023*\"reflect\" + 0.023*\"precis\" + 0.020*\"alphabet\"\n",
      "2022-02-28 14:18:06,692 : INFO : topic #5 (0.018): 0.281*\"[\" + 0.210*\"algorithm\" + 0.185*\"(\" + 0.166*\"])\" + 0.030*\"function\" + 0.020*\"-\" + 0.017*\"s14\" + 0.013*\"s15\" + 0.011*\"normal\" + 0.010*\"chebyshev\"\n",
      "2022-02-28 14:18:06,693 : INFO : topic #65 (0.020): 0.374*\"problem\" + 0.082*\"solut\" + 0.050*\"solv\" + 0.031*\",\" + 0.024*\"present\" + 0.024*\"contour\" + 0.023*\"techniqu\" + 0.021*\"analysi\" + 0.019*\"program\" + 0.019*\"specif\"\n",
      "2022-02-28 14:18:06,694 : INFO : topic #51 (0.059): 0.392*\"(\" + 0.370*\")\" + 0.184*\"algorithm\" + 0.017*\"function\" + 0.008*\"-\" + 0.006*\"squar\" + 0.005*\"modifi\" + 0.004*\"span\" + 0.004*\"f1\" + 0.003*\"complex\"\n",
      "2022-02-28 14:18:06,695 : INFO : topic diff=0.224305, rho=0.245426\n",
      "2022-02-28 14:18:07,109 : INFO : -6.451 per-word bound, 87.5 perplexity estimate based on a held-out corpus of 1204 documents with 49783 words\n",
      "2022-02-28 14:18:07,110 : INFO : PROGRESS: pass 14, at document #3204/3204\n",
      "2022-02-28 14:18:07,410 : INFO : optimized alpha [0.011241633, 0.012265131, 0.0122103365, 0.010391682, 0.015318547, 0.018427946, 0.013113264, 0.011087713, 0.013264143, 0.011353174, 0.012257513, 0.011708477, 0.011310291, 0.012915868, 0.014421441, 0.013330322, 0.012572382, 0.012612303, 0.014781338, 0.013922407, 0.010803636, 0.013097397, 0.016975734, 0.012775053, 0.015910048, 0.011693492, 0.013984973, 0.011048873, 0.012356805, 0.011586999, 0.011203953, 0.012429179, 0.013677375, 0.012899524, 0.010958096, 0.011166975, 0.011335843, 0.010474312, 0.0111546265, 0.012338895, 0.011019184, 0.012914569, 0.014770764, 0.01102947, 0.011301898, 0.01345966, 0.010444201, 0.012179804, 0.012788658, 0.013967124, 0.015531539, 0.060880136, 0.010942675, 0.010613862, 0.0103650475, 0.010925847, 0.01362867, 0.0121599985, 0.013981027, 0.012211163, 0.01474764, 0.01129911, 0.015597744, 0.012059328, 0.011110498, 0.020651888, 0.010951562, 0.0110720415, 0.012684834, 0.01221608, 0.0154231945, 0.01165752, 0.013406236, 0.012281891, 0.010970082, 0.012545796, 0.010923407, 0.014594439, 0.015871815, 0.01246014, 0.010988157, 0.011970817, 0.011265922, 0.010737436, 0.013561623, 0.013228058, 0.012753983, 0.0151050985, 0.012869267, 0.011601679, 0.010712734, 0.011598874, 0.014530239, 0.012444484, 0.014755422, 0.012931716, 0.012471851, 0.0128871035, 0.014600177, 0.013957331]\n",
      "2022-02-28 14:18:07,413 : INFO : merging changes from 1204 documents into a model of 3204 documents\n",
      "2022-02-28 14:18:07,420 : INFO : topic #54 (0.010): 0.138*\"iter\" + 0.115*\"parallel\" + 0.081*\"eigenvalu\" + 0.051*\"overlap\" + 0.046*\"process\" + 0.040*\"direct\" + 0.039*\"real\" + 0.035*\"administr\" + 0.030*\"eigenvector\" + 0.029*\":\"\n",
      "2022-02-28 14:18:07,421 : INFO : topic #3 (0.010): 0.118*\",\" + 0.108*\"machin\" + 0.049*\"-\" + 0.030*\"(\" + 0.027*\"cell\" + 0.025*\"5\" + 0.024*\"memori\" + 0.021*\"pass\" + 0.017*\"2\" + 0.016*\"allow\"\n",
      "2022-02-28 14:18:07,422 : INFO : topic #5 (0.018): 0.306*\"[\" + 0.210*\"algorithm\" + 0.179*\"(\" + 0.144*\"])\" + 0.030*\"function\" + 0.020*\"-\" + 0.018*\"s14\" + 0.012*\"f4\" + 0.011*\"s15\" + 0.011*\"normal\"\n",
      "2022-02-28 14:18:07,423 : INFO : topic #65 (0.021): 0.379*\"problem\" + 0.082*\"solut\" + 0.051*\"solv\" + 0.031*\",\" + 0.025*\"contour\" + 0.025*\"present\" + 0.021*\"techniqu\" + 0.020*\"analysi\" + 0.020*\"specif\" + 0.018*\"program\"\n",
      "2022-02-28 14:18:07,424 : INFO : topic #51 (0.061): 0.397*\"(\" + 0.373*\")\" + 0.177*\"algorithm\" + 0.016*\"function\" + 0.008*\"-\" + 0.006*\"squar\" + 0.005*\"modifi\" + 0.005*\"span\" + 0.003*\"f1\" + 0.003*\"complex\"\n",
      "2022-02-28 14:18:07,425 : INFO : topic diff=0.229235, rho=0.245426\n",
      "2022-02-28 14:18:07,429 : INFO : PROGRESS: pass 15, at document #2000/3204\n",
      "2022-02-28 14:18:07,765 : INFO : optimized alpha [0.011252419, 0.012300169, 0.012243045, 0.010421215, 0.0153747685, 0.018855229, 0.013153941, 0.011100692, 0.0133043025, 0.011404666, 0.012306812, 0.011712396, 0.011310491, 0.013006142, 0.014556695, 0.013377615, 0.012746489, 0.012631048, 0.014842855, 0.013953419, 0.010786595, 0.01310587, 0.017292945, 0.01279923, 0.01612857, 0.011734024, 0.014056177, 0.011003529, 0.012426026, 0.011628495, 0.011223923, 0.012467545, 0.013722238, 0.013045176, 0.010963309, 0.0111659765, 0.011353499, 0.010464061, 0.011164701, 0.012365307, 0.011029759, 0.012954454, 0.01484432, 0.011007109, 0.011309433, 0.013581703, 0.01042048, 0.012243717, 0.012818536, 0.014141063, 0.015672801, 0.06357592, 0.010963721, 0.0106359515, 0.010418843, 0.010933251, 0.013682837, 0.012215916, 0.0139303, 0.012223143, 0.014800132, 0.011308107, 0.015777286, 0.012056949, 0.011124356, 0.020870902, 0.010971803, 0.011097541, 0.012712462, 0.012242191, 0.015605472, 0.01166272, 0.013503469, 0.012342906, 0.010983363, 0.012641418, 0.010918709, 0.014882951, 0.016150506, 0.012555657, 0.011011038, 0.012058965, 0.011294592, 0.010764189, 0.013516781, 0.013241572, 0.012888749, 0.015249778, 0.012897262, 0.011659464, 0.0107301865, 0.011723354, 0.01467563, 0.0125323795, 0.014991516, 0.012922089, 0.012491913, 0.012990255, 0.014656067, 0.01403187]\n",
      "2022-02-28 14:18:07,768 : INFO : merging changes from 2000 documents into a model of 3204 documents\n",
      "2022-02-28 14:18:07,772 : INFO : topic #3 (0.010): 0.117*\",\" + 0.113*\"machin\" + 0.053*\"-\" + 0.030*\"(\" + 0.024*\"memori\" + 0.023*\"5\" + 0.023*\"cell\" + 0.023*\"pass\" + 0.016*\"2\" + 0.016*\"extens\"\n",
      "2022-02-28 14:18:07,773 : INFO : topic #54 (0.010): 0.149*\"iter\" + 0.115*\"parallel\" + 0.078*\"eigenvalu\" + 0.049*\"process\" + 0.048*\"overlap\" + 0.041*\"direct\" + 0.040*\"real\" + 0.033*\"eigenvector\" + 0.031*\"administr\" + 0.026*\"increas\"\n",
      "2022-02-28 14:18:07,774 : INFO : topic #5 (0.019): 0.282*\"[\" + 0.209*\"algorithm\" + 0.186*\"(\" + 0.166*\"])\" + 0.030*\"function\" + 0.020*\"-\" + 0.017*\"s14\" + 0.013*\"s15\" + 0.011*\"normal\" + 0.010*\"chebyshev\"\n",
      "2022-02-28 14:18:07,775 : INFO : topic #65 (0.021): 0.377*\"problem\" + 0.082*\"solut\" + 0.051*\"solv\" + 0.031*\",\" + 0.025*\"present\" + 0.024*\"contour\" + 0.022*\"techniqu\" + 0.021*\"analysi\" + 0.019*\"specif\" + 0.019*\"program\"\n",
      "2022-02-28 14:18:07,775 : INFO : topic #51 (0.064): 0.394*\"(\" + 0.371*\")\" + 0.182*\"algorithm\" + 0.017*\"function\" + 0.008*\"-\" + 0.006*\"squar\" + 0.005*\"modifi\" + 0.004*\"span\" + 0.004*\"f1\" + 0.003*\"complex\"\n",
      "2022-02-28 14:18:07,775 : INFO : topic diff=0.204045, rho=0.238352\n",
      "2022-02-28 14:18:08,196 : INFO : -6.443 per-word bound, 87.0 perplexity estimate based on a held-out corpus of 1204 documents with 49783 words\n",
      "2022-02-28 14:18:08,197 : INFO : PROGRESS: pass 15, at document #3204/3204\n",
      "2022-02-28 14:18:08,471 : INFO : optimized alpha [0.011343419, 0.012408457, 0.012397109, 0.010474376, 0.015649704, 0.018978698, 0.0133238705, 0.011188643, 0.013472185, 0.011481433, 0.012429369, 0.011813412, 0.011447327, 0.013096682, 0.014689186, 0.013602905, 0.012837229, 0.012776522, 0.015103796, 0.014169058, 0.010893811, 0.013280753, 0.017402599, 0.012955158, 0.016388297, 0.0118475575, 0.0142941885, 0.011130486, 0.012520407, 0.01168884, 0.011275247, 0.012665413, 0.013952697, 0.013135107, 0.0110352915, 0.011255974, 0.011481565, 0.010541998, 0.011250584, 0.012464746, 0.011124289, 0.013174757, 0.015080185, 0.011100904, 0.011422635, 0.013723653, 0.010512914, 0.012517732, 0.012977416, 0.014366143, 0.015909603, 0.06590916, 0.011082293, 0.010718143, 0.010460336, 0.011052944, 0.013906093, 0.012383698, 0.014183679, 0.012378767, 0.015058452, 0.0114094885, 0.015987128, 0.012211108, 0.011205803, 0.02146386, 0.011037964, 0.011206796, 0.012905602, 0.012380007, 0.015845161, 0.011783621, 0.013670762, 0.012458108, 0.011060285, 0.012690208, 0.011028236, 0.0150321005, 0.016555041, 0.012711386, 0.011081713, 0.012237755, 0.011392144, 0.010819863, 0.013762995, 0.013406678, 0.013036733, 0.015544088, 0.013034895, 0.011726497, 0.0107898, 0.011833635, 0.014910793, 0.012648322, 0.015089845, 0.013097491, 0.012624753, 0.013151692, 0.014994623, 0.014267075]\n",
      "2022-02-28 14:18:08,474 : INFO : merging changes from 1204 documents into a model of 3204 documents\n",
      "2022-02-28 14:18:08,477 : INFO : topic #54 (0.010): 0.139*\"iter\" + 0.125*\"parallel\" + 0.081*\"eigenvalu\" + 0.050*\"overlap\" + 0.049*\"process\" + 0.042*\"direct\" + 0.038*\"real\" + 0.033*\"administr\" + 0.030*\":\" + 0.029*\"eigenvector\"\n",
      "2022-02-28 14:18:08,484 : INFO : topic #46 (0.011): 0.078*\"-\" + 0.061*\",\" + 0.048*\"end\" + 0.041*\"interfer\" + 0.027*\"reflect\" + 0.024*\"divisor\" + 0.022*\"charact\" + 0.022*\"advantag\" + 0.020*\"accord\" + 0.020*\"precis\"\n",
      "2022-02-28 14:18:08,485 : INFO : topic #5 (0.019): 0.307*\"[\" + 0.209*\"algorithm\" + 0.180*\"(\" + 0.144*\"])\" + 0.030*\"function\" + 0.020*\"-\" + 0.018*\"s14\" + 0.012*\"f4\" + 0.012*\"s15\" + 0.011*\"normal\"\n",
      "2022-02-28 14:18:08,485 : INFO : topic #65 (0.021): 0.382*\"problem\" + 0.082*\"solut\" + 0.051*\"solv\" + 0.031*\",\" + 0.025*\"present\" + 0.025*\"contour\" + 0.021*\"techniqu\" + 0.021*\"analysi\" + 0.020*\"specif\" + 0.018*\"program\"\n",
      "2022-02-28 14:18:08,486 : INFO : topic #51 (0.066): 0.399*\"(\" + 0.375*\")\" + 0.175*\"algorithm\" + 0.016*\"function\" + 0.008*\"-\" + 0.006*\"squar\" + 0.005*\"modifi\" + 0.005*\"span\" + 0.003*\"f1\" + 0.002*\"complex\"\n",
      "2022-02-28 14:18:08,486 : INFO : topic diff=0.209023, rho=0.238352\n",
      "2022-02-28 14:18:08,490 : INFO : PROGRESS: pass 16, at document #2000/3204\n",
      "2022-02-28 14:18:08,952 : INFO : optimized alpha [0.011355388, 0.012444228, 0.012431812, 0.010507157, 0.01570582, 0.019400787, 0.0133666005, 0.01120536, 0.013511239, 0.011530637, 0.012474741, 0.011818701, 0.01144601, 0.013186844, 0.014823841, 0.013645573, 0.013013583, 0.012799121, 0.015163415, 0.014197234, 0.010877202, 0.013290259, 0.017718386, 0.0129801, 0.016606214, 0.011894073, 0.0143651385, 0.011087556, 0.012585421, 0.011729622, 0.011296377, 0.012705502, 0.013987956, 0.013273949, 0.01104188, 0.0112524815, 0.011500082, 0.010537126, 0.011261862, 0.012496522, 0.011133416, 0.013211792, 0.015155221, 0.011079281, 0.011427359, 0.013845289, 0.01049238, 0.012584431, 0.013006408, 0.014543012, 0.016048212, 0.068618186, 0.011102772, 0.010738632, 0.010514394, 0.011056249, 0.013957094, 0.012444095, 0.014131421, 0.012388781, 0.015110857, 0.011420958, 0.016163966, 0.012209948, 0.01122208, 0.021675305, 0.011056685, 0.011234354, 0.012935204, 0.012411246, 0.016023029, 0.01179555, 0.01376619, 0.012515019, 0.011073447, 0.012782643, 0.011023612, 0.015325632, 0.016855484, 0.012806747, 0.011104255, 0.01232713, 0.011417573, 0.010844979, 0.013721403, 0.013419573, 0.013169529, 0.015686268, 0.013062178, 0.011784623, 0.010807053, 0.011957849, 0.015055613, 0.012736175, 0.015328263, 0.013087703, 0.012645748, 0.013254627, 0.015048229, 0.014348239]\n",
      "2022-02-28 14:18:08,954 : INFO : merging changes from 2000 documents into a model of 3204 documents\n",
      "2022-02-28 14:18:08,958 : INFO : topic #3 (0.011): 0.121*\"machin\" + 0.120*\",\" + 0.053*\"-\" + 0.028*\"(\" + 0.025*\"memori\" + 0.023*\"5\" + 0.023*\"cell\" + 0.023*\"pass\" + 0.016*\"extens\" + 0.015*\"2\"\n",
      "2022-02-28 14:18:08,958 : INFO : topic #54 (0.011): 0.150*\"iter\" + 0.123*\"parallel\" + 0.077*\"eigenvalu\" + 0.052*\"process\" + 0.047*\"overlap\" + 0.044*\"direct\" + 0.040*\"real\" + 0.033*\"eigenvector\" + 0.030*\"administr\" + 0.025*\":\"\n",
      "2022-02-28 14:18:08,958 : INFO : topic #5 (0.019): 0.284*\"[\" + 0.208*\"algorithm\" + 0.187*\"(\" + 0.166*\"])\" + 0.030*\"function\" + 0.020*\"-\" + 0.017*\"s14\" + 0.013*\"s15\" + 0.011*\"normal\" + 0.011*\"chebyshev\"\n",
      "2022-02-28 14:18:08,959 : INFO : topic #65 (0.022): 0.379*\"problem\" + 0.082*\"solut\" + 0.051*\"solv\" + 0.031*\",\" + 0.025*\"present\" + 0.024*\"contour\" + 0.022*\"techniqu\" + 0.021*\"analysi\" + 0.020*\"specif\" + 0.019*\"program\"\n",
      "2022-02-28 14:18:08,959 : INFO : topic #51 (0.069): 0.396*\"(\" + 0.373*\")\" + 0.181*\"algorithm\" + 0.017*\"function\" + 0.008*\"-\" + 0.006*\"squar\" + 0.005*\"modifi\" + 0.004*\"span\" + 0.004*\"f1\" + 0.002*\"complex\"\n",
      "2022-02-28 14:18:08,960 : INFO : topic diff=0.187067, rho=0.231857\n",
      "2022-02-28 14:18:09,348 : INFO : -6.436 per-word bound, 86.6 perplexity estimate based on a held-out corpus of 1204 documents with 49783 words\n",
      "2022-02-28 14:18:09,348 : INFO : PROGRESS: pass 16, at document #3204/3204\n",
      "2022-02-28 14:18:09,679 : INFO : optimized alpha [0.011449037, 0.012547927, 0.012587929, 0.010565405, 0.015979867, 0.019518547, 0.013530967, 0.011289312, 0.01367612, 0.011608055, 0.012594948, 0.011913111, 0.0115803275, 0.013272873, 0.014950549, 0.013872829, 0.013104626, 0.012941901, 0.015420467, 0.014417848, 0.010986529, 0.013462117, 0.01783764, 0.013130677, 0.016862152, 0.01201003, 0.01459961, 0.011207725, 0.012675383, 0.01179316, 0.01134677, 0.012897919, 0.014234091, 0.013361791, 0.0111125, 0.011345022, 0.011632436, 0.010619718, 0.011343846, 0.012591559, 0.011232478, 0.013436524, 0.015387261, 0.0111691, 0.011542909, 0.0139844455, 0.010583018, 0.01286358, 0.013162448, 0.014770656, 0.016284082, 0.070931666, 0.011225577, 0.010819217, 0.010559102, 0.011169488, 0.01417687, 0.012611572, 0.014380465, 0.012541621, 0.015359415, 0.011513734, 0.016363736, 0.012361314, 0.011304122, 0.022277107, 0.011125841, 0.011345958, 0.01312514, 0.012548886, 0.016261917, 0.011916455, 0.013933173, 0.012627917, 0.011150987, 0.0128327785, 0.011133208, 0.015474298, 0.017278513, 0.012959693, 0.011171424, 0.012508073, 0.011513176, 0.01090165, 0.013955575, 0.013581653, 0.013319987, 0.015983203, 0.013197184, 0.0118547855, 0.010867608, 0.012070776, 0.015284539, 0.01285478, 0.01542355, 0.013260004, 0.012771182, 0.013418405, 0.015395347, 0.01458581]\n",
      "2022-02-28 14:18:09,682 : INFO : merging changes from 1204 documents into a model of 3204 documents\n",
      "2022-02-28 14:18:09,685 : INFO : topic #3 (0.011): 0.124*\",\" + 0.123*\"machin\" + 0.049*\"-\" + 0.027*\"cell\" + 0.026*\"(\" + 0.025*\"5\" + 0.025*\"memori\" + 0.021*\"pass\" + 0.017*\"extens\" + 0.017*\"allow\"\n",
      "2022-02-28 14:18:09,686 : INFO : topic #46 (0.011): 0.078*\"-\" + 0.062*\",\" + 0.048*\"end\" + 0.041*\"interfer\" + 0.028*\"reflect\" + 0.024*\"divisor\" + 0.022*\"charact\" + 0.022*\"advantag\" + 0.020*\"accord\" + 0.020*\"precis\"\n",
      "2022-02-28 14:18:09,686 : INFO : topic #5 (0.020): 0.307*\"[\" + 0.208*\"algorithm\" + 0.181*\"(\" + 0.145*\"])\" + 0.030*\"function\" + 0.020*\"-\" + 0.018*\"s14\" + 0.012*\"s15\" + 0.012*\"f4\" + 0.011*\"normal\"\n",
      "2022-02-28 14:18:09,687 : INFO : topic #65 (0.022): 0.383*\"problem\" + 0.083*\"solut\" + 0.051*\"solv\" + 0.030*\",\" + 0.026*\"present\" + 0.025*\"contour\" + 0.021*\"analysi\" + 0.021*\"techniqu\" + 0.020*\"specif\" + 0.019*\"program\"\n",
      "2022-02-28 14:18:09,687 : INFO : topic #51 (0.071): 0.401*\"(\" + 0.376*\")\" + 0.175*\"algorithm\" + 0.016*\"function\" + 0.008*\"-\" + 0.006*\"squar\" + 0.005*\"modifi\" + 0.005*\"span\" + 0.003*\"f1\" + 0.002*\"complex\"\n",
      "2022-02-28 14:18:09,688 : INFO : topic diff=0.191697, rho=0.231857\n",
      "2022-02-28 14:18:09,693 : INFO : PROGRESS: pass 17, at document #2000/3204\n",
      "2022-02-28 14:18:10,113 : INFO : optimized alpha [0.011460825, 0.012583026, 0.012621672, 0.010596469, 0.01603414, 0.019942217, 0.013568026, 0.011312218, 0.013712605, 0.011657722, 0.012639333, 0.011921155, 0.011580213, 0.013361481, 0.015084807, 0.013918815, 0.0132804, 0.012962423, 0.015485401, 0.014448266, 0.010972781, 0.013471122, 0.018150367, 0.013154946, 0.017073926, 0.012059817, 0.014667144, 0.0111645125, 0.012740674, 0.011837242, 0.011371581, 0.012939801, 0.014271257, 0.013495582, 0.011119131, 0.011344292, 0.011651811, 0.010624739, 0.011358896, 0.012622811, 0.011240162, 0.013475316, 0.015460487, 0.011148155, 0.0115462225, 0.014104194, 0.010563088, 0.012934584, 0.01319063, 0.014955592, 0.016421942, 0.07360685, 0.011241732, 0.010844264, 0.010614666, 0.011179083, 0.014227993, 0.0126736015, 0.014328321, 0.012554055, 0.0154066, 0.011526401, 0.01653984, 0.012357081, 0.011321474, 0.022488398, 0.011145594, 0.011371688, 0.013152299, 0.012583616, 0.016444687, 0.011928056, 0.014026847, 0.012683783, 0.011165271, 0.012929564, 0.011132416, 0.015767835, 0.017578406, 0.013056397, 0.011193682, 0.0125931455, 0.011544704, 0.010928889, 0.013913957, 0.013594045, 0.013452493, 0.016122965, 0.0132237775, 0.011911919, 0.010884714, 0.012200292, 0.015435782, 0.012945612, 0.015659254, 0.013250052, 0.01279023, 0.013521178, 0.015446686, 0.014665263]\n",
      "2022-02-28 14:18:10,116 : INFO : merging changes from 2000 documents into a model of 3204 documents\n",
      "2022-02-28 14:18:10,120 : INFO : topic #46 (0.011): 0.081*\"-\" + 0.060*\",\" + 0.041*\"end\" + 0.034*\"interfer\" + 0.026*\"charact\" + 0.025*\"divisor\" + 0.024*\"reflect\" + 0.023*\"precis\" + 0.023*\"divis\" + 0.020*\"alphabet\"\n",
      "2022-02-28 14:18:10,120 : INFO : topic #54 (0.011): 0.150*\"iter\" + 0.132*\"parallel\" + 0.077*\"eigenvalu\" + 0.053*\"process\" + 0.047*\"overlap\" + 0.045*\"direct\" + 0.039*\"real\" + 0.033*\"eigenvector\" + 0.030*\"administr\" + 0.026*\":\"\n",
      "2022-02-28 14:18:10,121 : INFO : topic #5 (0.020): 0.284*\"[\" + 0.208*\"algorithm\" + 0.187*\"(\" + 0.166*\"])\" + 0.030*\"function\" + 0.020*\"-\" + 0.017*\"s14\" + 0.013*\"s15\" + 0.011*\"normal\" + 0.011*\"chebyshev\"\n",
      "2022-02-28 14:18:10,121 : INFO : topic #65 (0.022): 0.382*\"problem\" + 0.082*\"solut\" + 0.051*\"solv\" + 0.030*\",\" + 0.026*\"present\" + 0.024*\"contour\" + 0.022*\"techniqu\" + 0.021*\"analysi\" + 0.020*\"specif\" + 0.020*\"program\"\n",
      "2022-02-28 14:18:10,123 : INFO : topic #51 (0.074): 0.397*\"(\" + 0.374*\")\" + 0.180*\"algorithm\" + 0.017*\"function\" + 0.008*\"-\" + 0.006*\"squar\" + 0.005*\"modifi\" + 0.004*\"span\" + 0.004*\"f1\" + 0.001*\"complex\"\n",
      "2022-02-28 14:18:10,124 : INFO : topic diff=0.172754, rho=0.225865\n",
      "2022-02-28 14:18:10,664 : INFO : -6.428 per-word bound, 86.1 perplexity estimate based on a held-out corpus of 1204 documents with 49783 words\n",
      "2022-02-28 14:18:10,665 : INFO : PROGRESS: pass 17, at document #3204/3204\n",
      "2022-02-28 14:18:10,957 : INFO : optimized alpha [0.011561422, 0.012684774, 0.012770447, 0.01064967, 0.01630135, 0.020054411, 0.013732208, 0.011401002, 0.0138746835, 0.01173145, 0.012762061, 0.012013833, 0.011714353, 0.013448096, 0.015214545, 0.014145499, 0.013366766, 0.013102683, 0.015736017, 0.014657274, 0.011078065, 0.013645092, 0.018258613, 0.013305369, 0.0173263, 0.012166902, 0.014898312, 0.01128672, 0.012828834, 0.01189726, 0.011418964, 0.013136783, 0.014511517, 0.013576359, 0.011188483, 0.011433045, 0.011784078, 0.010707797, 0.011441544, 0.012716085, 0.011339618, 0.013699505, 0.01568605, 0.011249095, 0.011666306, 0.014243474, 0.010656098, 0.013214266, 0.013344005, 0.015186056, 0.016654084, 0.07586006, 0.011360459, 0.010925424, 0.010664457, 0.0112946695, 0.014447276, 0.012840996, 0.014570666, 0.012709062, 0.015648535, 0.011624043, 0.01674222, 0.012512782, 0.011401983, 0.023086686, 0.011215642, 0.01147918, 0.013336865, 0.012721239, 0.016689306, 0.012049076, 0.0141910035, 0.012797043, 0.011243512, 0.012978485, 0.0112442, 0.015913064, 0.018017314, 0.013206933, 0.01126173, 0.012766912, 0.011640757, 0.010986591, 0.014141734, 0.013753328, 0.013602956, 0.016407419, 0.013356345, 0.011978446, 0.010948286, 0.012322866, 0.015661504, 0.013057165, 0.015751584, 0.013419354, 0.012913318, 0.013684914, 0.015790898, 0.01489982]\n",
      "2022-02-28 14:18:10,960 : INFO : merging changes from 1204 documents into a model of 3204 documents\n",
      "2022-02-28 14:18:10,965 : INFO : topic #37 (0.011): 0.067*\"program\" + 0.056*\"sequenti\" + 0.051*\"multiprogram\" + 0.048*\"hierarch\" + 0.041*\"oper\" + 0.038*\"principl\" + 0.036*\"system\" + 0.033*\"number\" + 0.032*\"structur\" + 0.032*\"solid\"\n",
      "2022-02-28 14:18:10,966 : INFO : topic #3 (0.011): 0.130*\"machin\" + 0.127*\",\" + 0.049*\"-\" + 0.027*\"cell\" + 0.025*\"memori\" + 0.025*\"5\" + 0.024*\"(\" + 0.020*\"pass\" + 0.017*\"extens\" + 0.015*\"allow\"\n",
      "2022-02-28 14:18:10,966 : INFO : topic #5 (0.020): 0.308*\"[\" + 0.208*\"algorithm\" + 0.181*\"(\" + 0.146*\"])\" + 0.031*\"function\" + 0.020*\"-\" + 0.018*\"s14\" + 0.012*\"s15\" + 0.012*\"f4\" + 0.011*\"normal\"\n",
      "2022-02-28 14:18:10,967 : INFO : topic #65 (0.023): 0.385*\"problem\" + 0.083*\"solut\" + 0.051*\"solv\" + 0.030*\",\" + 0.026*\"present\" + 0.025*\"contour\" + 0.021*\"analysi\" + 0.021*\"techniqu\" + 0.020*\"specif\" + 0.019*\"program\"\n",
      "2022-02-28 14:18:10,967 : INFO : topic #51 (0.076): 0.401*\"(\" + 0.376*\")\" + 0.174*\"algorithm\" + 0.016*\"function\" + 0.008*\"-\" + 0.006*\"squar\" + 0.005*\"modifi\" + 0.005*\"span\" + 0.003*\"f1\" + 0.001*\"complex\"\n",
      "2022-02-28 14:18:10,968 : INFO : topic diff=0.177573, rho=0.225865\n",
      "2022-02-28 14:18:10,972 : INFO : PROGRESS: pass 18, at document #2000/3204\n",
      "2022-02-28 14:18:11,360 : INFO : optimized alpha [0.011572976, 0.012720669, 0.012800594, 0.010687423, 0.01635752, 0.02047779, 0.013769877, 0.011424792, 0.013908698, 0.011779024, 0.012807036, 0.012019117, 0.0117127625, 0.013536756, 0.015345144, 0.014193214, 0.013545052, 0.01312123, 0.015788633, 0.014688286, 0.01106584, 0.013653563, 0.018568406, 0.013328962, 0.01753002, 0.012211681, 0.014967451, 0.011245678, 0.012890175, 0.011943258, 0.011441028, 0.013178982, 0.014547335, 0.013706763, 0.01119519, 0.01143499, 0.011804227, 0.010711625, 0.011455151, 0.012748215, 0.011347198, 0.013738527, 0.015759246, 0.0112336865, 0.011672011, 0.014369332, 0.010637874, 0.013288163, 0.013371437, 0.0153708905, 0.01679147, 0.07852619, 0.011378765, 0.010948859, 0.0107227145, 0.011303987, 0.014497019, 0.01290323, 0.01451866, 0.012721016, 0.01570112, 0.011637802, 0.016917815, 0.012512529, 0.0114178555, 0.023298014, 0.011233909, 0.0115069905, 0.013363119, 0.012753799, 0.016871663, 0.012063061, 0.014286163, 0.012854731, 0.011256384, 0.0130738085, 0.01124464, 0.016204957, 0.018324712, 0.013303594, 0.0112862, 0.012853402, 0.01167175, 0.011015888, 0.014096983, 0.013769836, 0.013738318, 0.016555754, 0.013379385, 0.012034666, 0.010965253, 0.01245785, 0.015814176, 0.013146699, 0.01598656, 0.013409273, 0.012930551, 0.013783066, 0.015841939, 0.014982607]\n",
      "2022-02-28 14:18:11,364 : INFO : merging changes from 2000 documents into a model of 3204 documents\n",
      "2022-02-28 14:18:11,367 : INFO : topic #46 (0.011): 0.081*\"-\" + 0.061*\",\" + 0.041*\"end\" + 0.034*\"interfer\" + 0.026*\"charact\" + 0.025*\"divisor\" + 0.024*\"reflect\" + 0.023*\"divis\" + 0.023*\"precis\" + 0.020*\"accord\"\n",
      "2022-02-28 14:18:11,368 : INFO : topic #3 (0.011): 0.136*\"machin\" + 0.126*\",\" + 0.053*\"-\" + 0.025*\"memori\" + 0.025*\"(\" + 0.024*\"cell\" + 0.024*\"5\" + 0.022*\"pass\" + 0.018*\"extens\" + 0.014*\"allow\"\n",
      "2022-02-28 14:18:11,368 : INFO : topic #5 (0.020): 0.285*\"[\" + 0.208*\"algorithm\" + 0.187*\"(\" + 0.165*\"])\" + 0.031*\"function\" + 0.020*\"-\" + 0.017*\"s14\" + 0.013*\"s15\" + 0.011*\"normal\" + 0.011*\"chebyshev\"\n",
      "2022-02-28 14:18:11,369 : INFO : topic #65 (0.023): 0.383*\"problem\" + 0.082*\"solut\" + 0.051*\"solv\" + 0.030*\",\" + 0.026*\"present\" + 0.024*\"contour\" + 0.022*\"techniqu\" + 0.022*\"analysi\" + 0.020*\"specif\" + 0.020*\"program\"\n",
      "2022-02-28 14:18:11,369 : INFO : topic #51 (0.079): 0.398*\"(\" + 0.374*\")\" + 0.179*\"algorithm\" + 0.017*\"function\" + 0.008*\"-\" + 0.006*\"squar\" + 0.005*\"modifi\" + 0.004*\"span\" + 0.004*\"f1\" + 0.001*\"complex\"\n",
      "2022-02-28 14:18:11,370 : INFO : topic diff=0.160874, rho=0.220316\n",
      "2022-02-28 14:18:11,855 : INFO : -6.422 per-word bound, 85.8 perplexity estimate based on a held-out corpus of 1204 documents with 49783 words\n",
      "2022-02-28 14:18:11,855 : INFO : PROGRESS: pass 18, at document #3204/3204\n",
      "2022-02-28 14:18:12,120 : INFO : optimized alpha [0.011674071, 0.0128230015, 0.012949346, 0.01073966, 0.016621264, 0.020584496, 0.013926306, 0.011512073, 0.014068142, 0.011851401, 0.0129253855, 0.012112367, 0.011844775, 0.01362167, 0.01547237, 0.014419655, 0.013634326, 0.013259155, 0.016038975, 0.014905217, 0.011171342, 0.013819841, 0.018676216, 0.0134769725, 0.01778843, 0.012319182, 0.015195507, 0.011363694, 0.012979005, 0.012006495, 0.011491861, 0.013373396, 0.0147900125, 0.013788229, 0.011263353, 0.011526443, 0.011934421, 0.010789295, 0.01153841, 0.012844521, 0.011447085, 0.01396508, 0.015978627, 0.01133084, 0.0117900595, 0.014514115, 0.010731254, 0.013566106, 0.013522336, 0.015604469, 0.017016971, 0.080648445, 0.011491421, 0.011030603, 0.010773572, 0.0114281345, 0.014713313, 0.013070685, 0.014757295, 0.012875973, 0.015942648, 0.011740133, 0.017119914, 0.0126634305, 0.011496974, 0.023888364, 0.011304812, 0.011614819, 0.013554767, 0.0128892, 0.017106611, 0.012182074, 0.014465817, 0.012973036, 0.01133738, 0.013121578, 0.011354485, 0.01634982, 0.018763471, 0.013451805, 0.011355147, 0.0130249085, 0.011768317, 0.011072597, 0.014321286, 0.013929052, 0.013896517, 0.016843203, 0.013512121, 0.012099928, 0.011025688, 0.012578594, 0.016045691, 0.013258757, 0.016076058, 0.013575856, 0.013046738, 0.013949436, 0.016192274, 0.015217186]\n",
      "2022-02-28 14:18:12,124 : INFO : merging changes from 1204 documents into a model of 3204 documents\n",
      "2022-02-28 14:18:12,128 : INFO : topic #46 (0.011): 0.079*\"-\" + 0.063*\",\" + 0.047*\"end\" + 0.040*\"interfer\" + 0.027*\"reflect\" + 0.023*\"divisor\" + 0.022*\"advantag\" + 0.022*\"charact\" + 0.022*\"accord\" + 0.020*\"precis\"\n",
      "2022-02-28 14:18:12,129 : INFO : topic #3 (0.011): 0.136*\"machin\" + 0.129*\",\" + 0.049*\"-\" + 0.027*\"cell\" + 0.026*\"memori\" + 0.025*\"5\" + 0.023*\"(\" + 0.021*\"pass\" + 0.018*\"extens\" + 0.015*\"allow\"\n",
      "2022-02-28 14:18:12,129 : INFO : topic #5 (0.021): 0.308*\"[\" + 0.208*\"algorithm\" + 0.181*\"(\" + 0.146*\"])\" + 0.031*\"function\" + 0.020*\"-\" + 0.018*\"s14\" + 0.012*\"s15\" + 0.011*\"f4\" + 0.011*\"normal\"\n",
      "2022-02-28 14:18:12,129 : INFO : topic #65 (0.024): 0.387*\"problem\" + 0.083*\"solut\" + 0.051*\"solv\" + 0.030*\",\" + 0.026*\"present\" + 0.025*\"contour\" + 0.021*\"analysi\" + 0.021*\"specif\" + 0.020*\"techniqu\" + 0.019*\"program\"\n",
      "2022-02-28 14:18:12,131 : INFO : topic #51 (0.081): 0.402*\"(\" + 0.377*\")\" + 0.173*\"algorithm\" + 0.016*\"function\" + 0.008*\"-\" + 0.006*\"squar\" + 0.005*\"modifi\" + 0.005*\"span\" + 0.003*\"f1\" + 0.001*\"complex\"\n",
      "2022-02-28 14:18:12,132 : INFO : topic diff=0.165333, rho=0.220316\n",
      "2022-02-28 14:18:12,137 : INFO : PROGRESS: pass 19, at document #2000/3204\n",
      "2022-02-28 14:18:12,471 : INFO : optimized alpha [0.011684144, 0.012855475, 0.012978774, 0.010779233, 0.016675726, 0.021001015, 0.013961582, 0.011534246, 0.0141058685, 0.011900798, 0.012972304, 0.012117659, 0.011843057, 0.01370897, 0.015602814, 0.014462894, 0.013809382, 0.013278639, 0.01609363, 0.014938395, 0.011162961, 0.013829351, 0.018983215, 0.013499994, 0.017989956, 0.012365897, 0.015266302, 0.011324745, 0.013036564, 0.012053086, 0.011514958, 0.013417388, 0.01482289, 0.013918411, 0.011270087, 0.011532173, 0.011951512, 0.010795483, 0.011554352, 0.012874754, 0.011454538, 0.014007403, 0.016051892, 0.011313371, 0.01179816, 0.0146351885, 0.010714624, 0.013641488, 0.013549065, 0.015789386, 0.017152121, 0.08330006, 0.011509343, 0.011057245, 0.010832155, 0.011438451, 0.014763285, 0.013130378, 0.014705388, 0.012890219, 0.015993701, 0.01175743, 0.017293254, 0.012662905, 0.011513896, 0.024092061, 0.011327733, 0.011642122, 0.013584472, 0.012925246, 0.017288506, 0.012197063, 0.014562608, 0.013029694, 0.011351333, 0.013215496, 0.011353657, 0.0166402, 0.019076414, 0.013551398, 0.011380529, 0.013110084, 0.011797524, 0.011102751, 0.014281336, 0.013943493, 0.01402732, 0.016989347, 0.013539001, 0.012155336, 0.011042494, 0.012716384, 0.016201584, 0.013345582, 0.016310422, 0.013565624, 0.013063613, 0.014047619, 0.016239433, 0.015303349]\n",
      "2022-02-28 14:18:12,474 : INFO : merging changes from 2000 documents into a model of 3204 documents\n",
      "2022-02-28 14:18:12,478 : INFO : topic #46 (0.011): 0.081*\"-\" + 0.061*\",\" + 0.041*\"end\" + 0.034*\"interfer\" + 0.026*\"charact\" + 0.025*\"divisor\" + 0.024*\"reflect\" + 0.023*\"precis\" + 0.023*\"divis\" + 0.021*\"accord\"\n",
      "2022-02-28 14:18:12,478 : INFO : topic #37 (0.011): 0.068*\"program\" + 0.056*\"multiprogram\" + 0.054*\"sequenti\" + 0.043*\"hierarch\" + 0.040*\"oper\" + 0.038*\"principl\" + 0.037*\"system\" + 0.032*\"number\" + 0.030*\"structur\" + 0.029*\"solid\"\n",
      "2022-02-28 14:18:12,479 : INFO : topic #5 (0.021): 0.286*\"[\" + 0.208*\"algorithm\" + 0.188*\"(\" + 0.165*\"])\" + 0.031*\"function\" + 0.020*\"-\" + 0.017*\"s14\" + 0.013*\"s15\" + 0.011*\"normal\" + 0.011*\"chebyshev\"\n",
      "2022-02-28 14:18:12,479 : INFO : topic #65 (0.024): 0.386*\"problem\" + 0.082*\"solut\" + 0.051*\"solv\" + 0.030*\",\" + 0.026*\"present\" + 0.024*\"contour\" + 0.022*\"analysi\" + 0.022*\"techniqu\" + 0.020*\"specif\" + 0.020*\"program\"\n",
      "2022-02-28 14:18:12,479 : INFO : topic #51 (0.083): 0.399*\"(\" + 0.375*\")\" + 0.179*\"algorithm\" + 0.017*\"function\" + 0.008*\"-\" + 0.006*\"squar\" + 0.005*\"modifi\" + 0.004*\"span\" + 0.004*\"f1\" + 0.001*\"complex\"\n",
      "2022-02-28 14:18:12,480 : INFO : topic diff=0.150668, rho=0.215156\n",
      "2022-02-28 14:18:12,884 : INFO : -6.417 per-word bound, 85.4 perplexity estimate based on a held-out corpus of 1204 documents with 49783 words\n",
      "2022-02-28 14:18:12,885 : INFO : PROGRESS: pass 19, at document #3204/3204\n",
      "2022-02-28 14:18:13,150 : INFO : optimized alpha [0.011783604, 0.012956103, 0.013127625, 0.010838304, 0.016942311, 0.021098737, 0.014120598, 0.011624246, 0.0142628895, 0.011971893, 0.013095689, 0.012209382, 0.011979375, 0.013792262, 0.015727587, 0.014681424, 0.01390166, 0.013419119, 0.01634092, 0.015152535, 0.011266791, 0.013995687, 0.01908378, 0.013645692, 0.018235248, 0.012471668, 0.015494231, 0.011442872, 0.013126113, 0.012117312, 0.011564968, 0.013609403, 0.015062806, 0.014003058, 0.011339159, 0.011622142, 0.012077615, 0.010869923, 0.011642495, 0.012971735, 0.011552805, 0.014233963, 0.016265374, 0.01141103, 0.011912273, 0.014772372, 0.010810376, 0.013927484, 0.013700102, 0.01602331, 0.017377371, 0.08529272, 0.011622446, 0.011135673, 0.010886012, 0.011560788, 0.014979345, 0.013293288, 0.014940568, 0.013042815, 0.01622629, 0.011858173, 0.017495204, 0.0128138065, 0.011587511, 0.02467439, 0.011397454, 0.011752463, 0.013773618, 0.013060917, 0.017526405, 0.0123142125, 0.0147345755, 0.013143744, 0.011433035, 0.013264584, 0.011465872, 0.016781783, 0.019521572, 0.013699871, 0.011446317, 0.01328645, 0.011888308, 0.011162499, 0.014502467, 0.01409524, 0.014188284, 0.017279705, 0.0136719905, 0.01221942, 0.011100001, 0.01284458, 0.016436134, 0.013463108, 0.016397193, 0.01372969, 0.013175581, 0.01421166, 0.016587209, 0.015529675]\n",
      "2022-02-28 14:18:13,153 : INFO : merging changes from 1204 documents into a model of 3204 documents\n",
      "2022-02-28 14:18:13,157 : INFO : topic #46 (0.011): 0.079*\"-\" + 0.063*\",\" + 0.047*\"end\" + 0.040*\"interfer\" + 0.027*\"reflect\" + 0.023*\"divisor\" + 0.023*\"accord\" + 0.022*\"advantag\" + 0.022*\"charact\" + 0.021*\"precis\"\n",
      "2022-02-28 14:18:13,157 : INFO : topic #3 (0.011): 0.142*\"machin\" + 0.132*\",\" + 0.049*\"-\" + 0.027*\"cell\" + 0.026*\"memori\" + 0.025*\"5\" + 0.021*\"(\" + 0.021*\"pass\" + 0.019*\"extens\" + 0.015*\"allow\"\n",
      "2022-02-28 14:18:13,157 : INFO : topic #5 (0.021): 0.308*\"[\" + 0.208*\"algorithm\" + 0.181*\"(\" + 0.146*\"])\" + 0.031*\"function\" + 0.020*\"-\" + 0.018*\"s14\" + 0.012*\"s15\" + 0.012*\"normal\" + 0.011*\"f4\"\n",
      "2022-02-28 14:18:13,158 : INFO : topic #65 (0.025): 0.389*\"problem\" + 0.082*\"solut\" + 0.051*\"solv\" + 0.030*\",\" + 0.027*\"present\" + 0.025*\"contour\" + 0.022*\"analysi\" + 0.021*\"specif\" + 0.020*\"techniqu\" + 0.019*\"program\"\n",
      "2022-02-28 14:18:13,158 : INFO : topic #51 (0.085): 0.402*\"(\" + 0.377*\")\" + 0.173*\"algorithm\" + 0.016*\"function\" + 0.008*\"-\" + 0.006*\"squar\" + 0.005*\"modifi\" + 0.005*\"span\" + 0.003*\"f1\" + 0.001*\"complex\"\n",
      "2022-02-28 14:18:13,159 : INFO : topic diff=0.154982, rho=0.215156\n"
     ]
    },
    {
     "data": {
      "text/plain": [
       "[(0, 0.0048113153),\n",
       " (1, 0.005290054),\n",
       " (2, 0.0053600874),\n",
       " (3, 0.0044253436),\n",
       " (4, 0.006917646),\n",
       " (5, 0.008614739),\n",
       " (6, 0.005765524),\n",
       " (7, 0.0047462485),\n",
       " (8, 0.0058236225),\n",
       " (9, 0.004888195),\n",
       " (10, 0.0053470475),\n",
       " (11, 0.004985163),\n",
       " (12, 0.00489125),\n",
       " (13, 0.0056314627),\n",
       " (14, 0.006421667),\n",
       " (15, 0.0059945127),\n",
       " (16, 0.0056761303),\n",
       " (17, 0.0054791057),\n",
       " (18, 0.006672095),\n",
       " (19, 0.0061868704),\n",
       " (20, 0.0046002977),\n",
       " (21, 0.0057145217),\n",
       " (22, 0.0077920207),\n",
       " (23, 0.005571617),\n",
       " (24, 0.00744556),\n",
       " (25, 0.0050922562),\n",
       " (26, 0.0063263867),\n",
       " (27, 0.0046721925),\n",
       " (28, 0.00535947),\n",
       " (29, 0.0049475706),\n",
       " (30, 0.0047220453),\n",
       " (31, 0.0055568),\n",
       " (32, 0.006150233),\n",
       " (33, 0.005717532),\n",
       " (34, 0.0046298457),\n",
       " (35, 0.00474539),\n",
       " (36, 0.004931362),\n",
       " (37, 0.004438254),\n",
       " (38, 0.0047537),\n",
       " (39, 0.005296436),\n",
       " (40, 0.004717079),\n",
       " (41, 0.0058118114),\n",
       " (42, 0.0066412487),\n",
       " (43, 0.0046591912),\n",
       " (44, 0.004863852),\n",
       " (45, 0.0060316473),\n",
       " (46, 0.004413941),\n",
       " (47, 0.0056866743),\n",
       " (48, 0.005593833),\n",
       " (49, 0.0065424126),\n",
       " (50, 0.007095284),\n",
       " (51, 0.034825522),\n",
       " (52, 0.0047455137),\n",
       " (53, 0.0045467615),\n",
       " (54, 0.004444823),\n",
       " (55, 0.0047203386),\n",
       " (56, 0.0061161555),\n",
       " (57, 0.0054277284),\n",
       " (58, 0.0061003226),\n",
       " (59, 0.005325459),\n",
       " (60, 0.0066252905),\n",
       " (61, 0.0048417626),\n",
       " (62, 0.0071433955),\n",
       " (63, 0.005231953),\n",
       " (64, 0.0047312495),\n",
       " (65, 0.0100747),\n",
       " (66, 0.004653648),\n",
       " (67, 0.0047986005),\n",
       " (68, 0.00562385),\n",
       " (69, 0.00533285),\n",
       " (70, 0.007156135),\n",
       " (71, 0.005027966),\n",
       " (72, 0.006016215),\n",
       " (73, 0.005366669),\n",
       " (74, 0.004668176),\n",
       " (75, 0.0054160086),\n",
       " (76, 0.0046815835),\n",
       " (77, 0.0068521015),\n",
       " (78, 0.007970774),\n",
       " (79, 0.0055937385),\n",
       " (80, 0.0046735993),\n",
       " (81, 0.0054249363),\n",
       " (82, 0.0048540668),\n",
       " (83, 0.004557715),\n",
       " (84, 0.0059214435),\n",
       " (85, 0.0057551702),\n",
       " (86, 0.0057931608),\n",
       " (87, 0.0070554065),\n",
       " (88, 0.005582355),\n",
       " (89, 0.0049892617),\n",
       " (90, 0.004532196),\n",
       " (91, 0.0052445186),\n",
       " (92, 0.006710971),\n",
       " (93, 0.005497067),\n",
       " (94, 0.0066950712),\n",
       " (95, 0.0056059137),\n",
       " (96, 0.005379668),\n",
       " (97, 0.41410616),\n",
       " (98, 0.006772656),\n",
       " (99, 0.0063408585)]"
      ]
     },
     "execution_count": 89,
     "metadata": {},
     "output_type": "execute_result"
    }
   ],
   "source": [
    "##### Function check\n",
    "lda = LdaRetrievalModel(doc_repr_2)\n",
    "lda.train_model()\n",
    "\n",
    "# you can now get an LDA vector for a given query in the following way:\n",
    "lda.vectorize_query(\"report\")\n",
    "##### "
   ]
  },
  {
   "cell_type": "markdown",
   "metadata": {
    "deletable": false,
    "editable": false,
    "nbgrader": {
     "cell_type": "markdown",
     "checksum": "32d83b6ea79ca3ddb789a7f8805a1b25",
     "grade": false,
     "grade_id": "cell-0e24b727d5908c0e",
     "locked": true,
     "points": 5,
     "schema_version": 3,
     "solution": false,
     "task": true
    }
   },
   "source": [
    "\\#### Please do not change this. This cell is used for grading."
   ]
  },
  {
   "cell_type": "markdown",
   "metadata": {
    "deletable": false,
    "editable": false,
    "nbgrader": {
     "cell_type": "markdown",
     "checksum": "114a934f0b9ce696e6cf09d3b8da6a3d",
     "grade": false,
     "grade_id": "cell-b1bffcb970b18aeb",
     "locked": true,
     "schema_version": 3,
     "solution": false,
     "task": false
    }
   },
   "source": [
    "---\n",
    "Now we can use the `DenseRetrievalModel` class to obtain an LDA search function.\n",
    "You can test your LDA model in the following cell: Try finding queries which are lexically different to documents, but semantically similar - does LDA work well for these queries?!"
   ]
  },
  {
   "cell_type": "code",
   "execution_count": 90,
   "metadata": {},
   "outputs": [
    {
     "data": {
      "application/vnd.jupyter.widget-view+json": {
       "model_id": "d9418366f33046858981afb957303f2a",
       "version_major": 2,
       "version_minor": 0
      },
      "text/plain": [
       "Text(value='', description='Search Bar')"
      ]
     },
     "metadata": {},
     "output_type": "display_data"
    }
   ],
   "source": [
    "drm_lda = DenseRetrievalRanker(lda, jenson_shannon_sim)\n",
    "\n",
    "# test your LDA model\n",
    "search_fn = drm_lda.search\n",
    "\n",
    "text = widgets.Text(description=\"Search Bar\", width=200)\n",
    "display(text)\n",
    "\n",
    "\n",
    "text.on_submit(handle_submit_2)"
   ]
  },
  {
   "cell_type": "markdown",
   "metadata": {
    "deletable": false,
    "editable": false,
    "nbgrader": {
     "cell_type": "markdown",
     "checksum": "9d7f15863b655119b45f4d89354e5661",
     "grade": false,
     "grade_id": "cell-190cd0854b2791cc",
     "locked": true,
     "schema_version": 3,
     "solution": false,
     "task": false
    }
   },
   "source": [
    "## Section 8: Word2Vec/Doc2Vec (20 points) <a class=\"anchor\" id=\"2vec\"></a>\n",
    "\n",
    "[Back to Part 2](#part2)\n",
    "\n",
    "We will implement two other methods here, the Word2Vec model and the Doc2Vec model, also using `gensim`. Word2Vec creates representations of words, not documents, so the word level vectors need to be aggregated to obtain a representation for the document. Here, we will simply take the mean of the vectors. \n",
    "\n",
    "\n",
    "A drawback of these models is that they need a lot of training data. Our dataset is tiny, so in addition to using a model trained on the data, we will also use a pre-trained model for Word2Vec (this will be automatically downloaded).     \n",
    "\n",
    "*Note*:\n",
    "1. The code in vectorize_documents / vectorize_query should return gensim-like vectors i.e `[(dim, val), .. (dim, val)]`. \n",
    "2. For Word2Vec: You should also handle the following two cases: (a) A word in the query is not present in the vocabulary of the model and (b) none of the words in the query are present in the model - you can return 0 scores for all documents in this case. For either of these, you can check if a `word` is present in the vocab by using `word in self.model`\n"
   ]
  },
  {
   "cell_type": "code",
   "execution_count": 91,
   "metadata": {
    "deletable": false,
    "nbgrader": {
     "cell_type": "code",
     "checksum": "83ab733608ed14c29c09b36b4e1b6daa",
     "grade": false,
     "grade_id": "cell-2b73759f9baf688f",
     "locked": false,
     "schema_version": 3,
     "solution": true,
     "task": false
    },
    "tags": []
   },
   "outputs": [
    {
     "name": "stderr",
     "output_type": "stream",
     "text": [
      "2022-02-28 14:18:14,437 : INFO : adding document #0 to Dictionary(0 unique tokens: [])\n",
      "2022-02-28 14:18:14,546 : INFO : built Dictionary(5937 unique tokens: ['-', 'algebra', 'intern', 'languag', 'preliminari']...) from 3204 documents (total 115969 corpus positions)\n",
      "2022-02-28 14:18:14,553 : INFO : discarding 4740 tokens: [('repeat', 8), ('glossari', 7), ('inspect', 8), ('uncol', 2), ('rung', 9), ('secant', 2), ('.', 1603), ('acceler', 6), ('diverg', 3), ('induc', 9)]...\n",
      "2022-02-28 14:18:14,553 : INFO : keeping 1197 tokens which were in no less than 10 and no more than 1602 (=50.0%) documents\n",
      "2022-02-28 14:18:14,555 : INFO : resulting dictionary: Dictionary(1197 unique tokens: ['-', 'algebra', 'intern', 'languag', 'preliminari']...)\n",
      "2022-02-28 14:18:14,667 : INFO : collecting all words and their counts\n",
      "2022-02-28 14:18:14,668 : INFO : PROGRESS: at sentence #0, processed 0 words, keeping 0 word types\n",
      "2022-02-28 14:18:14,734 : INFO : collected 5937 word types from a corpus of 115969 raw words and 3204 sentences\n",
      "2022-02-28 14:18:14,744 : INFO : Loading a fresh vocabulary\n",
      "2022-02-28 14:18:14,790 : INFO : effective_min_count=1 retains 5937 unique words (100% of original 5937, drops 0)\n",
      "2022-02-28 14:18:14,793 : INFO : effective_min_count=1 leaves 115969 word corpus (100% of original 115969, drops 0)\n",
      "2022-02-28 14:18:14,813 : INFO : deleting the raw counts dictionary of 5937 items\n",
      "2022-02-28 14:18:14,816 : INFO : sample=0.001 downsamples 40 most-common words\n",
      "2022-02-28 14:18:14,816 : INFO : downsampling leaves estimated 92346 word corpus (79.6% of prior 115969)\n",
      "2022-02-28 14:18:14,828 : INFO : estimated required memory for 5937 words and 100 dimensions: 7718100 bytes\n",
      "2022-02-28 14:18:14,828 : INFO : resetting layer weights\n",
      "2022-02-28 14:18:15,909 : INFO : training model with 3 workers on 5937 vocabulary and 100 features, using sg=0 hs=0 sample=0.001 negative=5 window=5\n",
      "2022-02-28 14:18:16,186 : INFO : worker thread finished; awaiting finish of 2 more threads\n",
      "2022-02-28 14:18:16,192 : INFO : worker thread finished; awaiting finish of 1 more threads\n",
      "2022-02-28 14:18:16,198 : INFO : worker thread finished; awaiting finish of 0 more threads\n",
      "2022-02-28 14:18:16,200 : INFO : EPOCH - 1 : training on 115969 raw words (92499 effective words) took 0.1s, 862552 effective words/s\n",
      "2022-02-28 14:18:16,314 : INFO : worker thread finished; awaiting finish of 2 more threads\n",
      "2022-02-28 14:18:16,322 : INFO : worker thread finished; awaiting finish of 1 more threads\n",
      "2022-02-28 14:18:16,324 : INFO : worker thread finished; awaiting finish of 0 more threads\n",
      "2022-02-28 14:18:16,324 : INFO : EPOCH - 2 : training on 115969 raw words (92439 effective words) took 0.1s, 864648 effective words/s\n",
      "2022-02-28 14:18:16,401 : INFO : worker thread finished; awaiting finish of 2 more threads\n",
      "2022-02-28 14:18:16,407 : INFO : worker thread finished; awaiting finish of 1 more threads\n",
      "2022-02-28 14:18:16,410 : INFO : worker thread finished; awaiting finish of 0 more threads\n",
      "2022-02-28 14:18:16,411 : INFO : EPOCH - 3 : training on 115969 raw words (92361 effective words) took 0.1s, 1344247 effective words/s\n",
      "2022-02-28 14:18:16,473 : INFO : worker thread finished; awaiting finish of 2 more threads\n",
      "2022-02-28 14:18:16,475 : INFO : worker thread finished; awaiting finish of 1 more threads\n",
      "2022-02-28 14:18:16,477 : INFO : worker thread finished; awaiting finish of 0 more threads\n",
      "2022-02-28 14:18:16,477 : INFO : EPOCH - 4 : training on 115969 raw words (92360 effective words) took 0.1s, 1779582 effective words/s\n",
      "2022-02-28 14:18:16,520 : INFO : worker thread finished; awaiting finish of 2 more threads\n",
      "2022-02-28 14:18:16,522 : INFO : worker thread finished; awaiting finish of 1 more threads\n",
      "2022-02-28 14:18:16,524 : INFO : worker thread finished; awaiting finish of 0 more threads\n",
      "2022-02-28 14:18:16,524 : INFO : EPOCH - 5 : training on 115969 raw words (92289 effective words) took 0.0s, 2134913 effective words/s\n",
      "2022-02-28 14:18:16,526 : INFO : training on a 579845 raw words (461948 effective words) took 0.6s, 752026 effective words/s\n",
      "/Users/piyush/miniconda3/envs/ir1-i386/lib/python3.6/site-packages/ipykernel_launcher.py:55: DeprecationWarning: Call to deprecated `__contains__` (Method will be removed in 4.0.0, use self.wv.__contains__() instead).\n",
      "/Users/piyush/miniconda3/envs/ir1-i386/lib/python3.6/site-packages/ipykernel_launcher.py:56: DeprecationWarning: Call to deprecated `__getitem__` (Method will be removed in 4.0.0, use self.wv.__getitem__() instead).\n"
     ]
    },
    {
     "data": {
      "text/plain": [
       "[(1, 0.0371088832616806),\n",
       " (2, -0.010985848493874073),\n",
       " (3, -0.25065621733665466),\n",
       " (4, 0.013368104584515095),\n",
       " (5, -0.19732902944087982),\n",
       " (6, 0.004885002039372921),\n",
       " (7, -0.10033799707889557),\n",
       " (8, -0.39860936999320984),\n",
       " (9, -0.4634697437286377),\n",
       " (10, 0.702165424823761),\n",
       " (11, -0.05265010520815849),\n",
       " (12, 0.4575522243976593),\n",
       " (13, 0.3370939791202545),\n",
       " (14, -0.017491929233074188),\n",
       " (15, 0.10487186908721924),\n",
       " (16, 0.2987610995769501),\n",
       " (17, 0.4887276887893677),\n",
       " (18, -0.7705819606781006),\n",
       " (19, 0.33243829011917114),\n",
       " (20, 0.046741753816604614),\n",
       " (21, 0.08792593330144882),\n",
       " (22, 0.07675845175981522),\n",
       " (23, -0.4276282787322998),\n",
       " (24, 0.5168489813804626),\n",
       " (25, -0.35616111755371094),\n",
       " (26, 0.16236594319343567),\n",
       " (27, -0.09384223818778992),\n",
       " (28, -0.026703614741563797),\n",
       " (29, 0.5234913229942322),\n",
       " (30, -0.7806746363639832),\n",
       " (31, 0.4073401391506195),\n",
       " (32, -0.3496221601963043),\n",
       " (33, -0.09020087122917175),\n",
       " (34, -0.6711658835411072),\n",
       " (35, -0.1721264272928238),\n",
       " (36, -0.21843336522579193),\n",
       " (37, 0.4995187520980835),\n",
       " (38, 0.15933451056480408),\n",
       " (39, 0.04305321350693703),\n",
       " (40, -0.2735932171344757),\n",
       " (41, -0.5145232081413269),\n",
       " (42, 0.17486393451690674),\n",
       " (43, 0.1453375667333603),\n",
       " (44, 0.039882857352495193),\n",
       " (45, 0.46994438767433167),\n",
       " (46, 0.5926374197006226),\n",
       " (47, -0.45633837580680847),\n",
       " (48, 0.5351206064224243),\n",
       " (49, -0.00016166495333891362),\n",
       " (50, -0.44597965478897095),\n",
       " (51, -0.7978913187980652),\n",
       " (52, 0.3748384714126587),\n",
       " (53, -0.4975428581237793),\n",
       " (54, 0.2236500084400177),\n",
       " (55, -0.11508262157440186),\n",
       " (56, -0.8357622623443604),\n",
       " (57, 0.28116339445114136),\n",
       " (58, 0.12260258197784424),\n",
       " (59, -0.41311901807785034),\n",
       " (60, 0.12463697791099548),\n",
       " (61, 0.3860413134098053),\n",
       " (62, -0.2682783305644989),\n",
       " (63, -0.3161819577217102),\n",
       " (64, 0.406951904296875),\n",
       " (65, -0.11486431211233139),\n",
       " (66, 0.1214309111237526),\n",
       " (67, -0.26549649238586426),\n",
       " (68, 0.9314694404602051),\n",
       " (69, -0.11883262544870377),\n",
       " (70, -0.3704811930656433),\n",
       " (71, 0.0519338957965374),\n",
       " (72, -0.0717475637793541),\n",
       " (73, -0.5770520567893982),\n",
       " (74, -0.22730286419391632),\n",
       " (75, 0.9409480690956116),\n",
       " (76, -0.42501434683799744),\n",
       " (77, 0.6646393537521362),\n",
       " (78, -0.7349298000335693),\n",
       " (79, -0.05029773712158203),\n",
       " (80, -0.7774697542190552),\n",
       " (81, 0.0888449177145958),\n",
       " (82, -0.7462716698646545),\n",
       " (83, 0.08575582504272461),\n",
       " (84, 0.2774730622768402),\n",
       " (85, 0.9729521870613098),\n",
       " (86, 0.2266308218240738),\n",
       " (87, 0.4682762920856476),\n",
       " (88, -0.48437076807022095),\n",
       " (89, -0.5040735602378845),\n",
       " (90, -0.19965054094791412),\n",
       " (91, -0.7657648324966431),\n",
       " (92, 0.30979862809181213),\n",
       " (93, 0.052839722484350204),\n",
       " (94, -0.36192378401756287),\n",
       " (95, -0.07171930372714996),\n",
       " (96, -0.44791898131370544),\n",
       " (97, -0.7940824627876282),\n",
       " (98, -0.6624464392662048),\n",
       " (99, 0.6120947599411011),\n",
       " (100, -0.48252934217453003)]"
      ]
     },
     "execution_count": 91,
     "metadata": {},
     "output_type": "execute_result"
    }
   ],
   "source": [
    "# TODO: Implement this! (10 points)\n",
    "class W2VRetrievalModel(VectorSpaceRetrievalModel):\n",
    "    def __init__(self, doc_repr):\n",
    "        super().__init__(doc_repr)\n",
    "        \n",
    "        # the dimensionality of the vectors\n",
    "        self.size = 100 \n",
    "        self.min_count = 1\n",
    "        \n",
    "        # set the sentences\n",
    "        self.doc_ids = [x[0] for x in doc_repr]\n",
    "        self.sentences = [x[1] for x in doc_repr]\n",
    "    \n",
    "    def train_model(self):\n",
    "        \"\"\"\n",
    "        Trains the W2V model\n",
    "        \"\"\"\n",
    "        # YOUR CODE HERE\n",
    "        self.model = Word2Vec(sentences=self.documents, size=self.size, min_count=self.min_count)\n",
    "        \n",
    "    def vectorize_documents(self):\n",
    "        \"\"\"\n",
    "            Returns a doc_id -> vector dictionary\n",
    "        \"\"\"\n",
    "        # YOUR CODE HERE\n",
    "\n",
    "        from collections import defaultdict\n",
    "\n",
    "        # document_vectors = defaultdict(lambda: np.zeros(self.size))\n",
    "        document_vectors = {doc_id: np.zeros(self.size) for doc_id in self.doc_ids}\n",
    "        for i in range(len(self.doc_ids)):\n",
    "            doc_id = self.doc_ids[i]\n",
    "            sentence = self.sentences[i]\n",
    "\n",
    "            for word in sentence:\n",
    "                if word in self.model:\n",
    "                    document_vectors[doc_id] += self.model[word] / len(sentence)\n",
    "        \n",
    "        for doc_id in self.doc_ids:\n",
    "            document_vectors[doc_id] = [(i+1, val) for i, val in enumerate(document_vectors[doc_id])]\n",
    "        \n",
    "        return document_vectors\n",
    "\n",
    "    def vectorize_query(self, query):\n",
    "        \"\"\"\n",
    "        Vectorizes the query using the W2V model\n",
    "        \"\"\"\n",
    "        query = process_text(query, **config_2)\n",
    "\n",
    "        # YOUR CODE HERE\n",
    "        # raise NotImplementedError()\n",
    "        \n",
    "        query_vector = np.zeros(self.size)\n",
    "        for word in query:\n",
    "            if word in self.model:\n",
    "                query_vector += self.model[word] / len(query)\n",
    "\n",
    "        query_vector = [(i+1, val) for i, val in enumerate(query_vector)]\n",
    "\n",
    "        return query_vector\n",
    "    \n",
    "class W2VPretrainedRetrievalModel(W2VRetrievalModel):\n",
    "    def __init__(self, doc_repr):\n",
    "        super().__init__(doc_repr)\n",
    "        self.model_name = \"word2vec-google-news-300\"\n",
    "        self.size = 300\n",
    "    \n",
    "    def train_model(self):\n",
    "        \"\"\"\n",
    "        Loads the pretrained model\n",
    "        \"\"\"\n",
    "        self.model = g_downloader.load(self.model_name)\n",
    "\n",
    "w2v = W2VRetrievalModel(doc_repr_2)\n",
    "w2v.train_model()\n",
    "\n",
    "# you can now get a W2V vector for a given query in the following way:\n",
    "w2v.vectorize_query(\"report\")"
   ]
  },
  {
   "cell_type": "code",
   "execution_count": 92,
   "metadata": {
    "deletable": false,
    "editable": false,
    "nbgrader": {
     "cell_type": "code",
     "checksum": "f92b5c5a8c6c4b80652b94223209ab0b",
     "grade": true,
     "grade_id": "cell-b31c0f8d214b8bdf",
     "locked": true,
     "points": 0,
     "schema_version": 3,
     "solution": false,
     "task": false
    }
   },
   "outputs": [
    {
     "name": "stderr",
     "output_type": "stream",
     "text": [
      "/Users/piyush/miniconda3/envs/ir1-i386/lib/python3.6/site-packages/ipykernel_launcher.py:55: DeprecationWarning: Call to deprecated `__contains__` (Method will be removed in 4.0.0, use self.wv.__contains__() instead).\n",
      "/Users/piyush/miniconda3/envs/ir1-i386/lib/python3.6/site-packages/ipykernel_launcher.py:56: DeprecationWarning: Call to deprecated `__getitem__` (Method will be removed in 4.0.0, use self.wv.__getitem__() instead).\n"
     ]
    }
   ],
   "source": [
    "assert len(w2v.vectorize_query(\"report\")) == 100\n",
    "assert len(w2v.vectorize_query(\"this is a sentence that is not mellifluous\")) == 100\n"
   ]
  },
  {
   "cell_type": "markdown",
   "metadata": {
    "deletable": false,
    "editable": false,
    "nbgrader": {
     "cell_type": "markdown",
     "checksum": "8dfaabebcb06f308a7ca61fdc5d369e7",
     "grade": false,
     "grade_id": "cell-c2614fa067386384",
     "locked": true,
     "points": 8,
     "schema_version": 3,
     "solution": false,
     "task": true
    }
   },
   "source": [
    "\\#### Please do not change this. This cell is used for grading."
   ]
  },
  {
   "cell_type": "code",
   "execution_count": 93,
   "metadata": {
    "tags": []
   },
   "outputs": [
    {
     "name": "stderr",
     "output_type": "stream",
     "text": [
      "2022-02-28 14:18:16,556 : INFO : adding document #0 to Dictionary(0 unique tokens: [])\n",
      "2022-02-28 14:18:16,666 : INFO : built Dictionary(5937 unique tokens: ['-', 'algebra', 'intern', 'languag', 'preliminari']...) from 3204 documents (total 115969 corpus positions)\n",
      "2022-02-28 14:18:16,672 : INFO : discarding 4740 tokens: [('repeat', 8), ('glossari', 7), ('inspect', 8), ('uncol', 2), ('rung', 9), ('secant', 2), ('.', 1603), ('acceler', 6), ('diverg', 3), ('induc', 9)]...\n",
      "2022-02-28 14:18:16,672 : INFO : keeping 1197 tokens which were in no less than 10 and no more than 1602 (=50.0%) documents\n",
      "2022-02-28 14:18:16,674 : INFO : resulting dictionary: Dictionary(1197 unique tokens: ['-', 'algebra', 'intern', 'languag', 'preliminari']...)\n",
      "2022-02-28 14:18:18,311 : INFO : loading projection weights from /Users/piyush/gensim-data/word2vec-google-news-300/word2vec-google-news-300.gz\n",
      "2022-02-28 14:19:21,488 : INFO : loaded (3000000, 300) matrix from /Users/piyush/gensim-data/word2vec-google-news-300/word2vec-google-news-300.gz\n"
     ]
    },
    {
     "data": {
      "text/plain": [
       "[(1, -0.142578125),\n",
       " (2, -0.1640625),\n",
       " (3, -0.09033203125),\n",
       " (4, -0.1123046875),\n",
       " (5, 0.10009765625),\n",
       " (6, -0.041259765625),\n",
       " (7, 0.048828125),\n",
       " (8, -0.13671875),\n",
       " (9, 0.1962890625),\n",
       " (10, -0.134765625),\n",
       " (11, -0.017578125),\n",
       " (12, 0.0322265625),\n",
       " (13, 0.09521484375),\n",
       " (14, -0.10595703125),\n",
       " (15, -0.169921875),\n",
       " (16, 0.041015625),\n",
       " (17, -0.263671875),\n",
       " (18, -0.006317138671875),\n",
       " (19, -0.177734375),\n",
       " (20, -0.240234375),\n",
       " (21, 0.3515625),\n",
       " (22, -0.01220703125),\n",
       " (23, -0.162109375),\n",
       " (24, -0.12060546875),\n",
       " (25, 0.043212890625),\n",
       " (26, 0.10986328125),\n",
       " (27, 0.052490234375),\n",
       " (28, 0.1787109375),\n",
       " (29, -0.1455078125),\n",
       " (30, 0.1376953125),\n",
       " (31, -0.08203125),\n",
       " (32, -0.283203125),\n",
       " (33, -0.10888671875),\n",
       " (34, -0.2890625),\n",
       " (35, 0.072265625),\n",
       " (36, -0.04736328125),\n",
       " (37, 0.040283203125),\n",
       " (38, 0.06787109375),\n",
       " (39, 0.11669921875),\n",
       " (40, 0.00083160400390625),\n",
       " (41, 0.068359375),\n",
       " (42, 0.1201171875),\n",
       " (43, -0.08837890625),\n",
       " (44, 0.337890625),\n",
       " (45, -0.044677734375),\n",
       " (46, -0.0301513671875),\n",
       " (47, 0.0076904296875),\n",
       " (48, -0.0211181640625),\n",
       " (49, -0.25390625),\n",
       " (50, 0.1494140625),\n",
       " (51, 0.3984375),\n",
       " (52, 0.0216064453125),\n",
       " (53, -0.023193359375),\n",
       " (54, 0.00634765625),\n",
       " (55, 0.00823974609375),\n",
       " (56, -0.1689453125),\n",
       " (57, 0.037353515625),\n",
       " (58, -0.0634765625),\n",
       " (59, 0.1171875),\n",
       " (60, -0.1484375),\n",
       " (61, -0.07861328125),\n",
       " (62, 0.369140625),\n",
       " (63, -0.224609375),\n",
       " (64, 0.173828125),\n",
       " (65, 0.01385498046875),\n",
       " (66, 0.1875),\n",
       " (67, -0.10107421875),\n",
       " (68, 0.037841796875),\n",
       " (69, 0.0021209716796875),\n",
       " (70, -0.05126953125),\n",
       " (71, 0.09619140625),\n",
       " (72, -0.05712890625),\n",
       " (73, 0.10595703125),\n",
       " (74, -0.02099609375),\n",
       " (75, 0.1611328125),\n",
       " (76, 0.09765625),\n",
       " (77, 0.038330078125),\n",
       " (78, 0.2197265625),\n",
       " (79, 0.1064453125),\n",
       " (80, 0.0859375),\n",
       " (81, 0.1796875),\n",
       " (82, -0.0830078125),\n",
       " (83, -0.033203125),\n",
       " (84, 0.041015625),\n",
       " (85, -0.06494140625),\n",
       " (86, 0.0198974609375),\n",
       " (87, 0.1337890625),\n",
       " (88, -0.09765625),\n",
       " (89, -0.193359375),\n",
       " (90, -0.2353515625),\n",
       " (91, 0.1904296875),\n",
       " (92, 0.0024871826171875),\n",
       " (93, -0.0157470703125),\n",
       " (94, 0.0322265625),\n",
       " (95, -0.2197265625),\n",
       " (96, -0.09130859375),\n",
       " (97, 0.021240234375),\n",
       " (98, 0.158203125),\n",
       " (99, 0.298828125),\n",
       " (100, -0.328125),\n",
       " (101, 0.057373046875),\n",
       " (102, -0.04638671875),\n",
       " (103, 0.11328125),\n",
       " (104, -0.1015625),\n",
       " (105, 0.1806640625),\n",
       " (106, -0.025146484375),\n",
       " (107, -0.166015625),\n",
       " (108, -0.09619140625),\n",
       " (109, 0.018798828125),\n",
       " (110, -0.1943359375),\n",
       " (111, 0.1494140625),\n",
       " (112, -0.056640625),\n",
       " (113, -0.10693359375),\n",
       " (114, -0.150390625),\n",
       " (115, -0.17578125),\n",
       " (116, 0.11279296875),\n",
       " (117, 0.04931640625),\n",
       " (118, 0.2197265625),\n",
       " (119, 0.318359375),\n",
       " (120, 0.1572265625),\n",
       " (121, -0.29296875),\n",
       " (122, 0.10498046875),\n",
       " (123, -0.296875),\n",
       " (124, -0.013427734375),\n",
       " (125, 0.0908203125),\n",
       " (126, 0.0125732421875),\n",
       " (127, -0.051513671875),\n",
       " (128, -0.12890625),\n",
       " (129, 0.01446533203125),\n",
       " (130, 0.12060546875),\n",
       " (131, -0.10107421875),\n",
       " (132, -0.111328125),\n",
       " (133, 0.06396484375),\n",
       " (134, -0.052978515625),\n",
       " (135, -0.043212890625),\n",
       " (136, -0.012939453125),\n",
       " (137, -0.027587890625),\n",
       " (138, -0.09716796875),\n",
       " (139, -0.2021484375),\n",
       " (140, 0.123046875),\n",
       " (141, -0.04248046875),\n",
       " (142, 0.173828125),\n",
       " (143, -0.013671875),\n",
       " (144, 0.1015625),\n",
       " (145, -0.00093841552734375),\n",
       " (146, -0.03564453125),\n",
       " (147, 0.30078125),\n",
       " (148, -0.068359375),\n",
       " (149, -0.05615234375),\n",
       " (150, 0.03759765625),\n",
       " (151, 0.06591796875),\n",
       " (152, 0.040283203125),\n",
       " (153, 0.01190185546875),\n",
       " (154, 0.09619140625),\n",
       " (155, 0.3671875),\n",
       " (156, -0.279296875),\n",
       " (157, -0.052001953125),\n",
       " (158, -0.10693359375),\n",
       " (159, -0.134765625),\n",
       " (160, -0.046142578125),\n",
       " (161, 0.25),\n",
       " (162, 0.00567626953125),\n",
       " (163, -0.014404296875),\n",
       " (164, -0.031005859375),\n",
       " (165, -0.060302734375),\n",
       " (166, 0.10595703125),\n",
       " (167, 0.37890625),\n",
       " (168, 0.058837890625),\n",
       " (169, 0.123046875),\n",
       " (170, -0.115234375),\n",
       " (171, 0.1494140625),\n",
       " (172, -0.1640625),\n",
       " (173, -0.2333984375),\n",
       " (174, -0.07763671875),\n",
       " (175, 0.0267333984375),\n",
       " (176, -0.0211181640625),\n",
       " (177, 0.1943359375),\n",
       " (178, -0.05615234375),\n",
       " (179, -0.006439208984375),\n",
       " (180, -0.169921875),\n",
       " (181, -0.11865234375),\n",
       " (182, -0.0673828125),\n",
       " (183, -0.06884765625),\n",
       " (184, -0.0869140625),\n",
       " (185, -0.1015625),\n",
       " (186, 0.01416015625),\n",
       " (187, -0.201171875),\n",
       " (188, 0.09814453125),\n",
       " (189, -0.01025390625),\n",
       " (190, 0.1875),\n",
       " (191, 0.1962890625),\n",
       " (192, -0.220703125),\n",
       " (193, -0.1962890625),\n",
       " (194, -0.07373046875),\n",
       " (195, 0.06640625),\n",
       " (196, -0.1337890625),\n",
       " (197, 0.18359375),\n",
       " (198, -0.2001953125),\n",
       " (199, 0.1982421875),\n",
       " (200, 0.05029296875),\n",
       " (201, 0.0299072265625),\n",
       " (202, 0.0177001953125),\n",
       " (203, -0.193359375),\n",
       " (204, -0.09619140625),\n",
       " (205, -0.1025390625),\n",
       " (206, 0.212890625),\n",
       " (207, -0.0299072265625),\n",
       " (208, 0.1435546875),\n",
       " (209, 0.041015625),\n",
       " (210, -0.2119140625),\n",
       " (211, 0.2080078125),\n",
       " (212, 0.1376953125),\n",
       " (213, -0.0196533203125),\n",
       " (214, 0.01495361328125),\n",
       " (215, -0.09765625),\n",
       " (216, 0.2431640625),\n",
       " (217, 0.080078125),\n",
       " (218, 0.08251953125),\n",
       " (219, 0.0986328125),\n",
       " (220, 0.056884765625),\n",
       " (221, 0.04248046875),\n",
       " (222, 0.06884765625),\n",
       " (223, -0.035400390625),\n",
       " (224, -0.076171875),\n",
       " (225, -0.00016117095947265625),\n",
       " (226, -0.0751953125),\n",
       " (227, 0.224609375),\n",
       " (228, 0.1513671875),\n",
       " (229, 0.1005859375),\n",
       " (230, 0.10986328125),\n",
       " (231, 0.0238037109375),\n",
       " (232, 0.08837890625),\n",
       " (233, 0.061767578125),\n",
       " (234, -0.10791015625),\n",
       " (235, 0.062255859375),\n",
       " (236, 0.0034332275390625),\n",
       " (237, 0.08056640625),\n",
       " (238, 0.10693359375),\n",
       " (239, 0.0888671875),\n",
       " (240, -0.2373046875),\n",
       " (241, 0.06494140625),\n",
       " (242, 0.01019287109375),\n",
       " (243, -0.08837890625),\n",
       " (244, -0.33203125),\n",
       " (245, 0.004669189453125),\n",
       " (246, 0.212890625),\n",
       " (247, 0.0859375),\n",
       " (248, 0.0203857421875),\n",
       " (249, 0.045654296875),\n",
       " (250, 0.1484375),\n",
       " (251, 0.1181640625),\n",
       " (252, 0.0556640625),\n",
       " (253, -0.1728515625),\n",
       " (254, -0.125),\n",
       " (255, -0.025390625),\n",
       " (256, -0.318359375),\n",
       " (257, 0.0311279296875),\n",
       " (258, 0.0859375),\n",
       " (259, -0.0419921875),\n",
       " (260, 0.15625),\n",
       " (261, 0.1611328125),\n",
       " (262, 0.1982421875),\n",
       " (263, -0.10009765625),\n",
       " (264, 0.203125),\n",
       " (265, 0.12890625),\n",
       " (266, 0.2333984375),\n",
       " (267, -0.267578125),\n",
       " (268, 0.05517578125),\n",
       " (269, 0.048828125),\n",
       " (270, 0.072265625),\n",
       " (271, 0.244140625),\n",
       " (272, 0.244140625),\n",
       " (273, 0.056884765625),\n",
       " (274, -0.0546875),\n",
       " (275, -0.03369140625),\n",
       " (276, -0.12060546875),\n",
       " (277, 0.034912109375),\n",
       " (278, -0.1455078125),\n",
       " (279, 0.08740234375),\n",
       " (280, -0.0830078125),\n",
       " (281, 0.0172119140625),\n",
       " (282, 0.1435546875),\n",
       " (283, -0.12255859375),\n",
       " (284, 0.1796875),\n",
       " (285, 0.130859375),\n",
       " (286, -0.1650390625),\n",
       " (287, 0.01275634765625),\n",
       " (288, 0.16015625),\n",
       " (289, -0.0311279296875),\n",
       " (290, 0.08203125),\n",
       " (291, 0.173828125),\n",
       " (292, -0.16796875),\n",
       " (293, 0.130859375),\n",
       " (294, 0.08544921875),\n",
       " (295, -0.2109375),\n",
       " (296, -0.130859375),\n",
       " (297, -0.0289306640625),\n",
       " (298, -0.10546875),\n",
       " (299, 0.08447265625),\n",
       " (300, -0.1416015625)]"
      ]
     },
     "execution_count": 93,
     "metadata": {},
     "output_type": "execute_result"
    }
   ],
   "source": [
    "w2v_pretrained = W2VPretrainedRetrievalModel(doc_repr_2)\n",
    "w2v_pretrained.train_model()\n",
    "\n",
    "# you can now get an W2V vector for a given query in the following way:\n",
    "w2v_pretrained.vectorize_query(\"report\")"
   ]
  },
  {
   "cell_type": "code",
   "execution_count": 94,
   "metadata": {
    "deletable": false,
    "editable": false,
    "nbgrader": {
     "cell_type": "code",
     "checksum": "0822845afb5eafe5ddb1ffeaa4f4942a",
     "grade": true,
     "grade_id": "cell-1b1466f8ce516f42",
     "locked": true,
     "points": 2,
     "schema_version": 3,
     "solution": false,
     "task": false
    }
   },
   "outputs": [
    {
     "name": "stdout",
     "output_type": "stream",
     "text": [
      "300\n"
     ]
    }
   ],
   "source": [
    "##### Function check\n",
    "\n",
    "print(len(w2v_pretrained.vectorize_query(\"report\")))\n",
    "#####"
   ]
  },
  {
   "cell_type": "code",
   "execution_count": 95,
   "metadata": {},
   "outputs": [
    {
     "name": "stderr",
     "output_type": "stream",
     "text": [
      "/Users/piyush/miniconda3/envs/ir1-i386/lib/python3.6/site-packages/ipykernel_launcher.py:36: DeprecationWarning: Call to deprecated `__contains__` (Method will be removed in 4.0.0, use self.wv.__contains__() instead).\n",
      "/Users/piyush/miniconda3/envs/ir1-i386/lib/python3.6/site-packages/ipykernel_launcher.py:37: DeprecationWarning: Call to deprecated `__getitem__` (Method will be removed in 4.0.0, use self.wv.__getitem__() instead).\n"
     ]
    },
    {
     "data": {
      "application/vnd.jupyter.widget-view+json": {
       "model_id": "5cbaaa61b282444b88b92fe3e93d4c50",
       "version_major": 2,
       "version_minor": 0
      },
      "text/plain": [
       "Text(value='', description='Search Bar')"
      ]
     },
     "metadata": {},
     "output_type": "display_data"
    }
   ],
   "source": [
    "drm_w2v = DenseRetrievalRanker(w2v, cosine_sim)\n",
    "\n",
    "# test your LDA model\n",
    "search_fn = drm_w2v.search\n",
    "\n",
    "text = widgets.Text(description=\"Search Bar\", width=200)\n",
    "display(text)\n",
    "\n",
    "\n",
    "text.on_submit(handle_submit_2)"
   ]
  },
  {
   "cell_type": "code",
   "execution_count": 96,
   "metadata": {},
   "outputs": [
    {
     "data": {
      "application/vnd.jupyter.widget-view+json": {
       "model_id": "d4be9fde891c4c18a505cb449329dec2",
       "version_major": 2,
       "version_minor": 0
      },
      "text/plain": [
       "Text(value='', description='Search Bar')"
      ]
     },
     "metadata": {},
     "output_type": "display_data"
    }
   ],
   "source": [
    "drm_w2v_pretrained = DenseRetrievalRanker(w2v_pretrained, cosine_sim)\n",
    "\n",
    "# test your LDA model\n",
    "search_fn = drm_w2v_pretrained.search\n",
    "\n",
    "text = widgets.Text(description=\"Search Bar\", width=200)\n",
    "display(text)\n",
    "\n",
    "\n",
    "text.on_submit(handle_submit_2)"
   ]
  },
  {
   "cell_type": "markdown",
   "metadata": {
    "deletable": false,
    "editable": false,
    "nbgrader": {
     "cell_type": "markdown",
     "checksum": "51b778984fd60757974f51047c61eb15",
     "grade": false,
     "grade_id": "cell-b92f701cbc706108",
     "locked": true,
     "schema_version": 3,
     "solution": false,
     "task": false
    }
   },
   "source": [
    "**Implementation (10 points):**\n",
    "For Doc2Vec, you will need to create a list of `TaggedDocument` instead of using the `self.corpus` or `self.documents` variable. Use the document id as the 'tag'.\n",
    "  "
   ]
  },
  {
   "cell_type": "code",
   "execution_count": 97,
   "metadata": {
    "deletable": false,
    "nbgrader": {
     "cell_type": "code",
     "checksum": "1f60fdeb97febb7f4a6fd5bf109aac20",
     "grade": false,
     "grade_id": "cell-680facdcc98a19ab",
     "locked": false,
     "schema_version": 3,
     "solution": true,
     "task": false
    },
    "tags": []
   },
   "outputs": [
    {
     "name": "stderr",
     "output_type": "stream",
     "text": [
      "2022-02-28 14:19:25,254 : INFO : adding document #0 to Dictionary(0 unique tokens: [])\n",
      "2022-02-28 14:19:25,374 : INFO : built Dictionary(5937 unique tokens: ['-', 'algebra', 'intern', 'languag', 'preliminari']...) from 3204 documents (total 115969 corpus positions)\n",
      "2022-02-28 14:19:25,380 : INFO : discarding 4740 tokens: [('repeat', 8), ('glossari', 7), ('inspect', 8), ('uncol', 2), ('rung', 9), ('secant', 2), ('.', 1603), ('acceler', 6), ('diverg', 3), ('induc', 9)]...\n",
      "2022-02-28 14:19:25,381 : INFO : keeping 1197 tokens which were in no less than 10 and no more than 1602 (=50.0%) documents\n",
      "2022-02-28 14:19:25,388 : INFO : resulting dictionary: Dictionary(1197 unique tokens: ['-', 'algebra', 'intern', 'languag', 'preliminari']...)\n",
      "2022-02-28 14:19:25,474 : INFO : collecting all words and their counts\n",
      "2022-02-28 14:19:25,474 : INFO : PROGRESS: at example #0, processed 0 words (0/s), 0 word types, 0 tags\n",
      "2022-02-28 14:19:25,493 : INFO : collected 5937 word types and 3204 unique tags from a corpus of 3204 examples and 115969 words\n",
      "2022-02-28 14:19:25,493 : INFO : Loading a fresh vocabulary\n",
      "2022-02-28 14:19:25,502 : INFO : effective_min_count=1 retains 5937 unique words (100% of original 5937, drops 0)\n",
      "2022-02-28 14:19:25,503 : INFO : effective_min_count=1 leaves 115969 word corpus (100% of original 115969, drops 0)\n",
      "2022-02-28 14:19:25,520 : INFO : deleting the raw counts dictionary of 5937 items\n",
      "2022-02-28 14:19:25,520 : INFO : sample=0.001 downsamples 40 most-common words\n",
      "2022-02-28 14:19:25,521 : INFO : downsampling leaves estimated 92346 word corpus (79.6% of prior 115969)\n",
      "2022-02-28 14:19:25,529 : INFO : estimated required memory for 5937 words and 100 dimensions: 9640500 bytes\n",
      "2022-02-28 14:19:25,530 : INFO : resetting layer weights\n",
      "2022-02-28 14:19:26,930 : INFO : training model with 3 workers on 5937 vocabulary and 100 features, using sg=0 hs=0 sample=0.001 negative=5 window=5\n",
      "2022-02-28 14:19:27,126 : INFO : worker thread finished; awaiting finish of 2 more threads\n",
      "2022-02-28 14:19:27,129 : INFO : worker thread finished; awaiting finish of 1 more threads\n",
      "2022-02-28 14:19:27,141 : INFO : worker thread finished; awaiting finish of 0 more threads\n",
      "2022-02-28 14:19:27,142 : INFO : EPOCH - 1 : training on 115969 raw words (95352 effective words) took 0.2s, 500693 effective words/s\n",
      "2022-02-28 14:19:27,312 : INFO : worker thread finished; awaiting finish of 2 more threads\n",
      "2022-02-28 14:19:27,318 : INFO : worker thread finished; awaiting finish of 1 more threads\n",
      "2022-02-28 14:19:27,322 : INFO : worker thread finished; awaiting finish of 0 more threads\n",
      "2022-02-28 14:19:27,323 : INFO : EPOCH - 2 : training on 115969 raw words (95490 effective words) took 0.2s, 538774 effective words/s\n",
      "2022-02-28 14:19:27,500 : INFO : worker thread finished; awaiting finish of 2 more threads\n",
      "2022-02-28 14:19:27,508 : INFO : worker thread finished; awaiting finish of 1 more threads\n",
      "2022-02-28 14:19:27,510 : INFO : worker thread finished; awaiting finish of 0 more threads\n",
      "2022-02-28 14:19:27,510 : INFO : EPOCH - 3 : training on 115969 raw words (95519 effective words) took 0.2s, 522231 effective words/s\n",
      "2022-02-28 14:19:27,691 : INFO : worker thread finished; awaiting finish of 2 more threads\n",
      "2022-02-28 14:19:27,704 : INFO : worker thread finished; awaiting finish of 1 more threads\n",
      "2022-02-28 14:19:27,706 : INFO : worker thread finished; awaiting finish of 0 more threads\n",
      "2022-02-28 14:19:27,706 : INFO : EPOCH - 4 : training on 115969 raw words (95716 effective words) took 0.2s, 495833 effective words/s\n",
      "2022-02-28 14:19:27,886 : INFO : worker thread finished; awaiting finish of 2 more threads\n",
      "2022-02-28 14:19:27,894 : INFO : worker thread finished; awaiting finish of 1 more threads\n",
      "2022-02-28 14:19:27,895 : INFO : worker thread finished; awaiting finish of 0 more threads\n",
      "2022-02-28 14:19:27,896 : INFO : EPOCH - 5 : training on 115969 raw words (95539 effective words) took 0.2s, 516301 effective words/s\n",
      "2022-02-28 14:19:28,067 : INFO : worker thread finished; awaiting finish of 2 more threads\n",
      "2022-02-28 14:19:28,080 : INFO : worker thread finished; awaiting finish of 1 more threads\n",
      "2022-02-28 14:19:28,082 : INFO : worker thread finished; awaiting finish of 0 more threads\n",
      "2022-02-28 14:19:28,082 : INFO : EPOCH - 6 : training on 115969 raw words (95353 effective words) took 0.2s, 522036 effective words/s\n",
      "2022-02-28 14:19:28,251 : INFO : worker thread finished; awaiting finish of 2 more threads\n",
      "2022-02-28 14:19:28,262 : INFO : worker thread finished; awaiting finish of 1 more threads\n",
      "2022-02-28 14:19:28,263 : INFO : worker thread finished; awaiting finish of 0 more threads\n",
      "2022-02-28 14:19:28,263 : INFO : EPOCH - 7 : training on 115969 raw words (95412 effective words) took 0.2s, 533688 effective words/s\n",
      "2022-02-28 14:19:28,441 : INFO : worker thread finished; awaiting finish of 2 more threads\n",
      "2022-02-28 14:19:28,449 : INFO : worker thread finished; awaiting finish of 1 more threads\n",
      "2022-02-28 14:19:28,451 : INFO : worker thread finished; awaiting finish of 0 more threads\n",
      "2022-02-28 14:19:28,451 : INFO : EPOCH - 8 : training on 115969 raw words (95537 effective words) took 0.2s, 517096 effective words/s\n",
      "2022-02-28 14:19:28,630 : INFO : worker thread finished; awaiting finish of 2 more threads\n",
      "2022-02-28 14:19:28,636 : INFO : worker thread finished; awaiting finish of 1 more threads\n",
      "2022-02-28 14:19:28,638 : INFO : worker thread finished; awaiting finish of 0 more threads\n",
      "2022-02-28 14:19:28,639 : INFO : EPOCH - 9 : training on 115969 raw words (95494 effective words) took 0.2s, 517509 effective words/s\n",
      "2022-02-28 14:19:28,822 : INFO : worker thread finished; awaiting finish of 2 more threads\n",
      "2022-02-28 14:19:28,827 : INFO : worker thread finished; awaiting finish of 1 more threads\n",
      "2022-02-28 14:19:28,829 : INFO : worker thread finished; awaiting finish of 0 more threads\n",
      "2022-02-28 14:19:28,829 : INFO : EPOCH - 10 : training on 115969 raw words (95615 effective words) took 0.2s, 508929 effective words/s\n",
      "2022-02-28 14:19:29,010 : INFO : worker thread finished; awaiting finish of 2 more threads\n",
      "2022-02-28 14:19:29,020 : INFO : worker thread finished; awaiting finish of 1 more threads\n",
      "2022-02-28 14:19:29,021 : INFO : worker thread finished; awaiting finish of 0 more threads\n",
      "2022-02-28 14:19:29,021 : INFO : EPOCH - 11 : training on 115969 raw words (95561 effective words) took 0.2s, 509103 effective words/s\n",
      "2022-02-28 14:19:29,208 : INFO : worker thread finished; awaiting finish of 2 more threads\n",
      "2022-02-28 14:19:29,210 : INFO : worker thread finished; awaiting finish of 1 more threads\n",
      "2022-02-28 14:19:29,215 : INFO : worker thread finished; awaiting finish of 0 more threads\n",
      "2022-02-28 14:19:29,215 : INFO : EPOCH - 12 : training on 115969 raw words (95364 effective words) took 0.2s, 498893 effective words/s\n",
      "2022-02-28 14:19:29,393 : INFO : worker thread finished; awaiting finish of 2 more threads\n",
      "2022-02-28 14:19:29,399 : INFO : worker thread finished; awaiting finish of 1 more threads\n",
      "2022-02-28 14:19:29,403 : INFO : worker thread finished; awaiting finish of 0 more threads\n",
      "2022-02-28 14:19:29,403 : INFO : EPOCH - 13 : training on 115969 raw words (95498 effective words) took 0.2s, 517810 effective words/s\n",
      "2022-02-28 14:19:29,583 : INFO : worker thread finished; awaiting finish of 2 more threads\n",
      "2022-02-28 14:19:29,590 : INFO : worker thread finished; awaiting finish of 1 more threads\n",
      "2022-02-28 14:19:29,591 : INFO : worker thread finished; awaiting finish of 0 more threads\n",
      "2022-02-28 14:19:29,591 : INFO : EPOCH - 14 : training on 115969 raw words (95722 effective words) took 0.2s, 516837 effective words/s\n",
      "2022-02-28 14:19:29,768 : INFO : worker thread finished; awaiting finish of 2 more threads\n",
      "2022-02-28 14:19:29,779 : INFO : worker thread finished; awaiting finish of 1 more threads\n",
      "2022-02-28 14:19:29,780 : INFO : worker thread finished; awaiting finish of 0 more threads\n",
      "2022-02-28 14:19:29,780 : INFO : EPOCH - 15 : training on 115969 raw words (95516 effective words) took 0.2s, 513320 effective words/s\n",
      "2022-02-28 14:19:29,964 : INFO : worker thread finished; awaiting finish of 2 more threads\n",
      "2022-02-28 14:19:29,967 : INFO : worker thread finished; awaiting finish of 1 more threads\n",
      "2022-02-28 14:19:29,968 : INFO : worker thread finished; awaiting finish of 0 more threads\n",
      "2022-02-28 14:19:29,969 : INFO : EPOCH - 16 : training on 115969 raw words (95630 effective words) took 0.2s, 513856 effective words/s\n",
      "2022-02-28 14:19:30,141 : INFO : worker thread finished; awaiting finish of 2 more threads\n",
      "2022-02-28 14:19:30,150 : INFO : worker thread finished; awaiting finish of 1 more threads\n",
      "2022-02-28 14:19:30,154 : INFO : worker thread finished; awaiting finish of 0 more threads\n",
      "2022-02-28 14:19:30,154 : INFO : EPOCH - 17 : training on 115969 raw words (95509 effective words) took 0.2s, 523613 effective words/s\n",
      "2022-02-28 14:19:30,330 : INFO : worker thread finished; awaiting finish of 2 more threads\n",
      "2022-02-28 14:19:30,339 : INFO : worker thread finished; awaiting finish of 1 more threads\n",
      "2022-02-28 14:19:30,341 : INFO : worker thread finished; awaiting finish of 0 more threads\n",
      "2022-02-28 14:19:30,341 : INFO : EPOCH - 18 : training on 115969 raw words (95664 effective words) took 0.2s, 519484 effective words/s\n",
      "2022-02-28 14:19:30,510 : INFO : worker thread finished; awaiting finish of 2 more threads\n",
      "2022-02-28 14:19:30,520 : INFO : worker thread finished; awaiting finish of 1 more threads\n",
      "2022-02-28 14:19:30,524 : INFO : worker thread finished; awaiting finish of 0 more threads\n",
      "2022-02-28 14:19:30,525 : INFO : EPOCH - 19 : training on 115969 raw words (95636 effective words) took 0.2s, 529046 effective words/s\n",
      "2022-02-28 14:19:30,705 : INFO : worker thread finished; awaiting finish of 2 more threads\n",
      "2022-02-28 14:19:30,717 : INFO : worker thread finished; awaiting finish of 1 more threads\n",
      "2022-02-28 14:19:30,718 : INFO : worker thread finished; awaiting finish of 0 more threads\n",
      "2022-02-28 14:19:30,718 : INFO : EPOCH - 20 : training on 115969 raw words (95318 effective words) took 0.2s, 499407 effective words/s\n",
      "2022-02-28 14:19:30,718 : INFO : training on a 2319380 raw words (1910445 effective words) took 3.8s, 504636 effective words/s\n"
     ]
    },
    {
     "data": {
      "text/plain": [
       "[(2, -0.013985259),\n",
       " (2, -0.0020453972),\n",
       " (2, -0.0029458047),\n",
       " (2, -0.028835004),\n",
       " (2, -0.046365596),\n",
       " (2, -0.045559425),\n",
       " (2, -0.061293397),\n",
       " (2, -0.10592214),\n",
       " (2, -0.05933461),\n",
       " (2, 0.0800919),\n",
       " (2, 0.114071384),\n",
       " (2, 0.06310275),\n",
       " (2, 0.060764026),\n",
       " (2, -0.017444106),\n",
       " (2, 0.017997509),\n",
       " (2, 0.071954936),\n",
       " (2, 0.10499489),\n",
       " (2, -0.06926244),\n",
       " (2, 0.04873737),\n",
       " (2, 0.025689868),\n",
       " (2, -0.0028744033),\n",
       " (2, -0.026908837),\n",
       " (2, -0.050253008),\n",
       " (2, 0.060345937),\n",
       " (2, -0.04411862),\n",
       " (2, 0.038918186),\n",
       " (2, 0.0055511347),\n",
       " (2, -0.027589038),\n",
       " (2, 0.0633565),\n",
       " (2, -0.04098906),\n",
       " (2, 0.046929844),\n",
       " (2, -0.0091064265),\n",
       " (2, -0.07801954),\n",
       " (2, -0.064027496),\n",
       " (2, 0.01602123),\n",
       " (2, -0.060419872),\n",
       " (2, 0.08350971),\n",
       " (2, -0.034952227),\n",
       " (2, 0.04467923),\n",
       " (2, -0.08544884),\n",
       " (2, -0.07016422),\n",
       " (2, 0.042730816),\n",
       " (2, -0.008212157),\n",
       " (2, 0.060901936),\n",
       " (2, 0.064871),\n",
       " (2, 0.04729477),\n",
       " (2, -0.002361277),\n",
       " (2, -0.036845792),\n",
       " (2, 0.0073230793),\n",
       " (2, -0.09272195),\n",
       " (2, -0.09286981),\n",
       " (2, 0.0225362),\n",
       " (2, -0.005825572),\n",
       " (2, 0.0003516889),\n",
       " (2, 0.039065886),\n",
       " (2, -0.06943159),\n",
       " (2, 0.017188197),\n",
       " (2, -0.033978734),\n",
       " (2, -0.042452805),\n",
       " (2, 0.04800489),\n",
       " (2, 0.036921762),\n",
       " (2, -0.0077591175),\n",
       " (2, 0.0074256794),\n",
       " (2, 0.029953599),\n",
       " (2, 0.021502178),\n",
       " (2, 0.020148423),\n",
       " (2, -0.011499928),\n",
       " (2, 0.09745027),\n",
       " (2, 0.0079755895),\n",
       " (2, 0.007725494),\n",
       " (2, 0.01579827),\n",
       " (2, 0.018941047),\n",
       " (2, -0.097162016),\n",
       " (2, 0.024298877),\n",
       " (2, 0.03631872),\n",
       " (2, 0.019273326),\n",
       " (2, 0.07266135),\n",
       " (2, -0.009067566),\n",
       " (2, 0.019563021),\n",
       " (2, -0.028756367),\n",
       " (2, -0.070973225),\n",
       " (2, -0.094808884),\n",
       " (2, -0.033640437),\n",
       " (2, 0.034079187),\n",
       " (2, 0.059993863),\n",
       " (2, 0.034849044),\n",
       " (2, 0.07174182),\n",
       " (2, -0.084681906),\n",
       " (2, -0.09329858),\n",
       " (2, -0.040952608),\n",
       " (2, -0.054327708),\n",
       " (2, 0.07498963),\n",
       " (2, 0.06646348),\n",
       " (2, -0.040512532),\n",
       " (2, 0.03271089),\n",
       " (2, -0.1020288),\n",
       " (2, -0.058494695),\n",
       " (2, -0.001593901),\n",
       " (2, 0.059251923),\n",
       " (2, -0.14211796)]"
      ]
     },
     "execution_count": 97,
     "metadata": {},
     "output_type": "execute_result"
    }
   ],
   "source": [
    "# TODO: Implement this! (10 points)\n",
    "class D2VRetrievalModel(VectorSpaceRetrievalModel):\n",
    "    def __init__(self, doc_repr):\n",
    "        super().__init__(doc_repr)\n",
    "        \n",
    "        self.vector_size= 100\n",
    "        self.min_count = 1\n",
    "        self.epochs = 20\n",
    "        \n",
    "        # YOUR CODE HERE\n",
    "        self.tagged_documents = [TaggedDocument(doc, [doc_id]) for doc_id, doc in self.doc_repr]\n",
    "        \n",
    "    def train_model(self):\n",
    "        # YOUR CODE HERE\n",
    "        self.model = Doc2Vec(\n",
    "            self.tagged_documents,\n",
    "            vector_size=self.vector_size,\n",
    "            min_count=self.min_count,\n",
    "            epochs=self.epochs,\n",
    "        )\n",
    "    \n",
    "    def vectorize_documents(self):\n",
    "        \"\"\"\n",
    "            Returns a doc_id -> vector dictionary\n",
    "        \"\"\"\n",
    "        # YOUR CODE HERE\n",
    "\n",
    "        from collections import defaultdict\n",
    "\n",
    "        document_vectors = defaultdict(lambda: np.zeros(self.vector_size))\n",
    "        for doc_id, doc in self.doc_repr:\n",
    "            document_vectors[doc_id] = [(i+1, v) for v in self.model.infer_vector(doc)]\n",
    "        \n",
    "        return document_vectors\n",
    "\n",
    "    def vectorize_query(self, query):\n",
    "        # YOUR CODE HERE\n",
    "        query = process_text(query, **config_2)\n",
    "        query_vector = self.model.infer_vector(query)\n",
    "        query_vector = [(i+1, v) for v in query_vector]\n",
    "        return query_vector\n",
    "\n",
    "d2v = D2VRetrievalModel(doc_repr_2)\n",
    "d2v.train_model()\n",
    "\n",
    "\n",
    "# # you can now get an LSI vector for a given query in the following way:\n",
    "d2v.vectorize_query(\"report\")"
   ]
  },
  {
   "cell_type": "code",
   "execution_count": 98,
   "metadata": {
    "deletable": false,
    "editable": false,
    "nbgrader": {
     "cell_type": "code",
     "checksum": "e83a363a9d4f136efbdde1426a83925e",
     "grade": true,
     "grade_id": "cell-5e2c5e0c9a2e8cb5",
     "locked": true,
     "points": 0,
     "schema_version": 3,
     "solution": false,
     "task": false
    }
   },
   "outputs": [],
   "source": [
    "#### Please do not change this. This cell is used for grading."
   ]
  },
  {
   "cell_type": "markdown",
   "metadata": {
    "deletable": false,
    "editable": false,
    "nbgrader": {
     "cell_type": "markdown",
     "checksum": "5bb46bf6b9be1e0ca66f0b0bc6260ecb",
     "grade": false,
     "grade_id": "cell-8a49d414f798a595",
     "locked": true,
     "points": 10,
     "schema_version": 3,
     "solution": false,
     "task": true
    }
   },
   "source": [
    "\\#### Please do not change this. This cell is used for grading."
   ]
  },
  {
   "cell_type": "code",
   "execution_count": 99,
   "metadata": {},
   "outputs": [
    {
     "data": {
      "application/vnd.jupyter.widget-view+json": {
       "model_id": "bab8b4c5b7ae43bbbee1358e275f9220",
       "version_major": 2,
       "version_minor": 0
      },
      "text/plain": [
       "Text(value='', description='Search Bar')"
      ]
     },
     "metadata": {},
     "output_type": "display_data"
    }
   ],
   "source": [
    "drm_d2v = DenseRetrievalRanker(d2v, cosine_sim)\n",
    "\n",
    "# test your LDA model\n",
    "search_fn = drm_d2v.search\n",
    "\n",
    "text = widgets.Text(description=\"Search Bar\", width=200)\n",
    "display(text)\n",
    "\n",
    "\n",
    "text.on_submit(handle_submit_2)"
   ]
  },
  {
   "cell_type": "markdown",
   "metadata": {
    "deletable": false,
    "editable": false,
    "nbgrader": {
     "cell_type": "markdown",
     "checksum": "363ec36c1d03d9f9e1c2045a6e193c14",
     "grade": false,
     "grade_id": "cell-3529ae29eece7b97",
     "locked": true,
     "schema_version": 3,
     "solution": false,
     "task": false
    }
   },
   "source": [
    "---\n",
    "## Section 9: Re-ranking (10 points) <a class=\"anchor\" id=\"reranking\"></a>\n",
    "\n",
    "[Back to Part 2](#part2)\n",
    "\n",
    "To motivate the re-ranking perspective (i.e retrieve with lexical method + rerank with a semantic method), let's search using semantic methods and compare it to BM25's performance, along with their runtime:\n"
   ]
  },
  {
   "cell_type": "code",
   "execution_count": 100,
   "metadata": {
    "deletable": false,
    "editable": false,
    "nbgrader": {
     "cell_type": "code",
     "checksum": "5755f70e3eb28abc65d14d80125338af",
     "grade": false,
     "grade_id": "cell-f8f43bf5ae383128",
     "locked": true,
     "schema_version": 3,
     "solution": false,
     "task": false
    }
   },
   "outputs": [
    {
     "name": "stdout",
     "output_type": "stream",
     "text": [
      "BM25: \n",
      "2.03 ms ± 10.3 µs per loop (mean ± std. dev. of 7 runs, 100 loops each)\n",
      "LSI: \n",
      "267 ms ± 1.96 ms per loop (mean ± std. dev. of 7 runs, 1 loop each)\n",
      "LDA: \n",
      "5.84 s ± 59.9 ms per loop (mean ± std. dev. of 7 runs, 1 loop each)\n",
      "W2V: \n"
     ]
    },
    {
     "name": "stderr",
     "output_type": "stream",
     "text": [
      "/Users/piyush/miniconda3/envs/ir1-i386/lib/python3.6/site-packages/ipykernel_launcher.py:55: DeprecationWarning: Call to deprecated `__contains__` (Method will be removed in 4.0.0, use self.wv.__contains__() instead).\n",
      "/Users/piyush/miniconda3/envs/ir1-i386/lib/python3.6/site-packages/ipykernel_launcher.py:56: DeprecationWarning: Call to deprecated `__getitem__` (Method will be removed in 4.0.0, use self.wv.__getitem__() instead).\n"
     ]
    },
    {
     "name": "stdout",
     "output_type": "stream",
     "text": [
      "272 ms ± 2 ms per loop (mean ± std. dev. of 7 runs, 1 loop each)\n",
      "W2V(Pretrained): \n"
     ]
    },
    {
     "name": "stderr",
     "output_type": "stream",
     "text": [
      "/Users/piyush/miniconda3/envs/ir1-i386/lib/python3.6/site-packages/ipykernel_launcher.py:20: RuntimeWarning: invalid value encountered in double_scalars\n"
     ]
    },
    {
     "name": "stdout",
     "output_type": "stream",
     "text": [
      "793 ms ± 131 ms per loop (mean ± std. dev. of 7 runs, 1 loop each)\n",
      "D2V:\n",
      "The slowest run took 4.30 times longer than the fastest. This could mean that an intermediate result is being cached.\n",
      "513 ms ± 284 ms per loop (mean ± std. dev. of 7 runs, 1 loop each)\n"
     ]
    }
   ],
   "source": [
    "query = \"algebraic functions\"\n",
    "print(\"BM25: \")\n",
    "%timeit bm25_search(query, 2)\n",
    "print(\"LSI: \")\n",
    "%timeit drm_lsi.search(query)\n",
    "print(\"LDA: \")\n",
    "%timeit drm_lda.search(query)\n",
    "print(\"W2V: \")\n",
    "%timeit drm_w2v.search(query)\n",
    "print(\"W2V(Pretrained): \")\n",
    "%timeit drm_w2v_pretrained.search(query)\n",
    "print(\"D2V:\")\n",
    "%timeit drm_d2v.search(query)"
   ]
  },
  {
   "cell_type": "markdown",
   "metadata": {
    "deletable": false,
    "editable": false,
    "nbgrader": {
     "cell_type": "markdown",
     "checksum": "ae398da0a8c23c95bcbb0023b7ec6f34",
     "grade": false,
     "grade_id": "cell-db5ff09f97841af7",
     "locked": true,
     "schema_version": 3,
     "solution": false,
     "task": false
    }
   },
   "source": [
    "---\n",
    "\n",
    "**Implementation (10 points):**\n",
    "Re-ranking involves retrieving a small set of documents using simple but fast methods like BM25 and then re-ranking them with the aid of semantic methods such as LDA or LSI. Implement the following class, which takes in an `initial_retrieval_fn` - the initial retrieval function and `vsrm` - an instance of the `VectorSpaceRetrievalModel` class (i.e LSI/LDA) as input. The search function should first retrieve an initial list of K documents, and then these documents are re-ranked using a semantic method. This not only makes retrieval faster, but semantic methods perform poorly when used in isolation, as you will find out."
   ]
  },
  {
   "cell_type": "code",
   "execution_count": 101,
   "metadata": {
    "deletable": false,
    "nbgrader": {
     "cell_type": "code",
     "checksum": "63b6b05a676a2ae3f08d8bed1bc59428",
     "grade": false,
     "grade_id": "cell-5bf47600d1a0c507",
     "locked": false,
     "schema_version": 3,
     "solution": true,
     "task": false
    }
   },
   "outputs": [],
   "source": [
    "# TODO: Implement this! (10 points)\n",
    "class DenseRerankingModel:\n",
    "    def __init__(self, initial_retrieval_fn, vsrm, similarity_fn):\n",
    "        \"\"\"\n",
    "            initial_retrieval_fn: takes in a query and returns a list of [(doc_id, score)] (sorted)\n",
    "            vsrm: instance of `VectorSpaceRetrievalModel`\n",
    "            similarity_fn: function instance that takes in two vectors \n",
    "                            and returns a similarity score e.g cosine_sim defined earlier\n",
    "        \"\"\"\n",
    "        self.ret = initial_retrieval_fn\n",
    "        self.vsrm = vsrm\n",
    "        self.similarity_fn = similarity_fn\n",
    "        self.vectorized_documents = vsrm.vectorize_documents()\n",
    "        \n",
    "        assert len(self.vectorized_documents) == len(doc_repr_2)\n",
    "    \n",
    "    def search(self, query, K=50):\n",
    "        \"\"\"\n",
    "            First, retrieve the top K results using the retrieval function\n",
    "            Then, re-rank the results using the VSRM instance\n",
    "        \"\"\"\n",
    "        # YOUR CODE HERE\n",
    "\n",
    "        # get top K ranked documents\n",
    "        top_K = self.ret(query=query, index_set=2)[:K]\n",
    "        \n",
    "        # re-rank them using VSRM\n",
    "\n",
    "        ## get query vector\n",
    "        query_vector = self.vsrm.vectorize_query(query)\n",
    "\n",
    "        ## compute similarity scores\n",
    "        scores = [(doc_id, self.similarity_fn(query_vector, self.vectorized_documents[doc_id])) for (doc_id, _) in top_K]\n",
    "\n",
    "        ## sort based on new similarity scores\n",
    "        scores = sorted(scores, key=lambda x: x[1], reverse=True)\n",
    "        \n",
    "        return scores"
   ]
  },
  {
   "cell_type": "code",
   "execution_count": 102,
   "metadata": {
    "deletable": false,
    "editable": false,
    "nbgrader": {
     "cell_type": "code",
     "checksum": "334ab5af96976265cace682ab82a7387",
     "grade": true,
     "grade_id": "cell-52c6d18a4c0b4882",
     "locked": true,
     "points": 0,
     "schema_version": 3,
     "solution": false,
     "task": false
    }
   },
   "outputs": [
    {
     "name": "stderr",
     "output_type": "stream",
     "text": [
      "/Users/piyush/miniconda3/envs/ir1-i386/lib/python3.6/site-packages/ipykernel_launcher.py:36: DeprecationWarning: Call to deprecated `__contains__` (Method will be removed in 4.0.0, use self.wv.__contains__() instead).\n",
      "/Users/piyush/miniconda3/envs/ir1-i386/lib/python3.6/site-packages/ipykernel_launcher.py:37: DeprecationWarning: Call to deprecated `__getitem__` (Method will be removed in 4.0.0, use self.wv.__getitem__() instead).\n"
     ]
    }
   ],
   "source": [
    "##### Function check\n",
    "bm25_search_2 = partial(bm25_search, index_set=2)\n",
    "lsi_rerank = DenseRerankingModel(bm25_search_2, lsi, cosine_sim)\n",
    "lda_rerank = DenseRerankingModel(bm25_search_2, lda, jenson_shannon_sim)\n",
    "w2v_rerank = DenseRerankingModel(bm25_search_2, w2v, cosine_sim)\n",
    "w2v_pretrained_rerank = DenseRerankingModel(bm25_search_2, w2v_pretrained, cosine_sim)\n",
    "d2v_rerank = DenseRerankingModel(bm25_search_2, d2v, cosine_sim)\n",
    "\n",
    "##### "
   ]
  },
  {
   "cell_type": "markdown",
   "metadata": {
    "deletable": false,
    "editable": false,
    "nbgrader": {
     "cell_type": "markdown",
     "checksum": "bd904253f45f84e63bab3a69729058fc",
     "grade": false,
     "grade_id": "cell-93215dfe6bcf7cff",
     "locked": true,
     "points": 10,
     "schema_version": 3,
     "solution": false,
     "task": true
    }
   },
   "source": [
    "\\#### Please do not change this. This cell is used for grading."
   ]
  },
  {
   "cell_type": "markdown",
   "metadata": {
    "deletable": false,
    "editable": false,
    "nbgrader": {
     "cell_type": "markdown",
     "checksum": "b592e60292bfe3d9ef2930a354c4077a",
     "grade": false,
     "grade_id": "cell-aa694ff55fa91e7d",
     "locked": true,
     "schema_version": 3,
     "solution": false,
     "task": false
    }
   },
   "source": [
    "---\n",
    "Now, let us time the new search functions:"
   ]
  },
  {
   "cell_type": "code",
   "execution_count": 103,
   "metadata": {
    "deletable": false,
    "editable": false,
    "nbgrader": {
     "cell_type": "code",
     "checksum": "338c7e3528cba266a865a061287c0e38",
     "grade": false,
     "grade_id": "cell-5edbd481562ad91f",
     "locked": true,
     "schema_version": 3,
     "solution": false,
     "task": false
    }
   },
   "outputs": [
    {
     "name": "stdout",
     "output_type": "stream",
     "text": [
      "BM25: \n",
      "2.14 ms ± 133 µs per loop (mean ± std. dev. of 7 runs, 100 loops each)\n",
      "LSI: \n",
      "6.76 ms ± 337 µs per loop (mean ± std. dev. of 7 runs, 100 loops each)\n",
      "LDA: \n",
      "99 ms ± 4.94 ms per loop (mean ± std. dev. of 7 runs, 10 loops each)\n",
      "W2V: \n"
     ]
    },
    {
     "name": "stderr",
     "output_type": "stream",
     "text": [
      "/Users/piyush/miniconda3/envs/ir1-i386/lib/python3.6/site-packages/ipykernel_launcher.py:55: DeprecationWarning: Call to deprecated `__contains__` (Method will be removed in 4.0.0, use self.wv.__contains__() instead).\n",
      "/Users/piyush/miniconda3/envs/ir1-i386/lib/python3.6/site-packages/ipykernel_launcher.py:56: DeprecationWarning: Call to deprecated `__getitem__` (Method will be removed in 4.0.0, use self.wv.__getitem__() instead).\n"
     ]
    },
    {
     "name": "stdout",
     "output_type": "stream",
     "text": [
      "6.71 ms ± 405 µs per loop (mean ± std. dev. of 7 runs, 100 loops each)\n",
      "W2V(Pretrained): \n",
      "12.7 ms ± 272 µs per loop (mean ± std. dev. of 7 runs, 100 loops each)\n",
      "D2V:\n",
      "7.42 ms ± 441 µs per loop (mean ± std. dev. of 7 runs, 100 loops each)\n"
     ]
    }
   ],
   "source": [
    "query = \"algebraic functions\"\n",
    "print(\"BM25: \")\n",
    "%timeit bm25_search(query, 2)\n",
    "print(\"LSI: \")\n",
    "%timeit lsi_rerank.search(query)\n",
    "print(\"LDA: \")\n",
    "%timeit lda_rerank.search(query)\n",
    "print(\"W2V: \")\n",
    "%timeit w2v_rerank.search(query)\n",
    "print(\"W2V(Pretrained): \")\n",
    "%timeit w2v_pretrained_rerank.search(query)\n",
    "print(\"D2V:\")\n",
    "%timeit d2v_rerank.search(query)"
   ]
  },
  {
   "cell_type": "markdown",
   "metadata": {
    "deletable": false,
    "editable": false,
    "nbgrader": {
     "cell_type": "markdown",
     "checksum": "c45c5e3f015b2de89d9d39ae3766368b",
     "grade": false,
     "grade_id": "cell-85c50f2ab9eec301",
     "locked": true,
     "schema_version": 3,
     "solution": false,
     "task": false
    }
   },
   "source": [
    "---\n",
    "As you can see, it is much faster (but BM25 is still orders of magnitude faster)."
   ]
  },
  {
   "cell_type": "markdown",
   "metadata": {
    "deletable": false,
    "editable": false,
    "nbgrader": {
     "cell_type": "markdown",
     "checksum": "1e2f3388e3807659f303fe31a75a010e",
     "grade": false,
     "grade_id": "cell-5071bb99b2af61cb",
     "locked": true,
     "schema_version": 3,
     "solution": false,
     "task": false
    }
   },
   "source": [
    "---\n",
    "## Section 10: Evaluation & Analysis (30 points) <a class=\"anchor\" id=\"reranking_eval\"></a>\n",
    "\n",
    "[Back to Part 2](#part2)\n",
    "\n",
    "[Previously](#evaluation) we have implemented some evaluation metrics and used them for measuring the ranking performance of term-based IR algorithms. In this section, we will do the same for semantic methods, both with and without re-ranking.\n",
    "\n",
    "### Section 10.1: Plot (10 points)\n",
    "\n",
    "First, gather the results. The results should consider the index set, the different search functions and different metrics. Plot the results in bar charts, per metric, with clear labels.\n",
    "\n",
    "Then, gather only the re-ranking models, and plot and compare them with the results obtained in part 1 (only index set 2)."
   ]
  },
  {
   "cell_type": "code",
   "execution_count": 104,
   "metadata": {
    "deletable": false,
    "editable": false,
    "nbgrader": {
     "cell_type": "code",
     "checksum": "4fe81520ac6413a803838913fd64de03",
     "grade": false,
     "grade_id": "cell-b672fe6dfae0b1ce",
     "locked": true,
     "schema_version": 3,
     "solution": false,
     "task": false
    }
   },
   "outputs": [],
   "source": [
    "list_of_sem_search_fns = [\n",
    "    (\"lda\", drm_lda.search),\n",
    "    (\"lsi\", drm_lsi.search),\n",
    "    (\"w2v\", drm_w2v.search),\n",
    "    (\"w2v_pretrained\", drm_w2v_pretrained.search),\n",
    "    (\"d2v\", drm_d2v.search),\n",
    "    (\"lsi_rr\", lsi_rerank.search),\n",
    "    (\"lda_rr\", lda_rerank.search),\n",
    "    (\"w2v_rr\", w2v_rerank.search),\n",
    "    (\"w2v_pretrained_rr\", w2v_pretrained_rerank.search),\n",
    "    (\"d2v_rr\", d2v_rerank.search),\n",
    "    \n",
    "]"
   ]
  },
  {
   "cell_type": "code",
   "execution_count": 105,
   "metadata": {},
   "outputs": [
    {
     "name": "stdout",
     "output_type": "stream",
     "text": [
      "::: Generating results for lda ...\n",
      "::: Generating results for lsi ...\n",
      "::: Generating results for w2v ...\n"
     ]
    },
    {
     "name": "stderr",
     "output_type": "stream",
     "text": [
      "/Users/piyush/miniconda3/envs/ir1-i386/lib/python3.6/site-packages/ipykernel_launcher.py:55: DeprecationWarning: Call to deprecated `__contains__` (Method will be removed in 4.0.0, use self.wv.__contains__() instead).\n",
      "/Users/piyush/miniconda3/envs/ir1-i386/lib/python3.6/site-packages/ipykernel_launcher.py:56: DeprecationWarning: Call to deprecated `__getitem__` (Method will be removed in 4.0.0, use self.wv.__getitem__() instead).\n"
     ]
    },
    {
     "name": "stdout",
     "output_type": "stream",
     "text": [
      "::: Generating results for w2v_pretrained ...\n"
     ]
    },
    {
     "name": "stderr",
     "output_type": "stream",
     "text": [
      "/Users/piyush/miniconda3/envs/ir1-i386/lib/python3.6/site-packages/ipykernel_launcher.py:20: RuntimeWarning: invalid value encountered in double_scalars\n"
     ]
    },
    {
     "name": "stdout",
     "output_type": "stream",
     "text": [
      "::: Generating results for d2v ...\n",
      "::: Generating results for lsi_rr ...\n",
      "::: Generating results for lda_rr ...\n",
      "::: Generating results for w2v_rr ...\n",
      "::: Generating results for w2v_pretrained_rr ...\n",
      "::: Generating results for d2v_rr ...\n"
     ]
    },
    {
     "data": {
      "image/png": "[encoded data removed]",
      "text/plain": [
       "<Figure size 1440x864 with 8 Axes>"
      ]
     },
     "metadata": {
      "needs_background": "light"
     },
     "output_type": "display_data"
    }
   ],
   "source": [
    "# YOUR CODE HERE\n",
    "\n",
    "# generating results\n",
    "results = dict()\n",
    "for method_name, method_fn in list_of_sem_search_fns:\n",
    "    print(f\"::: Generating results for {method_name} ...\")\n",
    "    results[method_name] = evaluate_search_fn(method_fn, list_of_metrics, index_set=None)\n",
    "\n",
    "write_json(results, \"./results/semantics_based_retrieval_results_index_2.json\")\n",
    "\n",
    "# plotting results\n",
    "nrows, ncols = 2, len(list_of_metrics) // 2\n",
    "fig, axes = plt.subplots(nrows, ncols, figsize=(5 * len(list_of_metrics) // 2, 4 * 2 + 4), constrained_layout=True)\n",
    "\n",
    "for i in range(nrows):\n",
    "    for j in range(ncols):\n",
    "        idx = i * ncols + j\n",
    "        ax = axes[i][j]\n",
    "        \n",
    "        metric = list_of_metrics[idx][0]\n",
    "        ax.set_title(metric, fontsize=15)\n",
    "        # ax.set_ylim((0, 0.4))\n",
    "        ax.grid(axis=\"y\")\n",
    "\n",
    "        methods_names = list(results.keys())\n",
    "        x = np.arange(len(methods_names))\n",
    "        width = 0.3\n",
    "\n",
    "        methods_values = [results[method][metric] for method in results]\n",
    "        \n",
    "        methods_names = [method for method in results if not method.endswith(\"_rr\")]\n",
    "        x = np.arange(len(methods_names))\n",
    "        methods_values_1 = [results[method][metric] for method in results if not method.endswith(\"_rr\")]\n",
    "        methods_values_2 = [results[method][metric] for method in results if method.endswith(\"_rr\")]\n",
    "\n",
    "        ax.bar(x=x, height=methods_values_1, width=width, label=\"Vanilla\", color=\"pink\")\n",
    "        ax.bar(x=x + width, height=methods_values_2, width=width, label=\"Re-ranked\", color=\"skyblue\")\n",
    "\n",
    "        ax.set_xticks(x + width / 2)\n",
    "        # ax.set_xticks(x)\n",
    "        ax.set_xticklabels(methods_names, fontsize=13, rotation=90)\n",
    "        \n",
    "        ax.legend(fontsize=13)\n",
    "\n",
    "plt.suptitle(\n",
    "    \"Evaluation of semantic-based retrieval methods with and without re-ranking on different metrics\",\n",
    "    fontsize=20,\n",
    "    y=1.05,\n",
    ")\n",
    "plt.savefig(\"./results/semantics_based_retrieval_v1.pdf\", bbox_inches=\"tight\")\n",
    "plt.show()"
   ]
  },
  {
   "cell_type": "markdown",
   "metadata": {
    "deletable": false,
    "editable": false,
    "nbgrader": {
     "cell_type": "markdown",
     "checksum": "a8a3b6189bdde66704c694d85e38d049",
     "grade": false,
     "grade_id": "cell-deb2ef3daa306e82",
     "locked": true,
     "schema_version": 3,
     "solution": false,
     "task": false
    }
   },
   "source": [
    "### Section 10.2: Summary (20 points)\n",
    "\n",
    "Your summary should compare methods from Part 1 and Part 2 (only for index set 2). State what you expected to see in the results, followed by either supporting evidence *or* justify why the results did not support your expectations. Consider the availability of data, scalability, domain/type of data, etc."
   ]
  },
  {
   "cell_type": "markdown",
   "metadata": {
    "deletable": false,
    "nbgrader": {
     "cell_type": "markdown",
     "checksum": "ff97c43837d10bff6aaffa75e1492887",
     "grade": true,
     "grade_id": "cell-ec5dd7d9cf59dd86",
     "locked": false,
     "points": 20,
     "schema_version": 3,
     "solution": true,
     "task": false
    }
   },
   "source": [
    "YOUR ANSWER HERE\n",
    "\n",
    "1. First, we observe that all semantic-based retrieval methods from re-ranking across all metrics.\n",
    "2. Second, without re-ranking, `LSI` consistently outperforms all other methods on almost all metrics.\n",
    "3. With re-ranking, `Word2Vec (with pretrained word emebeddings)`, `Doc2Vec` consistently outperform other methods on all metrics."
   ]
  },
  {
   "cell_type": "code",
   "execution_count": null,
   "metadata": {},
   "outputs": [],
   "source": []
  }
 ],
 "metadata": {
  "kernelspec": {
   "display_name": "Python 3",
   "language": "python",
   "name": "python3"
  },
  "language_info": {
   "codemirror_mode": {
    "name": "ipython",
    "version": 3
   },
   "file_extension": ".py",
   "mimetype": "text/x-python",
   "name": "python",
   "nbconvert_exporter": "python",
   "pygments_lexer": "ipython3",
   "version": "3.6.5"
  },
  "toc": {
   "base_numbering": 1,
   "nav_menu": {},
   "number_sections": true,
   "sideBar": true,
   "skip_h1_title": false,
   "title_cell": "Table of Contents",
   "title_sidebar": "Contents",
   "toc_cell": false,
   "toc_position": {},
   "toc_section_display": true,
   "toc_window_display": false
  }
 },
 "nbformat": 4,
 "nbformat_minor": 4
}
