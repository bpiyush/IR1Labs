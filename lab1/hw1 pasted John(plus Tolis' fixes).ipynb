{
 "cells": [
  {
   "cell_type": "markdown",
   "metadata": {
    "deletable": false,
    "editable": false,
    "nbgrader": {
     "cell_type": "markdown",
     "checksum": "1bba455de8bc2825ca70469169bbadaa",
     "grade": false,
     "grade_id": "cell-c9cd9e550239e812",
     "locked": true,
     "schema_version": 3,
     "solution": false,
     "task": false
    }
   },
   "source": [
    "# Homework 1 (Total Points: 250) <a class=\"anchor\" id=\"top\"></a>\n",
    "\n",
    "\n",
    "**Submission instructions**:\n",
    "- The cells with the `# YOUR CODE HERE` denote that these sections are graded and you need to add your implementation.\n",
    "- For Part 1: You can use the `nltk`, `NumPy`, and `matplotlib` libraries here. Other libraries, e.g., `gensim` or `scikit-learn`, may not be used. For Part 2: `gensim` is allowed in addition to the imported libraries in the next code cell\n",
    "- Please use Python 3.6.5 and `pip install -r requirements.txt` to avoid version issues.\n",
    "- The notebook you submit has to have the student ids, separated by underscores (E.g., `12341234_12341234_12341234_hw1.ipynb`).\n",
    "- This will be parsed by a regexp, **so please double check your filename**.\n",
    "- Only one member of each group has to submit the file (**please do not compress the .ipynb file when you will submit it**) to canvas.\n",
    "- **Make sure to check that your notebook runs before submission**. A quick way to do this is to restart the kernel and run all the cells.  \n",
    "- Do not change the number of arugments in the given functions.\n",
    "- **Please do not delete/add new cells**. Removing cells **will** lead to grade deduction. \n",
    "- Note, that you are not allowed to use Google Colab.\n",
    "\n",
    "\n",
    "**Learning Goals**:\n",
    "- [Part 1, Term-based matching](#part1) (165 points):\n",
    "    - Learn how to load a dataset and process it.\n",
    "    - Learn how to implement several standard IR methods (TF-IDF, BM25, QL) and understand their weaknesses & strengths.\n",
    "    - Learn how to evaluate IR methods.\n",
    "- [Part 2, Semantic-based matching](#part2) (85 points):\n",
    "    - Learn how to implement vector-space retrieval methods (LSI, LDA).\n",
    "    - Learn how to use LSI and LDA for re-ranking.\n",
    "\n",
    "    \n",
    "**Resources**: \n",
    "- **Part 1**: Sections 2.3, 4.1, 4.2, 4.3, 5.3, 5.6, 5.7, 6.2, 7, 8 of [Search Engines: Information Retrieval in Practice](https://ciir.cs.umass.edu/downloads/SEIRiP.pdf)\n",
    "- **Part 2**: [LSI - Chapter 18](https://nlp.stanford.edu/IR-book/pdf/18lsi.pdf) from [Introduction to Information Retrieval](https://nlp.stanford.edu/IR-book/) book and the [original LDA paper](https://jmlr.org/papers/volume3/blei03a/blei03a.pdf)"
   ]
  },
  {
   "cell_type": "code",
   "execution_count": 1,
   "metadata": {
    "deletable": false,
    "editable": false,
    "nbgrader": {
     "cell_type": "code",
     "checksum": "c55bfe94ff1f564dd595547e516c4c6e",
     "grade": false,
     "grade_id": "cell-f5357fabdb9660e3",
     "locked": true,
     "schema_version": 3,
     "solution": false,
     "task": false
    }
   },
   "outputs": [],
   "source": [
    "# imports \n",
    "# TODO: Ensure that no additional library is imported in the notebook. \n",
    "# TODO: Only the standard library and the following libraries are allowed:\n",
    "# TODO: You can also use unlisted classes from these libraries or standard libraries (such as defaultdict, Counter, ...).\n",
    "\n",
    "import os\n",
    "import zipfile\n",
    "from functools import partial\n",
    "\n",
    "import nltk\n",
    "import requests\n",
    "import numpy as np\n",
    "from tqdm import tqdm\n",
    "\n",
    "import matplotlib.pyplot as plt\n",
    "from matplotlib.pyplot import cm\n",
    "\n",
    "from ipywidgets import widgets\n",
    "from IPython.display import display, HTML\n",
    "#from IPython.html import widgets\n",
    "from collections import namedtuple\n",
    "\n",
    "%matplotlib inline"
   ]
  },
  {
   "cell_type": "markdown",
   "metadata": {
    "deletable": false,
    "editable": false,
    "nbgrader": {
     "cell_type": "markdown",
     "checksum": "c8328f758ca5b69f76eee03dbbdd4715",
     "grade": false,
     "grade_id": "cell-7428e12ed184408b",
     "locked": true,
     "schema_version": 3,
     "solution": false,
     "task": false
    }
   },
   "source": [
    "\n",
    "# Part 1: Term-based Matching (165 points) <a class=\"anchor\" id=\"part1\"></a>\n",
    "\n",
    "[Back to top](#top)\n",
    "\n",
    "In the first part, we will learn the basics of IR from loading and preprocessing the material, to implementing some well known search algorithms, to evaluating the ranking performance of the implemented algorithms. We will be using the CACM dataset throughout the assignment. The CACM dataset is a collection of titles and abstracts from the journal CACM (Communication of the ACM).\n",
    "\n",
    "Table of contents:\n",
    "- [Section 1: Text Processing](#text_processing) (5 points)\n",
    "- [Section 2: Indexing](#indexing) (10 points)\n",
    "- [Section 3: Ranking](#ranking) (80 points)\n",
    "- [Section 4: Evaluation](#evaluation) (40 points)\n",
    "- [Section 5: Analysis](#analysis) (30 points)\n"
   ]
  },
  {
   "cell_type": "markdown",
   "metadata": {
    "deletable": false,
    "editable": false,
    "jp-MarkdownHeadingCollapsed": true,
    "nbgrader": {
     "cell_type": "markdown",
     "checksum": "4e3f938065183dc743aa8254b96b4f5e",
     "grade": false,
     "grade_id": "cell-4b24825cf4ae55ec",
     "locked": true,
     "schema_version": 3,
     "solution": false,
     "task": false
    },
    "tags": []
   },
   "source": [
    "---\n",
    "## Section 1: Text Processing (5 points)<a class=\"anchor\" id=\"text_processing\"></a>\n",
    "\n",
    "[Back to Part 1](#part1)\n",
    "\n",
    "In this section, we will load the dataset and learn how to clean up the data to make it usable for an IR system. \n",
    "First, go through the implementation of the following functions:\n",
    "- `read_cacm_docs`: Reads in the CACM documents.\n",
    "- `read_queries`: Reads in the CACM queries.\n",
    "- `load_stopwords`: Loads the stopwords.\n",
    "\n",
    "The points of this section are earned for the following implementations:\n",
    "- `tokenize` (3 points): Tokenizes the input text.\n",
    "- `stem_token` (2 points): Stems the given token. \n",
    "\n",
    "We are using the [CACM dataset](http://ir.dcs.gla.ac.uk/resources/test_collections/cacm/), which is a small, classic IR dataset, composed of a collection of titles and abstracts from the journal CACM. It comes with relevance judgements for queries, so we can evaluate our IR system. \n"
   ]
  },
  {
   "cell_type": "markdown",
   "metadata": {
    "deletable": false,
    "editable": false,
    "nbgrader": {
     "cell_type": "markdown",
     "checksum": "0155d897c7016389d73d160921947a6f",
     "grade": false,
     "grade_id": "cell-45651364e7af6d5a",
     "locked": true,
     "schema_version": 3,
     "solution": false,
     "task": false
    }
   },
   "source": [
    "---\n",
    "### 1.1 Read the CACM documents\n",
    "\n",
    "\n",
    "The following cell downloads the dataset and unzips it to a local directory."
   ]
  },
  {
   "cell_type": "code",
   "execution_count": 2,
   "metadata": {
    "deletable": false,
    "editable": false,
    "nbgrader": {
     "cell_type": "code",
     "checksum": "4d43c9ad6e77cc01ce4cef0c34824930",
     "grade": false,
     "grade_id": "cell-bbc3030bb3fe7e02",
     "locked": true,
     "schema_version": 3,
     "solution": false,
     "task": false
    }
   },
   "outputs": [],
   "source": [
    "def download_dataset():\n",
    "    folder_path = os.environ.get(\"IR1_DATA_PATH\")\n",
    "    if not folder_path:\n",
    "        folder_path = \"./datasets/\"\n",
    "    os.makedirs(folder_path, exist_ok=True)\n",
    "    \n",
    "    file_location = os.path.join(folder_path, \"cacm.zip\")\n",
    "    \n",
    "    # download file if it doesn't exist\n",
    "    if not os.path.exists(file_location):\n",
    "        \n",
    "        url = \"https://surfdrive.surf.nl/files/index.php/s/M0FGJpX2p8wDwxR/download\"\n",
    "\n",
    "        with open(file_location, \"wb\") as handle:\n",
    "            print(f\"Downloading file from {url} to {file_location}\")\n",
    "            response = requests.get(url, stream=True)\n",
    "            for data in tqdm(response.iter_content()):\n",
    "                handle.write(data)\n",
    "            print(\"Finished downloading file\")\n",
    "    \n",
    "    if not os.path.exists(os.path.join(folder_path, \"train.txt\")):\n",
    "        \n",
    "        # unzip file\n",
    "        with zipfile.ZipFile(file_location, 'r') as zip_ref:\n",
    "            zip_ref.extractall(folder_path)\n",
    "        \n",
    "download_dataset()"
   ]
  },
  {
   "cell_type": "markdown",
   "metadata": {
    "deletable": false,
    "editable": false,
    "nbgrader": {
     "cell_type": "markdown",
     "checksum": "31609b0d61d0c74cbd69bc43e47c23be",
     "grade": false,
     "grade_id": "cell-a7dd9a9bf98ede05",
     "locked": true,
     "schema_version": 3,
     "solution": false,
     "task": false
    }
   },
   "source": [
    "---\n",
    "\n",
    "You can see a brief description of each file in the dataset by looking at the README file:"
   ]
  },
  {
   "cell_type": "code",
   "execution_count": 3,
   "metadata": {
    "deletable": false,
    "editable": false,
    "nbgrader": {
     "cell_type": "code",
     "checksum": "cb3c9a2b8b2bf4fd5b7446b0c4c00f43",
     "grade": false,
     "grade_id": "cell-9b6ff1a17124711f",
     "locked": true,
     "schema_version": 3,
     "solution": false,
     "task": false
    }
   },
   "outputs": [
    {
     "name": "stdout",
     "output_type": "stream",
     "text": [
      "Files in this directory with sizes:\n",
      "          0 Jun 19 21:01 README\n",
      "\n",
      "    2187734 Jun 19 20:55 cacm.all              text of documents\n",
      "        626 Jun 19 20:58 cite.info             key to citation info\n",
      "                                                (the X sections in cacm.all)\n",
      "       2668 Jun 19 20:55 common_words           stop words used by smart\n",
      "       2194 Jun 19 20:55 make_coll*             shell script to make collection\n",
      "       1557 Jun 19 20:55 make_coll_term*        ditto (both useless without\n",
      "                                                smart system)\n",
      "       9948 Jun 19 20:55 qrels.text             relation giving\n",
      "                                                    qid did 0 0\n",
      "                                                to indicate dument did is\n",
      "                                                relevant to query qid\n",
      "      13689 Jun 19 20:55 query.text             Original text of the query\n",
      "\n"
     ]
    }
   ],
   "source": [
    "##### Read the README file \n",
    "with open (\"./datasets/README\",\"r\") as file:\n",
    "    readme = file.read()\n",
    "    print(readme)\n",
    "#####"
   ]
  },
  {
   "cell_type": "markdown",
   "metadata": {
    "deletable": false,
    "editable": false,
    "nbgrader": {
     "cell_type": "markdown",
     "checksum": "6e2712c4c4632bf7486a532f7f18074d",
     "grade": false,
     "grade_id": "cell-73351431869fda76",
     "locked": true,
     "schema_version": 3,
     "solution": false,
     "task": false
    }
   },
   "source": [
    "---\n",
    "We are interested in 4 files:\n",
    "- `cacm.all` : Contains the text for all documents. Note that some documents do not have abstracts available\n",
    "- `query.text` : The text of all queries\n",
    "- `qrels.text` : The relevance judgements\n",
    "- `common_words` : A list of common words. This may be used as a collection of stopwords"
   ]
  },
  {
   "cell_type": "code",
   "execution_count": 4,
   "metadata": {
    "deletable": false,
    "editable": false,
    "nbgrader": {
     "cell_type": "code",
     "checksum": "f1162c15177eb4ffe466531d03cff4a2",
     "grade": false,
     "grade_id": "cell-b44dd14079f278ca",
     "locked": true,
     "schema_version": 3,
     "solution": false,
     "task": false
    }
   },
   "outputs": [
    {
     "name": "stdout",
     "output_type": "stream",
     "text": [
      ".I 1\n",
      ".T\n",
      "Preliminary Report-International Algebraic Language\n",
      ".B\n",
      "CACM December, 1958\n",
      ".A\n",
      "Perlis, A. J.\n",
      "Samelson,K.\n",
      ".N\n",
      "CA581203 JB March 22, 1978  8:28 PM\n",
      ".X\n",
      "100\t5\t1\n",
      "123\t5\t1\n",
      "164\t5\t1\n",
      "1\t5\t1\n",
      "1\t5\t1\n",
      "1\t5\t1\n",
      "205\t5\t1\n",
      "210\t5\t1\n",
      "214\t5\t1\n",
      "1982\t5\t1\n",
      "398\t5\t1\n",
      "642\t5\t1\n",
      "669\t5\t1\n",
      "1\t6\t1\n",
      "1\t6\t1\n",
      "1\t6\t1\n",
      "1\t6\t1\n",
      "1\t6\t1\n",
      "1\t6\t1\n",
      "1\t6\t1\n",
      "1\t6\t1\n",
      "1\t6\t1\n",
      "1\t6\t1\n",
      "165\t6\t1\n",
      "196\t6\t1\n",
      "196\t6\t1\n",
      "1273\t6\t1\n",
      "1883\t6\t1\n",
      "324\t6\t1\n",
      "43\t6\t1\n",
      "53\t6\t1\n",
      "91\t6\t1\n",
      "410\t6\t1\n",
      "3184\t6\t1\n",
      "\n"
     ]
    }
   ],
   "source": [
    "##### The first 45 lines of the CACM dataset forms the first record\n",
    "# We are interested only in 3 fields. \n",
    "# 1. the '.I' field, which is the document id\n",
    "# 2. the '.T' field (the title) and\n",
    "# 3. the '.W' field (the abstract, which may be absent)\n",
    "with open (\"./datasets/cacm.all\",\"r\") as file:\n",
    "    cacm_all = \"\".join(file.readlines()[:45])\n",
    "    print(cacm_all)\n",
    "#####"
   ]
  },
  {
   "cell_type": "markdown",
   "metadata": {
    "deletable": false,
    "editable": false,
    "nbgrader": {
     "cell_type": "markdown",
     "checksum": "250b413baccd8efb186bb46a34ae0060",
     "grade": false,
     "grade_id": "cell-c4bf2e263ec553d8",
     "locked": true,
     "schema_version": 3,
     "solution": false,
     "task": false
    }
   },
   "source": [
    "---\n",
    "\n",
    "The following function reads the `cacm.all` file. Note that each document has a variable number of lines. The `.I` field denotes a new document:"
   ]
  },
  {
   "cell_type": "code",
   "execution_count": 5,
   "metadata": {
    "deletable": false,
    "editable": false,
    "nbgrader": {
     "cell_type": "code",
     "checksum": "57d757e6a7a6938740dc899022b4f291",
     "grade": false,
     "grade_id": "cell-b736116eb419c624",
     "locked": true,
     "schema_version": 3,
     "solution": false,
     "task": false
    }
   },
   "outputs": [],
   "source": [
    "def read_cacm_docs(root_folder = \"./datasets/\"):\n",
    "    \"\"\"\n",
    "        Reads in the CACM documents. The dataset is assumed to be in the folder \"./datasets/\" by default\n",
    "        Returns: A list of 2-tuples: (doc_id, document), where 'document' is a single string created by \n",
    "            appending the title and abstract (separated by a \"\\n\"). \n",
    "            In case the record doesn't have an abstract, the document is composed only by the title\n",
    "    \"\"\"\n",
    "    with open(os.path.join(root_folder, \"cacm.all\")) as reader:\n",
    "        lines = reader.readlines()\n",
    "    \n",
    "    doc_id, title, abstract = None, None, None\n",
    "    \n",
    "    docs = []\n",
    "    line_idx = 0\n",
    "    while line_idx < len(lines):\n",
    "        line = lines[line_idx]\n",
    "        if line.startswith(\".I\"):\n",
    "            if doc_id is not None:\n",
    "                docs.append((doc_id, title, abstract))\n",
    "                doc_id, title, abstract = None, None, None\n",
    "            \n",
    "            doc_id = line.split()[-1]\n",
    "            line_idx += 1\n",
    "        elif line.startswith(\".T\"):\n",
    "            # start at next line\n",
    "            line_idx += 1\n",
    "            temp_lines = []\n",
    "            # read till next '.'\n",
    "            while not lines[line_idx].startswith(\".\"):\n",
    "                temp_lines.append(lines[line_idx].strip(\"\\n\"))\n",
    "                line_idx += 1\n",
    "            title = \"\\n\".join(temp_lines).strip(\"\\n\")\n",
    "        elif line.startswith(\".W\"):\n",
    "            # start at next line\n",
    "            line_idx += 1\n",
    "            temp_lines = []\n",
    "            # read till next '.'\n",
    "            while not lines[line_idx].startswith(\".\"):\n",
    "                temp_lines.append(lines[line_idx].strip(\"\\n\"))\n",
    "                line_idx += 1\n",
    "            abstract = \"\\n\".join(temp_lines).strip(\"\\n\")\n",
    "        else:\n",
    "            line_idx += 1\n",
    "    \n",
    "    docs.append((doc_id, title, abstract))\n",
    "    \n",
    "    p_docs = []\n",
    "    for (did, t, a) in docs:\n",
    "        if a is None:\n",
    "            a = \"\"\n",
    "        p_docs.append((did, t + \"\\n\" + a))\n",
    "    return p_docs\n"
   ]
  },
  {
   "cell_type": "code",
   "execution_count": 6,
   "metadata": {
    "deletable": false,
    "editable": false,
    "nbgrader": {
     "cell_type": "code",
     "checksum": "2f81930fcd89670b6e20e2255e1f2369",
     "grade": false,
     "grade_id": "cell-a1c43818e0d3fd79",
     "locked": true,
     "schema_version": 3,
     "solution": false,
     "task": false
    }
   },
   "outputs": [],
   "source": [
    "##### Function check\n",
    "docs = read_cacm_docs()\n",
    "\n",
    "assert isinstance(docs, list)\n",
    "assert len(docs) == 3204, \"There should be exactly 3204 documents\"\n",
    "\n",
    "unzipped_docs = list(zip(*docs))\n",
    "assert np.sum(np.array(list(map(int,unzipped_docs[0])))) == 5134410\n",
    "\n",
    "##### "
   ]
  },
  {
   "cell_type": "markdown",
   "metadata": {
    "deletable": false,
    "editable": false,
    "nbgrader": {
     "cell_type": "markdown",
     "checksum": "25fd3cfaf2137c56002b850699b3c9d3",
     "grade": false,
     "grade_id": "cell-5ed2ddc91f73c60e",
     "locked": true,
     "schema_version": 3,
     "solution": false,
     "task": false
    }
   },
   "source": [
    "---\n",
    "### 1.2 Read the CACM queries\n",
    "\n",
    "Next, let us read the queries. They are formatted similarly:"
   ]
  },
  {
   "cell_type": "code",
   "execution_count": 7,
   "metadata": {
    "deletable": false,
    "editable": false,
    "nbgrader": {
     "cell_type": "code",
     "checksum": "5d26c0908e758acb9968b84056b1060a",
     "grade": false,
     "grade_id": "cell-5c7e8e7c4fc2757f",
     "locked": true,
     "schema_version": 3,
     "solution": false,
     "task": false
    }
   },
   "outputs": [
    {
     "name": "stdout",
     "output_type": "stream",
     "text": [
      ".I 1\n",
      ".W\n",
      " What articles exist which deal with TSS (Time Sharing System), an\n",
      "operating system for IBM computers?\n",
      ".N\n",
      " 1. Richard Alexander, Comp Serv, Langmuir Lab (TSS)\n",
      " \n",
      ".I 2\n",
      ".W\n",
      " I am interested in articles written either by Prieve or Udo Pooch\n",
      ".A\n",
      "Prieve, B.\n",
      "Pooch, U.\n",
      ".N\n",
      " 2. Richard Alexander, Comp Serv, Langmuir Lab (author = Pooch or Prieve)\n"
     ]
    }
   ],
   "source": [
    "##### The first 15 lines of 'query.text' has 2 queries\n",
    "# We are interested only in 2 fields. \n",
    "# 1. the '.I' - the query id\n",
    "# 2. the '.W' - the query\n",
    "!head -15 ./datasets/query.text\n",
    "#####"
   ]
  },
  {
   "cell_type": "markdown",
   "metadata": {
    "deletable": false,
    "editable": false,
    "nbgrader": {
     "cell_type": "markdown",
     "checksum": "8f19f311a660f30e3f86cb0f7037d54a",
     "grade": false,
     "grade_id": "cell-88e293507d2dcef6",
     "locked": true,
     "schema_version": 3,
     "solution": false,
     "task": false
    }
   },
   "source": [
    "---\n",
    "\n",
    "The following function reads the `query.text` file:"
   ]
  },
  {
   "cell_type": "code",
   "execution_count": 8,
   "metadata": {
    "deletable": false,
    "editable": false,
    "nbgrader": {
     "cell_type": "code",
     "checksum": "e3fbb193211007672849487f5cff1664",
     "grade": false,
     "grade_id": "cell-433e3ad5d0e2572a",
     "locked": true,
     "schema_version": 3,
     "solution": false,
     "task": false
    }
   },
   "outputs": [],
   "source": [
    "def read_queries(root_folder = \"./datasets/\"):\n",
    "    \"\"\"\n",
    "        Reads in the CACM queries. The dataset is assumed to be in the folder \"./datasets/\" by default\n",
    "        Returns: A list of 2-tuples: (query_id, query)\n",
    "    \"\"\"\n",
    "    with open(os.path.join(root_folder, \"query.text\")) as reader:\n",
    "        lines = reader.readlines()\n",
    "    \n",
    "    query_id, query = None, None\n",
    "    \n",
    "    queries = []\n",
    "    line_idx = 0\n",
    "    while line_idx < len(lines):\n",
    "        line = lines[line_idx]\n",
    "        if line.startswith(\".I\"):\n",
    "            if query_id is not None:\n",
    "                queries.append((query_id, query))\n",
    "                query_id, query = None, None\n",
    "    \n",
    "            query_id = line.split()[-1]\n",
    "            line_idx += 1\n",
    "        elif line.startswith(\".W\"):\n",
    "            # start at next line\n",
    "            line_idx += 1\n",
    "            temp_lines = []\n",
    "            # read till next '.'\n",
    "            while not lines[line_idx].startswith(\".\"):\n",
    "                temp_lines.append(lines[line_idx].strip(\"\\n\"))\n",
    "                line_idx += 1\n",
    "            query = \"\\n\".join(temp_lines).strip(\"\\n\")\n",
    "        else:\n",
    "            line_idx += 1\n",
    "    \n",
    "    queries.append((query_id, query))\n",
    "    return queries\n"
   ]
  },
  {
   "cell_type": "code",
   "execution_count": 9,
   "metadata": {
    "deletable": false,
    "editable": false,
    "nbgrader": {
     "cell_type": "code",
     "checksum": "a897b9771b54f447be3418d7246fc4a0",
     "grade": false,
     "grade_id": "cell-6ec540abce66c598",
     "locked": true,
     "schema_version": 3,
     "solution": false,
     "task": false
    }
   },
   "outputs": [],
   "source": [
    "##### Function check\n",
    "queries = read_queries()\n",
    "\n",
    "assert isinstance(queries, list)\n",
    "assert len(queries) == 64 and all([q[1] is not None for q in queries]), \"There should be exactly 64 queries\"\n",
    "\n",
    "unzipped_queries = list(zip(*queries))\n",
    "assert np.sum(np.array(list(map(int,unzipped_queries[0])))) == 2080\n",
    "\n",
    "##### "
   ]
  },
  {
   "cell_type": "markdown",
   "metadata": {
    "deletable": false,
    "editable": false,
    "nbgrader": {
     "cell_type": "markdown",
     "checksum": "a300c41912ac63b239070b4c15c9f5c5",
     "grade": false,
     "grade_id": "cell-1c31569491d7b782",
     "locked": true,
     "schema_version": 3,
     "solution": false,
     "task": false
    }
   },
   "source": [
    "---\n",
    "### 1.3 Read the stop words\n",
    "\n",
    "We use the common words stored in `common_words`:"
   ]
  },
  {
   "cell_type": "code",
   "execution_count": 10,
   "metadata": {
    "deletable": false,
    "editable": false,
    "nbgrader": {
     "cell_type": "code",
     "checksum": "1ad6f5bae6a792504c1c8513ae5751ad",
     "grade": false,
     "grade_id": "cell-34bdb63461418a96",
     "locked": true,
     "schema_version": 3,
     "solution": false,
     "task": false
    }
   },
   "outputs": [
    {
     "name": "stdout",
     "output_type": "stream",
     "text": [
      "a\n",
      "about\n",
      "above\n",
      "accordingly\n",
      "across\n",
      "after\n",
      "afterwards\n",
      "again\n",
      "against\n",
      "all\n"
     ]
    }
   ],
   "source": [
    "##### Read the stop words file \n",
    "!head ./datasets/common_words\n",
    "##### Read the README file "
   ]
  },
  {
   "cell_type": "markdown",
   "metadata": {
    "deletable": false,
    "editable": false,
    "nbgrader": {
     "cell_type": "markdown",
     "checksum": "6d0fe612e770213b6397c2179b07a966",
     "grade": false,
     "grade_id": "cell-4744bde0338895d8",
     "locked": true,
     "schema_version": 3,
     "solution": false,
     "task": false
    }
   },
   "source": [
    "---\n",
    "\n",
    "The following function reads the `common_words` file (For better coverage, we try to keep them in lowercase):"
   ]
  },
  {
   "cell_type": "code",
   "execution_count": 11,
   "metadata": {
    "deletable": false,
    "editable": false,
    "nbgrader": {
     "cell_type": "code",
     "checksum": "9409713fd26eb0c33587e190638997c4",
     "grade": false,
     "grade_id": "cell-7357aa40f64e5bcb",
     "locked": true,
     "schema_version": 3,
     "solution": false,
     "task": false
    }
   },
   "outputs": [],
   "source": [
    "def load_stopwords(root_folder = \"./datasets/\"):\n",
    "    \"\"\"\n",
    "        Loads the stopwords. The dataset is assumed to be in the folder \"./datasets/\" by default\n",
    "        Output: A set of stopwords\n",
    "    \"\"\"\n",
    "    with open(os.path.join(root_folder, \"common_words\")) as reader:\n",
    "        lines = reader.readlines()\n",
    "    stopwords = set([l.strip().lower() for l in lines])\n",
    "    return stopwords\n"
   ]
  },
  {
   "cell_type": "code",
   "execution_count": 12,
   "metadata": {
    "deletable": false,
    "editable": false,
    "nbgrader": {
     "cell_type": "code",
     "checksum": "f1c8153c3c38133bc2db6e7b076ad470",
     "grade": false,
     "grade_id": "cell-2ca3ac162004de97",
     "locked": true,
     "schema_version": 3,
     "solution": false,
     "task": false
    }
   },
   "outputs": [],
   "source": [
    "##### Function check\n",
    "stopwords = load_stopwords()\n",
    "\n",
    "assert isinstance(stopwords, set)\n",
    "assert len(stopwords) == 428, \"There should be exactly 428 stop words\"\n",
    "\n",
    "assert np.sum(np.array(list(map(len,stopwords)))) == 2234\n",
    "\n",
    "##### \n"
   ]
  },
  {
   "cell_type": "markdown",
   "metadata": {
    "deletable": false,
    "editable": false,
    "nbgrader": {
     "cell_type": "markdown",
     "checksum": "92c1191e9e7291dcf0d70dc67b907a65",
     "grade": false,
     "grade_id": "cell-134b72872f4300cb",
     "locked": true,
     "schema_version": 3,
     "solution": false,
     "task": false
    }
   },
   "source": [
    "---\n",
    "### 1.4 Tokenization (3 points)\n",
    "\n",
    "We can now write some basic text processing functions. \n",
    "A first step is to tokenize the text. \n",
    "\n",
    "**Note**: Use the  `WordPunctTokenizer` available in the `nltk` library:"
   ]
  },
  {
   "cell_type": "code",
   "execution_count": 13,
   "metadata": {
    "deletable": false,
    "nbgrader": {
     "cell_type": "code",
     "checksum": "3f5564d3c75bf22fbf832b3a9b938f37",
     "grade": false,
     "grade_id": "cell-322be4c9499bdc4b",
     "locked": false,
     "schema_version": 3,
     "solution": true,
     "task": false
    }
   },
   "outputs": [],
   "source": [
    "# TODO: Implement this! (4 points)\n",
    "def tokenize(text):\n",
    "    \"\"\"\n",
    "        Tokenizes the input text. Use the WordPunctTokenizer\n",
    "        Input: text - a string\n",
    "        Output: a list of tokens\n",
    "    \"\"\"\n",
    "    # YOUR CODE HERE\n",
    "    \n",
    "    tokenizer = nltk.tokenize.WordPunctTokenizer()\n",
    "    tokens = tokenizer.tokenize(text)\n",
    "    \n",
    "    return tokens"
   ]
  },
  {
   "cell_type": "code",
   "execution_count": 14,
   "metadata": {
    "deletable": false,
    "editable": false,
    "nbgrader": {
     "cell_type": "code",
     "checksum": "e15af22c4d8ae0a3f9dac43bef7097ec",
     "grade": true,
     "grade_id": "cell-7fbf48bf7541a622",
     "locked": true,
     "points": 3,
     "schema_version": 3,
     "solution": false,
     "task": false
    }
   },
   "outputs": [
    {
     "name": "stdout",
     "output_type": "stream",
     "text": [
      "['the', 'quick', 'brown', 'fox', 'jumps', 'over', 'the', 'lazy', 'dog']\n"
     ]
    }
   ],
   "source": [
    "##### Function check\n",
    "text = \"the quick brown fox jumps over the lazy dog\"\n",
    "tokens = tokenize(text)\n",
    "\n",
    "assert isinstance(tokens, list)\n",
    "assert len(tokens) == 9\n",
    "\n",
    "print(tokens)\n",
    "# output: ['the', 'quick', 'brown', 'fox', 'jumps', 'over', 'the', 'lazy', 'dog']\n",
    "#####"
   ]
  },
  {
   "cell_type": "markdown",
   "metadata": {
    "deletable": false,
    "editable": false,
    "nbgrader": {
     "cell_type": "markdown",
     "checksum": "34210618bff4cb47aad2f03cb4b9854c",
     "grade": false,
     "grade_id": "cell-fd1b98ae61b697ca",
     "locked": true,
     "schema_version": 3,
     "solution": false,
     "task": false
    }
   },
   "source": [
    "---\n",
    "### 1.5 Stemming (2 points)\n",
    "\n",
    "Write a function to stem tokens. \n",
    "Again, you can use the nltk library for this:"
   ]
  },
  {
   "cell_type": "code",
   "execution_count": 15,
   "metadata": {
    "deletable": false,
    "nbgrader": {
     "cell_type": "code",
     "checksum": "1c4a6aa979d66158c7b6b992af43293a",
     "grade": false,
     "grade_id": "cell-e3f6c8e3f874b28d",
     "locked": false,
     "schema_version": 3,
     "solution": true,
     "task": false
    }
   },
   "outputs": [],
   "source": [
    "# TODO: Implement this! (3 points)\n",
    "def stem_token(token):\n",
    "    \"\"\"\n",
    "        Stems the given token using the PorterStemmer from the nltk library\n",
    "        Input: a single token\n",
    "        Output: the stem of the token\n",
    "    \"\"\"\n",
    "    # YOUR CODE HERE\n",
    "    stemmer = nltk.stem.porter.PorterStemmer()\n",
    "    stemmed_token = stemmer.stem(token)\n",
    "    \n",
    "    return stemmed_token"
   ]
  },
  {
   "cell_type": "code",
   "execution_count": 16,
   "metadata": {
    "deletable": false,
    "editable": false,
    "nbgrader": {
     "cell_type": "code",
     "checksum": "9363b4f09b556d424d9c895d4ab57b1c",
     "grade": true,
     "grade_id": "cell-cd6863e6ee6ed205",
     "locked": true,
     "points": 2,
     "schema_version": 3,
     "solution": false,
     "task": false
    }
   },
   "outputs": [],
   "source": [
    "##### Function check\n",
    "\n",
    "assert stem_token('owned') == 'own'\n",
    "assert stem_token('itemization') == 'item'\n",
    "#####"
   ]
  },
  {
   "cell_type": "markdown",
   "metadata": {
    "deletable": false,
    "editable": false,
    "nbgrader": {
     "cell_type": "markdown",
     "checksum": "0b311d014146da6afa1d39542fab9869",
     "grade": false,
     "grade_id": "cell-47c9f90498699110",
     "locked": true,
     "schema_version": 3,
     "solution": false,
     "task": false
    }
   },
   "source": [
    "---\n",
    "### 1.6 Summary\n",
    "\n",
    "The following function puts it all together. Given an input string, this functions tokenizes and processes it according to the flags that you set."
   ]
  },
  {
   "cell_type": "code",
   "execution_count": 17,
   "metadata": {
    "deletable": false,
    "editable": false,
    "nbgrader": {
     "cell_type": "code",
     "checksum": "2ff2d215ee8e0039c5a91fd3de12e6bd",
     "grade": false,
     "grade_id": "cell-dd0d3f46b30801da",
     "locked": true,
     "schema_version": 3,
     "solution": false,
     "task": false
    }
   },
   "outputs": [],
   "source": [
    "#### Putting it all together\n",
    "def process_text(text, stem=False, remove_stopwords=False, lowercase_text=False):\n",
    "    \n",
    "    tokens = []\n",
    "    for token in tokenize(text):\n",
    "        if remove_stopwords and token.lower() in stopwords:\n",
    "            continue\n",
    "        if stem:\n",
    "            token = stem_token(token)\n",
    "        if lowercase_text:\n",
    "            token = token.lower()\n",
    "        tokens.append(token)\n",
    "\n",
    "    return tokens\n",
    "#### "
   ]
  },
  {
   "cell_type": "markdown",
   "metadata": {
    "deletable": false,
    "editable": false,
    "nbgrader": {
     "cell_type": "markdown",
     "checksum": "02d433b18eb43654fa4306a7bf55b190",
     "grade": false,
     "grade_id": "cell-8d885bfd2edd43ae",
     "locked": true,
     "schema_version": 3,
     "solution": false,
     "task": false
    }
   },
   "source": [
    "---\n",
    "\n",
    "Let's create two sets of preprocessed documents.\n",
    "We can process the documents and queries according to these two configurations:"
   ]
  },
  {
   "cell_type": "code",
   "execution_count": 18,
   "metadata": {
    "deletable": false,
    "editable": false,
    "nbgrader": {
     "cell_type": "code",
     "checksum": "dbe4ca667be6842fdcf512fbcad50c7f",
     "grade": false,
     "grade_id": "cell-d427365ee0fb21d8",
     "locked": true,
     "schema_version": 3,
     "solution": false,
     "task": false
    }
   },
   "outputs": [],
   "source": [
    "# In this configuration:\n",
    "# Don't preprocess the text, except to tokenize \n",
    "config_1 = {\n",
    "  \"stem\": False,\n",
    "  \"remove_stopwords\" : False,\n",
    "  \"lowercase_text\": True\n",
    "} \n",
    "\n",
    "\n",
    "# In this configuration:\n",
    "# Preprocess the text, stem and remove stopwords\n",
    "config_2 = {\n",
    "  \"stem\": True,\n",
    "  \"remove_stopwords\" : True,\n",
    "  \"lowercase_text\": True, \n",
    "} \n",
    "\n",
    "####\n",
    "doc_repr_1 = []\n",
    "doc_repr_2 = []\n",
    "for (doc_id, document) in docs:\n",
    "    doc_repr_1.append((doc_id, process_text(document, **config_1)))\n",
    "    doc_repr_2.append((doc_id, process_text(document, **config_2)))\n",
    "\n",
    "####"
   ]
  },
  {
   "cell_type": "markdown",
   "metadata": {
    "deletable": false,
    "editable": false,
    "jp-MarkdownHeadingCollapsed": true,
    "nbgrader": {
     "cell_type": "markdown",
     "checksum": "b60589aac19e80941d860d9b3f1e9a16",
     "grade": false,
     "grade_id": "cell-b1c102db61ae7495",
     "locked": true,
     "schema_version": 3,
     "solution": false,
     "task": false
    },
    "tags": []
   },
   "source": [
    "--- \n",
    "\n",
    "## Section 2: Indexing (10 points)<a class=\"anchor\" id=\"indexing\"></a>\n",
    "\n",
    "[Back to Part 1](#part1)\n",
    "\n",
    "\n",
    "\n",
    "A retrieval function usually takes in a query document pair, and scores a query against a document.  Our document set is quite small - just a few thousand documents. However, consider a web-scale dataset with a few million documents. In such a scenario, it would become infeasible to score every query and document pair. In such a case, we can build an inverted index. From Wikipedia:\n",
    "\n",
    "> ... , an inverted index (also referred to as a postings file or inverted file) is a database index storing a mapping from content, such as words or numbers, to its locations in a table, .... The purpose of an inverted index is to allow fast full-text searches, at a cost of increased processing when a document is added to the database. ...\n",
    "\n",
    "\n",
    "Consider a simple inverted index, which maps from word to document. This can improve the performance of a retrieval system significantly. In this assignment, we consider a *simple* inverted index, which maps a word to a set of documents. In practice, however, more complex indices might be used.  \n"
   ]
  },
  {
   "cell_type": "markdown",
   "metadata": {
    "deletable": false,
    "editable": false,
    "nbgrader": {
     "cell_type": "markdown",
     "checksum": "710fd943f45523ac36fcb887cc0d4d39",
     "grade": false,
     "grade_id": "cell-fa373192c1b7bb95",
     "locked": true,
     "schema_version": 3,
     "solution": false,
     "task": false
    }
   },
   "source": [
    "### 2.1 Term Frequency-index (10 points)\n",
    "In this assignment, we will be using an index created in memory since our dataset is tiny. To get started, build a simple index that maps each `token` to a list of `(doc_id, count)` where `count` is the count of the `token` in `doc_id`.\n",
    "For consistency, build this index using a python dictionary.\n",
    "    \n",
    "Now, implement a function to build an index:"
   ]
  },
  {
   "cell_type": "code",
   "execution_count": 19,
   "metadata": {
    "deletable": false,
    "nbgrader": {
     "cell_type": "code",
     "checksum": "d4e8c6b658c469379d5fe511de05b536",
     "grade": false,
     "grade_id": "cell-077599b87e953209",
     "locked": false,
     "schema_version": 3,
     "solution": true,
     "task": false
    }
   },
   "outputs": [],
   "source": [
    "# TODO: Implement this! (10 points)\n",
    "def build_tf_index(documents):\n",
    "    \"\"\"\n",
    "        Build an inverted index (with counts). The output is a dictionary which takes in a token\n",
    "        and returns a list of (doc_id, count) where 'count' is the count of the 'token' in 'doc_id'\n",
    "        Input: a list of documents - (doc_id, tokens) \n",
    "        Output: An inverted index implemented within a pyhton dictionary: [token] -> [(doc_id, token_count)]\n",
    "    \"\"\"\n",
    "    # YOUR CODE HERE\n",
    "    \n",
    "    # basic imports\n",
    "    from collections import defaultdict\n",
    "    \n",
    "    # initialize the index\n",
    "    index = defaultdict(list)\n",
    "    \n",
    "    # loop over documents\n",
    "    for doc_id, doc_tokens in documents:\n",
    "\n",
    "        # get counts of each token in the document\n",
    "        tokens, counts = np.unique(doc_tokens, return_counts=True)\n",
    "        \n",
    "        # update the index\n",
    "        for token, count in zip(tokens, counts):\n",
    "            index[token].append((doc_id, count))\n",
    "    \n",
    "    return index"
   ]
  },
  {
   "cell_type": "markdown",
   "metadata": {
    "deletable": false,
    "editable": false,
    "nbgrader": {
     "cell_type": "markdown",
     "checksum": "15e7041b4323d2a290322de538ff7670",
     "grade": false,
     "grade_id": "cell-093aebfa504f96f2",
     "locked": true,
     "schema_version": 3,
     "solution": false,
     "task": false
    }
   },
   "source": [
    "---\n",
    "Now we can build indexed documents and preprocess the queries based on the two configurations:"
   ]
  },
  {
   "cell_type": "code",
   "execution_count": 20,
   "metadata": {
    "deletable": false,
    "editable": false,
    "nbgrader": {
     "cell_type": "code",
     "checksum": "e27540c1d8d77a3779a05f557f3f40c6",
     "grade": false,
     "grade_id": "cell-b2ff1676348b90a8",
     "locked": true,
     "schema_version": 3,
     "solution": false,
     "task": false
    }
   },
   "outputs": [],
   "source": [
    "#### Indexed documents based on the two configs\n",
    "\n",
    "# Create the 2 indices\n",
    "tf_index_1 = build_tf_index(doc_repr_1)\n",
    "tf_index_2 = build_tf_index(doc_repr_2)\n",
    "\n",
    "# This function returns the tf_index of the corresponding config\n",
    "def get_index(index_set):\n",
    "    assert index_set in {1, 2}\n",
    "    return {\n",
    "        1: tf_index_1,\n",
    "        2: tf_index_2\n",
    "    }[index_set]\n",
    "\n",
    "####\n",
    "#### Preprocessed query based on the two configs\n",
    "\n",
    "# This function preprocesses the text given the index set, according to the specified config\n",
    "def preprocess_query(text, index_set):\n",
    "    assert index_set in {1, 2}\n",
    "    if index_set == 1:\n",
    "        return process_text(text, **config_1)\n",
    "    elif index_set == 2:\n",
    "        return process_text(text, **config_2)\n",
    "\n",
    "#### "
   ]
  },
  {
   "cell_type": "code",
   "execution_count": 21,
   "metadata": {
    "deletable": false,
    "editable": false,
    "nbgrader": {
     "cell_type": "code",
     "checksum": "f0cbc8703e1248cd6edf03f9019b69db",
     "grade": true,
     "grade_id": "cell-fc7c7232d5d2ee46",
     "locked": true,
     "points": 5,
     "schema_version": 3,
     "solution": false,
     "task": false
    }
   },
   "outputs": [
    {
     "name": "stdout",
     "output_type": "stream",
     "text": [
      "sample tf index for computer: [('4', 1), ('7', 1), ('10', 1), ('13', 1), ('19', 1), ('22', 1), ('23', 1), ('37', 1), ('40', 3), ('41', 1)]\n",
      "sample tf index for examples: [('111', 1), ('320', 1), ('644', 1), ('691', 1), ('727', 1), ('848', 1), ('892', 1), ('893', 1), ('1049', 1), ('1051', 1)]\n"
     ]
    }
   ],
   "source": [
    "##### Function check\n",
    "\n",
    "assert isinstance(tf_index_1, dict)\n",
    "\n",
    "assert isinstance(tf_index_1['computer'], list)\n",
    "print('sample tf index for computer:', tf_index_1['computer'][:10])\n",
    "\n",
    "assert isinstance(tf_index_1['examples'], list)\n",
    "print('sample tf index for examples:', tf_index_1['examples'][:10])\n",
    "#### "
   ]
  },
  {
   "cell_type": "code",
   "execution_count": 22,
   "metadata": {
    "deletable": false,
    "editable": false,
    "nbgrader": {
     "cell_type": "code",
     "checksum": "d49b8ac36815d9a5cb4bed838ab53a50",
     "grade": true,
     "grade_id": "cell-ff06bd11204db250",
     "locked": true,
     "points": 5,
     "schema_version": 3,
     "solution": false,
     "task": false
    }
   },
   "outputs": [
    {
     "name": "stdout",
     "output_type": "stream",
     "text": [
      "sample tf index for computer: [('4', 1), ('7', 1), ('10', 1), ('13', 1), ('19', 1), ('22', 1), ('23', 1), ('37', 1), ('40', 3), ('41', 1)]\n",
      "sample tf index for examples: []\n"
     ]
    }
   ],
   "source": [
    "##### Function check\n",
    "\n",
    "assert isinstance(tf_index_2, dict)\n",
    "\n",
    "assert isinstance(tf_index_2['computer'], list)\n",
    "print('sample tf index for computer:', tf_index_1['computer'][:10])\n",
    "\n",
    "assert isinstance(tf_index_2['examples'], list)\n",
    "print('sample tf index for examples:', tf_index_2['examples'][:10])\n",
    "#### "
   ]
  },
  {
   "cell_type": "markdown",
   "metadata": {
    "deletable": false,
    "editable": false,
    "nbgrader": {
     "cell_type": "markdown",
     "checksum": "880b2ef3ca405f2af6e0667d2dc7a600",
     "grade": false,
     "grade_id": "cell-89eba71f04310291",
     "locked": true,
     "schema_version": 3,
     "solution": false,
     "task": false
    }
   },
   "source": [
    "\n",
    "---\n",
    "## Section 3: Ranking  (80 points) <a class=\"anchor\" id=\"ranking\"></a>\n",
    "\n",
    "[Back to Part 1](#part1)\n",
    "\n",
    "Now that we have cleaned and processed our dataset, we can start building simple IR systems. \n",
    "\n",
    "For now, we consider *simple* IR systems, which involve computing scores from the tokens present in the document/query. More advanced methods are covered in later assignments.\n",
    "\n",
    "We will implement the following methods in this section:\n",
    "- [Section 3.1: Bag of Words](#bow) (10 points)\n",
    "- [Section 3.2: TF-IDF](#tfidf) (15 points)\n",
    "- [Section 3.3: Query Likelihood Model](#qlm) (35 points)\n",
    "- [Section 3.4: BM25](#bm25) (20 points)\n",
    "\n",
    "*All search functions should be able to handle multiple words queries.*\n",
    "\n",
    "**Scoring policy:**\n",
    "Your implementations in this section are scored based on the expected performance of your ranking functions.\n",
    "You will get a full mark if your implementation meets the expected performance (measured by some evaluation metric).\n",
    "Otherwise, you may get partial credit.\n",
    "For example, if your *Bag of words* ranking function has 60% of expected performance, you will get 6 out of 10."
   ]
  },
  {
   "cell_type": "markdown",
   "metadata": {
    "deletable": false,
    "editable": false,
    "jp-MarkdownHeadingCollapsed": true,
    "nbgrader": {
     "cell_type": "markdown",
     "checksum": "6c74e5061917358300c6e8085ec07864",
     "grade": false,
     "grade_id": "cell-3daf70a60e393adf",
     "locked": true,
     "schema_version": 3,
     "solution": false,
     "task": false
    },
    "tags": []
   },
   "source": [
    "--- \n",
    "\n",
    "### Section 3.1: Bag of Words (10 points)<a class=\"anchor\" id=\"bow\"></a>\n",
    "\n",
    "Probably the simplest IR model is the Bag of Words (BOW) model.\n",
    "Implement a function that scores and ranks all the documents against a query using this model.   \n",
    "\n",
    "- For consistency, you should use the count of the token and **not** the binary indicator.\n",
    "- Use `float` type for the scores (even though the scores are integers in this case).\n",
    "- No normalization of the scores is necessary, as the ordering is what we are interested in.\n",
    "- If two documents have the same score, they can have any ordering: you are not required to disambiguate.\n"
   ]
  },
  {
   "cell_type": "code",
   "execution_count": 23,
   "metadata": {
    "deletable": false,
    "nbgrader": {
     "cell_type": "code",
     "checksum": "fee4640e22bfc4f05eb958a675ef40e7",
     "grade": false,
     "grade_id": "cell-de9cf0459c4b9324",
     "locked": false,
     "schema_version": 3,
     "solution": true,
     "task": false
    }
   },
   "outputs": [],
   "source": [
    "# TODO: Implement this! (10 points)\n",
    "def bow_search(query, index_set):\n",
    "    \"\"\"\n",
    "        Perform a search over all documents with the given query. \n",
    "        Note: You have to use the `get_index` function created in the previous cells\n",
    "        Input: \n",
    "            query - a (unprocessed) query\n",
    "            index_set - the index to use\n",
    "        Output: a list of (document_id, score), sorted in descending relevance to the given query. \n",
    "    \"\"\"\n",
    "    index = get_index(index_set)\n",
    "    processed_query = preprocess_query(query, index_set)\n",
    "    \n",
    "    # YOUR CODE HERE\n",
    "    \n",
    "    from collections import Counter, OrderedDict\n",
    "\n",
    "    document_score = Counter()\n",
    "    for t in processed_query:\n",
    "        if t in index:\n",
    "            document_score.update(dict(index[t]))          \n",
    "        \n",
    "    # convert scores to floats\n",
    "    document_score = {k: float(v) for k, v in document_score.items()}\n",
    "    \n",
    "    # return the sorted dict\n",
    "    return sorted(document_score.items(), key=lambda x: x[1], reverse=True)"
   ]
  },
  {
   "cell_type": "code",
   "execution_count": 24,
   "metadata": {
    "deletable": false,
    "editable": false,
    "nbgrader": {
     "cell_type": "code",
     "checksum": "613524fbbf02b1d122c6611a71fbf11b",
     "grade": true,
     "grade_id": "cell-9f6aceae6dd9125f",
     "locked": true,
     "points": 2,
     "schema_version": 3,
     "solution": false,
     "task": false
    }
   },
   "outputs": [],
   "source": [
    "#### Function check\n",
    "\n",
    "test_bow = bow_search(\"how to implement bag of words search\", index_set=1)[:5]\n",
    "assert isinstance(test_bow, list)\n",
    "assert len(test_bow[0]) == 2\n",
    "assert isinstance(test_bow[0][0], str)\n",
    "assert isinstance(test_bow[0][1], float)\n",
    "\n",
    "#### "
   ]
  },
  {
   "cell_type": "code",
   "execution_count": 25,
   "metadata": {
    "deletable": false,
    "editable": false,
    "nbgrader": {
     "cell_type": "code",
     "checksum": "9af20897659edb62fe77598483590500",
     "grade": true,
     "grade_id": "cell-4eed3abf233d9b58",
     "locked": true,
     "points": 2,
     "schema_version": 3,
     "solution": false,
     "task": false
    }
   },
   "outputs": [
    {
     "name": "stdout",
     "output_type": "stream",
     "text": [
      "BOW Results:\n",
      "Rank 0(1.3e+01): On Computing The Fast Fourier Transform\\nCooley an...\n",
      "Rank 1(1.2e+01): Variable Length Tree Structures Having Minimum Ave...\n",
      "Rank 2(1.1e+01): A Modular Computer Sharing System\\nAn alternative ...\n",
      "Rank 3(1e+01): PEEKABIT, Computer Offspring of Punched\\nCard PEEK...\n",
      "Rank 4(9.0): Computer Simulation-Discussion of the\\nTechnique a...\n"
     ]
    }
   ],
   "source": [
    "\n",
    "docs_by_id = dict(docs)\n",
    "def print_results(docs, len_limit=50):    \n",
    "    for i, (doc_id, score) in enumerate(docs):\n",
    "        doc_content = docs_by_id[doc_id].strip().replace(\"\\n\", \"\\\\n\")[:len_limit] + \"...\"\n",
    "        print(f\"Rank {i}({score:.2}): {doc_content}\")\n",
    "\n",
    "test_bow_2 = bow_search(\"computer search word\", index_set=2)[:5]\n",
    "print(f\"BOW Results:\")\n",
    "print_results(test_bow_2)\n"
   ]
  },
  {
   "cell_type": "code",
   "execution_count": 26,
   "metadata": {
    "deletable": false,
    "editable": false,
    "nbgrader": {
     "cell_type": "code",
     "checksum": "3c9c8b16c8e7d1032f101e9da8a6e845",
     "grade": true,
     "grade_id": "cell-4d65a2d7090c466c",
     "locked": true,
     "points": 3,
     "schema_version": 3,
     "solution": false,
     "task": false
    }
   },
   "outputs": [
    {
     "name": "stdout",
     "output_type": "stream",
     "text": [
      "BOW Results:\n",
      "Rank 0(9.0): CURRICULUM 68 -- Recommendations for Academic\\nPro...\n",
      "Rank 1(9.0): Variable Length Tree Structures Having Minimum Ave...\n",
      "Rank 2(7.0): Computer Formulation of the Equations of Motion Us...\n",
      "Rank 3(7.0): The Effects of Multiplexing on a Computer-Communic...\n",
      "Rank 4(6.0): Optimizing Bit-time Computer Simulation\\nA major c...\n"
     ]
    }
   ],
   "source": [
    "\n",
    "test_bow_1 = bow_search(\"computer search word\", index_set=1)[:5]\n",
    "print(f\"BOW Results:\")\n",
    "print_results(test_bow_1)\n"
   ]
  },
  {
   "cell_type": "code",
   "execution_count": 27,
   "metadata": {
    "deletable": false,
    "editable": false,
    "nbgrader": {
     "cell_type": "code",
     "checksum": "b7e593847aa4202ae45ec061fb18ad73",
     "grade": true,
     "grade_id": "cell-dedf36ab5853ce20",
     "locked": true,
     "points": 3,
     "schema_version": 3,
     "solution": false,
     "task": false
    }
   },
   "outputs": [
    {
     "name": "stdout",
     "output_type": "stream",
     "text": [
      "top-5 docs for index1: ('1771', '1936', '1543', '2535', '678')\n",
      "top-5 docs for index2: ('1525', '1936', '1844', '1700', '1366')\n"
     ]
    }
   ],
   "source": [
    "print('top-5 docs for index1:', list(zip(*test_bow_1[:5]))[0])\n",
    "print('top-5 docs for index2:', list(zip(*test_bow_2[:5]))[0])\n"
   ]
  },
  {
   "cell_type": "markdown",
   "metadata": {
    "deletable": false,
    "editable": false,
    "jp-MarkdownHeadingCollapsed": true,
    "nbgrader": {
     "cell_type": "markdown",
     "checksum": "b04352ee0716dfdf094b8cdb6f32e984",
     "grade": false,
     "grade_id": "cell-a5c09c79ac1f2871",
     "locked": true,
     "schema_version": 3,
     "solution": false,
     "task": false
    },
    "tags": []
   },
   "source": [
    "\n",
    "---\n",
    "\n",
    "### Section 3.2: TF-IDF (15 points) <a class=\"anchor\" id=\"tfidf\"></a>\n",
    "\n",
    "Before we implement the tf-idf scoring functions, let's first write a function to compute the document frequencies of all words.  \n",
    "\n",
    "#### 3.2.1 Document frequency (5 points)\n",
    "Compute the document frequencies of all tokens in the collection. \n",
    "Your code should return a dictionary with tokens as its keys and the number of documents containing the token as values.\n",
    "For consistency, the values should have `int` type."
   ]
  },
  {
   "cell_type": "code",
   "execution_count": 28,
   "metadata": {
    "deletable": false,
    "nbgrader": {
     "cell_type": "code",
     "checksum": "5c53263cf4c0b0ffcaae08b91fc364cc",
     "grade": false,
     "grade_id": "cell-9a2369f32e864b8a",
     "locked": false,
     "schema_version": 3,
     "solution": true,
     "task": false
    }
   },
   "outputs": [],
   "source": [
    "# TODO: Implement this! (5 points)\n",
    "def compute_df(documents):\n",
    "    \"\"\"\n",
    "        Compute the document frequency of all terms in the vocabulary\n",
    "        Input: A list of documents\n",
    "        Output: A dictionary with {token: document frequency (int)}\n",
    "    \"\"\"\n",
    "    # YOUR CODE HERE\n",
    "    \n",
    "    from collections import Counter\n",
    "    \n",
    "    df = Counter()\n",
    "    for d in documents:\n",
    "        df.update(np.unique(d))\n",
    "    \n",
    "    return df\n"
   ]
  },
  {
   "cell_type": "code",
   "execution_count": 29,
   "metadata": {
    "deletable": false,
    "editable": false,
    "nbgrader": {
     "cell_type": "code",
     "checksum": "154985511d7925c5793a1f97dea81880",
     "grade": false,
     "grade_id": "cell-4c3bddd0b73ac90e",
     "locked": true,
     "schema_version": 3,
     "solution": false,
     "task": false
    }
   },
   "outputs": [],
   "source": [
    "#### Compute df based on the two configs\n",
    "\n",
    "# get the document frequencies of each document\n",
    "df_1 = compute_df([d[1] for d in doc_repr_1])\n",
    "df_2 = compute_df([d[1] for d in doc_repr_2])\n",
    "\n",
    "def get_df(index_set):\n",
    "    assert index_set in {1, 2}\n",
    "    return {\n",
    "        1: df_1,\n",
    "        2: df_2\n",
    "    }[index_set]\n",
    "####"
   ]
  },
  {
   "cell_type": "code",
   "execution_count": 30,
   "metadata": {
    "deletable": false,
    "editable": false,
    "nbgrader": {
     "cell_type": "code",
     "checksum": "110cc180068cf3f77c682ee3de2a117c",
     "grade": true,
     "grade_id": "cell-79e8a6db1e5fc46f",
     "locked": true,
     "points": 5,
     "schema_version": 3,
     "solution": false,
     "task": false
    }
   },
   "outputs": [
    {
     "name": "stdout",
     "output_type": "stream",
     "text": [
      "597\n",
      "11\n"
     ]
    }
   ],
   "source": [
    "#### Function check\n",
    "\n",
    "print(df_1['computer'])\n",
    "print(df_2['computer'])\n",
    "####"
   ]
  },
  {
   "cell_type": "markdown",
   "metadata": {
    "deletable": false,
    "editable": false,
    "nbgrader": {
     "cell_type": "markdown",
     "checksum": "d0d577668fa51b80aeab6e67209ae73b",
     "grade": false,
     "grade_id": "cell-52f6acc487e1b96d",
     "locked": true,
     "schema_version": 3,
     "solution": false,
     "task": false
    }
   },
   "source": [
    "---\n",
    "#### 3.2.2 TF-IDF search (10 points)\n",
    "Next, implement a function that computes a tf-idf score, given a query.\n",
    "Use the following formulas for TF and IDF:\n",
    "\n",
    "$$ TF=\\log (1 + f_{d,t}) $$\n",
    "\n",
    "$$ IDF=\\log (\\frac{N}{n_t})$$\n",
    "\n",
    "where $f_{d,t}$ is the frequency of token $t$ in document $d$, $N$ is the number of total documents and $n_t$ is the number of documents containing token $t$.\n",
    "\n",
    "**Note:** your implementation will be auto-graded assuming you have used the above formulas.\n"
   ]
  },
  {
   "cell_type": "code",
   "execution_count": 31,
   "metadata": {
    "deletable": false,
    "nbgrader": {
     "cell_type": "code",
     "checksum": "3534c44b4a3419ca1db98eebe7115dc1",
     "grade": false,
     "grade_id": "cell-2fb5ba34b2994cd9",
     "locked": false,
     "schema_version": 3,
     "solution": true,
     "task": false
    }
   },
   "outputs": [],
   "source": [
    "# TODO: Implement this! (10 points)\n",
    "def tfidf_search(query, index_set):\n",
    "    \"\"\"\n",
    "        Perform a search over all documents with the given query using tf-idf. \n",
    "        Note #1: You have to use the `get_index` (and the `get_df`) function created in the previous cells\n",
    "        Input: \n",
    "            query - a (unprocessed) query\n",
    "            index_set - the index to use\n",
    "        Output: a list of (document_id, score), sorted in descending relevance to the given query \n",
    "    \"\"\"\n",
    "    index = get_index(index_set)\n",
    "    df = get_df(index_set)\n",
    "    processed_query = preprocess_query(query, index_set)\n",
    "    \n",
    "    N = len(docs)\n",
    "    \n",
    "    # YOUR CODE HERE\n",
    "    from collections import defaultdict\n",
    "    \n",
    "    epsilon = np.finfo(np.float32).eps\n",
    "    \n",
    "    document_score = defaultdict(int)\n",
    "    for t in processed_query:\n",
    "        if t in index:\n",
    "            for doc_id, count in index[t]:\n",
    "                idf = np.log((N / (df[t] + epsilon)))\n",
    "                tf = np.log(1 + count)\n",
    "                document_score[doc_id] += tf * idf\n",
    "\n",
    "    return sorted(document_score.items(), key=lambda x: x[1], reverse=True)"
   ]
  },
  {
   "cell_type": "code",
   "execution_count": 32,
   "metadata": {
    "deletable": false,
    "editable": false,
    "nbgrader": {
     "cell_type": "code",
     "checksum": "7b66a514663d898694b09a23a597312b",
     "grade": true,
     "grade_id": "cell-bc68aeeacf42beb3",
     "locked": true,
     "points": 2,
     "schema_version": 3,
     "solution": false,
     "task": false
    }
   },
   "outputs": [],
   "source": [
    "\n",
    "#### Function check\n",
    "test_tfidf = tfidf_search(\"how to implement tf idf search\", index_set=1)[:5]\n",
    "assert isinstance(test_tfidf, list)\n",
    "assert len(test_tfidf[0]) == 2\n",
    "assert isinstance(test_tfidf[0][0], str)\n",
    "assert isinstance(test_tfidf[0][1], float)\n",
    "\n",
    "####"
   ]
  },
  {
   "cell_type": "code",
   "execution_count": 33,
   "metadata": {
    "deletable": false,
    "editable": false,
    "nbgrader": {
     "cell_type": "code",
     "checksum": "98fb1326cf4bf7983ae237ca8a9105f9",
     "grade": true,
     "grade_id": "cell-c7702fa8179fadb9",
     "locked": true,
     "points": 2,
     "schema_version": 3,
     "solution": false,
     "task": false
    }
   },
   "outputs": [
    {
     "name": "stdout",
     "output_type": "stream",
     "text": [
      "TFIDF Results:\n",
      "Rank 0(1.3e+01): PEEKABIT, Computer Offspring of Punched\\nCard PEEK...\n",
      "Rank 1(9.8): Variable Length Tree Structures Having Minimum Ave...\n",
      "Rank 2(8.2): A Stochastic Approach to the Grammatical Coding of...\n",
      "Rank 3(8.1): Full Table Quadratic Searching for Scatter Storage...\n",
      "Rank 4(7.6): Use of Tree Structures for Processing Files\\nIn da...\n"
     ]
    }
   ],
   "source": [
    "\n",
    "test_tfidf_2 = tfidf_search(\"computer word search\", index_set=2)[:5]\n",
    "print(f\"TFIDF Results:\")\n",
    "print_results(test_tfidf_2)\n"
   ]
  },
  {
   "cell_type": "code",
   "execution_count": 34,
   "metadata": {
    "deletable": false,
    "editable": false,
    "nbgrader": {
     "cell_type": "code",
     "checksum": "733b5b67be5e53989f5b763ce5e52ee9",
     "grade": true,
     "grade_id": "cell-3284f50ac29abbaa",
     "locked": true,
     "points": 3,
     "schema_version": 3,
     "solution": false,
     "task": false
    }
   },
   "outputs": [
    {
     "name": "stdout",
     "output_type": "stream",
     "text": [
      "TFIDF Results:\n",
      "Rank 0(9.4): Variable Length Tree Structures Having Minimum Ave...\n",
      "Rank 1(7.4): On the Feasibility of Voice Input to\\nan On-line C...\n",
      "Rank 2(7.3): Median Split Trees: A Fast Lookup Technique for Fr...\n",
      "Rank 3(7.0): Execution Time Requirements for Encipherment Progr...\n",
      "Rank 4(7.0): Storage and Search Properties of a Tree-Organized ...\n"
     ]
    }
   ],
   "source": [
    "\n",
    "test_tfidf_1 = tfidf_search(\"computer word search\", index_set=1)[:5]\n",
    "print(f\"TFIDF Results:\")\n",
    "print_results(test_tfidf_1)\n"
   ]
  },
  {
   "cell_type": "code",
   "execution_count": 35,
   "metadata": {
    "deletable": false,
    "editable": false,
    "nbgrader": {
     "cell_type": "code",
     "checksum": "e0edb37a5ae807a2de85d578c87ccb78",
     "grade": true,
     "grade_id": "cell-d908c80a3155354b",
     "locked": true,
     "points": 3,
     "schema_version": 3,
     "solution": false,
     "task": false
    }
   },
   "outputs": [
    {
     "name": "stdout",
     "output_type": "stream",
     "text": [
      "top-5 docs for index1 with BOW search: ('1771', '1936', '1543', '2535', '678')\n",
      "top-5 docs for index2 with BOW search: ('1525', '1936', '1844', '1700', '1366')\n",
      "top-5 docs for index1 with TF-IDF search: ('1936', '2054', '3041', '2620', '944')\n",
      "top-5 docs for index2 with TF-IDF search: ('1700', '1936', '1235', '2018', '849')\n"
     ]
    }
   ],
   "source": [
    "\n",
    "print('top-5 docs for index1 with BOW search:', list(zip(*test_bow_1[:5]))[0])\n",
    "print('top-5 docs for index2 with BOW search:', list(zip(*test_bow_2[:5]))[0])\n",
    "print('top-5 docs for index1 with TF-IDF search:', list(zip(*test_tfidf_1[:5]))[0])\n",
    "print('top-5 docs for index2 with TF-IDF search:', list(zip(*test_tfidf_2[:5]))[0])\n",
    "\n"
   ]
  },
  {
   "cell_type": "markdown",
   "metadata": {
    "deletable": false,
    "editable": false,
    "nbgrader": {
     "cell_type": "markdown",
     "checksum": "cdffc83f0eaea937cf64a212e7e9af8d",
     "grade": false,
     "grade_id": "cell-f5d923459ba21733",
     "locked": true,
     "schema_version": 3,
     "solution": false,
     "task": false
    }
   },
   "source": [
    "--- \n",
    "\n",
    "### Section 3.3: Query Likelihood Model (35 points) <a class=\"anchor\" id=\"qlm\"></a>\n",
    "\n",
    "In this section, you will implement a simple query likelihood model. \n",
    "\n",
    "\n",
    "#### 3.3.1 Naive QL (15 points)\n",
    "\n",
    "First, let us implement a naive version of a QL model, assuming a multinomial unigram language model (with a uniform prior over the documents). \n",
    "\n"
   ]
  },
  {
   "cell_type": "code",
   "execution_count": 36,
   "metadata": {
    "deletable": false,
    "editable": false,
    "nbgrader": {
     "cell_type": "code",
     "checksum": "b7ae2b7d818b428b4638c1c9206d2aca",
     "grade": false,
     "grade_id": "cell-98505778f7b68e7f",
     "locked": true,
     "schema_version": 3,
     "solution": false,
     "task": false
    }
   },
   "outputs": [],
   "source": [
    "#### Document length for normalization\n",
    "\n",
    "def doc_lengths(documents):\n",
    "    doc_lengths = {doc_id:len(doc) for (doc_id, doc) in documents}\n",
    "    return doc_lengths\n",
    "\n",
    "doc_lengths_1 = doc_lengths(doc_repr_1)\n",
    "doc_lengths_2 = doc_lengths(doc_repr_2)\n",
    "\n",
    "def get_doc_lengths(index_set):\n",
    "    assert index_set in {1, 2}\n",
    "    return {\n",
    "        1: doc_lengths_1,\n",
    "        2: doc_lengths_2\n",
    "    }[index_set]\n",
    "####"
   ]
  },
  {
   "cell_type": "code",
   "execution_count": 37,
   "metadata": {
    "deletable": false,
    "nbgrader": {
     "cell_type": "code",
     "checksum": "cedd08303a914243fefdb6b876977ca1",
     "grade": false,
     "grade_id": "cell-8bcf2b804d636c2e",
     "locked": false,
     "schema_version": 3,
     "solution": true,
     "task": false
    }
   },
   "outputs": [],
   "source": [
    "# TODO: Implement this! (15 points)\n",
    "def naive_ql_search(query, index_set):\n",
    "    \"\"\"\n",
    "        Perform a search over all documents with the given query using a naive QL model. \n",
    "        Note #1: You have to use the `get_index` (and get_doc_lengths) function created in the previous cells\n",
    "        Input: \n",
    "            query - a (unprocessed) query\n",
    "            index_set - the index to use\n",
    "        Output: a list of (document_id, score), sorted in descending relevance to the given query \n",
    "    \"\"\"\n",
    "    index = get_index(index_set)\n",
    "    doc_lengths = get_doc_lengths(index_set)\n",
    "    processed_query = preprocess_query(query, index_set)\n",
    "    \n",
    "    index = get_index(index_set)\n",
    "    doc_lengths = get_doc_lengths(index_set)\n",
    "    processed_query = preprocess_query(query, index_set)\n",
    "    # Basically, compute the formula score(query, doc) = prod(tf(query, doc)) / (doc_length(doc))\n",
    "    doc_ids = list(set(doc_lengths.keys()))\n",
    "\n",
    "    scores = {}\n",
    "    for token in processed_query:\n",
    "        for (doc_id, count) in index[token]:\n",
    "            if doc_id not in scores:\n",
    "                scores[doc_id] = float(count) / doc_lengths[doc_id]\n",
    "            else:\n",
    "                scores[doc_id] *= float(count) / doc_lengths[doc_id]\n",
    "        for doc_id in doc_ids:\n",
    "            if token not in index:\n",
    "                scores[doc_id] = 0.0\n",
    "    return sorted(scores.items(), key=lambda x: x[1], reverse=True)"
   ]
  },
  {
   "cell_type": "code",
   "execution_count": 38,
   "metadata": {
    "deletable": false,
    "editable": false,
    "nbgrader": {
     "cell_type": "code",
     "checksum": "b550d15bdad28354c336020a00c33d56",
     "grade": true,
     "grade_id": "cell-5a83ac12ecde8578",
     "locked": true,
     "points": 3,
     "schema_version": 3,
     "solution": false,
     "task": false
    }
   },
   "outputs": [
    {
     "name": "stdout",
     "output_type": "stream",
     "text": [
      "Naive QL Results:\n",
      "Rank 0(0.2): A Report Writer For COBOL...\n",
      "Rank 1(0.2): A CRT Report Generating System...\n",
      "Rank 2(0.17): Preliminary Report-International Algebraic Languag...\n",
      "Rank 3(0.17): Supplement to the ALGOL 60 Report...\n",
      "Rank 4(0.14): ALGOL Sub-Committee Report - Extensions...\n"
     ]
    }
   ],
   "source": [
    "#### Function check\n",
    "test_naiveql = naive_ql_search(\"report\", index_set=1)[:5]\n",
    "print(f\"Naive QL Results:\")\n",
    "print_results(test_naiveql)\n",
    "####"
   ]
  },
  {
   "cell_type": "code",
   "execution_count": 39,
   "metadata": {
    "deletable": false,
    "editable": false,
    "nbgrader": {
     "cell_type": "code",
     "checksum": "799df1d81c63fe90edbb6c218fc707fb",
     "grade": true,
     "grade_id": "cell-80f4bf2137f997bb",
     "locked": true,
     "points": 2,
     "schema_version": 3,
     "solution": false,
     "task": false
    }
   },
   "outputs": [],
   "source": [
    "#### Please do not change this. This cell is used for grading."
   ]
  },
  {
   "cell_type": "code",
   "execution_count": 40,
   "metadata": {
    "deletable": false,
    "editable": false,
    "nbgrader": {
     "cell_type": "code",
     "checksum": "875a4a517d27e20625d41783cebec118",
     "grade": true,
     "grade_id": "cell-5ce2993458a8ce51",
     "locked": true,
     "points": 3,
     "schema_version": 3,
     "solution": false,
     "task": false
    }
   },
   "outputs": [],
   "source": [
    "#### Please do not change this. This cell is used for grading."
   ]
  },
  {
   "cell_type": "code",
   "execution_count": 41,
   "metadata": {
    "deletable": false,
    "editable": false,
    "nbgrader": {
     "cell_type": "code",
     "checksum": "d5c4e1c3852e71a46f32825b122f1b71",
     "grade": true,
     "grade_id": "cell-7753bdb54e292f3d",
     "locked": true,
     "points": 3,
     "schema_version": 3,
     "solution": false,
     "task": false
    }
   },
   "outputs": [],
   "source": [
    "#### Please do not change this. This cell is used for grading."
   ]
  },
  {
   "cell_type": "code",
   "execution_count": 42,
   "metadata": {
    "deletable": false,
    "editable": false,
    "nbgrader": {
     "cell_type": "code",
     "checksum": "c4d4332d4356e89ce0240f6b80e1899a",
     "grade": true,
     "grade_id": "cell-54e476e2f96e64bb",
     "locked": true,
     "points": 4,
     "schema_version": 3,
     "solution": false,
     "task": false
    }
   },
   "outputs": [],
   "source": [
    "#### Please do not change this. This cell is used for grading."
   ]
  },
  {
   "cell_type": "markdown",
   "metadata": {
    "deletable": false,
    "editable": false,
    "nbgrader": {
     "cell_type": "markdown",
     "checksum": "8d739dc91a22bd48897f603885f95a74",
     "grade": false,
     "grade_id": "cell-5414dfd69dab8b94",
     "locked": true,
     "schema_version": 3,
     "solution": false,
     "task": false
    }
   },
   "source": [
    "---\n",
    "#### 3.3.2 QL (20 points)\n",
    "Now, let's implement a QL model that handles the issues with the naive version. In particular, you will implement a QL model with Jelinek-Mercer Smoothing. That means an interpolated score is computed per word - one term is the same as the previous naive version, and the second term comes from a unigram language model. In addition, you should accumulate the scores by summing the **log** (smoothed) probability which leads to better numerical stability."
   ]
  },
  {
   "cell_type": "code",
   "execution_count": 47,
   "metadata": {
    "deletable": false,
    "nbgrader": {
     "cell_type": "code",
     "checksum": "b8c6abf937ad333e628f1db891f2e29e",
     "grade": false,
     "grade_id": "cell-bb1f506409771257",
     "locked": false,
     "schema_version": 3,
     "solution": true,
     "task": false
    }
   },
   "outputs": [],
   "source": [
    "# TODO: Implement this! (20 points)\n",
    "def ql_search(query, index_set):\n",
    "    \"\"\"\n",
    "        Perform a search over all documents with the given query using a QL model \n",
    "        with Jelinek-Mercer Smoothing (set smoothing=0.1). \n",
    "        \n",
    "        \n",
    "        Note #1: You have to use the `get_index` (and get_doc_lengths) function created in the previous cells\n",
    "        Note #2: You might have to create some variables beforehand and use them in this function\n",
    "        \n",
    "        \n",
    "        Input: \n",
    "            query - a (unprocessed) query\n",
    "            index_set - the index to use\n",
    "        Output: a list of (document_id, score), sorted in descending relevance to the given query \n",
    "    \"\"\"\n",
    "    index = get_index(index_set)\n",
    "    doc_lengths = get_doc_lengths(index_set)\n",
    "    processed_query = preprocess_query(query, index_set)\n",
    "    \n",
    "    # YOUR CODE HERE\n",
    "    # Reference: Sec 7.3.2. from https://ciir.cs.umass.edu/downloads/SEIRiP.pdf\n",
    "    \n",
    "    # TODO: Add a UNK token for tokens not found in the corpus\n",
    "\n",
    "    from collections import defaultdict, OrderedDict\n",
    "    \n",
    "    # epsilon = np.finfo(np.float32).eps\n",
    "    epsilon = 0.0\n",
    "    smoothing = 0.1\n",
    "    \n",
    "    doc_ids = list(set(doc_lengths.keys()))\n",
    "    \n",
    "    # compute total number of word occurrences\n",
    "    total_word_occurrences = 0.0\n",
    "    for w in index:\n",
    "        total_word_occurrences += np.sum([x[1] for x in index[w]])\n",
    "    \n",
    "    # compute document score based on probabilities\n",
    "    # document_score = defaultdict(lambda: 1.0)\n",
    "    document_score = defaultdict(int)\n",
    "    for q in processed_query:\n",
    "        if q in index:\n",
    "            num_occurrences_of_q = np.sum([x[1] for x in index[q]])\n",
    "            # Note we need to loop over all the documents and not just the ones that have terms from the query\n",
    "            # for doc_id, count in index[q]:\n",
    "            \n",
    "            for doc_id in doc_ids:\n",
    "                count = 0\n",
    "                if doc_id in dict(index[q]):\n",
    "                    count = dict(index[q])[doc_id]\n",
    "                p_q_given_d = count / (doc_lengths[doc_id] + epsilon)\n",
    "                p_q_given_C = num_occurrences_of_q / total_word_occurrences\n",
    "                # document_score[doc_id] *= ((1 - smoothing) * p_q_given_d + smoothing * p_q_given_C)\n",
    "                document_score[doc_id] += np.log((1 - smoothing) * p_q_given_d + smoothing * p_q_given_C)\n",
    "\n",
    "    return sorted(document_score.items(), key=lambda x: x[1], reverse=True)"
   ]
  },
  {
   "cell_type": "code",
   "execution_count": 48,
   "metadata": {
    "deletable": false,
    "editable": false,
    "nbgrader": {
     "cell_type": "code",
     "checksum": "0b12a7f3355193a257fd9f5f69a66562",
     "grade": true,
     "grade_id": "cell-850e9d6369bcec32",
     "locked": true,
     "points": 4,
     "schema_version": 3,
     "solution": false,
     "task": false
    }
   },
   "outputs": [
    {
     "name": "stdout",
     "output_type": "stream",
     "text": [
      "Rank 0(-1.7): A Report Writer For COBOL...\n",
      "Rank 1(-1.7): A CRT Report Generating System...\n",
      "Rank 2(-1.9): Supplement to the ALGOL 60 Report...\n",
      "Rank 3(-1.9): Preliminary Report-International Algebraic Languag...\n",
      "Rank 4(-2.1): ALGOL Sub-Committee Report - Extensions...\n",
      "\n",
      "Rank 0(-1.7e+01): A Report Writer For COBOL...\n",
      "Rank 1(-1.7e+01): A CRT Report Generating System...\n",
      "Rank 2(-1.9e+01): Supplement to the ALGOL 60 Report...\n",
      "Rank 3(-1.9e+01): Preliminary Report-International Algebraic Languag...\n",
      "Rank 4(-2.1e+01): ALGOL Sub-Committee Report - Extensions...\n"
     ]
    }
   ],
   "source": [
    "#### Function check\n",
    "test_ql_results = ql_search(\"report\", index_set=1)[:5]\n",
    "print_results(test_ql_results)\n",
    "print()\n",
    "test_ql_results_long = ql_search(\"report \" * 10, index_set=1)[:5]\n",
    "print_results(test_ql_results_long)\n",
    "####"
   ]
  },
  {
   "cell_type": "code",
   "execution_count": 47,
   "metadata": {
    "deletable": false,
    "editable": false,
    "nbgrader": {
     "cell_type": "code",
     "checksum": "e40be645140389c115849856145f5b59",
     "grade": true,
     "grade_id": "cell-958cdcf6fd6899b7",
     "locked": true,
     "points": 3,
     "schema_version": 3,
     "solution": false,
     "task": false
    }
   },
   "outputs": [],
   "source": [
    "#### Please do not change this. This cell is used for grading."
   ]
  },
  {
   "cell_type": "code",
   "execution_count": 48,
   "metadata": {
    "deletable": false,
    "editable": false,
    "nbgrader": {
     "cell_type": "code",
     "checksum": "41d4aff001df17e7963ba79b45810b30",
     "grade": true,
     "grade_id": "cell-384dc23a0c251f6e",
     "locked": true,
     "points": 4,
     "schema_version": 3,
     "solution": false,
     "task": false
    }
   },
   "outputs": [],
   "source": [
    "#### Please do not change this. This cell is used for grading."
   ]
  },
  {
   "cell_type": "code",
   "execution_count": 49,
   "metadata": {
    "deletable": false,
    "editable": false,
    "nbgrader": {
     "cell_type": "code",
     "checksum": "893e8c5a073abc8ebb763d267b91bc02",
     "grade": true,
     "grade_id": "cell-7218966cba5097cc",
     "locked": true,
     "points": 4,
     "schema_version": 3,
     "solution": false,
     "task": false
    }
   },
   "outputs": [],
   "source": [
    "#### Please do not change this. This cell is used for grading."
   ]
  },
  {
   "cell_type": "code",
   "execution_count": 50,
   "metadata": {
    "deletable": false,
    "editable": false,
    "nbgrader": {
     "cell_type": "code",
     "checksum": "f99cb6f8b1f5830aaed8f06712ff846e",
     "grade": true,
     "grade_id": "cell-481ab073259ae53f",
     "locked": true,
     "points": 5,
     "schema_version": 3,
     "solution": false,
     "task": false
    }
   },
   "outputs": [],
   "source": [
    "#### Please do not change this. This cell is used for grading."
   ]
  },
  {
   "cell_type": "markdown",
   "metadata": {
    "deletable": false,
    "editable": false,
    "nbgrader": {
     "cell_type": "markdown",
     "checksum": "c02f14705d679579b1aa9f78f54779d5",
     "grade": false,
     "grade_id": "cell-f44088bfdac1dc90",
     "locked": true,
     "schema_version": 3,
     "solution": false,
     "task": false
    }
   },
   "source": [
    "--- \n",
    "\n",
    "### Section 3.4: BM25 (20 points) <a class=\"anchor\" id=\"bm25\"></a>\n",
    "\n",
    "In this section, we will implement the BM25 scoring function. \n"
   ]
  },
  {
   "cell_type": "code",
   "execution_count": 51,
   "metadata": {
    "deletable": false,
    "nbgrader": {
     "cell_type": "code",
     "checksum": "e57efe06ea92af1c83784a42eb3d86e0",
     "grade": false,
     "grade_id": "cell-15640fc9b5d00a3c",
     "locked": false,
     "schema_version": 3,
     "solution": true,
     "task": false
    }
   },
   "outputs": [],
   "source": [
    "# TODO: Implement this! (20 points)\n",
    "def bm25_search(query, index_set):\n",
    "    \"\"\"\n",
    "        Perform a search over all documents with the given query using BM25. Use k_1 = 1.5 and b = 0.75\n",
    "        Note #1: You have to use the `get_index` (and `get_doc_lengths`) function created in the previous cells\n",
    "        Note #2: You might have to create some variables beforehand and use them in this function\n",
    "        \n",
    "        Input: \n",
    "            query - a (unprocessed) query\n",
    "            index_set - the index to use\n",
    "        Output: a list of (document_id, score), sorted in descending relevance to the given query \n",
    "    \"\"\"\n",
    "    \n",
    "    index = get_index(index_set)\n",
    "    df = get_df(index_set)\n",
    "    doc_lengths = get_doc_lengths(index_set)\n",
    "    processed_query = preprocess_query(query, index_set)\n",
    "    \n",
    "    # YOUR CODE HERE\n",
    "    # Reference: Sec 7.2.2. from https://ciir.cs.umass.edu/downloads/SEIRiP.pdf\n",
    "    \n",
    "    # define hyperparameters\n",
    "    k_1 = 1.50\n",
    "    b = 0.75\n",
    "    \n",
    "    # compute constants\n",
    "    N = len(doc_lengths)\n",
    "    avdl = np.mean(list(doc_lengths.values()))\n",
    "    epsilon = 0.5\n",
    "    \n",
    "    from collections import defaultdict, OrderedDict\n",
    "    \n",
    "    document_score = defaultdict(lambda: 0.)\n",
    "    for t in processed_query:\n",
    "        if t in index:\n",
    "            for doc_id, tf_td in index[t]:\n",
    "                dl = doc_lengths[doc_id]\n",
    "\n",
    "                # compute K\n",
    "                K = k_1 * ((1 - b) + b * (dl / avdl))\n",
    "\n",
    "                # compute the term\n",
    "                document_score[doc_id] += np.log(N / df[t]) * ((k_1 + 1) * tf_td) / (K + tf_td)\n",
    "    \n",
    "    return sorted(document_score.items(), key=lambda x: x[1], reverse=True)"
   ]
  },
  {
   "cell_type": "code",
   "execution_count": 52,
   "metadata": {
    "deletable": false,
    "editable": false,
    "nbgrader": {
     "cell_type": "code",
     "checksum": "4be9de5d4e94637960d83725422bea6c",
     "grade": true,
     "grade_id": "cell-d10536bca72c74b1",
     "locked": true,
     "points": 3,
     "schema_version": 3,
     "solution": false,
     "task": false
    }
   },
   "outputs": [
    {
     "name": "stdout",
     "output_type": "stream",
     "text": [
      "Rank 0(6.7): A Report Writer For COBOL...\n",
      "Rank 1(6.7): A CRT Report Generating System...\n",
      "Rank 2(6.6): Preliminary Report-International Algebraic Languag...\n",
      "Rank 3(6.6): Supplement to the ALGOL 60 Report...\n",
      "Rank 4(6.5): ALGOL Sub-Committee Report - Extensions...\n"
     ]
    }
   ],
   "source": [
    "#### Function check\n",
    "test_bm25_results = bm25_search(\"report\", index_set=1)[:5]\n",
    "print_results(test_bm25_results)\n",
    "####"
   ]
  },
  {
   "cell_type": "code",
   "execution_count": 53,
   "metadata": {
    "deletable": false,
    "editable": false,
    "nbgrader": {
     "cell_type": "code",
     "checksum": "31b550d6a46ae4f8ede88788799ac2b9",
     "grade": true,
     "grade_id": "cell-60f6ec5052712d79",
     "locked": true,
     "points": 5,
     "schema_version": 3,
     "solution": false,
     "task": false
    }
   },
   "outputs": [],
   "source": [
    "#### Please do not change this. This cell is used for grading."
   ]
  },
  {
   "cell_type": "code",
   "execution_count": 54,
   "metadata": {
    "deletable": false,
    "editable": false,
    "nbgrader": {
     "cell_type": "code",
     "checksum": "3da2ec16bfe781916e71755d65aa2983",
     "grade": true,
     "grade_id": "cell-5d17524043a5abcc",
     "locked": true,
     "points": 5,
     "schema_version": 3,
     "solution": false,
     "task": false
    }
   },
   "outputs": [],
   "source": [
    "#### Please do not change this. This cell is used for grading."
   ]
  },
  {
   "cell_type": "code",
   "execution_count": 55,
   "metadata": {
    "deletable": false,
    "editable": false,
    "nbgrader": {
     "cell_type": "code",
     "checksum": "e7b563d54fa84c20909c0ae107010541",
     "grade": true,
     "grade_id": "cell-ff8e704eda1184e3",
     "locked": true,
     "points": 3,
     "schema_version": 3,
     "solution": false,
     "task": false
    }
   },
   "outputs": [],
   "source": [
    "#### Please do not change this. This cell is used for grading."
   ]
  },
  {
   "cell_type": "code",
   "execution_count": 56,
   "metadata": {
    "deletable": false,
    "editable": false,
    "nbgrader": {
     "cell_type": "code",
     "checksum": "b013f90974b396630a8831d6f1d7e5f7",
     "grade": true,
     "grade_id": "cell-a52310500a2543cb",
     "locked": true,
     "points": 4,
     "schema_version": 3,
     "solution": false,
     "task": false
    }
   },
   "outputs": [],
   "source": [
    "#### Please do not change this. This cell is used for grading."
   ]
  },
  {
   "cell_type": "markdown",
   "metadata": {
    "deletable": false,
    "editable": false,
    "nbgrader": {
     "cell_type": "markdown",
     "checksum": "8fcf67cb7d5e8b26cb9bf1f0aa42c847",
     "grade": false,
     "grade_id": "cell-8b2b412c81d62f2d",
     "locked": true,
     "schema_version": 3,
     "solution": false,
     "task": false
    }
   },
   "source": [
    "\n",
    "---\n",
    "\n",
    "### 3.5. Test Your Functions\n",
    "\n",
    "The widget below allows you to play with the search functions you've written so far. Use this to test your search functions and ensure that they work as expected."
   ]
  },
  {
   "cell_type": "code",
   "execution_count": 57,
   "metadata": {
    "deletable": false,
    "editable": false,
    "nbgrader": {
     "cell_type": "code",
     "checksum": "dfeb204b390acc0794dbdcac92b0cf2c",
     "grade": false,
     "grade_id": "cell-c9c2bb76354e8d97",
     "locked": true,
     "schema_version": 3,
     "solution": false,
     "task": false
    }
   },
   "outputs": [],
   "source": [
    "#### Highlighter function\n",
    "# class for results\n",
    "ResultRow = namedtuple(\"ResultRow\", [\"doc_id\", \"snippet\", \"score\"])\n",
    "# doc_id -> doc\n",
    "docs_by_id = dict((d[0], d[1]) for d in docs)\n",
    "\n",
    "def highlight_text(document, query, tol=17):\n",
    "    import re\n",
    "    tokens = tokenize(query)\n",
    "    regex = \"|\".join(f\"(\\\\b{t}\\\\b)\" for t in tokens)\n",
    "    regex = re.compile(regex, flags=re.IGNORECASE)\n",
    "    output = \"\"\n",
    "    i = 0\n",
    "    for m in regex.finditer(document):\n",
    "        start_idx = max(0, m.start() - tol)\n",
    "        end_idx = min(len(document), m.end() + tol)\n",
    "        output += \"\".join([\"...\",\n",
    "                        document[start_idx:m.start()],\n",
    "                        \"<strong>\",\n",
    "                        document[m.start():m.end()],\n",
    "                        \"</strong>\",\n",
    "                        document[m.end():end_idx],\n",
    "                        \"...\"])\n",
    "    return output.replace(\"\\n\", \" \")\n",
    "\n",
    "\n",
    "def make_results(query, search_fn, index_set):\n",
    "    results = []\n",
    "    for doc_id, score in search_fn(query, index_set):\n",
    "        highlight = highlight_text(docs_by_id[doc_id], query)\n",
    "        if len(highlight.strip()) == 0:\n",
    "            highlight = docs_by_id[doc_id]\n",
    "        results.append(ResultRow(doc_id, highlight, score))\n",
    "    return results\n",
    "####"
   ]
  },
  {
   "cell_type": "code",
   "execution_count": 58,
   "metadata": {},
   "outputs": [
    {
     "data": {
      "application/vnd.jupyter.widget-view+json": {
       "model_id": "d73300783f594b15b5cde4c062f59dc4",
       "version_major": 2,
       "version_minor": 0
      },
      "text/plain": [
       "Text(value='', description='Search Bar')"
      ]
     },
     "metadata": {},
     "output_type": "display_data"
    }
   ],
   "source": [
    "# TODO: Set this to the function you want to test!\n",
    "# this function should take in a query (string)\n",
    "# and return a sorted list of (doc_id, score) \n",
    "# with the most relevant document in the first position\n",
    "search_fn = bm25_search\n",
    "index_set = 1\n",
    "\n",
    "text = widgets.Text(description=\"Search Bar\", width=200)\n",
    "display(text)\n",
    "\n",
    "def handle_submit(sender):\n",
    "    print(f\"Searching for: '{sender.value}'\")\n",
    "    \n",
    "    results = make_results(sender.value, search_fn, index_set)\n",
    "    \n",
    "    # display only the top 5\n",
    "    results = results[:5]\n",
    "    \n",
    "    body = \"\"\n",
    "    for idx, r in enumerate(results):\n",
    "        body += f\"<li>Document #{r.doc_id}({r.score}): {r.snippet}</li>\"\n",
    "    display(HTML(f\"<ul>{body}</ul>\"))\n",
    "    \n",
    "\n",
    "text.on_submit(handle_submit)"
   ]
  },
  {
   "cell_type": "markdown",
   "metadata": {
    "deletable": false,
    "editable": false,
    "nbgrader": {
     "cell_type": "markdown",
     "checksum": "019b1ff878dc6339dd068e2d48d19904",
     "grade": false,
     "grade_id": "cell-8d46fe8e4f3d8cdb",
     "locked": true,
     "schema_version": 3,
     "solution": false,
     "task": false
    }
   },
   "source": [
    "---\n",
    "\n",
    "## Section 4: Evaluation (40 points) <a class=\"anchor\" id=\"evaluation\"></a>\n",
    "\n",
    "[Back to Part 1](#part1)\n",
    "\n",
    "In order to analyze the effectiveness of retrieval algorithms, we first have to learn how to evaluate such a system. In particular, we will work with offline evaluation metrics. These metrics are computed on a dataset with known relevance judgements.\n",
    "\n",
    "Implement the following evaluation metrics. \n",
    "\n",
    "1. Precision (7 points)\n",
    "2. Recall (7 points)\n",
    "3. Mean Average Precision (13 points)\n",
    "4. Expected Reciprocal Rank (13 points)"
   ]
  },
  {
   "cell_type": "markdown",
   "metadata": {
    "deletable": false,
    "editable": false,
    "nbgrader": {
     "cell_type": "markdown",
     "checksum": "e46f54c7f81d88bbc950b0fae14c4ca5",
     "grade": false,
     "grade_id": "cell-3419fd3bc663d7cc",
     "locked": true,
     "schema_version": 3,
     "solution": false,
     "task": false
    }
   },
   "source": [
    "---\n",
    "### 4.1 Read relevance labels\n",
    "\n",
    "Let's take a look at the `qrels.text` file, which contains the ground truth relevance scores. The relevance labels for CACM are binary - either 0 or 1. \n"
   ]
  },
  {
   "cell_type": "code",
   "execution_count": 59,
   "metadata": {
    "deletable": false,
    "editable": false,
    "nbgrader": {
     "cell_type": "code",
     "checksum": "6c11025f5a222796f2882c73c1634799",
     "grade": false,
     "grade_id": "cell-6b738366059dde9e",
     "locked": true,
     "schema_version": 3,
     "solution": false,
     "task": false
    }
   },
   "outputs": [
    {
     "name": "stdout",
     "output_type": "stream",
     "text": [
      "01 1410  0 0\n",
      "01 1572  0 0\n",
      "01 1605  0 0\n",
      "01 2020  0 0\n",
      "01 2358  0 0\n",
      "02 2434  0 0\n",
      "02 2863  0 0\n",
      "02 3078  0 0\n",
      "03 1134  0 0\n",
      "03 1613  0 0\n"
     ]
    }
   ],
   "source": [
    "!head ./datasets/qrels.text"
   ]
  },
  {
   "cell_type": "markdown",
   "metadata": {
    "deletable": false,
    "editable": false,
    "nbgrader": {
     "cell_type": "markdown",
     "checksum": "7ce95245c1597183320d7254afde5c8e",
     "grade": false,
     "grade_id": "cell-10e16bff2753ffbb",
     "locked": true,
     "schema_version": 3,
     "solution": false,
     "task": false
    }
   },
   "source": [
    "---\n",
    "\n",
    "The first column is the query_id and the second column is the document_id. We can safely ignore the 3rd and 4th columns."
   ]
  },
  {
   "cell_type": "code",
   "execution_count": 60,
   "metadata": {
    "deletable": false,
    "nbgrader": {
     "cell_type": "code",
     "checksum": "000c6d59dce08dba0ba1e8d691dbbc2e",
     "grade": false,
     "grade_id": "cell-ee5253a4ef602fce",
     "locked": false,
     "schema_version": 3,
     "solution": true,
     "task": false
    }
   },
   "outputs": [],
   "source": [
    "def read_qrels(root_folder = \"./datasets/\"):\n",
    "    \"\"\"\n",
    "        Reads the qrels.text file. \n",
    "        Output: A dictionary: query_id -> [list of relevant documents]\n",
    "    \"\"\"\n",
    "    with open(os.path.join(root_folder, \"qrels.text\")) as reader:\n",
    "        lines = reader.readlines()\n",
    "    \n",
    "    from collections import defaultdict\n",
    "    relevant_docs = defaultdict(set)\n",
    "    for line in lines:\n",
    "        query_id, doc_id, _, _ = line.split()\n",
    "        relevant_docs[str(int(query_id))].add(doc_id)\n",
    "    return relevant_docs"
   ]
  },
  {
   "cell_type": "code",
   "execution_count": 61,
   "metadata": {
    "deletable": false,
    "editable": false,
    "nbgrader": {
     "cell_type": "code",
     "checksum": "d60caeba85c2a97d2211184a5ae91fd1",
     "grade": false,
     "grade_id": "cell-72215605fbe24f65",
     "locked": true,
     "schema_version": 3,
     "solution": false,
     "task": false
    }
   },
   "outputs": [],
   "source": [
    "#### Function check\n",
    "qrels = read_qrels()\n",
    "\n",
    "assert len(qrels) == 52, \"There should be 52 queries with relevance judgements\"\n",
    "assert sum(len(j) for j in qrels.values()) == 796, \"There should be a total of 796 Relevance Judgements\"\n",
    "\n",
    "assert np.min(np.array([len(j) for j in qrels.values()])) == 1\n",
    "assert np.max(np.array([len(j) for j in qrels.values()])) == 51\n",
    "\n",
    "####"
   ]
  },
  {
   "cell_type": "markdown",
   "metadata": {
    "deletable": false,
    "editable": false,
    "nbgrader": {
     "cell_type": "markdown",
     "checksum": "6c9e7428a52e291a2cdf92a379730d4c",
     "grade": false,
     "grade_id": "cell-176a6fb2939d0420",
     "locked": true,
     "schema_version": 3,
     "solution": false,
     "task": false
    }
   },
   "source": [
    "---\n",
    "**Note:** For a given query `query_id`, you can assume that documents *not* in `qrels[query_id]` are not relevant to `query_id`. \n"
   ]
  },
  {
   "cell_type": "markdown",
   "metadata": {
    "deletable": false,
    "editable": false,
    "nbgrader": {
     "cell_type": "markdown",
     "checksum": "b26a818c7b4f7ad490e00b35ea0edd69",
     "grade": false,
     "grade_id": "cell-bd8341b72cdd89bb",
     "locked": true,
     "schema_version": 3,
     "solution": false,
     "task": false
    }
   },
   "source": [
    "---\n",
    "### 4.2 Precision (7 points)\n",
    "Implement the `precision@k` metric:"
   ]
  },
  {
   "cell_type": "code",
   "execution_count": 62,
   "metadata": {
    "deletable": false,
    "nbgrader": {
     "cell_type": "code",
     "checksum": "43dea1979ebdec24ffcfeff71c670433",
     "grade": false,
     "grade_id": "cell-494bd0cce108ed67",
     "locked": false,
     "schema_version": 3,
     "solution": true,
     "task": false
    }
   },
   "outputs": [],
   "source": [
    "# TODO: Implement this! (7 points)\n",
    "def precision_k(results, relevant_docs, k):\n",
    "    \"\"\"\n",
    "        Compute Precision@K\n",
    "        Input: \n",
    "            results: A sorted list of 2-tuples (document_id, score), \n",
    "                    with the most relevant document in the first position\n",
    "            relevant_docs: A set of relevant documents. \n",
    "            k: the cut-off\n",
    "        Output: Precision@K\n",
    "    \"\"\"\n",
    "    if k > len(results):\n",
    "        k = len(results)\n",
    "    \n",
    "    # YOUR CODE HERE\n",
    "    \n",
    "    # get top-k predicted document IDs\n",
    "    k_results = np.array([results[x][0] for x in range(k)])\n",
    "    relevant_docs = np.array(list(relevant_docs))\n",
    "    \n",
    "    # compute number of relevant documents in k\n",
    "    num_rel_at_k = np.sum(np.isin(k_results, relevant_docs))\n",
    "    \n",
    "    # return precision@k\n",
    "    precision_at_k = num_rel_at_k / k\n",
    "    \n",
    "    return precision_at_k"
   ]
  },
  {
   "cell_type": "code",
   "execution_count": 63,
   "metadata": {
    "deletable": false,
    "editable": false,
    "nbgrader": {
     "cell_type": "code",
     "checksum": "9222e35582b1840ffb60fd02fb0b60c3",
     "grade": true,
     "grade_id": "cell-e7ff0d91c319ca64",
     "locked": true,
     "points": 7,
     "schema_version": 3,
     "solution": false,
     "task": false
    }
   },
   "outputs": [
    {
     "name": "stdout",
     "output_type": "stream",
     "text": [
      "query: What articles exist which deal with TSS (Time Sharing System), an\n",
      "operating system for IBM computers?\n",
      "precision@10 = 0.2\n"
     ]
    }
   ],
   "source": [
    "\n",
    "#### Function check\n",
    "qid = queries[0][0]\n",
    "qtext = queries[0][1]\n",
    "print(f'query:{qtext}')\n",
    "results = bm25_search(qtext, 2)\n",
    "precision = precision_k(results, qrels[qid], 10)\n",
    "print(f'precision@10 = {precision}')\n",
    "####"
   ]
  },
  {
   "cell_type": "markdown",
   "metadata": {
    "deletable": false,
    "editable": false,
    "nbgrader": {
     "cell_type": "markdown",
     "checksum": "8fd3b3998197c7097a40348500affb68",
     "grade": false,
     "grade_id": "cell-afd95f865bc7191e",
     "locked": true,
     "schema_version": 3,
     "solution": false,
     "task": false
    }
   },
   "source": [
    "---\n",
    "### 4.3 Recall (7 points)\n",
    "Implement the `recall@k` metric:"
   ]
  },
  {
   "cell_type": "code",
   "execution_count": 64,
   "metadata": {
    "deletable": false,
    "nbgrader": {
     "cell_type": "code",
     "checksum": "b2020e5741ae03b3fe35817ed8f4ccaa",
     "grade": false,
     "grade_id": "cell-c323fc8c3f8a7cf8",
     "locked": false,
     "schema_version": 3,
     "solution": true,
     "task": false
    }
   },
   "outputs": [],
   "source": [
    "# TODO: Implement this! (7 points)\n",
    "def recall_k(results, relevant_docs, k):\n",
    "    \"\"\"\n",
    "        Compute Recall@K\n",
    "        Input: \n",
    "            results: A sorted list of 2-tuples (document_id, score), with the most relevant document in the first position\n",
    "            relevant_docs: A set of relevant documents. \n",
    "            k: the cut-off\n",
    "        Output: Recall@K\n",
    "    \"\"\"\n",
    "    # YOUR CODE HERE\n",
    "    # import ipdb; ipdb.set_trace()\n",
    "    \n",
    "    # set boundary condition on k\n",
    "    k = min(k, len(results))\n",
    "\n",
    "    # get top-k predicted document IDs\n",
    "    k_results = np.array([results[x][0] for x in range(k)])\n",
    "    relevant_docs = np.array(list(relevant_docs))\n",
    "    \n",
    "    # compute number of relevant documents in k\n",
    "    num_rel_at_k = np.sum(np.isin(k_results, relevant_docs))\n",
    "    \n",
    "    # return recall@k\n",
    "    recall_at_k = num_rel_at_k / len(relevant_docs)\n",
    "    \n",
    "    return recall_at_k"
   ]
  },
  {
   "cell_type": "code",
   "execution_count": 65,
   "metadata": {
    "deletable": false,
    "editable": false,
    "nbgrader": {
     "cell_type": "code",
     "checksum": "56b6e0b8522f8b2dffbfb3206b2efa84",
     "grade": true,
     "grade_id": "cell-b25172161aef165c",
     "locked": true,
     "points": 7,
     "schema_version": 3,
     "solution": false,
     "task": false
    }
   },
   "outputs": [
    {
     "name": "stdout",
     "output_type": "stream",
     "text": [
      "query: SETL, Very High Level Languages\n",
      "recall@10 = 0.3157894736842105\n"
     ]
    }
   ],
   "source": [
    "#### Function check\n",
    "qid = queries[10][0]\n",
    "qtext = queries[10][1]\n",
    "print(f'query:{qtext}')\n",
    "results = bm25_search(qtext, 2)\n",
    "recall = recall_k(results, qrels[qid], 10)\n",
    "print(f'recall@10 = {recall}')\n",
    "####"
   ]
  },
  {
   "cell_type": "markdown",
   "metadata": {
    "deletable": false,
    "editable": false,
    "nbgrader": {
     "cell_type": "markdown",
     "checksum": "b3d3c7bd1cd977cd07ef5df7d3fbf159",
     "grade": false,
     "grade_id": "cell-77fd2e7a39a74739",
     "locked": true,
     "schema_version": 3,
     "solution": false,
     "task": false
    }
   },
   "source": [
    "---\n",
    "### 4.4 Mean Average Precision (13 points)\n",
    "Implement the `map` metric:"
   ]
  },
  {
   "cell_type": "code",
   "execution_count": 67,
   "metadata": {
    "deletable": false,
    "nbgrader": {
     "cell_type": "code",
     "checksum": "aae2c62f2ffd76f5b6c004e9519b9f14",
     "grade": false,
     "grade_id": "cell-e50925fa9093a30d",
     "locked": false,
     "schema_version": 3,
     "solution": true,
     "task": false
    }
   },
   "outputs": [],
   "source": [
    "# TODO: Implement this! (12 points)\n",
    "def average_precision(results, relevant_docs):\n",
    "    \"\"\"\n",
    "        Compute Average Precision (for a single query - the results are \n",
    "        averaged across queries to get MAP in the next few cells)\n",
    "        Hint: You can use the recall_k and precision_k functions here!\n",
    "        Input: \n",
    "            results: A sorted list of 2-tuples (document_id, score), with the most \n",
    "                    relevant document in the first position\n",
    "            relevant_docs: A set of relevant documents. \n",
    "        Output: Average Precision\n",
    "    \"\"\"\n",
    "    # YOUR CODE HERE\n",
    "    \n",
    "    # find k's with a relevant results\n",
    "    ks = [k+1 for k in range(len(results)) if results[k][0] in relevant_docs]\n",
    "    \n",
    "    AP = 0.0\n",
    "    for k in ks:\n",
    "        precision_at_k = precision_k(results, relevant_docs, k)\n",
    "        AP += precision_at_k\n",
    "    AP /= len(ks) if len(ks) > 0  else 1\n",
    "    \n",
    "    return AP\n"
   ]
  },
  {
   "cell_type": "code",
   "execution_count": 68,
   "metadata": {
    "deletable": false,
    "editable": false,
    "nbgrader": {
     "cell_type": "code",
     "checksum": "3b00e147c2fa146fa59f179b7c9cab75",
     "grade": true,
     "grade_id": "cell-8a1f7ec98571e58b",
     "locked": true,
     "points": 13,
     "schema_version": 3,
     "solution": false,
     "task": false
    }
   },
   "outputs": [
    {
     "name": "stdout",
     "output_type": "stream",
     "text": [
      "query: computational complexity, intractability, class-complete reductions,\n",
      "algorithms and efficiency\n",
      "MAP = 0.17240404110559454\n"
     ]
    }
   ],
   "source": [
    "#### Function check\n",
    "qid = queries[20][0]\n",
    "qtext = queries[20][1]\n",
    "print(f'query:{qtext}')\n",
    "results = bm25_search(qtext, 2)\n",
    "mean_ap = average_precision(results, qrels[qid])\n",
    "print(f'MAP = {mean_ap}')\n",
    "####"
   ]
  },
  {
   "cell_type": "markdown",
   "metadata": {
    "deletable": false,
    "editable": false,
    "nbgrader": {
     "cell_type": "markdown",
     "checksum": "36f85f45ef52d9467ba9a717d6d99ff2",
     "grade": false,
     "grade_id": "cell-1da18f0fe6f6d7be",
     "locked": true,
     "schema_version": 3,
     "solution": false,
     "task": false
    }
   },
   "source": [
    "---\n",
    "### 4.5 Expected Reciprocal Rank (13 points)\n",
    "Implement the `err` metric:"
   ]
  },
  {
   "cell_type": "code",
   "execution_count": 69,
   "metadata": {
    "deletable": false,
    "nbgrader": {
     "cell_type": "code",
     "checksum": "9ac94db728e23ea1f5dc0d509473c6fb",
     "grade": false,
     "grade_id": "cell-64262889f9b267ea",
     "locked": false,
     "schema_version": 3,
     "solution": true,
     "task": false
    }
   },
   "outputs": [],
   "source": [
    "# TODO: Implement this! (12 points)\n",
    "def err(results, relevant_docs):\n",
    "    \"\"\"\n",
    "        Compute the expected reciprocal rank.\n",
    "        Hint: https://dl.acm.org/doi/pdf/10.1145/1645953.1646033?download=true\n",
    "        Input: \n",
    "            results: A sorted list of 2-tuples (document_id, score), with the most \n",
    "                    relevant document in the first position\n",
    "            relevant_docs: A set of relevant documents. \n",
    "        Output: ERR\n",
    "        \n",
    "    \"\"\"\n",
    "    # YOUR CODE HERE\n",
    "    \n",
    "    \"\"\"\n",
    "    Explanation: Based on Sec 4 of https://dl.acm.org/doi/pdf/10.1145/1645953.1646033\n",
    "    \n",
    "    Notation:\n",
    "        - n: number of documents in the ranking\n",
    "        - R_{i}: \\mathcal{R}(g_{i}), mapping of relevance grade $g_{i}$ to probability of relevance \\\n",
    "                 in this case, it is simply based on DCG\n",
    "                 $$\n",
    "                 \\mathcal{R}(g) = \\frac{2^{g} - 1}{2^{g_{\\text{max}}}}, g \\in \\{0, 1, .., g_{\\text{max}}\\}\n",
    "                 $$\n",
    "    Formula:\n",
    "        $$\n",
    "        ERR = \\sum_{r = 1}^{n}\\frac{1}{r}\\prod_{i=1}^{r-1}(1 - R_{i})R_{r}\n",
    "        $$\n",
    "    \"\"\"\n",
    "    n = len(results)\n",
    "    grade_to_prob = lambda x: (2 ** x - 1) / (2 ** 1)\n",
    "    \n",
    "    err_score = 0.0\n",
    "    p = 1.0\n",
    "    for r in range(1, n + 1):\n",
    "        doc_id, score = results[r - 1]\n",
    "        \n",
    "        R = grade_to_prob(int(doc_id in relevant_docs))\n",
    "        err_score += (p * R / r)\n",
    "        p *= (1 - R)\n",
    "    \n",
    "    return err_score"
   ]
  },
  {
   "cell_type": "code",
   "execution_count": 71,
   "metadata": {
    "deletable": false,
    "editable": false,
    "nbgrader": {
     "cell_type": "code",
     "checksum": "b7d201de0990b69d5f38704668665d87",
     "grade": true,
     "grade_id": "cell-071e3970ff1afae4",
     "locked": true,
     "points": 13,
     "schema_version": 3,
     "solution": false,
     "task": false
    }
   },
   "outputs": [
    {
     "name": "stdout",
     "output_type": "stream",
     "text": [
      "query: I'd like to find articles describing the use of singular value decomposition\n",
      "in digital image processing.  Applications include finding approximations\n",
      "to the original image and restoring images that are subject to noise. An\n",
      "article on the subject is H.C. Andrews and C.L. Patterson \"Outer product\n",
      "expansions and their uses in digital image processing\", American Mathematical\n",
      "Monthly, vol. 82.\n",
      "ERR = 0.625\n"
     ]
    }
   ],
   "source": [
    "#### Function check\n",
    "qid = queries[30][0]\n",
    "qtext = queries[30][1]\n",
    "print(f'query:{qtext}')\n",
    "results = bm25_search(qtext, 2)\n",
    "ERR = err(results, qrels[qid])\n",
    "print(f'ERR = {ERR}')\n",
    "####"
   ]
  },
  {
   "cell_type": "markdown",
   "metadata": {
    "deletable": false,
    "editable": false,
    "nbgrader": {
     "cell_type": "markdown",
     "checksum": "5bd94caf77cfa5f34675df758d91002d",
     "grade": false,
     "grade_id": "cell-43709a765f353946",
     "locked": true,
     "schema_version": 3,
     "solution": false,
     "task": false
    }
   },
   "source": [
    "---\n",
    "### 4.6 Evaluate Search Functions\n",
    "\n",
    "Let's define some metrics@k using [partial functions](https://docs.python.org/3/library/functools.html#functools.partial)"
   ]
  },
  {
   "cell_type": "code",
   "execution_count": 72,
   "metadata": {
    "deletable": false,
    "editable": false,
    "nbgrader": {
     "cell_type": "code",
     "checksum": "49ccc158e5fb7340ace55e90eeb9d62a",
     "grade": false,
     "grade_id": "cell-dab560e18e340da8",
     "locked": true,
     "schema_version": 3,
     "solution": false,
     "task": false
    }
   },
   "outputs": [],
   "source": [
    "#### metrics@k functions\n",
    "\n",
    "recall_at_1 = partial(recall_k, k=1)\n",
    "recall_at_5 = partial(recall_k, k=5)\n",
    "recall_at_10 = partial(recall_k, k=10)\n",
    "precision_at_1 = partial(precision_k, k=1)\n",
    "precision_at_5 = partial(precision_k, k=5)\n",
    "precision_at_10 = partial(precision_k, k=10)\n",
    "\n",
    "\n",
    "list_of_metrics = [\n",
    "    (\"ERR\", err),\n",
    "    (\"MAP\", average_precision),\n",
    "    (\"Recall@1\",recall_at_1),\n",
    "    (\"Recall@5\", recall_at_5),\n",
    "    (\"Recall@10\", recall_at_10),\n",
    "    (\"Precision@1\", precision_at_1),\n",
    "    (\"Precision@5\", precision_at_5),\n",
    "    (\"Precision@10\", precision_at_10)]\n",
    "####"
   ]
  },
  {
   "cell_type": "markdown",
   "metadata": {
    "deletable": false,
    "editable": false,
    "nbgrader": {
     "cell_type": "markdown",
     "checksum": "fb541002c03221b453b8936290020ea5",
     "grade": false,
     "grade_id": "cell-580a2bdc66d03b47",
     "locked": true,
     "schema_version": 3,
     "solution": false,
     "task": false
    }
   },
   "source": [
    "---\n",
    "\n",
    "The following function evaluates a `search_fn` using the `metric_fn`. Note that the final number is averaged over all the queries"
   ]
  },
  {
   "cell_type": "code",
   "execution_count": 73,
   "metadata": {},
   "outputs": [],
   "source": [
    "#### Evaluate a search function\n",
    "\n",
    "list_of_search_fns = [\n",
    "    (\"BOW\", bow_search),\n",
    "    (\"TF-IDF\", tfidf_search),\n",
    "    (\"NaiveQL\", naive_ql_search),\n",
    "    (\"QL\", ql_search),\n",
    "    (\"BM25\", bm25_search)\n",
    "]\n",
    "\n",
    "def evaluate_search_fn(search_fn, metric_fns, index_set=None):\n",
    "    # build a dict query_id -> query \n",
    "    queries_by_id = dict((q[0], q[1]) for q in queries)\n",
    "    \n",
    "    metrics = {}\n",
    "    for metric, metric_fn in metric_fns:\n",
    "        metrics[metric] = np.zeros(len(qrels), dtype=np.float32)\n",
    "    \n",
    "    for i, (query_id, relevant_docs) in enumerate(qrels.items()):\n",
    "        query = queries_by_id[query_id]\n",
    "        if index_set:\n",
    "            results = search_fn(query, index_set)\n",
    "        else:\n",
    "            results = search_fn(query)\n",
    "        \n",
    "        for metric, metric_fn in metric_fns:\n",
    "            metrics[metric][i] = metric_fn(results, relevant_docs)\n",
    "\n",
    "    \n",
    "    \n",
    "    final_dict = {}\n",
    "    for metric, metric_vals in metrics.items():\n",
    "        final_dict[metric] = metric_vals.mean()\n",
    "    \n",
    "    return final_dict\n",
    "####"
   ]
  },
  {
   "cell_type": "markdown",
   "metadata": {
    "deletable": false,
    "editable": false,
    "nbgrader": {
     "cell_type": "markdown",
     "checksum": "6ea67534f74a8f81e1f504794f641709",
     "grade": false,
     "grade_id": "cell-b156d83a0649cbb4",
     "locked": true,
     "schema_version": 3,
     "solution": false,
     "task": false
    }
   },
   "source": [
    "## Section 5: Analysis (30 points) <a class=\"anchor\" id=\"analysis\"></a>\n",
    "\n",
    "[Back to Part 1](#part1)\n",
    "\n",
    "In the final section of Part1, we will compare the different term-based IR algorithms and different preprocessing configurations and analyze their advantages and disadvantages.\n",
    "\n",
    "### Section 5.1: Plot (20 points)\n",
    "\n",
    "First, gather the results. The results should consider the index set, the different search functions and different metrics. Plot the results in bar charts, per metric, with clear labels.\n",
    "\n",
    "**Rubric:**\n",
    "- Each Metric is plotted: 7 points\n",
    "- Each Method is plotted: 7 points\n",
    "- Clear titles, x label, y labels and legends (if applicable): 6 points"
   ]
  },
  {
   "cell_type": "code",
   "execution_count": 74,
   "metadata": {
    "deletable": false,
    "nbgrader": {
     "cell_type": "code",
     "checksum": "7e2588a925d13ddf588abe8311dc9cfc",
     "grade": true,
     "grade_id": "cell-46fda42a25863a04",
     "locked": false,
     "points": 20,
     "schema_version": 3,
     "solution": true,
     "task": false
    }
   },
   "outputs": [
    {
     "name": "stderr",
     "output_type": "stream",
     "text": [
      "/tmp/ipykernel_185933/1744909460.py:55: RuntimeWarning: divide by zero encountered in log\n",
      "  document_score[doc_id] += np.log((1 - smoothing) * p_q_given_d + smoothing * p_q_given_C)\n"
     ]
    },
    {
     "data": {
      "image/png": "[encoded data removed]",
      "text/plain": [
       "<Figure size 1152x648 with 8 Axes>"
      ]
     },
     "metadata": {
      "needs_background": "light"
     },
     "output_type": "display_data"
    }
   ],
   "source": [
    "# YOUR CODE HERE\n",
    "\n",
    "def plot_results(results, title=\"IR Evaluation with index set = 1\"):\n",
    "    nrows, ncols = 2, len(list_of_metrics) // 2\n",
    "    fig, axes = plt.subplots(nrows, ncols, figsize=(4 * len(list_of_metrics) // 2, 4 * 2), constrained_layout=True)\n",
    "\n",
    "    for i in range(nrows):\n",
    "        for j in range(ncols):\n",
    "            idx = i * nrows + j\n",
    "            ax = axes[i][j]\n",
    "\n",
    "            metric = list_of_metrics[idx][0]\n",
    "            ax.set_title(metric, fontsize=14)\n",
    "            ax.grid(axis=\"y\")\n",
    "\n",
    "            methods_names = list(results.keys())\n",
    "            methods_values = [results[method][metric] for method in results]\n",
    "            ax.bar(x=methods_names, height=methods_values, color=[\"blue\", \"red\", \"pink\", \"lightgreen\", \"gold\"])\n",
    "\n",
    "    plt.suptitle(title, fontsize=16, y=1.05)\n",
    "    plt.show()\n",
    "\n",
    "# results for index_set=1\n",
    "results_1 = dict()\n",
    "for method_name, method_fn in list_of_search_fns:\n",
    "    results_1[method_name] = evaluate_search_fn(method_fn, list_of_metrics, index_set=1)\n",
    "# plot_results(results_1, title=\"IR Evaluation with index set = 1\")\n",
    "\n",
    "# results for index_set=2\n",
    "results_2 = dict()\n",
    "for method_name, method_fn in list_of_search_fns:\n",
    "    results_2[method_name] = evaluate_search_fn(method_fn, list_of_metrics, index_set=2)\n",
    "# plot_results(results_2, title=\"IR Evaluation with index set = 2\")\n",
    "\n",
    "\n",
    "import json\n",
    "\n",
    "def write_json(data, path):\n",
    "    assert isinstance(data, dict)\n",
    "    \n",
    "    def make_string(dict_):\n",
    "        return {k: str(v) for k, v in dict_.items()}\n",
    "\n",
    "    data = {k: make_string(v) for k, v in data.items()}\n",
    "\n",
    "    with open(path, \"w\", encoding='utf-8') as f:\n",
    "        json.dump(data, f)\n",
    "\n",
    "import os\n",
    "os.makedirs(\"./results/\", exist_ok=True)\n",
    "write_json(results_1, \"./results/term_based_retrieval_results_index_1.json\")\n",
    "write_json(results_2, \"./results/term_based_retrieval_results_index_2.json\")\n",
    "\n",
    "nrows, ncols = 2, len(list_of_metrics) // 2\n",
    "fig, axes = plt.subplots(nrows, ncols, figsize=(4 * len(list_of_metrics) // 2, 4 * 2 + 1), constrained_layout=True)\n",
    "\n",
    "for i in range(nrows):\n",
    "    for j in range(ncols):\n",
    "        idx = i * ncols + j\n",
    "        ax = axes[i][j]\n",
    "        \n",
    "        metric = list_of_metrics[idx][0]\n",
    "        ax.set_title(metric, fontsize=15)\n",
    "        ax.set_ylim((0, 0.6))\n",
    "        ax.grid(axis=\"y\")\n",
    "\n",
    "        methods_names = list(results_1.keys())\n",
    "        x = np.arange(len(methods_names))\n",
    "        width = 0.3\n",
    "\n",
    "        methods_values_1 = [results_1[method][metric] for method in results_1]\n",
    "        methods_values_2 = [results_2[method][metric] for method in results_2]\n",
    "\n",
    "        ax.bar(x=x, height=methods_values_1, width=width, label=\"Index set: 1\")\n",
    "        ax.bar(x=x + width, height=methods_values_2, width=width, label=\"Index set: 2\")\n",
    "\n",
    "        ax.set_xticks(x + width / 2)\n",
    "        ax.set_xticklabels(methods_names, fontsize=13)\n",
    "        \n",
    "        ax.legend(fontsize=13)\n",
    "\n",
    "plt.suptitle(\n",
    "    \"Evaluation of various retrieval methods on different metrics with different ways of text processing\",\n",
    "    fontsize=16,\n",
    "    y=1.05,\n",
    ")\n",
    "plt.savefig(\"./results/term_based_retrieval_v1.pdf\", bbox_inches=\"tight\")\n",
    "plt.show()\n"
   ]
  },
  {
   "cell_type": "markdown",
   "metadata": {
    "deletable": false,
    "editable": false,
    "nbgrader": {
     "cell_type": "markdown",
     "checksum": "e88c444a0acf4e398c65e289169b75f7",
     "grade": false,
     "grade_id": "cell-8aabe3bcf265deb0",
     "locked": true,
     "points": 10,
     "schema_version": 3,
     "solution": false,
     "task": true
    }
   },
   "source": [
    "---\n",
    "### Section 5.2: Summary (10 points)\n",
    "Write a summary of what you observe in the results.\n",
    "Your summary should compare results across the 2 indices and the methods being used. State what you expected to see in the results, followed by either supporting evidence *or* justify why the results did not support your expectations.      "
   ]
  },
  {
   "cell_type": "markdown",
   "metadata": {},
   "source": [
    "By comparing the two indices, we observe that using index set 2 vastly improves performance for all retrieval algorithms and across all metrics. This indicates that stemming and stopword removal are two very beneficial text-preprocessing steps.\n",
    "\n",
    "By comparing the five algorithms, we observe that BM25 outperforms all methods, followed by the TF-IDF and QL methods. The two methods are almost on par, with TF-IDF having slightly better performance in Recall@$k$ and Precision@$k$ for $k = 1$ and QL having a slightly better performance for $k \\geq 5$. This possibly suggests that TF-IDF is superior in finding the most relevant document and QL is better at finding a larger set of relevant documents. Finally, BOW and Naive QL both achieve very low performance compared to all the aforementioned algorithms. Regarding BOW, a possible explanation would be its ignorance of how common a word is among documents, while for QL it would be its negligence of any document missing a word from the query."
   ]
  },
  {
   "cell_type": "markdown",
   "metadata": {
    "deletable": false,
    "editable": false,
    "nbgrader": {
     "cell_type": "markdown",
     "checksum": "b3eb77be74eecca205fc7b47316d1627",
     "grade": false,
     "grade_id": "cell-bb60dd5c092d0f2e",
     "locked": true,
     "schema_version": 3,
     "solution": false,
     "task": false
    }
   },
   "source": [
    "---\n",
    "---\n",
    "# Part 2: Semantic-based Matching (85 points) <a class=\"anchor\" id=\"part2\"></a>\n",
    "\n",
    "[Back to top](#top)\n",
    "\n",
    "We will now experiment with methods that go beyond lexical methods like TF-IDF, which operate at the word level and are high dimensional and sparse, and look at methods which constructs low dimensional dense representations of queries and documents. \n",
    "\n",
    "Since these low-dimensional methods have a higher time complexity, they are typically used in conjunction with methods like BM-25. That is, instead of searching through potentially million documents to find matches using low dimensional vectors, a list of K documents are retrieved using BM25, and then **re-ranked** using the other method. This is the method that is going to be applied in the following exercises. \n",
    "\n",
    "LSI/LDA takes documents that are similar on a semantic level - for instance, if they are describing the same topic - and projects them into nearby vectors, despite having low lexical overlap.\n",
    "\n",
    "In this assignment, you will use `gensim` to create LSI/LDA models and use them in re-ranking. \n",
    "\n",
    "**Note**: The following exercises only uses `doc_repr_2` and `config_2`\n",
    "\n",
    "Table of contents:\n",
    "- [Section 6: LSI](#lsi) (15 points)\n",
    "- [Section 7: LDA](#lda) (10 points)\n",
    "- [Section 8: Word2Vec/Doc2Vec](#2vec) (20 points)\n",
    "- [Section 8: Re-ranking](#reranking) (10 points)\n",
    "- [Section 9: Re-ranking Evaluation](#reranking_eval) (30 points)"
   ]
  },
  {
   "cell_type": "markdown",
   "metadata": {
    "deletable": false,
    "editable": false,
    "nbgrader": {
     "cell_type": "markdown",
     "checksum": "f7c7b2cab82f576ed0acf836ca57171c",
     "grade": false,
     "grade_id": "cell-6b2c81e7a8abd180",
     "locked": true,
     "schema_version": 3,
     "solution": false,
     "task": false
    }
   },
   "source": [
    "---\n",
    "## Section 6: Latent Semantic Indexing (LSI) (15 points) <a class=\"anchor\" id=\"lsi\"></a>\n",
    "\n",
    "[Back to Part 2](#part2)\n",
    "\n",
    "LSI is one of the methods to embed the queries and documents into vectors. It is based on a method similar to Principal Component Analysis (PCA) for obtaining a dense concept matrix out of the sparse term-document matrix.\n",
    "\n",
    "See [wikipedia](https://en.wikipedia.org/wiki/Latent_semantic_analysis), particularly [#Mathematics_of_LSI](https://en.wikipedia.org/wiki/Latent_semantic_analysis#Mathematics_of_LSI)."
   ]
  },
  {
   "cell_type": "code",
   "execution_count": 75,
   "metadata": {
    "deletable": false,
    "editable": false,
    "nbgrader": {
     "cell_type": "code",
     "checksum": "c17ee75319cb517e2bf48ec3d9efc329",
     "grade": false,
     "grade_id": "cell-59913daee47f680d",
     "locked": true,
     "schema_version": 3,
     "solution": false,
     "task": false
    }
   },
   "outputs": [],
   "source": [
    "from gensim.corpora import Dictionary\n",
    "from gensim.models import LdaModel, LsiModel, Word2Vec\n",
    "from gensim.models.doc2vec import Doc2Vec, TaggedDocument\n",
    "from gensim import downloader as g_downloader\n",
    "# gensim uses logging, so set it up \n",
    "import logging\n",
    "logging.basicConfig(format='%(asctime)s : %(levelname)s : %(message)s', level=logging.INFO)"
   ]
  },
  {
   "cell_type": "markdown",
   "metadata": {
    "deletable": false,
    "editable": false,
    "nbgrader": {
     "cell_type": "markdown",
     "checksum": "5fce140c546759b54a9fc060901ae77c",
     "grade": false,
     "grade_id": "cell-3644faff4976598a",
     "locked": true,
     "schema_version": 3,
     "solution": false,
     "task": false
    }
   },
   "source": [
    "---\n",
    "### Section 6.1: Cosine Similarity (5 points)<a class=\"anchor\" id=\"cosing_sim\"></a>\n",
    "Before we begin, let us first define our method of similarity for the LSI model, the cosine similarity:\n",
    "\n",
    "$$\\text{similarity} = \\cos(\\theta) = {\\mathbf{A} \\cdot \\mathbf{B} \\over \\|\\mathbf{A}\\| \\|\\mathbf{B}\\|} = \\frac{ \\sum\\limits_{i=1}^{n}{A_i  B_i} }{ \\sqrt{\\sum\\limits_{i=1}^{n}{A_i^2}}  \\sqrt{\\sum\\limits_{i=1}^{n}{B_i^2}} }$$\n",
    "\n",
    "Since we are using gensim, the types of vectors returned by their classes are of the form defined below (they are not just simple vectors):"
   ]
  },
  {
   "cell_type": "code",
   "execution_count": 76,
   "metadata": {
    "deletable": false,
    "editable": false,
    "nbgrader": {
     "cell_type": "code",
     "checksum": "4e340e1a1d546f430c018fd0760e707a",
     "grade": false,
     "grade_id": "cell-3995a50f951314d5",
     "locked": true,
     "schema_version": 3,
     "solution": false,
     "task": false
    }
   },
   "outputs": [],
   "source": [
    "# 1, 2, 3 are either latent dimensions (LSI), or topics (LDA)\n",
    "# The second value in each tuple is a number (LSI) or a probability (LDA)  \n",
    "example_vec_1 = [(1, 0.2), (2, 0.3), (3, 0.4)]\n",
    "example_vec_2 = [(1, 0.2), (2, 0.7), (3, 0.4)]"
   ]
  },
  {
   "cell_type": "markdown",
   "metadata": {
    "deletable": false,
    "editable": false,
    "nbgrader": {
     "cell_type": "markdown",
     "checksum": "20832fd4f579f49ae204b0efee02edd1",
     "grade": false,
     "grade_id": "cell-5e54d581858dc8f7",
     "locked": true,
     "schema_version": 3,
     "solution": false,
     "task": false
    }
   },
   "source": [
    "---\n",
    "**Implementation (2+3 points):**\n",
    "Now, implement the `dot product` operation on these types of vectors and using this operator, implement the `cosine similarity` (don't forget: two functions to implement!):"
   ]
  },
  {
   "cell_type": "code",
   "execution_count": 77,
   "metadata": {
    "deletable": false,
    "nbgrader": {
     "cell_type": "code",
     "checksum": "06a712ee75fc213a21c5f0067fd8fe28",
     "grade": false,
     "grade_id": "cell-0e8189f5f93de33f",
     "locked": false,
     "schema_version": 3,
     "solution": true,
     "task": false
    }
   },
   "outputs": [],
   "source": [
    "# TODO: Implement this! (2 points)\n",
    "def dot(vec_1,vec_2): \n",
    "    \"\"\"\n",
    "        vec_1 and vec_2 are of the form: [(int, float), (int, float), ...]\n",
    "        Return the dot product of two such vectors, computed only on the floats\n",
    "        You can assume that the lengths of the vectors are the same, and the dimensions are aligned \n",
    "            i.e you won't get: vec_1 = [(1, 0.2)] ; vec_2 = [(2, 0.3)] \n",
    "                                (dimensions are unaligned and lengths are different)\n",
    "    \"\"\"\n",
    "    # YOUR CODE HERE\n",
    "    return np.sum([x[1] * y[1] for (x, y) in zip(vec_1, vec_2)])\n",
    "\n",
    "\n",
    "# TODO: Implement this! (3 points)\n",
    "def cosine_sim(vec_1, vec_2):\n",
    "    # YOUR CODE HERE\n",
    "    if not vec_1 or not vec_2:\n",
    "        return 0\n",
    "    norm_1 = np.sqrt(dot(vec_1, vec_1))\n",
    "    norm_2 = np.sqrt(dot(vec_2, vec_2))\n",
    "    \n",
    "    return dot(vec_1, vec_2) / (norm_1 * norm_2)"
   ]
  },
  {
   "cell_type": "code",
   "execution_count": 78,
   "metadata": {
    "deletable": false,
    "editable": false,
    "nbgrader": {
     "cell_type": "code",
     "checksum": "d22a4a7325ba7815a808390388f534a1",
     "grade": true,
     "grade_id": "cell-b25d04ed6b79fd35",
     "locked": true,
     "points": 2,
     "schema_version": 3,
     "solution": false,
     "task": false
    }
   },
   "outputs": [
    {
     "name": "stdout",
     "output_type": "stream",
     "text": [
      "vectors: ([(1, 0.2), (2, 0.3), (3, 0.4)], [(1, 0.2), (2, 0.7), (3, 0.4)])\n",
      "dot product = 0.41000000000000003\n",
      "cosine similarity = 0.9165587597202866\n"
     ]
    }
   ],
   "source": [
    "##### Function check\n",
    "print(f'vectors: {(example_vec_1,example_vec_2)}')\n",
    "print(f'dot product = {dot(example_vec_1,example_vec_2)}')\n",
    "print(f'cosine similarity = {cosine_sim(example_vec_1,example_vec_2)}')\n",
    "##### "
   ]
  },
  {
   "cell_type": "code",
   "execution_count": 79,
   "metadata": {
    "deletable": false,
    "editable": false,
    "nbgrader": {
     "cell_type": "code",
     "checksum": "0744131724ce76b1b3f163b4bae5f700",
     "grade": true,
     "grade_id": "cell-ae3c4466866ace77",
     "locked": true,
     "points": 3,
     "schema_version": 3,
     "solution": false,
     "task": false
    }
   },
   "outputs": [],
   "source": [
    "#### Please do not change this. This cell is used for grading."
   ]
  },
  {
   "cell_type": "markdown",
   "metadata": {
    "deletable": false,
    "editable": false,
    "nbgrader": {
     "cell_type": "markdown",
     "checksum": "9b123f599f9ea372d14676e23f1c6a52",
     "grade": false,
     "grade_id": "cell-4b2534067c44fcdf",
     "locked": true,
     "schema_version": 3,
     "solution": false,
     "task": false
    }
   },
   "source": [
    "---\n",
    "### Section 6.2: LSI Retrieval (10 points)<a class=\"anchor\" id=\"lsi_retrieval\"></a>\n",
    "LSI retrieval is simply ranking the documents based on their cosine similarity to the query vector.\n",
    "First, let's write a parent class for vector-based retrieval models:"
   ]
  },
  {
   "cell_type": "code",
   "execution_count": 80,
   "metadata": {
    "deletable": false,
    "editable": false,
    "nbgrader": {
     "cell_type": "code",
     "checksum": "ecc111d58182570e2252b8ef5d6b02af",
     "grade": false,
     "grade_id": "cell-937936cea18711ee",
     "locked": true,
     "schema_version": 3,
     "solution": false,
     "task": false
    }
   },
   "outputs": [],
   "source": [
    "class VectorSpaceRetrievalModel:\n",
    "    \"\"\"\n",
    "        Parent class for Dense Vector Retrieval models\n",
    "    \"\"\"\n",
    "    def __init__(self, doc_repr):\n",
    "        \"\"\"\n",
    "            document_collection: \n",
    "                [\n",
    "                    (doc_id_1, [token 1, token 2, ...]), \n",
    "                    (doc_id_2, [token 1, token 2, ....]) \n",
    "                    ...\n",
    "                ]\n",
    "\n",
    "        \"\"\"\n",
    "        self.doc_repr = doc_repr\n",
    "        self.documents = [_[1] for _ in self.doc_repr]\n",
    "        \n",
    "        # construct a dictionary\n",
    "        self.dictionary = Dictionary(self.documents)\n",
    "        # Filter out words that occur less than 20 documents, or more than 50% of the documents.\n",
    "        self.dictionary.filter_extremes(no_below=10)\n",
    "        self.corpus = [self.dictionary.doc2bow(doc) for doc in self.documents]\n",
    "    \n",
    "        # Make a index to word dictionary.\n",
    "        temp = self.dictionary[0]  # This is only to \"load\" the dictionary.\n",
    "        self.id2word = self.dictionary.id2token\n",
    "        \n",
    "        # this is set by the train_model function\n",
    "        self.model = None\n",
    "        \n",
    "        \n",
    "    def vectorize_documents(self):\n",
    "        \"\"\"\n",
    "            Returns a doc_id -> vector dictionary\n",
    "        \"\"\"\n",
    "        vectors = {}\n",
    "        for (doc_id, _), cc in zip(self.doc_repr, self.corpus):\n",
    "            vectors[doc_id] = self.model[cc]\n",
    "        return vectors\n",
    "\n",
    "    def vectorize_query(self, query):\n",
    "        # Note the use of config_2 here!\n",
    "        query = process_text(query, **config_2)\n",
    "        query_vector = self.dictionary.doc2bow(query)\n",
    "        return self.model[query_vector]\n",
    "    \n",
    "    def train_model(self):\n",
    "        \"\"\"\n",
    "            Trains a model and sets the 'self.model' variable. \n",
    "            Make sure to use the variables created in the __init__ method.\n",
    "            e.g the variables which may be useful: {corpus, dictionary, id2word}\n",
    "        \"\"\"\n",
    "        raise NotImplementedError()"
   ]
  },
  {
   "cell_type": "markdown",
   "metadata": {
    "deletable": false,
    "editable": false,
    "nbgrader": {
     "cell_type": "markdown",
     "checksum": "ff161eefd9b81b768cd6361bc1a502b0",
     "grade": false,
     "grade_id": "cell-704a18c2f80cd60c",
     "locked": true,
     "schema_version": 3,
     "solution": false,
     "task": false
    }
   },
   "source": [
    "---\n",
    "**Implementation (5 points):**\n",
    "Implement the `train_model` method in the following class (note that this is only one line of code in `gensim`!). Ensure that the parameters defined in the `__init__` method are not changed, and are *used in the `train_method` function*. Normally, the hyperaparameter space will be searched using grid search / other methods - in this assignment we have provided the hyperparameters for you.\n",
    "\n",
    "The last two lines of code train an LSI model on the list of documents which have been stemmed, lower-cased and have stopwords removed. "
   ]
  },
  {
   "cell_type": "code",
   "execution_count": 81,
   "metadata": {
    "deletable": false,
    "nbgrader": {
     "cell_type": "code",
     "checksum": "0e90eedc27c248bc1ae050518a46a46c",
     "grade": false,
     "grade_id": "cell-307682c9089f15d6",
     "locked": false,
     "schema_version": 3,
     "solution": true,
     "task": false
    }
   },
   "outputs": [],
   "source": [
    "# TODO: Implement this! (5 points)\n",
    "class LsiRetrievalModel(VectorSpaceRetrievalModel):\n",
    "    def __init__(self, doc_repr):\n",
    "        super().__init__(doc_repr)\n",
    "\n",
    "        self.num_topics = 100\n",
    "        self.chunksize = 2000\n",
    "    \n",
    "    def train_model(self):\n",
    "        # YOUR CODE HERE\n",
    "        self.model = LsiModel(\n",
    "            corpus=self.corpus,\n",
    "            id2word=self.id2word,\n",
    "            num_topics=self.num_topics,\n",
    "            chunksize=self.chunksize,\n",
    "        )"
   ]
  },
  {
   "cell_type": "code",
   "execution_count": 82,
   "metadata": {
    "deletable": false,
    "editable": false,
    "nbgrader": {
     "cell_type": "code",
     "checksum": "00399cfe13d60cb4beed1271e36004b0",
     "grade": true,
     "grade_id": "cell-5ce512650c1b2dfb",
     "locked": true,
     "points": 0,
     "schema_version": 3,
     "solution": false,
     "task": false
    }
   },
   "outputs": [
    {
     "name": "stderr",
     "output_type": "stream",
     "text": [
      "2022-02-28 16:17:55,026 : INFO : adding document #0 to Dictionary(0 unique tokens: [])\n",
      "2022-02-28 16:17:55,164 : INFO : built Dictionary(5937 unique tokens: ['-', 'algebra', 'intern', 'languag', 'preliminari']...) from 3204 documents (total 115969 corpus positions)\n",
      "2022-02-28 16:17:55,173 : INFO : discarding 4740 tokens: [('repeat', 8), ('glossari', 7), ('inspect', 8), ('uncol', 2), ('rung', 9), ('secant', 2), ('.', 1603), ('acceler', 6), ('diverg', 3), ('induc', 9)]...\n",
      "2022-02-28 16:17:55,189 : INFO : keeping 1197 tokens which were in no less than 10 and no more than 1602 (=50.0%) documents\n",
      "2022-02-28 16:17:55,195 : INFO : resulting dictionary: Dictionary(1197 unique tokens: ['-', 'algebra', 'intern', 'languag', 'preliminari']...)\n",
      "2022-02-28 16:17:55,297 : INFO : using serial LSI version on this node\n",
      "2022-02-28 16:17:55,297 : INFO : updating model with new documents\n",
      "2022-02-28 16:17:55,298 : INFO : preparing a new chunk of documents\n",
      "2022-02-28 16:17:55,309 : INFO : using 100 extra samples and 2 power iterations\n",
      "2022-02-28 16:17:55,310 : INFO : 1st phase: constructing (1197, 200) action matrix\n",
      "2022-02-28 16:17:55,337 : INFO : orthonormalizing (1197, 200) action matrix\n",
      "2022-02-28 16:17:55,436 : INFO : 2nd phase: running dense svd on (200, 2000) matrix\n",
      "2022-02-28 16:17:55,546 : INFO : computing the final decomposition\n",
      "2022-02-28 16:17:55,547 : INFO : keeping 100 factors (discarding 13.460% of energy spectrum)\n",
      "2022-02-28 16:17:55,560 : INFO : processed documents up to #2000\n",
      "2022-02-28 16:17:55,563 : INFO : topic #0(152.127): 0.741*\",\" + 0.342*\"-\" + 0.211*\"system\" + 0.204*\"program\" + 0.192*\"comput\" + 0.146*\"(\" + 0.127*\"languag\" + 0.108*\")\" + 0.084*\"gener\" + 0.083*\"data\"\n",
      "2022-02-28 16:17:55,564 : INFO : topic #1(60.600): -0.607*\"(\" + -0.434*\")\" + -0.366*\"algorithm\" + -0.300*\"-\" + 0.237*\",\" + 0.213*\"system\" + 0.132*\"comput\" + -0.096*\"[\" + 0.093*\"program\" + -0.084*\"])\"\n",
      "2022-02-28 16:17:55,565 : INFO : topic #2(57.438): -0.744*\"-\" + 0.452*\",\" + -0.263*\"system\" + 0.214*\"(\" + 0.166*\")\" + -0.107*\"time\" + -0.105*\"program\" + 0.094*\"algorithm\" + -0.068*\"comput\" + -0.067*\"share\"\n",
      "2022-02-28 16:17:55,567 : INFO : topic #3(48.370): -0.483*\"system\" + -0.375*\"program\" + -0.367*\"comput\" + 0.363*\"-\" + 0.308*\",\" + -0.212*\"(\" + -0.168*\")\" + -0.147*\"algorithm\" + 0.144*\"languag\" + -0.119*\"time\"\n",
      "2022-02-28 16:17:55,570 : INFO : topic #4(45.710): 0.489*\"comput\" + -0.475*\"languag\" + -0.428*\"program\" + 0.238*\"method\" + 0.141*\"problem\" + -0.121*\"system\" + -0.109*\")\" + 0.107*\"equat\" + 0.100*\"algorithm\" + -0.099*\"(\"\n",
      "2022-02-28 16:17:55,572 : INFO : preparing a new chunk of documents\n",
      "2022-02-28 16:17:55,601 : INFO : using 100 extra samples and 2 power iterations\n",
      "2022-02-28 16:17:55,603 : INFO : 1st phase: constructing (1197, 200) action matrix\n",
      "2022-02-28 16:17:55,641 : INFO : orthonormalizing (1197, 200) action matrix\n",
      "2022-02-28 16:17:55,815 : INFO : 2nd phase: running dense svd on (200, 1204) matrix\n",
      "2022-02-28 16:17:55,933 : INFO : computing the final decomposition\n",
      "2022-02-28 16:17:55,941 : INFO : keeping 100 factors (discarding 14.011% of energy spectrum)\n",
      "2022-02-28 16:17:55,955 : INFO : merging projections: (1197, 100) + (1197, 100)\n",
      "2022-02-28 16:17:55,999 : INFO : keeping 100 factors (discarding 8.168% of energy spectrum)\n",
      "2022-02-28 16:17:56,003 : INFO : processed documents up to #3204\n",
      "2022-02-28 16:17:56,004 : INFO : topic #0(225.136): 0.759*\",\" + 0.337*\"-\" + 0.196*\"system\" + 0.186*\"program\" + 0.166*\"comput\" + 0.139*\"(\" + 0.103*\")\" + 0.103*\"algorithm\" + 0.099*\"languag\" + 0.087*\"time\"\n",
      "2022-02-28 16:17:56,005 : INFO : topic #1(87.805): 0.613*\"-\" + -0.399*\",\" + 0.399*\"(\" + 0.326*\"algorithm\" + 0.293*\")\" + -0.129*\"system\" + -0.107*\"program\" + 0.085*\"method\" + 0.077*\"time\" + 0.062*\"1\"\n",
      "2022-02-28 16:17:56,006 : INFO : topic #2(81.909): 0.550*\"-\" + -0.434*\"(\" + 0.355*\"system\" + -0.321*\")\" + -0.291*\",\" + -0.266*\"algorithm\" + 0.146*\"program\" + 0.123*\"comput\" + 0.078*\"time\" + -0.064*\"[\"\n",
      "2022-02-28 16:17:56,007 : INFO : topic #3(72.433): -0.693*\"program\" + 0.339*\",\" + 0.279*\"-\" + -0.251*\"(\" + -0.221*\"system\" + -0.214*\"languag\" + -0.204*\")\" + -0.160*\"comput\" + -0.099*\"data\" + -0.056*\"execut\"\n",
      "2022-02-28 16:17:56,007 : INFO : topic #4(68.523): -0.673*\"system\" + 0.453*\"program\" + 0.254*\"languag\" + 0.212*\"-\" + -0.179*\"comput\" + -0.165*\"(\" + -0.121*\")\" + -0.115*\"model\" + 0.101*\",\" + -0.098*\"algorithm\"\n"
     ]
    },
    {
     "data": {
      "text/plain": [
       "[(0, 0.015213949916798761),\n",
       " (1, -0.016261667717440715),\n",
       " (2, -0.000179358505925539),\n",
       " (3, -0.0018038637737246167),\n",
       " (4, -0.00944434638212862),\n",
       " (5, -0.004655469555930075),\n",
       " (6, 0.027089941386269398),\n",
       " (7, 0.016694482265039817),\n",
       " (8, -0.03196383228713943),\n",
       " (9, -0.0005204451189079005),\n",
       " (10, 0.0021486049705354933),\n",
       " (11, -0.0174549846988597),\n",
       " (12, -0.00013769189727788275),\n",
       " (13, 0.0015258051683208675),\n",
       " (14, 0.004524894788098694),\n",
       " (15, 0.005899240949812621),\n",
       " (16, 0.006106799445427858),\n",
       " (17, 0.002840747868381977),\n",
       " (18, -0.01864007973724585),\n",
       " (19, 0.019537093720395426),\n",
       " (20, -0.010772924837519631),\n",
       " (21, -0.012810152229842116),\n",
       " (22, 0.04742443175076684),\n",
       " (23, 0.025828637138810902),\n",
       " (24, -0.009199102572516226),\n",
       " (25, -0.011281646250150802),\n",
       " (26, 0.005942401326497344),\n",
       " (27, 0.07488213819311088),\n",
       " (28, -0.06213291009952908),\n",
       " (29, 0.03274669345324698),\n",
       " (30, 0.04510106347920926),\n",
       " (31, 0.04778580120612649),\n",
       " (32, -0.07267563040583419),\n",
       " (33, 0.04639378682527564),\n",
       " (34, -0.023729021256646866),\n",
       " (35, 0.0637951223210623),\n",
       " (36, 0.04444561599290731),\n",
       " (37, -0.007261675167996581),\n",
       " (38, -0.06256190689687709),\n",
       " (39, 0.025839987728952754),\n",
       " (40, -0.04619576039410479),\n",
       " (41, -0.030176823952118275),\n",
       " (42, 0.020573817014342077),\n",
       " (43, 0.015557106641779292),\n",
       " (44, -0.00021511327873644957),\n",
       " (45, 0.06204668304787035),\n",
       " (46, -0.009683170819880491),\n",
       " (47, 0.0003466652285099049),\n",
       " (48, 0.01450392739859903),\n",
       " (49, 0.030711356469394473),\n",
       " (50, 0.017574523216428346),\n",
       " (51, 0.05105109379822689),\n",
       " (52, 0.0050747645179930155),\n",
       " (53, 0.008903142440828642),\n",
       " (54, 0.03893441077396104),\n",
       " (55, 0.02378672259550005),\n",
       " (56, -0.008068710975769255),\n",
       " (57, -0.02363954653093812),\n",
       " (58, -0.004208373801855937),\n",
       " (59, 0.048991529404147326),\n",
       " (60, -0.0053725059698459575),\n",
       " (61, -0.03287935499014295),\n",
       " (62, -0.030178267953955226),\n",
       " (63, 0.02432095566593223),\n",
       " (64, -0.023947489566339644),\n",
       " (65, 0.07518806177708591),\n",
       " (66, 0.016971845906309353),\n",
       " (67, 0.046744926367638835),\n",
       " (68, -0.04527554720193518),\n",
       " (69, -0.023389165146737702),\n",
       " (70, -0.04631408638508927),\n",
       " (71, -0.03737725823116714),\n",
       " (72, 0.03453731283073906),\n",
       " (73, 0.10569685988813593),\n",
       " (74, -0.027931724328811455),\n",
       " (75, 0.03596184605270584),\n",
       " (76, -0.0041013783854319495),\n",
       " (77, 0.01091582667534785),\n",
       " (78, 0.037005004770813976),\n",
       " (79, 0.03603857655883431),\n",
       " (80, -0.02499170959402712),\n",
       " (81, -0.014974411498132924),\n",
       " (82, 0.046289199140891024),\n",
       " (83, 0.015104514532770705),\n",
       " (84, -0.07125110245405396),\n",
       " (85, -0.018655441384404538),\n",
       " (86, -0.028543992284991007),\n",
       " (87, 0.0169883428605953),\n",
       " (88, -0.043938030080136185),\n",
       " (89, -0.06742985900422824),\n",
       " (90, -0.02276193956009937),\n",
       " (91, 0.03085241499771106),\n",
       " (92, 0.011854979723324912),\n",
       " (93, -0.06831289901131007),\n",
       " (94, 0.069487773516662),\n",
       " (95, -0.0016897098903206412),\n",
       " (96, 0.0034101693082143063),\n",
       " (97, -0.015515287961648437),\n",
       " (98, -0.023692753731355425),\n",
       " (99, 0.0013563059837253698)]"
      ]
     },
     "execution_count": 82,
     "metadata": {},
     "output_type": "execute_result"
    }
   ],
   "source": [
    "##### Function check\n",
    "lsi = LsiRetrievalModel(doc_repr_2)\n",
    "lsi.train_model()\n",
    "\n",
    "# you can now get an LSI vector for a given query in the following way:\n",
    "lsi.vectorize_query(\"report\")\n",
    "##### "
   ]
  },
  {
   "cell_type": "markdown",
   "metadata": {
    "deletable": false,
    "editable": false,
    "nbgrader": {
     "cell_type": "markdown",
     "checksum": "7116bb9f576c5bb04934e1d59c51d729",
     "grade": false,
     "grade_id": "cell-4c5eeb557b4fca2f",
     "locked": true,
     "points": 5,
     "schema_version": 3,
     "solution": false,
     "task": true
    }
   },
   "source": [
    "\\#### Please do not change this. This cell is used for grading."
   ]
  },
  {
   "cell_type": "markdown",
   "metadata": {
    "deletable": false,
    "editable": false,
    "nbgrader": {
     "cell_type": "markdown",
     "checksum": "26e2ff3c413745e633d99f66c041d6b1",
     "grade": false,
     "grade_id": "cell-c4e50296cd17a555",
     "locked": true,
     "schema_version": 3,
     "solution": false,
     "task": false
    }
   },
   "source": [
    "---\n",
    "**Implementation (5 points):**\n",
    " Next, implement a basic ranking class for vector space retrieval (used for all semantic methods): "
   ]
  },
  {
   "cell_type": "code",
   "execution_count": 83,
   "metadata": {
    "deletable": false,
    "nbgrader": {
     "cell_type": "code",
     "checksum": "1a8389d2f0635c3405e2b0b27ed9f327",
     "grade": false,
     "grade_id": "cell-250515d288e80cdc",
     "locked": false,
     "schema_version": 3,
     "solution": true,
     "task": false
    }
   },
   "outputs": [],
   "source": [
    "# TODO: Implement this! (5 points)\n",
    "class DenseRetrievalRanker:\n",
    "    def __init__(self, vsrm, similarity_fn):\n",
    "        \"\"\"\n",
    "            vsrm: instance of `VectorSpaceRetrievalModel`\n",
    "            similarity_fn: function instance that takes in two vectors \n",
    "                            and returns a similarity score e.g cosine_sim defined earlier\n",
    "        \"\"\"\n",
    "        self.vsrm = vsrm \n",
    "        self.vectorized_documents = self.vsrm.vectorize_documents()\n",
    "        self.similarity_fn = similarity_fn\n",
    "    \n",
    "    def _compute_sim(self, query_vector):\n",
    "        \"\"\"\n",
    "            Compute the similarity of `query_vector` to documents in \n",
    "            `self.vectorized_documents` using `self.similarity_fn`\n",
    "            Returns a list of (doc_id, score) tuples\n",
    "        \"\"\"\n",
    "        # YOUR CODE HERE\n",
    "        return [(doc_id, self.similarity_fn(query_vector, d)) for doc_id, d in self.vectorized_documents.items() if d]\n",
    "    \n",
    "    def search(self, query):\n",
    "        scores = self._compute_sim(self.vsrm.vectorize_query(query))\n",
    "        scores.sort(key=lambda _:-_[1])\n",
    "        return scores "
   ]
  },
  {
   "cell_type": "code",
   "execution_count": 84,
   "metadata": {
    "deletable": false,
    "editable": false,
    "nbgrader": {
     "cell_type": "code",
     "checksum": "f237dd1ef6c1783c06797f4b514421f5",
     "grade": true,
     "grade_id": "cell-b73068b3e77a8e31",
     "locked": true,
     "points": 0,
     "schema_version": 3,
     "solution": false,
     "task": false
    }
   },
   "outputs": [
    {
     "data": {
      "text/plain": [
       "[('599', 0.8039455387482838),\n",
       " ('947', 0.5845666082743187),\n",
       " ('53', 0.49056645493722767),\n",
       " ('1339', 0.44545052490104986),\n",
       " ('3160', 0.4410139058522514)]"
      ]
     },
     "execution_count": 84,
     "metadata": {},
     "output_type": "execute_result"
    }
   ],
   "source": [
    "##### Function check\n",
    "drm_lsi = DenseRetrievalRanker(lsi, cosine_sim)\n",
    "drm_lsi.search(\"report\")[:5]\n",
    "##### "
   ]
  },
  {
   "cell_type": "markdown",
   "metadata": {
    "deletable": false,
    "editable": false,
    "nbgrader": {
     "cell_type": "markdown",
     "checksum": "5b3f19fdcaa585d263706d5a26038799",
     "grade": false,
     "grade_id": "cell-034c755a6502b868",
     "locked": true,
     "points": 5,
     "schema_version": 3,
     "solution": false,
     "task": true
    }
   },
   "source": [
    "\\#### Please do not change this. This cell is used for grading."
   ]
  },
  {
   "cell_type": "markdown",
   "metadata": {
    "deletable": false,
    "editable": false,
    "nbgrader": {
     "cell_type": "markdown",
     "checksum": "dcafef6e037033c46304b914f7c78bdf",
     "grade": false,
     "grade_id": "cell-d1df23f497d5ed6b",
     "locked": true,
     "schema_version": 3,
     "solution": false,
     "task": false
    }
   },
   "source": [
    "---\n",
    "Now, you can test your LSI model in the following cell: try finding queries which are lexically different to documents, but semantically similar - does LSI work well for these queries?!"
   ]
  },
  {
   "cell_type": "code",
   "execution_count": 85,
   "metadata": {
    "deletable": false,
    "editable": false,
    "nbgrader": {
     "cell_type": "code",
     "checksum": "11734bc7674377b340ad51297a8e8bb5",
     "grade": false,
     "grade_id": "cell-efd1d08dfc04ec3e",
     "locked": true,
     "schema_version": 3,
     "solution": false,
     "task": false
    }
   },
   "outputs": [
    {
     "data": {
      "application/vnd.jupyter.widget-view+json": {
       "model_id": "54582542f0a740e88fd39f5cf240b990",
       "version_major": 2,
       "version_minor": 0
      },
      "text/plain": [
       "Text(value='', description='Search Bar')"
      ]
     },
     "metadata": {},
     "output_type": "display_data"
    }
   ],
   "source": [
    "# test your LSI model\n",
    "search_fn = drm_lsi.search\n",
    "\n",
    "text = widgets.Text(description=\"Search Bar\", width=200)\n",
    "display(text)\n",
    "\n",
    "def make_results_2(query, search_fn):\n",
    "    results = []\n",
    "    for doc_id, score in search_fn(query):\n",
    "        highlight = highlight_text(docs_by_id[doc_id], query)\n",
    "        if len(highlight.strip()) == 0:\n",
    "            highlight = docs_by_id[doc_id]\n",
    "        results.append(ResultRow(doc_id, highlight, score))\n",
    "    return results\n",
    "\n",
    "def handle_submit_2(sender):\n",
    "    print(f\"Searching for: '{sender.value}' (SEARCH FN: {search_fn})\")\n",
    "    \n",
    "    results = make_results_2(sender.value, search_fn)\n",
    "    \n",
    "    # display only the top 5\n",
    "    results = results[:5]\n",
    "    \n",
    "    body = \"\"\n",
    "    for idx, r in enumerate(results):\n",
    "        body += f\"<li>Document #{r.doc_id}({r.score}): {r.snippet}</li>\"\n",
    "    display(HTML(f\"<ul>{body}</ul>\"))\n",
    "    \n",
    "\n",
    "text.on_submit(handle_submit_2)"
   ]
  },
  {
   "cell_type": "markdown",
   "metadata": {
    "deletable": false,
    "editable": false,
    "nbgrader": {
     "cell_type": "markdown",
     "checksum": "d074ce1ca48384cdda78742741c938be",
     "grade": false,
     "grade_id": "cell-3a86cef264d8f6cf",
     "locked": true,
     "schema_version": 3,
     "solution": false,
     "task": false
    }
   },
   "source": [
    "---\n",
    "## Section 7: Latent Dirichlet Allocation (LDA) (10 points) <a class=\"anchor\" id=\"lda\"></a>\n",
    "\n",
    "[Back to Part 2](#part2)\n",
    "\n",
    "The specifics of LDA is out of the scope of this assignment, but we will use the `gensim` implementation to perform search using LDA over our small document collection. The key thing to remember is that LDA, unlike LSI, outputs a topic **distribution**, not a vector. With that in mind, let's first define a similarity measure.\n"
   ]
  },
  {
   "cell_type": "markdown",
   "metadata": {
    "deletable": false,
    "editable": false,
    "nbgrader": {
     "cell_type": "markdown",
     "checksum": "db01092373b18f0c9dfed1bb17db4ad9",
     "grade": false,
     "grade_id": "cell-6b78ad22c2d60ba7",
     "locked": true,
     "schema_version": 3,
     "solution": false,
     "task": false
    }
   },
   "source": [
    "---\n",
    "### Section 7.1: Jenson-Shannon divergence (5 points) <a class=\"anchor\" id=\"js_sim\"></a>\n",
    "\n",
    "The Jenson-Shannon divergence is a symmetric and finite measure on two probability distributions (unlike the KL, which is neither). For identical distributions, the JSD is equal to 0, and since our code uses 0 as irrelevant and higher scores as relevant, we use `(1 - JSD)` as the score or 'similarity' in our setup\n",
    "\n",
    "**Note**: the JSD is bounded to \\[0,1\\] only if we use log base 2. So please ensure that you're using `np.log2` instead of `np.log`"
   ]
  },
  {
   "cell_type": "code",
   "execution_count": 107,
   "metadata": {
    "deletable": false,
    "nbgrader": {
     "cell_type": "code",
     "checksum": "a579e6cd7a24a3516bc9a84528b392d3",
     "grade": false,
     "grade_id": "cell-d2376a85a4841e98",
     "locked": false,
     "schema_version": 3,
     "solution": true,
     "task": false
    }
   },
   "outputs": [],
   "source": [
    "## TODO: Implement this! (5 points)\n",
    "def jenson_shannon_divergence(vec_1, vec_2, assert_prob=False):\n",
    "    \"\"\"\n",
    "        Computes the Jensen-Shannon divergence between two probability distributions. \n",
    "        NOTE: DO NOT RETURN 1 - JSD here, that is handled by the next function which is already implemented! \n",
    "        The inputs are *gensim* vectors - same as the vectors for the cosine_sim function\n",
    "        assert_prob is a flag that checks if the inputs are proper probability distributions \n",
    "            i.e they sum to 1 and are positive - use this to check your inputs if needed. \n",
    "                (This is optional to implement, but recommended - \n",
    "                you can the default to False to save a few ms off the runtime)\n",
    "    \"\"\"\n",
    "    # YOUR CODE HERE\n",
    "    \n",
    "    # TODO: check the validity of this assumption\n",
    "    P_support = np.array([x[0] for x in vec_1])\n",
    "    Q_support = np.array([x[0] for x in vec_2])\n",
    "    common_support = [x for x in P_support if x in Q_support]\n",
    "\n",
    "    P = np.array([x[1] for x in vec_1 if x[0] in common_support])\n",
    "    Q = np.array([x[1] for x in vec_2 if x[0] in common_support])\n",
    "\n",
    "    # Q = np.array([y[1] for x, y in zip(vec_1, vec_2) if x[0] in P_support])\n",
    "    \n",
    "    assert len(P) == len(Q)\n",
    "\n",
    "    M = 0.5 * (P + Q)\n",
    "\n",
    "    if assert_prob:\n",
    "        assert np.allclose(np.sum(P), 1.0) and sum(P >= 0.0) == len(P)\n",
    "        assert np.allclose(np.sum(Q), 1.0) and sum(Q >= 0.0) == len(Q)\n",
    "\n",
    "    epsilon = np.finfo(np.float32).eps\n",
    "    \n",
    "    def kl(p, q):\n",
    "        return np.sum(np.where(p != 0, p * np.log2(p / (q + epsilon)), 0))\n",
    "    \n",
    "    return 0.5 * kl(P, M) + 0.5 * kl(Q, M)\n",
    "    \n",
    "\n",
    "def jenson_shannon_sim(vec_1, vec_2, assert_prob=False):\n",
    "    return 1 - jenson_shannon_divergence(vec_1, vec_2)\n",
    "\n"
   ]
  },
  {
   "cell_type": "code",
   "execution_count": 108,
   "metadata": {
    "deletable": false,
    "editable": false,
    "nbgrader": {
     "cell_type": "code",
     "checksum": "ab340aa941c9fb5c89b3fd0a9139e246",
     "grade": true,
     "grade_id": "cell-487c6d2933f38053",
     "locked": true,
     "points": 5,
     "schema_version": 3,
     "solution": false,
     "task": false
    }
   },
   "outputs": [
    {
     "data": {
      "text/plain": [
       "0.9251069569836876"
      ]
     },
     "execution_count": 108,
     "metadata": {},
     "output_type": "execute_result"
    }
   ],
   "source": [
    "##### Function check\n",
    "vec_1 = [(1, 0.3), (2, 0.4), (3, 0.3)]\n",
    "vec_2 = [(1, 0.1), (2, 0.7), (3, 0.2)]\n",
    "jenson_shannon_sim(vec_1, vec_2, assert_prob=True)\n",
    "##### "
   ]
  },
  {
   "cell_type": "markdown",
   "metadata": {
    "deletable": false,
    "editable": false,
    "nbgrader": {
     "cell_type": "markdown",
     "checksum": "0a1583a5f23e3390038331cce67f5d8e",
     "grade": false,
     "grade_id": "cell-4535cc67a50b80fa",
     "locked": true,
     "schema_version": 3,
     "solution": false,
     "task": false
    }
   },
   "source": [
    "---\n",
    "### Section 7.2: LDA retrieval (5 points) <a class=\"anchor\" id=\"lda_ret\"></a>\n",
    "\n",
    "Implement the `train_model` method in the following class (note that this is only one line of code in `gensim`!). Ensure that the parameters defined in the `__init__` method are not changed, and are *used in the `train_method` function*. You do not need to set this. Normally, the hyperaparameter space will be searched using grid search / other methods. Note that training the LDA model might take some time\n",
    "\n",
    "The last two lines of code train an LDA model on the list of documents which have been stemmed, lower-cased and have stopwords removed. "
   ]
  },
  {
   "cell_type": "code",
   "execution_count": 88,
   "metadata": {
    "deletable": false,
    "nbgrader": {
     "cell_type": "code",
     "checksum": "27de8e4fa85536bb396b73bfc51b3f50",
     "grade": false,
     "grade_id": "cell-021a48dff4a8bb91",
     "locked": false,
     "schema_version": 3,
     "solution": true,
     "task": false
    }
   },
   "outputs": [],
   "source": [
    "# TODO: Implement this! (5 points)\n",
    "class LdaRetrievalModel(VectorSpaceRetrievalModel):\n",
    "    def __init__(self, doc_repr):\n",
    "        super().__init__(doc_repr)\n",
    "        \n",
    "        # use these parameters in the train_model method\n",
    "        self.num_topics = 100\n",
    "        self.chunksize = 2000\n",
    "        self.passes = 20\n",
    "        self.iterations = 400\n",
    "        self.eval_every = 10\n",
    "        # this is need to get full vectors\n",
    "        self.minimum_probability=0.0\n",
    "        self.alpha='auto'\n",
    "        self.eta='auto'\n",
    "    \n",
    "    \n",
    "    def train_model(self):\n",
    "        # YOUR CODE HERE\n",
    "        self.model = LdaModel(\n",
    "            corpus=self.corpus,\n",
    "            id2word=self.id2word,\n",
    "            num_topics=self.num_topics,\n",
    "            chunksize=self.chunksize,\n",
    "            passes=self.passes,\n",
    "            iterations=self.iterations,\n",
    "            eval_every=self.eval_every,\n",
    "            minimum_probability=self.minimum_probability,\n",
    "            alpha=self.alpha,\n",
    "            eta=self.eta,\n",
    "        )"
   ]
  },
  {
   "cell_type": "code",
   "execution_count": 89,
   "metadata": {
    "deletable": false,
    "editable": false,
    "nbgrader": {
     "cell_type": "code",
     "checksum": "be70fcb8098d0b6ce64cd2a10e6a05b7",
     "grade": true,
     "grade_id": "cell-86750b715f0345fd",
     "locked": true,
     "points": 0,
     "schema_version": 3,
     "solution": false,
     "task": false
    }
   },
   "outputs": [
    {
     "name": "stderr",
     "output_type": "stream",
     "text": [
      "2022-02-28 16:17:57,132 : INFO : adding document #0 to Dictionary(0 unique tokens: [])\n",
      "2022-02-28 16:17:57,265 : INFO : built Dictionary(5937 unique tokens: ['-', 'algebra', 'intern', 'languag', 'preliminari']...) from 3204 documents (total 115969 corpus positions)\n",
      "2022-02-28 16:17:57,274 : INFO : discarding 4740 tokens: [('repeat', 8), ('glossari', 7), ('inspect', 8), ('uncol', 2), ('rung', 9), ('secant', 2), ('.', 1603), ('acceler', 6), ('diverg', 3), ('induc', 9)]...\n",
      "2022-02-28 16:17:57,275 : INFO : keeping 1197 tokens which were in no less than 10 and no more than 1602 (=50.0%) documents\n",
      "2022-02-28 16:17:57,278 : INFO : resulting dictionary: Dictionary(1197 unique tokens: ['-', 'algebra', 'intern', 'languag', 'preliminari']...)\n",
      "2022-02-28 16:17:57,355 : INFO : using autotuned alpha, starting with [0.01, 0.01, 0.01, 0.01, 0.01, 0.01, 0.01, 0.01, 0.01, 0.01, 0.01, 0.01, 0.01, 0.01, 0.01, 0.01, 0.01, 0.01, 0.01, 0.01, 0.01, 0.01, 0.01, 0.01, 0.01, 0.01, 0.01, 0.01, 0.01, 0.01, 0.01, 0.01, 0.01, 0.01, 0.01, 0.01, 0.01, 0.01, 0.01, 0.01, 0.01, 0.01, 0.01, 0.01, 0.01, 0.01, 0.01, 0.01, 0.01, 0.01, 0.01, 0.01, 0.01, 0.01, 0.01, 0.01, 0.01, 0.01, 0.01, 0.01, 0.01, 0.01, 0.01, 0.01, 0.01, 0.01, 0.01, 0.01, 0.01, 0.01, 0.01, 0.01, 0.01, 0.01, 0.01, 0.01, 0.01, 0.01, 0.01, 0.01, 0.01, 0.01, 0.01, 0.01, 0.01, 0.01, 0.01, 0.01, 0.01, 0.01, 0.01, 0.01, 0.01, 0.01, 0.01, 0.01, 0.01, 0.01, 0.01, 0.01]\n",
      "2022-02-28 16:17:57,356 : INFO : using serial LDA version on this node\n",
      "2022-02-28 16:17:57,368 : INFO : running online (multi-pass) LDA training, 100 topics, 20 passes over the supplied corpus of 3204 documents, updating model once every 2000 documents, evaluating perplexity every 3204 documents, iterating 400x with a convergence threshold of 0.001000\n",
      "2022-02-28 16:17:57,369 : INFO : PROGRESS: pass 0, at document #2000/3204\n",
      "2022-02-28 16:17:59,160 : INFO : optimized alpha [0.0098138815, 0.009793901, 0.009829865, 0.009809468, 0.0098704975, 0.009834987, 0.0098146405, 0.009793791, 0.009804075, 0.009887819, 0.00978857, 0.009902857, 0.0098823225, 0.009897018, 0.009840811, 0.009844248, 0.009783672, 0.009809344, 0.009799044, 0.009819696, 0.009809712, 0.009824712, 0.00983537, 0.009891487, 0.009814663, 0.009809134, 0.009814548, 0.009861844, 0.009778339, 0.009855545, 0.009851378, 0.009804055, 0.009809765, 0.009866499, 0.009824632, 0.009877411, 0.009897611, 0.009825402, 0.009788674, 0.009778179, 0.009825086, 0.009825184, 0.009794096, 0.009814686, 0.009918911, 0.009804085, 0.009861049, 0.009794591, 0.009809644, 0.009882409, 0.009814456, 0.009788681, 0.009814626, 0.009913003, 0.009803977, 0.009840388, 0.009788578, 0.009855575, 0.009814478, 0.0098091755, 0.00980444, 0.009788634, 0.009777934, 0.009887316, 0.009835206, 0.009809079, 0.009825338, 0.009835035, 0.0097781215, 0.009841115, 0.009799178, 0.009866791, 0.009884242, 0.009887846, 0.009948604, 0.009778306, 0.009907832, 0.009856197, 0.009829871, 0.009788701, 0.009897982, 0.009788475, 0.009835506, 0.009881982, 0.00985076, 0.009796497, 0.009822987, 0.009851222, 0.009783596, 0.009798853, 0.009809249, 0.009778265, 0.009825087, 0.009835233, 0.009814378, 0.009795386, 0.009824663, 0.009798808, 0.009861884, 0.009788792]\n",
      "2022-02-28 16:17:59,167 : INFO : merging changes from 2000 documents into a model of 3204 documents\n",
      "2022-02-28 16:17:59,174 : INFO : topic #75 (0.010): 0.101*\"\"\" + 0.061*\"formula\" + 0.030*\"estim\" + 0.030*\"iter\" + 0.030*\"deriv\" + 0.030*\"error\" + 0.020*\"easi\" + 0.020*\"approxim\" + 0.020*\"compat\" + 0.020*\"class\"\n",
      "2022-02-28 16:17:59,174 : INFO : topic #39 (0.010): 0.049*\"part\" + 0.049*\"techniqu\" + 0.049*\"list\" + 0.049*\"structur\" + 0.049*\"propos\" + 0.039*\"(\" + 0.039*\"polynomi\" + 0.038*\")\" + 0.038*\"algorithm\" + 0.025*\"present\"\n",
      "2022-02-28 16:17:59,175 : INFO : topic #63 (0.010): 0.084*\",\" + 0.047*\"-\" + 0.047*\"program\" + 0.026*\"system\" + 0.018*\"languag\" + 0.016*\"gener\" + 0.012*\"time\" + 0.012*\"(\" + 0.010*\"algorithm\" + 0.010*\"data\"\n",
      "2022-02-28 16:17:59,176 : INFO : topic #13 (0.010): 0.071*\",\" + 0.070*\"(\" + 0.039*\")\" + 0.033*\"program\" + 0.027*\"-\" + 0.023*\"algorithm\" + 0.016*\"estim\" + 0.015*\"languag\" + 0.011*\"system\" + 0.009*\"data\"\n",
      "2022-02-28 16:17:59,176 : INFO : topic #74 (0.010): 0.086*\"(\" + 0.066*\"algorithm\" + 0.062*\")\" + 0.045*\",\" + 0.027*\"input\" + 0.022*\"])\" + 0.020*\"[\" + 0.017*\"-\" + 0.016*\"function\" + 0.015*\"format\"\n",
      "2022-02-28 16:17:59,178 : INFO : topic diff=82.397537, rho=1.000000\n",
      "2022-02-28 16:18:00,369 : INFO : -7.299 per-word bound, 157.5 perplexity estimate based on a held-out corpus of 1204 documents with 49783 words\n",
      "2022-02-28 16:18:00,370 : INFO : PROGRESS: pass 0, at document #3204/3204\n",
      "2022-02-28 16:18:01,187 : INFO : optimized alpha [0.009971779, 0.0099883545, 0.009835563, 0.010039816, 0.010406613, 0.009870607, 0.010121344, 0.009963479, 0.010003274, 0.010330256, 0.009958002, 0.010069628, 0.010060834, 0.009896722, 0.00998247, 0.01005647, 0.010005997, 0.009919901, 0.010003483, 0.009902081, 0.009998065, 0.00984826, 0.009958085, 0.009968861, 0.00992698, 0.009797154, 0.009927509, 0.010147091, 0.009895317, 0.009925184, 0.010201041, 0.00973334, 0.010029178, 0.009872354, 0.009848091, 0.010079788, 0.009973668, 0.009962979, 0.009747376, 0.009661266, 0.010095981, 0.010026301, 0.010018085, 0.009844823, 0.010043607, 0.009756975, 0.010178755, 0.009945684, 0.009939635, 0.010096311, 0.009890734, 0.009888065, 0.00983307, 0.009911804, 0.009727474, 0.010012313, 0.009950112, 0.009954936, 0.009743512, 0.009890913, 0.010247953, 0.0097529255, 0.009865377, 0.009970368, 0.010041627, 0.009961672, 0.010156835, 0.009864056, 0.009620421, 0.009972133, 0.009983062, 0.010015969, 0.009925148, 0.010337035, 0.00993931, 0.009981247, 0.010002286, 0.009850549, 0.009911905, 0.009724238, 0.010059382, 0.010146675, 0.0099786725, 0.010019241, 0.010004891, 0.00991288, 0.009905022, 0.010232357, 0.010052235, 0.009863246, 0.009867351, 0.009806594, 0.010192073, 0.010106412, 0.009971517, 0.009735721, 0.010129784, 0.009763153, 0.0099636465, 0.009999605]\n",
      "2022-02-28 16:18:01,194 : INFO : merging changes from 1204 documents into a model of 3204 documents\n",
      "2022-02-28 16:18:01,201 : INFO : topic #39 (0.010): 0.136*\"structur\" + 0.089*\"propos\" + 0.065*\"part\" + 0.065*\"fact\" + 0.060*\"list\" + 0.057*\"squar\" + 0.051*\"revis\" + 0.044*\")\" + 0.040*\"algorithm\" + 0.039*\"implement\"\n",
      "2022-02-28 16:18:01,202 : INFO : topic #68 (0.010): 0.099*\"(\" + 0.087*\"algorithm\" + 0.086*\")\" + 0.072*\"formal\" + 0.050*\"permut\" + 0.049*\"60\" + 0.045*\"restrict\" + 0.045*\"order\" + 0.041*\"phrase\" + 0.037*\"gener\"\n",
      "2022-02-28 16:18:01,202 : INFO : topic #73 (0.010): 0.061*\",\" + 0.030*\"time\" + 0.029*\"-\" + 0.026*\"comput\" + 0.024*\"program\" + 0.020*\"system\" + 0.019*\"problem\" + 0.015*\"transform\" + 0.014*\"gener\" + 0.014*\"algorithm\"\n",
      "2022-02-28 16:18:01,204 : INFO : topic #9 (0.010): 0.073*\",\" + 0.046*\"-\" + 0.036*\"tree\" + 0.025*\"system\" + 0.020*\"cost\" + 0.018*\"structur\" + 0.017*\"design\" + 0.016*\"search\" + 0.015*\"averag\" + 0.014*\"storag\"\n",
      "2022-02-28 16:18:01,205 : INFO : topic #4 (0.010): 0.203*\"algorithm\" + 0.149*\"(\" + 0.109*\")\" + 0.052*\"$\" + 0.050*\"[\" + 0.041*\"))\" + 0.017*\"-\" + 0.015*\"path\" + 0.015*\"number\" + 0.014*\"plot\"\n",
      "2022-02-28 16:18:01,205 : INFO : topic diff=0.708271, rho=0.707107\n",
      "2022-02-28 16:18:01,213 : INFO : PROGRESS: pass 1, at document #2000/3204\n",
      "2022-02-28 16:18:02,157 : INFO : optimized alpha [0.009955242, 0.009939904, 0.009826734, 0.009992968, 0.011460358, 0.009845819, 0.010094619, 0.010002523, 0.009922023, 0.010217132, 0.009943992, 0.010023162, 0.009987119, 0.009818688, 0.009905179, 0.010047002, 0.009962022, 0.009859131, 0.009938344, 0.0098261135, 0.009909453, 0.00980238, 0.009846248, 0.009921536, 0.009916926, 0.00972358, 0.010040362, 0.010063404, 0.009840226, 0.009854006, 0.010205966, 0.009697299, 0.009942586, 0.009813785, 0.009807359, 0.009998144, 0.009907404, 0.009886146, 0.00969011, 0.009817039, 0.0100183785, 0.009939394, 0.00993665, 0.00980216, 0.009992238, 0.009684283, 0.01008281, 0.009958208, 0.009879374, 0.010016613, 0.009873147, 0.009870181, 0.00975865, 0.009841383, 0.009704501, 0.009985041, 0.009885593, 0.00998172, 0.009715238, 0.009843841, 0.01021073, 0.009744566, 0.009873742, 0.009877621, 0.010115475, 0.009883919, 0.010213858, 0.009891659, 0.009868537, 0.009881976, 0.009945781, 0.009932676, 0.009849474, 0.010237943, 0.010153557, 0.010101538, 0.00990863, 0.009784356, 0.009909936, 0.009868932, 0.00996471, 0.010037354, 0.009917826, 0.00997096, 0.00993764, 0.009878514, 0.01003819, 0.010168422, 0.009999401, 0.009856477, 0.009841852, 0.009789709, 0.010167303, 0.010031264, 0.009957514, 0.00971208, 0.010064136, 0.009757704, 0.009868434, 0.010064733]\n",
      "2022-02-28 16:18:02,164 : INFO : merging changes from 2000 documents into a model of 3204 documents\n",
      "2022-02-28 16:18:02,171 : INFO : topic #31 (0.010): 0.069*\"curv\" + 0.057*\"fit\" + 0.051*\"-\" + 0.047*\"method\" + 0.040*\"problem\" + 0.033*\"techniqu\" + 0.031*\"recurs\" + 0.027*\"regular\" + 0.026*\"solv\" + 0.021*\"(\"\n",
      "2022-02-28 16:18:02,172 : INFO : topic #38 (0.010): 0.076*\",\" + 0.049*\"high\" + 0.047*\"minim\" + 0.025*\"oper\" + 0.025*\"system\" + 0.025*\"achiev\" + 0.023*\"divis\" + 0.023*\"version\" + 0.022*\"program\" + 0.021*\"choos\"\n",
      "2022-02-28 16:18:02,173 : INFO : topic #9 (0.010): 0.069*\",\" + 0.046*\"-\" + 0.030*\"tree\" + 0.027*\"system\" + 0.018*\"cost\" + 0.017*\"structur\" + 0.017*\"design\" + 0.015*\"search\" + 0.015*\"storag\" + 0.014*\"method\"\n",
      "2022-02-28 16:18:02,173 : INFO : topic #73 (0.010): 0.060*\",\" + 0.031*\"-\" + 0.031*\"time\" + 0.029*\"comput\" + 0.027*\"program\" + 0.022*\"system\" + 0.019*\"problem\" + 0.015*\"transform\" + 0.015*\"gener\" + 0.013*\"algorithm\"\n",
      "2022-02-28 16:18:02,174 : INFO : topic #4 (0.011): 0.214*\"algorithm\" + 0.195*\"(\" + 0.128*\")\" + 0.070*\"[\" + 0.048*\"])\" + 0.022*\"$\" + 0.017*\"polynomi\" + 0.016*\"-\" + 0.016*\"))\" + 0.013*\"number\"\n",
      "2022-02-28 16:18:02,174 : INFO : topic diff=0.305096, rho=0.526900\n",
      "2022-02-28 16:18:03,258 : INFO : -6.903 per-word bound, 119.7 perplexity estimate based on a held-out corpus of 1204 documents with 49783 words\n",
      "2022-02-28 16:18:03,259 : INFO : PROGRESS: pass 1, at document #3204/3204\n",
      "2022-02-28 16:18:04,108 : INFO : optimized alpha [0.010112014, 0.010138802, 0.009854295, 0.0101880925, 0.012260196, 0.009992264, 0.010442439, 0.0102622975, 0.010185709, 0.010441895, 0.010233662, 0.010143464, 0.010057692, 0.009808028, 0.009993156, 0.010223587, 0.010168375, 0.009999098, 0.010131266, 0.009945495, 0.010028074, 0.0098649375, 0.010012484, 0.010001625, 0.010014214, 0.009808611, 0.010221447, 0.0102456715, 0.009975854, 0.009955349, 0.010460945, 0.009734268, 0.010066757, 0.009859338, 0.0098526245, 0.010126839, 0.009955874, 0.009953949, 0.009778527, 0.009873258, 0.010212626, 0.010067146, 0.010126369, 0.009887495, 0.010036297, 0.009768887, 0.010334519, 0.010180834, 0.010055907, 0.010082221, 0.009969706, 0.01005825, 0.009839971, 0.00989538, 0.009673083, 0.010108889, 0.010120203, 0.010126624, 0.009683165, 0.009940581, 0.010631251, 0.009819241, 0.009960817, 0.00991887, 0.010341582, 0.010116646, 0.010487134, 0.0099576255, 0.009845983, 0.009971514, 0.010194183, 0.009972987, 0.009886206, 0.010467719, 0.010157392, 0.010458483, 0.009931552, 0.009800531, 0.010033076, 0.009929353, 0.009974161, 0.010368453, 0.010047032, 0.010109215, 0.010061877, 0.010040474, 0.010119511, 0.010437732, 0.01022757, 0.010005136, 0.010012094, 0.009881296, 0.010404516, 0.010229993, 0.010158224, 0.009756781, 0.01033831, 0.009802823, 0.009905245, 0.010226752]\n",
      "2022-02-28 16:18:04,116 : INFO : merging changes from 1204 documents into a model of 3204 documents\n",
      "2022-02-28 16:18:04,124 : INFO : topic #54 (0.010): 0.123*\"imag\" + 0.097*\"digit\" + 0.076*\"reconstruct\" + 0.052*\"comput\" + 0.040*\"project\" + 0.035*\"gener\" + 0.034*\"algorithm\" + 0.033*\"light\" + 0.032*\"-\" + 0.030*\"techniqu\"\n",
      "2022-02-28 16:18:04,125 : INFO : topic #58 (0.010): 0.065*\"function\" + 0.060*\"recognit\" + 0.051*\",\" + 0.044*\"gamma\" + 0.041*\"subject\" + 0.036*\"s14\" + 0.034*\"sentenc\" + 0.030*\"languag\" + 0.023*\"remov\" + 0.021*\"correctli\"\n",
      "2022-02-28 16:18:04,125 : INFO : topic #73 (0.010): 0.067*\",\" + 0.032*\"time\" + 0.029*\"comput\" + 0.028*\"-\" + 0.025*\"program\" + 0.021*\"problem\" + 0.018*\"system\" + 0.018*\"transform\" + 0.015*\"game\" + 0.013*\"gener\"\n",
      "2022-02-28 16:18:04,126 : INFO : topic #60 (0.011): 0.051*\",\" + 0.047*\"page\" + 0.044*\"system\" + 0.041*\"model\" + 0.034*\"measur\" + 0.034*\"memori\" + 0.033*\"program\" + 0.032*\"time\" + 0.029*\"perform\" + 0.026*\"multiprogram\"\n",
      "2022-02-28 16:18:04,126 : INFO : topic #4 (0.012): 0.232*\"algorithm\" + 0.206*\"(\" + 0.148*\")\" + 0.066*\"[\" + 0.034*\"$\" + 0.028*\"))\" + 0.021*\"])\" + 0.018*\"-\" + 0.013*\"number\" + 0.012*\"polynomi\"\n",
      "2022-02-28 16:18:04,127 : INFO : topic diff=0.410654, rho=0.526900\n",
      "2022-02-28 16:18:04,136 : INFO : PROGRESS: pass 2, at document #2000/3204\n",
      "2022-02-28 16:18:05,177 : INFO : optimized alpha [0.010105934, 0.0101520205, 0.009882372, 0.010164424, 0.013535623, 0.0099979965, 0.010493428, 0.010321548, 0.010142533, 0.010337642, 0.010256826, 0.01011431, 0.009988837, 0.009737617, 0.009942142, 0.0102479635, 0.010139792, 0.009945031, 0.010098896, 0.009906923, 0.009959703, 0.00984616, 0.009918171, 0.009974619, 0.010033704, 0.009800044, 0.010350827, 0.010177931, 0.009943113, 0.009904628, 0.01049278, 0.009733391, 0.010021486, 0.009827527, 0.009841079, 0.010054848, 0.009915186, 0.009889848, 0.009781355, 0.010070568, 0.0101692425, 0.009985996, 0.010084273, 0.009883078, 0.009994374, 0.009737659, 0.010259331, 0.0102234585, 0.010023073, 0.01002494, 0.009977604, 0.010116472, 0.009800776, 0.009832185, 0.009718497, 0.010103618, 0.010079893, 0.010201823, 0.009653208, 0.009915705, 0.010623118, 0.00988338, 0.01004583, 0.009853157, 0.01043988, 0.010057876, 0.010550897, 0.01007175, 0.010161492, 0.009907174, 0.0101924995, 0.009913103, 0.00985161, 0.0103881825, 0.010344516, 0.010665175, 0.009865425, 0.009778962, 0.010077792, 0.0101258615, 0.009910033, 0.010272428, 0.01001714, 0.010109391, 0.010014579, 0.0100163035, 0.010299661, 0.010388263, 0.010219881, 0.009993164, 0.010042542, 0.009877783, 0.010432062, 0.010166942, 0.01017744, 0.009777788, 0.010296767, 0.00981925, 0.009821149, 0.010303146]\n",
      "2022-02-28 16:18:05,187 : INFO : merging changes from 2000 documents into a model of 3204 documents\n",
      "2022-02-28 16:18:05,196 : INFO : topic #58 (0.010): 0.064*\"recognit\" + 0.060*\"function\" + 0.055*\",\" + 0.050*\"s14\" + 0.045*\"gamma\" + 0.040*\"sentenc\" + 0.032*\"subject\" + 0.030*\"languag\" + 0.024*\"procedur\" + 0.021*\"compil\"\n",
      "2022-02-28 16:18:05,197 : INFO : topic #54 (0.010): 0.159*\"digit\" + 0.086*\"imag\" + 0.081*\"comput\" + 0.049*\"reconstruct\" + 0.040*\"-\" + 0.038*\"gener\" + 0.037*\"techniqu\" + 0.033*\"element\" + 0.030*\"project\" + 0.028*\"electron\"\n",
      "2022-02-28 16:18:05,198 : INFO : topic #60 (0.011): 0.051*\",\" + 0.047*\"system\" + 0.046*\"page\" + 0.040*\"model\" + 0.036*\"program\" + 0.035*\"time\" + 0.032*\"measur\" + 0.032*\"memori\" + 0.028*\"perform\" + 0.027*\"multiprogram\"\n",
      "2022-02-28 16:18:05,199 : INFO : topic #75 (0.011): 0.274*\"\"\" + 0.072*\"formula\" + 0.070*\"note\" + 0.051*\"'\" + 0.047*\"iter\" + 0.028*\"read\" + 0.028*\"class\" + 0.025*\"estim\" + 0.022*\"valid\" + 0.019*\"requir\"\n",
      "2022-02-28 16:18:05,199 : INFO : topic #4 (0.014): 0.226*\"algorithm\" + 0.216*\"(\" + 0.139*\")\" + 0.082*\"[\" + 0.059*\"])\" + 0.020*\"$\" + 0.018*\"-\" + 0.015*\"))\" + 0.015*\"polynomi\" + 0.011*\"number\"\n",
      "2022-02-28 16:18:05,200 : INFO : topic diff=0.385170, rho=0.466151\n",
      "2022-02-28 16:18:06,267 : INFO : -6.780 per-word bound, 109.9 perplexity estimate based on a held-out corpus of 1204 documents with 49783 words\n",
      "2022-02-28 16:18:06,268 : INFO : PROGRESS: pass 2, at document #3204/3204\n",
      "2022-02-28 16:18:07,110 : INFO : optimized alpha [0.010252971, 0.010349469, 0.009926461, 0.010350197, 0.014424052, 0.010195213, 0.010840399, 0.010599048, 0.010394614, 0.010509226, 0.01058504, 0.01022938, 0.010071856, 0.009761553, 0.010028514, 0.01046577, 0.010331547, 0.010077359, 0.010262915, 0.01001339, 0.01005392, 0.009902161, 0.010077769, 0.010065892, 0.010151572, 0.009910511, 0.0105320085, 0.010316039, 0.0100791035, 0.010022475, 0.010758105, 0.009812458, 0.010139878, 0.00989964, 0.009905094, 0.010193245, 0.009974779, 0.009931423, 0.009890639, 0.010149768, 0.010318478, 0.010087751, 0.010253042, 0.009997984, 0.010058071, 0.009813232, 0.010484059, 0.0104183685, 0.010196096, 0.010091822, 0.010098391, 0.010311639, 0.009900512, 0.009904342, 0.009721953, 0.0102211265, 0.010332882, 0.010374566, 0.009653514, 0.010005792, 0.011075319, 0.009960906, 0.010126769, 0.009898812, 0.010699088, 0.010309186, 0.010749939, 0.010216773, 0.010176638, 0.009983333, 0.010446346, 0.009946237, 0.009900774, 0.010547557, 0.01037071, 0.011106496, 0.009868218, 0.00981011, 0.010238363, 0.0102130165, 0.009959584, 0.010577035, 0.0101439115, 0.01023658, 0.010152759, 0.010200063, 0.010378319, 0.010612228, 0.010439699, 0.010168616, 0.010205738, 0.0099975895, 0.010668539, 0.010395815, 0.010391939, 0.009867025, 0.010598338, 0.009917092, 0.009836074, 0.010442738]\n",
      "2022-02-28 16:18:07,118 : INFO : merging changes from 1204 documents into a model of 3204 documents\n",
      "2022-02-28 16:18:07,125 : INFO : topic #58 (0.010): 0.078*\"recognit\" + 0.071*\"function\" + 0.050*\",\" + 0.050*\"subject\" + 0.046*\"gamma\" + 0.044*\"s14\" + 0.028*\"remov\" + 0.027*\"reflect\" + 0.024*\"sentenc\" + 0.023*\"languag\"\n",
      "2022-02-28 16:18:07,126 : INFO : topic #54 (0.010): 0.157*\"digit\" + 0.118*\"imag\" + 0.069*\"comput\" + 0.066*\"reconstruct\" + 0.041*\"techniqu\" + 0.040*\"project\" + 0.037*\"gener\" + 0.033*\"-\" + 0.032*\"light\" + 0.031*\"element\"\n",
      "2022-02-28 16:18:07,126 : INFO : topic #60 (0.011): 0.054*\"system\" + 0.054*\",\" + 0.048*\"page\" + 0.047*\"model\" + 0.039*\"memori\" + 0.035*\"measur\" + 0.034*\"perform\" + 0.034*\"time\" + 0.030*\"program\" + 0.026*\"multiprogram\"\n",
      "2022-02-28 16:18:07,127 : INFO : topic #75 (0.011): 0.338*\"\"\" + 0.061*\"'\" + 0.061*\"note\" + 0.059*\"formula\" + 0.032*\"iter\" + 0.031*\"read\" + 0.030*\"class\" + 0.024*\"estim\" + 0.024*\"valid\" + 0.021*\"requir\"\n",
      "2022-02-28 16:18:07,128 : INFO : topic #4 (0.014): 0.239*\"algorithm\" + 0.221*\"(\" + 0.152*\")\" + 0.075*\"[\" + 0.032*\"])\" + 0.030*\"$\" + 0.025*\"))\" + 0.018*\"-\" + 0.012*\"polynomi\" + 0.011*\"number\"\n",
      "2022-02-28 16:18:07,129 : INFO : topic diff=0.510376, rho=0.466151\n",
      "2022-02-28 16:18:07,138 : INFO : PROGRESS: pass 3, at document #2000/3204\n",
      "2022-02-28 16:18:07,982 : INFO : optimized alpha [0.010259954, 0.010371351, 0.009973571, 0.0103430655, 0.015827047, 0.010221008, 0.010912184, 0.010674027, 0.010377735, 0.0104233995, 0.010641487, 0.01021171, 0.010019087, 0.009703899, 0.009995791, 0.010509084, 0.010319801, 0.0100453505, 0.010237196, 0.009993579, 0.009992761, 0.009900607, 0.010005003, 0.010054613, 0.010186346, 0.009923906, 0.010661433, 0.010252375, 0.010070437, 0.009985236, 0.010796856, 0.009820255, 0.010114, 0.009877688, 0.00988883, 0.010136803, 0.009947226, 0.00987281, 0.009912049, 0.010357332, 0.01030067, 0.010021466, 0.010222808, 0.010000195, 0.0100361, 0.009785509, 0.010418617, 0.010462869, 0.010206858, 0.01003676, 0.010120434, 0.010383516, 0.009899114, 0.009856467, 0.009780675, 0.010222719, 0.010307262, 0.01046698, 0.009634156, 0.009994197, 0.011072499, 0.010051108, 0.010221666, 0.009847256, 0.010810842, 0.01027351, 0.010798051, 0.010403957, 0.010499547, 0.00993672, 0.010474167, 0.009908687, 0.009880993, 0.0104797045, 0.010531321, 0.011354695, 0.009823303, 0.009802096, 0.010302198, 0.01042425, 0.00992423, 0.010509037, 0.010142708, 0.010238862, 0.0101184165, 0.010181434, 0.010570094, 0.010572395, 0.010446783, 0.010165308, 0.01025236, 0.010015361, 0.010740072, 0.010341287, 0.010421146, 0.009905016, 0.010575708, 0.009957056, 0.009770827, 0.010552009]\n",
      "2022-02-28 16:18:07,990 : INFO : merging changes from 2000 documents into a model of 3204 documents\n",
      "2022-02-28 16:18:07,996 : INFO : topic #58 (0.010): 0.076*\"recognit\" + 0.065*\"function\" + 0.058*\"s14\" + 0.054*\",\" + 0.047*\"gamma\" + 0.042*\"subject\" + 0.031*\"sentenc\" + 0.029*\"procedur\" + 0.024*\"languag\" + 0.024*\"subscript\"\n",
      "2022-02-28 16:18:07,997 : INFO : topic #13 (0.010): 0.100*\"(\" + 0.072*\",\" + 0.057*\")\" + 0.036*\"program\" + 0.028*\"-\" + 0.025*\"1\" + 0.025*\"compon\" + 0.021*\"estim\" + 0.019*\"),\" + 0.016*\"obtain\"\n",
      "2022-02-28 16:18:07,998 : INFO : topic #60 (0.011): 0.057*\"system\" + 0.054*\",\" + 0.047*\"page\" + 0.047*\"model\" + 0.036*\"memori\" + 0.035*\"time\" + 0.034*\"measur\" + 0.033*\"perform\" + 0.032*\"program\" + 0.027*\"multiprogram\"\n",
      "2022-02-28 16:18:07,998 : INFO : topic #75 (0.011): 0.328*\"\"\" + 0.070*\"note\" + 0.069*\"formula\" + 0.057*\"'\" + 0.042*\"iter\" + 0.029*\"read\" + 0.025*\"class\" + 0.024*\"estim\" + 0.021*\"process\" + 0.018*\"valid\"\n",
      "2022-02-28 16:18:07,999 : INFO : topic #4 (0.016): 0.231*\"algorithm\" + 0.224*\"(\" + 0.142*\")\" + 0.086*\"[\" + 0.062*\"])\" + 0.020*\"$\" + 0.018*\"-\" + 0.015*\"))\" + 0.014*\"polynomi\" + 0.010*\"gener\"\n",
      "2022-02-28 16:18:08,000 : INFO : topic diff=0.525384, rho=0.422502\n",
      "2022-02-28 16:18:09,117 : INFO : -6.704 per-word bound, 104.3 perplexity estimate based on a held-out corpus of 1204 documents with 49783 words\n",
      "2022-02-28 16:18:09,119 : INFO : PROGRESS: pass 3, at document #3204/3204\n",
      "2022-02-28 16:18:09,994 : INFO : optimized alpha [0.010393987, 0.0105667785, 0.010017301, 0.010505301, 0.01674715, 0.010456093, 0.011253076, 0.010956387, 0.010627426, 0.010576318, 0.010997721, 0.010309547, 0.010109723, 0.00975147, 0.010092679, 0.010746358, 0.010487662, 0.010183791, 0.010383245, 0.010105002, 0.010089792, 0.009959184, 0.010150875, 0.010145063, 0.010326161, 0.010049342, 0.010830629, 0.010378536, 0.010219435, 0.010117764, 0.011079287, 0.009906114, 0.010218373, 0.00996843, 0.009975643, 0.010270457, 0.010019934, 0.009915341, 0.010042996, 0.010467927, 0.010455203, 0.01011099, 0.010365966, 0.010154804, 0.010108985, 0.009858163, 0.010631572, 0.010641133, 0.010390492, 0.010119896, 0.010248377, 0.010591373, 0.010004143, 0.009950897, 0.009804937, 0.010300813, 0.010543081, 0.010651128, 0.0096529825, 0.01008391, 0.011494028, 0.010156563, 0.010331062, 0.009889917, 0.011045721, 0.010540792, 0.010972001, 0.0105844205, 0.0105282115, 0.010020773, 0.010729728, 0.00995406, 0.009940614, 0.010636119, 0.010606638, 0.011802577, 0.009845158, 0.0098455325, 0.010459503, 0.010524054, 0.0099878805, 0.010777739, 0.010261931, 0.0103622, 0.010233704, 0.010378508, 0.010666222, 0.0107657425, 0.010666699, 0.010322126, 0.010412316, 0.010152746, 0.010983723, 0.010554457, 0.010658092, 0.010007288, 0.010883444, 0.010085119, 0.009786261, 0.01067886]\n",
      "2022-02-28 16:18:10,001 : INFO : merging changes from 1204 documents into a model of 3204 documents\n",
      "2022-02-28 16:18:10,008 : INFO : topic #58 (0.010): 0.083*\"recognit\" + 0.078*\"function\" + 0.065*\"subject\" + 0.052*\",\" + 0.051*\"gamma\" + 0.049*\"s14\" + 0.033*\"remov\" + 0.029*\"reflect\" + 0.029*\"procedur\" + 0.022*\"situat\"\n",
      "2022-02-28 16:18:10,009 : INFO : topic #98 (0.010): 0.070*\",\" + 0.038*\"shift\" + 0.036*\"text\" + 0.027*\"memori\" + 0.025*\"code\" + 0.022*\"capabl\" + 0.018*\"machin\" + 0.018*\"(\" + 0.016*\"-\" + 0.015*\";\"\n",
      "2022-02-28 16:18:10,010 : INFO : topic #60 (0.011): 0.062*\"system\" + 0.056*\",\" + 0.050*\"model\" + 0.049*\"page\" + 0.041*\"memori\" + 0.038*\"perform\" + 0.036*\"measur\" + 0.034*\"time\" + 0.028*\"program\" + 0.026*\"multiprogram\"\n",
      "2022-02-28 16:18:10,011 : INFO : topic #75 (0.012): 0.373*\"\"\" + 0.063*\"'\" + 0.061*\"note\" + 0.059*\"formula\" + 0.031*\"read\" + 0.031*\"iter\" + 0.027*\"class\" + 0.023*\"estim\" + 0.021*\"valid\" + 0.020*\"process\"\n",
      "2022-02-28 16:18:10,011 : INFO : topic #4 (0.017): 0.239*\"algorithm\" + 0.228*\"(\" + 0.155*\")\" + 0.080*\"[\" + 0.038*\"])\" + 0.028*\"$\" + 0.024*\"))\" + 0.019*\"-\" + 0.012*\"complex\" + 0.012*\"polynomi\"\n",
      "2022-02-28 16:18:10,012 : INFO : topic diff=0.639289, rho=0.422502\n",
      "2022-02-28 16:18:10,020 : INFO : PROGRESS: pass 4, at document #2000/3204\n",
      "2022-02-28 16:18:10,991 : INFO : optimized alpha [0.010414313, 0.010602705, 0.010100396, 0.010502278, 0.018258605, 0.010486886, 0.011331308, 0.011031155, 0.010622487, 0.010495219, 0.011084384, 0.010307834, 0.01007168, 0.0097189555, 0.010080574, 0.010806495, 0.01048019, 0.010170044, 0.0103652235, 0.010102678, 0.010036061, 0.009971949, 0.010097665, 0.010144954, 0.010380267, 0.01009098, 0.010968139, 0.010334374, 0.010224964, 0.010085306, 0.011122276, 0.009927023, 0.01020069, 0.009954356, 0.009968776, 0.010228474, 0.0100069195, 0.009862848, 0.01008601, 0.010693292, 0.0104342, 0.010064598, 0.010354036, 0.0101622315, 0.010095254, 0.009837006, 0.010574192, 0.010692054, 0.010430288, 0.010086007, 0.010282672, 0.010665587, 0.010008881, 0.009911149, 0.009876985, 0.0103107365, 0.010523922, 0.01076185, 0.009641968, 0.0100873625, 0.011498734, 0.010252212, 0.010457604, 0.0098437425, 0.011164184, 0.010532577, 0.011020141, 0.010806025, 0.010849575, 0.009972464, 0.01076874, 0.009936074, 0.009932895, 0.0105796885, 0.010768868, 0.012068134, 0.009816931, 0.009860258, 0.010524343, 0.010724216, 0.00996206, 0.01072339, 0.010274955, 0.010366336, 0.010204205, 0.010368419, 0.010878831, 0.010747047, 0.010697087, 0.010318589, 0.010459109, 0.0101846475, 0.011079442, 0.010519305, 0.010702503, 0.010065724, 0.010876849, 0.010133718, 0.009732077, 0.010795075]\n",
      "2022-02-28 16:18:10,998 : INFO : merging changes from 2000 documents into a model of 3204 documents\n",
      "2022-02-28 16:18:11,006 : INFO : topic #58 (0.010): 0.080*\"recognit\" + 0.074*\"function\" + 0.060*\"s14\" + 0.055*\"gamma\" + 0.054*\",\" + 0.052*\"subject\" + 0.031*\"procedur\" + 0.026*\"sentenc\" + 0.025*\"subscript\" + 0.023*\"remov\"\n",
      "2022-02-28 16:18:11,007 : INFO : topic #13 (0.010): 0.113*\"(\" + 0.072*\",\" + 0.063*\")\" + 0.033*\"program\" + 0.028*\"1\" + 0.028*\"compon\" + 0.028*\"-\" + 0.024*\"),\" + 0.021*\"estim\" + 0.016*\"knowledg\"\n",
      "2022-02-28 16:18:11,008 : INFO : topic #60 (0.011): 0.064*\"system\" + 0.056*\",\" + 0.050*\"model\" + 0.049*\"page\" + 0.039*\"memori\" + 0.037*\"perform\" + 0.035*\"time\" + 0.034*\"measur\" + 0.030*\"program\" + 0.027*\"multiprogram\"\n",
      "2022-02-28 16:18:11,008 : INFO : topic #75 (0.012): 0.364*\"\"\" + 0.068*\"note\" + 0.067*\"formula\" + 0.059*\"'\" + 0.040*\"iter\" + 0.030*\"read\" + 0.023*\"estim\" + 0.023*\"process\" + 0.023*\"class\" + 0.017*\"requir\"\n",
      "2022-02-28 16:18:11,009 : INFO : topic #4 (0.018): 0.232*\"algorithm\" + 0.229*\"(\" + 0.144*\")\" + 0.090*\"[\" + 0.064*\"])\" + 0.020*\"$\" + 0.018*\"-\" + 0.015*\"))\" + 0.014*\"polynomi\" + 0.011*\"complex\"\n",
      "2022-02-28 16:18:11,010 : INFO : topic diff=0.626450, rho=0.389191\n",
      "2022-02-28 16:18:12,073 : INFO : -6.645 per-word bound, 100.1 perplexity estimate based on a held-out corpus of 1204 documents with 49783 words\n",
      "2022-02-28 16:18:12,074 : INFO : PROGRESS: pass 4, at document #3204/3204\n",
      "2022-02-28 16:18:12,975 : INFO : optimized alpha [0.01054868, 0.010805662, 0.010163542, 0.010638986, 0.019162323, 0.010703261, 0.01164095, 0.011302985, 0.010866091, 0.010633697, 0.011438703, 0.0103918575, 0.010169283, 0.009789229, 0.010180501, 0.011053268, 0.010656713, 0.010305269, 0.010507587, 0.010219177, 0.010136369, 0.010033103, 0.010249584, 0.01023562, 0.010516753, 0.010223865, 0.011135967, 0.010465073, 0.010379783, 0.010215105, 0.011405191, 0.010006736, 0.010304367, 0.010048441, 0.0100525515, 0.010369441, 0.010091071, 0.009906387, 0.010243602, 0.0108225625, 0.010594934, 0.010154481, 0.010476702, 0.010315724, 0.0101830065, 0.009904767, 0.010782567, 0.010854195, 0.010618282, 0.010176542, 0.0104282675, 0.010866228, 0.010112932, 0.010008827, 0.00991242, 0.01039677, 0.010740299, 0.010971813, 0.009685503, 0.01018373, 0.011919614, 0.010356359, 0.01059602, 0.009897126, 0.011419902, 0.010786128, 0.011192573, 0.011013221, 0.010876254, 0.010053982, 0.011014789, 0.009998138, 0.009991894, 0.010721276, 0.0108518815, 0.012559168, 0.009844788, 0.009920421, 0.010673772, 0.010832868, 0.010041443, 0.010991246, 0.010392344, 0.010463755, 0.0102979345, 0.010558762, 0.010984253, 0.010923246, 0.0109232785, 0.010457577, 0.010631618, 0.010318845, 0.011339788, 0.010752219, 0.010923638, 0.010179965, 0.011197133, 0.010265949, 0.0097574135, 0.0109263025]\n",
      "2022-02-28 16:18:12,983 : INFO : merging changes from 1204 documents into a model of 3204 documents\n",
      "2022-02-28 16:18:12,991 : INFO : topic #58 (0.010): 0.086*\"recognit\" + 0.084*\"function\" + 0.076*\"subject\" + 0.059*\"gamma\" + 0.052*\",\" + 0.049*\"s14\" + 0.033*\"remov\" + 0.032*\"procedur\" + 0.028*\"reflect\" + 0.021*\"situat\"\n",
      "2022-02-28 16:18:12,992 : INFO : topic #13 (0.010): 0.126*\"(\" + 0.072*\",\" + 0.069*\")\" + 0.036*\"compon\" + 0.035*\"1\" + 0.032*\"),\" + 0.029*\"program\" + 0.027*\"-\" + 0.020*\"knowledg\" + 0.019*\").\"\n",
      "2022-02-28 16:18:12,993 : INFO : topic #60 (0.012): 0.067*\"system\" + 0.057*\",\" + 0.052*\"model\" + 0.050*\"page\" + 0.042*\"memori\" + 0.041*\"perform\" + 0.036*\"measur\" + 0.033*\"time\" + 0.027*\"multiprogram\" + 0.027*\"program\"\n",
      "2022-02-28 16:18:12,994 : INFO : topic #75 (0.013): 0.404*\"\"\" + 0.063*\"'\" + 0.060*\"note\" + 0.059*\"formula\" + 0.031*\"read\" + 0.030*\"iter\" + 0.024*\"class\" + 0.022*\"estim\" + 0.022*\"process\" + 0.019*\"valid\"\n",
      "2022-02-28 16:18:12,995 : INFO : topic #4 (0.019): 0.239*\"algorithm\" + 0.231*\"(\" + 0.155*\")\" + 0.085*\"[\" + 0.042*\"])\" + 0.028*\"$\" + 0.023*\"))\" + 0.019*\"-\" + 0.012*\"complex\" + 0.012*\"polynomi\"\n",
      "2022-02-28 16:18:12,996 : INFO : topic diff=0.694700, rho=0.389191\n",
      "2022-02-28 16:18:13,005 : INFO : PROGRESS: pass 5, at document #2000/3204\n",
      "2022-02-28 16:18:13,932 : INFO : optimized alpha [0.010567388, 0.010848311, 0.01025842, 0.010633855, 0.020791924, 0.010727186, 0.01172165, 0.01138456, 0.010862029, 0.010562225, 0.011535398, 0.010390531, 0.010149079, 0.009773909, 0.010174968, 0.011118897, 0.010651022, 0.010290227, 0.010492387, 0.010231918, 0.010088535, 0.01006017, 0.010208967, 0.010248843, 0.010584386, 0.010279487, 0.0112696905, 0.010421873, 0.0103939455, 0.010182835, 0.011460719, 0.010028273, 0.0102918465, 0.010037387, 0.01005362, 0.010335831, 0.010088359, 0.009860502, 0.010298356, 0.0110332025, 0.0105884075, 0.010120995, 0.010478836, 0.010337285, 0.010177921, 0.009887364, 0.010733679, 0.010903458, 0.010678257, 0.010154657, 0.010469579, 0.010941286, 0.010124807, 0.009979373, 0.009989354, 0.010415777, 0.010721127, 0.011115685, 0.009681219, 0.010207466, 0.011922574, 0.010451978, 0.010732829, 0.009853248, 0.01153934, 0.010782778, 0.011243188, 0.01123891, 0.011188914, 0.010015189, 0.011064285, 0.009981911, 0.009999914, 0.010666557, 0.011012751, 0.012837344, 0.0098339375, 0.009936522, 0.010738124, 0.011022653, 0.010021454, 0.010940472, 0.010413917, 0.01048706, 0.010283894, 0.010552244, 0.011217766, 0.010907111, 0.010968716, 0.010459622, 0.010688462, 0.010359752, 0.011447882, 0.010725691, 0.010960304, 0.010243917, 0.011190549, 0.010328017, 0.009715559, 0.011051507]\n",
      "2022-02-28 16:18:13,939 : INFO : merging changes from 2000 documents into a model of 3204 documents\n",
      "2022-02-28 16:18:13,945 : INFO : topic #98 (0.010): 0.073*\",\" + 0.040*\"text\" + 0.031*\"code\" + 0.031*\"shift\" + 0.026*\"memori\" + 0.025*\"machin\" + 0.022*\"capabl\" + 0.017*\"(\" + 0.016*\"extens\" + 0.016*\"-\"\n",
      "2022-02-28 16:18:13,946 : INFO : topic #58 (0.010): 0.082*\"recognit\" + 0.082*\"function\" + 0.063*\"gamma\" + 0.060*\"subject\" + 0.059*\"s14\" + 0.054*\",\" + 0.034*\"procedur\" + 0.025*\"remov\" + 0.024*\"subscript\" + 0.024*\"sentenc\"\n",
      "2022-02-28 16:18:13,947 : INFO : topic #60 (0.012): 0.069*\"system\" + 0.057*\",\" + 0.052*\"model\" + 0.050*\"page\" + 0.041*\"perform\" + 0.040*\"memori\" + 0.035*\"measur\" + 0.034*\"time\" + 0.029*\"program\" + 0.028*\"multiprogram\"\n",
      "2022-02-28 16:18:13,947 : INFO : topic #75 (0.013): 0.393*\"\"\" + 0.067*\"formula\" + 0.066*\"note\" + 0.059*\"'\" + 0.037*\"iter\" + 0.030*\"read\" + 0.025*\"process\" + 0.022*\"estim\" + 0.021*\"class\" + 0.016*\"suggest\"\n",
      "2022-02-28 16:18:13,948 : INFO : topic #4 (0.021): 0.233*\"algorithm\" + 0.231*\"(\" + 0.145*\")\" + 0.094*\"[\" + 0.066*\"])\" + 0.020*\"$\" + 0.018*\"-\" + 0.016*\"))\" + 0.014*\"polynomi\" + 0.012*\"complex\"\n",
      "2022-02-28 16:18:13,949 : INFO : topic diff=0.639757, rho=0.362690\n",
      "2022-02-28 16:18:15,016 : INFO : -6.602 per-word bound, 97.1 perplexity estimate based on a held-out corpus of 1204 documents with 49783 words\n",
      "2022-02-28 16:18:15,017 : INFO : PROGRESS: pass 5, at document #3204/3204\n",
      "2022-02-28 16:18:15,935 : INFO : optimized alpha [0.010687077, 0.011062606, 0.010335905, 0.01074938, 0.021729652, 0.010937947, 0.0120117655, 0.0116700055, 0.011092112, 0.0107085565, 0.01191561, 0.010469598, 0.010244029, 0.009852011, 0.010271959, 0.011386411, 0.010823529, 0.01043584, 0.0106388135, 0.010356845, 0.010176796, 0.01014211, 0.010351769, 0.010321497, 0.01072534, 0.010435594, 0.011427426, 0.010551003, 0.010542552, 0.010314171, 0.011718507, 0.010099957, 0.010386087, 0.010141167, 0.010141471, 0.010461939, 0.0101644, 0.009905112, 0.010449802, 0.011160528, 0.0107428655, 0.010211647, 0.010577975, 0.010484803, 0.010269632, 0.009948218, 0.010932993, 0.011088715, 0.010852326, 0.010273871, 0.010612921, 0.011127071, 0.010241049, 0.010089418, 0.0100194225, 0.01049654, 0.010934779, 0.011317709, 0.009719689, 0.01031345, 0.012320956, 0.0105526075, 0.010869299, 0.009904037, 0.011802471, 0.011025783, 0.011398476, 0.011452135, 0.011214345, 0.010089039, 0.011313872, 0.010040484, 0.010064701, 0.010819236, 0.011109854, 0.013336796, 0.00986981, 0.010020461, 0.010888286, 0.011140377, 0.010114789, 0.011213132, 0.010527384, 0.010575275, 0.01037199, 0.0107313655, 0.011338765, 0.011062695, 0.011195827, 0.010593405, 0.010863865, 0.010488937, 0.011715648, 0.01095849, 0.011178886, 0.010363425, 0.011497879, 0.010471226, 0.009734575, 0.011174282]\n",
      "2022-02-28 16:18:15,942 : INFO : merging changes from 1204 documents into a model of 3204 documents\n",
      "2022-02-28 16:18:15,949 : INFO : topic #58 (0.010): 0.088*\"recognit\" + 0.087*\"function\" + 0.083*\"subject\" + 0.066*\"gamma\" + 0.053*\",\" + 0.049*\"s14\" + 0.033*\"remov\" + 0.033*\"procedur\" + 0.028*\"reflect\" + 0.021*\"exhaust\"\n",
      "2022-02-28 16:18:15,950 : INFO : topic #98 (0.010): 0.072*\",\" + 0.047*\"text\" + 0.040*\"shift\" + 0.029*\"code\" + 0.027*\"memori\" + 0.026*\"machin\" + 0.025*\"capabl\" + 0.019*\"bit\" + 0.017*\"(\" + 0.016*\"extens\"\n",
      "2022-02-28 16:18:15,951 : INFO : topic #60 (0.012): 0.072*\"system\" + 0.058*\",\" + 0.053*\"model\" + 0.051*\"page\" + 0.044*\"perform\" + 0.043*\"memori\" + 0.037*\"measur\" + 0.033*\"time\" + 0.028*\"multiprogram\" + 0.026*\"program\"\n",
      "2022-02-28 16:18:15,951 : INFO : topic #75 (0.013): 0.426*\"\"\" + 0.062*\"'\" + 0.060*\"note\" + 0.059*\"formula\" + 0.030*\"read\" + 0.029*\"iter\" + 0.023*\"process\" + 0.022*\"class\" + 0.021*\"estim\" + 0.018*\"valid\"\n",
      "2022-02-28 16:18:15,952 : INFO : topic #4 (0.022): 0.239*\"algorithm\" + 0.233*\"(\" + 0.156*\")\" + 0.089*\"[\" + 0.045*\"])\" + 0.027*\"$\" + 0.023*\"))\" + 0.018*\"-\" + 0.013*\"complex\" + 0.012*\"polynomi\"\n",
      "2022-02-28 16:18:15,952 : INFO : topic diff=0.666495, rho=0.362690\n",
      "2022-02-28 16:18:15,961 : INFO : PROGRESS: pass 6, at document #2000/3204\n",
      "2022-02-28 16:18:16,834 : INFO : optimized alpha [0.010704616, 0.011117336, 0.010445448, 0.010751942, 0.023442008, 0.010967071, 0.012097421, 0.011746415, 0.011092654, 0.010643122, 0.012036535, 0.010477763, 0.010228836, 0.009846365, 0.010268677, 0.011483077, 0.010823157, 0.010423131, 0.010625996, 0.010377667, 0.0101445345, 0.010188822, 0.010325712, 0.010337867, 0.010792864, 0.010495088, 0.011566384, 0.01051209, 0.010559113, 0.010294289, 0.011774017, 0.010118823, 0.010381671, 0.010136078, 0.010140956, 0.01043382, 0.010172621, 0.009866438, 0.010504913, 0.011377524, 0.010740051, 0.01018933, 0.010578334, 0.010504798, 0.010268624, 0.009935792, 0.010884161, 0.01114613, 0.010923593, 0.010258492, 0.010655356, 0.011197769, 0.010250372, 0.01006523, 0.010096018, 0.010521927, 0.010921168, 0.011456827, 0.009721334, 0.010334085, 0.012316246, 0.010646917, 0.011008842, 0.0098687755, 0.0119378995, 0.011036425, 0.011463706, 0.011693053, 0.011516893, 0.010051387, 0.011369449, 0.010041241, 0.0100778835, 0.01076369, 0.011282214, 0.013615379, 0.009865457, 0.010049621, 0.010958196, 0.011323671, 0.01009801, 0.011163251, 0.010556912, 0.010604782, 0.010364418, 0.010742933, 0.011589751, 0.011058421, 0.011251373, 0.010596894, 0.010913486, 0.010525726, 0.011839967, 0.01093585, 0.011220154, 0.010430954, 0.01149723, 0.01054407, 0.009701583, 0.011304741]\n",
      "2022-02-28 16:18:16,842 : INFO : merging changes from 2000 documents into a model of 3204 documents\n",
      "2022-02-28 16:18:16,849 : INFO : topic #98 (0.010): 0.074*\",\" + 0.045*\"text\" + 0.033*\"shift\" + 0.032*\"code\" + 0.028*\"machin\" + 0.026*\"memori\" + 0.024*\"capabl\" + 0.017*\"(\" + 0.017*\"extens\" + 0.016*\"bit\"\n",
      "2022-02-28 16:18:16,850 : INFO : topic #58 (0.010): 0.086*\"function\" + 0.084*\"recognit\" + 0.068*\"gamma\" + 0.067*\"subject\" + 0.058*\"s14\" + 0.054*\",\" + 0.038*\"procedur\" + 0.025*\"remov\" + 0.024*\"subscript\" + 0.022*\"sentenc\"\n",
      "2022-02-28 16:18:16,851 : INFO : topic #60 (0.012): 0.074*\"system\" + 0.058*\",\" + 0.053*\"model\" + 0.051*\"page\" + 0.044*\"perform\" + 0.041*\"memori\" + 0.035*\"measur\" + 0.033*\"time\" + 0.029*\"multiprogram\" + 0.028*\"program\"\n",
      "2022-02-28 16:18:16,851 : INFO : topic #75 (0.014): 0.414*\"\"\" + 0.067*\"formula\" + 0.065*\"note\" + 0.059*\"'\" + 0.036*\"iter\" + 0.030*\"read\" + 0.026*\"process\" + 0.022*\"estim\" + 0.018*\"class\" + 0.015*\"suggest\"\n",
      "2022-02-28 16:18:16,852 : INFO : topic #4 (0.023): 0.235*\"algorithm\" + 0.233*\"(\" + 0.146*\")\" + 0.097*\"[\" + 0.068*\"])\" + 0.020*\"$\" + 0.018*\"-\" + 0.016*\"))\" + 0.013*\"polynomi\" + 0.011*\"complex\"\n",
      "2022-02-28 16:18:16,853 : INFO : topic diff=0.591680, rho=0.340958\n",
      "2022-02-28 16:18:18,098 : INFO : -6.569 per-word bound, 95.0 perplexity estimate based on a held-out corpus of 1204 documents with 49783 words\n",
      "2022-02-28 16:18:18,098 : INFO : PROGRESS: pass 6, at document #3204/3204\n",
      "2022-02-28 16:18:18,930 : INFO : optimized alpha [0.010824061, 0.011340581, 0.010530048, 0.010855241, 0.024349168, 0.011177092, 0.012367797, 0.012019503, 0.011308764, 0.010781921, 0.012403497, 0.010558764, 0.010327703, 0.009926262, 0.010369519, 0.011765542, 0.010986887, 0.010584818, 0.010770898, 0.010501942, 0.010234078, 0.010278131, 0.010478839, 0.010421579, 0.010929573, 0.010646347, 0.011705838, 0.010640449, 0.0107028475, 0.010424726, 0.012026954, 0.010186596, 0.0104917865, 0.010246032, 0.010229967, 0.010553365, 0.010241737, 0.009906357, 0.010663531, 0.011497386, 0.010895687, 0.010278244, 0.010681295, 0.0106446715, 0.010355659, 0.009996489, 0.011070105, 0.011337995, 0.01111697, 0.010380382, 0.0107943425, 0.0113711385, 0.01037514, 0.010178286, 0.010124306, 0.010592339, 0.011124393, 0.011655858, 0.0097609665, 0.010437478, 0.01269199, 0.010754037, 0.01115043, 0.00992583, 0.012233705, 0.011280804, 0.011617499, 0.011900167, 0.011547938, 0.0101187825, 0.01161428, 0.010105486, 0.010145085, 0.010905381, 0.0114055155, 0.014083194, 0.009905422, 0.010137933, 0.011103687, 0.011447255, 0.010201181, 0.011435639, 0.010670507, 0.010700394, 0.010462822, 0.010931443, 0.0117164245, 0.011208982, 0.01146158, 0.010723708, 0.011080106, 0.01064511, 0.012109676, 0.011160683, 0.011425018, 0.010555991, 0.011801173, 0.01070103, 0.009717719, 0.011423824]\n",
      "2022-02-28 16:18:18,937 : INFO : merging changes from 1204 documents into a model of 3204 documents\n",
      "2022-02-28 16:18:18,944 : INFO : topic #98 (0.010): 0.073*\",\" + 0.052*\"text\" + 0.041*\"shift\" + 0.031*\"code\" + 0.029*\"machin\" + 0.027*\"memori\" + 0.026*\"capabl\" + 0.020*\"bit\" + 0.017*\"extens\" + 0.017*\"(\"\n",
      "2022-02-28 16:18:18,945 : INFO : topic #58 (0.010): 0.092*\"function\" + 0.089*\"recognit\" + 0.086*\"subject\" + 0.069*\"gamma\" + 0.053*\",\" + 0.049*\"s14\" + 0.038*\"procedur\" + 0.033*\"remov\" + 0.027*\"reflect\" + 0.022*\"effect\"\n",
      "2022-02-28 16:18:18,946 : INFO : topic #60 (0.013): 0.075*\"system\" + 0.058*\",\" + 0.054*\"model\" + 0.052*\"page\" + 0.047*\"perform\" + 0.044*\"memori\" + 0.037*\"measur\" + 0.032*\"time\" + 0.028*\"multiprogram\" + 0.026*\"program\"\n",
      "2022-02-28 16:18:18,946 : INFO : topic #75 (0.014): 0.446*\"\"\" + 0.060*\"formula\" + 0.060*\"note\" + 0.059*\"'\" + 0.030*\"iter\" + 0.029*\"read\" + 0.025*\"process\" + 0.021*\"estim\" + 0.018*\"class\" + 0.017*\"valid\"\n",
      "2022-02-28 16:18:18,947 : INFO : topic #4 (0.024): 0.242*\"algorithm\" + 0.234*\"(\" + 0.154*\")\" + 0.093*\"[\" + 0.048*\"])\" + 0.027*\"$\" + 0.023*\"))\" + 0.018*\"-\" + 0.013*\"complex\" + 0.011*\"polynomi\"\n",
      "2022-02-28 16:18:18,947 : INFO : topic diff=0.599054, rho=0.340958\n",
      "2022-02-28 16:18:18,955 : INFO : PROGRESS: pass 7, at document #2000/3204\n",
      "2022-02-28 16:18:19,858 : INFO : optimized alpha [0.010842319, 0.011404936, 0.010636591, 0.010854196, 0.026143508, 0.0112185385, 0.012444686, 0.012101167, 0.011313764, 0.010719929, 0.012540338, 0.010568507, 0.010318442, 0.00992602, 0.0103816455, 0.011899745, 0.010998486, 0.010577305, 0.010760157, 0.010518137, 0.010208827, 0.010329425, 0.010457108, 0.010439007, 0.010999111, 0.010711504, 0.011835053, 0.010606887, 0.0107181845, 0.0104090655, 0.012092702, 0.010208066, 0.010489326, 0.010249459, 0.0102279065, 0.0105318995, 0.010258188, 0.009875589, 0.010710545, 0.011699181, 0.010896097, 0.010255762, 0.010692098, 0.010663413, 0.010368339, 0.009983562, 0.011021241, 0.011401307, 0.011202553, 0.01036911, 0.010841545, 0.011438111, 0.010397316, 0.010163646, 0.010199279, 0.010615001, 0.011112244, 0.01180437, 0.009761479, 0.010465604, 0.012686685, 0.010844055, 0.011286088, 0.009891526, 0.012379165, 0.011291532, 0.011685096, 0.012145462, 0.011851633, 0.010090292, 0.011673904, 0.010108293, 0.01017115, 0.010863389, 0.011574595, 0.014344831, 0.0099050775, 0.010170777, 0.011164782, 0.011625314, 0.010188742, 0.011390002, 0.010714222, 0.01073545, 0.010464273, 0.01093811, 0.011972468, 0.011217374, 0.01151965, 0.010725082, 0.01112872, 0.010676472, 0.012220521, 0.01114337, 0.011467242, 0.010632148, 0.011800485, 0.010777286, 0.009690782, 0.011554128]\n",
      "2022-02-28 16:18:19,865 : INFO : merging changes from 2000 documents into a model of 3204 documents\n",
      "2022-02-28 16:18:19,872 : INFO : topic #98 (0.010): 0.076*\",\" + 0.049*\"text\" + 0.034*\"shift\" + 0.033*\"code\" + 0.032*\"machin\" + 0.027*\"memori\" + 0.026*\"capabl\" + 0.019*\"extens\" + 0.018*\"bit\" + 0.017*\"(\"\n",
      "2022-02-28 16:18:19,873 : INFO : topic #58 (0.010): 0.089*\"function\" + 0.085*\"recognit\" + 0.071*\"subject\" + 0.071*\"gamma\" + 0.058*\"s14\" + 0.054*\",\" + 0.039*\"procedur\" + 0.026*\"remov\" + 0.023*\"subscript\" + 0.022*\"sentenc\"\n",
      "2022-02-28 16:18:19,873 : INFO : topic #60 (0.013): 0.077*\"system\" + 0.058*\",\" + 0.054*\"model\" + 0.052*\"page\" + 0.047*\"perform\" + 0.042*\"memori\" + 0.035*\"measur\" + 0.032*\"time\" + 0.029*\"multiprogram\" + 0.028*\"program\"\n",
      "2022-02-28 16:18:19,874 : INFO : topic #75 (0.014): 0.434*\"\"\" + 0.067*\"formula\" + 0.064*\"note\" + 0.056*\"'\" + 0.037*\"iter\" + 0.028*\"read\" + 0.027*\"process\" + 0.021*\"estim\" + 0.016*\"class\" + 0.014*\"approxim\"\n",
      "2022-02-28 16:18:19,874 : INFO : topic #4 (0.026): 0.239*\"algorithm\" + 0.234*\"(\" + 0.145*\")\" + 0.100*\"[\" + 0.069*\"])\" + 0.020*\"$\" + 0.017*\"-\" + 0.016*\"))\" + 0.013*\"polynomi\" + 0.012*\"complex\"\n",
      "2022-02-28 16:18:19,875 : INFO : topic diff=0.523986, rho=0.322715\n",
      "2022-02-28 16:18:21,068 : INFO : -6.546 per-word bound, 93.5 perplexity estimate based on a held-out corpus of 1204 documents with 49783 words\n",
      "2022-02-28 16:18:21,069 : INFO : PROGRESS: pass 7, at document #3204/3204\n",
      "2022-02-28 16:18:21,973 : INFO : optimized alpha [0.010953223, 0.011622442, 0.010719772, 0.010949767, 0.02705962, 0.011413745, 0.012700875, 0.012370549, 0.011517726, 0.01086696, 0.012913341, 0.010651607, 0.010418512, 0.0100318855, 0.010480672, 0.012192276, 0.011154946, 0.0107375495, 0.010898469, 0.010639656, 0.010294296, 0.010434061, 0.010609032, 0.010521747, 0.011141546, 0.01088498, 0.011977567, 0.01073802, 0.010852465, 0.010542013, 0.01234554, 0.010267251, 0.010602955, 0.010359973, 0.01032664, 0.010651733, 0.010337964, 0.009916926, 0.01086222, 0.01181584, 0.011044698, 0.010343439, 0.0107930945, 0.010802723, 0.010459771, 0.010038937, 0.011189865, 0.011597321, 0.011415161, 0.010491116, 0.01098303, 0.0116099045, 0.010522067, 0.010274309, 0.010228819, 0.010682213, 0.011309705, 0.011998302, 0.00980227, 0.010564263, 0.013056311, 0.010946024, 0.011439339, 0.009954431, 0.012678391, 0.0115292445, 0.011838271, 0.012364002, 0.011891261, 0.010160379, 0.011909084, 0.010183404, 0.010235332, 0.010998667, 0.011710863, 0.014824383, 0.009946325, 0.010266118, 0.011303702, 0.0117581785, 0.010287317, 0.011666571, 0.010822666, 0.010820829, 0.0105580995, 0.011112819, 0.012111552, 0.011361115, 0.011721248, 0.010840291, 0.011290945, 0.010798948, 0.012493389, 0.011367846, 0.01167577, 0.01075136, 0.012108979, 0.010941966, 0.009715022, 0.011657829]\n",
      "2022-02-28 16:18:21,979 : INFO : merging changes from 1204 documents into a model of 3204 documents\n",
      "2022-02-28 16:18:21,986 : INFO : topic #98 (0.010): 0.075*\",\" + 0.055*\"text\" + 0.042*\"shift\" + 0.033*\"machin\" + 0.031*\"code\" + 0.028*\"memori\" + 0.027*\"capabl\" + 0.021*\"bit\" + 0.018*\"extens\" + 0.016*\"(\"\n",
      "2022-02-28 16:18:21,986 : INFO : topic #58 (0.010): 0.095*\"function\" + 0.089*\"recognit\" + 0.087*\"subject\" + 0.073*\"gamma\" + 0.053*\",\" + 0.049*\"s14\" + 0.038*\"procedur\" + 0.033*\"remov\" + 0.027*\"reflect\" + 0.024*\"effect\"\n",
      "2022-02-28 16:18:21,987 : INFO : topic #60 (0.013): 0.078*\"system\" + 0.058*\",\" + 0.054*\"model\" + 0.053*\"page\" + 0.049*\"perform\" + 0.045*\"memori\" + 0.037*\"measur\" + 0.031*\"time\" + 0.029*\"multiprogram\" + 0.026*\"program\"\n",
      "2022-02-28 16:18:21,988 : INFO : topic #75 (0.015): 0.464*\"\"\" + 0.061*\"formula\" + 0.060*\"note\" + 0.057*\"'\" + 0.030*\"iter\" + 0.027*\"read\" + 0.026*\"process\" + 0.020*\"estim\" + 0.015*\"valid\" + 0.015*\"approxim\"\n",
      "2022-02-28 16:18:21,988 : INFO : topic #4 (0.027): 0.245*\"algorithm\" + 0.235*\"(\" + 0.154*\")\" + 0.095*\"[\" + 0.050*\"])\" + 0.027*\"$\" + 0.022*\"))\" + 0.017*\"-\" + 0.013*\"complex\" + 0.011*\"polynomi\"\n",
      "2022-02-28 16:18:21,989 : INFO : topic diff=0.524847, rho=0.322715\n",
      "2022-02-28 16:18:21,997 : INFO : PROGRESS: pass 8, at document #2000/3204\n",
      "2022-02-28 16:18:23,023 : INFO : optimized alpha [0.010977324, 0.011683529, 0.010828871, 0.010948931, 0.028912595, 0.0114528155, 0.012773637, 0.012453736, 0.011526962, 0.010811093, 0.013052616, 0.010669425, 0.010408133, 0.010039368, 0.010494004, 0.012323447, 0.01116738, 0.010729861, 0.010894679, 0.010658296, 0.010270531, 0.010494469, 0.010591167, 0.010551679, 0.011214839, 0.010945528, 0.012107596, 0.010710867, 0.010875224, 0.010526821, 0.012417242, 0.010288065, 0.010598905, 0.010363225, 0.010327932, 0.010631109, 0.010366611, 0.009894568, 0.010916884, 0.01201119, 0.0110482, 0.010323846, 0.010811764, 0.010826982, 0.010467152, 0.010030157, 0.011142792, 0.011661062, 0.011505787, 0.010481862, 0.01103317, 0.011673702, 0.010541518, 0.010263491, 0.010305647, 0.01071245, 0.011297245, 0.012150795, 0.009806305, 0.010597664, 0.013052533, 0.0110475, 0.011571832, 0.009922326, 0.012820395, 0.011541911, 0.011906473, 0.012610707, 0.0121883545, 0.01014004, 0.0119672865, 0.010194181, 0.010257272, 0.010960148, 0.011876091, 0.015088006, 0.009952672, 0.010302347, 0.011365524, 0.011924841, 0.010280395, 0.011621061, 0.010866262, 0.010864666, 0.010556339, 0.01112548, 0.012373439, 0.01137236, 0.01177997, 0.010843224, 0.011345964, 0.010830407, 0.012616827, 0.011355379, 0.011713629, 0.010826106, 0.012106305, 0.01100983, 0.009690131, 0.011776064]\n",
      "2022-02-28 16:18:23,031 : INFO : merging changes from 2000 documents into a model of 3204 documents\n",
      "2022-02-28 16:18:23,038 : INFO : topic #98 (0.010): 0.078*\",\" + 0.053*\"text\" + 0.037*\"machin\" + 0.035*\"shift\" + 0.032*\"code\" + 0.028*\"memori\" + 0.027*\"capabl\" + 0.020*\"extens\" + 0.019*\"bit\" + 0.017*\"(\"\n",
      "2022-02-28 16:18:23,039 : INFO : topic #58 (0.010): 0.093*\"function\" + 0.087*\"recognit\" + 0.074*\"gamma\" + 0.073*\"subject\" + 0.058*\"s14\" + 0.054*\",\" + 0.039*\"procedur\" + 0.026*\"remov\" + 0.023*\"subscript\" + 0.021*\"exhaust\"\n",
      "2022-02-28 16:18:23,040 : INFO : topic #10 (0.013): 0.284*\"function\" + 0.141*\"order\" + 0.096*\"set\" + 0.080*\"find\" + 0.039*\"method\" + 0.032*\"defin\" + 0.031*\"pair\" + 0.024*\"valu\" + 0.022*\"known\" + 0.022*\"mechan\"\n",
      "2022-02-28 16:18:23,041 : INFO : topic #75 (0.015): 0.451*\"\"\" + 0.068*\"formula\" + 0.064*\"note\" + 0.055*\"'\" + 0.037*\"iter\" + 0.028*\"process\" + 0.027*\"read\" + 0.020*\"estim\" + 0.014*\"approxim\" + 0.013*\"requir\"\n",
      "2022-02-28 16:18:23,042 : INFO : topic #4 (0.029): 0.242*\"algorithm\" + 0.235*\"(\" + 0.145*\")\" + 0.102*\"[\" + 0.070*\"])\" + 0.021*\"$\" + 0.017*\"-\" + 0.016*\"))\" + 0.013*\"polynomi\" + 0.012*\"complex\"\n",
      "2022-02-28 16:18:23,047 : INFO : topic diff=0.456500, rho=0.307119\n",
      "2022-02-28 16:18:24,355 : INFO : -6.524 per-word bound, 92.0 perplexity estimate based on a held-out corpus of 1204 documents with 49783 words\n",
      "2022-02-28 16:18:24,356 : INFO : PROGRESS: pass 8, at document #3204/3204\n",
      "2022-02-28 16:18:25,309 : INFO : optimized alpha [0.011089195, 0.011911372, 0.0109193055, 0.011040554, 0.029742481, 0.011649569, 0.01300424, 0.012714116, 0.011726252, 0.010954861, 0.013412803, 0.01074906, 0.01049885, 0.010146182, 0.0105916895, 0.012636362, 0.011323344, 0.010900319, 0.0110357795, 0.010777592, 0.010352601, 0.010605467, 0.01075335, 0.010633801, 0.011368922, 0.011126585, 0.012234685, 0.010842154, 0.011017875, 0.0106626125, 0.012661492, 0.010342196, 0.010702501, 0.010477362, 0.010438452, 0.010746055, 0.010448398, 0.009929458, 0.0110653965, 0.012100875, 0.011188009, 0.010407984, 0.010928002, 0.01096062, 0.0105736675, 0.010075786, 0.011307501, 0.011852774, 0.011711195, 0.010609737, 0.011166063, 0.011832761, 0.010663923, 0.010374987, 0.010336475, 0.010774096, 0.011487172, 0.012343999, 0.009845677, 0.010703062, 0.013411083, 0.011147802, 0.011727902, 0.0099854525, 0.013137016, 0.011774217, 0.012059593, 0.0128446445, 0.012236439, 0.010207411, 0.012203477, 0.0102714775, 0.010321452, 0.011095554, 0.012009463, 0.015561914, 0.009995012, 0.01039916, 0.011504589, 0.012054869, 0.010383039, 0.011882045, 0.010970202, 0.010952132, 0.010643673, 0.01129927, 0.012499758, 0.011510203, 0.011989245, 0.010948108, 0.011510567, 0.010947872, 0.012890499, 0.0115776, 0.011923377, 0.010934776, 0.012401704, 0.01117677, 0.009708958, 0.011878031]\n",
      "2022-02-28 16:18:25,316 : INFO : merging changes from 1204 documents into a model of 3204 documents\n",
      "2022-02-28 16:18:25,323 : INFO : topic #98 (0.010): 0.076*\",\" + 0.059*\"text\" + 0.043*\"shift\" + 0.037*\"machin\" + 0.030*\"code\" + 0.029*\"memori\" + 0.029*\"capabl\" + 0.023*\"bit\" + 0.020*\"extens\" + 0.016*\"(\"\n",
      "2022-02-28 16:18:25,323 : INFO : topic #58 (0.010): 0.096*\"function\" + 0.090*\"recognit\" + 0.090*\"subject\" + 0.076*\"gamma\" + 0.053*\",\" + 0.049*\"s14\" + 0.037*\"procedur\" + 0.033*\"remov\" + 0.027*\"reflect\" + 0.025*\"effect\"\n",
      "2022-02-28 16:18:25,324 : INFO : topic #60 (0.013): 0.080*\"system\" + 0.059*\",\" + 0.055*\"model\" + 0.053*\"page\" + 0.051*\"perform\" + 0.045*\"memori\" + 0.037*\"measur\" + 0.030*\"time\" + 0.029*\"multiprogram\" + 0.025*\"program\"\n",
      "2022-02-28 16:18:25,324 : INFO : topic #75 (0.016): 0.479*\"\"\" + 0.061*\"formula\" + 0.059*\"note\" + 0.053*\"'\" + 0.031*\"iter\" + 0.026*\"read\" + 0.026*\"process\" + 0.020*\"estim\" + 0.015*\"valid\" + 0.015*\"approxim\"\n",
      "2022-02-28 16:18:25,325 : INFO : topic #4 (0.030): 0.249*\"algorithm\" + 0.235*\"(\" + 0.153*\")\" + 0.097*\"[\" + 0.051*\"])\" + 0.027*\"$\" + 0.022*\"))\" + 0.017*\"-\" + 0.013*\"complex\" + 0.011*\"polynomi\"\n",
      "2022-02-28 16:18:25,326 : INFO : topic diff=0.457697, rho=0.307119\n",
      "2022-02-28 16:18:25,333 : INFO : PROGRESS: pass 9, at document #2000/3204\n",
      "2022-02-28 16:18:26,466 : INFO : optimized alpha [0.0111123035, 0.011980115, 0.01103444, 0.011044799, 0.031666867, 0.0116900215, 0.013073556, 0.012791665, 0.01173263, 0.01090287, 0.013574655, 0.010771123, 0.010489107, 0.010151818, 0.010606132, 0.0127781425, 0.01134154, 0.010895555, 0.011033531, 0.010790562, 0.010330158, 0.010665138, 0.0107388, 0.010662671, 0.011447764, 0.011192729, 0.012358577, 0.0108254915, 0.011041083, 0.010650917, 0.012735579, 0.010366945, 0.01069708, 0.0104897255, 0.010445673, 0.010727863, 0.0104776295, 0.009913157, 0.011119427, 0.01228862, 0.011192726, 0.010389466, 0.010952273, 0.010990116, 0.010583774, 0.0100664245, 0.011268598, 0.011918957, 0.011810467, 0.010605377, 0.011215782, 0.011893862, 0.010685561, 0.010369137, 0.010412222, 0.010809787, 0.011472787, 0.012499125, 0.009848528, 0.01073981, 0.013408857, 0.01124253, 0.011850875, 0.009953736, 0.013281934, 0.01179233, 0.012126852, 0.013097437, 0.012528136, 0.010188433, 0.012275009, 0.010280467, 0.010347366, 0.0110619245, 0.012171493, 0.015821263, 0.010000081, 0.010447946, 0.011562255, 0.012214673, 0.010384173, 0.011836728, 0.011023525, 0.011000788, 0.010648441, 0.011310916, 0.012751653, 0.011532671, 0.01205953, 0.010952525, 0.011561453, 0.010977938, 0.01301333, 0.011557708, 0.011967809, 0.0110115735, 0.01239913, 0.01124844, 0.009691814, 0.011992165]\n",
      "2022-02-28 16:18:26,474 : INFO : merging changes from 2000 documents into a model of 3204 documents\n",
      "2022-02-28 16:18:26,481 : INFO : topic #98 (0.010): 0.078*\",\" + 0.058*\"text\" + 0.039*\"machin\" + 0.036*\"shift\" + 0.030*\"code\" + 0.029*\"memori\" + 0.028*\"capabl\" + 0.022*\"extens\" + 0.021*\"bit\" + 0.016*\"(\"\n",
      "2022-02-28 16:18:26,482 : INFO : topic #58 (0.010): 0.094*\"function\" + 0.089*\"recognit\" + 0.077*\"subject\" + 0.077*\"gamma\" + 0.058*\"s14\" + 0.054*\",\" + 0.039*\"procedur\" + 0.027*\"remov\" + 0.023*\"subscript\" + 0.022*\"exhaust\"\n",
      "2022-02-28 16:18:26,482 : INFO : topic #10 (0.014): 0.301*\"function\" + 0.146*\"order\" + 0.095*\"set\" + 0.082*\"find\" + 0.036*\"method\" + 0.031*\"pair\" + 0.029*\"defin\" + 0.022*\"valu\" + 0.022*\"known\" + 0.019*\"present\"\n",
      "2022-02-28 16:18:26,483 : INFO : topic #75 (0.016): 0.465*\"\"\" + 0.068*\"formula\" + 0.064*\"note\" + 0.050*\"'\" + 0.037*\"iter\" + 0.029*\"process\" + 0.026*\"read\" + 0.020*\"estim\" + 0.015*\"approxim\" + 0.013*\"valid\"\n",
      "2022-02-28 16:18:26,483 : INFO : topic #4 (0.032): 0.246*\"algorithm\" + 0.236*\"(\" + 0.145*\")\" + 0.103*\"[\" + 0.070*\"])\" + 0.021*\"$\" + 0.017*\"))\" + 0.017*\"-\" + 0.012*\"polynomi\" + 0.012*\"complex\"\n",
      "2022-02-28 16:18:26,484 : INFO : topic diff=0.397463, rho=0.293585\n",
      "2022-02-28 16:18:27,613 : INFO : -6.508 per-word bound, 91.0 perplexity estimate based on a held-out corpus of 1204 documents with 49783 words\n",
      "2022-02-28 16:18:27,613 : INFO : PROGRESS: pass 9, at document #3204/3204\n",
      "2022-02-28 16:18:28,581 : INFO : optimized alpha [0.011225335, 0.012215917, 0.011129284, 0.011138505, 0.032515604, 0.011883234, 0.013289905, 0.013050528, 0.011928131, 0.0110495575, 0.013943802, 0.010853045, 0.010581744, 0.010254764, 0.010705506, 0.013096474, 0.011497593, 0.011060188, 0.011172253, 0.010908116, 0.010409322, 0.010777365, 0.01089011, 0.010754897, 0.011593673, 0.011379013, 0.012489842, 0.010960039, 0.011192149, 0.010789766, 0.012975516, 0.010419155, 0.010794268, 0.010607452, 0.010554756, 0.010838679, 0.010564034, 0.009952097, 0.011268088, 0.012377008, 0.011332989, 0.010465482, 0.011061582, 0.0111216605, 0.010691683, 0.010108183, 0.011424682, 0.012113058, 0.012024088, 0.010726099, 0.011343835, 0.012050068, 0.01080606, 0.010491909, 0.010441763, 0.010874487, 0.011659003, 0.012704599, 0.009889111, 0.010838713, 0.013741188, 0.011333346, 0.012004261, 0.010019584, 0.013607049, 0.012017385, 0.012268464, 0.013344111, 0.012569108, 0.010253514, 0.012498011, 0.010352421, 0.010414348, 0.011197891, 0.012311683, 0.01627899, 0.010050816, 0.010554067, 0.011693428, 0.0123453885, 0.010485693, 0.012095243, 0.011134397, 0.011090392, 0.010735143, 0.011492722, 0.01287233, 0.011674087, 0.012280031, 0.011056236, 0.011720323, 0.011096427, 0.013279425, 0.011772587, 0.0121736275, 0.011126839, 0.01270434, 0.011409839, 0.009720185, 0.012089927]\n",
      "2022-02-28 16:18:28,588 : INFO : merging changes from 1204 documents into a model of 3204 documents\n",
      "2022-02-28 16:18:28,596 : INFO : topic #98 (0.010): 0.076*\",\" + 0.062*\"text\" + 0.043*\"shift\" + 0.038*\"machin\" + 0.029*\"memori\" + 0.029*\"capabl\" + 0.028*\"code\" + 0.023*\"bit\" + 0.021*\"extens\" + 0.016*\"allow\"\n",
      "2022-02-28 16:18:28,596 : INFO : topic #58 (0.010): 0.097*\"function\" + 0.093*\"subject\" + 0.092*\"recognit\" + 0.078*\"gamma\" + 0.052*\",\" + 0.050*\"s14\" + 0.037*\"procedur\" + 0.033*\"remov\" + 0.027*\"reflect\" + 0.025*\"effect\"\n",
      "2022-02-28 16:18:28,597 : INFO : topic #10 (0.014): 0.294*\"function\" + 0.157*\"order\" + 0.095*\"set\" + 0.087*\"find\" + 0.033*\"method\" + 0.033*\"pair\" + 0.029*\"defin\" + 0.024*\"known\" + 0.022*\"valu\" + 0.020*\"present\"\n",
      "2022-02-28 16:18:28,597 : INFO : topic #75 (0.016): 0.492*\"\"\" + 0.062*\"formula\" + 0.059*\"note\" + 0.049*\"'\" + 0.032*\"iter\" + 0.027*\"process\" + 0.026*\"read\" + 0.020*\"estim\" + 0.015*\"approxim\" + 0.015*\"valid\"\n",
      "2022-02-28 16:18:28,598 : INFO : topic #4 (0.033): 0.252*\"algorithm\" + 0.236*\"(\" + 0.154*\")\" + 0.097*\"[\" + 0.052*\"])\" + 0.027*\"$\" + 0.022*\"))\" + 0.017*\"-\" + 0.014*\"complex\" + 0.011*\"polynomi\"\n",
      "2022-02-28 16:18:28,598 : INFO : topic diff=0.399999, rho=0.293585\n",
      "2022-02-28 16:18:28,607 : INFO : PROGRESS: pass 10, at document #2000/3204\n",
      "2022-02-28 16:18:29,624 : INFO : optimized alpha [0.011247528, 0.012283491, 0.011247233, 0.011139608, 0.034519255, 0.011921722, 0.013354334, 0.013128425, 0.011933563, 0.011004129, 0.014103041, 0.010871347, 0.010570972, 0.010268869, 0.010724036, 0.013241615, 0.0115164295, 0.011056622, 0.011174519, 0.010925131, 0.010392428, 0.010844211, 0.010878811, 0.010787283, 0.011678, 0.011445859, 0.01261878, 0.01094382, 0.011217381, 0.010784336, 0.013042819, 0.010446182, 0.0107953, 0.010623746, 0.010566166, 0.010821162, 0.010601221, 0.009937036, 0.0113247745, 0.012557935, 0.01133721, 0.010450929, 0.011089579, 0.011146759, 0.010707435, 0.010102528, 0.011386908, 0.01218004, 0.012125137, 0.010733932, 0.011388475, 0.012107149, 0.010828288, 0.010490616, 0.010521161, 0.010907539, 0.0116444165, 0.012864545, 0.009893644, 0.010874189, 0.013738939, 0.011428316, 0.012118491, 0.009989505, 0.013749405, 0.012039045, 0.012333305, 0.0135963075, 0.012859731, 0.010244467, 0.012564888, 0.010361274, 0.010439502, 0.011168565, 0.012469309, 0.016529946, 0.010057438, 0.010608705, 0.01175229, 0.012498982, 0.010495758, 0.012051717, 0.01118591, 0.011148615, 0.01074456, 0.011508236, 0.013122304, 0.011700451, 0.012354506, 0.011058927, 0.011774115, 0.011125377, 0.013403747, 0.011754121, 0.012209012, 0.011201104, 0.012705327, 0.011478929, 0.009705767, 0.012200483]\n",
      "2022-02-28 16:18:29,630 : INFO : merging changes from 2000 documents into a model of 3204 documents\n",
      "2022-02-28 16:18:29,637 : INFO : topic #98 (0.010): 0.079*\",\" + 0.061*\"text\" + 0.041*\"machin\" + 0.036*\"shift\" + 0.028*\"memori\" + 0.028*\"capabl\" + 0.027*\"code\" + 0.024*\"extens\" + 0.021*\"bit\" + 0.015*\"origin\"\n",
      "2022-02-28 16:18:29,638 : INFO : topic #58 (0.010): 0.096*\"function\" + 0.091*\"recognit\" + 0.081*\"subject\" + 0.078*\"gamma\" + 0.059*\"s14\" + 0.053*\",\" + 0.038*\"procedur\" + 0.027*\"remov\" + 0.024*\"subscript\" + 0.022*\"exhaust\"\n",
      "2022-02-28 16:18:29,638 : INFO : topic #10 (0.014): 0.312*\"function\" + 0.149*\"order\" + 0.094*\"set\" + 0.083*\"find\" + 0.033*\"method\" + 0.031*\"pair\" + 0.028*\"defin\" + 0.022*\"known\" + 0.021*\"valu\" + 0.019*\"present\"\n",
      "2022-02-28 16:18:29,639 : INFO : topic #75 (0.017): 0.479*\"\"\" + 0.069*\"formula\" + 0.063*\"note\" + 0.048*\"'\" + 0.038*\"iter\" + 0.029*\"process\" + 0.025*\"read\" + 0.020*\"estim\" + 0.014*\"approxim\" + 0.012*\"valid\"\n",
      "2022-02-28 16:18:29,640 : INFO : topic #4 (0.035): 0.249*\"algorithm\" + 0.236*\"(\" + 0.146*\")\" + 0.102*\"[\" + 0.069*\"])\" + 0.021*\"$\" + 0.017*\"))\" + 0.016*\"-\" + 0.012*\"complex\" + 0.012*\"polynomi\"\n",
      "2022-02-28 16:18:29,640 : INFO : topic diff=0.347727, rho=0.281696\n",
      "2022-02-28 16:18:30,715 : INFO : -6.493 per-word bound, 90.1 perplexity estimate based on a held-out corpus of 1204 documents with 49783 words\n",
      "2022-02-28 16:18:30,716 : INFO : PROGRESS: pass 10, at document #3204/3204\n",
      "2022-02-28 16:18:31,613 : INFO : optimized alpha [0.011359412, 0.012507168, 0.011341233, 0.011232871, 0.035308216, 0.012117627, 0.013560833, 0.013377388, 0.012123121, 0.011156427, 0.014484858, 0.010953186, 0.010660607, 0.010378206, 0.010820108, 0.0135569135, 0.011667548, 0.0112187425, 0.011313994, 0.011036133, 0.010471492, 0.010952753, 0.011035543, 0.010884001, 0.011813783, 0.011621483, 0.012736499, 0.0110791065, 0.011371557, 0.010931527, 0.013263761, 0.010494203, 0.010896921, 0.010737703, 0.010676627, 0.010933498, 0.010704614, 0.009970223, 0.011471426, 0.0126511995, 0.011475623, 0.010526958, 0.011205559, 0.011279123, 0.01082196, 0.010150309, 0.011532458, 0.012379817, 0.012338676, 0.010855693, 0.011512363, 0.012261083, 0.0109499525, 0.010614377, 0.010549544, 0.010972627, 0.011830321, 0.013067318, 0.009935411, 0.010977365, 0.014069395, 0.011521098, 0.012272593, 0.010058048, 0.014084018, 0.012274657, 0.012470149, 0.0138339065, 0.012897086, 0.010317105, 0.012781593, 0.010430831, 0.010506753, 0.011302785, 0.012628372, 0.016979551, 0.010113771, 0.010718924, 0.011876319, 0.012619189, 0.010618766, 0.012305846, 0.0112878075, 0.011229867, 0.010818209, 0.01169548, 0.013240968, 0.011842768, 0.012568872, 0.011159199, 0.011927959, 0.011237341, 0.013669433, 0.011970997, 0.01242022, 0.011312532, 0.013017928, 0.0116354255, 0.009738193, 0.012288816]\n",
      "2022-02-28 16:18:31,621 : INFO : merging changes from 1204 documents into a model of 3204 documents\n",
      "2022-02-28 16:18:31,627 : INFO : topic #98 (0.010): 0.077*\",\" + 0.064*\"text\" + 0.043*\"shift\" + 0.040*\"machin\" + 0.030*\"capabl\" + 0.029*\"memori\" + 0.025*\"code\" + 0.024*\"bit\" + 0.022*\"extens\" + 0.017*\"0\"\n",
      "2022-02-28 16:18:31,628 : INFO : topic #58 (0.010): 0.098*\"function\" + 0.095*\"subject\" + 0.094*\"recognit\" + 0.079*\"gamma\" + 0.052*\",\" + 0.050*\"s14\" + 0.036*\"procedur\" + 0.033*\"remov\" + 0.027*\"reflect\" + 0.025*\"effect\"\n",
      "2022-02-28 16:18:31,629 : INFO : topic #10 (0.014): 0.306*\"function\" + 0.159*\"order\" + 0.095*\"set\" + 0.088*\"find\" + 0.033*\"pair\" + 0.030*\"method\" + 0.028*\"defin\" + 0.023*\"known\" + 0.021*\"valu\" + 0.021*\"present\"\n",
      "2022-02-28 16:18:31,629 : INFO : topic #75 (0.017): 0.503*\"\"\" + 0.063*\"formula\" + 0.059*\"note\" + 0.047*\"'\" + 0.032*\"iter\" + 0.027*\"process\" + 0.026*\"read\" + 0.019*\"estim\" + 0.014*\"valid\" + 0.014*\"approxim\"\n",
      "2022-02-28 16:18:31,630 : INFO : topic #4 (0.035): 0.254*\"algorithm\" + 0.237*\"(\" + 0.154*\")\" + 0.096*\"[\" + 0.053*\"])\" + 0.027*\"$\" + 0.022*\"))\" + 0.016*\"-\" + 0.014*\"complex\" + 0.011*\"polynomi\"\n",
      "2022-02-28 16:18:31,631 : INFO : topic diff=0.352479, rho=0.281696\n",
      "2022-02-28 16:18:31,638 : INFO : PROGRESS: pass 11, at document #2000/3204\n",
      "2022-02-28 16:18:32,491 : INFO : optimized alpha [0.011383834, 0.012573839, 0.011457632, 0.011240176, 0.037383344, 0.0121543575, 0.013628135, 0.013452255, 0.012127713, 0.011115281, 0.014657283, 0.010980049, 0.010653302, 0.010391778, 0.010841014, 0.013694579, 0.011680687, 0.011213338, 0.011317452, 0.011049467, 0.010461193, 0.011025033, 0.011027154, 0.010919923, 0.011898869, 0.011689227, 0.012854944, 0.011067688, 0.011403329, 0.010930379, 0.013326608, 0.010524858, 0.010899427, 0.010756268, 0.010686074, 0.0109181255, 0.010742079, 0.009957641, 0.011527739, 0.012827743, 0.0114810355, 0.010514627, 0.011235522, 0.0113077955, 0.010835648, 0.010149427, 0.0114941895, 0.012449363, 0.0124434475, 0.010866053, 0.011558599, 0.012317759, 0.010975733, 0.010614404, 0.010631041, 0.011007838, 0.011817132, 0.013241165, 0.009940182, 0.011007164, 0.014061306, 0.011614931, 0.012388643, 0.010030728, 0.014230034, 0.0122997025, 0.012532806, 0.0140859485, 0.013183798, 0.010312856, 0.012845906, 0.010442403, 0.010542713, 0.011272728, 0.0127820335, 0.017217861, 0.010123243, 0.010770386, 0.011934863, 0.012772285, 0.010626891, 0.01226235, 0.011339239, 0.011290999, 0.010833433, 0.011713019, 0.0134985745, 0.011872921, 0.012652775, 0.011163412, 0.011976498, 0.011274433, 0.013788177, 0.011955451, 0.01245883, 0.0113875875, 0.013020561, 0.011708574, 0.009730196, 0.012394539]\n",
      "2022-02-28 16:18:32,498 : INFO : merging changes from 2000 documents into a model of 3204 documents\n",
      "2022-02-28 16:18:32,505 : INFO : topic #98 (0.010): 0.079*\",\" + 0.063*\"text\" + 0.042*\"machin\" + 0.037*\"shift\" + 0.029*\"capabl\" + 0.028*\"memori\" + 0.025*\"extens\" + 0.024*\"code\" + 0.022*\"bit\" + 0.016*\"origin\"\n",
      "2022-02-28 16:18:32,505 : INFO : topic #37 (0.010): 0.126*\",\" + 0.073*\"record\" + 0.041*\"procedur\" + 0.027*\"drum\" + 0.021*\"histori\" + 0.021*\"process\" + 0.020*\"job\" + 0.019*\"text\" + 0.019*\"gener\" + 0.018*\"receiv\"\n",
      "2022-02-28 16:18:32,506 : INFO : topic #10 (0.015): 0.323*\"function\" + 0.151*\"order\" + 0.094*\"set\" + 0.084*\"find\" + 0.031*\"pair\" + 0.030*\"method\" + 0.028*\"defin\" + 0.022*\"known\" + 0.020*\"valu\" + 0.019*\"present\"\n",
      "2022-02-28 16:18:32,507 : INFO : topic #75 (0.017): 0.489*\"\"\" + 0.069*\"formula\" + 0.063*\"note\" + 0.046*\"'\" + 0.038*\"iter\" + 0.029*\"process\" + 0.025*\"read\" + 0.019*\"estim\" + 0.014*\"approxim\" + 0.012*\"valid\"\n",
      "2022-02-28 16:18:32,507 : INFO : topic #4 (0.037): 0.250*\"algorithm\" + 0.238*\"(\" + 0.148*\")\" + 0.101*\"[\" + 0.069*\"])\" + 0.021*\"$\" + 0.017*\"))\" + 0.016*\"-\" + 0.013*\"complex\" + 0.012*\"polynomi\"\n",
      "2022-02-28 16:18:32,508 : INFO : topic diff=0.306850, rho=0.271143\n",
      "2022-02-28 16:18:33,504 : INFO : -6.482 per-word bound, 89.4 perplexity estimate based on a held-out corpus of 1204 documents with 49783 words\n",
      "2022-02-28 16:18:33,505 : INFO : PROGRESS: pass 11, at document #3204/3204\n",
      "2022-02-28 16:18:34,532 : INFO : optimized alpha [0.011489708, 0.012797769, 0.011550988, 0.011330619, 0.03813109, 0.012339609, 0.013813219, 0.01370403, 0.012323065, 0.011265724, 0.015043136, 0.011059361, 0.010750068, 0.010511933, 0.010934189, 0.0140196765, 0.011835352, 0.011370905, 0.011450273, 0.011162116, 0.010537904, 0.011130264, 0.011184433, 0.01101867, 0.012036055, 0.011876132, 0.01297748, 0.0112039745, 0.011553181, 0.011075857, 0.013563163, 0.010571446, 0.0109955, 0.010871736, 0.010793244, 0.011027097, 0.010844878, 0.009994634, 0.011670085, 0.012917274, 0.011620532, 0.010588419, 0.011347907, 0.011436301, 0.010946881, 0.010195936, 0.011632814, 0.012643976, 0.012663156, 0.010986733, 0.011681223, 0.012464352, 0.011096241, 0.010734555, 0.010665552, 0.011063349, 0.012005894, 0.013438811, 0.009985325, 0.011109679, 0.014374531, 0.011704638, 0.012540943, 0.010097309, 0.0145745715, 0.01252969, 0.012659749, 0.014327623, 0.013226671, 0.010395071, 0.013068647, 0.010507523, 0.01060553, 0.011402905, 0.012947988, 0.01766778, 0.010175639, 0.010877382, 0.012055101, 0.0128883775, 0.010741495, 0.012507343, 0.011443058, 0.011380102, 0.010899879, 0.011903327, 0.013615535, 0.012010817, 0.012864943, 0.011253021, 0.012128522, 0.011382989, 0.0140634235, 0.012169344, 0.01268144, 0.011500667, 0.013335277, 0.011876648, 0.009772961, 0.012482528]\n",
      "2022-02-28 16:18:34,541 : INFO : merging changes from 1204 documents into a model of 3204 documents\n",
      "2022-02-28 16:18:34,551 : INFO : topic #98 (0.010): 0.078*\",\" + 0.067*\"text\" + 0.043*\"shift\" + 0.041*\"machin\" + 0.031*\"capabl\" + 0.027*\"memori\" + 0.025*\"bit\" + 0.024*\"extens\" + 0.022*\"code\" + 0.021*\"0\"\n",
      "2022-02-28 16:18:34,553 : INFO : topic #58 (0.010): 0.099*\"function\" + 0.097*\"subject\" + 0.096*\"recognit\" + 0.080*\"gamma\" + 0.051*\",\" + 0.051*\"s14\" + 0.036*\"procedur\" + 0.033*\"remov\" + 0.027*\"reflect\" + 0.026*\"effect\"\n",
      "2022-02-28 16:18:34,554 : INFO : topic #10 (0.015): 0.316*\"function\" + 0.160*\"order\" + 0.094*\"set\" + 0.088*\"find\" + 0.033*\"pair\" + 0.028*\"method\" + 0.027*\"defin\" + 0.023*\"known\" + 0.021*\"present\" + 0.020*\"valu\"\n",
      "2022-02-28 16:18:34,555 : INFO : topic #75 (0.018): 0.510*\"\"\" + 0.063*\"formula\" + 0.059*\"note\" + 0.045*\"'\" + 0.032*\"iter\" + 0.027*\"process\" + 0.025*\"read\" + 0.019*\"estim\" + 0.014*\"valid\" + 0.014*\"approxim\"\n",
      "2022-02-28 16:18:34,556 : INFO : topic #4 (0.038): 0.256*\"algorithm\" + 0.238*\"(\" + 0.156*\")\" + 0.094*\"[\" + 0.053*\"])\" + 0.026*\"$\" + 0.022*\"))\" + 0.016*\"-\" + 0.014*\"complex\" + 0.010*\"polynomi\"\n",
      "2022-02-28 16:18:34,557 : INFO : topic diff=0.312850, rho=0.271143\n",
      "2022-02-28 16:18:34,568 : INFO : PROGRESS: pass 12, at document #2000/3204\n",
      "2022-02-28 16:18:35,701 : INFO : optimized alpha [0.011511865, 0.012860296, 0.011667469, 0.011340745, 0.040292386, 0.0123763895, 0.013881746, 0.013781543, 0.0123235015, 0.011231569, 0.015203641, 0.011085457, 0.010744494, 0.0105291, 0.010964566, 0.014159478, 0.011847678, 0.01136521, 0.011451887, 0.011176448, 0.010528104, 0.011199166, 0.011177346, 0.011054975, 0.012123557, 0.011948024, 0.013092931, 0.011192658, 0.011588268, 0.01107297, 0.013637911, 0.010602812, 0.01099939, 0.010895482, 0.010807999, 0.011016599, 0.010891179, 0.00998956, 0.011724604, 0.013089879, 0.011628552, 0.010578109, 0.011381303, 0.011462485, 0.010965808, 0.010195471, 0.011597153, 0.012712863, 0.012770161, 0.011003756, 0.011727592, 0.012522412, 0.0111196665, 0.010734445, 0.010747804, 0.011106484, 0.011993979, 0.013612589, 0.009991578, 0.0111385435, 0.014368542, 0.011802122, 0.012654048, 0.010068572, 0.0147187505, 0.012551479, 0.0127237225, 0.014579816, 0.013511901, 0.010389778, 0.013130581, 0.010517565, 0.010633649, 0.011372138, 0.013105124, 0.017900446, 0.010186413, 0.010936036, 0.012113485, 0.013036221, 0.010753526, 0.012467217, 0.011491538, 0.011438076, 0.010913465, 0.011915058, 0.013874192, 0.012039864, 0.012954798, 0.011258634, 0.012176992, 0.011408475, 0.014186186, 0.012154953, 0.01272477, 0.011570644, 0.013336004, 0.011952322, 0.009773316, 0.012587168]\n",
      "2022-02-28 16:18:35,707 : INFO : merging changes from 2000 documents into a model of 3204 documents\n",
      "2022-02-28 16:18:35,714 : INFO : topic #98 (0.010): 0.080*\",\" + 0.066*\"text\" + 0.043*\"machin\" + 0.037*\"shift\" + 0.029*\"capabl\" + 0.027*\"memori\" + 0.026*\"extens\" + 0.023*\"bit\" + 0.021*\"code\" + 0.019*\"0\"\n",
      "2022-02-28 16:18:35,714 : INFO : topic #37 (0.010): 0.125*\",\" + 0.078*\"record\" + 0.042*\"procedur\" + 0.028*\"drum\" + 0.022*\"histori\" + 0.021*\"job\" + 0.021*\"process\" + 0.019*\"receiv\" + 0.019*\"text\" + 0.019*\"gener\"\n",
      "2022-02-28 16:18:35,715 : INFO : topic #10 (0.015): 0.332*\"function\" + 0.153*\"order\" + 0.093*\"set\" + 0.085*\"find\" + 0.031*\"pair\" + 0.028*\"method\" + 0.027*\"defin\" + 0.022*\"known\" + 0.020*\"valu\" + 0.019*\"present\"\n",
      "2022-02-28 16:18:35,716 : INFO : topic #75 (0.018): 0.497*\"\"\" + 0.069*\"formula\" + 0.062*\"note\" + 0.044*\"'\" + 0.038*\"iter\" + 0.029*\"process\" + 0.025*\"read\" + 0.018*\"estim\" + 0.014*\"approxim\" + 0.012*\"short\"\n",
      "2022-02-28 16:18:35,716 : INFO : topic #4 (0.040): 0.253*\"algorithm\" + 0.239*\"(\" + 0.150*\")\" + 0.099*\"[\" + 0.069*\"])\" + 0.021*\"$\" + 0.017*\"))\" + 0.015*\"-\" + 0.013*\"complex\" + 0.011*\"polynomi\"\n",
      "2022-02-28 16:18:35,717 : INFO : topic diff=0.273463, rho=0.261694\n",
      "2022-02-28 16:18:36,750 : INFO : -6.471 per-word bound, 88.7 perplexity estimate based on a held-out corpus of 1204 documents with 49783 words\n",
      "2022-02-28 16:18:36,750 : INFO : PROGRESS: pass 12, at document #3204/3204\n",
      "2022-02-28 16:18:37,692 : INFO : optimized alpha [0.01161971, 0.013087685, 0.011762904, 0.011433642, 0.04094424, 0.012557063, 0.014064766, 0.014024683, 0.012505884, 0.011383, 0.015577517, 0.01116738, 0.010840996, 0.010657727, 0.01105992, 0.014491962, 0.011998242, 0.011526118, 0.011583576, 0.011283597, 0.010607295, 0.011303876, 0.011335439, 0.011153427, 0.012251621, 0.012143759, 0.013203169, 0.011330185, 0.011739162, 0.011217089, 0.01386613, 0.010648108, 0.011097694, 0.011015004, 0.010912189, 0.011122584, 0.010995802, 0.010025695, 0.011873361, 0.013181784, 0.011766865, 0.0106499065, 0.0114855105, 0.011590033, 0.01107155, 0.01024307, 0.011731974, 0.012911066, 0.012993575, 0.011126038, 0.011851914, 0.012667601, 0.011231972, 0.010851368, 0.010783488, 0.0111653125, 0.012177955, 0.013820275, 0.010033421, 0.011238188, 0.014687806, 0.01189162, 0.012796765, 0.010135536, 0.01506764, 0.012781739, 0.012847102, 0.014829385, 0.013548469, 0.010465218, 0.013342269, 0.010580903, 0.010706325, 0.011503752, 0.013292893, 0.01833507, 0.010246322, 0.011042508, 0.012230287, 0.013148629, 0.010869845, 0.012706508, 0.011587422, 0.011522063, 0.010982828, 0.012100715, 0.013986732, 0.012176786, 0.013179237, 0.011348231, 0.012322222, 0.011516377, 0.014440345, 0.012366333, 0.012936795, 0.011685512, 0.013638761, 0.012108532, 0.009817204, 0.012675041]\n",
      "2022-02-28 16:18:37,699 : INFO : merging changes from 1204 documents into a model of 3204 documents\n",
      "2022-02-28 16:18:37,706 : INFO : topic #98 (0.010): 0.080*\",\" + 0.070*\"text\" + 0.042*\"shift\" + 0.042*\"machin\" + 0.031*\"capabl\" + 0.026*\"memori\" + 0.025*\"extens\" + 0.025*\"bit\" + 0.024*\"0\" + 0.020*\"code\"\n",
      "2022-02-28 16:18:37,706 : INFO : topic #37 (0.010): 0.124*\",\" + 0.081*\"record\" + 0.043*\"procedur\" + 0.026*\"drum\" + 0.026*\"histori\" + 0.023*\"job\" + 0.022*\"receiv\" + 0.022*\"text\" + 0.020*\"process\" + 0.018*\"gener\"\n",
      "2022-02-28 16:18:37,707 : INFO : topic #10 (0.016): 0.325*\"function\" + 0.162*\"order\" + 0.095*\"set\" + 0.089*\"find\" + 0.033*\"pair\" + 0.027*\"defin\" + 0.026*\"method\" + 0.023*\"known\" + 0.021*\"present\" + 0.020*\"valu\"\n",
      "2022-02-28 16:18:37,707 : INFO : topic #75 (0.018): 0.520*\"\"\" + 0.064*\"formula\" + 0.059*\"note\" + 0.043*\"'\" + 0.033*\"iter\" + 0.027*\"process\" + 0.025*\"read\" + 0.017*\"estim\" + 0.014*\"valid\" + 0.013*\"approxim\"\n",
      "2022-02-28 16:18:37,708 : INFO : topic #4 (0.041): 0.258*\"algorithm\" + 0.239*\"(\" + 0.157*\")\" + 0.092*\"[\" + 0.054*\"])\" + 0.026*\"$\" + 0.022*\"))\" + 0.016*\"-\" + 0.015*\"complex\" + 0.010*\"polynomi\"\n",
      "2022-02-28 16:18:37,709 : INFO : topic diff=0.280017, rho=0.261694\n",
      "2022-02-28 16:18:37,717 : INFO : PROGRESS: pass 13, at document #2000/3204\n",
      "2022-02-28 16:18:38,769 : INFO : optimized alpha [0.0116426665, 0.013154747, 0.011876796, 0.01144356, 0.04315481, 0.012592406, 0.014129256, 0.014101404, 0.012505706, 0.011348069, 0.015743839, 0.011192829, 0.010838384, 0.0106728105, 0.011089532, 0.0146396225, 0.012012934, 0.011521626, 0.011587894, 0.011297444, 0.010599301, 0.011375413, 0.011329532, 0.011188724, 0.01234314, 0.012212031, 0.013314211, 0.011327651, 0.011773029, 0.011222493, 0.013940318, 0.010678825, 0.011101475, 0.0110407695, 0.010926475, 0.011118119, 0.011045012, 0.010021196, 0.011927715, 0.013350846, 0.011771413, 0.010638793, 0.011520849, 0.011609376, 0.011094135, 0.01024295, 0.011694247, 0.012982704, 0.013099598, 0.011152353, 0.011895387, 0.0127255265, 0.011258888, 0.010853908, 0.010863799, 0.011207427, 0.0121657355, 0.013996129, 0.010039822, 0.011267587, 0.014678329, 0.011988308, 0.012913731, 0.010107995, 0.015219657, 0.012805297, 0.012911019, 0.015085957, 0.013829187, 0.010470996, 0.013403788, 0.010593545, 0.010732365, 0.011478139, 0.013443552, 0.018562524, 0.010260833, 0.011096819, 0.0122901695, 0.013293308, 0.010882783, 0.012663051, 0.011639095, 0.011571177, 0.0109947575, 0.01211152, 0.014248428, 0.012206374, 0.01326835, 0.0113552315, 0.012367604, 0.011542556, 0.014574724, 0.012354598, 0.0129799945, 0.011753623, 0.013646454, 0.012185215, 0.009819089, 0.012777062]\n",
      "2022-02-28 16:18:38,776 : INFO : merging changes from 2000 documents into a model of 3204 documents\n",
      "2022-02-28 16:18:38,783 : INFO : topic #98 (0.010): 0.082*\",\" + 0.069*\"text\" + 0.045*\"machin\" + 0.037*\"shift\" + 0.030*\"capabl\" + 0.028*\"extens\" + 0.025*\"memori\" + 0.024*\"bit\" + 0.022*\"0\" + 0.019*\"code\"\n",
      "2022-02-28 16:18:38,784 : INFO : topic #58 (0.010): 0.102*\"function\" + 0.097*\"recognit\" + 0.089*\"subject\" + 0.081*\"gamma\" + 0.059*\"s14\" + 0.050*\",\" + 0.039*\"procedur\" + 0.028*\"remov\" + 0.024*\"subscript\" + 0.023*\"effect\"\n",
      "2022-02-28 16:18:38,785 : INFO : topic #10 (0.016): 0.341*\"function\" + 0.155*\"order\" + 0.094*\"set\" + 0.085*\"find\" + 0.032*\"pair\" + 0.027*\"defin\" + 0.027*\"method\" + 0.021*\"known\" + 0.020*\"present\" + 0.019*\"valu\"\n",
      "2022-02-28 16:18:38,786 : INFO : topic #75 (0.019): 0.506*\"\"\" + 0.070*\"formula\" + 0.062*\"note\" + 0.042*\"'\" + 0.038*\"iter\" + 0.029*\"process\" + 0.025*\"read\" + 0.017*\"estim\" + 0.013*\"approxim\" + 0.013*\"short\"\n",
      "2022-02-28 16:18:38,786 : INFO : topic #4 (0.043): 0.255*\"algorithm\" + 0.240*\"(\" + 0.151*\")\" + 0.098*\"[\" + 0.069*\"])\" + 0.021*\"$\" + 0.017*\"))\" + 0.015*\"-\" + 0.013*\"complex\" + 0.011*\"polynomi\"\n",
      "2022-02-28 16:18:38,787 : INFO : topic diff=0.246189, rho=0.253169\n",
      "2022-02-28 16:18:39,891 : INFO : -6.461 per-word bound, 88.1 perplexity estimate based on a held-out corpus of 1204 documents with 49783 words\n",
      "2022-02-28 16:18:39,892 : INFO : PROGRESS: pass 13, at document #3204/3204\n",
      "2022-02-28 16:18:40,714 : INFO : optimized alpha [0.011750128, 0.013380213, 0.0119695235, 0.0115292445, 0.043771286, 0.012771603, 0.014301651, 0.014339486, 0.012678623, 0.011503057, 0.01611593, 0.01127269, 0.010930128, 0.0107892975, 0.01118008, 0.014995877, 0.012157315, 0.01168348, 0.0117211975, 0.011409043, 0.010678737, 0.0114798, 0.011483925, 0.011294206, 0.012470457, 0.012403778, 0.013429773, 0.011466558, 0.011925231, 0.0113702975, 0.0141547555, 0.0107251955, 0.011202007, 0.011152623, 0.011028023, 0.011226141, 0.011158611, 0.01005664, 0.012072971, 0.013439602, 0.011903794, 0.010708799, 0.011627219, 0.011733707, 0.011194838, 0.010295974, 0.011825674, 0.013184764, 0.013327089, 0.011273973, 0.012016566, 0.012867087, 0.011370673, 0.010967921, 0.010900668, 0.011259879, 0.012345424, 0.0142056225, 0.010087064, 0.011367016, 0.014994525, 0.012077709, 0.013060891, 0.010177642, 0.015573436, 0.013038975, 0.013031122, 0.015343756, 0.013859876, 0.010546732, 0.0136052575, 0.010655277, 0.010803167, 0.01161138, 0.013618457, 0.018990185, 0.010317008, 0.011198208, 0.012403903, 0.013405127, 0.011000924, 0.012897189, 0.01173247, 0.01165789, 0.011062333, 0.012308409, 0.014362746, 0.012345037, 0.01349972, 0.011440077, 0.0125066675, 0.011645206, 0.014851768, 0.012566662, 0.0131902415, 0.0118655395, 0.013938117, 0.012342959, 0.009864017, 0.012862294]\n",
      "2022-02-28 16:18:40,721 : INFO : merging changes from 1204 documents into a model of 3204 documents\n",
      "2022-02-28 16:18:40,728 : INFO : topic #98 (0.010): 0.081*\",\" + 0.072*\"text\" + 0.042*\"shift\" + 0.042*\"machin\" + 0.031*\"capabl\" + 0.027*\"0\" + 0.026*\"extens\" + 0.026*\"bit\" + 0.024*\"memori\" + 0.020*\"origin\"\n",
      "2022-02-28 16:18:40,729 : INFO : topic #37 (0.010): 0.123*\",\" + 0.086*\"record\" + 0.044*\"procedur\" + 0.027*\"drum\" + 0.027*\"histori\" + 0.024*\"job\" + 0.023*\"receiv\" + 0.021*\"text\" + 0.020*\"process\" + 0.018*\"person\"\n",
      "2022-02-28 16:18:40,730 : INFO : topic #10 (0.016): 0.334*\"function\" + 0.163*\"order\" + 0.095*\"set\" + 0.089*\"find\" + 0.033*\"pair\" + 0.027*\"defin\" + 0.025*\"method\" + 0.023*\"known\" + 0.021*\"present\" + 0.019*\"valu\"\n",
      "2022-02-28 16:18:40,731 : INFO : topic #75 (0.019): 0.527*\"\"\" + 0.065*\"formula\" + 0.058*\"note\" + 0.041*\"'\" + 0.033*\"iter\" + 0.026*\"process\" + 0.025*\"read\" + 0.016*\"estim\" + 0.014*\"valid\" + 0.013*\"short\"\n",
      "2022-02-28 16:18:40,733 : INFO : topic #4 (0.044): 0.261*\"algorithm\" + 0.240*\"(\" + 0.158*\")\" + 0.090*\"[\" + 0.054*\"])\" + 0.026*\"$\" + 0.022*\"))\" + 0.016*\"-\" + 0.015*\"complex\" + 0.010*\"polynomi\"\n",
      "2022-02-28 16:18:40,733 : INFO : topic diff=0.252489, rho=0.253169\n",
      "2022-02-28 16:18:40,746 : INFO : PROGRESS: pass 14, at document #2000/3204\n",
      "2022-02-28 16:18:41,740 : INFO : optimized alpha [0.011773867, 0.013446806, 0.012088409, 0.011539038, 0.046049815, 0.012804025, 0.014362392, 0.014422529, 0.012676395, 0.0114701465, 0.016282523, 0.011301789, 0.010929018, 0.010806524, 0.011214494, 0.015157201, 0.0121713355, 0.011680078, 0.011726545, 0.011425296, 0.010672438, 0.011549688, 0.011480623, 0.011328613, 0.012564519, 0.012471718, 0.013540068, 0.011462427, 0.011959451, 0.011379457, 0.014223214, 0.010756655, 0.01120842, 0.011180402, 0.011043254, 0.0112273265, 0.011212043, 0.010052675, 0.012125819, 0.0136070885, 0.01191096, 0.010698209, 0.011663038, 0.011755318, 0.01121956, 0.010298666, 0.011790355, 0.013257585, 0.013442101, 0.011296727, 0.01206329, 0.012920271, 0.011398205, 0.01097164, 0.0109806135, 0.0113025205, 0.012334432, 0.014380416, 0.01009601, 0.011397019, 0.014992737, 0.012172278, 0.013173745, 0.01015244, 0.015731683, 0.013059425, 0.013093416, 0.015599469, 0.014131335, 0.010548538, 0.013668156, 0.0106690675, 0.010834041, 0.011590636, 0.013769536, 0.019212501, 0.010338918, 0.011256753, 0.012462253, 0.013548539, 0.011013446, 0.012861686, 0.011781459, 0.011705862, 0.011079637, 0.012315206, 0.014622595, 0.01237823, 0.013604929, 0.01144559, 0.012550667, 0.01166637, 0.014990477, 0.012559024, 0.013230105, 0.011936352, 0.013940634, 0.012417758, 0.009866165, 0.0129573615]\n",
      "2022-02-28 16:18:41,748 : INFO : merging changes from 2000 documents into a model of 3204 documents\n",
      "2022-02-28 16:18:41,755 : INFO : topic #98 (0.010): 0.083*\",\" + 0.072*\"text\" + 0.044*\"machin\" + 0.037*\"shift\" + 0.031*\"capabl\" + 0.028*\"extens\" + 0.025*\"0\" + 0.024*\"bit\" + 0.024*\"memori\" + 0.019*\"origin\"\n",
      "2022-02-28 16:18:41,756 : INFO : topic #37 (0.010): 0.124*\",\" + 0.087*\"record\" + 0.044*\"procedur\" + 0.030*\"drum\" + 0.023*\"job\" + 0.023*\"histori\" + 0.022*\"receiv\" + 0.020*\"process\" + 0.019*\"person\" + 0.019*\"gener\"\n",
      "2022-02-28 16:18:41,756 : INFO : topic #10 (0.016): 0.349*\"function\" + 0.156*\"order\" + 0.094*\"set\" + 0.086*\"find\" + 0.032*\"pair\" + 0.027*\"defin\" + 0.025*\"method\" + 0.021*\"known\" + 0.020*\"present\" + 0.018*\"valu\"\n",
      "2022-02-28 16:18:41,757 : INFO : topic #75 (0.019): 0.513*\"\"\" + 0.070*\"formula\" + 0.062*\"note\" + 0.041*\"'\" + 0.038*\"iter\" + 0.028*\"process\" + 0.025*\"read\" + 0.016*\"estim\" + 0.013*\"short\" + 0.013*\"approxim\"\n",
      "2022-02-28 16:18:41,758 : INFO : topic #4 (0.046): 0.258*\"algorithm\" + 0.241*\"(\" + 0.153*\")\" + 0.095*\"[\" + 0.068*\"])\" + 0.021*\"$\" + 0.017*\"))\" + 0.015*\"-\" + 0.013*\"complex\" + 0.011*\"polynomi\"\n",
      "2022-02-28 16:18:41,758 : INFO : topic diff=0.223159, rho=0.245426\n",
      "2022-02-28 16:18:42,752 : INFO : -6.454 per-word bound, 87.6 perplexity estimate based on a held-out corpus of 1204 documents with 49783 words\n",
      "2022-02-28 16:18:42,752 : INFO : PROGRESS: pass 14, at document #3204/3204\n",
      "2022-02-28 16:18:43,651 : INFO : optimized alpha [0.011873942, 0.013668165, 0.012176118, 0.011622627, 0.0465874, 0.012982021, 0.014524728, 0.014661822, 0.012837685, 0.011628715, 0.016649801, 0.011379708, 0.0110231275, 0.010929346, 0.011305166, 0.015500661, 0.012312429, 0.011845616, 0.011859128, 0.011538901, 0.010750012, 0.011649113, 0.011641036, 0.011436299, 0.012699062, 0.012657305, 0.013641315, 0.011595851, 0.01210831, 0.011519426, 0.01443919, 0.010801921, 0.011304257, 0.011289673, 0.011142394, 0.011328208, 0.011327598, 0.010087495, 0.012270306, 0.0136928605, 0.012040281, 0.010766577, 0.011771611, 0.011879165, 0.011322459, 0.010348375, 0.01192113, 0.0134556955, 0.01366849, 0.011410925, 0.012181647, 0.013058454, 0.011504978, 0.011092024, 0.011016385, 0.011355991, 0.012512731, 0.014597468, 0.010140124, 0.011493951, 0.015306571, 0.012264273, 0.013322783, 0.010220514, 0.016084496, 0.013286123, 0.013215987, 0.015853006, 0.0141564105, 0.010620318, 0.01387378, 0.010729333, 0.010900883, 0.011728029, 0.013954839, 0.019625895, 0.010406478, 0.011358049, 0.0125731835, 0.013659966, 0.0111357365, 0.013093766, 0.011872607, 0.011785582, 0.011143247, 0.012505649, 0.014729967, 0.012508621, 0.013843657, 0.011530773, 0.0126890745, 0.011766539, 0.015272175, 0.012769427, 0.013436156, 0.012055247, 0.014238684, 0.012579802, 0.009914176, 0.013042892]\n",
      "2022-02-28 16:18:43,658 : INFO : merging changes from 1204 documents into a model of 3204 documents\n",
      "2022-02-28 16:18:43,664 : INFO : topic #98 (0.010): 0.082*\",\" + 0.076*\"text\" + 0.042*\"shift\" + 0.042*\"machin\" + 0.033*\"capabl\" + 0.029*\"0\" + 0.027*\"extens\" + 0.027*\"bit\" + 0.023*\"memori\" + 0.020*\"origin\"\n",
      "2022-02-28 16:18:43,665 : INFO : topic #37 (0.010): 0.123*\",\" + 0.090*\"record\" + 0.045*\"procedur\" + 0.028*\"drum\" + 0.027*\"histori\" + 0.026*\"job\" + 0.024*\"receiv\" + 0.020*\"process\" + 0.019*\"text\" + 0.019*\"person\"\n",
      "2022-02-28 16:18:43,665 : INFO : topic #10 (0.017): 0.341*\"function\" + 0.164*\"order\" + 0.094*\"set\" + 0.089*\"find\" + 0.034*\"pair\" + 0.027*\"defin\" + 0.023*\"method\" + 0.023*\"known\" + 0.021*\"present\" + 0.018*\"valu\"\n",
      "2022-02-28 16:18:43,666 : INFO : topic #75 (0.020): 0.533*\"\"\" + 0.065*\"formula\" + 0.057*\"note\" + 0.040*\"'\" + 0.033*\"iter\" + 0.027*\"process\" + 0.025*\"read\" + 0.015*\"estim\" + 0.014*\"valid\" + 0.014*\"short\"\n",
      "2022-02-28 16:18:43,666 : INFO : topic #4 (0.047): 0.263*\"algorithm\" + 0.241*\"(\" + 0.160*\")\" + 0.088*\"[\" + 0.054*\"])\" + 0.026*\"$\" + 0.022*\"))\" + 0.016*\"-\" + 0.015*\"complex\" + 0.010*\"polynomi\"\n",
      "2022-02-28 16:18:43,667 : INFO : topic diff=0.229535, rho=0.245426\n",
      "2022-02-28 16:18:43,675 : INFO : PROGRESS: pass 15, at document #2000/3204\n",
      "2022-02-28 16:18:44,523 : INFO : optimized alpha [0.011897077, 0.013736004, 0.012297122, 0.011632265, 0.04889714, 0.013013176, 0.014581988, 0.014742385, 0.012841193, 0.0115976315, 0.016812807, 0.011412349, 0.011026057, 0.010946013, 0.011348348, 0.015662894, 0.012327312, 0.011841787, 0.011864135, 0.011554587, 0.010744021, 0.011720245, 0.0116346115, 0.011469874, 0.0127941845, 0.012724944, 0.013752675, 0.01159294, 0.012141453, 0.011530835, 0.014514426, 0.01083536, 0.011307802, 0.011326218, 0.011158533, 0.011333493, 0.011382496, 0.010091275, 0.012326122, 0.013850961, 0.012045609, 0.010756493, 0.011805049, 0.011898682, 0.011343819, 0.010354977, 0.011888027, 0.013528186, 0.013789404, 0.011434459, 0.012225751, 0.013108632, 0.011528971, 0.011098127, 0.011096054, 0.011396417, 0.012502939, 0.014769504, 0.010147877, 0.011521833, 0.015304862, 0.012355457, 0.013442909, 0.010192476, 0.016237512, 0.013305187, 0.013284692, 0.016106067, 0.014417266, 0.010627397, 0.0139364805, 0.010741651, 0.0109297605, 0.011709022, 0.014106785, 0.019840961, 0.0104416385, 0.0114207715, 0.012631643, 0.013800702, 0.011153198, 0.013061185, 0.011917663, 0.01183258, 0.011158983, 0.012519173, 0.014988172, 0.012539344, 0.013943291, 0.011534863, 0.012737911, 0.011792795, 0.015415279, 0.012762613, 0.013477678, 0.012127309, 0.014242965, 0.012660351, 0.009922391, 0.013137484]\n",
      "2022-02-28 16:18:44,530 : INFO : merging changes from 2000 documents into a model of 3204 documents\n",
      "2022-02-28 16:18:44,537 : INFO : topic #98 (0.010): 0.083*\",\" + 0.076*\"text\" + 0.044*\"machin\" + 0.037*\"shift\" + 0.033*\"capabl\" + 0.029*\"extens\" + 0.027*\"0\" + 0.025*\"bit\" + 0.023*\"memori\" + 0.020*\"origin\"\n",
      "2022-02-28 16:18:44,538 : INFO : topic #37 (0.010): 0.124*\",\" + 0.091*\"record\" + 0.045*\"procedur\" + 0.031*\"drum\" + 0.025*\"job\" + 0.023*\"histori\" + 0.022*\"receiv\" + 0.020*\"process\" + 0.020*\"person\" + 0.019*\"gener\"\n",
      "2022-02-28 16:18:44,539 : INFO : topic #10 (0.017): 0.356*\"function\" + 0.157*\"order\" + 0.094*\"set\" + 0.086*\"find\" + 0.032*\"pair\" + 0.027*\"defin\" + 0.024*\"method\" + 0.022*\"known\" + 0.020*\"present\" + 0.018*\"valu\"\n",
      "2022-02-28 16:18:44,540 : INFO : topic #75 (0.020): 0.519*\"\"\" + 0.070*\"formula\" + 0.060*\"note\" + 0.040*\"'\" + 0.038*\"iter\" + 0.029*\"process\" + 0.025*\"read\" + 0.016*\"estim\" + 0.013*\"short\" + 0.013*\"approxim\"\n",
      "2022-02-28 16:18:44,541 : INFO : topic #4 (0.049): 0.260*\"algorithm\" + 0.243*\"(\" + 0.155*\")\" + 0.093*\"[\" + 0.068*\"])\" + 0.021*\"$\" + 0.017*\"))\" + 0.015*\"-\" + 0.013*\"complex\" + 0.011*\"polynomi\"\n",
      "2022-02-28 16:18:44,542 : INFO : topic diff=0.204096, rho=0.238352\n",
      "2022-02-28 16:18:45,674 : INFO : -6.445 per-word bound, 87.1 perplexity estimate based on a held-out corpus of 1204 documents with 49783 words\n",
      "2022-02-28 16:18:45,675 : INFO : PROGRESS: pass 15, at document #3204/3204\n",
      "2022-02-28 16:18:46,522 : INFO : optimized alpha [0.01199726, 0.01396448, 0.012382479, 0.011713997, 0.049366996, 0.013192827, 0.014737759, 0.01498021, 0.013001654, 0.011755328, 0.017178882, 0.011490771, 0.011122524, 0.011068486, 0.0114369895, 0.016018692, 0.01247027, 0.01200638, 0.011998636, 0.0116703175, 0.010819896, 0.011808053, 0.01179182, 0.011579866, 0.012930888, 0.012919765, 0.013848519, 0.011723494, 0.012284876, 0.011674782, 0.014720546, 0.010879601, 0.011403777, 0.011435424, 0.011257657, 0.011436712, 0.011490941, 0.010123467, 0.012470019, 0.013939611, 0.012176942, 0.010823415, 0.011908824, 0.012017482, 0.011448966, 0.010407789, 0.012013592, 0.013725261, 0.014006768, 0.011550739, 0.012346292, 0.013246369, 0.011624094, 0.011218254, 0.011135256, 0.011457789, 0.012680208, 0.0149829285, 0.010193109, 0.0116165485, 0.01561377, 0.012445093, 0.013580753, 0.010259096, 0.016605675, 0.013530578, 0.013404431, 0.016358608, 0.014439844, 0.010695451, 0.014138281, 0.01080059, 0.010999477, 0.01183877, 0.014282822, 0.02025951, 0.010505585, 0.011524445, 0.012740012, 0.013911927, 0.011286458, 0.013289046, 0.012009105, 0.011920022, 0.0112233525, 0.012706055, 0.015091805, 0.012664387, 0.0141811855, 0.011622766, 0.012873309, 0.011890716, 0.015695944, 0.012971725, 0.013679824, 0.0122436425, 0.014542206, 0.012821885, 0.009969402, 0.013220767]\n",
      "2022-02-28 16:18:46,530 : INFO : merging changes from 1204 documents into a model of 3204 documents\n",
      "2022-02-28 16:18:46,538 : INFO : topic #98 (0.010): 0.082*\",\" + 0.079*\"text\" + 0.042*\"shift\" + 0.042*\"machin\" + 0.033*\"capabl\" + 0.030*\"0\" + 0.028*\"extens\" + 0.027*\"bit\" + 0.023*\"memori\" + 0.021*\"origin\"\n",
      "2022-02-28 16:18:46,539 : INFO : topic #37 (0.010): 0.122*\",\" + 0.094*\"record\" + 0.045*\"procedur\" + 0.029*\"drum\" + 0.027*\"job\" + 0.027*\"histori\" + 0.025*\"receiv\" + 0.019*\"person\" + 0.019*\"process\" + 0.018*\"gener\"\n",
      "2022-02-28 16:18:46,540 : INFO : topic #10 (0.017): 0.347*\"function\" + 0.165*\"order\" + 0.094*\"set\" + 0.089*\"find\" + 0.034*\"pair\" + 0.027*\"defin\" + 0.023*\"method\" + 0.023*\"known\" + 0.021*\"present\" + 0.017*\"valu\"\n",
      "2022-02-28 16:18:46,541 : INFO : topic #75 (0.020): 0.538*\"\"\" + 0.065*\"formula\" + 0.056*\"note\" + 0.039*\"'\" + 0.034*\"iter\" + 0.026*\"process\" + 0.025*\"read\" + 0.015*\"estim\" + 0.014*\"short\" + 0.014*\"valid\"\n",
      "2022-02-28 16:18:46,542 : INFO : topic #4 (0.049): 0.265*\"algorithm\" + 0.242*\"(\" + 0.160*\")\" + 0.086*\"[\" + 0.054*\"])\" + 0.026*\"$\" + 0.021*\"))\" + 0.015*\"-\" + 0.015*\"complex\" + 0.010*\"polynomi\"\n",
      "2022-02-28 16:18:46,543 : INFO : topic diff=0.209976, rho=0.238352\n",
      "2022-02-28 16:18:46,555 : INFO : PROGRESS: pass 16, at document #2000/3204\n",
      "2022-02-28 16:18:47,509 : INFO : optimized alpha [0.012022629, 0.014030327, 0.012500002, 0.011722161, 0.05173655, 0.013225921, 0.014795178, 0.015062034, 0.013001709, 0.011725958, 0.017334435, 0.0115172975, 0.0111241285, 0.011087226, 0.0114819, 0.016202567, 0.012488889, 0.012002167, 0.012004681, 0.011685555, 0.010815431, 0.01187503, 0.011787865, 0.011611285, 0.013025677, 0.012993275, 0.013951253, 0.011723219, 0.012318438, 0.011684275, 0.014793685, 0.01091123, 0.011411278, 0.01146976, 0.011273386, 0.011441878, 0.011554029, 0.010126295, 0.012527344, 0.014095061, 0.012183353, 0.010813786, 0.011945618, 0.012040652, 0.011472446, 0.010415669, 0.011979808, 0.013795857, 0.014125359, 0.011586994, 0.012392225, 0.0132952845, 0.01165431, 0.011225392, 0.011213449, 0.011500154, 0.012670097, 0.015168126, 0.010202112, 0.011646516, 0.01560311, 0.0125344945, 0.013700308, 0.010232023, 0.01676717, 0.013553126, 0.013470043, 0.016609216, 0.014693719, 0.010711245, 0.014202469, 0.010812785, 0.011034252, 0.011818698, 0.014435631, 0.020467542, 0.010543722, 0.011589986, 0.012794205, 0.014053435, 0.011303315, 0.01325622, 0.012050352, 0.011970181, 0.011241496, 0.012720212, 0.015350462, 0.012695759, 0.014286779, 0.011630839, 0.012919399, 0.011912179, 0.015832743, 0.01296433, 0.013719907, 0.0123184975, 0.014541394, 0.012897723, 0.00997765, 0.013315087]\n",
      "2022-02-28 16:18:47,518 : INFO : merging changes from 2000 documents into a model of 3204 documents\n",
      "2022-02-28 16:18:47,525 : INFO : topic #98 (0.010): 0.084*\",\" + 0.079*\"text\" + 0.043*\"machin\" + 0.037*\"shift\" + 0.033*\"capabl\" + 0.029*\"extens\" + 0.028*\"0\" + 0.025*\"bit\" + 0.022*\"memori\" + 0.021*\"origin\"\n",
      "2022-02-28 16:18:47,525 : INFO : topic #37 (0.010): 0.123*\",\" + 0.095*\"record\" + 0.046*\"procedur\" + 0.031*\"drum\" + 0.026*\"job\" + 0.023*\"histori\" + 0.023*\"receiv\" + 0.020*\"person\" + 0.020*\"process\" + 0.019*\"gener\"\n",
      "2022-02-28 16:18:47,526 : INFO : topic #10 (0.017): 0.362*\"function\" + 0.157*\"order\" + 0.093*\"set\" + 0.085*\"find\" + 0.032*\"pair\" + 0.027*\"defin\" + 0.023*\"method\" + 0.021*\"known\" + 0.020*\"present\" + 0.017*\"valu\"\n",
      "2022-02-28 16:18:47,527 : INFO : topic #75 (0.020): 0.525*\"\"\" + 0.070*\"formula\" + 0.059*\"note\" + 0.039*\"'\" + 0.039*\"iter\" + 0.028*\"process\" + 0.024*\"read\" + 0.015*\"estim\" + 0.014*\"short\" + 0.012*\"valid\"\n",
      "2022-02-28 16:18:47,527 : INFO : topic #4 (0.052): 0.262*\"algorithm\" + 0.243*\"(\" + 0.156*\")\" + 0.091*\"[\" + 0.067*\"])\" + 0.021*\"$\" + 0.017*\"))\" + 0.015*\"-\" + 0.013*\"complex\" + 0.011*\"polynomi\"\n",
      "2022-02-28 16:18:47,528 : INFO : topic diff=0.187803, rho=0.231857\n",
      "2022-02-28 16:18:48,498 : INFO : -6.438 per-word bound, 86.7 perplexity estimate based on a held-out corpus of 1204 documents with 49783 words\n",
      "2022-02-28 16:18:48,498 : INFO : PROGRESS: pass 16, at document #3204/3204\n",
      "2022-02-28 16:18:49,262 : INFO : optimized alpha [0.012120659, 0.014257946, 0.012580782, 0.011806696, 0.052150987, 0.01339719, 0.014950517, 0.015287227, 0.01316912, 0.01188751, 0.017689621, 0.0115918275, 0.01121431, 0.011211698, 0.011573125, 0.016555415, 0.012631469, 0.012159109, 0.012138862, 0.011796637, 0.01089186, 0.011963195, 0.011942164, 0.011714556, 0.013164725, 0.013185109, 0.014039253, 0.01185119, 0.01246144, 0.011827813, 0.015010565, 0.01095241, 0.0115075335, 0.011590266, 0.011370453, 0.011545231, 0.011658065, 0.010161852, 0.0126756085, 0.014183863, 0.012307318, 0.010879353, 0.012047247, 0.012159397, 0.011577683, 0.010473477, 0.012107439, 0.013992144, 0.014342004, 0.011701006, 0.012510309, 0.01343534, 0.011751987, 0.011347588, 0.011251632, 0.0115579385, 0.012841542, 0.01538398, 0.010248387, 0.011739232, 0.01591025, 0.01262689, 0.013848429, 0.010297312, 0.017118862, 0.013774915, 0.013602941, 0.016857764, 0.014719674, 0.010779955, 0.014398011, 0.010874678, 0.011102467, 0.011945826, 0.014602661, 0.020879889, 0.010604195, 0.011691524, 0.012897786, 0.014164597, 0.011431909, 0.0134801455, 0.012137439, 0.012051052, 0.011306748, 0.012898862, 0.015453415, 0.012810801, 0.014526908, 0.01171691, 0.013057075, 0.0120103285, 0.016112758, 0.013169866, 0.013921173, 0.012441833, 0.014836432, 0.013058764, 0.010029541, 0.013391067]\n",
      "2022-02-28 16:18:49,270 : INFO : merging changes from 1204 documents into a model of 3204 documents\n",
      "2022-02-28 16:18:49,278 : INFO : topic #98 (0.010): 0.083*\",\" + 0.083*\"text\" + 0.042*\"shift\" + 0.040*\"machin\" + 0.034*\"capabl\" + 0.031*\"0\" + 0.028*\"extens\" + 0.027*\"bit\" + 0.022*\"origin\" + 0.022*\"memori\"\n",
      "2022-02-28 16:18:49,279 : INFO : topic #37 (0.010): 0.122*\",\" + 0.098*\"record\" + 0.046*\"procedur\" + 0.030*\"drum\" + 0.028*\"job\" + 0.027*\"histori\" + 0.026*\"receiv\" + 0.020*\"person\" + 0.019*\"process\" + 0.018*\"gener\"\n",
      "2022-02-28 16:18:49,279 : INFO : topic #10 (0.018): 0.353*\"function\" + 0.166*\"order\" + 0.094*\"set\" + 0.088*\"find\" + 0.034*\"pair\" + 0.027*\"defin\" + 0.023*\"known\" + 0.022*\"method\" + 0.021*\"present\" + 0.018*\"assum\"\n",
      "2022-02-28 16:18:49,280 : INFO : topic #75 (0.021): 0.544*\"\"\" + 0.065*\"formula\" + 0.055*\"note\" + 0.039*\"'\" + 0.034*\"iter\" + 0.026*\"process\" + 0.025*\"read\" + 0.015*\"short\" + 0.014*\"valid\" + 0.013*\"estim\"\n",
      "2022-02-28 16:18:49,281 : INFO : topic #4 (0.052): 0.267*\"algorithm\" + 0.243*\"(\" + 0.161*\")\" + 0.084*\"[\" + 0.054*\"])\" + 0.026*\"$\" + 0.021*\"))\" + 0.015*\"-\" + 0.015*\"complex\" + 0.010*\"polynomi\"\n",
      "2022-02-28 16:18:49,284 : INFO : topic diff=0.193503, rho=0.231857\n",
      "2022-02-28 16:18:49,297 : INFO : PROGRESS: pass 17, at document #2000/3204\n",
      "2022-02-28 16:18:50,143 : INFO : optimized alpha [0.012145431, 0.014322004, 0.012695012, 0.011814741, 0.054622483, 0.013427747, 0.015003055, 0.015365219, 0.01317319, 0.011862419, 0.017845865, 0.011624522, 0.011218449, 0.011226015, 0.011621111, 0.016738748, 0.012647976, 0.0121532045, 0.012145926, 0.011810084, 0.010887596, 0.012030312, 0.011940625, 0.011749348, 0.013266677, 0.013253996, 0.014143314, 0.011853404, 0.012494065, 0.011843516, 0.015087065, 0.010983566, 0.01151353, 0.011626452, 0.01138709, 0.011548927, 0.011721216, 0.010168369, 0.012733006, 0.014338468, 0.012313444, 0.010870135, 0.012080472, 0.012179086, 0.011603197, 0.010481339, 0.012075685, 0.014061048, 0.014452117, 0.011733813, 0.012555186, 0.0134815145, 0.011782868, 0.011353105, 0.011325898, 0.011598256, 0.012832607, 0.015572105, 0.010257381, 0.011768519, 0.015901783, 0.012713246, 0.013966004, 0.010271123, 0.01727541, 0.013796244, 0.013673351, 0.017109852, 0.014971966, 0.010793073, 0.014463834, 0.010885523, 0.0111328205, 0.011928762, 0.0147396345, 0.021081029, 0.010644015, 0.011762502, 0.012955276, 0.014303835, 0.0114534525, 0.013445517, 0.012177887, 0.012105758, 0.01132724, 0.012913657, 0.015709285, 0.012841441, 0.014633909, 0.01172485, 0.01310503, 0.012035358, 0.016250635, 0.013163318, 0.0139645785, 0.012513787, 0.014835817, 0.013134464, 0.0100400485, 0.013483635]\n",
      "2022-02-28 16:18:50,150 : INFO : merging changes from 2000 documents into a model of 3204 documents\n",
      "2022-02-28 16:18:50,158 : INFO : topic #98 (0.010): 0.085*\",\" + 0.082*\"text\" + 0.041*\"machin\" + 0.037*\"shift\" + 0.034*\"capabl\" + 0.030*\"extens\" + 0.029*\"0\" + 0.026*\"bit\" + 0.022*\"origin\" + 0.021*\"memori\"\n",
      "2022-02-28 16:18:50,159 : INFO : topic #37 (0.010): 0.123*\",\" + 0.099*\"record\" + 0.047*\"procedur\" + 0.032*\"drum\" + 0.027*\"job\" + 0.024*\"receiv\" + 0.024*\"histori\" + 0.020*\"person\" + 0.019*\"process\" + 0.019*\"gener\"\n",
      "2022-02-28 16:18:50,159 : INFO : topic #10 (0.018): 0.367*\"function\" + 0.158*\"order\" + 0.093*\"set\" + 0.085*\"find\" + 0.033*\"pair\" + 0.026*\"defin\" + 0.022*\"method\" + 0.021*\"known\" + 0.020*\"present\" + 0.017*\"valu\"\n",
      "2022-02-28 16:18:50,160 : INFO : topic #75 (0.021): 0.530*\"\"\" + 0.070*\"formula\" + 0.058*\"note\" + 0.039*\"iter\" + 0.039*\"'\" + 0.028*\"process\" + 0.024*\"read\" + 0.014*\"short\" + 0.013*\"estim\" + 0.012*\"valid\"\n",
      "2022-02-28 16:18:50,160 : INFO : topic #4 (0.055): 0.264*\"algorithm\" + 0.244*\"(\" + 0.157*\")\" + 0.089*\"[\" + 0.067*\"])\" + 0.021*\"$\" + 0.017*\"))\" + 0.015*\"-\" + 0.013*\"complex\" + 0.011*\"polynomi\"\n",
      "2022-02-28 16:18:50,161 : INFO : topic diff=0.174305, rho=0.225865\n",
      "2022-02-28 16:18:51,167 : INFO : -6.432 per-word bound, 86.3 perplexity estimate based on a held-out corpus of 1204 documents with 49783 words\n",
      "2022-02-28 16:18:51,167 : INFO : PROGRESS: pass 17, at document #3204/3204\n",
      "2022-02-28 16:18:51,966 : INFO : optimized alpha [0.012241554, 0.0145571595, 0.012776233, 0.011897671, 0.055019468, 0.013590966, 0.015146672, 0.015586709, 0.013327683, 0.012023313, 0.018203495, 0.0116953235, 0.011306909, 0.0113504045, 0.011710509, 0.017095188, 0.012783184, 0.012309667, 0.01227993, 0.011921335, 0.010960489, 0.012118905, 0.012092236, 0.01186403, 0.013410687, 0.0134430295, 0.0142399, 0.011983524, 0.012632131, 0.011998009, 0.015291891, 0.011021892, 0.0116101075, 0.0117425965, 0.011486548, 0.011650322, 0.01183424, 0.0102052605, 0.01287869, 0.014422121, 0.012442045, 0.010934466, 0.012180087, 0.012293293, 0.01170861, 0.010542034, 0.012203164, 0.014251546, 0.014668446, 0.011843476, 0.012673415, 0.013616317, 0.011880845, 0.011481666, 0.0113631515, 0.011657123, 0.013005903, 0.015790528, 0.010302819, 0.011857151, 0.016204612, 0.012803639, 0.014106035, 0.010335197, 0.017639764, 0.014014673, 0.013793256, 0.017354643, 0.014995646, 0.0108625125, 0.0146616055, 0.010942142, 0.011205991, 0.012060295, 0.0149119375, 0.02148324, 0.010705246, 0.011868825, 0.013056653, 0.014420373, 0.011582036, 0.013665824, 0.012265571, 0.012184973, 0.011386869, 0.013091842, 0.015808824, 0.012951816, 0.014879175, 0.011809255, 0.013242515, 0.0121270185, 0.016530193, 0.0133729875, 0.014165146, 0.012634797, 0.015129712, 0.013295264, 0.0100928545, 0.013557836]\n",
      "2022-02-28 16:18:51,974 : INFO : merging changes from 1204 documents into a model of 3204 documents\n",
      "2022-02-28 16:18:51,981 : INFO : topic #98 (0.010): 0.085*\"text\" + 0.084*\",\" + 0.042*\"shift\" + 0.039*\"machin\" + 0.035*\"capabl\" + 0.032*\"0\" + 0.028*\"extens\" + 0.028*\"bit\" + 0.024*\"origin\" + 0.021*\"memori\"\n",
      "2022-02-28 16:18:51,981 : INFO : topic #37 (0.010): 0.122*\",\" + 0.102*\"record\" + 0.047*\"procedur\" + 0.030*\"drum\" + 0.028*\"job\" + 0.027*\"histori\" + 0.026*\"receiv\" + 0.020*\"person\" + 0.018*\"process\" + 0.018*\"gener\"\n",
      "2022-02-28 16:18:51,982 : INFO : topic #10 (0.018): 0.358*\"function\" + 0.166*\"order\" + 0.094*\"set\" + 0.087*\"find\" + 0.034*\"pair\" + 0.026*\"defin\" + 0.022*\"known\" + 0.021*\"method\" + 0.021*\"present\" + 0.018*\"assum\"\n",
      "2022-02-28 16:18:51,983 : INFO : topic #75 (0.021): 0.550*\"\"\" + 0.065*\"formula\" + 0.055*\"note\" + 0.038*\"'\" + 0.035*\"iter\" + 0.026*\"process\" + 0.025*\"read\" + 0.015*\"short\" + 0.013*\"valid\" + 0.012*\"approxim\"\n",
      "2022-02-28 16:18:51,983 : INFO : topic #4 (0.055): 0.269*\"algorithm\" + 0.243*\"(\" + 0.163*\")\" + 0.082*\"[\" + 0.054*\"])\" + 0.025*\"$\" + 0.021*\"))\" + 0.015*\"-\" + 0.015*\"complex\" + 0.010*\"polynomi\"\n",
      "2022-02-28 16:18:51,984 : INFO : topic diff=0.179277, rho=0.225865\n",
      "2022-02-28 16:18:51,993 : INFO : PROGRESS: pass 18, at document #2000/3204\n",
      "2022-02-28 16:18:52,735 : INFO : optimized alpha [0.012265819, 0.014625888, 0.0128887165, 0.011905635, 0.057479765, 0.013622054, 0.015197934, 0.015660996, 0.013335762, 0.011999633, 0.018358367, 0.011727394, 0.011307199, 0.011368044, 0.011761456, 0.01727042, 0.012801971, 0.0123048145, 0.012286561, 0.01193439, 0.010954017, 0.012186149, 0.0120943235, 0.011899305, 0.013511026, 0.013516376, 0.014346954, 0.011988129, 0.0126639, 0.012016997, 0.015375219, 0.011053806, 0.011614668, 0.011776702, 0.0115040485, 0.011657847, 0.011898818, 0.010215266, 0.012936287, 0.014580767, 0.012450571, 0.010928072, 0.012212609, 0.012313919, 0.01173226, 0.010551036, 0.012171957, 0.014318846, 0.014783003, 0.01187556, 0.0127159, 0.013664407, 0.0119123515, 0.011491944, 0.011437457, 0.011696736, 0.012996623, 0.015971322, 0.01031177, 0.0118885115, 0.016196582, 0.012891301, 0.014216987, 0.010308659, 0.017797241, 0.014037886, 0.013862226, 0.017606238, 0.015246623, 0.010875438, 0.014720866, 0.010956558, 0.011238272, 0.012042033, 0.015053495, 0.021679882, 0.010745559, 0.01193463, 0.013111582, 0.0145558845, 0.011602937, 0.01362947, 0.012306649, 0.012235984, 0.011409598, 0.013108688, 0.016065458, 0.012981771, 0.014997464, 0.011815795, 0.013295252, 0.012148853, 0.016667405, 0.013379088, 0.014205601, 0.012708143, 0.015137592, 0.013370957, 0.010102173, 0.013647333]\n",
      "2022-02-28 16:18:52,741 : INFO : merging changes from 2000 documents into a model of 3204 documents\n",
      "2022-02-28 16:18:52,748 : INFO : topic #98 (0.010): 0.086*\",\" + 0.085*\"text\" + 0.040*\"machin\" + 0.037*\"shift\" + 0.034*\"capabl\" + 0.030*\"0\" + 0.030*\"extens\" + 0.026*\"bit\" + 0.023*\"origin\" + 0.021*\"memori\"\n",
      "2022-02-28 16:18:52,749 : INFO : topic #37 (0.010): 0.123*\",\" + 0.103*\"record\" + 0.047*\"procedur\" + 0.033*\"drum\" + 0.027*\"job\" + 0.024*\"receiv\" + 0.024*\"histori\" + 0.020*\"person\" + 0.019*\"gener\" + 0.019*\"process\"\n",
      "2022-02-28 16:18:52,749 : INFO : topic #10 (0.018): 0.372*\"function\" + 0.159*\"order\" + 0.093*\"set\" + 0.084*\"find\" + 0.033*\"pair\" + 0.026*\"defin\" + 0.021*\"known\" + 0.021*\"method\" + 0.020*\"present\" + 0.017*\"valu\"\n",
      "2022-02-28 16:18:52,750 : INFO : topic #75 (0.022): 0.536*\"\"\" + 0.069*\"formula\" + 0.058*\"note\" + 0.039*\"iter\" + 0.038*\"'\" + 0.028*\"process\" + 0.024*\"read\" + 0.015*\"short\" + 0.012*\"valid\" + 0.012*\"approxim\"\n",
      "2022-02-28 16:18:52,750 : INFO : topic #4 (0.057): 0.265*\"algorithm\" + 0.244*\"(\" + 0.158*\")\" + 0.088*\"[\" + 0.066*\"])\" + 0.021*\"$\" + 0.017*\"))\" + 0.015*\"-\" + 0.014*\"complex\" + 0.011*\"polynomi\"\n",
      "2022-02-28 16:18:52,751 : INFO : topic diff=0.162477, rho=0.220316\n",
      "2022-02-28 16:18:53,704 : INFO : -6.427 per-word bound, 86.0 perplexity estimate based on a held-out corpus of 1204 documents with 49783 words\n",
      "2022-02-28 16:18:53,704 : INFO : PROGRESS: pass 18, at document #3204/3204\n",
      "2022-02-28 16:18:54,444 : INFO : optimized alpha [0.01236239, 0.014866094, 0.012972819, 0.011980462, 0.057835627, 0.013785096, 0.015344383, 0.01587609, 0.013490036, 0.012153523, 0.018715458, 0.011799071, 0.0113961445, 0.011488186, 0.011853559, 0.017646745, 0.012937122, 0.012458681, 0.012422772, 0.01203924, 0.011027626, 0.012273016, 0.0122412415, 0.012007644, 0.013652569, 0.013695229, 0.014444148, 0.012116017, 0.012797271, 0.012173526, 0.01557691, 0.011093447, 0.011711668, 0.011895183, 0.011601708, 0.011759572, 0.012009871, 0.010255341, 0.013084296, 0.0146648, 0.012576907, 0.010991273, 0.01231256, 0.01242605, 0.011840126, 0.010614493, 0.012292682, 0.014509026, 0.014996431, 0.0119854575, 0.012834323, 0.01379675, 0.012010688, 0.011618431, 0.011473855, 0.011747969, 0.013169459, 0.016210161, 0.010362086, 0.011977648, 0.01648932, 0.0129797775, 0.014359607, 0.010375383, 0.018158453, 0.0142557975, 0.013979789, 0.017850656, 0.015268087, 0.010949695, 0.01492367, 0.011016152, 0.011312133, 0.012173496, 0.015217132, 0.022072308, 0.010805607, 0.012034623, 0.013211019, 0.014669944, 0.011733727, 0.013851423, 0.012397255, 0.012322837, 0.011472385, 0.013286561, 0.016164653, 0.013099669, 0.0152455, 0.011898657, 0.013427858, 0.012241034, 0.01694035, 0.013583336, 0.014400419, 0.012831594, 0.015433614, 0.013529238, 0.010155921, 0.0137223415]\n",
      "2022-02-28 16:18:54,451 : INFO : merging changes from 1204 documents into a model of 3204 documents\n",
      "2022-02-28 16:18:54,459 : INFO : topic #98 (0.010): 0.087*\"text\" + 0.085*\",\" + 0.042*\"shift\" + 0.037*\"machin\" + 0.034*\"capabl\" + 0.033*\"0\" + 0.028*\"extens\" + 0.028*\"bit\" + 0.025*\"origin\" + 0.022*\"word\"\n",
      "2022-02-28 16:18:54,460 : INFO : topic #37 (0.010): 0.122*\",\" + 0.105*\"record\" + 0.047*\"procedur\" + 0.031*\"drum\" + 0.029*\"job\" + 0.027*\"histori\" + 0.026*\"receiv\" + 0.020*\"person\" + 0.019*\"gener\" + 0.019*\"occur\"\n",
      "2022-02-28 16:18:54,461 : INFO : topic #10 (0.019): 0.363*\"function\" + 0.167*\"order\" + 0.093*\"set\" + 0.087*\"find\" + 0.034*\"pair\" + 0.026*\"defin\" + 0.022*\"known\" + 0.021*\"present\" + 0.020*\"method\" + 0.018*\"assum\"\n",
      "2022-02-28 16:18:54,461 : INFO : topic #75 (0.022): 0.555*\"\"\" + 0.064*\"formula\" + 0.054*\"note\" + 0.038*\"'\" + 0.035*\"iter\" + 0.026*\"process\" + 0.025*\"read\" + 0.015*\"short\" + 0.013*\"valid\" + 0.011*\"approxim\"\n",
      "2022-02-28 16:18:54,462 : INFO : topic #4 (0.058): 0.271*\"algorithm\" + 0.244*\"(\" + 0.163*\")\" + 0.080*\"[\" + 0.054*\"])\" + 0.025*\"$\" + 0.021*\"))\" + 0.015*\"complex\" + 0.015*\"-\" + 0.010*\"gener\"\n",
      "2022-02-28 16:18:54,463 : INFO : topic diff=0.166922, rho=0.220316\n",
      "2022-02-28 16:18:54,471 : INFO : PROGRESS: pass 19, at document #2000/3204\n",
      "2022-02-28 16:18:55,260 : INFO : optimized alpha [0.012386136, 0.014928231, 0.013083667, 0.011989678, 0.060306065, 0.013813791, 0.015394432, 0.015953625, 0.013499125, 0.012131236, 0.018869283, 0.011835731, 0.0113951815, 0.011505373, 0.011903626, 0.017823534, 0.012953909, 0.012454862, 0.012434367, 0.012051964, 0.011022587, 0.012344455, 0.012241682, 0.012046118, 0.0137587385, 0.013765635, 0.014546313, 0.012117689, 0.012829611, 0.012195818, 0.01565329, 0.011124929, 0.011716076, 0.011931109, 0.0116188135, 0.011768112, 0.012078572, 0.010266461, 0.0131406905, 0.014821346, 0.01258234, 0.010983958, 0.012344422, 0.012440743, 0.011864513, 0.010623407, 0.012264695, 0.014576307, 0.015117247, 0.012018135, 0.012878721, 0.013842318, 0.0120441625, 0.0116308695, 0.01154702, 0.0117857205, 0.013161286, 0.016399426, 0.010372132, 0.012008393, 0.016479906, 0.013067415, 0.014473402, 0.010350712, 0.018313045, 0.01428397, 0.0140551515, 0.018104028, 0.015516299, 0.010962455, 0.014984625, 0.011030412, 0.011347564, 0.012159375, 0.015359992, 0.022264464, 0.01084526, 0.01210587, 0.013260607, 0.014803443, 0.011757868, 0.013814826, 0.012438866, 0.012371682, 0.01149352, 0.013301202, 0.016415328, 0.013127497, 0.015370084, 0.011905114, 0.013478045, 0.012265115, 0.017078863, 0.01359008, 0.0144427065, 0.012906428, 0.01543663, 0.01360497, 0.010166277, 0.013813393]\n",
      "2022-02-28 16:18:55,267 : INFO : merging changes from 2000 documents into a model of 3204 documents\n",
      "2022-02-28 16:18:55,273 : INFO : topic #98 (0.010): 0.087*\",\" + 0.087*\"text\" + 0.038*\"machin\" + 0.037*\"shift\" + 0.034*\"capabl\" + 0.031*\"0\" + 0.030*\"extens\" + 0.026*\"bit\" + 0.024*\"origin\" + 0.022*\"word\"\n",
      "2022-02-28 16:18:55,274 : INFO : topic #37 (0.010): 0.123*\",\" + 0.106*\"record\" + 0.047*\"procedur\" + 0.033*\"drum\" + 0.027*\"job\" + 0.024*\"receiv\" + 0.024*\"histori\" + 0.021*\"person\" + 0.020*\"gener\" + 0.019*\"process\"\n",
      "2022-02-28 16:18:55,275 : INFO : topic #10 (0.019): 0.376*\"function\" + 0.159*\"order\" + 0.093*\"set\" + 0.084*\"find\" + 0.033*\"pair\" + 0.026*\"defin\" + 0.021*\"known\" + 0.020*\"method\" + 0.020*\"present\" + 0.017*\"valu\"\n",
      "2022-02-28 16:18:55,275 : INFO : topic #75 (0.022): 0.542*\"\"\" + 0.069*\"formula\" + 0.057*\"note\" + 0.039*\"iter\" + 0.037*\"'\" + 0.028*\"process\" + 0.024*\"read\" + 0.015*\"short\" + 0.012*\"valid\" + 0.011*\"approxim\"\n",
      "2022-02-28 16:18:55,276 : INFO : topic #4 (0.060): 0.267*\"algorithm\" + 0.245*\"(\" + 0.159*\")\" + 0.086*\"[\" + 0.066*\"])\" + 0.021*\"$\" + 0.017*\"))\" + 0.014*\"-\" + 0.014*\"complex\" + 0.010*\"polynomi\"\n",
      "2022-02-28 16:18:55,276 : INFO : topic diff=0.151895, rho=0.215156\n",
      "2022-02-28 16:18:56,350 : INFO : -6.423 per-word bound, 85.8 perplexity estimate based on a held-out corpus of 1204 documents with 49783 words\n",
      "2022-02-28 16:18:56,351 : INFO : PROGRESS: pass 19, at document #3204/3204\n",
      "2022-02-28 16:18:57,121 : INFO : optimized alpha [0.012483214, 0.015170978, 0.013163623, 0.012063197, 0.060623188, 0.013976754, 0.0155380815, 0.016168315, 0.013651026, 0.012287144, 0.01922257, 0.011901808, 0.011488796, 0.011627791, 0.011996268, 0.018194532, 0.013086807, 0.012615194, 0.012570622, 0.012155045, 0.011094926, 0.012427468, 0.0123884985, 0.012156985, 0.013897993, 0.013949429, 0.014633516, 0.012245717, 0.01296307, 0.012352335, 0.015854811, 0.011163876, 0.011813601, 0.012052074, 0.011716861, 0.011872435, 0.012192133, 0.010307745, 0.013286356, 0.014903346, 0.0127088595, 0.0110461, 0.012447089, 0.012553205, 0.011970582, 0.010685788, 0.012385601, 0.014763697, 0.015330582, 0.012132725, 0.012995139, 0.01397238, 0.012138576, 0.011755356, 0.011582614, 0.011840275, 0.013331475, 0.0166353, 0.010419751, 0.012091644, 0.016774613, 0.013158793, 0.014616034, 0.01041447, 0.01867767, 0.014501584, 0.0141730085, 0.018335009, 0.015535682, 0.011027472, 0.015179114, 0.011090993, 0.011420081, 0.012293074, 0.015520816, 0.02264722, 0.010904146, 0.012210769, 0.013355815, 0.014915147, 0.011891016, 0.014031126, 0.01252556, 0.012452438, 0.0115551725, 0.013476527, 0.016514326, 0.013245793, 0.01561268, 0.0119908, 0.013615692, 0.012355694, 0.01735161, 0.013798779, 0.014639902, 0.013027774, 0.015732065, 0.013760908, 0.010220954, 0.013886779]\n",
      "2022-02-28 16:18:57,128 : INFO : merging changes from 1204 documents into a model of 3204 documents\n",
      "2022-02-28 16:18:57,134 : INFO : topic #98 (0.010): 0.089*\"text\" + 0.086*\",\" + 0.042*\"shift\" + 0.036*\"machin\" + 0.035*\"capabl\" + 0.034*\"0\" + 0.029*\"bit\" + 0.028*\"extens\" + 0.026*\"origin\" + 0.023*\"word\"\n",
      "2022-02-28 16:18:57,135 : INFO : topic #37 (0.010): 0.121*\",\" + 0.108*\"record\" + 0.046*\"procedur\" + 0.031*\"drum\" + 0.029*\"job\" + 0.027*\"histori\" + 0.026*\"receiv\" + 0.020*\"person\" + 0.019*\"gener\" + 0.019*\"head\"\n",
      "2022-02-28 16:18:57,136 : INFO : topic #10 (0.019): 0.366*\"function\" + 0.168*\"order\" + 0.094*\"set\" + 0.087*\"find\" + 0.034*\"pair\" + 0.026*\"defin\" + 0.022*\"known\" + 0.021*\"present\" + 0.019*\"method\" + 0.018*\"assum\"\n",
      "2022-02-28 16:18:57,136 : INFO : topic #75 (0.023): 0.560*\"\"\" + 0.064*\"formula\" + 0.054*\"note\" + 0.037*\"'\" + 0.035*\"iter\" + 0.026*\"process\" + 0.024*\"read\" + 0.016*\"short\" + 0.013*\"valid\" + 0.011*\"discuss\"\n",
      "2022-02-28 16:18:57,137 : INFO : topic #4 (0.061): 0.273*\"algorithm\" + 0.244*\"(\" + 0.164*\")\" + 0.079*\"[\" + 0.054*\"])\" + 0.025*\"$\" + 0.021*\"))\" + 0.015*\"complex\" + 0.015*\"-\" + 0.010*\"gener\"\n",
      "2022-02-28 16:18:57,138 : INFO : topic diff=0.156097, rho=0.215156\n"
     ]
    },
    {
     "data": {
      "text/plain": [
       "[(0, 0.0052352063),\n",
       " (1, 0.0063624005),\n",
       " (2, 0.0055205566),\n",
       " (3, 0.0050590597),\n",
       " (4, 0.025424134),\n",
       " (5, 0.005861567),\n",
       " (6, 0.006516356),\n",
       " (7, 0.006780663),\n",
       " (8, 0.0057249633),\n",
       " (9, 0.0051529785),\n",
       " (10, 0.008061556),\n",
       " (11, 0.004991377),\n",
       " (12, 0.004818168),\n",
       " (13, 0.0048764595),\n",
       " (14, 0.0050309915),\n",
       " (15, 0.007630417),\n",
       " (16, 0.005488341),\n",
       " (17, 0.0052905562),\n",
       " (18, 0.0052718637),\n",
       " (19, 0.005097579),\n",
       " (20, 0.004652987),\n",
       " (21, 0.005211828),\n",
       " (22, 0.005195485),\n",
       " (23, 0.0050983927),\n",
       " (24, 0.005828536),\n",
       " (25, 0.005850107),\n",
       " (26, 0.0061369995),\n",
       " (27, 0.005135605),\n",
       " (28, 0.0054364484),\n",
       " (29, 0.005180319),\n",
       " (30, 0.006649186),\n",
       " (31, 0.004681903),\n",
       " (32, 0.004954384),\n",
       " (33, 0.005054395),\n",
       " (34, 0.004913814),\n",
       " (35, 0.004979058),\n",
       " (36, 0.0051131328),\n",
       " (37, 0.004322859),\n",
       " (38, 0.005572028),\n",
       " (39, 0.0062501607),\n",
       " (40, 0.0053298376),\n",
       " (41, 0.0046325102),\n",
       " (42, 0.0052200565),\n",
       " (43, 0.0052645593),\n",
       " (44, 0.0050202194),\n",
       " (45, 0.004481402),\n",
       " (46, 0.0051942696),\n",
       " (47, 0.006191595),\n",
       " (48, 0.0064293346),\n",
       " (49, 0.0050882185),\n",
       " (50, 0.005449897),\n",
       " (51, 0.0058597326),\n",
       " (52, 0.4244671),\n",
       " (53, 0.0049299574),\n",
       " (54, 0.004857513),\n",
       " (55, 0.0049655708),\n",
       " (56, 0.0055909497),\n",
       " (57, 0.006976507),\n",
       " (58, 0.0043698316),\n",
       " (59, 0.00507099),\n",
       " (60, 0.0070349323),\n",
       " (61, 0.0055185305),\n",
       " (62, 0.006129668),\n",
       " (63, 0.0043676174),\n",
       " (64, 0.007833036),\n",
       " (65, 0.0060816696),\n",
       " (66, 0.005943872),\n",
       " (67, 0.0076893307),\n",
       " (68, 0.0065153497),\n",
       " (69, 0.004624698),\n",
       " (70, 0.0063658124),\n",
       " (71, 0.0046513374),\n",
       " (72, 0.00478935),\n",
       " (73, 0.0051554656),\n",
       " (74, 0.006509115),\n",
       " (75, 0.009497784),\n",
       " (76, 0.004572978),\n",
       " (77, 0.0051209484),\n",
       " (78, 0.0056011574),\n",
       " (79, 0.00625511),\n",
       " (80, 0.0049868505),\n",
       " (81, 0.0058843694),\n",
       " (82, 0.0052529657),\n",
       " (83, 0.0052222996),\n",
       " (84, 0.004846005),\n",
       " (85, 0.005651782),\n",
       " (86, 0.006925773),\n",
       " (87, 0.0055550165),\n",
       " (88, 0.006547641),\n",
       " (89, 0.0050286977),\n",
       " (90, 0.005710145),\n",
       " (91, 0.005181727),\n",
       " (92, 0.007276913),\n",
       " (93, 0.005786928),\n",
       " (94, 0.0061396775),\n",
       " (95, 0.005463584),\n",
       " (96, 0.0065977084),\n",
       " (97, 0.005771045),\n",
       " (98, 0.0042864606),\n",
       " (99, 0.005823833)]"
      ]
     },
     "execution_count": 89,
     "metadata": {},
     "output_type": "execute_result"
    }
   ],
   "source": [
    "##### Function check\n",
    "lda = LdaRetrievalModel(doc_repr_2)\n",
    "lda.train_model()\n",
    "\n",
    "# you can now get an LDA vector for a given query in the following way:\n",
    "lda.vectorize_query(\"report\")\n",
    "##### "
   ]
  },
  {
   "cell_type": "markdown",
   "metadata": {
    "deletable": false,
    "editable": false,
    "nbgrader": {
     "cell_type": "markdown",
     "checksum": "32d83b6ea79ca3ddb789a7f8805a1b25",
     "grade": false,
     "grade_id": "cell-0e24b727d5908c0e",
     "locked": true,
     "points": 5,
     "schema_version": 3,
     "solution": false,
     "task": true
    }
   },
   "source": [
    "\\#### Please do not change this. This cell is used for grading."
   ]
  },
  {
   "cell_type": "markdown",
   "metadata": {
    "deletable": false,
    "editable": false,
    "nbgrader": {
     "cell_type": "markdown",
     "checksum": "114a934f0b9ce696e6cf09d3b8da6a3d",
     "grade": false,
     "grade_id": "cell-b1bffcb970b18aeb",
     "locked": true,
     "schema_version": 3,
     "solution": false,
     "task": false
    }
   },
   "source": [
    "---\n",
    "Now we can use the `DenseRetrievalModel` class to obtain an LDA search function.\n",
    "You can test your LDA model in the following cell: Try finding queries which are lexically different to documents, but semantically similar - does LDA work well for these queries?!"
   ]
  },
  {
   "cell_type": "code",
   "execution_count": 90,
   "metadata": {},
   "outputs": [
    {
     "data": {
      "application/vnd.jupyter.widget-view+json": {
       "model_id": "65a107cfbd064812ab98a8d760ac4d2c",
       "version_major": 2,
       "version_minor": 0
      },
      "text/plain": [
       "Text(value='', description='Search Bar')"
      ]
     },
     "metadata": {},
     "output_type": "display_data"
    }
   ],
   "source": [
    "drm_lda = DenseRetrievalRanker(lda, jenson_shannon_sim)\n",
    "\n",
    "# test your LDA model\n",
    "search_fn = drm_lda.search\n",
    "\n",
    "text = widgets.Text(description=\"Search Bar\", width=200)\n",
    "display(text)\n",
    "\n",
    "\n",
    "text.on_submit(handle_submit_2)"
   ]
  },
  {
   "cell_type": "markdown",
   "metadata": {
    "deletable": false,
    "editable": false,
    "nbgrader": {
     "cell_type": "markdown",
     "checksum": "9d7f15863b655119b45f4d89354e5661",
     "grade": false,
     "grade_id": "cell-190cd0854b2791cc",
     "locked": true,
     "schema_version": 3,
     "solution": false,
     "task": false
    }
   },
   "source": [
    "## Section 8: Word2Vec/Doc2Vec (20 points) <a class=\"anchor\" id=\"2vec\"></a>\n",
    "\n",
    "[Back to Part 2](#part2)\n",
    "\n",
    "We will implement two other methods here, the Word2Vec model and the Doc2Vec model, also using `gensim`. Word2Vec creates representations of words, not documents, so the word level vectors need to be aggregated to obtain a representation for the document. Here, we will simply take the mean of the vectors. \n",
    "\n",
    "\n",
    "A drawback of these models is that they need a lot of training data. Our dataset is tiny, so in addition to using a model trained on the data, we will also use a pre-trained model for Word2Vec (this will be automatically downloaded).     \n",
    "\n",
    "*Note*:\n",
    "1. The code in vectorize_documents / vectorize_query should return gensim-like vectors i.e `[(dim, val), .. (dim, val)]`. \n",
    "2. For Word2Vec: You should also handle the following two cases: (a) A word in the query is not present in the vocabulary of the model and (b) none of the words in the query are present in the model - you can return 0 scores for all documents in this case. For either of these, you can check if a `word` is present in the vocab by using `word in self.model`\n"
   ]
  },
  {
   "cell_type": "code",
   "execution_count": 91,
   "metadata": {
    "deletable": false,
    "nbgrader": {
     "cell_type": "code",
     "checksum": "83ab733608ed14c29c09b36b4e1b6daa",
     "grade": false,
     "grade_id": "cell-2b73759f9baf688f",
     "locked": false,
     "schema_version": 3,
     "solution": true,
     "task": false
    }
   },
   "outputs": [
    {
     "name": "stderr",
     "output_type": "stream",
     "text": [
      "2022-02-28 16:19:03,903 : INFO : adding document #0 to Dictionary(0 unique tokens: [])\n",
      "2022-02-28 16:19:03,997 : INFO : built Dictionary(5937 unique tokens: ['-', 'algebra', 'intern', 'languag', 'preliminari']...) from 3204 documents (total 115969 corpus positions)\n",
      "2022-02-28 16:19:04,001 : INFO : discarding 4740 tokens: [('repeat', 8), ('glossari', 7), ('inspect', 8), ('uncol', 2), ('rung', 9), ('secant', 2), ('.', 1603), ('acceler', 6), ('diverg', 3), ('induc', 9)]...\n",
      "2022-02-28 16:19:04,002 : INFO : keeping 1197 tokens which were in no less than 10 and no more than 1602 (=50.0%) documents\n",
      "2022-02-28 16:19:04,005 : INFO : resulting dictionary: Dictionary(1197 unique tokens: ['-', 'algebra', 'intern', 'languag', 'preliminari']...)\n",
      "2022-02-28 16:19:04,057 : INFO : collecting all words and their counts\n",
      "2022-02-28 16:19:04,058 : INFO : PROGRESS: at sentence #0, processed 0 words, keeping 0 word types\n",
      "2022-02-28 16:19:04,072 : INFO : collected 5937 word types from a corpus of 115969 raw words and 3204 sentences\n",
      "2022-02-28 16:19:04,073 : INFO : Loading a fresh vocabulary\n",
      "2022-02-28 16:19:04,082 : INFO : effective_min_count=1 retains 5937 unique words (100% of original 5937, drops 0)\n",
      "2022-02-28 16:19:04,083 : INFO : effective_min_count=1 leaves 115969 word corpus (100% of original 115969, drops 0)\n",
      "2022-02-28 16:19:04,098 : INFO : deleting the raw counts dictionary of 5937 items\n",
      "2022-02-28 16:19:04,098 : INFO : sample=0.001 downsamples 40 most-common words\n",
      "2022-02-28 16:19:04,099 : INFO : downsampling leaves estimated 92346 word corpus (79.6% of prior 115969)\n",
      "2022-02-28 16:19:04,110 : INFO : estimated required memory for 5937 words and 100 dimensions: 7718100 bytes\n",
      "2022-02-28 16:19:04,110 : INFO : resetting layer weights\n",
      "2022-02-28 16:19:05,245 : INFO : training model with 3 workers on 5937 vocabulary and 100 features, using sg=0 hs=0 sample=0.001 negative=5 window=5\n",
      "2022-02-28 16:19:05,298 : INFO : worker thread finished; awaiting finish of 2 more threads\n",
      "2022-02-28 16:19:05,301 : INFO : worker thread finished; awaiting finish of 1 more threads\n",
      "2022-02-28 16:19:05,301 : INFO : worker thread finished; awaiting finish of 0 more threads\n",
      "2022-02-28 16:19:05,302 : INFO : EPOCH - 1 : training on 115969 raw words (92241 effective words) took 0.1s, 1685168 effective words/s\n",
      "2022-02-28 16:19:05,352 : INFO : worker thread finished; awaiting finish of 2 more threads\n",
      "2022-02-28 16:19:05,353 : INFO : worker thread finished; awaiting finish of 1 more threads\n",
      "2022-02-28 16:19:05,355 : INFO : worker thread finished; awaiting finish of 0 more threads\n",
      "2022-02-28 16:19:05,355 : INFO : EPOCH - 2 : training on 115969 raw words (92259 effective words) took 0.1s, 1844834 effective words/s\n",
      "2022-02-28 16:19:05,405 : INFO : worker thread finished; awaiting finish of 2 more threads\n",
      "2022-02-28 16:19:05,407 : INFO : worker thread finished; awaiting finish of 1 more threads\n",
      "2022-02-28 16:19:05,408 : INFO : worker thread finished; awaiting finish of 0 more threads\n",
      "2022-02-28 16:19:05,408 : INFO : EPOCH - 3 : training on 115969 raw words (92383 effective words) took 0.0s, 1854343 effective words/s\n",
      "2022-02-28 16:19:05,459 : INFO : worker thread finished; awaiting finish of 2 more threads\n",
      "2022-02-28 16:19:05,463 : INFO : worker thread finished; awaiting finish of 1 more threads\n",
      "2022-02-28 16:19:05,465 : INFO : worker thread finished; awaiting finish of 0 more threads\n",
      "2022-02-28 16:19:05,465 : INFO : EPOCH - 4 : training on 115969 raw words (92232 effective words) took 0.1s, 1751740 effective words/s\n",
      "2022-02-28 16:19:05,515 : INFO : worker thread finished; awaiting finish of 2 more threads\n",
      "2022-02-28 16:19:05,518 : INFO : worker thread finished; awaiting finish of 1 more threads\n",
      "2022-02-28 16:19:05,520 : INFO : worker thread finished; awaiting finish of 0 more threads\n",
      "2022-02-28 16:19:05,521 : INFO : EPOCH - 5 : training on 115969 raw words (92544 effective words) took 0.1s, 1794363 effective words/s\n",
      "2022-02-28 16:19:05,522 : INFO : training on a 579845 raw words (461659 effective words) took 0.3s, 1667752 effective words/s\n",
      "/tmp/ipykernel_185933/717104013.py:55: DeprecationWarning: Call to deprecated `__contains__` (Method will be removed in 4.0.0, use self.wv.__contains__() instead).\n",
      "  if word in self.model:\n",
      "/tmp/ipykernel_185933/717104013.py:56: DeprecationWarning: Call to deprecated `__getitem__` (Method will be removed in 4.0.0, use self.wv.__getitem__() instead).\n",
      "  query_vector += self.model[word] / len(query)\n"
     ]
    },
    {
     "data": {
      "text/plain": [
       "[(1, -0.21551625430583954),\n",
       " (2, -0.2980482876300812),\n",
       " (3, -0.5406239032745361),\n",
       " (4, -0.21668334305286407),\n",
       " (5, 0.7116746306419373),\n",
       " (6, -0.4076673984527588),\n",
       " (7, 1.0219032764434814),\n",
       " (8, 0.8442380428314209),\n",
       " (9, -0.0014012072933837771),\n",
       " (10, -0.2794373333454132),\n",
       " (11, 0.3079512119293213),\n",
       " (12, 0.5148074626922607),\n",
       " (13, -0.46686851978302),\n",
       " (14, 0.06825847178697586),\n",
       " (15, 0.2746673822402954),\n",
       " (16, -0.16638551652431488),\n",
       " (17, -0.06444980204105377),\n",
       " (18, -0.47130030393600464),\n",
       " (19, 0.5162020921707153),\n",
       " (20, 0.630375862121582),\n",
       " (21, 0.0821513757109642),\n",
       " (22, -0.4046340584754944),\n",
       " (23, 0.05106932297348976),\n",
       " (24, 0.22951926290988922),\n",
       " (25, 0.00895441509783268),\n",
       " (26, -0.15319205820560455),\n",
       " (27, 0.011072525754570961),\n",
       " (28, 0.14540758728981018),\n",
       " (29, 0.06810995936393738),\n",
       " (30, -0.264436274766922),\n",
       " (31, -0.3323058784008026),\n",
       " (32, -0.41526129841804504),\n",
       " (33, 0.14863570034503937),\n",
       " (34, -0.3505552411079407),\n",
       " (35, 0.0955561026930809),\n",
       " (36, -0.42528101801872253),\n",
       " (37, 0.3576911687850952),\n",
       " (38, -0.7805064916610718),\n",
       " (39, -0.1166844516992569),\n",
       " (40, -0.3406333923339844),\n",
       " (41, 0.38817787170410156),\n",
       " (42, -0.5601145625114441),\n",
       " (43, -0.6327014565467834),\n",
       " (44, -0.42658209800720215),\n",
       " (45, 0.28337323665618896),\n",
       " (46, -0.6658779978752136),\n",
       " (47, -0.33512774109840393),\n",
       " (48, 0.31330156326293945),\n",
       " (49, -0.7306886911392212),\n",
       " (50, -0.48142895102500916),\n",
       " (51, 0.30420127511024475),\n",
       " (52, 1.1581209897994995),\n",
       " (53, 0.7679876089096069),\n",
       " (54, -0.12422774732112885),\n",
       " (55, 0.8043510913848877),\n",
       " (56, 0.025941915810108185),\n",
       " (57, -0.30268391966819763),\n",
       " (58, -0.02635553851723671),\n",
       " (59, 0.036714062094688416),\n",
       " (60, 0.42313602566719055),\n",
       " (61, -0.20435337722301483),\n",
       " (62, 0.48104843497276306),\n",
       " (63, 0.04257482290267944),\n",
       " (64, -0.7439060807228088),\n",
       " (65, -0.047149449586868286),\n",
       " (66, 0.27282413840293884),\n",
       " (67, 0.03831777349114418),\n",
       " (68, 0.4613678455352783),\n",
       " (69, 0.42051273584365845),\n",
       " (70, 0.3074042499065399),\n",
       " (71, 0.37427082657814026),\n",
       " (72, 0.7420220375061035),\n",
       " (73, 0.5766115188598633),\n",
       " (74, 0.4289565086364746),\n",
       " (75, 0.5517273545265198),\n",
       " (76, -0.3431905508041382),\n",
       " (77, 0.22299256920814514),\n",
       " (78, -0.8003022074699402),\n",
       " (79, 0.1796211153268814),\n",
       " (80, -0.5896636247634888),\n",
       " (81, 0.16577409207820892),\n",
       " (82, 0.10467519611120224),\n",
       " (83, 0.5212576389312744),\n",
       " (84, 0.38186806440353394),\n",
       " (85, -0.04596395045518875),\n",
       " (86, 0.6466152667999268),\n",
       " (87, 0.18346504867076874),\n",
       " (88, -0.28213194012641907),\n",
       " (89, 0.05580426752567291),\n",
       " (90, 0.4907909333705902),\n",
       " (91, 0.13285206258296967),\n",
       " (92, 0.17010512948036194),\n",
       " (93, -0.30745407938957214),\n",
       " (94, 0.04415527731180191),\n",
       " (95, -0.2710922658443451),\n",
       " (96, -0.13937735557556152),\n",
       " (97, 0.6387066841125488),\n",
       " (98, 0.5557037591934204),\n",
       " (99, 0.3387819230556488),\n",
       " (100, -0.1698259562253952)]"
      ]
     },
     "execution_count": 91,
     "metadata": {},
     "output_type": "execute_result"
    }
   ],
   "source": [
    "# TODO: Implement this! (10 points)\n",
    "class W2VRetrievalModel(VectorSpaceRetrievalModel):\n",
    "    def __init__(self, doc_repr):\n",
    "        super().__init__(doc_repr)\n",
    "        \n",
    "        # the dimensionality of the vectors\n",
    "        self.size = 100 \n",
    "        self.min_count = 1\n",
    "        \n",
    "        # set the sentences\n",
    "        self.doc_ids = [x[0] for x in doc_repr]\n",
    "        self.sentences = [x[1] for x in doc_repr]\n",
    "    \n",
    "    def train_model(self):\n",
    "        \"\"\"\n",
    "        Trains the W2V model\n",
    "        \"\"\"\n",
    "        # YOUR CODE HERE\n",
    "        self.model = Word2Vec(sentences=self.documents, size=self.size, min_count=self.min_count)\n",
    "        \n",
    "    def vectorize_documents(self):\n",
    "        \"\"\"\n",
    "            Returns a doc_id -> vector dictionary\n",
    "        \"\"\"\n",
    "        # YOUR CODE HERE\n",
    "\n",
    "        from collections import defaultdict\n",
    "\n",
    "        # document_vectors = defaultdict(lambda: np.zeros(self.size))\n",
    "        document_vectors = {doc_id: np.zeros(self.size) for doc_id in self.doc_ids}\n",
    "        for i in range(len(self.doc_ids)):\n",
    "            doc_id = self.doc_ids[i]\n",
    "            sentence = self.sentences[i]\n",
    "\n",
    "            for word in sentence:\n",
    "                if word in self.model:\n",
    "                    document_vectors[doc_id] += self.model[word] / len(sentence)\n",
    "        \n",
    "        for doc_id in self.doc_ids:\n",
    "            document_vectors[doc_id] = [(i+1, val) for i, val in enumerate(document_vectors[doc_id])]\n",
    "        \n",
    "        return document_vectors\n",
    "\n",
    "    def vectorize_query(self, query):\n",
    "        \"\"\"\n",
    "        Vectorizes the query using the W2V model\n",
    "        \"\"\"\n",
    "        query = process_text(query, **config_2)\n",
    "\n",
    "        # YOUR CODE HERE\n",
    "        # raise NotImplementedError()\n",
    "        \n",
    "        query_vector = np.zeros(self.size)\n",
    "        for word in query:\n",
    "            if word in self.model:\n",
    "                query_vector += self.model[word] / len(query)\n",
    "\n",
    "        query_vector = [(i+1, val) for i, val in enumerate(query_vector)]\n",
    "\n",
    "        return query_vector\n",
    "    \n",
    "class W2VPretrainedRetrievalModel(W2VRetrievalModel):\n",
    "    def __init__(self, doc_repr):\n",
    "        super().__init__(doc_repr)\n",
    "        self.model_name = \"word2vec-google-news-300\"\n",
    "        self.size = 300\n",
    "    \n",
    "    def train_model(self):\n",
    "        \"\"\"\n",
    "        Loads the pretrained model\n",
    "        \"\"\"\n",
    "        self.model = g_downloader.load(self.model_name)\n",
    "\n",
    "w2v = W2VRetrievalModel(doc_repr_2)\n",
    "w2v.train_model()\n",
    "\n",
    "# you can now get a W2V vector for a given query in the following way:\n",
    "w2v.vectorize_query(\"report\")"
   ]
  },
  {
   "cell_type": "code",
   "execution_count": 92,
   "metadata": {
    "deletable": false,
    "editable": false,
    "nbgrader": {
     "cell_type": "code",
     "checksum": "f92b5c5a8c6c4b80652b94223209ab0b",
     "grade": true,
     "grade_id": "cell-b31c0f8d214b8bdf",
     "locked": true,
     "points": 0,
     "schema_version": 3,
     "solution": false,
     "task": false
    }
   },
   "outputs": [
    {
     "name": "stderr",
     "output_type": "stream",
     "text": [
      "/tmp/ipykernel_185933/717104013.py:55: DeprecationWarning: Call to deprecated `__contains__` (Method will be removed in 4.0.0, use self.wv.__contains__() instead).\n",
      "  if word in self.model:\n",
      "/tmp/ipykernel_185933/717104013.py:56: DeprecationWarning: Call to deprecated `__getitem__` (Method will be removed in 4.0.0, use self.wv.__getitem__() instead).\n",
      "  query_vector += self.model[word] / len(query)\n"
     ]
    }
   ],
   "source": [
    "assert len(w2v.vectorize_query(\"report\")) == 100\n",
    "assert len(w2v.vectorize_query(\"this is a sentence that is not mellifluous\")) == 100\n"
   ]
  },
  {
   "cell_type": "markdown",
   "metadata": {
    "deletable": false,
    "editable": false,
    "nbgrader": {
     "cell_type": "markdown",
     "checksum": "8dfaabebcb06f308a7ca61fdc5d369e7",
     "grade": false,
     "grade_id": "cell-c2614fa067386384",
     "locked": true,
     "points": 8,
     "schema_version": 3,
     "solution": false,
     "task": true
    }
   },
   "source": [
    "\\#### Please do not change this. This cell is used for grading."
   ]
  },
  {
   "cell_type": "code",
   "execution_count": 93,
   "metadata": {},
   "outputs": [
    {
     "name": "stderr",
     "output_type": "stream",
     "text": [
      "2022-02-28 16:19:05,579 : INFO : adding document #0 to Dictionary(0 unique tokens: [])\n",
      "2022-02-28 16:19:05,680 : INFO : built Dictionary(5937 unique tokens: ['-', 'algebra', 'intern', 'languag', 'preliminari']...) from 3204 documents (total 115969 corpus positions)\n",
      "2022-02-28 16:19:05,684 : INFO : discarding 4740 tokens: [('repeat', 8), ('glossari', 7), ('inspect', 8), ('uncol', 2), ('rung', 9), ('secant', 2), ('.', 1603), ('acceler', 6), ('diverg', 3), ('induc', 9)]...\n",
      "2022-02-28 16:19:05,685 : INFO : keeping 1197 tokens which were in no less than 10 and no more than 1602 (=50.0%) documents\n",
      "2022-02-28 16:19:05,687 : INFO : resulting dictionary: Dictionary(1197 unique tokens: ['-', 'algebra', 'intern', 'languag', 'preliminari']...)\n",
      "2022-02-28 16:19:05,837 : INFO : loading projection weights from /home/john/gensim-data/word2vec-google-news-300/word2vec-google-news-300.gz\n",
      "2022-02-28 16:19:55,820 : INFO : loaded (3000000, 300) matrix from /home/john/gensim-data/word2vec-google-news-300/word2vec-google-news-300.gz\n"
     ]
    },
    {
     "data": {
      "text/plain": [
       "[(1, -0.142578125),\n",
       " (2, -0.1640625),\n",
       " (3, -0.09033203125),\n",
       " (4, -0.1123046875),\n",
       " (5, 0.10009765625),\n",
       " (6, -0.041259765625),\n",
       " (7, 0.048828125),\n",
       " (8, -0.13671875),\n",
       " (9, 0.1962890625),\n",
       " (10, -0.134765625),\n",
       " (11, -0.017578125),\n",
       " (12, 0.0322265625),\n",
       " (13, 0.09521484375),\n",
       " (14, -0.10595703125),\n",
       " (15, -0.169921875),\n",
       " (16, 0.041015625),\n",
       " (17, -0.263671875),\n",
       " (18, -0.006317138671875),\n",
       " (19, -0.177734375),\n",
       " (20, -0.240234375),\n",
       " (21, 0.3515625),\n",
       " (22, -0.01220703125),\n",
       " (23, -0.162109375),\n",
       " (24, -0.12060546875),\n",
       " (25, 0.043212890625),\n",
       " (26, 0.10986328125),\n",
       " (27, 0.052490234375),\n",
       " (28, 0.1787109375),\n",
       " (29, -0.1455078125),\n",
       " (30, 0.1376953125),\n",
       " (31, -0.08203125),\n",
       " (32, -0.283203125),\n",
       " (33, -0.10888671875),\n",
       " (34, -0.2890625),\n",
       " (35, 0.072265625),\n",
       " (36, -0.04736328125),\n",
       " (37, 0.040283203125),\n",
       " (38, 0.06787109375),\n",
       " (39, 0.11669921875),\n",
       " (40, 0.00083160400390625),\n",
       " (41, 0.068359375),\n",
       " (42, 0.1201171875),\n",
       " (43, -0.08837890625),\n",
       " (44, 0.337890625),\n",
       " (45, -0.044677734375),\n",
       " (46, -0.0301513671875),\n",
       " (47, 0.0076904296875),\n",
       " (48, -0.0211181640625),\n",
       " (49, -0.25390625),\n",
       " (50, 0.1494140625),\n",
       " (51, 0.3984375),\n",
       " (52, 0.0216064453125),\n",
       " (53, -0.023193359375),\n",
       " (54, 0.00634765625),\n",
       " (55, 0.00823974609375),\n",
       " (56, -0.1689453125),\n",
       " (57, 0.037353515625),\n",
       " (58, -0.0634765625),\n",
       " (59, 0.1171875),\n",
       " (60, -0.1484375),\n",
       " (61, -0.07861328125),\n",
       " (62, 0.369140625),\n",
       " (63, -0.224609375),\n",
       " (64, 0.173828125),\n",
       " (65, 0.01385498046875),\n",
       " (66, 0.1875),\n",
       " (67, -0.10107421875),\n",
       " (68, 0.037841796875),\n",
       " (69, 0.0021209716796875),\n",
       " (70, -0.05126953125),\n",
       " (71, 0.09619140625),\n",
       " (72, -0.05712890625),\n",
       " (73, 0.10595703125),\n",
       " (74, -0.02099609375),\n",
       " (75, 0.1611328125),\n",
       " (76, 0.09765625),\n",
       " (77, 0.038330078125),\n",
       " (78, 0.2197265625),\n",
       " (79, 0.1064453125),\n",
       " (80, 0.0859375),\n",
       " (81, 0.1796875),\n",
       " (82, -0.0830078125),\n",
       " (83, -0.033203125),\n",
       " (84, 0.041015625),\n",
       " (85, -0.06494140625),\n",
       " (86, 0.0198974609375),\n",
       " (87, 0.1337890625),\n",
       " (88, -0.09765625),\n",
       " (89, -0.193359375),\n",
       " (90, -0.2353515625),\n",
       " (91, 0.1904296875),\n",
       " (92, 0.0024871826171875),\n",
       " (93, -0.0157470703125),\n",
       " (94, 0.0322265625),\n",
       " (95, -0.2197265625),\n",
       " (96, -0.09130859375),\n",
       " (97, 0.021240234375),\n",
       " (98, 0.158203125),\n",
       " (99, 0.298828125),\n",
       " (100, -0.328125),\n",
       " (101, 0.057373046875),\n",
       " (102, -0.04638671875),\n",
       " (103, 0.11328125),\n",
       " (104, -0.1015625),\n",
       " (105, 0.1806640625),\n",
       " (106, -0.025146484375),\n",
       " (107, -0.166015625),\n",
       " (108, -0.09619140625),\n",
       " (109, 0.018798828125),\n",
       " (110, -0.1943359375),\n",
       " (111, 0.1494140625),\n",
       " (112, -0.056640625),\n",
       " (113, -0.10693359375),\n",
       " (114, -0.150390625),\n",
       " (115, -0.17578125),\n",
       " (116, 0.11279296875),\n",
       " (117, 0.04931640625),\n",
       " (118, 0.2197265625),\n",
       " (119, 0.318359375),\n",
       " (120, 0.1572265625),\n",
       " (121, -0.29296875),\n",
       " (122, 0.10498046875),\n",
       " (123, -0.296875),\n",
       " (124, -0.013427734375),\n",
       " (125, 0.0908203125),\n",
       " (126, 0.0125732421875),\n",
       " (127, -0.051513671875),\n",
       " (128, -0.12890625),\n",
       " (129, 0.01446533203125),\n",
       " (130, 0.12060546875),\n",
       " (131, -0.10107421875),\n",
       " (132, -0.111328125),\n",
       " (133, 0.06396484375),\n",
       " (134, -0.052978515625),\n",
       " (135, -0.043212890625),\n",
       " (136, -0.012939453125),\n",
       " (137, -0.027587890625),\n",
       " (138, -0.09716796875),\n",
       " (139, -0.2021484375),\n",
       " (140, 0.123046875),\n",
       " (141, -0.04248046875),\n",
       " (142, 0.173828125),\n",
       " (143, -0.013671875),\n",
       " (144, 0.1015625),\n",
       " (145, -0.00093841552734375),\n",
       " (146, -0.03564453125),\n",
       " (147, 0.30078125),\n",
       " (148, -0.068359375),\n",
       " (149, -0.05615234375),\n",
       " (150, 0.03759765625),\n",
       " (151, 0.06591796875),\n",
       " (152, 0.040283203125),\n",
       " (153, 0.01190185546875),\n",
       " (154, 0.09619140625),\n",
       " (155, 0.3671875),\n",
       " (156, -0.279296875),\n",
       " (157, -0.052001953125),\n",
       " (158, -0.10693359375),\n",
       " (159, -0.134765625),\n",
       " (160, -0.046142578125),\n",
       " (161, 0.25),\n",
       " (162, 0.00567626953125),\n",
       " (163, -0.014404296875),\n",
       " (164, -0.031005859375),\n",
       " (165, -0.060302734375),\n",
       " (166, 0.10595703125),\n",
       " (167, 0.37890625),\n",
       " (168, 0.058837890625),\n",
       " (169, 0.123046875),\n",
       " (170, -0.115234375),\n",
       " (171, 0.1494140625),\n",
       " (172, -0.1640625),\n",
       " (173, -0.2333984375),\n",
       " (174, -0.07763671875),\n",
       " (175, 0.0267333984375),\n",
       " (176, -0.0211181640625),\n",
       " (177, 0.1943359375),\n",
       " (178, -0.05615234375),\n",
       " (179, -0.006439208984375),\n",
       " (180, -0.169921875),\n",
       " (181, -0.11865234375),\n",
       " (182, -0.0673828125),\n",
       " (183, -0.06884765625),\n",
       " (184, -0.0869140625),\n",
       " (185, -0.1015625),\n",
       " (186, 0.01416015625),\n",
       " (187, -0.201171875),\n",
       " (188, 0.09814453125),\n",
       " (189, -0.01025390625),\n",
       " (190, 0.1875),\n",
       " (191, 0.1962890625),\n",
       " (192, -0.220703125),\n",
       " (193, -0.1962890625),\n",
       " (194, -0.07373046875),\n",
       " (195, 0.06640625),\n",
       " (196, -0.1337890625),\n",
       " (197, 0.18359375),\n",
       " (198, -0.2001953125),\n",
       " (199, 0.1982421875),\n",
       " (200, 0.05029296875),\n",
       " (201, 0.0299072265625),\n",
       " (202, 0.0177001953125),\n",
       " (203, -0.193359375),\n",
       " (204, -0.09619140625),\n",
       " (205, -0.1025390625),\n",
       " (206, 0.212890625),\n",
       " (207, -0.0299072265625),\n",
       " (208, 0.1435546875),\n",
       " (209, 0.041015625),\n",
       " (210, -0.2119140625),\n",
       " (211, 0.2080078125),\n",
       " (212, 0.1376953125),\n",
       " (213, -0.0196533203125),\n",
       " (214, 0.01495361328125),\n",
       " (215, -0.09765625),\n",
       " (216, 0.2431640625),\n",
       " (217, 0.080078125),\n",
       " (218, 0.08251953125),\n",
       " (219, 0.0986328125),\n",
       " (220, 0.056884765625),\n",
       " (221, 0.04248046875),\n",
       " (222, 0.06884765625),\n",
       " (223, -0.035400390625),\n",
       " (224, -0.076171875),\n",
       " (225, -0.00016117095947265625),\n",
       " (226, -0.0751953125),\n",
       " (227, 0.224609375),\n",
       " (228, 0.1513671875),\n",
       " (229, 0.1005859375),\n",
       " (230, 0.10986328125),\n",
       " (231, 0.0238037109375),\n",
       " (232, 0.08837890625),\n",
       " (233, 0.061767578125),\n",
       " (234, -0.10791015625),\n",
       " (235, 0.062255859375),\n",
       " (236, 0.0034332275390625),\n",
       " (237, 0.08056640625),\n",
       " (238, 0.10693359375),\n",
       " (239, 0.0888671875),\n",
       " (240, -0.2373046875),\n",
       " (241, 0.06494140625),\n",
       " (242, 0.01019287109375),\n",
       " (243, -0.08837890625),\n",
       " (244, -0.33203125),\n",
       " (245, 0.004669189453125),\n",
       " (246, 0.212890625),\n",
       " (247, 0.0859375),\n",
       " (248, 0.0203857421875),\n",
       " (249, 0.045654296875),\n",
       " (250, 0.1484375),\n",
       " (251, 0.1181640625),\n",
       " (252, 0.0556640625),\n",
       " (253, -0.1728515625),\n",
       " (254, -0.125),\n",
       " (255, -0.025390625),\n",
       " (256, -0.318359375),\n",
       " (257, 0.0311279296875),\n",
       " (258, 0.0859375),\n",
       " (259, -0.0419921875),\n",
       " (260, 0.15625),\n",
       " (261, 0.1611328125),\n",
       " (262, 0.1982421875),\n",
       " (263, -0.10009765625),\n",
       " (264, 0.203125),\n",
       " (265, 0.12890625),\n",
       " (266, 0.2333984375),\n",
       " (267, -0.267578125),\n",
       " (268, 0.05517578125),\n",
       " (269, 0.048828125),\n",
       " (270, 0.072265625),\n",
       " (271, 0.244140625),\n",
       " (272, 0.244140625),\n",
       " (273, 0.056884765625),\n",
       " (274, -0.0546875),\n",
       " (275, -0.03369140625),\n",
       " (276, -0.12060546875),\n",
       " (277, 0.034912109375),\n",
       " (278, -0.1455078125),\n",
       " (279, 0.08740234375),\n",
       " (280, -0.0830078125),\n",
       " (281, 0.0172119140625),\n",
       " (282, 0.1435546875),\n",
       " (283, -0.12255859375),\n",
       " (284, 0.1796875),\n",
       " (285, 0.130859375),\n",
       " (286, -0.1650390625),\n",
       " (287, 0.01275634765625),\n",
       " (288, 0.16015625),\n",
       " (289, -0.0311279296875),\n",
       " (290, 0.08203125),\n",
       " (291, 0.173828125),\n",
       " (292, -0.16796875),\n",
       " (293, 0.130859375),\n",
       " (294, 0.08544921875),\n",
       " (295, -0.2109375),\n",
       " (296, -0.130859375),\n",
       " (297, -0.0289306640625),\n",
       " (298, -0.10546875),\n",
       " (299, 0.08447265625),\n",
       " (300, -0.1416015625)]"
      ]
     },
     "execution_count": 93,
     "metadata": {},
     "output_type": "execute_result"
    }
   ],
   "source": [
    "w2v_pretrained = W2VPretrainedRetrievalModel(doc_repr_2)\n",
    "w2v_pretrained.train_model()\n",
    "\n",
    "# you can now get an W2V vector for a given query in the following way:\n",
    "w2v_pretrained.vectorize_query(\"report\")"
   ]
  },
  {
   "cell_type": "code",
   "execution_count": 94,
   "metadata": {
    "deletable": false,
    "editable": false,
    "nbgrader": {
     "cell_type": "code",
     "checksum": "0822845afb5eafe5ddb1ffeaa4f4942a",
     "grade": true,
     "grade_id": "cell-1b1466f8ce516f42",
     "locked": true,
     "points": 2,
     "schema_version": 3,
     "solution": false,
     "task": false
    }
   },
   "outputs": [
    {
     "name": "stdout",
     "output_type": "stream",
     "text": [
      "300\n"
     ]
    }
   ],
   "source": [
    "##### Function check\n",
    "\n",
    "print(len(w2v_pretrained.vectorize_query(\"report\")))\n",
    "#####"
   ]
  },
  {
   "cell_type": "code",
   "execution_count": 95,
   "metadata": {},
   "outputs": [
    {
     "name": "stderr",
     "output_type": "stream",
     "text": [
      "/tmp/ipykernel_185933/717104013.py:36: DeprecationWarning: Call to deprecated `__contains__` (Method will be removed in 4.0.0, use self.wv.__contains__() instead).\n",
      "  if word in self.model:\n",
      "/tmp/ipykernel_185933/717104013.py:37: DeprecationWarning: Call to deprecated `__getitem__` (Method will be removed in 4.0.0, use self.wv.__getitem__() instead).\n",
      "  document_vectors[doc_id] += self.model[word] / len(sentence)\n"
     ]
    },
    {
     "data": {
      "application/vnd.jupyter.widget-view+json": {
       "model_id": "9f14c338db0849d0a7ed511490debbb2",
       "version_major": 2,
       "version_minor": 0
      },
      "text/plain": [
       "Text(value='', description='Search Bar')"
      ]
     },
     "metadata": {},
     "output_type": "display_data"
    }
   ],
   "source": [
    "drm_w2v = DenseRetrievalRanker(w2v, cosine_sim)\n",
    "\n",
    "# test your LDA model\n",
    "search_fn = drm_w2v.search\n",
    "\n",
    "text = widgets.Text(description=\"Search Bar\", width=200)\n",
    "display(text)\n",
    "\n",
    "\n",
    "text.on_submit(handle_submit_2)"
   ]
  },
  {
   "cell_type": "code",
   "execution_count": 96,
   "metadata": {},
   "outputs": [
    {
     "data": {
      "application/vnd.jupyter.widget-view+json": {
       "model_id": "feb569af129d4bd089d4962c079a224b",
       "version_major": 2,
       "version_minor": 0
      },
      "text/plain": [
       "Text(value='', description='Search Bar')"
      ]
     },
     "metadata": {},
     "output_type": "display_data"
    }
   ],
   "source": [
    "drm_w2v_pretrained = DenseRetrievalRanker(w2v_pretrained, cosine_sim)\n",
    "\n",
    "# test your LDA model\n",
    "search_fn = drm_w2v_pretrained.search\n",
    "\n",
    "text = widgets.Text(description=\"Search Bar\", width=200)\n",
    "display(text)\n",
    "\n",
    "\n",
    "text.on_submit(handle_submit_2)"
   ]
  },
  {
   "cell_type": "markdown",
   "metadata": {
    "deletable": false,
    "editable": false,
    "nbgrader": {
     "cell_type": "markdown",
     "checksum": "51b778984fd60757974f51047c61eb15",
     "grade": false,
     "grade_id": "cell-b92f701cbc706108",
     "locked": true,
     "schema_version": 3,
     "solution": false,
     "task": false
    }
   },
   "source": [
    "**Implementation (10 points):**\n",
    "For Doc2Vec, you will need to create a list of `TaggedDocument` instead of using the `self.corpus` or `self.documents` variable. Use the document id as the 'tag'.\n",
    "  "
   ]
  },
  {
   "cell_type": "code",
   "execution_count": 97,
   "metadata": {
    "deletable": false,
    "nbgrader": {
     "cell_type": "code",
     "checksum": "1f60fdeb97febb7f4a6fd5bf109aac20",
     "grade": false,
     "grade_id": "cell-680facdcc98a19ab",
     "locked": false,
     "schema_version": 3,
     "solution": true,
     "task": false
    }
   },
   "outputs": [
    {
     "name": "stderr",
     "output_type": "stream",
     "text": [
      "2022-02-28 16:19:58,046 : INFO : adding document #0 to Dictionary(0 unique tokens: [])\n",
      "2022-02-28 16:19:58,188 : INFO : built Dictionary(5937 unique tokens: ['-', 'algebra', 'intern', 'languag', 'preliminari']...) from 3204 documents (total 115969 corpus positions)\n",
      "2022-02-28 16:19:58,193 : INFO : discarding 4740 tokens: [('repeat', 8), ('glossari', 7), ('inspect', 8), ('uncol', 2), ('rung', 9), ('secant', 2), ('.', 1603), ('acceler', 6), ('diverg', 3), ('induc', 9)]...\n",
      "2022-02-28 16:19:58,194 : INFO : keeping 1197 tokens which were in no less than 10 and no more than 1602 (=50.0%) documents\n",
      "2022-02-28 16:19:58,196 : INFO : resulting dictionary: Dictionary(1197 unique tokens: ['-', 'algebra', 'intern', 'languag', 'preliminari']...)\n",
      "2022-02-28 16:19:58,263 : INFO : collecting all words and their counts\n",
      "2022-02-28 16:19:58,264 : INFO : PROGRESS: at example #0, processed 0 words (0/s), 0 word types, 0 tags\n",
      "2022-02-28 16:19:58,285 : INFO : collected 5937 word types and 3204 unique tags from a corpus of 3204 examples and 115969 words\n",
      "2022-02-28 16:19:58,285 : INFO : Loading a fresh vocabulary\n",
      "2022-02-28 16:19:58,294 : INFO : effective_min_count=1 retains 5937 unique words (100% of original 5937, drops 0)\n",
      "2022-02-28 16:19:58,294 : INFO : effective_min_count=1 leaves 115969 word corpus (100% of original 115969, drops 0)\n",
      "2022-02-28 16:19:58,310 : INFO : deleting the raw counts dictionary of 5937 items\n",
      "2022-02-28 16:19:58,311 : INFO : sample=0.001 downsamples 40 most-common words\n",
      "2022-02-28 16:19:58,311 : INFO : downsampling leaves estimated 92346 word corpus (79.6% of prior 115969)\n",
      "2022-02-28 16:19:58,321 : INFO : estimated required memory for 5937 words and 100 dimensions: 9640500 bytes\n",
      "2022-02-28 16:19:58,321 : INFO : resetting layer weights\n",
      "2022-02-28 16:19:59,943 : INFO : training model with 3 workers on 5937 vocabulary and 100 features, using sg=0 hs=0 sample=0.001 negative=5 window=5\n",
      "2022-02-28 16:20:00,165 : INFO : worker thread finished; awaiting finish of 2 more threads\n",
      "2022-02-28 16:20:00,173 : INFO : worker thread finished; awaiting finish of 1 more threads\n",
      "2022-02-28 16:20:00,179 : INFO : worker thread finished; awaiting finish of 0 more threads\n",
      "2022-02-28 16:20:00,180 : INFO : EPOCH - 1 : training on 115969 raw words (95518 effective words) took 0.2s, 410496 effective words/s\n",
      "2022-02-28 16:20:00,387 : INFO : worker thread finished; awaiting finish of 2 more threads\n",
      "2022-02-28 16:20:00,394 : INFO : worker thread finished; awaiting finish of 1 more threads\n",
      "2022-02-28 16:20:00,398 : INFO : worker thread finished; awaiting finish of 0 more threads\n",
      "2022-02-28 16:20:00,399 : INFO : EPOCH - 2 : training on 115969 raw words (95494 effective words) took 0.2s, 442630 effective words/s\n",
      "2022-02-28 16:20:00,607 : INFO : worker thread finished; awaiting finish of 2 more threads\n",
      "2022-02-28 16:20:00,613 : INFO : worker thread finished; awaiting finish of 1 more threads\n",
      "2022-02-28 16:20:00,622 : INFO : worker thread finished; awaiting finish of 0 more threads\n",
      "2022-02-28 16:20:00,622 : INFO : EPOCH - 3 : training on 115969 raw words (95542 effective words) took 0.2s, 434463 effective words/s\n",
      "2022-02-28 16:20:00,813 : INFO : worker thread finished; awaiting finish of 2 more threads\n",
      "2022-02-28 16:20:00,824 : INFO : worker thread finished; awaiting finish of 1 more threads\n",
      "2022-02-28 16:20:00,828 : INFO : worker thread finished; awaiting finish of 0 more threads\n",
      "2022-02-28 16:20:00,828 : INFO : EPOCH - 4 : training on 115969 raw words (95451 effective words) took 0.2s, 469764 effective words/s\n",
      "2022-02-28 16:20:01,039 : INFO : worker thread finished; awaiting finish of 2 more threads\n",
      "2022-02-28 16:20:01,056 : INFO : worker thread finished; awaiting finish of 1 more threads\n",
      "2022-02-28 16:20:01,057 : INFO : worker thread finished; awaiting finish of 0 more threads\n",
      "2022-02-28 16:20:01,057 : INFO : EPOCH - 5 : training on 115969 raw words (95450 effective words) took 0.2s, 423100 effective words/s\n",
      "2022-02-28 16:20:01,281 : INFO : worker thread finished; awaiting finish of 2 more threads\n",
      "2022-02-28 16:20:01,286 : INFO : worker thread finished; awaiting finish of 1 more threads\n",
      "2022-02-28 16:20:01,288 : INFO : worker thread finished; awaiting finish of 0 more threads\n",
      "2022-02-28 16:20:01,288 : INFO : EPOCH - 6 : training on 115969 raw words (95456 effective words) took 0.2s, 418579 effective words/s\n",
      "2022-02-28 16:20:01,530 : INFO : worker thread finished; awaiting finish of 2 more threads\n",
      "2022-02-28 16:20:01,538 : INFO : worker thread finished; awaiting finish of 1 more threads\n",
      "2022-02-28 16:20:01,545 : INFO : worker thread finished; awaiting finish of 0 more threads\n",
      "2022-02-28 16:20:01,546 : INFO : EPOCH - 7 : training on 115969 raw words (95518 effective words) took 0.3s, 376006 effective words/s\n",
      "2022-02-28 16:20:01,797 : INFO : worker thread finished; awaiting finish of 2 more threads\n",
      "2022-02-28 16:20:01,806 : INFO : worker thread finished; awaiting finish of 1 more threads\n",
      "2022-02-28 16:20:01,820 : INFO : worker thread finished; awaiting finish of 0 more threads\n",
      "2022-02-28 16:20:01,820 : INFO : EPOCH - 8 : training on 115969 raw words (95557 effective words) took 0.3s, 352074 effective words/s\n",
      "2022-02-28 16:20:02,050 : INFO : worker thread finished; awaiting finish of 2 more threads\n",
      "2022-02-28 16:20:02,060 : INFO : worker thread finished; awaiting finish of 1 more threads\n",
      "2022-02-28 16:20:02,062 : INFO : worker thread finished; awaiting finish of 0 more threads\n",
      "2022-02-28 16:20:02,063 : INFO : EPOCH - 9 : training on 115969 raw words (95523 effective words) took 0.2s, 400541 effective words/s\n",
      "2022-02-28 16:20:02,277 : INFO : worker thread finished; awaiting finish of 2 more threads\n",
      "2022-02-28 16:20:02,289 : INFO : worker thread finished; awaiting finish of 1 more threads\n",
      "2022-02-28 16:20:02,295 : INFO : worker thread finished; awaiting finish of 0 more threads\n",
      "2022-02-28 16:20:02,296 : INFO : EPOCH - 10 : training on 115969 raw words (95539 effective words) took 0.2s, 416377 effective words/s\n",
      "2022-02-28 16:20:02,517 : INFO : worker thread finished; awaiting finish of 2 more threads\n",
      "2022-02-28 16:20:02,528 : INFO : worker thread finished; awaiting finish of 1 more threads\n",
      "2022-02-28 16:20:02,535 : INFO : worker thread finished; awaiting finish of 0 more threads\n",
      "2022-02-28 16:20:02,536 : INFO : EPOCH - 11 : training on 115969 raw words (95455 effective words) took 0.2s, 404356 effective words/s\n",
      "2022-02-28 16:20:02,788 : INFO : worker thread finished; awaiting finish of 2 more threads\n",
      "2022-02-28 16:20:02,790 : INFO : worker thread finished; awaiting finish of 1 more threads\n",
      "2022-02-28 16:20:02,801 : INFO : worker thread finished; awaiting finish of 0 more threads\n",
      "2022-02-28 16:20:02,802 : INFO : EPOCH - 12 : training on 115969 raw words (95617 effective words) took 0.3s, 364678 effective words/s\n",
      "2022-02-28 16:20:03,017 : INFO : worker thread finished; awaiting finish of 2 more threads\n",
      "2022-02-28 16:20:03,030 : INFO : worker thread finished; awaiting finish of 1 more threads\n",
      "2022-02-28 16:20:03,035 : INFO : worker thread finished; awaiting finish of 0 more threads\n",
      "2022-02-28 16:20:03,035 : INFO : EPOCH - 13 : training on 115969 raw words (95553 effective words) took 0.2s, 415706 effective words/s\n",
      "2022-02-28 16:20:03,232 : INFO : worker thread finished; awaiting finish of 2 more threads\n",
      "2022-02-28 16:20:03,239 : INFO : worker thread finished; awaiting finish of 1 more threads\n",
      "2022-02-28 16:20:03,242 : INFO : worker thread finished; awaiting finish of 0 more threads\n",
      "2022-02-28 16:20:03,242 : INFO : EPOCH - 14 : training on 115969 raw words (95448 effective words) took 0.2s, 474318 effective words/s\n",
      "2022-02-28 16:20:03,465 : INFO : worker thread finished; awaiting finish of 2 more threads\n",
      "2022-02-28 16:20:03,468 : INFO : worker thread finished; awaiting finish of 1 more threads\n",
      "2022-02-28 16:20:03,478 : INFO : worker thread finished; awaiting finish of 0 more threads\n",
      "2022-02-28 16:20:03,479 : INFO : EPOCH - 15 : training on 115969 raw words (95592 effective words) took 0.2s, 408835 effective words/s\n",
      "2022-02-28 16:20:03,684 : INFO : worker thread finished; awaiting finish of 2 more threads\n",
      "2022-02-28 16:20:03,696 : INFO : worker thread finished; awaiting finish of 1 more threads\n",
      "2022-02-28 16:20:03,699 : INFO : worker thread finished; awaiting finish of 0 more threads\n",
      "2022-02-28 16:20:03,699 : INFO : EPOCH - 16 : training on 115969 raw words (95541 effective words) took 0.2s, 440159 effective words/s\n",
      "2022-02-28 16:20:03,886 : INFO : worker thread finished; awaiting finish of 2 more threads\n",
      "2022-02-28 16:20:03,892 : INFO : worker thread finished; awaiting finish of 1 more threads\n",
      "2022-02-28 16:20:03,898 : INFO : worker thread finished; awaiting finish of 0 more threads\n",
      "2022-02-28 16:20:03,899 : INFO : EPOCH - 17 : training on 115969 raw words (95456 effective words) took 0.2s, 485540 effective words/s\n",
      "2022-02-28 16:20:04,077 : INFO : worker thread finished; awaiting finish of 2 more threads\n",
      "2022-02-28 16:20:04,089 : INFO : worker thread finished; awaiting finish of 1 more threads\n",
      "2022-02-28 16:20:04,090 : INFO : worker thread finished; awaiting finish of 0 more threads\n",
      "2022-02-28 16:20:04,091 : INFO : EPOCH - 18 : training on 115969 raw words (95658 effective words) took 0.2s, 507523 effective words/s\n",
      "2022-02-28 16:20:04,283 : INFO : worker thread finished; awaiting finish of 2 more threads\n",
      "2022-02-28 16:20:04,292 : INFO : worker thread finished; awaiting finish of 1 more threads\n",
      "2022-02-28 16:20:04,293 : INFO : worker thread finished; awaiting finish of 0 more threads\n",
      "2022-02-28 16:20:04,293 : INFO : EPOCH - 19 : training on 115969 raw words (95361 effective words) took 0.2s, 478448 effective words/s\n",
      "2022-02-28 16:20:04,528 : INFO : worker thread finished; awaiting finish of 2 more threads\n",
      "2022-02-28 16:20:04,536 : INFO : worker thread finished; awaiting finish of 1 more threads\n",
      "2022-02-28 16:20:04,543 : INFO : worker thread finished; awaiting finish of 0 more threads\n",
      "2022-02-28 16:20:04,544 : INFO : EPOCH - 20 : training on 115969 raw words (95419 effective words) took 0.2s, 386817 effective words/s\n",
      "2022-02-28 16:20:04,544 : INFO : training on a 2319380 raw words (1910148 effective words) took 4.6s, 415167 effective words/s\n"
     ]
    },
    {
     "data": {
      "text/plain": [
       "[(2, -0.029069886),\n",
       " (2, -0.0031842662),\n",
       " (2, -0.07032952),\n",
       " (2, -0.0022656252),\n",
       " (2, -0.022868024),\n",
       " (2, -0.04257827),\n",
       " (2, 0.07680111),\n",
       " (2, 0.05285703),\n",
       " (2, 0.03403931),\n",
       " (2, -0.0295272),\n",
       " (2, -0.0138025535),\n",
       " (2, 0.048998725),\n",
       " (2, -0.066578984),\n",
       " (2, 0.054604977),\n",
       " (2, -0.009871636),\n",
       " (2, -0.024720317),\n",
       " (2, 0.049222104),\n",
       " (2, -0.0262403),\n",
       " (2, 0.06343924),\n",
       " (2, 0.082100734),\n",
       " (2, -0.0055790227),\n",
       " (2, -0.042704914),\n",
       " (2, 0.009510471),\n",
       " (2, 0.07966191),\n",
       " (2, -0.04168383),\n",
       " (2, 0.009737529),\n",
       " (2, 0.009454588),\n",
       " (2, -0.006845691),\n",
       " (2, 0.03577961),\n",
       " (2, -0.0015296155),\n",
       " (2, -0.045526136),\n",
       " (2, -0.12801136),\n",
       " (2, 0.019536268),\n",
       " (2, -0.020550935),\n",
       " (2, 0.0006923819),\n",
       " (2, -0.07977481),\n",
       " (2, 0.049050856),\n",
       " (2, -0.1242231),\n",
       " (2, -0.070770465),\n",
       " (2, 0.013365557),\n",
       " (2, 0.039919347),\n",
       " (2, -0.028254835),\n",
       " (2, -0.032644752),\n",
       " (2, -0.059882347),\n",
       " (2, -0.0019959318),\n",
       " (2, -0.04976448),\n",
       " (2, 0.0067144576),\n",
       " (2, 0.036776796),\n",
       " (2, -0.053595815),\n",
       " (2, -0.00249864),\n",
       " (2, -0.037958052),\n",
       " (2, 0.0638381),\n",
       " (2, 0.044695165),\n",
       " (2, -0.04943363),\n",
       " (2, 0.01993134),\n",
       " (2, -0.04039299),\n",
       " (2, -0.1009607),\n",
       " (2, -0.033300143),\n",
       " (2, 0.024122847),\n",
       " (2, 0.07632087),\n",
       " (2, -0.012990104),\n",
       " (2, 0.04707996),\n",
       " (2, -0.026269851),\n",
       " (2, -0.072129786),\n",
       " (2, 0.01898575),\n",
       " (2, 0.05686296),\n",
       " (2, -0.014269319),\n",
       " (2, 0.064195655),\n",
       " (2, 0.03244507),\n",
       " (2, -0.007921922),\n",
       " (2, 0.05564609),\n",
       " (2, 0.07885881),\n",
       " (2, 0.042128377),\n",
       " (2, 0.06910797),\n",
       " (2, 0.06651843),\n",
       " (2, -0.055779323),\n",
       " (2, -0.007014396),\n",
       " (2, -0.09252711),\n",
       " (2, 0.020258501),\n",
       " (2, -0.050459217),\n",
       " (2, 0.08821303),\n",
       " (2, 0.028565202),\n",
       " (2, 0.063455984),\n",
       " (2, 0.055928566),\n",
       " (2, -0.010492731),\n",
       " (2, 0.12545533),\n",
       " (2, 0.038047925),\n",
       " (2, -0.047762863),\n",
       " (2, -0.025575576),\n",
       " (2, 0.026772534),\n",
       " (2, -0.029070448),\n",
       " (2, 0.09692521),\n",
       " (2, -0.0025805598),\n",
       " (2, -0.02121974),\n",
       " (2, -0.04386036),\n",
       " (2, -0.021589024),\n",
       " (2, 0.13250847),\n",
       " (2, 0.13929223),\n",
       " (2, 0.015217333),\n",
       " (2, -0.011546521)]"
      ]
     },
     "execution_count": 97,
     "metadata": {},
     "output_type": "execute_result"
    }
   ],
   "source": [
    "# TODO: Implement this! (10 points)\n",
    "class D2VRetrievalModel(VectorSpaceRetrievalModel):\n",
    "    def __init__(self, doc_repr):\n",
    "        super().__init__(doc_repr)\n",
    "        \n",
    "        self.vector_size= 100\n",
    "        self.min_count = 1\n",
    "        self.epochs = 20\n",
    "        \n",
    "        # YOUR CODE HERE\n",
    "        self.tagged_documents = [TaggedDocument(doc, [doc_id]) for doc_id, doc in self.doc_repr]\n",
    "        \n",
    "    def train_model(self):\n",
    "        # YOUR CODE HERE\n",
    "        self.model = Doc2Vec(\n",
    "            self.tagged_documents,\n",
    "            vector_size=self.vector_size,\n",
    "            min_count=self.min_count,\n",
    "            epochs=self.epochs,\n",
    "        )\n",
    "    \n",
    "    def vectorize_documents(self):\n",
    "        \"\"\"\n",
    "            Returns a doc_id -> vector dictionary\n",
    "        \"\"\"\n",
    "        # YOUR CODE HERE\n",
    "\n",
    "        from collections import defaultdict\n",
    "\n",
    "        document_vectors = defaultdict(lambda: np.zeros(self.vector_size))\n",
    "        for doc_id, doc in self.doc_repr:\n",
    "            document_vectors[doc_id] = [(i+1, v) for v in self.model.infer_vector(doc)]\n",
    "        \n",
    "        return document_vectors\n",
    "\n",
    "    def vectorize_query(self, query):\n",
    "        # YOUR CODE HERE\n",
    "        query = process_text(query, **config_2)\n",
    "        query_vector = self.model.infer_vector(query)\n",
    "        query_vector = [(i+1, v) for v in query_vector]\n",
    "        return query_vector\n",
    "\n",
    "d2v = D2VRetrievalModel(doc_repr_2)\n",
    "d2v.train_model()\n",
    "\n",
    "\n",
    "# # you can now get an LSI vector for a given query in the following way:\n",
    "d2v.vectorize_query(\"report\")"
   ]
  },
  {
   "cell_type": "code",
   "execution_count": 98,
   "metadata": {
    "deletable": false,
    "editable": false,
    "nbgrader": {
     "cell_type": "code",
     "checksum": "e83a363a9d4f136efbdde1426a83925e",
     "grade": true,
     "grade_id": "cell-5e2c5e0c9a2e8cb5",
     "locked": true,
     "points": 0,
     "schema_version": 3,
     "solution": false,
     "task": false
    }
   },
   "outputs": [],
   "source": [
    "#### Please do not change this. This cell is used for grading."
   ]
  },
  {
   "cell_type": "markdown",
   "metadata": {
    "deletable": false,
    "editable": false,
    "nbgrader": {
     "cell_type": "markdown",
     "checksum": "5bb46bf6b9be1e0ca66f0b0bc6260ecb",
     "grade": false,
     "grade_id": "cell-8a49d414f798a595",
     "locked": true,
     "points": 10,
     "schema_version": 3,
     "solution": false,
     "task": true
    }
   },
   "source": [
    "\\#### Please do not change this. This cell is used for grading."
   ]
  },
  {
   "cell_type": "code",
   "execution_count": 99,
   "metadata": {},
   "outputs": [
    {
     "data": {
      "application/vnd.jupyter.widget-view+json": {
       "model_id": "f1c2d745ce144c3ba5d466c20f3d2228",
       "version_major": 2,
       "version_minor": 0
      },
      "text/plain": [
       "Text(value='', description='Search Bar')"
      ]
     },
     "metadata": {},
     "output_type": "display_data"
    }
   ],
   "source": [
    "drm_d2v = DenseRetrievalRanker(d2v, cosine_sim)\n",
    "\n",
    "# test your LDA model\n",
    "search_fn = drm_d2v.search\n",
    "\n",
    "text = widgets.Text(description=\"Search Bar\", width=200)\n",
    "display(text)\n",
    "\n",
    "\n",
    "text.on_submit(handle_submit_2)"
   ]
  },
  {
   "cell_type": "markdown",
   "metadata": {
    "deletable": false,
    "editable": false,
    "nbgrader": {
     "cell_type": "markdown",
     "checksum": "363ec36c1d03d9f9e1c2045a6e193c14",
     "grade": false,
     "grade_id": "cell-3529ae29eece7b97",
     "locked": true,
     "schema_version": 3,
     "solution": false,
     "task": false
    }
   },
   "source": [
    "---\n",
    "## Section 9: Re-ranking (10 points) <a class=\"anchor\" id=\"reranking\"></a>\n",
    "\n",
    "[Back to Part 2](#part2)\n",
    "\n",
    "To motivate the re-ranking perspective (i.e retrieve with lexical method + rerank with a semantic method), let's search using semantic methods and compare it to BM25's performance, along with their runtime:\n"
   ]
  },
  {
   "cell_type": "code",
   "execution_count": 100,
   "metadata": {
    "deletable": false,
    "editable": false,
    "nbgrader": {
     "cell_type": "code",
     "checksum": "5755f70e3eb28abc65d14d80125338af",
     "grade": false,
     "grade_id": "cell-f8f43bf5ae383128",
     "locked": true,
     "schema_version": 3,
     "solution": false,
     "task": false
    }
   },
   "outputs": [
    {
     "name": "stdout",
     "output_type": "stream",
     "text": [
      "BM25: \n",
      "2.82 ms ± 442 µs per loop (mean ± std. dev. of 7 runs, 100 loops each)\n",
      "LSI: \n",
      "232 ms ± 15.4 ms per loop (mean ± std. dev. of 7 runs, 1 loop each)\n",
      "LDA: \n",
      "5.25 s ± 340 ms per loop (mean ± std. dev. of 7 runs, 1 loop each)\n",
      "W2V: \n"
     ]
    },
    {
     "name": "stderr",
     "output_type": "stream",
     "text": [
      "/tmp/ipykernel_185933/717104013.py:55: DeprecationWarning: Call to deprecated `__contains__` (Method will be removed in 4.0.0, use self.wv.__contains__() instead).\n",
      "  if word in self.model:\n",
      "/tmp/ipykernel_185933/717104013.py:56: DeprecationWarning: Call to deprecated `__getitem__` (Method will be removed in 4.0.0, use self.wv.__getitem__() instead).\n",
      "  query_vector += self.model[word] / len(query)\n"
     ]
    },
    {
     "name": "stdout",
     "output_type": "stream",
     "text": [
      "230 ms ± 19.4 ms per loop (mean ± std. dev. of 7 runs, 1 loop each)\n",
      "W2V(Pretrained): \n"
     ]
    },
    {
     "name": "stderr",
     "output_type": "stream",
     "text": [
      "/tmp/ipykernel_185933/2820277551.py:22: RuntimeWarning: invalid value encountered in double_scalars\n",
      "  return dot(vec_1, vec_2) / (norm_1 * norm_2)\n"
     ]
    },
    {
     "name": "stdout",
     "output_type": "stream",
     "text": [
      "520 ms ± 16 ms per loop (mean ± std. dev. of 7 runs, 1 loop each)\n",
      "D2V:\n",
      "223 ms ± 5.17 ms per loop (mean ± std. dev. of 7 runs, 1 loop each)\n"
     ]
    }
   ],
   "source": [
    "query = \"algebraic functions\"\n",
    "print(\"BM25: \")\n",
    "%timeit bm25_search(query, 2)\n",
    "print(\"LSI: \")\n",
    "%timeit drm_lsi.search(query)\n",
    "print(\"LDA: \")\n",
    "%timeit drm_lda.search(query)\n",
    "print(\"W2V: \")\n",
    "%timeit drm_w2v.search(query)\n",
    "print(\"W2V(Pretrained): \")\n",
    "%timeit drm_w2v_pretrained.search(query)\n",
    "print(\"D2V:\")\n",
    "%timeit drm_d2v.search(query)"
   ]
  },
  {
   "cell_type": "markdown",
   "metadata": {
    "deletable": false,
    "editable": false,
    "nbgrader": {
     "cell_type": "markdown",
     "checksum": "ae398da0a8c23c95bcbb0023b7ec6f34",
     "grade": false,
     "grade_id": "cell-db5ff09f97841af7",
     "locked": true,
     "schema_version": 3,
     "solution": false,
     "task": false
    }
   },
   "source": [
    "---\n",
    "\n",
    "**Implementation (10 points):**\n",
    "Re-ranking involves retrieving a small set of documents using simple but fast methods like BM25 and then re-ranking them with the aid of semantic methods such as LDA or LSI. Implement the following class, which takes in an `initial_retrieval_fn` - the initial retrieval function and `vsrm` - an instance of the `VectorSpaceRetrievalModel` class (i.e LSI/LDA) as input. The search function should first retrieve an initial list of K documents, and then these documents are re-ranked using a semantic method. This not only makes retrieval faster, but semantic methods perform poorly when used in isolation, as you will find out."
   ]
  },
  {
   "cell_type": "code",
   "execution_count": 101,
   "metadata": {
    "deletable": false,
    "nbgrader": {
     "cell_type": "code",
     "checksum": "63b6b05a676a2ae3f08d8bed1bc59428",
     "grade": false,
     "grade_id": "cell-5bf47600d1a0c507",
     "locked": false,
     "schema_version": 3,
     "solution": true,
     "task": false
    }
   },
   "outputs": [],
   "source": [
    "# TODO: Implement this! (10 points)\n",
    "class DenseRerankingModel:\n",
    "    def __init__(self, initial_retrieval_fn, vsrm, similarity_fn):\n",
    "        \"\"\"\n",
    "            initial_retrieval_fn: takes in a query and returns a list of [(doc_id, score)] (sorted)\n",
    "            vsrm: instance of `VectorSpaceRetrievalModel`\n",
    "            similarity_fn: function instance that takes in two vectors \n",
    "                            and returns a similarity score e.g cosine_sim defined earlier\n",
    "        \"\"\"\n",
    "        self.ret = initial_retrieval_fn\n",
    "        self.vsrm = vsrm\n",
    "        self.similarity_fn = similarity_fn\n",
    "        self.vectorized_documents = vsrm.vectorize_documents()\n",
    "        \n",
    "        assert len(self.vectorized_documents) == len(doc_repr_2)\n",
    "    \n",
    "    def search(self, query, K=50):\n",
    "        \"\"\"\n",
    "            First, retrieve the top K results using the retrieval function\n",
    "            Then, re-rank the results using the VSRM instance\n",
    "        \"\"\"\n",
    "        # YOUR CODE HERE\n",
    "\n",
    "        # get top K ranked documents\n",
    "        top_K = self.ret(query=query, index_set=2)[:K]\n",
    "        \n",
    "        # re-rank them using VSRM\n",
    "\n",
    "        ## get query vector\n",
    "        query_vector = self.vsrm.vectorize_query(query)\n",
    "\n",
    "        ## compute similarity scores\n",
    "        scores = [(doc_id, self.similarity_fn(query_vector, self.vectorized_documents[doc_id])) for (doc_id, _) in top_K]\n",
    "\n",
    "        ## sort based on new similarity scores\n",
    "        scores = sorted(scores, key=lambda x: x[1], reverse=True)\n",
    "        \n",
    "        return scores"
   ]
  },
  {
   "cell_type": "code",
   "execution_count": 102,
   "metadata": {
    "deletable": false,
    "editable": false,
    "nbgrader": {
     "cell_type": "code",
     "checksum": "334ab5af96976265cace682ab82a7387",
     "grade": true,
     "grade_id": "cell-52c6d18a4c0b4882",
     "locked": true,
     "points": 0,
     "schema_version": 3,
     "solution": false,
     "task": false
    }
   },
   "outputs": [
    {
     "name": "stderr",
     "output_type": "stream",
     "text": [
      "/tmp/ipykernel_185933/717104013.py:36: DeprecationWarning: Call to deprecated `__contains__` (Method will be removed in 4.0.0, use self.wv.__contains__() instead).\n",
      "  if word in self.model:\n",
      "/tmp/ipykernel_185933/717104013.py:37: DeprecationWarning: Call to deprecated `__getitem__` (Method will be removed in 4.0.0, use self.wv.__getitem__() instead).\n",
      "  document_vectors[doc_id] += self.model[word] / len(sentence)\n"
     ]
    }
   ],
   "source": [
    "##### Function check\n",
    "bm25_search_2 = partial(bm25_search, index_set=2)\n",
    "lsi_rerank = DenseRerankingModel(bm25_search_2, lsi, cosine_sim)\n",
    "lda_rerank = DenseRerankingModel(bm25_search_2, lda, jenson_shannon_sim)\n",
    "w2v_rerank = DenseRerankingModel(bm25_search_2, w2v, cosine_sim)\n",
    "w2v_pretrained_rerank = DenseRerankingModel(bm25_search_2, w2v_pretrained, cosine_sim)\n",
    "d2v_rerank = DenseRerankingModel(bm25_search_2, d2v, cosine_sim)\n",
    "\n",
    "##### "
   ]
  },
  {
   "cell_type": "markdown",
   "metadata": {
    "deletable": false,
    "editable": false,
    "nbgrader": {
     "cell_type": "markdown",
     "checksum": "bd904253f45f84e63bab3a69729058fc",
     "grade": false,
     "grade_id": "cell-93215dfe6bcf7cff",
     "locked": true,
     "points": 10,
     "schema_version": 3,
     "solution": false,
     "task": true
    }
   },
   "source": [
    "\\#### Please do not change this. This cell is used for grading."
   ]
  },
  {
   "cell_type": "markdown",
   "metadata": {
    "deletable": false,
    "editable": false,
    "nbgrader": {
     "cell_type": "markdown",
     "checksum": "b592e60292bfe3d9ef2930a354c4077a",
     "grade": false,
     "grade_id": "cell-aa694ff55fa91e7d",
     "locked": true,
     "schema_version": 3,
     "solution": false,
     "task": false
    }
   },
   "source": [
    "---\n",
    "Now, let us time the new search functions:"
   ]
  },
  {
   "cell_type": "code",
   "execution_count": 103,
   "metadata": {
    "deletable": false,
    "editable": false,
    "nbgrader": {
     "cell_type": "code",
     "checksum": "338c7e3528cba266a865a061287c0e38",
     "grade": false,
     "grade_id": "cell-5edbd481562ad91f",
     "locked": true,
     "schema_version": 3,
     "solution": false,
     "task": false
    }
   },
   "outputs": [
    {
     "name": "stdout",
     "output_type": "stream",
     "text": [
      "BM25: \n",
      "2.19 ms ± 148 µs per loop (mean ± std. dev. of 7 runs, 100 loops each)\n",
      "LSI: \n",
      "6.55 ms ± 413 µs per loop (mean ± std. dev. of 7 runs, 100 loops each)\n",
      "LDA: \n",
      "95.3 ms ± 5.99 ms per loop (mean ± std. dev. of 7 runs, 10 loops each)\n",
      "W2V: \n"
     ]
    },
    {
     "name": "stderr",
     "output_type": "stream",
     "text": [
      "/tmp/ipykernel_185933/717104013.py:55: DeprecationWarning: Call to deprecated `__contains__` (Method will be removed in 4.0.0, use self.wv.__contains__() instead).\n",
      "  if word in self.model:\n",
      "/tmp/ipykernel_185933/717104013.py:56: DeprecationWarning: Call to deprecated `__getitem__` (Method will be removed in 4.0.0, use self.wv.__getitem__() instead).\n",
      "  query_vector += self.model[word] / len(query)\n"
     ]
    },
    {
     "name": "stdout",
     "output_type": "stream",
     "text": [
      "6.47 ms ± 669 µs per loop (mean ± std. dev. of 7 runs, 100 loops each)\n",
      "W2V(Pretrained): \n",
      "11.2 ms ± 586 µs per loop (mean ± std. dev. of 7 runs, 100 loops each)\n",
      "D2V:\n",
      "7.83 ms ± 475 µs per loop (mean ± std. dev. of 7 runs, 100 loops each)\n"
     ]
    }
   ],
   "source": [
    "query = \"algebraic functions\"\n",
    "print(\"BM25: \")\n",
    "%timeit bm25_search(query, 2)\n",
    "print(\"LSI: \")\n",
    "%timeit lsi_rerank.search(query)\n",
    "print(\"LDA: \")\n",
    "%timeit lda_rerank.search(query)\n",
    "print(\"W2V: \")\n",
    "%timeit w2v_rerank.search(query)\n",
    "print(\"W2V(Pretrained): \")\n",
    "%timeit w2v_pretrained_rerank.search(query)\n",
    "print(\"D2V:\")\n",
    "%timeit d2v_rerank.search(query)"
   ]
  },
  {
   "cell_type": "markdown",
   "metadata": {
    "deletable": false,
    "editable": false,
    "nbgrader": {
     "cell_type": "markdown",
     "checksum": "c45c5e3f015b2de89d9d39ae3766368b",
     "grade": false,
     "grade_id": "cell-85c50f2ab9eec301",
     "locked": true,
     "schema_version": 3,
     "solution": false,
     "task": false
    }
   },
   "source": [
    "---\n",
    "As you can see, it is much faster (but BM25 is still orders of magnitude faster)."
   ]
  },
  {
   "cell_type": "markdown",
   "metadata": {
    "deletable": false,
    "editable": false,
    "nbgrader": {
     "cell_type": "markdown",
     "checksum": "1e2f3388e3807659f303fe31a75a010e",
     "grade": false,
     "grade_id": "cell-5071bb99b2af61cb",
     "locked": true,
     "schema_version": 3,
     "solution": false,
     "task": false
    }
   },
   "source": [
    "---\n",
    "## Section 10: Evaluation & Analysis (30 points) <a class=\"anchor\" id=\"reranking_eval\"></a>\n",
    "\n",
    "[Back to Part 2](#part2)\n",
    "\n",
    "[Previously](#evaluation) we have implemented some evaluation metrics and used them for measuring the ranking performance of term-based IR algorithms. In this section, we will do the same for semantic methods, both with and without re-ranking.\n",
    "\n",
    "### Section 10.1: Plot (10 points)\n",
    "\n",
    "First, gather the results. The results should consider the index set, the different search functions and different metrics. Plot the results in bar charts, per metric, with clear labels.\n",
    "\n",
    "Then, gather only the re-ranking models, and plot and compare them with the results obtained in part 1 (only index set 2)."
   ]
  },
  {
   "cell_type": "code",
   "execution_count": 104,
   "metadata": {
    "deletable": false,
    "editable": false,
    "nbgrader": {
     "cell_type": "code",
     "checksum": "4fe81520ac6413a803838913fd64de03",
     "grade": false,
     "grade_id": "cell-b672fe6dfae0b1ce",
     "locked": true,
     "schema_version": 3,
     "solution": false,
     "task": false
    }
   },
   "outputs": [],
   "source": [
    "list_of_sem_search_fns = [\n",
    "    (\"lda\", drm_lda.search),\n",
    "    (\"lsi\", drm_lsi.search),\n",
    "    (\"w2v\", drm_w2v.search),\n",
    "    (\"w2v_pretrained\", drm_w2v_pretrained.search),\n",
    "    (\"d2v\", drm_d2v.search),\n",
    "    (\"lsi_rr\", lsi_rerank.search),\n",
    "    (\"lda_rr\", lda_rerank.search),\n",
    "    (\"w2v_rr\", w2v_rerank.search),\n",
    "    (\"w2v_pretrained_rr\", w2v_pretrained_rerank.search),\n",
    "    (\"d2v_rr\", d2v_rerank.search),\n",
    "    \n",
    "]"
   ]
  },
  {
   "cell_type": "code",
   "execution_count": 105,
   "metadata": {
    "deletable": false,
    "nbgrader": {
     "cell_type": "code",
     "checksum": "54707c4afac084299aeefa047259b4a9",
     "grade": true,
     "grade_id": "cell-7dd8273b0f5a3c22",
     "locked": false,
     "points": 10,
     "schema_version": 3,
     "solution": true,
     "task": false
    }
   },
   "outputs": [
    {
     "name": "stdout",
     "output_type": "stream",
     "text": [
      "::: Generating results for lda ...\n",
      "::: Generating results for lsi ...\n",
      "::: Generating results for w2v ...\n"
     ]
    },
    {
     "name": "stderr",
     "output_type": "stream",
     "text": [
      "/tmp/ipykernel_185933/717104013.py:55: DeprecationWarning: Call to deprecated `__contains__` (Method will be removed in 4.0.0, use self.wv.__contains__() instead).\n",
      "  if word in self.model:\n",
      "/tmp/ipykernel_185933/717104013.py:56: DeprecationWarning: Call to deprecated `__getitem__` (Method will be removed in 4.0.0, use self.wv.__getitem__() instead).\n",
      "  query_vector += self.model[word] / len(query)\n"
     ]
    },
    {
     "name": "stdout",
     "output_type": "stream",
     "text": [
      "::: Generating results for w2v_pretrained ...\n"
     ]
    },
    {
     "name": "stderr",
     "output_type": "stream",
     "text": [
      "/tmp/ipykernel_185933/2820277551.py:22: RuntimeWarning: invalid value encountered in double_scalars\n",
      "  return dot(vec_1, vec_2) / (norm_1 * norm_2)\n"
     ]
    },
    {
     "name": "stdout",
     "output_type": "stream",
     "text": [
      "::: Generating results for d2v ...\n",
      "::: Generating results for lsi_rr ...\n",
      "::: Generating results for lda_rr ...\n",
      "::: Generating results for w2v_rr ...\n",
      "::: Generating results for w2v_pretrained_rr ...\n",
      "::: Generating results for d2v_rr ...\n"
     ]
    },
    {
     "data": {
      "image/png": "[encoded data removed]",
      "text/plain": [
       "<Figure size 1440x864 with 8 Axes>"
      ]
     },
     "metadata": {
      "needs_background": "light"
     },
     "output_type": "display_data"
    }
   ],
   "source": [
    "# YOUR CODE HERE\n",
    "\n",
    "# generating results\n",
    "results = dict()\n",
    "for method_name, method_fn in list_of_sem_search_fns:\n",
    "    print(f\"::: Generating results for {method_name} ...\")\n",
    "    results[method_name] = evaluate_search_fn(method_fn, list_of_metrics, index_set=None)\n",
    "\n",
    "write_json(results, \"./results/semantics_based_retrieval_results_index_2.json\")\n",
    "\n",
    "# plotting results\n",
    "nrows, ncols = 2, len(list_of_metrics) // 2\n",
    "fig, axes = plt.subplots(nrows, ncols, figsize=(5 * len(list_of_metrics) // 2, 4 * 2 + 4), constrained_layout=True)\n",
    "\n",
    "for i in range(nrows):\n",
    "    for j in range(ncols):\n",
    "        idx = i * ncols + j\n",
    "        ax = axes[i][j]\n",
    "        \n",
    "        metric = list_of_metrics[idx][0]\n",
    "        ax.set_title(metric, fontsize=15)\n",
    "        # ax.set_ylim((0, 0.4))\n",
    "        ax.grid(axis=\"y\")\n",
    "\n",
    "        methods_names = list(results.keys())\n",
    "        x = np.arange(len(methods_names))\n",
    "        width = 0.3\n",
    "\n",
    "        methods_values = [results[method][metric] for method in results]\n",
    "        \n",
    "        methods_names = [method for method in results if not method.endswith(\"_rr\")]\n",
    "        x = np.arange(len(methods_names))\n",
    "        methods_values_1 = [results[method][metric] for method in results if not method.endswith(\"_rr\")]\n",
    "        methods_values_2 = [results[method][metric] for method in results if method.endswith(\"_rr\")]\n",
    "\n",
    "        ax.bar(x=x, height=methods_values_1, width=width, label=\"Vanilla\")\n",
    "        ax.bar(x=x + width, height=methods_values_2, width=width, label=\"Re-ranked\")\n",
    "\n",
    "        ax.set_xticks(x + width / 2)\n",
    "        # ax.set_xticks(x)\n",
    "        ax.set_xticklabels(methods_names, fontsize=13, rotation=45)\n",
    "        \n",
    "        ax.legend(fontsize=13)\n",
    "\n",
    "plt.suptitle(\n",
    "    \"Evaluation of semantic-based retrieval methods with and without re-ranking on different metrics\",\n",
    "    fontsize=20,\n",
    "    y=1.05,\n",
    ")\n",
    "plt.savefig(\"./results/semantics_based_retrieval_v1.pdf\", bbox_inches=\"tight\")\n",
    "plt.show()"
   ]
  },
  {
   "cell_type": "markdown",
   "metadata": {
    "deletable": false,
    "editable": false,
    "nbgrader": {
     "cell_type": "markdown",
     "checksum": "a8a3b6189bdde66704c694d85e38d049",
     "grade": false,
     "grade_id": "cell-deb2ef3daa306e82",
     "locked": true,
     "schema_version": 3,
     "solution": false,
     "task": false
    }
   },
   "source": [
    "### Section 10.2: Summary (20 points)\n",
    "\n",
    "Your summary should compare methods from Part 1 and Part 2 (only for index set 2). State what you expected to see in the results, followed by either supporting evidence *or* justify why the results did not support your expectations. Consider the availability of data, scalability, domain/type of data, etc."
   ]
  },
  {
   "cell_type": "markdown",
   "metadata": {
    "deletable": false,
    "nbgrader": {
     "cell_type": "markdown",
     "checksum": "ff97c43837d10bff6aaffa75e1492887",
     "grade": true,
     "grade_id": "cell-ec5dd7d9cf59dd86",
     "locked": false,
     "points": 20,
     "schema_version": 3,
     "solution": true,
     "task": false
    }
   },
   "source": [
    "Regarding Part 2, the most apparent observation is that re-ranking improves all methods in all rankings, while also reducing the query time as tested in Section 9. We notice that before re-ranking the most effective retrieval methods are LDA and LSI, while after re-ranking W2V and D2V methods, suggesting that neural methods benefit even more from re-ranking. In addition, we see that w2v with pre-trained embeddings has slightly worse performance before re-ranking but significantly better performance after re-ranking.\n",
    "\n",
    "Finally, comparing methods from Part 1 and Part 2, we notice that BM25 (the most efficient retrieval method found at Part 1) has consistently $50\\%-100\\%$ better performance than the best performing method of Part 2 across all metrics. This suggests that for our collection of documents and queries, non-trainable methods are superior, and we can probably attribute this to the small size of our documents and the low number of documents and queries in our collection. This is in accord with the general trend in machine learning, that trainable methods outperform hand-crafted methods in the presence of big amounts of data. Hence, we expect that with the presence of more data, i.e. lengthier documents and more documents and queries, algorithms of Part 2 would achieve better retrieval performance across all metrics."
   ]
  },
  {
   "cell_type": "code",
   "execution_count": null,
   "metadata": {},
   "outputs": [],
   "source": []
  }
 ],
 "metadata": {
  "kernelspec": {
   "display_name": "Python 3",
   "language": "python",
   "name": "python3"
  },
  "language_info": {
   "codemirror_mode": {
    "name": "ipython",
    "version": 3
   },
   "file_extension": ".py",
   "mimetype": "text/x-python",
   "name": "python",
   "nbconvert_exporter": "python",
   "pygments_lexer": "ipython3",
   "version": "3.6.5"
  },
  "toc": {
   "base_numbering": 1,
   "nav_menu": {},
   "number_sections": true,
   "sideBar": true,
   "skip_h1_title": false,
   "title_cell": "Table of Contents",
   "title_sidebar": "Contents",
   "toc_cell": false,
   "toc_position": {},
   "toc_section_display": true,
   "toc_window_display": false
  }
 },
 "nbformat": 4,
 "nbformat_minor": 4
}
