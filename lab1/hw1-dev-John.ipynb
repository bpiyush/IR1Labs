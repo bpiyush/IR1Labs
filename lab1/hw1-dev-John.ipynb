{
 "cells": [
  {
   "cell_type": "markdown",
   "metadata": {
    "deletable": false,
    "editable": false,
    "nbgrader": {
     "cell_type": "markdown",
     "checksum": "1bba455de8bc2825ca70469169bbadaa",
     "grade": false,
     "grade_id": "cell-c9cd9e550239e812",
     "locked": true,
     "schema_version": 3,
     "solution": false,
     "task": false
    }
   },
   "source": [
    "# Homework 1 (Total Points: 250) <a class=\"anchor\" id=\"top\"></a>\n",
    "\n",
    "\n",
    "**Submission instructions**:\n",
    "- The cells with the `# YOUR CODE HERE` denote that these sections are graded and you need to add your implementation.\n",
    "- For Part 1: You can use the `nltk`, `NumPy`, and `matplotlib` libraries here. Other libraries, e.g., `gensim` or `scikit-learn`, may not be used. For Part 2: `gensim` is allowed in addition to the imported libraries in the next code cell\n",
    "- Please use Python 3.6.5 and `pip install -r requirements.txt` to avoid version issues.\n",
    "- The notebook you submit has to have the student ids, separated by underscores (E.g., `12341234_12341234_12341234_hw1.ipynb`).\n",
    "- This will be parsed by a regexp, **so please double check your filename**.\n",
    "- Only one member of each group has to submit the file (**please do not compress the .ipynb file when you will submit it**) to canvas.\n",
    "- **Make sure to check that your notebook runs before submission**. A quick way to do this is to restart the kernel and run all the cells.  \n",
    "- Do not change the number of arugments in the given functions.\n",
    "- **Please do not delete/add new cells**. Removing cells **will** lead to grade deduction. \n",
    "- Note, that you are not allowed to use Google Colab.\n",
    "\n",
    "\n",
    "**Learning Goals**:\n",
    "- [Part 1, Term-based matching](#part1) (165 points):\n",
    "    - Learn how to load a dataset and process it.\n",
    "    - Learn how to implement several standard IR methods (TF-IDF, BM25, QL) and understand their weaknesses & strengths.\n",
    "    - Learn how to evaluate IR methods.\n",
    "- [Part 2, Semantic-based matching](#part2) (85 points):\n",
    "    - Learn how to implement vector-space retrieval methods (LSI, LDA).\n",
    "    - Learn how to use LSI and LDA for re-ranking.\n",
    "\n",
    "    \n",
    "**Resources**: \n",
    "- **Part 1**: Sections 2.3, 4.1, 4.2, 4.3, 5.3, 5.6, 5.7, 6.2, 7, 8 of [Search Engines: Information Retrieval in Practice](https://ciir.cs.umass.edu/downloads/SEIRiP.pdf)\n",
    "- **Part 2**: [LSI - Chapter 18](https://nlp.stanford.edu/IR-book/pdf/18lsi.pdf) from [Introduction to Information Retrieval](https://nlp.stanford.edu/IR-book/) book and the [original LDA paper](https://jmlr.org/papers/volume3/blei03a/blei03a.pdf)"
   ]
  },
  {
   "cell_type": "code",
   "execution_count": 1,
   "metadata": {
    "deletable": false,
    "editable": false,
    "nbgrader": {
     "cell_type": "code",
     "checksum": "c55bfe94ff1f564dd595547e516c4c6e",
     "grade": false,
     "grade_id": "cell-f5357fabdb9660e3",
     "locked": true,
     "schema_version": 3,
     "solution": false,
     "task": false
    }
   },
   "outputs": [],
   "source": [
    "# imports \n",
    "# TODO: Ensure that no additional library is imported in the notebook. \n",
    "# TODO: Only the standard library and the following libraries are allowed:\n",
    "# TODO: You can also use unlisted classes from these libraries or standard libraries (such as defaultdict, Counter, ...).\n",
    "\n",
    "import os\n",
    "import zipfile\n",
    "from functools import partial\n",
    "\n",
    "import nltk\n",
    "import requests\n",
    "import numpy as np\n",
    "from tqdm import tqdm\n",
    "\n",
    "import matplotlib.pyplot as plt\n",
    "from matplotlib.pyplot import cm\n",
    "\n",
    "from ipywidgets import widgets\n",
    "from IPython.display import display, HTML\n",
    "#from IPython.html import widgets\n",
    "from collections import namedtuple\n",
    "\n",
    "%matplotlib inline"
   ]
  },
  {
   "cell_type": "markdown",
   "metadata": {
    "deletable": false,
    "editable": false,
    "nbgrader": {
     "cell_type": "markdown",
     "checksum": "c8328f758ca5b69f76eee03dbbdd4715",
     "grade": false,
     "grade_id": "cell-7428e12ed184408b",
     "locked": true,
     "schema_version": 3,
     "solution": false,
     "task": false
    }
   },
   "source": [
    "\n",
    "# Part 1: Term-based Matching (165 points) <a class=\"anchor\" id=\"part1\"></a>\n",
    "\n",
    "[Back to top](#top)\n",
    "\n",
    "In the first part, we will learn the basics of IR from loading and preprocessing the material, to implementing some well known search algorithms, to evaluating the ranking performance of the implemented algorithms. We will be using the CACM dataset throughout the assignment. The CACM dataset is a collection of titles and abstracts from the journal CACM (Communication of the ACM).\n",
    "\n",
    "Table of contents:\n",
    "- [Section 1: Text Processing](#text_processing) (5 points)\n",
    "- [Section 2: Indexing](#indexing) (10 points)\n",
    "- [Section 3: Ranking](#ranking) (80 points)\n",
    "- [Section 4: Evaluation](#evaluation) (40 points)\n",
    "- [Section 5: Analysis](#analysis) (30 points)\n"
   ]
  },
  {
   "cell_type": "markdown",
   "metadata": {
    "deletable": false,
    "editable": false,
    "nbgrader": {
     "cell_type": "markdown",
     "checksum": "4e3f938065183dc743aa8254b96b4f5e",
     "grade": false,
     "grade_id": "cell-4b24825cf4ae55ec",
     "locked": true,
     "schema_version": 3,
     "solution": false,
     "task": false
    }
   },
   "source": [
    "---\n",
    "## Section 1: Text Processing (5 points)<a class=\"anchor\" id=\"text_processing\"></a>\n",
    "\n",
    "[Back to Part 1](#part1)\n",
    "\n",
    "In this section, we will load the dataset and learn how to clean up the data to make it usable for an IR system. \n",
    "First, go through the implementation of the following functions:\n",
    "- `read_cacm_docs`: Reads in the CACM documents.\n",
    "- `read_queries`: Reads in the CACM queries.\n",
    "- `load_stopwords`: Loads the stopwords.\n",
    "\n",
    "The points of this section are earned for the following implementations:\n",
    "- `tokenize` (3 points): Tokenizes the input text.\n",
    "- `stem_token` (2 points): Stems the given token. \n",
    "\n",
    "We are using the [CACM dataset](http://ir.dcs.gla.ac.uk/resources/test_collections/cacm/), which is a small, classic IR dataset, composed of a collection of titles and abstracts from the journal CACM. It comes with relevance judgements for queries, so we can evaluate our IR system. \n"
   ]
  },
  {
   "cell_type": "markdown",
   "metadata": {
    "deletable": false,
    "editable": false,
    "nbgrader": {
     "cell_type": "markdown",
     "checksum": "0155d897c7016389d73d160921947a6f",
     "grade": false,
     "grade_id": "cell-45651364e7af6d5a",
     "locked": true,
     "schema_version": 3,
     "solution": false,
     "task": false
    }
   },
   "source": [
    "---\n",
    "### 1.1 Read the CACM documents\n",
    "\n",
    "\n",
    "The following cell downloads the dataset and unzips it to a local directory."
   ]
  },
  {
   "cell_type": "code",
   "execution_count": 2,
   "metadata": {
    "deletable": false,
    "editable": false,
    "nbgrader": {
     "cell_type": "code",
     "checksum": "4d43c9ad6e77cc01ce4cef0c34824930",
     "grade": false,
     "grade_id": "cell-bbc3030bb3fe7e02",
     "locked": true,
     "schema_version": 3,
     "solution": false,
     "task": false
    }
   },
   "outputs": [],
   "source": [
    "def download_dataset():\n",
    "    folder_path = os.environ.get(\"IR1_DATA_PATH\")\n",
    "    if not folder_path:\n",
    "        folder_path = \"./datasets/\"\n",
    "    os.makedirs(folder_path, exist_ok=True)\n",
    "    \n",
    "    file_location = os.path.join(folder_path, \"cacm.zip\")\n",
    "    \n",
    "    # download file if it doesn't exist\n",
    "    if not os.path.exists(file_location):\n",
    "        \n",
    "        url = \"https://surfdrive.surf.nl/files/index.php/s/M0FGJpX2p8wDwxR/download\"\n",
    "\n",
    "        with open(file_location, \"wb\") as handle:\n",
    "            print(f\"Downloading file from {url} to {file_location}\")\n",
    "            response = requests.get(url, stream=True)\n",
    "            for data in tqdm(response.iter_content()):\n",
    "                handle.write(data)\n",
    "            print(\"Finished downloading file\")\n",
    "    \n",
    "    if not os.path.exists(os.path.join(folder_path, \"train.txt\")):\n",
    "        \n",
    "        # unzip file\n",
    "        with zipfile.ZipFile(file_location, 'r') as zip_ref:\n",
    "            zip_ref.extractall(folder_path)\n",
    "        \n",
    "download_dataset()"
   ]
  },
  {
   "cell_type": "markdown",
   "metadata": {
    "deletable": false,
    "editable": false,
    "nbgrader": {
     "cell_type": "markdown",
     "checksum": "31609b0d61d0c74cbd69bc43e47c23be",
     "grade": false,
     "grade_id": "cell-a7dd9a9bf98ede05",
     "locked": true,
     "schema_version": 3,
     "solution": false,
     "task": false
    }
   },
   "source": [
    "---\n",
    "\n",
    "You can see a brief description of each file in the dataset by looking at the README file:"
   ]
  },
  {
   "cell_type": "code",
   "execution_count": 3,
   "metadata": {
    "deletable": false,
    "editable": false,
    "nbgrader": {
     "cell_type": "code",
     "checksum": "cb3c9a2b8b2bf4fd5b7446b0c4c00f43",
     "grade": false,
     "grade_id": "cell-9b6ff1a17124711f",
     "locked": true,
     "schema_version": 3,
     "solution": false,
     "task": false
    }
   },
   "outputs": [
    {
     "name": "stdout",
     "output_type": "stream",
     "text": [
      "Files in this directory with sizes:\n",
      "          0 Jun 19 21:01 README\n",
      "\n",
      "    2187734 Jun 19 20:55 cacm.all              text of documents\n",
      "        626 Jun 19 20:58 cite.info             key to citation info\n",
      "                                                (the X sections in cacm.all)\n",
      "       2668 Jun 19 20:55 common_words           stop words used by smart\n",
      "       2194 Jun 19 20:55 make_coll*             shell script to make collection\n",
      "       1557 Jun 19 20:55 make_coll_term*        ditto (both useless without\n",
      "                                                smart system)\n",
      "       9948 Jun 19 20:55 qrels.text             relation giving\n",
      "                                                    qid did 0 0\n",
      "                                                to indicate dument did is\n",
      "                                                relevant to query qid\n",
      "      13689 Jun 19 20:55 query.text             Original text of the query\n",
      "\n"
     ]
    }
   ],
   "source": [
    "##### Read the README file \n",
    "with open (\"./datasets/README\",\"r\") as file:\n",
    "    readme = file.read()\n",
    "    print(readme)\n",
    "#####"
   ]
  },
  {
   "cell_type": "markdown",
   "metadata": {
    "deletable": false,
    "editable": false,
    "nbgrader": {
     "cell_type": "markdown",
     "checksum": "6e2712c4c4632bf7486a532f7f18074d",
     "grade": false,
     "grade_id": "cell-73351431869fda76",
     "locked": true,
     "schema_version": 3,
     "solution": false,
     "task": false
    }
   },
   "source": [
    "---\n",
    "We are interested in 4 files:\n",
    "- `cacm.all` : Contains the text for all documents. Note that some documents do not have abstracts available\n",
    "- `query.text` : The text of all queries\n",
    "- `qrels.text` : The relevance judgements\n",
    "- `common_words` : A list of common words. This may be used as a collection of stopwords"
   ]
  },
  {
   "cell_type": "code",
   "execution_count": 4,
   "metadata": {
    "deletable": false,
    "editable": false,
    "nbgrader": {
     "cell_type": "code",
     "checksum": "f1162c15177eb4ffe466531d03cff4a2",
     "grade": false,
     "grade_id": "cell-b44dd14079f278ca",
     "locked": true,
     "schema_version": 3,
     "solution": false,
     "task": false
    }
   },
   "outputs": [
    {
     "name": "stdout",
     "output_type": "stream",
     "text": [
      ".I 1\n",
      ".T\n",
      "Preliminary Report-International Algebraic Language\n",
      ".B\n",
      "CACM December, 1958\n",
      ".A\n",
      "Perlis, A. J.\n",
      "Samelson,K.\n",
      ".N\n",
      "CA581203 JB March 22, 1978  8:28 PM\n",
      ".X\n",
      "100\t5\t1\n",
      "123\t5\t1\n",
      "164\t5\t1\n",
      "1\t5\t1\n",
      "1\t5\t1\n",
      "1\t5\t1\n",
      "205\t5\t1\n",
      "210\t5\t1\n",
      "214\t5\t1\n",
      "1982\t5\t1\n",
      "398\t5\t1\n",
      "642\t5\t1\n",
      "669\t5\t1\n",
      "1\t6\t1\n",
      "1\t6\t1\n",
      "1\t6\t1\n",
      "1\t6\t1\n",
      "1\t6\t1\n",
      "1\t6\t1\n",
      "1\t6\t1\n",
      "1\t6\t1\n",
      "1\t6\t1\n",
      "1\t6\t1\n",
      "165\t6\t1\n",
      "196\t6\t1\n",
      "196\t6\t1\n",
      "1273\t6\t1\n",
      "1883\t6\t1\n",
      "324\t6\t1\n",
      "43\t6\t1\n",
      "53\t6\t1\n",
      "91\t6\t1\n",
      "410\t6\t1\n",
      "3184\t6\t1\n",
      "\n"
     ]
    }
   ],
   "source": [
    "##### The first 45 lines of the CACM dataset forms the first record\n",
    "# We are interested only in 3 fields. \n",
    "# 1. the '.I' field, which is the document id\n",
    "# 2. the '.T' field (the title) and\n",
    "# 3. the '.W' field (the abstract, which may be absent)\n",
    "with open (\"./datasets/cacm.all\",\"r\") as file:\n",
    "    cacm_all = \"\".join(file.readlines()[:45])\n",
    "    print(cacm_all)\n",
    "#####"
   ]
  },
  {
   "cell_type": "markdown",
   "metadata": {
    "deletable": false,
    "editable": false,
    "nbgrader": {
     "cell_type": "markdown",
     "checksum": "250b413baccd8efb186bb46a34ae0060",
     "grade": false,
     "grade_id": "cell-c4bf2e263ec553d8",
     "locked": true,
     "schema_version": 3,
     "solution": false,
     "task": false
    }
   },
   "source": [
    "---\n",
    "\n",
    "The following function reads the `cacm.all` file. Note that each document has a variable number of lines. The `.I` field denotes a new document:"
   ]
  },
  {
   "cell_type": "code",
   "execution_count": 5,
   "metadata": {
    "deletable": false,
    "editable": false,
    "nbgrader": {
     "cell_type": "code",
     "checksum": "57d757e6a7a6938740dc899022b4f291",
     "grade": false,
     "grade_id": "cell-b736116eb419c624",
     "locked": true,
     "schema_version": 3,
     "solution": false,
     "task": false
    }
   },
   "outputs": [],
   "source": [
    "def read_cacm_docs(root_folder = \"./datasets/\"):\n",
    "    \"\"\"\n",
    "        Reads in the CACM documents. The dataset is assumed to be in the folder \"./datasets/\" by default\n",
    "        Returns: A list of 2-tuples: (doc_id, document), where 'document' is a single string created by \n",
    "            appending the title and abstract (separated by a \"\\n\"). \n",
    "            In case the record doesn't have an abstract, the document is composed only by the title\n",
    "    \"\"\"\n",
    "    with open(os.path.join(root_folder, \"cacm.all\")) as reader:\n",
    "        lines = reader.readlines()\n",
    "    \n",
    "    doc_id, title, abstract = None, None, None\n",
    "    \n",
    "    docs = []\n",
    "    line_idx = 0\n",
    "    while line_idx < len(lines):\n",
    "        line = lines[line_idx]\n",
    "        if line.startswith(\".I\"):\n",
    "            if doc_id is not None:\n",
    "                docs.append((doc_id, title, abstract))\n",
    "                doc_id, title, abstract = None, None, None\n",
    "            \n",
    "            doc_id = line.split()[-1]\n",
    "            line_idx += 1\n",
    "        elif line.startswith(\".T\"):\n",
    "            # start at next line\n",
    "            line_idx += 1\n",
    "            temp_lines = []\n",
    "            # read till next '.'\n",
    "            while not lines[line_idx].startswith(\".\"):\n",
    "                temp_lines.append(lines[line_idx].strip(\"\\n\"))\n",
    "                line_idx += 1\n",
    "            title = \"\\n\".join(temp_lines).strip(\"\\n\")\n",
    "        elif line.startswith(\".W\"):\n",
    "            # start at next line\n",
    "            line_idx += 1\n",
    "            temp_lines = []\n",
    "            # read till next '.'\n",
    "            while not lines[line_idx].startswith(\".\"):\n",
    "                temp_lines.append(lines[line_idx].strip(\"\\n\"))\n",
    "                line_idx += 1\n",
    "            abstract = \"\\n\".join(temp_lines).strip(\"\\n\")\n",
    "        else:\n",
    "            line_idx += 1\n",
    "    \n",
    "    docs.append((doc_id, title, abstract))\n",
    "    \n",
    "    p_docs = []\n",
    "    for (did, t, a) in docs:\n",
    "        if a is None:\n",
    "            a = \"\"\n",
    "        p_docs.append((did, t + \"\\n\" + a))\n",
    "    return p_docs\n"
   ]
  },
  {
   "cell_type": "code",
   "execution_count": 6,
   "metadata": {
    "deletable": false,
    "editable": false,
    "nbgrader": {
     "cell_type": "code",
     "checksum": "2f81930fcd89670b6e20e2255e1f2369",
     "grade": false,
     "grade_id": "cell-a1c43818e0d3fd79",
     "locked": true,
     "schema_version": 3,
     "solution": false,
     "task": false
    }
   },
   "outputs": [],
   "source": [
    "##### Function check\n",
    "docs = read_cacm_docs()\n",
    "\n",
    "assert isinstance(docs, list)\n",
    "assert len(docs) == 3204, \"There should be exactly 3204 documents\"\n",
    "\n",
    "unzipped_docs = list(zip(*docs))\n",
    "assert np.sum(np.array(list(map(int,unzipped_docs[0])))) == 5134410\n",
    "\n",
    "##### "
   ]
  },
  {
   "cell_type": "markdown",
   "metadata": {
    "deletable": false,
    "editable": false,
    "nbgrader": {
     "cell_type": "markdown",
     "checksum": "25fd3cfaf2137c56002b850699b3c9d3",
     "grade": false,
     "grade_id": "cell-5ed2ddc91f73c60e",
     "locked": true,
     "schema_version": 3,
     "solution": false,
     "task": false
    }
   },
   "source": [
    "---\n",
    "### 1.2 Read the CACM queries\n",
    "\n",
    "Next, let us read the queries. They are formatted similarly:"
   ]
  },
  {
   "cell_type": "code",
   "execution_count": 7,
   "metadata": {
    "deletable": false,
    "editable": false,
    "nbgrader": {
     "cell_type": "code",
     "checksum": "5d26c0908e758acb9968b84056b1060a",
     "grade": false,
     "grade_id": "cell-5c7e8e7c4fc2757f",
     "locked": true,
     "schema_version": 3,
     "solution": false,
     "task": false
    }
   },
   "outputs": [
    {
     "name": "stdout",
     "output_type": "stream",
     "text": [
      ".I 1\n",
      ".W\n",
      " What articles exist which deal with TSS (Time Sharing System), an\n",
      "operating system for IBM computers?\n",
      ".N\n",
      " 1. Richard Alexander, Comp Serv, Langmuir Lab (TSS)\n",
      " \n",
      ".I 2\n",
      ".W\n",
      " I am interested in articles written either by Prieve or Udo Pooch\n",
      ".A\n",
      "Prieve, B.\n",
      "Pooch, U.\n",
      ".N\n",
      " 2. Richard Alexander, Comp Serv, Langmuir Lab (author = Pooch or Prieve)\n"
     ]
    }
   ],
   "source": [
    "##### The first 15 lines of 'query.text' has 2 queries\n",
    "# We are interested only in 2 fields. \n",
    "# 1. the '.I' - the query id\n",
    "# 2. the '.W' - the query\n",
    "!head -15 ./datasets/query.text\n",
    "#####"
   ]
  },
  {
   "cell_type": "markdown",
   "metadata": {
    "deletable": false,
    "editable": false,
    "nbgrader": {
     "cell_type": "markdown",
     "checksum": "8f19f311a660f30e3f86cb0f7037d54a",
     "grade": false,
     "grade_id": "cell-88e293507d2dcef6",
     "locked": true,
     "schema_version": 3,
     "solution": false,
     "task": false
    }
   },
   "source": [
    "---\n",
    "\n",
    "The following function reads the `query.text` file:"
   ]
  },
  {
   "cell_type": "code",
   "execution_count": 8,
   "metadata": {
    "deletable": false,
    "editable": false,
    "nbgrader": {
     "cell_type": "code",
     "checksum": "e3fbb193211007672849487f5cff1664",
     "grade": false,
     "grade_id": "cell-433e3ad5d0e2572a",
     "locked": true,
     "schema_version": 3,
     "solution": false,
     "task": false
    }
   },
   "outputs": [],
   "source": [
    "def read_queries(root_folder = \"./datasets/\"):\n",
    "    \"\"\"\n",
    "        Reads in the CACM queries. The dataset is assumed to be in the folder \"./datasets/\" by default\n",
    "        Returns: A list of 2-tuples: (query_id, query)\n",
    "    \"\"\"\n",
    "    with open(os.path.join(root_folder, \"query.text\")) as reader:\n",
    "        lines = reader.readlines()\n",
    "    \n",
    "    query_id, query = None, None\n",
    "    \n",
    "    queries = []\n",
    "    line_idx = 0\n",
    "    while line_idx < len(lines):\n",
    "        line = lines[line_idx]\n",
    "        if line.startswith(\".I\"):\n",
    "            if query_id is not None:\n",
    "                queries.append((query_id, query))\n",
    "                query_id, query = None, None\n",
    "    \n",
    "            query_id = line.split()[-1]\n",
    "            line_idx += 1\n",
    "        elif line.startswith(\".W\"):\n",
    "            # start at next line\n",
    "            line_idx += 1\n",
    "            temp_lines = []\n",
    "            # read till next '.'\n",
    "            while not lines[line_idx].startswith(\".\"):\n",
    "                temp_lines.append(lines[line_idx].strip(\"\\n\"))\n",
    "                line_idx += 1\n",
    "            query = \"\\n\".join(temp_lines).strip(\"\\n\")\n",
    "        else:\n",
    "            line_idx += 1\n",
    "    \n",
    "    queries.append((query_id, query))\n",
    "    return queries\n"
   ]
  },
  {
   "cell_type": "code",
   "execution_count": 9,
   "metadata": {
    "deletable": false,
    "editable": false,
    "nbgrader": {
     "cell_type": "code",
     "checksum": "a897b9771b54f447be3418d7246fc4a0",
     "grade": false,
     "grade_id": "cell-6ec540abce66c598",
     "locked": true,
     "schema_version": 3,
     "solution": false,
     "task": false
    }
   },
   "outputs": [],
   "source": [
    "##### Function check\n",
    "queries = read_queries()\n",
    "\n",
    "assert isinstance(queries, list)\n",
    "assert len(queries) == 64 and all([q[1] is not None for q in queries]), \"There should be exactly 64 queries\"\n",
    "\n",
    "unzipped_queries = list(zip(*queries))\n",
    "assert np.sum(np.array(list(map(int,unzipped_queries[0])))) == 2080\n",
    "\n",
    "##### "
   ]
  },
  {
   "cell_type": "markdown",
   "metadata": {
    "deletable": false,
    "editable": false,
    "nbgrader": {
     "cell_type": "markdown",
     "checksum": "a300c41912ac63b239070b4c15c9f5c5",
     "grade": false,
     "grade_id": "cell-1c31569491d7b782",
     "locked": true,
     "schema_version": 3,
     "solution": false,
     "task": false
    }
   },
   "source": [
    "---\n",
    "### 1.3 Read the stop words\n",
    "\n",
    "We use the common words stored in `common_words`:"
   ]
  },
  {
   "cell_type": "code",
   "execution_count": 10,
   "metadata": {
    "deletable": false,
    "editable": false,
    "nbgrader": {
     "cell_type": "code",
     "checksum": "1ad6f5bae6a792504c1c8513ae5751ad",
     "grade": false,
     "grade_id": "cell-34bdb63461418a96",
     "locked": true,
     "schema_version": 3,
     "solution": false,
     "task": false
    }
   },
   "outputs": [
    {
     "name": "stdout",
     "output_type": "stream",
     "text": [
      "a\n",
      "about\n",
      "above\n",
      "accordingly\n",
      "across\n",
      "after\n",
      "afterwards\n",
      "again\n",
      "against\n",
      "all\n"
     ]
    }
   ],
   "source": [
    "##### Read the stop words file \n",
    "!head ./datasets/common_words\n",
    "##### Read the README file "
   ]
  },
  {
   "cell_type": "markdown",
   "metadata": {
    "deletable": false,
    "editable": false,
    "nbgrader": {
     "cell_type": "markdown",
     "checksum": "6d0fe612e770213b6397c2179b07a966",
     "grade": false,
     "grade_id": "cell-4744bde0338895d8",
     "locked": true,
     "schema_version": 3,
     "solution": false,
     "task": false
    }
   },
   "source": [
    "---\n",
    "\n",
    "The following function reads the `common_words` file (For better coverage, we try to keep them in lowercase):"
   ]
  },
  {
   "cell_type": "code",
   "execution_count": 11,
   "metadata": {
    "deletable": false,
    "editable": false,
    "nbgrader": {
     "cell_type": "code",
     "checksum": "9409713fd26eb0c33587e190638997c4",
     "grade": false,
     "grade_id": "cell-7357aa40f64e5bcb",
     "locked": true,
     "schema_version": 3,
     "solution": false,
     "task": false
    }
   },
   "outputs": [],
   "source": [
    "def load_stopwords(root_folder = \"./datasets/\"):\n",
    "    \"\"\"\n",
    "        Loads the stopwords. The dataset is assumed to be in the folder \"./datasets/\" by default\n",
    "        Output: A set of stopwords\n",
    "    \"\"\"\n",
    "    with open(os.path.join(root_folder, \"common_words\")) as reader:\n",
    "        lines = reader.readlines()\n",
    "    stopwords = set([l.strip().lower() for l in lines])\n",
    "    return stopwords\n"
   ]
  },
  {
   "cell_type": "code",
   "execution_count": 12,
   "metadata": {
    "deletable": false,
    "editable": false,
    "nbgrader": {
     "cell_type": "code",
     "checksum": "f1c8153c3c38133bc2db6e7b076ad470",
     "grade": false,
     "grade_id": "cell-2ca3ac162004de97",
     "locked": true,
     "schema_version": 3,
     "solution": false,
     "task": false
    }
   },
   "outputs": [],
   "source": [
    "##### Function check\n",
    "stopwords = load_stopwords()\n",
    "\n",
    "assert isinstance(stopwords, set)\n",
    "assert len(stopwords) == 428, \"There should be exactly 428 stop words\"\n",
    "\n",
    "assert np.sum(np.array(list(map(len,stopwords)))) == 2234\n",
    "\n",
    "##### \n"
   ]
  },
  {
   "cell_type": "markdown",
   "metadata": {
    "deletable": false,
    "editable": false,
    "nbgrader": {
     "cell_type": "markdown",
     "checksum": "92c1191e9e7291dcf0d70dc67b907a65",
     "grade": false,
     "grade_id": "cell-134b72872f4300cb",
     "locked": true,
     "schema_version": 3,
     "solution": false,
     "task": false
    }
   },
   "source": [
    "---\n",
    "### 1.4 Tokenization (3 points)\n",
    "\n",
    "We can now write some basic text processing functions. \n",
    "A first step is to tokenize the text. \n",
    "\n",
    "**Note**: Use the  `WordPunctTokenizer` available in the `nltk` library:"
   ]
  },
  {
   "cell_type": "code",
   "execution_count": 13,
   "metadata": {
    "deletable": false,
    "nbgrader": {
     "cell_type": "code",
     "checksum": "3f5564d3c75bf22fbf832b3a9b938f37",
     "grade": false,
     "grade_id": "cell-322be4c9499bdc4b",
     "locked": false,
     "schema_version": 3,
     "solution": true,
     "task": false
    }
   },
   "outputs": [],
   "source": [
    "# TODO: Implement this! (4 points)\n",
    "def tokenize(text):\n",
    "    \"\"\"\n",
    "        Tokenizes the input text. Use the WordPunctTokenizer\n",
    "        Input: text - a string\n",
    "        Output: a list of tokens\n",
    "    \"\"\"\n",
    "    # YOUR CODE HERE\n",
    "    \n",
    "    tokenizer = nltk.tokenize.WordPunctTokenizer()\n",
    "    tokens = tokenizer.tokenize(text)\n",
    "    \n",
    "    return tokens"
   ]
  },
  {
   "cell_type": "code",
   "execution_count": 14,
   "metadata": {
    "deletable": false,
    "editable": false,
    "nbgrader": {
     "cell_type": "code",
     "checksum": "e15af22c4d8ae0a3f9dac43bef7097ec",
     "grade": true,
     "grade_id": "cell-7fbf48bf7541a622",
     "locked": true,
     "points": 3,
     "schema_version": 3,
     "solution": false,
     "task": false
    }
   },
   "outputs": [
    {
     "name": "stdout",
     "output_type": "stream",
     "text": [
      "['the', 'quick', 'brown', 'fox', 'jumps', 'over', 'the', 'lazy', 'dog']\n"
     ]
    }
   ],
   "source": [
    "##### Function check\n",
    "text = \"the quick brown fox jumps over the lazy dog\"\n",
    "tokens = tokenize(text)\n",
    "\n",
    "assert isinstance(tokens, list)\n",
    "assert len(tokens) == 9\n",
    "\n",
    "print(tokens)\n",
    "# output: ['the', 'quick', 'brown', 'fox', 'jumps', 'over', 'the', 'lazy', 'dog']\n",
    "#####"
   ]
  },
  {
   "cell_type": "markdown",
   "metadata": {
    "deletable": false,
    "editable": false,
    "nbgrader": {
     "cell_type": "markdown",
     "checksum": "34210618bff4cb47aad2f03cb4b9854c",
     "grade": false,
     "grade_id": "cell-fd1b98ae61b697ca",
     "locked": true,
     "schema_version": 3,
     "solution": false,
     "task": false
    }
   },
   "source": [
    "---\n",
    "### 1.5 Stemming (2 points)\n",
    "\n",
    "Write a function to stem tokens. \n",
    "Again, you can use the nltk library for this:"
   ]
  },
  {
   "cell_type": "code",
   "execution_count": 15,
   "metadata": {
    "deletable": false,
    "nbgrader": {
     "cell_type": "code",
     "checksum": "1c4a6aa979d66158c7b6b992af43293a",
     "grade": false,
     "grade_id": "cell-e3f6c8e3f874b28d",
     "locked": false,
     "schema_version": 3,
     "solution": true,
     "task": false
    }
   },
   "outputs": [],
   "source": [
    "# TODO: Implement this! (3 points)\n",
    "def stem_token(token):\n",
    "    \"\"\"\n",
    "        Stems the given token using the PorterStemmer from the nltk library\n",
    "        Input: a single token\n",
    "        Output: the stem of the token\n",
    "    \"\"\"\n",
    "    # YOUR CODE HERE\n",
    "    stemmer = nltk.stem.porter.PorterStemmer()\n",
    "    stemmed_token = stemmer.stem(token)\n",
    "    \n",
    "    return stemmed_token"
   ]
  },
  {
   "cell_type": "code",
   "execution_count": 16,
   "metadata": {
    "deletable": false,
    "editable": false,
    "nbgrader": {
     "cell_type": "code",
     "checksum": "9363b4f09b556d424d9c895d4ab57b1c",
     "grade": true,
     "grade_id": "cell-cd6863e6ee6ed205",
     "locked": true,
     "points": 2,
     "schema_version": 3,
     "solution": false,
     "task": false
    }
   },
   "outputs": [],
   "source": [
    "##### Function check\n",
    "\n",
    "assert stem_token('owned') == 'own'\n",
    "assert stem_token('itemization') == 'item'\n",
    "#####"
   ]
  },
  {
   "cell_type": "markdown",
   "metadata": {
    "deletable": false,
    "editable": false,
    "nbgrader": {
     "cell_type": "markdown",
     "checksum": "0b311d014146da6afa1d39542fab9869",
     "grade": false,
     "grade_id": "cell-47c9f90498699110",
     "locked": true,
     "schema_version": 3,
     "solution": false,
     "task": false
    }
   },
   "source": [
    "---\n",
    "### 1.6 Summary\n",
    "\n",
    "The following function puts it all together. Given an input string, this functions tokenizes and processes it according to the flags that you set."
   ]
  },
  {
   "cell_type": "code",
   "execution_count": 17,
   "metadata": {
    "deletable": false,
    "editable": false,
    "nbgrader": {
     "cell_type": "code",
     "checksum": "2ff2d215ee8e0039c5a91fd3de12e6bd",
     "grade": false,
     "grade_id": "cell-dd0d3f46b30801da",
     "locked": true,
     "schema_version": 3,
     "solution": false,
     "task": false
    }
   },
   "outputs": [],
   "source": [
    "#### Putting it all together\n",
    "def process_text(text, stem=False, remove_stopwords=False, lowercase_text=False):\n",
    "    \n",
    "    tokens = []\n",
    "    for token in tokenize(text):\n",
    "        if remove_stopwords and token.lower() in stopwords:\n",
    "            continue\n",
    "        if stem:\n",
    "            token = stem_token(token)\n",
    "        if lowercase_text:\n",
    "            token = token.lower()\n",
    "        tokens.append(token)\n",
    "\n",
    "    return tokens\n",
    "#### "
   ]
  },
  {
   "cell_type": "markdown",
   "metadata": {
    "deletable": false,
    "editable": false,
    "nbgrader": {
     "cell_type": "markdown",
     "checksum": "02d433b18eb43654fa4306a7bf55b190",
     "grade": false,
     "grade_id": "cell-8d885bfd2edd43ae",
     "locked": true,
     "schema_version": 3,
     "solution": false,
     "task": false
    }
   },
   "source": [
    "---\n",
    "\n",
    "Let's create two sets of preprocessed documents.\n",
    "We can process the documents and queries according to these two configurations:"
   ]
  },
  {
   "cell_type": "code",
   "execution_count": 18,
   "metadata": {
    "deletable": false,
    "editable": false,
    "nbgrader": {
     "cell_type": "code",
     "checksum": "dbe4ca667be6842fdcf512fbcad50c7f",
     "grade": false,
     "grade_id": "cell-d427365ee0fb21d8",
     "locked": true,
     "schema_version": 3,
     "solution": false,
     "task": false
    }
   },
   "outputs": [],
   "source": [
    "# In this configuration:\n",
    "# Don't preprocess the text, except to tokenize \n",
    "config_1 = {\n",
    "  \"stem\": False,\n",
    "  \"remove_stopwords\" : False,\n",
    "  \"lowercase_text\": True\n",
    "} \n",
    "\n",
    "\n",
    "# In this configuration:\n",
    "# Preprocess the text, stem and remove stopwords\n",
    "config_2 = {\n",
    "  \"stem\": True,\n",
    "  \"remove_stopwords\" : True,\n",
    "  \"lowercase_text\": True, \n",
    "} \n",
    "\n",
    "####\n",
    "doc_repr_1 = []\n",
    "doc_repr_2 = []\n",
    "for (doc_id, document) in docs:\n",
    "    doc_repr_1.append((doc_id, process_text(document, **config_1)))\n",
    "    doc_repr_2.append((doc_id, process_text(document, **config_2)))\n",
    "\n",
    "####"
   ]
  },
  {
   "cell_type": "markdown",
   "metadata": {
    "deletable": false,
    "editable": false,
    "nbgrader": {
     "cell_type": "markdown",
     "checksum": "b60589aac19e80941d860d9b3f1e9a16",
     "grade": false,
     "grade_id": "cell-b1c102db61ae7495",
     "locked": true,
     "schema_version": 3,
     "solution": false,
     "task": false
    }
   },
   "source": [
    "--- \n",
    "\n",
    "## Section 2: Indexing (10 points)<a class=\"anchor\" id=\"indexing\"></a>\n",
    "\n",
    "[Back to Part 1](#part1)\n",
    "\n",
    "\n",
    "\n",
    "A retrieval function usually takes in a query document pair, and scores a query against a document.  Our document set is quite small - just a few thousand documents. However, consider a web-scale dataset with a few million documents. In such a scenario, it would become infeasible to score every query and document pair. In such a case, we can build an inverted index. From Wikipedia:\n",
    "\n",
    "> ... , an inverted index (also referred to as a postings file or inverted file) is a database index storing a mapping from content, such as words or numbers, to its locations in a table, .... The purpose of an inverted index is to allow fast full-text searches, at a cost of increased processing when a document is added to the database. ...\n",
    "\n",
    "\n",
    "Consider a simple inverted index, which maps from word to document. This can improve the performance of a retrieval system significantly. In this assignment, we consider a *simple* inverted index, which maps a word to a set of documents. In practice, however, more complex indices might be used.  \n"
   ]
  },
  {
   "cell_type": "markdown",
   "metadata": {
    "deletable": false,
    "editable": false,
    "nbgrader": {
     "cell_type": "markdown",
     "checksum": "710fd943f45523ac36fcb887cc0d4d39",
     "grade": false,
     "grade_id": "cell-fa373192c1b7bb95",
     "locked": true,
     "schema_version": 3,
     "solution": false,
     "task": false
    }
   },
   "source": [
    "### 2.1 Term Frequency-index (10 points)\n",
    "In this assignment, we will be using an index created in memory since our dataset is tiny. To get started, build a simple index that maps each `token` to a list of `(doc_id, count)` where `count` is the count of the `token` in `doc_id`.\n",
    "For consistency, build this index using a python dictionary.\n",
    "    \n",
    "Now, implement a function to build an index:"
   ]
  },
  {
   "cell_type": "code",
   "execution_count": 19,
   "metadata": {
    "deletable": false,
    "nbgrader": {
     "cell_type": "code",
     "checksum": "d4e8c6b658c469379d5fe511de05b536",
     "grade": false,
     "grade_id": "cell-077599b87e953209",
     "locked": false,
     "schema_version": 3,
     "solution": true,
     "task": false
    }
   },
   "outputs": [],
   "source": [
    "# TODO: Implement this! (10 points)\n",
    "def build_tf_index(documents):\n",
    "    \"\"\"\n",
    "        Build an inverted index (with counts). The output is a dictionary which takes in a token\n",
    "        and returns a list of (doc_id, count) where 'count' is the count of the 'token' in 'doc_id'\n",
    "        Input: a list of documents - (doc_id, tokens) \n",
    "        Output: An inverted index implemented within a pyhton dictionary: [token] -> [(doc_id, token_count)]\n",
    "    \"\"\"\n",
    "    # YOUR CODE HERE\n",
    "    \n",
    "    # basic imports\n",
    "    from collections import defaultdict\n",
    "    \n",
    "    # initialize the index\n",
    "    index = defaultdict(list)\n",
    "    \n",
    "    # loop over documents\n",
    "    for doc_id, doc_tokens in documents:\n",
    "\n",
    "        # get counts of each token in the document\n",
    "        tokens, counts = np.unique(doc_tokens, return_counts=True)\n",
    "        \n",
    "        # update the index\n",
    "        for token, count in zip(tokens, counts):\n",
    "            index[token].append((doc_id, count))\n",
    "    \n",
    "    return index"
   ]
  },
  {
   "cell_type": "markdown",
   "metadata": {
    "deletable": false,
    "editable": false,
    "nbgrader": {
     "cell_type": "markdown",
     "checksum": "15e7041b4323d2a290322de538ff7670",
     "grade": false,
     "grade_id": "cell-093aebfa504f96f2",
     "locked": true,
     "schema_version": 3,
     "solution": false,
     "task": false
    }
   },
   "source": [
    "---\n",
    "Now we can build indexed documents and preprocess the queries based on the two configurations:"
   ]
  },
  {
   "cell_type": "code",
   "execution_count": 20,
   "metadata": {
    "deletable": false,
    "editable": false,
    "nbgrader": {
     "cell_type": "code",
     "checksum": "e27540c1d8d77a3779a05f557f3f40c6",
     "grade": false,
     "grade_id": "cell-b2ff1676348b90a8",
     "locked": true,
     "schema_version": 3,
     "solution": false,
     "task": false
    }
   },
   "outputs": [],
   "source": [
    "#### Indexed documents based on the two configs\n",
    "\n",
    "# Create the 2 indices\n",
    "tf_index_1 = build_tf_index(doc_repr_1)\n",
    "tf_index_2 = build_tf_index(doc_repr_2)\n",
    "\n",
    "# This function returns the tf_index of the corresponding config\n",
    "def get_index(index_set):\n",
    "    assert index_set in {1, 2}\n",
    "    return {\n",
    "        1: tf_index_1,\n",
    "        2: tf_index_2\n",
    "    }[index_set]\n",
    "\n",
    "####\n",
    "#### Preprocessed query based on the two configs\n",
    "\n",
    "# This function preprocesses the text given the index set, according to the specified config\n",
    "def preprocess_query(text, index_set):\n",
    "    assert index_set in {1, 2}\n",
    "    if index_set == 1:\n",
    "        return process_text(text, **config_1)\n",
    "    elif index_set == 2:\n",
    "        return process_text(text, **config_2)\n",
    "\n",
    "#### "
   ]
  },
  {
   "cell_type": "code",
   "execution_count": 21,
   "metadata": {
    "deletable": false,
    "editable": false,
    "nbgrader": {
     "cell_type": "code",
     "checksum": "f0cbc8703e1248cd6edf03f9019b69db",
     "grade": true,
     "grade_id": "cell-fc7c7232d5d2ee46",
     "locked": true,
     "points": 5,
     "schema_version": 3,
     "solution": false,
     "task": false
    }
   },
   "outputs": [
    {
     "name": "stdout",
     "output_type": "stream",
     "text": [
      "sample tf index for computer: [('4', 1), ('7', 1), ('10', 1), ('13', 1), ('19', 1), ('22', 1), ('23', 1), ('37', 1), ('40', 3), ('41', 1)]\n",
      "sample tf index for examples: [('111', 1), ('320', 1), ('644', 1), ('691', 1), ('727', 1), ('848', 1), ('892', 1), ('893', 1), ('1049', 1), ('1051', 1)]\n"
     ]
    }
   ],
   "source": [
    "##### Function check\n",
    "\n",
    "assert isinstance(tf_index_1, dict)\n",
    "\n",
    "assert isinstance(tf_index_1['computer'], list)\n",
    "print('sample tf index for computer:', tf_index_1['computer'][:10])\n",
    "\n",
    "assert isinstance(tf_index_1['examples'], list)\n",
    "print('sample tf index for examples:', tf_index_1['examples'][:10])\n",
    "#### "
   ]
  },
  {
   "cell_type": "code",
   "execution_count": 22,
   "metadata": {
    "deletable": false,
    "editable": false,
    "nbgrader": {
     "cell_type": "code",
     "checksum": "d49b8ac36815d9a5cb4bed838ab53a50",
     "grade": true,
     "grade_id": "cell-ff06bd11204db250",
     "locked": true,
     "points": 5,
     "schema_version": 3,
     "solution": false,
     "task": false
    }
   },
   "outputs": [
    {
     "name": "stdout",
     "output_type": "stream",
     "text": [
      "sample tf index for computer: [('4', 1), ('7', 1), ('10', 1), ('13', 1), ('19', 1), ('22', 1), ('23', 1), ('37', 1), ('40', 3), ('41', 1)]\n",
      "sample tf index for examples: []\n"
     ]
    }
   ],
   "source": [
    "##### Function check\n",
    "\n",
    "assert isinstance(tf_index_2, dict)\n",
    "\n",
    "assert isinstance(tf_index_2['computer'], list)\n",
    "print('sample tf index for computer:', tf_index_1['computer'][:10])\n",
    "\n",
    "assert isinstance(tf_index_2['examples'], list)\n",
    "print('sample tf index for examples:', tf_index_2['examples'][:10])\n",
    "#### "
   ]
  },
  {
   "cell_type": "markdown",
   "metadata": {
    "deletable": false,
    "editable": false,
    "nbgrader": {
     "cell_type": "markdown",
     "checksum": "880b2ef3ca405f2af6e0667d2dc7a600",
     "grade": false,
     "grade_id": "cell-89eba71f04310291",
     "locked": true,
     "schema_version": 3,
     "solution": false,
     "task": false
    }
   },
   "source": [
    "\n",
    "---\n",
    "## Section 3: Ranking  (80 points) <a class=\"anchor\" id=\"ranking\"></a>\n",
    "\n",
    "[Back to Part 1](#part1)\n",
    "\n",
    "Now that we have cleaned and processed our dataset, we can start building simple IR systems. \n",
    "\n",
    "For now, we consider *simple* IR systems, which involve computing scores from the tokens present in the document/query. More advanced methods are covered in later assignments.\n",
    "\n",
    "We will implement the following methods in this section:\n",
    "- [Section 3.1: Bag of Words](#bow) (10 points)\n",
    "- [Section 3.2: TF-IDF](#tfidf) (15 points)\n",
    "- [Section 3.3: Query Likelihood Model](#qlm) (35 points)\n",
    "- [Section 3.4: BM25](#bm25) (20 points)\n",
    "\n",
    "*All search functions should be able to handle multiple words queries.*\n",
    "\n",
    "**Scoring policy:**\n",
    "Your implementations in this section are scored based on the expected performance of your ranking functions.\n",
    "You will get a full mark if your implementation meets the expected performance (measured by some evaluation metric).\n",
    "Otherwise, you may get partial credit.\n",
    "For example, if your *Bag of words* ranking function has 60% of expected performance, you will get 6 out of 10."
   ]
  },
  {
   "cell_type": "markdown",
   "metadata": {
    "deletable": false,
    "editable": false,
    "nbgrader": {
     "cell_type": "markdown",
     "checksum": "6c74e5061917358300c6e8085ec07864",
     "grade": false,
     "grade_id": "cell-3daf70a60e393adf",
     "locked": true,
     "schema_version": 3,
     "solution": false,
     "task": false
    }
   },
   "source": [
    "--- \n",
    "\n",
    "### Section 3.1: Bag of Words (10 points)<a class=\"anchor\" id=\"bow\"></a>\n",
    "\n",
    "Probably the simplest IR model is the Bag of Words (BOW) model.\n",
    "Implement a function that scores and ranks all the documents against a query using this model.   \n",
    "\n",
    "- For consistency, you should use the count of the token and **not** the binary indicator.\n",
    "- Use `float` type for the scores (even though the scores are integers in this case).\n",
    "- No normalization of the scores is necessary, as the ordering is what we are interested in.\n",
    "- If two documents have the same score, they can have any ordering: you are not required to disambiguate.\n"
   ]
  },
  {
   "cell_type": "code",
   "execution_count": 23,
   "metadata": {
    "deletable": false,
    "nbgrader": {
     "cell_type": "code",
     "checksum": "fee4640e22bfc4f05eb958a675ef40e7",
     "grade": false,
     "grade_id": "cell-de9cf0459c4b9324",
     "locked": false,
     "schema_version": 3,
     "solution": true,
     "task": false
    }
   },
   "outputs": [],
   "source": [
    "# TODO: Implement this! (10 points)\n",
    "def bow_search(query, index_set):\n",
    "    \"\"\"\n",
    "        Perform a search over all documents with the given query. \n",
    "        Note: You have to use the `get_index` function created in the previous cells\n",
    "        Input: \n",
    "            query - a (unprocessed) query\n",
    "            index_set - the index to use\n",
    "        Output: a list of (document_id, score), sorted in descending relevance to the given query. \n",
    "    \"\"\"\n",
    "    index = get_index(index_set)\n",
    "    processed_query = preprocess_query(query, index_set)\n",
    "    \n",
    "    # YOUR CODE HERE\n",
    "    \n",
    "    from collections import Counter, OrderedDict\n",
    "\n",
    "    document_score = Counter()\n",
    "    for t in processed_query:\n",
    "        if t in index:\n",
    "            document_score.update(dict(index[t]))          \n",
    "        \n",
    "    # convert scores to floats\n",
    "    document_score = {k: float(v) for k, v in document_score.items()}\n",
    "    \n",
    "    # return the sorted dict\n",
    "    return sorted(document_score.items(), key=lambda x: x[1], reverse=True)"
   ]
  },
  {
   "cell_type": "code",
   "execution_count": 24,
   "metadata": {
    "deletable": false,
    "editable": false,
    "nbgrader": {
     "cell_type": "code",
     "checksum": "613524fbbf02b1d122c6611a71fbf11b",
     "grade": true,
     "grade_id": "cell-9f6aceae6dd9125f",
     "locked": true,
     "points": 2,
     "schema_version": 3,
     "solution": false,
     "task": false
    }
   },
   "outputs": [],
   "source": [
    "#### Function check\n",
    "\n",
    "test_bow = bow_search(\"how to implement bag of words search\", index_set=1)[:5]\n",
    "assert isinstance(test_bow, list)\n",
    "assert len(test_bow[0]) == 2\n",
    "assert isinstance(test_bow[0][0], str)\n",
    "assert isinstance(test_bow[0][1], float)\n",
    "\n",
    "#### "
   ]
  },
  {
   "cell_type": "code",
   "execution_count": 25,
   "metadata": {
    "deletable": false,
    "editable": false,
    "nbgrader": {
     "cell_type": "code",
     "checksum": "9af20897659edb62fe77598483590500",
     "grade": true,
     "grade_id": "cell-4eed3abf233d9b58",
     "locked": true,
     "points": 2,
     "schema_version": 3,
     "solution": false,
     "task": false
    }
   },
   "outputs": [
    {
     "name": "stdout",
     "output_type": "stream",
     "text": [
      "BOW Results:\n",
      "Rank 0(1.3e+01): On Computing The Fast Fourier Transform\\nCooley an...\n",
      "Rank 1(1.2e+01): Variable Length Tree Structures Having Minimum Ave...\n",
      "Rank 2(1.1e+01): A Modular Computer Sharing System\\nAn alternative ...\n",
      "Rank 3(1e+01): PEEKABIT, Computer Offspring of Punched\\nCard PEEK...\n",
      "Rank 4(9.0): Computer Simulation-Discussion of the\\nTechnique a...\n"
     ]
    }
   ],
   "source": [
    "\n",
    "docs_by_id = dict(docs)\n",
    "def print_results(docs, len_limit=50):    \n",
    "    for i, (doc_id, score) in enumerate(docs):\n",
    "        doc_content = docs_by_id[doc_id].strip().replace(\"\\n\", \"\\\\n\")[:len_limit] + \"...\"\n",
    "        print(f\"Rank {i}({score:.2}): {doc_content}\")\n",
    "\n",
    "test_bow_2 = bow_search(\"computer search word\", index_set=2)[:5]\n",
    "print(f\"BOW Results:\")\n",
    "print_results(test_bow_2)\n"
   ]
  },
  {
   "cell_type": "code",
   "execution_count": 26,
   "metadata": {
    "deletable": false,
    "editable": false,
    "nbgrader": {
     "cell_type": "code",
     "checksum": "3c9c8b16c8e7d1032f101e9da8a6e845",
     "grade": true,
     "grade_id": "cell-4d65a2d7090c466c",
     "locked": true,
     "points": 3,
     "schema_version": 3,
     "solution": false,
     "task": false
    }
   },
   "outputs": [
    {
     "name": "stdout",
     "output_type": "stream",
     "text": [
      "BOW Results:\n",
      "Rank 0(9.0): CURRICULUM 68 -- Recommendations for Academic\\nPro...\n",
      "Rank 1(9.0): Variable Length Tree Structures Having Minimum Ave...\n",
      "Rank 2(7.0): Computer Formulation of the Equations of Motion Us...\n",
      "Rank 3(7.0): The Effects of Multiplexing on a Computer-Communic...\n",
      "Rank 4(6.0): Optimizing Bit-time Computer Simulation\\nA major c...\n"
     ]
    }
   ],
   "source": [
    "\n",
    "test_bow_1 = bow_search(\"computer search word\", index_set=1)[:5]\n",
    "print(f\"BOW Results:\")\n",
    "print_results(test_bow_1)\n"
   ]
  },
  {
   "cell_type": "code",
   "execution_count": 27,
   "metadata": {
    "deletable": false,
    "editable": false,
    "nbgrader": {
     "cell_type": "code",
     "checksum": "b7e593847aa4202ae45ec061fb18ad73",
     "grade": true,
     "grade_id": "cell-dedf36ab5853ce20",
     "locked": true,
     "points": 3,
     "schema_version": 3,
     "solution": false,
     "task": false
    }
   },
   "outputs": [
    {
     "name": "stdout",
     "output_type": "stream",
     "text": [
      "top-5 docs for index1: ('1771', '1936', '1543', '2535', '678')\n",
      "top-5 docs for index2: ('1525', '1936', '1844', '1700', '1366')\n"
     ]
    }
   ],
   "source": [
    "print('top-5 docs for index1:', list(zip(*test_bow_1[:5]))[0])\n",
    "print('top-5 docs for index2:', list(zip(*test_bow_2[:5]))[0])\n"
   ]
  },
  {
   "cell_type": "markdown",
   "metadata": {
    "deletable": false,
    "editable": false,
    "nbgrader": {
     "cell_type": "markdown",
     "checksum": "b04352ee0716dfdf094b8cdb6f32e984",
     "grade": false,
     "grade_id": "cell-a5c09c79ac1f2871",
     "locked": true,
     "schema_version": 3,
     "solution": false,
     "task": false
    }
   },
   "source": [
    "\n",
    "---\n",
    "\n",
    "### Section 3.2: TF-IDF (15 points) <a class=\"anchor\" id=\"tfidf\"></a>\n",
    "\n",
    "Before we implement the tf-idf scoring functions, let's first write a function to compute the document frequencies of all words.  \n",
    "\n",
    "#### 3.2.1 Document frequency (5 points)\n",
    "Compute the document frequencies of all tokens in the collection. \n",
    "Your code should return a dictionary with tokens as its keys and the number of documents containing the token as values.\n",
    "For consistency, the values should have `int` type."
   ]
  },
  {
   "cell_type": "code",
   "execution_count": 28,
   "metadata": {
    "deletable": false,
    "nbgrader": {
     "cell_type": "code",
     "checksum": "5c53263cf4c0b0ffcaae08b91fc364cc",
     "grade": false,
     "grade_id": "cell-9a2369f32e864b8a",
     "locked": false,
     "schema_version": 3,
     "solution": true,
     "task": false
    }
   },
   "outputs": [],
   "source": [
    "# TODO: Implement this! (5 points)\n",
    "def compute_df(documents):\n",
    "    \"\"\"\n",
    "        Compute the document frequency of all terms in the vocabulary\n",
    "        Input: A list of documents\n",
    "        Output: A dictionary with {token: document frequency (int)}\n",
    "    \"\"\"\n",
    "    # YOUR CODE HERE\n",
    "    \n",
    "    from collections import Counter\n",
    "    \n",
    "    df = Counter()\n",
    "    for d in documents:\n",
    "        df.update(np.unique(d))\n",
    "    \n",
    "    return df"
   ]
  },
  {
   "cell_type": "code",
   "execution_count": 29,
   "metadata": {
    "deletable": false,
    "editable": false,
    "nbgrader": {
     "cell_type": "code",
     "checksum": "154985511d7925c5793a1f97dea81880",
     "grade": false,
     "grade_id": "cell-4c3bddd0b73ac90e",
     "locked": true,
     "schema_version": 3,
     "solution": false,
     "task": false
    }
   },
   "outputs": [],
   "source": [
    "#### Compute df based on the two configs\n",
    "\n",
    "# get the document frequencies of each document\n",
    "df_1 = compute_df([d[1] for d in doc_repr_1])\n",
    "df_2 = compute_df([d[1] for d in doc_repr_2])\n",
    "\n",
    "def get_df(index_set):\n",
    "    assert index_set in {1, 2}\n",
    "    return {\n",
    "        1: df_1,\n",
    "        2: df_2\n",
    "    }[index_set]\n",
    "####"
   ]
  },
  {
   "cell_type": "code",
   "execution_count": 30,
   "metadata": {
    "deletable": false,
    "editable": false,
    "nbgrader": {
     "cell_type": "code",
     "checksum": "110cc180068cf3f77c682ee3de2a117c",
     "grade": true,
     "grade_id": "cell-79e8a6db1e5fc46f",
     "locked": true,
     "points": 5,
     "schema_version": 3,
     "solution": false,
     "task": false
    }
   },
   "outputs": [
    {
     "name": "stdout",
     "output_type": "stream",
     "text": [
      "597\n",
      "11\n"
     ]
    }
   ],
   "source": [
    "#### Function check\n",
    "\n",
    "print(df_1['computer'])\n",
    "print(df_2['computer'])\n",
    "####"
   ]
  },
  {
   "cell_type": "markdown",
   "metadata": {
    "deletable": false,
    "editable": false,
    "nbgrader": {
     "cell_type": "markdown",
     "checksum": "d0d577668fa51b80aeab6e67209ae73b",
     "grade": false,
     "grade_id": "cell-52f6acc487e1b96d",
     "locked": true,
     "schema_version": 3,
     "solution": false,
     "task": false
    }
   },
   "source": [
    "---\n",
    "#### 3.2.2 TF-IDF search (10 points)\n",
    "Next, implement a function that computes a tf-idf score, given a query.\n",
    "Use the following formulas for TF and IDF:\n",
    "\n",
    "$$ TF=\\log (1 + f_{d,t}) $$\n",
    "\n",
    "$$ IDF=\\log (\\frac{N}{n_t})$$\n",
    "\n",
    "where $f_{d,t}$ is the frequency of token $t$ in document $d$, $N$ is the number of total documents and $n_t$ is the number of documents containing token $t$.\n",
    "\n",
    "**Note:** your implementation will be auto-graded assuming you have used the above formulas.\n"
   ]
  },
  {
   "cell_type": "code",
   "execution_count": 31,
   "metadata": {
    "deletable": false,
    "nbgrader": {
     "cell_type": "code",
     "checksum": "3534c44b4a3419ca1db98eebe7115dc1",
     "grade": false,
     "grade_id": "cell-2fb5ba34b2994cd9",
     "locked": false,
     "schema_version": 3,
     "solution": true,
     "task": false
    }
   },
   "outputs": [],
   "source": [
    "# TODO: Implement this! (10 points)\n",
    "def tfidf_search(query, index_set):\n",
    "    \"\"\"\n",
    "        Perform a search over all documents with the given query using tf-idf. \n",
    "        Note #1: You have to use the `get_index` (and the `get_df`) function created in the previous cells\n",
    "        Input: \n",
    "            query - a (unprocessed) query\n",
    "            index_set - the index to use\n",
    "        Output: a list of (document_id, score), sorted in descending relevance to the given query \n",
    "    \"\"\"\n",
    "    index = get_index(index_set)\n",
    "    df = get_df(index_set)\n",
    "    processed_query = preprocess_query(query, index_set)\n",
    "    \n",
    "    N = len(docs)\n",
    "    \n",
    "    # YOUR CODE HERE\n",
    "    from collections import defaultdict\n",
    "    \n",
    "    epsilon = np.finfo(np.float32).eps\n",
    "    \n",
    "    document_score = defaultdict(int)\n",
    "    for t in processed_query:\n",
    "        if t in index:\n",
    "            for doc_id, count in index[t]:\n",
    "                idf = np.log((N / (df[t] + epsilon)))\n",
    "                tf = np.log(1 + count)\n",
    "                document_score[doc_id] += tf * idf\n",
    "\n",
    "    return sorted(document_score.items(), key=lambda x: x[1], reverse=True)"
   ]
  },
  {
   "cell_type": "code",
   "execution_count": 32,
   "metadata": {
    "deletable": false,
    "editable": false,
    "nbgrader": {
     "cell_type": "code",
     "checksum": "7b66a514663d898694b09a23a597312b",
     "grade": true,
     "grade_id": "cell-bc68aeeacf42beb3",
     "locked": true,
     "points": 2,
     "schema_version": 3,
     "solution": false,
     "task": false
    }
   },
   "outputs": [],
   "source": [
    "\n",
    "#### Function check\n",
    "test_tfidf = tfidf_search(\"how to implement tf idf search\", index_set=1)[:5]\n",
    "assert isinstance(test_tfidf, list)\n",
    "assert len(test_tfidf[0]) == 2\n",
    "assert isinstance(test_tfidf[0][0], str)\n",
    "assert isinstance(test_tfidf[0][1], float)\n",
    "\n",
    "####"
   ]
  },
  {
   "cell_type": "code",
   "execution_count": 33,
   "metadata": {
    "deletable": false,
    "editable": false,
    "nbgrader": {
     "cell_type": "code",
     "checksum": "98fb1326cf4bf7983ae237ca8a9105f9",
     "grade": true,
     "grade_id": "cell-c7702fa8179fadb9",
     "locked": true,
     "points": 2,
     "schema_version": 3,
     "solution": false,
     "task": false
    }
   },
   "outputs": [
    {
     "name": "stdout",
     "output_type": "stream",
     "text": [
      "TFIDF Results:\n",
      "Rank 0(1.3e+01): PEEKABIT, Computer Offspring of Punched\\nCard PEEK...\n",
      "Rank 1(9.8): Variable Length Tree Structures Having Minimum Ave...\n",
      "Rank 2(8.2): A Stochastic Approach to the Grammatical Coding of...\n",
      "Rank 3(8.1): Full Table Quadratic Searching for Scatter Storage...\n",
      "Rank 4(7.6): Use of Tree Structures for Processing Files\\nIn da...\n"
     ]
    }
   ],
   "source": [
    "\n",
    "test_tfidf_2 = tfidf_search(\"computer word search\", index_set=2)[:5]\n",
    "print(f\"TFIDF Results:\")\n",
    "print_results(test_tfidf_2)\n"
   ]
  },
  {
   "cell_type": "code",
   "execution_count": 34,
   "metadata": {
    "deletable": false,
    "editable": false,
    "nbgrader": {
     "cell_type": "code",
     "checksum": "733b5b67be5e53989f5b763ce5e52ee9",
     "grade": true,
     "grade_id": "cell-3284f50ac29abbaa",
     "locked": true,
     "points": 3,
     "schema_version": 3,
     "solution": false,
     "task": false
    }
   },
   "outputs": [
    {
     "name": "stdout",
     "output_type": "stream",
     "text": [
      "TFIDF Results:\n",
      "Rank 0(9.4): Variable Length Tree Structures Having Minimum Ave...\n",
      "Rank 1(7.4): On the Feasibility of Voice Input to\\nan On-line C...\n",
      "Rank 2(7.3): Median Split Trees: A Fast Lookup Technique for Fr...\n",
      "Rank 3(7.0): Execution Time Requirements for Encipherment Progr...\n",
      "Rank 4(7.0): Storage and Search Properties of a Tree-Organized ...\n"
     ]
    }
   ],
   "source": [
    "\n",
    "test_tfidf_1 = tfidf_search(\"computer word search\", index_set=1)[:5]\n",
    "print(f\"TFIDF Results:\")\n",
    "print_results(test_tfidf_1)\n"
   ]
  },
  {
   "cell_type": "code",
   "execution_count": 35,
   "metadata": {
    "deletable": false,
    "editable": false,
    "nbgrader": {
     "cell_type": "code",
     "checksum": "e0edb37a5ae807a2de85d578c87ccb78",
     "grade": true,
     "grade_id": "cell-d908c80a3155354b",
     "locked": true,
     "points": 3,
     "schema_version": 3,
     "solution": false,
     "task": false
    }
   },
   "outputs": [
    {
     "name": "stdout",
     "output_type": "stream",
     "text": [
      "top-5 docs for index1 with BOW search: ('1771', '1936', '1543', '2535', '678')\n",
      "top-5 docs for index2 with BOW search: ('1525', '1936', '1844', '1700', '1366')\n",
      "top-5 docs for index1 with TF-IDF search: ('1936', '2054', '3041', '2620', '944')\n",
      "top-5 docs for index2 with TF-IDF search: ('1700', '1936', '1235', '2018', '849')\n"
     ]
    }
   ],
   "source": [
    "\n",
    "print('top-5 docs for index1 with BOW search:', list(zip(*test_bow_1[:5]))[0])\n",
    "print('top-5 docs for index2 with BOW search:', list(zip(*test_bow_2[:5]))[0])\n",
    "print('top-5 docs for index1 with TF-IDF search:', list(zip(*test_tfidf_1[:5]))[0])\n",
    "print('top-5 docs for index2 with TF-IDF search:', list(zip(*test_tfidf_2[:5]))[0])\n",
    "\n"
   ]
  },
  {
   "cell_type": "markdown",
   "metadata": {
    "deletable": false,
    "editable": false,
    "nbgrader": {
     "cell_type": "markdown",
     "checksum": "cdffc83f0eaea937cf64a212e7e9af8d",
     "grade": false,
     "grade_id": "cell-f5d923459ba21733",
     "locked": true,
     "schema_version": 3,
     "solution": false,
     "task": false
    }
   },
   "source": [
    "--- \n",
    "\n",
    "### Section 3.3: Query Likelihood Model (35 points) <a class=\"anchor\" id=\"qlm\"></a>\n",
    "\n",
    "In this section, you will implement a simple query likelihood model. \n",
    "\n",
    "\n",
    "#### 3.3.1 Naive QL (15 points)\n",
    "\n",
    "First, let us implement a naive version of a QL model, assuming a multinomial unigram language model (with a uniform prior over the documents). \n",
    "\n"
   ]
  },
  {
   "cell_type": "code",
   "execution_count": 36,
   "metadata": {
    "deletable": false,
    "editable": false,
    "nbgrader": {
     "cell_type": "code",
     "checksum": "b7ae2b7d818b428b4638c1c9206d2aca",
     "grade": false,
     "grade_id": "cell-98505778f7b68e7f",
     "locked": true,
     "schema_version": 3,
     "solution": false,
     "task": false
    }
   },
   "outputs": [],
   "source": [
    "#### Document length for normalization\n",
    "\n",
    "def doc_lengths(documents):\n",
    "    doc_lengths = {doc_id:len(doc) for (doc_id, doc) in documents}\n",
    "    return doc_lengths\n",
    "\n",
    "doc_lengths_1 = doc_lengths(doc_repr_1)\n",
    "doc_lengths_2 = doc_lengths(doc_repr_2)\n",
    "\n",
    "def get_doc_lengths(index_set):\n",
    "    assert index_set in {1, 2}\n",
    "    return {\n",
    "        1: doc_lengths_1,\n",
    "        2: doc_lengths_2\n",
    "    }[index_set]\n",
    "####"
   ]
  },
  {
   "cell_type": "code",
   "execution_count": 103,
   "metadata": {
    "deletable": false,
    "nbgrader": {
     "cell_type": "code",
     "checksum": "cedd08303a914243fefdb6b876977ca1",
     "grade": false,
     "grade_id": "cell-8bcf2b804d636c2e",
     "locked": false,
     "schema_version": 3,
     "solution": true,
     "task": false
    }
   },
   "outputs": [],
   "source": [
    "# TODO: Implement this! (15 points)\n",
    "def naive_ql_search(query, index_set):\n",
    "    \"\"\"\n",
    "        Perform a search over all documents with the given query using a naive QL model. \n",
    "        Note #1: You have to use the `get_index` (and get_doc_lengths) function created in the previous cells\n",
    "        Input: \n",
    "            query - a (unprocessed) query\n",
    "            index_set - the index to use\n",
    "        Output: a list of (document_id, score), sorted in descending relevance to the given query \n",
    "    \"\"\"\n",
    "    index = get_index(index_set)\n",
    "    doc_lengths = get_doc_lengths(index_set)\n",
    "    processed_query = preprocess_query(query, index_set)\n",
    "    \n",
    "    index = get_index(index_set)\n",
    "    doc_lengths = get_doc_lengths(index_set)\n",
    "    processed_query = preprocess_query(query, index_set)\n",
    "    # Basically, compute the formula score(query, doc) = prod(tf(query, doc)) / (doc_length(doc))\n",
    "    doc_ids = list(set(doc_lengths.keys()))\n",
    "\n",
    "    scores = {}\n",
    "    for token in processed_query:\n",
    "        for (doc_id, count) in index[token]:\n",
    "            if doc_id not in scores:\n",
    "                scores[doc_id] = float(count) / doc_lengths[doc_id]\n",
    "            else:\n",
    "                scores[doc_id] *= float(count) / doc_lengths[doc_id]\n",
    "        for doc_id in doc_ids:\n",
    "            if token not in index:\n",
    "                scores[doc_id] = 0.0\n",
    "    return sorted(scores.items(), key=lambda x: x[1], reverse=True)\n"
   ]
  },
  {
   "cell_type": "code",
   "execution_count": 38,
   "metadata": {
    "deletable": false,
    "editable": false,
    "nbgrader": {
     "cell_type": "code",
     "checksum": "b550d15bdad28354c336020a00c33d56",
     "grade": true,
     "grade_id": "cell-5a83ac12ecde8578",
     "locked": true,
     "points": 3,
     "schema_version": 3,
     "solution": false,
     "task": false
    }
   },
   "outputs": [
    {
     "name": "stdout",
     "output_type": "stream",
     "text": [
      "Naive QL Results:\n",
      "Rank 0(0.2): A CRT Report Generating System...\n",
      "Rank 1(0.2): A Report Writer For COBOL...\n",
      "Rank 2(0.17): Preliminary Report-International Algebraic Languag...\n",
      "Rank 3(0.17): Supplement to the ALGOL 60 Report...\n",
      "Rank 4(0.14): ALGOL Sub-Committee Report - Extensions...\n"
     ]
    }
   ],
   "source": [
    "#### Function check\n",
    "test_naiveql = naive_ql_search(\"report\", index_set=1)[:5]\n",
    "print(f\"Naive QL Results:\")\n",
    "print_results(test_naiveql)\n",
    "####"
   ]
  },
  {
   "cell_type": "code",
   "execution_count": 39,
   "metadata": {
    "deletable": false,
    "editable": false,
    "nbgrader": {
     "cell_type": "code",
     "checksum": "799df1d81c63fe90edbb6c218fc707fb",
     "grade": true,
     "grade_id": "cell-80f4bf2137f997bb",
     "locked": true,
     "points": 2,
     "schema_version": 3,
     "solution": false,
     "task": false
    }
   },
   "outputs": [],
   "source": [
    "#### Please do not change this. This cell is used for grading."
   ]
  },
  {
   "cell_type": "code",
   "execution_count": 40,
   "metadata": {
    "deletable": false,
    "editable": false,
    "nbgrader": {
     "cell_type": "code",
     "checksum": "875a4a517d27e20625d41783cebec118",
     "grade": true,
     "grade_id": "cell-5ce2993458a8ce51",
     "locked": true,
     "points": 3,
     "schema_version": 3,
     "solution": false,
     "task": false
    }
   },
   "outputs": [],
   "source": [
    "#### Please do not change this. This cell is used for grading."
   ]
  },
  {
   "cell_type": "code",
   "execution_count": 41,
   "metadata": {
    "deletable": false,
    "editable": false,
    "nbgrader": {
     "cell_type": "code",
     "checksum": "d5c4e1c3852e71a46f32825b122f1b71",
     "grade": true,
     "grade_id": "cell-7753bdb54e292f3d",
     "locked": true,
     "points": 3,
     "schema_version": 3,
     "solution": false,
     "task": false
    }
   },
   "outputs": [],
   "source": [
    "#### Please do not change this. This cell is used for grading."
   ]
  },
  {
   "cell_type": "code",
   "execution_count": 42,
   "metadata": {
    "deletable": false,
    "editable": false,
    "nbgrader": {
     "cell_type": "code",
     "checksum": "c4d4332d4356e89ce0240f6b80e1899a",
     "grade": true,
     "grade_id": "cell-54e476e2f96e64bb",
     "locked": true,
     "points": 4,
     "schema_version": 3,
     "solution": false,
     "task": false
    }
   },
   "outputs": [],
   "source": [
    "#### Please do not change this. This cell is used for grading."
   ]
  },
  {
   "cell_type": "markdown",
   "metadata": {
    "deletable": false,
    "editable": false,
    "nbgrader": {
     "cell_type": "markdown",
     "checksum": "8d739dc91a22bd48897f603885f95a74",
     "grade": false,
     "grade_id": "cell-5414dfd69dab8b94",
     "locked": true,
     "schema_version": 3,
     "solution": false,
     "task": false
    }
   },
   "source": [
    "---\n",
    "#### 3.3.2 QL (20 points)\n",
    "Now, let's implement a QL model that handles the issues with the naive version. In particular, you will implement a QL model with Jelinek-Mercer Smoothing. That means an interpolated score is computed per word - one term is the same as the previous naive version, and the second term comes from a unigram language model. In addition, you should accumulate the scores by summing the **log** (smoothed) probability which leads to better numerical stability."
   ]
  },
  {
   "cell_type": "code",
   "execution_count": 43,
   "metadata": {
    "deletable": false,
    "nbgrader": {
     "cell_type": "code",
     "checksum": "b8c6abf937ad333e628f1db891f2e29e",
     "grade": false,
     "grade_id": "cell-bb1f506409771257",
     "locked": false,
     "schema_version": 3,
     "solution": true,
     "task": false
    }
   },
   "outputs": [],
   "source": [
    "# TODO: Implement this! (20 points)\n",
    "def ql_search(query, index_set):\n",
    "    \"\"\"\n",
    "        Perform a search over all documents with the given query using a QL model \n",
    "        with Jelinek-Mercer Smoothing (set smoothing=0.1). \n",
    "        \n",
    "        \n",
    "        Note #1: You have to use the `get_index` (and get_doc_lengths) function created in the previous cells\n",
    "        Note #2: You might have to create some variables beforehand and use them in this function\n",
    "        \n",
    "        \n",
    "        Input: \n",
    "            query - a (unprocessed) query\n",
    "            index_set - the index to use\n",
    "        Output: a list of (document_id, score), sorted in descending relevance to the given query \n",
    "    \"\"\"\n",
    "    index = get_index(index_set)\n",
    "    doc_lengths = get_doc_lengths(index_set)\n",
    "    processed_query = preprocess_query(query, index_set)\n",
    "    \n",
    "    # YOUR CODE HERE\n",
    "    # Reference: Sec 7.3.2. from https://ciir.cs.umass.edu/downloads/SEIRiP.pdf\n",
    "    \n",
    "    # TODO: Add a UNK token for tokens not found in the corpus\n",
    "\n",
    "    from collections import defaultdict, OrderedDict\n",
    "    \n",
    "    # epsilon = np.finfo(np.float32).eps\n",
    "    epsilon = 0.0\n",
    "    smoothing = 0.1\n",
    "    \n",
    "    doc_ids = list(set(doc_lengths.keys()))\n",
    "    \n",
    "    # compute total number of word occurrences\n",
    "    total_word_occurrences = 0.0\n",
    "    for w in index:\n",
    "        total_word_occurrences += np.sum([x[1] for x in index[w]])\n",
    "    \n",
    "    # compute document score based on probabilities\n",
    "    # document_score = defaultdict(lambda: 1.0)\n",
    "    document_score = defaultdict(int)\n",
    "    for q in processed_query:\n",
    "        if q in index:\n",
    "            num_occurrences_of_q = np.sum([x[1] for x in index[q]])\n",
    "            # Note we need to loop over all the documents and not just the ones that have terms from the query\n",
    "            # for doc_id, count in index[q]:\n",
    "            \n",
    "            for doc_id in doc_ids:\n",
    "                count = 0\n",
    "                if doc_id in dict(index[q]):\n",
    "                    count = dict(index[q])[doc_id]\n",
    "                p_q_given_d = count / (doc_lengths[doc_id] + epsilon)\n",
    "                p_q_given_C = num_occurrences_of_q / total_word_occurrences\n",
    "                # document_score[doc_id] *= ((1 - smoothing) * p_q_given_d + smoothing * p_q_given_C)\n",
    "                document_score[doc_id] += np.log((1 - smoothing) * p_q_given_d + smoothing * p_q_given_C)\n",
    "\n",
    "    return sorted(document_score.items(), key=lambda x: x[1], reverse=True)"
   ]
  },
  {
   "cell_type": "code",
   "execution_count": 44,
   "metadata": {
    "deletable": false,
    "editable": false,
    "nbgrader": {
     "cell_type": "code",
     "checksum": "0b12a7f3355193a257fd9f5f69a66562",
     "grade": true,
     "grade_id": "cell-850e9d6369bcec32",
     "locked": true,
     "points": 4,
     "schema_version": 3,
     "solution": false,
     "task": false
    }
   },
   "outputs": [
    {
     "name": "stdout",
     "output_type": "stream",
     "text": [
      "Rank 0(-1.7): A CRT Report Generating System...\n",
      "Rank 1(-1.7): A Report Writer For COBOL...\n",
      "Rank 2(-1.9): Preliminary Report-International Algebraic Languag...\n",
      "Rank 3(-1.9): Supplement to the ALGOL 60 Report...\n",
      "Rank 4(-2.1): ALGOL Sub-Committee Report - Extensions...\n",
      "\n",
      "Rank 0(-1.7e+01): A CRT Report Generating System...\n",
      "Rank 1(-1.7e+01): A Report Writer For COBOL...\n",
      "Rank 2(-1.9e+01): Preliminary Report-International Algebraic Languag...\n",
      "Rank 3(-1.9e+01): Supplement to the ALGOL 60 Report...\n",
      "Rank 4(-2.1e+01): ALGOL Sub-Committee Report - Extensions...\n"
     ]
    }
   ],
   "source": [
    "#### Function check\n",
    "test_ql_results = ql_search(\"report\", index_set=1)[:5]\n",
    "print_results(test_ql_results)\n",
    "print()\n",
    "test_ql_results_long = ql_search(\"report \" * 10, index_set=1)[:5]\n",
    "print_results(test_ql_results_long)\n",
    "####"
   ]
  },
  {
   "cell_type": "code",
   "execution_count": 45,
   "metadata": {
    "deletable": false,
    "editable": false,
    "nbgrader": {
     "cell_type": "code",
     "checksum": "e40be645140389c115849856145f5b59",
     "grade": true,
     "grade_id": "cell-958cdcf6fd6899b7",
     "locked": true,
     "points": 3,
     "schema_version": 3,
     "solution": false,
     "task": false
    }
   },
   "outputs": [],
   "source": [
    "#### Please do not change this. This cell is used for grading."
   ]
  },
  {
   "cell_type": "code",
   "execution_count": 46,
   "metadata": {
    "deletable": false,
    "editable": false,
    "nbgrader": {
     "cell_type": "code",
     "checksum": "41d4aff001df17e7963ba79b45810b30",
     "grade": true,
     "grade_id": "cell-384dc23a0c251f6e",
     "locked": true,
     "points": 4,
     "schema_version": 3,
     "solution": false,
     "task": false
    }
   },
   "outputs": [],
   "source": [
    "#### Please do not change this. This cell is used for grading."
   ]
  },
  {
   "cell_type": "code",
   "execution_count": 47,
   "metadata": {
    "deletable": false,
    "editable": false,
    "nbgrader": {
     "cell_type": "code",
     "checksum": "893e8c5a073abc8ebb763d267b91bc02",
     "grade": true,
     "grade_id": "cell-7218966cba5097cc",
     "locked": true,
     "points": 4,
     "schema_version": 3,
     "solution": false,
     "task": false
    }
   },
   "outputs": [],
   "source": [
    "#### Please do not change this. This cell is used for grading."
   ]
  },
  {
   "cell_type": "code",
   "execution_count": 48,
   "metadata": {
    "deletable": false,
    "editable": false,
    "nbgrader": {
     "cell_type": "code",
     "checksum": "f99cb6f8b1f5830aaed8f06712ff846e",
     "grade": true,
     "grade_id": "cell-481ab073259ae53f",
     "locked": true,
     "points": 5,
     "schema_version": 3,
     "solution": false,
     "task": false
    }
   },
   "outputs": [],
   "source": [
    "#### Please do not change this. This cell is used for grading."
   ]
  },
  {
   "cell_type": "markdown",
   "metadata": {
    "deletable": false,
    "editable": false,
    "nbgrader": {
     "cell_type": "markdown",
     "checksum": "c02f14705d679579b1aa9f78f54779d5",
     "grade": false,
     "grade_id": "cell-f44088bfdac1dc90",
     "locked": true,
     "schema_version": 3,
     "solution": false,
     "task": false
    },
    "tags": []
   },
   "source": [
    "--- \n",
    "\n",
    "### Section 3.4: BM25 (20 points) <a class=\"anchor\" id=\"bm25\"></a>\n",
    "\n",
    "In this section, we will implement the BM25 scoring function. \n"
   ]
  },
  {
   "cell_type": "code",
   "execution_count": 49,
   "metadata": {
    "deletable": false,
    "nbgrader": {
     "cell_type": "code",
     "checksum": "e57efe06ea92af1c83784a42eb3d86e0",
     "grade": false,
     "grade_id": "cell-15640fc9b5d00a3c",
     "locked": false,
     "schema_version": 3,
     "solution": true,
     "task": false
    }
   },
   "outputs": [],
   "source": [
    "# TODO: Implement this! (20 points)\n",
    "def bm25_search(query, index_set):\n",
    "    \"\"\"\n",
    "        Perform a search over all documents with the given query using BM25. Use k_1 = 1.5 and b = 0.75\n",
    "        Note #1: You have to use the `get_index` (and `get_doc_lengths`) function created in the previous cells\n",
    "        Note #2: You might have to create some variables beforehand and use them in this function\n",
    "        \n",
    "        Input: \n",
    "            query - a (unprocessed) query\n",
    "            index_set - the index to use\n",
    "        Output: a list of (document_id, score), sorted in descending relevance to the given query \n",
    "    \"\"\"\n",
    "    \n",
    "    index = get_index(index_set)\n",
    "    df = get_df(index_set)\n",
    "    doc_lengths = get_doc_lengths(index_set)\n",
    "    processed_query = preprocess_query(query, index_set)\n",
    "    \n",
    "    # YOUR CODE HERE\n",
    "    # Reference: Sec 7.2.2. from https://ciir.cs.umass.edu/downloads/SEIRiP.pdf\n",
    "    \n",
    "    # define hyperparameters\n",
    "    k_1 = 1.50\n",
    "    b = 0.75\n",
    "    \n",
    "    # compute constants\n",
    "    N = len(doc_lengths)\n",
    "    avdl = np.mean(list(doc_lengths.values()))\n",
    "    epsilon = 0.5\n",
    "    \n",
    "    from collections import defaultdict, OrderedDict\n",
    "    \n",
    "    document_score = defaultdict(lambda: 0.)\n",
    "    for t in processed_query:\n",
    "        if t in index:\n",
    "            for doc_id, tf_td in index[t]:\n",
    "                dl = doc_lengths[doc_id]\n",
    "\n",
    "                # compute K\n",
    "                K = k_1 * ((1 - b) + b * (dl / avdl))\n",
    "\n",
    "                # compute the term\n",
    "                document_score[doc_id] += np.log(N / df[t]) * ((k_1 + 1) * tf_td) / (K + tf_td)\n",
    "    \n",
    "    return sorted(document_score.items(), key=lambda x: x[1], reverse=True)"
   ]
  },
  {
   "cell_type": "code",
   "execution_count": 50,
   "metadata": {
    "deletable": false,
    "editable": false,
    "nbgrader": {
     "cell_type": "code",
     "checksum": "4be9de5d4e94637960d83725422bea6c",
     "grade": true,
     "grade_id": "cell-d10536bca72c74b1",
     "locked": true,
     "points": 3,
     "schema_version": 3,
     "solution": false,
     "task": false
    }
   },
   "outputs": [
    {
     "name": "stdout",
     "output_type": "stream",
     "text": [
      "Rank 0(6.7): A Report Writer For COBOL...\n",
      "Rank 1(6.7): A CRT Report Generating System...\n",
      "Rank 2(6.6): Preliminary Report-International Algebraic Languag...\n",
      "Rank 3(6.6): Supplement to the ALGOL 60 Report...\n",
      "Rank 4(6.5): ALGOL Sub-Committee Report - Extensions...\n"
     ]
    }
   ],
   "source": [
    "#### Function check\n",
    "test_bm25_results = bm25_search(\"report\", index_set=1)[:5]\n",
    "print_results(test_bm25_results)\n",
    "####"
   ]
  },
  {
   "cell_type": "code",
   "execution_count": 51,
   "metadata": {
    "deletable": false,
    "editable": false,
    "nbgrader": {
     "cell_type": "code",
     "checksum": "31b550d6a46ae4f8ede88788799ac2b9",
     "grade": true,
     "grade_id": "cell-60f6ec5052712d79",
     "locked": true,
     "points": 5,
     "schema_version": 3,
     "solution": false,
     "task": false
    }
   },
   "outputs": [],
   "source": [
    "#### Please do not change this. This cell is used for grading."
   ]
  },
  {
   "cell_type": "code",
   "execution_count": 52,
   "metadata": {
    "deletable": false,
    "editable": false,
    "nbgrader": {
     "cell_type": "code",
     "checksum": "3da2ec16bfe781916e71755d65aa2983",
     "grade": true,
     "grade_id": "cell-5d17524043a5abcc",
     "locked": true,
     "points": 5,
     "schema_version": 3,
     "solution": false,
     "task": false
    }
   },
   "outputs": [],
   "source": [
    "#### Please do not change this. This cell is used for grading."
   ]
  },
  {
   "cell_type": "code",
   "execution_count": 53,
   "metadata": {
    "deletable": false,
    "editable": false,
    "nbgrader": {
     "cell_type": "code",
     "checksum": "e7b563d54fa84c20909c0ae107010541",
     "grade": true,
     "grade_id": "cell-ff8e704eda1184e3",
     "locked": true,
     "points": 3,
     "schema_version": 3,
     "solution": false,
     "task": false
    }
   },
   "outputs": [],
   "source": [
    "#### Please do not change this. This cell is used for grading."
   ]
  },
  {
   "cell_type": "code",
   "execution_count": 54,
   "metadata": {
    "deletable": false,
    "editable": false,
    "nbgrader": {
     "cell_type": "code",
     "checksum": "b013f90974b396630a8831d6f1d7e5f7",
     "grade": true,
     "grade_id": "cell-a52310500a2543cb",
     "locked": true,
     "points": 4,
     "schema_version": 3,
     "solution": false,
     "task": false
    }
   },
   "outputs": [],
   "source": [
    "#### Please do not change this. This cell is used for grading."
   ]
  },
  {
   "cell_type": "markdown",
   "metadata": {
    "deletable": false,
    "editable": false,
    "nbgrader": {
     "cell_type": "markdown",
     "checksum": "8fcf67cb7d5e8b26cb9bf1f0aa42c847",
     "grade": false,
     "grade_id": "cell-8b2b412c81d62f2d",
     "locked": true,
     "schema_version": 3,
     "solution": false,
     "task": false
    }
   },
   "source": [
    "\n",
    "---\n",
    "\n",
    "### 3.5. Test Your Functions\n",
    "\n",
    "The widget below allows you to play with the search functions you've written so far. Use this to test your search functions and ensure that they work as expected."
   ]
  },
  {
   "cell_type": "code",
   "execution_count": 55,
   "metadata": {
    "deletable": false,
    "editable": false,
    "nbgrader": {
     "cell_type": "code",
     "checksum": "dfeb204b390acc0794dbdcac92b0cf2c",
     "grade": false,
     "grade_id": "cell-c9c2bb76354e8d97",
     "locked": true,
     "schema_version": 3,
     "solution": false,
     "task": false
    }
   },
   "outputs": [],
   "source": [
    "#### Highlighter function\n",
    "# class for results\n",
    "ResultRow = namedtuple(\"ResultRow\", [\"doc_id\", \"snippet\", \"score\"])\n",
    "# doc_id -> doc\n",
    "docs_by_id = dict((d[0], d[1]) for d in docs)\n",
    "\n",
    "def highlight_text(document, query, tol=17):\n",
    "    import re\n",
    "    tokens = tokenize(query)\n",
    "    regex = \"|\".join(f\"(\\\\b{t}\\\\b)\" for t in tokens)\n",
    "    regex = re.compile(regex, flags=re.IGNORECASE)\n",
    "    output = \"\"\n",
    "    i = 0\n",
    "    for m in regex.finditer(document):\n",
    "        start_idx = max(0, m.start() - tol)\n",
    "        end_idx = min(len(document), m.end() + tol)\n",
    "        output += \"\".join([\"...\",\n",
    "                        document[start_idx:m.start()],\n",
    "                        \"<strong>\",\n",
    "                        document[m.start():m.end()],\n",
    "                        \"</strong>\",\n",
    "                        document[m.end():end_idx],\n",
    "                        \"...\"])\n",
    "    return output.replace(\"\\n\", \" \")\n",
    "\n",
    "\n",
    "def make_results(query, search_fn, index_set):\n",
    "    results = []\n",
    "    for doc_id, score in search_fn(query, index_set):\n",
    "        highlight = highlight_text(docs_by_id[doc_id], query)\n",
    "        if len(highlight.strip()) == 0:\n",
    "            highlight = docs_by_id[doc_id]\n",
    "        results.append(ResultRow(doc_id, highlight, score))\n",
    "    return results\n",
    "####"
   ]
  },
  {
   "cell_type": "code",
   "execution_count": 56,
   "metadata": {},
   "outputs": [
    {
     "data": {
      "application/vnd.jupyter.widget-view+json": {
       "model_id": "2ce01237cbf44157ba2e05ad9256ec3a",
       "version_major": 2,
       "version_minor": 0
      },
      "text/plain": [
       "Text(value='', description='Search Bar')"
      ]
     },
     "metadata": {},
     "output_type": "display_data"
    }
   ],
   "source": [
    "# TODO: Set this to the function you want to test!\n",
    "# this function should take in a query (string)\n",
    "# and return a sorted list of (doc_id, score) \n",
    "# with the most relevant document in the first position\n",
    "search_fn = bm25_search\n",
    "index_set = 1\n",
    "\n",
    "text = widgets.Text(description=\"Search Bar\", width=200)\n",
    "display(text)\n",
    "\n",
    "def handle_submit(sender):\n",
    "    print(f\"Searching for: '{sender.value}'\")\n",
    "    \n",
    "    results = make_results(sender.value, search_fn, index_set)\n",
    "    \n",
    "    # display only the top 5\n",
    "    results = results[:5]\n",
    "    \n",
    "    body = \"\"\n",
    "    for idx, r in enumerate(results):\n",
    "        body += f\"<li>Document #{r.doc_id}({r.score}): {r.snippet}</li>\"\n",
    "    display(HTML(f\"<ul>{body}</ul>\"))\n",
    "    \n",
    "\n",
    "text.on_submit(handle_submit)"
   ]
  },
  {
   "cell_type": "markdown",
   "metadata": {
    "deletable": false,
    "editable": false,
    "nbgrader": {
     "cell_type": "markdown",
     "checksum": "019b1ff878dc6339dd068e2d48d19904",
     "grade": false,
     "grade_id": "cell-8d46fe8e4f3d8cdb",
     "locked": true,
     "schema_version": 3,
     "solution": false,
     "task": false
    },
    "tags": []
   },
   "source": [
    "---\n",
    "\n",
    "## Section 4: Evaluation (40 points) <a class=\"anchor\" id=\"evaluation\"></a>\n",
    "\n",
    "[Back to Part 1](#part1)\n",
    "\n",
    "In order to analyze the effectiveness of retrieval algorithms, we first have to learn how to evaluate such a system. In particular, we will work with offline evaluation metrics. These metrics are computed on a dataset with known relevance judgements.\n",
    "\n",
    "Implement the following evaluation metrics. \n",
    "\n",
    "1. Precision (7 points)\n",
    "2. Recall (7 points)\n",
    "3. Mean Average Precision (13 points)\n",
    "4. Expected Reciprocal Rank (13 points)"
   ]
  },
  {
   "cell_type": "markdown",
   "metadata": {
    "deletable": false,
    "editable": false,
    "nbgrader": {
     "cell_type": "markdown",
     "checksum": "e46f54c7f81d88bbc950b0fae14c4ca5",
     "grade": false,
     "grade_id": "cell-3419fd3bc663d7cc",
     "locked": true,
     "schema_version": 3,
     "solution": false,
     "task": false
    }
   },
   "source": [
    "---\n",
    "### 4.1 Read relevance labels\n",
    "\n",
    "Let's take a look at the `qrels.text` file, which contains the ground truth relevance scores. The relevance labels for CACM are binary - either 0 or 1. \n"
   ]
  },
  {
   "cell_type": "code",
   "execution_count": 57,
   "metadata": {
    "deletable": false,
    "editable": false,
    "nbgrader": {
     "cell_type": "code",
     "checksum": "6c11025f5a222796f2882c73c1634799",
     "grade": false,
     "grade_id": "cell-6b738366059dde9e",
     "locked": true,
     "schema_version": 3,
     "solution": false,
     "task": false
    }
   },
   "outputs": [
    {
     "name": "stdout",
     "output_type": "stream",
     "text": [
      "01 1410  0 0\n",
      "01 1572  0 0\n",
      "01 1605  0 0\n",
      "01 2020  0 0\n",
      "01 2358  0 0\n",
      "02 2434  0 0\n",
      "02 2863  0 0\n",
      "02 3078  0 0\n",
      "03 1134  0 0\n",
      "03 1613  0 0\n"
     ]
    }
   ],
   "source": [
    "!head ./datasets/qrels.text"
   ]
  },
  {
   "cell_type": "markdown",
   "metadata": {
    "deletable": false,
    "editable": false,
    "nbgrader": {
     "cell_type": "markdown",
     "checksum": "7ce95245c1597183320d7254afde5c8e",
     "grade": false,
     "grade_id": "cell-10e16bff2753ffbb",
     "locked": true,
     "schema_version": 3,
     "solution": false,
     "task": false
    }
   },
   "source": [
    "---\n",
    "\n",
    "The first column is the query_id and the second column is the document_id. We can safely ignore the 3rd and 4th columns."
   ]
  },
  {
   "cell_type": "code",
   "execution_count": 58,
   "metadata": {
    "deletable": false,
    "nbgrader": {
     "cell_type": "code",
     "checksum": "000c6d59dce08dba0ba1e8d691dbbc2e",
     "grade": false,
     "grade_id": "cell-ee5253a4ef602fce",
     "locked": false,
     "schema_version": 3,
     "solution": true,
     "task": false
    }
   },
   "outputs": [],
   "source": [
    "def read_qrels(root_folder = \"./datasets/\"):\n",
    "    \"\"\"\n",
    "        Reads the qrels.text file. \n",
    "        Output: A dictionary: query_id -> [list of relevant documents]\n",
    "    \"\"\"\n",
    "    with open(os.path.join(root_folder, \"qrels.text\")) as reader:\n",
    "        lines = reader.readlines()\n",
    "    \n",
    "    from collections import defaultdict\n",
    "    relevant_docs = defaultdict(set)\n",
    "    for line in lines:\n",
    "        query_id, doc_id, _, _ = line.split()\n",
    "        relevant_docs[str(int(query_id))].add(doc_id)\n",
    "    return relevant_docs"
   ]
  },
  {
   "cell_type": "code",
   "execution_count": 59,
   "metadata": {
    "deletable": false,
    "editable": false,
    "nbgrader": {
     "cell_type": "code",
     "checksum": "d60caeba85c2a97d2211184a5ae91fd1",
     "grade": false,
     "grade_id": "cell-72215605fbe24f65",
     "locked": true,
     "schema_version": 3,
     "solution": false,
     "task": false
    }
   },
   "outputs": [],
   "source": [
    "#### Function check\n",
    "qrels = read_qrels()\n",
    "\n",
    "assert len(qrels) == 52, \"There should be 52 queries with relevance judgements\"\n",
    "assert sum(len(j) for j in qrels.values()) == 796, \"There should be a total of 796 Relevance Judgements\"\n",
    "\n",
    "assert np.min(np.array([len(j) for j in qrels.values()])) == 1\n",
    "assert np.max(np.array([len(j) for j in qrels.values()])) == 51\n",
    "\n",
    "####"
   ]
  },
  {
   "cell_type": "markdown",
   "metadata": {
    "deletable": false,
    "editable": false,
    "nbgrader": {
     "cell_type": "markdown",
     "checksum": "6c9e7428a52e291a2cdf92a379730d4c",
     "grade": false,
     "grade_id": "cell-176a6fb2939d0420",
     "locked": true,
     "schema_version": 3,
     "solution": false,
     "task": false
    }
   },
   "source": [
    "---\n",
    "**Note:** For a given query `query_id`, you can assume that documents *not* in `qrels[query_id]` are not relevant to `query_id`. \n"
   ]
  },
  {
   "cell_type": "markdown",
   "metadata": {
    "deletable": false,
    "editable": false,
    "nbgrader": {
     "cell_type": "markdown",
     "checksum": "b26a818c7b4f7ad490e00b35ea0edd69",
     "grade": false,
     "grade_id": "cell-bd8341b72cdd89bb",
     "locked": true,
     "schema_version": 3,
     "solution": false,
     "task": false
    }
   },
   "source": [
    "---\n",
    "### 4.2 Precision (7 points)\n",
    "Implement the `precision@k` metric:"
   ]
  },
  {
   "cell_type": "code",
   "execution_count": 60,
   "metadata": {
    "deletable": false,
    "nbgrader": {
     "cell_type": "code",
     "checksum": "43dea1979ebdec24ffcfeff71c670433",
     "grade": false,
     "grade_id": "cell-494bd0cce108ed67",
     "locked": false,
     "schema_version": 3,
     "solution": true,
     "task": false
    }
   },
   "outputs": [],
   "source": [
    "# TODO: Implement this! (7 points)\n",
    "def precision_k(results, relevant_docs, k):\n",
    "    \"\"\"\n",
    "        Compute Precision@K\n",
    "        Input: \n",
    "            results: A sorted list of 2-tuples (document_id, score), \n",
    "                    with the most relevant document in the first position\n",
    "            relevant_docs: A set of relevant documents. \n",
    "            k: the cut-off\n",
    "        Output: Precision@K\n",
    "    \"\"\"\n",
    "    if k > len(results):\n",
    "        k = len(results)\n",
    "    \n",
    "    # YOUR CODE HERE\n",
    "    \n",
    "    # get top-k predicted document IDs\n",
    "    k_results = np.array([results[x][0] for x in range(k)])\n",
    "    relevant_docs = np.array(list(relevant_docs))\n",
    "    \n",
    "    # compute number of relevant documents in k\n",
    "    num_rel_at_k = np.sum(np.isin(k_results, relevant_docs))\n",
    "    \n",
    "    # return precision@k\n",
    "    precision_at_k = num_rel_at_k / k\n",
    "    \n",
    "    return precision_at_k"
   ]
  },
  {
   "cell_type": "code",
   "execution_count": 61,
   "metadata": {
    "deletable": false,
    "editable": false,
    "nbgrader": {
     "cell_type": "code",
     "checksum": "9222e35582b1840ffb60fd02fb0b60c3",
     "grade": true,
     "grade_id": "cell-e7ff0d91c319ca64",
     "locked": true,
     "points": 7,
     "schema_version": 3,
     "solution": false,
     "task": false
    }
   },
   "outputs": [
    {
     "name": "stdout",
     "output_type": "stream",
     "text": [
      "query: What articles exist which deal with TSS (Time Sharing System), an\n",
      "operating system for IBM computers?\n",
      "precision@10 = 0.2\n"
     ]
    }
   ],
   "source": [
    "\n",
    "#### Function check\n",
    "qid = queries[0][0]\n",
    "qtext = queries[0][1]\n",
    "print(f'query:{qtext}')\n",
    "results = bm25_search(qtext, 2)\n",
    "precision = precision_k(results, qrels[qid], 10)\n",
    "print(f'precision@10 = {precision}')\n",
    "####"
   ]
  },
  {
   "cell_type": "markdown",
   "metadata": {
    "deletable": false,
    "editable": false,
    "nbgrader": {
     "cell_type": "markdown",
     "checksum": "8fd3b3998197c7097a40348500affb68",
     "grade": false,
     "grade_id": "cell-afd95f865bc7191e",
     "locked": true,
     "schema_version": 3,
     "solution": false,
     "task": false
    }
   },
   "source": [
    "---\n",
    "### 4.3 Recall (7 points)\n",
    "Implement the `recall@k` metric:"
   ]
  },
  {
   "cell_type": "code",
   "execution_count": 62,
   "metadata": {
    "deletable": false,
    "nbgrader": {
     "cell_type": "code",
     "checksum": "b2020e5741ae03b3fe35817ed8f4ccaa",
     "grade": false,
     "grade_id": "cell-c323fc8c3f8a7cf8",
     "locked": false,
     "schema_version": 3,
     "solution": true,
     "task": false
    }
   },
   "outputs": [],
   "source": [
    "# TODO: Implement this! (7 points)\n",
    "def recall_k(results, relevant_docs, k):\n",
    "    \"\"\"\n",
    "        Compute Recall@K\n",
    "        Input: \n",
    "            results: A sorted list of 2-tuples (document_id, score), with the most relevant document in the first position\n",
    "            relevant_docs: A set of relevant documents. \n",
    "            k: the cut-off\n",
    "        Output: Recall@K\n",
    "    \"\"\"\n",
    "    # YOUR CODE HERE\n",
    "    # import ipdb; ipdb.set_trace()\n",
    "    \n",
    "    # set boundary condition on k\n",
    "    k = min(k, len(results))\n",
    "\n",
    "    # get top-k predicted document IDs\n",
    "    k_results = np.array([results[x][0] for x in range(k)])\n",
    "    relevant_docs = np.array(list(relevant_docs))\n",
    "    \n",
    "    # compute number of relevant documents in k\n",
    "    num_rel_at_k = np.sum(np.isin(k_results, relevant_docs))\n",
    "    \n",
    "    # return recall@k\n",
    "    recall_at_k = num_rel_at_k / len(relevant_docs)\n",
    "    \n",
    "    return recall_at_k"
   ]
  },
  {
   "cell_type": "code",
   "execution_count": 63,
   "metadata": {
    "deletable": false,
    "editable": false,
    "nbgrader": {
     "cell_type": "code",
     "checksum": "56b6e0b8522f8b2dffbfb3206b2efa84",
     "grade": true,
     "grade_id": "cell-b25172161aef165c",
     "locked": true,
     "points": 7,
     "schema_version": 3,
     "solution": false,
     "task": false
    }
   },
   "outputs": [
    {
     "name": "stdout",
     "output_type": "stream",
     "text": [
      "query: SETL, Very High Level Languages\n",
      "recall@10 = 0.3157894736842105\n"
     ]
    }
   ],
   "source": [
    "#### Function check\n",
    "qid = queries[10][0]\n",
    "qtext = queries[10][1]\n",
    "print(f'query:{qtext}')\n",
    "results = bm25_search(qtext, 2)\n",
    "recall = recall_k(results, qrels[qid], 10)\n",
    "print(f'recall@10 = {recall}')\n",
    "####"
   ]
  },
  {
   "cell_type": "markdown",
   "metadata": {
    "deletable": false,
    "editable": false,
    "nbgrader": {
     "cell_type": "markdown",
     "checksum": "b3d3c7bd1cd977cd07ef5df7d3fbf159",
     "grade": false,
     "grade_id": "cell-77fd2e7a39a74739",
     "locked": true,
     "schema_version": 3,
     "solution": false,
     "task": false
    }
   },
   "source": [
    "---\n",
    "### 4.4 Mean Average Precision (13 points)\n",
    "Implement the `map` metric:"
   ]
  },
  {
   "cell_type": "code",
   "execution_count": 64,
   "metadata": {
    "deletable": false,
    "nbgrader": {
     "cell_type": "code",
     "checksum": "aae2c62f2ffd76f5b6c004e9519b9f14",
     "grade": false,
     "grade_id": "cell-e50925fa9093a30d",
     "locked": false,
     "schema_version": 3,
     "solution": true,
     "task": false
    }
   },
   "outputs": [],
   "source": [
    "# TODO: Implement this! (12 points)\n",
    "def average_precision(results, relevant_docs):\n",
    "    \"\"\"\n",
    "        Compute Average Precision (for a single query - the results are \n",
    "        averaged across queries to get MAP in the next few cells)\n",
    "        Hint: You can use the recall_k and precision_k functions here!\n",
    "        Input: \n",
    "            results: A sorted list of 2-tuples (document_id, score), with the most \n",
    "                    relevant document in the first position\n",
    "            relevant_docs: A set of relevant documents. \n",
    "        Output: Average Precision\n",
    "    \"\"\"\n",
    "    # YOUR CODE HERE\n",
    "    \n",
    "    # find k's with a relevant results\n",
    "    ks = [k+1 for k in range(len(results)) if results[k][0] in relevant_docs]\n",
    "    \n",
    "    AP = 0.0\n",
    "    for k in ks:\n",
    "        precision_at_k = precision_k(results, relevant_docs, k)\n",
    "        AP += precision_at_k\n",
    "    AP /= len(relevant_docs)\n",
    "    \n",
    "    return AP"
   ]
  },
  {
   "cell_type": "code",
   "execution_count": 65,
   "metadata": {
    "deletable": false,
    "editable": false,
    "nbgrader": {
     "cell_type": "code",
     "checksum": "3b00e147c2fa146fa59f179b7c9cab75",
     "grade": true,
     "grade_id": "cell-8a1f7ec98571e58b",
     "locked": true,
     "points": 13,
     "schema_version": 3,
     "solution": false,
     "task": false
    }
   },
   "outputs": [
    {
     "name": "stdout",
     "output_type": "stream",
     "text": [
      "query: computational complexity, intractability, class-complete reductions,\n",
      "algorithms and efficiency\n",
      "MAP = 0.17240404110559454\n"
     ]
    }
   ],
   "source": [
    "#### Function check\n",
    "qid = queries[20][0]\n",
    "qtext = queries[20][1]\n",
    "print(f'query:{qtext}')\n",
    "results = bm25_search(qtext, 2)\n",
    "mean_ap = average_precision(results, qrels[qid])\n",
    "print(f'MAP = {mean_ap}')\n",
    "####"
   ]
  },
  {
   "cell_type": "markdown",
   "metadata": {
    "deletable": false,
    "editable": false,
    "nbgrader": {
     "cell_type": "markdown",
     "checksum": "36f85f45ef52d9467ba9a717d6d99ff2",
     "grade": false,
     "grade_id": "cell-1da18f0fe6f6d7be",
     "locked": true,
     "schema_version": 3,
     "solution": false,
     "task": false
    }
   },
   "source": [
    "---\n",
    "### 4.5 Expected Reciprocal Rank (13 points)\n",
    "Implement the `err` metric:"
   ]
  },
  {
   "cell_type": "markdown",
   "metadata": {},
   "source": [
    "Mapping of relevance grade to relevance probability:\n",
    "\n",
    "$$\n",
    "\\mathcal{R}(g) = \\frac{2^{g} - 1}{2^{g_{\\text{max}}}}, g \\in \\{0, 1, .., g_{\\text{max}}\\}\n",
    "$$\n",
    "\n",
    "Definition of ERR:\n",
    "\n",
    "$$\n",
    "ERR = \\sum_{r = 1}^{n}\\frac{1}{r}\\prod_{i=1}^{r-1}(1 - R_{i})R_{r}\n",
    "$$"
   ]
  },
  {
   "cell_type": "code",
   "execution_count": 66,
   "metadata": {
    "deletable": false,
    "nbgrader": {
     "cell_type": "code",
     "checksum": "9ac94db728e23ea1f5dc0d509473c6fb",
     "grade": false,
     "grade_id": "cell-64262889f9b267ea",
     "locked": false,
     "schema_version": 3,
     "solution": true,
     "task": false
    }
   },
   "outputs": [],
   "source": [
    "# TODO: Implement this! (12 points)\n",
    "def err(results, relevant_docs):\n",
    "    \"\"\"\n",
    "        Compute the expected reciprocal rank.\n",
    "        Hint: https://dl.acm.org/doi/pdf/10.1145/1645953.1646033?download=true\n",
    "        Input: \n",
    "            results: A sorted list of 2-tuples (document_id, score), with the most \n",
    "                    relevant document in the first position\n",
    "            relevant_docs: A set of relevant documents. \n",
    "        Output: ERR\n",
    "        \n",
    "    \"\"\"\n",
    "    # YOUR CODE HERE\n",
    "    \n",
    "    \"\"\"\n",
    "    Explanation: Based on Sec 4 of https://dl.acm.org/doi/pdf/10.1145/1645953.1646033\n",
    "    \n",
    "    Notation:\n",
    "        - n: number of documents in the ranking\n",
    "        - R_{i}: \\mathcal{R}(g_{i}), mapping of relevance grade $g_{i}$ to probability of relevance \\\n",
    "                 in this case, it is simply based on DCG\n",
    "                 $$\n",
    "                 \\mathcal{R}(g) = \\frac{2^{g} - 1}{2^{g_{\\text{max}}}}, g \\in \\{0, 1, .., g_{\\text{max}}\\}\n",
    "                 $$\n",
    "    Formula:\n",
    "        $$\n",
    "        ERR = \\sum_{r = 1}^{n}\\frac{1}{r}\\prod_{i=1}^{r-1}(1 - R_{i})R_{r}\n",
    "        $$\n",
    "    \"\"\"\n",
    "    n = len(results)\n",
    "    grade_to_prob = lambda x: (2 ** x - 1) / (2 ** 1)\n",
    "    \n",
    "    err_score = 0.0\n",
    "    p = 1.0\n",
    "    for r in range(1, n + 1):\n",
    "        doc_id, score = results[r - 1]\n",
    "        \n",
    "        R = grade_to_prob(int(doc_id in relevant_docs))\n",
    "        err_score += (p * R / r)\n",
    "        p *= (1 - R)\n",
    "    \n",
    "    return err_score"
   ]
  },
  {
   "cell_type": "code",
   "execution_count": 67,
   "metadata": {
    "deletable": false,
    "editable": false,
    "nbgrader": {
     "cell_type": "code",
     "checksum": "b7d201de0990b69d5f38704668665d87",
     "grade": true,
     "grade_id": "cell-071e3970ff1afae4",
     "locked": true,
     "points": 13,
     "schema_version": 3,
     "solution": false,
     "task": false
    }
   },
   "outputs": [
    {
     "name": "stdout",
     "output_type": "stream",
     "text": [
      "query: I'd like to find articles describing the use of singular value decomposition\n",
      "in digital image processing.  Applications include finding approximations\n",
      "to the original image and restoring images that are subject to noise. An\n",
      "article on the subject is H.C. Andrews and C.L. Patterson \"Outer product\n",
      "expansions and their uses in digital image processing\", American Mathematical\n",
      "Monthly, vol. 82.\n",
      "ERR = 0.625\n"
     ]
    }
   ],
   "source": [
    "#### Function check\n",
    "qid = queries[30][0]\n",
    "qtext = queries[30][1]\n",
    "print(f'query:{qtext}')\n",
    "results = bm25_search(qtext, 2)\n",
    "ERR = err(results, qrels[qid])\n",
    "print(f'ERR = {ERR}')\n",
    "####"
   ]
  },
  {
   "cell_type": "markdown",
   "metadata": {
    "deletable": false,
    "editable": false,
    "nbgrader": {
     "cell_type": "markdown",
     "checksum": "5bd94caf77cfa5f34675df758d91002d",
     "grade": false,
     "grade_id": "cell-43709a765f353946",
     "locked": true,
     "schema_version": 3,
     "solution": false,
     "task": false
    }
   },
   "source": [
    "---\n",
    "### 4.6 Evaluate Search Functions\n",
    "\n",
    "Let's define some metrics@k using [partial functions](https://docs.python.org/3/library/functools.html#functools.partial)"
   ]
  },
  {
   "cell_type": "code",
   "execution_count": 68,
   "metadata": {
    "deletable": false,
    "editable": false,
    "nbgrader": {
     "cell_type": "code",
     "checksum": "49ccc158e5fb7340ace55e90eeb9d62a",
     "grade": false,
     "grade_id": "cell-dab560e18e340da8",
     "locked": true,
     "schema_version": 3,
     "solution": false,
     "task": false
    }
   },
   "outputs": [],
   "source": [
    "#### metrics@k functions\n",
    "\n",
    "recall_at_1 = partial(recall_k, k=1)\n",
    "recall_at_5 = partial(recall_k, k=5)\n",
    "recall_at_10 = partial(recall_k, k=10)\n",
    "precision_at_1 = partial(precision_k, k=1)\n",
    "precision_at_5 = partial(precision_k, k=5)\n",
    "precision_at_10 = partial(precision_k, k=10)\n",
    "\n",
    "\n",
    "list_of_metrics = [\n",
    "    (\"ERR\", err),\n",
    "    (\"MAP\", average_precision),\n",
    "    (\"Recall@1\",recall_at_1),\n",
    "    (\"Recall@5\", recall_at_5),\n",
    "    (\"Recall@10\", recall_at_10),\n",
    "    (\"Precision@1\", precision_at_1),\n",
    "    (\"Precision@5\", precision_at_5),\n",
    "    (\"Precision@10\", precision_at_10)]\n",
    "####"
   ]
  },
  {
   "cell_type": "markdown",
   "metadata": {
    "deletable": false,
    "editable": false,
    "nbgrader": {
     "cell_type": "markdown",
     "checksum": "fb541002c03221b453b8936290020ea5",
     "grade": false,
     "grade_id": "cell-580a2bdc66d03b47",
     "locked": true,
     "schema_version": 3,
     "solution": false,
     "task": false
    }
   },
   "source": [
    "---\n",
    "\n",
    "The following function evaluates a `search_fn` using the `metric_fn`. Note that the final number is averaged over all the queries"
   ]
  },
  {
   "cell_type": "code",
   "execution_count": 69,
   "metadata": {},
   "outputs": [],
   "source": [
    "#### Evaluate a search function\n",
    "\n",
    "list_of_search_fns = [\n",
    "    (\"BOW\", bow_search),\n",
    "    (\"TF-IDF\", tfidf_search),\n",
    "    (\"NaiveQL\", naive_ql_search),\n",
    "    (\"QL\", ql_search),\n",
    "    (\"BM25\", bm25_search)\n",
    "]\n",
    "\n",
    "def evaluate_search_fn(search_fn, metric_fns, index_set=None):\n",
    "    # build a dict query_id -> query \n",
    "    queries_by_id = dict((q[0], q[1]) for q in queries)\n",
    "    \n",
    "    metrics = {}\n",
    "    for metric, metric_fn in metric_fns:\n",
    "        metrics[metric] = np.zeros(len(qrels), dtype=np.float32)\n",
    "    \n",
    "    for i, (query_id, relevant_docs) in enumerate(qrels.items()):\n",
    "        query = queries_by_id[query_id]\n",
    "        if index_set:\n",
    "            results = search_fn(query, index_set)\n",
    "        else:\n",
    "            results = search_fn(query)\n",
    "        \n",
    "        for metric, metric_fn in metric_fns:\n",
    "            metrics[metric][i] = metric_fn(results, relevant_docs)\n",
    "    \n",
    "    final_dict = {}\n",
    "    for metric, metric_vals in metrics.items():\n",
    "        final_dict[metric] = metric_vals.mean()\n",
    "    \n",
    "    return final_dict\n",
    "####"
   ]
  },
  {
   "cell_type": "markdown",
   "metadata": {
    "deletable": false,
    "editable": false,
    "nbgrader": {
     "cell_type": "markdown",
     "checksum": "6ea67534f74a8f81e1f504794f641709",
     "grade": false,
     "grade_id": "cell-b156d83a0649cbb4",
     "locked": true,
     "schema_version": 3,
     "solution": false,
     "task": false
    }
   },
   "source": [
    "## Section 5: Analysis (30 points) <a class=\"anchor\" id=\"analysis\"></a>\n",
    "\n",
    "[Back to Part 1](#part1)\n",
    "\n",
    "In the final section of Part1, we will compare the different term-based IR algorithms and different preprocessing configurations and analyze their advantages and disadvantages.\n",
    "\n",
    "### Section 5.1: Plot (20 points)\n",
    "\n",
    "First, gather the results. The results should consider the index set, the different search functions and different metrics. Plot the results in bar charts, per metric, with clear labels.\n",
    "\n",
    "**Rubric:**\n",
    "- Each Metric is plotted: 7 points\n",
    "- Each Method is plotted: 7 points\n",
    "- Clear titles, x label, y labels and legends (if applicable): 6 points"
   ]
  },
  {
   "cell_type": "code",
   "execution_count": 70,
   "metadata": {
    "deletable": false,
    "nbgrader": {
     "cell_type": "code",
     "checksum": "7e2588a925d13ddf588abe8311dc9cfc",
     "grade": true,
     "grade_id": "cell-46fda42a25863a04",
     "locked": false,
     "points": 20,
     "schema_version": 3,
     "solution": true,
     "task": false
    }
   },
   "outputs": [
    {
     "data": {
      "image/png": "[encoded data removed]",
      "text/plain": [
       "<Figure size 1152x648 with 8 Axes>"
      ]
     },
     "metadata": {
      "needs_background": "light"
     },
     "output_type": "display_data"
    }
   ],
   "source": [
    "# YOUR CODE HERE\n",
    "\n",
    "def plot_results(results, title=\"IR Evaluation with index set = 1\"):\n",
    "    nrows, ncols = 2, len(list_of_metrics) // 2\n",
    "    fig, axes = plt.subplots(nrows, ncols, figsize=(4 * len(list_of_metrics) // 2, 4 * 2), constrained_layout=True)\n",
    "\n",
    "    for i in range(nrows):\n",
    "        for j in range(ncols):\n",
    "            idx = i * nrows + j\n",
    "            ax = axes[i][j]\n",
    "\n",
    "            metric = list_of_metrics[idx][0]\n",
    "            ax.set_title(metric, fontsize=14)\n",
    "            ax.grid(axis=\"y\")\n",
    "\n",
    "            methods_names = list(results.keys())\n",
    "            methods_values = [results[method][metric] for method in results]\n",
    "            ax.bar(x=methods_names, height=methods_values, color=[\"blue\", \"red\", \"pink\", \"lightgreen\", \"gold\"])\n",
    "\n",
    "    plt.suptitle(title, fontsize=16, y=1.05)\n",
    "    plt.show()\n",
    "\n",
    "# results for index_set=1\n",
    "results_1 = dict()\n",
    "for method_name, method_fn in list_of_search_fns:\n",
    "    results_1[method_name] = evaluate_search_fn(method_fn, list_of_metrics, index_set=1)\n",
    "# plot_results(results_1, title=\"IR Evaluation with index set = 1\")\n",
    "\n",
    "# results for index_set=2\n",
    "results_2 = dict()\n",
    "for method_name, method_fn in list_of_search_fns:\n",
    "    results_2[method_name] = evaluate_search_fn(method_fn, list_of_metrics, index_set=2)\n",
    "# plot_results(results_2, title=\"IR Evaluation with index set = 2\")\n",
    "\n",
    "\n",
    "import json\n",
    "\n",
    "def write_json(data, path):\n",
    "    assert isinstance(data, dict)\n",
    "    \n",
    "    def make_string(dict_):\n",
    "        return {k: str(v) for k, v in dict_.items()}\n",
    "\n",
    "    data = {k: make_string(v) for k, v in data.items()}\n",
    "\n",
    "    with open(path, \"w\", encoding='utf-8') as f:\n",
    "        json.dump(data, f)\n",
    "\n",
    "import os\n",
    "os.makedirs(\"./results/\", exist_ok=True)\n",
    "write_json(results_1, \"./results/term_based_retrieval_results_index_1.json\")\n",
    "write_json(results_2, \"./results/term_based_retrieval_results_index_2.json\")\n",
    "\n",
    "nrows, ncols = 2, len(list_of_metrics) // 2\n",
    "fig, axes = plt.subplots(nrows, ncols, figsize=(4 * len(list_of_metrics) // 2, 4 * 2 + 1), constrained_layout=True)\n",
    "\n",
    "for i in range(nrows):\n",
    "    for j in range(ncols):\n",
    "        idx = i * ncols + j\n",
    "        ax = axes[i][j]\n",
    "        \n",
    "        metric = list_of_metrics[idx][0]\n",
    "        ax.set_title(metric, fontsize=15)\n",
    "        ax.set_ylim((0, 0.6))\n",
    "        ax.grid(axis=\"y\")\n",
    "\n",
    "        methods_names = list(results_1.keys())\n",
    "        x = np.arange(len(methods_names))\n",
    "        width = 0.3\n",
    "\n",
    "        methods_values_1 = [results_1[method][metric] for method in results_1]\n",
    "        methods_values_2 = [results_2[method][metric] for method in results_2]\n",
    "\n",
    "        ax.bar(x=x, height=methods_values_1, width=width, label=\"Index set: 1\")\n",
    "        ax.bar(x=x + width, height=methods_values_2, width=width, label=\"Index set: 2\")\n",
    "\n",
    "        ax.set_xticks(x + width / 2)\n",
    "        ax.set_xticklabels(methods_names, fontsize=13)\n",
    "        \n",
    "        ax.legend(fontsize=13)\n",
    "\n",
    "plt.suptitle(\n",
    "    \"Evaluation of various retrieval methods on different metrics with different ways of text processing\",\n",
    "    fontsize=16,\n",
    "    y=1.05,\n",
    ")\n",
    "plt.savefig(\"./results/term_based_retrieval_v1.pdf\", bbox_inches=\"tight\")\n",
    "plt.show()\n",
    "\n"
   ]
  },
  {
   "cell_type": "markdown",
   "metadata": {
    "deletable": false,
    "editable": false,
    "nbgrader": {
     "cell_type": "markdown",
     "checksum": "e88c444a0acf4e398c65e289169b75f7",
     "grade": false,
     "grade_id": "cell-8aabe3bcf265deb0",
     "locked": true,
     "points": 10,
     "schema_version": 3,
     "solution": false,
     "task": true
    }
   },
   "source": [
    "---\n",
    "### Section 5.2: Summary (10 points)\n",
    "Write a summary of what you observe in the results.\n",
    "Your summary should compare results across the 2 indices and the methods being used. State what you expected to see in the results, followed by either supporting evidence *or* justify why the results did not support your expectations.      "
   ]
  },
  {
   "cell_type": "markdown",
   "metadata": {},
   "source": [
    "By comparing the two indices, we observe that using index set 2 vastly improves performance for all retrieval algorithms and across all metrics. This indicates that stemming and stopword removal are two very beneficial text-preprocessing steps.\n",
    "\n",
    "By comparing the five algorithms, we observe that BM25 outperforms all methods, followed by the TF-IDF and QL methods. The two methods are almost on par, with TF-IDF having slightly better performance in Recall@$k$ and Precision@$k$ for $k = 1$ and QL having a slightly better performance for $k \\geq 5$. This possibly suggests that TF-IDF is superior in finding the most relevant document and QL is better at finding a larger set of relevant documents. Finally, BOW and Naive QL both achieve very low performance compared to all the aforementioned algorithms. Regarding BOW, a possible explanation would be its ignorance of how common a word is among documents, while for QL it would be its negligence of any document missing a word from the query."
   ]
  },
  {
   "cell_type": "markdown",
   "metadata": {
    "deletable": false,
    "editable": false,
    "nbgrader": {
     "cell_type": "markdown",
     "checksum": "b3eb77be74eecca205fc7b47316d1627",
     "grade": false,
     "grade_id": "cell-bb60dd5c092d0f2e",
     "locked": true,
     "schema_version": 3,
     "solution": false,
     "task": false
    }
   },
   "source": [
    "---\n",
    "---\n",
    "# Part 2: Semantic-based Matching (85 points) <a class=\"anchor\" id=\"part2\"></a>\n",
    "\n",
    "[Back to top](#top)\n",
    "\n",
    "We will now experiment with methods that go beyond lexical methods like TF-IDF, which operate at the word level and are high dimensional and sparse, and look at methods which constructs low dimensional dense representations of queries and documents. \n",
    "\n",
    "Since these low-dimensional methods have a higher time complexity, they are typically used in conjunction with methods like BM-25. That is, instead of searching through potentially million documents to find matches using low dimensional vectors, a list of K documents are retrieved using BM25, and then **re-ranked** using the other method. This is the method that is going to be applied in the following exercises. \n",
    "\n",
    "LSI/LDA takes documents that are similar on a semantic level - for instance, if they are describing the same topic - and projects them into nearby vectors, despite having low lexical overlap.\n",
    "\n",
    "In this assignment, you will use `gensim` to create LSI/LDA models and use them in re-ranking. \n",
    "\n",
    "**Note**: The following exercises only uses `doc_repr_2` and `config_2`\n",
    "\n",
    "Table of contents:\n",
    "- [Section 6: LSI](#lsi) (15 points)\n",
    "- [Section 7: LDA](#lda) (10 points)\n",
    "- [Section 8: Word2Vec/Doc2Vec](#2vec) (20 points)\n",
    "- [Section 8: Re-ranking](#reranking) (10 points)\n",
    "- [Section 9: Re-ranking Evaluation](#reranking_eval) (30 points)"
   ]
  },
  {
   "cell_type": "markdown",
   "metadata": {
    "deletable": false,
    "editable": false,
    "nbgrader": {
     "cell_type": "markdown",
     "checksum": "f7c7b2cab82f576ed0acf836ca57171c",
     "grade": false,
     "grade_id": "cell-6b2c81e7a8abd180",
     "locked": true,
     "schema_version": 3,
     "solution": false,
     "task": false
    }
   },
   "source": [
    "---\n",
    "## Section 6: Latent Semantic Indexing (LSI) (15 points) <a class=\"anchor\" id=\"lsi\"></a>\n",
    "\n",
    "[Back to Part 2](#part2)\n",
    "\n",
    "LSI is one of the methods to embed the queries and documents into vectors. It is based on a method similar to Principal Component Analysis (PCA) for obtaining a dense concept matrix out of the sparse term-document matrix.\n",
    "\n",
    "See [wikipedia](https://en.wikipedia.org/wiki/Latent_semantic_analysis), particularly [#Mathematics_of_LSI](https://en.wikipedia.org/wiki/Latent_semantic_analysis#Mathematics_of_LSI)."
   ]
  },
  {
   "cell_type": "code",
   "execution_count": 71,
   "metadata": {
    "deletable": false,
    "editable": false,
    "nbgrader": {
     "cell_type": "code",
     "checksum": "c17ee75319cb517e2bf48ec3d9efc329",
     "grade": false,
     "grade_id": "cell-59913daee47f680d",
     "locked": true,
     "schema_version": 3,
     "solution": false,
     "task": false
    }
   },
   "outputs": [],
   "source": [
    "from gensim.corpora import Dictionary\n",
    "from gensim.models import LdaModel, LsiModel, Word2Vec\n",
    "from gensim.models.doc2vec import Doc2Vec, TaggedDocument\n",
    "from gensim import downloader as g_downloader\n",
    "# gensim uses logging, so set it up \n",
    "import logging\n",
    "logging.basicConfig(format='%(asctime)s : %(levelname)s : %(message)s', level=logging.INFO)"
   ]
  },
  {
   "cell_type": "markdown",
   "metadata": {
    "deletable": false,
    "editable": false,
    "nbgrader": {
     "cell_type": "markdown",
     "checksum": "5fce140c546759b54a9fc060901ae77c",
     "grade": false,
     "grade_id": "cell-3644faff4976598a",
     "locked": true,
     "schema_version": 3,
     "solution": false,
     "task": false
    }
   },
   "source": [
    "---\n",
    "### Section 6.1: Cosine Similarity (5 points)<a class=\"anchor\" id=\"cosing_sim\"></a>\n",
    "Before we begin, let us first define our method of similarity for the LSI model, the cosine similarity:\n",
    "\n",
    "$$\\text{similarity} = \\cos(\\theta) = {\\mathbf{A} \\cdot \\mathbf{B} \\over \\|\\mathbf{A}\\| \\|\\mathbf{B}\\|} = \\frac{ \\sum\\limits_{i=1}^{n}{A_i  B_i} }{ \\sqrt{\\sum\\limits_{i=1}^{n}{A_i^2}}  \\sqrt{\\sum\\limits_{i=1}^{n}{B_i^2}} }$$\n",
    "\n",
    "Since we are using gensim, the types of vectors returned by their classes are of the form defined below (they are not just simple vectors):"
   ]
  },
  {
   "cell_type": "code",
   "execution_count": 72,
   "metadata": {
    "deletable": false,
    "editable": false,
    "nbgrader": {
     "cell_type": "code",
     "checksum": "4e340e1a1d546f430c018fd0760e707a",
     "grade": false,
     "grade_id": "cell-3995a50f951314d5",
     "locked": true,
     "schema_version": 3,
     "solution": false,
     "task": false
    }
   },
   "outputs": [],
   "source": [
    "# 1, 2, 3 are either latent dimensions (LSI), or topics (LDA)\n",
    "# The second value in each tuple is a number (LSI) or a probability (LDA)  \n",
    "example_vec_1 = [(1, 0.2), (2, 0.3), (3, 0.4)]\n",
    "example_vec_2 = [(1, 0.2), (2, 0.7), (3, 0.4)]"
   ]
  },
  {
   "cell_type": "markdown",
   "metadata": {
    "deletable": false,
    "editable": false,
    "nbgrader": {
     "cell_type": "markdown",
     "checksum": "20832fd4f579f49ae204b0efee02edd1",
     "grade": false,
     "grade_id": "cell-5e54d581858dc8f7",
     "locked": true,
     "schema_version": 3,
     "solution": false,
     "task": false
    }
   },
   "source": [
    "---\n",
    "**Implementation (2+3 points):**\n",
    "Now, implement the `dot product` operation on these types of vectors and using this operator, implement the `cosine similarity` (don't forget: two functions to implement!):"
   ]
  },
  {
   "cell_type": "code",
   "execution_count": 73,
   "metadata": {
    "deletable": false,
    "nbgrader": {
     "cell_type": "code",
     "checksum": "06a712ee75fc213a21c5f0067fd8fe28",
     "grade": false,
     "grade_id": "cell-0e8189f5f93de33f",
     "locked": false,
     "schema_version": 3,
     "solution": true,
     "task": false
    }
   },
   "outputs": [],
   "source": [
    "# TODO: Implement this! (2 points)\n",
    "def dot(vec_1,vec_2): \n",
    "    \"\"\"\n",
    "        vec_1 and vec_2 are of the form: [(int, float), (int, float), ...]\n",
    "        Return the dot product of two such vectors, computed only on the floats\n",
    "        You can assume that the lengths of the vectors are the same, and the dimensions are aligned \n",
    "            i.e you won't get: vec_1 = [(1, 0.2)] ; vec_2 = [(2, 0.3)] \n",
    "                                (dimensions are unaligned and lengths are different)\n",
    "    \"\"\"\n",
    "    # YOUR CODE HERE\n",
    "    return np.sum([x[1] * y[1] for (x, y) in zip(vec_1, vec_2)])\n",
    "\n",
    "\n",
    "# TODO: Implement this! (3 points)\n",
    "def cosine_sim(vec_1, vec_2):\n",
    "    # YOUR CODE HERE\n",
    "    norm_1 = np.sqrt(dot(vec_1, vec_1))\n",
    "    norm_2 = np.sqrt(dot(vec_2, vec_2))\n",
    "    \n",
    "    return dot(vec_1, vec_2) / (norm_1 * norm_2)"
   ]
  },
  {
   "cell_type": "code",
   "execution_count": 74,
   "metadata": {
    "deletable": false,
    "editable": false,
    "nbgrader": {
     "cell_type": "code",
     "checksum": "d22a4a7325ba7815a808390388f534a1",
     "grade": true,
     "grade_id": "cell-b25d04ed6b79fd35",
     "locked": true,
     "points": 2,
     "schema_version": 3,
     "solution": false,
     "task": false
    }
   },
   "outputs": [
    {
     "name": "stdout",
     "output_type": "stream",
     "text": [
      "vectors: ([(1, 0.2), (2, 0.3), (3, 0.4)], [(1, 0.2), (2, 0.7), (3, 0.4)])\n",
      "dot product = 0.41000000000000003\n",
      "cosine similarity = 0.9165587597202866\n"
     ]
    }
   ],
   "source": [
    "##### Function check\n",
    "print(f'vectors: {(example_vec_1,example_vec_2)}')\n",
    "print(f'dot product = {dot(example_vec_1,example_vec_2)}')\n",
    "print(f'cosine similarity = {cosine_sim(example_vec_1,example_vec_2)}')\n",
    "##### "
   ]
  },
  {
   "cell_type": "code",
   "execution_count": 75,
   "metadata": {},
   "outputs": [
    {
     "name": "stdout",
     "output_type": "stream",
     "text": [
      "27.4 µs ± 2.8 µs per loop (mean ± std. dev. of 7 runs, 10,000 loops each)\n"
     ]
    }
   ],
   "source": [
    "%timeit cosine_sim(example_vec_1,example_vec_2)"
   ]
  },
  {
   "cell_type": "code",
   "execution_count": 76,
   "metadata": {
    "deletable": false,
    "editable": false,
    "nbgrader": {
     "cell_type": "code",
     "checksum": "0744131724ce76b1b3f163b4bae5f700",
     "grade": true,
     "grade_id": "cell-ae3c4466866ace77",
     "locked": true,
     "points": 3,
     "schema_version": 3,
     "solution": false,
     "task": false
    }
   },
   "outputs": [],
   "source": [
    "#### Please do not change this. This cell is used for grading."
   ]
  },
  {
   "cell_type": "markdown",
   "metadata": {
    "deletable": false,
    "editable": false,
    "nbgrader": {
     "cell_type": "markdown",
     "checksum": "9b123f599f9ea372d14676e23f1c6a52",
     "grade": false,
     "grade_id": "cell-4b2534067c44fcdf",
     "locked": true,
     "schema_version": 3,
     "solution": false,
     "task": false
    }
   },
   "source": [
    "---\n",
    "### Section 6.2: LSI Retrieval (10 points)<a class=\"anchor\" id=\"lsi_retrieval\"></a>\n",
    "LSI retrieval is simply ranking the documents based on their cosine similarity to the query vector.\n",
    "First, let's write a parent class for vector-based retrieval models:"
   ]
  },
  {
   "cell_type": "code",
   "execution_count": 77,
   "metadata": {
    "deletable": false,
    "editable": false,
    "nbgrader": {
     "cell_type": "code",
     "checksum": "ecc111d58182570e2252b8ef5d6b02af",
     "grade": false,
     "grade_id": "cell-937936cea18711ee",
     "locked": true,
     "schema_version": 3,
     "solution": false,
     "task": false
    }
   },
   "outputs": [],
   "source": [
    "class VectorSpaceRetrievalModel:\n",
    "    \"\"\"\n",
    "        Parent class for Dense Vector Retrieval models\n",
    "    \"\"\"\n",
    "    def __init__(self, doc_repr):\n",
    "        \"\"\"\n",
    "            document_collection: \n",
    "                [\n",
    "                    (doc_id_1, [token 1, token 2, ...]), \n",
    "                    (doc_id_2, [token 1, token 2, ....]) \n",
    "                    ...\n",
    "                ]\n",
    "\n",
    "        \"\"\"\n",
    "        self.doc_repr = doc_repr\n",
    "        self.documents = [_[1] for _ in self.doc_repr]\n",
    "        \n",
    "        # construct a dictionary\n",
    "        self.dictionary = Dictionary(self.documents)\n",
    "        # Filter out words that occur less than 20 documents, or more than 50% of the documents.\n",
    "        self.dictionary.filter_extremes(no_below=10)\n",
    "        self.corpus = [self.dictionary.doc2bow(doc) for doc in self.documents]\n",
    "    \n",
    "        # Make a index to word dictionary.\n",
    "        temp = self.dictionary[0]  # This is only to \"load\" the dictionary.\n",
    "        self.id2word = self.dictionary.id2token\n",
    "        \n",
    "        # this is set by the train_model function\n",
    "        self.model = None\n",
    "        \n",
    "        \n",
    "    def vectorize_documents(self):\n",
    "        \"\"\"\n",
    "            Returns a doc_id -> vector dictionary\n",
    "        \"\"\"\n",
    "        vectors = {}\n",
    "        for (doc_id, _), cc in zip(self.doc_repr, self.corpus):\n",
    "            vectors[doc_id] = self.model[cc]\n",
    "        return vectors\n",
    "\n",
    "    def vectorize_query(self, query):\n",
    "        # Note the use of config_2 here!\n",
    "        query = process_text(query, **config_2)\n",
    "        query_vector = self.dictionary.doc2bow(query)\n",
    "        return self.model[query_vector]\n",
    "    \n",
    "    def train_model(self):\n",
    "        \"\"\"\n",
    "            Trains a model and sets the 'self.model' variable. \n",
    "            Make sure to use the variables created in the __init__ method.\n",
    "            e.g the variables which may be useful: {corpus, dictionary, id2word}\n",
    "        \"\"\"\n",
    "        raise NotImplementedError()"
   ]
  },
  {
   "cell_type": "markdown",
   "metadata": {
    "deletable": false,
    "editable": false,
    "nbgrader": {
     "cell_type": "markdown",
     "checksum": "ff161eefd9b81b768cd6361bc1a502b0",
     "grade": false,
     "grade_id": "cell-704a18c2f80cd60c",
     "locked": true,
     "schema_version": 3,
     "solution": false,
     "task": false
    }
   },
   "source": [
    "---\n",
    "**Implementation (5 points):**\n",
    "Implement the `train_model` method in the following class (note that this is only one line of code in `gensim`!). Ensure that the parameters defined in the `__init__` method are not changed, and are *used in the `train_method` function*. Normally, the hyperaparameter space will be searched using grid search / other methods - in this assignment we have provided the hyperparameters for you.\n",
    "\n",
    "The last two lines of code train an LSI model on the list of documents which have been stemmed, lower-cased and have stopwords removed. "
   ]
  },
  {
   "cell_type": "code",
   "execution_count": 78,
   "metadata": {
    "deletable": false,
    "nbgrader": {
     "cell_type": "code",
     "checksum": "0e90eedc27c248bc1ae050518a46a46c",
     "grade": false,
     "grade_id": "cell-307682c9089f15d6",
     "locked": false,
     "schema_version": 3,
     "solution": true,
     "task": false
    }
   },
   "outputs": [],
   "source": [
    "# TODO: Implement this! (5 points)\n",
    "class LsiRetrievalModel(VectorSpaceRetrievalModel):\n",
    "    def __init__(self, doc_repr):\n",
    "        super().__init__(doc_repr)\n",
    "\n",
    "        self.num_topics = 100\n",
    "        self.chunksize = 2000\n",
    "    \n",
    "    def train_model(self):\n",
    "        # YOUR CODE HERE\n",
    "        self.model = LsiModel(\n",
    "            corpus=self.corpus,\n",
    "            id2word=self.id2word,\n",
    "            num_topics=self.num_topics,\n",
    "            chunksize=self.chunksize,\n",
    "        )"
   ]
  },
  {
   "cell_type": "code",
   "execution_count": 79,
   "metadata": {
    "deletable": false,
    "editable": false,
    "nbgrader": {
     "cell_type": "code",
     "checksum": "00399cfe13d60cb4beed1271e36004b0",
     "grade": true,
     "grade_id": "cell-5ce512650c1b2dfb",
     "locked": true,
     "points": 0,
     "schema_version": 3,
     "solution": false,
     "task": false
    }
   },
   "outputs": [
    {
     "name": "stderr",
     "output_type": "stream",
     "text": [
      "2022-02-27 22:11:15,981 : INFO : adding document #0 to Dictionary(0 unique tokens: [])\n",
      "2022-02-27 22:11:16,102 : INFO : built Dictionary(5937 unique tokens: ['-', 'algebra', 'intern', 'languag', 'preliminari']...) from 3204 documents (total 115969 corpus positions)\n",
      "2022-02-27 22:11:16,110 : INFO : discarding 4740 tokens: [('repeat', 8), ('glossari', 7), ('inspect', 8), ('uncol', 2), ('rung', 9), ('secant', 2), ('.', 1603), ('acceler', 6), ('diverg', 3), ('induc', 9)]...\n",
      "2022-02-27 22:11:16,111 : INFO : keeping 1197 tokens which were in no less than 10 and no more than 1602 (=50.0%) documents\n",
      "2022-02-27 22:11:16,114 : INFO : resulting dictionary: Dictionary(1197 unique tokens: ['-', 'algebra', 'intern', 'languag', 'preliminari']...)\n",
      "2022-02-27 22:11:16,195 : INFO : using serial LSI version on this node\n",
      "2022-02-27 22:11:16,196 : INFO : updating model with new documents\n",
      "2022-02-27 22:11:16,196 : INFO : preparing a new chunk of documents\n",
      "2022-02-27 22:11:16,207 : INFO : using 100 extra samples and 2 power iterations\n",
      "2022-02-27 22:11:16,208 : INFO : 1st phase: constructing (1197, 200) action matrix\n",
      "2022-02-27 22:11:16,228 : INFO : orthonormalizing (1197, 200) action matrix\n",
      "2022-02-27 22:11:16,428 : INFO : 2nd phase: running dense svd on (200, 2000) matrix\n",
      "2022-02-27 22:11:16,563 : INFO : computing the final decomposition\n",
      "2022-02-27 22:11:16,565 : INFO : keeping 100 factors (discarding 13.447% of energy spectrum)\n",
      "2022-02-27 22:11:16,570 : INFO : processed documents up to #2000\n",
      "2022-02-27 22:11:16,572 : INFO : topic #0(152.127): 0.741*\",\" + 0.342*\"-\" + 0.211*\"system\" + 0.204*\"program\" + 0.192*\"comput\" + 0.146*\"(\" + 0.127*\"languag\" + 0.108*\")\" + 0.084*\"gener\" + 0.083*\"data\"\n",
      "2022-02-27 22:11:16,573 : INFO : topic #1(60.600): -0.607*\"(\" + -0.434*\")\" + -0.366*\"algorithm\" + -0.300*\"-\" + 0.237*\",\" + 0.213*\"system\" + 0.132*\"comput\" + -0.096*\"[\" + 0.093*\"program\" + -0.084*\"])\"\n",
      "2022-02-27 22:11:16,574 : INFO : topic #2(57.438): 0.744*\"-\" + -0.452*\",\" + 0.263*\"system\" + -0.214*\"(\" + -0.166*\")\" + 0.107*\"time\" + 0.105*\"program\" + -0.094*\"algorithm\" + 0.068*\"comput\" + 0.067*\"share\"\n",
      "2022-02-27 22:11:16,575 : INFO : topic #3(48.370): 0.483*\"system\" + 0.375*\"program\" + 0.367*\"comput\" + -0.363*\"-\" + -0.308*\",\" + 0.212*\"(\" + 0.168*\")\" + 0.147*\"algorithm\" + -0.144*\"languag\" + 0.119*\"time\"\n",
      "2022-02-27 22:11:16,576 : INFO : topic #4(45.710): 0.489*\"comput\" + -0.475*\"languag\" + -0.428*\"program\" + 0.238*\"method\" + 0.141*\"problem\" + -0.121*\"system\" + -0.109*\")\" + 0.107*\"equat\" + 0.101*\"algorithm\" + -0.099*\"(\"\n",
      "2022-02-27 22:11:16,577 : INFO : preparing a new chunk of documents\n",
      "2022-02-27 22:11:16,591 : INFO : using 100 extra samples and 2 power iterations\n",
      "2022-02-27 22:11:16,592 : INFO : 1st phase: constructing (1197, 200) action matrix\n",
      "2022-02-27 22:11:16,612 : INFO : orthonormalizing (1197, 200) action matrix\n",
      "2022-02-27 22:11:16,703 : INFO : 2nd phase: running dense svd on (200, 1204) matrix\n",
      "2022-02-27 22:11:16,764 : INFO : computing the final decomposition\n",
      "2022-02-27 22:11:16,766 : INFO : keeping 100 factors (discarding 14.039% of energy spectrum)\n",
      "2022-02-27 22:11:16,769 : INFO : merging projections: (1197, 100) + (1197, 100)\n",
      "2022-02-27 22:11:16,856 : INFO : keeping 100 factors (discarding 8.164% of energy spectrum)\n",
      "2022-02-27 22:11:16,860 : INFO : processed documents up to #3204\n",
      "2022-02-27 22:11:16,861 : INFO : topic #0(225.136): 0.759*\",\" + 0.337*\"-\" + 0.196*\"system\" + 0.186*\"program\" + 0.166*\"comput\" + 0.139*\"(\" + 0.103*\")\" + 0.103*\"algorithm\" + 0.099*\"languag\" + 0.087*\"time\"\n",
      "2022-02-27 22:11:16,862 : INFO : topic #1(87.805): 0.613*\"-\" + -0.399*\",\" + 0.399*\"(\" + 0.326*\"algorithm\" + 0.293*\")\" + -0.129*\"system\" + -0.107*\"program\" + 0.085*\"method\" + 0.077*\"time\" + 0.062*\"1\"\n",
      "2022-02-27 22:11:16,863 : INFO : topic #2(81.909): 0.550*\"-\" + -0.434*\"(\" + 0.355*\"system\" + -0.321*\")\" + -0.291*\",\" + -0.266*\"algorithm\" + 0.146*\"program\" + 0.123*\"comput\" + 0.078*\"time\" + -0.064*\"[\"\n",
      "2022-02-27 22:11:16,864 : INFO : topic #3(72.433): -0.693*\"program\" + 0.339*\",\" + 0.279*\"-\" + -0.251*\"(\" + -0.221*\"system\" + -0.214*\"languag\" + -0.204*\")\" + -0.160*\"comput\" + -0.099*\"data\" + -0.056*\"execut\"\n",
      "2022-02-27 22:11:16,865 : INFO : topic #4(68.523): -0.673*\"system\" + 0.453*\"program\" + 0.254*\"languag\" + 0.212*\"-\" + -0.179*\"comput\" + -0.165*\"(\" + -0.121*\")\" + -0.115*\"model\" + 0.101*\",\" + -0.098*\"algorithm\"\n"
     ]
    },
    {
     "data": {
      "text/plain": [
       "[(0, 0.015214710923639714),\n",
       " (1, -0.016256176754784114),\n",
       " (2, -0.00018270201662596826),\n",
       " (3, -0.0018277216767554943),\n",
       " (4, -0.009436371000831195),\n",
       " (5, -0.004602539399737643),\n",
       " (6, 0.02696590528333684),\n",
       " (7, 0.016643233058759106),\n",
       " (8, -0.0319302462297907),\n",
       " (9, -0.000908169194959299),\n",
       " (10, 0.0022833966296265306),\n",
       " (11, -0.017336977664806255),\n",
       " (12, 0.00019473675717519325),\n",
       " (13, 0.001071793702498454),\n",
       " (14, 0.004497261170568349),\n",
       " (15, 0.004803043037882899),\n",
       " (16, 0.005439249883070915),\n",
       " (17, 0.002649618721428798),\n",
       " (18, -0.018192588744684685),\n",
       " (19, 0.019302221370103855),\n",
       " (20, -0.01042337937992132),\n",
       " (21, -0.014313262673299914),\n",
       " (22, 0.04735726195941266),\n",
       " (23, 0.0254268503116966),\n",
       " (24, -0.009476700919035878),\n",
       " (25, -0.00999776979772736),\n",
       " (26, 0.00603821630726133),\n",
       " (27, 0.07716936914000987),\n",
       " (28, -0.06427119423844842),\n",
       " (29, 0.03420819790847786),\n",
       " (30, 0.04290666994992298),\n",
       " (31, 0.04713119192978572),\n",
       " (32, -0.0707959719581036),\n",
       " (33, 0.045654852644443016),\n",
       " (34, -0.0230953909812261),\n",
       " (35, 0.06282069978513066),\n",
       " (36, 0.04517694622426408),\n",
       " (37, -0.006357569028548572),\n",
       " (38, -0.06201705152126949),\n",
       " (39, 0.021318287456214335),\n",
       " (40, -0.040324050669685696),\n",
       " (41, -0.04170178524439165),\n",
       " (42, 0.024783543442924903),\n",
       " (43, 0.016310408870085367),\n",
       " (44, 0.02225180311419403),\n",
       " (45, 0.05513530908886542),\n",
       " (46, -0.009001073769994905),\n",
       " (47, 0.0046509634140937135),\n",
       " (48, 0.018890286153219984),\n",
       " (49, 0.03342105038404826),\n",
       " (50, 0.0045633056573348065),\n",
       " (51, 0.04737547493168906),\n",
       " (52, -0.01468933026506802),\n",
       " (53, -0.0010721454953743857),\n",
       " (54, 0.04422012536313655),\n",
       " (55, 0.018403096722398114),\n",
       " (56, 0.011752914323132795),\n",
       " (57, -0.012379207746417849),\n",
       " (58, -0.01917674289533117),\n",
       " (59, 0.04352838739041961),\n",
       " (60, -0.023838895241502747),\n",
       " (61, 0.04674410100424735),\n",
       " (62, -0.014961473961255953),\n",
       " (63, -0.016243521295717586),\n",
       " (64, 0.03737013460253569),\n",
       " (65, 0.07058881934572868),\n",
       " (66, 0.00032253120819944903),\n",
       " (67, 0.05963701180284427),\n",
       " (68, -0.0466967702317412),\n",
       " (69, -0.03493504208592948),\n",
       " (70, -0.049203978940796145),\n",
       " (71, -0.013032822540538221),\n",
       " (72, 0.02659410890411401),\n",
       " (73, 0.042817093910198355),\n",
       " (74, -0.09545536959825854),\n",
       " (75, 0.03801841789909791),\n",
       " (76, 0.009247526012584061),\n",
       " (77, -0.006624965824131355),\n",
       " (78, 0.036045620304397154),\n",
       " (79, 0.02708044855577851),\n",
       " (80, 0.02480978322416989),\n",
       " (81, 0.0017275783614566602),\n",
       " (82, 0.05210375602893283),\n",
       " (83, 0.044365563401224946),\n",
       " (84, 0.013493407081053259),\n",
       " (85, 0.01612459633036918),\n",
       " (86, -0.026120281839105728),\n",
       " (87, 0.024035618150832057),\n",
       " (88, -0.07254713083189349),\n",
       " (89, 0.04090653256255896),\n",
       " (90, -0.07079961663204173),\n",
       " (91, 0.01251589678411617),\n",
       " (92, -0.04140855237520692),\n",
       " (93, 0.034060873173710364),\n",
       " (94, 0.03361037381081795),\n",
       " (95, -0.010603131756105971),\n",
       " (96, -0.005384426528295344),\n",
       " (97, 0.009589414815782524),\n",
       " (98, -0.0505422185573999),\n",
       " (99, -0.0026030478588566427)]"
      ]
     },
     "execution_count": 79,
     "metadata": {},
     "output_type": "execute_result"
    }
   ],
   "source": [
    "##### Function check\n",
    "lsi = LsiRetrievalModel(doc_repr_2)\n",
    "lsi.train_model()\n",
    "\n",
    "# you can now get an LSI vector for a given query in the following way:\n",
    "lsi.vectorize_query(\"report\")\n",
    "##### "
   ]
  },
  {
   "cell_type": "markdown",
   "metadata": {
    "deletable": false,
    "editable": false,
    "nbgrader": {
     "cell_type": "markdown",
     "checksum": "7116bb9f576c5bb04934e1d59c51d729",
     "grade": false,
     "grade_id": "cell-4c5eeb557b4fca2f",
     "locked": true,
     "points": 5,
     "schema_version": 3,
     "solution": false,
     "task": true
    }
   },
   "source": [
    "\\#### Please do not change this. This cell is used for grading."
   ]
  },
  {
   "cell_type": "markdown",
   "metadata": {
    "deletable": false,
    "editable": false,
    "nbgrader": {
     "cell_type": "markdown",
     "checksum": "26e2ff3c413745e633d99f66c041d6b1",
     "grade": false,
     "grade_id": "cell-c4e50296cd17a555",
     "locked": true,
     "schema_version": 3,
     "solution": false,
     "task": false
    }
   },
   "source": [
    "---\n",
    "**Implementation (5 points):**\n",
    " Next, implement a basic ranking class for vector space retrieval (used for all semantic methods): "
   ]
  },
  {
   "cell_type": "code",
   "execution_count": 80,
   "metadata": {
    "deletable": false,
    "nbgrader": {
     "cell_type": "code",
     "checksum": "1a8389d2f0635c3405e2b0b27ed9f327",
     "grade": false,
     "grade_id": "cell-250515d288e80cdc",
     "locked": false,
     "schema_version": 3,
     "solution": true,
     "task": false
    }
   },
   "outputs": [],
   "source": [
    "# TODO: Implement this! (5 points)\n",
    "class DenseRetrievalRanker:\n",
    "    def __init__(self, vsrm, similarity_fn):\n",
    "        \"\"\"\n",
    "            vsrm: instance of `VectorSpaceRetrievalModel`\n",
    "            similarity_fn: function instance that takes in two vectors \n",
    "                            and returns a similarity score e.g cosine_sim defined earlier\n",
    "        \"\"\"\n",
    "        self.vsrm = vsrm \n",
    "        self.vectorized_documents = self.vsrm.vectorize_documents()\n",
    "        self.similarity_fn = similarity_fn\n",
    "    \n",
    "    def _compute_sim(self, query_vector):\n",
    "        \"\"\"\n",
    "            Compute the similarity of `query_vector` to documents in \n",
    "            `self.vectorized_documents` using `self.similarity_fn`\n",
    "            Returns a list of (doc_id, score) tuples\n",
    "        \"\"\"\n",
    "        # YOUR CODE HERE\n",
    "        return [(doc_id, self.similarity_fn(query_vector, d)) for doc_id, d in self.vectorized_documents.items() if d]\n",
    "    \n",
    "    def search(self, query):\n",
    "        scores = self._compute_sim(self.vsrm.vectorize_query(query))\n",
    "        scores.sort(key=lambda _:-_[1])\n",
    "        return scores "
   ]
  },
  {
   "cell_type": "code",
   "execution_count": 81,
   "metadata": {
    "deletable": false,
    "editable": false,
    "nbgrader": {
     "cell_type": "code",
     "checksum": "f237dd1ef6c1783c06797f4b514421f5",
     "grade": true,
     "grade_id": "cell-b73068b3e77a8e31",
     "locked": true,
     "points": 0,
     "schema_version": 3,
     "solution": false,
     "task": false
    }
   },
   "outputs": [
    {
     "data": {
      "text/plain": [
       "[('599', 0.7955772820607655),\n",
       " ('947', 0.5873297098741453),\n",
       " ('53', 0.4914286952456587),\n",
       " ('1339', 0.45259823062207777),\n",
       " ('3160', 0.4432953217125907)]"
      ]
     },
     "execution_count": 81,
     "metadata": {},
     "output_type": "execute_result"
    }
   ],
   "source": [
    "##### Function check\n",
    "drm_lsi = DenseRetrievalRanker(lsi, cosine_sim)\n",
    "drm_lsi.search(\"report\")[:5]\n",
    "##### "
   ]
  },
  {
   "cell_type": "markdown",
   "metadata": {
    "deletable": false,
    "editable": false,
    "nbgrader": {
     "cell_type": "markdown",
     "checksum": "5b3f19fdcaa585d263706d5a26038799",
     "grade": false,
     "grade_id": "cell-034c755a6502b868",
     "locked": true,
     "points": 5,
     "schema_version": 3,
     "solution": false,
     "task": true
    }
   },
   "source": [
    "\\#### Please do not change this. This cell is used for grading."
   ]
  },
  {
   "cell_type": "markdown",
   "metadata": {
    "deletable": false,
    "editable": false,
    "nbgrader": {
     "cell_type": "markdown",
     "checksum": "dcafef6e037033c46304b914f7c78bdf",
     "grade": false,
     "grade_id": "cell-d1df23f497d5ed6b",
     "locked": true,
     "schema_version": 3,
     "solution": false,
     "task": false
    }
   },
   "source": [
    "---\n",
    "Now, you can test your LSI model in the following cell: try finding queries which are lexically different to documents, but semantically similar - does LSI work well for these queries?!"
   ]
  },
  {
   "cell_type": "code",
   "execution_count": 82,
   "metadata": {
    "deletable": false,
    "editable": false,
    "nbgrader": {
     "cell_type": "code",
     "checksum": "11734bc7674377b340ad51297a8e8bb5",
     "grade": false,
     "grade_id": "cell-efd1d08dfc04ec3e",
     "locked": true,
     "schema_version": 3,
     "solution": false,
     "task": false
    }
   },
   "outputs": [
    {
     "data": {
      "application/vnd.jupyter.widget-view+json": {
       "model_id": "fd2101ffec16444ebec50d43166f8239",
       "version_major": 2,
       "version_minor": 0
      },
      "text/plain": [
       "Text(value='', description='Search Bar')"
      ]
     },
     "metadata": {},
     "output_type": "display_data"
    }
   ],
   "source": [
    "# test your LSI model\n",
    "search_fn = drm_lsi.search\n",
    "\n",
    "text = widgets.Text(description=\"Search Bar\", width=200)\n",
    "display(text)\n",
    "\n",
    "def make_results_2(query, search_fn):\n",
    "    results = []\n",
    "    for doc_id, score in search_fn(query):\n",
    "        highlight = highlight_text(docs_by_id[doc_id], query)\n",
    "        if len(highlight.strip()) == 0:\n",
    "            highlight = docs_by_id[doc_id]\n",
    "        results.append(ResultRow(doc_id, highlight, score))\n",
    "    return results\n",
    "\n",
    "def handle_submit_2(sender):\n",
    "    print(f\"Searching for: '{sender.value}' (SEARCH FN: {search_fn})\")\n",
    "    \n",
    "    results = make_results_2(sender.value, search_fn)\n",
    "    \n",
    "    # display only the top 5\n",
    "    results = results[:5]\n",
    "    \n",
    "    body = \"\"\n",
    "    for idx, r in enumerate(results):\n",
    "        body += f\"<li>Document #{r.doc_id}({r.score}): {r.snippet}</li>\"\n",
    "    display(HTML(f\"<ul>{body}</ul>\"))\n",
    "    \n",
    "\n",
    "text.on_submit(handle_submit_2)"
   ]
  },
  {
   "cell_type": "markdown",
   "metadata": {
    "deletable": false,
    "editable": false,
    "nbgrader": {
     "cell_type": "markdown",
     "checksum": "d074ce1ca48384cdda78742741c938be",
     "grade": false,
     "grade_id": "cell-3a86cef264d8f6cf",
     "locked": true,
     "schema_version": 3,
     "solution": false,
     "task": false
    }
   },
   "source": [
    "---\n",
    "## Section 7: Latent Dirichlet Allocation (LDA) (10 points) <a class=\"anchor\" id=\"lda\"></a>\n",
    "\n",
    "[Back to Part 2](#part2)\n",
    "\n",
    "The specifics of LDA is out of the scope of this assignment, but we will use the `gensim` implementation to perform search using LDA over our small document collection. The key thing to remember is that LDA, unlike LSI, outputs a topic **distribution**, not a vector. With that in mind, let's first define a similarity measure.\n"
   ]
  },
  {
   "cell_type": "markdown",
   "metadata": {
    "deletable": false,
    "editable": false,
    "nbgrader": {
     "cell_type": "markdown",
     "checksum": "db01092373b18f0c9dfed1bb17db4ad9",
     "grade": false,
     "grade_id": "cell-6b78ad22c2d60ba7",
     "locked": true,
     "schema_version": 3,
     "solution": false,
     "task": false
    }
   },
   "source": [
    "---\n",
    "### Section 7.1: Jenson-Shannon divergence (5 points) <a class=\"anchor\" id=\"js_sim\"></a>\n",
    "\n",
    "The Jenson-Shannon divergence is a symmetric and finite measure on two probability distributions (unlike the KL, which is neither). For identical distributions, the JSD is equal to 0, and since our code uses 0 as irrelevant and higher scores as relevant, we use `(1 - JSD)` as the score or 'similarity' in our setup\n",
    "\n",
    "**Note**: the JSD is bounded to \\[0,1\\] only if we use log base 2. So please ensure that you're using `np.log2` instead of `np.log`"
   ]
  },
  {
   "cell_type": "code",
   "execution_count": 83,
   "metadata": {
    "deletable": false,
    "nbgrader": {
     "cell_type": "code",
     "checksum": "a579e6cd7a24a3516bc9a84528b392d3",
     "grade": false,
     "grade_id": "cell-d2376a85a4841e98",
     "locked": false,
     "schema_version": 3,
     "solution": true,
     "task": false
    }
   },
   "outputs": [],
   "source": [
    "## TODO: Implement this! (5 points)\n",
    "import collections, operator\n",
    "import functools\n",
    "def jenson_shannon_divergence(vec_1, vec_2, assert_prob=False):\n",
    "    \"\"\"\n",
    "        Computes the Jensen-Shannon divergence between two probability distributions. \n",
    "        NOTE: DO NOT RETURN 1 - JSD here, that is handled by the next function which is already implemented! \n",
    "        The inputs are *gensim* vectors - same as the vectors for the cosine_sim function\n",
    "        assert_prob is a flag that checks if the inputs are proper probability distributions \n",
    "            i.e they sum to 1 and are positive - use this to check your inputs if needed. \n",
    "                (This is optional to implement, but recommended - \n",
    "                you can the default to False to save a few ms off the runtime)\n",
    "    \"\"\"\n",
    "    if assert_prob:\n",
    "        assert np.isclose(np.sum([x[1] for x in vec_1]), 1)\n",
    "        assert np.isclose(np.sum([x[1] for x in vec_2]), 1)\n",
    "        assert np.all([x[1] for x in vec_1] > 0)\n",
    "        assert np.all(vec_2 > 0)\n",
    "    M = list({k: v / 2 for k,v in dict(functools.reduce(operator.add,\n",
    "         map(collections.Counter, [dict(vec_1), dict(vec_2)]))).items()}.items())\n",
    "    KLD = lambda x, y: np.sum([_[1] * np.log2(_[1] / __[1]) for _, __ in zip(x, y)])\n",
    "    return 0.5 * (KLD(vec_1, M) + KLD(vec_2, M))\n",
    " \n",
    "def jenson_shannon_sim(vec_1, vec_2, assert_prob=False):\n",
    "    return 1 - jenson_shannon_divergence(vec_1, vec_2)\n",
    "\n"
   ]
  },
  {
   "cell_type": "code",
   "execution_count": 84,
   "metadata": {
    "deletable": false,
    "editable": false,
    "nbgrader": {
     "cell_type": "code",
     "checksum": "ab340aa941c9fb5c89b3fd0a9139e246",
     "grade": true,
     "grade_id": "cell-487c6d2933f38053",
     "locked": true,
     "points": 5,
     "schema_version": 3,
     "solution": false,
     "task": false
    }
   },
   "outputs": [
    {
     "data": {
      "text/plain": [
       "0.9251064410358459"
      ]
     },
     "execution_count": 84,
     "metadata": {},
     "output_type": "execute_result"
    }
   ],
   "source": [
    "##### Function check\n",
    "vec_1 = [(1, 0.3), (2, 0.4), (3, 0.3)]\n",
    "vec_2 = [(1, 0.1), (2, 0.7), (3, 0.2)]\n",
    "jenson_shannon_sim(vec_1, vec_2, assert_prob=True)\n",
    "##### "
   ]
  },
  {
   "cell_type": "markdown",
   "metadata": {
    "deletable": false,
    "editable": false,
    "nbgrader": {
     "cell_type": "markdown",
     "checksum": "0a1583a5f23e3390038331cce67f5d8e",
     "grade": false,
     "grade_id": "cell-4535cc67a50b80fa",
     "locked": true,
     "schema_version": 3,
     "solution": false,
     "task": false
    }
   },
   "source": [
    "---\n",
    "### Section 7.2: LDA retrieval (5 points) <a class=\"anchor\" id=\"lda_ret\"></a>\n",
    "\n",
    "Implement the `train_model` method in the following class (note that this is only one line of code in `gensim`!). Ensure that the parameters defined in the `__init__` method are not changed, and are *used in the `train_method` function*. You do not need to set this. Normally, the hyperaparameter space will be searched using grid search / other methods. Note that training the LDA model might take some time\n",
    "\n",
    "The last two lines of code train an LDA model on the list of documents which have been stemmed, lower-cased and have stopwords removed. "
   ]
  },
  {
   "cell_type": "code",
   "execution_count": 85,
   "metadata": {
    "deletable": false,
    "nbgrader": {
     "cell_type": "code",
     "checksum": "27de8e4fa85536bb396b73bfc51b3f50",
     "grade": false,
     "grade_id": "cell-021a48dff4a8bb91",
     "locked": false,
     "schema_version": 3,
     "solution": true,
     "task": false
    }
   },
   "outputs": [],
   "source": [
    "# TODO: Implement this! (5 points)\n",
    "class LdaRetrievalModel(VectorSpaceRetrievalModel):\n",
    "    def __init__(self, doc_repr):\n",
    "        super().__init__(doc_repr)\n",
    "        \n",
    "        # use these parameters in the train_model method\n",
    "        self.num_topics = 100\n",
    "        self.chunksize = 2000\n",
    "        self.passes = 20\n",
    "        self.iterations = 400\n",
    "        self.eval_every = 10\n",
    "        # this is need to get full vectors\n",
    "        self.minimum_probability=0.0\n",
    "        self.alpha='auto'\n",
    "        self.eta='auto'\n",
    "    \n",
    "    \n",
    "    def train_model(self):\n",
    "        # YOUR CODE HERE\n",
    "        self.model = LdaModel(\n",
    "            corpus=self.corpus,\n",
    "            id2word=self.id2word,\n",
    "            num_topics=self.num_topics,\n",
    "            chunksize=self.chunksize,\n",
    "            passes=self.passes,\n",
    "            iterations=self.iterations,\n",
    "            eval_every=self.eval_every,\n",
    "            minimum_probability=self.minimum_probability,\n",
    "            alpha=self.alpha,\n",
    "            eta=self.eta,\n",
    "        )"
   ]
  },
  {
   "cell_type": "code",
   "execution_count": 86,
   "metadata": {
    "deletable": false,
    "editable": false,
    "nbgrader": {
     "cell_type": "code",
     "checksum": "be70fcb8098d0b6ce64cd2a10e6a05b7",
     "grade": true,
     "grade_id": "cell-86750b715f0345fd",
     "locked": true,
     "points": 0,
     "schema_version": 3,
     "solution": false,
     "task": false
    },
    "tags": []
   },
   "outputs": [
    {
     "name": "stderr",
     "output_type": "stream",
     "text": [
      "2022-02-27 22:11:18,167 : INFO : adding document #0 to Dictionary(0 unique tokens: [])\n",
      "2022-02-27 22:11:18,262 : INFO : built Dictionary(5937 unique tokens: ['-', 'algebra', 'intern', 'languag', 'preliminari']...) from 3204 documents (total 115969 corpus positions)\n",
      "2022-02-27 22:11:18,266 : INFO : discarding 4740 tokens: [('repeat', 8), ('glossari', 7), ('inspect', 8), ('uncol', 2), ('rung', 9), ('secant', 2), ('.', 1603), ('acceler', 6), ('diverg', 3), ('induc', 9)]...\n",
      "2022-02-27 22:11:18,268 : INFO : keeping 1197 tokens which were in no less than 10 and no more than 1602 (=50.0%) documents\n",
      "2022-02-27 22:11:18,270 : INFO : resulting dictionary: Dictionary(1197 unique tokens: ['-', 'algebra', 'intern', 'languag', 'preliminari']...)\n",
      "2022-02-27 22:11:18,325 : INFO : using autotuned alpha, starting with [0.01, 0.01, 0.01, 0.01, 0.01, 0.01, 0.01, 0.01, 0.01, 0.01, 0.01, 0.01, 0.01, 0.01, 0.01, 0.01, 0.01, 0.01, 0.01, 0.01, 0.01, 0.01, 0.01, 0.01, 0.01, 0.01, 0.01, 0.01, 0.01, 0.01, 0.01, 0.01, 0.01, 0.01, 0.01, 0.01, 0.01, 0.01, 0.01, 0.01, 0.01, 0.01, 0.01, 0.01, 0.01, 0.01, 0.01, 0.01, 0.01, 0.01, 0.01, 0.01, 0.01, 0.01, 0.01, 0.01, 0.01, 0.01, 0.01, 0.01, 0.01, 0.01, 0.01, 0.01, 0.01, 0.01, 0.01, 0.01, 0.01, 0.01, 0.01, 0.01, 0.01, 0.01, 0.01, 0.01, 0.01, 0.01, 0.01, 0.01, 0.01, 0.01, 0.01, 0.01, 0.01, 0.01, 0.01, 0.01, 0.01, 0.01, 0.01, 0.01, 0.01, 0.01, 0.01, 0.01, 0.01, 0.01, 0.01, 0.01]\n",
      "2022-02-27 22:11:18,326 : INFO : using serial LDA version on this node\n",
      "2022-02-27 22:11:18,338 : INFO : running online (multi-pass) LDA training, 100 topics, 20 passes over the supplied corpus of 3204 documents, updating model once every 2000 documents, evaluating perplexity every 3204 documents, iterating 400x with a convergence threshold of 0.001000\n",
      "2022-02-27 22:11:18,338 : INFO : PROGRESS: pass 0, at document #2000/3204\n",
      "2022-02-27 22:11:19,924 : INFO : optimized alpha [0.009830055, 0.0097731, 0.009773138, 0.009788574, 0.009824134, 0.00979906, 0.009825327, 0.009809276, 0.009840914, 0.009819535, 0.009788792, 0.009961056, 0.009825148, 0.009850484, 0.00979907, 0.00981937, 0.009896783, 0.009798679, 0.009850859, 0.009825044, 0.0097991945, 0.009820076, 0.0098246485, 0.009809071, 0.0098562185, 0.009851376, 0.009788623, 0.009824997, 0.009839907, 0.009906673, 0.009835837, 0.009824636, 0.009799076, 0.00979388, 0.009819457, 0.0098201865, 0.009783504, 0.009809329, 0.009809443, 0.009824665, 0.009880915, 0.009814575, 0.009804185, 0.009788509, 0.009866515, 0.009773064, 0.009788659, 0.009778336, 0.009804244, 0.0097886445, 0.009824088, 0.0099030975, 0.009819495, 0.009903246, 0.009793842, 0.009824937, 0.009835521, 0.009798876, 0.009919041, 0.0097938925, 0.009768032, 0.009840597, 0.009814561, 0.009846114, 0.009997258, 0.009845421, 0.009819554, 0.009799293, 0.009814653, 0.010112451, 0.00978325, 0.009814322, 0.009840199, 0.009809374, 0.009804094, 0.0097784605, 0.009767925, 0.009865547, 0.009809465, 0.009891246, 0.009840295, 0.009850335, 0.009809423, 0.009876253, 0.009788507, 0.009825221, 0.0099920845, 0.009850308, 0.009918317, 0.009809346, 0.009824288, 0.009788637, 0.009855893, 0.009809629, 0.009840079, 0.009830261, 0.0097731715, 0.009829602, 0.009803969, 0.009825015]\n",
      "2022-02-27 22:11:19,930 : INFO : merging changes from 2000 documents into a model of 3204 documents\n",
      "2022-02-27 22:11:19,937 : INFO : topic #60 (0.010): 0.155*\",\" + 0.065*\"univers\" + 0.065*\"comput\" + 0.039*\"relat\" + 0.039*\"field\" + 0.026*\"process\" + 0.026*\"\"\" + 0.026*\"recommend\" + 0.026*\"research\" + 0.026*\"data\"\n",
      "2022-02-27 22:11:19,938 : INFO : topic #70 (0.010): 0.059*\"algorithm\" + 0.050*\"])\" + 0.050*\"(\" + 0.050*\"method\" + 0.050*\"[\" + 0.025*\"propos\" + 0.025*\"mutual\" + 0.025*\"code\" + 0.025*\"inform\" + 0.025*\"convers\"\n",
      "2022-02-27 22:11:19,939 : INFO : topic #86 (0.010): 0.083*\",\" + 0.039*\"-\" + 0.021*\"system\" + 0.020*\"comput\" + 0.017*\"languag\" + 0.012*\"program\" + 0.009*\"implement\" + 0.009*\"inform\" + 0.009*\"gener\" + 0.009*\"design\"\n",
      "2022-02-27 22:11:19,939 : INFO : topic #64 (0.010): 0.064*\",\" + 0.048*\"-\" + 0.039*\"program\" + 0.021*\"comput\" + 0.021*\"system\" + 0.014*\"languag\" + 0.010*\"time\" + 0.010*\"(\" + 0.008*\"procedur\" + 0.008*\"method\"\n",
      "2022-02-27 22:11:19,940 : INFO : topic #69 (0.010): 0.077*\",\" + 0.045*\"-\" + 0.029*\"comput\" + 0.028*\"program\" + 0.020*\"languag\" + 0.020*\"system\" + 0.010*\"problem\" + 0.010*\"method\" + 0.009*\"present\" + 0.008*\"number\"\n",
      "2022-02-27 22:11:19,941 : INFO : topic diff=82.978447, rho=1.000000\n",
      "2022-02-27 22:11:21,154 : INFO : -7.279 per-word bound, 155.3 perplexity estimate based on a held-out corpus of 1204 documents with 49783 words\n",
      "2022-02-27 22:11:21,154 : INFO : PROGRESS: pass 0, at document #3204/3204\n",
      "2022-02-27 22:11:22,125 : INFO : optimized alpha [0.009870459, 0.009766142, 0.009791263, 0.009823655, 0.010005215, 0.009898557, 0.009968317, 0.009761857, 0.009877498, 0.009820188, 0.010000116, 0.010604792, 0.009961161, 0.009814018, 0.009911075, 0.0100171855, 0.010418644, 0.009932217, 0.010076152, 0.009913425, 0.009958703, 0.01011479, 0.009941931, 0.0097207185, 0.009992756, 0.010042057, 0.009729936, 0.009925294, 0.009786855, 0.009910948, 0.009854436, 0.010106555, 0.010133194, 0.010063636, 0.00999593, 0.010074635, 0.009847296, 0.009907819, 0.009886729, 0.009712071, 0.010009099, 0.010031809, 0.009980333, 0.009659637, 0.010080679, 0.00978952, 0.009899798, 0.009742852, 0.010126765, 0.009759847, 0.00991716, 0.010237591, 0.009865805, 0.010154382, 0.009782261, 0.009847407, 0.009906098, 0.009921675, 0.010201653, 0.009945971, 0.009931498, 0.010215051, 0.010073507, 0.01010759, 0.010552345, 0.009879593, 0.009701834, 0.009898436, 0.009979675, 0.0107592875, 0.009624799, 0.009736851, 0.009963723, 0.009874194, 0.009779952, 0.010492682, 0.009796836, 0.009828344, 0.010004828, 0.00993649, 0.009969166, 0.009819357, 0.009815734, 0.009939899, 0.009688691, 0.010049831, 0.010475084, 0.009861413, 0.010036837, 0.009750547, 0.009776417, 0.009933956, 0.00999742, 0.009944633, 0.009774826, 0.009843206, 0.009755363, 0.009833556, 0.009867074, 0.010178921]\n",
      "2022-02-27 22:11:22,132 : INFO : merging changes from 1204 documents into a model of 3204 documents\n",
      "2022-02-27 22:11:22,139 : INFO : topic #43 (0.010): 0.104*\"interpret\" + 0.080*\"implement\" + 0.077*\"storag\" + 0.063*\"code\" + 0.044*\"techniqu\" + 0.043*\"variant\" + 0.036*\"languag\" + 0.035*\"editor\" + 0.021*\"compil\" + 0.019*\"algorithm\"\n",
      "2022-02-27 22:11:22,140 : INFO : topic #70 (0.010): 0.115*\"mutual\" + 0.113*\"constant\" + 0.062*\"method\" + 0.054*\"american\" + 0.052*\"propos\" + 0.047*\"interchang\" + 0.047*\"algorithm\" + 0.045*\"(\" + 0.044*\"standard\" + 0.042*\"revis\"\n",
      "2022-02-27 22:11:22,141 : INFO : topic #64 (0.011): 0.068*\",\" + 0.050*\"-\" + 0.045*\"program\" + 0.017*\"system\" + 0.016*\"languag\" + 0.014*\"comput\" + 0.008*\"paper\" + 0.008*\"problem\" + 0.008*\"rule\" + 0.008*\"time\"\n",
      "2022-02-27 22:11:22,142 : INFO : topic #11 (0.011): 0.097*\",\" + 0.023*\"system\" + 0.021*\"-\" + 0.021*\"comput\" + 0.018*\"program\" + 0.017*\"model\" + 0.012*\"work\" + 0.011*\"refer\" + 0.010*\";\" + 0.010*\"problem\"\n",
      "2022-02-27 22:11:22,143 : INFO : topic #69 (0.011): 0.086*\",\" + 0.040*\"-\" + 0.033*\"program\" + 0.025*\"comput\" + 0.020*\"languag\" + 0.020*\"system\" + 0.011*\"problem\" + 0.010*\"paper\" + 0.009*\"design\" + 0.009*\"method\"\n",
      "2022-02-27 22:11:22,144 : INFO : topic diff=0.705119, rho=0.707107\n",
      "2022-02-27 22:11:22,154 : INFO : PROGRESS: pass 1, at document #2000/3204\n",
      "2022-02-27 22:11:23,183 : INFO : optimized alpha [0.009808855, 0.009742255, 0.0099289995, 0.009762378, 0.010009786, 0.009832859, 0.009896521, 0.009740482, 0.009837345, 0.009762172, 0.009953857, 0.01058212, 0.0098866355, 0.009758707, 0.009861287, 0.009940578, 0.010291131, 0.010123301, 0.010042529, 0.009882589, 0.010046985, 0.010023415, 0.009854576, 0.009697599, 0.0099396, 0.009977161, 0.009797536, 0.009857171, 0.0097112665, 0.009853876, 0.009791046, 0.010109173, 0.0101464195, 0.009978314, 0.00991992, 0.010141074, 0.009953012, 0.009831501, 0.009840032, 0.009671445, 0.009936102, 0.010084533, 0.010017493, 0.009698952, 0.009968602, 0.009874263, 0.009910583, 0.009776307, 0.010131474, 0.009878066, 0.009882967, 0.010187745, 0.009848368, 0.0100762155, 0.009776779, 0.00979881, 0.009809118, 0.00998279, 0.010174637, 0.009990176, 0.009997196, 0.010215055, 0.01006373, 0.0100763915, 0.010490866, 0.009828134, 0.00967442, 0.009854131, 0.009899186, 0.010714081, 0.009657394, 0.009687435, 0.009926497, 0.009867629, 0.00984741, 0.010410132, 0.009793134, 0.010094322, 0.0099877715, 0.010270379, 0.009894042, 0.009760811, 0.009786244, 0.009873867, 0.009671874, 0.009989745, 0.010443733, 0.009812781, 0.009964186, 0.009737469, 0.009973319, 0.009825112, 0.00992753, 0.009881386, 0.009850741, 0.009774339, 0.009747145, 0.009834338, 0.00983884, 0.010091382]\n",
      "2022-02-27 22:11:23,190 : INFO : merging changes from 2000 documents into a model of 3204 documents\n",
      "2022-02-27 22:11:23,197 : INFO : topic #39 (0.010): 0.085*\"compil\" + 0.055*\"languag\" + 0.054*\",\" + 0.042*\"version\" + 0.039*\"notat\" + 0.038*\"(\" + 0.034*\")\" + 0.029*\"comput\" + 0.028*\"spars\" + 0.027*\"nest\"\n",
      "2022-02-27 22:11:23,198 : INFO : topic #66 (0.010): 0.069*\"cobol\" + 0.069*\"-\" + 0.052*\"implement\" + 0.048*\",\" + 0.035*\"compil\" + 0.034*\"algol\" + 0.033*\"decomposit\" + 0.032*\"basic\" + 0.028*\"system\" + 0.027*\"design\"\n",
      "2022-02-27 22:11:23,199 : INFO : topic #86 (0.010): 0.100*\",\" + 0.032*\"-\" + 0.023*\"system\" + 0.022*\"languag\" + 0.018*\"comput\" + 0.015*\"implement\" + 0.015*\"program\" + 0.013*\"design\" + 0.012*\"abstract\" + 0.009*\"discuss\"\n",
      "2022-02-27 22:11:23,199 : INFO : topic #11 (0.011): 0.099*\",\" + 0.023*\"system\" + 0.022*\"-\" + 0.022*\"comput\" + 0.019*\"program\" + 0.016*\"model\" + 0.012*\"work\" + 0.011*\"machin\" + 0.011*\"process\" + 0.010*\"refer\"\n",
      "2022-02-27 22:11:23,200 : INFO : topic #69 (0.011): 0.089*\",\" + 0.043*\"-\" + 0.035*\"program\" + 0.027*\"comput\" + 0.022*\"languag\" + 0.021*\"system\" + 0.011*\"problem\" + 0.009*\"paper\" + 0.009*\"present\" + 0.009*\"design\"\n",
      "2022-02-27 22:11:23,201 : INFO : topic diff=0.294256, rho=0.526900\n",
      "2022-02-27 22:11:24,423 : INFO : -6.900 per-word bound, 119.4 perplexity estimate based on a held-out corpus of 1204 documents with 49783 words\n",
      "2022-02-27 22:11:24,423 : INFO : PROGRESS: pass 1, at document #3204/3204\n",
      "2022-02-27 22:11:25,343 : INFO : optimized alpha [0.009845203, 0.009899093, 0.010064603, 0.0099720415, 0.010113359, 0.009938352, 0.010012353, 0.0097682355, 0.009883541, 0.00983429, 0.010235978, 0.0109465225, 0.009997535, 0.009777865, 0.010001974, 0.010075085, 0.010660641, 0.010266399, 0.010205749, 0.009975164, 0.010272634, 0.010230671, 0.009977519, 0.009717167, 0.010002364, 0.010128649, 0.009794144, 0.009958954, 0.009741167, 0.00987675, 0.009785182, 0.010374993, 0.01045276, 0.010229462, 0.010161299, 0.0103595415, 0.010070162, 0.009953604, 0.009929153, 0.009648602, 0.009953381, 0.010273867, 0.010301131, 0.009740247, 0.010191035, 0.010022165, 0.01006327, 0.009824709, 0.010355872, 0.010014523, 0.009970312, 0.010348023, 0.009940391, 0.010250603, 0.009913374, 0.009946882, 0.009863264, 0.010295331, 0.010336311, 0.010222944, 0.0102835, 0.010590941, 0.010329395, 0.010199974, 0.010782806, 0.009942128, 0.009660952, 0.010037617, 0.010017999, 0.010999808, 0.009664126, 0.009753888, 0.010111923, 0.009981809, 0.0098642865, 0.010977489, 0.010115034, 0.010197979, 0.010209394, 0.010339905, 0.010055792, 0.009740567, 0.009831519, 0.009953387, 0.009705125, 0.0101312185, 0.010741342, 0.009896958, 0.0100401305, 0.009765714, 0.010087097, 0.009990792, 0.010082486, 0.009995976, 0.009983343, 0.009864841, 0.0098265605, 0.009872583, 0.009973426, 0.010393662]\n",
      "2022-02-27 22:11:25,352 : INFO : merging changes from 1204 documents into a model of 3204 documents\n",
      "2022-02-27 22:11:25,359 : INFO : topic #66 (0.010): 0.087*\"cobol\" + 0.075*\"implement\" + 0.066*\"-\" + 0.052*\",\" + 0.047*\"decomposit\" + 0.041*\"base\" + 0.039*\"design\" + 0.031*\"compil\" + 0.025*\"basic\" + 0.025*\"method\"\n",
      "2022-02-27 22:11:25,359 : INFO : topic #70 (0.010): 0.160*\"standard\" + 0.156*\"propos\" + 0.098*\"american\" + 0.066*\"interchang\" + 0.061*\"inform\" + 0.059*\"constant\" + 0.053*\"(\" + 0.051*\"convers\" + 0.050*\"mutual\" + 0.038*\"revis\"\n",
      "2022-02-27 22:11:25,360 : INFO : topic #75 (0.011): 0.153*\"]\" + 0.103*\"page\" + 0.050*\"edg\" + 0.048*\"algorithm\" + 0.032*\"represent\" + 0.030*\",\" + 0.026*\"memori\" + 0.024*\"object\" + 0.023*\"approxim\" + 0.023*\"-\"\n",
      "2022-02-27 22:11:25,360 : INFO : topic #11 (0.011): 0.106*\",\" + 0.024*\"system\" + 0.022*\"-\" + 0.021*\"comput\" + 0.018*\"work\" + 0.017*\"program\" + 0.015*\"model\" + 0.014*\"refer\" + 0.011*\";\" + 0.010*\"process\"\n",
      "2022-02-27 22:11:25,361 : INFO : topic #69 (0.011): 0.096*\",\" + 0.039*\"-\" + 0.038*\"program\" + 0.024*\"comput\" + 0.022*\"system\" + 0.021*\"languag\" + 0.011*\"problem\" + 0.011*\"design\" + 0.010*\"user\" + 0.010*\"paper\"\n",
      "2022-02-27 22:11:25,362 : INFO : topic diff=0.415062, rho=0.526900\n",
      "2022-02-27 22:11:25,371 : INFO : PROGRESS: pass 2, at document #2000/3204\n",
      "2022-02-27 22:11:26,298 : INFO : optimized alpha [0.009797192, 0.009974886, 0.010265549, 0.009958372, 0.010112484, 0.0099064605, 0.009965798, 0.009805345, 0.009865652, 0.009818918, 0.0102016805, 0.010919312, 0.009951042, 0.009735366, 0.009964667, 0.010042826, 0.010560578, 0.01058597, 0.010169987, 0.009948003, 0.010381734, 0.0101582, 0.009935934, 0.009775439, 0.009954212, 0.010108847, 0.009894159, 0.009920553, 0.009701761, 0.009818804, 0.009766405, 0.010418857, 0.010483526, 0.010183062, 0.010127677, 0.010474108, 0.0102234585, 0.009902854, 0.00988604, 0.009676365, 0.009898213, 0.010394787, 0.010405084, 0.009837392, 0.010095397, 0.010110955, 0.010116916, 0.009930988, 0.010372851, 0.010174262, 0.009954421, 0.010337715, 0.00996733, 0.0101953605, 0.009975759, 0.00991733, 0.0098005645, 0.010417796, 0.010335884, 0.010289499, 0.010384, 0.010599572, 0.010342597, 0.010184068, 0.010724945, 0.009945824, 0.009674949, 0.009997086, 0.009956729, 0.010969746, 0.00978698, 0.009745432, 0.010132595, 0.009980629, 0.0099453125, 0.010905296, 0.0101772845, 0.010527542, 0.010240616, 0.010662559, 0.0100077195, 0.009675333, 0.0098504, 0.009902947, 0.009697938, 0.010077687, 0.010718004, 0.0098915165, 0.010029641, 0.009782981, 0.010285286, 0.009903951, 0.010046493, 0.009956969, 0.010154265, 0.009839619, 0.009872827, 0.009885463, 0.009987449, 0.010327265]\n",
      "2022-02-27 22:11:26,305 : INFO : merging changes from 2000 documents into a model of 3204 documents\n",
      "2022-02-27 22:11:26,312 : INFO : topic #39 (0.010): 0.159*\"compil\" + 0.068*\"notat\" + 0.051*\",\" + 0.049*\"languag\" + 0.046*\"version\" + 0.034*\"nest\" + 0.031*\"gener\" + 0.029*\"spars\" + 0.029*\"comput\" + 0.028*\"(\"\n",
      "2022-02-27 22:11:26,312 : INFO : topic #81 (0.010): 0.137*\"preced\" + 0.063*\"boolean\" + 0.052*\"end\" + 0.047*\"grammar\" + 0.039*\"algorithm\" + 0.035*\"function\" + 0.025*\"section\" + 0.024*\"linear\" + 0.024*\"(\" + 0.018*\"matrix\"\n",
      "2022-02-27 22:11:26,313 : INFO : topic #75 (0.011): 0.126*\"]\" + 0.096*\"page\" + 0.047*\"algorithm\" + 0.045*\"edg\" + 0.033*\"represent\" + 0.030*\",\" + 0.028*\"approxim\" + 0.026*\"memori\" + 0.024*\"number\" + 0.022*\"-\"\n",
      "2022-02-27 22:11:26,313 : INFO : topic #69 (0.011): 0.098*\",\" + 0.043*\"-\" + 0.040*\"program\" + 0.026*\"comput\" + 0.024*\"system\" + 0.021*\"languag\" + 0.011*\"user\" + 0.010*\"problem\" + 0.010*\"design\" + 0.009*\"paper\"\n",
      "2022-02-27 22:11:26,314 : INFO : topic #11 (0.011): 0.109*\",\" + 0.024*\"system\" + 0.023*\"-\" + 0.022*\"comput\" + 0.018*\"work\" + 0.017*\"program\" + 0.014*\"model\" + 0.012*\"refer\" + 0.012*\"process\" + 0.011*\"machin\"\n",
      "2022-02-27 22:11:26,315 : INFO : topic diff=0.383875, rho=0.466151\n",
      "2022-02-27 22:11:27,466 : INFO : -6.781 per-word bound, 110.0 perplexity estimate based on a held-out corpus of 1204 documents with 49783 words\n",
      "2022-02-27 22:11:27,467 : INFO : PROGRESS: pass 2, at document #3204/3204\n",
      "2022-02-27 22:11:28,314 : INFO : optimized alpha [0.009846359, 0.010231301, 0.010417375, 0.010145869, 0.010197084, 0.010019962, 0.010080851, 0.009899434, 0.009899739, 0.009910316, 0.0104903085, 0.011177507, 0.010065727, 0.009784474, 0.010101723, 0.010182251, 0.010888461, 0.010837135, 0.010303188, 0.010038365, 0.010596023, 0.010330646, 0.010077, 0.009850026, 0.010030334, 0.0102793155, 0.009937248, 0.01005048, 0.009749037, 0.009875621, 0.009789851, 0.010734612, 0.010779798, 0.010435547, 0.010370955, 0.010690029, 0.010362344, 0.010031205, 0.009981278, 0.009698969, 0.009946418, 0.0105714565, 0.010709867, 0.00994286, 0.010285797, 0.010305367, 0.0103118485, 0.0100079775, 0.010532215, 0.010350911, 0.01006748, 0.010492583, 0.010072716, 0.010362487, 0.010195157, 0.010068511, 0.009842244, 0.010769613, 0.010508456, 0.010537763, 0.0107235685, 0.010939497, 0.010584598, 0.010285726, 0.010989954, 0.010101834, 0.009694818, 0.010156949, 0.0100862775, 0.011167992, 0.009891359, 0.00986189, 0.01035751, 0.010109599, 0.0099794315, 0.011405742, 0.010535816, 0.010658037, 0.010502816, 0.010703738, 0.010178929, 0.009667991, 0.009948551, 0.009989533, 0.009796587, 0.01021938, 0.010975971, 0.010039966, 0.0101214135, 0.009835581, 0.010429511, 0.0100595495, 0.010231985, 0.010082725, 0.01037943, 0.009994214, 0.009966537, 0.009946742, 0.010157513, 0.010577665]\n",
      "2022-02-27 22:11:28,322 : INFO : merging changes from 1204 documents into a model of 3204 documents\n",
      "2022-02-27 22:11:28,328 : INFO : topic #66 (0.010): 0.102*\"cobol\" + 0.081*\"implement\" + 0.062*\"-\" + 0.050*\"decomposit\" + 0.048*\"base\" + 0.046*\",\" + 0.045*\"design\" + 0.033*\"compil\" + 0.028*\"basic\" + 0.027*\"extens\"\n",
      "2022-02-27 22:11:28,329 : INFO : topic #39 (0.010): 0.168*\"compil\" + 0.071*\"notat\" + 0.058*\"version\" + 0.053*\"nest\" + 0.048*\",\" + 0.047*\"spars\" + 0.036*\"languag\" + 0.033*\"gener\" + 0.029*\"(\" + 0.027*\"multi\"\n",
      "2022-02-27 22:11:28,330 : INFO : topic #11 (0.011): 0.113*\",\" + 0.025*\"system\" + 0.024*\"work\" + 0.022*\"-\" + 0.019*\"comput\" + 0.016*\"refer\" + 0.015*\"program\" + 0.014*\"model\" + 0.011*\";\" + 0.011*\"set\"\n",
      "2022-02-27 22:11:28,331 : INFO : topic #69 (0.011): 0.105*\",\" + 0.041*\"program\" + 0.039*\"-\" + 0.026*\"system\" + 0.023*\"comput\" + 0.021*\"languag\" + 0.012*\"design\" + 0.012*\"user\" + 0.011*\"problem\" + 0.009*\"paper\"\n",
      "2022-02-27 22:11:28,331 : INFO : topic #75 (0.011): 0.173*\"]\" + 0.113*\"page\" + 0.056*\"edg\" + 0.049*\"algorithm\" + 0.033*\"represent\" + 0.031*\",\" + 0.024*\"hidden\" + 0.023*\"-\" + 0.021*\"approxim\" + 0.021*\"number\"\n",
      "2022-02-27 22:11:28,332 : INFO : topic diff=0.523280, rho=0.466151\n",
      "2022-02-27 22:11:28,339 : INFO : PROGRESS: pass 3, at document #2000/3204\n",
      "2022-02-27 22:11:29,199 : INFO : optimized alpha [0.009810323, 0.0103775505, 0.010620292, 0.010132456, 0.010185687, 0.010014729, 0.01006471, 0.009979491, 0.0098888995, 0.009915717, 0.0104742935, 0.011164958, 0.010032607, 0.009771924, 0.010082731, 0.010180937, 0.0108129075, 0.011415552, 0.010277086, 0.010020574, 0.010717952, 0.010279774, 0.010051994, 0.009940839, 0.009994003, 0.010295549, 0.010071144, 0.010032774, 0.00971874, 0.009828528, 0.009784469, 0.010804373, 0.0108240275, 0.010393597, 0.0103474045, 0.010815133, 0.010533753, 0.00999378, 0.00997234, 0.009766065, 0.009921127, 0.010700201, 0.010822399, 0.010082471, 0.010198444, 0.0104097845, 0.010408077, 0.010139145, 0.0105626155, 0.01055708, 0.010080838, 0.010502958, 0.010107831, 0.010318487, 0.010309958, 0.010068885, 0.009793318, 0.010917811, 0.010529995, 0.01059946, 0.01085537, 0.010958537, 0.010622049, 0.010275808, 0.010932706, 0.010115399, 0.009714663, 0.010119584, 0.010043813, 0.011146838, 0.010068859, 0.0098707955, 0.010403844, 0.010116889, 0.010070358, 0.011326049, 0.0106153255, 0.010933466, 0.010549765, 0.011043965, 0.010158413, 0.00961762, 0.009980731, 0.00995943, 0.009802599, 0.010159862, 0.010962109, 0.010079327, 0.010136328, 0.009883297, 0.010560774, 0.010004346, 0.010224665, 0.010064576, 0.010585763, 0.009990131, 0.010042622, 0.0099883, 0.010190864, 0.010515378]\n",
      "2022-02-27 22:11:29,206 : INFO : merging changes from 2000 documents into a model of 3204 documents\n",
      "2022-02-27 22:11:29,212 : INFO : topic #81 (0.010): 0.151*\"preced\" + 0.077*\"boolean\" + 0.066*\"end\" + 0.040*\"function\" + 0.039*\"grammar\" + 0.033*\"section\" + 0.031*\"algorithm\" + 0.024*\"linear\" + 0.022*\"relat\" + 0.021*\"matrix\"\n",
      "2022-02-27 22:11:29,213 : INFO : topic #66 (0.010): 0.112*\"cobol\" + 0.075*\"implement\" + 0.064*\"-\" + 0.046*\"base\" + 0.042*\"decomposit\" + 0.041*\"design\" + 0.041*\",\" + 0.037*\"algol\" + 0.034*\"basic\" + 0.034*\"compil\"\n",
      "2022-02-27 22:11:29,214 : INFO : topic #11 (0.011): 0.116*\",\" + 0.024*\"system\" + 0.024*\"work\" + 0.022*\"-\" + 0.020*\"comput\" + 0.016*\"program\" + 0.015*\"refer\" + 0.013*\"model\" + 0.012*\"process\" + 0.012*\"machin\"\n",
      "2022-02-27 22:11:29,214 : INFO : topic #75 (0.011): 0.147*\"]\" + 0.106*\"page\" + 0.050*\"edg\" + 0.047*\"algorithm\" + 0.033*\"represent\" + 0.031*\",\" + 0.024*\"approxim\" + 0.024*\"number\" + 0.022*\"-\" + 0.021*\"hidden\"\n",
      "2022-02-27 22:11:29,215 : INFO : topic #17 (0.011): 0.264*\"(\" + 0.255*\")\" + 0.224*\"algorithm\" + 0.021*\"chebyshev\" + 0.020*\"[\" + 0.018*\"-\" + 0.017*\"move\" + 0.016*\"plot\" + 0.015*\"e2\" + 0.014*\"fit\"\n",
      "2022-02-27 22:11:29,216 : INFO : topic diff=0.531670, rho=0.422502\n",
      "2022-02-27 22:11:30,207 : INFO : -6.702 per-word bound, 104.1 perplexity estimate based on a held-out corpus of 1204 documents with 49783 words\n",
      "2022-02-27 22:11:30,207 : INFO : PROGRESS: pass 3, at document #3204/3204\n",
      "2022-02-27 22:11:31,084 : INFO : optimized alpha [0.009856026, 0.010644069, 0.010765454, 0.010289644, 0.0102813225, 0.010146822, 0.010191191, 0.010100416, 0.00993857, 0.010023799, 0.010747542, 0.0114013385, 0.010162523, 0.009855292, 0.010222067, 0.010340638, 0.0111145, 0.011872787, 0.010413316, 0.010114118, 0.010933679, 0.010437241, 0.010213149, 0.010025893, 0.010057044, 0.010469435, 0.010116871, 0.010151609, 0.009776541, 0.009891642, 0.00984184, 0.011092544, 0.011112442, 0.010643641, 0.010581629, 0.011009211, 0.010660008, 0.0101289125, 0.010069974, 0.009821208, 0.01000817, 0.010853792, 0.011143066, 0.0102136815, 0.010397986, 0.010627987, 0.010605109, 0.010229943, 0.010704241, 0.0107562365, 0.010209247, 0.010659276, 0.01023238, 0.010485769, 0.010570212, 0.010224733, 0.009853283, 0.0112723345, 0.010718104, 0.010849829, 0.011201798, 0.011308136, 0.010870612, 0.010372156, 0.011191036, 0.01026516, 0.009757691, 0.01025855, 0.010155072, 0.01129188, 0.01021638, 0.010001346, 0.010632573, 0.010245596, 0.010104547, 0.011770959, 0.010986489, 0.01106267, 0.010802487, 0.011112689, 0.010318467, 0.009633616, 0.010070114, 0.010045671, 0.009920218, 0.010285817, 0.011171267, 0.010268242, 0.010256602, 0.009942036, 0.010631674, 0.010160662, 0.0104233995, 0.010186723, 0.010853479, 0.010160355, 0.010152772, 0.010072266, 0.010356847, 0.01070735]\n",
      "2022-02-27 22:11:31,091 : INFO : merging changes from 1204 documents into a model of 3204 documents\n",
      "2022-02-27 22:11:31,098 : INFO : topic #81 (0.010): 0.166*\"preced\" + 0.093*\"end\" + 0.068*\"boolean\" + 0.043*\"function\" + 0.042*\"section\" + 0.033*\"grammar\" + 0.028*\"algorithm\" + 0.026*\"relat\" + 0.025*\"exist\" + 0.025*\"linear\"\n",
      "2022-02-27 22:11:31,098 : INFO : topic #66 (0.010): 0.109*\"cobol\" + 0.098*\"implement\" + 0.059*\"-\" + 0.052*\"base\" + 0.051*\"decomposit\" + 0.049*\"design\" + 0.041*\",\" + 0.030*\"procedur\" + 0.030*\"extens\" + 0.029*\"basic\"\n",
      "2022-02-27 22:11:31,099 : INFO : topic #11 (0.011): 0.118*\",\" + 0.031*\"work\" + 0.024*\"system\" + 0.022*\"-\" + 0.019*\"refer\" + 0.018*\"comput\" + 0.014*\"program\" + 0.012*\"set\" + 0.012*\"model\" + 0.011*\";\"\n",
      "2022-02-27 22:11:31,099 : INFO : topic #75 (0.012): 0.189*\"]\" + 0.118*\"page\" + 0.061*\"edg\" + 0.048*\"algorithm\" + 0.030*\",\" + 0.028*\"represent\" + 0.026*\"hidden\" + 0.023*\"-\" + 0.022*\"interv\" + 0.021*\"number\"\n",
      "2022-02-27 22:11:31,100 : INFO : topic #17 (0.012): 0.266*\"(\" + 0.258*\")\" + 0.232*\"algorithm\" + 0.030*\"[\" + 0.022*\"move\" + 0.020*\"-\" + 0.019*\"plot\" + 0.019*\"disciplin\" + 0.016*\"chebyshev\" + 0.013*\"e2\"\n",
      "2022-02-27 22:11:31,101 : INFO : topic diff=0.647962, rho=0.422502\n",
      "2022-02-27 22:11:31,108 : INFO : PROGRESS: pass 4, at document #2000/3204\n",
      "2022-02-27 22:11:31,971 : INFO : optimized alpha [0.009820081, 0.010839009, 0.010959764, 0.010274729, 0.010287284, 0.010143818, 0.010192201, 0.010184693, 0.009935229, 0.010044549, 0.010734838, 0.011392638, 0.010141938, 0.0098634595, 0.010212334, 0.010367119, 0.011042207, 0.012595063, 0.010399311, 0.010114003, 0.011061986, 0.010402201, 0.010219597, 0.010137512, 0.010024464, 0.010487803, 0.010263537, 0.01016101, 0.009760996, 0.009866756, 0.009855019, 0.011171179, 0.0111778155, 0.010605241, 0.010568629, 0.011136408, 0.010830709, 0.0100982515, 0.010064066, 0.009902897, 0.010004866, 0.010984398, 0.011282191, 0.01037001, 0.010322788, 0.010747217, 0.010708664, 0.010368158, 0.010738439, 0.010969364, 0.010247425, 0.010697915, 0.010276808, 0.010442527, 0.010709989, 0.010238583, 0.009816965, 0.011437104, 0.010764655, 0.0109038, 0.011341637, 0.011323298, 0.01090836, 0.010375419, 0.011138412, 0.010293357, 0.009793869, 0.010229941, 0.010128126, 0.011272295, 0.010408751, 0.010019087, 0.010668284, 0.010262296, 0.010206721, 0.011694285, 0.011069513, 0.011335445, 0.010855552, 0.011441279, 0.010305086, 0.009592811, 0.010105879, 0.010024354, 0.009937264, 0.010247394, 0.011157334, 0.010326074, 0.010307001, 0.009990461, 0.010745284, 0.010117493, 0.010419819, 0.0101740435, 0.011069388, 0.010172004, 0.010253236, 0.010130572, 0.010403295, 0.010653361]\n",
      "2022-02-27 22:11:31,977 : INFO : merging changes from 2000 documents into a model of 3204 documents\n",
      "2022-02-27 22:11:31,984 : INFO : topic #81 (0.010): 0.153*\"preced\" + 0.087*\"boolean\" + 0.070*\"end\" + 0.044*\"function\" + 0.037*\"section\" + 0.032*\"grammar\" + 0.028*\"relat\" + 0.024*\"algorithm\" + 0.023*\"linear\" + 0.022*\"exist\"\n",
      "2022-02-27 22:11:31,984 : INFO : topic #28 (0.010): 0.124*\"-\" + 0.100*\"grammar\" + 0.088*\"context\" + 0.064*\"pars\" + 0.056*\"free\" + 0.055*\"parser\" + 0.049*\"algorithm\" + 0.035*\",\" + 0.032*\"structur\" + 0.023*\"phrase\"\n",
      "2022-02-27 22:11:31,985 : INFO : topic #79 (0.011): 0.193*\"[\" + 0.169*\"algorithm\" + 0.147*\"(\" + 0.145*\"])\" + 0.030*\"gener\" + 0.028*\"pictur\" + 0.025*\"permut\" + 0.024*\"g6\" + 0.018*\"method\" + 0.018*\"function\"\n",
      "2022-02-27 22:11:31,986 : INFO : topic #75 (0.012): 0.163*\"]\" + 0.113*\"page\" + 0.055*\"edg\" + 0.047*\"algorithm\" + 0.030*\",\" + 0.029*\"represent\" + 0.024*\"number\" + 0.023*\"hidden\" + 0.023*\"approxim\" + 0.023*\"-\"\n",
      "2022-02-27 22:11:31,986 : INFO : topic #17 (0.013): 0.287*\"(\" + 0.280*\")\" + 0.237*\"algorithm\" + 0.019*\"[\" + 0.017*\"chebyshev\" + 0.016*\"-\" + 0.014*\"move\" + 0.012*\"plot\" + 0.011*\"e2\" + 0.011*\"fit\"\n",
      "2022-02-27 22:11:31,988 : INFO : topic diff=0.626167, rho=0.389191\n",
      "2022-02-27 22:11:32,995 : INFO : -6.647 per-word bound, 100.2 perplexity estimate based on a held-out corpus of 1204 documents with 49783 words\n",
      "2022-02-27 22:11:32,996 : INFO : PROGRESS: pass 4, at document #3204/3204\n",
      "2022-02-27 22:11:33,844 : INFO : optimized alpha [0.009876037, 0.011121632, 0.011090318, 0.010407419, 0.010376387, 0.010289775, 0.010343042, 0.010306696, 0.009968812, 0.010151357, 0.010990227, 0.011620109, 0.0102892425, 0.009947478, 0.010358566, 0.010538999, 0.011327507, 0.013169974, 0.010532776, 0.010217434, 0.011266982, 0.010558738, 0.01037978, 0.010222547, 0.010083604, 0.010683517, 0.010308484, 0.010284613, 0.009831214, 0.009945288, 0.009918315, 0.011452508, 0.011469915, 0.01085948, 0.01079056, 0.011328036, 0.010940229, 0.010237121, 0.010167957, 0.009976239, 0.010141292, 0.011119717, 0.0116140805, 0.010521927, 0.010525393, 0.010978846, 0.010902683, 0.0104684075, 0.010883826, 0.01117678, 0.01038674, 0.010857266, 0.010395836, 0.010614927, 0.011003762, 0.010396879, 0.009886091, 0.011783798, 0.010985708, 0.011130829, 0.011687794, 0.011674659, 0.011101225, 0.010471553, 0.01141218, 0.010435895, 0.009862665, 0.010382436, 0.010244933, 0.011384494, 0.010569278, 0.010166259, 0.010895802, 0.010392126, 0.010254544, 0.012097666, 0.011428161, 0.011465077, 0.011106072, 0.01153123, 0.010467269, 0.0096185515, 0.010185544, 0.010108113, 0.010062673, 0.010364386, 0.011359501, 0.010552432, 0.010432367, 0.010058142, 0.010817494, 0.01027929, 0.010601323, 0.010304203, 0.011350774, 0.010360552, 0.010355202, 0.010238078, 0.010581105, 0.010824732]\n",
      "2022-02-27 22:11:33,851 : INFO : merging changes from 1204 documents into a model of 3204 documents\n",
      "2022-02-27 22:11:33,858 : INFO : topic #81 (0.010): 0.164*\"preced\" + 0.095*\"end\" + 0.074*\"boolean\" + 0.047*\"section\" + 0.045*\"function\" + 0.033*\"relat\" + 0.030*\"exist\" + 0.027*\"grammar\" + 0.025*\"advantag\" + 0.025*\"shown\"\n",
      "2022-02-27 22:11:33,859 : INFO : topic #66 (0.010): 0.115*\"implement\" + 0.112*\"cobol\" + 0.061*\"base\" + 0.055*\"-\" + 0.054*\"design\" + 0.051*\"decomposit\" + 0.038*\",\" + 0.033*\"procedur\" + 0.031*\"extens\" + 0.028*\"basic\"\n",
      "2022-02-27 22:11:33,860 : INFO : topic #57 (0.012): 0.107*\"function\" + 0.103*\"deriv\" + 0.074*\",\" + 0.065*\"algebra\" + 0.060*\"express\" + 0.056*\"evalu\" + 0.031*\"variabl\" + 0.026*\"simpl\" + 0.025*\"analyt\" + 0.023*\"oper\"\n",
      "2022-02-27 22:11:33,861 : INFO : topic #75 (0.012): 0.201*\"]\" + 0.119*\"page\" + 0.065*\"edg\" + 0.049*\"algorithm\" + 0.029*\",\" + 0.027*\"hidden\" + 0.024*\"interv\" + 0.024*\"-\" + 0.021*\"number\" + 0.021*\"represent\"\n",
      "2022-02-27 22:11:33,862 : INFO : topic #17 (0.013): 0.286*\"(\" + 0.282*\")\" + 0.241*\"algorithm\" + 0.023*\"[\" + 0.018*\"-\" + 0.017*\"move\" + 0.016*\"plot\" + 0.016*\"disciplin\" + 0.014*\"chebyshev\" + 0.011*\"e2\"\n",
      "2022-02-27 22:11:33,862 : INFO : topic diff=0.688929, rho=0.389191\n",
      "2022-02-27 22:11:33,873 : INFO : PROGRESS: pass 5, at document #2000/3204\n",
      "2022-02-27 22:11:34,735 : INFO : optimized alpha [0.009841587, 0.011333693, 0.011284353, 0.010385783, 0.010384198, 0.0103016915, 0.010366313, 0.010397211, 0.009970208, 0.010180148, 0.010984762, 0.0116279125, 0.010277258, 0.009971673, 0.010354805, 0.010580621, 0.011259948, 0.014037724, 0.010519542, 0.010221259, 0.011387794, 0.010529497, 0.010392952, 0.010329669, 0.010063283, 0.010707693, 0.010456535, 0.010308444, 0.009824384, 0.009928008, 0.009951172, 0.011537887, 0.011553012, 0.010827833, 0.010775274, 0.011460415, 0.011103845, 0.010212122, 0.010173667, 0.01006588, 0.010145427, 0.011253003, 0.011755778, 0.010685269, 0.010458209, 0.011106898, 0.011005808, 0.0106027685, 0.010921477, 0.011392176, 0.0104315905, 0.010891099, 0.010439163, 0.010587686, 0.011149886, 0.010413213, 0.0098602455, 0.011952435, 0.011048891, 0.011184664, 0.011825999, 0.011699351, 0.01113794, 0.010486336, 0.011371422, 0.010467811, 0.009896803, 0.010366619, 0.01023486, 0.01136858, 0.010767485, 0.010189915, 0.010946374, 0.010420916, 0.010360139, 0.012021687, 0.011513225, 0.011737465, 0.011169011, 0.01191344, 0.010467629, 0.009587164, 0.010226722, 0.010092385, 0.0100894375, 0.010326865, 0.0113561805, 0.010627189, 0.010489242, 0.010120368, 0.010922177, 0.010246106, 0.010595284, 0.01029411, 0.01157972, 0.0103859035, 0.0104537755, 0.010296482, 0.010649017, 0.010775898]\n",
      "2022-02-27 22:11:34,745 : INFO : merging changes from 2000 documents into a model of 3204 documents\n",
      "2022-02-27 22:11:34,752 : INFO : topic #81 (0.010): 0.154*\"preced\" + 0.091*\"boolean\" + 0.074*\"end\" + 0.047*\"function\" + 0.043*\"section\" + 0.035*\"relat\" + 0.026*\"exist\" + 0.026*\"grammar\" + 0.025*\"advantag\" + 0.023*\"shown\"\n",
      "2022-02-27 22:11:34,753 : INFO : topic #28 (0.010): 0.132*\"-\" + 0.105*\"grammar\" + 0.094*\"context\" + 0.068*\"free\" + 0.065*\"pars\" + 0.054*\"parser\" + 0.050*\"algorithm\" + 0.037*\",\" + 0.030*\"structur\" + 0.022*\"phrase\"\n",
      "2022-02-27 22:11:34,753 : INFO : topic #79 (0.012): 0.215*\"[\" + 0.173*\"algorithm\" + 0.157*\"])\" + 0.151*\"(\" + 0.028*\"gener\" + 0.027*\"pictur\" + 0.023*\"g6\" + 0.022*\"permut\" + 0.017*\"-\" + 0.017*\"function\"\n",
      "2022-02-27 22:11:34,754 : INFO : topic #75 (0.012): 0.176*\"]\" + 0.114*\"page\" + 0.059*\"edg\" + 0.048*\"algorithm\" + 0.030*\",\" + 0.025*\"continu\" + 0.025*\"number\" + 0.024*\"hidden\" + 0.023*\"represent\" + 0.023*\"-\"\n",
      "2022-02-27 22:11:34,755 : INFO : topic #17 (0.014): 0.300*\"(\" + 0.298*\")\" + 0.241*\"algorithm\" + 0.016*\"-\" + 0.015*\"[\" + 0.014*\"chebyshev\" + 0.012*\"move\" + 0.011*\"plot\" + 0.010*\"e2\" + 0.010*\"disciplin\"\n",
      "2022-02-27 22:11:34,755 : INFO : topic diff=0.629178, rho=0.362690\n",
      "2022-02-27 22:11:35,800 : INFO : -6.606 per-word bound, 97.4 perplexity estimate based on a held-out corpus of 1204 documents with 49783 words\n",
      "2022-02-27 22:11:35,800 : INFO : PROGRESS: pass 5, at document #3204/3204\n",
      "2022-02-27 22:11:36,692 : INFO : optimized alpha [0.009903786, 0.011599925, 0.011426677, 0.010491621, 0.010499765, 0.010451542, 0.01052392, 0.010527465, 0.010014553, 0.010298934, 0.011219318, 0.011852984, 0.010459542, 0.010068761, 0.010514373, 0.010764985, 0.011543262, 0.014736623, 0.01064817, 0.010312182, 0.0115881795, 0.010682963, 0.010562597, 0.010415271, 0.010134636, 0.010888895, 0.010510663, 0.010427918, 0.009908555, 0.010017146, 0.010022884, 0.011818778, 0.011833757, 0.01108771, 0.010994413, 0.011654982, 0.011202662, 0.010342798, 0.010274359, 0.010146683, 0.010295251, 0.01136621, 0.012069006, 0.01084438, 0.010645866, 0.011326271, 0.01119227, 0.010696382, 0.011051368, 0.011626503, 0.01058465, 0.01104443, 0.010560218, 0.01074034, 0.011433533, 0.010574821, 0.009952646, 0.012309232, 0.011274771, 0.011402277, 0.0121568395, 0.012055412, 0.011295809, 0.010589375, 0.011629821, 0.010605052, 0.009967517, 0.010522643, 0.010354198, 0.01147789, 0.010931594, 0.010334491, 0.011168191, 0.010552495, 0.010420354, 0.012393761, 0.011852545, 0.011861397, 0.011423224, 0.012009487, 0.01062334, 0.009626864, 0.01030447, 0.010168194, 0.010225694, 0.0104369195, 0.011553609, 0.010876989, 0.010610334, 0.010193064, 0.010996041, 0.01040471, 0.010782321, 0.010438486, 0.0118518835, 0.010601893, 0.010539863, 0.010406751, 0.010822781, 0.010933857]\n",
      "2022-02-27 22:11:36,698 : INFO : merging changes from 1204 documents into a model of 3204 documents\n",
      "2022-02-27 22:11:36,705 : INFO : topic #81 (0.010): 0.161*\"preced\" + 0.096*\"end\" + 0.076*\"boolean\" + 0.052*\"section\" + 0.048*\"function\" + 0.045*\"relat\" + 0.034*\"exist\" + 0.030*\"consid\" + 0.027*\"advantag\" + 0.025*\"shown\"\n",
      "2022-02-27 22:11:36,706 : INFO : topic #28 (0.010): 0.134*\"-\" + 0.111*\"grammar\" + 0.099*\"context\" + 0.073*\"free\" + 0.062*\"pars\" + 0.061*\"parser\" + 0.055*\"algorithm\" + 0.040*\",\" + 0.025*\"structur\" + 0.022*\"gener\"\n",
      "2022-02-27 22:11:36,706 : INFO : topic #57 (0.012): 0.116*\"function\" + 0.105*\"deriv\" + 0.077*\",\" + 0.069*\"algebra\" + 0.062*\"express\" + 0.055*\"evalu\" + 0.032*\"variabl\" + 0.027*\"simpl\" + 0.026*\"analyt\" + 0.023*\"oper\"\n",
      "2022-02-27 22:11:36,707 : INFO : topic #75 (0.012): 0.209*\"]\" + 0.118*\"page\" + 0.067*\"edg\" + 0.050*\"algorithm\" + 0.028*\",\" + 0.028*\"hidden\" + 0.027*\"interv\" + 0.023*\"-\" + 0.023*\"continu\" + 0.022*\"number\"\n",
      "2022-02-27 22:11:36,707 : INFO : topic #17 (0.015): 0.297*\"(\" + 0.297*\")\" + 0.244*\"algorithm\" + 0.018*\"[\" + 0.017*\"-\" + 0.015*\"disciplin\" + 0.014*\"plot\" + 0.013*\"move\" + 0.012*\"chebyshev\" + 0.010*\"e2\"\n",
      "2022-02-27 22:11:36,708 : INFO : topic diff=0.650330, rho=0.362690\n",
      "2022-02-27 22:11:36,716 : INFO : PROGRESS: pass 6, at document #2000/3204\n",
      "2022-02-27 22:11:37,623 : INFO : optimized alpha [0.009877195, 0.01181601, 0.011612172, 0.010466101, 0.010536061, 0.010476797, 0.010549236, 0.010624032, 0.010011325, 0.01033316, 0.011212894, 0.0118754795, 0.010451187, 0.010108906, 0.010519378, 0.010816657, 0.011485282, 0.015674166, 0.010642851, 0.010321385, 0.011718906, 0.010660571, 0.0105872145, 0.010511742, 0.010119485, 0.010913066, 0.010664444, 0.010452166, 0.00990243, 0.010008102, 0.010054232, 0.011904962, 0.011911687, 0.011065607, 0.010988287, 0.011804805, 0.011358644, 0.0103245815, 0.010292232, 0.010238823, 0.010316415, 0.011483483, 0.012212079, 0.011017241, 0.010583814, 0.011457669, 0.011301537, 0.010837045, 0.011086867, 0.011843675, 0.010643214, 0.011081863, 0.010606542, 0.010712551, 0.011584637, 0.0105988765, 0.009935486, 0.01247661, 0.011337828, 0.011448571, 0.0123024685, 0.012091066, 0.011345782, 0.010607008, 0.01159792, 0.010642393, 0.010001766, 0.01052719, 0.010357134, 0.011473261, 0.011129287, 0.010361888, 0.0112190675, 0.0105813965, 0.01052424, 0.012316426, 0.011946407, 0.012118933, 0.011489799, 0.012406958, 0.010626977, 0.0096065495, 0.010363006, 0.0101573635, 0.010257817, 0.010407255, 0.011549606, 0.010950978, 0.01068636, 0.010259185, 0.011102791, 0.010380183, 0.010783396, 0.010432272, 0.012080687, 0.01062875, 0.010639027, 0.010470866, 0.010894171, 0.010891369]\n",
      "2022-02-27 22:11:37,629 : INFO : merging changes from 2000 documents into a model of 3204 documents\n",
      "2022-02-27 22:11:37,637 : INFO : topic #81 (0.010): 0.151*\"preced\" + 0.091*\"boolean\" + 0.076*\"end\" + 0.049*\"function\" + 0.048*\"relat\" + 0.047*\"section\" + 0.030*\"exist\" + 0.028*\"advantag\" + 0.026*\"consid\" + 0.023*\"shown\"\n",
      "2022-02-27 22:11:37,637 : INFO : topic #0 (0.010): 0.137*\"network\" + 0.092*\"model\" + 0.066*\"simul\" + 0.044*\",\" + 0.035*\"onlin\" + 0.032*\"comput\" + 0.031*\"behavior\" + 0.030*\"program\" + 0.024*\"applic\" + 0.021*\"-\"\n",
      "2022-02-27 22:11:37,638 : INFO : topic #79 (0.012): 0.231*\"[\" + 0.173*\"algorithm\" + 0.167*\"])\" + 0.156*\"(\" + 0.026*\"gener\" + 0.026*\"pictur\" + 0.023*\"g6\" + 0.019*\"permut\" + 0.016*\"function\" + 0.016*\"-\"\n",
      "2022-02-27 22:11:37,638 : INFO : topic #57 (0.012): 0.120*\"function\" + 0.103*\"deriv\" + 0.078*\",\" + 0.070*\"algebra\" + 0.063*\"evalu\" + 0.058*\"express\" + 0.033*\"variabl\" + 0.024*\"simpl\" + 0.023*\"analyt\" + 0.022*\"oper\"\n",
      "2022-02-27 22:11:37,639 : INFO : topic #17 (0.016): 0.308*\")\" + 0.308*\"(\" + 0.244*\"algorithm\" + 0.015*\"-\" + 0.013*\"chebyshev\" + 0.012*\"[\" + 0.010*\"plot\" + 0.010*\"disciplin\" + 0.009*\"move\" + 0.009*\"e2\"\n",
      "2022-02-27 22:11:37,640 : INFO : topic diff=0.575903, rho=0.340958\n",
      "2022-02-27 22:11:38,691 : INFO : -6.574 per-word bound, 95.3 perplexity estimate based on a held-out corpus of 1204 documents with 49783 words\n",
      "2022-02-27 22:11:38,691 : INFO : PROGRESS: pass 6, at document #3204/3204\n",
      "2022-02-27 22:11:39,547 : INFO : optimized alpha [0.009945069, 0.012088227, 0.011753204, 0.010563665, 0.010688027, 0.010628135, 0.0107080005, 0.010759474, 0.010059599, 0.010439888, 0.011439442, 0.01208951, 0.010633418, 0.010215348, 0.010673913, 0.010998078, 0.011775138, 0.016429799, 0.010767945, 0.010422378, 0.011922968, 0.010809395, 0.01075166, 0.010592526, 0.010201769, 0.011091614, 0.010742401, 0.010562346, 0.009982417, 0.010104208, 0.010133728, 0.012194061, 0.012183395, 0.011342062, 0.011206512, 0.011993239, 0.011451555, 0.01044571, 0.010387675, 0.010335526, 0.010473437, 0.011593673, 0.012534081, 0.011184111, 0.0107621085, 0.011670111, 0.011475818, 0.010931366, 0.011206899, 0.012088277, 0.010800638, 0.01123362, 0.010721231, 0.010857151, 0.011886736, 0.010749323, 0.010031806, 0.012831494, 0.011559976, 0.011658978, 0.012610304, 0.012436561, 0.011501991, 0.010719752, 0.011880648, 0.010781655, 0.010074575, 0.010687361, 0.010482297, 0.011580369, 0.011297764, 0.010516822, 0.011446602, 0.010715327, 0.010589724, 0.012668543, 0.012279855, 0.012242141, 0.011732826, 0.012537245, 0.01077484, 0.0096557895, 0.01045433, 0.0102293715, 0.010401689, 0.010502754, 0.011733766, 0.011221072, 0.0108196745, 0.010339598, 0.011175447, 0.010527887, 0.010964252, 0.010569335, 0.012359412, 0.010837921, 0.010723312, 0.010581287, 0.01107467, 0.01103823]\n",
      "2022-02-27 22:11:39,555 : INFO : merging changes from 1204 documents into a model of 3204 documents\n",
      "2022-02-27 22:11:39,562 : INFO : topic #81 (0.010): 0.156*\"preced\" + 0.095*\"end\" + 0.076*\"boolean\" + 0.057*\"relat\" + 0.054*\"section\" + 0.049*\"function\" + 0.037*\"exist\" + 0.033*\"consid\" + 0.030*\"autom\" + 0.029*\"advantag\"\n",
      "2022-02-27 22:11:39,563 : INFO : topic #0 (0.010): 0.140*\"network\" + 0.116*\"model\" + 0.069*\"simul\" + 0.045*\",\" + 0.038*\"behavior\" + 0.033*\"comput\" + 0.027*\"program\" + 0.025*\"onlin\" + 0.025*\"applic\" + 0.023*\"densiti\"\n",
      "2022-02-27 22:11:39,563 : INFO : topic #75 (0.013): 0.215*\"]\" + 0.117*\"page\" + 0.069*\"edg\" + 0.051*\"algorithm\" + 0.029*\"hidden\" + 0.029*\"interv\" + 0.027*\",\" + 0.025*\"continu\" + 0.023*\"-\" + 0.022*\"number\"\n",
      "2022-02-27 22:11:39,564 : INFO : topic #57 (0.013): 0.122*\"function\" + 0.107*\"deriv\" + 0.079*\",\" + 0.072*\"algebra\" + 0.061*\"express\" + 0.055*\"evalu\" + 0.033*\"variabl\" + 0.028*\"simpl\" + 0.027*\"analyt\" + 0.023*\"oper\"\n",
      "2022-02-27 22:11:39,564 : INFO : topic #17 (0.016): 0.309*\")\" + 0.306*\"(\" + 0.246*\"algorithm\" + 0.016*\"-\" + 0.014*\"disciplin\" + 0.013*\"plot\" + 0.012*\"[\" + 0.012*\"chebyshev\" + 0.009*\"move\" + 0.009*\"e2\"\n",
      "2022-02-27 22:11:39,565 : INFO : topic diff=0.582372, rho=0.340958\n",
      "2022-02-27 22:11:39,573 : INFO : PROGRESS: pass 7, at document #2000/3204\n",
      "2022-02-27 22:11:40,515 : INFO : optimized alpha [0.009930115, 0.012307178, 0.011929675, 0.010541495, 0.01073285, 0.010658716, 0.010740489, 0.01085184, 0.010058778, 0.010472483, 0.011437794, 0.012112208, 0.010635235, 0.010271745, 0.010686956, 0.011054046, 0.011718098, 0.017452367, 0.0107559245, 0.0104346, 0.012055795, 0.010787898, 0.010776462, 0.010688144, 0.010191194, 0.011114002, 0.010893614, 0.01058543, 0.009981781, 0.010099068, 0.010176962, 0.01228745, 0.012268842, 0.01132309, 0.011206976, 0.0121448785, 0.011604881, 0.010436851, 0.010416625, 0.0104286205, 0.01050341, 0.011698314, 0.0126934135, 0.011354346, 0.010708, 0.011803365, 0.011583976, 0.011080467, 0.011244245, 0.012310382, 0.010859717, 0.011274511, 0.010767061, 0.010834099, 0.01203969, 0.0107754385, 0.010023888, 0.012989944, 0.011627013, 0.011696731, 0.012757971, 0.012472775, 0.011555074, 0.010743532, 0.01184847, 0.010822265, 0.010115543, 0.010696453, 0.010500317, 0.011581946, 0.011490472, 0.010551005, 0.011494408, 0.01074967, 0.010702701, 0.012583882, 0.012368612, 0.01250062, 0.011814638, 0.012944316, 0.010779808, 0.0096450625, 0.010525607, 0.010222916, 0.0104337465, 0.010476758, 0.011727481, 0.011298229, 0.010899478, 0.0104129305, 0.011279262, 0.01050778, 0.010969998, 0.010566709, 0.012587267, 0.010871498, 0.01082353, 0.010644165, 0.011144242, 0.010997794]\n",
      "2022-02-27 22:11:40,523 : INFO : merging changes from 2000 documents into a model of 3204 documents\n",
      "2022-02-27 22:11:40,531 : INFO : topic #81 (0.010): 0.146*\"preced\" + 0.088*\"boolean\" + 0.077*\"end\" + 0.059*\"relat\" + 0.050*\"function\" + 0.050*\"section\" + 0.033*\"exist\" + 0.032*\"autom\" + 0.029*\"consid\" + 0.029*\"advantag\"\n",
      "2022-02-27 22:11:40,531 : INFO : topic #0 (0.010): 0.140*\"network\" + 0.111*\"model\" + 0.065*\"simul\" + 0.045*\",\" + 0.034*\"behavior\" + 0.032*\"onlin\" + 0.032*\"comput\" + 0.027*\"program\" + 0.023*\"applic\" + 0.021*\"traffic\"\n",
      "2022-02-27 22:11:40,532 : INFO : topic #79 (0.013): 0.245*\"[\" + 0.175*\"algorithm\" + 0.174*\"])\" + 0.158*\"(\" + 0.024*\"pictur\" + 0.023*\"gener\" + 0.023*\"g6\" + 0.016*\"function\" + 0.016*\"permut\" + 0.016*\"-\"\n",
      "2022-02-27 22:11:40,532 : INFO : topic #57 (0.013): 0.126*\"function\" + 0.106*\"deriv\" + 0.079*\",\" + 0.073*\"algebra\" + 0.062*\"evalu\" + 0.057*\"express\" + 0.033*\"variabl\" + 0.025*\"simpl\" + 0.024*\"analyt\" + 0.022*\"oper\"\n",
      "2022-02-27 22:11:40,533 : INFO : topic #17 (0.017): 0.317*\")\" + 0.314*\"(\" + 0.247*\"algorithm\" + 0.015*\"-\" + 0.012*\"chebyshev\" + 0.010*\"disciplin\" + 0.010*\"plot\" + 0.009*\"[\" + 0.009*\"e2\" + 0.008*\"evalu\"\n",
      "2022-02-27 22:11:40,534 : INFO : topic diff=0.508880, rho=0.322715\n",
      "2022-02-27 22:11:41,641 : INFO : -6.551 per-word bound, 93.8 perplexity estimate based on a held-out corpus of 1204 documents with 49783 words\n",
      "2022-02-27 22:11:41,641 : INFO : PROGRESS: pass 7, at document #3204/3204\n",
      "2022-02-27 22:11:42,533 : INFO : optimized alpha [0.0100112455, 0.012586606, 0.012063852, 0.010626162, 0.010910313, 0.0108208805, 0.010904153, 0.010978178, 0.010118811, 0.010574385, 0.011654886, 0.012313912, 0.010838645, 0.010389988, 0.010834652, 0.011221771, 0.011996472, 0.018260635, 0.0108900415, 0.010539588, 0.012254603, 0.010929999, 0.010942575, 0.010762038, 0.010278122, 0.011290805, 0.010973581, 0.010690543, 0.0100636855, 0.0101990495, 0.010244553, 0.012579536, 0.01254038, 0.011585841, 0.011431276, 0.012318482, 0.01168971, 0.010561021, 0.010516118, 0.0105347335, 0.01066765, 0.011803181, 0.013015519, 0.011535533, 0.010884268, 0.012013574, 0.011744543, 0.011169942, 0.011355709, 0.012553028, 0.011016197, 0.011419558, 0.010896632, 0.010969118, 0.012348424, 0.010930912, 0.010124032, 0.013358418, 0.011856008, 0.011888897, 0.01306923, 0.012813543, 0.011694578, 0.010868532, 0.012123224, 0.010958347, 0.01019867, 0.010863958, 0.010642693, 0.011690737, 0.011654799, 0.01069634, 0.011716086, 0.010880534, 0.010770405, 0.012915256, 0.012711231, 0.012623703, 0.012067475, 0.013084092, 0.010924007, 0.009695021, 0.010623903, 0.01029182, 0.010582581, 0.010556656, 0.011897314, 0.011583238, 0.011033047, 0.01049237, 0.011357299, 0.010660319, 0.011140081, 0.010711962, 0.012846551, 0.01108109, 0.0109094875, 0.010755165, 0.011323059, 0.011138041]\n",
      "2022-02-27 22:11:42,540 : INFO : merging changes from 1204 documents into a model of 3204 documents\n",
      "2022-02-27 22:11:42,546 : INFO : topic #81 (0.010): 0.153*\"preced\" + 0.094*\"end\" + 0.075*\"boolean\" + 0.067*\"relat\" + 0.056*\"section\" + 0.049*\"function\" + 0.039*\"exist\" + 0.035*\"autom\" + 0.034*\"consid\" + 0.029*\"advantag\"\n",
      "2022-02-27 22:11:42,547 : INFO : topic #0 (0.010): 0.148*\"network\" + 0.133*\"model\" + 0.067*\"simul\" + 0.046*\",\" + 0.040*\"behavior\" + 0.032*\"comput\" + 0.023*\"program\" + 0.023*\"applic\" + 0.023*\"densiti\" + 0.023*\"onlin\"\n",
      "2022-02-27 22:11:42,547 : INFO : topic #79 (0.013): 0.267*\"[\" + 0.171*\"algorithm\" + 0.150*\"(\" + 0.142*\"])\" + 0.035*\"pictur\" + 0.024*\"gener\" + 0.024*\"g6\" + 0.018*\"normal\" + 0.018*\"due\" + 0.017*\"function\"\n",
      "2022-02-27 22:11:42,548 : INFO : topic #57 (0.013): 0.129*\"function\" + 0.110*\"deriv\" + 0.080*\",\" + 0.074*\"algebra\" + 0.060*\"express\" + 0.055*\"evalu\" + 0.034*\"variabl\" + 0.030*\"simpl\" + 0.026*\"analyt\" + 0.023*\"oper\"\n",
      "2022-02-27 22:11:42,549 : INFO : topic #17 (0.018): 0.317*\")\" + 0.313*\"(\" + 0.247*\"algorithm\" + 0.016*\"-\" + 0.014*\"disciplin\" + 0.013*\"plot\" + 0.011*\"chebyshev\" + 0.009*\"e2\" + 0.008*\"[\" + 0.007*\"evalu\"\n",
      "2022-02-27 22:11:42,549 : INFO : topic diff=0.510494, rho=0.322715\n",
      "2022-02-27 22:11:42,557 : INFO : PROGRESS: pass 8, at document #2000/3204\n",
      "2022-02-27 22:11:43,549 : INFO : optimized alpha [0.010005015, 0.012801611, 0.012225078, 0.010605453, 0.010963059, 0.010856563, 0.010936663, 0.011075378, 0.010126365, 0.010612229, 0.011654235, 0.012344542, 0.010839504, 0.010464935, 0.010850293, 0.011276952, 0.011940259, 0.019364683, 0.010876723, 0.01055294, 0.012386366, 0.010911028, 0.010971004, 0.010852323, 0.010271431, 0.011318674, 0.011122951, 0.010722566, 0.010068054, 0.010197444, 0.010283114, 0.012672448, 0.012639082, 0.011573256, 0.011430753, 0.012472443, 0.011842903, 0.01055091, 0.01054553, 0.010632372, 0.010709175, 0.011911147, 0.013181392, 0.01170213, 0.010827051, 0.012151111, 0.011848463, 0.011322442, 0.011391525, 0.01277687, 0.011081211, 0.011453314, 0.010945394, 0.01094706, 0.012501963, 0.010959034, 0.010124428, 0.013521325, 0.011932732, 0.011926314, 0.013231311, 0.012856467, 0.011758008, 0.010896186, 0.012102144, 0.010998843, 0.0102474615, 0.01087391, 0.010686015, 0.011723558, 0.01183995, 0.010732162, 0.01177391, 0.010920078, 0.010887444, 0.012831897, 0.012801457, 0.01287829, 0.012147303, 0.01349442, 0.0109301945, 0.009688389, 0.010707116, 0.010287708, 0.010614652, 0.0105291195, 0.011887111, 0.011663737, 0.01112357, 0.010561154, 0.011455338, 0.010642556, 0.011150329, 0.010715841, 0.013070084, 0.011121395, 0.011014451, 0.010823683, 0.011398179, 0.011108029]\n",
      "2022-02-27 22:11:43,556 : INFO : merging changes from 2000 documents into a model of 3204 documents\n",
      "2022-02-27 22:11:43,563 : INFO : topic #81 (0.010): 0.145*\"preced\" + 0.087*\"boolean\" + 0.078*\"end\" + 0.068*\"relat\" + 0.052*\"section\" + 0.050*\"function\" + 0.037*\"autom\" + 0.035*\"exist\" + 0.031*\"consid\" + 0.031*\"advantag\"\n",
      "2022-02-27 22:11:43,564 : INFO : topic #0 (0.010): 0.149*\"network\" + 0.128*\"model\" + 0.064*\"simul\" + 0.046*\",\" + 0.037*\"behavior\" + 0.030*\"comput\" + 0.029*\"onlin\" + 0.024*\"program\" + 0.021*\"traffic\" + 0.021*\"transit\"\n",
      "2022-02-27 22:11:43,565 : INFO : topic #79 (0.013): 0.255*\"[\" + 0.178*\"])\" + 0.176*\"algorithm\" + 0.161*\"(\" + 0.023*\"pictur\" + 0.022*\"g6\" + 0.021*\"gener\" + 0.017*\"function\" + 0.015*\"-\" + 0.015*\"normal\"\n",
      "2022-02-27 22:11:43,566 : INFO : topic #57 (0.014): 0.133*\"function\" + 0.109*\"deriv\" + 0.081*\",\" + 0.075*\"algebra\" + 0.061*\"evalu\" + 0.056*\"express\" + 0.033*\"variabl\" + 0.027*\"simpl\" + 0.024*\"analyt\" + 0.022*\"oper\"\n",
      "2022-02-27 22:11:43,567 : INFO : topic #17 (0.019): 0.324*\")\" + 0.321*\"(\" + 0.246*\"algorithm\" + 0.015*\"-\" + 0.012*\"chebyshev\" + 0.010*\"disciplin\" + 0.010*\"plot\" + 0.008*\"e2\" + 0.008*\"evalu\" + 0.006*\"curv\"\n",
      "2022-02-27 22:11:43,567 : INFO : topic diff=0.443479, rho=0.307119\n",
      "2022-02-27 22:11:44,671 : INFO : -6.530 per-word bound, 92.4 perplexity estimate based on a held-out corpus of 1204 documents with 49783 words\n",
      "2022-02-27 22:11:44,672 : INFO : PROGRESS: pass 8, at document #3204/3204\n",
      "2022-02-27 22:11:45,650 : INFO : optimized alpha [0.010095992, 0.013076196, 0.012356473, 0.010686871, 0.011159539, 0.011015467, 0.011108387, 0.01119942, 0.010181517, 0.0107154455, 0.0118633285, 0.012535369, 0.0110550625, 0.010594543, 0.011000653, 0.011441224, 0.0122088455, 0.020239556, 0.01101108, 0.010648297, 0.012581084, 0.01105596, 0.011139209, 0.010922907, 0.01036292, 0.011500434, 0.011213602, 0.0108177755, 0.010146748, 0.010298751, 0.010350675, 0.012968451, 0.012917865, 0.011821301, 0.011644145, 0.012639202, 0.0119235255, 0.010678316, 0.01064908, 0.01074224, 0.0108838035, 0.012005239, 0.013518393, 0.011873821, 0.0110076405, 0.012363127, 0.012014873, 0.011413563, 0.0114955185, 0.0130251, 0.011254514, 0.011598355, 0.011075422, 0.011065383, 0.012795889, 0.011122752, 0.010225879, 0.01388761, 0.012157148, 0.012105016, 0.013560936, 0.013193818, 0.011897771, 0.011027357, 0.012370554, 0.011132336, 0.010348386, 0.011035133, 0.01083667, 0.011834013, 0.012006921, 0.010874565, 0.011990913, 0.011059914, 0.010962995, 0.013148366, 0.013131559, 0.012988578, 0.012394904, 0.013633914, 0.0110659115, 0.009739147, 0.010804009, 0.0103539955, 0.010757792, 0.01061678, 0.012044201, 0.011943671, 0.011266581, 0.010648108, 0.011538628, 0.010791934, 0.011319746, 0.010863849, 0.013331638, 0.011340992, 0.011090959, 0.010927385, 0.011570358, 0.011248383]\n",
      "2022-02-27 22:11:45,661 : INFO : merging changes from 1204 documents into a model of 3204 documents\n",
      "2022-02-27 22:11:45,671 : INFO : topic #81 (0.010): 0.151*\"preced\" + 0.094*\"end\" + 0.075*\"boolean\" + 0.071*\"relat\" + 0.056*\"section\" + 0.051*\"function\" + 0.041*\"exist\" + 0.039*\"autom\" + 0.036*\"consid\" + 0.030*\"advantag\"\n",
      "2022-02-27 22:11:45,672 : INFO : topic #0 (0.010): 0.158*\"model\" + 0.157*\"network\" + 0.065*\"simul\" + 0.047*\",\" + 0.041*\"behavior\" + 0.030*\"comput\" + 0.022*\"densiti\" + 0.021*\"onlin\" + 0.021*\"transit\" + 0.020*\"program\"\n",
      "2022-02-27 22:11:45,673 : INFO : topic #79 (0.014): 0.277*\"[\" + 0.173*\"algorithm\" + 0.153*\"(\" + 0.146*\"])\" + 0.032*\"pictur\" + 0.024*\"g6\" + 0.022*\"gener\" + 0.019*\"normal\" + 0.017*\"function\" + 0.017*\"due\"\n",
      "2022-02-27 22:11:45,674 : INFO : topic #57 (0.014): 0.134*\"function\" + 0.112*\"deriv\" + 0.082*\",\" + 0.075*\"algebra\" + 0.059*\"express\" + 0.055*\"evalu\" + 0.034*\"variabl\" + 0.031*\"simpl\" + 0.026*\"analyt\" + 0.023*\"oper\"\n",
      "2022-02-27 22:11:45,675 : INFO : topic #17 (0.020): 0.325*\")\" + 0.320*\"(\" + 0.245*\"algorithm\" + 0.016*\"-\" + 0.014*\"disciplin\" + 0.012*\"plot\" + 0.011*\"chebyshev\" + 0.009*\"e2\" + 0.007*\"evalu\" + 0.005*\"curv\"\n",
      "2022-02-27 22:11:45,676 : INFO : topic diff=0.445386, rho=0.307119\n",
      "2022-02-27 22:11:45,688 : INFO : PROGRESS: pass 9, at document #2000/3204\n",
      "2022-02-27 22:11:46,651 : INFO : optimized alpha [0.010096209, 0.013283984, 0.012512652, 0.0106627075, 0.011208375, 0.011047892, 0.011142611, 0.011294921, 0.010190711, 0.0107502695, 0.011867172, 0.012564246, 0.011059805, 0.010679386, 0.011018637, 0.011492426, 0.012162267, 0.021395806, 0.01099979, 0.0106580425, 0.012717784, 0.011042453, 0.01116784, 0.011014918, 0.010361322, 0.011528527, 0.011361724, 0.010850329, 0.010151194, 0.010309462, 0.010394185, 0.013066919, 0.013016419, 0.011815024, 0.011647917, 0.012799553, 0.012073688, 0.010674882, 0.010672676, 0.010836598, 0.010929871, 0.012120232, 0.013695228, 0.012035705, 0.01095559, 0.012496232, 0.012115104, 0.011571351, 0.0115334615, 0.013247736, 0.011323488, 0.0116427075, 0.0111157065, 0.01104592, 0.01294477, 0.011152777, 0.010227822, 0.01404324, 0.012239763, 0.012138717, 0.01373411, 0.013239503, 0.011969401, 0.011053757, 0.012350629, 0.011172888, 0.010396961, 0.011042621, 0.010903642, 0.011876316, 0.012188817, 0.010918381, 0.01204963, 0.011105943, 0.011076204, 0.013064266, 0.01322936, 0.013230763, 0.012476853, 0.01404468, 0.011074919, 0.0097375605, 0.010890781, 0.010351978, 0.010791608, 0.010595522, 0.012041372, 0.0120312665, 0.011364203, 0.010708252, 0.011634829, 0.010777786, 0.011329145, 0.01087212, 0.0135517465, 0.011379121, 0.011195753, 0.01099345, 0.011645907, 0.011217891]\n",
      "2022-02-27 22:11:46,658 : INFO : merging changes from 2000 documents into a model of 3204 documents\n",
      "2022-02-27 22:11:46,665 : INFO : topic #81 (0.010): 0.143*\"preced\" + 0.086*\"boolean\" + 0.078*\"end\" + 0.074*\"relat\" + 0.054*\"section\" + 0.053*\"function\" + 0.040*\"autom\" + 0.036*\"exist\" + 0.034*\"consid\" + 0.029*\"advantag\"\n",
      "2022-02-27 22:11:46,665 : INFO : topic #28 (0.010): 0.145*\"-\" + 0.120*\"grammar\" + 0.105*\"context\" + 0.095*\"free\" + 0.065*\"pars\" + 0.052*\"parser\" + 0.051*\"algorithm\" + 0.044*\",\" + 0.029*\"structur\" + 0.023*\"gener\"\n",
      "2022-02-27 22:11:46,666 : INFO : topic #79 (0.014): 0.262*\"[\" + 0.180*\"])\" + 0.179*\"algorithm\" + 0.163*\"(\" + 0.022*\"g6\" + 0.021*\"pictur\" + 0.020*\"gener\" + 0.018*\"function\" + 0.017*\"normal\" + 0.015*\"-\"\n",
      "2022-02-27 22:11:46,667 : INFO : topic #57 (0.014): 0.139*\"function\" + 0.111*\"deriv\" + 0.082*\",\" + 0.076*\"algebra\" + 0.061*\"evalu\" + 0.056*\"express\" + 0.034*\"variabl\" + 0.027*\"simpl\" + 0.024*\"analyt\" + 0.023*\"valu\"\n",
      "2022-02-27 22:11:46,667 : INFO : topic #17 (0.021): 0.330*\")\" + 0.326*\"(\" + 0.245*\"algorithm\" + 0.015*\"-\" + 0.012*\"chebyshev\" + 0.010*\"disciplin\" + 0.010*\"plot\" + 0.008*\"e2\" + 0.008*\"evalu\" + 0.006*\"curv\"\n",
      "2022-02-27 22:11:46,668 : INFO : topic diff=0.386069, rho=0.293585\n",
      "2022-02-27 22:11:47,630 : INFO : -6.514 per-word bound, 91.4 perplexity estimate based on a held-out corpus of 1204 documents with 49783 words\n",
      "2022-02-27 22:11:47,630 : INFO : PROGRESS: pass 9, at document #3204/3204\n",
      "2022-02-27 22:11:48,433 : INFO : optimized alpha [0.010196441, 0.013554669, 0.012638887, 0.010741338, 0.011404479, 0.011209642, 0.011319721, 0.0114116855, 0.0102591105, 0.010847091, 0.012077995, 0.012754668, 0.011287544, 0.01081505, 0.0111691775, 0.011659569, 0.0124284895, 0.022324355, 0.011121206, 0.010752575, 0.01292181, 0.011182353, 0.011336014, 0.011074581, 0.010449648, 0.011701347, 0.011468325, 0.010944659, 0.0102296695, 0.010409652, 0.010456739, 0.013358142, 0.013300158, 0.012067111, 0.011851603, 0.012957182, 0.012147777, 0.0108031165, 0.010780382, 0.010953036, 0.0111096185, 0.012219533, 0.014028094, 0.012201576, 0.011132709, 0.012707728, 0.0122697195, 0.011661458, 0.011639353, 0.0135348, 0.011496818, 0.011776825, 0.011241144, 0.011168103, 0.013221871, 0.011322132, 0.010323175, 0.014415144, 0.012469748, 0.012302242, 0.014069716, 0.013581296, 0.012107056, 0.01118024, 0.012629156, 0.011307247, 0.01050459, 0.011206515, 0.011084351, 0.012006377, 0.012347175, 0.011061222, 0.012259825, 0.011232621, 0.011154018, 0.013373897, 0.013558148, 0.013335905, 0.012732721, 0.014173904, 0.011205813, 0.009789138, 0.010986681, 0.010421137, 0.010940403, 0.010680139, 0.012196009, 0.012312879, 0.011508009, 0.010791951, 0.011717567, 0.010927239, 0.011495478, 0.011023124, 0.013813033, 0.011609245, 0.01127468, 0.011101276, 0.011812275, 0.011356046]\n",
      "2022-02-27 22:11:48,440 : INFO : merging changes from 1204 documents into a model of 3204 documents\n",
      "2022-02-27 22:11:48,446 : INFO : topic #81 (0.010): 0.149*\"preced\" + 0.093*\"end\" + 0.075*\"relat\" + 0.074*\"boolean\" + 0.057*\"section\" + 0.053*\"function\" + 0.042*\"exist\" + 0.041*\"autom\" + 0.038*\"consid\" + 0.031*\"advantag\"\n",
      "2022-02-27 22:11:48,447 : INFO : topic #28 (0.010): 0.145*\"-\" + 0.126*\"grammar\" + 0.107*\"context\" + 0.095*\"free\" + 0.063*\"pars\" + 0.058*\"parser\" + 0.052*\"algorithm\" + 0.046*\",\" + 0.025*\"structur\" + 0.025*\"gener\"\n",
      "2022-02-27 22:11:48,448 : INFO : topic #79 (0.014): 0.284*\"[\" + 0.177*\"algorithm\" + 0.156*\"(\" + 0.150*\"])\" + 0.027*\"pictur\" + 0.023*\"g6\" + 0.021*\"normal\" + 0.020*\"gener\" + 0.018*\"function\" + 0.016*\"due\"\n",
      "2022-02-27 22:11:48,448 : INFO : topic #57 (0.014): 0.138*\"function\" + 0.114*\"deriv\" + 0.082*\",\" + 0.076*\"algebra\" + 0.059*\"express\" + 0.054*\"evalu\" + 0.034*\"variabl\" + 0.032*\"simpl\" + 0.026*\"analyt\" + 0.024*\"valu\"\n",
      "2022-02-27 22:11:48,449 : INFO : topic #17 (0.022): 0.331*\")\" + 0.325*\"(\" + 0.241*\"algorithm\" + 0.016*\"-\" + 0.013*\"disciplin\" + 0.012*\"plot\" + 0.011*\"chebyshev\" + 0.008*\"e2\" + 0.007*\"evalu\" + 0.006*\"curv\"\n",
      "2022-02-27 22:11:48,450 : INFO : topic diff=0.388943, rho=0.293585\n",
      "2022-02-27 22:11:48,457 : INFO : PROGRESS: pass 10, at document #2000/3204\n",
      "2022-02-27 22:11:49,347 : INFO : optimized alpha [0.010201071, 0.013767208, 0.012792448, 0.010717034, 0.01145611, 0.011250094, 0.0113588, 0.01150585, 0.01026683, 0.010879256, 0.012082729, 0.012787548, 0.011294288, 0.010917263, 0.011187881, 0.011712041, 0.01238571, 0.02354188, 0.011107152, 0.010759067, 0.01306365, 0.011172362, 0.011363264, 0.011154437, 0.010457211, 0.011724746, 0.0116174575, 0.010987043, 0.010235626, 0.0104259495, 0.010512346, 0.013458445, 0.013408224, 0.012064962, 0.0118562095, 0.013118597, 0.012297108, 0.010802702, 0.010809254, 0.011044567, 0.011163169, 0.01232412, 0.01421821, 0.012357553, 0.011085279, 0.012838716, 0.012368505, 0.011816715, 0.011667842, 0.013762772, 0.011576341, 0.011827967, 0.011289444, 0.011147767, 0.013372108, 0.011352426, 0.010326654, 0.014574118, 0.012558357, 0.012337986, 0.01423826, 0.013641456, 0.0121710915, 0.01120718, 0.012606596, 0.011351143, 0.010551571, 0.011218131, 0.011158497, 0.012047206, 0.012522942, 0.011106497, 0.012321196, 0.011281892, 0.011263917, 0.013289011, 0.013653997, 0.01357792, 0.012815125, 0.014581801, 0.011211256, 0.0097935945, 0.011074018, 0.010425439, 0.010972843, 0.010656975, 0.012196464, 0.012400677, 0.011620891, 0.010856261, 0.011805742, 0.01091491, 0.01150745, 0.011033945, 0.014034292, 0.011657057, 0.011377898, 0.011165227, 0.011883538, 0.011329876]\n",
      "2022-02-27 22:11:49,355 : INFO : merging changes from 2000 documents into a model of 3204 documents\n",
      "2022-02-27 22:11:49,362 : INFO : topic #81 (0.010): 0.141*\"preced\" + 0.085*\"boolean\" + 0.079*\"relat\" + 0.078*\"end\" + 0.056*\"section\" + 0.054*\"function\" + 0.041*\"autom\" + 0.037*\"exist\" + 0.036*\"consid\" + 0.031*\"advantag\"\n",
      "2022-02-27 22:11:49,362 : INFO : topic #0 (0.010): 0.180*\"model\" + 0.163*\"network\" + 0.061*\"simul\" + 0.048*\",\" + 0.039*\"behavior\" + 0.027*\"comput\" + 0.024*\"onlin\" + 0.021*\"transit\" + 0.020*\"traffic\" + 0.019*\"program\"\n",
      "2022-02-27 22:11:49,363 : INFO : topic #57 (0.015): 0.142*\"function\" + 0.113*\"deriv\" + 0.082*\",\" + 0.077*\"algebra\" + 0.060*\"evalu\" + 0.056*\"express\" + 0.034*\"variabl\" + 0.029*\"simpl\" + 0.025*\"valu\" + 0.024*\"analyt\"\n",
      "2022-02-27 22:11:49,363 : INFO : topic #79 (0.015): 0.269*\"[\" + 0.182*\"])\" + 0.181*\"algorithm\" + 0.166*\"(\" + 0.022*\"g6\" + 0.018*\"pictur\" + 0.018*\"function\" + 0.018*\"normal\" + 0.017*\"gener\" + 0.015*\"-\"\n",
      "2022-02-27 22:11:49,364 : INFO : topic #17 (0.024): 0.335*\")\" + 0.331*\"(\" + 0.241*\"algorithm\" + 0.015*\"-\" + 0.011*\"chebyshev\" + 0.010*\"disciplin\" + 0.009*\"plot\" + 0.008*\"evalu\" + 0.008*\"e2\" + 0.006*\"curv\"\n",
      "2022-02-27 22:11:49,365 : INFO : topic diff=0.337341, rho=0.281696\n",
      "2022-02-27 22:11:50,386 : INFO : -6.500 per-word bound, 90.5 perplexity estimate based on a held-out corpus of 1204 documents with 49783 words\n",
      "2022-02-27 22:11:50,387 : INFO : PROGRESS: pass 10, at document #3204/3204\n",
      "2022-02-27 22:11:51,255 : INFO : optimized alpha [0.010315046, 0.014037922, 0.012920154, 0.0107831145, 0.0116521865, 0.011409637, 0.011538844, 0.011624108, 0.0103403535, 0.010980594, 0.012278881, 0.012966148, 0.011513071, 0.011064242, 0.011333804, 0.011874153, 0.012647486, 0.024498211, 0.011229981, 0.010858147, 0.013261935, 0.011310458, 0.011518337, 0.011206726, 0.010555017, 0.011889507, 0.011728672, 0.011075627, 0.0103140045, 0.010532737, 0.0105777, 0.01375217, 0.013710247, 0.012313135, 0.012056715, 0.013280246, 0.0123680895, 0.010921786, 0.010913423, 0.011154667, 0.011340488, 0.012419813, 0.014561245, 0.012509654, 0.0112726595, 0.013053226, 0.012529859, 0.011906036, 0.011767506, 0.014066653, 0.011750101, 0.011955055, 0.011413517, 0.011260725, 0.013639606, 0.011530155, 0.010423886, 0.014938951, 0.01279437, 0.012496234, 0.014560337, 0.0139729, 0.012310081, 0.011326964, 0.012877739, 0.011483924, 0.010668199, 0.011387541, 0.011344894, 0.012184628, 0.012670377, 0.0112475455, 0.012537181, 0.011417914, 0.011341493, 0.013593007, 0.0139759155, 0.013671923, 0.013058444, 0.014704405, 0.011337976, 0.009850554, 0.011161426, 0.010494917, 0.011119691, 0.010741514, 0.012363658, 0.0126934005, 0.011771559, 0.010929429, 0.011890916, 0.01105719, 0.011665968, 0.011206306, 0.014305729, 0.01190086, 0.011462039, 0.011269525, 0.012044831, 0.0114663355]\n",
      "2022-02-27 22:11:51,262 : INFO : merging changes from 1204 documents into a model of 3204 documents\n",
      "2022-02-27 22:11:51,270 : INFO : topic #81 (0.010): 0.146*\"preced\" + 0.091*\"end\" + 0.079*\"relat\" + 0.074*\"boolean\" + 0.058*\"section\" + 0.054*\"function\" + 0.043*\"exist\" + 0.040*\"autom\" + 0.040*\"consid\" + 0.033*\"advantag\"\n",
      "2022-02-27 22:11:51,271 : INFO : topic #28 (0.010): 0.146*\"-\" + 0.129*\"grammar\" + 0.108*\"context\" + 0.097*\"free\" + 0.065*\"pars\" + 0.058*\"parser\" + 0.050*\"algorithm\" + 0.047*\",\" + 0.026*\"structur\" + 0.025*\"gener\"\n",
      "2022-02-27 22:11:51,271 : INFO : topic #79 (0.015): 0.293*\"[\" + 0.180*\"algorithm\" + 0.160*\"(\" + 0.155*\"])\" + 0.023*\"g6\" + 0.022*\"normal\" + 0.018*\"function\" + 0.018*\"gener\" + 0.017*\"pictur\" + 0.016*\"due\"\n",
      "2022-02-27 22:11:51,272 : INFO : topic #57 (0.015): 0.143*\"function\" + 0.115*\"deriv\" + 0.083*\",\" + 0.077*\"algebra\" + 0.059*\"express\" + 0.054*\"evalu\" + 0.035*\"variabl\" + 0.032*\"simpl\" + 0.026*\"analyt\" + 0.025*\"valu\"\n",
      "2022-02-27 22:11:51,272 : INFO : topic #17 (0.024): 0.336*\")\" + 0.330*\"(\" + 0.238*\"algorithm\" + 0.017*\"-\" + 0.013*\"disciplin\" + 0.012*\"plot\" + 0.011*\"chebyshev\" + 0.008*\"e2\" + 0.007*\"evalu\" + 0.006*\"curv\"\n",
      "2022-02-27 22:11:51,273 : INFO : topic diff=0.342118, rho=0.281696\n",
      "2022-02-27 22:11:51,281 : INFO : PROGRESS: pass 11, at document #2000/3204\n",
      "2022-02-27 22:11:52,121 : INFO : optimized alpha [0.010322318, 0.014251972, 0.013073283, 0.010758721, 0.01170348, 0.011448583, 0.011579571, 0.011720367, 0.010349485, 0.011010256, 0.012282883, 0.012995853, 0.011526611, 0.011175886, 0.011351653, 0.011924702, 0.012604755, 0.025773758, 0.011214873, 0.010871908, 0.013401834, 0.011302198, 0.011542877, 0.011287344, 0.01056105, 0.011911845, 0.011882332, 0.011118276, 0.01032279, 0.010548503, 0.0106289685, 0.013843407, 0.013812942, 0.012318312, 0.012060488, 0.013437768, 0.012511885, 0.010918426, 0.010947251, 0.011252715, 0.011387552, 0.012533414, 0.01473536, 0.012665395, 0.01122775, 0.013187704, 0.012632583, 0.012059124, 0.011795116, 0.014298652, 0.011833614, 0.01200295, 0.0114555815, 0.011238061, 0.013782313, 0.01157322, 0.010428791, 0.015103549, 0.012885351, 0.012528889, 0.014742389, 0.014033822, 0.012388937, 0.011352983, 0.0128616225, 0.011531065, 0.010723871, 0.011396784, 0.011439889, 0.012232601, 0.012847372, 0.011289772, 0.012591143, 0.011465606, 0.0114484485, 0.013509155, 0.01406816, 0.01390495, 0.013134442, 0.015110008, 0.011346215, 0.009859151, 0.011249379, 0.01050223, 0.011158405, 0.01072096, 0.012368894, 0.012781649, 0.0118864905, 0.010986013, 0.011986267, 0.011045068, 0.011677234, 0.011216303, 0.014530443, 0.011962985, 0.01157662, 0.011331567, 0.012118636, 0.011439406]\n",
      "2022-02-27 22:11:52,129 : INFO : merging changes from 2000 documents into a model of 3204 documents\n",
      "2022-02-27 22:11:52,136 : INFO : topic #81 (0.010): 0.139*\"preced\" + 0.083*\"boolean\" + 0.081*\"relat\" + 0.077*\"end\" + 0.058*\"section\" + 0.056*\"function\" + 0.041*\"autom\" + 0.039*\"consid\" + 0.039*\"exist\" + 0.032*\"advantag\"\n",
      "2022-02-27 22:11:52,137 : INFO : topic #28 (0.010): 0.149*\"-\" + 0.128*\"grammar\" + 0.106*\"context\" + 0.099*\"free\" + 0.066*\"pars\" + 0.052*\"parser\" + 0.049*\"algorithm\" + 0.046*\",\" + 0.030*\"structur\" + 0.024*\"gener\"\n",
      "2022-02-27 22:11:52,137 : INFO : topic #79 (0.015): 0.275*\"[\" + 0.185*\"])\" + 0.184*\"algorithm\" + 0.169*\"(\" + 0.022*\"g6\" + 0.019*\"normal\" + 0.018*\"function\" + 0.015*\"gener\" + 0.015*\"-\" + 0.012*\"due\"\n",
      "2022-02-27 22:11:52,138 : INFO : topic #57 (0.015): 0.147*\"function\" + 0.114*\"deriv\" + 0.082*\",\" + 0.077*\"algebra\" + 0.060*\"evalu\" + 0.055*\"express\" + 0.035*\"variabl\" + 0.029*\"simpl\" + 0.027*\"valu\" + 0.024*\"analyt\"\n",
      "2022-02-27 22:11:52,138 : INFO : topic #17 (0.026): 0.339*\")\" + 0.334*\"(\" + 0.238*\"algorithm\" + 0.015*\"-\" + 0.011*\"chebyshev\" + 0.010*\"disciplin\" + 0.009*\"plot\" + 0.008*\"evalu\" + 0.008*\"e2\" + 0.006*\"curv\"\n",
      "2022-02-27 22:11:52,139 : INFO : topic diff=0.297317, rho=0.271143\n",
      "2022-02-27 22:11:53,252 : INFO : -6.488 per-word bound, 89.7 perplexity estimate based on a held-out corpus of 1204 documents with 49783 words\n",
      "2022-02-27 22:11:53,252 : INFO : PROGRESS: pass 11, at document #3204/3204\n",
      "2022-02-27 22:11:54,238 : INFO : optimized alpha [0.01043543, 0.01451702, 0.013196787, 0.010823113, 0.01190799, 0.011608965, 0.011760361, 0.01183237, 0.010423323, 0.011113605, 0.012476579, 0.013163559, 0.011758337, 0.011319106, 0.011490872, 0.012085065, 0.012868466, 0.026795829, 0.011334107, 0.010968121, 0.013604016, 0.011441469, 0.0116962865, 0.011340401, 0.010658471, 0.012072006, 0.012003624, 0.011201628, 0.010401246, 0.010652184, 0.010697264, 0.014137044, 0.014108969, 0.012557816, 0.01225574, 0.013597605, 0.012577227, 0.011039089, 0.011045784, 0.011364569, 0.011562864, 0.01262021, 0.0150858965, 0.012810249, 0.011409935, 0.013408724, 0.012786528, 0.012139848, 0.011891805, 0.014613733, 0.012008262, 0.012129068, 0.011578629, 0.0113475835, 0.014037793, 0.0117542185, 0.010532723, 0.015458563, 0.013121891, 0.012693854, 0.015074976, 0.014365223, 0.012529541, 0.011469245, 0.0131380195, 0.011660078, 0.010854234, 0.011564177, 0.011650512, 0.012374623, 0.012990342, 0.011426813, 0.012796138, 0.011597658, 0.011525977, 0.013808317, 0.014409485, 0.014001014, 0.013374962, 0.015240301, 0.011466711, 0.009907884, 0.0113391075, 0.01057449, 0.011301157, 0.010807937, 0.01252856, 0.013077466, 0.012038567, 0.011056871, 0.012068456, 0.011188262, 0.011828594, 0.0113842, 0.0147995595, 0.01222101, 0.011650017, 0.011435265, 0.012278167, 0.011571865]\n",
      "2022-02-27 22:11:54,244 : INFO : merging changes from 1204 documents into a model of 3204 documents\n",
      "2022-02-27 22:11:54,251 : INFO : topic #81 (0.010): 0.146*\"preced\" + 0.091*\"end\" + 0.081*\"relat\" + 0.074*\"boolean\" + 0.060*\"section\" + 0.055*\"function\" + 0.043*\"consid\" + 0.042*\"exist\" + 0.040*\"autom\" + 0.034*\"advantag\"\n",
      "2022-02-27 22:11:54,252 : INFO : topic #0 (0.010): 0.224*\"model\" + 0.178*\"network\" + 0.056*\"simul\" + 0.049*\",\" + 0.043*\"behavior\" + 0.025*\"comput\" + 0.020*\"transit\" + 0.020*\"densiti\" + 0.017*\"base\" + 0.017*\"time\"\n",
      "2022-02-27 22:11:54,255 : INFO : topic #79 (0.015): 0.299*\"[\" + 0.183*\"algorithm\" + 0.162*\"(\" + 0.158*\"])\" + 0.023*\"g6\" + 0.022*\"normal\" + 0.018*\"function\" + 0.016*\"due\" + 0.015*\"gener\" + 0.014*\"-\"\n",
      "2022-02-27 22:11:54,256 : INFO : topic #57 (0.015): 0.148*\"function\" + 0.116*\"deriv\" + 0.083*\",\" + 0.077*\"algebra\" + 0.058*\"express\" + 0.054*\"evalu\" + 0.035*\"variabl\" + 0.032*\"simpl\" + 0.027*\"valu\" + 0.026*\"analyt\"\n",
      "2022-02-27 22:11:54,257 : INFO : topic #17 (0.027): 0.340*\")\" + 0.334*\"(\" + 0.234*\"algorithm\" + 0.017*\"-\" + 0.013*\"disciplin\" + 0.011*\"plot\" + 0.010*\"chebyshev\" + 0.008*\"e2\" + 0.007*\"evalu\" + 0.006*\"curv\"\n",
      "2022-02-27 22:11:54,258 : INFO : topic diff=0.302931, rho=0.271143\n",
      "2022-02-27 22:11:54,271 : INFO : PROGRESS: pass 12, at document #2000/3204\n",
      "2022-02-27 22:11:55,231 : INFO : optimized alpha [0.010443823, 0.014729186, 0.0133464215, 0.010800053, 0.011957588, 0.011649555, 0.011801141, 0.011927725, 0.010432407, 0.011140999, 0.0124847805, 0.013204378, 0.011767534, 0.011435707, 0.011509496, 0.01213874, 0.012830784, 0.028158195, 0.011319476, 0.010990332, 0.013740554, 0.011439317, 0.011718318, 0.011418968, 0.010670017, 0.012094978, 0.012160485, 0.011244645, 0.010409952, 0.0106661115, 0.010752856, 0.014225058, 0.014208492, 0.012558619, 0.01226201, 0.013758893, 0.012717655, 0.011037276, 0.011080122, 0.011463278, 0.011609867, 0.012731096, 0.01527601, 0.012960906, 0.01136587, 0.013545204, 0.012883156, 0.012291131, 0.011921936, 0.01485006, 0.01209729, 0.012180257, 0.011622464, 0.011327293, 0.014178912, 0.011792676, 0.010534724, 0.015615042, 0.013224072, 0.012732011, 0.015255288, 0.014438503, 0.012611197, 0.011498903, 0.013119236, 0.011708935, 0.010909811, 0.011577241, 0.011766109, 0.012434318, 0.013162061, 0.011469206, 0.012849807, 0.011643948, 0.011633339, 0.013729023, 0.014496451, 0.014229274, 0.0134465555, 0.015640391, 0.011474677, 0.009919189, 0.01142636, 0.010581825, 0.011335619, 0.0107883485, 0.012533206, 0.01316971, 0.012149359, 0.011113417, 0.012159719, 0.0111763, 0.011842376, 0.011395084, 0.015024412, 0.012284339, 0.011754239, 0.011497154, 0.012349821, 0.011548834]\n",
      "2022-02-27 22:11:55,238 : INFO : merging changes from 2000 documents into a model of 3204 documents\n",
      "2022-02-27 22:11:55,246 : INFO : topic #81 (0.010): 0.138*\"preced\" + 0.084*\"relat\" + 0.083*\"boolean\" + 0.077*\"end\" + 0.059*\"section\" + 0.056*\"function\" + 0.041*\"consid\" + 0.040*\"autom\" + 0.037*\"exist\" + 0.034*\"advantag\"\n",
      "2022-02-27 22:11:55,246 : INFO : topic #28 (0.010): 0.150*\"-\" + 0.132*\"grammar\" + 0.107*\"context\" + 0.100*\"free\" + 0.067*\"pars\" + 0.052*\"parser\" + 0.047*\"algorithm\" + 0.047*\",\" + 0.030*\"structur\" + 0.024*\"gener\"\n",
      "2022-02-27 22:11:55,247 : INFO : topic #57 (0.016): 0.152*\"function\" + 0.115*\"deriv\" + 0.083*\",\" + 0.078*\"algebra\" + 0.059*\"evalu\" + 0.055*\"express\" + 0.035*\"variabl\" + 0.029*\"simpl\" + 0.029*\"valu\" + 0.024*\"analyt\"\n",
      "2022-02-27 22:11:55,248 : INFO : topic #79 (0.016): 0.280*\"[\" + 0.186*\"algorithm\" + 0.185*\"])\" + 0.171*\"(\" + 0.022*\"g6\" + 0.020*\"normal\" + 0.018*\"function\" + 0.015*\"-\" + 0.013*\"gener\" + 0.012*\"due\"\n",
      "2022-02-27 22:11:55,248 : INFO : topic #17 (0.028): 0.342*\")\" + 0.338*\"(\" + 0.235*\"algorithm\" + 0.016*\"-\" + 0.011*\"chebyshev\" + 0.010*\"disciplin\" + 0.009*\"plot\" + 0.008*\"evalu\" + 0.008*\"e2\" + 0.006*\"curv\"\n",
      "2022-02-27 22:11:55,249 : INFO : topic diff=0.264319, rho=0.261694\n",
      "2022-02-27 22:11:56,201 : INFO : -6.478 per-word bound, 89.2 perplexity estimate based on a held-out corpus of 1204 documents with 49783 words\n",
      "2022-02-27 22:11:56,202 : INFO : PROGRESS: pass 12, at document #3204/3204\n",
      "2022-02-27 22:11:57,020 : INFO : optimized alpha [0.010570053, 0.015001648, 0.013474819, 0.010860544, 0.012149821, 0.011808475, 0.011972524, 0.01203925, 0.010504367, 0.011241527, 0.01267101, 0.0133736245, 0.011994455, 0.011597835, 0.011647639, 0.012289711, 0.0130886, 0.029236991, 0.011433052, 0.01108634, 0.0139531195, 0.011577511, 0.011873002, 0.011472888, 0.010767169, 0.012253746, 0.012278476, 0.011328174, 0.010484091, 0.010769406, 0.010821591, 0.01451938, 0.01449893, 0.012801063, 0.012449837, 0.013917446, 0.012780593, 0.011154779, 0.011178394, 0.0115720695, 0.011786159, 0.012820864, 0.015624841, 0.013098894, 0.011550975, 0.013761457, 0.013030199, 0.012374454, 0.012026395, 0.015180032, 0.012275786, 0.012297521, 0.0117472345, 0.011431483, 0.0144322775, 0.01197724, 0.010647357, 0.015974412, 0.0134616885, 0.012895442, 0.015579365, 0.01478303, 0.012756374, 0.0116170775, 0.01338977, 0.011837082, 0.0110512655, 0.011740555, 0.011991103, 0.012575522, 0.0133037865, 0.011602693, 0.013047204, 0.011764941, 0.011708485, 0.014018181, 0.014844936, 0.014336886, 0.013684823, 0.015778633, 0.011594456, 0.009975389, 0.011521038, 0.01065221, 0.011472252, 0.01087546, 0.012697103, 0.013469235, 0.012303324, 0.01118708, 0.01224464, 0.011318283, 0.011987129, 0.011558909, 0.015281813, 0.012548778, 0.011833065, 0.011595535, 0.012505276, 0.011682844]\n",
      "2022-02-27 22:11:57,027 : INFO : merging changes from 1204 documents into a model of 3204 documents\n",
      "2022-02-27 22:11:57,034 : INFO : topic #81 (0.010): 0.144*\"preced\" + 0.090*\"end\" + 0.083*\"relat\" + 0.073*\"boolean\" + 0.061*\"section\" + 0.057*\"function\" + 0.045*\"consid\" + 0.043*\"exist\" + 0.040*\"autom\" + 0.035*\"advantag\"\n",
      "2022-02-27 22:11:57,035 : INFO : topic #28 (0.010): 0.149*\"-\" + 0.135*\"grammar\" + 0.109*\"context\" + 0.099*\"free\" + 0.067*\"pars\" + 0.058*\"parser\" + 0.048*\",\" + 0.047*\"algorithm\" + 0.026*\"structur\" + 0.025*\"gener\"\n",
      "2022-02-27 22:11:57,035 : INFO : topic #79 (0.016): 0.304*\"[\" + 0.184*\"algorithm\" + 0.165*\"(\" + 0.159*\"])\" + 0.023*\"normal\" + 0.023*\"g6\" + 0.018*\"function\" + 0.016*\"due\" + 0.014*\"-\" + 0.013*\"gener\"\n",
      "2022-02-27 22:11:57,036 : INFO : topic #57 (0.016): 0.152*\"function\" + 0.117*\"deriv\" + 0.084*\",\" + 0.078*\"algebra\" + 0.057*\"express\" + 0.054*\"evalu\" + 0.035*\"variabl\" + 0.032*\"simpl\" + 0.029*\"valu\" + 0.026*\"analyt\"\n",
      "2022-02-27 22:11:57,037 : INFO : topic #17 (0.029): 0.344*\")\" + 0.338*\"(\" + 0.230*\"algorithm\" + 0.017*\"-\" + 0.013*\"disciplin\" + 0.011*\"plot\" + 0.010*\"chebyshev\" + 0.008*\"e2\" + 0.007*\"evalu\" + 0.005*\"curv\"\n",
      "2022-02-27 22:11:57,038 : INFO : topic diff=0.270071, rho=0.261694\n",
      "2022-02-27 22:11:57,046 : INFO : PROGRESS: pass 13, at document #2000/3204\n",
      "2022-02-27 22:11:57,935 : INFO : optimized alpha [0.010579447, 0.015212207, 0.0136264125, 0.010840072, 0.0121993, 0.011844775, 0.012011978, 0.012132419, 0.0105161, 0.011266763, 0.012681685, 0.013407968, 0.012005575, 0.011725398, 0.011665572, 0.012334077, 0.013049085, 0.030668376, 0.011421783, 0.011116478, 0.014099218, 0.011573805, 0.011891165, 0.011555451, 0.010779851, 0.012274258, 0.012430868, 0.011370193, 0.010494077, 0.0107857045, 0.010875957, 0.014602721, 0.014604632, 0.012804083, 0.012458552, 0.014079113, 0.012919556, 0.011152985, 0.011216071, 0.01167009, 0.011837671, 0.012942375, 0.015803482, 0.013244899, 0.011513536, 0.013896702, 0.013134455, 0.012525827, 0.012054195, 0.01541346, 0.012367295, 0.012345911, 0.011789826, 0.011422149, 0.014570301, 0.012021933, 0.010649241, 0.016129142, 0.013568235, 0.012932295, 0.015769875, 0.014861129, 0.012847414, 0.011644425, 0.013368463, 0.011883125, 0.011110988, 0.011754447, 0.012131945, 0.012636927, 0.013470635, 0.0116438465, 0.013102487, 0.011817437, 0.011813474, 0.013939624, 0.014938116, 0.014562839, 0.013754181, 0.016175723, 0.011600691, 0.009985397, 0.011604841, 0.010664975, 0.011505686, 0.010862253, 0.012702965, 0.013567289, 0.012414984, 0.011240901, 0.012333719, 0.01130645, 0.012000314, 0.011577987, 0.015495408, 0.012611657, 0.011939525, 0.011655904, 0.012576571, 0.011664841]\n",
      "2022-02-27 22:11:57,942 : INFO : merging changes from 2000 documents into a model of 3204 documents\n",
      "2022-02-27 22:11:57,949 : INFO : topic #81 (0.010): 0.137*\"preced\" + 0.084*\"relat\" + 0.082*\"boolean\" + 0.076*\"end\" + 0.060*\"section\" + 0.058*\"function\" + 0.043*\"consid\" + 0.041*\"autom\" + 0.039*\"exist\" + 0.034*\"advantag\"\n",
      "2022-02-27 22:11:57,950 : INFO : topic #28 (0.010): 0.151*\"-\" + 0.134*\"grammar\" + 0.107*\"context\" + 0.101*\"free\" + 0.068*\"pars\" + 0.052*\"parser\" + 0.048*\",\" + 0.046*\"algorithm\" + 0.030*\"structur\" + 0.024*\"gener\"\n",
      "2022-02-27 22:11:57,951 : INFO : topic #79 (0.016): 0.284*\"[\" + 0.187*\"algorithm\" + 0.185*\"])\" + 0.173*\"(\" + 0.022*\"g6\" + 0.020*\"normal\" + 0.018*\"function\" + 0.015*\"-\" + 0.012*\"due\" + 0.011*\"gener\"\n",
      "2022-02-27 22:11:57,951 : INFO : topic #57 (0.016): 0.155*\"function\" + 0.116*\"deriv\" + 0.084*\",\" + 0.078*\"algebra\" + 0.059*\"evalu\" + 0.054*\"express\" + 0.035*\"variabl\" + 0.030*\"valu\" + 0.029*\"simpl\" + 0.025*\"analyt\"\n",
      "2022-02-27 22:11:57,952 : INFO : topic #17 (0.031): 0.345*\")\" + 0.341*\"(\" + 0.232*\"algorithm\" + 0.016*\"-\" + 0.011*\"chebyshev\" + 0.009*\"disciplin\" + 0.009*\"plot\" + 0.008*\"evalu\" + 0.008*\"e2\" + 0.006*\"curv\"\n",
      "2022-02-27 22:11:57,953 : INFO : topic diff=0.237286, rho=0.253169\n",
      "2022-02-27 22:11:58,965 : INFO : -6.471 per-word bound, 88.7 perplexity estimate based on a held-out corpus of 1204 documents with 49783 words\n",
      "2022-02-27 22:11:58,966 : INFO : PROGRESS: pass 13, at document #3204/3204\n",
      "2022-02-27 22:11:59,771 : INFO : optimized alpha [0.010716217, 0.015492748, 0.013757046, 0.010901605, 0.0123980325, 0.012010142, 0.012177121, 0.012243653, 0.010590802, 0.0113672195, 0.012869082, 0.013578876, 0.012228122, 0.011884261, 0.011797913, 0.0124814715, 0.013304333, 0.031770654, 0.01152281, 0.011219452, 0.014310553, 0.011701398, 0.012037212, 0.011610259, 0.010876956, 0.01242673, 0.012548423, 0.011456382, 0.010568636, 0.010891012, 0.010947564, 0.014897931, 0.014911732, 0.0130498195, 0.01264491, 0.014230582, 0.012980244, 0.011267644, 0.011314238, 0.011783401, 0.012012762, 0.013037857, 0.016161134, 0.013376608, 0.011699481, 0.014108568, 0.013283388, 0.012606571, 0.012150978, 0.015742866, 0.012549832, 0.012457614, 0.011909042, 0.011526273, 0.014818926, 0.0122154225, 0.010765968, 0.016493518, 0.0138046285, 0.013089144, 0.01610226, 0.015204064, 0.013005344, 0.011759699, 0.0136366375, 0.0120157525, 0.0112540675, 0.011916595, 0.012376695, 0.012793849, 0.013605836, 0.011774117, 0.013290084, 0.011937995, 0.011886451, 0.014228472, 0.015307151, 0.0146635305, 0.013996408, 0.016315354, 0.011720051, 0.010042415, 0.01169946, 0.010731386, 0.011639128, 0.010951887, 0.012860202, 0.013891157, 0.012563101, 0.011317465, 0.01241618, 0.011445052, 0.012144213, 0.011740635, 0.01573481, 0.012880222, 0.012016166, 0.011749321, 0.0127337, 0.011795656]\n",
      "2022-02-27 22:11:59,778 : INFO : merging changes from 1204 documents into a model of 3204 documents\n",
      "2022-02-27 22:11:59,785 : INFO : topic #81 (0.010): 0.142*\"preced\" + 0.088*\"end\" + 0.085*\"relat\" + 0.072*\"boolean\" + 0.061*\"section\" + 0.059*\"function\" + 0.047*\"consid\" + 0.044*\"exist\" + 0.040*\"autom\" + 0.035*\"advantag\"\n",
      "2022-02-27 22:11:59,786 : INFO : topic #8 (0.011): 0.153*\",\" + 0.082*\"text\" + 0.032*\"program\" + 0.031*\"pass\" + 0.027*\"relat\" + 0.023*\"call\" + 0.021*\"english\" + 0.020*\"system\" + 0.019*\"word\" + 0.019*\"produc\"\n",
      "2022-02-27 22:11:59,786 : INFO : topic #79 (0.016): 0.309*\"[\" + 0.185*\"algorithm\" + 0.167*\"(\" + 0.160*\"])\" + 0.023*\"g6\" + 0.023*\"normal\" + 0.018*\"function\" + 0.015*\"due\" + 0.014*\"-\" + 0.011*\"slightli\"\n",
      "2022-02-27 22:11:59,787 : INFO : topic #57 (0.016): 0.154*\"function\" + 0.118*\"deriv\" + 0.085*\",\" + 0.078*\"algebra\" + 0.057*\"express\" + 0.053*\"evalu\" + 0.036*\"variabl\" + 0.033*\"simpl\" + 0.030*\"valu\" + 0.026*\"analyt\"\n",
      "2022-02-27 22:11:59,788 : INFO : topic #17 (0.032): 0.347*\")\" + 0.340*\"(\" + 0.227*\"algorithm\" + 0.017*\"-\" + 0.012*\"disciplin\" + 0.011*\"plot\" + 0.010*\"chebyshev\" + 0.008*\"e2\" + 0.007*\"evalu\" + 0.005*\"curv\"\n",
      "2022-02-27 22:11:59,788 : INFO : topic diff=0.243311, rho=0.253169\n",
      "2022-02-27 22:11:59,796 : INFO : PROGRESS: pass 14, at document #2000/3204\n",
      "2022-02-27 22:12:00,571 : INFO : optimized alpha [0.01072654, 0.015704067, 0.013904083, 0.010880828, 0.012445977, 0.012049696, 0.01221537, 0.012337809, 0.0106050335, 0.011397444, 0.012877451, 0.01361711, 0.0122396005, 0.012018463, 0.011813807, 0.01252304, 0.013262984, 0.033258226, 0.011511991, 0.011257157, 0.014455654, 0.011702032, 0.012056162, 0.011692503, 0.010888061, 0.012446531, 0.012698196, 0.011500262, 0.010579856, 0.010906887, 0.011000828, 0.014991411, 0.015010979, 0.013053348, 0.012654494, 0.014396348, 0.013114908, 0.011270088, 0.011349627, 0.01188377, 0.012064349, 0.013153711, 0.016342303, 0.013518247, 0.011661063, 0.014242792, 0.013388609, 0.012756793, 0.01217669, 0.015977604, 0.012643927, 0.012506402, 0.011949101, 0.011513039, 0.014957671, 0.0122617185, 0.010771751, 0.016656924, 0.013913913, 0.013123292, 0.016295532, 0.015277607, 0.013092731, 0.011789237, 0.013612864, 0.012062086, 0.011315101, 0.011929806, 0.012532305, 0.012853731, 0.013774768, 0.0118112685, 0.013345326, 0.011990689, 0.011989304, 0.014147002, 0.015402899, 0.0148965875, 0.014067005, 0.016711826, 0.011727509, 0.010059834, 0.011782942, 0.010744034, 0.011670187, 0.010943275, 0.012870485, 0.013993437, 0.012675747, 0.011370091, 0.012507863, 0.011431909, 0.012161373, 0.011760405, 0.015950937, 0.012953943, 0.012122017, 0.011808347, 0.012804793, 0.0117780445]\n",
      "2022-02-27 22:12:00,578 : INFO : merging changes from 2000 documents into a model of 3204 documents\n",
      "2022-02-27 22:12:00,585 : INFO : topic #81 (0.010): 0.135*\"preced\" + 0.088*\"relat\" + 0.080*\"boolean\" + 0.075*\"end\" + 0.060*\"section\" + 0.059*\"function\" + 0.044*\"consid\" + 0.041*\"autom\" + 0.040*\"exist\" + 0.035*\"advantag\"\n",
      "2022-02-27 22:12:00,586 : INFO : topic #28 (0.011): 0.152*\"-\" + 0.136*\"grammar\" + 0.107*\"context\" + 0.102*\"free\" + 0.068*\"pars\" + 0.052*\"parser\" + 0.048*\",\" + 0.045*\"algorithm\" + 0.030*\"structur\" + 0.024*\"gener\"\n",
      "2022-02-27 22:12:00,586 : INFO : topic #57 (0.017): 0.157*\"function\" + 0.117*\"deriv\" + 0.085*\",\" + 0.078*\"algebra\" + 0.058*\"evalu\" + 0.054*\"express\" + 0.036*\"variabl\" + 0.032*\"valu\" + 0.030*\"simpl\" + 0.024*\"analyt\"\n",
      "2022-02-27 22:12:00,587 : INFO : topic #79 (0.017): 0.287*\"[\" + 0.188*\"algorithm\" + 0.185*\"])\" + 0.175*\"(\" + 0.021*\"g6\" + 0.020*\"normal\" + 0.018*\"function\" + 0.015*\"-\" + 0.012*\"due\" + 0.010*\"permut\"\n",
      "2022-02-27 22:12:00,588 : INFO : topic #17 (0.033): 0.348*\")\" + 0.343*\"(\" + 0.230*\"algorithm\" + 0.016*\"-\" + 0.011*\"chebyshev\" + 0.009*\"plot\" + 0.009*\"disciplin\" + 0.008*\"evalu\" + 0.008*\"e2\" + 0.006*\"curv\"\n",
      "2022-02-27 22:12:00,589 : INFO : topic diff=0.215041, rho=0.245426\n",
      "2022-02-27 22:12:01,494 : INFO : -6.464 per-word bound, 88.3 perplexity estimate based on a held-out corpus of 1204 documents with 49783 words\n",
      "2022-02-27 22:12:01,494 : INFO : PROGRESS: pass 14, at document #3204/3204\n",
      "2022-02-27 22:12:02,206 : INFO : optimized alpha [0.010864941, 0.01599283, 0.014034293, 0.010941144, 0.012641087, 0.0122142425, 0.012382234, 0.012446396, 0.01067812, 0.011500303, 0.013060944, 0.01377871, 0.012453204, 0.012196475, 0.011943226, 0.012669855, 0.013516011, 0.034400396, 0.011608391, 0.011362447, 0.014669046, 0.0118291965, 0.0122089, 0.011741093, 0.010985278, 0.012600745, 0.012823453, 0.0115868235, 0.0106506, 0.01100983, 0.011077563, 0.015278916, 0.015322807, 0.0132947285, 0.012839632, 0.01455302, 0.013170999, 0.011386859, 0.0114431605, 0.011994538, 0.012238585, 0.013241213, 0.01669562, 0.013641218, 0.011855226, 0.014450609, 0.013528551, 0.012842873, 0.012278747, 0.01632639, 0.0128282355, 0.012625968, 0.01206805, 0.011612456, 0.015201919, 0.012454179, 0.010890375, 0.017006395, 0.014163759, 0.0132847, 0.01663032, 0.015635045, 0.013250055, 0.0119043365, 0.013884742, 0.012186852, 0.011471617, 0.012093485, 0.012813129, 0.013012807, 0.013909384, 0.011938647, 0.013537367, 0.012108397, 0.012062741, 0.014433022, 0.015783539, 0.014996899, 0.014310852, 0.016853055, 0.011844196, 0.010113546, 0.011877752, 0.0108199585, 0.011791072, 0.011039898, 0.013021648, 0.014307983, 0.012828848, 0.011447087, 0.012598374, 0.011567475, 0.012307132, 0.01192459, 0.01619894, 0.013227168, 0.012191656, 0.011901933, 0.012961199, 0.011910734]\n",
      "2022-02-27 22:12:02,213 : INFO : merging changes from 1204 documents into a model of 3204 documents\n",
      "2022-02-27 22:12:02,220 : INFO : topic #81 (0.010): 0.141*\"preced\" + 0.088*\"relat\" + 0.087*\"end\" + 0.072*\"boolean\" + 0.061*\"section\" + 0.060*\"function\" + 0.048*\"consid\" + 0.045*\"exist\" + 0.038*\"autom\" + 0.036*\"advantag\"\n",
      "2022-02-27 22:12:02,221 : INFO : topic #8 (0.011): 0.155*\",\" + 0.082*\"text\" + 0.031*\"pass\" + 0.031*\"program\" + 0.026*\"relat\" + 0.023*\"call\" + 0.020*\"english\" + 0.020*\"produc\" + 0.019*\"word\" + 0.019*\"system\"\n",
      "2022-02-27 22:12:02,221 : INFO : topic #79 (0.017): 0.311*\"[\" + 0.186*\"algorithm\" + 0.169*\"(\" + 0.160*\"])\" + 0.023*\"normal\" + 0.023*\"g6\" + 0.018*\"function\" + 0.015*\"due\" + 0.014*\"-\" + 0.011*\"slightli\"\n",
      "2022-02-27 22:12:02,222 : INFO : topic #57 (0.017): 0.156*\"function\" + 0.119*\"deriv\" + 0.086*\",\" + 0.078*\"algebra\" + 0.057*\"express\" + 0.053*\"evalu\" + 0.036*\"variabl\" + 0.033*\"simpl\" + 0.032*\"valu\" + 0.027*\"analyt\"\n",
      "2022-02-27 22:12:02,222 : INFO : topic #17 (0.034): 0.349*\")\" + 0.343*\"(\" + 0.225*\"algorithm\" + 0.017*\"-\" + 0.012*\"disciplin\" + 0.011*\"plot\" + 0.010*\"chebyshev\" + 0.008*\"e2\" + 0.007*\"evalu\" + 0.005*\"curv\"\n",
      "2022-02-27 22:12:02,223 : INFO : topic diff=0.220666, rho=0.245426\n",
      "2022-02-27 22:12:02,231 : INFO : PROGRESS: pass 15, at document #2000/3204\n",
      "2022-02-27 22:12:03,041 : INFO : optimized alpha [0.010876116, 0.016205126, 0.014182064, 0.010923988, 0.012683082, 0.012254143, 0.012420815, 0.012538721, 0.010693439, 0.011528528, 0.013070212, 0.013819181, 0.012466741, 0.012334676, 0.011958629, 0.012707246, 0.013474505, 0.035938542, 0.0116007505, 0.011404774, 0.014816778, 0.011828341, 0.012230103, 0.01182175, 0.011001458, 0.012619821, 0.012974053, 0.011632582, 0.010663043, 0.01102797, 0.011133741, 0.015371565, 0.015419193, 0.013300434, 0.012845449, 0.014717844, 0.013301633, 0.0113878315, 0.011477789, 0.01209159, 0.012290305, 0.013366023, 0.016881846, 0.013777096, 0.011821372, 0.014585705, 0.013623538, 0.012990633, 0.012305418, 0.016554754, 0.012921947, 0.012672123, 0.012107143, 0.011601089, 0.015332415, 0.0124990875, 0.010894633, 0.017172486, 0.014277597, 0.013317799, 0.016834429, 0.01572089, 0.013340273, 0.011931721, 0.01386538, 0.012230652, 0.011531284, 0.012110407, 0.0129748415, 0.013074524, 0.014067387, 0.011977702, 0.013595965, 0.012162826, 0.012163657, 0.014353921, 0.015881889, 0.015221261, 0.014379451, 0.017247248, 0.011850034, 0.010128362, 0.011963881, 0.010833775, 0.011825557, 0.011040883, 0.013031469, 0.014411199, 0.012941102, 0.011498672, 0.012689716, 0.011555907, 0.012322208, 0.011942171, 0.016421834, 0.013308599, 0.012299871, 0.011959727, 0.013029111, 0.011892124]\n",
      "2022-02-27 22:12:03,049 : INFO : merging changes from 2000 documents into a model of 3204 documents\n",
      "2022-02-27 22:12:03,056 : INFO : topic #81 (0.010): 0.134*\"preced\" + 0.091*\"relat\" + 0.080*\"boolean\" + 0.075*\"end\" + 0.060*\"function\" + 0.060*\"section\" + 0.045*\"consid\" + 0.041*\"exist\" + 0.039*\"autom\" + 0.036*\"advantag\"\n",
      "2022-02-27 22:12:03,057 : INFO : topic #28 (0.011): 0.153*\"-\" + 0.138*\"grammar\" + 0.108*\"context\" + 0.102*\"free\" + 0.069*\"pars\" + 0.053*\"parser\" + 0.049*\",\" + 0.045*\"algorithm\" + 0.030*\"structur\" + 0.024*\"gener\"\n",
      "2022-02-27 22:12:03,058 : INFO : topic #57 (0.017): 0.159*\"function\" + 0.118*\"deriv\" + 0.086*\",\" + 0.078*\"algebra\" + 0.058*\"evalu\" + 0.054*\"express\" + 0.037*\"variabl\" + 0.033*\"valu\" + 0.030*\"simpl\" + 0.025*\"analyt\"\n",
      "2022-02-27 22:12:03,059 : INFO : topic #79 (0.017): 0.290*\"[\" + 0.189*\"algorithm\" + 0.184*\"])\" + 0.177*\"(\" + 0.021*\"g6\" + 0.020*\"normal\" + 0.018*\"function\" + 0.015*\"-\" + 0.012*\"due\" + 0.010*\"permut\"\n",
      "2022-02-27 22:12:03,060 : INFO : topic #17 (0.036): 0.350*\")\" + 0.345*\"(\" + 0.227*\"algorithm\" + 0.016*\"-\" + 0.011*\"chebyshev\" + 0.010*\"plot\" + 0.009*\"disciplin\" + 0.008*\"evalu\" + 0.007*\"e2\" + 0.005*\"curv\"\n",
      "2022-02-27 22:12:03,061 : INFO : topic diff=0.196708, rho=0.238352\n",
      "2022-02-27 22:12:03,996 : INFO : -6.458 per-word bound, 87.9 perplexity estimate based on a held-out corpus of 1204 documents with 49783 words\n",
      "2022-02-27 22:12:03,997 : INFO : PROGRESS: pass 15, at document #3204/3204\n",
      "2022-02-27 22:12:04,765 : INFO : optimized alpha [0.011020607, 0.01649945, 0.014312004, 0.010983196, 0.012882436, 0.012415621, 0.012587021, 0.012647342, 0.010769238, 0.011624579, 0.013247605, 0.013980313, 0.012686635, 0.012507558, 0.012092524, 0.012853662, 0.013723133, 0.037096284, 0.011697447, 0.011512354, 0.015029698, 0.01195525, 0.01237748, 0.011873875, 0.011107598, 0.0127709415, 0.013101877, 0.011714908, 0.010732329, 0.011133183, 0.011206572, 0.015651679, 0.015733153, 0.013537889, 0.013027174, 0.014871213, 0.013358626, 0.011506807, 0.011569232, 0.012197593, 0.012466326, 0.013459312, 0.017241536, 0.013894417, 0.012016757, 0.014789732, 0.013752342, 0.01306933, 0.012405381, 0.016913403, 0.01311338, 0.012786721, 0.012221211, 0.0117030805, 0.015578721, 0.012700671, 0.01100872, 0.01752406, 0.014546867, 0.013475984, 0.017181808, 0.016083948, 0.0135077, 0.012049154, 0.014135798, 0.012357708, 0.011698934, 0.012278202, 0.013277232, 0.013233347, 0.014198893, 0.012100093, 0.01377919, 0.0122852735, 0.012235293, 0.014629082, 0.016268624, 0.015318258, 0.014622266, 0.017390262, 0.0119619435, 0.010181007, 0.012054214, 0.010905999, 0.0119462935, 0.011137653, 0.013179612, 0.014733775, 0.013088751, 0.0115809, 0.0127831055, 0.011691001, 0.012455223, 0.0121056745, 0.016682152, 0.013589383, 0.012372634, 0.0120536275, 0.01318498, 0.012024394]\n",
      "2022-02-27 22:12:04,772 : INFO : merging changes from 1204 documents into a model of 3204 documents\n",
      "2022-02-27 22:12:04,779 : INFO : topic #81 (0.010): 0.141*\"preced\" + 0.090*\"relat\" + 0.087*\"end\" + 0.072*\"boolean\" + 0.061*\"function\" + 0.061*\"section\" + 0.048*\"consid\" + 0.045*\"exist\" + 0.037*\"advantag\" + 0.037*\"autom\"\n",
      "2022-02-27 22:12:04,780 : INFO : topic #28 (0.011): 0.152*\"-\" + 0.141*\"grammar\" + 0.109*\"context\" + 0.101*\"free\" + 0.068*\"pars\" + 0.058*\"parser\" + 0.050*\",\" + 0.045*\"algorithm\" + 0.027*\"structur\" + 0.025*\"gener\"\n",
      "2022-02-27 22:12:04,780 : INFO : topic #79 (0.017): 0.314*\"[\" + 0.187*\"algorithm\" + 0.171*\"(\" + 0.160*\"])\" + 0.023*\"g6\" + 0.022*\"normal\" + 0.018*\"function\" + 0.015*\"due\" + 0.015*\"-\" + 0.011*\"slightli\"\n",
      "2022-02-27 22:12:04,781 : INFO : topic #57 (0.018): 0.158*\"function\" + 0.120*\"deriv\" + 0.087*\",\" + 0.078*\"algebra\" + 0.057*\"express\" + 0.052*\"evalu\" + 0.037*\"variabl\" + 0.034*\"simpl\" + 0.033*\"valu\" + 0.027*\"analyt\"\n",
      "2022-02-27 22:12:04,781 : INFO : topic #17 (0.037): 0.352*\")\" + 0.345*\"(\" + 0.222*\"algorithm\" + 0.016*\"-\" + 0.012*\"disciplin\" + 0.011*\"plot\" + 0.010*\"chebyshev\" + 0.008*\"e2\" + 0.007*\"evalu\" + 0.005*\"curv\"\n",
      "2022-02-27 22:12:04,782 : INFO : topic diff=0.202041, rho=0.238352\n",
      "2022-02-27 22:12:04,789 : INFO : PROGRESS: pass 16, at document #2000/3204\n",
      "2022-02-27 22:12:05,614 : INFO : optimized alpha [0.011031284, 0.016712835, 0.014459062, 0.010965599, 0.012924688, 0.012457286, 0.012627514, 0.012735027, 0.010784407, 0.011654902, 0.013253169, 0.014018019, 0.0126976175, 0.012655613, 0.012110278, 0.012891594, 0.013684724, 0.03866836, 0.011696976, 0.011555171, 0.015171564, 0.011959881, 0.012392281, 0.0119572, 0.011126027, 0.0127908625, 0.013251893, 0.011759845, 0.010743414, 0.0111547895, 0.011261747, 0.0157474, 0.015828809, 0.013542616, 0.0130339535, 0.015038831, 0.013490144, 0.011510403, 0.011607246, 0.012292966, 0.012516728, 0.013585244, 0.01743697, 0.014027982, 0.011980243, 0.014924163, 0.0138470745, 0.013217809, 0.01243301, 0.017129563, 0.013208332, 0.012830407, 0.012259457, 0.011692095, 0.015706703, 0.012751647, 0.011011529, 0.017678767, 0.014665447, 0.013509702, 0.017391045, 0.0161633, 0.013599323, 0.012075898, 0.014118975, 0.012402002, 0.011764142, 0.012291557, 0.013459271, 0.0133062, 0.014356133, 0.012141067, 0.013842813, 0.012337142, 0.012335857, 0.014554011, 0.016371576, 0.015544889, 0.014693977, 0.017782466, 0.011964903, 0.010198087, 0.0121360775, 0.010919682, 0.011984173, 0.011147777, 0.013185935, 0.014832964, 0.0132054435, 0.011632842, 0.0128742745, 0.011679581, 0.012474283, 0.012122545, 0.016913919, 0.0136722075, 0.012473248, 0.01211031, 0.013251402, 0.012010285]\n",
      "2022-02-27 22:12:05,621 : INFO : merging changes from 2000 documents into a model of 3204 documents\n",
      "2022-02-27 22:12:05,628 : INFO : topic #81 (0.010): 0.134*\"preced\" + 0.093*\"relat\" + 0.079*\"boolean\" + 0.075*\"end\" + 0.062*\"function\" + 0.061*\"section\" + 0.046*\"consid\" + 0.042*\"exist\" + 0.038*\"autom\" + 0.037*\"advantag\"\n",
      "2022-02-27 22:12:05,629 : INFO : topic #28 (0.011): 0.155*\"-\" + 0.140*\"grammar\" + 0.108*\"context\" + 0.103*\"free\" + 0.069*\"pars\" + 0.053*\"parser\" + 0.050*\",\" + 0.044*\"algorithm\" + 0.031*\"structur\" + 0.024*\"gener\"\n",
      "2022-02-27 22:12:05,630 : INFO : topic #57 (0.018): 0.161*\"function\" + 0.119*\"deriv\" + 0.087*\",\" + 0.078*\"algebra\" + 0.057*\"evalu\" + 0.053*\"express\" + 0.037*\"variabl\" + 0.034*\"valu\" + 0.031*\"simpl\" + 0.025*\"analyt\"\n",
      "2022-02-27 22:12:05,632 : INFO : topic #79 (0.018): 0.292*\"[\" + 0.189*\"algorithm\" + 0.183*\"])\" + 0.178*\"(\" + 0.021*\"g6\" + 0.020*\"normal\" + 0.018*\"function\" + 0.015*\"-\" + 0.012*\"due\" + 0.010*\"permut\"\n",
      "2022-02-27 22:12:05,632 : INFO : topic #17 (0.039): 0.352*\")\" + 0.347*\"(\" + 0.225*\"algorithm\" + 0.016*\"-\" + 0.010*\"chebyshev\" + 0.010*\"plot\" + 0.009*\"disciplin\" + 0.008*\"evalu\" + 0.007*\"e2\" + 0.005*\"curv\"\n",
      "2022-02-27 22:12:05,633 : INFO : topic diff=0.181425, rho=0.231857\n",
      "2022-02-27 22:12:06,682 : INFO : -6.451 per-word bound, 87.5 perplexity estimate based on a held-out corpus of 1204 documents with 49783 words\n",
      "2022-02-27 22:12:06,682 : INFO : PROGRESS: pass 16, at document #3204/3204\n",
      "2022-02-27 22:12:07,410 : INFO : optimized alpha [0.011181846, 0.017003458, 0.0145916715, 0.011023803, 0.013121003, 0.012618353, 0.012793399, 0.01284874, 0.010860848, 0.011758108, 0.013432459, 0.01417337, 0.012919057, 0.012835757, 0.012239346, 0.013037789, 0.013924072, 0.039845884, 0.011800835, 0.011660716, 0.015389792, 0.012082084, 0.01253694, 0.012008078, 0.011223739, 0.012936712, 0.013379778, 0.011838245, 0.010811392, 0.011257989, 0.011328694, 0.016023545, 0.016139016, 0.013776391, 0.013212439, 0.015188977, 0.013535052, 0.011627094, 0.011701269, 0.012401517, 0.012689915, 0.0136789875, 0.017782992, 0.014137198, 0.012177007, 0.015124711, 0.013967732, 0.013294467, 0.012533441, 0.017491674, 0.013399293, 0.012942714, 0.01237365, 0.011789814, 0.015943088, 0.012957691, 0.011131983, 0.018036356, 0.014934614, 0.013667582, 0.017738152, 0.016526213, 0.0137770055, 0.012193424, 0.014391002, 0.01252668, 0.011936279, 0.012458838, 0.013773741, 0.0134727005, 0.014481895, 0.01226344, 0.014020169, 0.012464366, 0.012408164, 0.014824491, 0.016786829, 0.01563866, 0.014936084, 0.017923962, 0.012076944, 0.010253673, 0.012224483, 0.010992632, 0.012102599, 0.011247081, 0.013333832, 0.015155347, 0.01335583, 0.011713364, 0.012965597, 0.011812132, 0.012609642, 0.012283179, 0.017186884, 0.013947801, 0.012544367, 0.012206941, 0.013401849, 0.012137708]\n",
      "2022-02-27 22:12:07,418 : INFO : merging changes from 1204 documents into a model of 3204 documents\n",
      "2022-02-27 22:12:07,426 : INFO : topic #81 (0.010): 0.140*\"preced\" + 0.094*\"relat\" + 0.086*\"end\" + 0.072*\"boolean\" + 0.063*\"function\" + 0.061*\"section\" + 0.049*\"consid\" + 0.046*\"exist\" + 0.037*\"advantag\" + 0.036*\"autom\"\n",
      "2022-02-27 22:12:07,427 : INFO : topic #8 (0.011): 0.159*\",\" + 0.083*\"text\" + 0.033*\"pass\" + 0.031*\"program\" + 0.026*\"relat\" + 0.023*\"call\" + 0.021*\"english\" + 0.021*\"produc\" + 0.019*\"word\" + 0.019*\"oper\"\n",
      "2022-02-27 22:12:07,427 : INFO : topic #79 (0.018): 0.315*\"[\" + 0.187*\"algorithm\" + 0.172*\"(\" + 0.160*\"])\" + 0.022*\"g6\" + 0.022*\"normal\" + 0.018*\"function\" + 0.015*\"-\" + 0.014*\"due\" + 0.011*\"slightli\"\n",
      "2022-02-27 22:12:07,428 : INFO : topic #57 (0.018): 0.161*\"function\" + 0.121*\"deriv\" + 0.088*\",\" + 0.078*\"algebra\" + 0.056*\"express\" + 0.052*\"evalu\" + 0.036*\"variabl\" + 0.034*\"simpl\" + 0.034*\"valu\" + 0.027*\"analyt\"\n",
      "2022-02-27 22:12:07,429 : INFO : topic #17 (0.040): 0.353*\")\" + 0.347*\"(\" + 0.220*\"algorithm\" + 0.016*\"-\" + 0.012*\"disciplin\" + 0.011*\"plot\" + 0.010*\"chebyshev\" + 0.007*\"e2\" + 0.007*\"evalu\" + 0.005*\"curv\"\n",
      "2022-02-27 22:12:07,430 : INFO : topic diff=0.186727, rho=0.231857\n",
      "2022-02-27 22:12:07,443 : INFO : PROGRESS: pass 17, at document #2000/3204\n",
      "2022-02-27 22:12:08,245 : INFO : optimized alpha [0.011199615, 0.01722953, 0.014736543, 0.011007016, 0.013163552, 0.012657596, 0.012837264, 0.012936371, 0.010879551, 0.011787873, 0.013435999, 0.0142166875, 0.012930585, 0.012988015, 0.012256606, 0.013076259, 0.013883909, 0.04149748, 0.0118017765, 0.011706634, 0.015531278, 0.012089338, 0.012552661, 0.01208734, 0.01124316, 0.012956081, 0.013526351, 0.011886416, 0.010822439, 0.011277899, 0.011384263, 0.016115073, 0.01623035, 0.013783334, 0.013217174, 0.0153577225, 0.013662982, 0.011637198, 0.011741239, 0.012500959, 0.012742037, 0.013804514, 0.017969515, 0.014267047, 0.012143401, 0.015256928, 0.014057586, 0.013443817, 0.012557727, 0.017713392, 0.013497111, 0.012982576, 0.012413995, 0.011783275, 0.016068792, 0.013007354, 0.011134654, 0.018183859, 0.0150545165, 0.013700388, 0.017962817, 0.016610565, 0.013868571, 0.012222347, 0.014374975, 0.012572939, 0.012001592, 0.0124771735, 0.013962639, 0.013541063, 0.014636915, 0.012304993, 0.01408551, 0.012513777, 0.012507126, 0.014749902, 0.016881185, 0.015867723, 0.015011104, 0.018314388, 0.012079847, 0.010270588, 0.012306381, 0.011007428, 0.012139724, 0.011263465, 0.013341423, 0.015257388, 0.013480052, 0.0117657585, 0.013058106, 0.011800823, 0.012629571, 0.012299395, 0.017412541, 0.014030435, 0.012643369, 0.012263957, 0.013466902, 0.012123853]\n",
      "2022-02-27 22:12:08,252 : INFO : merging changes from 2000 documents into a model of 3204 documents\n",
      "2022-02-27 22:12:08,259 : INFO : topic #81 (0.010): 0.133*\"preced\" + 0.096*\"relat\" + 0.079*\"boolean\" + 0.075*\"end\" + 0.064*\"function\" + 0.060*\"section\" + 0.047*\"consid\" + 0.043*\"exist\" + 0.038*\"autom\" + 0.037*\"advantag\"\n",
      "2022-02-27 22:12:08,259 : INFO : topic #28 (0.011): 0.155*\"-\" + 0.141*\"grammar\" + 0.108*\"context\" + 0.103*\"free\" + 0.070*\"pars\" + 0.053*\"parser\" + 0.050*\",\" + 0.043*\"algorithm\" + 0.031*\"structur\" + 0.024*\"gener\"\n",
      "2022-02-27 22:12:08,260 : INFO : topic #57 (0.018): 0.163*\"function\" + 0.120*\"deriv\" + 0.087*\",\" + 0.078*\"algebra\" + 0.056*\"evalu\" + 0.052*\"express\" + 0.037*\"variabl\" + 0.035*\"valu\" + 0.032*\"simpl\" + 0.025*\"analyt\"\n",
      "2022-02-27 22:12:08,261 : INFO : topic #79 (0.018): 0.294*\"[\" + 0.190*\"algorithm\" + 0.182*\"])\" + 0.180*\"(\" + 0.021*\"g6\" + 0.020*\"normal\" + 0.018*\"function\" + 0.015*\"-\" + 0.012*\"due\" + 0.010*\"permut\"\n",
      "2022-02-27 22:12:08,262 : INFO : topic #17 (0.041): 0.353*\")\" + 0.348*\"(\" + 0.223*\"algorithm\" + 0.016*\"-\" + 0.010*\"chebyshev\" + 0.010*\"plot\" + 0.009*\"disciplin\" + 0.008*\"evalu\" + 0.007*\"e2\" + 0.005*\"curv\"\n",
      "2022-02-27 22:12:08,263 : INFO : topic diff=0.168447, rho=0.225865\n",
      "2022-02-27 22:12:09,132 : INFO : -6.444 per-word bound, 87.1 perplexity estimate based on a held-out corpus of 1204 documents with 49783 words\n",
      "2022-02-27 22:12:09,132 : INFO : PROGRESS: pass 17, at document #3204/3204\n",
      "2022-02-27 22:12:09,818 : INFO : optimized alpha [0.0113500375, 0.017526131, 0.0148664145, 0.011064302, 0.013349631, 0.012823188, 0.012995723, 0.013050349, 0.010954595, 0.011886945, 0.013612277, 0.014377422, 0.013149032, 0.013165932, 0.012383401, 0.013219894, 0.014116868, 0.042681914, 0.011910414, 0.011816888, 0.015752293, 0.012209389, 0.012708884, 0.012130263, 0.01134549, 0.013096949, 0.013654427, 0.011963298, 0.010889197, 0.011377069, 0.01146072, 0.01639358, 0.01655532, 0.014019014, 0.013387743, 0.015498945, 0.013706593, 0.011760657, 0.011835767, 0.012607494, 0.012914972, 0.013906614, 0.01832208, 0.0143738035, 0.012350976, 0.01545703, 0.014175915, 0.013521029, 0.012658674, 0.01808616, 0.013682889, 0.013090322, 0.012528431, 0.0118836835, 0.016301619, 0.0132082105, 0.011255201, 0.018537423, 0.015323873, 0.013855518, 0.018310305, 0.016989306, 0.014040876, 0.012337757, 0.014648804, 0.01270252, 0.012182834, 0.012641824, 0.014297654, 0.013699844, 0.014757289, 0.012425216, 0.014262726, 0.012638818, 0.012577852, 0.015013096, 0.017290724, 0.015958523, 0.015249836, 0.018451046, 0.012187575, 0.010327112, 0.012399992, 0.01107698, 0.012256035, 0.011358789, 0.013486692, 0.015585547, 0.013628122, 0.011846952, 0.013152404, 0.011933236, 0.012760148, 0.012464436, 0.017678712, 0.014314173, 0.012712844, 0.012354159, 0.013617234, 0.012253553]\n",
      "2022-02-27 22:12:09,825 : INFO : merging changes from 1204 documents into a model of 3204 documents\n",
      "2022-02-27 22:12:09,832 : INFO : topic #81 (0.010): 0.139*\"preced\" + 0.095*\"relat\" + 0.086*\"end\" + 0.071*\"boolean\" + 0.065*\"function\" + 0.061*\"section\" + 0.049*\"consid\" + 0.046*\"exist\" + 0.038*\"advantag\" + 0.035*\"autom\"\n",
      "2022-02-27 22:12:09,833 : INFO : topic #28 (0.011): 0.154*\"-\" + 0.143*\"grammar\" + 0.109*\"context\" + 0.101*\"free\" + 0.069*\"pars\" + 0.058*\"parser\" + 0.051*\",\" + 0.043*\"algorithm\" + 0.027*\"structur\" + 0.025*\"gener\"\n",
      "2022-02-27 22:12:09,834 : INFO : topic #79 (0.018): 0.317*\"[\" + 0.188*\"algorithm\" + 0.174*\"(\" + 0.160*\"])\" + 0.022*\"g6\" + 0.022*\"normal\" + 0.018*\"function\" + 0.015*\"-\" + 0.013*\"due\" + 0.011*\"slightli\"\n",
      "2022-02-27 22:12:09,834 : INFO : topic #57 (0.019): 0.163*\"function\" + 0.122*\"deriv\" + 0.088*\",\" + 0.078*\"algebra\" + 0.055*\"express\" + 0.051*\"evalu\" + 0.036*\"variabl\" + 0.035*\"simpl\" + 0.035*\"valu\" + 0.027*\"analyt\"\n",
      "2022-02-27 22:12:09,835 : INFO : topic #17 (0.043): 0.355*\")\" + 0.348*\"(\" + 0.218*\"algorithm\" + 0.016*\"-\" + 0.011*\"disciplin\" + 0.011*\"plot\" + 0.010*\"chebyshev\" + 0.007*\"e2\" + 0.007*\"evalu\" + 0.004*\"curv\"\n",
      "2022-02-27 22:12:09,836 : INFO : topic diff=0.173509, rho=0.225865\n",
      "2022-02-27 22:12:09,843 : INFO : PROGRESS: pass 18, at document #2000/3204\n",
      "2022-02-27 22:12:10,504 : INFO : optimized alpha [0.011363496, 0.01774996, 0.015009257, 0.011048272, 0.01338817, 0.012865761, 0.013035715, 0.013136627, 0.010975491, 0.011916183, 0.013616859, 0.014421274, 0.013161105, 0.013324016, 0.012401606, 0.013258945, 0.014079806, 0.044376258, 0.011911354, 0.011865861, 0.015897082, 0.012216422, 0.012719859, 0.012206948, 0.011364559, 0.013114304, 0.013802311, 0.012013354, 0.010900206, 0.011399164, 0.011516718, 0.016482797, 0.016655035, 0.014026564, 0.013393531, 0.015670719, 0.013832614, 0.011770462, 0.01187766, 0.012708256, 0.012964554, 0.014033484, 0.018512066, 0.01450482, 0.012325495, 0.0155888675, 0.0142611535, 0.013668469, 0.012683929, 0.01830564, 0.013780632, 0.01313533, 0.0125665935, 0.011876061, 0.01642687, 0.013256581, 0.011258976, 0.018688066, 0.015447097, 0.013889076, 0.018530522, 0.01707866, 0.014137112, 0.01236886, 0.014633596, 0.012752159, 0.012253611, 0.01265814, 0.014504883, 0.0137777645, 0.014908587, 0.012464588, 0.014328354, 0.012691454, 0.012675333, 0.014940668, 0.017378246, 0.01618665, 0.015319676, 0.018837769, 0.012191787, 0.010345023, 0.0124888, 0.011091664, 0.0122937905, 0.011378705, 0.01349238, 0.015692264, 0.013747782, 0.011901079, 0.0132434815, 0.0119220195, 0.012779626, 0.012481461, 0.017903889, 0.014398257, 0.012813214, 0.012411584, 0.013682498, 0.012241309]\n",
      "2022-02-27 22:12:10,510 : INFO : merging changes from 2000 documents into a model of 3204 documents\n",
      "2022-02-27 22:12:10,518 : INFO : topic #81 (0.010): 0.132*\"preced\" + 0.099*\"relat\" + 0.078*\"boolean\" + 0.075*\"end\" + 0.066*\"function\" + 0.060*\"section\" + 0.047*\"consid\" + 0.043*\"exist\" + 0.037*\"advantag\" + 0.037*\"autom\"\n",
      "2022-02-27 22:12:10,519 : INFO : topic #28 (0.011): 0.156*\"-\" + 0.141*\"grammar\" + 0.108*\"context\" + 0.103*\"free\" + 0.070*\"pars\" + 0.053*\"parser\" + 0.051*\",\" + 0.042*\"algorithm\" + 0.031*\"structur\" + 0.024*\"gener\"\n",
      "2022-02-27 22:12:10,519 : INFO : topic #57 (0.019): 0.165*\"function\" + 0.120*\"deriv\" + 0.088*\",\" + 0.078*\"algebra\" + 0.055*\"evalu\" + 0.052*\"express\" + 0.037*\"variabl\" + 0.036*\"valu\" + 0.033*\"simpl\" + 0.026*\"analyt\"\n",
      "2022-02-27 22:12:10,520 : INFO : topic #79 (0.019): 0.296*\"[\" + 0.191*\"algorithm\" + 0.181*\"])\" + 0.181*\"(\" + 0.021*\"g6\" + 0.020*\"normal\" + 0.018*\"function\" + 0.016*\"-\" + 0.011*\"due\" + 0.010*\"permut\"\n",
      "2022-02-27 22:12:10,520 : INFO : topic #17 (0.044): 0.354*\")\" + 0.350*\"(\" + 0.222*\"algorithm\" + 0.015*\"-\" + 0.010*\"chebyshev\" + 0.010*\"plot\" + 0.009*\"disciplin\" + 0.008*\"evalu\" + 0.007*\"e2\" + 0.004*\"curv\"\n",
      "2022-02-27 22:12:10,521 : INFO : topic diff=0.157547, rho=0.220316\n",
      "2022-02-27 22:12:11,307 : INFO : -6.438 per-word bound, 86.7 perplexity estimate based on a held-out corpus of 1204 documents with 49783 words\n",
      "2022-02-27 22:12:11,308 : INFO : PROGRESS: pass 18, at document #3204/3204\n",
      "2022-02-27 22:12:11,931 : INFO : optimized alpha [0.011513841, 0.018049773, 0.0151365595, 0.011104709, 0.013574166, 0.013026636, 0.013184547, 0.013251033, 0.011053329, 0.012015793, 0.013792819, 0.014574019, 0.013376797, 0.013514428, 0.012526307, 0.01340268, 0.014314497, 0.04557053, 0.012018156, 0.011972089, 0.016112419, 0.012336708, 0.012869017, 0.012251266, 0.011467282, 0.013255264, 0.0139307445, 0.012093236, 0.010963804, 0.011500851, 0.011587529, 0.016751735, 0.016983029, 0.014264399, 0.013561426, 0.015800381, 0.013872487, 0.011889701, 0.011972688, 0.012810535, 0.013135077, 0.014128251, 0.018858142, 0.0146067245, 0.01252576, 0.015788766, 0.01437463, 0.013743864, 0.012787725, 0.01868618, 0.013971583, 0.013246061, 0.012685896, 0.011972556, 0.016650219, 0.0134598175, 0.011381738, 0.019034484, 0.0157254, 0.01404169, 0.018871352, 0.017451758, 0.014312096, 0.012484571, 0.0149068395, 0.012882054, 0.012434994, 0.012827265, 0.014848185, 0.0139419185, 0.015031892, 0.0125804655, 0.014510841, 0.012819111, 0.012744572, 0.015202741, 0.017801354, 0.01627471, 0.015560951, 0.018969819, 0.012299901, 0.010402492, 0.012582929, 0.011164043, 0.012408136, 0.011476641, 0.013637731, 0.016020933, 0.013896122, 0.0119873965, 0.013333542, 0.012045655, 0.012905695, 0.01264175, 0.01818643, 0.014677186, 0.012869408, 0.012500167, 0.0138353715, 0.012371109]\n",
      "2022-02-27 22:12:11,938 : INFO : merging changes from 1204 documents into a model of 3204 documents\n",
      "2022-02-27 22:12:11,945 : INFO : topic #81 (0.010): 0.138*\"preced\" + 0.097*\"relat\" + 0.085*\"end\" + 0.071*\"boolean\" + 0.067*\"function\" + 0.061*\"section\" + 0.049*\"consid\" + 0.047*\"exist\" + 0.039*\"advantag\" + 0.035*\"autom\"\n",
      "2022-02-27 22:12:11,946 : INFO : topic #28 (0.011): 0.154*\"-\" + 0.144*\"grammar\" + 0.110*\"context\" + 0.102*\"free\" + 0.070*\"pars\" + 0.058*\"parser\" + 0.052*\",\" + 0.042*\"algorithm\" + 0.028*\"structur\" + 0.025*\"gener\"\n",
      "2022-02-27 22:12:11,946 : INFO : topic #79 (0.019): 0.318*\"[\" + 0.189*\"algorithm\" + 0.175*\"(\" + 0.160*\"])\" + 0.022*\"g6\" + 0.022*\"normal\" + 0.018*\"function\" + 0.015*\"-\" + 0.013*\"due\" + 0.011*\"slightli\"\n",
      "2022-02-27 22:12:11,947 : INFO : topic #57 (0.019): 0.165*\"function\" + 0.123*\"deriv\" + 0.088*\",\" + 0.078*\"algebra\" + 0.054*\"express\" + 0.051*\"evalu\" + 0.036*\"variabl\" + 0.036*\"valu\" + 0.036*\"simpl\" + 0.027*\"analyt\"\n",
      "2022-02-27 22:12:11,947 : INFO : topic #17 (0.046): 0.356*\")\" + 0.350*\"(\" + 0.217*\"algorithm\" + 0.016*\"-\" + 0.011*\"plot\" + 0.011*\"disciplin\" + 0.010*\"chebyshev\" + 0.007*\"e2\" + 0.007*\"evalu\" + 0.004*\"longer\"\n",
      "2022-02-27 22:12:11,948 : INFO : topic diff=0.162554, rho=0.220316\n",
      "2022-02-27 22:12:11,956 : INFO : PROGRESS: pass 19, at document #2000/3204\n",
      "2022-02-27 22:12:12,648 : INFO : optimized alpha [0.0115292845, 0.018283045, 0.015277511, 0.011091765, 0.013611701, 0.013065436, 0.013225138, 0.013337386, 0.011077534, 0.012045817, 0.013796946, 0.014623329, 0.013387962, 0.0136742415, 0.01254544, 0.0134409135, 0.014280382, 0.047294244, 0.012019086, 0.012022815, 0.016265623, 0.012347602, 0.012882345, 0.012329488, 0.011485996, 0.013270693, 0.014075527, 0.012146472, 0.010974782, 0.011524994, 0.011640194, 0.016835224, 0.01708412, 0.014271022, 0.013571126, 0.015968362, 0.013996752, 0.011904412, 0.012013898, 0.012908561, 0.01318637, 0.014256568, 0.019045593, 0.014731291, 0.012498749, 0.01592032, 0.014455409, 0.013890995, 0.012812559, 0.018903485, 0.014069324, 0.01329169, 0.012723319, 0.01196522, 0.01676977, 0.013508527, 0.011386549, 0.0191822, 0.015846958, 0.014077502, 0.01910562, 0.017535046, 0.0144083975, 0.012513724, 0.014892442, 0.012933587, 0.012510017, 0.0128429355, 0.015071141, 0.01400638, 0.015181282, 0.012620485, 0.014583011, 0.012869436, 0.012839289, 0.015129023, 0.01790148, 0.01649686, 0.015627425, 0.019356942, 0.012305386, 0.010423597, 0.012671872, 0.01117859, 0.0124464985, 0.011497456, 0.013641742, 0.016128993, 0.014015917, 0.012041968, 0.01342468, 0.012034558, 0.012927558, 0.01265955, 0.01841343, 0.0147611955, 0.012966929, 0.01255537, 0.01389943, 0.012362974]\n",
      "2022-02-27 22:12:12,656 : INFO : merging changes from 2000 documents into a model of 3204 documents\n",
      "2022-02-27 22:12:12,664 : INFO : topic #81 (0.010): 0.131*\"preced\" + 0.100*\"relat\" + 0.077*\"boolean\" + 0.074*\"end\" + 0.066*\"function\" + 0.060*\"section\" + 0.047*\"consid\" + 0.043*\"exist\" + 0.039*\"advantag\" + 0.037*\"autom\"\n",
      "2022-02-27 22:12:12,664 : INFO : topic #28 (0.011): 0.156*\"-\" + 0.142*\"grammar\" + 0.108*\"context\" + 0.103*\"free\" + 0.070*\"pars\" + 0.053*\"parser\" + 0.051*\",\" + 0.041*\"algorithm\" + 0.031*\"structur\" + 0.024*\"phrase\"\n",
      "2022-02-27 22:12:12,665 : INFO : topic #57 (0.019): 0.167*\"function\" + 0.121*\"deriv\" + 0.088*\",\" + 0.078*\"algebra\" + 0.055*\"evalu\" + 0.051*\"express\" + 0.037*\"valu\" + 0.036*\"variabl\" + 0.033*\"simpl\" + 0.026*\"analyt\"\n",
      "2022-02-27 22:12:12,666 : INFO : topic #79 (0.019): 0.297*\"[\" + 0.191*\"algorithm\" + 0.182*\"(\" + 0.181*\"])\" + 0.021*\"g6\" + 0.020*\"normal\" + 0.018*\"function\" + 0.016*\"-\" + 0.010*\"due\" + 0.010*\"permut\"\n",
      "2022-02-27 22:12:12,667 : INFO : topic #17 (0.047): 0.355*\")\" + 0.351*\"(\" + 0.221*\"algorithm\" + 0.015*\"-\" + 0.010*\"chebyshev\" + 0.010*\"plot\" + 0.009*\"disciplin\" + 0.008*\"evalu\" + 0.007*\"e2\" + 0.004*\"longer\"\n",
      "2022-02-27 22:12:12,667 : INFO : topic diff=0.148014, rho=0.215156\n",
      "2022-02-27 22:12:13,502 : INFO : -6.434 per-word bound, 86.5 perplexity estimate based on a held-out corpus of 1204 documents with 49783 words\n",
      "2022-02-27 22:12:13,503 : INFO : PROGRESS: pass 19, at document #3204/3204\n",
      "2022-02-27 22:12:14,141 : INFO : optimized alpha [0.011677693, 0.01858293, 0.01540244, 0.011147403, 0.013795256, 0.013231095, 0.013386181, 0.01344746, 0.011152113, 0.012143854, 0.013962975, 0.014784427, 0.013608265, 0.013870057, 0.012668207, 0.013584834, 0.014509357, 0.0484788, 0.012124167, 0.012131676, 0.016483892, 0.012468254, 0.013027029, 0.012372944, 0.011587158, 0.013409466, 0.01419939, 0.012229362, 0.011039379, 0.011625107, 0.011711937, 0.017103707, 0.017412405, 0.01450859, 0.013736564, 0.016095454, 0.014035567, 0.012028254, 0.012109497, 0.013009091, 0.013354628, 0.014346966, 0.019395003, 0.014833802, 0.0127010085, 0.016114483, 0.01456686, 0.013969597, 0.012916986, 0.01928863, 0.014260526, 0.013393371, 0.012843011, 0.012057935, 0.016996035, 0.013719082, 0.011509539, 0.019528128, 0.016117087, 0.014227783, 0.019450076, 0.017911669, 0.014586087, 0.012629887, 0.015162663, 0.0130638685, 0.012698448, 0.0130120125, 0.015425587, 0.014173356, 0.01530762, 0.012734565, 0.014768215, 0.0129998205, 0.012907162, 0.015390184, 0.0183322, 0.016582271, 0.015874274, 0.019494802, 0.012413993, 0.0104838675, 0.012771158, 0.011249834, 0.0125656715, 0.0115896985, 0.013779834, 0.01645534, 0.014172442, 0.012122524, 0.013513016, 0.012160625, 0.013056305, 0.012826853, 0.018692749, 0.015056805, 0.013026633, 0.012644677, 0.014047519, 0.012488538]\n",
      "2022-02-27 22:12:14,148 : INFO : merging changes from 1204 documents into a model of 3204 documents\n",
      "2022-02-27 22:12:14,154 : INFO : topic #81 (0.010): 0.137*\"preced\" + 0.099*\"relat\" + 0.084*\"end\" + 0.071*\"boolean\" + 0.068*\"function\" + 0.060*\"section\" + 0.049*\"consid\" + 0.047*\"exist\" + 0.040*\"advantag\" + 0.035*\"autom\"\n",
      "2022-02-27 22:12:14,155 : INFO : topic #28 (0.011): 0.154*\"-\" + 0.145*\"grammar\" + 0.110*\"context\" + 0.102*\"free\" + 0.070*\"pars\" + 0.058*\"parser\" + 0.053*\",\" + 0.041*\"algorithm\" + 0.028*\"structur\" + 0.025*\"gener\"\n",
      "2022-02-27 22:12:14,156 : INFO : topic #57 (0.020): 0.166*\"function\" + 0.124*\"deriv\" + 0.089*\",\" + 0.079*\"algebra\" + 0.053*\"express\" + 0.051*\"evalu\" + 0.037*\"valu\" + 0.036*\"simpl\" + 0.036*\"variabl\" + 0.028*\"analyt\"\n",
      "2022-02-27 22:12:14,156 : INFO : topic #79 (0.019): 0.320*\"[\" + 0.189*\"algorithm\" + 0.176*\"(\" + 0.160*\"])\" + 0.022*\"g6\" + 0.022*\"normal\" + 0.018*\"function\" + 0.015*\"-\" + 0.012*\"due\" + 0.011*\"slightli\"\n",
      "2022-02-27 22:12:14,157 : INFO : topic #17 (0.048): 0.357*\")\" + 0.351*\"(\" + 0.216*\"algorithm\" + 0.016*\"-\" + 0.011*\"plot\" + 0.011*\"disciplin\" + 0.010*\"chebyshev\" + 0.007*\"e2\" + 0.007*\"evalu\" + 0.004*\"longer\"\n",
      "2022-02-27 22:12:14,158 : INFO : topic diff=0.152621, rho=0.215156\n"
     ]
    },
    {
     "data": {
      "text/plain": [
       "[(0, 0.0047905664),\n",
       " (1, 0.0076233177),\n",
       " (2, 0.0063185776),\n",
       " (3, 0.0045730243),\n",
       " (4, 0.005659259),\n",
       " (5, 0.005427822),\n",
       " (6, 0.005491443),\n",
       " (7, 0.0055165817),\n",
       " (8, 0.0045749564),\n",
       " (9, 0.0049818004),\n",
       " (10, 0.0057280627),\n",
       " (11, 0.0060650487),\n",
       " (12, 0.005582549),\n",
       " (13, 0.0056899446),\n",
       " (14, 0.005196907),\n",
       " (15, 0.005572937),\n",
       " (16, 0.005952206),\n",
       " (17, 0.019887568),\n",
       " (18, 0.0049737245),\n",
       " (19, 0.004976805),\n",
       " (20, 0.0067622242),\n",
       " (21, 0.00511488),\n",
       " (22, 0.0053441077),\n",
       " (23, 0.0050757807),\n",
       " (24, 0.0047534257),\n",
       " (25, 0.005500995),\n",
       " (26, 0.005825048),\n",
       " (27, 0.0050168787),\n",
       " (28, 0.004528709),\n",
       " (29, 0.004768994),\n",
       " (30, 0.0048046145),\n",
       " (31, 0.0070164925),\n",
       " (32, 0.0071431305),\n",
       " (33, 0.0059518917),\n",
       " (34, 0.0056351814),\n",
       " (35, 0.0066028745),\n",
       " (36, 0.005757842),\n",
       " (37, 0.0049343775),\n",
       " (38, 0.0049677063),\n",
       " (39, 0.005336749),\n",
       " (40, 0.0054784995),\n",
       " (41, 0.005885588),\n",
       " (42, 0.007956455),\n",
       " (43, 0.006085304),\n",
       " (44, 0.0052103633),\n",
       " (45, 0.0066106804),\n",
       " (46, 0.005975796),\n",
       " (47, 0.0057307794),\n",
       " (48, 0.005298964),\n",
       " (49, 0.007912818),\n",
       " (50, 0.0058501274),\n",
       " (51, 0.005494393),\n",
       " (52, 0.0052686175),\n",
       " (53, 0.0049465536),\n",
       " (54, 0.006972322),\n",
       " (55, 0.00562801),\n",
       " (56, 0.004721584),\n",
       " (57, 0.008011068),\n",
       " (58, 0.0066117486),\n",
       " (59, 0.0058366954),\n",
       " (60, 0.007979048),\n",
       " (61, 0.007347944),\n",
       " (62, 0.0059836833),\n",
       " (63, 0.005181187),\n",
       " (64, 0.006220213),\n",
       " (65, 0.0053592203),\n",
       " (66, 0.0052093132),\n",
       " (67, 0.005337947),\n",
       " (68, 0.0063280733),\n",
       " (69, 0.005814368),\n",
       " (70, 0.0062796795),\n",
       " (71, 0.41545558),\n",
       " (72, 0.006058398),\n",
       " (73, 0.005332946),\n",
       " (74, 0.0052949344),\n",
       " (75, 0.00631355),\n",
       " (76, 0.0075204596),\n",
       " (77, 0.0068025826),\n",
       " (78, 0.0065121395),\n",
       " (79, 0.007997396),\n",
       " (80, 0.00509262),\n",
       " (81, 0.0043008206),\n",
       " (82, 0.0052391407),\n",
       " (83, 0.0046150447),\n",
       " (84, 0.005154844),\n",
       " (85, 0.0047544683),\n",
       " (86, 0.0056529325),\n",
       " (87, 0.006750511),\n",
       " (88, 0.005813993),\n",
       " (89, 0.00497305),\n",
       " (90, 0.005543475),\n",
       " (91, 0.0049886806),\n",
       " (92, 0.0053561176),\n",
       " (93, 0.005261989),\n",
       " (94, 0.0076683685),\n",
       " (95, 0.006176787),\n",
       " (96, 0.005343945),\n",
       " (97, 0.0051872544),\n",
       " (98, 0.0057627456),\n",
       " (99, 0.0051232013)]"
      ]
     },
     "execution_count": 86,
     "metadata": {},
     "output_type": "execute_result"
    }
   ],
   "source": [
    "##### Function check\n",
    "lda = LdaRetrievalModel(doc_repr_2)\n",
    "lda.train_model()\n",
    "\n",
    "# you can now get an LDA vector for a given query in the following way:\n",
    "lda.vectorize_query(\"report\")\n",
    "##### "
   ]
  },
  {
   "cell_type": "markdown",
   "metadata": {
    "deletable": false,
    "editable": false,
    "nbgrader": {
     "cell_type": "markdown",
     "checksum": "32d83b6ea79ca3ddb789a7f8805a1b25",
     "grade": false,
     "grade_id": "cell-0e24b727d5908c0e",
     "locked": true,
     "points": 5,
     "schema_version": 3,
     "solution": false,
     "task": true
    }
   },
   "source": [
    "\\#### Please do not change this. This cell is used for grading."
   ]
  },
  {
   "cell_type": "markdown",
   "metadata": {
    "deletable": false,
    "editable": false,
    "nbgrader": {
     "cell_type": "markdown",
     "checksum": "114a934f0b9ce696e6cf09d3b8da6a3d",
     "grade": false,
     "grade_id": "cell-b1bffcb970b18aeb",
     "locked": true,
     "schema_version": 3,
     "solution": false,
     "task": false
    }
   },
   "source": [
    "---\n",
    "Now we can use the `DenseRetrievalModel` class to obtain an LDA search function.\n",
    "You can test your LDA model in the following cell: Try finding queries which are lexically different to documents, but semantically similar - does LDA work well for these queries?!"
   ]
  },
  {
   "cell_type": "code",
   "execution_count": 87,
   "metadata": {},
   "outputs": [
    {
     "data": {
      "application/vnd.jupyter.widget-view+json": {
       "model_id": "76f84e1a39b5431fb2d71a5f38ec16bb",
       "version_major": 2,
       "version_minor": 0
      },
      "text/plain": [
       "Text(value='', description='Search Bar')"
      ]
     },
     "metadata": {},
     "output_type": "display_data"
    }
   ],
   "source": [
    "drm_lda = DenseRetrievalRanker(lda, jenson_shannon_sim)\n",
    "\n",
    "# test your LDA model\n",
    "search_fn = drm_lda.search\n",
    "\n",
    "text = widgets.Text(description=\"Search Bar\", width=200)\n",
    "display(text)\n",
    "\n",
    "\n",
    "text.on_submit(handle_submit_2)"
   ]
  },
  {
   "cell_type": "markdown",
   "metadata": {
    "deletable": false,
    "editable": false,
    "nbgrader": {
     "cell_type": "markdown",
     "checksum": "9d7f15863b655119b45f4d89354e5661",
     "grade": false,
     "grade_id": "cell-190cd0854b2791cc",
     "locked": true,
     "schema_version": 3,
     "solution": false,
     "task": false
    }
   },
   "source": [
    "## Section 8: Word2Vec/Doc2Vec (20 points) <a class=\"anchor\" id=\"2vec\"></a>\n",
    "\n",
    "[Back to Part 2](#part2)\n",
    "\n",
    "We will implement two other methods here, the Word2Vec model and the Doc2Vec model, also using `gensim`. Word2Vec creates representations of words, not documents, so the word level vectors need to be aggregated to obtain a representation for the document. Here, we will simply take the mean of the vectors. \n",
    "\n",
    "\n",
    "A drawback of these models is that they need a lot of training data. Our dataset is tiny, so in addition to using a model trained on the data, we will also use a pre-trained model for Word2Vec (this will be automatically downloaded).     \n",
    "\n",
    "*Note*:\n",
    "1. The code in vectorize_documents / vectorize_query should return gensim-like vectors i.e `[(dim, val), .. (dim, val)]`. \n",
    "2. For Word2Vec: You should also handle the following two cases: (a) A word in the query is not present in the vocabulary of the model and (b) none of the words in the query are present in the model - you can return 0 scores for all documents in this case. For either of these, you can check if a `word` is present in the vocab by using `word in self.model`\n"
   ]
  },
  {
   "cell_type": "code",
   "execution_count": 88,
   "metadata": {
    "deletable": false,
    "nbgrader": {
     "cell_type": "code",
     "checksum": "83ab733608ed14c29c09b36b4e1b6daa",
     "grade": false,
     "grade_id": "cell-2b73759f9baf688f",
     "locked": false,
     "schema_version": 3,
     "solution": true,
     "task": false
    },
    "tags": []
   },
   "outputs": [
    {
     "name": "stderr",
     "output_type": "stream",
     "text": [
      "2022-02-27 22:12:16,230 : INFO : adding document #0 to Dictionary(0 unique tokens: [])\n",
      "2022-02-27 22:12:16,355 : INFO : built Dictionary(5937 unique tokens: ['-', 'algebra', 'intern', 'languag', 'preliminari']...) from 3204 documents (total 115969 corpus positions)\n",
      "2022-02-27 22:12:16,361 : INFO : discarding 4740 tokens: [('repeat', 8), ('glossari', 7), ('inspect', 8), ('uncol', 2), ('rung', 9), ('secant', 2), ('.', 1603), ('acceler', 6), ('diverg', 3), ('induc', 9)]...\n",
      "2022-02-27 22:12:16,361 : INFO : keeping 1197 tokens which were in no less than 10 and no more than 1602 (=50.0%) documents\n",
      "2022-02-27 22:12:16,364 : INFO : resulting dictionary: Dictionary(1197 unique tokens: ['-', 'algebra', 'intern', 'languag', 'preliminari']...)\n",
      "2022-02-27 22:12:16,421 : INFO : collecting all words and their counts\n",
      "2022-02-27 22:12:16,421 : INFO : PROGRESS: at sentence #0, processed 0 words, keeping 0 word types\n",
      "2022-02-27 22:12:16,436 : INFO : collected 5937 word types from a corpus of 115969 raw words and 3204 sentences\n",
      "2022-02-27 22:12:16,436 : INFO : Loading a fresh vocabulary\n",
      "2022-02-27 22:12:16,445 : INFO : effective_min_count=1 retains 5937 unique words (100% of original 5937, drops 0)\n",
      "2022-02-27 22:12:16,445 : INFO : effective_min_count=1 leaves 115969 word corpus (100% of original 115969, drops 0)\n",
      "2022-02-27 22:12:16,458 : INFO : deleting the raw counts dictionary of 5937 items\n",
      "2022-02-27 22:12:16,459 : INFO : sample=0.001 downsamples 40 most-common words\n",
      "2022-02-27 22:12:16,459 : INFO : downsampling leaves estimated 92346 word corpus (79.6% of prior 115969)\n",
      "2022-02-27 22:12:16,467 : INFO : estimated required memory for 5937 words and 100 dimensions: 7718100 bytes\n",
      "2022-02-27 22:12:16,467 : INFO : resetting layer weights\n",
      "2022-02-27 22:12:17,449 : INFO : training model with 3 workers on 5937 vocabulary and 100 features, using sg=0 hs=0 sample=0.001 negative=5 window=5\n",
      "2022-02-27 22:12:17,514 : INFO : worker thread finished; awaiting finish of 2 more threads\n",
      "2022-02-27 22:12:17,518 : INFO : worker thread finished; awaiting finish of 1 more threads\n",
      "2022-02-27 22:12:17,519 : INFO : worker thread finished; awaiting finish of 0 more threads\n",
      "2022-02-27 22:12:17,520 : INFO : EPOCH - 1 : training on 115969 raw words (92241 effective words) took 0.1s, 1387936 effective words/s\n",
      "2022-02-27 22:12:17,570 : INFO : worker thread finished; awaiting finish of 2 more threads\n",
      "2022-02-27 22:12:17,572 : INFO : worker thread finished; awaiting finish of 1 more threads\n",
      "2022-02-27 22:12:17,574 : INFO : worker thread finished; awaiting finish of 0 more threads\n",
      "2022-02-27 22:12:17,575 : INFO : EPOCH - 2 : training on 115969 raw words (92242 effective words) took 0.1s, 1783252 effective words/s\n",
      "2022-02-27 22:12:17,625 : INFO : worker thread finished; awaiting finish of 2 more threads\n",
      "2022-02-27 22:12:17,629 : INFO : worker thread finished; awaiting finish of 1 more threads\n",
      "2022-02-27 22:12:17,631 : INFO : worker thread finished; awaiting finish of 0 more threads\n",
      "2022-02-27 22:12:17,632 : INFO : EPOCH - 3 : training on 115969 raw words (92367 effective words) took 0.1s, 1726692 effective words/s\n",
      "2022-02-27 22:12:17,688 : INFO : worker thread finished; awaiting finish of 2 more threads\n",
      "2022-02-27 22:12:17,693 : INFO : worker thread finished; awaiting finish of 1 more threads\n",
      "2022-02-27 22:12:17,695 : INFO : worker thread finished; awaiting finish of 0 more threads\n",
      "2022-02-27 22:12:17,696 : INFO : EPOCH - 4 : training on 115969 raw words (92223 effective words) took 0.1s, 1521037 effective words/s\n",
      "2022-02-27 22:12:17,752 : INFO : worker thread finished; awaiting finish of 2 more threads\n",
      "2022-02-27 22:12:17,753 : INFO : worker thread finished; awaiting finish of 1 more threads\n",
      "2022-02-27 22:12:17,754 : INFO : worker thread finished; awaiting finish of 0 more threads\n",
      "2022-02-27 22:12:17,755 : INFO : EPOCH - 5 : training on 115969 raw words (92399 effective words) took 0.1s, 1664395 effective words/s\n",
      "2022-02-27 22:12:17,755 : INFO : training on a 579845 raw words (461472 effective words) took 0.3s, 1510887 effective words/s\n",
      "/tmp/ipykernel_68297/717104013.py:55: DeprecationWarning: Call to deprecated `__contains__` (Method will be removed in 4.0.0, use self.wv.__contains__() instead).\n",
      "  if word in self.model:\n",
      "/tmp/ipykernel_68297/717104013.py:56: DeprecationWarning: Call to deprecated `__getitem__` (Method will be removed in 4.0.0, use self.wv.__getitem__() instead).\n",
      "  query_vector += self.model[word] / len(query)\n"
     ]
    },
    {
     "data": {
      "text/plain": [
       "[(1, 0.6022017002105713),\n",
       " (2, 0.7197993993759155),\n",
       " (3, 0.4242178797721863),\n",
       " (4, 0.27137312293052673),\n",
       " (5, -0.15036597847938538),\n",
       " (6, -0.8876414895057678),\n",
       " (7, 0.7583928108215332),\n",
       " (8, 0.20193837583065033),\n",
       " (9, -0.6933459043502808),\n",
       " (10, 0.12855100631713867),\n",
       " (11, -0.38085314631462097),\n",
       " (12, 0.37772366404533386),\n",
       " (13, 0.2550366520881653),\n",
       " (14, -0.9557292461395264),\n",
       " (15, -0.015488550066947937),\n",
       " (16, 0.25522711873054504),\n",
       " (17, 0.2969793975353241),\n",
       " (18, 0.47729408740997314),\n",
       " (19, 0.8678213357925415),\n",
       " (20, 0.034195974469184875),\n",
       " (21, 0.24458779394626617),\n",
       " (22, -0.16573511064052582),\n",
       " (23, 0.5347719192504883),\n",
       " (24, 0.22859500348567963),\n",
       " (25, 0.4729018211364746),\n",
       " (26, 0.7875803112983704),\n",
       " (27, 0.15329499542713165),\n",
       " (28, -0.41313737630844116),\n",
       " (29, -0.09985607117414474),\n",
       " (30, -0.8854694962501526),\n",
       " (31, -0.1957778036594391),\n",
       " (32, -0.10678587853908539),\n",
       " (33, 0.029059292748570442),\n",
       " (34, 0.204851895570755),\n",
       " (35, -0.769640326499939),\n",
       " (36, 0.05867321416735649),\n",
       " (37, 0.017641784623265266),\n",
       " (38, -0.29086288809776306),\n",
       " (39, -0.42219167947769165),\n",
       " (40, 0.18032106757164001),\n",
       " (41, -0.5387895107269287),\n",
       " (42, -0.19609898328781128),\n",
       " (43, -0.03503217175602913),\n",
       " (44, -0.06943584233522415),\n",
       " (45, 0.5537830591201782),\n",
       " (46, 0.40061306953430176),\n",
       " (47, 0.7898407578468323),\n",
       " (48, -0.433165967464447),\n",
       " (49, 0.6117661595344543),\n",
       " (50, 0.3320097327232361),\n",
       " (51, -0.09007079899311066),\n",
       " (52, -0.25723904371261597),\n",
       " (53, 0.16882428526878357),\n",
       " (54, -0.7379412055015564),\n",
       " (55, 0.946522057056427),\n",
       " (56, 0.5969886183738708),\n",
       " (57, 0.294453501701355),\n",
       " (58, -0.24009379744529724),\n",
       " (59, 0.18762624263763428),\n",
       " (60, 0.23574425280094147),\n",
       " (61, -0.09894122183322906),\n",
       " (62, 0.027679024264216423),\n",
       " (63, -0.6303321719169617),\n",
       " (64, 0.5415882468223572),\n",
       " (65, 0.06679706275463104),\n",
       " (66, -0.290579229593277),\n",
       " (67, 0.30565378069877625),\n",
       " (68, 0.6291885375976562),\n",
       " (69, 0.2286648154258728),\n",
       " (70, -0.528997540473938),\n",
       " (71, -0.6451521515846252),\n",
       " (72, -0.47385331988334656),\n",
       " (73, 0.29415246844291687),\n",
       " (74, 0.22694696485996246),\n",
       " (75, 0.6822737455368042),\n",
       " (76, 0.10685302317142487),\n",
       " (77, 0.4369739592075348),\n",
       " (78, 0.3630210757255554),\n",
       " (79, -0.3548973798751831),\n",
       " (80, -0.1627289205789566),\n",
       " (81, -0.2040923535823822),\n",
       " (82, 0.6942386627197266),\n",
       " (83, -0.10417799651622772),\n",
       " (84, -0.0030555324628949165),\n",
       " (85, 0.9888015985488892),\n",
       " (86, 0.27170753479003906),\n",
       " (87, -0.3772846758365631),\n",
       " (88, 0.49594464898109436),\n",
       " (89, 0.08799807727336884),\n",
       " (90, -0.37955647706985474),\n",
       " (91, 0.3560110330581665),\n",
       " (92, 0.11925626546144485),\n",
       " (93, 0.5918204188346863),\n",
       " (94, 0.19423387944698334),\n",
       " (95, -0.5882812738418579),\n",
       " (96, -0.444912850856781),\n",
       " (97, 0.3555625081062317),\n",
       " (98, -0.44903403520584106),\n",
       " (99, 0.00642484100535512),\n",
       " (100, -0.4200950264930725)]"
      ]
     },
     "execution_count": 88,
     "metadata": {},
     "output_type": "execute_result"
    }
   ],
   "source": [
    "# TODO: Implement this! (10 points)\n",
    "class W2VRetrievalModel(VectorSpaceRetrievalModel):\n",
    "    def __init__(self, doc_repr):\n",
    "        super().__init__(doc_repr)\n",
    "        \n",
    "        # the dimensionality of the vectors\n",
    "        self.size = 100 \n",
    "        self.min_count = 1\n",
    "        \n",
    "        # set the sentences\n",
    "        self.doc_ids = [x[0] for x in doc_repr]\n",
    "        self.sentences = [x[1] for x in doc_repr]\n",
    "    \n",
    "    def train_model(self):\n",
    "        \"\"\"\n",
    "        Trains the W2V model\n",
    "        \"\"\"\n",
    "        # YOUR CODE HERE\n",
    "        self.model = Word2Vec(sentences=self.documents, size=self.size, min_count=self.min_count)\n",
    "        \n",
    "    def vectorize_documents(self):\n",
    "        \"\"\"\n",
    "            Returns a doc_id -> vector dictionary\n",
    "        \"\"\"\n",
    "        # YOUR CODE HERE\n",
    "\n",
    "        from collections import defaultdict\n",
    "\n",
    "        # document_vectors = defaultdict(lambda: np.zeros(self.size))\n",
    "        document_vectors = {doc_id: np.zeros(self.size) for doc_id in self.doc_ids}\n",
    "        for i in range(len(self.doc_ids)):\n",
    "            doc_id = self.doc_ids[i]\n",
    "            sentence = self.sentences[i]\n",
    "\n",
    "            for word in sentence:\n",
    "                if word in self.model:\n",
    "                    document_vectors[doc_id] += self.model[word] / len(sentence)\n",
    "        \n",
    "        for doc_id in self.doc_ids:\n",
    "            document_vectors[doc_id] = [(i+1, val) for i, val in enumerate(document_vectors[doc_id])]\n",
    "        \n",
    "        return document_vectors\n",
    "\n",
    "    def vectorize_query(self, query):\n",
    "        \"\"\"\n",
    "        Vectorizes the query using the W2V model\n",
    "        \"\"\"\n",
    "        query = process_text(query, **config_2)\n",
    "\n",
    "        # YOUR CODE HERE\n",
    "        # raise NotImplementedError()\n",
    "        \n",
    "        query_vector = np.zeros(self.size)\n",
    "        for word in query:\n",
    "            if word in self.model:\n",
    "                query_vector += self.model[word] / len(query)\n",
    "\n",
    "        query_vector = [(i+1, val) for i, val in enumerate(query_vector)]\n",
    "\n",
    "        return query_vector\n",
    "    \n",
    "class W2VPretrainedRetrievalModel(W2VRetrievalModel):\n",
    "    def __init__(self, doc_repr):\n",
    "        super().__init__(doc_repr)\n",
    "        self.model_name = \"word2vec-google-news-300\"\n",
    "        self.size = 300\n",
    "    \n",
    "    def train_model(self):\n",
    "        \"\"\"\n",
    "        Loads the pretrained model\n",
    "        \"\"\"\n",
    "        self.model = g_downloader.load(self.model_name)\n",
    "\n",
    "w2v = W2VRetrievalModel(doc_repr_2)\n",
    "w2v.train_model()\n",
    "\n",
    "# you can now get a W2V vector for a given query in the following way:\n",
    "w2v.vectorize_query(\"report\")"
   ]
  },
  {
   "cell_type": "code",
   "execution_count": 89,
   "metadata": {
    "deletable": false,
    "editable": false,
    "nbgrader": {
     "cell_type": "code",
     "checksum": "f92b5c5a8c6c4b80652b94223209ab0b",
     "grade": true,
     "grade_id": "cell-b31c0f8d214b8bdf",
     "locked": true,
     "points": 0,
     "schema_version": 3,
     "solution": false,
     "task": false
    }
   },
   "outputs": [
    {
     "name": "stderr",
     "output_type": "stream",
     "text": [
      "/tmp/ipykernel_68297/717104013.py:55: DeprecationWarning: Call to deprecated `__contains__` (Method will be removed in 4.0.0, use self.wv.__contains__() instead).\n",
      "  if word in self.model:\n",
      "/tmp/ipykernel_68297/717104013.py:56: DeprecationWarning: Call to deprecated `__getitem__` (Method will be removed in 4.0.0, use self.wv.__getitem__() instead).\n",
      "  query_vector += self.model[word] / len(query)\n"
     ]
    }
   ],
   "source": [
    "assert len(w2v.vectorize_query(\"report\")) == 100\n",
    "assert len(w2v.vectorize_query(\"this is a sentence that is not mellifluous\")) == 100\n"
   ]
  },
  {
   "cell_type": "markdown",
   "metadata": {
    "deletable": false,
    "editable": false,
    "nbgrader": {
     "cell_type": "markdown",
     "checksum": "8dfaabebcb06f308a7ca61fdc5d369e7",
     "grade": false,
     "grade_id": "cell-c2614fa067386384",
     "locked": true,
     "points": 8,
     "schema_version": 3,
     "solution": false,
     "task": true
    }
   },
   "source": [
    "\\#### Please do not change this. This cell is used for grading."
   ]
  },
  {
   "cell_type": "code",
   "execution_count": 90,
   "metadata": {
    "tags": []
   },
   "outputs": [
    {
     "name": "stderr",
     "output_type": "stream",
     "text": [
      "2022-02-27 22:12:17,823 : INFO : adding document #0 to Dictionary(0 unique tokens: [])\n",
      "2022-02-27 22:12:17,927 : INFO : built Dictionary(5937 unique tokens: ['-', 'algebra', 'intern', 'languag', 'preliminari']...) from 3204 documents (total 115969 corpus positions)\n",
      "2022-02-27 22:12:17,931 : INFO : discarding 4740 tokens: [('repeat', 8), ('glossari', 7), ('inspect', 8), ('uncol', 2), ('rung', 9), ('secant', 2), ('.', 1603), ('acceler', 6), ('diverg', 3), ('induc', 9)]...\n",
      "2022-02-27 22:12:17,931 : INFO : keeping 1197 tokens which were in no less than 10 and no more than 1602 (=50.0%) documents\n",
      "2022-02-27 22:12:17,934 : INFO : resulting dictionary: Dictionary(1197 unique tokens: ['-', 'algebra', 'intern', 'languag', 'preliminari']...)\n",
      "2022-02-27 22:12:18,021 : INFO : loading projection weights from /home/john/gensim-data/word2vec-google-news-300/word2vec-google-news-300.gz\n",
      "2022-02-27 22:12:58,594 : INFO : loaded (3000000, 300) matrix from /home/john/gensim-data/word2vec-google-news-300/word2vec-google-news-300.gz\n"
     ]
    },
    {
     "data": {
      "text/plain": [
       "[(1, -0.142578125),\n",
       " (2, -0.1640625),\n",
       " (3, -0.09033203125),\n",
       " (4, -0.1123046875),\n",
       " (5, 0.10009765625),\n",
       " (6, -0.041259765625),\n",
       " (7, 0.048828125),\n",
       " (8, -0.13671875),\n",
       " (9, 0.1962890625),\n",
       " (10, -0.134765625),\n",
       " (11, -0.017578125),\n",
       " (12, 0.0322265625),\n",
       " (13, 0.09521484375),\n",
       " (14, -0.10595703125),\n",
       " (15, -0.169921875),\n",
       " (16, 0.041015625),\n",
       " (17, -0.263671875),\n",
       " (18, -0.006317138671875),\n",
       " (19, -0.177734375),\n",
       " (20, -0.240234375),\n",
       " (21, 0.3515625),\n",
       " (22, -0.01220703125),\n",
       " (23, -0.162109375),\n",
       " (24, -0.12060546875),\n",
       " (25, 0.043212890625),\n",
       " (26, 0.10986328125),\n",
       " (27, 0.052490234375),\n",
       " (28, 0.1787109375),\n",
       " (29, -0.1455078125),\n",
       " (30, 0.1376953125),\n",
       " (31, -0.08203125),\n",
       " (32, -0.283203125),\n",
       " (33, -0.10888671875),\n",
       " (34, -0.2890625),\n",
       " (35, 0.072265625),\n",
       " (36, -0.04736328125),\n",
       " (37, 0.040283203125),\n",
       " (38, 0.06787109375),\n",
       " (39, 0.11669921875),\n",
       " (40, 0.00083160400390625),\n",
       " (41, 0.068359375),\n",
       " (42, 0.1201171875),\n",
       " (43, -0.08837890625),\n",
       " (44, 0.337890625),\n",
       " (45, -0.044677734375),\n",
       " (46, -0.0301513671875),\n",
       " (47, 0.0076904296875),\n",
       " (48, -0.0211181640625),\n",
       " (49, -0.25390625),\n",
       " (50, 0.1494140625),\n",
       " (51, 0.3984375),\n",
       " (52, 0.0216064453125),\n",
       " (53, -0.023193359375),\n",
       " (54, 0.00634765625),\n",
       " (55, 0.00823974609375),\n",
       " (56, -0.1689453125),\n",
       " (57, 0.037353515625),\n",
       " (58, -0.0634765625),\n",
       " (59, 0.1171875),\n",
       " (60, -0.1484375),\n",
       " (61, -0.07861328125),\n",
       " (62, 0.369140625),\n",
       " (63, -0.224609375),\n",
       " (64, 0.173828125),\n",
       " (65, 0.01385498046875),\n",
       " (66, 0.1875),\n",
       " (67, -0.10107421875),\n",
       " (68, 0.037841796875),\n",
       " (69, 0.0021209716796875),\n",
       " (70, -0.05126953125),\n",
       " (71, 0.09619140625),\n",
       " (72, -0.05712890625),\n",
       " (73, 0.10595703125),\n",
       " (74, -0.02099609375),\n",
       " (75, 0.1611328125),\n",
       " (76, 0.09765625),\n",
       " (77, 0.038330078125),\n",
       " (78, 0.2197265625),\n",
       " (79, 0.1064453125),\n",
       " (80, 0.0859375),\n",
       " (81, 0.1796875),\n",
       " (82, -0.0830078125),\n",
       " (83, -0.033203125),\n",
       " (84, 0.041015625),\n",
       " (85, -0.06494140625),\n",
       " (86, 0.0198974609375),\n",
       " (87, 0.1337890625),\n",
       " (88, -0.09765625),\n",
       " (89, -0.193359375),\n",
       " (90, -0.2353515625),\n",
       " (91, 0.1904296875),\n",
       " (92, 0.0024871826171875),\n",
       " (93, -0.0157470703125),\n",
       " (94, 0.0322265625),\n",
       " (95, -0.2197265625),\n",
       " (96, -0.09130859375),\n",
       " (97, 0.021240234375),\n",
       " (98, 0.158203125),\n",
       " (99, 0.298828125),\n",
       " (100, -0.328125),\n",
       " (101, 0.057373046875),\n",
       " (102, -0.04638671875),\n",
       " (103, 0.11328125),\n",
       " (104, -0.1015625),\n",
       " (105, 0.1806640625),\n",
       " (106, -0.025146484375),\n",
       " (107, -0.166015625),\n",
       " (108, -0.09619140625),\n",
       " (109, 0.018798828125),\n",
       " (110, -0.1943359375),\n",
       " (111, 0.1494140625),\n",
       " (112, -0.056640625),\n",
       " (113, -0.10693359375),\n",
       " (114, -0.150390625),\n",
       " (115, -0.17578125),\n",
       " (116, 0.11279296875),\n",
       " (117, 0.04931640625),\n",
       " (118, 0.2197265625),\n",
       " (119, 0.318359375),\n",
       " (120, 0.1572265625),\n",
       " (121, -0.29296875),\n",
       " (122, 0.10498046875),\n",
       " (123, -0.296875),\n",
       " (124, -0.013427734375),\n",
       " (125, 0.0908203125),\n",
       " (126, 0.0125732421875),\n",
       " (127, -0.051513671875),\n",
       " (128, -0.12890625),\n",
       " (129, 0.01446533203125),\n",
       " (130, 0.12060546875),\n",
       " (131, -0.10107421875),\n",
       " (132, -0.111328125),\n",
       " (133, 0.06396484375),\n",
       " (134, -0.052978515625),\n",
       " (135, -0.043212890625),\n",
       " (136, -0.012939453125),\n",
       " (137, -0.027587890625),\n",
       " (138, -0.09716796875),\n",
       " (139, -0.2021484375),\n",
       " (140, 0.123046875),\n",
       " (141, -0.04248046875),\n",
       " (142, 0.173828125),\n",
       " (143, -0.013671875),\n",
       " (144, 0.1015625),\n",
       " (145, -0.00093841552734375),\n",
       " (146, -0.03564453125),\n",
       " (147, 0.30078125),\n",
       " (148, -0.068359375),\n",
       " (149, -0.05615234375),\n",
       " (150, 0.03759765625),\n",
       " (151, 0.06591796875),\n",
       " (152, 0.040283203125),\n",
       " (153, 0.01190185546875),\n",
       " (154, 0.09619140625),\n",
       " (155, 0.3671875),\n",
       " (156, -0.279296875),\n",
       " (157, -0.052001953125),\n",
       " (158, -0.10693359375),\n",
       " (159, -0.134765625),\n",
       " (160, -0.046142578125),\n",
       " (161, 0.25),\n",
       " (162, 0.00567626953125),\n",
       " (163, -0.014404296875),\n",
       " (164, -0.031005859375),\n",
       " (165, -0.060302734375),\n",
       " (166, 0.10595703125),\n",
       " (167, 0.37890625),\n",
       " (168, 0.058837890625),\n",
       " (169, 0.123046875),\n",
       " (170, -0.115234375),\n",
       " (171, 0.1494140625),\n",
       " (172, -0.1640625),\n",
       " (173, -0.2333984375),\n",
       " (174, -0.07763671875),\n",
       " (175, 0.0267333984375),\n",
       " (176, -0.0211181640625),\n",
       " (177, 0.1943359375),\n",
       " (178, -0.05615234375),\n",
       " (179, -0.006439208984375),\n",
       " (180, -0.169921875),\n",
       " (181, -0.11865234375),\n",
       " (182, -0.0673828125),\n",
       " (183, -0.06884765625),\n",
       " (184, -0.0869140625),\n",
       " (185, -0.1015625),\n",
       " (186, 0.01416015625),\n",
       " (187, -0.201171875),\n",
       " (188, 0.09814453125),\n",
       " (189, -0.01025390625),\n",
       " (190, 0.1875),\n",
       " (191, 0.1962890625),\n",
       " (192, -0.220703125),\n",
       " (193, -0.1962890625),\n",
       " (194, -0.07373046875),\n",
       " (195, 0.06640625),\n",
       " (196, -0.1337890625),\n",
       " (197, 0.18359375),\n",
       " (198, -0.2001953125),\n",
       " (199, 0.1982421875),\n",
       " (200, 0.05029296875),\n",
       " (201, 0.0299072265625),\n",
       " (202, 0.0177001953125),\n",
       " (203, -0.193359375),\n",
       " (204, -0.09619140625),\n",
       " (205, -0.1025390625),\n",
       " (206, 0.212890625),\n",
       " (207, -0.0299072265625),\n",
       " (208, 0.1435546875),\n",
       " (209, 0.041015625),\n",
       " (210, -0.2119140625),\n",
       " (211, 0.2080078125),\n",
       " (212, 0.1376953125),\n",
       " (213, -0.0196533203125),\n",
       " (214, 0.01495361328125),\n",
       " (215, -0.09765625),\n",
       " (216, 0.2431640625),\n",
       " (217, 0.080078125),\n",
       " (218, 0.08251953125),\n",
       " (219, 0.0986328125),\n",
       " (220, 0.056884765625),\n",
       " (221, 0.04248046875),\n",
       " (222, 0.06884765625),\n",
       " (223, -0.035400390625),\n",
       " (224, -0.076171875),\n",
       " (225, -0.00016117095947265625),\n",
       " (226, -0.0751953125),\n",
       " (227, 0.224609375),\n",
       " (228, 0.1513671875),\n",
       " (229, 0.1005859375),\n",
       " (230, 0.10986328125),\n",
       " (231, 0.0238037109375),\n",
       " (232, 0.08837890625),\n",
       " (233, 0.061767578125),\n",
       " (234, -0.10791015625),\n",
       " (235, 0.062255859375),\n",
       " (236, 0.0034332275390625),\n",
       " (237, 0.08056640625),\n",
       " (238, 0.10693359375),\n",
       " (239, 0.0888671875),\n",
       " (240, -0.2373046875),\n",
       " (241, 0.06494140625),\n",
       " (242, 0.01019287109375),\n",
       " (243, -0.08837890625),\n",
       " (244, -0.33203125),\n",
       " (245, 0.004669189453125),\n",
       " (246, 0.212890625),\n",
       " (247, 0.0859375),\n",
       " (248, 0.0203857421875),\n",
       " (249, 0.045654296875),\n",
       " (250, 0.1484375),\n",
       " (251, 0.1181640625),\n",
       " (252, 0.0556640625),\n",
       " (253, -0.1728515625),\n",
       " (254, -0.125),\n",
       " (255, -0.025390625),\n",
       " (256, -0.318359375),\n",
       " (257, 0.0311279296875),\n",
       " (258, 0.0859375),\n",
       " (259, -0.0419921875),\n",
       " (260, 0.15625),\n",
       " (261, 0.1611328125),\n",
       " (262, 0.1982421875),\n",
       " (263, -0.10009765625),\n",
       " (264, 0.203125),\n",
       " (265, 0.12890625),\n",
       " (266, 0.2333984375),\n",
       " (267, -0.267578125),\n",
       " (268, 0.05517578125),\n",
       " (269, 0.048828125),\n",
       " (270, 0.072265625),\n",
       " (271, 0.244140625),\n",
       " (272, 0.244140625),\n",
       " (273, 0.056884765625),\n",
       " (274, -0.0546875),\n",
       " (275, -0.03369140625),\n",
       " (276, -0.12060546875),\n",
       " (277, 0.034912109375),\n",
       " (278, -0.1455078125),\n",
       " (279, 0.08740234375),\n",
       " (280, -0.0830078125),\n",
       " (281, 0.0172119140625),\n",
       " (282, 0.1435546875),\n",
       " (283, -0.12255859375),\n",
       " (284, 0.1796875),\n",
       " (285, 0.130859375),\n",
       " (286, -0.1650390625),\n",
       " (287, 0.01275634765625),\n",
       " (288, 0.16015625),\n",
       " (289, -0.0311279296875),\n",
       " (290, 0.08203125),\n",
       " (291, 0.173828125),\n",
       " (292, -0.16796875),\n",
       " (293, 0.130859375),\n",
       " (294, 0.08544921875),\n",
       " (295, -0.2109375),\n",
       " (296, -0.130859375),\n",
       " (297, -0.0289306640625),\n",
       " (298, -0.10546875),\n",
       " (299, 0.08447265625),\n",
       " (300, -0.1416015625)]"
      ]
     },
     "execution_count": 90,
     "metadata": {},
     "output_type": "execute_result"
    }
   ],
   "source": [
    "w2v_pretrained = W2VPretrainedRetrievalModel(doc_repr_2)\n",
    "w2v_pretrained.train_model()\n",
    "\n",
    "# you can now get an W2V vector for a given query in the following way:\n",
    "w2v_pretrained.vectorize_query(\"report\")"
   ]
  },
  {
   "cell_type": "code",
   "execution_count": 91,
   "metadata": {
    "deletable": false,
    "editable": false,
    "nbgrader": {
     "cell_type": "code",
     "checksum": "0822845afb5eafe5ddb1ffeaa4f4942a",
     "grade": true,
     "grade_id": "cell-1b1466f8ce516f42",
     "locked": true,
     "points": 2,
     "schema_version": 3,
     "solution": false,
     "task": false
    }
   },
   "outputs": [
    {
     "name": "stdout",
     "output_type": "stream",
     "text": [
      "300\n"
     ]
    }
   ],
   "source": [
    "##### Function check\n",
    "\n",
    "print(len(w2v_pretrained.vectorize_query(\"report\")))\n",
    "#####"
   ]
  },
  {
   "cell_type": "code",
   "execution_count": 92,
   "metadata": {},
   "outputs": [
    {
     "name": "stderr",
     "output_type": "stream",
     "text": [
      "/tmp/ipykernel_68297/717104013.py:36: DeprecationWarning: Call to deprecated `__contains__` (Method will be removed in 4.0.0, use self.wv.__contains__() instead).\n",
      "  if word in self.model:\n",
      "/tmp/ipykernel_68297/717104013.py:37: DeprecationWarning: Call to deprecated `__getitem__` (Method will be removed in 4.0.0, use self.wv.__getitem__() instead).\n",
      "  document_vectors[doc_id] += self.model[word] / len(sentence)\n"
     ]
    },
    {
     "data": {
      "application/vnd.jupyter.widget-view+json": {
       "model_id": "e71a915c7b1444ca8945c46e9b454a66",
       "version_major": 2,
       "version_minor": 0
      },
      "text/plain": [
       "Text(value='', description='Search Bar')"
      ]
     },
     "metadata": {},
     "output_type": "display_data"
    }
   ],
   "source": [
    "drm_w2v = DenseRetrievalRanker(w2v, cosine_sim)\n",
    "\n",
    "# test your LDA model\n",
    "search_fn = drm_w2v.search\n",
    "\n",
    "text = widgets.Text(description=\"Search Bar\", width=200)\n",
    "display(text)\n",
    "\n",
    "\n",
    "text.on_submit(handle_submit_2)"
   ]
  },
  {
   "cell_type": "code",
   "execution_count": 93,
   "metadata": {},
   "outputs": [
    {
     "data": {
      "application/vnd.jupyter.widget-view+json": {
       "model_id": "16aa1410770b4cbebd4741503bf6f189",
       "version_major": 2,
       "version_minor": 0
      },
      "text/plain": [
       "Text(value='', description='Search Bar')"
      ]
     },
     "metadata": {},
     "output_type": "display_data"
    }
   ],
   "source": [
    "drm_w2v_pretrained = DenseRetrievalRanker(w2v_pretrained, cosine_sim)\n",
    "\n",
    "# test your LDA model\n",
    "search_fn = drm_w2v_pretrained.search\n",
    "\n",
    "text = widgets.Text(description=\"Search Bar\", width=200)\n",
    "display(text)\n",
    "\n",
    "\n",
    "text.on_submit(handle_submit_2)"
   ]
  },
  {
   "cell_type": "markdown",
   "metadata": {
    "deletable": false,
    "editable": false,
    "nbgrader": {
     "cell_type": "markdown",
     "checksum": "51b778984fd60757974f51047c61eb15",
     "grade": false,
     "grade_id": "cell-b92f701cbc706108",
     "locked": true,
     "schema_version": 3,
     "solution": false,
     "task": false
    }
   },
   "source": [
    "**Implementation (10 points):**\n",
    "For Doc2Vec, you will need to create a list of `TaggedDocument` instead of using the `self.corpus` or `self.documents` variable. Use the document id as the 'tag'.\n",
    "  "
   ]
  },
  {
   "cell_type": "code",
   "execution_count": 94,
   "metadata": {
    "deletable": false,
    "nbgrader": {
     "cell_type": "code",
     "checksum": "1f60fdeb97febb7f4a6fd5bf109aac20",
     "grade": false,
     "grade_id": "cell-680facdcc98a19ab",
     "locked": false,
     "schema_version": 3,
     "solution": true,
     "task": false
    },
    "tags": []
   },
   "outputs": [
    {
     "name": "stderr",
     "output_type": "stream",
     "text": [
      "2022-02-27 22:13:00,391 : INFO : adding document #0 to Dictionary(0 unique tokens: [])\n",
      "2022-02-27 22:13:00,507 : INFO : built Dictionary(5937 unique tokens: ['-', 'algebra', 'intern', 'languag', 'preliminari']...) from 3204 documents (total 115969 corpus positions)\n",
      "2022-02-27 22:13:00,512 : INFO : discarding 4740 tokens: [('repeat', 8), ('glossari', 7), ('inspect', 8), ('uncol', 2), ('rung', 9), ('secant', 2), ('.', 1603), ('acceler', 6), ('diverg', 3), ('induc', 9)]...\n",
      "2022-02-27 22:13:00,513 : INFO : keeping 1197 tokens which were in no less than 10 and no more than 1602 (=50.0%) documents\n",
      "2022-02-27 22:13:00,515 : INFO : resulting dictionary: Dictionary(1197 unique tokens: ['-', 'algebra', 'intern', 'languag', 'preliminari']...)\n",
      "2022-02-27 22:13:00,575 : INFO : collecting all words and their counts\n",
      "2022-02-27 22:13:00,575 : INFO : PROGRESS: at example #0, processed 0 words (0/s), 0 word types, 0 tags\n",
      "2022-02-27 22:13:00,594 : INFO : collected 5937 word types and 3204 unique tags from a corpus of 3204 examples and 115969 words\n",
      "2022-02-27 22:13:00,594 : INFO : Loading a fresh vocabulary\n",
      "2022-02-27 22:13:00,602 : INFO : effective_min_count=1 retains 5937 unique words (100% of original 5937, drops 0)\n",
      "2022-02-27 22:13:00,603 : INFO : effective_min_count=1 leaves 115969 word corpus (100% of original 115969, drops 0)\n",
      "2022-02-27 22:13:00,615 : INFO : deleting the raw counts dictionary of 5937 items\n",
      "2022-02-27 22:13:00,616 : INFO : sample=0.001 downsamples 40 most-common words\n",
      "2022-02-27 22:13:00,617 : INFO : downsampling leaves estimated 92346 word corpus (79.6% of prior 115969)\n",
      "2022-02-27 22:13:00,625 : INFO : estimated required memory for 5937 words and 100 dimensions: 9640500 bytes\n",
      "2022-02-27 22:13:00,626 : INFO : resetting layer weights\n",
      "2022-02-27 22:13:02,166 : INFO : training model with 3 workers on 5937 vocabulary and 100 features, using sg=0 hs=0 sample=0.001 negative=5 window=5\n",
      "2022-02-27 22:13:02,371 : INFO : worker thread finished; awaiting finish of 2 more threads\n",
      "2022-02-27 22:13:02,375 : INFO : worker thread finished; awaiting finish of 1 more threads\n",
      "2022-02-27 22:13:02,384 : INFO : worker thread finished; awaiting finish of 0 more threads\n",
      "2022-02-27 22:13:02,385 : INFO : EPOCH - 1 : training on 115969 raw words (95651 effective words) took 0.2s, 444505 effective words/s\n",
      "2022-02-27 22:13:02,563 : INFO : worker thread finished; awaiting finish of 2 more threads\n",
      "2022-02-27 22:13:02,578 : INFO : worker thread finished; awaiting finish of 1 more threads\n",
      "2022-02-27 22:13:02,580 : INFO : worker thread finished; awaiting finish of 0 more threads\n",
      "2022-02-27 22:13:02,581 : INFO : EPOCH - 2 : training on 115969 raw words (95571 effective words) took 0.2s, 495633 effective words/s\n",
      "2022-02-27 22:13:02,779 : INFO : worker thread finished; awaiting finish of 2 more threads\n",
      "2022-02-27 22:13:02,792 : INFO : worker thread finished; awaiting finish of 1 more threads\n",
      "2022-02-27 22:13:02,792 : INFO : worker thread finished; awaiting finish of 0 more threads\n",
      "2022-02-27 22:13:02,793 : INFO : EPOCH - 3 : training on 115969 raw words (95469 effective words) took 0.2s, 457941 effective words/s\n",
      "2022-02-27 22:13:02,976 : INFO : worker thread finished; awaiting finish of 2 more threads\n",
      "2022-02-27 22:13:02,988 : INFO : worker thread finished; awaiting finish of 1 more threads\n",
      "2022-02-27 22:13:02,989 : INFO : worker thread finished; awaiting finish of 0 more threads\n",
      "2022-02-27 22:13:02,990 : INFO : EPOCH - 4 : training on 115969 raw words (95422 effective words) took 0.2s, 493748 effective words/s\n",
      "2022-02-27 22:13:03,166 : INFO : worker thread finished; awaiting finish of 2 more threads\n",
      "2022-02-27 22:13:03,178 : INFO : worker thread finished; awaiting finish of 1 more threads\n",
      "2022-02-27 22:13:03,180 : INFO : worker thread finished; awaiting finish of 0 more threads\n",
      "2022-02-27 22:13:03,180 : INFO : EPOCH - 5 : training on 115969 raw words (95418 effective words) took 0.2s, 510324 effective words/s\n",
      "2022-02-27 22:13:03,363 : INFO : worker thread finished; awaiting finish of 2 more threads\n",
      "2022-02-27 22:13:03,377 : INFO : worker thread finished; awaiting finish of 1 more threads\n",
      "2022-02-27 22:13:03,379 : INFO : worker thread finished; awaiting finish of 0 more threads\n",
      "2022-02-27 22:13:03,380 : INFO : EPOCH - 6 : training on 115969 raw words (95533 effective words) took 0.2s, 487273 effective words/s\n",
      "2022-02-27 22:13:03,563 : INFO : worker thread finished; awaiting finish of 2 more threads\n",
      "2022-02-27 22:13:03,566 : INFO : worker thread finished; awaiting finish of 1 more threads\n",
      "2022-02-27 22:13:03,577 : INFO : worker thread finished; awaiting finish of 0 more threads\n",
      "2022-02-27 22:13:03,578 : INFO : EPOCH - 7 : training on 115969 raw words (95424 effective words) took 0.2s, 490043 effective words/s\n",
      "2022-02-27 22:13:03,757 : INFO : worker thread finished; awaiting finish of 2 more threads\n",
      "2022-02-27 22:13:03,762 : INFO : worker thread finished; awaiting finish of 1 more threads\n",
      "2022-02-27 22:13:03,771 : INFO : worker thread finished; awaiting finish of 0 more threads\n",
      "2022-02-27 22:13:03,771 : INFO : EPOCH - 8 : training on 115969 raw words (95742 effective words) took 0.2s, 504341 effective words/s\n",
      "2022-02-27 22:13:03,946 : INFO : worker thread finished; awaiting finish of 2 more threads\n",
      "2022-02-27 22:13:03,952 : INFO : worker thread finished; awaiting finish of 1 more threads\n",
      "2022-02-27 22:13:03,960 : INFO : worker thread finished; awaiting finish of 0 more threads\n",
      "2022-02-27 22:13:03,961 : INFO : EPOCH - 9 : training on 115969 raw words (95558 effective words) took 0.2s, 513517 effective words/s\n",
      "2022-02-27 22:13:04,153 : INFO : worker thread finished; awaiting finish of 2 more threads\n",
      "2022-02-27 22:13:04,155 : INFO : worker thread finished; awaiting finish of 1 more threads\n",
      "2022-02-27 22:13:04,166 : INFO : worker thread finished; awaiting finish of 0 more threads\n",
      "2022-02-27 22:13:04,166 : INFO : EPOCH - 10 : training on 115969 raw words (95488 effective words) took 0.2s, 471928 effective words/s\n",
      "2022-02-27 22:13:04,351 : INFO : worker thread finished; awaiting finish of 2 more threads\n",
      "2022-02-27 22:13:04,362 : INFO : worker thread finished; awaiting finish of 1 more threads\n",
      "2022-02-27 22:13:04,364 : INFO : worker thread finished; awaiting finish of 0 more threads\n",
      "2022-02-27 22:13:04,364 : INFO : EPOCH - 11 : training on 115969 raw words (95554 effective words) took 0.2s, 489412 effective words/s\n",
      "2022-02-27 22:13:04,554 : INFO : worker thread finished; awaiting finish of 2 more threads\n",
      "2022-02-27 22:13:04,562 : INFO : worker thread finished; awaiting finish of 1 more threads\n",
      "2022-02-27 22:13:04,569 : INFO : worker thread finished; awaiting finish of 0 more threads\n",
      "2022-02-27 22:13:04,569 : INFO : EPOCH - 12 : training on 115969 raw words (95601 effective words) took 0.2s, 473059 effective words/s\n",
      "2022-02-27 22:13:04,765 : INFO : worker thread finished; awaiting finish of 2 more threads\n",
      "2022-02-27 22:13:04,772 : INFO : worker thread finished; awaiting finish of 1 more threads\n",
      "2022-02-27 22:13:04,777 : INFO : worker thread finished; awaiting finish of 0 more threads\n",
      "2022-02-27 22:13:04,778 : INFO : EPOCH - 13 : training on 115969 raw words (95626 effective words) took 0.2s, 466278 effective words/s\n",
      "2022-02-27 22:13:04,949 : INFO : worker thread finished; awaiting finish of 2 more threads\n",
      "2022-02-27 22:13:04,962 : INFO : worker thread finished; awaiting finish of 1 more threads\n",
      "2022-02-27 22:13:04,963 : INFO : worker thread finished; awaiting finish of 0 more threads\n",
      "2022-02-27 22:13:04,963 : INFO : EPOCH - 14 : training on 115969 raw words (95581 effective words) took 0.2s, 522939 effective words/s\n",
      "2022-02-27 22:13:05,154 : INFO : worker thread finished; awaiting finish of 2 more threads\n",
      "2022-02-27 22:13:05,165 : INFO : worker thread finished; awaiting finish of 1 more threads\n",
      "2022-02-27 22:13:05,169 : INFO : worker thread finished; awaiting finish of 0 more threads\n",
      "2022-02-27 22:13:05,169 : INFO : EPOCH - 15 : training on 115969 raw words (95560 effective words) took 0.2s, 470768 effective words/s\n",
      "2022-02-27 22:13:05,365 : INFO : worker thread finished; awaiting finish of 2 more threads\n",
      "2022-02-27 22:13:05,380 : INFO : worker thread finished; awaiting finish of 1 more threads\n",
      "2022-02-27 22:13:05,381 : INFO : worker thread finished; awaiting finish of 0 more threads\n",
      "2022-02-27 22:13:05,381 : INFO : EPOCH - 16 : training on 115969 raw words (95572 effective words) took 0.2s, 458384 effective words/s\n",
      "2022-02-27 22:13:05,561 : INFO : worker thread finished; awaiting finish of 2 more threads\n",
      "2022-02-27 22:13:05,566 : INFO : worker thread finished; awaiting finish of 1 more threads\n",
      "2022-02-27 22:13:05,574 : INFO : worker thread finished; awaiting finish of 0 more threads\n",
      "2022-02-27 22:13:05,575 : INFO : EPOCH - 17 : training on 115969 raw words (95465 effective words) took 0.2s, 500134 effective words/s\n",
      "2022-02-27 22:13:05,768 : INFO : worker thread finished; awaiting finish of 2 more threads\n",
      "2022-02-27 22:13:05,780 : INFO : worker thread finished; awaiting finish of 1 more threads\n",
      "2022-02-27 22:13:05,782 : INFO : worker thread finished; awaiting finish of 0 more threads\n",
      "2022-02-27 22:13:05,782 : INFO : EPOCH - 18 : training on 115969 raw words (95419 effective words) took 0.2s, 468942 effective words/s\n",
      "2022-02-27 22:13:05,970 : INFO : worker thread finished; awaiting finish of 2 more threads\n",
      "2022-02-27 22:13:05,983 : INFO : worker thread finished; awaiting finish of 1 more threads\n",
      "2022-02-27 22:13:05,989 : INFO : worker thread finished; awaiting finish of 0 more threads\n",
      "2022-02-27 22:13:05,989 : INFO : EPOCH - 19 : training on 115969 raw words (95519 effective words) took 0.2s, 470273 effective words/s\n",
      "2022-02-27 22:13:06,165 : INFO : worker thread finished; awaiting finish of 2 more threads\n",
      "2022-02-27 22:13:06,174 : INFO : worker thread finished; awaiting finish of 1 more threads\n",
      "2022-02-27 22:13:06,178 : INFO : worker thread finished; awaiting finish of 0 more threads\n",
      "2022-02-27 22:13:06,179 : INFO : EPOCH - 20 : training on 115969 raw words (95700 effective words) took 0.2s, 515186 effective words/s\n",
      "2022-02-27 22:13:06,179 : INFO : training on a 2319380 raw words (1910873 effective words) took 4.0s, 476193 effective words/s\n"
     ]
    },
    {
     "data": {
      "text/plain": [
       "[(2, 0.06142362),\n",
       " (2, 0.09616399),\n",
       " (2, 0.024534797),\n",
       " (2, 0.011115544),\n",
       " (2, 0.031682905),\n",
       " (2, -0.15375382),\n",
       " (2, 0.075891644),\n",
       " (2, 0.021926152),\n",
       " (2, -0.09603091),\n",
       " (2, 0.06445635),\n",
       " (2, -0.03808135),\n",
       " (2, 0.039410096),\n",
       " (2, 0.021585567),\n",
       " (2, -0.112478144),\n",
       " (2, -0.05498247),\n",
       " (2, 0.0119658625),\n",
       " (2, 0.030158712),\n",
       " (2, 0.024701219),\n",
       " (2, 0.12929556),\n",
       " (2, 0.04398314),\n",
       " (2, 0.066990286),\n",
       " (2, -0.033745784),\n",
       " (2, 0.039891265),\n",
       " (2, -0.04149424),\n",
       " (2, -0.04539886),\n",
       " (2, 0.011122115),\n",
       " (2, -0.00043030537),\n",
       " (2, -0.044513147),\n",
       " (2, -0.018430665),\n",
       " (2, -0.08604751),\n",
       " (2, 0.027909616),\n",
       " (2, -0.030384159),\n",
       " (2, 0.047126353),\n",
       " (2, 0.0071498053),\n",
       " (2, 0.013718953),\n",
       " (2, -0.03422554),\n",
       " (2, -0.052984044),\n",
       " (2, -0.015506232),\n",
       " (2, -0.055807553),\n",
       " (2, 0.027370393),\n",
       " (2, -0.05244564),\n",
       " (2, -0.0041237907),\n",
       " (2, -0.014606385),\n",
       " (2, -0.06267505),\n",
       " (2, 0.03408983),\n",
       " (2, 0.06373154),\n",
       " (2, 0.10037068),\n",
       " (2, -0.049568843),\n",
       " (2, 0.01882244),\n",
       " (2, 0.049885638),\n",
       " (2, 0.03905471),\n",
       " (2, -0.04719679),\n",
       " (2, 0.011990223),\n",
       " (2, -0.045197975),\n",
       " (2, 0.08025592),\n",
       " (2, 0.09768089),\n",
       " (2, 0.018065315),\n",
       " (2, -0.038123023),\n",
       " (2, 0.05653164),\n",
       " (2, 0.07080248),\n",
       " (2, 0.015026264),\n",
       " (2, 0.025238372),\n",
       " (2, -0.028697928),\n",
       " (2, -0.040510044),\n",
       " (2, 0.002057089),\n",
       " (2, 0.00040550428),\n",
       " (2, 0.0032289613),\n",
       " (2, 0.060114607),\n",
       " (2, -0.014027247),\n",
       " (2, -0.037347123),\n",
       " (2, -0.057728738),\n",
       " (2, -0.1080213),\n",
       " (2, 0.027249107),\n",
       " (2, 0.04013001),\n",
       " (2, 0.04972411),\n",
       " (2, 0.02215247),\n",
       " (2, 0.05174178),\n",
       " (2, -0.00740032),\n",
       " (2, -0.02947361),\n",
       " (2, -0.011278914),\n",
       " (2, 0.016803354),\n",
       " (2, 0.031602297),\n",
       " (2, 0.0023233376),\n",
       " (2, -0.03636639),\n",
       " (2, 0.097855315),\n",
       " (2, 0.02015541),\n",
       " (2, -0.035141613),\n",
       " (2, 0.07967654),\n",
       " (2, 0.08902274),\n",
       " (2, -0.03331034),\n",
       " (2, 0.00856876),\n",
       " (2, 0.01720283),\n",
       " (2, 0.04656846),\n",
       " (2, 0.045089193),\n",
       " (2, -0.024038667),\n",
       " (2, 0.0023777413),\n",
       " (2, 0.03434904),\n",
       " (2, -0.012418371),\n",
       " (2, -0.078284964),\n",
       " (2, -0.08107685)]"
      ]
     },
     "execution_count": 94,
     "metadata": {},
     "output_type": "execute_result"
    }
   ],
   "source": [
    "# TODO: Implement this! (10 points)\n",
    "class D2VRetrievalModel(VectorSpaceRetrievalModel):\n",
    "    def __init__(self, doc_repr):\n",
    "        super().__init__(doc_repr)\n",
    "        \n",
    "        self.vector_size= 100\n",
    "        self.min_count = 1\n",
    "        self.epochs = 20\n",
    "        \n",
    "        # YOUR CODE HERE\n",
    "        self.tagged_documents = [TaggedDocument(doc, [doc_id]) for doc_id, doc in self.doc_repr]\n",
    "        \n",
    "    def train_model(self):\n",
    "        # YOUR CODE HERE\n",
    "        self.model = Doc2Vec(\n",
    "            self.tagged_documents,\n",
    "            vector_size=self.vector_size,\n",
    "            min_count=self.min_count,\n",
    "            epochs=self.epochs,\n",
    "        )\n",
    "    \n",
    "    def vectorize_documents(self):\n",
    "        \"\"\"\n",
    "            Returns a doc_id -> vector dictionary\n",
    "        \"\"\"\n",
    "        # YOUR CODE HERE\n",
    "\n",
    "        from collections import defaultdict\n",
    "\n",
    "        document_vectors = defaultdict(lambda: np.zeros(self.vector_size))\n",
    "        for doc_id, doc in self.doc_repr:\n",
    "            document_vectors[doc_id] = [(i+1, v) for v in self.model.infer_vector(doc)]\n",
    "        \n",
    "        return document_vectors\n",
    "\n",
    "    def vectorize_query(self, query):\n",
    "        # YOUR CODE HERE\n",
    "        query = process_text(query, **config_2)\n",
    "        query_vector = self.model.infer_vector(query)\n",
    "        query_vector = [(i+1, v) for v in query_vector]\n",
    "        return query_vector\n",
    "\n",
    "d2v = D2VRetrievalModel(doc_repr_2)\n",
    "d2v.train_model()\n",
    "\n",
    "\n",
    "# # you can now get an LSI vector for a given query in the following way:\n",
    "d2v.vectorize_query(\"report\")"
   ]
  },
  {
   "cell_type": "code",
   "execution_count": 95,
   "metadata": {
    "deletable": false,
    "editable": false,
    "nbgrader": {
     "cell_type": "code",
     "checksum": "e83a363a9d4f136efbdde1426a83925e",
     "grade": true,
     "grade_id": "cell-5e2c5e0c9a2e8cb5",
     "locked": true,
     "points": 0,
     "schema_version": 3,
     "solution": false,
     "task": false
    }
   },
   "outputs": [],
   "source": [
    "#### Please do not change this. This cell is used for grading."
   ]
  },
  {
   "cell_type": "markdown",
   "metadata": {
    "deletable": false,
    "editable": false,
    "nbgrader": {
     "cell_type": "markdown",
     "checksum": "5bb46bf6b9be1e0ca66f0b0bc6260ecb",
     "grade": false,
     "grade_id": "cell-8a49d414f798a595",
     "locked": true,
     "points": 10,
     "schema_version": 3,
     "solution": false,
     "task": true
    }
   },
   "source": [
    "\\#### Please do not change this. This cell is used for grading."
   ]
  },
  {
   "cell_type": "code",
   "execution_count": 96,
   "metadata": {},
   "outputs": [
    {
     "data": {
      "application/vnd.jupyter.widget-view+json": {
       "model_id": "c10661a56dde49ab934124630ea6ba36",
       "version_major": 2,
       "version_minor": 0
      },
      "text/plain": [
       "Text(value='', description='Search Bar')"
      ]
     },
     "metadata": {},
     "output_type": "display_data"
    }
   ],
   "source": [
    "drm_d2v = DenseRetrievalRanker(d2v, cosine_sim)\n",
    "\n",
    "# test your LDA model\n",
    "search_fn = drm_d2v.search\n",
    "\n",
    "text = widgets.Text(description=\"Search Bar\", width=200)\n",
    "display(text)\n",
    "\n",
    "\n",
    "text.on_submit(handle_submit_2)"
   ]
  },
  {
   "cell_type": "markdown",
   "metadata": {
    "deletable": false,
    "editable": false,
    "nbgrader": {
     "cell_type": "markdown",
     "checksum": "363ec36c1d03d9f9e1c2045a6e193c14",
     "grade": false,
     "grade_id": "cell-3529ae29eece7b97",
     "locked": true,
     "schema_version": 3,
     "solution": false,
     "task": false
    }
   },
   "source": [
    "---\n",
    "## Section 9: Re-ranking (10 points) <a class=\"anchor\" id=\"reranking\"></a>\n",
    "\n",
    "[Back to Part 2](#part2)\n",
    "\n",
    "To motivate the re-ranking perspective (i.e retrieve with lexical method + rerank with a semantic method), let's search using semantic methods and compare it to BM25's performance, along with their runtime:\n"
   ]
  },
  {
   "cell_type": "code",
   "execution_count": 97,
   "metadata": {
    "deletable": false,
    "editable": false,
    "nbgrader": {
     "cell_type": "code",
     "checksum": "5755f70e3eb28abc65d14d80125338af",
     "grade": false,
     "grade_id": "cell-f8f43bf5ae383128",
     "locked": true,
     "schema_version": 3,
     "solution": false,
     "task": false
    }
   },
   "outputs": [
    {
     "name": "stdout",
     "output_type": "stream",
     "text": [
      "BM25: \n",
      "2.24 ms ± 162 µs per loop (mean ± std. dev. of 7 runs, 100 loops each)\n",
      "LSI: \n",
      "246 ms ± 23.8 ms per loop (mean ± std. dev. of 7 runs, 1 loop each)\n",
      "LDA: \n",
      "5.53 s ± 101 ms per loop (mean ± std. dev. of 7 runs, 1 loop each)\n",
      "W2V: \n"
     ]
    },
    {
     "name": "stderr",
     "output_type": "stream",
     "text": [
      "/tmp/ipykernel_68297/717104013.py:55: DeprecationWarning: Call to deprecated `__contains__` (Method will be removed in 4.0.0, use self.wv.__contains__() instead).\n",
      "  if word in self.model:\n",
      "/tmp/ipykernel_68297/717104013.py:56: DeprecationWarning: Call to deprecated `__getitem__` (Method will be removed in 4.0.0, use self.wv.__getitem__() instead).\n",
      "  query_vector += self.model[word] / len(query)\n"
     ]
    },
    {
     "name": "stdout",
     "output_type": "stream",
     "text": [
      "237 ms ± 17.2 ms per loop (mean ± std. dev. of 7 runs, 1 loop each)\n",
      "W2V(Pretrained): \n"
     ]
    },
    {
     "name": "stderr",
     "output_type": "stream",
     "text": [
      "/tmp/ipykernel_68297/631906602.py:20: RuntimeWarning: invalid value encountered in double_scalars\n",
      "  return dot(vec_1, vec_2) / (norm_1 * norm_2)\n"
     ]
    },
    {
     "name": "stdout",
     "output_type": "stream",
     "text": [
      "528 ms ± 18.3 ms per loop (mean ± std. dev. of 7 runs, 1 loop each)\n",
      "D2V:\n",
      "231 ms ± 16.4 ms per loop (mean ± std. dev. of 7 runs, 1 loop each)\n"
     ]
    }
   ],
   "source": [
    "query = \"algebraic functions\"\n",
    "print(\"BM25: \")\n",
    "%timeit bm25_search(query, 2)\n",
    "print(\"LSI: \")\n",
    "%timeit drm_lsi.search(query)\n",
    "print(\"LDA: \")\n",
    "%timeit drm_lda.search(query)\n",
    "print(\"W2V: \")\n",
    "%timeit drm_w2v.search(query)\n",
    "print(\"W2V(Pretrained): \")\n",
    "%timeit drm_w2v_pretrained.search(query)\n",
    "print(\"D2V:\")\n",
    "%timeit drm_d2v.search(query)"
   ]
  },
  {
   "cell_type": "markdown",
   "metadata": {
    "deletable": false,
    "editable": false,
    "nbgrader": {
     "cell_type": "markdown",
     "checksum": "ae398da0a8c23c95bcbb0023b7ec6f34",
     "grade": false,
     "grade_id": "cell-db5ff09f97841af7",
     "locked": true,
     "schema_version": 3,
     "solution": false,
     "task": false
    }
   },
   "source": [
    "---\n",
    "\n",
    "**Implementation (10 points):**\n",
    "Re-ranking involves retrieving a small set of documents using simple but fast methods like BM25 and then re-ranking them with the aid of semantic methods such as LDA or LSI. Implement the following class, which takes in an `initial_retrieval_fn` - the initial retrieval function and `vsrm` - an instance of the `VectorSpaceRetrievalModel` class (i.e LSI/LDA) as input. The search function should first retrieve an initial list of K documents, and then these documents are re-ranked using a semantic method. This not only makes retrieval faster, but semantic methods perform poorly when used in isolation, as you will find out."
   ]
  },
  {
   "cell_type": "code",
   "execution_count": 98,
   "metadata": {
    "deletable": false,
    "nbgrader": {
     "cell_type": "code",
     "checksum": "63b6b05a676a2ae3f08d8bed1bc59428",
     "grade": false,
     "grade_id": "cell-5bf47600d1a0c507",
     "locked": false,
     "schema_version": 3,
     "solution": true,
     "task": false
    }
   },
   "outputs": [],
   "source": [
    "# TODO: Implement this! (10 points)\n",
    "class DenseRerankingModel:\n",
    "    def __init__(self, initial_retrieval_fn, vsrm, similarity_fn):\n",
    "        \"\"\"\n",
    "            initial_retrieval_fn: takes in a query and returns a list of [(doc_id, score)] (sorted)\n",
    "            vsrm: instance of `VectorSpaceRetrievalModel`\n",
    "            similarity_fn: function instance that takes in two vectors \n",
    "                            and returns a similarity score e.g cosine_sim defined earlier\n",
    "        \"\"\"\n",
    "        self.ret = initial_retrieval_fn\n",
    "        self.vsrm = vsrm\n",
    "        self.similarity_fn = similarity_fn\n",
    "        self.vectorized_documents = vsrm.vectorize_documents()\n",
    "        \n",
    "        assert len(self.vectorized_documents) == len(doc_repr_2)\n",
    "    \n",
    "    def search(self, query, K=50):\n",
    "        \"\"\"\n",
    "            First, retrieve the top K results using the retrieval function\n",
    "            Then, re-rank the results using the VSRM instance\n",
    "        \"\"\"\n",
    "        # YOUR CODE HERE\n",
    "\n",
    "        # get top K ranked documents\n",
    "        top_K = self.ret(query=query, index_set=2)[:K]\n",
    "        \n",
    "        # re-rank them using VSRM\n",
    "\n",
    "        ## get query vector\n",
    "        query_vector = self.vsrm.vectorize_query(query)\n",
    "\n",
    "        ## compute similarity scores\n",
    "        scores = [(doc_id, self.similarity_fn(query_vector, self.vectorized_documents[doc_id])) for (doc_id, _) in top_K]\n",
    "\n",
    "        ## sort based on new similarity scores\n",
    "        scores = sorted(scores, key=lambda x: x[1], reverse=True)\n",
    "        \n",
    "        return scores"
   ]
  },
  {
   "cell_type": "code",
   "execution_count": 99,
   "metadata": {
    "deletable": false,
    "editable": false,
    "nbgrader": {
     "cell_type": "code",
     "checksum": "334ab5af96976265cace682ab82a7387",
     "grade": true,
     "grade_id": "cell-52c6d18a4c0b4882",
     "locked": true,
     "points": 0,
     "schema_version": 3,
     "solution": false,
     "task": false
    }
   },
   "outputs": [
    {
     "name": "stderr",
     "output_type": "stream",
     "text": [
      "/tmp/ipykernel_68297/717104013.py:36: DeprecationWarning: Call to deprecated `__contains__` (Method will be removed in 4.0.0, use self.wv.__contains__() instead).\n",
      "  if word in self.model:\n",
      "/tmp/ipykernel_68297/717104013.py:37: DeprecationWarning: Call to deprecated `__getitem__` (Method will be removed in 4.0.0, use self.wv.__getitem__() instead).\n",
      "  document_vectors[doc_id] += self.model[word] / len(sentence)\n"
     ]
    }
   ],
   "source": [
    "##### Function check\n",
    "bm25_search_2 = partial(bm25_search, index_set=2)\n",
    "lsi_rerank = DenseRerankingModel(bm25_search_2, lsi, cosine_sim)\n",
    "lda_rerank = DenseRerankingModel(bm25_search_2, lda, jenson_shannon_sim)\n",
    "w2v_rerank = DenseRerankingModel(bm25_search_2, w2v, cosine_sim)\n",
    "w2v_pretrained_rerank = DenseRerankingModel(bm25_search_2, w2v_pretrained, cosine_sim)\n",
    "d2v_rerank = DenseRerankingModel(bm25_search_2, d2v, cosine_sim)\n",
    "\n",
    "##### "
   ]
  },
  {
   "cell_type": "markdown",
   "metadata": {
    "deletable": false,
    "editable": false,
    "nbgrader": {
     "cell_type": "markdown",
     "checksum": "bd904253f45f84e63bab3a69729058fc",
     "grade": false,
     "grade_id": "cell-93215dfe6bcf7cff",
     "locked": true,
     "points": 10,
     "schema_version": 3,
     "solution": false,
     "task": true
    }
   },
   "source": [
    "\\#### Please do not change this. This cell is used for grading."
   ]
  },
  {
   "cell_type": "markdown",
   "metadata": {
    "deletable": false,
    "editable": false,
    "nbgrader": {
     "cell_type": "markdown",
     "checksum": "b592e60292bfe3d9ef2930a354c4077a",
     "grade": false,
     "grade_id": "cell-aa694ff55fa91e7d",
     "locked": true,
     "schema_version": 3,
     "solution": false,
     "task": false
    }
   },
   "source": [
    "---\n",
    "Now, let us time the new search functions:"
   ]
  },
  {
   "cell_type": "code",
   "execution_count": 100,
   "metadata": {
    "deletable": false,
    "editable": false,
    "nbgrader": {
     "cell_type": "code",
     "checksum": "338c7e3528cba266a865a061287c0e38",
     "grade": false,
     "grade_id": "cell-5edbd481562ad91f",
     "locked": true,
     "schema_version": 3,
     "solution": false,
     "task": false
    }
   },
   "outputs": [
    {
     "name": "stdout",
     "output_type": "stream",
     "text": [
      "BM25: \n",
      "2.08 ms ± 48.3 µs per loop (mean ± std. dev. of 7 runs, 100 loops each)\n",
      "LSI: \n",
      "5.58 ms ± 139 µs per loop (mean ± std. dev. of 7 runs, 100 loops each)\n",
      "LDA: \n",
      "87.3 ms ± 9.73 ms per loop (mean ± std. dev. of 7 runs, 10 loops each)\n",
      "W2V: \n"
     ]
    },
    {
     "name": "stderr",
     "output_type": "stream",
     "text": [
      "/tmp/ipykernel_68297/717104013.py:55: DeprecationWarning: Call to deprecated `__contains__` (Method will be removed in 4.0.0, use self.wv.__contains__() instead).\n",
      "  if word in self.model:\n",
      "/tmp/ipykernel_68297/717104013.py:56: DeprecationWarning: Call to deprecated `__getitem__` (Method will be removed in 4.0.0, use self.wv.__getitem__() instead).\n",
      "  query_vector += self.model[word] / len(query)\n"
     ]
    },
    {
     "name": "stdout",
     "output_type": "stream",
     "text": [
      "6.12 ms ± 277 µs per loop (mean ± std. dev. of 7 runs, 100 loops each)\n",
      "W2V(Pretrained): \n",
      "10.8 ms ± 724 µs per loop (mean ± std. dev. of 7 runs, 100 loops each)\n",
      "D2V:\n",
      "6.96 ms ± 297 µs per loop (mean ± std. dev. of 7 runs, 100 loops each)\n"
     ]
    }
   ],
   "source": [
    "query = \"algebraic functions\"\n",
    "print(\"BM25: \")\n",
    "%timeit bm25_search(query, 2)\n",
    "print(\"LSI: \")\n",
    "%timeit lsi_rerank.search(query)\n",
    "print(\"LDA: \")\n",
    "%timeit lda_rerank.search(query)\n",
    "print(\"W2V: \")\n",
    "%timeit w2v_rerank.search(query)\n",
    "print(\"W2V(Pretrained): \")\n",
    "%timeit w2v_pretrained_rerank.search(query)\n",
    "print(\"D2V:\")\n",
    "%timeit d2v_rerank.search(query)"
   ]
  },
  {
   "cell_type": "markdown",
   "metadata": {
    "deletable": false,
    "editable": false,
    "nbgrader": {
     "cell_type": "markdown",
     "checksum": "c45c5e3f015b2de89d9d39ae3766368b",
     "grade": false,
     "grade_id": "cell-85c50f2ab9eec301",
     "locked": true,
     "schema_version": 3,
     "solution": false,
     "task": false
    }
   },
   "source": [
    "---\n",
    "As you can see, it is much faster (but BM25 is still orders of magnitude faster)."
   ]
  },
  {
   "cell_type": "markdown",
   "metadata": {
    "deletable": false,
    "editable": false,
    "nbgrader": {
     "cell_type": "markdown",
     "checksum": "1e2f3388e3807659f303fe31a75a010e",
     "grade": false,
     "grade_id": "cell-5071bb99b2af61cb",
     "locked": true,
     "schema_version": 3,
     "solution": false,
     "task": false
    }
   },
   "source": [
    "---\n",
    "## Section 10: Evaluation & Analysis (30 points) <a class=\"anchor\" id=\"reranking_eval\"></a>\n",
    "\n",
    "[Back to Part 2](#part2)\n",
    "\n",
    "[Previously](#evaluation) we have implemented some evaluation metrics and used them for measuring the ranking performance of term-based IR algorithms. In this section, we will do the same for semantic methods, both with and without re-ranking.\n",
    "\n",
    "### Section 10.1: Plot (10 points)\n",
    "\n",
    "First, gather the results. The results should consider the index set, the different search functions and different metrics. Plot the results in bar charts, per metric, with clear labels.\n",
    "\n",
    "Then, gather only the re-ranking models, and plot and compare them with the results obtained in part 1 (only index set 2)."
   ]
  },
  {
   "cell_type": "code",
   "execution_count": 101,
   "metadata": {
    "deletable": false,
    "editable": false,
    "nbgrader": {
     "cell_type": "code",
     "checksum": "4fe81520ac6413a803838913fd64de03",
     "grade": false,
     "grade_id": "cell-b672fe6dfae0b1ce",
     "locked": true,
     "schema_version": 3,
     "solution": false,
     "task": false
    }
   },
   "outputs": [],
   "source": [
    "list_of_sem_search_fns = [\n",
    "    (\"lda\", drm_lda.search),\n",
    "    (\"lsi\", drm_lsi.search),\n",
    "    (\"w2v\", drm_w2v.search),\n",
    "    (\"w2v_pretrained\", drm_w2v_pretrained.search),\n",
    "    (\"d2v\", drm_d2v.search),\n",
    "    (\"lsi_rr\", lsi_rerank.search),\n",
    "    (\"lda_rr\", lda_rerank.search),\n",
    "    (\"w2v_rr\", w2v_rerank.search),\n",
    "    (\"w2v_pretrained_rr\", w2v_pretrained_rerank.search),\n",
    "    (\"d2v_rr\", d2v_rerank.search),\n",
    "    \n",
    "]"
   ]
  },
  {
   "cell_type": "code",
   "execution_count": 102,
   "metadata": {},
   "outputs": [
    {
     "name": "stdout",
     "output_type": "stream",
     "text": [
      "::: Generating results for lda ...\n",
      "::: Generating results for lsi ...\n",
      "::: Generating results for w2v ...\n"
     ]
    },
    {
     "name": "stderr",
     "output_type": "stream",
     "text": [
      "/tmp/ipykernel_68297/717104013.py:55: DeprecationWarning: Call to deprecated `__contains__` (Method will be removed in 4.0.0, use self.wv.__contains__() instead).\n",
      "  if word in self.model:\n",
      "/tmp/ipykernel_68297/717104013.py:56: DeprecationWarning: Call to deprecated `__getitem__` (Method will be removed in 4.0.0, use self.wv.__getitem__() instead).\n",
      "  query_vector += self.model[word] / len(query)\n"
     ]
    },
    {
     "name": "stdout",
     "output_type": "stream",
     "text": [
      "::: Generating results for w2v_pretrained ...\n"
     ]
    },
    {
     "name": "stderr",
     "output_type": "stream",
     "text": [
      "/tmp/ipykernel_68297/631906602.py:20: RuntimeWarning: invalid value encountered in double_scalars\n",
      "  return dot(vec_1, vec_2) / (norm_1 * norm_2)\n"
     ]
    },
    {
     "name": "stdout",
     "output_type": "stream",
     "text": [
      "::: Generating results for d2v ...\n",
      "::: Generating results for lsi_rr ...\n",
      "::: Generating results for lda_rr ...\n",
      "::: Generating results for w2v_rr ...\n",
      "::: Generating results for w2v_pretrained_rr ...\n",
      "::: Generating results for d2v_rr ...\n"
     ]
    },
    {
     "data": {
      "image/png": "[encoded data removed]",
      "text/plain": [
       "<Figure size 1440x864 with 8 Axes>"
      ]
     },
     "metadata": {
      "needs_background": "light"
     },
     "output_type": "display_data"
    }
   ],
   "source": [
    "# YOUR CODE HERE\n",
    "\n",
    "# generating results\n",
    "results = dict()\n",
    "for method_name, method_fn in list_of_sem_search_fns:\n",
    "    print(f\"::: Generating results for {method_name} ...\")\n",
    "    results[method_name] = evaluate_search_fn(method_fn, list_of_metrics, index_set=None)\n",
    "\n",
    "write_json(results, \"./results/semantics_based_retrieval_results_index_2.json\")\n",
    "\n",
    "# plotting results\n",
    "nrows, ncols = 2, len(list_of_metrics) // 2\n",
    "fig, axes = plt.subplots(nrows, ncols, figsize=(5 * len(list_of_metrics) // 2, 4 * 2 + 4), constrained_layout=True)\n",
    "\n",
    "for i in range(nrows):\n",
    "    for j in range(ncols):\n",
    "        idx = i * ncols + j\n",
    "        ax = axes[i][j]\n",
    "        \n",
    "        metric = list_of_metrics[idx][0]\n",
    "        ax.set_title(metric, fontsize=15)\n",
    "        ax.grid(axis=\"y\")\n",
    "\n",
    "        methods_names = list(results.keys())\n",
    "        x = np.arange(len(methods_names))\n",
    "        width = 0.3\n",
    "\n",
    "        methods_values = [results[method][metric] for method in results]\n",
    "        \n",
    "        methods_names = [method for method in results if not method.endswith(\"_rr\")]\n",
    "        x = np.arange(len(methods_names))\n",
    "        methods_values_1 = [results[method][metric] for method in results if not method.endswith(\"_rr\")]\n",
    "        methods_values_2 = [results[method][metric] for method in results if method.endswith(\"_rr\")]\n",
    "\n",
    "        ax.bar(x=x, height=methods_values_1, width=width, label=\"Vanilla\")\n",
    "        ax.bar(x=x + width, height=methods_values_2, width=width, label=\"Re-ranked\")\n",
    "\n",
    "        ax.set_xticks(x + width / 2)\n",
    "        ax.set_xticklabels(methods_names, fontsize=13, rotation=45)\n",
    "        \n",
    "        ax.legend(fontsize=13)\n",
    "\n",
    "plt.suptitle(\n",
    "    \"Evaluation of semantic-based retrieval methods with and without re-ranking on different metrics\",\n",
    "    fontsize=20,\n",
    "    y=1.05,\n",
    ")\n",
    "plt.savefig(\"./results/semantics_based_retrieval_v1.pdf\", bbox_inches=\"tight\")\n",
    "plt.show()"
   ]
  },
  {
   "cell_type": "markdown",
   "metadata": {
    "deletable": false,
    "editable": false,
    "nbgrader": {
     "cell_type": "markdown",
     "checksum": "a8a3b6189bdde66704c694d85e38d049",
     "grade": false,
     "grade_id": "cell-deb2ef3daa306e82",
     "locked": true,
     "schema_version": 3,
     "solution": false,
     "task": false
    }
   },
   "source": [
    "### Section 10.2: Summary (20 points)\n",
    "\n",
    "Your summary should compare methods from Part 1 and Part 2 (only for index set 2). State what you expected to see in the results, followed by either supporting evidence *or* justify why the results did not support your expectations. Consider the availability of data, scalability, domain/type of data, etc."
   ]
  },
  {
   "cell_type": "markdown",
   "metadata": {
    "deletable": false,
    "nbgrader": {
     "cell_type": "markdown",
     "checksum": "ff97c43837d10bff6aaffa75e1492887",
     "grade": true,
     "grade_id": "cell-ec5dd7d9cf59dd86",
     "locked": false,
     "points": 20,
     "schema_version": 3,
     "solution": true,
     "task": false
    }
   },
   "source": [
    "Regarding Part 2, the most apparent observation is that re-ranking improves all methods in all rankings, while also reducing the query time as tested in Section 9. We notice that before re-ranking the most effective retrieval methods are LDA and LSI, while after re-ranking W2V and D2V methods, suggesting that neural methods benefit even more from re-ranking. In addition, we see that w2v with pre-trained embeddings has slightly worse performance before re-ranking but significantly better performance after re-ranking.\n",
    "\n",
    "Finally, comparing methods from Part 1 and Part 2, we notice that BM25 (the most efficient retrieval method found at Part 1) has consistently $50\\%-100\\%$ better performance than the best performing method of Part 2 across all metrics. This suggests that for our collection of documents and queries, non-trainable methods are superior, and we can probably attribute this to the small size of our documents and the low number of documents and queries in our collection. This is in accord with the general trend in machine learning, that trainable methods outperform hand-crafted methods in the presence of big amounts of data. Hence, we expect that with the presence of more data, i.e. lengthier documents and more documents and queries, algorithms of Part 2 would achieve better retrieval performance across all metrics."
   ]
  }
 ],
 "metadata": {
  "kernelspec": {
   "display_name": "Python 3",
   "language": "python",
   "name": "python3"
  },
  "language_info": {
   "codemirror_mode": {
    "name": "ipython",
    "version": 3
   },
   "file_extension": ".py",
   "mimetype": "text/x-python",
   "name": "python",
   "nbconvert_exporter": "python",
   "pygments_lexer": "ipython3",
   "version": "3.8.12"
  },
  "toc": {
   "base_numbering": 1,
   "nav_menu": {},
   "number_sections": true,
   "sideBar": true,
   "skip_h1_title": false,
   "title_cell": "Table of Contents",
   "title_sidebar": "Contents",
   "toc_cell": false,
   "toc_position": {},
   "toc_section_display": true,
   "toc_window_display": false
  }
 },
 "nbformat": 4,
 "nbformat_minor": 4
}
